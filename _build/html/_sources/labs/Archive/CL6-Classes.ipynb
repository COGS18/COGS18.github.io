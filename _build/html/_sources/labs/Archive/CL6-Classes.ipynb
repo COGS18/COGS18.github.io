{
 "cells": [
  {
   "cell_type": "markdown",
   "metadata": {
    "nbgrader": {
     "grade": false,
     "grade_id": "cell-cb0dbd8f44547687",
     "locked": true,
     "schema_version": 3,
     "solution": false
    }
   },
   "source": [
    "# CL6: Classes\n",
    "\n",
    "Welcome to the sixth coding lab!\n",
    "\n",
    "In this CodingLab we will be thinking and working with objects."
   ]
  },
  {
   "cell_type": "markdown",
   "metadata": {
    "nbgrader": {
     "grade": false,
     "grade_id": "cell-bb563c54eac9f65e",
     "locked": true,
     "schema_version": 3,
     "solution": false
    }
   },
   "source": [
    "**Note**: Part I is _challenging_. Do your best there. Be sure you understand what attributes and methods are. Be sure you know how to write functions, but if you can't figure it all out, that is OK. Do your best throughout this coding lab. If you get stuck on Part I, go ahead and give Part II and Part II a try!"
   ]
  },
  {
   "cell_type": "markdown",
   "metadata": {
    "nbgrader": {
     "grade": false,
     "grade_id": "cell-d093ada74f58775d",
     "locked": true,
     "schema_version": 3,
     "solution": false
    }
   },
   "source": [
    "## Part I: Object Explorations"
   ]
  },
  {
   "cell_type": "code",
   "execution_count": null,
   "metadata": {},
   "outputs": [],
   "source": [
    "# Import \n",
    "from datetime import date, time, datetime, timedelta"
   ]
  },
  {
   "cell_type": "markdown",
   "metadata": {
    "nbgrader": {
     "grade": false,
     "grade_id": "cell-ef5fd87a7475c0f2",
     "locked": true,
     "schema_version": 3,
     "solution": false
    }
   },
   "source": [
    "## Questions\n",
    "\n",
    "- a) What day of the week was January 2nd, 1994\n",
    "- b) What is the latest date the datetime object can store? What is the earliest?\n",
    "    - Hint: explore using `dir` to see if you can find these values.\n",
    "- c) What type of error is raised if you try to create a datetime object that is the 32nd day of any month?\n",
    "- d) How many Mondays where there in February, 1916? "
   ]
  },
  {
   "cell_type": "code",
   "execution_count": null,
   "metadata": {
    "nbgrader": {
     "grade": true,
     "grade_id": "cell-4b97e89b3ef301ca",
     "locked": false,
     "points": 0,
     "schema_version": 3,
     "solution": true
    }
   },
   "outputs": [],
   "source": []
  },
  {
   "cell_type": "markdown",
   "metadata": {
    "nbgrader": {
     "grade": false,
     "grade_id": "cell-3838a80c8d44ae96",
     "locked": true,
     "schema_version": 3,
     "solution": false
    }
   },
   "source": [
    "**Now see if you can turn your answer to part d into a function.**\n",
    "\n",
    "This function should be general such that it can calculate the number of times any day of the week occurs in a given month and year. \n",
    "\n",
    "To do this your function should take `year`, `month` and `day_of_the_week` as arguments."
   ]
  },
  {
   "cell_type": "code",
   "execution_count": null,
   "metadata": {
    "nbgrader": {
     "grade": true,
     "grade_id": "cell-bebd25a0c89a4559",
     "locked": false,
     "points": 0,
     "schema_version": 3,
     "solution": true
    }
   },
   "outputs": [],
   "source": []
  },
  {
   "cell_type": "code",
   "execution_count": null,
   "metadata": {},
   "outputs": [],
   "source": [
    "# Check if your function works\n",
    "count_days(1854, 3, 4)"
   ]
  },
  {
   "cell_type": "markdown",
   "metadata": {
    "nbgrader": {
     "grade": false,
     "grade_id": "cell-8ae2af3e9d235995",
     "locked": true,
     "schema_version": 3,
     "solution": false
    }
   },
   "source": [
    "## Datetime Manipulations\n",
    "\n",
    "Using `datetime` objects there are several operations and methods we can use that are useful, some of these are shown as examples below."
   ]
  },
  {
   "cell_type": "code",
   "execution_count": null,
   "metadata": {},
   "outputs": [],
   "source": [
    "# Get current times\n",
    "now = datetime.now()"
   ]
  },
  {
   "cell_type": "code",
   "execution_count": null,
   "metadata": {},
   "outputs": [],
   "source": [
    "# Create a time delta object, to represent a \n",
    "delta = timedelta(days=1, minutes=7, seconds=37)"
   ]
  },
  {
   "cell_type": "code",
   "execution_count": null,
   "metadata": {},
   "outputs": [],
   "source": [
    "# Add a time\n",
    "later = now + delta"
   ]
  },
  {
   "cell_type": "code",
   "execution_count": null,
   "metadata": {},
   "outputs": [],
   "source": [
    "# Check out what time it will be after \n",
    "#   Note - format is 'YEAR-MONTH-DAY'T'HOUR:MINUTE:SECOND:MICROSECOND'\n",
    "later.isoformat()"
   ]
  },
  {
   "cell_type": "markdown",
   "metadata": {
    "nbgrader": {
     "grade": false,
     "grade_id": "cell-4b2fb32cde7cf57c",
     "locked": true,
     "schema_version": 3,
     "solution": false
    }
   },
   "source": [
    "### DateTime Manipulation Questions"
   ]
  },
  {
   "cell_type": "markdown",
   "metadata": {
    "nbgrader": {
     "grade": false,
     "grade_id": "cell-656d2776d5b7ad55",
     "locked": true,
     "schema_version": 3,
     "solution": false
    }
   },
   "source": [
    "- a) What day of the week it will be 4675 days from now?\n",
    "- b) Write a boolean if/else stement that checks whether `date_1` is earlier or later than `date_2`, and prints out 'earlier' or 'later' appropriately."
   ]
  },
  {
   "cell_type": "code",
   "execution_count": null,
   "metadata": {
    "nbgrader": {
     "grade": true,
     "grade_id": "cell-72583ac386483f77",
     "locked": false,
     "points": 0,
     "schema_version": 3,
     "solution": true
    }
   },
   "outputs": [],
   "source": []
  },
  {
   "cell_type": "markdown",
   "metadata": {
    "nbgrader": {
     "grade": false,
     "grade_id": "cell-b813af73626695ab",
     "locked": true,
     "schema_version": 3,
     "solution": false
    }
   },
   "source": [
    "### DateTime Manipulation Exploration\n",
    "\n",
    "If you start from Jan 1st, 1757, and repeatedly add 8 days, until you hit 1800, how many times will it be a Monday?"
   ]
  },
  {
   "cell_type": "code",
   "execution_count": null,
   "metadata": {
    "nbgrader": {
     "grade": true,
     "grade_id": "cell-87c4cc218d4a255a",
     "locked": false,
     "points": 0,
     "schema_version": 3,
     "solution": true
    }
   },
   "outputs": [],
   "source": []
  },
  {
   "cell_type": "markdown",
   "metadata": {
    "nbgrader": {
     "grade": false,
     "grade_id": "cell-da686f7426c4987a",
     "locked": true,
     "schema_version": 3,
     "solution": false
    }
   },
   "source": [
    "#### Make a function\n",
    "\n",
    "Once you have answered this question, convert your code into a generalized function. \n",
    "\n",
    "This function, call it `count_weekdays` should take:\n",
    "- `start_date`: a start date (a datetime object)\n",
    "- `add_days`: a number of days to add (an int)\n",
    "- `stop_year`: a stop year (an int)\n",
    "- `weekday`: a day to count, represented in isoweekday format (an int)\n",
    "\n",
    "It should return the number of `weekday`'s that occur from the start date, until stop year, when adding `add_days` days."
   ]
  },
  {
   "cell_type": "code",
   "execution_count": null,
   "metadata": {
    "nbgrader": {
     "grade": true,
     "grade_id": "cell-ad865db99f38f6eb",
     "locked": false,
     "points": 0,
     "schema_version": 3,
     "solution": true
    }
   },
   "outputs": [],
   "source": []
  },
  {
   "cell_type": "code",
   "execution_count": null,
   "metadata": {},
   "outputs": [],
   "source": [
    "# Check that the function returns the expected result for an example case\n",
    "assert count_weekdays(datetime(1322, 6, 17), 3, 1324, 5) == 27"
   ]
  },
  {
   "cell_type": "markdown",
   "metadata": {
    "collapsed": true,
    "nbgrader": {
     "grade": false,
     "grade_id": "cell-a2149ce7c114d9be",
     "locked": true,
     "schema_version": 3,
     "solution": false
    }
   },
   "source": [
    "## Part II: Objects Questions"
   ]
  },
  {
   "cell_type": "markdown",
   "metadata": {
    "nbgrader": {
     "grade": false,
     "grade_id": "cell-e5cf8a18c2aff1eb",
     "locked": true,
     "schema_version": 3,
     "solution": false
    }
   },
   "source": [
    "## Example Class"
   ]
  },
  {
   "cell_type": "code",
   "execution_count": null,
   "metadata": {},
   "outputs": [],
   "source": [
    "class Language():\n",
    "    \"\"\"A Python class to store and use information about languages.\"\"\"\n",
    "    \n",
    "    # Class Attributes\n",
    "    purpose = 'communication'\n",
    "    \n",
    "    def __init__(self, name, language_type, amount_of_goodness):\n",
    "        \n",
    "        # Instance Attributes\n",
    "        self.name = name\n",
    "        self.language_type = language_type\n",
    "        self.amount_of_goodness = amount_of_goodness\n",
    "        \n",
    "    # Class Method\n",
    "    def print_goodness_level(self):\n",
    "        print('The language', self.name, 'has', self.amount_of_goodness, 'goodness.')"
   ]
  },
  {
   "cell_type": "code",
   "execution_count": null,
   "metadata": {},
   "outputs": [],
   "source": [
    "# Create an instance of our class\n",
    "python = Language('python', 'computer', 'lots of')\n",
    "python.print_goodness_level()"
   ]
  },
  {
   "cell_type": "code",
   "execution_count": null,
   "metadata": {},
   "outputs": [],
   "source": [
    "# Create another instance of our class\n",
    "english = Language('english', 'human', 'some')\n",
    "english.print_goodness_level()"
   ]
  },
  {
   "cell_type": "markdown",
   "metadata": {
    "nbgrader": {
     "grade": false,
     "grade_id": "cell-8a06b77b3a54389b",
     "locked": true,
     "schema_version": 3,
     "solution": false
    }
   },
   "source": [
    "### TritonCourse class\n",
    "\n",
    "Let’s create a class to represent courses at UCSD! "
   ]
  },
  {
   "cell_type": "markdown",
   "metadata": {
    "nbgrader": {
     "grade": false,
     "grade_id": "cell-e0550f60aba6f132",
     "locked": true,
     "schema_version": 3,
     "solution": false
    }
   },
   "source": [
    "#### Class Definition\n",
    "\n",
    "Write a class to store information about UCSD courses, called `TritonCourse`. \n",
    "\n",
    "This course assumes all courses belong to a department, have a course code, and have a title.\n",
    "\n",
    "That is, write a class called `TritonCourse` that has instance attributes `department` (string), `code` (int), and `title` (string). "
   ]
  },
  {
   "cell_type": "code",
   "execution_count": null,
   "metadata": {
    "nbgrader": {
     "grade": true,
     "grade_id": "cell-c5cf9c77cd590257",
     "locked": false,
     "points": 0,
     "schema_version": 3,
     "solution": true
    }
   },
   "outputs": [],
   "source": []
  },
  {
   "cell_type": "markdown",
   "metadata": {
    "nbgrader": {
     "grade": false,
     "grade_id": "cell-fafcd48a4c3ed9bb",
     "locked": true,
     "schema_version": 3,
     "solution": false
    }
   },
   "source": [
    "#### Instances\n",
    "\n",
    "Once you've written the class defintion above, you should be able to run the following code to create an instance of this class. \n",
    "\n",
    "You can then print out the attributes and check that they hold the values that you expect. "
   ]
  },
  {
   "cell_type": "code",
   "execution_count": null,
   "metadata": {},
   "outputs": [],
   "source": [
    "# Define an instance of our class\n",
    "cogs18 = TritonCourse(\"COGS\", 18, \"Introduction to Python\")"
   ]
  },
  {
   "cell_type": "code",
   "execution_count": null,
   "metadata": {},
   "outputs": [],
   "source": [
    "# Check the instance attributes\n",
    "print(cogs18.department)\n",
    "print(cogs18.code)\n",
    "print(cogs18.title)"
   ]
  },
  {
   "cell_type": "markdown",
   "metadata": {
    "nbgrader": {
     "grade": false,
     "grade_id": "cell-bfbfe91b75b76b91",
     "locked": true,
     "schema_version": 3,
     "solution": false
    }
   },
   "source": [
    "Now, create some more instances of our class:\n",
    "\n",
    "- ECE 15, \"Engineering Programming\" \n",
    "    - Save the result to a variable called `class1`\n",
    "- MUS 8, \"American Music: Jazz Culture\"\n",
    "    - Save the result to a variable called `class2`"
   ]
  },
  {
   "cell_type": "code",
   "execution_count": null,
   "metadata": {
    "nbgrader": {
     "grade": true,
     "grade_id": "cell-6a15641c3c04ead1",
     "locked": false,
     "points": 0,
     "schema_version": 3,
     "solution": true
    }
   },
   "outputs": [],
   "source": []
  },
  {
   "cell_type": "markdown",
   "metadata": {
    "nbgrader": {
     "grade": false,
     "grade_id": "cell-9efedb98b2b61f5c",
     "locked": true,
     "schema_version": 3,
     "solution": false
    }
   },
   "source": [
    "#### Methods\n",
    "\n",
    "Now, make a new version of `TritonCourse` that has a method. \n",
    "\n",
    "Specifically, this method, called `print_info` should print out the information about the course as:\n",
    "\n",
    "    'department name code : title'\n",
    "    \n",
    "So, for example, once you add this method, using the method on our `cogs18` instance should print out:\n",
    "\n",
    "    `COGS 18 : Introduction to Python`"
   ]
  },
  {
   "cell_type": "code",
   "execution_count": null,
   "metadata": {
    "nbgrader": {
     "grade": true,
     "grade_id": "cell-37b479809503bb28",
     "locked": false,
     "points": 0,
     "schema_version": 3,
     "solution": true
    }
   },
   "outputs": [],
   "source": []
  },
  {
   "cell_type": "code",
   "execution_count": null,
   "metadata": {},
   "outputs": [],
   "source": [
    "# Check the method works on our cogs18 instance\n",
    "cogs18 = TritonCourse(\"COGS\", 18, \"Introduction to Python\")\n",
    "cogs18.print_info()"
   ]
  },
  {
   "cell_type": "markdown",
   "metadata": {
    "nbgrader": {
     "grade": false,
     "grade_id": "cell-2762f36a00cb6412",
     "locked": true,
     "schema_version": 3,
     "solution": false
    }
   },
   "source": [
    "## Part III: Objects Explorations\n",
    "\n",
    "- What kind of other attributes and methods might we want on our `TritonCourse` object?\n",
    "    - Make an extended version of `TritonCourse` with at least one extra class attribute, instance attribute and method. \n",
    "- Create a brand new class, to do something new / different!\n",
    "    - Make sure it has at least one class attribute, instance attribute, and some methods\n",
    "    - Create at least one methods that takes in an argument (doesn't just use class & instance attributes)\n",
    "    - Create at least one method that has a conditional in it, one with a loop, and one with a try/except"
   ]
  },
  {
   "cell_type": "code",
   "execution_count": null,
   "metadata": {
    "nbgrader": {
     "grade": true,
     "grade_id": "cell-b7dae2a3c6dab247",
     "locked": false,
     "points": 0,
     "schema_version": 3,
     "solution": true
    }
   },
   "outputs": [],
   "source": [
    "\n"
   ]
  }
 ],
 "metadata": {
  "celltoolbar": "Create Assignment",
  "kernelspec": {
   "display_name": "Python 3",
   "language": "python",
   "name": "python3"
  },
  "language_info": {
   "codemirror_mode": {
    "name": "ipython",
    "version": 3
   },
   "file_extension": ".py",
   "mimetype": "text/x-python",
   "name": "python",
   "nbconvert_exporter": "python",
   "pygments_lexer": "ipython3",
   "version": "3.7.9"
  }
 },
 "nbformat": 4,
 "nbformat_minor": 2
}
