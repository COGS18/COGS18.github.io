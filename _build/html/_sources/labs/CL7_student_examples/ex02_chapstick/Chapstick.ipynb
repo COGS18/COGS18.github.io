{
 "cells": [
  {
   "cell_type": "markdown",
   "metadata": {},
   "source": [
    "### Module Import"
   ]
  },
  {
   "cell_type": "code",
   "execution_count": 4,
   "metadata": {},
   "outputs": [
    {
     "name": "stdout",
     "output_type": "stream",
     "text": [
      "The best chapstick is c brand with 97 total uses\n",
      "good brand chapstick has been used 1 times.\n",
      "You have 80 uses left\n",
      "good brand chapstick has been used 2 times.\n",
      "You have 79 uses left\n",
      "good brand chapstick has been used 3 times.\n",
      "You have 78 uses left\n",
      "good brand chapstick has been used 4 times.\n",
      "You have 77 uses left\n",
      "good brand chapstick has been used 5 times.\n",
      "You have 76 uses left\n",
      "good brand chapstick has been used 6 times.\n",
      "You have 75 uses left\n",
      "good brand chapstick has been used 7 times.\n",
      "You have 74 uses left\n",
      "good brand chapstick has been used 8 times.\n",
      "You have 73 uses left\n",
      "good brand chapstick has been used 9 times.\n",
      "You have 72 uses left\n",
      "good brand chapstick has been used 10 times.\n",
      "You have 71 uses left\n",
      "good brand chapstick has been used 11 times.\n",
      "You have 70 uses left\n",
      "good brand chapstick has been used 12 times.\n",
      "You have 69 uses left\n",
      "good brand chapstick has been used 13 times.\n",
      "You have 68 uses left\n",
      "good brand chapstick has been used 14 times.\n",
      "You have 67 uses left\n",
      "good brand chapstick has been used 15 times.\n",
      "You have 66 uses left\n",
      "good brand chapstick has been used 16 times.\n",
      "You have 65 uses left\n",
      "good brand chapstick has been used 17 times.\n",
      "You have 64 uses left\n",
      "good brand chapstick has been used 18 times.\n",
      "You have 63 uses left\n",
      "good brand chapstick has been used 19 times.\n",
      "You have 62 uses left\n",
      "good brand chapstick has been used 20 times.\n",
      "You have 61 uses left\n"
     ]
    }
   ],
   "source": [
    "import YOLO as chap\n",
    "\n",
    "a = [chap.Chapstick('a brand'), chap.Chapstick('b brand'), \n",
    "     chap.Chapstick('c brand'), chap.Chapstick('d brand')]\n",
    "\n",
    "chap.rate_chapsticks(a)\n",
    "\n",
    "b = chap.Chapstick('good brand')\n",
    "chap.use_alot_of_chapstick(b)"
   ]
  }
 ],
 "metadata": {
  "kernelspec": {
   "display_name": "Python 3",
   "language": "python",
   "name": "python3"
  },
  "language_info": {
   "codemirror_mode": {
    "name": "ipython",
    "version": 3
   },
   "file_extension": ".py",
   "mimetype": "text/x-python",
   "name": "python",
   "nbconvert_exporter": "python",
   "pygments_lexer": "ipython3",
   "version": "3.7.7"
  }
 },
 "nbformat": 4,
 "nbformat_minor": 4
}
