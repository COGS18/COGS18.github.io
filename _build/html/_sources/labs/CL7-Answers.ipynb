{
 "cells": [
  {
   "cell_type": "markdown",
   "metadata": {
    "nbgrader": {
     "grade": false,
     "grade_id": "cell-695e601f026b86f0",
     "locked": true,
     "schema_version": 3,
     "solution": false
    }
   },
   "source": [
    "# CL7: Command Line\n",
    "\n",
    "Welcome to the seventh coding lab!\n",
    "\n",
    "In this CodingLab we will be working with the command line, and with python files (module files and scripts). \n",
    "\n",
    "While this _may_ feel like busy work, understanding and completing this coding lab will be essential when it comes time for your project. Do your very best to complete all parts of this CodingLab!"
   ]
  },
  {
   "cell_type": "markdown",
   "metadata": {
    "nbgrader": {
     "grade": false,
     "grade_id": "cell-664df31c0ba3c2d4",
     "locked": true,
     "schema_version": 3,
     "solution": false
    }
   },
   "source": [
    "## Part I: Command Line\n",
    "\n",
    "Open a terminal from the Jupyter notebook server (either on your local computer or datahub), and do the following:\n",
    "\n",
    "- Navigate to your desktop (or home directory on datahub)\n",
    "- Make a new directory\n",
    "- Move inside that directory\n",
    "- Create a new Python file\n",
    "- Inside your terminal, use a text editor to open the file\n",
    "- Write some Python code inside that file\n",
    "    - For example: print('Hello World')\n",
    "- Save and exit from the terminal text editor\n",
    "- Execute the Python file from the terminal"
   ]
  },
  {
   "cell_type": "markdown",
   "metadata": {
    "nbgrader": {
     "grade": true,
     "grade_id": "cell-ba1bc1238df73149",
     "locked": false,
     "points": 0,
     "schema_version": 3,
     "solution": true
    }
   },
   "source": [
    "Describe your success/struggles/failures with the above steps here:\n"
   ]
  },
  {
   "cell_type": "markdown",
   "metadata": {
    "nbgrader": {
     "grade": false,
     "grade_id": "cell-548c2344b57bdd87",
     "locked": true,
     "schema_version": 3,
     "solution": false
    }
   },
   "source": [
    "## Part II: Module Files\n",
    "\n",
    "First, in notebook below, do the following:\n",
    "\n",
    "- Write a new Class, and two derived classes that inherit from this base Class\n",
    "    - This could be, for example, base class `Animal` and derived classes `Cat` and `Dog`\n",
    "    - Make sure there is at least one method in the class that prints something out\n",
    "- Write two new functions, that do something with instances of your new classes\n",
    "    - For example, take a list of custom objects, and call a method on each one"
   ]
  },
  {
   "cell_type": "markdown",
   "metadata": {},
   "source": [
    "### Student Example: Dustin Doan \n",
    "\n",
    "(slightly modified by Prof Ellis)"
   ]
  },
  {
   "cell_type": "code",
   "execution_count": 2,
   "metadata": {
    "nbgrader": {
     "grade": true,
     "grade_id": "cell-675a19a968584510",
     "locked": false,
     "points": 0,
     "schema_version": 3,
     "solution": true
    }
   },
   "outputs": [],
   "source": [
    "# Classes here\n",
    "class Noodles():\n",
    "    def __init__(self, size = None, available = None):\n",
    "        self.size = size\n",
    "        self.available = available\n",
    "        \n",
    "    def order_to_go(self):\n",
    "        if self.available == None:\n",
    "            out = \"I'm sorry, but we aren't taking to-go orders right now.\"\n",
    "        if self.available == 'Yes':\n",
    "             out = \"I'll have your order ready in 20 minutes\"\n",
    "        return out\n",
    "    \n",
    "class Ramen(Noodles):\n",
    "    def __init__(self, size = 'large', available = 'Yes'):\n",
    "        super().__init__(size, available)"
   ]
  },
  {
   "cell_type": "code",
   "execution_count": 27,
   "metadata": {
    "nbgrader": {
     "grade": true,
     "grade_id": "cell-86a1f143fe528238",
     "locked": false,
     "points": 0,
     "schema_version": 3,
     "solution": true
    }
   },
   "outputs": [],
   "source": [
    "# new functions here\n",
    "def eating(Ramen):\n",
    "    if Ramen.available == 'Yes':\n",
    "        print('Itadakimasu') # means \"I will receive\"; something you say before eating\n",
    "        out = 'Slurp slurp slurp, delicious!'\n",
    "    else:\n",
    "        out = 'Quarantine can be rough. It be like that sometimes.'\n",
    "    return out\n",
    "\n",
    "def soup(Ramen):\n",
    "    if Ramen.size == 'large':\n",
    "        out = \"\\n\" + 'Should I drink the soup?' + \"\\n\\t\" + \"I really shouldn't... There's too much sodium.\"\n",
    "    if Ramen.size != 'large':\n",
    "        out = \"\\n\" + 'Should I drink the soup?' + \"\\n\\t\" + \"You only live once! Slurp slurp slurp!\"\n",
    "    return out"
   ]
  },
  {
   "cell_type": "markdown",
   "metadata": {},
   "source": [
    "Dustin then stored two files in the same folder as their notebook:\n",
    "- `cravings.py` : stored `Noodles`, `Ramen`, `eating`, and `soup`\n",
    "- This whole module is imported and used below\n",
    "- The cells below will not run if you don't create the module with the same name"
   ]
  },
  {
   "cell_type": "markdown",
   "metadata": {
    "nbgrader": {
     "grade": false,
     "grade_id": "cell-b2ef8fc67dc9d745",
     "locked": true,
     "schema_version": 3,
     "solution": false
    }
   },
   "source": [
    "Next, we are going to move this code to an external file - a Python module file. \n",
    "\n",
    "- Open a new text file, from the Jupyter server page\n",
    "- Copy your classes and functions into that file\n",
    "- Save that file, with some name that you give it, and a '.py' extension\n",
    "- Now, import the classes and functions from that file into the notebook, and check that you can use them. "
   ]
  },
  {
   "cell_type": "code",
   "execution_count": 19,
   "metadata": {
    "nbgrader": {
     "grade": true,
     "grade_id": "cell-6085d828ccc8a2f3",
     "locked": false,
     "points": 0,
     "schema_version": 3,
     "solution": true
    }
   },
   "outputs": [
    {
     "name": "stdout",
     "output_type": "stream",
     "text": [
      "Itadakimasu\n",
      "Slurp slurp slurp, delicious!\n",
      "\n",
      "Should I drink the soup?\n",
      "\tI really shouldn't... There's too much sodium.\n"
     ]
    }
   ],
   "source": [
    "import cravings as crave\n",
    "\n",
    "tonkotsu = crave.Ramen()\n",
    "print(crave.eating(tonkotsu))\n",
    "print(crave.soup(tonkotsu))"
   ]
  },
  {
   "cell_type": "markdown",
   "metadata": {
    "nbgrader": {
     "grade": false,
     "grade_id": "cell-08776ee9320bd1b2",
     "locked": true,
     "schema_version": 1,
     "solution": false
    }
   },
   "source": [
    "## Part III: Tests\n",
    "\n",
    "Now write a test file that imports from your module file, and tests the functions/classes. (Refer back to testing lecture if you need to refresh your memory.)\n",
    "\n",
    "To do so, start with the new text file. It should import your classes and functions from the file you made above. Then, write a test function (`test_...`) for each function and class. Remember these should contain `assert` statements and test the behavior of your functions. Save your file with a '.py' extension, and then use `pytest` to execute it from the terminal."
   ]
  },
  {
   "cell_type": "markdown",
   "metadata": {},
   "source": [
    "The code below has been stored in a file called `test_cravings.py`:"
   ]
  },
  {
   "cell_type": "code",
   "execution_count": 8,
   "metadata": {},
   "outputs": [],
   "source": [
    "import cravings as crave\n",
    "\n",
    "def test_Noodles():\n",
    "    # test default values\n",
    "    tonkotsu = crave.Noodles()\n",
    "    assert tonkotsu.available == None\n",
    "    assert tonkotsu.size == None   \n",
    "    assert tonkotsu.order_to_go() == \"I'm sorry, but we aren't taking to-go orders right now.\"\n",
    "    \n",
    "def test_Ramen():\n",
    "    # test default values\n",
    "    tonkotsu = crave.Ramen()\n",
    "    assert tonkotsu.available == \"Yes\"\n",
    "    assert tonkotsu.size == \"large\"    \n",
    "    assert tonkotsu.order_to_go() == \"I'll have your order ready in 20 minutes\"\n",
    "    \n",
    "    # test other values\n",
    "    ramen_small = crave.Ramen(size='small', available=None)\n",
    "    assert ramen_small.size == 'small'\n",
    "    assert ramen_small.available == None\n",
    "    assert ramen_small.order_to_go() == \"I'm sorry, but we aren't taking to-go orders right now.\"\n",
    "\n",
    "def test_eating():\n",
    "    tonkotsu = crave.Ramen()\n",
    "    ramen_small = crave.Ramen(size='small', available=None)\n",
    "\n",
    "    assert crave.eating(tonkotsu) == 'Slurp slurp slurp, delicious!'\n",
    "    assert crave.eating(ramen_small) == 'Quarantine can be rough. It be like that sometimes.'\n",
    "    \n",
    "def test_soup():\n",
    "    tonkotsu = crave.Ramen()\n",
    "    ramen_small = crave.Ramen(size='small', available=None)\n",
    "\n",
    "    assert crave.soup(tonkotsu) == \"\\n\" + 'Should I drink the soup?' + \"\\n\\t\" + \"I really shouldn't... There's too much sodium.\"\n",
    "    assert crave.soup(ramen_small) == \"\\n\" + 'Should I drink the soup?' + \"\\n\\t\" + \"You only live once! Slurp slurp slurp!\"\n",
    "    "
   ]
  },
  {
   "cell_type": "code",
   "execution_count": 13,
   "metadata": {},
   "outputs": [
    {
     "name": "stdout",
     "output_type": "stream",
     "text": [
      "\u001b[1m============================= test session starts ==============================\u001b[0m\n",
      "platform darwin -- Python 3.7.0, pytest-3.8.0, py-1.6.0, pluggy-0.7.1\n",
      "hypothesis profile 'default' -> database=DirectoryBasedExampleDatabase('/Users/shannonellis/Desktop/Teaching/COGS18/CodingLabs/source_Su20/.hypothesis/examples')\n",
      "rootdir: /Users/shannonellis/Desktop/Teaching/COGS18/CodingLabs/source_Su20, inifile:\n",
      "plugins: remotedata-0.3.0, openfiles-0.3.0, doctestplus-0.1.3, astropy-header-0.1.1, arraydiff-0.2, hypothesis-4.36.2\n",
      "collected 4 items                                                              \u001b[0m\u001b[1m\n",
      "\n",
      "test_cravings.py ....\u001b[36m                                                    [100%]\u001b[0m\n",
      "\n",
      "\u001b[32m\u001b[1m=========================== 4 passed in 0.08 seconds ===========================\u001b[0m\n"
     ]
    }
   ],
   "source": [
    "!pytest test_cravings.py"
   ]
  },
  {
   "cell_type": "markdown",
   "metadata": {
    "nbgrader": {
     "grade": true,
     "grade_id": "cell-842041dbf7a32475",
     "locked": false,
     "points": 0,
     "schema_version": 1,
     "solution": true
    }
   },
   "source": [
    "Explain your success/struggles/failures with the above here:"
   ]
  },
  {
   "cell_type": "markdown",
   "metadata": {
    "nbgrader": {
     "grade": false,
     "grade_id": "cell-dbf22ebdae23df78",
     "locked": true,
     "schema_version": 3,
     "solution": false
    }
   },
   "source": [
    "## Part IV: Python Scripts\n",
    "\n",
    "Now write a small script that imports from your module file, and uses that code to do something.\n",
    "\n",
    "To do so, start with the new text file. It should import your classes and functions from the file you made above. Then, use these functions and classes to do something (write some Python code that does something with these objects). Save your file with a '.py' extension, and then execute it from the terminal."
   ]
  },
  {
   "cell_type": "markdown",
   "metadata": {},
   "source": [
    "I've stored the following few lines of code in a file called `cravings_script.py`:"
   ]
  },
  {
   "cell_type": "code",
   "execution_count": 17,
   "metadata": {},
   "outputs": [
    {
     "name": "stdout",
     "output_type": "stream",
     "text": [
      "Itadakimasu\n",
      "Slurp slurp slurp, delicious!\n",
      "\n",
      "Should I drink the soup?\n",
      "\tI really shouldn't... There's too much sodium.\n"
     ]
    }
   ],
   "source": [
    "import cravings as crave\n",
    "\n",
    "tonkotsu = crave.Ramen()\n",
    "print(crave.eating(tonkotsu))\n",
    "print(crave.soup(tonkotsu))"
   ]
  },
  {
   "cell_type": "code",
   "execution_count": 18,
   "metadata": {},
   "outputs": [
    {
     "name": "stdout",
     "output_type": "stream",
     "text": [
      "Itadakimasu\r\n",
      "Slurp slurp slurp, delicious!\r\n",
      "\r\n",
      "Should I drink the soup?\r\n",
      "\tI really shouldn't... There's too much sodium.\r\n"
     ]
    }
   ],
   "source": [
    "# execute script\n",
    "!python cravings_script.py"
   ]
  },
  {
   "cell_type": "markdown",
   "metadata": {
    "nbgrader": {
     "grade": true,
     "grade_id": "cell-02378ec3e499a97d",
     "locked": false,
     "points": 0,
     "schema_version": 3,
     "solution": true
    }
   },
   "source": [
    "Explain your success/struggles/failures with the above here:"
   ]
  }
 ],
 "metadata": {
  "celltoolbar": "Create Assignment",
  "kernelspec": {
   "display_name": "Python 3",
   "language": "python",
   "name": "python3"
  },
  "language_info": {
   "codemirror_mode": {
    "name": "ipython",
    "version": 3
   },
   "file_extension": ".py",
   "mimetype": "text/x-python",
   "name": "python",
   "nbconvert_exporter": "python",
   "pygments_lexer": "ipython3",
   "version": "3.7.9"
  }
 },
 "nbformat": 4,
 "nbformat_minor": 2
}
