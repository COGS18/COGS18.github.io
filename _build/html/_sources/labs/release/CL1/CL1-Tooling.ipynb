{
 "cells": [
  {
   "cell_type": "markdown",
   "metadata": {
    "deletable": false,
    "editable": false,
    "nbgrader": {
     "cell_type": "markdown",
     "checksum": "f90b4b370b43d44ea5f85ff741d13c8f",
     "grade": false,
     "grade_id": "cell-fe674f12a873eecc",
     "locked": true,
     "schema_version": 3,
     "solution": false
    }
   },
   "source": [
    "# Coding Lab 1: Tech Setup & Tooling\n",
    "\n",
    "Welcome to the first coding lab!\n",
    "\n",
    "CodingLab labs are meant to be interactive - so, feel free to find another person to work together with on your CodingLab notebooks. \n",
    "\n",
    "For this lab, it's really important that you're comfortable with all of the tools we introduce here, as we'll be using them throughout the quarter. So, while you should feel free to consult with your classmates, you'll want to be sure you carry out each part on your own. \n",
    "\n",
    "If you have a question about how something works / what something does - try it out, and see what happens! If you get stuck, consult your classmates. If you're still stuck, your instructional staff are there to help!"
   ]
  },
  {
   "cell_type": "markdown",
   "metadata": {
    "deletable": false,
    "editable": false,
    "nbgrader": {
     "cell_type": "markdown",
     "checksum": "1ff0a69a03395547fcfa9269759d5646",
     "grade": false,
     "grade_id": "cell-6c2e3c6cef5a53e2",
     "locked": true,
     "schema_version": 3,
     "solution": false
    }
   },
   "source": [
    "## Reminders: \n",
    "\n",
    "- **PLEASE DO NOT CHANGE THE NAME OF THIS FILE.**\n",
    "- **PLEASE DO NOT COPY & PASTE OR DELETE CELLS INLCUDED IN THE ASSIGNMENT.** (Adding new cells is allowed!)"
   ]
  },
  {
   "cell_type": "markdown",
   "metadata": {
    "deletable": false,
    "editable": false,
    "nbgrader": {
     "cell_type": "markdown",
     "checksum": "8655acd04fbd82a8605dad13df990d97",
     "grade": false,
     "grade_id": "cell-9ae624cb9ab52685",
     "locked": true,
     "schema_version": 3,
     "solution": false
    }
   },
   "source": [
    "## Part 1: Jupyter\n",
    "\n",
    "This is a Jupyter Notebook! They are a very helpful learning tool because they allow plain text (like this!) and code (coming up!) to be combined in a single document.\n",
    "\n",
    "The notes presented in lecture are Jupyter Notebooks. Your CodingLabs will be in Jupyter Notebooks. And, your assignments will be completed in Jupyter Notebooks. So, you'll want to get very comfortable with working within a notebook."
   ]
  },
  {
   "cell_type": "markdown",
   "metadata": {
    "deletable": false,
    "editable": false,
    "nbgrader": {
     "cell_type": "markdown",
     "checksum": "f2bb12d57f88ffc2f18a09cc6588abb3",
     "grade": false,
     "grade_id": "cell-de4843e93c444918",
     "locked": true,
     "schema_version": 3,
     "solution": false
    }
   },
   "source": [
    "## Cells \n",
    "\n",
    "The operational unit of the notebook is the cell.\n",
    "\n",
    "Cells are primarily either text (Markdown) or code. \n",
    "\n",
    "If you click on this cell, you should see in the menu above that it says \"Markdown\"\n",
    "\n"
   ]
  },
  {
   "cell_type": "markdown",
   "metadata": {
    "deletable": false,
    "editable": false,
    "nbgrader": {
     "cell_type": "markdown",
     "checksum": "113b68128dde8c10d98a6640b9b126a2",
     "grade": false,
     "grade_id": "cell-28a659019a298819",
     "locked": true,
     "schema_version": 3,
     "solution": false
    }
   },
   "source": [
    "### YOUR TURN: Add a new cell\n",
    "\n",
    "Single click on this cell. \n",
    "\n",
    "Then, click the '+' icon on the toolbar at the top to add a new cell below this one."
   ]
  },
  {
   "cell_type": "markdown",
   "metadata": {
    "deletable": false,
    "editable": false,
    "nbgrader": {
     "cell_type": "markdown",
     "checksum": "310e0454f9af3e3955d8ba21e7b2c348",
     "grade": false,
     "grade_id": "cell-211cdc46ddaa7f9b",
     "locked": true,
     "schema_version": 3,
     "solution": false
    }
   },
   "source": [
    "The cell you just added above is a code cell by default. You can tell by the `In [ ]:` to the left of the cell and the fact that the drop-down box above says \"Code\"\n",
    "\n",
    "Use that drop-down menu to change the type of that cell you just created to be a text cell. Type the following in that cell \"Learning to program in Python makes me ...\" and finish the sentence with how you feel about learning to program in python."
   ]
  },
  {
   "cell_type": "markdown",
   "metadata": {},
   "source": [
    "### YOUR TURN: Editing Text Cells\n",
    "\n",
    "To edit the text in this cell, double-click on it.\n",
    "\n",
    "Add information below about yourself to get practice with editing text cells.\n",
    "\n",
    "Name:   \n",
    "PID:  \n",
    "College:  \n",
    "Major:  \n"
   ]
  },
  {
   "cell_type": "markdown",
   "metadata": {
    "deletable": false,
    "editable": false,
    "nbgrader": {
     "cell_type": "markdown",
     "checksum": "21505ad77445d8bb5b0540e7909aaf70",
     "grade": false,
     "grade_id": "cell-12ed58b912b113d8",
     "locked": true,
     "schema_version": 3,
     "solution": false
    }
   },
   "source": [
    "### Markdown\n",
    "\n",
    "As discussed in lecture, these cells are formatted using [Markdown syntax](https://www.markdownguide.org/basic-syntax/). \n",
    "\n",
    "Edit the text in the cell below so that it has the formatting specified by the text. \n",
    "\n",
    "For example, if the text said:\n",
    "\n",
    "This sentence is bold.\n",
    "\n",
    "You would edit the text so that it was bold:\n",
    "\n",
    "**This sentence is bold.**\n",
    "\n",
    "Note that to see the formatting changes, you'll have to run the cell using the Run icon above (or more simply use 'Shift + Enter' on your keyboard."
   ]
  },
  {
   "cell_type": "markdown",
   "metadata": {},
   "source": [
    "### YOUR TURN: Edit this text\n",
    "\n",
    "This is a heading level 4 (H4)\n",
    "\n",
    "This sentence is italicized.\n",
    "\n",
    "Below is a bulleted list:\n",
    "bullet item 1 \n",
    "bullet item 2\n",
    "bullet item 3\n",
    "\n",
    "Below is a numbered list:\n",
    "list item 1\n",
    "list item 2\n",
    "list item 3\n",
    "\n",
    "This sentence is bold AND italic."
   ]
  },
  {
   "cell_type": "markdown",
   "metadata": {
    "deletable": false,
    "editable": false,
    "nbgrader": {
     "cell_type": "markdown",
     "checksum": "a50ad129b0f2e130687680adb60b1dd9",
     "grade": false,
     "grade_id": "cell-7c824f4693ef2a74",
     "locked": true,
     "schema_version": 3,
     "solution": false
    }
   },
   "source": [
    "### Code Cells\n",
    "\n",
    "Below this cell, you see a code cell. \n",
    "\n",
    "In it you will see \n",
    "\n",
    "```python\n",
    "# YOUR CODE HERE\n",
    "raise NotImplementedError()\n",
    "```\n",
    "\n",
    "Any time you see this in a coding lab, assignment, or exam, you'll replace it with your answer.\n",
    "\n",
    "Code is added to cells, but they have to be Run (executed) for the code to be processed.\n",
    "\n",
    "Type `x = 3` in the code cell below. Then, click \"Run\" from the menu above of press 'Shift + Enter' on your keybood to execute that code."
   ]
  },
  {
   "cell_type": "code",
   "execution_count": null,
   "metadata": {
    "deletable": false,
    "nbgrader": {
     "cell_type": "code",
     "checksum": "512d888b9928975e3f979f0ce92d3f7e",
     "grade": false,
     "grade_id": "cell-2449433ea75407f8",
     "locked": false,
     "schema_version": 3,
     "solution": true
    }
   },
   "outputs": [],
   "source": [
    "# YOUR CODE HERE\n",
    "raise NotImplementedError()"
   ]
  },
  {
   "cell_type": "code",
   "execution_count": null,
   "metadata": {
    "deletable": false,
    "editable": false,
    "nbgrader": {
     "cell_type": "code",
     "checksum": "088ae55ed19a5cf541a8b99aaefb9fcd",
     "grade": true,
     "grade_id": "cell-517b04bfa6fc1615",
     "locked": true,
     "points": 0,
     "schema_version": 3,
     "solution": false
    }
   },
   "outputs": [],
   "source": [
    "# this should not give any output if you did the above\n",
    "# this checks to make sure x exists \n",
    "# but it does NOT check that it has the right value\n",
    "assert x"
   ]
  },
  {
   "cell_type": "markdown",
   "metadata": {
    "deletable": false,
    "editable": false,
    "nbgrader": {
     "cell_type": "markdown",
     "checksum": "5716ffacf24cb45bd770cadf4493e66e",
     "grade": false,
     "grade_id": "cell-3a4613788c98806a",
     "locked": true,
     "schema_version": 3,
     "solution": false
    }
   },
   "source": [
    "After running the code cell above, there will be a number between the brackets to the left of the cell. Each time you run a code cell, this number will increase by 1. Run the code cell below to see what we mean."
   ]
  },
  {
   "cell_type": "code",
   "execution_count": null,
   "metadata": {},
   "outputs": [],
   "source": [
    "y = 29"
   ]
  },
  {
   "cell_type": "markdown",
   "metadata": {
    "collapsed": true,
    "deletable": false,
    "editable": false,
    "nbgrader": {
     "cell_type": "markdown",
     "checksum": "39da8985edb4ff08e836690831889e0e",
     "grade": false,
     "grade_id": "cell-7c6f45a2d00b7ab3",
     "locked": true,
     "schema_version": 3,
     "solution": false
    }
   },
   "source": [
    "One thing that sometimes trips users up is the fact that cells do NOT have to be run in order from top to bottom. Python remembers whatever was executed most recently. To see what we mean, run the cell below and see what it returns:"
   ]
  },
  {
   "cell_type": "code",
   "execution_count": null,
   "metadata": {},
   "outputs": [],
   "source": [
    "x"
   ]
  },
  {
   "cell_type": "markdown",
   "metadata": {
    "collapsed": true,
    "deletable": false,
    "editable": false,
    "nbgrader": {
     "cell_type": "markdown",
     "checksum": "c0a5621bb02e6fb0e258ae7b2a191c0b",
     "grade": false,
     "grade_id": "cell-78adb95663850262",
     "locked": true,
     "schema_version": 3,
     "solution": false
    }
   },
   "source": [
    "Now, return to the cell above where you defined `x = 3` and change it to `x = 9`. Be sure to re-run this cell. When you do so, note that the number to the left of the cell updates to be the most recent number. `x` is now defined as 9, as that is the most recent cell that executed. \n",
    "\n",
    "The **order** in which the cells are run matters **NOT** the order in which they appear in the notebook."
   ]
  },
  {
   "cell_type": "markdown",
   "metadata": {
    "deletable": false,
    "editable": false,
    "nbgrader": {
     "cell_type": "markdown",
     "checksum": "527004cdf404d223529da36612729453",
     "grade": false,
     "grade_id": "cell-ae6d910067c2e886",
     "locked": true,
     "schema_version": 3,
     "solution": false
    }
   },
   "source": [
    "## Part 2: CodingLab & Assignment Submission\n",
    "\n",
    "Assignments will be retrieved and submitted on [datahub](https://datahub.ucsd.edu).\n",
    "\n",
    "**Datahub** is a server-based service hosted by UCSD. It provides each of you with a space to complete your work. This is space on a UCSD server. You have your own account where you can save your own files and do your own computing. This is what you'll use to complete your assignments.\n",
    "\n"
   ]
  },
  {
   "cell_type": "markdown",
   "metadata": {
    "deletable": false,
    "editable": false,
    "nbgrader": {
     "cell_type": "markdown",
     "checksum": "60dd6764ff2239bb13845492dcd0af11",
     "grade": false,
     "grade_id": "cell-55220e989e91225a",
     "locked": true,
     "schema_version": 3,
     "solution": false
    }
   },
   "source": [
    "### Step 1: Log Into datahub\n",
    "\n",
    "To get this CodingLab, your Instructional Staff guided you through logging onto datahub. Be sure that you're familiar with this process. The steps are explained below.\n",
    "\n",
    "**Log in (using your UCSD credentials/gmail account) to [datahub](https://datahub.ucsd.edu).**\n",
    "\n",
    "Note that *if* you are officially on the class roster (this includes those on the waitlist!), there will be an environment for this class there for you. For example., you should see an environment than starts with \"COGS 18\". Click on this and then click 'Launch Environment'.\n",
    "\n",
    "Your server space will launch.\n",
    "\n",
    "Notice the tabs along the top. One of these should say \"Assignments.\" This is where you will fetch, complete, and submit coding labs and assignments. Let's practice this process now."
   ]
  },
  {
   "cell_type": "markdown",
   "metadata": {
    "collapsed": true,
    "deletable": false,
    "editable": false,
    "nbgrader": {
     "cell_type": "markdown",
     "checksum": "101346fa18f5abecf5c5c27199a02a1c",
     "grade": false,
     "grade_id": "cell-fd2053e5ca8ef76d",
     "locked": true,
     "schema_version": 3,
     "solution": false
    }
   },
   "source": [
    "### Step 2: Fetch Assignment\n",
    "\n",
    "Under the 'Assignments' tab, you will see an assignment called 'A_Practice_COGS18_WI22'. \n",
    "\n",
    "1. **Click Fetch** to get your copy of this practice assignment. \n",
    "\n",
    "        After clicking Fetch, this assignment will be listed under your \"Downloaded Assignments\". \n",
    "        You *could* click on this assignment there, but let's take a look at where this assignment lives on your space in the server. \n",
    "\n",
    "2. **Click on the Files tab** along the top. There should now be a directory (folder) in there called \"Practice\"\n",
    "\n",
    "3. **Click on the \"A_Practice_COGS18_WI22\" directory** to display its contents.\n",
    "\n",
    "4. Within this directory, you'll see a Jupyter Notebook. **Click on this notebook** to open it up. \n",
    "\n",
    "Now, once you open up this file, you're ready to complete the practice assignment!\n"
   ]
  },
  {
   "cell_type": "markdown",
   "metadata": {
    "deletable": false,
    "editable": false,
    "nbgrader": {
     "cell_type": "markdown",
     "checksum": "a04597959857f6036f84b45068a02190",
     "grade": false,
     "grade_id": "cell-2331319b623bd23c",
     "locked": true,
     "schema_version": 3,
     "solution": false
    }
   },
   "source": [
    "<div class=\"alert alert-danger\">\n",
    "Whatever you do, please <b> DO NOT RENAME CODINGLAB OR ASSIGNMENT NOTEBOOK FILES! </b>\n",
    "</div>"
   ]
  },
  {
   "cell_type": "markdown",
   "metadata": {
    "collapsed": true,
    "deletable": false,
    "editable": false,
    "nbgrader": {
     "cell_type": "markdown",
     "checksum": "b300a345e944c33dd7d5bfc5d67f72b3",
     "grade": false,
     "grade_id": "cell-202ad44a2c44b4c3",
     "locked": true,
     "schema_version": 3,
     "solution": false
    }
   },
   "source": [
    "When completing your assignments, you will write and execute your code directly within this document, but you **should not** rename it. Our autograding system is expecting a file of the same name. "
   ]
  },
  {
   "cell_type": "markdown",
   "metadata": {
    "deletable": false,
    "editable": false,
    "nbgrader": {
     "cell_type": "markdown",
     "checksum": "71432e60054e5eb52975a27b7846fbb0",
     "grade": false,
     "grade_id": "cell-00cb536d7274bfec",
     "locked": true,
     "schema_version": 3,
     "solution": false
    }
   },
   "source": [
    "### Step 3: Complete & Submit\n",
    "\n",
    "Complete the assignment within the notebook you've just opened up. \n",
    "\n",
    "Be sure to read all of the text within the notebook as this information applies to all of your assignment submissions this quarter.\n",
    "\n",
    "Once you complete the assignment, submit it on Datahub. You'll see this assignment show up within the \"Submitted Assignments\" section within the \"Assignments\" tab.\n",
    "\n",
    "We're not going to grade this one, but we wanted to be sure you all got practice before doing the real thing for class."
   ]
  },
  {
   "cell_type": "markdown",
   "metadata": {
    "deletable": false,
    "editable": false,
    "nbgrader": {
     "cell_type": "markdown",
     "checksum": "fe91f72f891eb1b59f1fe3fb849d3879",
     "grade": false,
     "grade_id": "cell-5c60493d83a91395",
     "locked": true,
     "schema_version": 3,
     "solution": false
    }
   },
   "source": [
    "<div class=\"alert alert-danger\">\n",
    "If you fail to click \"Submit\", we will not have access to or be able to grade your assignment. <b>ALWAYS REMEMBER TO CLICK SUBMIT.</b>\n",
    "</div>"
   ]
  },
  {
   "cell_type": "markdown",
   "metadata": {
    "deletable": false,
    "editable": false,
    "nbgrader": {
     "cell_type": "markdown",
     "checksum": "0f1ba1b66d6ed3c8bb19fd8f149023cf",
     "grade": false,
     "grade_id": "cell-b3c368d304fad43f",
     "locked": true,
     "schema_version": 3,
     "solution": false
    }
   },
   "source": [
    "## Part 3: Academic Integrity\n",
    "\n",
    "Navigate to the following pages: \n",
    "- https://academicintegrity.ucsd.edu/excel-integrity/define-cheating/index.html\n",
    "- https://academicintegrity.ucsd.edu/faq (read the \"Does...count as cheating?\" section)\n",
    "\n",
    "Read and reflect on the content there. Then, respond to the following situations with your own thoughts in the cell provided after each situation using Markdown text. \n",
    "\n",
    "Consider 1) if the action was a violation of academic integrity in COGS 18 and 2) if it was, what do you think the consequence should be."
   ]
  },
  {
   "cell_type": "markdown",
   "metadata": {
    "deletable": false,
    "editable": false,
    "nbgrader": {
     "cell_type": "markdown",
     "checksum": "ddc1b01273c8fb58c30e5b5f2f6778a9",
     "grade": false,
     "grade_id": "cell-4946ab88ff68a71f",
     "locked": true,
     "schema_version": 3,
     "solution": false
    }
   },
   "source": [
    "**Situation 1**\n",
    "\n",
    "A COGS 18 student is working on an assignment and is particularly stuck on one question. They go back through the notes and just can't figure it out. They look at the staff office hours schedule and realize that they won't be able to make it to any staff office hours this week, so they decide to ask a classmate for help. Their classmate agrees to meet. During this meeting they discuss where the stuck student is confused. The classmate helps the stuck student through the question. The stuck student writes the code during this process for the assignment and then explains the code they've just written back to their helpful classmate. The stuck student thanks their classmate for their help."
   ]
  },
  {
   "cell_type": "markdown",
   "metadata": {},
   "source": [
    "REPLACE THIS TEXT WITH YOUR THOUGHTS."
   ]
  },
  {
   "cell_type": "markdown",
   "metadata": {
    "deletable": false,
    "editable": false,
    "nbgrader": {
     "cell_type": "markdown",
     "checksum": "4ed539a497c5ddacbb8992ef69c28d0d",
     "grade": false,
     "grade_id": "cell-0b2af97cbb2f838e",
     "locked": true,
     "schema_version": 3,
     "solution": false
    }
   },
   "source": [
    "**Situation 2**\n",
    "\n",
    "A COGS 18 student is taking their exam. During this, they realize they're running out of time before the submission deadline and still have two questions left they just can't figure out. They text their friend who is in the class asking for the answers to those two questions. Their friend (who has already submitted the exam), wanting to help out, sends his exam code along. The struggling student changes the code a little bit and submits his exam."
   ]
  },
  {
   "cell_type": "markdown",
   "metadata": {},
   "source": [
    "REPLACE THIS TEXT WITH YOUR THOUGHTS."
   ]
  },
  {
   "cell_type": "markdown",
   "metadata": {
    "deletable": false,
    "editable": false,
    "nbgrader": {
     "cell_type": "markdown",
     "checksum": "b7afecfbf9308dca63489ec5d5434501",
     "grade": false,
     "grade_id": "cell-59d93620c6ccfb97",
     "locked": true,
     "schema_version": 3,
     "solution": false
    }
   },
   "source": [
    "**Situation 3**\n",
    "\n",
    "A COGS 18 student is taking their exam. During this, they realize they just can't figure out two questions while taking the exam. They copy the question from the exam and search in Google. In this search, they see a website pop up with this exact question in it...and click on the link. To their surprise, the answer to both questions are there on the website. They copy the code into their exam and submit their exam."
   ]
  },
  {
   "cell_type": "markdown",
   "metadata": {},
   "source": [
    "REPLACE THIS TEXT WITH YOUR THOUGHTS."
   ]
  },
  {
   "cell_type": "markdown",
   "metadata": {
    "deletable": false,
    "editable": false,
    "nbgrader": {
     "cell_type": "markdown",
     "checksum": "61f2c2d9036456d220f700cbb18b62c1",
     "grade": false,
     "grade_id": "cell-957a682d1717d9cc",
     "locked": true,
     "schema_version": 3,
     "solution": false
    }
   },
   "source": [
    "## Optional: Anaconda\n",
    "\n",
    "As noted above, assignments will be completed on Datahub. However, the second part of the course involves completing a project. This *can* be completed on datahub, but you'll likely want to complete this on your local computer. To do so, you'll need Python downloaded on your computer. \n",
    "\n",
    "Additionally, after this course, if you want to have the tools we use here, you'll want to have them installed on your own computer.\n",
    "\n",
    "To ensure that this is possible, we ask that you **download the [Anaconda Distribution](https://www.anaconda.com/distribution/) now**. This is available for mac, windows,and linux operating systems. However, note that if you have a linux-based machine, you may run into a few hurdles upon installation.\n",
    "\n",
    "The Anaconda distribution is:\n",
    "\n",
    "> a package manager, an environment manager, a Python/R data science distribution, and a collection of over 1,500+ open source packages. Anaconda is free and easy to install, and it offers free community support.\"\n",
    "\n",
    "This provides you with a local copy of Jupyter and access to commonly-used python packages.\n"
   ]
  },
  {
   "cell_type": "markdown",
   "metadata": {
    "deletable": false,
    "editable": false,
    "nbgrader": {
     "cell_type": "markdown",
     "checksum": "70ee6738eb2303945c68b6cc6da13343",
     "grade": false,
     "grade_id": "cell-f7ccbf88f9481134",
     "locked": true,
     "schema_version": 3,
     "solution": false
    }
   },
   "source": [
    "## The End!\n",
    "\n",
    "This is the end of the first Coding Lab!\n",
    "\n",
    "Be sure you've made a concerted effort to complete all the tasks specified in this lab. Then, go ahead and submit on datahub!"
   ]
  }
 ],
 "metadata": {
  "kernelspec": {
   "display_name": "Python 3 (ipykernel)",
   "language": "python",
   "name": "python3"
  },
  "language_info": {
   "codemirror_mode": {
    "name": "ipython",
    "version": 3
   },
   "file_extension": ".py",
   "mimetype": "text/x-python",
   "name": "python",
   "nbconvert_exporter": "python",
   "pygments_lexer": "ipython3",
   "version": "3.9.5"
  }
 },
 "nbformat": 4,
 "nbformat_minor": 2
}
