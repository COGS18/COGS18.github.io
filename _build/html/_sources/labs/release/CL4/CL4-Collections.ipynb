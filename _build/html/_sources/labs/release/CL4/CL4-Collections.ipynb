{
 "cells": [
  {
   "cell_type": "markdown",
   "id": "12ac0bb6",
   "metadata": {
    "deletable": false,
    "editable": false,
    "nbgrader": {
     "cell_type": "markdown",
     "checksum": "f40c308ed2f20bb3e75f7415e24cd0bd",
     "grade": false,
     "grade_id": "cell-e8537ebe6502c993",
     "locked": true,
     "schema_version": 3,
     "solution": false
    }
   },
   "source": [
    "# CL4: Collections\n",
    "\n",
    "Welcome to the fourth coding lab!\n",
    "\n",
    "In this Coding Lab we will focus on working with collections and get additional practice with conditionals and functions."
   ]
  },
  {
   "cell_type": "markdown",
   "id": "6b4447e7",
   "metadata": {
    "deletable": false,
    "editable": false,
    "nbgrader": {
     "cell_type": "markdown",
     "checksum": "5ced674fadbd9824c62b55cc18c9ea9a",
     "grade": false,
     "grade_id": "cell-5232a4181069f8a7",
     "locked": true,
     "schema_version": 3,
     "solution": false
    }
   },
   "source": [
    "## Part I: Collections\n",
    "\n",
    "Collections are Python variable types than can store a 'collection' of items.\n",
    "\n",
    "Here we'll practice defining collections and indexing."
   ]
  },
  {
   "cell_type": "markdown",
   "id": "23e15a41",
   "metadata": {
    "deletable": false,
    "editable": false,
    "nbgrader": {
     "cell_type": "markdown",
     "checksum": "27c19698d0417125a9f51438d8eba2fb",
     "grade": false,
     "grade_id": "cell-e5df68d2a26e8a8d",
     "locked": true,
     "schema_version": 3,
     "solution": false
    }
   },
   "source": [
    "### Collection Questions\n",
    "\n",
    "Create a list, a tuple, and a dictionary. Fill them with with any values you want. \n",
    "\n",
    "Call them `my_list`, `my_tuple`, and `my_dictionary`."
   ]
  },
  {
   "cell_type": "code",
   "execution_count": null,
   "id": "ecb7632e",
   "metadata": {
    "deletable": false,
    "nbgrader": {
     "cell_type": "code",
     "checksum": "a478835a44e18892c111bb224363f9f3",
     "grade": false,
     "grade_id": "cell-03b4194c0ccc5cb9",
     "locked": false,
     "schema_version": 3,
     "solution": true
    }
   },
   "outputs": [],
   "source": [
    "# YOUR CODE HERE\n",
    "raise NotImplementedError()"
   ]
  },
  {
   "cell_type": "markdown",
   "id": "e2462248",
   "metadata": {
    "deletable": false,
    "editable": false,
    "nbgrader": {
     "cell_type": "markdown",
     "checksum": "9cb148a69afd5d891143d966d234649c",
     "grade": false,
     "grade_id": "cell-0cc2aa750a4e1fdc",
     "locked": true,
     "schema_version": 3,
     "solution": false
    }
   },
   "source": [
    "Use the following cells to check the types of the variables you write are as expected"
   ]
  },
  {
   "cell_type": "code",
   "execution_count": null,
   "id": "804188af",
   "metadata": {},
   "outputs": [],
   "source": [
    "type(my_list)"
   ]
  },
  {
   "cell_type": "code",
   "execution_count": null,
   "id": "f319eebf",
   "metadata": {},
   "outputs": [],
   "source": [
    "type(my_tuple)"
   ]
  },
  {
   "cell_type": "code",
   "execution_count": null,
   "id": "ceb5235c",
   "metadata": {},
   "outputs": [],
   "source": [
    "type(my_dictionary)"
   ]
  },
  {
   "cell_type": "markdown",
   "id": "8deb7a3f",
   "metadata": {
    "deletable": false,
    "editable": false,
    "nbgrader": {
     "cell_type": "markdown",
     "checksum": "10531a647113a747533c08c0d6dd423f",
     "grade": false,
     "grade_id": "cell-03e1ff88a1a1ddd1",
     "locked": true,
     "schema_version": 3,
     "solution": false
    }
   },
   "source": [
    "On an assignment, you'd likely see the same concept tested with the following `assert` statements"
   ]
  },
  {
   "cell_type": "code",
   "execution_count": null,
   "id": "02447a5f",
   "metadata": {
    "deletable": false,
    "editable": false,
    "nbgrader": {
     "cell_type": "code",
     "checksum": "ebfc7a03a762bf79ad933b83c7337d3a",
     "grade": true,
     "grade_id": "cell-00392a1d77c0cd31",
     "locked": true,
     "points": 0,
     "schema_version": 3,
     "solution": false
    }
   },
   "outputs": [],
   "source": [
    "assert type(my_list) == list\n",
    "assert type(my_tuple) == tuple\n",
    "assert type(my_dictionary) == dict"
   ]
  },
  {
   "cell_type": "markdown",
   "id": "85df1d03",
   "metadata": {
    "deletable": false,
    "editable": false,
    "nbgrader": {
     "cell_type": "markdown",
     "checksum": "e205cb5a5d596a371f1ddf0c535f2532",
     "grade": false,
     "grade_id": "cell-3a2be167e34ac487",
     "locked": true,
     "schema_version": 3,
     "solution": false
    }
   },
   "source": [
    "#### Declaring Collections\n",
    "\n",
    "Note that there can be more than one way to declare collections. \n",
    "\n",
    "As well as declaring them with '[]' and '()', we can use the list & tuple constructors, as shown below. "
   ]
  },
  {
   "cell_type": "code",
   "execution_count": null,
   "id": "2d44c838",
   "metadata": {},
   "outputs": [],
   "source": [
    "# Run me! - This creates another list & tuple, using the list & tuple constructors\n",
    "some_list = list([1, 2, 3, 4, 5])\n",
    "some_tuple = tuple([\"peanut\", \"butter\", \"and\", \"jelly\"])\n",
    "some_dict = dict([('First', 'Shannon'), ('Last', 'Ellis')])\n",
    "\n",
    "print(\"'some_list' contains: \\t\", some_list)\n",
    "print(\"'some_tuple' contains: \\t\", some_tuple)\n",
    "print(\"'some_dict' contains: \\t\", some_dict)"
   ]
  },
  {
   "cell_type": "markdown",
   "id": "a08b7109",
   "metadata": {
    "deletable": false,
    "editable": false,
    "nbgrader": {
     "cell_type": "markdown",
     "checksum": "100fdbe48b0ba0c634c4a1cad6dc5b34",
     "grade": false,
     "grade_id": "cell-7688e7b4b8600212",
     "locked": true,
     "schema_version": 3,
     "solution": false
    }
   },
   "source": [
    "Compare the types of these variables to your equivalent variables to confirm.\n",
    "\n",
    "In the cell below, write in the type of the objects that you expect them to be, and make sure the asserts pass. "
   ]
  },
  {
   "cell_type": "code",
   "execution_count": null,
   "id": "1dc2e754",
   "metadata": {
    "deletable": false,
    "nbgrader": {
     "cell_type": "code",
     "checksum": "9b144cc807ffbee9d91b53b3fbb207d4",
     "grade": true,
     "grade_id": "cell-e165e0773228e7df",
     "locked": false,
     "points": 0,
     "schema_version": 3,
     "solution": true
    }
   },
   "outputs": [],
   "source": [
    "# Fill in `_WRITE_IN_TYPE_HERE` with the type you expect each variable to be\n",
    "assert type(some_list) == _WRITE_IN_TYPE_HERE_\n",
    "assert type(some_tuple) == _WRITE_IN_TYPE_HERE_\n",
    "assert type(some_dict) == _WRITE_IN_TYPE_HERE_\n",
    "\n",
    "# YOUR CODE HERE\n",
    "raise NotImplementedError()"
   ]
  },
  {
   "cell_type": "markdown",
   "id": "a542a695",
   "metadata": {
    "deletable": false,
    "editable": false,
    "nbgrader": {
     "cell_type": "markdown",
     "checksum": "535f175fb936554e7a684177c8131aa8",
     "grade": false,
     "grade_id": "cell-b2b788d74d096d70",
     "locked": true,
     "schema_version": 3,
     "solution": false
    }
   },
   "source": [
    "### Indexing\n",
    "\n",
    "Given the following list (`my_lst`, defined below), do the following operations:\n",
    "- Get the length of the list (assign this to a variable `lst_len`)\n",
    "- Get the 1st element of the list (call the selection `ind1`)\n",
    "- Get the last element of the list (call the selection `ind2`)\n",
    "- Get the second to the fourth element of the list (call the selection `ind3`)\n",
    "- Get from the fifth element, to the end of the list (call the selection `ind4`)\n",
    "- Get every second element of the list, starting at the first element (call the selection `ind5`)\n",
    "- Get every second element of the list, starting at the second element (call the selection `ind6`)"
   ]
  },
  {
   "cell_type": "code",
   "execution_count": null,
   "id": "9ef5ae3c",
   "metadata": {
    "deletable": false,
    "editable": false,
    "nbgrader": {
     "cell_type": "code",
     "checksum": "85e4d828fb6da3a0ee92f7c11757b72a",
     "grade": false,
     "grade_id": "cell-723b1e184986fe7d",
     "locked": true,
     "schema_version": 3,
     "solution": false
    }
   },
   "outputs": [],
   "source": [
    "my_lst = ['a', True, 12, 'tomato', False, None, 23, 'python', [], 5.5]"
   ]
  },
  {
   "cell_type": "code",
   "execution_count": null,
   "id": "53387985",
   "metadata": {
    "deletable": false,
    "nbgrader": {
     "cell_type": "code",
     "checksum": "e6e18422a65bae7a1272c2da4a8408b1",
     "grade": false,
     "grade_id": "cell-09da9aaa2dc855ad",
     "locked": false,
     "schema_version": 3,
     "solution": true
    }
   },
   "outputs": [],
   "source": [
    "# YOUR CODE HERE\n",
    "raise NotImplementedError()"
   ]
  },
  {
   "cell_type": "markdown",
   "id": "f668d819",
   "metadata": {
    "deletable": false,
    "editable": false,
    "nbgrader": {
     "cell_type": "markdown",
     "checksum": "4e7bb300436866315c80fd68bda1a7ff",
     "grade": false,
     "grade_id": "cell-e1e784da70db869b",
     "locked": true,
     "schema_version": 3,
     "solution": false
    }
   },
   "source": [
    "## Part II: Collections + Conditionals\n",
    "\n",
    "Collections can work with all of the things we've discussed up to this point - variables, conditionals, functions, etc. Here, we'll get extra practice combining collections with conditionals."
   ]
  },
  {
   "cell_type": "markdown",
   "id": "a02c6e06",
   "metadata": {
    "deletable": false,
    "editable": false,
    "nbgrader": {
     "cell_type": "markdown",
     "checksum": "274abc136e70783c8642c981b7693e44",
     "grade": false,
     "grade_id": "cell-aa4d3d1a2da6b217",
     "locked": true,
     "schema_version": 3,
     "solution": false
    }
   },
   "source": [
    "### Collections + Conditionals Question\n",
    "\n",
    "Imagine you've asked a group of young children to make a pile of at least 5 toys. \n",
    "\n",
    "You then want to write code to determine if the kid accomplished the task. Specifically, if the pile has at least 5 toys, you want `output` to store the string `'success'`. Otherwise, you want `output` to store the string `'try again'`\n",
    "\n",
    "The toys placed in one of these kids' piles is defined below in the list `kid_a`. Using this list, and conditionals, write code to accomplish the task above! "
   ]
  },
  {
   "cell_type": "code",
   "execution_count": null,
   "id": "c5a18266",
   "metadata": {
    "deletable": false,
    "editable": false,
    "nbgrader": {
     "cell_type": "code",
     "checksum": "1e2126674d42b2668fb8383e37574235",
     "grade": false,
     "grade_id": "cell-03b9eddcb33c1abe",
     "locked": true,
     "schema_version": 3,
     "solution": false
    }
   },
   "outputs": [],
   "source": [
    "kid_a = ['truck', 'barbie', 'coloring book', 'dinosaur']"
   ]
  },
  {
   "cell_type": "code",
   "execution_count": null,
   "id": "ab93fb7e",
   "metadata": {
    "deletable": false,
    "nbgrader": {
     "cell_type": "code",
     "checksum": "4e7900afc3fccedcdfe3578d04981f3c",
     "grade": false,
     "grade_id": "cell-fcc40c86d462e69b",
     "locked": false,
     "schema_version": 3,
     "solution": true
    }
   },
   "outputs": [],
   "source": [
    "# YOUR CODE HERE\n",
    "raise NotImplementedError()"
   ]
  },
  {
   "cell_type": "code",
   "execution_count": null,
   "id": "e03a00e7",
   "metadata": {
    "deletable": false,
    "editable": false,
    "nbgrader": {
     "cell_type": "code",
     "checksum": "e99b50141577534ad637c890dfb14848",
     "grade": true,
     "grade_id": "cell-79153e133036327d",
     "locked": true,
     "points": 0,
     "schema_version": 3,
     "solution": false
    }
   },
   "outputs": [],
   "source": [
    "assert output in ['success', 'try again']"
   ]
  },
  {
   "cell_type": "markdown",
   "id": "79ccee22",
   "metadata": {
    "deletable": false,
    "editable": false,
    "nbgrader": {
     "cell_type": "markdown",
     "checksum": "aa0cf2e3d423a411e4c50725467f5f65",
     "grade": false,
     "grade_id": "cell-48308e416555d022",
     "locked": true,
     "schema_version": 3,
     "solution": false
    }
   },
   "source": [
    "## Part III: Collections + Conditionals + Functions\n",
    "\n",
    "Let's put all of these conepts together...!"
   ]
  },
  {
   "cell_type": "markdown",
   "id": "00eaf5f2",
   "metadata": {
    "deletable": false,
    "editable": false,
    "nbgrader": {
     "cell_type": "markdown",
     "checksum": "fff5ab7bb98ab8c127fbda04a9f3d825",
     "grade": false,
     "grade_id": "cell-ae520fc1ce01f5e3",
     "locked": true,
     "schema_version": 3,
     "solution": false
    }
   },
   "source": [
    "### Collections + Conditionals + Functions Question \n",
    "\n",
    "The code you generated in Part II will only work on a single list `kid_a`. Functions, on the other hand, are ways to define a set of instructions that can operate on various input, returning the correct output.\n",
    "\n",
    "Here, write a function `toy_pile()` that accomplishes the same task as above, but takes a list of toys as input and `returns` either `'success'` or `'try again'`, depending upon how many toys are in the list of toys.\n"
   ]
  },
  {
   "cell_type": "code",
   "execution_count": null,
   "id": "c50cb8bf",
   "metadata": {
    "deletable": false,
    "nbgrader": {
     "cell_type": "code",
     "checksum": "54900a2fc727b2bfad7fb09850783c59",
     "grade": false,
     "grade_id": "cell-18d3066acd89631e",
     "locked": false,
     "schema_version": 3,
     "solution": true
    }
   },
   "outputs": [],
   "source": [
    "# YOUR CODE HERE\n",
    "raise NotImplementedError()"
   ]
  },
  {
   "cell_type": "code",
   "execution_count": null,
   "id": "2a0e3854",
   "metadata": {},
   "outputs": [],
   "source": [
    "# test out your function here "
   ]
  },
  {
   "cell_type": "code",
   "execution_count": null,
   "id": "f0303aa2",
   "metadata": {
    "deletable": false,
    "editable": false,
    "nbgrader": {
     "cell_type": "code",
     "checksum": "3c09ac5d558601b490250d6852aea2d8",
     "grade": true,
     "grade_id": "cell-4c017eb2981df277",
     "locked": true,
     "points": 0,
     "schema_version": 3,
     "solution": false
    }
   },
   "outputs": [],
   "source": [
    "assert toy_pile(kid_a) == 'try again'"
   ]
  },
  {
   "cell_type": "code",
   "execution_count": null,
   "id": "c174db8a",
   "metadata": {
    "deletable": false,
    "editable": false,
    "nbgrader": {
     "cell_type": "code",
     "checksum": "e2691f7cb8852158be26ae896df5c731",
     "grade": true,
     "grade_id": "cell-ee496957763dc6bd",
     "locked": true,
     "points": 0,
     "schema_version": 3,
     "solution": false
    }
   },
   "outputs": [],
   "source": [
    "assert toy_pile(['lego', 'princess dress', 'tinker toy', 'doll', 'stroller']) == 'success'"
   ]
  },
  {
   "cell_type": "markdown",
   "id": "cc160426",
   "metadata": {
    "deletable": false,
    "editable": false,
    "nbgrader": {
     "cell_type": "markdown",
     "checksum": "4fed1dec02afb6ee0cbf21788139116d",
     "grade": false,
     "grade_id": "cell-94d7ac690a32b4b5",
     "locked": true,
     "schema_version": 3,
     "solution": false
    }
   },
   "source": [
    "### Putting it all together\n",
    "\n",
    "Now that you've seen an example, think up another situation where you could write a function that incorporates the following:\n",
    "\n",
    "- takes a dictionary as input\n",
    "- utilizes a conditional within the function\n",
    "- carries out some operation and `return`s some output\n",
    "\n",
    "First, explain what your function does in plain English in the cell below. Then, write the python code for the function in the following cell and test it out in the last cell."
   ]
  },
  {
   "cell_type": "markdown",
   "id": "5d64afc4",
   "metadata": {},
   "source": [
    "Explain your function here (in words, not code)"
   ]
  },
  {
   "cell_type": "code",
   "execution_count": null,
   "id": "230ea621",
   "metadata": {
    "deletable": false,
    "nbgrader": {
     "cell_type": "code",
     "checksum": "3b40f800cf8a18a6c6da930194f06666",
     "grade": false,
     "grade_id": "cell-d6492d162ed04798",
     "locked": false,
     "schema_version": 3,
     "solution": true
    }
   },
   "outputs": [],
   "source": [
    "# define your function here\n",
    "# YOUR CODE HERE\n",
    "raise NotImplementedError()"
   ]
  },
  {
   "cell_type": "code",
   "execution_count": null,
   "id": "d8e9ab30",
   "metadata": {},
   "outputs": [],
   "source": [
    "# test out/execute your function here"
   ]
  },
  {
   "cell_type": "markdown",
   "id": "be6920e4",
   "metadata": {
    "deletable": false,
    "editable": false,
    "nbgrader": {
     "cell_type": "markdown",
     "checksum": "8c955cb135f69176e3ca477179d44a16",
     "grade": false,
     "grade_id": "cell-f7ccbf88f9481134",
     "locked": true,
     "schema_version": 3,
     "solution": false
    }
   },
   "source": [
    "## The End!\n",
    "\n",
    "This is the end of this Coding Lab!\n",
    "\n",
    "Be sure you've made a concerted effort to complete all the tasks specified in this lab. Then, go ahead and submit on datahub!"
   ]
  }
 ],
 "metadata": {
  "kernelspec": {
   "display_name": "Python 3 (ipykernel)",
   "language": "python",
   "name": "python3"
  },
  "language_info": {
   "codemirror_mode": {
    "name": "ipython",
    "version": 3
   },
   "file_extension": ".py",
   "mimetype": "text/x-python",
   "name": "python",
   "nbconvert_exporter": "python",
   "pygments_lexer": "ipython3",
   "version": "3.9.5"
  }
 },
 "nbformat": 4,
 "nbformat_minor": 5
}
