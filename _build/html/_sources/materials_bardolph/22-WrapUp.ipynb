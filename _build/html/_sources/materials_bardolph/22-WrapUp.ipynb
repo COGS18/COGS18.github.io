{
 "cells": [
  {
   "cell_type": "markdown",
   "metadata": {},
   "source": [
    "**Course Announcements**\n",
    "\n",
    "Due Dates:\n",
    "- Final Project/Exam (due Fri 6/11 at 11:59 PM)\n",
    "\n",
    "Notes:\n",
    "- Please fill out your CAPEs (+1% if >=85% response rate) - current: ~33%\n",
    "- Additional OH be Wed of Finals Week (by appt.)\n",
    "\n",
    "Extra Credit:\n",
    "- Project/Exam: \n",
    "    - Daily Participation Surveys\n",
    "    - [Post Course Survey](https://docs.google.com/forms/d/e/1FAIpQLSf9I1wACoWHiG2Qsvs1R0YKYHDwwMy_jEDlLVo1IbDdmsl1rw/viewform?usp=sf_link) (link also on Canvas)\n",
    "- Project:\n",
    "    - Going above and beyond requirements (explained in project notebook; up to 4% on the project)\n",
    "    - putting your project on [GitHub](https://docs.google.com/forms/d/e/1FAIpQLSfSyvosjv-j3C4TMzZ1g3hW_y1gLBZRopxvyM3Y_OASTIOuJA/viewform?usp=sf_link) (link also on Canvas; up to 1% on project)"
   ]
  },
  {
   "cell_type": "markdown",
   "metadata": {
    "slideshow": {
     "slide_type": "notes"
    }
   },
   "source": [
    "**Q&A**\n",
    "\n",
    "Q: Will docstrings and code comments will be required on the final? I assume yes but we will be guided as to when/where to include them?  \n",
    "A: Yes they will be required. And, yes you will be guided where to include them.\n",
    "\n",
    "Q: If our code in our project could be refactored, will we get points taken off if we don't?   \n",
    "A: It depends *how much* refactoring is needed. For example, if you have one gigantic function that does *many* different things, you'll lose some points. If you have largely modular code that *could* have benefitted from *a little* refactoring, this wouldn't lose points.\n",
    "\n",
    "Q: Is there a certain format that we need to keep in mind while writing out docstrings? I'm not sure if we really covered how those are supposed to be written? Or if it's just something we write out as we see fit.  \n",
    "A: Yes, you must use the numpy style format. See Code Documentation lecture for details.\n",
    "\n",
    "Q: Is this the last lecture?  \n",
    "A: Nope - today's is the last lecture!\n",
    "\n",
    "Q: Why is it helpful to use advanced Python techniques?  \n",
    "A: It can make writing your code easier; it can make reading others' code easier. Think of this like expanding your vocabulary. You can communicate a lot with basic words and simple sentences, but you can communicate even more as you expand your vocabulary. Advanced python is the extended vocabulary.\n",
    "\n",
    "Q: Refactoring code to make it easier to read (why wouldn't we just do it that way the first time around?)  \n",
    "A: If you can, great! But, sometimes our first try isn't the most straightforward, especially when we're new to programming. Similar to an essay, if your first draft is perfect and brilliant no need to edit. But, if it's not, edits are necessary. Refactoring is like editing an essay.\n",
    "\n",
    "Q: Will we get a lower score if our code is pretty simple but still follows the criteria?  \n",
    "A: Nope! A simple project can earn a perfect score.\n",
    "\n",
    "Q: I want to know where can I find examples of our projects.  \n",
    "A: https://github.com/COGS18/Projects#projects \n",
    "\n",
    "Q: What does it mean to cite our code?  \n",
    "A: If you borrow code from the Internet or someone else, you must say you've done so (add URL as a comment in your code). If you are inspired by someone else's code, include that in your paragraph in the beginning, linking/citing your source.\n",
    "\n",
    "Q: If we want to use script, how can we create it? (Since we only went only the example of creating modules )  \n",
    "A: Take a look back to the end of the 15-Modules notes for a script example. And, look at the examples provided in the `CL7_student_examples/` folder.\n",
    "\n",
    "Q: The difference of importing collections versus from collections import counter - it still produces the same output but the code is written different? if you \"from collections import counter\" will you still be able to use other variable types or only counter?  \n",
    "A: Your thought is correct -- `from collections import Counter` will *only* import `Counter`, and you can call it directly. Other functionality from collections is not imported. `import collections` imports the entire module, but then you need to specify `collections.` any time you want to refer to a function/class from the module."
   ]
  },
  {
   "cell_type": "markdown",
   "metadata": {
    "slideshow": {
     "slide_type": "slide"
    }
   },
   "source": [
    "# Wrap Up"
   ]
  },
  {
   "cell_type": "markdown",
   "metadata": {
    "collapsed": true,
    "slideshow": {
     "slide_type": "slide"
    }
   },
   "source": [
    "## The Goal"
   ]
  },
  {
   "cell_type": "markdown",
   "metadata": {
    "slideshow": {
     "slide_type": "fragment"
    }
   },
   "source": [
    "To teach you a skill - of how to do things with Python."
   ]
  },
  {
   "cell_type": "markdown",
   "metadata": {
    "slideshow": {
     "slide_type": "fragment"
    }
   },
   "source": [
    "You've been more formally trained than *many* people out in the world programming."
   ]
  },
  {
   "cell_type": "markdown",
   "metadata": {
    "slideshow": {
     "slide_type": "slide"
    }
   },
   "source": [
    "## Where We've Been:\n",
    "\n",
    "- Python & Jupyter\n",
    "- Variables\n",
    "- Operators\n",
    "- Conditionals\n",
    "- Lists, Tuples & Dictionaries\n",
    "- Loops\n",
    "- Functions\n",
    "- Objects & Classes\n",
    "- Namespaces\n",
    "- Command Line\n",
    "- Scientific Computing, & Open Source\n",
    "- Documentation, Code Style, Code Testing"
   ]
  },
  {
   "cell_type": "markdown",
   "metadata": {
    "slideshow": {
     "slide_type": "slide"
    }
   },
   "source": [
    "#### Clicker Question #1\n",
    "\n",
    "After COGS 18, I feel \\_\\_\\_\\_\\_\\_\\_\\_\\_\\_\\_\\_ my Python programming abilities\n",
    "\n",
    "- A) very confident in\n",
    "- B) somewhat confident in\n",
    "- C) middle-of-the-raod about\n",
    "- D) somewhat unsure about\n",
    "- E) very unsure about\n"
   ]
  },
  {
   "cell_type": "markdown",
   "metadata": {
    "slideshow": {
     "slide_type": "slide"
    }
   },
   "source": [
    "#### Clicker Question #2\n",
    "\n",
    "After COGS 18, I feel the following about my future Python programming:\n",
    "\n",
    "- A) will use again for sure\n",
    "- B) may use again\n",
    "- C) unsure if will use again\n",
    "- D) probably won't use again\n",
    "- E) definitely won't use again\n"
   ]
  },
  {
   "cell_type": "markdown",
   "metadata": {
    "slideshow": {
     "slide_type": "slide"
    }
   },
   "source": [
    "## How to Continue with Coding"
   ]
  },
  {
   "cell_type": "markdown",
   "metadata": {
    "slideshow": {
     "slide_type": "fragment"
    }
   },
   "source": [
    "- Write Code\n",
    "- Read Code\n",
    "- Learn and follow standard procedures\n",
    "- Do code reviews\n",
    "- Interact with the community\n",
    "- Build a code portfolio"
   ]
  },
  {
   "cell_type": "markdown",
   "metadata": {
    "slideshow": {
     "slide_type": "slide"
    }
   },
   "source": [
    "## Powered by Python"
   ]
  },
  {
   "cell_type": "markdown",
   "metadata": {
    "slideshow": {
     "slide_type": "fragment"
    }
   },
   "source": [
    "This course used:\n",
    "- Python Programming Language\n",
    "- Jupyter Notebooks\n",
    "- RISE Jupyter Slides\n",
    "- nbgrader\n",
    "- Jupyter Book\n",
    "- scipy stack & many other 3rd party modules"
   ]
  },
  {
   "cell_type": "markdown",
   "metadata": {
    "slideshow": {
     "slide_type": "slide"
    }
   },
   "source": [
    "## Where do you go from here"
   ]
  },
  {
   "cell_type": "markdown",
   "metadata": {
    "slideshow": {
     "slide_type": "fragment"
    }
   },
   "source": [
    "- if want_more_data_science:\n",
    "    - go to COGS 9\n",
    "- if you want *to do* more_data_science:\n",
    "    - ...*and* Python: take COGS 108\n",
    "    - ...*and* R: take COGS 137\n",
    "- if interested_in_research:\n",
    "    - look for labs, tell them you can code\n",
    "- if you want_something_else:\n",
    "    - go do it!"
   ]
  },
  {
   "cell_type": "markdown",
   "metadata": {
    "slideshow": {
     "slide_type": "slide"
    }
   },
   "source": [
    "## Acknowledgments"
   ]
  },
  {
   "cell_type": "markdown",
   "metadata": {
    "slideshow": {
     "slide_type": "fragment"
    }
   },
   "source": [
    "Thank you to Tom for his original design of this course."
   ]
  },
  {
   "cell_type": "markdown",
   "metadata": {
    "slideshow": {
     "slide_type": "fragment"
    }
   },
   "source": [
    "Thank you to the TAs & IAs for their tireless work on this class."
   ]
  },
  {
   "cell_type": "markdown",
   "metadata": {
    "slideshow": {
     "slide_type": "fragment"
    }
   },
   "source": [
    "Thank you students for you time, effort and patience. "
   ]
  },
  {
   "cell_type": "markdown",
   "metadata": {
    "slideshow": {
     "slide_type": "fragment"
    }
   },
   "source": [
    "It's been a weird ~quarter~ year and a half, and for many, things are tough. Please, take care of yourself."
   ]
  },
  {
   "cell_type": "markdown",
   "metadata": {
    "collapsed": true,
    "slideshow": {
     "slide_type": "slide"
    }
   },
   "source": [
    "<center><h1> The End "
   ]
  }
 ],
 "metadata": {
  "celltoolbar": "Slideshow",
  "kernelspec": {
   "display_name": "Python 3",
   "language": "python",
   "name": "python3"
  },
  "language_info": {
   "codemirror_mode": {
    "name": "ipython",
    "version": 3
   },
   "file_extension": ".py",
   "mimetype": "text/x-python",
   "name": "python",
   "nbconvert_exporter": "python",
   "pygments_lexer": "ipython3",
   "version": "3.7.7"
  }
 },
 "nbformat": 4,
 "nbformat_minor": 2
}
