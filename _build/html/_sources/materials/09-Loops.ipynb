{
 "cells": [
  {
   "cell_type": "markdown",
   "metadata": {
    "slideshow": {
     "slide_type": "slide"
    }
   },
   "source": [
    "**Course Announcements (Mon 1/31)**\n",
    "\n",
    "Due Dates:\n",
    "- **A2** due tonight(11:59 PM)\n",
    "- **CL5** due Wednesday\n",
    "\n",
    "Notes: \n",
    "- Some in-person labs and office hours this week (see Canvas)\n",
    "- **CL4** grades posted\n",
    "- **A3** will be made available this afternoon"
   ]
  },
  {
   "cell_type": "markdown",
   "metadata": {
    "slideshow": {
     "slide_type": "notes"
    }
   },
   "source": [
    "**Q&A  (Mon 1/31)**\n",
    "\n",
    "Q: Why is Python favored by many programmers? What are the benefits to using other programming languages?  \n",
    "A: It's often favored for its readability relative to other languages. Other languages however are faster, for example, and so are used instead of Python. Python is also used in many fields b/c of the external packages available that make doing a particular task easier in Python (i.e. data science, neuroscience, etc.)\n",
    "\n",
    "Q: how we can check if theres an error is the code still passes silently  \n",
    "A: Check the output - is it what you expected? Like in a math class, where you can calculate a number...but it's wildly wrong/doens't make sense for the question. Same idea applies here. Errors catch \"illegal\" operations in the code; it's up to you to make sure that the code is actually doing what you intended.\n",
    "\n",
    "Q: Why are syntax errors raised before any other error?  \n",
    "A: Because Python checks for those first, as the code cannot be processed/evaluated until those are corrected.\n",
    "\n",
    "Q: is there a way to autofill python? this would help misspelling   \n",
    "A: Yup - you can use tab completion. Start typing a variable, and then hit tab; will autocomplete the variable (assuming it exists)\n",
    "\n",
    "Q: When I look back at notes, I notice that they are changed. However, they are not changes I made. Is there a way for me to keep or retrieve the original notes?  \n",
    "A: Ah, so I post/update the notes with the changes reflected in class. I'll try to think on a way to keep original notes available.\n",
    "\n",
    "Q: will we remain remote after Jan.31st?  \n",
    "A: See announcemnets at beginning of class from this past Friday (and see updates to Canvas home page). Lectures still on zoom; some office hours and some labs in perons.\n",
    "\n",
    "Q: For lecture videos in the Media Gallery, why do some have subtitles/transcripts while others don't?  \n",
    "A: I've been wondering the same. I turn live transcript on every day in class...so I assumed subtitles would always be there, but recently they haven't been? I believe cc can always be turned on in Canvas; however, even if not automatic. Please reach out if you need CC and don't see it/don't know how to access.\n",
    "\n",
    "Q: I was curious if there was a way to change between mutables and immutables. For example, is there some command or method to change a list to a tuple and vice versa?  \n",
    "A: You can typecast. For example use `list()` with something you want to be a list inside parentheses, but that's the closest.\n",
    "\n",
    "Q: You mentioned that python checks for syntax errors first before like name errors for instance, so it seems like there is an order for how python checks for errors. I am wondering if we need to know that order.   \n",
    "A: You'll need to know it in the sense that you'll need to understand how to debug your code..but you won't be directly tested on this. \n",
    "\n",
    "Q: You mentioned that python checks for syntax errors first before like name errors for instance, so it seems like there is an order for how python checks for errors. I am wondering if we need to know that order.   \n",
    "A: It's not. It's due Wednesday. \n",
    "\n",
    "Q: what's offset mean in the debugging code?  \n",
    "A: It was a variable name chosen in the example used."
   ]
  },
  {
   "cell_type": "markdown",
   "metadata": {
    "slideshow": {
     "slide_type": "slide"
    }
   },
   "source": [
    "**Course Announcements (Wed 2/2)**\n",
    "\n",
    "Due Dates:\n",
    "- **CL5** due tonight\n",
    "- **A3** due Mon (11:59 PM)\n",
    "- [mid-course survey](https://docs.google.com/forms/d/e/1FAIpQLSdswcDdmqv_kogN7mGkhr_1DJ6jDMLPVblqlz_BZyxizZrOSw/viewform?usp=sf_link) \"due\" Mon (11:59 PM; optional for EC; link also on Canvas)\n",
    "\n",
    "Notes: \n",
    "- E1 grading underway - hope to post scores/discuss in class Monday\n",
    "- Happy Lunar New Year!"
   ]
  },
  {
   "cell_type": "markdown",
   "metadata": {
    "slideshow": {
     "slide_type": "notes"
    }
   },
   "source": [
    "**Q&A (Wed 2/2)**\n",
    "\n",
    "Q: I understand the difference between an \"if/else\" block and a \"try/except\" block, but I'm still confused on why or when we would want to use a \"try/except\" block. Wouldn't we want our code to not error at all? Or if it did error, why would we want our code to continue on and not be broken when we could fix that error instead?  \n",
    "A: Think about this in the context of a loop. Say you have 1000 emails that you want to send and there is a typo in the 400th email. Would you only want the first 399 to send and then error out and stop? *Or* would you want it to send all of the 999 emails, *except* the 400th and just send you a little message letting you know that one wouldn't send. In my mind, the latter is much better...and would be a perfect case for a try/except block!\n",
    "\n",
    "Q: For the debugging lecture, will there be any other errors that appear that we didnt go over?   \n",
    "A: There are some rare errors that exist that we didn't cover...but we discussed the vast majority of them.\n",
    "\n",
    "Q: When could/would we have functions in a loop? How different is a function from a loop?  \n",
    "A: It's more typical to have a loop in a function. We'll see examples of these coming up (lots in A3!) And, a function allows you to specify a set of instructions, which run/execute that set of instructions when you call the function. A loop on the other hand specifies some set of operations that you want to execute over and over again until a condition is no longer true (while loop) *or* until you reach the end of the collection you're looping over (for loop)\n",
    "\n",
    "Q: Learning that the placement of print statements inside loops can affect the loop itself (as shown in the bill, index example in class).  \n",
    "A: Just a reminder that the print statement did NOT change what the loop was doing. The placement of the print statement simply changed *when* a variable was being printed. The loop was still doing the same thing...it was just the print statement's location that changed.\n",
    "\n",
    "Q: What's difference of defining variable inside and outside the function?  \n",
    "A: A variable defined outside the function exists in your global namespace...so you can call it at any point in your notebook. A variable defined inside your function only exists in your local (function's) namespace...so you can only use it/reference it within your function.\n",
    "\n",
    "Q: I'm still a bit confused about the difference between loop and conditionals. Can you explain it again?  \n",
    "A: A conditional specifies which set of code should execute under which condition. A loop specifies to repeat a piece of code over and over again.\n",
    "\n",
    "Q: do we use print or return statements in loops?  \n",
    "A: `print()`. `return` is only to return output from functions\n",
    "\n",
    "Q: What specifically can we do with the raise function  \n",
    "A: Specify your own error messages to be used. We will *not* be requiring you to do this on your exam/assignments...but it's good to know it's possible to better understand that someone had to write the error messages you see...and b/c it is sometimes helpful when people go to do their final project.\n",
    "\n",
    "Q: What are prime examples of coding loops being used in real life?  \n",
    "A: Oh my gosh there are so many! Any time you want to do a process over and over again, think loops! So, while it's not a programming example, each day is a bit like a loop in that you probably have a similar process to get ready in the morning (shower, brush teeth, eat breakfast, etc.). We'll see lots and lots of programming examples in A3.\n",
    "\n",
    "Q: Will the answer be considered wrong if a print statement is not in the right place during a 'while' loop?  \n",
    "A: Nope. `print` statements are never required...they're there to help your understanding/to \"see\" what is going on inside the code.\n",
    "\n",
    "Q: I have downloaded Anaconda, but the jupyter notebook that it opens does not have the lecture notes or anything related to this course. Is there a way to transfer the files and assignment to the Anaconda Jupyter notebook.  \n",
    "A: To get the notes, you would want to download them from the website and then open them in Anaconda *or* click on the first link on the home page of Canvas to pull the notes into datahub (this is what most students do). Definitely something we could help you with in office hours! "
   ]
  },
  {
   "cell_type": "markdown",
   "metadata": {
    "slideshow": {
     "slide_type": "slide"
    }
   },
   "source": [
    "# Loops\n",
    "\n",
    "- `while`\n",
    "- `for`\n",
    "- `range`\n",
    "- `continue`\n",
    "- `break`"
   ]
  },
  {
   "cell_type": "markdown",
   "metadata": {
    "collapsed": true,
    "slideshow": {
     "slide_type": "slide"
    }
   },
   "source": [
    "### SideNote: counters"
   ]
  },
  {
   "cell_type": "code",
   "execution_count": 1,
   "metadata": {
    "slideshow": {
     "slide_type": "fragment"
    }
   },
   "outputs": [
    {
     "name": "stdout",
     "output_type": "stream",
     "text": [
      "0\n"
     ]
    }
   ],
   "source": [
    "# Initialize a counter variable\n",
    "counter = 0 \n",
    "print(counter)"
   ]
  },
  {
   "cell_type": "code",
   "execution_count": 2,
   "metadata": {
    "slideshow": {
     "slide_type": "fragment"
    }
   },
   "outputs": [
    {
     "name": "stdout",
     "output_type": "stream",
     "text": [
      "1\n"
     ]
    }
   ],
   "source": [
    "counter = counter + 1\n",
    "print(counter)"
   ]
  },
  {
   "cell_type": "code",
   "execution_count": 3,
   "metadata": {
    "slideshow": {
     "slide_type": "fragment"
    }
   },
   "outputs": [
    {
     "name": "stdout",
     "output_type": "stream",
     "text": [
      "2\n"
     ]
    }
   ],
   "source": [
    "counter = counter + 1\n",
    "print(counter)"
   ]
  },
  {
   "cell_type": "markdown",
   "metadata": {
    "slideshow": {
     "slide_type": "slide"
    }
   },
   "source": [
    "## Loops"
   ]
  },
  {
   "cell_type": "markdown",
   "metadata": {
    "slideshow": {
     "slide_type": "fragment"
    }
   },
   "source": [
    "<div class=\"alert alert-success\">\n",
    "A <b>loop</b> is a procedure to repeat a piece of code.\n",
    "</div>"
   ]
  },
  {
   "cell_type": "markdown",
   "metadata": {
    "slideshow": {
     "slide_type": "slide"
    }
   },
   "source": [
    "### Avoid copy + pasting\n",
    "\n",
    "For repetitive actions, if you find yourself copying + pasting, rethink your strategy.\n",
    "\n",
    "Loops are one way to avoid this."
   ]
  },
  {
   "cell_type": "code",
   "execution_count": null,
   "metadata": {
    "slideshow": {
     "slide_type": "fragment"
    }
   },
   "outputs": [],
   "source": [
    "lst = ['you@yahoo.com', 'them@bing.com']\n",
    "\n",
    "email = lst[0]\n",
    "\n",
    "email = lst[1]"
   ]
  },
  {
   "cell_type": "markdown",
   "metadata": {
    "slideshow": {
     "slide_type": "slide"
    }
   },
   "source": [
    "## `while` Loops"
   ]
  },
  {
   "cell_type": "markdown",
   "metadata": {
    "slideshow": {
     "slide_type": "fragment"
    }
   },
   "source": [
    "<div class=\"alert alert-success\">\n",
    "A <b>while loop</b> is a procedure to repeat a piece of code while some condition is still met. \n",
    "</div>"
   ]
  },
  {
   "cell_type": "markdown",
   "metadata": {
    "slideshow": {
     "slide_type": "fragment"
    }
   },
   "source": [
    "`while` loops always have the structure:\n",
    "\n",
    "```python\n",
    "while condition:\n",
    "    # Loop contents\n",
    "```\n",
    "\n",
    "While condition is true, execute the code contents. \n",
    "\n",
    "Repeat until condition is no longer True. "
   ]
  },
  {
   "cell_type": "markdown",
   "metadata": {
    "slideshow": {
     "slide_type": "slide"
    }
   },
   "source": [
    "### `while` Loop Example I"
   ]
  },
  {
   "cell_type": "code",
   "execution_count": 9,
   "metadata": {
    "slideshow": {
     "slide_type": "fragment"
    }
   },
   "outputs": [
    {
     "name": "stdout",
     "output_type": "stream",
     "text": [
      "-5\n",
      "-4\n",
      "-3\n",
      "-2\n",
      "-1\n"
     ]
    }
   ],
   "source": [
    "number = -5\n",
    "\n",
    "while number < 0:\n",
    "    print(number)\n",
    "    number = number + 1  # must have code to make condition evaluate as False at some point"
   ]
  },
  {
   "cell_type": "markdown",
   "metadata": {
    "slideshow": {
     "slide_type": "slide"
    }
   },
   "source": [
    "### `while` Loop Example II"
   ]
  },
  {
   "cell_type": "code",
   "execution_count": 22,
   "metadata": {
    "slideshow": {
     "slide_type": "-"
    }
   },
   "outputs": [
    {
     "name": "stdout",
     "output_type": "stream",
     "text": [
      "3 1\n",
      "7 2\n",
      "17 3\n",
      "20 4\n"
     ]
    }
   ],
   "source": [
    "shopping_budget = 20\n",
    "bill = 0\n",
    "index = 0\n",
    "prices = [3, 4, 10, 3, 2, 15, 7]\n",
    "\n",
    "while bill < shopping_budget:\n",
    "  \n",
    "    # add cost of item (prices) to bill\n",
    "    bill = bill + prices[index]\n",
    "    \n",
    "    # increment index each time through the loop\n",
    "    index = index + 1\n",
    "    \n",
    "    #print bill so we can see what's going on\n",
    "    print(bill, index)"
   ]
  },
  {
   "cell_type": "markdown",
   "metadata": {
    "collapsed": true,
    "slideshow": {
     "slide_type": "slide"
    }
   },
   "source": [
    "#### Clicker Question #1\n",
    "\n",
    "How many temperature values will be output from this `while` loop before \"The tea is cool enough.\" is printed?"
   ]
  },
  {
   "cell_type": "code",
   "execution_count": 8,
   "metadata": {
    "scrolled": false,
    "slideshow": {
     "slide_type": "fragment"
    }
   },
   "outputs": [
    {
     "name": "stdout",
     "output_type": "stream",
     "text": [
      "115\n",
      "114\n",
      "113\n",
      "The tea is cool enough.\n"
     ]
    }
   ],
   "source": [
    "temperature = 115\n",
    " \n",
    "while temperature > 112: \n",
    "    print(temperature)\n",
    "    temperature = temperature - 1\n",
    "    \n",
    "print('The tea is cool enough.')"
   ]
  },
  {
   "cell_type": "markdown",
   "metadata": {
    "slideshow": {
     "slide_type": "fragment"
    }
   },
   "source": [
    "- A) 1\n",
    "- B) 2\n",
    "- C) 3\n",
    "- D) 4\n",
    "- E) Infinite\n"
   ]
  },
  {
   "cell_type": "markdown",
   "metadata": {
    "collapsed": true,
    "slideshow": {
     "slide_type": "slide"
    }
   },
   "source": [
    "#### Clicker Question #2\n",
    "\n",
    "What will be the value of `counter` after this loop is run:"
   ]
  },
  {
   "cell_type": "code",
   "execution_count": 11,
   "metadata": {
    "slideshow": {
     "slide_type": "fragment"
    }
   },
   "outputs": [
    {
     "name": "stdout",
     "output_type": "stream",
     "text": [
      "4\n"
     ]
    }
   ],
   "source": [
    "keep_looping = True\n",
    "counter = 0\n",
    "\n",
    "while keep_looping:\n",
    "\n",
    "    counter = counter + 1\n",
    "    \n",
    "    if counter > 3:\n",
    "        keep_looping = False\n",
    "\n",
    "print(counter)"
   ]
  },
  {
   "cell_type": "markdown",
   "metadata": {
    "slideshow": {
     "slide_type": "fragment"
    }
   },
   "source": [
    "<pre> A) 0 | B) 2 | C) 3 | D) 4 | E) Infinite </pre> "
   ]
  },
  {
   "cell_type": "markdown",
   "metadata": {
    "slideshow": {
     "slide_type": "slide"
    }
   },
   "source": [
    "## `for` Loops"
   ]
  },
  {
   "cell_type": "markdown",
   "metadata": {
    "slideshow": {
     "slide_type": "fragment"
    }
   },
   "source": [
    "<div class=\"alert alert-success\">\n",
    "A <b>for loop</b> is a procedure a to repeat code for every element in a sequence.\n",
    "</div>"
   ]
  },
  {
   "cell_type": "markdown",
   "metadata": {
    "slideshow": {
     "slide_type": "slide"
    }
   },
   "source": [
    "### For Loop Example I\n",
    "\n",
    "Looping through a list of items"
   ]
  },
  {
   "cell_type": "code",
   "execution_count": 16,
   "metadata": {
    "scrolled": true,
    "slideshow": {
     "slide_type": "fragment"
    }
   },
   "outputs": [
    {
     "name": "stdout",
     "output_type": "stream",
     "text": [
      "A\n",
      "True\n",
      "12\n"
     ]
    }
   ],
   "source": [
    "# Define a list of items\n",
    "list_of_items = ['A', True, 12]\n",
    "\n",
    "# Loop across each element\n",
    "for my_item in list_of_items:\n",
    "     print(my_item)\n",
    "    \n",
    "# difference between printing within and outside loop\n",
    "# print(my_item)"
   ]
  },
  {
   "cell_type": "markdown",
   "metadata": {
    "slideshow": {
     "slide_type": "slide"
    }
   },
   "source": [
    "### For Loop Example II\n",
    "\n",
    "Looping through a string"
   ]
  },
  {
   "cell_type": "code",
   "execution_count": 28,
   "metadata": {
    "slideshow": {
     "slide_type": "fragment"
    }
   },
   "outputs": [
    {
     "name": "stdout",
     "output_type": "stream",
     "text": [
      "p\n",
      "y\n",
      "t\n",
      "h\n",
      "n\n"
     ]
    }
   ],
   "source": [
    "# Loop across items in a string\n",
    "vowels = ['A', 'E', 'I', 'O', 'U', 'a', 'e', 'i', 'o', 'u']\n",
    "my_string = 'python'\n",
    "\n",
    "for char in my_string:\n",
    "    if char not in vowels:\n",
    "        print(char)"
   ]
  },
  {
   "cell_type": "markdown",
   "metadata": {
    "collapsed": true,
    "slideshow": {
     "slide_type": "slide"
    }
   },
   "source": [
    "#### Clicker Question #3\n",
    "\n",
    "How many values will be `print`ed from this `for` loop before it *first* prints \"The tea is too hot!\"?"
   ]
  },
  {
   "cell_type": "code",
   "execution_count": 45,
   "metadata": {
    "scrolled": true,
    "slideshow": {
     "slide_type": "fragment"
    }
   },
   "outputs": [
    {
     "name": "stdout",
     "output_type": "stream",
     "text": [
      "114\n",
      "115\n",
      "116\n",
      "The tea is too hot!\n",
      "117\n",
      "The tea is too hot!\n",
      "118\n",
      "The tea is too hot!\n"
     ]
    }
   ],
   "source": [
    "temperatures = [114, 115, 116, 117, 118]\n",
    "\n",
    "for temp in temperatures: \n",
    "    print(temp)\n",
    "    \n",
    "    if temp > 115:\n",
    "        print('The tea is too hot!')\n"
   ]
  },
  {
   "cell_type": "markdown",
   "metadata": {
    "slideshow": {
     "slide_type": "fragment"
    }
   },
   "source": [
    "- A) 1\n",
    "- B) 2\n",
    "- C) 3\n",
    "- D) 4\n",
    "- E) Infinite\n"
   ]
  },
  {
   "cell_type": "markdown",
   "metadata": {
    "collapsed": true,
    "slideshow": {
     "slide_type": "slide"
    }
   },
   "source": [
    "## `range`"
   ]
  },
  {
   "cell_type": "markdown",
   "metadata": {
    "slideshow": {
     "slide_type": "fragment"
    }
   },
   "source": [
    "<div class=\"alert alert-success\">\n",
    "<code>range</code> is an operator to create a range of numbers, that is often used with loops.\n",
    "</div>"
   ]
  },
  {
   "cell_type": "markdown",
   "metadata": {
    "slideshow": {
     "slide_type": "slide"
    }
   },
   "source": [
    "### `range` Examples"
   ]
  },
  {
   "cell_type": "code",
   "execution_count": 33,
   "metadata": {},
   "outputs": [
    {
     "name": "stdout",
     "output_type": "stream",
     "text": [
      "0\n",
      "1\n",
      "2\n",
      "3\n",
      "4\n"
     ]
    }
   ],
   "source": [
    "for ind in [0, 1, 2, 3, 4]:\n",
    "    print(ind)"
   ]
  },
  {
   "cell_type": "code",
   "execution_count": 36,
   "metadata": {},
   "outputs": [
    {
     "name": "stdout",
     "output_type": "stream",
     "text": [
      "0 1 2 3 4\n"
     ]
    }
   ],
   "source": [
    "# the asterisk here unpacks the range\n",
    "# don't worry about this syntax now\n",
    "print(*range(0, 5))"
   ]
  },
  {
   "cell_type": "code",
   "execution_count": 37,
   "metadata": {
    "scrolled": true,
    "slideshow": {
     "slide_type": "fragment"
    }
   },
   "outputs": [
    {
     "name": "stdout",
     "output_type": "stream",
     "text": [
      "0\n",
      "1\n",
      "2\n",
      "3\n",
      "4\n"
     ]
    }
   ],
   "source": [
    "# Loop across a sequence of numbers, using range\n",
    "for ind in range(0, 5):\n",
    "    print(ind)"
   ]
  },
  {
   "cell_type": "code",
   "execution_count": 38,
   "metadata": {
    "scrolled": false,
    "slideshow": {
     "slide_type": "fragment"
    }
   },
   "outputs": [
    {
     "name": "stdout",
     "output_type": "stream",
     "text": [
      "2\n",
      "4\n"
     ]
    }
   ],
   "source": [
    "# Range, like indexing, is defined by 'start', 'stop', 'step'\n",
    "for ind in range(2, 6, 2):\n",
    "    print(ind)"
   ]
  },
  {
   "cell_type": "code",
   "execution_count": 49,
   "metadata": {
    "scrolled": true,
    "slideshow": {
     "slide_type": "fragment"
    }
   },
   "outputs": [
    {
     "name": "stdout",
     "output_type": "stream",
     "text": [
      "114\n",
      "115\n",
      "116\n",
      "The tea is too hot!\n",
      "117\n",
      "The tea is too hot!\n",
      "118\n",
      "The tea is too hot!\n"
     ]
    }
   ],
   "source": [
    "# using range in example above\n",
    "my_range = range(114, 119)\n",
    "\n",
    "for temp in my_range: \n",
    "    print(temp)\n",
    "    \n",
    "    if(temp > 115):\n",
    "        print('The tea is too hot!')"
   ]
  },
  {
   "cell_type": "markdown",
   "metadata": {
    "collapsed": true,
    "slideshow": {
     "slide_type": "slide"
    }
   },
   "source": [
    "#### Clicker Question #4\n",
    "\n",
    "How many values would this loop print and what would be the last value printed? "
   ]
  },
  {
   "cell_type": "code",
   "execution_count": 63,
   "metadata": {},
   "outputs": [
    {
     "name": "stdout",
     "output_type": "stream",
     "text": [
      "1 2 3 4 5 6 7 8 9\n"
     ]
    }
   ],
   "source": [
    "print(*range(1, 10))"
   ]
  },
  {
   "cell_type": "code",
   "execution_count": 50,
   "metadata": {
    "scrolled": true,
    "slideshow": {
     "slide_type": "fragment"
    }
   },
   "outputs": [
    {
     "name": "stdout",
     "output_type": "stream",
     "text": [
      "1\n",
      "4\n",
      "7\n"
     ]
    }
   ],
   "source": [
    "for ind in range(1, 10, 3):\n",
    "    print(ind)"
   ]
  },
  {
   "cell_type": "markdown",
   "metadata": {
    "slideshow": {
     "slide_type": "fragment"
    }
   },
   "source": [
    "- A) values printed: 3; last value: 7\n",
    "- B) values printed: 3; last value: 9\n",
    "- C) values printed: 4; last value: 9\n",
    "- D) values printed: 7; last value: 7\n",
    "- E) values printed: 7; last value: 9\n"
   ]
  },
  {
   "cell_type": "markdown",
   "metadata": {
    "slideshow": {
     "slide_type": "slide"
    }
   },
   "source": [
    "## `continue`"
   ]
  },
  {
   "cell_type": "markdown",
   "metadata": {
    "slideshow": {
     "slide_type": "fragment"
    }
   },
   "source": [
    "<div class=\"alert alert-success\">\n",
    "<code>continue</code> is a special operator to jump ahead to the next iteration of a loop.\n",
    "</div>"
   ]
  },
  {
   "cell_type": "markdown",
   "metadata": {
    "slideshow": {
     "slide_type": "slide"
    }
   },
   "source": [
    "### `continue` examples"
   ]
  },
  {
   "cell_type": "code",
   "execution_count": 51,
   "metadata": {
    "scrolled": true,
    "slideshow": {
     "slide_type": "fragment"
    }
   },
   "outputs": [
    {
     "name": "stdout",
     "output_type": "stream",
     "text": [
      "0\n",
      "1\n",
      "3\n"
     ]
    }
   ],
   "source": [
    "lst = [0, 1, 2, 3]\n",
    "\n",
    "for item in lst:\n",
    "    \n",
    "    if item == 2:\n",
    "        continue\n",
    "    \n",
    "    print(item)"
   ]
  },
  {
   "cell_type": "code",
   "execution_count": null,
   "metadata": {},
   "outputs": [],
   "source": [
    "course !="
   ]
  },
  {
   "cell_type": "code",
   "execution_count": 52,
   "metadata": {
    "slideshow": {
     "slide_type": "fragment"
    }
   },
   "outputs": [
    {
     "name": "stdout",
     "output_type": "stream",
     "text": [
      "cogs9\n",
      "cogs9!\n",
      "cogs108\n",
      "cogs108!\n"
     ]
    }
   ],
   "source": [
    "courses = ['cogs9', 'cogs18', 'cogs108']\n",
    "\n",
    "for course in courses:\n",
    "\n",
    "    if course == 'cogs18':\n",
    "        continue\n",
    "  \n",
    "    print(course)\n",
    "    print(course + '!')"
   ]
  },
  {
   "cell_type": "code",
   "execution_count": 53,
   "metadata": {
    "slideshow": {
     "slide_type": "fragment"
    }
   },
   "outputs": [
    {
     "name": "stdout",
     "output_type": "stream",
     "text": [
      "t\n",
      "h\n",
      "o\n",
      "n\n"
     ]
    }
   ],
   "source": [
    "string = \"python\"\n",
    "\n",
    "for char in string: \n",
    "    \n",
    "    if char == \"p\" or char == \"y\":\n",
    "        continue\n",
    "        \n",
    "    print(char)"
   ]
  },
  {
   "cell_type": "markdown",
   "metadata": {
    "slideshow": {
     "slide_type": "slide"
    }
   },
   "source": [
    "#### Clicker Question #5\n",
    "\n",
    "What will be the value of `counter` after this code has run:"
   ]
  },
  {
   "cell_type": "code",
   "execution_count": 7,
   "metadata": {},
   "outputs": [
    {
     "data": {
      "text/plain": [
       "False"
      ]
     },
     "execution_count": 7,
     "metadata": {},
     "output_type": "execute_result"
    }
   ],
   "source": [
    "'Friday' in my_lst"
   ]
  },
  {
   "cell_type": "code",
   "execution_count": 3,
   "metadata": {
    "slideshow": {
     "slide_type": "fragment"
    }
   },
   "outputs": [
    {
     "name": "stdout",
     "output_type": "stream",
     "text": [
      "False\n",
      "True\n",
      "False\n",
      "True\n",
      "0\n"
     ]
    }
   ],
   "source": [
    "counter = 0\n",
    "my_lst = [False, True, False, True]\n",
    "\n",
    "for item in my_lst:\n",
    "    if item in my_lst:\n",
    "        continue\n",
    "    else:\n",
    "        counter = counter + 1\n",
    "        \n",
    "print(counter)"
   ]
  },
  {
   "cell_type": "markdown",
   "metadata": {
    "slideshow": {
     "slide_type": "fragment"
    }
   },
   "source": [
    "- A) 0 \n",
    "- B) 1\n",
    "- C) 2 \n",
    "- D) 3\n",
    "- E) 4"
   ]
  },
  {
   "cell_type": "markdown",
   "metadata": {
    "slideshow": {
     "slide_type": "slide"
    }
   },
   "source": [
    "## `break`"
   ]
  },
  {
   "cell_type": "markdown",
   "metadata": {
    "slideshow": {
     "slide_type": "-"
    }
   },
   "source": [
    "<div class=\"alert alert-success\">\n",
    "<code>break</code> is a special operator to break out of a loop.\n",
    "</div>"
   ]
  },
  {
   "cell_type": "markdown",
   "metadata": {
    "slideshow": {
     "slide_type": "slide"
    }
   },
   "source": [
    "### `break` examples"
   ]
  },
  {
   "cell_type": "code",
   "execution_count": 54,
   "metadata": {
    "slideshow": {
     "slide_type": "fragment"
    }
   },
   "outputs": [
    {
     "name": "stdout",
     "output_type": "stream",
     "text": [
      "0\n",
      "1\n",
      "2\n"
     ]
    }
   ],
   "source": [
    "lst = [0, 1, 2, 3]\n",
    "\n",
    "for item in lst:\n",
    "        \n",
    "    if item == 2:    \n",
    "        break\n",
    "    \n",
    "    print(item)"
   ]
  },
  {
   "cell_type": "code",
   "execution_count": 9,
   "metadata": {
    "slideshow": {
     "slide_type": "fragment"
    }
   },
   "outputs": [
    {
     "name": "stdout",
     "output_type": "stream",
     "text": [
      "cogs9\n"
     ]
    }
   ],
   "source": [
    "courses = [\"cogs9\", \"cogs18\", \"cogs108\"]\n",
    "\n",
    "for course in courses:\n",
    "\n",
    "    if course == \"cogs18\":\n",
    "        break\n",
    "  \n",
    "    print(course)"
   ]
  },
  {
   "cell_type": "code",
   "execution_count": 10,
   "metadata": {
    "slideshow": {
     "slide_type": "fragment"
    }
   },
   "outputs": [
    {
     "name": "stdout",
     "output_type": "stream",
     "text": [
      "l\n",
      "o\n",
      "v\n",
      "e\n",
      " \n"
     ]
    }
   ],
   "source": [
    "string = \"love python\"\n",
    "\n",
    "for char in string: \n",
    "    if char == \"p\" or char == \"y\":\n",
    "        break\n",
    "        \n",
    "    print(char)"
   ]
  },
  {
   "cell_type": "code",
   "execution_count": 15,
   "metadata": {
    "scrolled": true,
    "slideshow": {
     "slide_type": "fragment"
    }
   },
   "outputs": [
    {
     "name": "stdout",
     "output_type": "stream",
     "text": [
      "114\n",
      "115\n",
      "116\n",
      "The tea is too hot!\n"
     ]
    }
   ],
   "source": [
    "# using range in example above\n",
    "for temp in range(114, 119): \n",
    "    print(temp)\n",
    "    \n",
    "    if(temp > 115):\n",
    "        print('The tea is too hot!')\n",
    "        break"
   ]
  },
  {
   "cell_type": "markdown",
   "metadata": {
    "collapsed": true,
    "slideshow": {
     "slide_type": "slide"
    }
   },
   "source": [
    "#### Clicker Question #6\n",
    "\n",
    "What will the following code print out:"
   ]
  },
  {
   "cell_type": "code",
   "execution_count": 61,
   "metadata": {
    "scrolled": true,
    "slideshow": {
     "slide_type": "fragment"
    }
   },
   "outputs": [
    {
     "name": "stdout",
     "output_type": "stream",
     "text": [
      "1\n",
      "2\n"
     ]
    }
   ],
   "source": [
    "number = 1\n",
    "\n",
    "while True:\n",
    "    if number % 3 == 0:\n",
    "        break\n",
    "   \n",
    "    print(number)\n",
    "    \n",
    "    number = number + 1"
   ]
  },
  {
   "cell_type": "markdown",
   "metadata": {
    "slideshow": {
     "slide_type": "fragment"
    }
   },
   "source": [
    "- A) 1 \n",
    "- B) 1 2 \n",
    "- C) 1 2 3\n",
    "- D) Something else \n",
    "- E) This code prints forever"
   ]
  },
  {
   "cell_type": "markdown",
   "metadata": {
    "slideshow": {
     "slide_type": "slide"
    }
   },
   "source": [
    "#### Clicker Question #7\n",
    "\n",
    "For how many `temp` will output be printed from this for loop? \n",
    "\n",
    "(In other words, how many times in this `for` loop will something be printed out?)"
   ]
  },
  {
   "cell_type": "code",
   "execution_count": null,
   "metadata": {
    "scrolled": false,
    "slideshow": {
     "slide_type": "fragment"
    }
   },
   "outputs": [],
   "source": [
    "# using range in example above\n",
    "for temp in range(114, 119): \n",
    "    \n",
    "    if(temp < 116):\n",
    "        continue\n",
    "    elif(temp == 116):\n",
    "        print('The tea is too hot!')\n",
    "    else:\n",
    "        break"
   ]
  },
  {
   "cell_type": "markdown",
   "metadata": {
    "slideshow": {
     "slide_type": "fragment"
    }
   },
   "source": [
    "- A) 0 \n",
    "- B) 1\n",
    "- C) 3\n",
    "- D) 5\n",
    "- E) 6"
   ]
  },
  {
   "cell_type": "markdown",
   "metadata": {
    "slideshow": {
     "slide_type": "slide"
    }
   },
   "source": [
    "#### Clicker Question #8\n",
    "\n",
    "What will be the value of `counter` after this code has run:"
   ]
  },
  {
   "cell_type": "code",
   "execution_count": 64,
   "metadata": {
    "slideshow": {
     "slide_type": "fragment"
    }
   },
   "outputs": [
    {
     "name": "stdout",
     "output_type": "stream",
     "text": [
      "2\n"
     ]
    }
   ],
   "source": [
    "counter = 0\n",
    "my_lst = [False, True, False, True]\n",
    "\n",
    "\n",
    "for item in my_lst:\n",
    "    if item:\n",
    "        continue\n",
    "    else:\n",
    "        counter = counter + 1\n",
    "        \n",
    "print(counter)"
   ]
  },
  {
   "cell_type": "markdown",
   "metadata": {
    "slideshow": {
     "slide_type": "fragment"
    }
   },
   "source": [
    "- A) 0 \n",
    "- B) 1\n",
    "- C) 2 \n",
    "- D) 3\n",
    "- E) 4"
   ]
  },
  {
   "cell_type": "markdown",
   "metadata": {
    "collapsed": true,
    "slideshow": {
     "slide_type": "slide"
    }
   },
   "source": [
    "### Dictionaries: Indexing & Looping"
   ]
  },
  {
   "cell_type": "code",
   "execution_count": 25,
   "metadata": {
    "scrolled": true
   },
   "outputs": [],
   "source": [
    "dictionary = {'key_1':1, 'key_2':2, 'key_3':3}"
   ]
  },
  {
   "cell_type": "code",
   "execution_count": 26,
   "metadata": {
    "scrolled": false,
    "slideshow": {
     "slide_type": "fragment"
    }
   },
   "outputs": [
    {
     "data": {
      "text/plain": [
       "1"
      ]
     },
     "execution_count": 26,
     "metadata": {},
     "output_type": "execute_result"
    }
   ],
   "source": [
    "# Dictionaries are indexed using their keys\n",
    "dictionary['key_1']"
   ]
  },
  {
   "cell_type": "code",
   "execution_count": 27,
   "metadata": {
    "scrolled": false,
    "slideshow": {
     "slide_type": "fragment"
    }
   },
   "outputs": [
    {
     "name": "stdout",
     "output_type": "stream",
     "text": [
      "Loop Iteration\n",
      "\tKey:\t key_1\n",
      "\tValue:\t 1\n",
      "Loop Iteration\n",
      "\tKey:\t key_2\n",
      "\tValue:\t 2\n",
      "Loop Iteration\n",
      "\tKey:\t key_3\n",
      "\tValue:\t 3\n"
     ]
    }
   ],
   "source": [
    "# Loop over a dictionary loops across the keys\n",
    "#   Inside the loop, you can use the key to access the associated value\n",
    "for item in dictionary:\n",
    "    print('Loop Iteration')\n",
    "    print('\\tKey:\\t', item)\n",
    "    print('\\tValue:\\t', dictionary[item])"
   ]
  },
  {
   "cell_type": "code",
   "execution_count": 28,
   "metadata": {
    "scrolled": false,
    "slideshow": {
     "slide_type": "fragment"
    }
   },
   "outputs": [
    {
     "name": "stdout",
     "output_type": "stream",
     "text": [
      "Loop Iteration\n",
      "\tKey:\t key_1\n",
      "\tValue:\t 1\n",
      "Loop Iteration\n",
      "\tKey:\t key_2\n",
      "\tValue:\t 2\n",
      "Loop Iteration\n",
      "\tKey:\t key_3\n",
      "\tValue:\t 3\n"
     ]
    }
   ],
   "source": [
    "# another approach that you will find if you Google\n",
    "for key, val in dictionary.items():\n",
    "    print('Loop Iteration')\n",
    "    print('\\tKey:\\t', key)\n",
    "    print('\\tValue:\\t', val)"
   ]
  },
  {
   "cell_type": "markdown",
   "metadata": {},
   "source": [
    "## Code Style: Loops\n",
    "\n",
    "- `for`/`while` statement with a colon at the end on first line\n",
    "- all code within the loop inside a code block (indented)"
   ]
  },
  {
   "cell_type": "markdown",
   "metadata": {
    "slideshow": {
     "slide_type": "fragment"
    }
   },
   "source": [
    "**Good Code Style**"
   ]
  },
  {
   "cell_type": "code",
   "execution_count": null,
   "metadata": {
    "slideshow": {
     "slide_type": "-"
    }
   },
   "outputs": [],
   "source": [
    "number = 5\n",
    "while number < 0:\n",
    "    print(number)\n",
    "    number = number + 1"
   ]
  },
  {
   "cell_type": "markdown",
   "metadata": {
    "slideshow": {
     "slide_type": "fragment"
    }
   },
   "source": [
    "**Code Style to Avoid**"
   ]
  },
  {
   "cell_type": "code",
   "execution_count": null,
   "metadata": {
    "slideshow": {
     "slide_type": "-"
    }
   },
   "outputs": [],
   "source": [
    "number=-5\n",
    "while number<0:print(number);number=number+1 # avoid all on a single line"
   ]
  },
  {
   "cell_type": "markdown",
   "metadata": {
    "slideshow": {
     "slide_type": "slide"
    }
   },
   "source": [
    "## Loops Practice"
   ]
  },
  {
   "cell_type": "markdown",
   "metadata": {
    "slideshow": {
     "slide_type": "-"
    }
   },
   "source": [
    "### Loops Practice #1\n",
    "\n",
    "Write a function `count_odd()` contatining a loop that will add all the *odd* numbers for the input range together."
   ]
  },
  {
   "cell_type": "code",
   "execution_count": 52,
   "metadata": {
    "slideshow": {
     "slide_type": "-"
    }
   },
   "outputs": [],
   "source": [
    "# YOUR CODE HERE\n",
    "# define function count_odd\n",
    "# takes a range of numbers as input\n",
    "# loop over each value in the range\n",
    "# inside the function check if is odd\n",
    "# add to output if it is odd\n",
    "\n",
    "def count_odd(input_range):\n",
    "    output = 0\n",
    "    for val in input_range:\n",
    "        if val % 2 == 0:\n",
    "            continue\n",
    "        else:\n",
    "            output = output + val\n",
    "    return output\n",
    "            "
   ]
  },
  {
   "cell_type": "code",
   "execution_count": 53,
   "metadata": {},
   "outputs": [
    {
     "data": {
      "text/plain": [
       "9"
      ]
     },
     "execution_count": 53,
     "metadata": {},
     "output_type": "execute_result"
    }
   ],
   "source": [
    "count_odd(range(1,6))"
   ]
  },
  {
   "cell_type": "markdown",
   "metadata": {
    "slideshow": {
     "slide_type": "-"
    }
   },
   "source": [
    "- A) I did it!\n",
    "- B) I think I did it.\n",
    "- C) I started but am now stuck.\n",
    "- D) I have no idea where to start."
   ]
  },
  {
   "cell_type": "markdown",
   "metadata": {
    "slideshow": {
     "slide_type": "slide"
    }
   },
   "source": [
    "### Loops Practice #2\n",
    "\n",
    "Write a function `count_vowels()` containing a loop that will loop through all the letters in `my_name` (the input parameter) and count all the vowels in your name."
   ]
  },
  {
   "cell_type": "code",
   "execution_count": 78,
   "metadata": {
    "slideshow": {
     "slide_type": "-"
    }
   },
   "outputs": [],
   "source": [
    "# YOUR CODE HERE\n",
    "def count_vowels(my_name):\n",
    "    vowel = ['A', 'E', 'I', 'O', 'U', 'a', 'e', 'i', 'o', 'u']\n",
    "    count = 0\n",
    "\n",
    "    # loop through each character in my_name\n",
    "    for ltr in my_name:\n",
    "        # if letter in name is a vowel\n",
    "        if ltr in vowel:\n",
    "            # count vowel\n",
    "            # count += 1 # shorthand; same as below\n",
    "            count = count + 1\n",
    "    \n",
    "    return count"
   ]
  },
  {
   "cell_type": "code",
   "execution_count": 77,
   "metadata": {},
   "outputs": [
    {
     "data": {
      "text/plain": [
       "5"
      ]
     },
     "execution_count": 77,
     "metadata": {},
     "output_type": "execute_result"
    }
   ],
   "source": [
    "count_vowels('ShannonAEO')"
   ]
  },
  {
   "cell_type": "markdown",
   "metadata": {
    "slideshow": {
     "slide_type": "-"
    }
   },
   "source": [
    "- A) I did it!\n",
    "- B) I think I did it.\n",
    "- C) I started but am now stuck.\n",
    "- D) I have no idea where to start."
   ]
  },
  {
   "cell_type": "markdown",
   "metadata": {
    "slideshow": {
     "slide_type": "slide"
    }
   },
   "source": [
    "### Loops Practice #3\n",
    "\n",
    "Write a function `create_dictionary` that takes two input lists `lst_1` and `lst_2`. Inside the function, join the two lists to form a dictionary `joined_dictionary` where the first element in `lst_1` is the first key in `joined_dictionary` and the the first element in `lst_2` is the first value in `joined_dictionary` and so on and so forth. Then return `joined_dictionary` as the output. \n",
    "\n",
    "A) I did it! &emsp;B) I think I did it. &emsp;C) I tried but I am stuck. &emsp;D) Super duper lost"
   ]
  },
  {
   "cell_type": "code",
   "execution_count": 79,
   "metadata": {
    "slideshow": {
     "slide_type": "fragment"
    }
   },
   "outputs": [],
   "source": [
    "# YOUR CODE HERE\n",
    "def create_dictionary(lst_1, lst_2):\n",
    "    \n",
    "    joined_dictionary = {}\n",
    "    counter = 0\n",
    "\n",
    "    for key in lst_1:\n",
    "        joined_dictionary[key] = lst_2[counter]\n",
    "        counter += 1\n",
    "\n",
    "    return joined_dictionary"
   ]
  },
  {
   "cell_type": "code",
   "execution_count": 80,
   "metadata": {},
   "outputs": [
    {
     "data": {
      "text/plain": [
       "{'a': 1, 'b': 2, 'c': 3, 'd': 4}"
      ]
     },
     "execution_count": 80,
     "metadata": {},
     "output_type": "execute_result"
    }
   ],
   "source": [
    "# TEST YOUR FUNCTION HERE\n",
    "# Note that the two input lists are the \n",
    "# same length for the function to work properly\n",
    "random_lst_1 = ['a', 'b', 'c', 'd']\n",
    "random_lst_2 = [1, 2, 3, 4]\n",
    "\n",
    "create_dictionary(random_lst_1, random_lst_2)"
   ]
  }
 ],
 "metadata": {
  "celltoolbar": "Slideshow",
  "kernelspec": {
   "display_name": "Python 3 (ipykernel)",
   "language": "python",
   "name": "python3"
  },
  "language_info": {
   "codemirror_mode": {
    "name": "ipython",
    "version": 3
   },
   "file_extension": ".py",
   "mimetype": "text/x-python",
   "name": "python",
   "nbconvert_exporter": "python",
   "pygments_lexer": "ipython3",
   "version": "3.9.7"
  },
  "rise": {
   "scroll": true
  }
 },
 "nbformat": 4,
 "nbformat_minor": 2
}
