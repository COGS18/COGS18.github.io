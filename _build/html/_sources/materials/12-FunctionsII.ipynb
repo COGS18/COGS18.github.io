{
 "cells": [
  {
   "cell_type": "markdown",
   "metadata": {
    "slideshow": {
     "slide_type": "slide"
    }
   },
   "source": [
    "**Course Announcements**\n",
    "\n",
    "- CL5 due tonight (11:59 PM)\n",
    "- A3 due Monday 11/1 (11:59 PM)\n",
    "- mid-course survey now [available](https://docs.google.com/forms/d/e/1FAIpQLSfZVIyKtegSiD3oRiKT6BwnQbTMFELxXwfhCuyKa1CmMsCk0A/viewform?usp=sf_link) (*optional*; link also on Canvas; due Mon 11/1 for extra credit)\n",
    "- E1 regrades open until Thursday night\n",
    "\n",
    "- podcast subtitles?"
   ]
  },
  {
   "cell_type": "markdown",
   "metadata": {
    "slideshow": {
     "slide_type": "notes"
    }
   },
   "source": [
    "**Q&A**\n",
    "\n",
    "Q: For the sort_array algorithm, is lowest = None the only way to put the first item into comparison? This part is a little confusing.  \n",
    "A: Nope! There are other approaches. For example, you could index into the first value in the list and store that in `lowest` and then do the comparison from there!\n",
    "\n",
    "Q: I am confident at understanding the code for sorting, but I am not confident at writing a code like that. Will there be questions like that in homework? Is there any tip for writing a complex code like that?  \n",
    "A: No homework or exam question will require *that* much code; however, the tricks for writing that code is to first *plan*. Plan *what* your approach would be (without actually writing code...just getting the ideas down on paper) prior to writing the code. Then, write one piece at a time. Write the for loop. Make sure that works as intended. Then the conditional..make sure that works, testing out your function as you go. Until you get it completely done! Part I of CL5 helps you start this \"plan it first\" idea.\n",
    "\n",
    "Q: Can I use sort_array function for tuple?  \n",
    "A: Try it out! (But yes, it will work like a list)\n",
    "\n",
    "Q: What is the difference between an algorithm and a function?   \n",
    "A: We define functions to carry out the steps of an algorithm. \n",
    "\n",
    "Q: Will we be given all of the functions that we will need such as the sort function that we learned in order to complete exams and assignments?  \n",
    "A: Nope. You will be writing lots of your own functions from here on out! (For those functions like `sorted` that already exist, you will be reminded that they exist and encouraged to use them.)\n",
    "\n",
    "Q: How do you use an apostrophe in a string (for example I want to write it's) without the string being interrupted by the apostrophe?   \n",
    "A: Use double quotes to start and end your string and the apostrophe inside your string.\n",
    "\n",
    "Q: How would we know if we made a mistake (in python) when it comes to sorting? How would we fix it?  \n",
    "A: The first way is to execute your function and see if the output is what you expect. The other is to write unit tests. We'll talk about those soon! And, you would fix the mistake by figuring out where your code was incorrect inside the function definition.\n",
    "\n",
    "Q: To what extent are we going to have to know how to utilize dictionaries on future exams?   \n",
    "A: There will be dictionary questions on future exams. You will need to know how to do all the things - define them, loop through them, index into them, etc.\n",
    "\n",
    "Q: do we have to use sort_array(array_to_sort = [array name]) or can we just put sort_array([array_name]) with the array name by itself?  \n",
    "A: You can do either. Today's lecture will explain more/why!"
   ]
  },
  {
   "cell_type": "markdown",
   "metadata": {
    "slideshow": {
     "slide_type": "slide"
    }
   },
   "source": [
    "# Functions II\n",
    "\n",
    "- quick review\n",
    "- more on user-defined functions\n",
    "    - function arguments: postional v.s. keywords\n",
    "    - default values in function arguments\n",
    "    - nested functions\n",
    "- methods\n",
    "    - difference/similarity between functions/ methods\n",
    "    - string, list, & dictionary methods\n",
    "    - in place vs not in place methods"
   ]
  },
  {
   "cell_type": "markdown",
   "metadata": {
    "slideshow": {
     "slide_type": "slide"
    }
   },
   "source": [
    "### Quick review: Functions\n",
    "\n",
    "1. `def` defines a function\n",
    "2. `function_name()` - parentheses are required to execute a function\n",
    "3. `function_name(input1)` - input parameters are specified within the function parentheses \n",
    "4. `function_name(input1, input2)` - functions can take multiple parameters as inputs\n",
    "    - `input1` and `input2` can then be used within your function when it executes\n",
    "5. To store the output from a function, you'll need a `return` statement"
   ]
  },
  {
   "cell_type": "markdown",
   "metadata": {
    "slideshow": {
     "slide_type": "fragment"
    }
   },
   "source": [
    "#### For example....\n",
    "\n",
    "If you write a function called `is_odd()` which takes an input `value`, "
   ]
  },
  {
   "cell_type": "code",
   "execution_count": 2,
   "metadata": {
    "slideshow": {
     "slide_type": "fragment"
    }
   },
   "outputs": [],
   "source": [
    "def is_odd(value):\n",
    "    if value % 2 != 0:\n",
    "        answer = True\n",
    "    else:\n",
    "        answer = False\n",
    "    \n",
    "    return answer"
   ]
  },
  {
   "cell_type": "markdown",
   "metadata": {
    "slideshow": {
     "slide_type": "fragment"
    }
   },
   "source": [
    "to use that function, you would execute `is_odd(value)` ....something like `is_odd(value = 6)`"
   ]
  },
  {
   "cell_type": "code",
   "execution_count": 3,
   "metadata": {
    "slideshow": {
     "slide_type": "fragment"
    }
   },
   "outputs": [
    {
     "data": {
      "text/plain": [
       "(False, True)"
      ]
     },
     "execution_count": 3,
     "metadata": {},
     "output_type": "execute_result"
    }
   ],
   "source": [
    "out1 = is_odd(6)\n",
    "out2 = is_odd(7)\n",
    "out1,out2"
   ]
  },
  {
   "cell_type": "markdown",
   "metadata": {
    "slideshow": {
     "slide_type": "slide"
    }
   },
   "source": [
    "#### Clicker Question #1\n",
    "\n",
    "What will the following code snippet print?"
   ]
  },
  {
   "cell_type": "code",
   "execution_count": 4,
   "metadata": {
    "slideshow": {
     "slide_type": "fragment"
    }
   },
   "outputs": [
    {
     "name": "stdout",
     "output_type": "stream",
     "text": [
      "[1, 2, 3]\n"
     ]
    }
   ],
   "source": [
    "def my_func(my_dictionary):\n",
    "    \n",
    "    output = []\n",
    "\n",
    "    for item in my_dictionary:\n",
    "        value = my_dictionary[item]\n",
    "        output.append(value) #append method adds an item to end of a list\n",
    "    \n",
    "    return output\n",
    "\n",
    "# create dictionary and execute function\n",
    "dictionary = {'first' : 1, 'second' : 2, 'third' : 3}\n",
    "out = my_func(dictionary)\n",
    "\n",
    "print(out)"
   ]
  },
  {
   "cell_type": "markdown",
   "metadata": {
    "slideshow": {
     "slide_type": "fragment"
    }
   },
   "source": [
    "- A) ['first', 'second', 'third'] \n",
    "- B) {1, 2, 3}\n",
    "- C) ['first', 1, 'second', 2, 'third', 3] \n",
    "- D) [1, 2, 3] \n",
    "- E) None"
   ]
  },
  {
   "cell_type": "markdown",
   "metadata": {
    "slideshow": {
     "slide_type": "slide"
    }
   },
   "source": [
    "## Positional vs. Keyword Arguments"
   ]
  },
  {
   "cell_type": "markdown",
   "metadata": {
    "slideshow": {
     "slide_type": "fragment"
    }
   },
   "source": [
    "<div class=\"alert alert-success\">\n",
    "Arguments to a function can be indicated by either position or keyword.\n",
    "</div>"
   ]
  },
  {
   "cell_type": "code",
   "execution_count": 5,
   "metadata": {
    "slideshow": {
     "slide_type": "fragment"
    }
   },
   "outputs": [],
   "source": [
    "def exponentiate(number, exponent):    \n",
    "    return number ** exponent"
   ]
  },
  {
   "cell_type": "code",
   "execution_count": 6,
   "metadata": {
    "slideshow": {
     "slide_type": "fragment"
    }
   },
   "outputs": [
    {
     "data": {
      "text/plain": [
       "8"
      ]
     },
     "execution_count": 6,
     "metadata": {},
     "output_type": "execute_result"
    }
   ],
   "source": [
    "# Positional arguments use the position of the input value to infer which argument each value relates to\n",
    "exponentiate(2, 3)"
   ]
  },
  {
   "cell_type": "code",
   "execution_count": 7,
   "metadata": {
    "slideshow": {
     "slide_type": "fragment"
    }
   },
   "outputs": [
    {
     "data": {
      "text/plain": [
       "8"
      ]
     },
     "execution_count": 7,
     "metadata": {},
     "output_type": "execute_result"
    }
   ],
   "source": [
    "# Keyword arguments are explicitly named as to which argument each value relates to\n",
    "exponentiate(number = 2, exponent = 3)"
   ]
  },
  {
   "cell_type": "markdown",
   "metadata": {
    "slideshow": {
     "slide_type": "fragment"
    }
   },
   "source": [
    "Note: when using Keyword arguments position/order no longer matters, but try to keep them in the same order as they're defined in the function to avoid confusion."
   ]
  },
  {
   "cell_type": "code",
   "execution_count": 8,
   "metadata": {
    "slideshow": {
     "slide_type": "fragment"
    }
   },
   "outputs": [
    {
     "data": {
      "text/plain": [
       "8"
      ]
     },
     "execution_count": 8,
     "metadata": {},
     "output_type": "execute_result"
    }
   ],
   "source": [
    "exponentiate(exponent = 3, number = 2)"
   ]
  },
  {
   "cell_type": "code",
   "execution_count": 9,
   "metadata": {
    "slideshow": {
     "slide_type": "fragment"
    }
   },
   "outputs": [
    {
     "ename": "SyntaxError",
     "evalue": "positional argument follows keyword argument (<ipython-input-9-82d192fd1eb1>, line 3)",
     "output_type": "error",
     "traceback": [
      "\u001b[0;36m  File \u001b[0;32m\"<ipython-input-9-82d192fd1eb1>\"\u001b[0;36m, line \u001b[0;32m3\u001b[0m\n\u001b[0;31m    exponentiate(number = 2, 3)\u001b[0m\n\u001b[0m                              ^\u001b[0m\n\u001b[0;31mSyntaxError\u001b[0m\u001b[0;31m:\u001b[0m positional argument follows keyword argument\n"
     ]
    }
   ],
   "source": [
    "# Note: once you have a keyword argument, you can't have other positional arguments afterwards\n",
    "# this cell will produce an error\n",
    "exponentiate(number = 2, 3)"
   ]
  },
  {
   "cell_type": "markdown",
   "metadata": {
    "slideshow": {
     "slide_type": "slide"
    }
   },
   "source": [
    "## Default Values"
   ]
  },
  {
   "cell_type": "markdown",
   "metadata": {
    "slideshow": {
     "slide_type": "subslide"
    }
   },
   "source": [
    "<div class=\"alert alert-success\">\n",
    "Function parameters can also take <b>default values</b>. This makes some parameters optional, as they take a default value if not otherwise specified.\n",
    "</div>"
   ]
  },
  {
   "cell_type": "markdown",
   "metadata": {
    "slideshow": {
     "slide_type": "slide"
    }
   },
   "source": [
    "#### Default Value Functions\n",
    "\n",
    "Specify a default value in a function by doing an assignment within the function definition.\n",
    "Soo... What's the purpose of default values? \n",
    "1. Sometimes, you know something will have a particular value most often, so it's more convenient to set up a default value\n",
    "2. Or, you might have many arguments in one function, by specifying a default, you don't have to manually input all values"
   ]
  },
  {
   "cell_type": "code",
   "execution_count": 11,
   "metadata": {
    "slideshow": {
     "slide_type": "fragment"
    }
   },
   "outputs": [],
   "source": [
    "# Create a function, that has a default values for a parameter\n",
    "# Save time when we know exponengt often takes the value of 2\n",
    "def exponentiate(number, exponent = 2):\n",
    "    return number ** exponent"
   ]
  },
  {
   "cell_type": "code",
   "execution_count": 12,
   "metadata": {
    "slideshow": {
     "slide_type": "fragment"
    }
   },
   "outputs": [
    {
     "data": {
      "text/plain": [
       "9"
      ]
     },
     "execution_count": 12,
     "metadata": {},
     "output_type": "execute_result"
    }
   ],
   "source": [
    "# Use the function, using default value\n",
    "exponentiate(3)"
   ]
  },
  {
   "cell_type": "code",
   "execution_count": 13,
   "metadata": {
    "scrolled": true,
    "slideshow": {
     "slide_type": "fragment"
    }
   },
   "outputs": [
    {
     "name": "stdout",
     "output_type": "stream",
     "text": [
      "8 8\n"
     ]
    }
   ],
   "source": [
    "# Call the function, over-riding default value with something else\n",
    "a = exponentiate(2, 3)\n",
    "b = exponentiate(number = 2, exponent = 3)\n",
    "print(a,b)"
   ]
  },
  {
   "cell_type": "markdown",
   "metadata": {
    "slideshow": {
     "slide_type": "slide"
    }
   },
   "source": [
    "#### Clicker Question #2\n",
    "\n",
    "What will the following code snippet print?"
   ]
  },
  {
   "cell_type": "code",
   "execution_count": 14,
   "metadata": {
    "slideshow": {
     "slide_type": "fragment"
    }
   },
   "outputs": [
    {
     "data": {
      "text/plain": [
       "8"
      ]
     },
     "execution_count": 14,
     "metadata": {},
     "output_type": "execute_result"
    }
   ],
   "source": [
    "def exponentiate(number, exponent = 2):    \n",
    "    return number ** exponent\n",
    "\n",
    "exponentiate(exponent = 3, number = 2)"
   ]
  },
  {
   "cell_type": "markdown",
   "metadata": {
    "slideshow": {
     "slide_type": "fragment"
    }
   },
   "source": [
    "- A) 8\n",
    "- B) 9\n",
    "- C) SyntaxError\n",
    "- D) None\n"
   ]
  },
  {
   "cell_type": "markdown",
   "metadata": {
    "slideshow": {
     "slide_type": "slide"
    }
   },
   "source": [
    "### Nested functions (functions within functions)\n",
    "- a function which is defined within another function"
   ]
  },
  {
   "cell_type": "code",
   "execution_count": 16,
   "metadata": {
    "slideshow": {
     "slide_type": "fragment"
    }
   },
   "outputs": [],
   "source": [
    "def is_odd(value):\n",
    "    if value % 2 != 0:\n",
    "        answer = True\n",
    "    else:\n",
    "        answer = False\n",
    "    \n",
    "    return answer"
   ]
  },
  {
   "cell_type": "code",
   "execution_count": 18,
   "metadata": {
    "slideshow": {
     "slide_type": "fragment"
    }
   },
   "outputs": [],
   "source": [
    "def new_function(my_list):\n",
    "    output = []\n",
    "    for val in my_list:\n",
    "        print('the value of val is: ', val)\n",
    "        print('the function is_odd(val) will evaluate to: ', is_odd(val), '\\n')\n",
    "        if is_odd(val):\n",
    "            output.append('yay!')\n",
    "            print('the output list is: ', output, '\\n')\n",
    "    return output "
   ]
  },
  {
   "cell_type": "code",
   "execution_count": 19,
   "metadata": {
    "scrolled": true,
    "slideshow": {
     "slide_type": "fragment"
    }
   },
   "outputs": [
    {
     "name": "stdout",
     "output_type": "stream",
     "text": [
      "the value of val is:  1\n",
      "the function is_odd(val) will evaluate to:  True \n",
      "\n",
      "the output list is:  ['yay!'] \n",
      "\n",
      "the value of val is:  2\n",
      "the function is_odd(val) will evaluate to:  False \n",
      "\n",
      "the value of val is:  3\n",
      "the function is_odd(val) will evaluate to:  True \n",
      "\n",
      "the output list is:  ['yay!', 'yay!'] \n",
      "\n",
      "the value of val is:  4\n",
      "the function is_odd(val) will evaluate to:  False \n",
      "\n"
     ]
    },
    {
     "data": {
      "text/plain": [
       "['yay!', 'yay!']"
      ]
     },
     "execution_count": 19,
     "metadata": {},
     "output_type": "execute_result"
    }
   ],
   "source": [
    "new_function([1,2,3,4])"
   ]
  },
  {
   "cell_type": "markdown",
   "metadata": {
    "collapsed": true,
    "slideshow": {
     "slide_type": "slide"
    }
   },
   "source": [
    "## Methods"
   ]
  },
  {
   "cell_type": "markdown",
   "metadata": {
    "slideshow": {
     "slide_type": "fragment"
    }
   },
   "source": [
    "<div class=\"alert alert-success\">\n",
    "<b>Methods</b> are functions that are defined and called directly on an object. \n",
    "</div>\n",
    "\n",
    "<div class=\"alert alert-success\">\n",
    "For our purposes, <b>objects</b> are any data variable. \n",
    "</div>"
   ]
  },
  {
   "cell_type": "markdown",
   "metadata": {
    "slideshow": {
     "slide_type": "slide"
    }
   },
   "source": [
    "### Method Examples\n",
    "\n",
    "A method is a function applied directly to the object you call it on."
   ]
  },
  {
   "cell_type": "markdown",
   "metadata": {
    "slideshow": {
     "slide_type": "fragment"
    }
   },
   "source": [
    "General form of a method:\n",
    "\n",
    "```python\n",
    "object.method()\n",
    "```"
   ]
  },
  {
   "cell_type": "markdown",
   "metadata": {
    "slideshow": {
     "slide_type": "fragment"
    }
   },
   "source": [
    "In other words: methods \"belong to\" an object."
   ]
  },
  {
   "cell_type": "code",
   "execution_count": 20,
   "metadata": {
    "slideshow": {
     "slide_type": "fragment"
    }
   },
   "outputs": [
    {
     "name": "stdout",
     "output_type": "stream",
     "text": [
      "[1, 2, 3, 4]\n"
     ]
    }
   ],
   "source": [
    "# The `append` method, defined on lists\n",
    "my_list = [1, 2, 3]\n",
    "my_list.append(4)\n",
    "print(my_list)"
   ]
  },
  {
   "cell_type": "markdown",
   "metadata": {
    "slideshow": {
     "slide_type": "fragment"
    }
   },
   "source": [
    "The method `append()` is called directly on the list `my_list`"
   ]
  },
  {
   "cell_type": "code",
   "execution_count": 23,
   "metadata": {
    "slideshow": {
     "slide_type": "fragment"
    }
   },
   "outputs": [],
   "source": [
    "# append is a method for lists\n",
    "# this will error with a string\n",
    "my_string = 'cogs18'\n",
    "#my_string.append('!')\n",
    "#my_string + '!'"
   ]
  },
  {
   "cell_type": "code",
   "execution_count": 25,
   "metadata": {
    "slideshow": {
     "slide_type": "fragment"
    }
   },
   "outputs": [
    {
     "data": {
      "text/plain": [
       "True"
      ]
     },
     "execution_count": 25,
     "metadata": {},
     "output_type": "execute_result"
    }
   ],
   "source": [
    "# The `is_integer()` method, defined on floats\n",
    "my_float = 12.0\n",
    "my_float.is_integer()"
   ]
  },
  {
   "cell_type": "code",
   "execution_count": 26,
   "metadata": {
    "slideshow": {
     "slide_type": "fragment"
    }
   },
   "outputs": [
    {
     "ename": "AttributeError",
     "evalue": "'int' object has no attribute 'is_integer'",
     "output_type": "error",
     "traceback": [
      "\u001b[0;31m---------------------------------------------------------------------------\u001b[0m",
      "\u001b[0;31mAttributeError\u001b[0m                            Traceback (most recent call last)",
      "\u001b[0;32m<ipython-input-26-ba89eed6f102>\u001b[0m in \u001b[0;36m<module>\u001b[0;34m\u001b[0m\n\u001b[1;32m      2\u001b[0m \u001b[0;31m# this code will produce an error\u001b[0m\u001b[0;34m\u001b[0m\u001b[0;34m\u001b[0m\u001b[0;34m\u001b[0m\u001b[0m\n\u001b[1;32m      3\u001b[0m \u001b[0mmy_int\u001b[0m \u001b[0;34m=\u001b[0m \u001b[0;36m12\u001b[0m\u001b[0;34m\u001b[0m\u001b[0;34m\u001b[0m\u001b[0m\n\u001b[0;32m----> 4\u001b[0;31m \u001b[0mmy_int\u001b[0m\u001b[0;34m.\u001b[0m\u001b[0mis_integer\u001b[0m\u001b[0;34m(\u001b[0m\u001b[0;34m)\u001b[0m\u001b[0;34m\u001b[0m\u001b[0;34m\u001b[0m\u001b[0m\n\u001b[0m",
      "\u001b[0;31mAttributeError\u001b[0m: 'int' object has no attribute 'is_integer'"
     ]
    }
   ],
   "source": [
    "# The `is_integer()` method, attempted on an integer\n",
    "# this code will produce an error\n",
    "my_int = 12\n",
    "my_int.is_integer()"
   ]
  },
  {
   "cell_type": "markdown",
   "metadata": {
    "slideshow": {
     "slide_type": "slide"
    }
   },
   "source": [
    "## Finding Methods"
   ]
  },
  {
   "cell_type": "markdown",
   "metadata": {
    "slideshow": {
     "slide_type": "fragment"
    }
   },
   "source": [
    "Typing the object/variable name you want to find methods for followed by a '.' and then pressing tab will display all the methods available for that type of object."
   ]
  },
  {
   "cell_type": "code",
   "execution_count": null,
   "metadata": {
    "slideshow": {
     "slide_type": "fragment"
    }
   },
   "outputs": [],
   "source": [
    "# Define a test string\n",
    "my_string = 'Python'"
   ]
  },
  {
   "cell_type": "code",
   "execution_count": null,
   "metadata": {
    "slideshow": {
     "slide_type": "fragment"
    }
   },
   "outputs": [],
   "source": [
    "# See all the available methods on an object with tab complete\n",
    "# Make sure that the cursor is right next to the period when you press TAB !!!!!!\n",
    "my_string."
   ]
  },
  {
   "cell_type": "markdown",
   "metadata": {
    "slideshow": {
     "slide_type": "fragment"
    }
   },
   "source": [
    "Using the function `dir()` returns all methods available"
   ]
  },
  {
   "cell_type": "code",
   "execution_count": 27,
   "metadata": {
    "slideshow": {
     "slide_type": "fragment"
    }
   },
   "outputs": [
    {
     "data": {
      "text/plain": [
       "['__add__',\n",
       " '__class__',\n",
       " '__contains__',\n",
       " '__delattr__',\n",
       " '__dir__',\n",
       " '__doc__',\n",
       " '__eq__',\n",
       " '__format__',\n",
       " '__ge__',\n",
       " '__getattribute__',\n",
       " '__getitem__',\n",
       " '__getnewargs__',\n",
       " '__gt__',\n",
       " '__hash__',\n",
       " '__init__',\n",
       " '__init_subclass__',\n",
       " '__iter__',\n",
       " '__le__',\n",
       " '__len__',\n",
       " '__lt__',\n",
       " '__mod__',\n",
       " '__mul__',\n",
       " '__ne__',\n",
       " '__new__',\n",
       " '__reduce__',\n",
       " '__reduce_ex__',\n",
       " '__repr__',\n",
       " '__rmod__',\n",
       " '__rmul__',\n",
       " '__setattr__',\n",
       " '__sizeof__',\n",
       " '__str__',\n",
       " '__subclasshook__',\n",
       " 'capitalize',\n",
       " 'casefold',\n",
       " 'center',\n",
       " 'count',\n",
       " 'encode',\n",
       " 'endswith',\n",
       " 'expandtabs',\n",
       " 'find',\n",
       " 'format',\n",
       " 'format_map',\n",
       " 'index',\n",
       " 'isalnum',\n",
       " 'isalpha',\n",
       " 'isascii',\n",
       " 'isdecimal',\n",
       " 'isdigit',\n",
       " 'isidentifier',\n",
       " 'islower',\n",
       " 'isnumeric',\n",
       " 'isprintable',\n",
       " 'isspace',\n",
       " 'istitle',\n",
       " 'isupper',\n",
       " 'join',\n",
       " 'ljust',\n",
       " 'lower',\n",
       " 'lstrip',\n",
       " 'maketrans',\n",
       " 'partition',\n",
       " 'removeprefix',\n",
       " 'removesuffix',\n",
       " 'replace',\n",
       " 'rfind',\n",
       " 'rindex',\n",
       " 'rjust',\n",
       " 'rpartition',\n",
       " 'rsplit',\n",
       " 'rstrip',\n",
       " 'split',\n",
       " 'splitlines',\n",
       " 'startswith',\n",
       " 'strip',\n",
       " 'swapcase',\n",
       " 'title',\n",
       " 'translate',\n",
       " 'upper',\n",
       " 'zfill']"
      ]
     },
     "execution_count": 27,
     "metadata": {},
     "output_type": "execute_result"
    }
   ],
   "source": [
    "# For our purposes now, you can ignore any leading underscores (these are special methods)\n",
    "dir(my_string)"
   ]
  },
  {
   "cell_type": "markdown",
   "metadata": {
    "slideshow": {
     "slide_type": "slide"
    }
   },
   "source": [
    "## Correspondance Between Functions & Methods"
   ]
  },
  {
   "cell_type": "markdown",
   "metadata": {
    "slideshow": {
     "slide_type": "fragment"
    }
   },
   "source": [
    "Note that:\n",
    "\n",
    "```python\n",
    "my_variable.method_call()\n",
    "```\n",
    "\n",
    "acts like:\n",
    "\n",
    "```python\n",
    "function_call(my_variable)\n",
    "```\n",
    "\n",
    "We call methods directly on the variable to demonstrate that it is attached to that variable type.\n",
    "\n",
    "**Don't forget the parentheses!! The parentheses ( ) indicates executing code**"
   ]
  },
  {
   "cell_type": "code",
   "execution_count": 28,
   "metadata": {
    "slideshow": {
     "slide_type": "fragment"
    }
   },
   "outputs": [
    {
     "data": {
      "text/plain": [
       "[1, 2, 3, 12345]"
      ]
     },
     "execution_count": 28,
     "metadata": {},
     "output_type": "execute_result"
    }
   ],
   "source": [
    "#example of using a method \n",
    "my_list = [1,2,3]\n",
    "my_list.append(12345)\n",
    "\n",
    "my_list"
   ]
  },
  {
   "cell_type": "code",
   "execution_count": 29,
   "metadata": {
    "slideshow": {
     "slide_type": "fragment"
    }
   },
   "outputs": [
    {
     "data": {
      "text/plain": [
       "True"
      ]
     },
     "execution_count": 29,
     "metadata": {},
     "output_type": "execute_result"
    }
   ],
   "source": [
    "#example of using a function\n",
    "\n",
    "def is_odd(value):\n",
    "    if value % 2 != 0:\n",
    "        answer = True\n",
    "    else:\n",
    "        answer = False\n",
    "    \n",
    "    return answer\n",
    "\n",
    "my_int = 12345\n",
    "\n",
    "#function call\n",
    "result = is_odd(my_int)\n",
    "result"
   ]
  },
  {
   "cell_type": "markdown",
   "metadata": {
    "slideshow": {
     "slide_type": "slide"
    }
   },
   "source": [
    "### Method / Function documentation"
   ]
  },
  {
   "cell_type": "code",
   "execution_count": 32,
   "metadata": {
    "slideshow": {
     "slide_type": "fragment"
    }
   },
   "outputs": [],
   "source": [
    "# method documentation\n",
    "float.is_integer?"
   ]
  },
  {
   "cell_type": "code",
   "execution_count": 35,
   "metadata": {
    "slideshow": {
     "slide_type": "fragment"
    }
   },
   "outputs": [],
   "source": [
    "# function documentation\n",
    "type?"
   ]
  },
  {
   "cell_type": "markdown",
   "metadata": {
    "slideshow": {
     "slide_type": "slide"
    }
   },
   "source": [
    "Also, you don't have to memorize all the methods that we will mention, but you need to know how to use them."
   ]
  },
  {
   "cell_type": "markdown",
   "metadata": {
    "slideshow": {
     "slide_type": "slide"
    }
   },
   "source": [
    "## String Methods\n",
    "\n",
    "There are a whole bunch of string methods, all described [here](https://www.w3schools.com/python/python_ref_string.asp). We'll review a few of the most commonly used here."
   ]
  },
  {
   "cell_type": "code",
   "execution_count": 36,
   "metadata": {
    "slideshow": {
     "slide_type": "fragment"
    }
   },
   "outputs": [
    {
     "data": {
      "text/plain": [
       "'abc123'"
      ]
     },
     "execution_count": 36,
     "metadata": {},
     "output_type": "execute_result"
    }
   ],
   "source": [
    "# Make a string all lower case\n",
    "'aBc123'.lower()"
   ]
  },
  {
   "cell_type": "code",
   "execution_count": 37,
   "metadata": {
    "slideshow": {
     "slide_type": "fragment"
    }
   },
   "outputs": [
    {
     "data": {
      "text/plain": [
       "'ABC123'"
      ]
     },
     "execution_count": 37,
     "metadata": {},
     "output_type": "execute_result"
    }
   ],
   "source": [
    "# Make a string all upper case\n",
    "'aBc123'.upper()"
   ]
  },
  {
   "cell_type": "code",
   "execution_count": 38,
   "metadata": {
    "slideshow": {
     "slide_type": "fragment"
    }
   },
   "outputs": [
    {
     "data": {
      "text/plain": [
       "'Python is great. yeey. '"
      ]
     },
     "execution_count": 38,
     "metadata": {},
     "output_type": "execute_result"
    }
   ],
   "source": [
    "# Capitalize a string\n",
    "'python is great. yeey. '.capitalize()"
   ]
  },
  {
   "cell_type": "code",
   "execution_count": 39,
   "metadata": {
    "slideshow": {
     "slide_type": "fragment"
    }
   },
   "outputs": [
    {
     "data": {
      "text/plain": [
       "'I Love Python Python Loves Me'"
      ]
     },
     "execution_count": 39,
     "metadata": {},
     "output_type": "execute_result"
    }
   ],
   "source": [
    "# Captilize every element in a string\n",
    "'i love python python loves me'.title()"
   ]
  },
  {
   "cell_type": "code",
   "execution_count": 40,
   "metadata": {
    "scrolled": true,
    "slideshow": {
     "slide_type": "fragment"
    }
   },
   "outputs": [
    {
     "name": "stdout",
     "output_type": "stream",
     "text": [
      "10\n"
     ]
    }
   ],
   "source": [
    "# Find the index of where a string starts \n",
    "print('Hello, my name is'.find('name'))"
   ]
  },
  {
   "cell_type": "code",
   "execution_count": 41,
   "metadata": {
    "slideshow": {
     "slide_type": "fragment"
    }
   },
   "outputs": [
    {
     "name": "stdout",
     "output_type": "stream",
     "text": [
      "n\n"
     ]
    }
   ],
   "source": [
    "print('Hello, my name is'[10])"
   ]
  },
  {
   "cell_type": "markdown",
   "metadata": {
    "slideshow": {
     "slide_type": "slide"
    }
   },
   "source": [
    "#### Clicker Question #3\n",
    "\n",
    "What will the following code snippet print out?"
   ]
  },
  {
   "cell_type": "code",
   "execution_count": 43,
   "metadata": {
    "slideshow": {
     "slide_type": "fragment"
    }
   },
   "outputs": [
    {
     "name": "stdout",
     "output_type": "stream",
     "text": [
      "fix typing like this \n"
     ]
    },
    {
     "data": {
      "text/plain": [
       "'Fix typing like this '"
      ]
     },
     "execution_count": 43,
     "metadata": {},
     "output_type": "execute_result"
    }
   ],
   "source": [
    "inputs = ['fIx', 'tYpiNg', 'lIkE', 'tHiS']\n",
    "output = ''\n",
    "\n",
    "for element in inputs:\n",
    "    output = output + element.lower() + ' '\n",
    "print(output)\n",
    "output.capitalize()"
   ]
  },
  {
   "cell_type": "markdown",
   "metadata": {
    "slideshow": {
     "slide_type": "fragment"
    }
   },
   "source": [
    "- A) 'fix typing like this ' \n",
    "- B) ['fix', 'typing', 'like', 'this'] \n",
    "- C) 'Fix typing like this '  \n",
    "- D) 'Fix typing like this'  \n",
    "- E) 'Fixtypinglikethis'"
   ]
  },
  {
   "cell_type": "markdown",
   "metadata": {
    "slideshow": {
     "slide_type": "slide"
    }
   },
   "source": [
    "## List Methods\n",
    "\n",
    "There are also a bunch of list methods, all described [here](https://www.w3schools.com/python/python_ref_list.asp). You've seen some of these before, but we'll review a few of the most commonly used here."
   ]
  },
  {
   "cell_type": "code",
   "execution_count": 44,
   "metadata": {
    "slideshow": {
     "slide_type": "fragment"
    }
   },
   "outputs": [
    {
     "data": {
      "text/plain": [
       "[16, 33, 40, 88]"
      ]
     },
     "execution_count": 44,
     "metadata": {},
     "output_type": "execute_result"
    }
   ],
   "source": [
    "# sort sorts integers in numerical orders\n",
    "ints = [16, 88, 33, 40]\n",
    "ints.sort()\n",
    "ints"
   ]
  },
  {
   "cell_type": "code",
   "execution_count": 45,
   "metadata": {
    "slideshow": {
     "slide_type": "fragment"
    }
   },
   "outputs": [
    {
     "data": {
      "text/plain": [
       "[88, 40, 33, 16]"
      ]
     },
     "execution_count": 45,
     "metadata": {},
     "output_type": "execute_result"
    }
   ],
   "source": [
    "ints.sort(reverse=True) # helpful for third assignment :) \n",
    "ints"
   ]
  },
  {
   "cell_type": "code",
   "execution_count": 46,
   "metadata": {
    "slideshow": {
     "slide_type": "fragment"
    }
   },
   "outputs": [
    {
     "data": {
      "text/plain": [
       "[88, 40, 33, 16, 2]"
      ]
     },
     "execution_count": 46,
     "metadata": {},
     "output_type": "execute_result"
    }
   ],
   "source": [
    "# append adds to the end of a list\n",
    "ints.append(2)\n",
    "ints"
   ]
  },
  {
   "cell_type": "code",
   "execution_count": 47,
   "metadata": {
    "scrolled": true,
    "slideshow": {
     "slide_type": "fragment"
    }
   },
   "outputs": [
    {
     "data": {
      "text/plain": [
       "[88, 33, 16, 2]"
      ]
     },
     "execution_count": 47,
     "metadata": {},
     "output_type": "execute_result"
    }
   ],
   "source": [
    "# remove value from list\n",
    "ints.remove(40)\n",
    "ints"
   ]
  },
  {
   "cell_type": "code",
   "execution_count": 48,
   "metadata": {
    "slideshow": {
     "slide_type": "fragment"
    }
   },
   "outputs": [],
   "source": [
    "list.remove?"
   ]
  },
  {
   "cell_type": "code",
   "execution_count": 49,
   "metadata": {
    "scrolled": true,
    "slideshow": {
     "slide_type": "fragment"
    }
   },
   "outputs": [
    {
     "data": {
      "text/plain": [
       "[2, 16, 33, 88]"
      ]
     },
     "execution_count": 49,
     "metadata": {},
     "output_type": "execute_result"
    }
   ],
   "source": [
    "# reverse order of list\n",
    "ints.reverse()\n",
    "ints"
   ]
  },
  {
   "cell_type": "markdown",
   "metadata": {
    "slideshow": {
     "slide_type": "slide"
    }
   },
   "source": [
    "#### Clicker Question #4\n",
    "\n",
    "What will the following code snippet print out?"
   ]
  },
  {
   "cell_type": "code",
   "execution_count": 50,
   "metadata": {
    "slideshow": {
     "slide_type": "fragment"
    }
   },
   "outputs": [
    {
     "data": {
      "text/plain": [
       "['d', 'c', 'b', 'a']"
      ]
     },
     "execution_count": 50,
     "metadata": {},
     "output_type": "execute_result"
    }
   ],
   "source": [
    "list_string = ['a', 'c', 'd', 'b']\n",
    "list_string.sort()\n",
    "list_string.reverse()\n",
    "list_string"
   ]
  },
  {
   "cell_type": "markdown",
   "metadata": {
    "slideshow": {
     "slide_type": "fragment"
    }
   },
   "source": [
    "- A) ['a', 'c', 'd', 'b']\n",
    "- B) ['a', 'b', 'c', 'd']\n",
    "- C) ['d', 'c', 'b', 'a']  \n",
    "- D) ['d', 'b', 'a', 'c']  \n",
    "- E) ['d', 'a', 'b', 'c']"
   ]
  },
  {
   "cell_type": "markdown",
   "metadata": {
    "slideshow": {
     "slide_type": "slide"
    }
   },
   "source": [
    "## Dictionary Methods\n",
    "\n",
    "As with string and list methods, there are many described [here](https://www.w3schools.com/python/python_ref_dictionary.asp) that are helpful when working with dictionaries.\n"
   ]
  },
  {
   "cell_type": "code",
   "execution_count": 51,
   "metadata": {
    "slideshow": {
     "slide_type": "fragment"
    }
   },
   "outputs": [
    {
     "data": {
      "text/plain": [
       "dict_keys(['brand', 'model', 'year'])"
      ]
     },
     "execution_count": 51,
     "metadata": {},
     "output_type": "execute_result"
    }
   ],
   "source": [
    "car = {\n",
    "  \"brand\": \"BMW\",\n",
    "  \"model\": \"M5\",\n",
    "  \"year\": 2019\n",
    "}\n",
    "\n",
    "# keys() returns the keys of a dictionary\n",
    "car.keys()"
   ]
  },
  {
   "cell_type": "code",
   "execution_count": 52,
   "metadata": {
    "slideshow": {
     "slide_type": "fragment"
    }
   },
   "outputs": [
    {
     "name": "stdout",
     "output_type": "stream",
     "text": [
      "M5\n",
      "M5\n"
     ]
    }
   ],
   "source": [
    "# get returns the value of a specified key\n",
    "mod = car.get('model')\n",
    "\n",
    "# equivalent\n",
    "mod2 = car['model']\n",
    "\n",
    "print(mod)\n",
    "print(mod2)"
   ]
  },
  {
   "cell_type": "code",
   "execution_count": null,
   "metadata": {
    "slideshow": {
     "slide_type": "skip"
    }
   },
   "outputs": [],
   "source": [
    "# previously done this by indexing\n",
    "print(car['model'])"
   ]
  },
  {
   "cell_type": "code",
   "execution_count": 53,
   "metadata": {
    "slideshow": {
     "slide_type": "fragment"
    }
   },
   "outputs": [
    {
     "name": "stdout",
     "output_type": "stream",
     "text": [
      "{'brand': 'BMW', 'model': 'M5', 'year': 2019, 'color': 'Black'}\n"
     ]
    }
   ],
   "source": [
    "# update adds a key-value pair\n",
    "car.update({\"color\": \"Black\"})\n",
    "\n",
    "print(car) "
   ]
  },
  {
   "cell_type": "markdown",
   "metadata": {
    "slideshow": {
     "slide_type": "slide"
    }
   },
   "source": [
    "#### Clicker Question #5\n",
    "\n",
    "Assuming `dictionary` is a dictionary that exists, what would the following accomplish:\n",
    "\n",
    "```python\n",
    "\n",
    "dictionary.get('letter')\n",
    "\n",
    "```\n",
    "\n",
    "- A) Return the key for the value 'letter' from `dictionary`\n",
    "- B) Add the key 'letter' to `dictionary`\n",
    "- C) Add the value 'letter' to `dictionary`\n",
    "- D) Return the value for the key 'letter' from `dictionary`\n"
   ]
  },
  {
   "cell_type": "markdown",
   "metadata": {
    "slideshow": {
     "slide_type": "slide"
    }
   },
   "source": [
    "#### Clicker Question #6\n",
    "\n",
    "Which method would you use to add a new key-value pair to a dictionary?\n",
    "\n",
    "- A) `.append()`\n",
    "- B) `.get()`\n",
    "- C) `.keys()` \n",
    "- D) `.update()`\n"
   ]
  },
  {
   "cell_type": "markdown",
   "metadata": {
    "slideshow": {
     "slide_type": "slide"
    }
   },
   "source": [
    "### Methods: In Place vs Not In Place"
   ]
  },
  {
   "cell_type": "markdown",
   "metadata": {
    "slideshow": {
     "slide_type": "fragment"
    }
   },
   "source": [
    "<div class=\"alert alert-success\">\n",
    "Some methods update the object directly (in place) without assignment, whereas others return an updated version of the input and needs to be assigned to a variable. \n",
    "</div>"
   ]
  },
  {
   "cell_type": "markdown",
   "metadata": {
    "slideshow": {
     "slide_type": "slide"
    }
   },
   "source": [
    "#### List methods that are in place"
   ]
  },
  {
   "cell_type": "code",
   "execution_count": 54,
   "metadata": {
    "scrolled": true,
    "slideshow": {
     "slide_type": "fragment"
    }
   },
   "outputs": [
    {
     "name": "stdout",
     "output_type": "stream",
     "text": [
      "['c', 'b', 'a']\n"
     ]
    }
   ],
   "source": [
    "# Reverse a list, direct update without assignment \n",
    "my_list = ['a', 'b', 'c']\n",
    "my_list.reverse()\n",
    "\n",
    "print(my_list)"
   ]
  },
  {
   "cell_type": "code",
   "execution_count": 58,
   "metadata": {
    "slideshow": {
     "slide_type": "fragment"
    }
   },
   "outputs": [
    {
     "name": "stdout",
     "output_type": "stream",
     "text": [
      "[-1, 3, 13]\n"
     ]
    }
   ],
   "source": [
    "# Sort a list\n",
    "my_numbers = [13, 3, -1]\n",
    "my_numbers.sort()\n",
    "\n",
    "print(my_numbers)"
   ]
  },
  {
   "cell_type": "markdown",
   "metadata": {
    "slideshow": {
     "slide_type": "slide"
    }
   },
   "source": [
    "#### Dictionary methods that are not in place"
   ]
  },
  {
   "cell_type": "code",
   "execution_count": 59,
   "metadata": {
    "slideshow": {
     "slide_type": "fragment"
    }
   },
   "outputs": [
    {
     "data": {
      "text/plain": [
       "{'brand': 'BMW', 'model': 'M5', 'year': 2019, 'color': 'Black'}"
      ]
     },
     "execution_count": 59,
     "metadata": {},
     "output_type": "execute_result"
    }
   ],
   "source": [
    "car"
   ]
  },
  {
   "cell_type": "code",
   "execution_count": 60,
   "metadata": {
    "slideshow": {
     "slide_type": "fragment"
    }
   },
   "outputs": [
    {
     "data": {
      "text/plain": [
       "dict_keys(['brand', 'model', 'year', 'color'])"
      ]
     },
     "execution_count": 60,
     "metadata": {},
     "output_type": "execute_result"
    }
   ],
   "source": [
    "# Return the keys in the dictionary\n",
    "car.keys() "
   ]
  },
  {
   "cell_type": "code",
   "execution_count": 61,
   "metadata": {
    "slideshow": {
     "slide_type": "fragment"
    }
   },
   "outputs": [
    {
     "data": {
      "text/plain": [
       "{'brand': 'BMW', 'model': 'M5', 'year': 2019, 'color': 'Black'}"
      ]
     },
     "execution_count": 61,
     "metadata": {},
     "output_type": "execute_result"
    }
   ],
   "source": [
    "car"
   ]
  },
  {
   "cell_type": "code",
   "execution_count": 62,
   "metadata": {
    "slideshow": {
     "slide_type": "fragment"
    }
   },
   "outputs": [
    {
     "data": {
      "text/plain": [
       "dict_keys(['brand', 'model', 'year', 'color'])"
      ]
     },
     "execution_count": 62,
     "metadata": {},
     "output_type": "execute_result"
    }
   ],
   "source": [
    "out = car.keys() \n",
    "out"
   ]
  },
  {
   "cell_type": "code",
   "execution_count": 63,
   "metadata": {
    "slideshow": {
     "slide_type": "fragment"
    }
   },
   "outputs": [
    {
     "name": "stdout",
     "output_type": "stream",
     "text": [
      "<class 'dict_keys'>\n",
      "dict_keys(['brand', 'model', 'year', 'color'])\n"
     ]
    }
   ],
   "source": [
    "# print keys\n",
    "print(type(out))\n",
    "print(out)"
   ]
  },
  {
   "cell_type": "code",
   "execution_count": 64,
   "metadata": {
    "slideshow": {
     "slide_type": "fragment"
    }
   },
   "outputs": [
    {
     "name": "stdout",
     "output_type": "stream",
     "text": [
      "<class 'dict'>\n",
      "{'brand': 'BMW', 'model': 'M5', 'year': 2019, 'color': 'Black'}\n"
     ]
    }
   ],
   "source": [
    "# car has not changed\n",
    "print(type(car))\n",
    "print(car)"
   ]
  },
  {
   "cell_type": "code",
   "execution_count": null,
   "metadata": {
    "slideshow": {
     "slide_type": "fragment"
    }
   },
   "outputs": [],
   "source": [
    "# Return the values in the dicionary\n",
    "car.values()"
   ]
  },
  {
   "cell_type": "markdown",
   "metadata": {
    "slideshow": {
     "slide_type": "slide"
    }
   },
   "source": [
    "## Lecture review\n",
    "- **functions** \n",
    "    - def function_name(arguments)\n",
    "    - two types of function arguments: positional v.s. keywords\n",
    "    - function arguments can have default values\n",
    "    - nested function: function within function\n",
    "- **methods**\n",
    "    - similar to function, but they operates on a specific type of variable (objects)\n",
    "    - different syntax\n",
    "        - function: func(arguments)\n",
    "        - method: object.method(arguments)\n",
    "    - commonly used methods\n",
    "    - two types of methods\n",
    "        - inplace: directly alters the object (e.g. `list.append()`)\n",
    "        - not inplace: doesn't change the object, but returns a output (e.g.`dictionary.get()`)"
   ]
  },
  {
   "cell_type": "markdown",
   "metadata": {
    "slideshow": {
     "slide_type": "slide"
    }
   },
   "source": [
    "#### Clicker Question #7\n",
    "\n",
    "What will the following code snippet print?"
   ]
  },
  {
   "cell_type": "code",
   "execution_count": null,
   "metadata": {
    "slideshow": {
     "slide_type": "fragment"
    }
   },
   "outputs": [],
   "source": [
    "def find_even(my_list):\n",
    "    output = []\n",
    "    for item in my_list:\n",
    "        if item %2 == 0:\n",
    "            output.append(item)\n",
    "        else:\n",
    "            continue\n",
    "    return output\n",
    "\n",
    "def exponentiate_even_number(my_list, power = 2):\n",
    "    output = []\n",
    "    even_list = find_even(my_list)\n",
    "    for i in even_list:\n",
    "        output.append(i**power)\n",
    "    return output\n"
   ]
  },
  {
   "cell_type": "code",
   "execution_count": null,
   "metadata": {
    "slideshow": {
     "slide_type": "fragment"
    }
   },
   "outputs": [],
   "source": [
    "list_input = [1,3,5,7,9,2,4,6,8,10]\n",
    "exponentiate_even_number(list_input,3)"
   ]
  },
  {
   "cell_type": "markdown",
   "metadata": {
    "slideshow": {
     "slide_type": "fragment"
    }
   },
   "source": [
    "- A) [2,4,6,8,10]\n",
    "- B) [8, 64, 216, 512, 1000]\n",
    "- C) [1,3,5,7,9]  \n",
    "- D) [4, 16, 36, 64, 100]  \n",
    "- E) Nothing, calling this function will produce an error"
   ]
  }
 ],
 "metadata": {
  "celltoolbar": "Slideshow",
  "kernelspec": {
   "display_name": "Python 3",
   "language": "python",
   "name": "python3"
  },
  "language_info": {
   "codemirror_mode": {
    "name": "ipython",
    "version": 3
   },
   "file_extension": ".py",
   "mimetype": "text/x-python",
   "name": "python",
   "nbconvert_exporter": "python",
   "pygments_lexer": "ipython3",
   "version": "3.9.5"
  },
  "rise": {
   "scroll": true
  }
 },
 "nbformat": 4,
 "nbformat_minor": 2
}
