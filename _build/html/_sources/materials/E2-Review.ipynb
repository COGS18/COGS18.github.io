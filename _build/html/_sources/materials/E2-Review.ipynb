{
 "cells": [
  {
   "cell_type": "markdown",
   "metadata": {
    "slideshow": {
     "slide_type": "slide"
    }
   },
   "source": [
    "# Exam 2 Review\n",
    "\n",
    "[![Open In Colab](https://colab.research.google.com/assets/colab-badge.svg)](https://colab.research.google.com/github/COGS18/LectureNotes-COGS18/blob/main/E2-Review.ipynb)"
   ]
  },
  {
   "cell_type": "markdown",
   "metadata": {},
   "source": [
    "**[ad] Food Insecurity Survey**\n",
    "![](img/SurveyInfoSlide.jpg)"
   ]
  },
  {
   "cell_type": "markdown",
   "metadata": {
    "editable": true,
    "slideshow": {
     "slide_type": "slide"
    },
    "tags": []
   },
   "source": [
    "**Q&A**\n",
    "\n",
    "> Q: are we going to use the terminals for the final ~project~ exam?  \n",
    "> A: Technically, you can do the final without using the terminal, but 1) you will need to know the provided bash commands for E2 and 2) being comfortable at the terminal will make doing your exam easier\n",
    "\n",
    "> Q: can you explain how to open a terminal in prairielearn again please?  \n",
    "> A: Yes - I will demo this again, but briefly here, if you're on PL and you open a workspace: File > New > Terminal will open it\n",
    "\n",
    "> Q: what is the point of an f string instead of just normal '' strings?  \n",
    "> A: Concatenating strings with `+` and using an fstring accomplish the same thing...but the spaces are more intuitive with f-strings. You can use either!\n",
    "\n",
    "> Q: will file paths be on the exam?  \n",
    "> A: Yup - you'll need to understand relative and absolute paths\n",
    "\n",
    "> Q: Will we have to create a project? (Maybe for the final we can have a choice to create a project)  \n",
    "> A: Historically, COGS 18 has had a project. Because of all the changes, I did remove it this quarter and everyone will do the exam. However, the exam will be a mini project....I'll just guide you rather than you doing a project independently. Apologies if you were excited to do a project!"
   ]
  },
  {
   "cell_type": "markdown",
   "metadata": {
    "editable": true,
    "slideshow": {
     "slide_type": ""
    },
    "tags": []
   },
   "source": [
    "**Course Announcements**\n",
    "\n",
    "Due this week: \n",
    "- VQ12 due Wed night <- this is your last VQ!\n",
    "- CL7 due Friday\n",
    "- Take E2: 5/23-5/30\n",
    "\n",
    "Notes:\n",
    "- Practice E2 is available on PL - take multiple instances!\n",
    "- This week's oral exam focuses on classes\n",
    "- Sign up for a second oral exam if you haven't yet"
   ]
  },
  {
   "cell_type": "markdown",
   "metadata": {
    "editable": true,
    "slideshow": {
     "slide_type": "slide"
    },
    "tags": []
   },
   "source": [
    "## Day of Exam: \n",
    "\n",
    "What to Bring:\n",
    "- An ID\n",
    "- Your Brain\n",
    "- A writing utensil\n",
    "\n",
    "Reminders:\n",
    "- You will put your belongings in a locker; leave time for this\n",
    "- You are not allowed to bring in water/coffee\n",
    "- They will provide scratch paper & a calculator\n",
    "- You'll need to sign into your PL\n",
    "\n",
    "**Location**: TTC-CBTF - **Applied Physics & Mathematics (AP&M) B349** (basement)\n",
    "\n",
    "**Exam Window**: 5/23-5/30 (Fri-Fri); 45min"
   ]
  },
  {
   "cell_type": "markdown",
   "metadata": {
    "editable": true,
    "slideshow": {
     "slide_type": "slide"
    },
    "tags": []
   },
   "source": [
    "### Exam 2 Plan\n",
    "\n",
    "**Exam (15 Qs)**: (there were 25 on E1)\n",
    "- Q1 - blank jupyter notebook (no credit)\n",
    "- Q2-8 Multiple Choice (7)\n",
    "- Q9-13 \"Short Answer\" (line of code, matching, drop-down, parsons) (5)\n",
    "- Q14-16 Code Reading & Debugging (3)\n",
    "    \n",
    "**Topics Focused on (#Qs)**: \n",
    "1. Loops (5 | 1MC; 3 SA; 1 Debug)\n",
    "2. Methods (4 | 3 MC; 1 SA)\n",
    "3. Classes (4 | 1 MC; 1 SA; 2 Debug)\n",
    "4. Command Line, File Paths & Imports (2 | 2 MC)\n",
    "\n",
    "Note: This is the expected layout. Small changes to this could be made after the staff proofread/test-drive the exam."
   ]
  },
  {
   "cell_type": "markdown",
   "metadata": {
    "editable": true,
    "slideshow": {
     "slide_type": ""
    },
    "tags": []
   },
   "source": [
    "## Topics from E1 (can't forget)\n",
    "\n",
    "- Variables\n",
    "- Operators\n",
    "- Functions\n",
    "- Conditionals"
   ]
  },
  {
   "cell_type": "markdown",
   "metadata": {},
   "source": [
    "## E2 Topics"
   ]
  },
  {
   "cell_type": "markdown",
   "metadata": {
    "editable": true,
    "jp-MarkdownHeadingCollapsed": true,
    "slideshow": {
     "slide_type": "slide"
    },
    "tags": []
   },
   "source": [
    "### Loops\n",
    "\n",
    "Types:\n",
    "- `for` and `while`\n",
    "- `range`, `break`, `continue`"
   ]
  },
  {
   "cell_type": "markdown",
   "metadata": {
    "editable": true,
    "slideshow": {
     "slide_type": "slide"
    },
    "tags": []
   },
   "source": [
    "### Methods\n",
    "\n",
    "- list, string, and dictionary methods (need to know `.append()`; others will be explained)\n",
    "- in place vs not in place"
   ]
  },
  {
   "cell_type": "markdown",
   "metadata": {},
   "source": [
    "- in place: when you use the method, directly changes the variable it is operating on\n",
    "- not in place: when you use the method, the variable it is operating on remains UNchanged"
   ]
  },
  {
   "cell_type": "code",
   "execution_count": 10,
   "metadata": {},
   "outputs": [],
   "source": [
    "# append  - operates IN PLACE\n",
    "my_list = ['a', 'b']\n",
    "my_list.append('c')"
   ]
  },
  {
   "cell_type": "code",
   "execution_count": 11,
   "metadata": {},
   "outputs": [
    {
     "data": {
      "text/plain": [
       "['a', 'b', 'c']"
      ]
     },
     "execution_count": 11,
     "metadata": {},
     "output_type": "execute_result"
    }
   ],
   "source": [
    "my_list"
   ]
  },
  {
   "cell_type": "code",
   "execution_count": 12,
   "metadata": {
    "scrolled": true
   },
   "outputs": [
    {
     "data": {
      "text/plain": [
       "'HI'"
      ]
     },
     "execution_count": 12,
     "metadata": {},
     "output_type": "execute_result"
    }
   ],
   "source": [
    "# operate NOT IN PLACE\n",
    "my_string = 'hi'\n",
    "my_string.upper()"
   ]
  },
  {
   "cell_type": "code",
   "execution_count": 13,
   "metadata": {},
   "outputs": [
    {
     "data": {
      "text/plain": [
       "'hi'"
      ]
     },
     "execution_count": 13,
     "metadata": {},
     "output_type": "execute_result"
    }
   ],
   "source": [
    "my_string"
   ]
  },
  {
   "cell_type": "markdown",
   "metadata": {
    "editable": true,
    "slideshow": {
     "slide_type": "slide"
    },
    "tags": []
   },
   "source": [
    "### Classes\n",
    "\n",
    "- `class`\n",
    "- class & instance attributes\n",
    "- methods\n",
    "- `self`\n",
    "- instance\n",
    "- accessing attributes\n",
    "- executing methods"
   ]
  },
  {
   "cell_type": "markdown",
   "metadata": {
    "editable": true,
    "slideshow": {
     "slide_type": "slide"
    },
    "tags": []
   },
   "source": [
    "### Command Line, File Paths & Imports\n",
    "\n",
    "- shell commands: `pwd`, `ls`, `mkdir`, `touch`, `cd`, `mv`\n",
    "- absolute and relative file paths\n",
    "- `import` (`from` and `as`)"
   ]
  },
  {
   "cell_type": "markdown",
   "metadata": {
    "editable": true,
    "slideshow": {
     "slide_type": "slide"
    },
    "tags": []
   },
   "source": [
    "## Questions\n",
    "\n",
    "What questions do you have!?"
   ]
  },
  {
   "cell_type": "markdown",
   "metadata": {
    "editable": true,
    "slideshow": {
     "slide_type": ""
    },
    "tags": []
   },
   "source": [
    "## Practice\n",
    "\n",
    "These practice questions are NOT representative of the *typical* question on the exam, but **are representative of the more difficult questions on the exam**. Many students are feeling pretty good about MC & matching questions (and you've done lots of those on PL so far) and less confident when there's less structure. So, I figured if we did these together...we'd get everyone feeling a bit more confident!\n",
    "\n",
    "\n",
    "The form we'll use for today (we'll just keep using the same one....): [https://forms.gle/wf1dayq5fw8VNMPR9](https://forms.gle/wf1dayq5fw8VNMPR9)"
   ]
  },
  {
   "cell_type": "markdown",
   "metadata": {
    "editable": true,
    "slideshow": {
     "slide_type": "slide"
    },
    "tags": []
   },
   "source": [
    "### Q1\n",
    "\n",
    "**Q1**. Fix the `StudyTracker` class below, so that it accomplishes the following:\n",
    "- by default sets `hours_studied` at 0, but allows the user to specify a different value when initializing an instance\n",
    "- has a method `add_hours` that increases the number of hours in the `hours` attribute by the input to the method\n",
    "- has a method `study_feedback` that returns a different method if you've studied less than 1 hour, less than 3 hours, or 3 hours or more. (Note: the strings do not need to be changed, but the conditional logic may)"
   ]
  },
  {
   "cell_type": "code",
   "execution_count": 20,
   "metadata": {},
   "outputs": [],
   "source": [
    "class StudyTracker:\n",
    "    def __init__(self, hours_studied=0):\n",
    "        self.hours = hours_studied\n",
    "\n",
    "    def add_hours(additional_hours):\n",
    "        hours -= additional_hours\n",
    "\n",
    "    def study_feedback():\n",
    "        if hours > 1:\n",
    "            return \"Getting started is the hardest part—keep going!\"\n",
    "        elif hours > 3:\n",
    "            return \"Nice! You're building solid study habits.\"\n",
    "        else:\n",
    "            return \"Awesome dedication! You're setting yourself up for success!\""
   ]
  },
  {
   "cell_type": "code",
   "execution_count": 22,
   "metadata": {},
   "outputs": [
    {
     "data": {
      "text/plain": [
       "0"
      ]
     },
     "execution_count": 22,
     "metadata": {},
     "output_type": "execute_result"
    }
   ],
   "source": [
    "# TEST IT OUT HERE\n",
    "st = StudyTracker()\n",
    "st.hours_studied"
   ]
  },
  {
   "cell_type": "markdown",
   "metadata": {},
   "source": [
    "Concepts in Q1:\n",
    "- classes\n",
    "- debugging"
   ]
  },
  {
   "cell_type": "markdown",
   "metadata": {},
   "source": [
    "Note to self: demo how to make similar questions on ChatGPT"
   ]
  },
  {
   "cell_type": "markdown",
   "metadata": {
    "editable": true,
    "slideshow": {
     "slide_type": "slide"
    },
    "tags": []
   },
   "source": [
    "### Q2\n",
    "\n",
    "**Q2**.   Below is an attempt at implementing a <code>CoffeeTracker</code> class. It's instance attributes are all working as intended...but <code>buy_coffee</code> is not quite there. Fix the <code>buy_coffee</code> method so that when it takes in a list of <code>prices</code>, it will update the <code>total_spent</code> attribute to:\n",
    "- include the sum of all prices in <code>prices</code> \n",
    "- update <code>total_coffees</code> attribute to count how many drinks were in the <code>prices</code> list\n",
    "- If the number of <code>total_coffees</code> is more than zero, the <code>average_price</code> attribute will be updated, calculating the value in the <code>total_spent</code> attribute divided by the value in the <code>total_coffees</code> attribute. The <code>print</code> statements at the end do NOT need to be changed.\r\n"
   ]
  },
  {
   "cell_type": "code",
   "execution_count": null,
   "metadata": {},
   "outputs": [],
   "source": [
    "class CoffeeTracker:\n",
    "    def __init__(self, name):\n",
    "        self.name = name\n",
    "        self.total_spent = 0.0\n",
    "        self.total_coffees = 0\n",
    "        self.average_price = 0.0\n",
    "\n",
    "    def buy_coffee(prices):\n",
    "        total_spent = price\n",
    "        total_coffees = 1\n",
    "        \n",
    "        if total_coffees > 0:\n",
    "            average_price = total_spent / total_coffees\n",
    "        \n",
    "        print(f\"{self.name} bought {self.total_coffees} coffees.\")\n",
    "        print(f\"Average price per coffee: ${self.average_price:.2f}\")\n"
   ]
  },
  {
   "cell_type": "code",
   "execution_count": null,
   "metadata": {
    "editable": true,
    "slideshow": {
     "slide_type": ""
    },
    "tags": []
   },
   "outputs": [],
   "source": [
    "# TEST OUT HERE"
   ]
  },
  {
   "cell_type": "markdown",
   "metadata": {},
   "source": [
    "Concepts in Q2:\n",
    "- Classes\n",
    "- Debugging\n",
    "- loops\n",
    "- conditionals"
   ]
  },
  {
   "cell_type": "markdown",
   "metadata": {
    "editable": true,
    "slideshow": {
     "slide_type": "slide"
    },
    "tags": []
   },
   "source": [
    "### Q3\n",
    "\n",
    "**Q3a**. Assume a fictitious `class` `Exam2` has been defined. It contains:\n",
    "- a class attribute `course` which stores the string 'COGS 18'\n",
    "- two instance attributes storing the `name` of a student and the `score` that they earned\n",
    "- a single `method` `calculate_percentage` that calculates the student's percentage out of 100 by dividng `score` by 12.5\n",
    "\n",
    "How would you create an instance `my_exam2` of this object? How would you access the `name` attribute? How would you execute the `calculate_percentage` method?"
   ]
  },
  {
   "cell_type": "code",
   "execution_count": null,
   "metadata": {
    "scrolled": true
   },
   "outputs": [],
   "source": [
    "# YOUR ANSWER HERE"
   ]
  },
  {
   "cell_type": "markdown",
   "metadata": {},
   "source": [
    "**Q3b** Time permitting: Try to write the code for the class described above. Note: You will NOT have to write a whole class from scratch on the exam."
   ]
  },
  {
   "cell_type": "code",
   "execution_count": null,
   "metadata": {},
   "outputs": [],
   "source": [
    "## YOUR CODE HERE"
   ]
  }
 ],
 "metadata": {
  "celltoolbar": "Slideshow",
  "kernelspec": {
   "display_name": "Python 3 (ipykernel)",
   "language": "python",
   "name": "python3"
  },
  "language_info": {
   "codemirror_mode": {
    "name": "ipython",
    "version": 3
   },
   "file_extension": ".py",
   "mimetype": "text/x-python",
   "name": "python",
   "nbconvert_exporter": "python",
   "pygments_lexer": "ipython3",
   "version": "3.11.8"
  },
  "rise": {
   "scroll": true
  }
 },
 "nbformat": 4,
 "nbformat_minor": 4
}
