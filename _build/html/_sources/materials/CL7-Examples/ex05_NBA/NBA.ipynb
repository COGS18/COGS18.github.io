{
 "cells": [
  {
   "cell_type": "markdown",
   "metadata": {},
   "source": [
    "### Module Import"
   ]
  },
  {
   "cell_type": "code",
   "execution_count": 4,
   "metadata": {},
   "outputs": [
    {
     "name": "stdout",
     "output_type": "stream",
     "text": [
      "{'name': 'Zion Williamson', 'team': 'New Orleans Pelicans', 'age': 20}\n"
     ]
    }
   ],
   "source": [
    "from for_CL7_use import NbaPlayer\n",
    "\n",
    "nba = NbaPlayer()\n",
    "\n",
    "nba.add_player('Leborn James', 'Los Angeles Lakers', 36)\n",
    "nba.add_player('James Harden', 'Brookyln Nets', 31)\n",
    "nba.add_player('Chris Paul', 'Phoenix Suns', 36)\n",
    "nba.add_player('Kevin Durant', 'Brooklyn Nets', 32)\n",
    "nba.add_player('Stephen Curry', 'Golden State Warriors', 33)\n",
    "nba.add_player('Zion Williamson', 'New Orleans Pelicans', 20)\n",
    "\n",
    "nba.compare_age('age')"
   ]
  }
 ],
 "metadata": {
  "kernelspec": {
   "display_name": "Python 3",
   "language": "python",
   "name": "python3"
  },
  "language_info": {
   "codemirror_mode": {
    "name": "ipython",
    "version": 3
   },
   "file_extension": ".py",
   "mimetype": "text/x-python",
   "name": "python",
   "nbconvert_exporter": "python",
   "pygments_lexer": "ipython3",
   "version": "3.7.7"
  }
 },
 "nbformat": 4,
 "nbformat_minor": 4
}
