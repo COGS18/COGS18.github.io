{
 "cells": [
  {
   "cell_type": "markdown",
   "metadata": {},
   "source": [
    "### Module Import"
   ]
  },
  {
   "cell_type": "code",
   "execution_count": 1,
   "metadata": {},
   "outputs": [],
   "source": [
    "import airline as air\n",
    "\n",
    "group = []\n",
    "Aticket = air.PlaneTicket('Bob', 'Delta', 'business', '7A', 'Barbados')\n",
    "Bticket = air.PlaneTicket('Sally', 'Southwest', 'first', '1B', 'Seattle')\n",
    "Cticket = air.PlaneTicket('Ashley', 'United', 'economy', '34A', 'New York')\n",
    "Dticket = air.PlaneTicket('Josh', 'Emirates', 'economy', '17C', 'Dubai')\n",
    "group.extend([Aticket, Bticket, Cticket ,Dticket])\n",
    "\n",
    "air.group_tickets(group)"
   ]
  },
  {
   "cell_type": "code",
   "execution_count": 2,
   "metadata": {},
   "outputs": [],
   "source": [
    "air.group_destination(group)"
   ]
  },
  {
   "cell_type": "markdown",
   "metadata": {},
   "source": [
    "### Script Execution"
   ]
  },
  {
   "cell_type": "code",
   "execution_count": 3,
   "metadata": {},
   "outputs": [
    {
     "name": "stdout",
     "output_type": "stream",
     "text": [
      "Ashna is flying on Southwest airlines. The seat number is 3A in business class.\r\n"
     ]
    }
   ],
   "source": [
    "!python new_airline.py"
   ]
  }
 ],
 "metadata": {
  "kernelspec": {
   "display_name": "Python 3",
   "language": "python",
   "name": "python3"
  },
  "language_info": {
   "codemirror_mode": {
    "name": "ipython",
    "version": 3
   },
   "file_extension": ".py",
   "mimetype": "text/x-python",
   "name": "python",
   "nbconvert_exporter": "python",
   "pygments_lexer": "ipython3",
   "version": "3.7.7"
  }
 },
 "nbformat": 4,
 "nbformat_minor": 4
}
