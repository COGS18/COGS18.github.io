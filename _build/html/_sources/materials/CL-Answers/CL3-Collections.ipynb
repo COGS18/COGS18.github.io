{
 "cells": [
  {
   "cell_type": "markdown",
   "id": "12ac0bb6",
   "metadata": {
    "nbgrader": {
     "grade": false,
     "grade_id": "cell-e8537ebe6502c993",
     "locked": true,
     "schema_version": 3,
     "solution": false
    }
   },
   "source": [
    "# CL3: Review (Collections, Conditionals, & Functions)\n",
    "\n",
    "Welcome to the third coding lab!\n",
    "\n",
    "In this Coding Lab we will return to, review, and get additional practice with collections, conditionals, and functions working to put all the concepts together."
   ]
  },
  {
   "cell_type": "markdown",
   "id": "f668d819",
   "metadata": {
    "nbgrader": {
     "grade": false,
     "grade_id": "cell-e1e784da70db869b",
     "locked": true,
     "schema_version": 3,
     "solution": false
    }
   },
   "source": [
    "## Part 1: Collections + Conditionals\n",
    "\n",
    "Collections can work with all of the things we've discussed up to this point - variables, conditionals, functions, etc. Here, we'll get extra practice combining collections with conditionals."
   ]
  },
  {
   "cell_type": "markdown",
   "id": "a02c6e06",
   "metadata": {
    "nbgrader": {
     "grade": false,
     "grade_id": "cell-aa4d3d1a2da6b217",
     "locked": true,
     "schema_version": 3,
     "solution": false
    }
   },
   "source": [
    "### Collections + Conditionals Question\n",
    "\n",
    "Imagine you've asked a group of young children to make a pile of at least 5 toys. \n",
    "\n",
    "You then want to write code to determine if the kid accomplished the task. Specifically, if the pile has at least 5 toys, you want `output` to store the string `'success'`. Otherwise, you want `output` to store the string `'try again'`\n",
    "\n",
    "The toys placed in one of these kids' piles is defined below in the list `kid_a`. Using this list, and conditionals, write code to accomplish the task above! "
   ]
  },
  {
   "cell_type": "code",
   "execution_count": 11,
   "id": "c5a18266",
   "metadata": {
    "nbgrader": {
     "grade": false,
     "grade_id": "cell-03b9eddcb33c1abe",
     "locked": true,
     "schema_version": 3,
     "solution": false
    }
   },
   "outputs": [],
   "source": [
    "kid_a = ['truck', 'barbie', 'coloring book', 'dinosaur']"
   ]
  },
  {
   "cell_type": "code",
   "execution_count": 9,
   "id": "ab93fb7e",
   "metadata": {
    "nbgrader": {
     "grade": false,
     "grade_id": "cell-fcc40c86d462e69b",
     "locked": false,
     "schema_version": 3,
     "solution": true
    }
   },
   "outputs": [],
   "source": [
    "### BEGIN SOLUTION\n",
    "if len(kid_a) >= 5:\n",
    "    output = 'success'\n",
    "else:\n",
    "    output = 'try again'\n",
    "### END SOLUTION"
   ]
  },
  {
   "cell_type": "code",
   "execution_count": 10,
   "id": "e03a00e7",
   "metadata": {
    "nbgrader": {
     "grade": true,
     "grade_id": "cell-79153e133036327d",
     "locked": true,
     "points": 0,
     "schema_version": 3,
     "solution": false
    }
   },
   "outputs": [],
   "source": [
    "assert output in ['success', 'try again']"
   ]
  },
  {
   "cell_type": "markdown",
   "id": "79ccee22",
   "metadata": {
    "nbgrader": {
     "grade": false,
     "grade_id": "cell-48308e416555d022",
     "locked": true,
     "schema_version": 3,
     "solution": false
    }
   },
   "source": [
    "## Part 2: Collections + Conditionals + Functions\n",
    "\n",
    "Let's put these conepts together...!"
   ]
  },
  {
   "cell_type": "markdown",
   "id": "00eaf5f2",
   "metadata": {
    "nbgrader": {
     "grade": false,
     "grade_id": "cell-ae520fc1ce01f5e3",
     "locked": true,
     "schema_version": 3,
     "solution": false
    }
   },
   "source": [
    "### Collections + Conditionals + Functions Question \n",
    "\n",
    "The code you generated in Part II will only work on a single list `kid_a`. Functions, on the other hand, are ways to define a set of instructions that can operate on various input, returning the correct output.\n",
    "\n",
    "Here, write a function `toy_pile()` that accomplishes the same task as above, but takes a list of toys as input and `returns` either `'success'` or `'try again'`, depending upon how many toys are in the list of toys.\n"
   ]
  },
  {
   "cell_type": "code",
   "execution_count": 15,
   "id": "c50cb8bf",
   "metadata": {
    "nbgrader": {
     "grade": false,
     "grade_id": "cell-18d3066acd89631e",
     "locked": false,
     "schema_version": 3,
     "solution": true
    }
   },
   "outputs": [],
   "source": [
    "### BEGIN SOLUTION\n",
    "def toy_pile(list_of_toys):\n",
    "    \n",
    "    if len(list_of_toys) >= 5:\n",
    "        output = 'success'\n",
    "    else:\n",
    "        output = 'try again'\n",
    "    \n",
    "    return output\n",
    "### END SOLUTION"
   ]
  },
  {
   "cell_type": "code",
   "execution_count": null,
   "id": "2a0e3854",
   "metadata": {},
   "outputs": [],
   "source": [
    "# test out your function here "
   ]
  },
  {
   "cell_type": "code",
   "execution_count": 13,
   "id": "f0303aa2",
   "metadata": {
    "nbgrader": {
     "grade": true,
     "grade_id": "cell-4c017eb2981df277",
     "locked": true,
     "points": 0,
     "schema_version": 3,
     "solution": false
    }
   },
   "outputs": [],
   "source": [
    "assert toy_pile(kid_a) == 'try again'"
   ]
  },
  {
   "cell_type": "code",
   "execution_count": 14,
   "id": "c174db8a",
   "metadata": {
    "nbgrader": {
     "grade": true,
     "grade_id": "cell-ee496957763dc6bd",
     "locked": true,
     "points": 0,
     "schema_version": 3,
     "solution": false
    }
   },
   "outputs": [],
   "source": [
    "assert toy_pile(['lego', 'princess dress', 'tinker toy', 'doll', 'stroller']) == 'success'"
   ]
  },
  {
   "cell_type": "markdown",
   "id": "cc160426",
   "metadata": {
    "nbgrader": {
     "grade": false,
     "grade_id": "cell-94d7ac690a32b4b5",
     "locked": true,
     "schema_version": 3,
     "solution": false
    }
   },
   "source": [
    "### Putting it all together\n",
    "\n",
    "Now that you've seen an example, think up another situation where you could write a function that incorporates the following:\n",
    "\n",
    "- takes a dictionary as input\n",
    "- utilizes a conditional within the function\n",
    "- carries out some operation and `return`s some output\n",
    "\n",
    "First, explain what your function does in plain English in the cell below. Then, write the python code for the function in the following cell and test it out in the last cell."
   ]
  },
  {
   "cell_type": "markdown",
   "id": "5d64afc4",
   "metadata": {},
   "source": [
    "Explain your function here (in words, not code)"
   ]
  },
  {
   "cell_type": "code",
   "execution_count": null,
   "id": "230ea621",
   "metadata": {
    "nbgrader": {
     "grade": false,
     "grade_id": "cell-d6492d162ed04798",
     "locked": false,
     "schema_version": 3,
     "solution": true
    }
   },
   "outputs": [],
   "source": [
    "# define your function here\n",
    "### BEGIN SOLUTION\n",
    "\n",
    "# answers will vary here\n",
    "\n",
    "### END SOLUTION"
   ]
  },
  {
   "cell_type": "code",
   "execution_count": null,
   "id": "d8e9ab30",
   "metadata": {},
   "outputs": [],
   "source": [
    "# test out/execute your function here"
   ]
  },
  {
   "cell_type": "markdown",
   "id": "8df32583",
   "metadata": {
    "nbgrader": {
     "grade": false,
     "grade_id": "cell-5f786504469c073a",
     "locked": true,
     "schema_version": 3,
     "solution": false,
     "task": false
    }
   },
   "source": [
    "## Part 3: Debugging\n"
   ]
  },
  {
   "cell_type": "markdown",
   "id": "53d810c0",
   "metadata": {
    "nbgrader": {
     "grade": false,
     "grade_id": "cell-78e0ae0740d5e08d",
     "locked": true,
     "schema_version": 3,
     "solution": false
    }
   },
   "source": [
    "### Debugging a Function\n",
    "\n",
    "The following function has a series of issues with it. \n",
    "\n",
    "```python\n",
    "def my_function(input_1, input_2):\n",
    "    \"\"\"A long function that might error.\"\"\"\n",
    "    \n",
    "    if len(input_1) > 1\n",
    "        if input_1[0] = 0:\n",
    "        answer = 0\n",
    "    \n",
    "    elif len(input_2) == 2:\n",
    "        answer = input_2[1] / input_1[0]\n",
    "        \n",
    "    elif len(input_1) == len(input_2):\n",
    "        answer = input_1[0] + input_2[0]\n",
    "        \n",
    "    print(answer)\n",
    "```\n",
    "\n",
    "Copy this function into the cell below, and then work through debugging this function, fixing it up to be able to run with all the inputs below. "
   ]
  },
  {
   "cell_type": "code",
   "execution_count": 2,
   "id": "ecfb88ac",
   "metadata": {
    "nbgrader": {
     "grade": false,
     "grade_id": "cell-ae22d375b48b48ce",
     "locked": false,
     "schema_version": 3,
     "solution": true
    },
    "scrolled": true
   },
   "outputs": [],
   "source": [
    "### BEGIN SOLUTION\n",
    "def my_function(input_1, input_2):\n",
    "    \"\"\"A long function that might error.\"\"\"\n",
    "    \n",
    "    if len(input_1) > 1:\n",
    "        if input_1[0] == 0:\n",
    "            answer = 0\n",
    "    \n",
    "    elif len(input_2) == 2:\n",
    "        try:\n",
    "            answer = input_2[1] / input_1[0]\n",
    "        except ZeroDivisionError:\n",
    "            answer = None\n",
    "        \n",
    "    elif len(input_1) == len(input_2):\n",
    "        try:\n",
    "            answer = input_1[0] + input_2[0]\n",
    "        except TypeError:\n",
    "            answer = None\n",
    "        \n",
    "    return answer \n",
    "### END SOLUTION"
   ]
  },
  {
   "cell_type": "code",
   "execution_count": 3,
   "id": "2ca8b14c",
   "metadata": {
    "nbgrader": {
     "grade": false,
     "grade_id": "cell-9f337db370e88a09",
     "locked": true,
     "schema_version": 3,
     "solution": false
    }
   },
   "outputs": [
    {
     "data": {
      "text/plain": [
       "0"
      ]
     },
     "execution_count": 3,
     "metadata": {},
     "output_type": "execute_result"
    }
   ],
   "source": [
    "my_function([0, 1], [0])"
   ]
  },
  {
   "cell_type": "code",
   "execution_count": 4,
   "id": "889b559c",
   "metadata": {
    "nbgrader": {
     "grade": false,
     "grade_id": "cell-861889f8f71be3c7",
     "locked": true,
     "schema_version": 3,
     "solution": false
    }
   },
   "outputs": [],
   "source": [
    "my_function([0], [0, 1])"
   ]
  },
  {
   "cell_type": "code",
   "execution_count": 5,
   "id": "a7c52a51",
   "metadata": {
    "nbgrader": {
     "grade": false,
     "grade_id": "cell-9b99f2053884feb1",
     "locked": true,
     "schema_version": 3,
     "solution": false
    }
   },
   "outputs": [
    {
     "data": {
      "text/plain": [
       "2"
      ]
     },
     "execution_count": 5,
     "metadata": {},
     "output_type": "execute_result"
    }
   ],
   "source": [
    "my_function([1], [1])"
   ]
  },
  {
   "cell_type": "code",
   "execution_count": 6,
   "id": "e0f27b28",
   "metadata": {
    "nbgrader": {
     "grade": false,
     "grade_id": "cell-114f1ee8d7030533",
     "locked": true,
     "schema_version": 3,
     "solution": false
    }
   },
   "outputs": [],
   "source": [
    "my_function([1], ['1'])"
   ]
  },
  {
   "cell_type": "markdown",
   "id": "be6920e4",
   "metadata": {
    "nbgrader": {
     "grade": false,
     "grade_id": "cell-f7ccbf88f9481134",
     "locked": true,
     "schema_version": 3,
     "solution": false
    }
   },
   "source": [
    "## The End!\n",
    "\n",
    "This is the end of this Coding Lab!\n",
    "\n",
    "Be sure you've made a concerted effort to complete all the tasks specified in this lab. Then, go ahead and submit on datahub!"
   ]
  }
 ],
 "metadata": {
  "celltoolbar": "Create Assignment",
  "kernelspec": {
   "display_name": "Python 3 (ipykernel)",
   "language": "python",
   "name": "python3"
  },
  "language_info": {
   "codemirror_mode": {
    "name": "ipython",
    "version": 3
   },
   "file_extension": ".py",
   "mimetype": "text/x-python",
   "name": "python",
   "nbconvert_exporter": "python",
   "pygments_lexer": "ipython3",
   "version": "3.9.5"
  }
 },
 "nbformat": 4,
 "nbformat_minor": 5
}
