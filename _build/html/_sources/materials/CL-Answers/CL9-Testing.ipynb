{
 "cells": [
  {
   "cell_type": "markdown",
   "id": "30963bb8",
   "metadata": {
    "nbgrader": {
     "grade": false,
     "grade_id": "cell-868c65b2364c590e",
     "locked": true,
     "schema_version": 3,
     "solution": false
    }
   },
   "source": [
    "# CL9: Code Projects\n",
    "\n",
    "Welcome to the ninth coding lab!\n",
    "\n",
    "This coding lab focuses on documentation, writing code that adheres to good code style principles, and code testing."
   ]
  },
  {
   "cell_type": "markdown",
   "id": "fb03b80d",
   "metadata": {},
   "source": [
    "## Part 0: Setup \n",
    "\n",
    "For testing out this first question, we'll use the same dataset from the previous lab, which you'll have to read in using `pandas`. Run the cell below before proceeding. "
   ]
  },
  {
   "cell_type": "code",
   "execution_count": null,
   "id": "2269e4c7",
   "metadata": {},
   "outputs": [],
   "source": [
    "import pandas as pd\n",
    "\n",
    "df = pd.read_csv('https://raw.githubusercontent.com/fivethirtyeight/data/master/voter-registration/new-voter-registrations.csv')\n"
   ]
  },
  {
   "cell_type": "markdown",
   "id": "7ccdaca2",
   "metadata": {
    "nbgrader": {
     "grade": false,
     "grade_id": "cell-3c4aaccbc3bd056f",
     "locked": true,
     "schema_version": 3,
     "solution": false
    }
   },
   "source": [
    "## Part I: Code Style & Docuemntation\n",
    "\n",
    "For this first question... a function `get_most_common` is provided:\n",
    "\n",
    "```python\n",
    "# edit code style for this function\n",
    "def get_most_common(d,c):\n",
    "  MC=d[c].value_counts()\n",
    "  a=MC.idxmax();b=MC.max()\n",
    "  return a,b \n",
    "\n",
    "```\n",
    "\n",
    "For this question:\n",
    "1. Take a look at the code and examples provided in the cells to understand what the function is doing. \n",
    "2. Consider the code style guidelines discussed in class and edit the code in the cell below to make the code more readable. \n",
    "3. Add a numpy-style docstring to the function.\n",
    "\n",
    "Note: the name and the functionality of the code will *not* change, but the style (parameter/variable naming, spacing, indentation, capitalization, etc.) should be improved."
   ]
  },
  {
   "cell_type": "code",
   "execution_count": null,
   "id": "2ce8ddff",
   "metadata": {
    "nbgrader": {
     "grade": true,
     "grade_id": "cell-9fb7b80d8ea51c15",
     "locked": false,
     "points": 0,
     "schema_version": 3,
     "solution": true
    }
   },
   "outputs": [],
   "source": [
    "### BEGIN SOLUTION\n",
    "def get_most_common(df, variable):  # better parameter names\n",
    "    \n",
    "    \"\"\" \n",
    "    Identify the most common category that shoes up in the column of the DataFrame\n",
    "    specified on input as wel as how many times that value shows up.\n",
    "    \n",
    "    Parameters\n",
    "    ----------\n",
    "    df : DataFrame\n",
    "        The pandas DataFrame containing the column to be summarized\n",
    "    variable : str\n",
    "        The column in the pandas DataFrame to be summarized\n",
    "        \n",
    "    Returns\n",
    "    -------\n",
    "    max_label : str\n",
    "        The category/label that shows up most frequently in the column interrogated\n",
    "    max_value : int\n",
    "        The number of times the `max_label` shows up\n",
    "    \"\"\"\n",
    "    \n",
    "    # fix indentation; better spacing around operators; improve variable names\n",
    "    most_common = df[variable].value_counts() \n",
    "    max_label = most_common.idxmax()\n",
    "    max_value = most_common.max()  # separate out onto two lines\n",
    "    \n",
    "    return max_label, max_value \n",
    "### END SOLUTION"
   ]
  },
  {
   "cell_type": "code",
   "execution_count": null,
   "id": "dbb3835b",
   "metadata": {},
   "outputs": [],
   "source": [
    "# execute function\n",
    "get_most_common(df, 'Jurisdiction')"
   ]
  },
  {
   "cell_type": "code",
   "execution_count": null,
   "id": "36e8acf4",
   "metadata": {},
   "outputs": [],
   "source": [
    "# execute function\n",
    "# store output in two separate variables\n",
    "month_common, month_val = get_most_common(df, 'Month')\n",
    "print(month_common, month_val)"
   ]
  },
  {
   "cell_type": "markdown",
   "id": "4a44776f",
   "metadata": {
    "nbgrader": {
     "grade": false,
     "grade_id": "cell-a827a6ec9446ec24",
     "locked": true,
     "schema_version": 3,
     "solution": false
    }
   },
   "source": [
    "Provided is a function you've seen before in A3:\n",
    "\n",
    "```python\n",
    "# edit code style for this function\n",
    "def end_chat(i):\n",
    "    if 'quit' in i:o='Bye';c=False\n",
    "    else:o=None;c=True      \n",
    "    return o, c\n",
    "```\n",
    "\n",
    "\n",
    "...but here, it's got particularly terrible code style. As above, edit the function for code style and add a numpy-style docstring. Its functionality will not change, but its readability and documentation will."
   ]
  },
  {
   "cell_type": "code",
   "execution_count": null,
   "id": "eecfb764",
   "metadata": {
    "nbgrader": {
     "grade": false,
     "grade_id": "cell-386b512d8694e96a",
     "locked": false,
     "schema_version": 3,
     "solution": true
    }
   },
   "outputs": [],
   "source": [
    "### BEGIN SOLUTION\n",
    "def end_chat(input_string):  # better parameter name\n",
    "    \n",
    "    \"\"\"\n",
    "    Determine if the word 'quit' is in function's input\n",
    "    \n",
    "    Parameters\n",
    "    ----------\n",
    "    input_string : str\n",
    "        The string to be analyzed to see if it contains the word 'quit'\n",
    "        \n",
    "    \n",
    "    Returns\n",
    "    -------\n",
    "    output : str or None\n",
    "        Function returns the string 'Bye' if 'quit' is in the input_string and None otherwise\n",
    "    chat : bool\n",
    "        Function returns False if 'quit' is in the input_string and True otherwise; controls if chat should continue\n",
    "    \n",
    "    \"\"\"\n",
    "    \n",
    "    # fix indentation; better spacing around operators; improve variable names\n",
    "    if 'quit' in input_string:\n",
    "        output = 'Bye'\n",
    "        chat = False # separate out onto two lines\n",
    "    else:\n",
    "        output = None\n",
    "        chat = True\n",
    "    \n",
    "    return output, chat \n",
    "### END SOLUTION"
   ]
  },
  {
   "cell_type": "code",
   "execution_count": null,
   "id": "daf8073c",
   "metadata": {},
   "outputs": [],
   "source": [
    "# execute function\n",
    "end_chat('I want to quit')"
   ]
  },
  {
   "cell_type": "code",
   "execution_count": null,
   "id": "d21e8db7",
   "metadata": {},
   "outputs": [],
   "source": [
    "# execute function\n",
    "# store output in two separate variables\n",
    "output, chat = end_chat('I want to quit')\n",
    "print(output, chat)"
   ]
  },
  {
   "cell_type": "markdown",
   "id": "96996fdb",
   "metadata": {
    "nbgrader": {
     "grade": false,
     "grade_id": "cell-2be00d7e1d6f39b6",
     "locked": true,
     "schema_version": 3,
     "solution": false
    }
   },
   "source": [
    "## Part II: Code Testing\n",
    "\n",
    "After editing the function above, write a test function `test_get_most_common()` that will test the functionality of the `get_most_common` function above. \n",
    "\n",
    "Note: you'll likely need to create a dummy dataframe within the function"
   ]
  },
  {
   "cell_type": "code",
   "execution_count": null,
   "id": "af43c1f1",
   "metadata": {
    "nbgrader": {
     "grade": false,
     "grade_id": "cell-c082de93aa527b7f",
     "locked": false,
     "schema_version": 3,
     "solution": true
    }
   },
   "outputs": [],
   "source": [
    "### BEGIN SOLUTION\n",
    "def test_get_most_common():\n",
    "    # create data frame for testing\n",
    "    test_df = pd.DataFrame({'col1': ['a', 'b', 'b'], \n",
    "                            'col2': [3, 4, 5]}) \n",
    "    \n",
    "    # execute function\n",
    "    out = get_most_common(test_df, 'col1')\n",
    "    \n",
    "    # add assert statements that test function\n",
    "    assert callable(get_most_common)\n",
    "    assert isinstance(out, tuple)\n",
    "    assert out == ('b', 2)\n",
    "### END SOLUTION"
   ]
  },
  {
   "cell_type": "code",
   "execution_count": null,
   "id": "81a1e6d5",
   "metadata": {
    "nbgrader": {
     "grade": false,
     "grade_id": "cell-7055da283ea651dc",
     "locked": true,
     "schema_version": 3,
     "solution": false
    }
   },
   "outputs": [],
   "source": [
    "# should pass silently\n",
    "# when you execute test\n",
    "test_get_most_common()"
   ]
  },
  {
   "cell_type": "code",
   "execution_count": null,
   "id": "06864230",
   "metadata": {
    "nbgrader": {
     "grade": true,
     "grade_id": "cell-41bf6676180da7b0",
     "locked": true,
     "points": 0,
     "schema_version": 3,
     "solution": false
    }
   },
   "outputs": [],
   "source": [
    "# call test function\n",
    "out = test_get_most_common()\n",
    "# out should store none if passes silently\n",
    "assert out == None"
   ]
  },
  {
   "cell_type": "markdown",
   "id": "24cb5407",
   "metadata": {
    "nbgrader": {
     "grade": false,
     "grade_id": "part4",
     "locked": true,
     "schema_version": 3,
     "solution": false
    }
   },
   "source": [
    "## Part III: `pytest` (*optional*)\n",
    "\n",
    "Let's try out `pytest!`\n",
    "\n",
    "1. Copy the function `get_most_common` to a `functions.py` file (in the same directory as this notebook.)\n",
    "2. Copy the test function `test_get_most_common` to a test file `test_functions.py`. Be sure to add the necessary `import` statement to the top of this file.\n",
    "3. Execute `pytest` in the cell below."
   ]
  },
  {
   "cell_type": "code",
   "execution_count": null,
   "id": "41cfac0a",
   "metadata": {
    "nbgrader": {
     "grade": false,
     "grade_id": "cell-bb97e4691ec8c1dd",
     "locked": false,
     "schema_version": 3,
     "solution": true
    }
   },
   "outputs": [],
   "source": [
    "### BEGIN SOLUTION\n",
    "# executing this should show passing tests \n",
    "# once the above steps are carried out\n",
    "# assumes test_functions.py is in same directory\n",
    "# as this lab\n",
    "!pytest test_functions.py\n",
    "### END SOLUTION"
   ]
  }
 ],
 "metadata": {
  "kernelspec": {
   "display_name": "Python 3 (ipykernel)",
   "language": "python",
   "name": "python3"
  },
  "language_info": {
   "codemirror_mode": {
    "name": "ipython",
    "version": 3
   },
   "file_extension": ".py",
   "mimetype": "text/x-python",
   "name": "python",
   "nbconvert_exporter": "python",
   "pygments_lexer": "ipython3",
   "version": "3.9.7"
  }
 },
 "nbformat": 4,
 "nbformat_minor": 5
}
