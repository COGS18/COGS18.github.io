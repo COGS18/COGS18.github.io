{
 "cells": [
  {
   "cell_type": "markdown",
   "metadata": {
    "slideshow": {
     "slide_type": "slide"
    }
   },
   "source": [
    "**Course Announcements**\n",
    "\n",
    "- **A5** due tonight (11:59)\n",
    "- **Final exam/project** due Mon (12/6; 11:59 PM)\n",
    "- **Prof Office Hours** - Friday (today) 10:30-12:30 (per usual); Mon 1-3 by appt. (see Canvas page for Calendly link to sign up)\n",
    "- **CAPEs** - please fill out your [CAPEs](https://cape.ucsd.edu/) (+1% if >=85\\% of class completes their CAPEs; currently: ~49%)\n",
    "- **[Post-Course Survey](https://docs.google.com/forms/d/e/1FAIpQLSfqwgORTqIj1h6Zb5MJB_StJnAVTgrOEboq60frGv4Z4xN3Wg/viewform?usp=sf_link)** (\"due\" 12/6 11:59 PM; link also on Canvas); ideally, fill out *after* taking final exam/completing final project"
   ]
  },
  {
   "cell_type": "markdown",
   "metadata": {
    "slideshow": {
     "slide_type": "slide"
    }
   },
   "source": [
    "**Final Exam Reminders**\n",
    "\n",
    "- Practice Final Exam Answers Posted (`Exam-Prep/Practice_Final_answer` folder on datahub)\n",
    "- Released today (Friday 12/3) at 5PM\n",
    "- Due Monday 12/6 at 11:59 PM\n",
    "- Fetched, completed and submitted on datahub\n",
    "- There will be multiple files (notebook, CSVs, .py files, etc.)\n",
    "- We have access to all files in the `Final_COGS18_FA21/` directory when you click submit\n",
    "    - On datahub, it may *look* like only the notebook is submitted\n",
    "    - I promise everything in the folder will be submitted"
   ]
  },
  {
   "cell_type": "markdown",
   "metadata": {
    "slideshow": {
     "slide_type": "slide"
    }
   },
   "source": [
    "**Final Project Reminders**\n",
    "- Due Monday 12/6 at 11:59 PM\n",
    "- Submit by either 1) clicking submit on `Project_COGS18_FA21/` on datahub OR 2) submitting zip file on Canvas\n",
    "- Requirements:\n",
    "    - notebook w/ project description (and ideally a demo of how things work)\n",
    "    - script/module w/ at least three *unique* functions/methods (.py file)\n",
    "    - test file w/ at least three test functions (.py file) \n",
    "- Reminder that we're grading for \n",
    "    - approach/code that executes and accomplishes task you specified\n",
    "    - code style & documentation (numpy-style docstrings and comments)\n",
    "    - tests that are in test functions in a test file and actually test the code"
   ]
  },
  {
   "cell_type": "markdown",
   "metadata": {
    "slideshow": {
     "slide_type": "slide"
    }
   },
   "source": [
    "**Final Grades**\n",
    "\n",
    "- Points in class add up to 100 points\n",
    "- I do not round up (there are many opportunities for EC)\n",
    "- P/NP: 70 *points* required to pass \n",
    "    - if you have 70 *points* (not 70%), you will pass the course\n",
    "    - if you currently have 70%, add 0 points for remaining assignments to see how that would affect your final grade in the course."
   ]
  },
  {
   "cell_type": "markdown",
   "metadata": {
    "slideshow": {
     "slide_type": "fragment"
    }
   },
   "source": [
    "**Getting Course Materials off of Datahub**\n",
    "\n",
    "- You will keep datahub access for a while\n",
    "- But, it won't last forever\n",
    "- At the end of finals week, I will post to campuswire instructions how to get all materials off of datahub quickly (so you don't have to download things one by one)"
   ]
  },
  {
   "cell_type": "markdown",
   "metadata": {
    "slideshow": {
     "slide_type": "notes"
    }
   },
   "source": [
    "**Q&A**\n",
    "\n",
    "Q: How is using shortcuts less clear than not using shortcuts?  \n",
    "A: See examples in notes. For example, parsing a list comprehension is more difficult than reading the code for a for loop with a conditional in it\n",
    "\n",
    "Q: Still unsure on how to use a terminal to run my code and see any mistakes :/ What lecture should I revisit?  \n",
    "A: Command Line and Modules\n",
    "\n",
    "Q: If we were also planning to use a chatbot in our project, does it count as a unique function if we update the functions we used in class today? Also, if we use those functions, is that considered plagiarism?  \n",
    "A: It depends how much you \"update\" them as to whether they count as uniqe. For example, if you change the naming, that's not enough. You would have to actually update their functionality (what the code is doing) for them to count as unique. And, you're totally allowed to use the functions presented in class, so long as you also have unique code.\n",
    "\n",
    "Q: Is it necessary to include a test folder in my project? Could I put my test module and function module under a same directory for pytest?  \n",
    "A: Nope. You *must* have the file...but where you put that file is up to you.\n",
    "\n",
    "Q: Do I need to include comment in every function even though the function is very simple? Or I just comment when I think it will promote understanding of my code?  \n",
    "A: A comment in every function is NOT needed; just comment where it will promote understanding.\n",
    "\n",
    "\n",
    "Q: Are we required to use the API's for our projects?  \n",
    "A: Nope.\n",
    "\n",
    "Q: Will there be extra OH from the TA's and IA's?  \n",
    "A: TBD. Keep an eye on Campuswire. (Note they're all working on finals too and trying to figure out their schedules/availability.)\n"
   ]
  },
  {
   "cell_type": "markdown",
   "metadata": {
    "slideshow": {
     "slide_type": "slide"
    }
   },
   "source": [
    "# Wrap Up"
   ]
  },
  {
   "cell_type": "markdown",
   "metadata": {
    "collapsed": true,
    "slideshow": {
     "slide_type": "slide"
    }
   },
   "source": [
    "## The Goal"
   ]
  },
  {
   "cell_type": "markdown",
   "metadata": {
    "slideshow": {
     "slide_type": "fragment"
    }
   },
   "source": [
    "To teach you a skill - of how to do things with Python."
   ]
  },
  {
   "cell_type": "markdown",
   "metadata": {
    "slideshow": {
     "slide_type": "fragment"
    }
   },
   "source": [
    "You've been more formally trained than *many* people out in the world programming."
   ]
  },
  {
   "cell_type": "markdown",
   "metadata": {
    "slideshow": {
     "slide_type": "slide"
    }
   },
   "source": [
    "## Where We've Been:\n",
    "\n",
    "- Python & Jupyter\n",
    "- Variables\n",
    "- Operators\n",
    "- Conditionals\n",
    "- Lists, Tuples & Dictionaries\n",
    "- Loops\n",
    "- Functions\n",
    "- Objects & Classes\n",
    "- Namespaces\n",
    "- Command Line\n",
    "- Scientific Computing, & Open Source\n",
    "- Documentation, Code Style, Code Testing"
   ]
  },
  {
   "cell_type": "markdown",
   "metadata": {
    "slideshow": {
     "slide_type": "slide"
    }
   },
   "source": [
    "#### Clicker Question #1\n",
    "\n",
    "After COGS 18, I feel \\_\\_\\_\\_\\_\\_\\_\\_\\_\\_\\_\\_ my Python programming abilities\n",
    "\n",
    "- A) very confident in\n",
    "- B) somewhat confident in\n",
    "- C) middle-of-the-road about\n",
    "- D) somewhat unsure about\n",
    "- E) very unsure about\n"
   ]
  },
  {
   "cell_type": "markdown",
   "metadata": {
    "slideshow": {
     "slide_type": "slide"
    }
   },
   "source": [
    "#### Clicker Question #2\n",
    "\n",
    "After COGS 18, I feel the following about my future Python programming:\n",
    "\n",
    "- A) will use again for sure\n",
    "- B) may use again\n",
    "- C) unsure if will use again\n",
    "- D) probably won't use again\n",
    "- E) definitely won't use again\n"
   ]
  },
  {
   "cell_type": "markdown",
   "metadata": {
    "slideshow": {
     "slide_type": "slide"
    }
   },
   "source": [
    "## How to Continue with Coding"
   ]
  },
  {
   "cell_type": "markdown",
   "metadata": {
    "slideshow": {
     "slide_type": "fragment"
    }
   },
   "source": [
    "- Write Code\n",
    "- Read Code\n",
    "- Learn and follow standard procedures\n",
    "- Do code reviews\n",
    "- Interact with the community\n",
    "- Build a code portfolio"
   ]
  },
  {
   "cell_type": "markdown",
   "metadata": {
    "slideshow": {
     "slide_type": "slide"
    }
   },
   "source": [
    "## Powered by Python"
   ]
  },
  {
   "cell_type": "markdown",
   "metadata": {
    "slideshow": {
     "slide_type": "fragment"
    }
   },
   "source": [
    "This course used:\n",
    "- Python Programming Language\n",
    "- Jupyter Notebooks\n",
    "- RISE Jupyter Slides\n",
    "- nbgrader\n",
    "- Jupyter Book\n",
    "- scipy stack & many other 3rd party modules"
   ]
  },
  {
   "cell_type": "markdown",
   "metadata": {
    "slideshow": {
     "slide_type": "slide"
    }
   },
   "source": [
    "## Where do you go from here"
   ]
  },
  {
   "cell_type": "markdown",
   "metadata": {
    "slideshow": {
     "slide_type": "fragment"
    }
   },
   "source": [
    "- if want_more_data_science:\n",
    "    - go to COGS 9\n",
    "- if you want *to do* more_data_science:\n",
    "    - ...*and* Python: take COGS 108 or COGS 109\n",
    "    - ...*and* R: take COGS 137\n",
    "    - ...*and* learn machine learning: take COGS 118 series\n",
    "- if interested_in_research:\n",
    "    - look for labs, tell them you can code\n",
    "- if you want_something_else:\n",
    "    - go do it!"
   ]
  },
  {
   "cell_type": "markdown",
   "metadata": {
    "slideshow": {
     "slide_type": "slide"
    }
   },
   "source": [
    "## Acknowledgments"
   ]
  },
  {
   "cell_type": "markdown",
   "metadata": {
    "slideshow": {
     "slide_type": "fragment"
    }
   },
   "source": [
    "Thank you to Tom for his original design of this course."
   ]
  },
  {
   "cell_type": "markdown",
   "metadata": {
    "slideshow": {
     "slide_type": "fragment"
    }
   },
   "source": [
    "Thank you to the TAs & IAs for their tireless work on this class."
   ]
  },
  {
   "cell_type": "markdown",
   "metadata": {
    "slideshow": {
     "slide_type": "fragment"
    }
   },
   "source": [
    "Thank you students for you time, effort and patience. "
   ]
  },
  {
   "cell_type": "markdown",
   "metadata": {
    "slideshow": {
     "slide_type": "fragment"
    }
   },
   "source": [
    "Wishing everyone a wonderful break! Be safe and take care of yourselves!"
   ]
  },
  {
   "cell_type": "markdown",
   "metadata": {
    "collapsed": true,
    "slideshow": {
     "slide_type": "slide"
    }
   },
   "source": [
    "<center><h1> The End "
   ]
  }
 ],
 "metadata": {
  "celltoolbar": "Slideshow",
  "kernelspec": {
   "display_name": "Python 3",
   "language": "python",
   "name": "python3"
  },
  "language_info": {
   "codemirror_mode": {
    "name": "ipython",
    "version": 3
   },
   "file_extension": ".py",
   "mimetype": "text/x-python",
   "name": "python",
   "nbconvert_exporter": "python",
   "pygments_lexer": "ipython3",
   "version": "3.9.5"
  },
  "rise": {
   "scroll": true
  }
 },
 "nbformat": 4,
 "nbformat_minor": 2
}
