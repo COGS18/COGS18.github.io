{
 "cells": [
  {
   "cell_type": "markdown",
   "metadata": {},
   "source": [
    "Answer Key to in-class practice: https://docs.google.com/document/d/1YXiP1LR5dHu4wtQBuJMPYUnFQV2kMnrwyKVTHqoRQXM/edit?usp=sharing"
   ]
  },
  {
   "cell_type": "markdown",
   "metadata": {
    "nbgrader": {
     "grade": false,
     "grade_id": "intro",
     "locked": true,
     "schema_version": 3,
     "solution": false
    }
   },
   "source": [
    "# COGS 18 - Practice Exam 2\n",
    "\n",
    "This is the second practice exam for Spring 2023. It covers topics through the Command Line Lecture.\n",
    "\n",
    "This is worth 0 points and worth 0% of your grade, but the real total exam (in-person + take-home) is out of 12.5 points, worth 12.5% of your grade. \n",
    "\n",
    "**PLEASE DO NOT CHANGE THE NAME OF THIS FILE.**\n",
    "\n",
    "**PLEASE DO NOT COPY & PASTE OR DELETE CELLS INLCUDED IN THE ASSIGNMENT.** (Note that you can add additional cells, if you want to test things out.\n",
    "\n",
    "<span style=\"color:red\">Note: There are WAYYYYYY more questions on this practice exam than on the real exam. This is because a number of students have asked for additional practice problems. So, do not be intimidated by the length here, but feel free to use it for extra practice!</span>"
   ]
  },
  {
   "cell_type": "markdown",
   "metadata": {
    "nbgrader": {
     "grade": false,
     "grade_id": "instructions",
     "locked": true,
     "schema_version": 3,
     "solution": false
    }
   },
   "source": [
    "## Instructions\n",
    "\n",
    "#### Timing\n",
    "- The exam is designed to take you ~1-2h.\n",
    "- There will be a >24 hour window during which you can complete this exam.\n",
    "- If it takes you longer than 1-2h, you're free to use that time.\n",
    "\n",
    "#### The Rules\n",
    "- You are to complete this exam on your own.\n",
    "- This is open-notes & open-Google\n",
    "- You may not talk to any humans about this exam. \n",
    "- The following are all *prohibited*:\n",
    "    - text/phone/online chat communication\n",
    "    - posting questions to a message board where a human could respond (Campuswire, Discord, Chegg, any similar site)\n",
    "    - viewing exam questions from a message board (as described above)\n",
    "    - asking anyone via any form about a question on this test directly\n",
    "- Clarification questions will ***not*** be allowed and there will be no posting on Campuswire about the exam at all. \n",
    "    - Campuswire posts about the exam will not be answered and will be deleted. \n",
    "    - Students who post questions about the exam to Campuswire are at risk of losing points on the exam.\n",
    "    - If you are confused about wording, add a note to your exam explaining your confusion and how you interpreted the question. \n",
    "    - Note: This policy is b/c we are incapable of responding for 24h straight. This is the only way to make it fair across the board for students."
   ]
  },
  {
   "cell_type": "markdown",
   "metadata": {
    "nbgrader": {
     "grade": false,
     "grade_id": "cell-26b08bd4b5ba54ab",
     "locked": true,
     "schema_version": 3,
     "solution": false
    }
   },
   "source": [
    " <span style=\"color: red;\">Note: </span> There _is_ a chance for partial credit on some questions, so _some_ code is better than _no_ code. Even if it throws an error, having some code that partially answers the question will benefit you/your grade."
   ]
  },
  {
   "cell_type": "markdown",
   "metadata": {
    "nbgrader": {
     "grade": false,
     "grade_id": "cell-4d8581ac45c24683",
     "locked": true,
     "schema_version": 3,
     "solution": false,
     "task": false
    }
   },
   "source": [
    "### Q0 - Honor Code\n",
    "\n",
    "In the cell below, include a variable `honor_code` that stores the boolean `True` if you agree to the following statement:\n",
    "\n",
    ">I agree that this exam was completed individually with the knowlege in my brain, information the notes from this course, and/or with searching for help on the Internet *without searching for answers to the text from these questions directly*. I did not ask anyone about specific questions on this exam. I did not post these questions (in part or in whole) on the Internet. I did not copy answers to these questions from anywhere or anyone else. I understand all code I've written on this exam and could explain my answers to someone else if asked.\n"
   ]
  },
  {
   "cell_type": "code",
   "execution_count": 1,
   "metadata": {
    "nbgrader": {
     "grade": false,
     "grade_id": "cell-9dae831891d7a1ad",
     "locked": false,
     "schema_version": 3,
     "solution": true,
     "task": false
    }
   },
   "outputs": [],
   "source": [
    "### BEGIN SOLUTION\n",
    "honor_code = True\n",
    "### END SOLUTION"
   ]
  },
  {
   "cell_type": "code",
   "execution_count": 2,
   "metadata": {
    "nbgrader": {
     "grade": true,
     "grade_id": "cell-8a6d1a928512e45c",
     "locked": true,
     "points": 0.1,
     "schema_version": 3,
     "solution": false,
     "task": false
    }
   },
   "outputs": [],
   "source": [
    "assert honor_code"
   ]
  },
  {
   "cell_type": "markdown",
   "metadata": {
    "nbgrader": {
     "grade": false,
     "grade_id": "part2",
     "locked": true,
     "schema_version": 3,
     "solution": false
    }
   },
   "source": [
    "## Part 1: Methods, Debugging & Code Style"
   ]
  },
  {
   "cell_type": "markdown",
   "metadata": {
    "nbgrader": {
     "grade": false,
     "grade_id": "q1",
     "locked": true,
     "schema_version": 3,
     "solution": false,
     "task": false
    }
   },
   "source": [
    "### Q1 - Method I\n",
    "\n",
    "`isalpha()` is a string method that determines if all the characters in a string are in the alphabet (meaning letters or numbers: A-Z, a-z).\n",
    "\n",
    "Use the `isalpha()` method on two strings (of your choosing) below to create two variables:\n",
    "- `true_var` | should store the value `True`\n",
    "- `false_var` | should store the value `False`"
   ]
  },
  {
   "cell_type": "code",
   "execution_count": 3,
   "metadata": {
    "nbgrader": {
     "grade": true,
     "grade_id": "cell-09260f9c394a5905",
     "locked": false,
     "points": 0,
     "schema_version": 3,
     "solution": true,
     "task": false
    }
   },
   "outputs": [],
   "source": [
    "### BEGIN SOLUTION\n",
    "true_var = 'asdf'.isalpha()\n",
    "false_var = '!!!!'.isalpha()\n",
    "### END SOLUTION"
   ]
  },
  {
   "cell_type": "code",
   "execution_count": 4,
   "metadata": {
    "nbgrader": {
     "grade": true,
     "grade_id": "cell-e9a5e70357e98aef",
     "locked": true,
     "points": 0.2,
     "schema_version": 3,
     "solution": false,
     "task": false
    }
   },
   "outputs": [],
   "source": [
    "assert true_var is not None\n",
    "### BEGIN HIDDEN TESTS\n",
    "assert true_var\n",
    "### END HIDDEN TESTS"
   ]
  },
  {
   "cell_type": "code",
   "execution_count": 5,
   "metadata": {
    "nbgrader": {
     "grade": true,
     "grade_id": "cell-12001d8195362930",
     "locked": true,
     "points": 0.2,
     "schema_version": 3,
     "solution": false,
     "task": false
    }
   },
   "outputs": [],
   "source": [
    "assert false_var is not None\n",
    "### BEGIN HIDDEN TESTS\n",
    "assert not false_var\n",
    "### END HIDDEN TESTS"
   ]
  },
  {
   "cell_type": "markdown",
   "metadata": {
    "nbgrader": {
     "grade": false,
     "grade_id": "cell-122f520b60ffe1a4",
     "locked": true,
     "points": 0.6,
     "schema_version": 3,
     "solution": false,
     "task": true
    }
   },
   "source": [
    "**This \"blank\" cell included intentionally.** Do not do anything here. (It's being used in grading.)\n",
    "\n",
    "=== BEGIN MARK SCHEME ===\n",
    "\n",
    "- uses `isalnum()` (**0.6 pts**)\n",
    "\n",
    "=== END MARK SCHEME ==="
   ]
  },
  {
   "cell_type": "markdown",
   "metadata": {
    "nbgrader": {
     "grade": false,
     "grade_id": "cell-02b864480df846b4",
     "locked": true,
     "schema_version": 3,
     "solution": false,
     "task": false
    }
   },
   "source": [
    "### Q2 - Method II \n",
    "\n",
    "`istitle()` is a string method that determines if the string follows the rules of a title (meaning the first letter of each distinct word is upper case while all other letters are lower case).\n",
    "\n",
    "Use the `istitle()` method on two strings (of your choosing) below to create two variables:\n",
    "- `true_var` | should store the value `True`\n",
    "- `false_var` | should store the value `False`"
   ]
  },
  {
   "cell_type": "code",
   "execution_count": 6,
   "metadata": {
    "nbgrader": {
     "grade": false,
     "grade_id": "cell-be3c54eac262c3d4",
     "locked": false,
     "schema_version": 3,
     "solution": true,
     "task": false
    }
   },
   "outputs": [],
   "source": [
    "### BEGIN SOLUTION\n",
    "true_var = 'My Title'.istitle()\n",
    "false_var = 'MY TITLE'.istitle()\n",
    "### END SOLUTIONs"
   ]
  },
  {
   "cell_type": "code",
   "execution_count": 7,
   "metadata": {
    "nbgrader": {
     "grade": true,
     "grade_id": "cell-1e7cd59711db9b76",
     "locked": true,
     "points": 0,
     "schema_version": 3,
     "solution": false,
     "task": false
    }
   },
   "outputs": [],
   "source": [
    "assert true_var is not None\n",
    "### BEGIN HIDDEN TESTS\n",
    "assert true_var\n",
    "### END HIDDEN TESTS"
   ]
  },
  {
   "cell_type": "code",
   "execution_count": 8,
   "metadata": {
    "nbgrader": {
     "grade": true,
     "grade_id": "cell-80b753f1012acaae",
     "locked": true,
     "points": 0,
     "schema_version": 3,
     "solution": false,
     "task": false
    }
   },
   "outputs": [],
   "source": [
    "assert false_var is not None\n",
    "### BEGIN HIDDEN TESTS\n",
    "assert not false_var\n",
    "### END HIDDEN TESTS"
   ]
  },
  {
   "cell_type": "markdown",
   "metadata": {
    "nbgrader": {
     "grade": false,
     "grade_id": "cell-90b25a499b49a7f3",
     "locked": true,
     "points": 0,
     "schema_version": 3,
     "solution": false,
     "task": true
    }
   },
   "source": [
    "**This \"blank\" cell included intentionally.** Do not do anything here. (It's being used in grading.)\n",
    "\n",
    "=== BEGIN MARK SCHEME ===\n",
    "\n",
    "- uses `istitle()` syntax correctly (**0.35 pts**)\n",
    "\n",
    "=== END MARK SCHEME ==="
   ]
  },
  {
   "cell_type": "markdown",
   "metadata": {
    "nbgrader": {
     "grade": false,
     "grade_id": "cell-ec6253bef69e19d0",
     "locked": true,
     "schema_version": 3,
     "solution": false,
     "task": false
    }
   },
   "source": [
    "### Q3 - Method III\n",
    "\n",
    "Using the `count()` method, code constructs discussed in class, and referencing the `prof_day` variable provided below, generate a dictionary `prof_events`, whose keys are each of the unique elements in `prof_day` and whose corresponding values are the number of times each value shows up in `prof_day`.\n",
    "\n",
    "\n",
    "Notes:\n",
    "- `prof_day` has been defined for you below\n",
    "- `count()` is a list method that counts the number of appearances of a specified element in a list.\n",
    "- Do not hard-code. You should use code contructs to determine `prof_events`."
   ]
  },
  {
   "cell_type": "code",
   "execution_count": 9,
   "metadata": {
    "nbgrader": {
     "grade": false,
     "grade_id": "cell-baf97130cf05f18a",
     "locked": true,
     "schema_version": 3,
     "solution": false,
     "task": false
    }
   },
   "outputs": [],
   "source": [
    "# these variables provided for you\n",
    "# you will not be able to edit this cell\n",
    "prof_day = ['write one exam', 'write one exam', 'grade exam', 'answer email', 'office hours', 'staff meeting']\n"
   ]
  },
  {
   "cell_type": "code",
   "execution_count": 10,
   "metadata": {
    "nbgrader": {
     "grade": true,
     "grade_id": "cell-6992bbe86b5d62a3",
     "locked": true,
     "points": 0,
     "schema_version": 3,
     "solution": false,
     "task": false
    }
   },
   "outputs": [],
   "source": [
    "# hidden test being used in grading\n",
    "### BEGIN HIDDEN TESTS\n",
    "# change one value in list to ensure code still executes (aka is not hard-coded)\n",
    "prof_day = ['write one exam', 'write one exam', 'answer email', 'answer email', 'office hours', 'staff meeting']\n",
    "### END HIDDEN TESTS"
   ]
  },
  {
   "cell_type": "code",
   "execution_count": 11,
   "metadata": {
    "nbgrader": {
     "grade": false,
     "grade_id": "cell-43c896bbf4a8a127",
     "locked": false,
     "schema_version": 3,
     "solution": true,
     "task": false
    }
   },
   "outputs": [
    {
     "data": {
      "text/plain": [
       "{'write one exam': 2, 'answer email': 2, 'office hours': 1, 'staff meeting': 1}"
      ]
     },
     "execution_count": 11,
     "metadata": {},
     "output_type": "execute_result"
    }
   ],
   "source": [
    "### BEGIN SOLUTION\n",
    "prof_events = {}\n",
    "\n",
    "for ele in prof_day:\n",
    "    prof_events[ele] = prof_day.count(ele)\n",
    "\n",
    "prof_events\n",
    "### END SOLUTION"
   ]
  },
  {
   "cell_type": "code",
   "execution_count": 12,
   "metadata": {
    "nbgrader": {
     "grade": true,
     "grade_id": "cell-7cc63f7c144c54af",
     "locked": true,
     "points": 0,
     "schema_version": 3,
     "solution": false,
     "task": false
    }
   },
   "outputs": [],
   "source": [
    "assert prof_events is not None\n",
    "### BEGIN HIDDEN TESTS\n",
    "# check that keys are all what they should be\n",
    "assert all(elem in list(prof_events.keys())  for elem in ['write one exam', 'answer email', 'office hours', 'staff meeting'])\n",
    "### END HIDDEN TESTS"
   ]
  },
  {
   "cell_type": "code",
   "execution_count": 13,
   "metadata": {
    "nbgrader": {
     "grade": true,
     "grade_id": "cell-1de53862761ee0f0",
     "locked": true,
     "points": 0,
     "schema_version": 3,
     "solution": false,
     "task": false
    }
   },
   "outputs": [],
   "source": [
    "# hidden tests for task above\n",
    "### BEGIN HIDDEN TESTS\n",
    "# check that values are what they should be\n",
    "assert sum(prof_events.values()) == 6\n",
    "assert all(elem in list(prof_events.values()) for elem in [2,1])\n",
    "### END HIDDEN TESTS"
   ]
  },
  {
   "cell_type": "markdown",
   "metadata": {
    "nbgrader": {
     "grade": false,
     "grade_id": "cell-bb8e34b344f32197",
     "locked": true,
     "points": 0,
     "schema_version": 3,
     "solution": false,
     "task": true
    }
   },
   "source": [
    "**This \"blank\" cell included intentionally.** Do not do anything here. (It's being used in grading.)\n",
    "\n",
    "=== BEGIN MARK SCHEME ===\n",
    "\n",
    "Check if points lost on autograder above: \n",
    "- initialized or created `prof_events` as a dictionary (**0.25 pts**)\n",
    "- Used count() method correctly (**0.25 pts**)\n",
    "- updated `prof_events` dictionary correctly (**0.25 pts**)\n",
    "\n",
    "=== END MARK SCHEME ==="
   ]
  },
  {
   "cell_type": "markdown",
   "metadata": {
    "nbgrader": {
     "grade": false,
     "grade_id": "q6",
     "locked": true,
     "schema_version": 3,
     "solution": false,
     "task": false
    }
   },
   "source": [
    "### Q4 - Debugging & Code Style\n",
    "\n",
    "In the cell below, there is a function that is not operating as anticipated *and* that has bad code style.\n",
    "\n",
    "`count_consonants` is _supposed_ to take a string as input and count the number of each consonant in the `input_string` (input parameter), storing the output in a dictionary where the key is the consonant and the value is the number of times it appears in the input. \n",
    "\n",
    "Note that we want capitalization to be considered such that the capital and lower case letters are counted together, and the lower case letter is used as the key (i.e. 'A' and 'a' would both be counted under the key 'a')\n",
    "\n",
    "Specifically, if the `input_string` were \"Mohammed\", the function ould return: `{'m': 3, 'h': 1, 'd': 1}`\n",
    "\n",
    "Debug, edit, and test the function provided below so that it accomplishes the intended goal. \n",
    "\n",
    "```python\n",
    "def count_consonants():\n",
    "    out={}\n",
    "    vowels=['a','e','i','o','u']\n",
    "    for char in input_string:\n",
    "        if char not in vowels:\n",
    "            if char not in out:\n",
    "                out[char]=1\n",
    "\n",
    "```\n",
    "\n",
    "*Then* be sure to **edit the function you generate so that it follows the code style guidelines** discussed in class."
   ]
  },
  {
   "cell_type": "code",
   "execution_count": 14,
   "metadata": {
    "nbgrader": {
     "grade": false,
     "grade_id": "cell-bf67b586499664bc",
     "locked": false,
     "schema_version": 3,
     "solution": true
    }
   },
   "outputs": [],
   "source": [
    "### BEGIN SOLUTION\n",
    "def count_consonants(input_string):\n",
    "    out = {}\n",
    "    vowels = ['a', 'e', 'i', 'o', 'u']\n",
    "    \n",
    "    for char in input_string:\n",
    "        char = char.lower()\n",
    "        \n",
    "        if char not in vowels:\n",
    "            if char not in out:\n",
    "                out[char] = 1\n",
    "            else:\n",
    "                out[char] += 1\n",
    "    return out\n",
    "### END SOLUTION"
   ]
  },
  {
   "cell_type": "code",
   "execution_count": 15,
   "metadata": {},
   "outputs": [],
   "source": [
    "# BE SURE YOUR ANSWER IS IN THE CELL ABOVE\n",
    "# but you can use this cell to test/execute/check your function (optional)"
   ]
  },
  {
   "cell_type": "code",
   "execution_count": 16,
   "metadata": {
    "nbgrader": {
     "grade": true,
     "grade_id": "q6-test1",
     "locked": true,
     "points": 0.35,
     "schema_version": 3,
     "solution": false,
     "task": false
    }
   },
   "outputs": [],
   "source": [
    "assert count_consonants is not None\n",
    "\n",
    "### BEGIN HIDDEN TESTS\n",
    "assert count_consonants('Taylor') == {'t': 1, 'y': 1, 'l': 1, 'r': 1}\n",
    "### END HIDDEN TESTS"
   ]
  },
  {
   "cell_type": "code",
   "execution_count": 17,
   "metadata": {
    "nbgrader": {
     "grade": true,
     "grade_id": "q6-test2",
     "locked": true,
     "points": 0.35,
     "schema_version": 3,
     "solution": false,
     "task": false
    }
   },
   "outputs": [],
   "source": [
    "assert callable(count_consonants)\n",
    "\n",
    "### BEGIN HIDDEN TESTS\n",
    "assert count_consonants('AaBbCc') == {'b': 2, 'c': 2}\n",
    "### END HIDDEN TESTS"
   ]
  },
  {
   "cell_type": "markdown",
   "metadata": {
    "nbgrader": {
     "grade": false,
     "grade_id": "q6-test3",
     "locked": true,
     "points": 0.8,
     "schema_version": 3,
     "solution": false,
     "task": true
    }
   },
   "source": [
    "**This \"blank\" cell included intentionally.** Do not do anything here. (It's being used in grading.)\n",
    "\n",
    "=== BEGIN MARK SCHEME ===\n",
    "\n",
    "Debugging:\n",
    "- input parameter included (**0.2 points**)\n",
    "- captitalization accounted for (**0.2 points**)\n",
    "- else condition (or equivalent) included (**0.2 points**)\n",
    "- return statement included (**0.2 points**)\n",
    "\n",
    "Code Style: \n",
    "- has reasonable spacing around operators\n",
    "- some reasonable line spacing introduced\n",
    "=== END MARK SCHEME ==="
   ]
  },
  {
   "cell_type": "markdown",
   "metadata": {
    "nbgrader": {
     "grade": false,
     "grade_id": "q7",
     "locked": true,
     "schema_version": 3,
     "solution": false
    }
   },
   "source": [
    "### Q5 - Debugging & Code Style\n",
    "\n",
    "In the cell below, there is a function that is not operating as anticipated *and* has bad code style.\n",
    "\n",
    "`new_encrypt` is _supposed_ to take a string as input and return the reverse alphabetical string as output, meaning, given a character, return the capitalized character in the reverse position within the alphabet. \n",
    "\n",
    "For example, if the input character is 'B' or 'b', the function would store 'Y' in the output string. If the character is 'A' or 'a', the function would store 'Z'. (and vice versa: the input 'Z' or 'z' would store 'A').\n",
    "\n",
    "Specifically, if the `input_string` were \"ABc\", the function would `return`: 'ZYX'\n",
    "\n",
    "Debug, edit, and test the function provided below so that it accomplishes the intended goal.\n",
    "\n",
    "```python\n",
    "def new_encrypt():\n",
    "    alpha='ABCDEFGHIJKLMNOPQRSTUVWXYZ'\n",
    "    reverse_alpha='ZYXWVUTSRQPONMLKJIHGFEDCBA'\n",
    "    for char in input_string:\n",
    "        if char in alpha:\n",
    "            position=alpha.find(char)\n",
    "            output_string+=reverse_alpha[position]\n",
    "        else:\n",
    "            output_string=None\n",
    "            break\n",
    "```\n",
    "\n",
    "*Then* be sure to **edit the function you generate so that it follows the code style guidelines** discussed in class."
   ]
  },
  {
   "cell_type": "code",
   "execution_count": 18,
   "metadata": {
    "nbgrader": {
     "grade": false,
     "grade_id": "q7-solution",
     "locked": false,
     "schema_version": 3,
     "solution": true
    }
   },
   "outputs": [],
   "source": [
    "### BEGIN SOLUTION\n",
    "def new_encrypt(input_string):\n",
    "    alpha = 'ABCDEFGHIJKLMNOPQRSTUVWXYZ'\n",
    "    reverse_alpha = 'ZYXWVUTSRQPONMLKJIHGFEDCBA'\n",
    "\n",
    "    output_string = ''\n",
    "\n",
    "    for char in input_string:\n",
    "        char = char.upper()\n",
    "        if char in alpha:\n",
    "            position = alpha.find(char)\n",
    "            output_string += reverse_alpha[position]\n",
    "        else:\n",
    "            output_string = None\n",
    "            break\n",
    "        \n",
    "    return output_string\n",
    "### END SOLUTION"
   ]
  },
  {
   "cell_type": "code",
   "execution_count": 19,
   "metadata": {},
   "outputs": [],
   "source": [
    "# BE SURE YOUR ANSWER IS IN THE CELL ABOVE\n",
    "# but you can use this cell to test/execute/check your function (optional)"
   ]
  },
  {
   "cell_type": "code",
   "execution_count": 20,
   "metadata": {
    "nbgrader": {
     "grade": true,
     "grade_id": "q7-test1",
     "locked": true,
     "points": 0.25,
     "schema_version": 3,
     "solution": false,
     "task": false
    }
   },
   "outputs": [],
   "source": [
    "assert new_encrypt\n",
    "### BEGIN HIDDEN TESTS\n",
    "assert new_encrypt('mohammed') == 'NLSZNNVW'\n",
    "### END HIDDEN TESTS"
   ]
  },
  {
   "cell_type": "code",
   "execution_count": 21,
   "metadata": {
    "nbgrader": {
     "grade": true,
     "grade_id": "q7-test2",
     "locked": true,
     "points": 0.25,
     "schema_version": 3,
     "solution": false,
     "task": false
    }
   },
   "outputs": [],
   "source": [
    "assert callable(new_encrypt)\n",
    "\n",
    "### BEGIN HIDDEN TESTS\n",
    "# will work even if they missed the .upper()\n",
    "# has correct input parameter\n",
    "assert new_encrypt(input_string='ABC') == 'ZYX'\n",
    "### END HIDDEN TESTS"
   ]
  },
  {
   "cell_type": "markdown",
   "metadata": {
    "nbgrader": {
     "grade": false,
     "grade_id": "q7-test3",
     "locked": true,
     "points": 0.75,
     "schema_version": 3,
     "solution": false,
     "task": true
    }
   },
   "source": [
    "**This \"blank\" cell included intentionally.** Do not do anything here. (It's being used in grading.)\n",
    "\n",
    "=== BEGIN MARK SCHEME ===\n",
    "\n",
    "Debugging:\n",
    "- `input_string` parameter included (**0.15 points**)\n",
    "- empty `output_string` initialized (**0.2 points**)\n",
    "- capitalization accounted for (**0.2 points**)\n",
    "- `return` statement included (**0.2 points**)\n",
    "\n",
    "Code Style: \n",
    "- has reasonable spacing around operators\n",
    "- some reasonable line spacing introduced\n",
    "\n",
    "=== END MARK SCHEME ==="
   ]
  },
  {
   "cell_type": "markdown",
   "metadata": {
    "nbgrader": {
     "grade": false,
     "grade_id": "cell-6dcb551ee590c420",
     "locked": true,
     "schema_version": 3,
     "solution": false,
     "task": false
    }
   },
   "source": [
    "### Q6 - Debugging (1.5 points)\n",
    "\n",
    "The following not-totally-functioning `give_ticket()` function has been provided for you. The *goal* of this function, is given two inputs (`speed` and `zone`), the function should return the boolean True if the person should receive a ticket and the boolean False otherwise.\n",
    "\n",
    "The rules for giving a ticket depend upon the driver's speed and the zone in which they were driving. They would get a ticket if: 1) they're in a 'private' `zone` and their speed is above 5, 2) they're in a 'local' `zone` and their speed is above 25, or 3) they're in a 'highway' `zone` and their speed is above 65. \n",
    "\n",
    "For example, if the driver's `speed` was 25 and their zone was 'local', the function would return `False`. However, if in the same zone, and their speed were 26, the function would return `True`. \n",
    "\n",
    "Consider the function provided below and then debug to accomplish the task specified above.:\n",
    "\n",
    "```python\n",
    "def give_ticket(self, speed, zone):\n",
    "    if zone = 'private' or speed > 5:\n",
    "        print(True)\n",
    "    elif zone = 'local' or speed > 25:\n",
    "        print(True)\n",
    "    elif zone = 'highway' or speed > 65:\n",
    "        print(True)\n",
    "    else:\n",
    "        print(False)\n",
    "```\n",
    "\n",
    "Note: Do not change the name of the function (`give_ticket`), and the parameter names provided in the instructions (`speed`, `zone`) must be used."
   ]
  },
  {
   "cell_type": "code",
   "execution_count": 1,
   "metadata": {
    "nbgrader": {
     "grade": false,
     "grade_id": "cell-ee5cbe431e55aeb8",
     "locked": false,
     "schema_version": 3,
     "solution": true,
     "task": false
    }
   },
   "outputs": [],
   "source": [
    "### BEGIN SOLUTION\n",
    "def give_ticket(speed, zone):\n",
    "\n",
    "    if zone == 'private' and speed > 5:\n",
    "        ticket = True\n",
    "    elif zone == 'local' and speed > 25:\n",
    "        ticket = True\n",
    "    elif zone == 'highway' and speed > 65:\n",
    "        ticket = True\n",
    "    else:\n",
    "        ticket = False\n",
    "\n",
    "    return ticket\n",
    "### END SOLUTION"
   ]
  },
  {
   "cell_type": "code",
   "execution_count": 2,
   "metadata": {},
   "outputs": [],
   "source": [
    "# BE SURE YOUR ANSWER IS IN THE CELL ABOVE\n",
    "# but you can use this cell to test/execute/check your thinking (optional)"
   ]
  },
  {
   "cell_type": "code",
   "execution_count": 3,
   "metadata": {
    "nbgrader": {
     "grade": true,
     "grade_id": "cell-d3ecf602a2d3eee9",
     "locked": true,
     "points": 0,
     "schema_version": 3,
     "solution": false,
     "task": false
    }
   },
   "outputs": [],
   "source": [
    "assert give_ticket\n",
    "### BEGIN HIDDEN TESTS\n",
    "assert give_ticket(speed=6, zone='private') \n",
    "assert give_ticket(speed=26, zone='local') \n",
    "assert give_ticket(speed=66, zone='highway') \n",
    "### END HIDDEN TESTS"
   ]
  },
  {
   "cell_type": "code",
   "execution_count": 4,
   "metadata": {
    "nbgrader": {
     "grade": true,
     "grade_id": "cell-f70941db79b59474",
     "locked": true,
     "points": 0,
     "schema_version": 3,
     "solution": false,
     "task": false
    }
   },
   "outputs": [],
   "source": [
    "assert callable(give_ticket)\n",
    "### BEGIN HIDDEN TESTS\n",
    "assert not give_ticket(speed=5, zone='private') \n",
    "assert not give_ticket(speed=10, zone='local') \n",
    "assert not give_ticket(speed=45, zone='highway') \n",
    "### END HIDDEN TESTS"
   ]
  },
  {
   "cell_type": "markdown",
   "metadata": {
    "nbgrader": {
     "grade": false,
     "grade_id": "cell-c0f97983945fb210",
     "locked": true,
     "points": 0,
     "schema_version": 3,
     "solution": false,
     "task": true
    }
   },
   "source": [
    "**This \"blank\" cell included intentionally.** Do not do anything here. (It's being used in grading.)\n",
    "\n",
    "=== BEGIN MARK SCHEME ===\n",
    "\n",
    "Check if points lost on autograder above: \n",
    "- `self` removed as a parameter (**0.1 pts**)\n",
    "- fixed conditional operator `=` to `==` (**0.25 pts**)\n",
    "- `or` changed to `and` in conditional (**0.25 pts**)\n",
    "- `print()` statements changed to store variable (**0.25 pts**)\n",
    "- `reuturn` statement added (**0.15 pts**)\n",
    "                                                              \n",
    "=== END MARK SCHEME ==="
   ]
  },
  {
   "cell_type": "markdown",
   "metadata": {
    "nbgrader": {
     "grade": false,
     "grade_id": "part1",
     "locked": true,
     "schema_version": 3,
     "solution": false
    }
   },
   "source": [
    "## Part 2: Loops & Functions\n",
    "\n",
    "Note this section has *more* questions than your real exam will have. This is just to get you additional practice."
   ]
  },
  {
   "cell_type": "markdown",
   "metadata": {
    "nbgrader": {
     "grade": false,
     "grade_id": "q4",
     "locked": true,
     "schema_version": 3,
     "solution": false,
     "task": false
    }
   },
   "source": [
    "### Q7 - Function execution\n",
    "\n",
    "The cell below includes a function that has been provided for you. After running the cell below (to define this function), execute (use) this function to create the following variables under the specified conditions:\n",
    "\n",
    "1. `square_default` | execute the `square_all` function using the default parameter such that the output will carry out the function on a list of input values containing the integers 2, 3, and 4. \n",
    "2. `power_three` | Use the same input values as above, but this time, use the `square_all` function provided to raise all input values to the power 3\n",
    "3. `out_4` | Execute the `square_all` function such that `out_4` will store a list with 4 values, each of which is the integer 4."
   ]
  },
  {
   "cell_type": "code",
   "execution_count": 26,
   "metadata": {
    "nbgrader": {
     "grade": false,
     "grade_id": "q4-funct",
     "locked": true,
     "schema_version": 3,
     "solution": false,
     "task": false
    }
   },
   "outputs": [],
   "source": [
    "def square_all(collection, power=2):\n",
    "    \n",
    "    square_list = []\n",
    "    for val in collection:\n",
    "        square_list.append(val**power)\n",
    "    \n",
    "    return square_list"
   ]
  },
  {
   "cell_type": "code",
   "execution_count": 27,
   "metadata": {},
   "outputs": [],
   "source": [
    "# BE SURE YOUR ANSWER IS IN THE CELL BELOW\n",
    "# but you can use this cell to test/execute/check your thinking (optional)"
   ]
  },
  {
   "cell_type": "code",
   "execution_count": 28,
   "metadata": {
    "nbgrader": {
     "grade": false,
     "grade_id": "q4-solution",
     "locked": false,
     "schema_version": 3,
     "solution": true,
     "task": false
    }
   },
   "outputs": [],
   "source": [
    "### BEGIN SOLUTION\n",
    "square_default = square_all([2,3,4])\n",
    "power_three = square_all([2,3,4], 3)\n",
    "out_4 = square_all([2,2,2,2]) # this execution could differ\n",
    "### END SOLUTION"
   ]
  },
  {
   "cell_type": "code",
   "execution_count": 29,
   "metadata": {
    "nbgrader": {
     "grade": true,
     "grade_id": "q4-test1",
     "locked": true,
     "points": 0,
     "schema_version": 3,
     "solution": false,
     "task": false
    }
   },
   "outputs": [],
   "source": [
    "assert square_default is not None\n",
    "\n",
    "### BEGIN HIDDEN TESTS\n",
    "assert  square_default == [4,9,16]\n",
    "### END HIDDEN TESTS"
   ]
  },
  {
   "cell_type": "code",
   "execution_count": 30,
   "metadata": {
    "nbgrader": {
     "grade": true,
     "grade_id": "q4-test2",
     "locked": true,
     "points": 0,
     "schema_version": 3,
     "solution": false,
     "task": false
    }
   },
   "outputs": [],
   "source": [
    "assert power_three is not None\n",
    "\n",
    "### BEGIN HIDDEN TESTS\n",
    "assert power_three  == [8, 27, 64]\n",
    "### END HIDDEN TESTS"
   ]
  },
  {
   "cell_type": "code",
   "execution_count": 31,
   "metadata": {
    "nbgrader": {
     "grade": true,
     "grade_id": "q4-test3",
     "locked": true,
     "points": 0,
     "schema_version": 3,
     "solution": false,
     "task": false
    }
   },
   "outputs": [],
   "source": [
    "assert out_4 is not None\n",
    "\n",
    "### BEGIN HIDDEN TESTS\n",
    "assert out_4  == [4,4,4,4]\n",
    "### END HIDDEN TESTS"
   ]
  },
  {
   "cell_type": "markdown",
   "metadata": {
    "nbgrader": {
     "grade": false,
     "grade_id": "q4-test4",
     "locked": true,
     "points": 0,
     "schema_version": 3,
     "solution": false,
     "task": true
    }
   },
   "source": [
    "**This \"blank\" cell included intentionally.** Do not do anything here. (It's being used in grading.)\n",
    "\n",
    "=== BEGIN MARK SCHEME ===\n",
    "\n",
    "function executed appropriately for variable creation (aka not hard coded) (**1 point** ; 0.33 per function call)\n",
    "\n",
    "=== END MARK SCHEME ==="
   ]
  },
  {
   "cell_type": "markdown",
   "metadata": {
    "nbgrader": {
     "grade": false,
     "grade_id": "cell-890fd54197ddc82d",
     "locked": true,
     "schema_version": 3,
     "solution": false,
     "task": false
    }
   },
   "source": [
    "### Q8 - Function Execution\n",
    "\n",
    "The function `count_sentences()` has been provided for you below. Note that `split()` is a string method that splits a string at the character specified within the parentheses of the method call.\n",
    "\n",
    "**Part 1** \n",
    "\n",
    "First, in the cell provided below containing `YOUR ANSWER HERE`, describe what the `count_sentences()` function accomplishes. This should include both 1) the overall task accomplished and 2) how the specific code used accomplishes this task."
   ]
  },
  {
   "cell_type": "code",
   "execution_count": 32,
   "metadata": {
    "nbgrader": {
     "grade": false,
     "grade_id": "cell-499ed96ef2b003e9",
     "locked": true,
     "schema_version": 3,
     "solution": false,
     "task": false
    }
   },
   "outputs": [],
   "source": [
    "def count_sentences(text):\n",
    "    sentences = text.split('.')\n",
    "    \n",
    "    if sentences[-1]=='':\n",
    "        num_sentences = len(sentences) - 1\n",
    "    else:\n",
    "        num_sentences = len(sentences)\n",
    "        \n",
    "    return num_sentences"
   ]
  },
  {
   "cell_type": "code",
   "execution_count": 33,
   "metadata": {},
   "outputs": [],
   "source": [
    "# BE SURE YOUR ANSWER IS IN THE CELL BELOW\n",
    "# but you can use this cell to test/execute/check your thinking (optional)"
   ]
  },
  {
   "cell_type": "markdown",
   "metadata": {
    "nbgrader": {
     "grade": false,
     "grade_id": "cell-f060a0b5dbbc43db",
     "locked": true,
     "points": 0,
     "schema_version": 3,
     "solution": false,
     "task": true
    }
   },
   "source": [
    "Describe the `count_sentences()` function here.\n",
    "\n",
    "\n",
    "=== BEGIN MARK SCHEME ===\n",
    "\n",
    "- explains task generally accurately (**0.25 pts**)\n",
    "- explains what `.split()` does in context accurately (**0.25 pts**)\n",
    "- explains what conditional does/why it's needed (**0.25 pts**)\n",
    "\n",
    "=== END MARK SCHEME ==="
   ]
  },
  {
   "cell_type": "markdown",
   "metadata": {
    "nbgrader": {
     "grade": false,
     "grade_id": "cell-931ecd95a8a4a45f",
     "locked": true,
     "schema_version": 3,
     "solution": false,
     "task": false
    }
   },
   "source": [
    "**Part 2**\n",
    "\n",
    "Execute the `count_sentences()` function such that it:\n",
    "- returns `2`; assign this output to the variable `out_2`."
   ]
  },
  {
   "cell_type": "code",
   "execution_count": 34,
   "metadata": {
    "nbgrader": {
     "grade": false,
     "grade_id": "cell-b60e1b7443ba1cb1",
     "locked": false,
     "schema_version": 3,
     "solution": true,
     "task": false
    }
   },
   "outputs": [],
   "source": [
    "### BEGIN SOLUTION\n",
    "out_2 = count_sentences('A sentence with words. A second sentence with words.')\n",
    "### END SOLUTION"
   ]
  },
  {
   "cell_type": "code",
   "execution_count": 35,
   "metadata": {
    "nbgrader": {
     "grade": true,
     "grade_id": "cell-b92e934f9e45a69a",
     "locked": true,
     "points": 0,
     "schema_version": 3,
     "solution": false,
     "task": false
    }
   },
   "outputs": [],
   "source": [
    "assert out_2\n",
    "### BEGIN HIDDEN TESTS\n",
    "assert out_2 == 2\n",
    "### END HIDDEN TESTS"
   ]
  },
  {
   "cell_type": "markdown",
   "metadata": {
    "nbgrader": {
     "grade": false,
     "grade_id": "cell-8d8d84eb3b622760",
     "locked": true,
     "points": 0,
     "schema_version": 3,
     "solution": false,
     "task": true
    }
   },
   "source": [
    "**This \"blank\" cell included intentionally.** Do not do anything here. (It's being used in grading.)\n",
    "\n",
    "=== BEGIN MARK SCHEME ===\n",
    "\n",
    "- remove autograder credit above if function not executed\n",
    "\n",
    "=== END MARK SCHEME ==="
   ]
  },
  {
   "cell_type": "markdown",
   "metadata": {
    "nbgrader": {
     "grade": false,
     "grade_id": "q2",
     "locked": true,
     "schema_version": 3,
     "solution": false
    }
   },
   "source": [
    "### Q9 - `count_int` \n",
    "\n",
    "Write a function `count_int` that will take a tuple or list as the input and count the number (count) of integer values in that tuple/list, returning this value from the function. \n",
    "\n",
    "For example, if 3 of the values in the input list were integers, the function would return 3.\n",
    "\n",
    "Note: You can assume the input to this function will be a tuple or list and do *not* need to write code to check whether or not this is true."
   ]
  },
  {
   "cell_type": "code",
   "execution_count": 36,
   "metadata": {
    "nbgrader": {
     "grade": false,
     "grade_id": "q2-solution",
     "locked": false,
     "schema_version": 3,
     "solution": true
    }
   },
   "outputs": [],
   "source": [
    "### BEGIN SOLUTION\n",
    "def count_int(col):\n",
    "    count = 0\n",
    "    \n",
    "    for val in col:\n",
    "        if type(val) == int:\n",
    "            count += 1\n",
    "    \n",
    "    return count\n",
    "### END SOLUTION"
   ]
  },
  {
   "cell_type": "code",
   "execution_count": 37,
   "metadata": {},
   "outputs": [],
   "source": [
    "# BE SURE YOUR ANSWER IS IN THE CELL ABOVE\n",
    "# but you can use this cell to test/execute/check your function (optional)"
   ]
  },
  {
   "cell_type": "code",
   "execution_count": 38,
   "metadata": {
    "nbgrader": {
     "grade": true,
     "grade_id": "q5-test1",
     "locked": true,
     "points": 0,
     "schema_version": 3,
     "solution": false,
     "task": false
    }
   },
   "outputs": [],
   "source": [
    "assert callable(count_int)\n",
    "\n",
    "### BEGIN HIDDEN TESTS\n",
    "assert count_int((1,2,3,4,5,'string',4.4)) == 5\n",
    "assert count_int([1,2,3,4,5,'string',4.4]) == 5\n",
    "### END HIDDEN TESTS"
   ]
  },
  {
   "cell_type": "markdown",
   "metadata": {
    "nbgrader": {
     "grade": false,
     "grade_id": "q5-test2",
     "locked": true,
     "points": 0,
     "schema_version": 3,
     "solution": false,
     "task": true
    }
   },
   "source": [
    "**This \"blank\" cell included intentionally.** Do not do anything here. (It's being used in grading.)\n",
    "\n",
    "=== BEGIN MARK SCHEME ===\n",
    "\n",
    "partial credit for answer above:\n",
    "\n",
    "- function defined correctly (**0.5 points**)\n",
    "- input parameter specified  (**0.5 points**)\n",
    "- counter initialized (**0.5 points**)\n",
    "- for loop (or equivalent) correct (**0.2 points**)\n",
    "- conditional (or equivalent) correct (**0.3 points**)\n",
    "- counter incremented correctly (**0.5 points**) \n",
    "- `return` statement included (**0.5 points**)\n",
    "\n",
    "=== END MARK SCHEME ==="
   ]
  },
  {
   "cell_type": "markdown",
   "metadata": {
    "nbgrader": {
     "grade": false,
     "grade_id": "q5",
     "locked": true,
     "schema_version": 3,
     "solution": false
    }
   },
   "source": [
    "### Q10 - `modify_string`\n",
    "\n",
    "\n",
    "In this question, you're going to define a function called `modify_string()` that will change `input_string` using the key-value pairs in `new_language` (provided below), ultimately returning the updated name from the function.\n",
    "\n",
    "Specifically, if any of the letters in your name (`input_string`) are keys in the dictionary `new_language` below, use that key's value in that letter's place in the string being output from the function. If the letter is not in `new_language`, add the original character from `input_string` to the string being output from the function.\n",
    "\n",
    "For example, if `input_string` were 'Shannon', `modif_string()` would `return` 'Shӓnnðn' (the a and the o have the modified character from `new_language`)\n",
    "\n",
    "\n",
    "This function should have a single parameter: `input_string` - the string to be modified."
   ]
  },
  {
   "cell_type": "code",
   "execution_count": 43,
   "metadata": {
    "nbgrader": {
     "grade": false,
     "grade_id": "cell-65f88f21e0a8d293",
     "locked": true,
     "schema_version": 3,
     "solution": false,
     "task": false
    }
   },
   "outputs": [],
   "source": [
    "new_language = {'a': 'ӓ',\n",
    "                'e' : 'ɚ',\n",
    "                'i' : '¡',\n",
    "                'o' : 'ð',\n",
    "                'u' : 'û',\n",
    "                'A' : 'Ӓ',\n",
    "                'E' : 'ɛ',\n",
    "                'O' : 'Ó',\n",
    "                'U' : 'Ü'}"
   ]
  },
  {
   "cell_type": "code",
   "execution_count": 44,
   "metadata": {
    "nbgrader": {
     "grade": false,
     "grade_id": "q5-solution",
     "locked": false,
     "schema_version": 3,
     "solution": true
    }
   },
   "outputs": [],
   "source": [
    "### BEGIN SOLUTION\n",
    "def modify_string(input_string):\n",
    "    \n",
    "    new_language = {'a': 'ӓ',\n",
    "                    'e' : 'ɚ',\n",
    "                    'i' : '¡',\n",
    "                    'o' : 'ð',\n",
    "                    'u' : 'û',\n",
    "                    'A' : 'Ӓ',\n",
    "                    'E' : 'ɛ', \n",
    "                    'O' : 'Ó', \n",
    "                    'U' : 'Ü'}\n",
    "    \n",
    "    modified_name = ''\n",
    "    \n",
    "    for letter in input_string:\n",
    "        if letter in new_language:\n",
    "            modified_name = modified_name + new_language[letter]\n",
    "        else:\n",
    "            modified_name = modified_name + letter\n",
    "\n",
    "    return modified_name\n",
    "                \n",
    "### END SOLUTION"
   ]
  },
  {
   "cell_type": "code",
   "execution_count": 45,
   "metadata": {},
   "outputs": [],
   "source": [
    "# BE SURE YOUR ANSWER IS IN THE CELL ABOVE\n",
    "# but you can use this cell to test/execute/check your function (optional)"
   ]
  },
  {
   "cell_type": "code",
   "execution_count": 46,
   "metadata": {
    "nbgrader": {
     "grade": true,
     "grade_id": "test1",
     "locked": true,
     "points": 0.25,
     "schema_version": 3,
     "solution": false,
     "task": false
    }
   },
   "outputs": [],
   "source": [
    "assert modify_string\n",
    "\n",
    "### BEGIN HIDDEN TESTS\n",
    "assert modify_string('Taylor') == 'Tӓylðr'\n",
    "### END HIDDEN TESTS"
   ]
  },
  {
   "cell_type": "code",
   "execution_count": 47,
   "metadata": {
    "nbgrader": {
     "grade": true,
     "grade_id": "test2",
     "locked": true,
     "points": 0.25,
     "schema_version": 3,
     "solution": false,
     "task": false
    }
   },
   "outputs": [],
   "source": [
    "assert callable(modify_string)\n",
    "\n",
    "### BEGIN HIDDEN TESTS\n",
    "# check functioning for capital letters\n",
    "assert modify_string('AaBbCcEe') == 'ӒӓBbCcɛɚ'\n",
    "### END HIDDEN TESTS\n"
   ]
  },
  {
   "cell_type": "markdown",
   "metadata": {
    "nbgrader": {
     "grade": false,
     "grade_id": "q5-test4",
     "locked": true,
     "points": 0.5,
     "schema_version": 3,
     "solution": false,
     "task": true
    }
   },
   "source": [
    "**This \"blank\" cell included intentionally.** Do not do anything here. (It's being used in grading.)\n",
    "\n",
    "=== BEGIN MARK SCHEME ===\n",
    "\n",
    "partial credit for answer above:\n",
    "\n",
    "- function defined correctly & input parameter specified (**0.1 points**)\n",
    "- for loop (or equivalent) correct (**0.1 points**)\n",
    "- conditional (or equivalent) correct (**0.1 points**)\n",
    "- string updated correctly (**0.1 points**) \n",
    "- `return` statement included (**0.1 points**)\n",
    "\n",
    "=== END MARK SCHEME ==="
   ]
  },
  {
   "cell_type": "markdown",
   "metadata": {
    "nbgrader": {
     "grade": false,
     "grade_id": "q",
     "locked": true,
     "schema_version": 3,
     "solution": false
    }
   },
   "source": [
    "### Q11 - `calculate_points`\n",
    "\n",
    "Write a function `calculate_points` that has a single input parameter: `hand`. `hand` can be assumed to be a list of string values, where each string corresponds to a value in a deck of cards (2-10, J, Q, K, or A)\n",
    "\n",
    "This function should calculate the total number of \"pointer\" cars in your hand, where ***a \"pointer\" is either a 10, J, Q, K, or A***. Each \"pointer\" is worth one point. All other cards are worth zero points. The function should `return` the total number of points in the `hand` as an integer.\n",
    "\n",
    "For example, if your `hand` input was: \n",
    "\n",
    "```python\n",
    "['J', '10', '2', '5', 'K']\n",
    "```\n",
    "\n",
    "executing the `calculate_points()` function with the above list as the input to the `hand` parameter, the function would `return` the integer 3 (one point each for the `'J'`, `'10'`, and `'K'`.\n",
    "\n",
    "If there are no pointers in the input `hand`, the function should return 0."
   ]
  },
  {
   "cell_type": "code",
   "execution_count": 48,
   "metadata": {
    "nbgrader": {
     "grade": false,
     "grade_id": "q6-solution",
     "locked": false,
     "schema_version": 3,
     "solution": true
    }
   },
   "outputs": [],
   "source": [
    "### BEGIN SOLUTION\n",
    "def calculate_points(hand):\n",
    "    pointers = ['10', 'J', 'Q', 'K', 'A']\n",
    "    counter = 0\n",
    "    \n",
    "    for card in hand:\n",
    "        if card in pointers:\n",
    "            counter += 1\n",
    "        \n",
    "    return counter\n",
    "### END SOLUTION"
   ]
  },
  {
   "cell_type": "code",
   "execution_count": 49,
   "metadata": {},
   "outputs": [],
   "source": [
    "# BE SURE YOUR ANSWER IS IN THE CELL ABOVE\n",
    "# but you can use this cell to test/execute/check your function (optional)"
   ]
  },
  {
   "cell_type": "code",
   "execution_count": 50,
   "metadata": {
    "nbgrader": {
     "grade": true,
     "grade_id": "q6-testa",
     "locked": true,
     "points": 0.25,
     "schema_version": 3,
     "solution": false
    }
   },
   "outputs": [],
   "source": [
    "assert callable(calculate_points)\n",
    "\n",
    "### BEGIN HIDDEN TESTS\n",
    "# use default parameter\n",
    "assert calculate_points(['K']) == 1\n",
    "### END HIDDEN TESTS"
   ]
  },
  {
   "cell_type": "code",
   "execution_count": 51,
   "metadata": {
    "nbgrader": {
     "grade": true,
     "grade_id": "q6-testb",
     "locked": true,
     "points": 0.25,
     "schema_version": 3,
     "solution": false,
     "task": false
    }
   },
   "outputs": [],
   "source": [
    "# hidden tests for function above\n",
    "### BEGIN HIDDEN TESTS\n",
    "# assure returns zero if no pointers\n",
    "assert calculate_points(['2', '7', '9']) == 0\n",
    "### END HIDDEN TESTS"
   ]
  },
  {
   "cell_type": "markdown",
   "metadata": {
    "nbgrader": {
     "grade": false,
     "grade_id": "q6-test4",
     "locked": true,
     "points": 0.5,
     "schema_version": 3,
     "solution": false,
     "task": true
    }
   },
   "source": [
    "**This \"blank\" cell included intentionally.** Do not do anything here. (It's being used in grading.)\n",
    "\n",
    "\n",
    "=== BEGIN MARK SCHEME ===\n",
    "\n",
    "partial credit for answer above:\n",
    "\n",
    "- function defined correctly with single parameter (**0.1 points**)\n",
    "- loop (or equivalent) correct (**0.1 points**)\n",
    "- conditional (or equivalent) correct (**0.1 points**)\n",
    "- counter incremented correctly (**0.1 points**)\n",
    "- `return` statement included (**0.1 points**)\n",
    "\n",
    "=== END MARK SCHEME ==="
   ]
  },
  {
   "cell_type": "markdown",
   "metadata": {
    "nbgrader": {
     "grade": false,
     "grade_id": "cell-b07c2aef11f91d5c",
     "locked": true,
     "schema_version": 3,
     "solution": false,
     "task": false
    }
   },
   "source": [
    "### Q12 - `to_taxes`\n",
    "\n",
    "Here you will write a function that, given a salary as input, will `return` how much of that person's salary is going toward taxes.\n",
    "\n",
    "To accomplish this, write a function `to_taxes()` that takes two parameters as input: `salary` and `tax_brackets`. The default value for the `tax_brackets` parameter should be the `default_brackets` dictionary provided below. Then, use code constructs discussed in class to accomplish the above goal.\n",
    "\n",
    "Note that the dictionary `default_brackets` provided will have to be used to accomplish this goal. The keys in `default_brackets` are the proportion of an individual's salary that will go toward taxes if their salary is within the range in a given key's value (tuple). For example, an individual who makes \\$10,000 would contribute 12\\% of their salary in taxes, given the information in `tax_brackets` (specifically becasue 10000 falls between 9876 and 40125).\n",
    "\n",
    "Accordingly, `to_taxes(salary=10000)` should `return` 1200.0 (which corresponds to 12\\% of the input $10,000 salary)."
   ]
  },
  {
   "cell_type": "code",
   "execution_count": 52,
   "metadata": {
    "nbgrader": {
     "grade": false,
     "grade_id": "cell-7a2d1b04bb88e023",
     "locked": true,
     "schema_version": 3,
     "solution": false,
     "task": false
    }
   },
   "outputs": [],
   "source": [
    "default_brackets = {0.10 : (0, 9875),\n",
    "                    0.12 : (9876, 40125),\n",
    "                    0.22 : (40126, 85525),\n",
    "                    0.24 : (85526, 163300),\n",
    "                    0.32 : (163301, 207350),\n",
    "                    0.35 : (207351, 518400)\n",
    "                   }"
   ]
  },
  {
   "cell_type": "code",
   "execution_count": 53,
   "metadata": {
    "nbgrader": {
     "grade": false,
     "grade_id": "cell-f48b7b2362162c98",
     "locked": false,
     "schema_version": 3,
     "solution": true,
     "task": false
    }
   },
   "outputs": [],
   "source": [
    "### BEGIN SOLUTION\n",
    "def to_taxes(salary, tax_brackets=default_brackets):\n",
    "    for key in tax_brackets:\n",
    "        if tax_brackets[key][0] <= salary <= tax_brackets[key][1]:\n",
    "            output = key * salary\n",
    "    \n",
    "    return output\n",
    "### END SOLUTION"
   ]
  },
  {
   "cell_type": "code",
   "execution_count": 54,
   "metadata": {},
   "outputs": [],
   "source": [
    "# BE SURE YOUR ANSWER IS IN THE CELL ABOVE\n",
    "# but you can use this cell to test/execute/check your thinking (optional)"
   ]
  },
  {
   "cell_type": "code",
   "execution_count": 55,
   "metadata": {
    "nbgrader": {
     "grade": true,
     "grade_id": "cell-46841edd2405b87e",
     "locked": true,
     "points": 0,
     "schema_version": 3,
     "solution": false,
     "task": false
    }
   },
   "outputs": [],
   "source": [
    "assert to_taxes\n",
    "### BEGIN HIDDEN TESTS\n",
    "assert callable(to_taxes)\n",
    "assert to_taxes(10000) == 1200.0\n",
    "assert to_taxes(207355) == 72574.25\n",
    "### END HIDDEN TESTS"
   ]
  },
  {
   "cell_type": "code",
   "execution_count": 56,
   "metadata": {
    "nbgrader": {
     "grade": true,
     "grade_id": "cell-48691fd539be2c35",
     "locked": true,
     "points": 0,
     "schema_version": 3,
     "solution": false,
     "task": false
    }
   },
   "outputs": [],
   "source": [
    "# hidden test to check function accomplishes task\n",
    "### BEGIN HIDDEN TESTS\n",
    "# check for 22% bracket\n",
    "# check that values on edges included\n",
    "assert to_taxes(40126) == 8827.72\n",
    "assert to_taxes(85525) == 18815.5\n",
    "### END HIDDEN TESTS"
   ]
  },
  {
   "cell_type": "code",
   "execution_count": 57,
   "metadata": {
    "nbgrader": {
     "grade": true,
     "grade_id": "cell-11839f4b8385d811",
     "locked": true,
     "points": 0,
     "schema_version": 3,
     "solution": false,
     "task": false
    }
   },
   "outputs": [],
   "source": [
    "# hidden test to check default parameter correct\n",
    "### BEGIN HIDDEN TESTS\n",
    "# check for a different tax_brackets\n",
    "assert to_taxes(100, tax_brackets={0.5: (0,1000)}) == 50.0\n",
    "### END HIDDEN TESTS"
   ]
  },
  {
   "cell_type": "markdown",
   "metadata": {
    "nbgrader": {
     "grade": false,
     "grade_id": "cell-1119e2d53ac4a2bd",
     "locked": true,
     "points": 0,
     "schema_version": 3,
     "solution": false,
     "task": true
    }
   },
   "source": [
    "**This \"blank\" cell included intentionally.** Do not do anything here. (It's being used in grading.)\n",
    "\n",
    "=== BEGIN MARK SCHEME ===\n",
    "\n",
    "Check if points lost on autograder above: \n",
    "- function defined correctly with `salary` parameter and default value for `tax_brackets` parameter (**0.25 pts**)\n",
    "- loops through dictionary (or equivalent) correctly (**0.2 pts**)\n",
    "- conditional accesses values in tuple correctly (**0.2 pts**)\n",
    "- conditional checks lower and upper bound of range (**0.2 pts**)\n",
    "- calculation correct (i.e. key * salary) (**0.2 pts**)\n",
    "- includes `return` statement (**0.2 pts**) \n",
    "\n",
    "=== END MARK SCHEME ==="
   ]
  },
  {
   "cell_type": "markdown",
   "metadata": {
    "nbgrader": {
     "grade": false,
     "grade_id": "cell-39b7fb7091598abc",
     "locked": true,
     "schema_version": 3,
     "solution": false,
     "task": false
    }
   },
   "source": [
    "### Q13 - `write_tickets`\n",
    "\n",
    "Here you will write a function `write_tickets()` that will take a dictionary as input (using the parameter `input_dict`) and determine who in that dictionary will receive  a ticket. The key in the `input_dict` will be the person's name, and the value will be a list of two values. The first value will be the person's zone ('private', 'local', or 'highway') and the second will be the speed at which the person was traveling. The output `return`ed from this function will be a dictionary of every person in the original dictionary's name as they keys. The value for each individual will be either the boolean `True` (if that person should receive a ticket) or `False` (if they should not). \n",
    "\n",
    "For example: `write_tickets({'Shannon' : ['local', 20], 'Josh' : ['highway', 80]})` should `return` the dictionary `{'Shannon' : False, 'Josh' : True}`\n",
    "\n",
    "Note: You can assume that each key in the input dictionary only shows up one time. You do not need to worry about how to handle the same name showing up more than once."
   ]
  },
  {
   "cell_type": "code",
   "execution_count": 58,
   "metadata": {
    "nbgrader": {
     "grade": false,
     "grade_id": "cell-66b3da2344a3cb87",
     "locked": false,
     "schema_version": 3,
     "solution": true,
     "task": false
    }
   },
   "outputs": [],
   "source": [
    "### BEGIN SOLUTION\n",
    "def write_tickets(input_dict):\n",
    "    output_dict = {}\n",
    "    \n",
    "    for key in input_dict:\n",
    "        zone = input_dict[key][0]\n",
    "        speed = input_dict[key][1]\n",
    "        \n",
    "        if zone == 'private' and speed > 5:\n",
    "            output_dict[key] = True\n",
    "        elif zone == 'local' and speed > 25:\n",
    "            output_dict[key] = True\n",
    "        elif zone == 'highway' and speed > 65:\n",
    "            output_dict[key] = True\n",
    "        else:\n",
    "            output_dict[key] = False\n",
    "\n",
    "    return output_dict\n",
    "### END SOLUTION"
   ]
  },
  {
   "cell_type": "code",
   "execution_count": 59,
   "metadata": {},
   "outputs": [],
   "source": [
    "# BE SURE YOUR ANSWER IS IN THE CELL ABOVE\n",
    "# but you can use this cell to test/execute/check your thinking (optional)"
   ]
  },
  {
   "cell_type": "code",
   "execution_count": 60,
   "metadata": {
    "nbgrader": {
     "grade": true,
     "grade_id": "cell-9cce10c1e7f73bfc",
     "locked": true,
     "points": 0,
     "schema_version": 3,
     "solution": false,
     "task": false
    }
   },
   "outputs": [],
   "source": [
    "assert write_tickets\n",
    "### BEGIN HIDDEN TESTS\n",
    "# check provided example\n",
    "assert write_tickets({'Shannon' : ['local', 20], 'Josh' : ['highway', 80]}) == {'Shannon': False, 'Josh': True}\n",
    "### END HIDDEN TESTS"
   ]
  },
  {
   "cell_type": "code",
   "execution_count": 61,
   "metadata": {
    "nbgrader": {
     "grade": true,
     "grade_id": "cell-3808788d540b8d28",
     "locked": true,
     "points": 0,
     "schema_version": 3,
     "solution": false,
     "task": false
    }
   },
   "outputs": [],
   "source": [
    "# hidden test to check function accomplishes task\n",
    "### BEGIN HIDDEN TESTS\n",
    "# check for parameter name\n",
    "assert write_tickets(input_dict = {'Shannon' : ['private', 20], 'Josh' : ['highway', 80]}) == {'Shannon': True, 'Josh': True}\n",
    "### END HIDDEN TESTS"
   ]
  },
  {
   "cell_type": "code",
   "execution_count": 62,
   "metadata": {
    "nbgrader": {
     "grade": true,
     "grade_id": "cell-030464be0a69c0ee",
     "locked": true,
     "points": 0,
     "schema_version": 3,
     "solution": false,
     "task": false
    }
   },
   "outputs": [],
   "source": [
    "# hidden test to check default parameter correct\n",
    "### BEGIN HIDDEN TESTS\n",
    "# check for a more than two values\n",
    "assert write_tickets({'Shannon' : ['local', 20], \n",
    "                      'Kenny' : ['private', 20], \n",
    "                      'Josh' : ['highway', 80]}) == {'Shannon': False, 'Kenny': True, 'Josh': True}\n",
    "### END HIDDEN TESTS"
   ]
  },
  {
   "cell_type": "markdown",
   "metadata": {
    "nbgrader": {
     "grade": false,
     "grade_id": "cell-823683c76705ce2e",
     "locked": true,
     "points": 0,
     "schema_version": 3,
     "solution": false,
     "task": true
    }
   },
   "source": [
    "**This \"blank\" cell included intentionally.** Do not do anything here. (It's being used in grading.)\n",
    "\n",
    "=== BEGIN MARK SCHEME ===\n",
    "\n",
    "Check if points lost on autograder above: \n",
    "- function defined correctly with `input_dict` parameter (**0.1 pts**)\n",
    "- output_dict initialized (**0.2 pts**)\n",
    "- indexing into input_dict done correctly (**0.25 pts**)\n",
    "- loops through input_list correctly (or equivalent) (**0.15 pts**) \n",
    "- conditionals included (even if incorrect) (**0.2 pts**)\n",
    "- output_dict updated correctly (**0.25 pts**)\n",
    "- includes `return` statement (**0.1 pts**) \n",
    "\n",
    "=== END MARK SCHEME ==="
   ]
  },
  {
   "cell_type": "markdown",
   "metadata": {
    "nbgrader": {
     "grade": false,
     "grade_id": "cell-4ab8407deca62752",
     "locked": true,
     "schema_version": 3,
     "solution": false,
     "task": false
    }
   },
   "source": [
    "## Part 3: Classes & Code Style\n",
    "\n",
    "Note this section has *more* questions than your real exam will have. This is where students tend to struggle the most as the material is new and puts all the pieces we've talked about so far this quarter together, so I wanted you to have extra practice."
   ]
  },
  {
   "cell_type": "markdown",
   "metadata": {
    "nbgrader": {
     "grade": false,
     "grade_id": "q9",
     "locked": true,
     "schema_version": 3,
     "solution": false
    }
   },
   "source": [
    "### Q14 - `Kingdom`\n",
    "\n",
    "For this question (and the next one), imagine you want to create a video game with a handful of characters. You want this game to have a royal kingdom theme.\n",
    "\n",
    "Here, define a class `Kingdom()`.\n",
    "\n",
    "This class should have two instance attributes: `name` and `title`, which will be strings specifying the name and title of the character (in that order).\n",
    "\n",
    "This class will also have a method `introduce()`. This method should `return` (*not* just `print`) a string, similar to:\n",
    "\n",
    "```\n",
    "'Hello, my name is Ferdinand, and I am a King.' \n",
    "```\n",
    "\n",
    "...where 'Ferdinand' corresponds to whatever is stored in `Kingdom()` object's `name` attribute is and 'King' corresponds to whatever is stored in the `Kingdom()` object's `title` attribute.\n"
   ]
  },
  {
   "cell_type": "code",
   "execution_count": 63,
   "metadata": {
    "nbgrader": {
     "grade": false,
     "grade_id": "q9-solution",
     "locked": false,
     "schema_version": 3,
     "solution": true
    }
   },
   "outputs": [],
   "source": [
    "### BEGIN SOLUTION\n",
    "class Kingdom():\n",
    "    \n",
    "    def __init__(self, name, title):\n",
    "        self.name = name\n",
    "        self.title = title\n",
    "    \n",
    "    def introduce(self):\n",
    "        return 'Hello, my name is ' + self.name + ', and I am a ' + self.title + '.'\n",
    "### END SOLUTION\n"
   ]
  },
  {
   "cell_type": "code",
   "execution_count": 64,
   "metadata": {},
   "outputs": [],
   "source": [
    "# BE SURE YOUR ANSWER IS IN THE CELL ABOVE\n",
    "# but you can use this cell to test/execute/check your function (optional)"
   ]
  },
  {
   "cell_type": "code",
   "execution_count": 65,
   "metadata": {
    "nbgrader": {
     "grade": true,
     "grade_id": "q9-test1",
     "locked": true,
     "points": 0.5,
     "schema_version": 3,
     "solution": false
    }
   },
   "outputs": [],
   "source": [
    "# Tests for the object\n",
    "assert Kingdom\n",
    "\n",
    "### BEGIN HIDDEN TESTS\n",
    "queen = Kingdom('Elizabeth', 'Queen')\n",
    "assert isinstance(queen, Kingdom)\n",
    "assert queen.name == 'Elizabeth'\n",
    "assert queen.title == 'Queen'\n",
    "### END HIDDEN TESTS"
   ]
  },
  {
   "cell_type": "code",
   "execution_count": 66,
   "metadata": {
    "nbgrader": {
     "grade": true,
     "grade_id": "q9-test2",
     "locked": true,
     "points": 0.5,
     "schema_version": 3,
     "solution": false
    }
   },
   "outputs": [],
   "source": [
    "# Tests for introduce method\n",
    "assert callable(Kingdom)\n",
    "\n",
    "### BEGIN HIDDEN TESTS\n",
    "assert callable(queen.introduce)\n",
    "assert isinstance(queen.introduce(), str)\n",
    "### END HIDDEN TESTS"
   ]
  },
  {
   "cell_type": "markdown",
   "metadata": {
    "nbgrader": {
     "grade": false,
     "grade_id": "q9-test3",
     "locked": true,
     "points": 1.5,
     "schema_version": 3,
     "solution": false,
     "task": true
    }
   },
   "source": [
    "**This \"blank\" cell included intentionally.** Do not do anything here. (It's being used in grading.)\n",
    "\n",
    "=== BEGIN MARK SCHEME ===\n",
    "\n",
    "partial credit for answer above:\n",
    "\n",
    "- class defined correctly (**0.25 points**)\n",
    "- instance attributes initialized correctly with `self` + paramters (**0.25 points**)\n",
    "- `self` used correctly in instance attribute code block (**0.25 points**)\n",
    "- introduce method defined with `self` as parameter (**0.25 points**)\n",
    "- `return` statement returns a string (**0.25 points**)\n",
    "- `return` includes reference to `self.name` and `self.title` (**0.25 points**)\n",
    "\n",
    "=== END MARK SCHEME ==="
   ]
  },
  {
   "cell_type": "markdown",
   "metadata": {
    "nbgrader": {
     "grade": false,
     "grade_id": "q10",
     "locked": true,
     "schema_version": 3,
     "solution": false
    }
   },
   "source": [
    "### Q15 - `NewYear`\n",
    "\n",
    "For this question, let's create a class to celebrate the Lunar New Year!\n",
    "\n",
    "Here, define a class `NewYear()`.\n",
    "\n",
    "This class should have:\n",
    "\n",
    "- **one class attribute**: `zodiac_signs` that stores the dictionary specified in the cell below. This dictionary contains the zodiac sign as the key and the birth years that correspond to that sign.\n",
    "- **one instance attribute**:  `year` that takes the birth `year` as input from the user upon creation of a `NewYear` type object.\n",
    "\n",
    "This class will also have a method `return_sign()`. This method should `return` (*not* just `print`) a string, similar to:\n",
    "\n",
    "```\n",
    "'You were born in the year of the Dragon!' \n",
    "```\n",
    "\n",
    "...where 'Dragon' corresponds to the key from the `zodiac_signs` corresponding to the value stored in the `year` attribute. (Be sure captitalization and punctuation match the string specified here. The only thing that should change is the last word in the string.)\n",
    "\n",
    "For example `NewYear(year=2021).return_sign()` should return 'You were born in the year of the Ox!', since 2021 is a value in the `zodiac_signs` dictionary for the key 'Ox'. "
   ]
  },
  {
   "cell_type": "code",
   "execution_count": 67,
   "metadata": {
    "nbgrader": {
     "grade": false,
     "grade_id": "cell-0320cf0ec9903820",
     "locked": true,
     "schema_version": 3,
     "solution": false,
     "task": false
    }
   },
   "outputs": [],
   "source": [
    "# provided for you\n",
    "zodiac_signs = {\n",
    "    'Ox' : [1937, 1949, 1961, 1973, 1985, 1997, 2009, 2021],\n",
    "    'Tiger' : [1938, 1950, 1962, 1974, 1986, 1998, 2010, 2022], \n",
    "    'Rabbit' : [1939, 1951, 1963, 1975, 1987, 1999, 2011, 2023], \n",
    "    'Dragon' : [1940, 1952, 1964, 1976, 1988, 2000, 2012, 2024], \n",
    "    'Snake' : [1941, 1953, 1965, 1977, 1989, 2001, 2013, 2025], \n",
    "    'Horse' : [1942, 1954, 1966, 1978, 1990, 2002, 2014, 2026], \n",
    "    'Goat/Sheep' : [1943, 1955, 1967, 1979, 1991, 2003, 2015, 2027], \n",
    "    'Monkey' : [1944, 1956, 1968, 1980, 1992, 2004, 2016, 2028], \n",
    "    'Rooster' : [1945, 1957, 1969, 1981, 1993, 2005, 2017, 2029], \n",
    "    'Dog' : [1946, 1958, 1970, 1982, 1994, 2006, 2018, 2030], \n",
    "    'Pig' : [1947, 1959, 1971, 1983, 1995, 2007, 2019, 2031], \n",
    "    'Rat' : [1936, 1948, 1960, 1972, 1984, 1996, 2008, 2020]\n",
    "} "
   ]
  },
  {
   "cell_type": "code",
   "execution_count": 68,
   "metadata": {
    "nbgrader": {
     "grade": false,
     "grade_id": "q10-solution",
     "locked": false,
     "schema_version": 3,
     "solution": true
    }
   },
   "outputs": [],
   "source": [
    "### BEGIN SOLUTION\n",
    "class NewYear():\n",
    "    \n",
    "    zodiac_signs = {\n",
    "    'Ox' : [1937, 1949, 1961, 1973, 1985, 1997, 2009, 2021],\n",
    "    'Tiger' : [1938, 1950, 1962, 1974, 1986, 1998, 2010], \n",
    "    'Rabbit' : [1939, 1951, 1963, 1975, 1987, 1999, 2011, 2023], \n",
    "    'Dragon' : [1940, 1952, 1964, 1976, 1988, 2000, 2012, 2024], \n",
    "    'Snake' : [1941, 1953, 1965, 1977, 1989, 2001, 2013, 2025], \n",
    "    'Horse' : [1942, 1954, 1966, 1978, 1990, 2002, 2014, 2026], \n",
    "    'Goat/Sheep' : [1943, 1955, 1967, 1979, 1991, 2003, 2015, 2027], \n",
    "    'Monkey' : [1944, 1956, 1968, 1980, 1992, 2004, 2016, 2028], \n",
    "    'Rooster' : [1945, 1957, 1969, 1981, 1993, 2005, 2017, 2029], \n",
    "    'Dog' : [1946, 1958, 1970, 1982, 1994, 2006, 2018, 2030], \n",
    "    'Pig' : [1947, 1959, 1971, 1983, 1995, 2007, 2019, 2031], \n",
    "    'Rat' : [1936, 1948, 1960, 1972, 1984, 1996, 2008, 2020]\n",
    "    } \n",
    "    \n",
    "    \n",
    "    def __init__(self, year):\n",
    "        self.year = year\n",
    "    \n",
    "    def return_sign(self):\n",
    "        for key in self.zodiac_signs:\n",
    "            if self.year in self.zodiac_signs[key]:\n",
    "                out = key\n",
    "                break # answer would be fine without break here\n",
    "                \n",
    "        return 'You were born in the year of the ' + out + '!'\n",
    "### END SOLUTION\n"
   ]
  },
  {
   "cell_type": "code",
   "execution_count": 69,
   "metadata": {},
   "outputs": [],
   "source": [
    "# BE SURE YOUR ANSWER IS IN THE CELL ABOVE\n",
    "# but you can use this cell to test/execute/check your function (optional)"
   ]
  },
  {
   "cell_type": "code",
   "execution_count": 70,
   "metadata": {
    "nbgrader": {
     "grade": true,
     "grade_id": "q10-test1",
     "locked": true,
     "points": 0.25,
     "schema_version": 3,
     "solution": false
    }
   },
   "outputs": [],
   "source": [
    "# Tests for the object\n",
    "assert NewYear\n",
    "### BEGIN HIDDEN TESTS\n",
    "dragon = NewYear(1988)\n",
    "assert isinstance(dragon, NewYear)\n",
    "### END HIDDEN TESTS"
   ]
  },
  {
   "cell_type": "code",
   "execution_count": 71,
   "metadata": {
    "nbgrader": {
     "grade": true,
     "grade_id": "q10-test2",
     "locked": true,
     "points": 0.25,
     "schema_version": 3,
     "solution": false
    }
   },
   "outputs": [],
   "source": [
    "assert callable(NewYear)\n",
    "# Tests for classs attribute\n",
    "### BEGIN HIDDEN TESTS\n",
    "assert dragon.year ==  1988\n",
    "### END HIDDEN TESTS"
   ]
  },
  {
   "cell_type": "code",
   "execution_count": 72,
   "metadata": {
    "nbgrader": {
     "grade": true,
     "grade_id": "q10-test3",
     "locked": true,
     "points": 0.25,
     "schema_version": 3,
     "solution": false,
     "task": false
    }
   },
   "outputs": [],
   "source": [
    "# Tests for instance attribute\n",
    "### BEGIN HIDDEN TESTS\n",
    "assert isinstance(dragon.zodiac_signs, dict)\n",
    "assert 'Ox' in dragon.zodiac_signs.keys()\n",
    "### END HIDDEN TESTS"
   ]
  },
  {
   "cell_type": "code",
   "execution_count": 73,
   "metadata": {
    "nbgrader": {
     "grade": true,
     "grade_id": "q10-test4",
     "locked": true,
     "points": 0.5,
     "schema_version": 3,
     "solution": false,
     "task": false
    }
   },
   "outputs": [],
   "source": [
    "# tests for method\n",
    "# be sure punctuation matches instructions\n",
    "### BEGIN HIDDEN TESTS\n",
    "assert dragon.return_sign() == 'You were born in the year of the Dragon!'\n",
    "### END HIDDEN TESTS"
   ]
  },
  {
   "cell_type": "markdown",
   "metadata": {
    "nbgrader": {
     "grade": false,
     "grade_id": "q10-test5",
     "locked": true,
     "points": 1.25,
     "schema_version": 3,
     "solution": false,
     "task": true
    }
   },
   "source": [
    "**This \"blank\" cell included intentionally.** Do not do anything here. (It's being used in grading.)\n",
    "\n",
    "=== BEGIN MARK SCHEME ===\n",
    "\n",
    "partial credit for answer above:\n",
    "\n",
    "- class defined correctly (**0.25 points**)\n",
    "- class attribute defined correctly (**0.25 points**)\n",
    "- instance attribute defined correctly (with `self` + parameter) (**0.15 points**)\n",
    "- method definition includes `self` (**0.1 points**)\n",
    "- method code loop/conditional correct. (**0.25 points**)\n",
    "- method code specifies self.name (**0.15 points**)\n",
    "- method includes `return` statement (**0.1 points**)\n",
    "\n",
    "=== END MARK SCHEME ==="
   ]
  },
  {
   "cell_type": "markdown",
   "metadata": {
    "nbgrader": {
     "grade": false,
     "grade_id": "q11",
     "locked": true,
     "schema_version": 3,
     "solution": false
    }
   },
   "source": [
    "### Q16 - `BasketballGame`\n",
    "\n",
    "Generate a class called `BasketballGame`.\n",
    "\n",
    "This class should have four instance attributes: `home_team`, `away_team`, `home_points`, and `away_points`\n",
    "\n",
    "It should also have one method, `play_game()`. \n",
    "\n",
    "Within the `play_game` method, add code that would determine who the winner of the game is (determined by the team with the most points), returning Winner: ' and the winning team's name.\n",
    "\n",
    "For ties, return: 'Winner: tie'"
   ]
  },
  {
   "cell_type": "code",
   "execution_count": 74,
   "metadata": {
    "nbgrader": {
     "grade": false,
     "grade_id": "q11-solution",
     "locked": false,
     "schema_version": 3,
     "solution": true
    }
   },
   "outputs": [],
   "source": [
    "### BEGIN SOLUTION\n",
    "class BasketballGame():\n",
    "    def __init__(self, home_team, away_team, home_points, away_points):\n",
    "        self.home_team = home_team\n",
    "        self.away_team = away_team\n",
    "        self.home_points = home_points\n",
    "        self.away_points = away_points\n",
    "    \n",
    "    def play_game(self):\n",
    "        if self.home_points > self.away_points:\n",
    "            out = 'Winner: ' + self.home_team\n",
    "        elif self.away_points > self.home_points:\n",
    "            out = 'Winner: ' + self.away_team\n",
    "        else:\n",
    "            out = 'Winner: tie'\n",
    "        \n",
    "        return out\n",
    "### END SOLUTION"
   ]
  },
  {
   "cell_type": "code",
   "execution_count": 75,
   "metadata": {},
   "outputs": [],
   "source": [
    "# use this cell to test/execute/check your class (optional)"
   ]
  },
  {
   "cell_type": "code",
   "execution_count": 76,
   "metadata": {
    "nbgrader": {
     "grade": true,
     "grade_id": "q11-test1",
     "locked": true,
     "points": 0,
     "schema_version": 3,
     "solution": false
    }
   },
   "outputs": [],
   "source": [
    "assert callable(BasketballGame)\n",
    "\n",
    "### BEGIN HIDDEN TESTS\n",
    "game = BasketballGame(home_team='Warriors', away_team='Sixers', \n",
    "                      home_points=100, away_points=105)\n",
    "\n",
    "# test attributes\n",
    "assert game.home_team == 'Warriors'\n",
    "assert game.away_team == 'Sixers'\n",
    "assert game.home_points == 100\n",
    "assert game.away_points == 105\n",
    "### END HIDDEN TESTS"
   ]
  },
  {
   "cell_type": "code",
   "execution_count": 77,
   "metadata": {
    "nbgrader": {
     "grade": true,
     "grade_id": "q11-test2",
     "locked": true,
     "points": 0,
     "schema_version": 3,
     "solution": false,
     "task": false
    }
   },
   "outputs": [],
   "source": [
    "assert callable(BasketballGame.play_game)\n",
    "\n",
    "### BEGIN HIDDEN TESTS\n",
    "# test method\n",
    "assert game.play_game() == 'Winner: Sixers'\n",
    "### END HIDDEN TESTS"
   ]
  },
  {
   "cell_type": "markdown",
   "metadata": {
    "nbgrader": {
     "grade": false,
     "grade_id": "q11-test3",
     "locked": true,
     "points": 0,
     "schema_version": 3,
     "solution": false,
     "task": true
    }
   },
   "source": [
    "This \"blank\" cell included intentionally. Do not do anything here. (It's being used in grading.)\n",
    "\n",
    "=== BEGIN MARK SCHEME ===\n",
    "\n",
    "rubric for partial credit\n",
    "\n",
    "=== END MARK SCHEME ==="
   ]
  },
  {
   "cell_type": "markdown",
   "metadata": {
    "nbgrader": {
     "grade": false,
     "grade_id": "cell-298cc925723b1f75",
     "locked": true,
     "schema_version": 3,
     "solution": false,
     "task": false
    }
   },
   "source": [
    "### Q17 - `ClassRoster`\n",
    "\n",
    "Define a class `ClassRoster()` that meets the following specifications:\n",
    "\n",
    "- has two instance attributes:\n",
    "    - `students`; initialized as an empty list\n",
    "    - `course`; which the user specifies when creating a `ClassRoster()` object\n",
    "- a single method `add_student()`, which will have `pid` and `name` as arguments, and will add these two inputs as a dictionary with `pid` as the key and the student's `name` as the value to the `students` list each time the method is called"
   ]
  },
  {
   "cell_type": "code",
   "execution_count": 78,
   "metadata": {
    "nbgrader": {
     "grade": false,
     "grade_id": "cell-d4d9cea6256f62c0",
     "locked": false,
     "schema_version": 3,
     "solution": true,
     "task": false
    }
   },
   "outputs": [],
   "source": [
    "### BEGIN SOLUTION\n",
    "class ClassRoster():\n",
    "        \n",
    "    def __init__(self, course):\n",
    "        self.students = []\n",
    "        self.course = course\n",
    "        \n",
    "    def add_student(self, pid, name):\n",
    "        self.students.append({pid: name})\n",
    "### END SOLUTION"
   ]
  },
  {
   "cell_type": "code",
   "execution_count": 79,
   "metadata": {},
   "outputs": [],
   "source": [
    "# BE SURE YOUR ANSWER IS IN THE CELL ABOVE\n",
    "# but you can use this cell to test/execute/check your thinking (optional)"
   ]
  },
  {
   "cell_type": "code",
   "execution_count": 80,
   "metadata": {
    "nbgrader": {
     "grade": true,
     "grade_id": "cell-22422a3990743b88",
     "locked": true,
     "points": 0,
     "schema_version": 3,
     "solution": false,
     "task": false
    }
   },
   "outputs": [],
   "source": [
    "assert callable(ClassRoster)\n",
    "my_course = ClassRoster('COGS 18')\n",
    "### BEGIN HIDDEN TESTS\n",
    "assert my_course.course == 'COGS 18'\n",
    "### END HIDDEN TESTS"
   ]
  },
  {
   "cell_type": "code",
   "execution_count": 81,
   "metadata": {
    "nbgrader": {
     "grade": false,
     "grade_id": "cell-bd0c067e35d23349",
     "locked": false,
     "schema_version": 3,
     "solution": true,
     "task": false
    }
   },
   "outputs": [],
   "source": [
    "# tests for instance attribute\n",
    "assert my_course.students is not None\n",
    "### BEGIN HIDDEN TESTS\n",
    "assert my_course.students == []\n",
    "### END HIDDEN TESTS"
   ]
  },
  {
   "cell_type": "code",
   "execution_count": 82,
   "metadata": {
    "nbgrader": {
     "grade": false,
     "grade_id": "cell-c250ea29b92bbfb1",
     "locked": false,
     "schema_version": 3,
     "solution": true,
     "task": false
    }
   },
   "outputs": [],
   "source": [
    "# tests for method\n",
    "assert callable(my_course.add_student)\n",
    "### BEGIN HIDDEN TESTS\n",
    "my_course.add_student(pid='A12345', name='Shannon')\n",
    "my_course.add_student(pid='A56789', name='Josh')\n",
    "\n",
    "assert my_course.students == [{'A12345':'Shannon'}, {'A56789': 'Josh'}]\n",
    "### END HIDDEN TESTS"
   ]
  },
  {
   "cell_type": "markdown",
   "metadata": {
    "nbgrader": {
     "grade": false,
     "grade_id": "cell-6aef43453248070e",
     "locked": true,
     "points": 0,
     "schema_version": 3,
     "solution": false,
     "task": true
    }
   },
   "source": [
    "**This \"blank\" cell included intentionally.** Do not do anything here. (It's being used in grading.)\n",
    "\n",
    "=== BEGIN MARK SCHEME ===\n",
    "\n",
    "Check if points lost on autograder above: \n",
    "- `class` defined correctly (**0.1 pts**)\n",
    "- instance attributes\n",
    "    - `def __init__(self)` correct (**0.2 pts**)\n",
    "    - `self` used within definition (**0.2 pts**)\n",
    "    - `students` attribute initialized correctly (empty list) (**0.2 pts**)\n",
    "    - `course` intialized correctly  (**0.2 pts**)\n",
    "- `add_student` method:\n",
    "    - method definition correct with `self`, `pid`, and `name` (**0.2 pts**)\n",
    "    - dictionary syntax correct  (**0.2 pts**)\n",
    "    - added to list correct (`append`) (**0.2 pts**)\n",
    "\n",
    "Note: autograder credit can be returned for portions above if particular aspect (class attribute, instance attribute, or method) were correct, but test failed because overall `class` was defined incorrectly\n",
    "\n",
    "=== END MARK SCHEME ==="
   ]
  },
  {
   "cell_type": "markdown",
   "metadata": {
    "nbgrader": {
     "grade": false,
     "grade_id": "cell-052d00ebe5951a3d",
     "locked": true,
     "schema_version": 3,
     "solution": false,
     "task": false
    }
   },
   "source": [
    "### Q18 - `ToDo` \n",
    "\n",
    "Define a class `ToDo()` to keep track of your to do list.\n",
    "\n",
    "This should have a single instance attribute: `to_do`, which is initialized as an empty list.\n",
    "\n",
    "It will then have two methods: `add_item` and `remove_item`.\n",
    "\n",
    "`add_item()`:\n",
    "- will have two parameters `item`, and `top` (`top` takes the default value `True`)\n",
    "- if `top` is `True`:\n",
    "    the string in `item` will be added to the top of `to_do`:\n",
    "- if `top` is not true:\n",
    "    the string it `item` will be added to the end of `to_do`\n",
    "\n",
    "`remove_item()`:\n",
    "- will have a single parameter `item`\n",
    "- will remove the item specified from `to_do`\n",
    "\n",
    "Note: there is a list method `insert()`, which operates in place to add a value to a list at the index specified with the general syntax `my_list.insert(index, item_to_add)`."
   ]
  },
  {
   "cell_type": "code",
   "execution_count": 83,
   "metadata": {
    "nbgrader": {
     "grade": false,
     "grade_id": "cell-e696ac9734d6920a",
     "locked": false,
     "schema_version": 3,
     "solution": true,
     "task": false
    }
   },
   "outputs": [],
   "source": [
    "### BEGIN SOLUTION\n",
    "class ToDo():\n",
    "    \n",
    "    def __init__(self):\n",
    "        self.to_do = []\n",
    "        \n",
    "    def add_item(self, item, top=True):\n",
    "        if top:\n",
    "            self.to_do.insert(0, item)\n",
    "        else: \n",
    "            self.to_do.append(item)\n",
    "        \n",
    "    def remove_item(self, item):\n",
    "        self.to_do.remove(item)\n",
    "\n",
    "### END SOLUTION"
   ]
  },
  {
   "cell_type": "code",
   "execution_count": 84,
   "metadata": {},
   "outputs": [],
   "source": [
    "# BE SURE YOUR ANSWER IS IN THE CELL ABOVE\n",
    "# but you can use this cell to test/execute/check your thinking (optional)"
   ]
  },
  {
   "cell_type": "code",
   "execution_count": 85,
   "metadata": {
    "nbgrader": {
     "grade": true,
     "grade_id": "cell-b43d68904a417d44",
     "locked": true,
     "points": 0,
     "schema_version": 3,
     "solution": false,
     "task": false
    }
   },
   "outputs": [],
   "source": [
    "assert callable(ToDo)\n",
    "my_todo_list = ToDo()\n",
    "### BEGIN HIDDEN TESTS\n",
    "assert my_todo_list.to_do == []\n",
    "### END HIDDEN TESTS"
   ]
  },
  {
   "cell_type": "code",
   "execution_count": 86,
   "metadata": {
    "nbgrader": {
     "grade": true,
     "grade_id": "cell-16d48156f776f357",
     "locked": true,
     "points": 0,
     "schema_version": 3,
     "solution": false,
     "task": false
    }
   },
   "outputs": [],
   "source": [
    "# check add_item method\n",
    "### BEGIN HIDDEN TESTS\n",
    "my_todo_list.add_item('A')\n",
    "my_todo_list.add_item('B')\n",
    "assert my_todo_list.to_do == ['B','A']\n",
    "### END HIDDEN TESTS"
   ]
  },
  {
   "cell_type": "code",
   "execution_count": 87,
   "metadata": {
    "nbgrader": {
     "grade": true,
     "grade_id": "cell-90ca75a4a66f62cc",
     "locked": true,
     "points": 0,
     "schema_version": 3,
     "solution": false,
     "task": false
    }
   },
   "outputs": [],
   "source": [
    "# check add_item with non-default value\n",
    "### BEGIN HIDDEN TESTS\n",
    "my_todo_list.add_item('C', top=False)\n",
    "assert my_todo_list.to_do == ['B','A', 'C']\n",
    "### END HIDDEN TESTS"
   ]
  },
  {
   "cell_type": "code",
   "execution_count": 88,
   "metadata": {
    "nbgrader": {
     "grade": true,
     "grade_id": "cell-41ae8cf0c3d717c5",
     "locked": true,
     "points": 0,
     "schema_version": 3,
     "solution": false,
     "task": false
    }
   },
   "outputs": [],
   "source": [
    "# check remove_item\n",
    "### BEGIN HIDDEN TESTS\n",
    "my_todo_list.remove_item('A')\n",
    "assert my_todo_list.to_do == ['B', 'C']\n",
    "### END HIDDEN TESTS"
   ]
  },
  {
   "cell_type": "markdown",
   "metadata": {
    "nbgrader": {
     "grade": false,
     "grade_id": "cell-05a72dd94ba338c9",
     "locked": true,
     "points": 0,
     "schema_version": 3,
     "solution": false,
     "task": true
    }
   },
   "source": [
    "**This \"blank\" cell included intentionally.** Do not do anything here. (It's being used in grading.)\n",
    "\n",
    "=== BEGIN MARK SCHEME ===\n",
    "\n",
    "Check if points lost on autograder above: \n",
    "- `class` defined correctly (**0.1 pts**)\n",
    "- instance attribute\n",
    "    - `def __init__(self)` correct (**0.2 pts**)\n",
    "    - `to_do` attribute initialized correctly (empty list) (**0.2 pts**)\n",
    "\n",
    "- `add_item` method:\n",
    "    - method definition correct with `self`, `item`, and `top` (**0.15 pts**)\n",
    "    - `top` default value set to `True`\n",
    "    - conditional correct  (**0.15 pts**)\n",
    "    - extends list correctly (**0.15 pts**)\n",
    "\n",
    "- `remove_item` method:\n",
    "    - method definition correct with `self` and `item` (**0.15 pts**)\n",
    "    - item removed correctly  (**0.15 pts**)\n",
    "\n",
    "Note: autograder credit can be returned for portions above if particular aspect (class attribute, instance attribute, or method) were correct, but test failed because overall `class` was defined incorrectly\n",
    "\n",
    "=== END MARK SCHEME ==="
   ]
  },
  {
   "cell_type": "markdown",
   "metadata": {
    "nbgrader": {
     "grade": false,
     "grade_id": "end",
     "locked": true,
     "schema_version": 3,
     "solution": false
    }
   },
   "source": [
    "### (Practice) Exam II complete!\n",
    "\n",
    "Good work - you're done with the second (practice) exam!\n",
    "\n",
    "A reminder that for the real thing you will need to submit on datahub. We will not have your exam until you click submit and see this show up under 'submitted assignments'."
   ]
  }
 ],
 "metadata": {
  "celltoolbar": "Create Assignment",
  "kernelspec": {
   "display_name": "Python 3 (ipykernel)",
   "language": "python",
   "name": "python3"
  },
  "language_info": {
   "codemirror_mode": {
    "name": "ipython",
    "version": 3
   },
   "file_extension": ".py",
   "mimetype": "text/x-python",
   "name": "python",
   "nbconvert_exporter": "python",
   "pygments_lexer": "ipython3",
   "version": "3.9.7"
  }
 },
 "nbformat": 4,
 "nbformat_minor": 2
}
