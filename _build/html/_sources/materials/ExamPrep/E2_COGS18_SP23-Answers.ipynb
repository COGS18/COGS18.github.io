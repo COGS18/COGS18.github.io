{
 "cells": [
  {
   "cell_type": "markdown",
   "id": "125fa5da",
   "metadata": {},
   "source": [
    "Answers/points to **in-class** exam: https://cogs18.github.io/assets/intro/exams/E2_Sp23_Answers.pdf"
   ]
  },
  {
   "cell_type": "markdown",
   "id": "4ca872f1",
   "metadata": {
    "nbgrader": {
     "grade": false,
     "grade_id": "cell-4bcd92bb8159c51b",
     "locked": true,
     "schema_version": 3,
     "solution": false,
     "task": false
    }
   },
   "source": [
    "# COGS 18 - Exam 2 (Take-Home)\n",
    "\n",
    "This is the take-home portion of the second exam for Spring 2023. It covers the technical implementation of topics through the Command Line Lecture.\n",
    "\n",
    "This take-home portion of the exam is out of 2.5 points, worth 2.5% of your grade.\n",
    "\n",
    "**PLEASE DO NOT CHANGE THE NAME OF THIS FILE.**\n",
    "\n",
    "**PLEASE DO NOT COPY & PASTE OR DELETE CELLS INLCUDED IN THE ASSIGNMENT.** (Note that you can add additional cells, if you want to test things out."
   ]
  },
  {
   "cell_type": "markdown",
   "id": "ad0e8614",
   "metadata": {
    "nbgrader": {
     "grade": false,
     "grade_id": "cell-cd620a69ab1d3c4a",
     "locked": true,
     "schema_version": 3,
     "solution": false,
     "task": false
    }
   },
   "source": [
    "#### Instructions\n",
    "\n",
    "#### Timing\n",
    "- There will be a multi-day window during which you can complete this exam.\n",
    "- Exam deadline (submit button on Datahub) is 11:59pm Friday May 26th.\n",
    "\n",
    "#### The Rules\n",
    "- You are to complete this exam on your own.\n",
    "- This is open-notes & open-Internet.\n",
    "- You may not talk to any humans about this exam. \n",
    "- The following are all *prohibited*:\n",
    "    - text/phone/online chat communication\n",
    "    - posting questions to a message board where a human could respond (Discord, Chegg, any similar site)\n",
    "    - viewing exam questions from a message board (as described above)\n",
    "    - asking anyone via any form about a question on this test directly\n",
    "- Clarification questions will ***not*** be allowed and there will be no posting on Piazza about the exam at all. \n",
    "    - Piazza posts about the exam will not be answered and will be deleted. \n",
    "    - Students who post questions about the exam to Piazza are at risk of losing points on the exam.\n",
    "    - If you are confused about wording, add a note to your exam explaining your confusion and how you interpreted the question. \n",
    "    - Note: This policy is b/c we are incapable of responding for the entirety of the exam. This is the only way to make it fair across the board for students.\n",
    "    - If you have a technical issue completing the exam, message (Piazza or email) Prof Ellis ASAP.\n"
   ]
  },
  {
   "cell_type": "markdown",
   "id": "bf92c7db",
   "metadata": {
    "nbgrader": {
     "grade": false,
     "grade_id": "cell-26b08bd4b5ba54ab",
     "locked": true,
     "schema_version": 3,
     "solution": false
    }
   },
   "source": [
    " <span style=\"color: red;\">Note: </span> This portion of the midterm will be autograded, similar to an assingment. `assert` statements are there to guide your thinking but do not guarantee you've gotten the answer correct."
   ]
  },
  {
   "cell_type": "markdown",
   "id": "34484adc",
   "metadata": {
    "nbgrader": {
     "grade": false,
     "grade_id": "cell-4d8581ac45c24683",
     "locked": true,
     "schema_version": 3,
     "solution": false,
     "task": false
    }
   },
   "source": [
    "### Q0 - Honor Code (0.05 points)\n",
    "\n",
    "In the cell below, include a variable `honor_code` that stores the boolean `True` if you agree to the following statement:\n",
    "\n",
    ">I agree that this exam was completed individually with the knowlege in my brain, information the notes from this course, and/or with searching for help on the Internet *without searching for answers to the text from these questions directly*. I did not ask anyone about specific questions on this exam. I did not post these questions (in part or in whole) on the Internet. I did not copy answers to these questions from anywhere or anyone else. I understand all code I've written on this exam and could explain my answers to someone else if asked.\n"
   ]
  },
  {
   "cell_type": "code",
   "execution_count": 1,
   "id": "cf9c08b7",
   "metadata": {
    "nbgrader": {
     "grade": false,
     "grade_id": "cell-9dae831891d7a1ad",
     "locked": false,
     "schema_version": 3,
     "solution": true,
     "task": false
    }
   },
   "outputs": [],
   "source": [
    "### BEGIN SOLUTION\n",
    "honor_code = True\n",
    "### END SOLUTION"
   ]
  },
  {
   "cell_type": "code",
   "execution_count": 2,
   "id": "80bb4cee",
   "metadata": {
    "nbgrader": {
     "grade": true,
     "grade_id": "cell-8a6d1a928512e45c",
     "locked": true,
     "points": 0.05,
     "schema_version": 3,
     "solution": false,
     "task": false
    }
   },
   "outputs": [],
   "source": [
    "assert honor_code"
   ]
  },
  {
   "cell_type": "markdown",
   "id": "46fc1f85",
   "metadata": {
    "nbgrader": {
     "grade": false,
     "grade_id": "cell-02c224df67abdd00",
     "locked": true,
     "schema_version": 3,
     "solution": false,
     "task": false
    }
   },
   "source": [
    "### Background\n",
    "\n",
    "On the in-person portion of the midterm you were told the following: We’re going to work to build a `MusicPlayer` type object. The idea here is that there will be a single class (`MusicPlayer`) with a few attributes (described below) and two methods: 1) `add_song()`, a method to add a song to our playlist and  2) `change_volume()`, a method that changes the value of the volume for our `MusicPlayer`.\n"
   ]
  },
  {
   "cell_type": "markdown",
   "id": "b3bd1eac",
   "metadata": {
    "nbgrader": {
     "grade": false,
     "grade_id": "cell-643966fe4c9a689b",
     "locked": true,
     "schema_version": 3,
     "solution": false,
     "task": false
    }
   },
   "source": [
    "### Q1 - `MusicPlayer()` (2 pts)\n",
    "\n",
    "Create a `MusicPlayer` class that includes the following components:\n",
    "\n",
    "**Step 1**:  \\\n",
    "To start building your `MusicPlayer()` type object, you’ll first need to create the class and specify the necessary instance attributes: 1) `playlist` (which will be an empty list) and 2) `volume` (which will be 50) when an instance of the object is first created.\n",
    "\n",
    "**Step 2**:  \\\n",
    "Now, your `MusicPlayer()` needs an `add_song()` method. This method should take a song in as input and add that song to the object’s `playlist` attribute.\n",
    "\n",
    "**Step 3**:   \\\n",
    "Finally, your object needs a `change_volume()` method. This method should take in a numeric value specifying by how much the volume should change. Your code should ensure that the volume after it’s changed can only be a value between 0 and 100. (For example, if your volume was 90 and you specified to change_volume() by 20, the value stored in volume should be 100…the max possible value.) "
   ]
  },
  {
   "cell_type": "code",
   "execution_count": 3,
   "id": "c65e44f1",
   "metadata": {
    "nbgrader": {
     "grade": false,
     "grade_id": "cell-2a38de5f23e685d9",
     "locked": false,
     "schema_version": 3,
     "solution": true,
     "task": false
    }
   },
   "outputs": [],
   "source": [
    "### BEGIN SOLUTION\n",
    "class MusicPlayer():\n",
    "    \n",
    "    def __init__(self):\n",
    "        self.playlist = []\n",
    "        self.volume = 50\n",
    "        \n",
    "    def add_song(self, song):\n",
    "        self.playlist.append(song)\n",
    "    \n",
    "    def change_volume(self, change):\n",
    "        self.volume = self.volume + change\n",
    "        \n",
    "        if self.volume > 100:\n",
    "            self.volume = 100\n",
    "        elif self.volume < 0:\n",
    "            self.volume = 0\n",
    "### END SOLUTION"
   ]
  },
  {
   "cell_type": "code",
   "execution_count": 4,
   "id": "c1012530",
   "metadata": {},
   "outputs": [],
   "source": [
    "# you can use this cell to test/execute/check your thinking (optional)"
   ]
  },
  {
   "cell_type": "code",
   "execution_count": 5,
   "id": "24f8c15f",
   "metadata": {
    "nbgrader": {
     "grade": true,
     "grade_id": "cell-cefd6931782badca",
     "locked": true,
     "points": 0.25,
     "schema_version": 3,
     "solution": false,
     "task": false
    }
   },
   "outputs": [],
   "source": [
    "assert callable(MusicPlayer)\n",
    "# create instance of object\n",
    "myplayer = MusicPlayer()"
   ]
  },
  {
   "cell_type": "code",
   "execution_count": 6,
   "id": "7b2dbfd0",
   "metadata": {
    "nbgrader": {
     "grade": true,
     "grade_id": "cell-4d4b6be5704a8dff",
     "locked": true,
     "points": 0.25,
     "schema_version": 3,
     "solution": false,
     "task": false
    }
   },
   "outputs": [],
   "source": [
    "# hidden tests that check the playlist instance attribute\n",
    "### BEGIN HIDDEN TESTS\n",
    "# rerun the following just in case a student \n",
    "# uses the myplayer above to test things out\n",
    "myplayer = MusicPlayer()\n",
    "assert myplayer.playlist == []\n",
    "### END HIDDEN TESTS"
   ]
  },
  {
   "cell_type": "code",
   "execution_count": 7,
   "id": "3b00dd47",
   "metadata": {
    "nbgrader": {
     "grade": true,
     "grade_id": "cell-98e932482181ba1a",
     "locked": true,
     "points": 0.25,
     "schema_version": 3,
     "solution": false,
     "task": false
    }
   },
   "outputs": [],
   "source": [
    "# hidden tests that check the volume instance attribute\n",
    "### BEGIN HIDDEN TESTS\n",
    "assert myplayer.volume == 50\n",
    "### END HIDDEN TESTS"
   ]
  },
  {
   "cell_type": "code",
   "execution_count": 8,
   "id": "c2bf14e7",
   "metadata": {
    "nbgrader": {
     "grade": true,
     "grade_id": "cell-592d51bad78b9700",
     "locked": true,
     "points": 0.25,
     "schema_version": 3,
     "solution": false,
     "task": false
    }
   },
   "outputs": [],
   "source": [
    "# hidden tests that check the add_song method executes without error\n",
    "### BEGIN HIDDEN TESTS\n",
    "myplayer.add_song('You and Me on the Rock')\n",
    "### END HIDDEN TESTS"
   ]
  },
  {
   "cell_type": "code",
   "execution_count": 9,
   "id": "74b1e45e",
   "metadata": {
    "nbgrader": {
     "grade": true,
     "grade_id": "cell-fb04ffeeabcbf712",
     "locked": true,
     "points": 0.25,
     "schema_version": 3,
     "solution": false,
     "task": false
    }
   },
   "outputs": [],
   "source": [
    "# hidden tests that check the add_song method does what it's supposed to\n",
    "### BEGIN HIDDEN TESTS\n",
    "myplayer.add_song('Sinners, Saints, and Fools')\n",
    "assert len(myplayer.playlist) == 2\n",
    "### END HIDDEN TESTS"
   ]
  },
  {
   "cell_type": "code",
   "execution_count": 10,
   "id": "ba34737e",
   "metadata": {
    "nbgrader": {
     "grade": true,
     "grade_id": "cell-2756caee0acf76ae",
     "locked": true,
     "points": 0.25,
     "schema_version": 3,
     "solution": false,
     "task": false
    },
    "scrolled": true
   },
   "outputs": [],
   "source": [
    "# hidden tests that check the change_volume method executes without error\n",
    "### BEGIN HIDDEN TESTS\n",
    "myplayer.change_volume(10)\n",
    "### END HIDDEN TESTS"
   ]
  },
  {
   "cell_type": "code",
   "execution_count": 11,
   "id": "f0c43daf",
   "metadata": {
    "nbgrader": {
     "grade": true,
     "grade_id": "cell-5f71495a29e80721",
     "locked": true,
     "points": 0.25,
     "schema_version": 3,
     "solution": false,
     "task": false
    }
   },
   "outputs": [],
   "source": [
    "# hidden tests that check the change_volume method does what it's supposed to\n",
    "### BEGIN HIDDEN TESTS\n",
    "assert myplayer.volume == 60\n",
    "### END HIDDEN TESTS"
   ]
  },
  {
   "cell_type": "code",
   "execution_count": 12,
   "id": "5b46f33b",
   "metadata": {
    "nbgrader": {
     "grade": true,
     "grade_id": "cell-9ddcc5e3a1648654",
     "locked": true,
     "points": 0.25,
     "schema_version": 3,
     "solution": false,
     "task": false
    }
   },
   "outputs": [],
   "source": [
    "# hidden tests that check the change_volume method follows the 0-100 rule specified in question\n",
    "### BEGIN HIDDEN TESTS\n",
    "myplayer.change_volume(50)\n",
    "assert myplayer.volume == 100\n",
    "myplayer.change_volume(-110)\n",
    "assert myplayer.volume == 0\n",
    "### END HIDDEN TESTS"
   ]
  },
  {
   "cell_type": "markdown",
   "id": "60c839d2",
   "metadata": {
    "nbgrader": {
     "grade": false,
     "grade_id": "cell-7aace9d2e3f98133",
     "locked": true,
     "schema_version": 3,
     "solution": false,
     "task": false
    }
   },
   "source": [
    "### Q2 - Create an Instance (0.45 pts)\n",
    "\n",
    "Here, you'll initialize `my_music`, an instance of your `MusicPlayer` object.\n",
    "\n",
    "After initializing `my_music`, you'll add three of your favorite songs to its playlist (using `add_song`) and then `change_volume` such that the `volume` is 20 after execution."
   ]
  },
  {
   "cell_type": "code",
   "execution_count": 18,
   "id": "98d2d935",
   "metadata": {
    "nbgrader": {
     "grade": false,
     "grade_id": "cell-890ee14a107fa8f5",
     "locked": false,
     "schema_version": 3,
     "solution": true,
     "task": false
    }
   },
   "outputs": [],
   "source": [
    "### BEGIN SOLUTION\n",
    "my_music = MusicPlayer()\n",
    "my_music.add_song('Every Time I Hear That Song')\n",
    "my_music.add_song('The Mother')\n",
    "my_music.add_song('The Story')\n",
    "my_music.change_volume(-30)\n",
    "### END SOLUTION"
   ]
  },
  {
   "cell_type": "code",
   "execution_count": 19,
   "id": "32b02a42",
   "metadata": {},
   "outputs": [],
   "source": [
    "# you can use this cell to test/execute/check your thinking (optional)"
   ]
  },
  {
   "cell_type": "code",
   "execution_count": 20,
   "id": "d4137b51",
   "metadata": {
    "nbgrader": {
     "grade": true,
     "grade_id": "cell-7d903b9bfc07d385",
     "locked": true,
     "points": 0.05,
     "schema_version": 3,
     "solution": false,
     "task": false
    }
   },
   "outputs": [],
   "source": [
    "assert my_music"
   ]
  },
  {
   "cell_type": "code",
   "execution_count": 21,
   "id": "b1c88133",
   "metadata": {
    "nbgrader": {
     "grade": true,
     "grade_id": "cell-8701c29c069ef421",
     "locked": true,
     "points": 0.2,
     "schema_version": 3,
     "solution": false,
     "task": false
    }
   },
   "outputs": [],
   "source": [
    "# hidden tests that check the playlist is correct\n",
    "### BEGIN HIDDEN TESTS\n",
    "assert len(my_music.playlist) == 3\n",
    "### END HIDDEN TESTS"
   ]
  },
  {
   "cell_type": "code",
   "execution_count": 22,
   "id": "4b5ab578",
   "metadata": {
    "nbgrader": {
     "grade": true,
     "grade_id": "cell-691eebff434c903c",
     "locked": true,
     "points": 0.2,
     "schema_version": 3,
     "solution": false,
     "task": false
    }
   },
   "outputs": [],
   "source": [
    "# hidden tests that check the volume is correct\n",
    "### BEGIN HIDDEN TESTS\n",
    "assert my_music.volume == 20\n",
    "### END HIDDEN TESTS"
   ]
  },
  {
   "cell_type": "markdown",
   "id": "e20b8cf0",
   "metadata": {
    "nbgrader": {
     "grade": false,
     "grade_id": "cell-25d5d8150281db99",
     "locked": true,
     "schema_version": 3,
     "solution": false,
     "task": false
    }
   },
   "source": [
    "## Submit\n",
    "\n",
    "Midterm Complete - go ahead and check your work, restart & run all to make sure it all runs without issue, and **submit on datahub**!"
   ]
  }
 ],
 "metadata": {
  "celltoolbar": "Create Assignment",
  "kernelspec": {
   "display_name": "Python 3 (ipykernel)",
   "language": "python",
   "name": "python3"
  },
  "language_info": {
   "codemirror_mode": {
    "name": "ipython",
    "version": 3
   },
   "file_extension": ".py",
   "mimetype": "text/x-python",
   "name": "python",
   "nbconvert_exporter": "python",
   "pygments_lexer": "ipython3",
   "version": "3.9.7"
  }
 },
 "nbformat": 4,
 "nbformat_minor": 5
}
