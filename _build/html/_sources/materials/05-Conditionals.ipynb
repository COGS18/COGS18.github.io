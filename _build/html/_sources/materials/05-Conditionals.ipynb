{
 "cells": [
  {
   "cell_type": "markdown",
   "metadata": {
    "slideshow": {
     "slide_type": "slide"
    }
   },
   "source": [
    "**Course Announcements**\n",
    "\n",
    "- **CL2** now available; due Wed at 11:59 PM\n",
    "- **A1** due Fri (10/8; 11:59 PM)"
   ]
  },
  {
   "cell_type": "markdown",
   "metadata": {
    "slideshow": {
     "slide_type": "notes"
    }
   },
   "source": [
    "**Q&A**\n",
    "\n",
    "Q: When it says `raise NotImplementedError`, do you delete it and write your code?  \n",
    "A: Yes! If not, an error will be raised. This is your indication to replace that line of code with your answer.\n",
    "\n",
    "Q: What is the difference between print and assert? When do we use each?   \n",
    "A: `print` statements show (print) what information is stored in a variable. You use these when you want to check the contents of a variable. `assert` statements check whether the information follows it is True. We use these in coding labs and assignments to make sure you're on the right track. You'll also get more practice with these in CL2.\n",
    "\n",
    "Q: Do you have any recommended website for practice?  \n",
    "A: There are additional practice questions (and their answers) in our [\"textbook\"](https://shanellis.github.io/pythonbook/content/intro.html). Some students really like [leetcode](https://leetcode.com/). Additional exercises [here](https://www.practicepython.org/).\n",
    "\n",
    "Q: Could you please remind us to fill out this daily survey at the end of class? I almost keep forgetting to do these. Thanks!    \n",
    "A: I *really* want to. I'll try to add it to the notes to remind myself...but I forget too :(. I'll try harder!\n",
    "\n",
    "Q: Thank you Professor Ellis and TAs for answering all my questions. Could you give one (or few) example(s) that you have been using python in teaching?  \n",
    "A: I use code to manage all aspects surrounding grading. To switch between formats (i.e. Coding lab grades in a Google sheet -> Canvas format). To check who completed the course surveys. To see who's struggling in class (using comparison operators). To submit your grades at the end of the quarter. Just one example! There are lots!\n",
    "\n",
    "Q: I'm just wondering why the Python developers made the boolean operators function that way mentioned above?  \n",
    "A: It's more memory efficient! (Albeit a little confusing)\n",
    "\n",
    "Q: I am a little confused about asserts, how can I use them to check my work?  \n",
    "A: See answer above and check out CL2! Definitely a focus of coding lab this week!\n",
    "\n",
    "Q: Where are the lab answers?  \n",
    "A: Course website: https://cogs18.github.io/\n",
    "\n",
    "Q: How much time should we set aside for A1?  \n",
    "A: There is a wide range, but the median for students is 2 hours."
   ]
  },
  {
   "cell_type": "markdown",
   "metadata": {
    "slideshow": {
     "slide_type": "slide"
    }
   },
   "source": [
    "# Conditionals\n",
    "\n",
    "- `if`\n",
    "- `elif`\n",
    "- `else`"
   ]
  },
  {
   "cell_type": "markdown",
   "metadata": {
    "slideshow": {
     "slide_type": "slide"
    }
   },
   "source": [
    "## Conditionals: `if`"
   ]
  },
  {
   "cell_type": "markdown",
   "metadata": {
    "slideshow": {
     "slide_type": "fragment"
    }
   },
   "source": [
    "<div class=\"alert alert-success\">\n",
    "Conditionals are statements that check for a condition, using the <code>if</code> statement, and then only execute a set of code if the condition evaluates as <code>True</code>.\n",
    "</div>"
   ]
  },
  {
   "cell_type": "code",
   "execution_count": 5,
   "metadata": {
    "slideshow": {
     "slide_type": "slide"
    }
   },
   "outputs": [
    {
     "name": "stdout",
     "output_type": "stream",
     "text": [
      "This code executes if the condition evaluates as True.\n"
     ]
    }
   ],
   "source": [
    "condition = True\n",
    "\n",
    "if condition:\n",
    "    print('This code executes if the condition evaluates as True.')"
   ]
  },
  {
   "cell_type": "code",
   "execution_count": 6,
   "metadata": {
    "slideshow": {
     "slide_type": "fragment"
    }
   },
   "outputs": [
    {
     "name": "stdout",
     "output_type": "stream",
     "text": [
      "This code executes if the condition evaluates as True.\n"
     ]
    }
   ],
   "source": [
    "# equivalent to above\n",
    "if condition == True:\n",
    "    print('This code executes if the condition evaluates as True.')"
   ]
  },
  {
   "cell_type": "markdown",
   "metadata": {
    "slideshow": {
     "slide_type": "slide"
    }
   },
   "source": [
    "#### Clicker Question #1\n",
    "\n",
    "Replace `---` below with something that will print 'True'\n",
    "\n",
    "- A) I did it!\n",
    "- B) I think I did it!\n",
    "- C) I tried but am stuck.\n",
    "- D) I'm unsure where to start"
   ]
  },
  {
   "cell_type": "code",
   "execution_count": 10,
   "metadata": {
    "slideshow": {
     "slide_type": "fragment"
    }
   },
   "outputs": [
    {
     "name": "stdout",
     "output_type": "stream",
     "text": [
      "True\n"
     ]
    }
   ],
   "source": [
    "math = ' '\n",
    "\n",
    "if math:\n",
    "    print('True')"
   ]
  },
  {
   "cell_type": "markdown",
   "metadata": {
    "slideshow": {
     "slide_type": "slide"
    }
   },
   "source": [
    "## Conditional: `else`"
   ]
  },
  {
   "cell_type": "markdown",
   "metadata": {
    "slideshow": {
     "slide_type": "fragment"
    }
   },
   "source": [
    "<div class=\"alert alert-success\">\n",
    "After an <code>if</code>, you can use an <code>else</code> that will run if the conditional(s) above have not run.\n",
    "</div>"
   ]
  },
  {
   "cell_type": "code",
   "execution_count": 11,
   "metadata": {
    "slideshow": {
     "slide_type": "fragment"
    }
   },
   "outputs": [
    {
     "name": "stdout",
     "output_type": "stream",
     "text": [
      "This code executes if the condition evaluates as False\n"
     ]
    }
   ],
   "source": [
    "condition = False\n",
    "\n",
    "if condition:\n",
    "    print('This code executes if the condition evaluates as True.')\n",
    "else: \n",
    "    print('This code executes if the condition evaluates as False')"
   ]
  },
  {
   "cell_type": "markdown",
   "metadata": {
    "slideshow": {
     "slide_type": "slide"
    }
   },
   "source": [
    "#### Clicker Question #2\n",
    "\n",
    "Replace `---` below with something that will print 'False'.\n",
    "\n",
    "- A) I did it!\n",
    "- B) I think I did it!\n",
    "- C) I tried but am stuck.\n",
    "- D) I'm unsure where to start"
   ]
  },
  {
   "cell_type": "code",
   "execution_count": null,
   "metadata": {
    "slideshow": {
     "slide_type": "fragment"
    }
   },
   "outputs": [],
   "source": [
    "my_value = ---\n",
    "\n",
    "if my_value:\n",
    "    print('True')\n",
    "else: \n",
    "    print('False')"
   ]
  },
  {
   "cell_type": "markdown",
   "metadata": {
    "slideshow": {
     "slide_type": "slide"
    }
   },
   "source": [
    "## Conditional: `elif`"
   ]
  },
  {
   "cell_type": "markdown",
   "metadata": {
    "slideshow": {
     "slide_type": "fragment"
    }
   },
   "source": [
    "<div class=\"alert alert-success\">\n",
    "After an <code>if</code> statement, you can have any number of <code>elif</code>`s (meaning 'else if') to check other conditions.\n",
    "</div>"
   ]
  },
  {
   "cell_type": "code",
   "execution_count": null,
   "metadata": {
    "scrolled": true,
    "slideshow": {
     "slide_type": "slide"
    }
   },
   "outputs": [],
   "source": [
    "condition_1 = False\n",
    "condition_2 = True\n",
    "\n",
    "if condition_1:\n",
    "    print('This code executes if condition_1 evaluates as True.')\n",
    "elif condition_2:\n",
    "    print('This code executes if condition_1 did not evaluate as True, but condition_2 does.')\n",
    "else: \n",
    "    print('This code executes if both condition_1 and condition_2 evaluate as False')"
   ]
  },
  {
   "cell_type": "markdown",
   "metadata": {
    "slideshow": {
     "slide_type": "slide"
    }
   },
   "source": [
    "### `elif` without an `else`\n",
    "\n",
    "An else statement is not required, but if both the `if` and the `elif` condtions are not met (both evaluate as `False`), then nothing is returned."
   ]
  },
  {
   "cell_type": "code",
   "execution_count": null,
   "metadata": {
    "slideshow": {
     "slide_type": "fragment"
    }
   },
   "outputs": [],
   "source": [
    "condition_1 = False\n",
    "condition_2 = False\n",
    "\n",
    "if condition_1:\n",
    "    print('This code executes if condition_1 evaluates as True.')\n",
    "elif condition_2:\n",
    "    print('This code executes if condition_1 did not evaluate as True, but condition_2 does.')"
   ]
  },
  {
   "cell_type": "markdown",
   "metadata": {
    "slideshow": {
     "slide_type": "slide"
    }
   },
   "source": [
    "### `elif` *after* an `else` does not make sense\n",
    "\n",
    "The order will always be `if`-`elif`-`else`...with only the `if` being required. If the `elif` is at the end...it will never be tested, as the `else` will have already returned a value once reached (and thus Python will throw an error)."
   ]
  },
  {
   "cell_type": "code",
   "execution_count": null,
   "metadata": {
    "scrolled": true,
    "slideshow": {
     "slide_type": "fragment"
    }
   },
   "outputs": [],
   "source": [
    "## THIS CODE WILL PRODUCE AN ERROR\n",
    "condition_1 = False\n",
    "condition_2 = False\n",
    "\n",
    "if condition_1:\n",
    "    print('This code executes if condition_1 evaluates as True.')\n",
    "else: \n",
    "    print('This code executes if both condition_1 and condition_2 evaluate as False')\n",
    "elif condition_2:\n",
    "    print('This code executes if condition_1 did not evaluate as True, but condition_2 does.')"
   ]
  },
  {
   "cell_type": "markdown",
   "metadata": {
    "slideshow": {
     "slide_type": "slide"
    }
   },
   "source": [
    "## Conditionals With Value Comparisons"
   ]
  },
  {
   "cell_type": "markdown",
   "metadata": {
    "slideshow": {
     "slide_type": "fragment"
    }
   },
   "source": [
    "<div class=\"alert alert-success\">\n",
    "Any expression that can be evaluated as a boolean, such as value comparisons, can be used with conditionals.\n",
    "</div>"
   ]
  },
  {
   "cell_type": "code",
   "execution_count": null,
   "metadata": {
    "slideshow": {
     "slide_type": "slide"
    }
   },
   "outputs": [],
   "source": [
    "language = \"s\"\n",
    "\n",
    "if language == \"Python\" or language == \"R\":\n",
    "    print(\"Yay!\")\n",
    "elif language == \"Perl\":\n",
    "    print(\"Hmmmmmmm\")\n",
    "else:\n",
    "    print(\"Get yourself a programming language!\")"
   ]
  },
  {
   "cell_type": "code",
   "execution_count": null,
   "metadata": {
    "slideshow": {
     "slide_type": "slide"
    }
   },
   "outputs": [],
   "source": [
    "# Exploring conditionals\n",
    "number = 4\n",
    "\n",
    "print('Before Conditional')\n",
    " \n",
    "if number < 5:\n",
    "    print('    if statement execution')\n",
    "elif number > 5:\n",
    "    print('    elif statement execution')\n",
    "\n",
    "print('After Conditional')"
   ]
  },
  {
   "cell_type": "markdown",
   "metadata": {
    "slideshow": {
     "slide_type": "slide"
    }
   },
   "source": [
    "#### Clicker Question #3\n",
    "\n",
    "What will the following code snippet print out:"
   ]
  },
  {
   "cell_type": "code",
   "execution_count": null,
   "metadata": {
    "slideshow": {
     "slide_type": "fragment"
    }
   },
   "outputs": [],
   "source": [
    "condition = False\n",
    "\n",
    "if condition:\n",
    "    print(\"John\")\n",
    "elif not condition:\n",
    "    print(\"Paul\")\n",
    "elif not condition:\n",
    "    print(\"George\")\n",
    "else:\n",
    "    print(\"Ringo\")"
   ]
  },
  {
   "cell_type": "markdown",
   "metadata": {
    "slideshow": {
     "slide_type": "fragment"
    }
   },
   "source": [
    "- A) John \n",
    "- B) Paul, George, Ringo \n",
    "- C) Paul \n",
    "- D) Paul, George \n",
    "- E) Ringo"
   ]
  },
  {
   "cell_type": "markdown",
   "metadata": {
    "slideshow": {
     "slide_type": "slide"
    }
   },
   "source": [
    "#### Clicker Question #4\n",
    "\n",
    "What will the following code snippet print out:"
   ]
  },
  {
   "cell_type": "code",
   "execution_count": null,
   "metadata": {
    "slideshow": {
     "slide_type": "fragment"
    }
   },
   "outputs": [],
   "source": [
    "if 1 + 1 == 2:\n",
    "    print(\"I did Math\")\n",
    "elif 1/0:\n",
    "    print(\"I broke Math\")\n",
    "else:\n",
    "    print(\"I didn't do math\")"
   ]
  },
  {
   "cell_type": "markdown",
   "metadata": {
    "slideshow": {
     "slide_type": "fragment"
    }
   },
   "source": [
    "- A) I did Math \n",
    "- B) I broke Math\n",
    "- C) I didn't do math\n",
    "- D) This code won't execute"
   ]
  },
  {
   "cell_type": "markdown",
   "metadata": {
    "slideshow": {
     "slide_type": "slide"
    }
   },
   "source": [
    "#### Clicker Question #5\n",
    "\n",
    "What will the following code snippet print out:"
   ]
  },
  {
   "cell_type": "code",
   "execution_count": null,
   "metadata": {
    "slideshow": {
     "slide_type": "fragment"
    }
   },
   "outputs": [],
   "source": [
    "conditional = False\n",
    "python = \"great\"\n",
    "\n",
    "if conditional:\n",
    "    if python == \"great\":\n",
    "        print(\"Yay Python!\")\n",
    "    else:\n",
    "        print(\"Oh no.\")\n",
    "else:\n",
    "    print(\"I'm here.\")"
   ]
  },
  {
   "cell_type": "markdown",
   "metadata": {
    "slideshow": {
     "slide_type": "fragment"
    }
   },
   "source": [
    "- A) Yay Python!\n",
    "- B) Oh no.\n",
    "- C) I'm here.\n",
    "- D) This code won't execute"
   ]
  },
  {
   "cell_type": "markdown",
   "metadata": {
    "collapsed": true,
    "slideshow": {
     "slide_type": "slide"
    }
   },
   "source": [
    "## Properties of conditionals\n",
    "\n",
    "- All conditionals start with an `if`, can have an optional and variable number of `elif`'s and an optional `else` statement\n",
    "- Conditionals can take any expression that can be evaluated as `True` or `False`. \n",
    "- At most one component (`if` / `elif` / `else`) of a conditional will run\n",
    "- The order of conditional blocks is always `if` then `elif`(s) then `else`\n",
    "- Code is only ever executed if the condition is met"
   ]
  },
  {
   "cell_type": "markdown",
   "metadata": {
    "slideshow": {
     "slide_type": "slide"
    }
   },
   "source": [
    "**Final Notes**\n",
    "\n",
    "- You now have all information needed for A1\n",
    "- Reminder to fill out daily feedback survey"
   ]
  }
 ],
 "metadata": {
  "celltoolbar": "Slideshow",
  "kernelspec": {
   "display_name": "Python 3",
   "language": "python",
   "name": "python3"
  },
  "language_info": {
   "codemirror_mode": {
    "name": "ipython",
    "version": 3
   },
   "file_extension": ".py",
   "mimetype": "text/x-python",
   "name": "python",
   "nbconvert_exporter": "python",
   "pygments_lexer": "ipython3",
   "version": "3.9.5"
  },
  "rise": {
   "scroll": true
  }
 },
 "nbformat": 4,
 "nbformat_minor": 2
}
