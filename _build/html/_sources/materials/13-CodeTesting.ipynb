{
 "cells": [
  {
   "cell_type": "markdown",
   "metadata": {},
   "source": [
    "# Code Testing\n",
    "\n",
    "[![Open In Colab](https://colab.research.google.com/assets/colab-badge.svg)](https://colab.research.google.com/github/COGS18/LectureNotes-COGS18/blob/main/13-CodeTesting.ipynb)\n"
   ]
  },
  {
   "cell_type": "markdown",
   "metadata": {},
   "source": [
    "**Q&A**\n",
    "\n",
    "> Q: How can I link pandas t google sheets and how could one write there own methods for pandas?  \n",
    "> A: There is an additional package that most people use to read directly from googlesheets (called `gspread`) [I will note that in R this is a bit more straightforward than in python, but that's neither here nor thtere.] As for writing your own methods, the most typical way would be to write a new class that inherits from the pandas object (for example a DataFrame) and adds additional methods - we *briefly* touched on inheritance. That said, while it's possible, pandas has a TON of methods so it's rare that you'd need to write one on your own.\n",
    "\n",
    "> Q: how familiar should we be with setting up an array ourselves?   \n",
    "> A: Understand it conceptually, but you don't need to memorize the syntax to do so.\n",
    "\n",
    "> Q: I was confused on the practice problem we worked on when it mentioned 3x3, I was just wondering whenever we see something like this is it basically telling us we have to create 3 lists inside of one list?  \n",
    "> A: Kind of. 3x3 indicates the rows and columns. So 4x2 would be 4 rows (the first number) and 2 columns (the second number)\n",
    "\n",
    "> Q: I’m still a bit unsure about when to use NumPy vs. pandas, and how to choose the right one when working with data. Also, I’d like more practice with writing and running scripts from the terminal.   \n",
    "> A: If you're doing linear algebra/matrix math, numpy. Otherwise, if working with  a dataset that you want to do some analysis on, it's almost always pandas. Your final exam will focus on pandas (As will your A5). We introduce numpy to lay the foundation for discussing pandas.\n",
    "\n",
    "> Q: Also, I’d like more practice with writing and running scripts from the terminal.   \n",
    "> A: We'll do more of this next week!\n",
    "\n",
    "> Q: What specific topics from scientific computing will we need to know for the final exam?   \n",
    "> A: Familiarity with numpy and pandas (their goals, main objects, etc.) and the ability to interact with pandas DataFrame objects. You do not need to memorize available methods, but if I tell you what methods do, you need to know how to use them.\n"
   ]
  },
  {
   "cell_type": "markdown",
   "metadata": {},
   "source": [
    "**Course Announcements**\n",
    "\n",
    "Due this week:\n",
    "- CL8 due Fri\n",
    "- A5 due Sun\n",
    "- Complete E2\n",
    "\n",
    "Notes:\n",
    "- Please complete your [SETs](https://academicaffairs.ucsd.edu/Modules/Evals/) (especially for TAs/IAs) by 8AM Sat\n",
    "- Retest (E1 *or* E2) will be available on PrairieTest tomorrow Fri 5/30\n",
    "- Reminder to complete the [Food Insecurity Survey](https://ucsd.co1.qualtrics.com/jfe/form/SV_curj9RWyrDAGu0K) (by Friday)"
   ]
  },
  {
   "cell_type": "markdown",
   "metadata": {},
   "source": [
    "## Final Exam\n",
    "\n",
    "- There will a handful of MC and SA questions\n",
    "- The bulk of the exam will be a \"mini project\" focused on the material since E2. This will involve:\n",
    "    - Debugging a function or two; these will use **pandas**/interact with data\n",
    "    - These will be stored in a **module** (.py file)\n",
    "    - maybe writing/executing a **script** that uses these functions \n",
    "    - Writing a **test function** or two using `unittest` (we're discussing this today!)\n",
    "    - using good code style\n",
    "- There *will* be a practice exam. We will discuss putting all of these pieces together in class next week."
   ]
  },
  {
   "cell_type": "markdown",
   "metadata": {},
   "source": [
    "## Code Testing\n",
    "\n",
    "1. Motivation\n",
    "2. Some Testing Practices\n",
    "3. `unittest` Fundamentals\n",
    "4. Try It Out!"
   ]
  },
  {
   "cell_type": "markdown",
   "metadata": {},
   "source": [
    "**Code Testing**: a process to ensure that your code runs correctly"
   ]
  },
  {
   "cell_type": "markdown",
   "metadata": {},
   "source": [
    "## Part I: Motivation\n",
    "\n",
    "Why should we test our code?\n",
    "\n",
    "### Writing Good Code\n",
    "\n",
    "All in all, write code that is:\n",
    "\n",
    "* Well organized (follows a style guide)\n",
    "* Tested\n",
    "* Documented\n",
    "\n",
    "And you will have understandable, maintainable, and trustable code.\n",
    "\n",
    "### Four Types of Code Testing\n",
    "1. **Unit tests** (primary focus): test functions & objects to ensure that the code is behaving as expected\n",
    "2. **Smoke tests**: preliminary tests to check basic functionality; checks if something runs, but not necessarily if it does the right thing (gut check)\n",
    "3. **Integration tests**: test functions, classes & modules interacting\n",
    "4. **System tests**: tests end-to-end behavior\n",
    "\n",
    "### Unit Tests\n",
    "* One test for each \"piece\" of your code (function, class, etc.)\n",
    "* `unittest` will let you know which tests pass/fail/throw an error\n",
    "* Testing \"edge (atypical) cases\"\n",
    "* Help you resist the urge to assume computers will act how you think it will work"
   ]
  },
  {
   "cell_type": "markdown",
   "metadata": {},
   "source": [
    "## Part II: Some Testing Practices"
   ]
  },
  {
   "cell_type": "markdown",
   "metadata": {},
   "source": [
    "### How to Write Tests\n",
    "\n",
    "Given a function or class you want to test:\n",
    "* You need to have an expectation for what it should do\n",
    "* Write out some example cases, with known answers\n",
    "* Use assert to check that your example cases do run as expected\n",
    "* Collect these examples into test functions, stored in test files"
   ]
  },
  {
   "cell_type": "markdown",
   "metadata": {},
   "source": [
    "### Test Driven Development\n",
    "\n",
    "In software development, test-driven development is an approach in which you write tests first - and then write code to pass the tests.\n",
    "\n",
    "* Ensures you go into writing code with a good plan / outline\n",
    "* Ensures that you have a test suite, as you can not decide to neglect to test your code after the fact you made the test suite\n",
    "* Note: when you complete (or at least write) assignments for this class, you are effectively doing test-driven development"
   ]
  },
  {
   "cell_type": "markdown",
   "metadata": {},
   "source": [
    "### Activity 1: Code Testing Ideas\n",
    "\n",
    "Please complete the following Google Form: https://forms.gle/86dnUZ7yd88trCUd8 "
   ]
  },
  {
   "cell_type": "markdown",
   "metadata": {},
   "source": [
    "## Part III: `unittest` Fundamentals\n",
    "\n",
    "The very first step is to import the `unittest` framework."
   ]
  },
  {
   "cell_type": "code",
   "execution_count": null,
   "metadata": {},
   "outputs": [],
   "source": [
    "import unittest"
   ]
  },
  {
   "cell_type": "markdown",
   "metadata": {},
   "source": [
    "### General template for testing in `unittest`:"
   ]
  },
  {
   "cell_type": "code",
   "execution_count": null,
   "metadata": {},
   "outputs": [],
   "source": [
    "class TestName(unittest.TestCase):\n",
    "\n",
    "    # TEST FUNCTIONS BELONG INSIDE THE CLASS\n",
    "    def test_name_1(self):\n",
    "        # code statements go inside here\n",
    "        self.assertEqual(1, 1)\n",
    "\n",
    "    def test_name_2(self):\n",
    "        # code statements go inside here\n",
    "        self.assertTrue(False)\n",
    "\n",
    "    # ...\n",
    "\n",
    "if __name__ == '__main__':\n",
    "    suite = unittest.TestLoader().loadTestsFromTestCase(TestName)\n",
    "    unittest.TextTestRunner(verbosity=2).run(suite)"
   ]
  },
  {
   "cell_type": "markdown",
   "metadata": {},
   "source": [
    "### Some testing functions in `unittest`:\n",
    "\n",
    "#### `.assertEqual(a, b)`\n",
    "\n",
    "Checks if `a` is equal to `b`. Similar to the expression `a == b`.\n",
    "\n",
    "Note: Although it doesn't affect the results, it's good practice to let `a` be the expected value (what you think the result will be) and `b` be the actual value (what the result actually is). "
   ]
  },
  {
   "cell_type": "code",
   "execution_count": null,
   "metadata": {},
   "outputs": [],
   "source": [
    "def add(a, b):\n",
    "    return a + b"
   ]
  },
  {
   "cell_type": "code",
   "execution_count": null,
   "metadata": {},
   "outputs": [],
   "source": [
    "# Equality testing suite\n",
    "class TestEqual(unittest.TestCase):\n",
    "\n",
    "    # First test\n",
    "    def test_equal(self):\n",
    "        self.assertEqual(10, add(4, 6))\n",
    "\n",
    "    # Second test\n",
    "    def test_equal_bad(self):\n",
    "        self.assertEqual(11, add(4, 6))\n",
    "\n",
    "if __name__ == '__main__':\n",
    "    suite = unittest.TestLoader().loadTestsFromTestCase(TestEqual)\n",
    "    unittest.TextTestRunner(verbosity=2).run(suite)"
   ]
  },
  {
   "cell_type": "markdown",
   "metadata": {},
   "source": [
    "#### `.assertTrue(x)`\n",
    "\n",
    "Checks if `x` is `True`. Same as the expression `bool(x) == True`."
   ]
  },
  {
   "cell_type": "code",
   "execution_count": null,
   "metadata": {},
   "outputs": [],
   "source": [
    "# Truth testing suite\n",
    "class TestTrue(unittest.TestCase):\n",
    "\n",
    "    def test_true(self):\n",
    "        self.assertTrue(add(4, 6) == 10)\n",
    "\n",
    "if __name__ == '__main__':\n",
    "    suite = unittest.TestLoader().loadTestsFromTestCase(TestTrue)\n",
    "    unittest.TextTestRunner(verbosity=2).run(suite)"
   ]
  },
  {
   "cell_type": "markdown",
   "metadata": {},
   "source": [
    "#### `.assertFalse(x)`\n",
    "\n",
    "Checks if `x` is `False`. Same as the expression `bool(x) == False`."
   ]
  },
  {
   "cell_type": "code",
   "execution_count": null,
   "metadata": {},
   "outputs": [],
   "source": [
    "# False testing suite\n",
    "class TestFalse(unittest.TestCase):\n",
    "\n",
    "    def test_false(self):\n",
    "        self.assertFalse(add(4, 6) == 11)\n",
    "\n",
    "if __name__ == '__main__':\n",
    "    suite = unittest.TestLoader().loadTestsFromTestCase(TestFalse)\n",
    "    unittest.TextTestRunner(verbosity=2).run(suite)"
   ]
  },
  {
   "cell_type": "markdown",
   "metadata": {},
   "source": [
    "#### `.assertIsInstance(a, b)`\n",
    "\n",
    "Checks if `a` is of variable type `b` (int, float, str, bool) or is of an instance of class `b`. Similar to the expression `isinstance(a, b)` or `type(a) == b`."
   ]
  },
  {
   "cell_type": "code",
   "execution_count": null,
   "metadata": {},
   "outputs": [],
   "source": [
    "# Instance testing suite\n",
    "class TestInstances(unittest.TestCase):\n",
    "    \n",
    "    # First test\n",
    "    def test_instance(self):\n",
    "        self.assertIsInstance('Hello!', str)\n",
    "\n",
    "    # Second test\n",
    "    def test_instance_bad(self):\n",
    "        self.assertIsInstance(3.14, int)\n",
    "\n",
    "if __name__ == '__main__':\n",
    "    suite = unittest.TestLoader().loadTestsFromTestCase(TestInstances)\n",
    "    unittest.TextTestRunner(verbosity=2).run(suite)"
   ]
  },
  {
   "cell_type": "markdown",
   "metadata": {},
   "source": [
    "#### `.assertIsNone(x)`\n",
    "\n",
    "Checks if `x` is `None`. Similar to the expression `x is None`."
   ]
  },
  {
   "cell_type": "code",
   "execution_count": null,
   "metadata": {},
   "outputs": [],
   "source": [
    "def return_none():\n",
    "    return"
   ]
  },
  {
   "cell_type": "code",
   "execution_count": null,
   "metadata": {},
   "outputs": [],
   "source": [
    "# None testing suite\n",
    "class TestNone(unittest.TestCase):\n",
    "\n",
    "    # First test\n",
    "    def test_none_1(self):\n",
    "        self.assertIsNone(return_none())\n",
    "\n",
    "    # Second test\n",
    "    def test_none_append(self):\n",
    "        lst = []\n",
    "        self.assertIsNone(lst.append(1))\n",
    "\n",
    "if __name__ == '__main__':\n",
    "    suite = unittest.TestLoader().loadTestsFromTestCase(TestNone)\n",
    "    unittest.TextTestRunner(verbosity=2).run(suite)"
   ]
  },
  {
   "cell_type": "markdown",
   "metadata": {},
   "source": [
    "#### `.assertIn(a, b)`\n",
    "\n",
    "Checks for membership, if `a` belongs in `b`. Same as the expression `a in b`."
   ]
  },
  {
   "cell_type": "code",
   "execution_count": null,
   "metadata": {},
   "outputs": [],
   "source": [
    "# Membership testing suite\n",
    "class TestIn(unittest.TestCase):\n",
    "\n",
    "    fruits = ['apples', 'bananas', 'oranges']\n",
    "\n",
    "    # First test\n",
    "    def test_membership(self):\n",
    "        self.assertIn('apples', self.fruits)\n",
    "\n",
    "    # Second test\n",
    "    def test_membership_bad(self):\n",
    "        self.assertIn('pears', self.fruits)\n",
    "\n",
    "if __name__ == '__main__':\n",
    "    suite = unittest.TestLoader().loadTestsFromTestCase(TestIn)\n",
    "    unittest.TextTestRunner(verbosity=2).run(suite)"
   ]
  },
  {
   "cell_type": "markdown",
   "metadata": {},
   "source": [
    "### Putting it all together..."
   ]
  },
  {
   "cell_type": "code",
   "execution_count": null,
   "metadata": {},
   "outputs": [],
   "source": [
    "class TestAllAdd(unittest.TestCase):\n",
    "\n",
    "    def test_all(self):\n",
    "        self.assertEqual(10, add(4, 6))\n",
    "        self.assertEqual(11, add(4, 6))\n",
    "        self.assertTrue(add(4, 6) == 10)\n",
    "        self.assertFalse(add(4, 6) == 11)\n",
    "        \n",
    "if __name__ == '__main__':\n",
    "    suite = unittest.TestLoader().loadTestsFromTestCase(TestAllAdd)\n",
    "    unittest.TextTestRunner(verbosity=2).run(suite)"
   ]
  },
  {
   "cell_type": "markdown",
   "metadata": {},
   "source": [
    "## Part IV: Try It Out!\n",
    "\n",
    "Make a class named `Person` that has two instance attributes: `name` and `age`. Be sure that they are assigned to user-specified values.\n",
    "Then, make a method called `birthday()` that increments `age` by 1 and returns the string \"Happy Birthday!\"\n",
    "\n",
    "Then, create a test class with only one test function that does the following:\n",
    "* Create an instance of the `Person` class\n",
    "* Write the following tests, making sure that they pass:\n",
    "    * The instance is of instance `Person`\n",
    "    * The instance's name is equal to the name you gave it\n",
    "    * The instance's age is equal to the age you gave it\n",
    "    * Call the `birthday()` function and write a test checking if the instance's age got incremented by 1\n",
    "\n",
    "Submit your responses to this Google Form: https://forms.gle/mRY9zxSxGFuSY6A38"
   ]
  },
  {
   "cell_type": "code",
   "execution_count": null,
   "metadata": {},
   "outputs": [],
   "source": [
    "# TRY IT OUT"
   ]
  },
  {
   "cell_type": "code",
   "execution_count": null,
   "metadata": {},
   "outputs": [],
   "source": []
  }
 ],
 "metadata": {
  "kernelspec": {
   "display_name": "Python 3 (ipykernel)",
   "language": "python",
   "name": "python3"
  },
  "language_info": {
   "codemirror_mode": {
    "name": "ipython",
    "version": 3
   },
   "file_extension": ".py",
   "mimetype": "text/x-python",
   "name": "python",
   "nbconvert_exporter": "python",
   "pygments_lexer": "ipython3",
   "version": "3.11.8"
  }
 },
 "nbformat": 4,
 "nbformat_minor": 4
}
