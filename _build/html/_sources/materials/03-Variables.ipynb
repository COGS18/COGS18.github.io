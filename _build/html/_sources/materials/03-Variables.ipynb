{
 "cells": [
  {
   "cell_type": "markdown",
   "metadata": {
    "editable": true,
    "slideshow": {
     "slide_type": "fragment"
    },
    "tags": []
   },
   "source": [
    "# Variables\n",
    "\n",
    "[![Open In Colab](https://colab.research.google.com/assets/colab-badge.svg)](https://colab.research.google.com/github/COGS18/LectureNotes-COGS18/blob/main/03-Variables.ipynb)\n",
    "\n",
    "- Review\n",
    "- Code Style\n",
    "- Variables Activity"
   ]
  },
  {
   "cell_type": "markdown",
   "metadata": {
    "editable": true,
    "jp-MarkdownHeadingCollapsed": true,
    "slideshow": {
     "slide_type": "slide"
    },
    "tags": []
   },
   "source": [
    "## Declaring Variables Cheat Sheet\n",
    "\n",
    "- Names are always on the left of the `=`, values are always on the right\n",
    "- Names are case sensitive\n",
    "- Variables must start with letters (or underscores)\n",
    "    - After that, they can include numbers\n",
    "    - They cannot include special characters (like &, *, #, etc)\n",
    "- Python doesn't care what you name your variables\n",
    "    - Humans do care. Pick names that describe the data / value that they store\n",
    "- Python is dynamically typed - variable type is determined on creation; every variable has a type\n"
   ]
  },
  {
   "cell_type": "markdown",
   "metadata": {
    "slideshow": {
     "slide_type": "slide"
    }
   },
   "source": [
    "## Reserved Words\n",
    "\n",
    "There are 33 words that are not allowed to be used for variable assignment in Python 3.6."
   ]
  },
  {
   "cell_type": "markdown",
   "metadata": {
    "editable": true,
    "slideshow": {
     "slide_type": "fragment"
    },
    "tags": []
   },
   "source": [
    "<table type=\"text/css\">\n",
    "  <tr>\n",
    "      <td><code>False</code></td>\n",
    "      <td><code>None</code></td>\n",
    "      <td><code>True</code></td>\n",
    "      <td><code>and</code></td>\n",
    "      <td><code>as</code></td>\n",
    "      <td><code>assert</code></td>\n",
    "      <td><code>break</code></td>\n",
    "  </tr>\n",
    "  <tr>\n",
    "      <td><code>class</code></td>\n",
    "      <td><code>continue</code></td>\n",
    "      <td><code>def</code></td>\n",
    "      <td><code>del</code></td>\n",
    "      <td><code>elif</code></td>\n",
    "      <td><code>else</code></td>\n",
    "      <td><code>except</code></td>\n",
    "  </tr>\n",
    "  <tr>\n",
    "      <td><code>finally</code></td>\n",
    "      <td><code>for</code></td>\n",
    "      <td><code>from</code></td>\n",
    "      <td><code>global</code></td>\n",
    "      <td><code>if</code></td>\n",
    "      <td><code>import</code></td>\n",
    "      <td><code>in</code></td>\n",
    "  </tr>\n",
    "  <tr>\n",
    "      <td><code>is</code></td>\n",
    "      <td><code>lambda</code></td>\n",
    "      <td><code>nonlocal</code></td>\n",
    "      <td><code>not</code></td>\n",
    "      <td><code>or</code></td>\n",
    "      <td><code>pass</code></td>\n",
    "      <td><code>raise</code></td>\n",
    "  </tr>    \n",
    "  <tr>\n",
    "      <td><code>return</code></td>\n",
    "      <td><code>try</code></td>\n",
    "      <td><code>while</code></td>\n",
    "      <td><code>with</code></td>\n",
    "      <td><code>yield</code></td>\n",
    "  </tr>    \n",
    "</table>"
   ]
  },
  {
   "cell_type": "code",
   "execution_count": 1,
   "metadata": {
    "scrolled": true,
    "slideshow": {
     "slide_type": "subslide"
    }
   },
   "outputs": [
    {
     "ename": "SyntaxError",
     "evalue": "expected ':' (3741022662.py, line 2)",
     "output_type": "error",
     "traceback": [
      "\u001b[0;36m  Cell \u001b[0;32mIn[1], line 2\u001b[0;36m\u001b[0m\n\u001b[0;31m    try = 6\u001b[0m\n\u001b[0m        ^\u001b[0m\n\u001b[0;31mSyntaxError\u001b[0m\u001b[0;31m:\u001b[0m expected ':'\n"
     ]
    }
   ],
   "source": [
    "# you will get an error if you try to assign a variable to one of these words\n",
    "try = 6\n",
    "\n",
    "a = 6"
   ]
  },
  {
   "cell_type": "markdown",
   "metadata": {
    "editable": true,
    "slideshow": {
     "slide_type": "slide"
    },
    "tags": []
   },
   "source": [
    "## Not all equal signs are created equal\n",
    "\n",
    "In mathematics: `=` refers to equality (as a statement of truth).\n",
    "\n",
    "In coding: `=` refers to assignment. `==` refers to equality\n",
    "\n",
    "In your head, when you are reading code like \n",
    "\n",
    "`x = 3` \n",
    "\n",
    "you should say it to yourself as:\n",
    "\n",
    "\"we assign the value 3 to the variable x\""
   ]
  },
  {
   "cell_type": "markdown",
   "metadata": {
    "slideshow": {
     "slide_type": "slide"
    }
   },
   "source": [
    "Math: What is x?\n",
    "\n",
    "$y = 10x + 2$"
   ]
  },
  {
   "cell_type": "markdown",
   "metadata": {
    "slideshow": {
     "slide_type": "fragment"
    }
   },
   "source": [
    "Code: What is x?\n",
    "\n",
    "`x = x + 1`"
   ]
  },
  {
   "cell_type": "markdown",
   "metadata": {
    "editable": true,
    "slideshow": {
     "slide_type": "slide"
    },
    "tags": []
   },
   "source": [
    "## Code Style\n",
    "\n",
    "Code style considerations *do NOT affect the functionality* of your code, but *DO affect readability*.\n",
    "\n",
    "Get in good habits now!"
   ]
  },
  {
   "cell_type": "markdown",
   "metadata": {
    "editable": true,
    "slideshow": {
     "slide_type": "fragment"
    },
    "tags": []
   },
   "source": [
    "For variable assignment: \n",
    "- we use a single space around assignment operator `=`\n",
    "- we use **snake_case** for variable names (All lowercase, underscores between words)\n",
    "- use informative variable names...something that tells you a bit about what's being stored"
   ]
  },
  {
   "cell_type": "markdown",
   "metadata": {
    "slideshow": {
     "slide_type": "fragment"
    }
   },
   "source": [
    "- Ideal: `my_variable = 6`\n",
    "- Avoid: `MyVariable=6`"
   ]
  },
  {
   "cell_type": "markdown",
   "metadata": {
    "editable": true,
    "slideshow": {
     "slide_type": "fragment"
    },
    "tags": []
   },
   "source": [
    "## Activity time: Variables\n",
    "\n",
    "Complete all questions in this Google Form ([https://forms.gle/YbYagsGaHyjSe2Ta7](https://forms.gle/YbYagsGaHyjSe2Ta7)) and then click submit.\n",
    "\n",
    "You are encouraged to:\n",
    "1. Talk with your neighbor\n",
    "2. Try the questions out in your notebok to check your understanding\n",
    "\n",
    "If you have questions, I'm happy to come over as we work on this!"
   ]
  },
  {
   "cell_type": "markdown",
   "metadata": {
    "editable": true,
    "slideshow": {
     "slide_type": "fragment"
    },
    "tags": []
   },
   "source": [
    "### Mutable vs Immutable\n",
    "\n",
    "The variable types we've talked about today are all **immutable**. This means they cannot be altered after they're created. "
   ]
  },
  {
   "cell_type": "code",
   "execution_count": 8,
   "metadata": {
    "slideshow": {
     "slide_type": "fragment"
    }
   },
   "outputs": [
    {
     "data": {
      "text/plain": [
       "'1'"
      ]
     },
     "execution_count": 8,
     "metadata": {},
     "output_type": "execute_result"
    }
   ],
   "source": [
    "immutable_string = 'COGS18 is the best!'\n",
    "immutable_string[4]"
   ]
  },
  {
   "cell_type": "code",
   "execution_count": 9,
   "metadata": {
    "slideshow": {
     "slide_type": "fragment"
    }
   },
   "outputs": [
    {
     "ename": "TypeError",
     "evalue": "'str' object does not support item assignment",
     "output_type": "error",
     "traceback": [
      "\u001b[0;31m---------------------------------------------------------------------------\u001b[0m",
      "\u001b[0;31mTypeError\u001b[0m                                 Traceback (most recent call last)",
      "Cell \u001b[0;32mIn[9], line 2\u001b[0m\n\u001b[1;32m      1\u001b[0m \u001b[38;5;66;03m# cannot change part of the string after creation\u001b[39;00m\n\u001b[0;32m----> 2\u001b[0m \u001b[43mimmutable_string\u001b[49m\u001b[43m[\u001b[49m\u001b[38;5;241;43m4\u001b[39;49m\u001b[43m]\u001b[49m \u001b[38;5;241m=\u001b[39m \u001b[38;5;124m'\u001b[39m\u001b[38;5;124m0\u001b[39m\u001b[38;5;124m'\u001b[39m\n",
      "\u001b[0;31mTypeError\u001b[0m: 'str' object does not support item assignment"
     ]
    }
   ],
   "source": [
    "# cannot change part of the string after creation\n",
    "immutable_string[4] = '0'"
   ]
  },
  {
   "cell_type": "markdown",
   "metadata": {
    "slideshow": {
     "slide_type": "fragment"
    }
   },
   "source": [
    "Python does have **mutable** types. We'll talk about these soon!"
   ]
  },
  {
   "cell_type": "markdown",
   "metadata": {
    "editable": true,
    "slideshow": {
     "slide_type": "slide"
    },
    "tags": []
   },
   "source": [
    "## Indentation\n",
    "\n",
    "Just a *brief* word on indentation.\n",
    "\n",
    "Python *does* care about whitespace. \n",
    "\n",
    "You will get an error if Python runs into unanticipated whitespace."
   ]
  },
  {
   "cell_type": "code",
   "execution_count": 14,
   "metadata": {
    "scrolled": true,
    "slideshow": {
     "slide_type": "fragment"
    }
   },
   "outputs": [
    {
     "ename": "IndentationError",
     "evalue": "unexpected indent (3652823554.py, line 2)",
     "output_type": "error",
     "traceback": [
      "\u001b[0;36m  Cell \u001b[0;32mIn[14], line 2\u001b[0;36m\u001b[0m\n\u001b[0;31m    b = a\u001b[0m\n\u001b[0m    ^\u001b[0m\n\u001b[0;31mIndentationError\u001b[0m\u001b[0;31m:\u001b[0m unexpected indent\n"
     ]
    }
   ],
   "source": [
    "a = 1\n",
    " b = a\n",
    "\n",
    "print(b) "
   ]
  },
  {
   "cell_type": "markdown",
   "metadata": {
    "slideshow": {
     "slide_type": "fragment"
    }
   },
   "source": [
    "There *are* times when indentation will be required and expected. We'll discuss these in future lectures."
   ]
  },
  {
   "cell_type": "markdown",
   "metadata": {
    "editable": true,
    "slideshow": {
     "slide_type": ""
    },
    "tags": []
   },
   "source": [
    "![cheeseburger](img/doing_it_right.png)"
   ]
  }
 ],
 "metadata": {
  "celltoolbar": "Slideshow",
  "kernelspec": {
   "display_name": "Python 3 (ipykernel)",
   "language": "python",
   "name": "python3"
  },
  "language_info": {
   "codemirror_mode": {
    "name": "ipython",
    "version": 3
   },
   "file_extension": ".py",
   "mimetype": "text/x-python",
   "name": "python",
   "nbconvert_exporter": "python",
   "pygments_lexer": "ipython3",
   "version": "3.11.8"
  },
  "rise": {
   "scroll": true
  }
 },
 "nbformat": 4,
 "nbformat_minor": 4
}
