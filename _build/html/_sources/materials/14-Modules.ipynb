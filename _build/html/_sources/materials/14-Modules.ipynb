{
 "cells": [
  {
   "cell_type": "markdown",
   "metadata": {
    "slideshow": {
     "slide_type": "slide"
    }
   },
   "source": [
    "**Course Announcements**\n",
    "\n",
    "- **A4** due tonight (11:59 PM)\n",
    "- **CL7** due Wednesday"
   ]
  },
  {
   "cell_type": "markdown",
   "metadata": {
    "slideshow": {
     "slide_type": "fragment"
    }
   },
   "source": [
    "Looking forward:\n",
    "- **CL8** due *next* Wed 3/9\n",
    "- **A5** due *next* Fri 3/11\n",
    "- **Final exam/project** due Mon 3/14\n",
    "    - Project: Submit on either Canvas or datahub\n",
    "        - if you submit on datahub, Canvas will say your project is \"missing\" - it's NOT missing; if you see under submitted assignments on datahub, you're fine\n",
    "        - when you submit on datahub, it will *look* like only your notebook is submitted; I promise everything in the folder is submitted\n",
    "        - I reach out to students who do not submit either a final exam/final project, so if you don't hear from me on Tuesday of finals week, your submissin is fine.\n",
    "    - Exam: Complete and submit on datahub; there will be a practice exam"
   ]
  },
  {
   "cell_type": "markdown",
   "metadata": {
    "slideshow": {
     "slide_type": "notes"
    }
   },
   "source": [
    "**Q&A**\n",
    "\n",
    "Q: Is the final exam a project or will it have questions similar to the previous exams we have taken?   \n",
    "A: The final exam is a \"mini project\" - there will be a practice final exam so you can see. There will be a few questions similar to previous exams but it will also involve modules, documentation, and testing (the material focused on the last few weeks), which will involve .py files along with a jupyter notebook.\n",
    "\n",
    "Q: For the final project I have a few ideas, but after looking at some examples I am feeling a bit scrambled. I know Andrew said that he had some trouble thinking of how to start, and I was wondering there could be some more explanation on maybe a general process of the final project?  \n",
    "A: I will do a demo final project in class during week 10, but we would love you to get started before that, so office hours can be a great place to get your thoughts sorted out!\n",
    "\n",
    "Q: how difficult will the final exam be?  \n",
    "A: About as difficult as previous exams. There will be less coding but more \"pieces\" that have to fit/work togeter (see first Q from today)\n",
    "\n",
    "Q: I am wondering how to come up with a project, or know if something is within my knowledge to create? I have some ideas but they feel too ambitous  \n",
    "A: We can help you scope your project during office hours!\n",
    "\n",
    "Q: Were the banned topics listed in class the only banned topics, or are there more?  \n",
    "A: Those are the only ones. Generally, it's in your best interest NOT to choose a project where there's a whole bunch of code already online. You just want to avoid using someone else's code and claiming it as your own. (You *can* use someone else's code, but you must cite it and it cannot count as your original code).\n",
    "\n",
    "Q: Can the Final Project be Assignment style where I pretend I am the professor of a class assigning a task (haha)?  \n",
    "A: Sure! Just be sure you plan out ahead of time what your three original functions/methods would be and the general approach. Like, is this game-like? Or are you building a system to help profs make assignments? something else?\n",
    "\n",
    "Q: When I try to use 'vi new_script.py' in the terminal on datahub, I get an error message saying a swap file already exists \".new_script.py.swp\". I chose 'edit anyway' but then it doesn't let me edit the file. Is there a way to fix this?  \n",
    "A: This is a question for office hours. We'd have to see your computer specifically.\n",
    "\n",
    "Q: Do we get partial points on the final exam if we get part of the code right?   \n",
    "A: Yes\n",
    "\n",
    "Q: For the project what software can I use to work on it away from datahub?  \n",
    "A: Anaconda - see last part of the first coding lab \n",
    "\n",
    "Q: For the final exam, it is said that we can't get A+ does that mean if we have an A+ at the end will it be brought to an A or does it mean that if we have an A it can't be brought to an A+?  \n",
    "A: The former. If you do the final exam, the highest grade you can get is an A.\n",
    "\n",
    "Q: How will the extra credit be applied to the final project based on component we needed additionally?  \n",
    "A: If you go above and beyond, we will award up to 4% on the final project. This will be part of your project grade"
   ]
  },
  {
   "cell_type": "markdown",
   "metadata": {
    "collapsed": true,
    "slideshow": {
     "slide_type": "slide"
    }
   },
   "source": [
    "# Modules & Scripts\n",
    "\n",
    "- namespaces & scope\n",
    "- modules\n",
    "- `import`\n",
    "    - `from`\n",
    "    - `as`"
   ]
  },
  {
   "cell_type": "markdown",
   "metadata": {
    "slideshow": {
     "slide_type": "slide"
    }
   },
   "source": [
    "## Namespaces & Scope"
   ]
  },
  {
   "cell_type": "markdown",
   "metadata": {
    "collapsed": true,
    "slideshow": {
     "slide_type": "fragment"
    }
   },
   "source": [
    "<div class=\"alert alert-success\">\n",
    "A <b>namespace</b> is a 'place' with a set of names and their corresponding objects.\n",
    "</div>"
   ]
  },
  {
   "cell_type": "markdown",
   "metadata": {
    "slideshow": {
     "slide_type": "fragment"
    }
   },
   "source": [
    "Each Jupyter Notebook has its own Namespace.\n",
    "\n",
    "If you have two notebooks open at the same time, they don't know about eachother or what variables have been created in the other."
   ]
  },
  {
   "cell_type": "markdown",
   "metadata": {
    "slideshow": {
     "slide_type": "fragment"
    }
   },
   "source": [
    "Names that are defined and available in a given namespace are in **scope**."
   ]
  },
  {
   "cell_type": "markdown",
   "metadata": {
    "slideshow": {
     "slide_type": "fragment"
    }
   },
   "source": [
    "That is, the *scope* of an object is where it is available to / from. "
   ]
  },
  {
   "cell_type": "code",
   "execution_count": null,
   "metadata": {
    "slideshow": {
     "slide_type": "fragment"
    }
   },
   "outputs": [],
   "source": [
    "# see what's stored in global namespace\n",
    "a = 3\n",
    "b = 15\n",
    "%whos"
   ]
  },
  {
   "cell_type": "markdown",
   "metadata": {
    "slideshow": {
     "slide_type": "slide"
    }
   },
   "source": [
    "## Modules & Packages"
   ]
  },
  {
   "cell_type": "markdown",
   "metadata": {
    "slideshow": {
     "slide_type": "fragment"
    }
   },
   "source": [
    "<div class=\"alert alert-success\">\n",
    "A <b>module</b> is a set of Python code with functions, classes, etc. available in it. A Python <b>package</b> is a directory of modules.\n",
    "</div>"
   ]
  },
  {
   "cell_type": "markdown",
   "metadata": {
    "slideshow": {
     "slide_type": "fragment"
    }
   },
   "source": [
    "Modules are stored in Python files (.py). We can import these files into our namespace, to gain access to the module within Python."
   ]
  },
  {
   "cell_type": "markdown",
   "metadata": {
    "slideshow": {
     "slide_type": "fragment"
    }
   },
   "source": [
    "In A3 you had to import the package: `nltk`: \n",
    "\n",
    "- **package** is a whole bunch of modules\n",
    "- a **module** stores python (.py) files\n",
    "- when imported, we have access to its functionality"
   ]
  },
  {
   "cell_type": "markdown",
   "metadata": {
    "collapsed": true,
    "slideshow": {
     "slide_type": "slide"
    }
   },
   "source": [
    "## `import`"
   ]
  },
  {
   "cell_type": "markdown",
   "metadata": {
    "slideshow": {
     "slide_type": "fragment"
    }
   },
   "source": [
    "<div class=\"alert alert-success\">\n",
    "<code>import</code> is a keyword to import external code into the local namespace.\n",
    "</div>"
   ]
  },
  {
   "cell_type": "markdown",
   "metadata": {
    "slideshow": {
     "slide_type": "fragment"
    }
   },
   "source": [
    "Why do it this way (importing modules)? \n",
    "\n",
    "1. Minimize startup costs\n",
    "2. Functions in different packages could have the same name - break programs"
   ]
  },
  {
   "cell_type": "markdown",
   "metadata": {
    "slideshow": {
     "slide_type": "slide"
    }
   },
   "source": [
    "### `import` example: math module"
   ]
  },
  {
   "cell_type": "markdown",
   "metadata": {
    "slideshow": {
     "slide_type": "fragment"
    }
   },
   "source": [
    "For something not yet in your Namespace..."
   ]
  },
  {
   "cell_type": "code",
   "execution_count": null,
   "metadata": {
    "slideshow": {
     "slide_type": "fragment"
    }
   },
   "outputs": [],
   "source": [
    "# we haven't imported the module yet\n",
    "# this code fails if you haven't yet imported math\n",
    "type(math)"
   ]
  },
  {
   "cell_type": "code",
   "execution_count": null,
   "metadata": {
    "slideshow": {
     "slide_type": "fragment"
    }
   },
   "outputs": [],
   "source": [
    "# Import the math module\n",
    "import math"
   ]
  },
  {
   "cell_type": "code",
   "execution_count": null,
   "metadata": {
    "slideshow": {
     "slide_type": "fragment"
    }
   },
   "outputs": [],
   "source": [
    "# Check the type of math\n",
    "type(math)"
   ]
  },
  {
   "cell_type": "code",
   "execution_count": null,
   "metadata": {
    "slideshow": {
     "slide_type": "fragment"
    }
   },
   "outputs": [],
   "source": [
    "# By the way - modules are objects\n",
    "isinstance(math, object)"
   ]
  },
  {
   "cell_type": "code",
   "execution_count": null,
   "metadata": {
    "slideshow": {
     "slide_type": "fragment"
    }
   },
   "outputs": [],
   "source": [
    "# Using code from our math module\n",
    "# remember to tab complete or use dir(math)\n",
    "math.sqrt(9)"
   ]
  },
  {
   "cell_type": "markdown",
   "metadata": {
    "slideshow": {
     "slide_type": "slide"
    }
   },
   "source": [
    "### `import` example: random module"
   ]
  },
  {
   "cell_type": "code",
   "execution_count": null,
   "metadata": {
    "slideshow": {
     "slide_type": "fragment"
    }
   },
   "outputs": [],
   "source": [
    "import random"
   ]
  },
  {
   "cell_type": "code",
   "execution_count": null,
   "metadata": {
    "slideshow": {
     "slide_type": "fragment"
    }
   },
   "outputs": [],
   "source": [
    "# Random is also a module\n",
    "type(random)"
   ]
  },
  {
   "cell_type": "code",
   "execution_count": null,
   "metadata": {
    "slideshow": {
     "slide_type": "fragment"
    }
   },
   "outputs": [],
   "source": [
    "# Explore what is available in random\n",
    "dir(random)"
   ]
  },
  {
   "cell_type": "code",
   "execution_count": null,
   "metadata": {
    "slideshow": {
     "slide_type": "fragment"
    }
   },
   "outputs": [],
   "source": [
    "# working with random\n",
    "random."
   ]
  },
  {
   "cell_type": "code",
   "execution_count": null,
   "metadata": {
    "slideshow": {
     "slide_type": "fragment"
    }
   },
   "outputs": [],
   "source": [
    "## access documentation\n",
    "random.choice?"
   ]
  },
  {
   "cell_type": "code",
   "execution_count": null,
   "metadata": {
    "slideshow": {
     "slide_type": "fragment"
    }
   },
   "outputs": [],
   "source": [
    "## access underlying code\n",
    "random.choice??"
   ]
  },
  {
   "cell_type": "markdown",
   "metadata": {
    "slideshow": {
     "slide_type": "slide"
    }
   },
   "source": [
    "### `random` Example"
   ]
  },
  {
   "cell_type": "code",
   "execution_count": null,
   "metadata": {
    "slideshow": {
     "slide_type": "fragment"
    }
   },
   "outputs": [],
   "source": [
    "# random.sample() documentation\n",
    "random.sample?"
   ]
  },
  {
   "cell_type": "code",
   "execution_count": null,
   "metadata": {
    "slideshow": {
     "slide_type": "fragment"
    }
   },
   "outputs": [],
   "source": [
    "# Random example\n",
    "to_choose_from = ['1', '2', '3', '4', '5']\n",
    "number_to_choose = 2\n",
    "\n",
    "chosen = random.sample(to_choose_from, number_to_choose)\n",
    "\n",
    "print(chosen)"
   ]
  },
  {
   "cell_type": "markdown",
   "metadata": {
    "slideshow": {
     "slide_type": "slide"
    }
   },
   "source": [
    "## Imports: `from` & `as`"
   ]
  },
  {
   "cell_type": "markdown",
   "metadata": {
    "slideshow": {
     "slide_type": "fragment"
    }
   },
   "source": [
    "<div class=\"alert alert-success\">\n",
    "<code>from</code> and <code>as</code> allows us to decide exactly what objects to import into our namespace, and what we call them (in our namespace).\n",
    "</div>"
   ]
  },
  {
   "cell_type": "code",
   "execution_count": null,
   "metadata": {
    "slideshow": {
     "slide_type": "fragment"
    }
   },
   "outputs": [],
   "source": [
    "# Import a specific object from a module\n",
    "from random import choice"
   ]
  },
  {
   "cell_type": "code",
   "execution_count": null,
   "metadata": {
    "slideshow": {
     "slide_type": "fragment"
    }
   },
   "outputs": [],
   "source": [
    "## do NOT have to type module name \n",
    "## using this approach\n",
    "## to call this\n",
    "choice(to_choose_from)"
   ]
  },
  {
   "cell_type": "code",
   "execution_count": null,
   "metadata": {
    "slideshow": {
     "slide_type": "fragment"
    }
   },
   "outputs": [],
   "source": [
    "# Import a module with a specific name in our namespace\n",
    "# used when module names are long\n",
    "import collections as cols"
   ]
  },
  {
   "cell_type": "code",
   "execution_count": null,
   "metadata": {
    "slideshow": {
     "slide_type": "fragment"
    }
   },
   "outputs": [],
   "source": [
    "## collections is not defined\n",
    "## this code will fail\n",
    "collections."
   ]
  },
  {
   "cell_type": "code",
   "execution_count": null,
   "metadata": {
    "slideshow": {
     "slide_type": "fragment"
    }
   },
   "outputs": [],
   "source": [
    "# this is how you would do it\n",
    "cols."
   ]
  },
  {
   "cell_type": "code",
   "execution_count": null,
   "metadata": {
    "slideshow": {
     "slide_type": "fragment"
    }
   },
   "outputs": [],
   "source": [
    "# putting it all together\n",
    "# Import a specific thing and give it a specific name\n",
    "from string import punctuation as punc"
   ]
  },
  {
   "cell_type": "markdown",
   "metadata": {
    "slideshow": {
     "slide_type": "slide"
    }
   },
   "source": [
    "#### Clicker Question #1\n",
    "\n",
    "Which of the following is NOT a valid Python import statement?\n",
    "\n",
    "- A) `import collections as col`\n",
    "- B) `from statistics import mean as average`\n",
    "- B) `from os import path`\n",
    "- D) `from random import choice, choices`\n",
    "- E) `import ascii_letters from string`"
   ]
  },
  {
   "cell_type": "markdown",
   "metadata": {
    "slideshow": {
     "slide_type": "slide"
    }
   },
   "source": [
    "#### Clicker Question Answer"
   ]
  },
  {
   "cell_type": "code",
   "execution_count": null,
   "metadata": {
    "slideshow": {
     "slide_type": "fragment"
    }
   },
   "outputs": [],
   "source": [
    "# Check our imports\n",
    "# import collections as col\n",
    "# from statistics import mean as average\n",
    "# from os import path\n",
    "# from random import choice, choices\n",
    "# import ascii_letters from string"
   ]
  },
  {
   "cell_type": "markdown",
   "metadata": {
    "slideshow": {
     "slide_type": "slide"
    }
   },
   "source": [
    "## Importing Custom Code I"
   ]
  },
  {
   "cell_type": "markdown",
   "metadata": {
    "slideshow": {
     "slide_type": "fragment"
    }
   },
   "source": [
    "Why do this? \n",
    "\n",
    "Having a whole bunch of functions in a Jupyter Notebook will start to get clutered.\n",
    "\n",
    "Also, they're not reusable later without copying them into your new notebook. \n",
    "\n",
    "Modules avoid this!"
   ]
  },
  {
   "cell_type": "markdown",
   "metadata": {
    "slideshow": {
     "slide_type": "slide"
    }
   },
   "source": [
    "## module: `remote.py`\n",
    "\n",
    "If you want to practice using import with the `remote` example in lecture, store the code in the next cell in a text file saved as `remote.py`. Be sure this is saved in the same directory (folder) as the notebook from which you're trying to call it."
   ]
  },
  {
   "cell_type": "code",
   "execution_count": null,
   "metadata": {
    "slideshow": {
     "slide_type": "fragment"
    }
   },
   "outputs": [],
   "source": [
    "def my_remote_function(input_1, input_2):\n",
    "    \"\"\"A function from far away.\n",
    "    \n",
    "    This function returns the sum of the two inputs.\n",
    "    \"\"\"\n",
    "    \n",
    "    return input_1 + input_2\n",
    "\n",
    "def choice(list_to_choose_from):\n",
    "    \"\"\"Choose and return an item from a list. \n",
    "    \n",
    "    Notes: I am a custom choice function: I am NOT from `random`.\n",
    "    \n",
    "    Hint: my favorite is the last list item.\n",
    "    \"\"\"\n",
    "    \n",
    "    return list_to_choose_from[-1]\n",
    "\n",
    "class MyNumbers():\n",
    "    \n",
    "    kind_of_thing = 'numbers'\n",
    "    \n",
    "    def __init__(self, num1, num2):\n",
    "        \n",
    "        self.num1 = num1\n",
    "        self.num2 = num2\n",
    "        \n",
    "    def add(self):\n",
    "        \n",
    "        return self.num1 + self.num2\n",
    "    \n",
    "    def subtract(self):\n",
    "        \n",
    "        return self.num2 - self.num1"
   ]
  },
  {
   "cell_type": "code",
   "execution_count": null,
   "metadata": {
    "slideshow": {
     "slide_type": "fragment"
    }
   },
   "outputs": [],
   "source": [
    "# Import some custom code\n",
    "from remote import my_remote_function"
   ]
  },
  {
   "cell_type": "code",
   "execution_count": null,
   "metadata": {
    "slideshow": {
     "slide_type": "fragment"
    }
   },
   "outputs": [],
   "source": [
    "# Investigate our imported function\n",
    "my_remote_function?"
   ]
  },
  {
   "cell_type": "code",
   "execution_count": null,
   "metadata": {
    "slideshow": {
     "slide_type": "fragment"
    }
   },
   "outputs": [],
   "source": [
    "# Run our function\n",
    "my_remote_function(2, 1)"
   ]
  },
  {
   "cell_type": "markdown",
   "metadata": {
    "collapsed": true,
    "slideshow": {
     "slide_type": "slide"
    }
   },
   "source": [
    "## Importing Custom Code II"
   ]
  },
  {
   "cell_type": "code",
   "execution_count": null,
   "metadata": {
    "slideshow": {
     "slide_type": "fragment"
    }
   },
   "outputs": [],
   "source": [
    "# Import a class class from an external module\n",
    "from remote import MyNumbers"
   ]
  },
  {
   "cell_type": "code",
   "execution_count": null,
   "metadata": {
    "slideshow": {
     "slide_type": "fragment"
    }
   },
   "outputs": [],
   "source": [
    "# Define an instance of our custom class\n",
    "nums = MyNumbers(2, 3)\n",
    "type(nums)"
   ]
  },
  {
   "cell_type": "code",
   "execution_count": null,
   "metadata": {
    "slideshow": {
     "slide_type": "fragment"
    }
   },
   "outputs": [],
   "source": [
    "# Check \n",
    "nums.add()"
   ]
  },
  {
   "cell_type": "code",
   "execution_count": null,
   "metadata": {
    "slideshow": {
     "slide_type": "fragment"
    }
   },
   "outputs": [],
   "source": [
    "# Check the definition of the code we imported\n",
    "nums.add??"
   ]
  },
  {
   "cell_type": "markdown",
   "metadata": {
    "collapsed": true,
    "slideshow": {
     "slide_type": "slide"
    }
   },
   "source": [
    "## Name Conflicts"
   ]
  },
  {
   "cell_type": "code",
   "execution_count": null,
   "metadata": {},
   "outputs": [],
   "source": [
    "from random import choice"
   ]
  },
  {
   "cell_type": "code",
   "execution_count": null,
   "metadata": {
    "slideshow": {
     "slide_type": "fragment"
    }
   },
   "outputs": [],
   "source": [
    "# choice is currently from random module\n",
    "choice?"
   ]
  },
  {
   "cell_type": "code",
   "execution_count": null,
   "metadata": {
    "slideshow": {
     "slide_type": "fragment"
    }
   },
   "outputs": [],
   "source": [
    "choice([1, 2, 3, 4, 5])"
   ]
  },
  {
   "cell_type": "code",
   "execution_count": null,
   "metadata": {
    "slideshow": {
     "slide_type": "fragment"
    }
   },
   "outputs": [],
   "source": [
    "from remote import choice"
   ]
  },
  {
   "cell_type": "code",
   "execution_count": null,
   "metadata": {
    "slideshow": {
     "slide_type": "fragment"
    }
   },
   "outputs": [],
   "source": [
    "# now it's from my remote module\n",
    "choice?"
   ]
  },
  {
   "cell_type": "code",
   "execution_count": null,
   "metadata": {
    "slideshow": {
     "slide_type": "fragment"
    }
   },
   "outputs": [],
   "source": [
    "choice([1, 2, 3, 4, 5])"
   ]
  },
  {
   "cell_type": "markdown",
   "metadata": {
    "slideshow": {
     "slide_type": "fragment"
    }
   },
   "source": [
    "While you _can_ have functions with the same name in two different places...do your best to avoid this.\n",
    "\n",
    "It's Python legal but bad for your nerves."
   ]
  },
  {
   "cell_type": "markdown",
   "metadata": {
    "slideshow": {
     "slide_type": "slide"
    }
   },
   "source": [
    "## A note on `*`\n",
    "\n",
    "If you see `from module import *` this means to import everything (read as 'from module import everything'). \n",
    "\n",
    "This is generally considered not to be the best, as it is then unclear in your code exactly where the functionality came from."
   ]
  },
  {
   "cell_type": "code",
   "execution_count": null,
   "metadata": {
    "slideshow": {
     "slide_type": "fragment"
    }
   },
   "outputs": [],
   "source": [
    "# a valid way to import\n",
    "from random import choice\n",
    "choice([2,3,4])"
   ]
  },
  {
   "cell_type": "code",
   "execution_count": null,
   "metadata": {
    "slideshow": {
     "slide_type": "fragment"
    }
   },
   "outputs": [],
   "source": [
    "# a valid way to import\n",
    "import random\n",
    "random.choice([2,3,4,])"
   ]
  },
  {
   "cell_type": "markdown",
   "metadata": {
    "slideshow": {
     "slide_type": "slide"
    }
   },
   "source": [
    "## script: `remote_script.py`\n",
    "\n",
    "\n",
    "If you want to run your own script example in lecture, store the code in the next cell in a text file saved as `remote_script.py`. Be sure this is saved in the same directory (folder) as the notebook from which you're trying to call it."
   ]
  },
  {
   "cell_type": "code",
   "execution_count": null,
   "metadata": {
    "slideshow": {
     "slide_type": "-"
    }
   },
   "outputs": [],
   "source": [
    "from remote import MyNumbers\n",
    "nums = MyNumbers(2, 3)\n",
    "print(\"nums value: \", nums)\n",
    "print(\"nums type: \", type(nums))"
   ]
  },
  {
   "cell_type": "code",
   "execution_count": null,
   "metadata": {
    "slideshow": {
     "slide_type": "fragment"
    }
   },
   "outputs": [],
   "source": [
    "# run the script\n",
    "!python remote_script.py"
   ]
  }
 ],
 "metadata": {
  "celltoolbar": "Slideshow",
  "kernelspec": {
   "display_name": "Python 3 (ipykernel)",
   "language": "python",
   "name": "python3"
  },
  "language_info": {
   "codemirror_mode": {
    "name": "ipython",
    "version": 3
   },
   "file_extension": ".py",
   "mimetype": "text/x-python",
   "name": "python",
   "nbconvert_exporter": "python",
   "pygments_lexer": "ipython3",
   "version": "3.9.7"
  },
  "rise": {
   "scroll": true
  }
 },
 "nbformat": 4,
 "nbformat_minor": 2
}
