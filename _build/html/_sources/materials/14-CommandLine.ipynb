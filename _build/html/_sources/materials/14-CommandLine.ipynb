{
 "cells": [
  {
   "cell_type": "markdown",
   "metadata": {
    "slideshow": {
     "slide_type": "slide"
    }
   },
   "source": [
    "**Course Announcements**\n",
    "\n",
    "- E2 due this morning (8AM) - be sure you clicked submit \n",
    "- CL7 due Wednesday (11:59 PM)\n",
    "- A4 due Friday (11:59 PM)\n",
    "- We'll start discussing the final project/exam on Friday"
   ]
  },
  {
   "cell_type": "markdown",
   "metadata": {
    "slideshow": {
     "slide_type": "notes"
    }
   },
   "source": [
    "**Q&A**\n",
    "\n",
    "Q: Will the final also be take home like the other exams?  \n",
    "A: Yes\n",
    "\n",
    "Q: I'm curious about what is python party on next Mon.  \n",
    "A: This will be when we discuss the final project/exam. Because we're a bit behind, this will be this coming Friday.\n",
    "\n",
    "Q: Will there be any more extra credit options available later after E2?  \n",
    "A: Yes. Final course-survey. CAPEs. Extra credit on the final project. Continued extra credit on daily participation.\n",
    "\n",
    "Q: I am curious about if you can put a class inside a class and if that would be useful or convoluted.  \n",
    "A: Yes, theoretically you could....however, there's actually a concept called inheritance. We don't discuss that in this course, but this would be what to look up if you're curious! \n",
    "\n",
    "Q: I'm still not sure when to use def  \n",
    "A: Any time you want to define a function or a method.\n",
    "\n",
    "Q: will the exam or the class be curved?  \n",
    "A: Typically, no neither is."
   ]
  },
  {
   "cell_type": "markdown",
   "metadata": {
    "slideshow": {
     "slide_type": "slide"
    }
   },
   "source": [
    "# Command Line\n",
    "\n",
    "- command line & shell commands\n",
    "- file paths (absolute and relative)\n",
    "- scripts and modules"
   ]
  },
  {
   "cell_type": "markdown",
   "metadata": {
    "slideshow": {
     "slide_type": "fragment"
    }
   },
   "source": [
    "Jupyter Notebooks are a helpful tool, but they're _bulky_."
   ]
  },
  {
   "cell_type": "markdown",
   "metadata": {
    "slideshow": {
     "slide_type": "slide"
    }
   },
   "source": [
    "## File Systems"
   ]
  },
  {
   "cell_type": "markdown",
   "metadata": {
    "slideshow": {
     "slide_type": "fragment"
    }
   },
   "source": [
    "<div class=\"alert alert-success\">\n",
    "Computers use a hierarchical file systems that organizes files & folders.\n",
    "</div>"
   ]
  },
  {
   "cell_type": "markdown",
   "metadata": {
    "slideshow": {
     "slide_type": "fragment"
    }
   },
   "source": [
    "When you click through the folders (directories) on your computer, you're interacting with this hierarchical system."
   ]
  },
  {
   "cell_type": "markdown",
   "metadata": {
    "slideshow": {
     "slide_type": "slide"
    }
   },
   "source": [
    "## Command Line"
   ]
  },
  {
   "cell_type": "markdown",
   "metadata": {
    "slideshow": {
     "slide_type": "fragment"
    }
   },
   "source": [
    "<div class=\"alert alert-success\">\n",
    "A <b>command line interface</b> is a way to interact with a computer through written commands.\n",
    "</div>"
   ]
  },
  {
   "cell_type": "markdown",
   "metadata": {
    "slideshow": {
     "slide_type": "fragment"
    }
   },
   "source": [
    "The command line allows us to:\n",
    "\n",
    "- create files\n",
    "- edit files\n",
    "- run python scripts\n",
    "- etc.\n",
    "\n",
    "...without clicking on anything."
   ]
  },
  {
   "cell_type": "markdown",
   "metadata": {
    "slideshow": {
     "slide_type": "slide"
    }
   },
   "source": [
    "### The Terminal\n",
    "\n",
    "The **terminal** is where you can type these commands into the command line.\n",
    "\n",
    "Accessing the terminal...\n",
    "\n",
    "- possible on your computer\n",
    "- and on datahub"
   ]
  },
  {
   "cell_type": "markdown",
   "metadata": {
    "slideshow": {
     "slide_type": "slide"
    }
   },
   "source": [
    "### Shell Commands\n",
    "\n",
    "...can be run in the terminal _and_ Jupyter notebooks\n",
    "\n",
    "Do this by starting with `!`"
   ]
  },
  {
   "cell_type": "markdown",
   "metadata": {
    "slideshow": {
     "slide_type": "fragment"
    }
   },
   "source": [
    "#### Check current directory"
   ]
  },
  {
   "cell_type": "code",
   "execution_count": 1,
   "metadata": {
    "slideshow": {
     "slide_type": "fragment"
    }
   },
   "outputs": [
    {
     "name": "stdout",
     "output_type": "stream",
     "text": [
      "/Users/shannonellis/Desktop/Teaching/COGS18/LectureNotes-COGS18\r\n"
     ]
    }
   ],
   "source": [
    "# print working directory\n",
    "!pwd"
   ]
  },
  {
   "cell_type": "markdown",
   "metadata": {
    "slideshow": {
     "slide_type": "slide"
    }
   },
   "source": [
    "## An important aside: File Paths"
   ]
  },
  {
   "cell_type": "markdown",
   "metadata": {
    "slideshow": {
     "slide_type": "fragment"
    }
   },
   "source": [
    "<div class=\"alert alert-success\">\n",
    "The specific location of a file or folder on your computer. </div>"
   ]
  },
  {
   "cell_type": "markdown",
   "metadata": {
    "slideshow": {
     "slide_type": "fragment"
    }
   },
   "source": [
    "When using a Graphical User Interface (GUI), you click on directories to access subdirectories and finally find the file you're interested in."
   ]
  },
  {
   "cell_type": "markdown",
   "metadata": {
    "slideshow": {
     "slide_type": "fragment"
    }
   },
   "source": [
    "When using the command line, you specify a file's path explicitly with text. "
   ]
  },
  {
   "cell_type": "markdown",
   "metadata": {
    "slideshow": {
     "slide_type": "slide"
    }
   },
   "source": [
    "### Absolute vs. Relative Paths\n",
    "\n",
    "The two ways to specify the path to your file of interest allow for flexibility in programming."
   ]
  },
  {
   "cell_type": "markdown",
   "metadata": {
    "slideshow": {
     "slide_type": "slide"
    }
   },
   "source": [
    "#### Absolute Paths"
   ]
  },
  {
   "cell_type": "markdown",
   "metadata": {
    "slideshow": {
     "slide_type": "fragment"
    }
   },
   "source": [
    "<div class=\"alert alert-success\">\n",
    "<b>Absolute paths</b> specify the <b>full</b> path for a given file system (starting from the root directory). \n",
    "</div>"
   ]
  },
  {
   "cell_type": "markdown",
   "metadata": {
    "slideshow": {
     "slide_type": "fragment"
    }
   },
   "source": [
    "**root** specifies the 'highest' directory in the file structure (the start).\n",
    "\n",
    "An absolute file path starts with a slash `/` specifying the root directory.\n"
   ]
  },
  {
   "cell_type": "code",
   "execution_count": 2,
   "metadata": {
    "slideshow": {
     "slide_type": "fragment"
    }
   },
   "outputs": [
    {
     "name": "stdout",
     "output_type": "stream",
     "text": [
      "01-Introduction.ipynb         20-CodeProjects-chatbot.ipynb\r\n",
      "02-Tooling.ipynb              20-CodeProjects.ipynb\r\n",
      "03-Variables.ipynb            21-AdvancedPython.ipynb\r\n",
      "04-Operators.ipynb            22-WrapUp.ipynb\r\n",
      "05-Conditionals.ipynb         A1-Syntax.ipynb\r\n",
      "06-Debugging.ipynb            A2-Examples.ipynb\r\n",
      "07-Collections.ipynb          \u001b[34mArchive\u001b[m\u001b[m\r\n",
      "08-Loops.ipynb                Check-In.ipynb\r\n",
      "09-Dictionaries.ipynb         LICENSE.txt\r\n",
      "10-FunctionsI.ipynb           README.md\r\n",
      "11-Algorithms.ipynb           \u001b[34m__pycache__\u001b[m\u001b[m\r\n",
      "12-FunctionsII.ipynb          atbash.py\r\n",
      "13-Classes.ipynb              \u001b[34mimg\u001b[m\u001b[m\r\n",
      "14-CommandLine.ipynb          my_file.py\r\n",
      "15-Modules.ipynb              \u001b[34mmy_module\u001b[m\u001b[m\r\n",
      "16-ScientificComputing.ipynb  remote.py\r\n",
      "17-CodeTesting.ipynb          stw.py\r\n",
      "18-CodeStyle.ipynb            test_atbash.py\r\n",
      "19-Documentation.ipynb\r\n"
     ]
    }
   ],
   "source": [
    "## absolute path\n",
    "## this is specific to my computer\n",
    "## look at the path output above for you computer\n",
    "!ls /Users/shannonellis/Desktop/Teaching/COGS18/Materials"
   ]
  },
  {
   "cell_type": "markdown",
   "metadata": {
    "slideshow": {
     "slide_type": "slide"
    }
   },
   "source": [
    "#### Relative Paths"
   ]
  },
  {
   "cell_type": "markdown",
   "metadata": {
    "slideshow": {
     "slide_type": "fragment"
    }
   },
   "source": [
    "<div class=\"alert alert-success\">\n",
    "<b>Relative paths</b> specify the path to a file from your <b>current working directory</b> (where your computer is working right now). \n",
    "</div>"
   ]
  },
  {
   "cell_type": "code",
   "execution_count": 3,
   "metadata": {
    "slideshow": {
     "slide_type": "fragment"
    }
   },
   "outputs": [
    {
     "name": "stdout",
     "output_type": "stream",
     "text": [
      "/Users/shannonellis/Desktop/Teaching/COGS18/LectureNotes-COGS18\r\n"
     ]
    }
   ],
   "source": [
    "# remind us of our current working directory\n",
    "!pwd"
   ]
  },
  {
   "cell_type": "code",
   "execution_count": 4,
   "metadata": {
    "slideshow": {
     "slide_type": "fragment"
    }
   },
   "outputs": [
    {
     "name": "stdout",
     "output_type": "stream",
     "text": [
      "\u001b[34m01_intro\u001b[m\u001b[m            \u001b[34m04_dataviz\u001b[m\u001b[m          \u001b[34m07_machine_learning\u001b[m\u001b[m \u001b[34m10_communication\u001b[m\u001b[m\r\n",
      "\u001b[34m02_python\u001b[m\u001b[m           \u001b[34m05_analysis\u001b[m\u001b[m         \u001b[34m08_text\u001b[m\u001b[m             README.md\r\n",
      "\u001b[34m03_data\u001b[m\u001b[m             \u001b[34m06_inference\u001b[m\u001b[m        \u001b[34m09_geospatial\u001b[m\u001b[m\r\n"
     ]
    }
   ],
   "source": [
    "# relative path\n",
    "# this is specific to my computer\n",
    "!ls ../../COGS108/Lectures-Wi21"
   ]
  },
  {
   "cell_type": "markdown",
   "metadata": {
    "slideshow": {
     "slide_type": "fragment"
    }
   },
   "source": [
    "\n",
    "- `..` specify you want to move one directory up in your hierarchy\n",
    "- `COGS108/Lectures-Fa20` specifies the path to the directory I want to list files in\n",
    "- each directory is separated with a slash (`/`)"
   ]
  },
  {
   "cell_type": "markdown",
   "metadata": {
    "slideshow": {
     "slide_type": "fragment"
    }
   },
   "source": [
    "This **relative** path does _not_ start with a leading slash (b/c it's not an absolute path)."
   ]
  },
  {
   "cell_type": "markdown",
   "metadata": {
    "slideshow": {
     "slide_type": "slide"
    }
   },
   "source": [
    "#### Clicker Question #1\n",
    "\n",
    "Given the following file structure: \n",
    "\n",
    "- `/`\n",
    "    - `scripts/`\n",
    "        - cool_thing.py\n",
    "        - super_cool_thing.py\n",
    "    - `images/`\n",
    "        - image1.png\n",
    "        - image2.png\n",
    "    - `notebooks/`\n",
    "        - 00_intro.ipynb\n",
    "        - 01_variables.ipynb\n",
    "    \n",
    "\n",
    "If your current working directory is `notebooks`, what is the **absolute path** to `cool_thing.py`?\n",
    "\n",
    "- A) `/scripts/cool_thing.py`\n",
    "- B) `scripts/cool_thing.py`\n",
    "- C) `cool_thing.py`\n",
    "- D) `../scripts/cool_thing.py`\n",
    "- E) ¯\\\\\\_(ツ)\\_/¯"
   ]
  },
  {
   "cell_type": "markdown",
   "metadata": {
    "slideshow": {
     "slide_type": "slide"
    }
   },
   "source": [
    "#### Clicker Question #2\n",
    "\n",
    "Given the same file structure: \n",
    "\n",
    "- `/`\n",
    "    - `scripts/`\n",
    "        - cool_thing.py\n",
    "        - super_cool_thing.py\n",
    "    - `images/`\n",
    "        - image1.png\n",
    "        - image2.png\n",
    "    - `notebooks/`\n",
    "        - 00_intro.ipynb\n",
    "        - 01_variables.ipynb\n",
    "    \n",
    "\n",
    "If your current working directory is `notebooks`, what is the **relative path** to `cool_thing.py`?\n",
    "\n",
    "- A) `/notebooks/../scripts/cool_thing.py`\n",
    "- B) `scripts/cool_thing.py`\n",
    "- C) `/scripts/cool_thing.py`\n",
    "- D) `../scripts/cool_thing.py`\n",
    "- E) ¯\\\\\\_(ツ)\\_/¯"
   ]
  },
  {
   "cell_type": "markdown",
   "metadata": {
    "slideshow": {
     "slide_type": "slide"
    }
   },
   "source": [
    "### Shell Commands\n",
    "\n",
    "...can be run in the terminal _and_ Jupyter notebooks"
   ]
  },
  {
   "cell_type": "markdown",
   "metadata": {
    "slideshow": {
     "slide_type": "fragment"
    }
   },
   "source": [
    "#### Check current directory"
   ]
  },
  {
   "cell_type": "code",
   "execution_count": 5,
   "metadata": {
    "slideshow": {
     "slide_type": "fragment"
    }
   },
   "outputs": [
    {
     "name": "stdout",
     "output_type": "stream",
     "text": [
      "/Users/shannonellis/Desktop/Teaching/COGS18/LectureNotes-COGS18\r\n"
     ]
    }
   ],
   "source": [
    "# print working directory\n",
    "!pwd"
   ]
  },
  {
   "cell_type": "markdown",
   "metadata": {
    "slideshow": {
     "slide_type": "fragment"
    }
   },
   "source": [
    "#### Change directory"
   ]
  },
  {
   "cell_type": "code",
   "execution_count": null,
   "metadata": {
    "slideshow": {
     "slide_type": "fragment"
    }
   },
   "outputs": [],
   "source": [
    "# change directory \n",
    "!cd ~/ "
   ]
  },
  {
   "cell_type": "markdown",
   "metadata": {
    "slideshow": {
     "slide_type": "fragment"
    }
   },
   "source": [
    "Here, we saw `~/`. \n",
    "\n",
    "- `~` specifies the user's home directory of your computer\n",
    "- each directory is separated with a slash (`/`)"
   ]
  },
  {
   "cell_type": "markdown",
   "metadata": {
    "slideshow": {
     "slide_type": "slide"
    }
   },
   "source": [
    "#### List files in a directory"
   ]
  },
  {
   "cell_type": "code",
   "execution_count": 6,
   "metadata": {
    "scrolled": true,
    "slideshow": {
     "slide_type": "fragment"
    }
   },
   "outputs": [
    {
     "name": "stdout",
     "output_type": "stream",
     "text": [
      "01-Introduction.ipynb 07-Collections.ipynb  14-CommandLine.ipynb\r\n",
      "01-Welcome.pdf        08-Loops.ipynb        A1-Syntax.ipynb\r\n",
      "02-Tooling.ipynb      09-Dictionaries.ipynb A2-Examples.ipynb\r\n",
      "03-Variables.ipynb    10-FunctionsI.ipynb   \u001b[34mExam-Prep\u001b[m\u001b[m\r\n",
      "04-Operators.ipynb    11-Algorithms.ipynb   \u001b[34mimg\u001b[m\u001b[m\r\n",
      "05-Conditionals.ipynb 12-FunctionsII.ipynb\r\n",
      "06-Debugging.ipynb    13-Classes.ipynb\r\n"
     ]
    }
   ],
   "source": [
    "# list files (list segments)\n",
    "!ls"
   ]
  },
  {
   "cell_type": "markdown",
   "metadata": {
    "slideshow": {
     "slide_type": "slide"
    }
   },
   "source": [
    "### More Shell Commands"
   ]
  },
  {
   "cell_type": "markdown",
   "metadata": {
    "slideshow": {
     "slide_type": "fragment"
    }
   },
   "source": [
    "#### Make a new directory"
   ]
  },
  {
   "cell_type": "code",
   "execution_count": 7,
   "metadata": {
    "slideshow": {
     "slide_type": "fragment"
    }
   },
   "outputs": [],
   "source": [
    "# make directory \n",
    "!mkdir dir_name"
   ]
  },
  {
   "cell_type": "markdown",
   "metadata": {
    "slideshow": {
     "slide_type": "fragment"
    }
   },
   "source": [
    "#### Create a file"
   ]
  },
  {
   "cell_type": "code",
   "execution_count": 8,
   "metadata": {
    "slideshow": {
     "slide_type": "fragment"
    }
   },
   "outputs": [],
   "source": [
    "# create an empty file\n",
    "!touch new_file.py "
   ]
  },
  {
   "cell_type": "markdown",
   "metadata": {
    "slideshow": {
     "slide_type": "fragment"
    }
   },
   "source": [
    "#### Move a file"
   ]
  },
  {
   "cell_type": "code",
   "execution_count": 9,
   "metadata": {
    "slideshow": {
     "slide_type": "fragment"
    }
   },
   "outputs": [],
   "source": [
    "# move file\n",
    "# notice the relative file path\n",
    "!mv new_file.py dir_name/"
   ]
  },
  {
   "cell_type": "markdown",
   "metadata": {
    "slideshow": {
     "slide_type": "slide"
    }
   },
   "source": [
    "### And Some More"
   ]
  },
  {
   "cell_type": "markdown",
   "metadata": {
    "slideshow": {
     "slide_type": "fragment"
    }
   },
   "source": [
    "#### Print out a message"
   ]
  },
  {
   "cell_type": "code",
   "execution_count": 10,
   "metadata": {
    "slideshow": {
     "slide_type": "fragment"
    }
   },
   "outputs": [
    {
     "name": "stdout",
     "output_type": "stream",
     "text": [
      "Hello World!\r\n"
     ]
    }
   ],
   "source": [
    "!echo Hello World!"
   ]
  },
  {
   "cell_type": "markdown",
   "metadata": {
    "slideshow": {
     "slide_type": "fragment"
    }
   },
   "source": [
    "#### Print the contents of a file"
   ]
  },
  {
   "cell_type": "code",
   "execution_count": 11,
   "metadata": {
    "slideshow": {
     "slide_type": "fragment"
    }
   },
   "outputs": [],
   "source": [
    "!cat dir_name/new_file.py"
   ]
  },
  {
   "cell_type": "markdown",
   "metadata": {
    "slideshow": {
     "slide_type": "notes"
    }
   },
   "source": [
    "#### Open to see and edit contents of a file"
   ]
  },
  {
   "cell_type": "code",
   "execution_count": null,
   "metadata": {
    "slideshow": {
     "slide_type": "notes"
    }
   },
   "outputs": [],
   "source": [
    "# will not work on datahub\n",
    "!open dir_name/new_file.py"
   ]
  },
  {
   "cell_type": "markdown",
   "metadata": {
    "slideshow": {
     "slide_type": "slide"
    }
   },
   "source": [
    "#### Clicker Question #3\n",
    "\n",
    "Which is the best description of the following command:\n",
    "    \n",
    "`ls -l`\n",
    "\n",
    "- A) `ls -l` is most analogous to a class in Python\n",
    "- B) The whole `ls -l` is like a function call\n",
    "- C) `-l` is analogous to a function call, and `ls` is like a parameter\n",
    "- D) `ls` is analogous to a function, and `-l` is like a parameter\n",
    "- E) There is no clear analogy here to Python"
   ]
  },
  {
   "cell_type": "code",
   "execution_count": 12,
   "metadata": {
    "slideshow": {
     "slide_type": "-"
    }
   },
   "outputs": [
    {
     "name": "stdout",
     "output_type": "stream",
     "text": [
      "total 4280\r\n",
      "-rw-r--r--   1 shannonellis  staff     6072 Sep 20 13:01 01-Introduction.ipynb\r\n",
      "-rw-r--r--@  1 shannonellis  staff  1647599 Sep 20 11:41 01-Welcome.pdf\r\n",
      "-rw-r--r--   1 shannonellis  staff    32726 Oct 15 07:50 02-Tooling.ipynb\r\n",
      "-rw-r--r--   1 shannonellis  staff    35130 Sep 30 15:46 03-Variables.ipynb\r\n",
      "-rw-r--r--   1 shannonellis  staff    52929 Oct  5 13:50 04-Operators.ipynb\r\n",
      "-rw-r--r--   1 shannonellis  staff    18371 Oct  6 08:37 05-Conditionals.ipynb\r\n",
      "-rw-r--r--   1 shannonellis  staff    32293 Oct  8 08:38 06-Debugging.ipynb\r\n",
      "-rw-r--r--   1 shannonellis  staff    43342 Oct 11 08:39 07-Collections.ipynb\r\n",
      "-rw-r--r--   1 shannonellis  staff    29014 Oct 16 06:37 08-Loops.ipynb\r\n",
      "-rw-r--r--   1 shannonellis  staff    43593 Oct 20 08:50 09-Dictionaries.ipynb\r\n",
      "-rw-r--r--@  1 shannonellis  staff    21464 Oct 25 06:49 10-FunctionsI.ipynb\r\n",
      "-rw-r--r--   1 shannonellis  staff    25442 Oct 27 07:04 11-Algorithms.ipynb\r\n",
      "-rw-r--r--@  1 shannonellis  staff    45972 Oct 29 08:26 12-FunctionsII.ipynb\r\n",
      "-rw-r--r--   1 shannonellis  staff    69090 Nov  5 08:13 13-Classes.ipynb\r\n",
      "-rw-r--r--   1 shannonellis  staff    25642 Nov  8 08:30 14-CommandLine.ipynb\r\n",
      "-rw-r--r--   1 shannonellis  staff    13108 Oct 13 07:08 A1-Syntax.ipynb\r\n",
      "-rw-r--r--   1 shannonellis  staff    13582 Oct 13 07:07 A2-Examples.ipynb\r\n",
      "drwxr-xr-x  13 shannonellis  staff      416 Nov  5 07:59 \u001b[34mExam-Prep\u001b[m\u001b[m\r\n",
      "drwxr-xr-x   3 shannonellis  staff       96 Nov  8 08:26 \u001b[34mdir_name\u001b[m\u001b[m\r\n",
      "drwxr-xr-x  18 shannonellis  staff      576 Oct 21 14:10 \u001b[34mimg\u001b[m\u001b[m\r\n"
     ]
    }
   ],
   "source": [
    "## test out here\n",
    "!ls -l"
   ]
  },
  {
   "cell_type": "markdown",
   "metadata": {
    "slideshow": {
     "slide_type": "slide"
    }
   },
   "source": [
    "#### Clicker Question #4\n",
    "\n",
    "Which creates a file?     \n",
    "   \n",
    "- A) `mkdir`\n",
    "- B) `pwd`\n",
    "- C) `cd`\n",
    "- D) `touch`\n",
    "- E) `cat`"
   ]
  },
  {
   "cell_type": "markdown",
   "metadata": {
    "slideshow": {
     "slide_type": "slide"
    }
   },
   "source": [
    "## Windows Command Prompt\n",
    "\n",
    "Some commands are slightly different if you are using windows command prompt:\n",
    "\n",
    "- `dir` : lists files in current directory\n",
    "- `move` : moves a file\n",
    "- `copy` : copies a file\n",
    "- `rename` : renames a file\n",
    "- `type` : can be used to print out a file\n",
    "    \n",
    "Note that `pwd`, `cd`, `mkdir`, `echo` are all the same in Windows command prompt.\n",
    "\n",
    "If you want to make a new empty file, you can do:\n",
    "\n",
    "`'' > my_file.py`\n",
    "\n",
    "^This construction puts an empty string into a file. If the filename is not found, it will create a new (empty) file."
   ]
  },
  {
   "cell_type": "markdown",
   "metadata": {
    "slideshow": {
     "slide_type": "slide"
    }
   },
   "source": [
    "## Python Files"
   ]
  },
  {
   "cell_type": "markdown",
   "metadata": {
    "slideshow": {
     "slide_type": "fragment"
    }
   },
   "source": [
    "<div class=\"alert alert-success\">\n",
    "Python files are plain-text files, with Python code in them, that can be executed and/or imported from.\n",
    "</div>"
   ]
  },
  {
   "cell_type": "markdown",
   "metadata": {
    "slideshow": {
     "slide_type": "slide"
    }
   },
   "source": [
    "### Script vs. Module File"
   ]
  },
  {
   "cell_type": "markdown",
   "metadata": {
    "slideshow": {
     "slide_type": "fragment"
    }
   },
   "source": [
    "### Scripts"
   ]
  },
  {
   "cell_type": "markdown",
   "metadata": {
    "slideshow": {
     "slide_type": "fragment"
    }
   },
   "source": [
    "<div class=\"alert alert-success\">\n",
    "A <b>script</b> is a Python file that can be run to execute a particular task. \n",
    "</div>"
   ]
  },
  {
   "cell_type": "markdown",
   "metadata": {
    "slideshow": {
     "slide_type": "fragment"
    }
   },
   "source": [
    "### Module Files"
   ]
  },
  {
   "cell_type": "markdown",
   "metadata": {
    "slideshow": {
     "slide_type": "fragment"
    }
   },
   "source": [
    "<div class=\"alert alert-success\">\n",
    "A <b>module</b> file is a file with Python code (typically functions & classes) that we can import and use.\n",
    "</div>"
   ]
  },
  {
   "cell_type": "markdown",
   "metadata": {
    "slideshow": {
     "slide_type": "fragment"
    }
   },
   "source": [
    "Remember: if you're writing code, you cannot just click through to the file you want. You need to specify _using code_ where the file you want is. \n",
    "\n",
    "This is where understanding file paths is critically important."
   ]
  },
  {
   "cell_type": "markdown",
   "metadata": {
    "slideshow": {
     "slide_type": "slide"
    }
   },
   "source": [
    "## Text Editors"
   ]
  },
  {
   "cell_type": "markdown",
   "metadata": {
    "slideshow": {
     "slide_type": "fragment"
    }
   },
   "source": [
    "<div class=\"alert alert-success\">\n",
    "Text-editors are programs made for editing text. Many text-editors are designed for writing code specifically. \n",
    "</div>"
   ]
  },
  {
   "cell_type": "markdown",
   "metadata": {
    "slideshow": {
     "slide_type": "notes"
    }
   },
   "source": [
    "### Terminal Based Text Editors\n",
    "\n",
    "There are text editors designed to be used within a terminal, such as `vim`, `emacs`, or `nano`. "
   ]
  },
  {
   "cell_type": "markdown",
   "metadata": {
    "slideshow": {
     "slide_type": "notes"
    }
   },
   "source": [
    "#### vim\n",
    "\n",
    "`vim` is a terminal based text-editor. Type `vim filename` in command line to open a file in vim. \n",
    "\n",
    "`vim` has different modes:\n",
    "\n",
    "- click `escape` + `i` to enter edit mode (insert mode). \n",
    "    - This will let you write text / code into the file\n",
    "- To escape vim, press `escape` then type `:wq` and enter to save and quit vim\n",
    "    - If you want to exit without saving, you can do `:!q` to force quit without saving"
   ]
  },
  {
   "cell_type": "markdown",
   "metadata": {
    "slideshow": {
     "slide_type": "fragment"
    }
   },
   "source": [
    "### Non-Terminal Text Editors\n",
    "\n",
    "For writing code (outside of notebooks and the terminal), you probably want a code focused stand-alone text editor, like `Sublime`."
   ]
  },
  {
   "cell_type": "markdown",
   "metadata": {
    "slideshow": {
     "slide_type": "slide"
    }
   },
   "source": [
    "## Executing Python Files"
   ]
  },
  {
   "cell_type": "markdown",
   "metadata": {
    "slideshow": {
     "slide_type": "fragment"
    }
   },
   "source": [
    "From the command line, you can execute a Python script using the `python` command:\n",
    "\n",
    "`python dir_name/new_file.py`"
   ]
  },
  {
   "cell_type": "markdown",
   "metadata": {
    "slideshow": {
     "slide_type": "slide"
    }
   },
   "source": [
    "#### Clicker Question #5\n",
    "\n",
    "To create a file and see its contents, which command line commands would you use (and in which order)?    \n",
    "   \n",
    "- A) `mkdir` > `cd`\n",
    "- B) `pwd` > `ls`\n",
    "- C) `cd` > `pwd`\n",
    "- D) `touch` > `cat`\n",
    "- E) `cat` > `touch`"
   ]
  },
  {
   "cell_type": "markdown",
   "metadata": {
    "slideshow": {
     "slide_type": "slide"
    }
   },
   "source": [
    "#### Clicker Question #6\n",
    "\n",
    "Given the file structure from earlier: \n",
    "\n",
    "- `/`\n",
    "    - `scripts/`\n",
    "        - cool_thing.py\n",
    "        - super_cool_thing.py\n",
    "    - `images/`\n",
    "        - image1.png\n",
    "        - image2.png\n",
    "    - `notebooks/`\n",
    "        - 00_intro.ipynb\n",
    "        - 01_variables.ipynb\n",
    "\n",
    "Your currently working within `notebooks` and you want to execute the code in 'cool_thing.py' from the command line. How would you do that?\n",
    "\n",
    "\n",
    "- A) `python cool_thing.py` \n",
    "- B) `python ../notebooks/cool_thing.py` \n",
    "- C) `python ../scripts/cool_thing.py` \n",
    "- D) `python ../cool_thing.py` \n",
    "- E) ¯\\\\\\_(ツ)\\_/¯ "
   ]
  }
 ],
 "metadata": {
  "celltoolbar": "Slideshow",
  "kernelspec": {
   "display_name": "Python 3",
   "language": "python",
   "name": "python3"
  },
  "language_info": {
   "codemirror_mode": {
    "name": "ipython",
    "version": 3
   },
   "file_extension": ".py",
   "mimetype": "text/x-python",
   "name": "python",
   "nbconvert_exporter": "python",
   "pygments_lexer": "ipython3",
   "version": "3.9.5"
  },
  "rise": {
   "scroll": true
  }
 },
 "nbformat": 4,
 "nbformat_minor": 2
}
