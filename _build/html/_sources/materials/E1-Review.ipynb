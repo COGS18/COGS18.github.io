{
 "cells": [
  {
   "cell_type": "markdown",
   "metadata": {
    "slideshow": {
     "slide_type": "slide"
    }
   },
   "source": [
    "# Exam 1 Review\n",
    "\n",
    "[![Open In Colab](https://colab.research.google.com/assets/colab-badge.svg)](https://colab.research.google.com/github/COGS18/LectureNotes-COGS18/blob/main/E1-Review.ipynb)"
   ]
  },
  {
   "cell_type": "markdown",
   "metadata": {
    "editable": true,
    "slideshow": {
     "slide_type": "slide"
    },
    "tags": []
   },
   "source": [
    "**Q&A**\n",
    "\n",
    "> Q: what is the purpose of a dictionary?  \n",
    "> A: To be able to store key-value pairs....two pieces of information for a single element in a collection. Think of student names and their emails. If I wanted to send a student an email, but I only knew their name, it would be helpful to have a variable where I could look up someone's name and find their email. Dictionaries allow for this!\n",
    "\n",
    "> Q: I still dont understand the difference between elif and else, and collections are still confusing.  \n",
    "> A: Let's discuss this during the review today! \n",
    "\n",
    "> Q: I'm confused on indexing, or keying, items in a dictionary. Can you add items from other dictionaries from earlier in your code into another dictionary?  \n",
    "> A: You could add a key value pair from another dictionary into a new dictionary, but that's not something we do very typically.\n",
    "\n",
    "> Q: Why doesn't the order of the code matter when you're making an alias of another variable? Why does the value of an alias change when I define it before I change the value of the variable it's an alias of?  \n",
    "> A: This is something I've chosen *not* to focus on this quarter, so it won't be on your exam (but it is still good to know!). *But* aliasing works differently for immutable vs. mutable variable types. So, for immutable types (think integer), in the following code, when the value of `a` changes....`b` remains unchanged. This is b/c integers are *immutable*. So, the order of the code still matters; it's the behavior of aliases with different variable types that determines the outcome. Definitely let me know if this doesn't clarify!\n",
    "\n",
    "```python\n",
    "a=3\n",
    "b=a\n",
    "a=4\n",
    "b\n",
    "```\n",
    ">...but for the following code with lists (*mutable*!) when the original list (`my_list`) is altered, its copy/alias (`my_list2)` also changes:\n",
    "```python\n",
    "my_list = [1, 2, 3]\n",
    "my_list2 = my_list\n",
    "my_list[0] = 'new value'\n",
    "my_list2\n",
    "```\n",
    "\n",
    "> Q: So, list and tuple are the same idea, but tuple is immutable and list is mutable?  \n",
    "> A: Yup! Other thing to remember is lists are defined using square brackets (`[]`) and tuples with parentheses (`()`)\n",
    "\n",
    "> Q: lists can be stored as values in dictionaries but not as keys?  \n",
    "> A: Correct! Keys can only be of immutable type variables. Values can be any type."
   ]
  },
  {
   "cell_type": "markdown",
   "metadata": {
    "editable": true,
    "slideshow": {
     "slide_type": ""
    },
    "tags": []
   },
   "source": [
    "**Course Announcements**\n",
    "Due this week: \n",
    "- CL3 due Friday\n",
    "- A2 due Sunday\n",
    "\n",
    "Notes: \n",
    "- E1 starts Monday"
   ]
  },
  {
   "cell_type": "markdown",
   "metadata": {
    "editable": true,
    "slideshow": {
     "slide_type": "slide"
    },
    "tags": []
   },
   "source": [
    "## Midterm Expectations\n",
    "\n",
    "You will be expected to: \n",
    "\n",
    "1. Describe and understand all coding concepts discussed thus far\n",
    "2. Recognize, understand and _respond_ to Python syntax:\n",
    "    - statements & comments, whitespace, code blocks & indentation levels\n",
    "3. Recognize, understand and be able to _explain_ code constructions:\n",
    "    - variables (including collections), operators, functions, & conditionals\n",
    "4. Be able to apply what you've learned:\n",
    "    - Given a task:\n",
    "        - what kind of code constructions are needed to answer it?\n",
    "        - what kind of concepts does it relate to?\n",
    "5. With respect to everything above, be able to read and respond to short code snippets, write out short bits of code, and debug code."
   ]
  },
  {
   "cell_type": "markdown",
   "metadata": {
    "editable": true,
    "slideshow": {
     "slide_type": "slide"
    },
    "tags": []
   },
   "source": [
    "## Day of Exam: \n",
    "\n",
    "What to Bring:\n",
    "- An ID\n",
    "- Your Brain\n",
    "\n",
    "**Location**: TTC-CBTF - **AP&M B349** (basement)\n",
    "\n",
    "**Exam Window**: 4/28-5/3 (Mon-Sat); 45min"
   ]
  },
  {
   "cell_type": "markdown",
   "metadata": {
    "editable": true,
    "slideshow": {
     "slide_type": "slide"
    },
    "tags": []
   },
   "source": [
    "### Exam 1 Plan\n",
    "\n",
    "**Exam (25 Qs)**:\n",
    "- Q1 - blank jupyter notebook (no credit)\n",
    "- Q2-11 Multiple Choice\n",
    "- Q12-23 \"Short Answer\" (line of code, matching, drop-down, parsons)\n",
    "- Q24-26 Code Debugging\n",
    "    \n",
    "**Topics (#Qs)**: \n",
    "1. Variables (3)\n",
    "2. Operators (8)\n",
    "3. Functions (6)\n",
    "4. Conditionals (4)\n",
    "5. Collections (4)\n",
    "\n",
    "Notes: \n",
    "- This is the expected layout. Small changes to this could be made after the staff proofread/test-drive the exam.\n",
    "- To self: demo parsons problems (parsons_date_people, parsons_buy_car)"
   ]
  },
  {
   "cell_type": "markdown",
   "metadata": {
    "editable": true,
    "slideshow": {
     "slide_type": ""
    },
    "tags": []
   },
   "source": [
    "## Topics\n",
    "\n",
    "- Variables (including collections)\n",
    "- Operators\n",
    "- Functions\n",
    "- Conditionals"
   ]
  },
  {
   "cell_type": "markdown",
   "metadata": {
    "editable": true,
    "slideshow": {
     "slide_type": "slide"
    },
    "tags": []
   },
   "source": [
    "### Variables\n",
    "\n",
    "Types:\n",
    "- strings, integers, floats, Booleans\n",
    "- Collections: lists, tuples, dictionaries\n",
    "\n",
    "Concepts:\n",
    "- Assignment\n",
    "- Purpose of/use for each variable\n",
    "- Mutable vs. Immutable\n",
    "- Indexing"
   ]
  },
  {
   "cell_type": "markdown",
   "metadata": {
    "editable": true,
    "slideshow": {
     "slide_type": "slide"
    },
    "tags": []
   },
   "source": [
    "### Operators\n",
    "\n",
    "- assignment : `=`\n",
    "- math: `+`, `-`, `/`, `*`, `**`, `//`\n",
    "- comparison : `==`, `!=`, `<`, `>`, `<=`, `>=`\n",
    "- logic: `and`, `or`, `not`\n",
    "- membership : `in`, `not in`\n",
    "    - difference in how membership operators behave on different types of variables (strings, lists/tuples, dictionaries)\n",
    "- concatenation (strings): `+`\n",
    " \n",
    "Notes:\n",
    "- know the difference between `=` and `==`\n",
    "- Be able to assign variables of different types and how to visually distinguish different variable types"
   ]
  },
  {
   "cell_type": "code",
   "execution_count": 6,
   "metadata": {},
   "outputs": [
    {
     "data": {
      "text/plain": [
       "'first second'"
      ]
     },
     "execution_count": 6,
     "metadata": {},
     "output_type": "execute_result"
    }
   ],
   "source": [
    "a ='first'\n",
    "b = 'second'\n",
    "'first second'\n",
    "a + ' ' + b"
   ]
  },
  {
   "cell_type": "markdown",
   "metadata": {
    "editable": true,
    "slideshow": {
     "slide_type": "slide"
    },
    "tags": []
   },
   "source": [
    "## Functions\n",
    "\n",
    "- defining a function (`def`)\n",
    "    - `return`\n",
    "- executing a function\n",
    "    - parameters\n",
    "        - keyword vs. positional\n",
    "        - default values\n",
    "\n",
    "Notes:\n",
    "- know difference between function definition and function execution\n",
    "- be able to debug a provided function given the goal of the function"
   ]
  },
  {
   "cell_type": "markdown",
   "metadata": {
    "editable": true,
    "slideshow": {
     "slide_type": "slide"
    },
    "tags": []
   },
   "source": [
    "### Conditionals\n",
    "\n",
    "- `if`, `elif`, & `else`\n",
    "\n",
    "Notes:\n",
    "- deeply understand how to logic through/read conditionals\n",
    "- know which parts are required/when to use which\n",
    "- know how to think through a given conditional"
   ]
  },
  {
   "cell_type": "markdown",
   "metadata": {
    "editable": true,
    "slideshow": {
     "slide_type": "fragment"
    },
    "tags": []
   },
   "source": [
    "Note to self: \n",
    "> *I still dont understand the difference between elif and else.*\n",
    "\n",
    "- `elif`: a condition you want to check if the ifs/elifs above it are not true\n",
    "- `else`: what you want to happen if everything every if/elif above is not true; a catch-all\n"
   ]
  },
  {
   "cell_type": "markdown",
   "metadata": {
    "editable": true,
    "slideshow": {
     "slide_type": "slide"
    },
    "tags": []
   },
   "source": [
    "## Questions\n",
    "\n",
    "What questions do you have!?"
   ]
  },
  {
   "cell_type": "markdown",
   "metadata": {
    "editable": true,
    "slideshow": {
     "slide_type": ""
    },
    "tags": []
   },
   "source": [
    "## Practice\n",
    "\n",
    "These practice questions are NOT representative of the *typical* question on the exam. But, many students are feeling pretty good about MC & matching questions (and you've done lots of those on PL so far) and less confident when there's less structure. So, I figured if we did these together...we'd get everyone feeling a bit more confident!\n",
    "\n",
    "\n",
    "The form we'll use for today (we'll just keep using the same one....): [https://forms.gle/QQCf7AvT1E5r7qH58](https://forms.gle/QQCf7AvT1E5r7qH58)"
   ]
  },
  {
   "cell_type": "markdown",
   "metadata": {
    "editable": true,
    "slideshow": {
     "slide_type": "slide"
    },
    "tags": []
   },
   "source": [
    "### Q1\n",
    "\n",
    "**Q1**. Given the function below, describe what the function is doing. Then, execute the function so that each of the following is `True`:\n",
    "- `out1 == '¶'`\n",
    "- `out2 == 'ƫ'`\n",
    "- `out3 == 'ḉ'`"
   ]
  },
  {
   "cell_type": "code",
   "execution_count": 8,
   "metadata": {},
   "outputs": [],
   "source": [
    "def display_char(index):\n",
    "    \n",
    "    objects = ['x', 'ã', 'ƫ', '%', '§', '¶',\n",
    "              'Ł', 'Œ', 'Ɓ', 'Ɍ', 'Ɏ', 'ḉ']\n",
    "    \n",
    "    char = objects[index]\n",
    "    \n",
    "    return char"
   ]
  },
  {
   "cell_type": "code",
   "execution_count": 12,
   "metadata": {},
   "outputs": [],
   "source": [
    "out1 = display_char(5)\n",
    "out2 = display_char(2)\n",
    "out3 = display_char(-1)"
   ]
  },
  {
   "cell_type": "code",
   "execution_count": 13,
   "metadata": {},
   "outputs": [
    {
     "data": {
      "text/plain": [
       "True"
      ]
     },
     "execution_count": 13,
     "metadata": {},
     "output_type": "execute_result"
    }
   ],
   "source": [
    "out1 == '¶'"
   ]
  },
  {
   "cell_type": "markdown",
   "metadata": {},
   "source": [
    "Concepts in Q1:\n",
    "- variables: assignment\n",
    "- functions: definition and execution\n",
    "- collections: lists and indexing"
   ]
  },
  {
   "cell_type": "markdown",
   "metadata": {
    "editable": true,
    "slideshow": {
     "slide_type": "slide"
    },
    "tags": []
   },
   "source": [
    "### Q2\n",
    "\n",
    "**Q2**. Define a function `determine_match`. \n",
    "\n",
    "This function should take in two parameters, `char` (the output from `display_char` in Q1) and `list_of_objects` (a list of objects).\n",
    "\n",
    "If the output from `display_char` is in an element in `list_of_objects`, this function should `return` `True`; otherwise, it should `return` `False`. \n",
    "\n",
    "For example:\n",
    "- `determine_match(display_char(5), ['¶', 'Ɏ', 'Ɓ'])` should `return` `True`\n",
    "- `determine_match(display_char(5), ['a', 'b', 'c'])` should `return` `False`\n",
    "\n",
    "Note: this is more complicated than what I will ask during the written exam...but if you understand this you're in very good shape"
   ]
  },
  {
   "cell_type": "code",
   "execution_count": 16,
   "metadata": {},
   "outputs": [],
   "source": [
    "def determine_match(char, list_of_objects):\n",
    "    if char in list_of_objects:\n",
    "        return True\n",
    "    else:\n",
    "        return False\n",
    "\n"
   ]
  },
  {
   "cell_type": "code",
   "execution_count": 20,
   "metadata": {
    "editable": true,
    "slideshow": {
     "slide_type": ""
    },
    "tags": []
   },
   "outputs": [],
   "source": [
    "def cookie(a, b):\n",
    "    if a < 32:\n",
    "        output = True\n",
    "    else:\n",
    "        return False\n",
    "\n",
    "    return output"
   ]
  },
  {
   "cell_type": "code",
   "execution_count": 17,
   "metadata": {},
   "outputs": [
    {
     "data": {
      "text/plain": [
       "True"
      ]
     },
     "execution_count": 17,
     "metadata": {},
     "output_type": "execute_result"
    }
   ],
   "source": [
    "determine_match(char=display_char(5), list_of_objects=['¶', 'Ɏ', 'Ɓ'])"
   ]
  },
  {
   "cell_type": "code",
   "execution_count": 18,
   "metadata": {},
   "outputs": [
    {
     "data": {
      "text/plain": [
       "False"
      ]
     },
     "execution_count": 18,
     "metadata": {},
     "output_type": "execute_result"
    }
   ],
   "source": [
    "determine_match(display_char(5), ['a', 'b', 'c'])"
   ]
  },
  {
   "cell_type": "markdown",
   "metadata": {},
   "source": [
    "Concepts in Q2:\n",
    "- operators: membership (in lists)\n",
    "- functions: definition\n",
    "- conditionals"
   ]
  },
  {
   "cell_type": "markdown",
   "metadata": {
    "editable": true,
    "slideshow": {
     "slide_type": "slide"
    },
    "tags": []
   },
   "source": [
    "### Q3\n",
    "\n",
    "**Q3**. Define a function `compare_name_lengths()` that will, given a `name` and a `comparison_name`, will determine if there are more letters in name (`name`) relative to the number of letters in the `comparison_name`.\n",
    "\n",
    "If your name is:\n",
    "- shorter than the `comparison_name`, return the string 'shorter'\n",
    "- longer than the `comparison_name`, return the string 'longer'\n",
    "- the same length as `comparison_name`, return the string 'same length'\n",
    "\n",
    "For example:\n",
    "- `compare_name_lengths(name='Shannon', comparison_name='Josh')` would return `'longer'`\n",
    "- `compare_name_lengths(name='Josh', comparison_name='Kayden')` would return `'shorter'`"
   ]
  },
  {
   "cell_type": "code",
   "execution_count": 19,
   "metadata": {},
   "outputs": [
    {
     "data": {
      "text/plain": [
       "7"
      ]
     },
     "execution_count": 19,
     "metadata": {},
     "output_type": "execute_result"
    }
   ],
   "source": [
    "len('Shannon')"
   ]
  },
  {
   "cell_type": "code",
   "execution_count": null,
   "metadata": {},
   "outputs": [],
   "source": [
    "def compare_name_lengths(name, comparison_name):\n",
    "    if len(name) < len(comparison_name):\n",
    "        output = 'shorter'\n",
    "    elif len(name) > len(comparison_name):\n",
    "        output = 'longer\n",
    "    elif len(name) == len(comparison_name):\n",
    "        output = 'same length'\n",
    "\n",
    "    return output"
   ]
  },
  {
   "cell_type": "markdown",
   "metadata": {},
   "source": [
    "Note to self: \n",
    "> *I still dont understand the difference between elif and else.*"
   ]
  },
  {
   "cell_type": "markdown",
   "metadata": {},
   "source": [
    "Concepts in Q3:\n",
    "- function definition\n",
    "- operators: comparison operators\n",
    "- collections: strings and `len`\n",
    "- conditionals"
   ]
  },
  {
   "cell_type": "markdown",
   "metadata": {
    "editable": true,
    "slideshow": {
     "slide_type": ""
    },
    "tags": []
   },
   "source": [
    "### Q4\n",
    "\n",
    "<div class=\"alert alert-danger\">\n",
    "⚠️ I accidentally included a loops question. Loops are NOT on this exam. Leaving it here, b/c some students wanted to see the approach/answer. This will make more sense NEXT week. We'll discuss this one in class once we discuss loops.\n",
    "</div>\n",
    "\n",
    "**Q4**. Define a function `name_dictionary` that will generate a dictionary that stores each unique letter in the input `name` as a different key, and the number of times each letter shows up in your name as the letter's value. \n",
    "\n",
    "For example, `name_dictionary('Shannon')`would return: `{'S':1, 'h':1, 'a': 1, 'n': 3, 'o': 1}`\n",
    "\n",
    "Note: we have not done a ton of practice with dictionaries yet, so this is likely a more difficult one. If you've got this one down, you're in great shape!"
   ]
  },
  {
   "cell_type": "code",
   "execution_count": 1,
   "metadata": {},
   "outputs": [
    {
     "data": {
      "text/plain": [
       "{'S': 1, 'h': 1, 'a': 1, 'n': 3, 'o': 1}"
      ]
     },
     "execution_count": 1,
     "metadata": {},
     "output_type": "execute_result"
    }
   ],
   "source": [
    "def name_dictionary(name):\n",
    "    name_dict = {}\n",
    "    \n",
    "    for char in name:\n",
    "        if char not in name_dict:\n",
    "            name_dict[char] = 1\n",
    "        else:\n",
    "            # the following line is equivalent to name_dict[char] = name_dict[char] + 1\n",
    "            name_dict[char] += 1\n",
    "            \n",
    "    return name_dict\n",
    "\n",
    "name_dictionary('Shannon')"
   ]
  },
  {
   "cell_type": "markdown",
   "metadata": {
    "editable": true,
    "slideshow": {
     "slide_type": ""
    },
    "tags": []
   },
   "source": [
    "Concepts in Q4:\n",
    "- function definition\n",
    "- collections: dictionaries, indexing\n",
    "- conditionals\n",
    "- loops <- OOPS!"
   ]
  }
 ],
 "metadata": {
  "celltoolbar": "Slideshow",
  "kernelspec": {
   "display_name": "Python 3 (ipykernel)",
   "language": "python",
   "name": "python3"
  },
  "language_info": {
   "codemirror_mode": {
    "name": "ipython",
    "version": 3
   },
   "file_extension": ".py",
   "mimetype": "text/x-python",
   "name": "python",
   "nbconvert_exporter": "python",
   "pygments_lexer": "ipython3",
   "version": "3.11.8"
  },
  "rise": {
   "scroll": true
  }
 },
 "nbformat": 4,
 "nbformat_minor": 4
}
