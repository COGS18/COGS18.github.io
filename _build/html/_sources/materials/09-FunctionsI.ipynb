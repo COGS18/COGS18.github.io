{
 "cells": [
  {
   "cell_type": "markdown",
   "metadata": {
    "slideshow": {
     "slide_type": "slide"
    }
   },
   "source": [
    "**Course Announcements**\n",
    "\n",
    "**Due Dates:**\n",
    "- **CL4\\*** due Wed 10/28 \n",
    "- **A3** now available (due Mon 11/2)\n",
    "\n",
    "**Notes:**\n",
    "- CL3 grades availalble on Canvas\n",
    "- A2 & Exam grading underway \n",
    "- Internships Chat w/ Weilun : https://youtu.be/wZXmNqJikCk"
   ]
  },
  {
   "cell_type": "markdown",
   "metadata": {
    "slideshow": {
     "slide_type": "slide"
    }
   },
   "source": [
    "# Functions I\n",
    "\n",
    "- defining a function\n",
    "    - `def`\n",
    "    - `return`\n",
    "- executing a function\n",
    "    - parameters\n",
    "    - separate namespace"
   ]
  },
  {
   "cell_type": "markdown",
   "metadata": {
    "slideshow": {
     "slide_type": "slide"
    }
   },
   "source": [
    "## Functions\n",
    "\n",
    "<div class=\"alert alert-success\">\n",
    "A function is a re-usable piece of code that performs operations on a specified set of variables, and returns the result.\n",
    "</div>"
   ]
  },
  {
   "cell_type": "markdown",
   "metadata": {
    "slideshow": {
     "slide_type": "fragment"
    }
   },
   "source": [
    "Copy + Pasting the same/similar bit of code is to be avoided.\n",
    "\n",
    "**Loops** were one way to avoid this.\n",
    "\n",
    "**Functions** are another!"
   ]
  },
  {
   "cell_type": "markdown",
   "metadata": {
    "slideshow": {
     "slide_type": "slide"
    }
   },
   "source": [
    "## Modular Programming\n",
    "\n",
    "<div class=\"alert alert-success\">\n",
    "Modular programming is an approach to programming that focuses on building programs from indendent modules ('pieces'). \n",
    "</div>"
   ]
  },
  {
   "cell_type": "markdown",
   "metadata": {
    "slideshow": {
     "slide_type": "slide"
    }
   },
   "source": [
    "## Functions for Modular Programming"
   ]
  },
  {
   "cell_type": "markdown",
   "metadata": {
    "slideshow": {
     "slide_type": "fragment"
    }
   },
   "source": [
    "- Functions allow us to flexibly re-use pieces of code\n",
    "- Each function is independent of every other function, and other pieces of code\n",
    "- Functions are the building blocks of programs, and can be flexibly combined and executed in specified orders\n",
    "    - This allows us to build up arbitrarily complex, well-organized programs"
   ]
  },
  {
   "cell_type": "code",
   "execution_count": 1,
   "metadata": {
    "slideshow": {
     "slide_type": "fragment"
    }
   },
   "outputs": [
    {
     "data": {
      "text/plain": [
       "list"
      ]
     },
     "execution_count": 1,
     "metadata": {},
     "output_type": "execute_result"
    }
   ],
   "source": [
    "# you've seen functions before\n",
    "# here we use the type() function\n",
    "my_var = [3, 4, 5]\n",
    "type(my_var)"
   ]
  },
  {
   "cell_type": "code",
   "execution_count": 2,
   "metadata": {
    "slideshow": {
     "slide_type": "fragment"
    }
   },
   "outputs": [
    {
     "data": {
      "text/plain": [
       "3"
      ]
     },
     "execution_count": 2,
     "metadata": {},
     "output_type": "execute_result"
    }
   ],
   "source": [
    "# the function len() doesn't depend on type()\n",
    "# but they can both be used on the same variable\n",
    "len(my_var)"
   ]
  },
  {
   "cell_type": "markdown",
   "metadata": {
    "slideshow": {
     "slide_type": "slide"
    }
   },
   "source": [
    "## Function Example I\n",
    "\n",
    "When you use `def` you are creating a **user-defined function**."
   ]
  },
  {
   "cell_type": "code",
   "execution_count": 3,
   "metadata": {
    "slideshow": {
     "slide_type": "fragment"
    }
   },
   "outputs": [],
   "source": [
    "# define a function: double_value\n",
    "# num is a parameter for the function\n",
    "def double_value(num):\n",
    "\n",
    "    # do some operation\n",
    "    doubled = num + num\n",
    "    \n",
    "    # return output from function\n",
    "    return doubled    "
   ]
  },
  {
   "cell_type": "code",
   "execution_count": 6,
   "metadata": {
    "scrolled": false
   },
   "outputs": [
    {
     "ename": "NameError",
     "evalue": "name 'num' is not defined",
     "output_type": "error",
     "traceback": [
      "\u001b[0;31m---------------------------------------------------------------------------\u001b[0m",
      "\u001b[0;31mNameError\u001b[0m                                 Traceback (most recent call last)",
      "\u001b[0;32m<ipython-input-6-c774dac2b598>\u001b[0m in \u001b[0;36m<module>\u001b[0;34m\u001b[0m\n\u001b[0;32m----> 1\u001b[0;31m \u001b[0mnum\u001b[0m\u001b[0;34m\u001b[0m\u001b[0;34m\u001b[0m\u001b[0m\n\u001b[0m",
      "\u001b[0;31mNameError\u001b[0m: name 'num' is not defined"
     ]
    }
   ],
   "source": [
    "# num does not exist outside function\n",
    "# functions have their own namespace\n",
    "num"
   ]
  },
  {
   "cell_type": "code",
   "execution_count": 4,
   "metadata": {
    "scrolled": true,
    "slideshow": {
     "slide_type": "fragment"
    }
   },
   "outputs": [
    {
     "data": {
      "text/plain": [
       "12"
      ]
     },
     "execution_count": 4,
     "metadata": {},
     "output_type": "execute_result"
    }
   ],
   "source": [
    "# excecute a function by calling function by name\n",
    "# adding input within parentheses\n",
    "double_value(num = 6) "
   ]
  },
  {
   "cell_type": "code",
   "execution_count": 5,
   "metadata": {
    "slideshow": {
     "slide_type": "fragment"
    }
   },
   "outputs": [
    {
     "data": {
      "text/plain": [
       "12"
      ]
     },
     "execution_count": 5,
     "metadata": {},
     "output_type": "execute_result"
    }
   ],
   "source": [
    "# equivalent function call\n",
    "# without specifying parameter\n",
    "double_value(6) "
   ]
  },
  {
   "cell_type": "markdown",
   "metadata": {
    "slideshow": {
     "slide_type": "slide"
    }
   },
   "source": [
    "## Function Example II\n",
    "\n",
    "Something _slightly_ more interesting than just adding a value with itself"
   ]
  },
  {
   "cell_type": "code",
   "execution_count": 12,
   "metadata": {
    "slideshow": {
     "slide_type": "fragment"
    }
   },
   "outputs": [
    {
     "data": {
      "text/plain": [
       "3"
      ]
     },
     "execution_count": 12,
     "metadata": {},
     "output_type": "execute_result"
    }
   ],
   "source": [
    "def add_two_numbers(num1, num2):\n",
    "    \n",
    "    # Do some operations on the input variables\n",
    "    answer = num1 + num2\n",
    "    \n",
    "    # Return the answer\n",
    "    return answer"
   ]
  },
  {
   "cell_type": "code",
   "execution_count": 13,
   "metadata": {},
   "outputs": [
    {
     "ename": "NameError",
     "evalue": "name 'answer' is not defined",
     "output_type": "error",
     "traceback": [
      "\u001b[0;31m---------------------------------------------------------------------------\u001b[0m",
      "\u001b[0;31mNameError\u001b[0m                                 Traceback (most recent call last)",
      "\u001b[0;32m<ipython-input-13-b33788c35f07>\u001b[0m in \u001b[0;36m<module>\u001b[0;34m\u001b[0m\n\u001b[0;32m----> 1\u001b[0;31m \u001b[0manswer\u001b[0m\u001b[0;34m\u001b[0m\u001b[0;34m\u001b[0m\u001b[0m\n\u001b[0m",
      "\u001b[0;31mNameError\u001b[0m: name 'answer' is not defined"
     ]
    }
   ],
   "source": [
    "# variables created/defined within function\n",
    "# do not exist outside funciton\n",
    "answer"
   ]
  },
  {
   "cell_type": "code",
   "execution_count": 11,
   "metadata": {},
   "outputs": [
    {
     "data": {
      "text/plain": [
       "'goodmorning'"
      ]
     },
     "execution_count": 11,
     "metadata": {},
     "output_type": "execute_result"
    }
   ],
   "source": [
    "# inputs could be strings\n",
    "# b/c operations still work on string type values\n",
    "add_two_numbers('good', 'morning')"
   ]
  },
  {
   "cell_type": "code",
   "execution_count": 8,
   "metadata": {
    "scrolled": true
   },
   "outputs": [
    {
     "data": {
      "text/plain": [
       "3"
      ]
     },
     "execution_count": 8,
     "metadata": {},
     "output_type": "execute_result"
    }
   ],
   "source": [
    "add_two_numbers(1, 2)"
   ]
  },
  {
   "cell_type": "code",
   "execution_count": 10,
   "metadata": {
    "scrolled": true,
    "slideshow": {
     "slide_type": "fragment"
    }
   },
   "outputs": [
    {
     "name": "stdout",
     "output_type": "stream",
     "text": [
      "7\n"
     ]
    }
   ],
   "source": [
    "# Execute our function again, on some other inputs\n",
    "output = add_two_numbers(3, 4)\n",
    "print(output)"
   ]
  },
  {
   "cell_type": "markdown",
   "metadata": {
    "slideshow": {
     "slide_type": "slide"
    }
   },
   "source": [
    "## Function Example III\n",
    "\n",
    "We aren't limited to a single operation within a function. We can use multiple operations and all of the concepts we've used previously (including loops and conditionals)."
   ]
  },
  {
   "cell_type": "code",
   "execution_count": 23,
   "metadata": {
    "slideshow": {
     "slide_type": "fragment"
    }
   },
   "outputs": [],
   "source": [
    "# determine if a value is even or odd\n",
    "def even_odd(value): \n",
    "    if value % 2 == 0: \n",
    "        out = \"even\"\n",
    "    else: \n",
    "        out = \"odd\"\n",
    "        \n",
    "    return out"
   ]
  },
  {
   "cell_type": "code",
   "execution_count": 24,
   "metadata": {},
   "outputs": [],
   "source": [
    "# how to loop over a list within a function\n",
    "def even_odd_list(my_list):\n",
    "    out_list = []\n",
    "    \n",
    "    for val in my_list:\n",
    "        if val % 2 == 0: \n",
    "            out_list.append(\"even\")\n",
    "        else: \n",
    "            out_list.append(\"odd\")\n",
    "        \n",
    "    return out_list"
   ]
  },
  {
   "cell_type": "code",
   "execution_count": 26,
   "metadata": {},
   "outputs": [
    {
     "data": {
      "text/plain": [
       "['odd', 'even', 'odd', 'even']"
      ]
     },
     "execution_count": 26,
     "metadata": {},
     "output_type": "execute_result"
    }
   ],
   "source": [
    "list_to_use = [1, 2, 5, 6]\n",
    "even_odd_list(list_to_use)"
   ]
  },
  {
   "cell_type": "code",
   "execution_count": 21,
   "metadata": {
    "scrolled": true,
    "slideshow": {
     "slide_type": "fragment"
    }
   },
   "outputs": [
    {
     "name": "stdout",
     "output_type": "stream",
     "text": [
      "even\n"
     ]
    }
   ],
   "source": [
    "# Execute our function\n",
    "# note that it's only printing the output\n",
    "out_1 = even_odd(-1)\n",
    "out_1 = even_odd(4)\n",
    "\n",
    "print(out_1)"
   ]
  },
  {
   "cell_type": "markdown",
   "metadata": {
    "slideshow": {
     "slide_type": "fragment"
    }
   },
   "source": [
    "With functions, the logic behind our code no longer requires it to be executed from top to bottom of the notebook.\n",
    "\n",
    "The cost of potential confusion is *definitely* offset by the benefits of writing functions and using modular code."
   ]
  },
  {
   "cell_type": "markdown",
   "metadata": {
    "slideshow": {
     "slide_type": "slide"
    }
   },
   "source": [
    "## Function Properties"
   ]
  },
  {
   "cell_type": "markdown",
   "metadata": {
    "slideshow": {
     "slide_type": "fragment"
    }
   },
   "source": [
    "- Functions are defined using `def` followed by `:`, which opens a code-block that comprises the function\n",
    "    - Running code with a `def` block *defines* the function (but does not *execute* it)"
   ]
  },
  {
   "cell_type": "markdown",
   "metadata": {
    "slideshow": {
     "slide_type": "fragment"
    }
   },
   "source": [
    "- Functions are *executed* using parentheses - `()`\n",
    "    - This is when the code inside a function is actually run"
   ]
  },
  {
   "cell_type": "markdown",
   "metadata": {
    "slideshow": {
     "slide_type": "fragment"
    }
   },
   "source": [
    "- Functions have their own namespace\n",
    "    - They only have access to variables explicitly passed into them"
   ]
  },
  {
   "cell_type": "markdown",
   "metadata": {
    "slideshow": {
     "slide_type": "fragment"
    }
   },
   "source": [
    "- Inside a function, there is code that performs operations on the available variables"
   ]
  },
  {
   "cell_type": "markdown",
   "metadata": {
    "slideshow": {
     "slide_type": "fragment"
    }
   },
   "source": [
    "- Functions use the special operator `return` to exit the function, passing out any specified variables"
   ]
  },
  {
   "cell_type": "markdown",
   "metadata": {
    "slideshow": {
     "slide_type": "fragment"
    }
   },
   "source": [
    "- When you use a function, you can assign the output (whatever is `return`ed) to a variable"
   ]
  },
  {
   "cell_type": "markdown",
   "metadata": {
    "collapsed": true,
    "slideshow": {
     "slide_type": "slide"
    }
   },
   "source": [
    "#### Clicker Question #1"
   ]
  },
  {
   "cell_type": "code",
   "execution_count": 31,
   "metadata": {
    "slideshow": {
     "slide_type": "fragment"
    }
   },
   "outputs": [],
   "source": [
    "def remainder(number, divider):\n",
    "    \n",
    "    r = number % divider\n",
    "    w = number * divider\n",
    "    \n",
    "    return r, w"
   ]
  },
  {
   "cell_type": "code",
   "execution_count": 34,
   "metadata": {},
   "outputs": [
    {
     "name": "stdout",
     "output_type": "stream",
     "text": [
      "2\n",
      "60\n"
     ]
    },
    {
     "data": {
      "text/plain": [
       "62"
      ]
     },
     "execution_count": 34,
     "metadata": {},
     "output_type": "execute_result"
    }
   ],
   "source": [
    "val_1, val_2 = remainder(12, 5)\n",
    "print(val_1)\n",
    "print(val_2)\n",
    "\n",
    "val_1 + val_2"
   ]
  },
  {
   "cell_type": "markdown",
   "metadata": {
    "slideshow": {
     "slide_type": "fragment"
    }
   },
   "source": [
    "Given the function above, what will the code below print out?"
   ]
  },
  {
   "cell_type": "code",
   "execution_count": 35,
   "metadata": {
    "slideshow": {
     "slide_type": "fragment"
    }
   },
   "outputs": [
    {
     "name": "stdout",
     "output_type": "stream",
     "text": [
      "(2, 60, 0, 4)\n"
     ]
    }
   ],
   "source": [
    "# prof ellis forgot to have function only return r above\n",
    "# no answers here correct\n",
    "ans_1 = remainder(12, 5)\n",
    "ans_2 = remainder(2, 2)\n",
    "\n",
    "print(ans_1 + ans_2)"
   ]
  },
  {
   "cell_type": "markdown",
   "metadata": {
    "slideshow": {
     "slide_type": "fragment"
    }
   },
   "source": [
    "- A) 0\n",
    "- B) 2\n",
    "- C) 4\n",
    "- D) '2r.2 + 1'\n",
    "- E) ¯\\\\\\_(ツ)\\_/¯"
   ]
  },
  {
   "cell_type": "markdown",
   "metadata": {
    "collapsed": true,
    "slideshow": {
     "slide_type": "slide"
    }
   },
   "source": [
    "#### Clicker Question #2\n",
    "\n",
    "Write a function `greet` that takes the parameter `name`. Inside the function, concatenate 'Hello', the person's name, and 'Good morning!\". Assign this to `output` and return `output`.\n",
    "\n",
    "- A) I did it!\n",
    "- B) I think I did it.\n",
    "- C) I tried but am stuck.\n",
    "- D) Super duper lost"
   ]
  },
  {
   "cell_type": "code",
   "execution_count": 45,
   "metadata": {},
   "outputs": [
    {
     "name": "stdout",
     "output_type": "stream",
     "text": [
      "Hello COGS18 Students Good morning!\n"
     ]
    }
   ],
   "source": [
    "out_string = greet(name = 'COGS18 Students')\n",
    "print(out_string)"
   ]
  },
  {
   "cell_type": "code",
   "execution_count": 44,
   "metadata": {
    "slideshow": {
     "slide_type": "fragment"
    }
   },
   "outputs": [],
   "source": [
    "## YOUR CODE HERE\n",
    "def greet(name):\n",
    "    output = 'Hello ' + name + ' Good morning!'\n",
    "    return output"
   ]
  },
  {
   "cell_type": "markdown",
   "metadata": {
    "slideshow": {
     "slide_type": "slide"
    }
   },
   "source": [
    "## Function Namespace I"
   ]
  },
  {
   "cell_type": "code",
   "execution_count": 46,
   "metadata": {
    "scrolled": true,
    "slideshow": {
     "slide_type": "fragment"
    }
   },
   "outputs": [
    {
     "name": "stdout",
     "output_type": "stream",
     "text": [
      "Variable          Type        Data/Info\n",
      "---------------------------------------\n",
      "add_two_numbers   function    <function add_two_numbers at 0x1138940e0>\n",
      "ans_1             tuple       n=2\n",
      "ans_2             tuple       n=2\n",
      "double_value      function    <function double_value at 0x1113b7c20>\n",
      "even_odd          function    <function even_odd at 0x113894290>\n",
      "even_odd_list     function    <function even_odd_list at 0x1138944d0>\n",
      "greet             function    <function greet at 0x113894710>\n",
      "list_to_use       list        n=4\n",
      "my_var            list        n=3\n",
      "out_1             str         even\n",
      "out_2             str         even\n",
      "out_string        str         Hello COGS18 Students Good morning!\n",
      "output            int         7\n",
      "remainder         function    <function remainder at 0x113894560>\n",
      "val_1             int         2\n",
      "val_2             int         60\n"
     ]
    }
   ],
   "source": [
    "# Remember, you can check defined variables with `%whos`\n",
    "%whos"
   ]
  },
  {
   "cell_type": "markdown",
   "metadata": {
    "slideshow": {
     "slide_type": "slide"
    }
   },
   "source": [
    "## Function Namespaces II"
   ]
  },
  {
   "cell_type": "code",
   "execution_count": null,
   "metadata": {},
   "outputs": [],
   "source": [
    "# Return a dictionary containing the current scope's local variables.\n",
    "# locals?"
   ]
  },
  {
   "cell_type": "code",
   "execution_count": 57,
   "metadata": {},
   "outputs": [
    {
     "data": {
      "text/plain": [
       "{'__name__': '__main__',\n",
       " '__doc__': 'Automatically created module for IPython interactive environment',\n",
       " '__package__': None,\n",
       " '__loader__': None,\n",
       " '__spec__': None,\n",
       " '__builtin__': <module 'builtins' (built-in)>,\n",
       " '__builtins__': <module 'builtins' (built-in)>,\n",
       " '_ih': ['',\n",
       "  \"# you've seen functions before\\n# here we use the type() function\\nmy_var = [3, 4, 5]\\ntype(my_var)\",\n",
       "  \"# the function len() doesn't depend on type()\\n# but they can both be used on the same variable\\nlen(my_var)\",\n",
       "  '# define a function: double_value\\n# num is a parameter for the function\\ndef double_value(num):\\n\\n    # do some operation\\n    doubled = num + num\\n    \\n    # return output from function\\n    return doubled    ',\n",
       "  '# excecute a function by calling function by name\\n# adding input within parentheses\\ndouble_value(num = 6) ',\n",
       "  '# equivalent function call\\n# without specifying parameter\\ndouble_value(6) ',\n",
       "  'num',\n",
       "  'def add_two_numbers(num1, num2):\\n    \\n    # Do some operations on the input variables\\n    answer = num1 + num2\\n    \\n    # Return the answer\\n    return answer',\n",
       "  'add_two_numbers(1, 2)',\n",
       "  '# Execute our function again, on some other inputs\\noutput = add_two_numbers(-1, 4)\\nprint(output)',\n",
       "  '# Execute our function again, on some other inputs\\noutput = add_two_numbers(3, 4)\\nprint(output)',\n",
       "  \"add_two_numbers('good', 'morning')\",\n",
       "  'def add_two_numbers(num1, num2):\\n    \\n    # Do some operations on the input variables\\n    answer = num1 + num2\\n    \\n    # Return the answer\\n    return answer\\n\\nadd_two_numbers(1, 2)',\n",
       "  'answer',\n",
       "  '# determine if a value is even or odd\\ndef even_odd(value): \\n    if value % 2 == 0: \\n        out = \"even\"\\n    else: \\n        out = \"odd\"\\n        \\n    return out',\n",
       "  '# determine if a value is even or odd\\ndef even_odd(value): \\n    if value % 2 == 0: \\n        out = \"even\"\\n    else: \\n        out = \"odd\"\\n        \\n    return out',\n",
       "  \"# Execute our function\\n# note that it's only printing the output\\neven_odd(-1)\",\n",
       "  \"# Execute our function\\n# note that it's only printing the output\\neven_odd(4)\",\n",
       "  \"# Execute our function\\n# note that it's only printing the output\\neven_odd(-1)\\neven_odd(4)\",\n",
       "  \"# Execute our function\\n# note that it's only printing the output\\nprint(even_odd(-1))\\nprint(even_odd(4))\",\n",
       "  \"# Execute our function\\n# note that it's only printing the output\\nout_1 = even_odd(-1)\\nout_2 = even_odd(4)\\n\\nprint(out_1, out_2)\",\n",
       "  \"# Execute our function\\n# note that it's only printing the output\\nout_1 = even_odd(-1)\\nout_1 = even_odd(4)\\n\\nprint(out_1)\",\n",
       "  'def even_odd(my_list):\\n    out_list = []\\n    \\n    for val in my_list:\\n        if val % 2 == 0: \\n            out_list.append(\"even\")\\n        else: \\n            out_list.append(\"odd\")\\n        \\n    return out_list',\n",
       "  '# determine if a value is even or odd\\ndef even_odd(value): \\n    if value % 2 == 0: \\n        out = \"even\"\\n    else: \\n        out = \"odd\"\\n        \\n    return out',\n",
       "  'def even_odd_list(my_list):\\n    out_list = []\\n    \\n    for val in my_list:\\n        if val % 2 == 0: \\n            out_list.append(\"even\")\\n        else: \\n            out_list.append(\"odd\")\\n        \\n    return out_list',\n",
       "  'even_odd_list([1, 2, 5, 6])',\n",
       "  'list_to_use = [1, 2, 5, 6]\\neven_odd_list(list_to_use)',\n",
       "  'def remainder(number, divider):\\n    \\n    r = number % divider\\n   # w = number * divider\\n    \\n    return r',\n",
       "  'remainder(12, 5)',\n",
       "  'ans_1 = remainder(12, 5)\\nprint(ans_1)',\n",
       "  'ans_1 = remainder(12, 5)\\nans_2 = remainder(2, 2)\\n\\nprint(ans_1 + ans_2)',\n",
       "  'def remainder(number, divider):\\n    \\n    r = number % divider\\n    w = number * divider\\n    \\n    return r, w',\n",
       "  'remainder(12, 5)',\n",
       "  'val_1, val_2 = remainder(12, 5)\\nprint(val_1)\\nprint(val_2)',\n",
       "  'val_1, val_2 = remainder(12, 5)\\nprint(val_1)\\nprint(val_2)\\n\\nval_1 + val_2',\n",
       "  'ans_1 = remainder(12, 5)\\nans_2 = remainder(2, 2)\\n\\nprint(ans_1 + ans_2)',\n",
       "  \"## YOUR CODE HERE\\ndef greet(name):\\n    output = 'Hello ' + name + ' Good morning!'\\n    return output\",\n",
       "  \"greet('COGS18 Students')\",\n",
       "  \"greet(name = 'COGS18 Students')\",\n",
       "  'greet(name = Shannon)',\n",
       "  \"greet(name = 'Shannon')\",\n",
       "  \"## YOUR CODE HERE\\ndef greet(name):\\n    print('Hello ' + name + ' Good morning!')\",\n",
       "  \"greet(name = 'COGS18 Students')\",\n",
       "  \"out_string = greet(name = 'COGS18 Students')\\nprint(out_string)\",\n",
       "  \"## YOUR CODE HERE\\ndef greet(name):\\n    output = 'Hello ' + name + ' Good morning!'\\n    return output\",\n",
       "  \"out_string = greet(name = 'COGS18 Students')\\nprint(out_string)\",\n",
       "  \"# Remember, you can check defined variables with `%whos`\\nget_ipython().run_line_magic('whos', '')\",\n",
       "  'def check_function_namespace(function_input):\\n    # Check what is defined and available inside the function\\n    local_values = locals()\\n    \\n    return local_values',\n",
       "  \"# Functions don't `see` everything\\ncheck_function_namespace(1)\",\n",
       "  \"# Functions don't `see` everything\\ncheck_function_namespace(True)\",\n",
       "  '# using two different inputs to a function\\ndef check_function_namespace2(function_input, other_name):\\n    # Check what is defined and available inside the function\\n    local_values = locals()\\n    \\n    return local_values',\n",
       "  '# returning what each input is storing\\ncheck_function_namespace2(1, True)',\n",
       "  \"a = 'string1'\\nb = 'string2'\\n\\na + b\",\n",
       "  \"a = 'string1'\\nb = 'string2'\\n\\nprint(a + b)\\na + b\",\n",
       "  \"a = 'string1'\\nb = 'string2'\\n\\nprint(a + b)\\nc = a + b\\nc\",\n",
       "  \"a = 'string1'\\nb = 'string2'\\n\\nprint(a + b)\\nc = a + b\\nprint(c)\",\n",
       "  \"a = 'string1'\\nb = 'string2'\\n\\nprint(a + b)\\nc = a + b\\nc\",\n",
       "  'locals()'],\n",
       " '_oh': {1: list,\n",
       "  2: 3,\n",
       "  4: 12,\n",
       "  5: 12,\n",
       "  8: 3,\n",
       "  11: 'goodmorning',\n",
       "  12: 3,\n",
       "  16: 'odd',\n",
       "  17: 'even',\n",
       "  18: 'even',\n",
       "  25: ['odd', 'even', 'odd', 'even'],\n",
       "  26: ['odd', 'even', 'odd', 'even'],\n",
       "  28: 2,\n",
       "  32: (2, 60),\n",
       "  34: 62,\n",
       "  37: 'Hello COGS18 Students Good morning!',\n",
       "  38: 'Hello COGS18 Students Good morning!',\n",
       "  40: 'Hello Shannon Good morning!',\n",
       "  48: {'function_input': 1},\n",
       "  49: {'function_input': True},\n",
       "  51: {'function_input': 1, 'other_name': True},\n",
       "  52: 'string1string2',\n",
       "  53: 'string1string2',\n",
       "  54: 'string1string2',\n",
       "  56: 'string1string2'},\n",
       " '_dh': ['/Users/shannonellis/Desktop/Teaching/COGS18/LectureNotes-Fa20'],\n",
       " 'In': ['',\n",
       "  \"# you've seen functions before\\n# here we use the type() function\\nmy_var = [3, 4, 5]\\ntype(my_var)\",\n",
       "  \"# the function len() doesn't depend on type()\\n# but they can both be used on the same variable\\nlen(my_var)\",\n",
       "  '# define a function: double_value\\n# num is a parameter for the function\\ndef double_value(num):\\n\\n    # do some operation\\n    doubled = num + num\\n    \\n    # return output from function\\n    return doubled    ',\n",
       "  '# excecute a function by calling function by name\\n# adding input within parentheses\\ndouble_value(num = 6) ',\n",
       "  '# equivalent function call\\n# without specifying parameter\\ndouble_value(6) ',\n",
       "  'num',\n",
       "  'def add_two_numbers(num1, num2):\\n    \\n    # Do some operations on the input variables\\n    answer = num1 + num2\\n    \\n    # Return the answer\\n    return answer',\n",
       "  'add_two_numbers(1, 2)',\n",
       "  '# Execute our function again, on some other inputs\\noutput = add_two_numbers(-1, 4)\\nprint(output)',\n",
       "  '# Execute our function again, on some other inputs\\noutput = add_two_numbers(3, 4)\\nprint(output)',\n",
       "  \"add_two_numbers('good', 'morning')\",\n",
       "  'def add_two_numbers(num1, num2):\\n    \\n    # Do some operations on the input variables\\n    answer = num1 + num2\\n    \\n    # Return the answer\\n    return answer\\n\\nadd_two_numbers(1, 2)',\n",
       "  'answer',\n",
       "  '# determine if a value is even or odd\\ndef even_odd(value): \\n    if value % 2 == 0: \\n        out = \"even\"\\n    else: \\n        out = \"odd\"\\n        \\n    return out',\n",
       "  '# determine if a value is even or odd\\ndef even_odd(value): \\n    if value % 2 == 0: \\n        out = \"even\"\\n    else: \\n        out = \"odd\"\\n        \\n    return out',\n",
       "  \"# Execute our function\\n# note that it's only printing the output\\neven_odd(-1)\",\n",
       "  \"# Execute our function\\n# note that it's only printing the output\\neven_odd(4)\",\n",
       "  \"# Execute our function\\n# note that it's only printing the output\\neven_odd(-1)\\neven_odd(4)\",\n",
       "  \"# Execute our function\\n# note that it's only printing the output\\nprint(even_odd(-1))\\nprint(even_odd(4))\",\n",
       "  \"# Execute our function\\n# note that it's only printing the output\\nout_1 = even_odd(-1)\\nout_2 = even_odd(4)\\n\\nprint(out_1, out_2)\",\n",
       "  \"# Execute our function\\n# note that it's only printing the output\\nout_1 = even_odd(-1)\\nout_1 = even_odd(4)\\n\\nprint(out_1)\",\n",
       "  'def even_odd(my_list):\\n    out_list = []\\n    \\n    for val in my_list:\\n        if val % 2 == 0: \\n            out_list.append(\"even\")\\n        else: \\n            out_list.append(\"odd\")\\n        \\n    return out_list',\n",
       "  '# determine if a value is even or odd\\ndef even_odd(value): \\n    if value % 2 == 0: \\n        out = \"even\"\\n    else: \\n        out = \"odd\"\\n        \\n    return out',\n",
       "  'def even_odd_list(my_list):\\n    out_list = []\\n    \\n    for val in my_list:\\n        if val % 2 == 0: \\n            out_list.append(\"even\")\\n        else: \\n            out_list.append(\"odd\")\\n        \\n    return out_list',\n",
       "  'even_odd_list([1, 2, 5, 6])',\n",
       "  'list_to_use = [1, 2, 5, 6]\\neven_odd_list(list_to_use)',\n",
       "  'def remainder(number, divider):\\n    \\n    r = number % divider\\n   # w = number * divider\\n    \\n    return r',\n",
       "  'remainder(12, 5)',\n",
       "  'ans_1 = remainder(12, 5)\\nprint(ans_1)',\n",
       "  'ans_1 = remainder(12, 5)\\nans_2 = remainder(2, 2)\\n\\nprint(ans_1 + ans_2)',\n",
       "  'def remainder(number, divider):\\n    \\n    r = number % divider\\n    w = number * divider\\n    \\n    return r, w',\n",
       "  'remainder(12, 5)',\n",
       "  'val_1, val_2 = remainder(12, 5)\\nprint(val_1)\\nprint(val_2)',\n",
       "  'val_1, val_2 = remainder(12, 5)\\nprint(val_1)\\nprint(val_2)\\n\\nval_1 + val_2',\n",
       "  'ans_1 = remainder(12, 5)\\nans_2 = remainder(2, 2)\\n\\nprint(ans_1 + ans_2)',\n",
       "  \"## YOUR CODE HERE\\ndef greet(name):\\n    output = 'Hello ' + name + ' Good morning!'\\n    return output\",\n",
       "  \"greet('COGS18 Students')\",\n",
       "  \"greet(name = 'COGS18 Students')\",\n",
       "  'greet(name = Shannon)',\n",
       "  \"greet(name = 'Shannon')\",\n",
       "  \"## YOUR CODE HERE\\ndef greet(name):\\n    print('Hello ' + name + ' Good morning!')\",\n",
       "  \"greet(name = 'COGS18 Students')\",\n",
       "  \"out_string = greet(name = 'COGS18 Students')\\nprint(out_string)\",\n",
       "  \"## YOUR CODE HERE\\ndef greet(name):\\n    output = 'Hello ' + name + ' Good morning!'\\n    return output\",\n",
       "  \"out_string = greet(name = 'COGS18 Students')\\nprint(out_string)\",\n",
       "  \"# Remember, you can check defined variables with `%whos`\\nget_ipython().run_line_magic('whos', '')\",\n",
       "  'def check_function_namespace(function_input):\\n    # Check what is defined and available inside the function\\n    local_values = locals()\\n    \\n    return local_values',\n",
       "  \"# Functions don't `see` everything\\ncheck_function_namespace(1)\",\n",
       "  \"# Functions don't `see` everything\\ncheck_function_namespace(True)\",\n",
       "  '# using two different inputs to a function\\ndef check_function_namespace2(function_input, other_name):\\n    # Check what is defined and available inside the function\\n    local_values = locals()\\n    \\n    return local_values',\n",
       "  '# returning what each input is storing\\ncheck_function_namespace2(1, True)',\n",
       "  \"a = 'string1'\\nb = 'string2'\\n\\na + b\",\n",
       "  \"a = 'string1'\\nb = 'string2'\\n\\nprint(a + b)\\na + b\",\n",
       "  \"a = 'string1'\\nb = 'string2'\\n\\nprint(a + b)\\nc = a + b\\nc\",\n",
       "  \"a = 'string1'\\nb = 'string2'\\n\\nprint(a + b)\\nc = a + b\\nprint(c)\",\n",
       "  \"a = 'string1'\\nb = 'string2'\\n\\nprint(a + b)\\nc = a + b\\nc\",\n",
       "  'locals()'],\n",
       " 'Out': {1: list,\n",
       "  2: 3,\n",
       "  4: 12,\n",
       "  5: 12,\n",
       "  8: 3,\n",
       "  11: 'goodmorning',\n",
       "  12: 3,\n",
       "  16: 'odd',\n",
       "  17: 'even',\n",
       "  18: 'even',\n",
       "  25: ['odd', 'even', 'odd', 'even'],\n",
       "  26: ['odd', 'even', 'odd', 'even'],\n",
       "  28: 2,\n",
       "  32: (2, 60),\n",
       "  34: 62,\n",
       "  37: 'Hello COGS18 Students Good morning!',\n",
       "  38: 'Hello COGS18 Students Good morning!',\n",
       "  40: 'Hello Shannon Good morning!',\n",
       "  48: {'function_input': 1},\n",
       "  49: {'function_input': True},\n",
       "  51: {'function_input': 1, 'other_name': True},\n",
       "  52: 'string1string2',\n",
       "  53: 'string1string2',\n",
       "  54: 'string1string2',\n",
       "  56: 'string1string2'},\n",
       " 'get_ipython': <bound method InteractiveShell.get_ipython of <ipykernel.zmqshell.ZMQInteractiveShell object at 0x1112c9f90>>,\n",
       " 'exit': <IPython.core.autocall.ZMQExitAutocall at 0x11134f690>,\n",
       " 'quit': <IPython.core.autocall.ZMQExitAutocall at 0x11134f690>,\n",
       " '_': 'string1string2',\n",
       " '__': 'string1string2',\n",
       " '___': 'string1string2',\n",
       " '_i': \"a = 'string1'\\nb = 'string2'\\n\\nprint(a + b)\\nc = a + b\\nc\",\n",
       " '_ii': \"a = 'string1'\\nb = 'string2'\\n\\nprint(a + b)\\nc = a + b\\nprint(c)\",\n",
       " '_iii': \"a = 'string1'\\nb = 'string2'\\n\\nprint(a + b)\\nc = a + b\\nc\",\n",
       " '_i1': \"# you've seen functions before\\n# here we use the type() function\\nmy_var = [3, 4, 5]\\ntype(my_var)\",\n",
       " 'my_var': [3, 4, 5],\n",
       " '_1': list,\n",
       " '_i2': \"# the function len() doesn't depend on type()\\n# but they can both be used on the same variable\\nlen(my_var)\",\n",
       " '_2': 3,\n",
       " '_i3': '# define a function: double_value\\n# num is a parameter for the function\\ndef double_value(num):\\n\\n    # do some operation\\n    doubled = num + num\\n    \\n    # return output from function\\n    return doubled    ',\n",
       " 'double_value': <function __main__.double_value(num)>,\n",
       " '_i4': '# excecute a function by calling function by name\\n# adding input within parentheses\\ndouble_value(num = 6) ',\n",
       " '_4': 12,\n",
       " '_i5': '# equivalent function call\\n# without specifying parameter\\ndouble_value(6) ',\n",
       " '_5': 12,\n",
       " '_i6': 'num',\n",
       " '_i7': 'def add_two_numbers(num1, num2):\\n    \\n    # Do some operations on the input variables\\n    answer = num1 + num2\\n    \\n    # Return the answer\\n    return answer',\n",
       " 'add_two_numbers': <function __main__.add_two_numbers(num1, num2)>,\n",
       " '_i8': 'add_two_numbers(1, 2)',\n",
       " '_8': 3,\n",
       " '_i9': '# Execute our function again, on some other inputs\\noutput = add_two_numbers(-1, 4)\\nprint(output)',\n",
       " 'output': 7,\n",
       " '_i10': '# Execute our function again, on some other inputs\\noutput = add_two_numbers(3, 4)\\nprint(output)',\n",
       " '_i11': \"add_two_numbers('good', 'morning')\",\n",
       " '_11': 'goodmorning',\n",
       " '_i12': 'def add_two_numbers(num1, num2):\\n    \\n    # Do some operations on the input variables\\n    answer = num1 + num2\\n    \\n    # Return the answer\\n    return answer\\n\\nadd_two_numbers(1, 2)',\n",
       " '_12': 3,\n",
       " '_i13': 'answer',\n",
       " '_i14': '# determine if a value is even or odd\\ndef even_odd(value): \\n    if value % 2 == 0: \\n        out = \"even\"\\n    else: \\n        out = \"odd\"\\n        \\n    return out',\n",
       " 'even_odd': <function __main__.even_odd(value)>,\n",
       " '_i15': '# determine if a value is even or odd\\ndef even_odd(value): \\n    if value % 2 == 0: \\n        out = \"even\"\\n    else: \\n        out = \"odd\"\\n        \\n    return out',\n",
       " '_i16': \"# Execute our function\\n# note that it's only printing the output\\neven_odd(-1)\",\n",
       " '_16': 'odd',\n",
       " '_i17': \"# Execute our function\\n# note that it's only printing the output\\neven_odd(4)\",\n",
       " '_17': 'even',\n",
       " '_i18': \"# Execute our function\\n# note that it's only printing the output\\neven_odd(-1)\\neven_odd(4)\",\n",
       " '_18': 'even',\n",
       " '_i19': \"# Execute our function\\n# note that it's only printing the output\\nprint(even_odd(-1))\\nprint(even_odd(4))\",\n",
       " '_i20': \"# Execute our function\\n# note that it's only printing the output\\nout_1 = even_odd(-1)\\nout_2 = even_odd(4)\\n\\nprint(out_1, out_2)\",\n",
       " 'out_1': 'even',\n",
       " 'out_2': 'even',\n",
       " '_i21': \"# Execute our function\\n# note that it's only printing the output\\nout_1 = even_odd(-1)\\nout_1 = even_odd(4)\\n\\nprint(out_1)\",\n",
       " '_i22': 'def even_odd(my_list):\\n    out_list = []\\n    \\n    for val in my_list:\\n        if val % 2 == 0: \\n            out_list.append(\"even\")\\n        else: \\n            out_list.append(\"odd\")\\n        \\n    return out_list',\n",
       " '_i23': '# determine if a value is even or odd\\ndef even_odd(value): \\n    if value % 2 == 0: \\n        out = \"even\"\\n    else: \\n        out = \"odd\"\\n        \\n    return out',\n",
       " '_i24': 'def even_odd_list(my_list):\\n    out_list = []\\n    \\n    for val in my_list:\\n        if val % 2 == 0: \\n            out_list.append(\"even\")\\n        else: \\n            out_list.append(\"odd\")\\n        \\n    return out_list',\n",
       " 'even_odd_list': <function __main__.even_odd_list(my_list)>,\n",
       " '_i25': 'even_odd_list([1, 2, 5, 6])',\n",
       " '_25': ['odd', 'even', 'odd', 'even'],\n",
       " '_i26': 'list_to_use = [1, 2, 5, 6]\\neven_odd_list(list_to_use)',\n",
       " 'list_to_use': [1, 2, 5, 6],\n",
       " '_26': ['odd', 'even', 'odd', 'even'],\n",
       " '_i27': 'def remainder(number, divider):\\n    \\n    r = number % divider\\n   # w = number * divider\\n    \\n    return r',\n",
       " 'remainder': <function __main__.remainder(number, divider)>,\n",
       " '_i28': 'remainder(12, 5)',\n",
       " '_28': 2,\n",
       " '_i29': 'ans_1 = remainder(12, 5)\\nprint(ans_1)',\n",
       " 'ans_1': (2, 60),\n",
       " '_i30': 'ans_1 = remainder(12, 5)\\nans_2 = remainder(2, 2)\\n\\nprint(ans_1 + ans_2)',\n",
       " 'ans_2': (0, 4),\n",
       " '_i31': 'def remainder(number, divider):\\n    \\n    r = number % divider\\n    w = number * divider\\n    \\n    return r, w',\n",
       " '_i32': 'remainder(12, 5)',\n",
       " '_32': (2, 60),\n",
       " '_i33': 'val_1, val_2 = remainder(12, 5)\\nprint(val_1)\\nprint(val_2)',\n",
       " 'val_1': 2,\n",
       " 'val_2': 60,\n",
       " '_i34': 'val_1, val_2 = remainder(12, 5)\\nprint(val_1)\\nprint(val_2)\\n\\nval_1 + val_2',\n",
       " '_34': 62,\n",
       " '_i35': 'ans_1 = remainder(12, 5)\\nans_2 = remainder(2, 2)\\n\\nprint(ans_1 + ans_2)',\n",
       " '_i36': \"## YOUR CODE HERE\\ndef greet(name):\\n    output = 'Hello ' + name + ' Good morning!'\\n    return output\",\n",
       " 'greet': <function __main__.greet(name)>,\n",
       " '_i37': \"greet('COGS18 Students')\",\n",
       " '_37': 'Hello COGS18 Students Good morning!',\n",
       " '_i38': \"greet(name = 'COGS18 Students')\",\n",
       " '_38': 'Hello COGS18 Students Good morning!',\n",
       " '_i39': 'greet(name = Shannon)',\n",
       " '_i40': \"greet(name = 'Shannon')\",\n",
       " '_40': 'Hello Shannon Good morning!',\n",
       " '_i41': \"## YOUR CODE HERE\\ndef greet(name):\\n    print('Hello ' + name + ' Good morning!')\",\n",
       " '_i42': \"greet(name = 'COGS18 Students')\",\n",
       " '_i43': \"out_string = greet(name = 'COGS18 Students')\\nprint(out_string)\",\n",
       " 'out_string': 'Hello COGS18 Students Good morning!',\n",
       " '_i44': \"## YOUR CODE HERE\\ndef greet(name):\\n    output = 'Hello ' + name + ' Good morning!'\\n    return output\",\n",
       " '_i45': \"out_string = greet(name = 'COGS18 Students')\\nprint(out_string)\",\n",
       " '_i46': '# Remember, you can check defined variables with `%whos`\\n%whos',\n",
       " '_i47': 'def check_function_namespace(function_input):\\n    # Check what is defined and available inside the function\\n    local_values = locals()\\n    \\n    return local_values',\n",
       " 'check_function_namespace': <function __main__.check_function_namespace(function_input)>,\n",
       " '_i48': \"# Functions don't `see` everything\\ncheck_function_namespace(1)\",\n",
       " '_48': {'function_input': 1},\n",
       " '_i49': \"# Functions don't `see` everything\\ncheck_function_namespace(True)\",\n",
       " '_49': {'function_input': True},\n",
       " '_i50': '# using two different inputs to a function\\ndef check_function_namespace2(function_input, other_name):\\n    # Check what is defined and available inside the function\\n    local_values = locals()\\n    \\n    return local_values',\n",
       " 'check_function_namespace2': <function __main__.check_function_namespace2(function_input, other_name)>,\n",
       " '_i51': '# returning what each input is storing\\ncheck_function_namespace2(1, True)',\n",
       " '_51': {'function_input': 1, 'other_name': True},\n",
       " '_i52': \"a = 'string1'\\nb = 'string2'\\n\\na + b\",\n",
       " 'a': 'string1',\n",
       " 'b': 'string2',\n",
       " '_52': 'string1string2',\n",
       " '_i53': \"a = 'string1'\\nb = 'string2'\\n\\nprint(a + b)\\na + b\",\n",
       " '_53': 'string1string2',\n",
       " '_i54': \"a = 'string1'\\nb = 'string2'\\n\\nprint(a + b)\\nc = a + b\\nc\",\n",
       " 'c': 'string1string2',\n",
       " '_54': 'string1string2',\n",
       " '_i55': \"a = 'string1'\\nb = 'string2'\\n\\nprint(a + b)\\nc = a + b\\nprint(c)\",\n",
       " '_i56': \"a = 'string1'\\nb = 'string2'\\n\\nprint(a + b)\\nc = a + b\\nc\",\n",
       " '_56': 'string1string2',\n",
       " '_i57': 'locals()'}"
      ]
     },
     "execution_count": 57,
     "metadata": {},
     "output_type": "execute_result"
    }
   ],
   "source": [
    "locals()"
   ]
  },
  {
   "cell_type": "code",
   "execution_count": 66,
   "metadata": {},
   "outputs": [],
   "source": [
    "range?"
   ]
  },
  {
   "cell_type": "code",
   "execution_count": 1,
   "metadata": {
    "slideshow": {
     "slide_type": "fragment"
    }
   },
   "outputs": [],
   "source": [
    "def check_function_namespace(function_input):\n",
    "    # Check what is defined and available inside the function\n",
    "    local_values = locals()\n",
    "    \n",
    "    return local_values"
   ]
  },
  {
   "cell_type": "code",
   "execution_count": 2,
   "metadata": {
    "slideshow": {
     "slide_type": "fragment"
    }
   },
   "outputs": [
    {
     "data": {
      "text/plain": [
       "{'function_input': 1, 'a': 5}"
      ]
     },
     "execution_count": 2,
     "metadata": {},
     "output_type": "execute_result"
    }
   ],
   "source": [
    "# Functions don't `see` everything\n",
    "check_function_namespace(1)"
   ]
  },
  {
   "cell_type": "code",
   "execution_count": 49,
   "metadata": {
    "slideshow": {
     "slide_type": "fragment"
    }
   },
   "outputs": [
    {
     "data": {
      "text/plain": [
       "{'function_input': True}"
      ]
     },
     "execution_count": 49,
     "metadata": {},
     "output_type": "execute_result"
    }
   ],
   "source": [
    "# Functions don't `see` everything\n",
    "check_function_namespace(True)"
   ]
  },
  {
   "cell_type": "code",
   "execution_count": 50,
   "metadata": {
    "slideshow": {
     "slide_type": "fragment"
    }
   },
   "outputs": [],
   "source": [
    "# using two different inputs to a function\n",
    "def check_function_namespace2(function_input, other_name):\n",
    "    # Check what is defined and available inside the function\n",
    "    local_values = locals()\n",
    "    \n",
    "    return local_values"
   ]
  },
  {
   "cell_type": "code",
   "execution_count": 51,
   "metadata": {
    "slideshow": {
     "slide_type": "fragment"
    }
   },
   "outputs": [
    {
     "data": {
      "text/plain": [
       "{'function_input': 1, 'other_name': True}"
      ]
     },
     "execution_count": 51,
     "metadata": {},
     "output_type": "execute_result"
    }
   ],
   "source": [
    "# returning what each input is storing\n",
    "check_function_namespace2(1, True)"
   ]
  },
  {
   "cell_type": "markdown",
   "metadata": {
    "slideshow": {
     "slide_type": "slide"
    }
   },
   "source": [
    "## Function Namespaces III\n",
    "\n",
    "Names defined inside a function only exist within the function."
   ]
  },
  {
   "cell_type": "code",
   "execution_count": null,
   "metadata": {
    "slideshow": {
     "slide_type": "fragment"
    }
   },
   "outputs": [],
   "source": [
    "# Names used inside a function are independent of those used outside\n",
    "# variables defined outside of functions are global variables\n",
    "# global variables are always available\n",
    "my_var = 'I am a variable'\n",
    "\n",
    "check_function_namespace(my_var)\n",
    "\n",
    "print(my_var)"
   ]
  },
  {
   "cell_type": "markdown",
   "metadata": {
    "slideshow": {
     "slide_type": "slide"
    }
   },
   "source": [
    "### Function - Execution Order"
   ]
  },
  {
   "cell_type": "code",
   "execution_count": null,
   "metadata": {
    "slideshow": {
     "slide_type": "fragment"
    }
   },
   "outputs": [],
   "source": [
    "def change_var(my_var):\n",
    "    my_var = 'I am something else'\n",
    "    print('Inside function: \\t\\t', my_var)"
   ]
  },
  {
   "cell_type": "code",
   "execution_count": null,
   "metadata": {
    "slideshow": {
     "slide_type": "fragment"
    }
   },
   "outputs": [],
   "source": [
    "# my_var in the global namespace\n",
    "my_var"
   ]
  },
  {
   "cell_type": "code",
   "execution_count": null,
   "metadata": {
    "slideshow": {
     "slide_type": "fragment"
    }
   },
   "outputs": [],
   "source": [
    "# my_var within the function\n",
    "change_var(my_var)"
   ]
  },
  {
   "cell_type": "code",
   "execution_count": null,
   "metadata": {
    "slideshow": {
     "slide_type": "fragment"
    }
   },
   "outputs": [],
   "source": [
    "# my_var in the global namespace remains unchanged\n",
    "my_var "
   ]
  },
  {
   "cell_type": "code",
   "execution_count": null,
   "metadata": {
    "scrolled": false,
    "slideshow": {
     "slide_type": "fragment"
    }
   },
   "outputs": [],
   "source": [
    "print('Outside, before function: \\t', my_var)\n",
    "change_var(my_var)\n",
    "print('Outside, after function: \\t', my_var)"
   ]
  }
 ],
 "metadata": {
  "celltoolbar": "Slideshow",
  "kernelspec": {
   "display_name": "Python 3",
   "language": "python",
   "name": "python3"
  },
  "language_info": {
   "codemirror_mode": {
    "name": "ipython",
    "version": 3
   },
   "file_extension": ".py",
   "mimetype": "text/x-python",
   "name": "python",
   "nbconvert_exporter": "python",
   "pygments_lexer": "ipython3",
   "version": "3.7.9"
  },
  "rise": {
   "scroll": true
  }
 },
 "nbformat": 4,
 "nbformat_minor": 2
}
