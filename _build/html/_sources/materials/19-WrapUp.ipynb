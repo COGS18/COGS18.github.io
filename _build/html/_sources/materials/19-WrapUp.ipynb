{
 "cells": [
  {
   "cell_type": "markdown",
   "metadata": {
    "slideshow": {
     "slide_type": "slide"
    }
   },
   "source": [
    "**Course Announcements**\n",
    "\n",
    "**Due Dates**\n",
    "- **CL8** due tonight \n",
    "- **A5** due Fri 3/11\n",
    "- **[Post course survey](https://docs.google.com/forms/d/e/1FAIpQLSdhZfW5qvAgunT8nTcm1I3Rnq4wxWK58kaOAKLuufOOdeasiA/viewform?usp=sf_link)** due (for EC) Mon 3/14 (link also on canvas)\n",
    "- **Final exam/project** due Mon 3/14\n",
    "\n",
    " \n",
    "Notes:\n",
    "- Please fill out your [CAPEs](https://cape.ucsd.edu/)! (+1% if >=85% of the class completes; currently: ~56%)\n",
    "- Final Exam:\n",
    "    - Practice Exam answer key available on datahub\n",
    "    - Final Exam released noon today (Friday)\n",
    "- Final Project: \n",
    "    - last minute questions; 10 min slots, by appt only; Mon 10-11AM; 2-4PM [sign up](https://calendly.com/sellis-ucsd/cogs-oh-prof-ellis) - in person OR via zoom\n",
    "    - [GitHub EC](https://docs.google.com/forms/d/e/1FAIpQLSeamMJOQZ0RpSGmqbxQeGD1loP6AaGPniXcq5XZOBbrDZQ2iQ/viewform?usp=sf_link) (link also on Canvas)\n"
   ]
  },
  {
   "cell_type": "markdown",
   "metadata": {
    "slideshow": {
     "slide_type": "notes"
    }
   },
   "source": [
    "**Q&A**\n",
    "\n",
    "Q: If I have received full credit on all my previous coding labs, do I need to do CL8(since the lowest coding lab grade is dropped)? I'm very overwhelmed with finals and midterms, so I wanted to check.  \n",
    "A: Nope - you don't have to do it. Lowest will be dropped, so you can skip it...but do glance at the answer key to ensure you know/understand the material.\n",
    "\n",
    "Q: Can I assume that the user will follow my instructions or do i have to account for other answers? (ie. I tell the user to type one of two options, but they type something else - should I have another return statement for that scenario?)  \n",
    "A: You can assume (for this class!) that we will follow your instructions. However, to improve/strengthen code, it's *best* (but not required) to consider other possibilities.\n",
    "\n",
    "Q: Is it better to write test functions before writing the actual code?  \n",
    "A: Most people would argue yes (and in most cases I would agree).\n",
    "\n",
    "Q: I am still considering the final project. Therefore, I wanted to specify if the final project, since it has to include many specific features, has to be sort of like a game or can it be anything that someone else can be interactive with other than a game?   \n",
    "A: It's *very* open-ended....so it could be a game, it could be something else interactive, or it may not be interactive at all!\n",
    "\n",
    "\n",
    "Q: I have just barely started my project and need to overall just spend more time on it, but I am still a little confused on how you are defining original code and how much we need  \n",
    "A: If you sit down and plan out three functions/methods (that's the minimum requirement) and then write that code, you can be confident it's original. Examples of what's not original: code you copy + pasted from the internet, code from a previous assignment, code your friend wrote, etc.\n",
    "\n",
    "Q: For docstrings, is it only to document parameters and return? (Do we not mention if & else conditions, for example)  \n",
    "A: Correct. It documents inputs and outputs (parameters and returns). We don't explain conditionals, etc. b/c we're not describing the inner workings of the code...just how to use the code/what it does.\n",
    "\n",
    "Q: I'm still a little bit confused about what our test functions should look like. I mean like, what are we expected to include to get full credit  \n",
    "A: You are expected to include a few `assert` statements within a test function that *test the functionality of your code* ...so these `assert` statements should pass silently if your code is doing what you expected...but should NOT pass silently if your code is NOT doing what you expected."
   ]
  },
  {
   "cell_type": "markdown",
   "metadata": {
    "slideshow": {
     "slide_type": "slide"
    }
   },
   "source": [
    "# Wrap Up"
   ]
  },
  {
   "cell_type": "markdown",
   "metadata": {
    "collapsed": true,
    "slideshow": {
     "slide_type": "slide"
    }
   },
   "source": [
    "## The Goal"
   ]
  },
  {
   "cell_type": "markdown",
   "metadata": {
    "slideshow": {
     "slide_type": "fragment"
    }
   },
   "source": [
    "To teach you a skill - of how to do things with Python."
   ]
  },
  {
   "cell_type": "markdown",
   "metadata": {
    "slideshow": {
     "slide_type": "fragment"
    }
   },
   "source": [
    "You've been more formally trained than *many* people out in the world programming."
   ]
  },
  {
   "cell_type": "markdown",
   "metadata": {
    "slideshow": {
     "slide_type": "slide"
    }
   },
   "source": [
    "## Where We've Been:\n",
    "\n",
    "- Python & Jupyter\n",
    "- Variables\n",
    "- Operators\n",
    "- Conditionals\n",
    "- Functions\n",
    "- Lists, Tuples & Dictionaries\n",
    "- Loops\n",
    "- Objects & Classes\n",
    "- Command Line\n",
    "- Scientific Computing\n",
    "- Documentation, Code Style, Code Testing"
   ]
  },
  {
   "cell_type": "markdown",
   "metadata": {
    "slideshow": {
     "slide_type": "slide"
    }
   },
   "source": [
    "#### Clicker Question #1\n",
    "\n",
    "After COGS 18, I feel \\_\\_\\_\\_\\_\\_\\_\\_\\_\\_\\_\\_ my Python programming abilities\n",
    "\n",
    "- A) very confident in\n",
    "- B) somewhat confident in\n",
    "- C) middle-of-the-road about\n",
    "- D) somewhat unsure about\n",
    "- E) very unsure about\n"
   ]
  },
  {
   "cell_type": "markdown",
   "metadata": {
    "slideshow": {
     "slide_type": "slide"
    }
   },
   "source": [
    "#### Clicker Question #2\n",
    "\n",
    "After COGS 18, I feel the following about my future Python programming:\n",
    "\n",
    "- A) will use again for sure\n",
    "- B) may use again\n",
    "- C) unsure if will use again\n",
    "- D) probably won't use again\n",
    "- E) definitely won't use again\n"
   ]
  },
  {
   "cell_type": "markdown",
   "metadata": {
    "slideshow": {
     "slide_type": "slide"
    }
   },
   "source": [
    "## How to Continue with Coding"
   ]
  },
  {
   "cell_type": "markdown",
   "metadata": {
    "slideshow": {
     "slide_type": "fragment"
    }
   },
   "source": [
    "- Write Code\n",
    "- Read Code\n",
    "- Learn and follow standard procedures\n",
    "- Do code reviews\n",
    "- Interact with the community\n",
    "- Build a code portfolio"
   ]
  },
  {
   "cell_type": "markdown",
   "metadata": {
    "slideshow": {
     "slide_type": "slide"
    }
   },
   "source": [
    "## Powered by Python"
   ]
  },
  {
   "cell_type": "markdown",
   "metadata": {
    "slideshow": {
     "slide_type": "fragment"
    }
   },
   "source": [
    "This course used:\n",
    "- Python Programming Language\n",
    "- Jupyter Notebooks\n",
    "- RISE Jupyter Slides\n",
    "- nbgrader\n",
    "- Jupyter Book\n",
    "- scipy stack & many other 3rd party modules"
   ]
  },
  {
   "cell_type": "markdown",
   "metadata": {
    "slideshow": {
     "slide_type": "slide"
    }
   },
   "source": [
    "## Where do you go from here"
   ]
  },
  {
   "cell_type": "markdown",
   "metadata": {
    "slideshow": {
     "slide_type": "fragment"
    }
   },
   "source": [
    "- if want_more_data_science:\n",
    "    - go to COGS 9\n",
    "- if you want *to do* more_data_science:\n",
    "    - ...*and* Python: take COGS 108\n",
    "    - ...*and* R: take COGS 137\n",
    "    - ...*and* machine learning: COGS 118 series\n",
    "- if interested_in_research:\n",
    "    - look for labs, tell them you can code\n",
    "- if you want_something_else:\n",
    "    - go do it!"
   ]
  },
  {
   "cell_type": "markdown",
   "metadata": {
    "slideshow": {
     "slide_type": "slide"
    }
   },
   "source": [
    "## Acknowledgments"
   ]
  },
  {
   "cell_type": "markdown",
   "metadata": {
    "slideshow": {
     "slide_type": "fragment"
    }
   },
   "source": [
    "Thank you to Tom for his original design of this course."
   ]
  },
  {
   "cell_type": "markdown",
   "metadata": {
    "slideshow": {
     "slide_type": "fragment"
    }
   },
   "source": [
    "Thank you to the TAs & IAs for their tireless work on this class."
   ]
  },
  {
   "cell_type": "markdown",
   "metadata": {
    "slideshow": {
     "slide_type": "fragment"
    }
   },
   "source": [
    "Thank you students for you time, effort and patience. "
   ]
  },
  {
   "cell_type": "markdown",
   "metadata": {
    "slideshow": {
     "slide_type": "fragment"
    }
   },
   "source": [
    "It's been a weird ~quarter~ two years, and for many, things are tough. Please, take care of yourself."
   ]
  },
  {
   "cell_type": "markdown",
   "metadata": {
    "collapsed": true,
    "slideshow": {
     "slide_type": "slide"
    }
   },
   "source": [
    "<center><h1> The End "
   ]
  }
 ],
 "metadata": {
  "celltoolbar": "Slideshow",
  "kernelspec": {
   "display_name": "Python 3 (ipykernel)",
   "language": "python",
   "name": "python3"
  },
  "language_info": {
   "codemirror_mode": {
    "name": "ipython",
    "version": 3
   },
   "file_extension": ".py",
   "mimetype": "text/x-python",
   "name": "python",
   "nbconvert_exporter": "python",
   "pygments_lexer": "ipython3",
   "version": "3.9.7"
  },
  "rise": {
   "scroll": true
  }
 },
 "nbformat": 4,
 "nbformat_minor": 2
}
