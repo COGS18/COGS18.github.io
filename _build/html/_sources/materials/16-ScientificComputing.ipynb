{
 "cells": [
  {
   "cell_type": "markdown",
   "metadata": {
    "slideshow": {
     "slide_type": "slide"
    }
   },
   "source": [
    "**Course Announcements**\n",
    "\n",
    "**Due Dates**\n",
    "- **CL8** now available; due Wednesday - this is your final CL to submit\n",
    "- **A5** now available; due Friday of week 10 (12/3) - canvas/syllabus have been updated\n",
    "- **Final exam/project** due Mon of Finals week (12/6; 11:59 PM)\n",
    "\n",
    "**Notes**\n",
    "- CL7 scores posted \n",
    "- E2 scores to be finalized posted (hopefully) later today; tomorrow at latest; will discuss in class Wed.\n",
    "- No class, office hours, or coding lab next Wed-Fri\n",
    "- Final Exam will be released Friday afternoon of week 10"
   ]
  },
  {
   "cell_type": "markdown",
   "metadata": {
    "slideshow": {
     "slide_type": "notes"
    }
   },
   "source": [
    "**Q&A**\n",
    "\n",
    "Q: Will the final exam be analogous to an assignment in which were instructed how to make chat bots etc.  \n",
    "A: The final exam wil be similar to an assignment; however, there will be additional files involved (module, test file, etc.) to focus on what we're discussing these final weeks in the course.\n",
    "\n",
    "Q: Are we allowed to use certain dictionaries defined online? For example, if we want a dictionary of all the nba players, would it be ok to just copy and paste one online?  \n",
    "A: Yes, but you must cite where it came from (i.e. provide the URL to the original data)\n",
    "\n",
    "Q: Could I make a short questionnaire of questions for my final project?  \n",
    "A: Yes\n",
    "\n",
    "Q: If I’m only semi-confident with my project but also semi-confident in the exam, what questions should I ask myself to see which one I should go for if I have the same level of confidence for each?  \n",
    "A: Give the project a go now and see if you can do it! \n",
    "\n",
    "Q: Will we be able to schedule one-on-one meetings with Professor Ellis or the TAs for help with the final project?  \n",
    "A: Office hours and coding lab week 10 will be the best place for questions. Prof Ellis will likely hold some appt. only 10min meetings right before the deadline for last minute questions. Staff are not required to hold additional office hours, but some may choose to do so.\n",
    "\n",
    "Q: What is the average score for the people who choose to do the project? I'm not very confident in my coding abilities, and I don't know if its worth me stressing over not how to do the project. I just want to choose the option that will set me up for success.  \n",
    "A: The project average tends to be quite high (~90); the exam tends to be slightly lower than that (~85), but remember that many of the students who are more comfortable with the material choose the project.\n",
    "\n",
    "Q: I want to make sure that the project like the assignments we will get 100% as long as we complete all of the parameters. I know the projects presented today were advanced but I am wondering if i do the 3/3 methods etc.. (i forget the rubric but whatever it says there) will i get full points?  \n",
    "A: Yup - even if it's simple, you can get full credit.\n",
    "\n",
    "Q: What is the main purpose of importing modules?  \n",
    "A: To give you access to additional functionality without having to write all the code yourself.\n",
    "\n",
    "Q: Are the TA's/IA's and professor able to help with coding issues for the project? As in helping the student figure out how to fix a particular issue with their code?   \n",
    "A: Yup.\n",
    "\n",
    "Q: is a folder on datahub the same as creating a new directory?  \n",
    "A: Yes.\n",
    "\n",
    "Q: For the final Project, do we have to get the project running or can we try our best to create this 'project'?  \n",
    "A: A non-functioning project will get some but not all credit.\n",
    "\n",
    "Q: I can’t find artificial agents lecture   \n",
    "A: There was no artificial agents lecture. Classes are what A5 focuses on.\n",
    "\n",
    "Q: Can we do the exam and the project?  \n",
    "A: Yes, but you can only submit one. If you submit both, I will post the lower score as your final grade (we have a LOT of grading to do, thus this policy).\n",
    "\n",
    "Q: Will there be a rubric for the project? Is there a set amount of tasks our code needs to run?  \n",
    "A: See overview/project documentation provided.\n",
    "\n",
    "Q: I am unsure about to the extent students can work together on the project. If a friend and I have totally different projects, but I have a question about a part of my code, am I allowed to discuss with my friend?   \n",
    "A: Yup!\n",
    "\n",
    "Q: Just wanted to confirm, as written in the overview file, we need to comment that if our codes are from the Internet and student cooperation. So do we have to write comments for the codes from our homework?  \n",
    "A: Yes if from the internet; no if from the homework.\n",
    "\n",
    "Q: If these homework codes were once written by ourselves, would they be graded?  \n",
    "A: Not if we told you what to write. These original functions must be designed and written by you.\n",
    "\n",
    "Q: I intend to choose the Encryption project, and we are required to integrate the email function by Python. Currently, I have implemented it and modified some basic codes by constructing a class. However, most codes are nearly the same in this kind of email function, and we haven't learned it; we have to learn it by ourselves and then imitate the codes. So assume we modified and understood the codes, do we still have to annotate that these codes are cited, and will they be graded?  \n",
    "A: I'm not sure I understand - let's discuss in office hours?\n",
    "\n",
    "Q: You mentioned that students will loose access to the class material after the course is over. Is there a way that students can import all of the class materials into Anaconda so we can use them for future reference?  \n",
    "A: Yes! I will post a how to video on campuswire at the end of the course to get everything off of datahub."
   ]
  },
  {
   "cell_type": "markdown",
   "metadata": {
    "slideshow": {
     "slide_type": "slide"
    }
   },
   "source": [
    "# Scientific Computing"
   ]
  },
  {
   "cell_type": "markdown",
   "metadata": {
    "slideshow": {
     "slide_type": "-"
    }
   },
   "source": [
    "<div class=\"alert alert-success\">\n",
    "<b>Scientific Computing</b> is the application of computer programming to scientific applications: data analysis, simulation & modelling, plotting, etc. \n",
    "</div>"
   ]
  },
  {
   "cell_type": "markdown",
   "metadata": {
    "slideshow": {
     "slide_type": "slide"
    }
   },
   "source": [
    "## Scientific Python: Scipy Stack\n",
    "\n",
    "Scipy = Scientific Python\n",
    "\n",
    "- `scipy`\n",
    "- `numpy`\n",
    "- `pandas`\n",
    "- Data Analysis in Python"
   ]
  },
  {
   "cell_type": "markdown",
   "metadata": {
    "slideshow": {
     "slide_type": "-"
    }
   },
   "source": [
    "<div class=\"alert alert-success\">\n",
    "<b><code>Scipy</code></b> is an <i>ecosystem</i>, including a collection of open-source packages for scientific computing in Python.\n",
    "</div>"
   ]
  },
  {
   "cell_type": "markdown",
   "metadata": {
    "slideshow": {
     "slide_type": "-"
    }
   },
   "source": [
    "A 'family' of packages that all work well together to do scientific computing.\n",
    "\n",
    "Not made by the same people who manage the standard library."
   ]
  },
  {
   "cell_type": "markdown",
   "metadata": {
    "collapsed": true,
    "slideshow": {
     "slide_type": "slide"
    }
   },
   "source": [
    "## Homogenous Data\n",
    "\n",
    "- for example: store data of the same type (i.e. all numerics)\n",
    "- recordings of values from experimental participants\n",
    "- heights or quantitative information from survey data"
   ]
  },
  {
   "cell_type": "markdown",
   "metadata": {},
   "source": [
    "Lists are a start, and lists of lists are possible.\n",
    "\n",
    "But, they can get nightmareish.\n",
    "\n",
    "So we use arrays."
   ]
  },
  {
   "cell_type": "markdown",
   "metadata": {
    "slideshow": {
     "slide_type": "slide"
    }
   },
   "source": [
    "### `numpy`\n",
    "\n",
    "**`numpy`** - stands for numerical python"
   ]
  },
  {
   "cell_type": "markdown",
   "metadata": {
    "slideshow": {
     "slide_type": "fragment"
    }
   },
   "source": [
    "**arrays** - work with arrays (matrices)\n",
    "\n",
    "Allow you to efficiently operate on arrays (linear algebra, matrix operations, etc.)"
   ]
  },
  {
   "cell_type": "code",
   "execution_count": null,
   "metadata": {
    "slideshow": {
     "slide_type": "fragment"
    }
   },
   "outputs": [],
   "source": [
    "import numpy as np"
   ]
  },
  {
   "cell_type": "code",
   "execution_count": null,
   "metadata": {
    "slideshow": {
     "slide_type": "fragment"
    }
   },
   "outputs": [],
   "source": [
    "# Create some arrays of data\n",
    "arr0 = np.array([1, 2, 3])\n",
    "arr1 = np.array([[1, 2], [3, 4]])\n",
    "arr2 = np.array([[5, 6], [7, 8]])"
   ]
  },
  {
   "cell_type": "code",
   "execution_count": null,
   "metadata": {
    "slideshow": {
     "slide_type": "fragment"
    }
   },
   "outputs": [],
   "source": [
    "arr1"
   ]
  },
  {
   "cell_type": "code",
   "execution_count": null,
   "metadata": {
    "slideshow": {
     "slide_type": "slide"
    }
   },
   "outputs": [],
   "source": [
    "# lists of lists don't store dimensionality well\n",
    "[[1, 2], [3, 4]] "
   ]
  },
  {
   "cell_type": "markdown",
   "metadata": {
    "slideshow": {
     "slide_type": "slide"
    }
   },
   "source": [
    "#### Arrays: attributes, methods, & indexing"
   ]
  },
  {
   "cell_type": "code",
   "execution_count": null,
   "metadata": {
    "slideshow": {
     "slide_type": "fragment"
    }
   },
   "outputs": [],
   "source": [
    "# Check out an array of data\n",
    "arr1"
   ]
  },
  {
   "cell_type": "markdown",
   "metadata": {
    "slideshow": {
     "slide_type": "fragment"
    }
   },
   "source": [
    "`numpy` arrays are an object type...so they have associated attributes (below) and methods (we'll get to these in a second)!"
   ]
  },
  {
   "cell_type": "code",
   "execution_count": null,
   "metadata": {
    "slideshow": {
     "slide_type": "fragment"
    }
   },
   "outputs": [],
   "source": [
    "# Check the shape of the array\n",
    "arr1.shape"
   ]
  },
  {
   "cell_type": "code",
   "execution_count": null,
   "metadata": {
    "slideshow": {
     "slide_type": "fragment"
    }
   },
   "outputs": [],
   "source": [
    "# Index into a numpy array\n",
    "arr1[0, 0]"
   ]
  },
  {
   "cell_type": "markdown",
   "metadata": {
    "slideshow": {
     "slide_type": "fragment"
    }
   },
   "source": [
    "Working with N-dimensional (multidimensional) arrays is easy within `numpy`."
   ]
  },
  {
   "cell_type": "markdown",
   "metadata": {
    "slideshow": {
     "slide_type": "slide"
    }
   },
   "source": [
    "#### Notes on Arrays"
   ]
  },
  {
   "cell_type": "code",
   "execution_count": null,
   "metadata": {
    "slideshow": {
     "slide_type": "fragment"
    }
   },
   "outputs": [],
   "source": [
    "# arrays are most helpful when they\n",
    "# have the same length in each list\n",
    "np.array([[1, 2, 3, 4], [2, 3, 4]])"
   ]
  },
  {
   "cell_type": "code",
   "execution_count": null,
   "metadata": {
    "slideshow": {
     "slide_type": "fragment"
    }
   },
   "outputs": [],
   "source": [
    "# arrays are meant to store homogeneous data\n",
    "np.array([[1, 2, 'cogs18'], [2, 3, 4]])"
   ]
  },
  {
   "cell_type": "markdown",
   "metadata": {
    "slideshow": {
     "slide_type": "slide"
    }
   },
   "source": [
    "#### Working with Arrays\n",
    "\n",
    "(Things you can't do with lists)"
   ]
  },
  {
   "cell_type": "code",
   "execution_count": null,
   "metadata": {
    "slideshow": {
     "slide_type": "fragment"
    }
   },
   "outputs": [],
   "source": [
    "# Add arrays together\n",
    "arr1 + arr2"
   ]
  },
  {
   "cell_type": "code",
   "execution_count": null,
   "metadata": {
    "slideshow": {
     "slide_type": "fragment"
    }
   },
   "outputs": [],
   "source": [
    "# Matrix mutliplication\n",
    "arr1 * arr2"
   ]
  },
  {
   "cell_type": "markdown",
   "metadata": {
    "slideshow": {
     "slide_type": "slide"
    }
   },
   "source": [
    "#### A brief aside: `zip()`"
   ]
  },
  {
   "cell_type": "markdown",
   "metadata": {},
   "source": [
    "`zip()` takes two iterables (things you can loop over) and loop over them together."
   ]
  },
  {
   "cell_type": "code",
   "execution_count": null,
   "metadata": {
    "slideshow": {
     "slide_type": "fragment"
    }
   },
   "outputs": [],
   "source": [
    "for a, b in zip([1,2], ['a','b']):\n",
    "    print(a, b)"
   ]
  },
  {
   "cell_type": "markdown",
   "metadata": {
    "collapsed": true,
    "slideshow": {
     "slide_type": "slide"
    }
   },
   "source": [
    "#### Clicker Question #1\n",
    "\n",
    "Given the following code, what will it print out?"
   ]
  },
  {
   "cell_type": "code",
   "execution_count": null,
   "metadata": {
    "slideshow": {
     "slide_type": "fragment"
    }
   },
   "outputs": [],
   "source": [
    "data = np.array([[1, 2, 3, 4],\n",
    "                 [5, 6, 7, 8]])\n",
    " \n",
    "output = []\n",
    "for d1, d2 in zip(data[0, :], data[1, :]):\n",
    "    output.append(d1 + d2)\n",
    "\n",
    "print(output)"
   ]
  },
  {
   "cell_type": "markdown",
   "metadata": {
    "collapsed": true,
    "slideshow": {
     "slide_type": "fragment"
    }
   },
   "source": [
    "- A) [1, 2, 3, 4]\n",
    "- B) [1, 2, 3, 4, 5, 6, 7, 8]\n",
    "- C) [6, 8, 10, 12]\n",
    "- D) [10, 26]\n",
    "- E) [36]"
   ]
  },
  {
   "cell_type": "markdown",
   "metadata": {
    "slideshow": {
     "slide_type": "slide"
    }
   },
   "source": [
    "Note that if you find yourself looping over arrays...there is probably a better way."
   ]
  },
  {
   "cell_type": "code",
   "execution_count": null,
   "metadata": {
    "slideshow": {
     "slide_type": "fragment"
    }
   },
   "outputs": [],
   "source": [
    "# sum method\n",
    "# by default sums all values in array\n",
    "data.sum()"
   ]
  },
  {
   "cell_type": "code",
   "execution_count": null,
   "metadata": {
    "slideshow": {
     "slide_type": "fragment"
    }
   },
   "outputs": [],
   "source": [
    "# sum method\n",
    "# has an axis parameter\n",
    "# axis=0 sums across columns\n",
    "data.sum(axis=0)"
   ]
  },
  {
   "cell_type": "code",
   "execution_count": null,
   "metadata": {
    "slideshow": {
     "slide_type": "fragment"
    }
   },
   "outputs": [],
   "source": [
    "# typecasting to a different variable type\n",
    "out_list = data.sum(axis=0).tolist()\n",
    "print(out_list)\n",
    "type(out_list)"
   ]
  },
  {
   "cell_type": "markdown",
   "metadata": {
    "slideshow": {
     "slide_type": "fragment"
    }
   },
   "source": [
    "What if you wanted to find the max value in an array...there's a method for that!"
   ]
  },
  {
   "cell_type": "code",
   "execution_count": null,
   "metadata": {
    "slideshow": {
     "slide_type": "-"
    }
   },
   "outputs": [],
   "source": [
    "# find max value in array\n",
    "max_val = data.max()\n",
    "max_val"
   ]
  },
  {
   "cell_type": "markdown",
   "metadata": {
    "slideshow": {
     "slide_type": "fragment"
    }
   },
   "source": [
    "But what if you wanted to know not what the max value was...but where in your original array that value was found. \n",
    "\n",
    "There are also *functions* in `numpy` that operate on arrays. "
   ]
  },
  {
   "cell_type": "code",
   "execution_count": null,
   "metadata": {
    "slideshow": {
     "slide_type": "slide"
    }
   },
   "outputs": [],
   "source": [
    "# see documentation for np.where()\n",
    "np.where?"
   ]
  },
  {
   "cell_type": "code",
   "execution_count": null,
   "metadata": {
    "slideshow": {
     "slide_type": "fragment"
    }
   },
   "outputs": [],
   "source": [
    "# find position in array with max value\n",
    "out = np.where(data == max_val)\n",
    "out"
   ]
  },
  {
   "cell_type": "code",
   "execution_count": null,
   "metadata": {
    "slideshow": {
     "slide_type": "fragment"
    }
   },
   "outputs": [],
   "source": [
    "# check to be sure\n",
    "data[1,3]"
   ]
  },
  {
   "cell_type": "markdown",
   "metadata": {
    "slideshow": {
     "slide_type": "slide"
    }
   },
   "source": [
    "## Heterogenous Data\n",
    "\n",
    "- have continuous (numeric) and categorical (discrete) data\n",
    "- different data types need to be stored\n",
    "- uses a DataFrame object (think: spreadsheet)\n",
    "- allows for column and row labels"
   ]
  },
  {
   "cell_type": "markdown",
   "metadata": {
    "slideshow": {
     "slide_type": "fragment"
    }
   },
   "source": [
    "### pandas"
   ]
  },
  {
   "cell_type": "markdown",
   "metadata": {
    "slideshow": {
     "slide_type": "-"
    }
   },
   "source": [
    "Pandas is Python library for managing heterogenous data.\n",
    "\n",
    "At it's core, Pandas is built around the **DataFrame** object, which is:\n",
    "- a data structure for labeled rows and columns of data\n",
    "- associated methods and utilities for working with data.\n",
    "- each column contains a `pandas` **Series**"
   ]
  },
  {
   "cell_type": "code",
   "execution_count": null,
   "metadata": {
    "slideshow": {
     "slide_type": "fragment"
    }
   },
   "outputs": [],
   "source": [
    "import pandas as pd"
   ]
  },
  {
   "cell_type": "code",
   "execution_count": null,
   "metadata": {
    "slideshow": {
     "slide_type": "fragment"
    }
   },
   "outputs": [],
   "source": [
    "# Create some example heterogenous data\n",
    "d1 = {'Subj_ID': '001', 'score': 16, 'group' : 2, 'condition': 'cognition'}\n",
    "d2 = {'Subj_ID': '002', 'score': 22, 'group' : 1, 'condition': 'perception'}\n",
    "d3 = {'Subj_ID': '003', 'score': 18, 'group' : 1, 'condition': 'perception'}"
   ]
  },
  {
   "cell_type": "code",
   "execution_count": null,
   "metadata": {
    "slideshow": {
     "slide_type": "fragment"
    }
   },
   "outputs": [],
   "source": [
    "# Create a dataframe \n",
    "df = pd.DataFrame([d1, d2, d3], [0, 1, 2])"
   ]
  },
  {
   "cell_type": "code",
   "execution_count": null,
   "metadata": {
    "scrolled": false,
    "slideshow": {
     "slide_type": "slide"
    }
   },
   "outputs": [],
   "source": [
    "# Check out the dataframe\n",
    "df"
   ]
  },
  {
   "cell_type": "code",
   "execution_count": null,
   "metadata": {
    "scrolled": true,
    "slideshow": {
     "slide_type": "fragment"
    }
   },
   "outputs": [],
   "source": [
    "# You can index in pandas\n",
    "# columns store information in series\n",
    "df['condition']"
   ]
  },
  {
   "cell_type": "code",
   "execution_count": null,
   "metadata": {
    "scrolled": false,
    "slideshow": {
     "slide_type": "fragment"
    }
   },
   "outputs": [],
   "source": [
    "# You can index in pandas\n",
    "# loc specifies row, column position\n",
    "df.loc[0,:]"
   ]
  },
  {
   "cell_type": "code",
   "execution_count": null,
   "metadata": {
    "slideshow": {
     "slide_type": "fragment"
    }
   },
   "outputs": [],
   "source": [
    "# attribute of df object\n",
    "# row, columns\n",
    "df.shape"
   ]
  },
  {
   "cell_type": "markdown",
   "metadata": {
    "slideshow": {
     "slide_type": "slide"
    }
   },
   "source": [
    "#### Working with DataFrames\n",
    "\n",
    "There are *a lot* of functions and methods within `pandas`. The general syntax is `df.method()` where the `method()` operates directly on the dataframe `df`."
   ]
  },
  {
   "cell_type": "code",
   "execution_count": null,
   "metadata": {
    "slideshow": {
     "slide_type": "fragment"
    }
   },
   "outputs": [],
   "source": [
    "# calculate summary statistics\n",
    "df.describe()"
   ]
  },
  {
   "cell_type": "code",
   "execution_count": null,
   "metadata": {
    "slideshow": {
     "slide_type": "fragment"
    }
   },
   "outputs": [],
   "source": [
    "# Take the average of all numeric columns\n",
    "df.mean()"
   ]
  },
  {
   "cell_type": "code",
   "execution_count": null,
   "metadata": {
    "slideshow": {
     "slide_type": "fragment"
    }
   },
   "outputs": [],
   "source": [
    "# breakdown of how many of each category there are\n",
    "val_counts = df['condition'].value_counts()\n",
    "val_counts"
   ]
  },
  {
   "cell_type": "code",
   "execution_count": null,
   "metadata": {
    "slideshow": {
     "slide_type": "fragment"
    }
   },
   "outputs": [],
   "source": [
    "# which unique values are there in condition? \n",
    "df['condition'].unique()"
   ]
  },
  {
   "cell_type": "code",
   "execution_count": null,
   "metadata": {
    "slideshow": {
     "slide_type": "fragment"
    }
   },
   "outputs": [],
   "source": [
    "# how many unique values are there\n",
    "len(df['condition'].unique())\n",
    "# equivalent to\n",
    "df['condition'].nunique()"
   ]
  },
  {
   "cell_type": "code",
   "execution_count": null,
   "metadata": {
    "slideshow": {
     "slide_type": "fragment"
    }
   },
   "outputs": [],
   "source": [
    "# how many rows there are in a series/df\n",
    "len(df)"
   ]
  },
  {
   "cell_type": "code",
   "execution_count": null,
   "metadata": {
    "slideshow": {
     "slide_type": "fragment"
    }
   },
   "outputs": [],
   "source": [
    "# what's the category that shows up the most \n",
    "val_counts.idxmax()"
   ]
  },
  {
   "cell_type": "code",
   "execution_count": null,
   "metadata": {
    "slideshow": {
     "slide_type": "fragment"
    }
   },
   "outputs": [],
   "source": [
    "# what's the count of the value that shows up the most\n",
    "val_counts.max()"
   ]
  },
  {
   "cell_type": "markdown",
   "metadata": {
    "slideshow": {
     "slide_type": "slide"
    }
   },
   "source": [
    "#### Clicker Question #2\n",
    "\n",
    "Comparing them to standard library Python types, which is the best mapping for these new data types?\n",
    "\n",
    "- A) DataFrames are like lists, arrays are like tuples\n",
    "- B) DataFrames and arrays are like lists\n",
    "- C) DataFrames are like tuples, arrays are like lists\n",
    "- D) DataFrames and arrays are like dictionaries\n",
    "- E) Dataframes are like dictionaries, arrays are like lists"
   ]
  },
  {
   "cell_type": "markdown",
   "metadata": {
    "slideshow": {
     "slide_type": "slide"
    }
   },
   "source": [
    "## Plotting"
   ]
  },
  {
   "cell_type": "code",
   "execution_count": null,
   "metadata": {
    "slideshow": {
     "slide_type": "fragment"
    }
   },
   "outputs": [],
   "source": [
    "%matplotlib inline\n",
    "\n",
    "import matplotlib.pyplot as plt"
   ]
  },
  {
   "cell_type": "code",
   "execution_count": null,
   "metadata": {
    "slideshow": {
     "slide_type": "fragment"
    }
   },
   "outputs": [],
   "source": [
    "# Create some data\n",
    "dat = np.array([1, 2, 4, 8, 16, 32])"
   ]
  },
  {
   "cell_type": "code",
   "execution_count": null,
   "metadata": {
    "slideshow": {
     "slide_type": "slide"
    }
   },
   "outputs": [],
   "source": [
    "# Plot the data\n",
    "plt.plot(dat);"
   ]
  },
  {
   "cell_type": "markdown",
   "metadata": {
    "slideshow": {
     "slide_type": "fragment"
    }
   },
   "source": [
    "- can change plot type\n",
    "- _lots_ of customizations possible"
   ]
  },
  {
   "cell_type": "markdown",
   "metadata": {
    "slideshow": {
     "slide_type": "slide"
    }
   },
   "source": [
    "## Analysis\n",
    "\n",
    "- `scipy` - statistical analysis\n",
    "- `sklearn` - machine learning"
   ]
  },
  {
   "cell_type": "code",
   "execution_count": null,
   "metadata": {
    "slideshow": {
     "slide_type": "fragment"
    }
   },
   "outputs": [],
   "source": [
    "import scipy as sp\n",
    "from scipy import stats"
   ]
  },
  {
   "cell_type": "code",
   "execution_count": null,
   "metadata": {
    "slideshow": {
     "slide_type": "slide"
    }
   },
   "outputs": [],
   "source": [
    "# Simulate some data\n",
    "d1 = stats.norm.rvs(loc=0, size=1000)\n",
    "d2 = stats.norm.rvs(loc=0.5, size=1000)"
   ]
  },
  {
   "cell_type": "markdown",
   "metadata": {
    "slideshow": {
     "slide_type": "slide"
    }
   },
   "source": [
    "### Analysis - Plotting the Data"
   ]
  },
  {
   "cell_type": "code",
   "execution_count": null,
   "metadata": {
    "slideshow": {
     "slide_type": "fragment"
    }
   },
   "outputs": [],
   "source": [
    "# Plot the data\n",
    "plt.hist(d1, 25, alpha=0.6);\n",
    "plt.hist(d2, 25, alpha=0.6);"
   ]
  },
  {
   "cell_type": "markdown",
   "metadata": {
    "slideshow": {
     "slide_type": "slide"
    }
   },
   "source": [
    "### Analysis - Statistical Comparisons"
   ]
  },
  {
   "cell_type": "code",
   "execution_count": null,
   "metadata": {
    "scrolled": false,
    "slideshow": {
     "slide_type": "fragment"
    }
   },
   "outputs": [],
   "source": [
    "# Statistically compare the two distributions\n",
    "stats.ttest_ind(d1, d2)"
   ]
  },
  {
   "cell_type": "markdown",
   "metadata": {
    "slideshow": {
     "slide_type": "slide"
    }
   },
   "source": [
    "## COGS 108: Data Science in Practice"
   ]
  },
  {
   "cell_type": "markdown",
   "metadata": {
    "collapsed": true,
    "slideshow": {
     "slide_type": "fragment"
    }
   },
   "source": [
    "<div class=\"alert alert-info\">\n",
    "If you are interested in data science and scientific computing in Python, consider taking <b>COGS 108</b> : <a>https://github.com/COGS108/</a>.\n",
    "</div>"
   ]
  }
 ],
 "metadata": {
  "celltoolbar": "Slideshow",
  "kernelspec": {
   "display_name": "Python 3",
   "language": "python",
   "name": "python3"
  },
  "language_info": {
   "codemirror_mode": {
    "name": "ipython",
    "version": 3
   },
   "file_extension": ".py",
   "mimetype": "text/x-python",
   "name": "python",
   "nbconvert_exporter": "python",
   "pygments_lexer": "ipython3",
   "version": "3.9.5"
  },
  "rise": {
   "scroll": true
  }
 },
 "nbformat": 4,
 "nbformat_minor": 2
}
