{
 "cells": [
  {
   "cell_type": "markdown",
   "metadata": {
    "slideshow": {
     "slide_type": "slide"
    }
   },
   "source": [
    "# Exam 2 Review\n",
    "\n",
    "- **Exam #2 is released next Wednesday** \n",
    "    - released at 8AM; 24h to complete and submit\n",
    "    - must be **submitted on datahub by Thurs 2/18 at 8 AM**\n",
    "- **A4 is due next Friday 2/19** (11:59 PM)\n",
    "- No Class Monday (Holiday)\n",
    "- No Coding Lab or Office Hours on Wednesday next week"
   ]
  },
  {
   "cell_type": "markdown",
   "metadata": {
    "slideshow": {
     "slide_type": "slide"
    }
   },
   "source": [
    "## Exam II Plan (12.5 points)\n",
    "\n",
    "Part I: **E1 Review** (3 points) \n",
    "- Q1: Variables, Operators, & Indexing (0.5 points)\n",
    "- Q2: Conditionals & Loops (1.25 point)\n",
    "- Q3: Loop to Complete a Task (1.25 points)\n",
    "\n",
    "Part II: **Functions** (4.5 points)  \n",
    "- Q4: Function execution (0.75 points)*\n",
    "- Q5: Function I (1.25 points)*\n",
    "- Q6: Function II (1.25 points)*\n",
    "- Q7: Debugging (1.25 points)*\n",
    "\n",
    "Part III: **Objects & Classes** (5 points)\n",
    "- Q8: Classes I (2.5 point)*\n",
    "- Q9: Classes II (2.5 points)*\n",
    "\n",
    "\\* : includes manual grading (partial credit)"
   ]
  },
  {
   "cell_type": "markdown",
   "metadata": {
    "slideshow": {
     "slide_type": "slide"
    }
   },
   "source": [
    "**Note about `random`**\n",
    "\n",
    "On the Practice midterm: there is a question that asks you to `import random`. There is a function from the `random` module called `choice()` that will choose an element from a list at random.\n",
    "\n",
    "This will be required to do Q10 on the practice midterm.\n",
    "\n",
    "*Note*: we have not covered imports or the `random` module yet; this question would NOT be fair game for your midterm."
   ]
  },
  {
   "cell_type": "markdown",
   "metadata": {
    "slideshow": {
     "slide_type": "slide"
    }
   },
   "source": [
    "### Reminder: \n",
    "\n",
    "There are two extra notebooks that you can use for review:\n",
    "\n",
    "1. [A1-Syntax](https://cogs18.github.io/materials/A1-Syntax/)\n",
    "2. [A2-Examples](https://cogs18.github.io/materials/A2-Examples/)\n",
    "\n",
    "There are also a few Exam #2 Practice Problems [here](https://cogs18.github.io/materials/Exam2-Practice) and a practice exam on datahub."
   ]
  },
  {
   "cell_type": "markdown",
   "metadata": {
    "slideshow": {
     "slide_type": "slide"
    }
   },
   "source": [
    "### Questions?"
   ]
  },
  {
   "cell_type": "markdown",
   "metadata": {
    "slideshow": {
     "slide_type": "slide"
    }
   },
   "source": [
    "## Functions\n",
    "\n",
    "- `def`\n",
    "    - `return`\n",
    "- executing a function\n",
    "    - parameters\n",
    "        - keyword vs. positional\n",
    "        - default values\n",
    "    - have a separate namespace\n",
    "- methods \n",
    "    - in place vs. not in place"
   ]
  },
  {
   "cell_type": "markdown",
   "metadata": {
    "slideshow": {
     "slide_type": "slide"
    }
   },
   "source": [
    "#### Functions Question #1\n",
    "Write, in real code, a function called `remainder` that takes two inputs, divides the first input by the second and returns the remainder."
   ]
  },
  {
   "cell_type": "code",
   "execution_count": 1,
   "metadata": {
    "slideshow": {
     "slide_type": "fragment"
    }
   },
   "outputs": [],
   "source": [
    "## YOUR CODE HERE"
   ]
  },
  {
   "cell_type": "markdown",
   "metadata": {
    "slideshow": {
     "slide_type": "fragment"
    }
   },
   "source": [
    "#### Functions Question #2\n",
    "Using the function `remainder` you wrote above, write the python code you would use to return the remainder of 10 divided by 4. Store the output in the variable `my_remainder`."
   ]
  },
  {
   "cell_type": "code",
   "execution_count": 2,
   "metadata": {
    "slideshow": {
     "slide_type": "fragment"
    }
   },
   "outputs": [],
   "source": [
    "## YOUR CODE HERE"
   ]
  },
  {
   "cell_type": "markdown",
   "metadata": {
    "slideshow": {
     "slide_type": "slide"
    }
   },
   "source": [
    "#### Functions Question #3\n",
    "Assuming the following function has been defined, what would `sum_list([1, 2, 3])` return?"
   ]
  },
  {
   "cell_type": "code",
   "execution_count": 3,
   "metadata": {
    "slideshow": {
     "slide_type": "fragment"
    }
   },
   "outputs": [],
   "source": [
    "def sum_list(my_list):\n",
    "    total = 0\n",
    "    \n",
    "    for item in my_list:\n",
    "        total += item\n",
    "        \n",
    "    return total"
   ]
  },
  {
   "cell_type": "code",
   "execution_count": 4,
   "metadata": {},
   "outputs": [],
   "source": [
    "## CODE TO TEST HERE"
   ]
  },
  {
   "cell_type": "markdown",
   "metadata": {
    "slideshow": {
     "slide_type": "slide"
    }
   },
   "source": [
    "## Objects & Classes\n",
    "\n",
    "- objects & `class`\n",
    "    - attributes\n",
    "    - methods\n",
    "    - instances\n"
   ]
  },
  {
   "cell_type": "markdown",
   "metadata": {
    "slideshow": {
     "slide_type": "slide"
    }
   },
   "source": [
    "#### Objects & Classes Question #1\n",
    "\n",
    "**Part A**\n",
    "\n",
    "We want to simulate a rocket ship for a game.\n",
    "\n",
    "Write code that will create a class `Rocket`. \n",
    "\n",
    "This class should have two instance attributes: `x` and `y`. These will specify the x,y position of the rocket. Each attribute should be initialized with hte value 0. \n",
    "\n",
    "Your `Rocket` should also have the method `move_up()`. This method should increment the y-position of the rocket by 1. "
   ]
  },
  {
   "cell_type": "code",
   "execution_count": 8,
   "metadata": {
    "slideshow": {
     "slide_type": "fragment"
    }
   },
   "outputs": [],
   "source": [
    "## YOUR CODE HERE"
   ]
  },
  {
   "cell_type": "markdown",
   "metadata": {
    "slideshow": {
     "slide_type": "fragment"
    }
   },
   "source": [
    "The exam question will be more involved than this example. It's meant to combine all the pieces we've learned this quarter (classes w/ methods, conditionals, etc)."
   ]
  },
  {
   "cell_type": "markdown",
   "metadata": {
    "slideshow": {
     "slide_type": "fragment"
    }
   },
   "source": [
    "**Part B**\n",
    "\n",
    "Create an instance `my_rocket` of your Rocket object."
   ]
  },
  {
   "cell_type": "code",
   "execution_count": 9,
   "metadata": {
    "slideshow": {
     "slide_type": "fragment"
    }
   },
   "outputs": [],
   "source": [
    "## YOUR CODE HERE"
   ]
  },
  {
   "cell_type": "markdown",
   "metadata": {
    "slideshow": {
     "slide_type": "fragment"
    }
   },
   "source": [
    "**Part C**\n",
    "\n",
    "Update `my_rocket` so that `my_rocket` has the `y` position 3."
   ]
  },
  {
   "cell_type": "code",
   "execution_count": 10,
   "metadata": {
    "slideshow": {
     "slide_type": "fragment"
    }
   },
   "outputs": [],
   "source": [
    "## YOUR CODE HERE"
   ]
  },
  {
   "cell_type": "markdown",
   "metadata": {
    "slideshow": {
     "slide_type": "slide"
    }
   },
   "source": [
    "#### Objects & Classes Question #2\n",
    "\n",
    "Fill in the blanks:\n",
    "\n",
    "\tWhat is the name of a function defined within a class: ______________\n",
    "\n",
    "\tIn Python, everything is a(n) ______________. \n"
   ]
  },
  {
   "cell_type": "markdown",
   "metadata": {
    "slideshow": {
     "slide_type": "slide"
    }
   },
   "source": [
    "## Python & Jupyter Extras\n",
    "- encodings (`chr` & `ord`)\n",
    "- whitespace\n",
    "- namespace\n",
    "- kernel\n",
    "- code comments\n",
    "- magic functions"
   ]
  },
  {
   "cell_type": "markdown",
   "metadata": {
    "slideshow": {
     "slide_type": "slide"
    }
   },
   "source": [
    "#### Extras Question #1\n",
    "What will the following piece of code print out?\n",
    "\n",
    "```print(chr(ord('A')))``` \n",
    "    \n",
    "     _____________"
   ]
  },
  {
   "cell_type": "markdown",
   "metadata": {
    "slideshow": {
     "slide_type": "fragment"
    }
   },
   "source": [
    "#### Extras Question #2 \n",
    "\n",
    "What is the magic function `%whos` used for?"
   ]
  },
  {
   "cell_type": "markdown",
   "metadata": {
    "slideshow": {
     "slide_type": "slide"
    }
   },
   "source": [
    "#### Extras Question #3\n",
    "\n",
    "For each of the following, indicate if the statement is True or False about Python and programming:\n",
    "\n",
    "- True/False Whitespace matters in Python\n",
    "- True/False Comments in Python start with '%' \t\t\t\t\t\n",
    "- True/False You have to specify a data type when you define a variable\n",
    "- True/False Every Python variable is available from every namespace\t\t\n",
    "- True/False `ls` is a shell command that creates a new file \t\t\n",
    "- True/False `cd` returns your current working directory\t\t\n",
    "- True/False `print_name()` folles best practices for function naming"
   ]
  },
  {
   "cell_type": "markdown",
   "metadata": {
    "slideshow": {
     "slide_type": "slide"
    }
   },
   "source": [
    "<h2><center>After the second exam:</center></h2>"
   ]
  },
  {
   "cell_type": "markdown",
   "metadata": {
    "slideshow": {
     "slide_type": "fragment"
    }
   },
   "source": [
    "<h3><center> We will focus on the Python ecosystem, and applications of Python. </center></h3>"
   ]
  },
  {
   "cell_type": "markdown",
   "metadata": {
    "slideshow": {
     "slide_type": "fragment"
    }
   },
   "source": [
    "<h3><center> We also become a project based course. </center></h3>"
   ]
  }
 ],
 "metadata": {
  "celltoolbar": "Slideshow",
  "kernelspec": {
   "display_name": "Python 3",
   "language": "python",
   "name": "python3"
  },
  "language_info": {
   "codemirror_mode": {
    "name": "ipython",
    "version": 3
   },
   "file_extension": ".py",
   "mimetype": "text/x-python",
   "name": "python",
   "nbconvert_exporter": "python",
   "pygments_lexer": "ipython3",
   "version": "3.7.9"
  },
  "rise": {
   "scroll": true
  }
 },
 "nbformat": 4,
 "nbformat_minor": 2
}
