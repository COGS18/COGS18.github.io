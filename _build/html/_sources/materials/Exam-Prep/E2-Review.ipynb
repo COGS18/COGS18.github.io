{
 "cells": [
  {
   "cell_type": "markdown",
   "metadata": {
    "slideshow": {
     "slide_type": "slide"
    }
   },
   "source": [
    "**Course Announcements**\n",
    "\n",
    "Due Dates:\n",
    "- **CL6** due (again) tonight (11:59 PM) - *NO* new CL this week\n",
    "- **E2** due Sunday (2/20; 11:59 PM); released Thursday (tomorrow) 2/17 3PM\n",
    "- **A4** due Mon 2/28\n",
    "\n",
    "Notes:\n",
    "- No lecture this Friday (exam) OR Monday (holiday)\n",
    "- **A3** scores posted\n",
    "- Exam Review answer keys have been posted"
   ]
  },
  {
   "cell_type": "markdown",
   "metadata": {
    "slideshow": {
     "slide_type": "notes"
    }
   },
   "source": [
    "**Q&A**\n",
    "\n",
    "Q: Will functions and classes only use for loops if loops are included at all? While loops aren't used for these cases?  \n",
    "A: `while` loops can be used within functions, although we will use `for` loops more frequently.\n",
    "\n",
    "Q: For the compare method examples why / how did it also return the number of courses printed? Like the first one I know is 5 and the second is 6 but how did it do it and do we need to have it?  \n",
    "A: This was because I had a line of code asking to print the `n_classes` *attribute* from the object. It was not from the method.\n",
    "\n",
    "Q: I am also confused about the use of \"self\" and when to use \"self\".   \n",
    "A: `self` allows us to refer to the *current instance* of a given object. Tips for when to use self: 1) before the name of the attribute when defining instsance attributes; 2) as the first parameter to every method; 3) within methods anytime you want to reference an attribute (whether it's a class attribute OR an instance attribute, `self.` will be needed) \n",
    "\n",
    "Q: Will our lectures in the future keep building to produce even longer segments of code?   \n",
    "A: No. (I believe) Classes is the longest code we'll go through/build toward in this course.\n",
    "\n",
    "Q: How much points does each participation survey worth?  \n",
    "A: Not totally sure, but if you complete every single one, it's 3.5% to your final project/final exam.\n",
    "\n",
    "Q: I'm confused about the compare method example. Why do we specifically define the 0th index for the fewest and most variables, (fewest = self.course [0]) in the function?   \n",
    "A: This was to give us something to compare to the first time through the loop.\n",
    "\n",
    "Q: The only part that I don't get is why can we set both most and fewest to the index [0]. Wouldn't it contradict each other?  \n",
    "A: Similar to the above question (read that first), we start with both being the same...but notice in the conditional, `most` and `fewest` change differently, depending upon the stated condition....so they won't end up the same.\n",
    "\n",
    "Q: will we be using isinstance tool more in this class or not really?  \n",
    "A: Nope. Don't worry about it; just know that everything in python is an object/python is an object-oriented programming language.\n",
    "\n",
    "Q: If python is an object program, what other program types are there and what would those do?   \n",
    "A: Lots explained [here](https://en.wikipedia.org/wiki/Programming_paradigm).\n",
    "\n",
    "Q: for the instance in class, can you create a compare method that gives you both the most and fewest value?  \n",
    "A: Yup! I encourage you to edit the code provided to return both! Let's discuss in office hours or on campuswire if you struggle to determine how to do that.\n",
    "\n",
    "Q: when we used the command dir(my_date) we get a list of methods and attributes, can we use this on any object, or how can we know what methods we can use in which objects. I got confused because professor said that we use append for lists but can we use for any other type of object?  \n",
    "A: For that example, those methods/attributes can *only* be used with *date* type objects. So, you must first know the type of the object and *then* can determine what methods are available.\n",
    "\n",
    "Q: How do we extract an attribute if it's a string? I am getting a TypeError: string indices must be integers.\n",
    "A: I'd have to see your specific example, but remember if you're trying to index into a string, what goes between the brackets must be an integer (`i.e. my_string[0]`) So, this error suggests you're trying to index using something other than an integer. \n",
    "\n",
    "Q: In ProfCourses, Why does the last self.n_courses+1 in add_course add 1 every time a new course is added? I'm still a little confused about this because it doesn't look like a loop.  \n",
    "A: You're right that it's NOT a loop. Each time the method is called the previous value in `n_courses` is increased by 1...so it does NOT loop, but rather would increase by one each time the method is called/executed on an object."
   ]
  },
  {
   "cell_type": "markdown",
   "metadata": {
    "slideshow": {
     "slide_type": "slide"
    }
   },
   "source": [
    "# Exam 2 Review"
   ]
  },
  {
   "cell_type": "markdown",
   "metadata": {
    "slideshow": {
     "slide_type": "-"
    }
   },
   "source": [
    "## Exam II Plan (12.5 points)\n",
    "\n",
    "\n",
    "Part I: **Methods, Debugging, & Code Style** (4.5 points) \n",
    "- Q1: Method I (0.75 points)*\n",
    "- Q2: Method II (1.25 points)*\n",
    "- Q3: Debugging & Code Style (2.5 points)*\n",
    "\n",
    "Part II: **Loops & Functions** (4 points)  \n",
    "- Q4: Function I (1.75 points)*\n",
    "- Q5: Function II (2.25 points)*\n",
    "\n",
    "Part III: **Classes** (4 points)\n",
    "- Q6: Classes I (1.5 points)*\n",
    "- Q7: Classes II (2.5 points)*\n",
    "\n",
    "\\* : includes manual grading (partial credit)"
   ]
  },
  {
   "cell_type": "markdown",
   "metadata": {
    "slideshow": {
     "slide_type": "slide"
    }
   },
   "source": [
    "### Reminder: \n",
    "\n",
    "There are three extra notebooks that you can use for review (in addition to your notes, labs, and assignments):\n",
    "\n",
    "1. [A1-CodeSytle](https://cogs18.github.io/materials/A1-CodeStyle.html)\n",
    "1. [A2-Syntax](https://cogs18.github.io/materials/A2-Syntax.html)\n",
    "2. [A3-Examples](https://cogs18.github.io/materials/A3-Examples.html)\n",
    "\n",
    "There is also a practice exam on datahub and additional practice problems [here](https://shanellis.github.io/pythonbook/content/intro.html). Note that answers are included for all practice problems in the \"Answers\" chapter."
   ]
  },
  {
   "cell_type": "markdown",
   "metadata": {
    "slideshow": {
     "slide_type": "slide"
    }
   },
   "source": [
    "### Questions?"
   ]
  },
  {
   "cell_type": "markdown",
   "metadata": {
    "slideshow": {
     "slide_type": "slide"
    }
   },
   "source": [
    "### Loops\n",
    "\n",
    "- loops: `for` and `while`\n",
    "    - `continue`, `break`, `pass`"
   ]
  },
  {
   "cell_type": "markdown",
   "metadata": {
    "slideshow": {
     "slide_type": "slide"
    }
   },
   "source": [
    "#### Loops Question #1\n",
    "What are the two kinds of loops? ____________ and ____________"
   ]
  },
  {
   "cell_type": "markdown",
   "metadata": {
    "slideshow": {
     "slide_type": "fragment"
    }
   },
   "source": [
    "#### Loops Question #2\n",
    "Use the following:\n",
    "`ind = 1` to write a loop (using real Python code) that would loop and print the value `ind` of ind each time through the loop _and_ update the value of ind by 1. Have this loop stop after 4 iterations. "
   ]
  },
  {
   "cell_type": "markdown",
   "metadata": {
    "slideshow": {
     "slide_type": "fragment"
    }
   },
   "source": [
    "#### Loops Question #3\n",
    "\n",
    "Create a list that stores each letter of your favorite animal as a different element in a list. Store that in the variable `fav_pet`. \n",
    "\n",
    "Initialize an additional variable called `reverse_pet` that will store an empty string to start.\n",
    "\n",
    "Then, using indexing, loop through each letter in that list such that `reverse_pet` stores a list with your favorite pet spelled backward.\n",
    "\n",
    "For example, if your favorite pet were \"cat\", the output stored in `reverse_pet` should be: `['t', 'a', 'c']`\n"
   ]
  },
  {
   "cell_type": "markdown",
   "metadata": {
    "slideshow": {
     "slide_type": "slide"
    }
   },
   "source": [
    "#### Loops Question #4\n",
    "Assuming the following function has been defined, what would `sum_list([1, 2, 3])` return?"
   ]
  },
  {
   "cell_type": "code",
   "execution_count": 10,
   "metadata": {
    "slideshow": {
     "slide_type": "fragment"
    }
   },
   "outputs": [],
   "source": [
    "def sum_list(my_list):\n",
    "    total = 0\n",
    "    \n",
    "    for item in my_list:\n",
    "        total += item\n",
    "        \n",
    "    return total"
   ]
  },
  {
   "cell_type": "code",
   "execution_count": 4,
   "metadata": {},
   "outputs": [],
   "source": [
    "## CODE TO TEST HERE"
   ]
  },
  {
   "cell_type": "markdown",
   "metadata": {
    "slideshow": {
     "slide_type": "slide"
    }
   },
   "source": [
    "## Objects & Classes\n",
    "\n",
    "- objects & `class`\n",
    "    - attributes\n",
    "    - methods\n",
    "    - instances\n"
   ]
  },
  {
   "cell_type": "markdown",
   "metadata": {
    "slideshow": {
     "slide_type": "slide"
    }
   },
   "source": [
    "#### Objects & Classes Question #1\n",
    "\n",
    "**Part A**\n",
    "\n",
    "We want to simulate a rocket ship for a game.\n",
    "\n",
    "Write code that will create a class `Rocket`. \n",
    "\n",
    "This class should have two instance attributes: `x` and `y`. These will specify the x,y position of the rocket. Each attribute should be initialized with hte value 0. \n",
    "\n",
    "Your `Rocket` should also have the method `move_up()`. This method should increment the y-position of the rocket by 1. "
   ]
  },
  {
   "cell_type": "code",
   "execution_count": 8,
   "metadata": {
    "slideshow": {
     "slide_type": "fragment"
    }
   },
   "outputs": [],
   "source": [
    "## YOUR CODE HERE"
   ]
  },
  {
   "cell_type": "markdown",
   "metadata": {
    "slideshow": {
     "slide_type": "fragment"
    }
   },
   "source": [
    "The exam question will be more involved than this example. It's meant to combine all the pieces we've learned this quarter (classes w/ methods, conditionals, etc)."
   ]
  },
  {
   "cell_type": "markdown",
   "metadata": {
    "slideshow": {
     "slide_type": "fragment"
    }
   },
   "source": [
    "**Part B**\n",
    "\n",
    "Create an instance `my_rocket` of your Rocket object."
   ]
  },
  {
   "cell_type": "code",
   "execution_count": 9,
   "metadata": {
    "slideshow": {
     "slide_type": "fragment"
    }
   },
   "outputs": [],
   "source": [
    "## YOUR CODE HERE"
   ]
  },
  {
   "cell_type": "markdown",
   "metadata": {
    "slideshow": {
     "slide_type": "fragment"
    }
   },
   "source": [
    "**Part C**\n",
    "\n",
    "Update `my_rocket` so that `my_rocket` has the `y` position 3."
   ]
  },
  {
   "cell_type": "code",
   "execution_count": 10,
   "metadata": {
    "slideshow": {
     "slide_type": "fragment"
    }
   },
   "outputs": [],
   "source": [
    "## YOUR CODE HERE"
   ]
  },
  {
   "cell_type": "markdown",
   "metadata": {
    "slideshow": {
     "slide_type": "slide"
    }
   },
   "source": [
    "#### Objects & Classes Question #2\n",
    "\n",
    "Fill in the blanks:\n",
    "\n",
    "\tWhat is the name of a function defined within a class: ______________\n",
    "\n",
    "\tIn Python, everything is a(n) ______________. \n"
   ]
  },
  {
   "cell_type": "markdown",
   "metadata": {
    "slideshow": {
     "slide_type": "slide"
    }
   },
   "source": [
    "## Python & Jupyter Extras\n",
    "- encodings (`chr` & `ord`)\n",
    "- whitespace\n",
    "- namespace\n",
    "- kernel\n",
    "- code comments\n",
    "- magic functions"
   ]
  },
  {
   "cell_type": "markdown",
   "metadata": {
    "slideshow": {
     "slide_type": "slide"
    }
   },
   "source": [
    "#### Extras Question #1\n",
    "What will the following piece of code print out?\n",
    "\n",
    "```print(chr(ord('A')))``` \n",
    "    \n",
    "     _____________"
   ]
  },
  {
   "cell_type": "markdown",
   "metadata": {
    "slideshow": {
     "slide_type": "fragment"
    }
   },
   "source": [
    "#### Extras Question #2 \n",
    "\n",
    "What is the magic function `%whos` used for?"
   ]
  },
  {
   "cell_type": "markdown",
   "metadata": {
    "slideshow": {
     "slide_type": "slide"
    }
   },
   "source": [
    "#### Extras Question #3\n",
    "\n",
    "For each of the following, indicate if the statement is True or False about Python and programming:\n",
    "\n",
    "- True/False Whitespace matters in Python\n",
    "- True/False Comments in Python start with '%' \t\t\t\t\t\n",
    "- True/False You have to specify a data type when you define a variable\n",
    "- True/False Every Python variable is available from every namespace\t\t\t\t\n",
    "- True/False `print_name()` folles best practices for function naming"
   ]
  },
  {
   "cell_type": "markdown",
   "metadata": {
    "slideshow": {
     "slide_type": "slide"
    }
   },
   "source": [
    "<h2><center>After the second exam:</center></h2>"
   ]
  },
  {
   "cell_type": "markdown",
   "metadata": {
    "slideshow": {
     "slide_type": "fragment"
    }
   },
   "source": [
    "<h3><center> We will focus on the Python ecosystem, and applications of Python. </center></h3>"
   ]
  },
  {
   "cell_type": "markdown",
   "metadata": {
    "slideshow": {
     "slide_type": "fragment"
    }
   },
   "source": [
    "<h3><center> We also become a project based course. </center></h3>"
   ]
  }
 ],
 "metadata": {
  "celltoolbar": "Slideshow",
  "kernelspec": {
   "display_name": "Python 3 (ipykernel)",
   "language": "python",
   "name": "python3"
  },
  "language_info": {
   "codemirror_mode": {
    "name": "ipython",
    "version": 3
   },
   "file_extension": ".py",
   "mimetype": "text/x-python",
   "name": "python",
   "nbconvert_exporter": "python",
   "pygments_lexer": "ipython3",
   "version": "3.9.7"
  },
  "rise": {
   "scroll": true
  }
 },
 "nbformat": 4,
 "nbformat_minor": 2
}
