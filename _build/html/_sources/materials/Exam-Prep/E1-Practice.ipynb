{
 "cells": [
  {
   "cell_type": "markdown",
   "metadata": {},
   "source": [
    "# Exam #1 Practice Questions\n",
    "\n",
    "To practice for the first exam, read through each of these questions and try and answer the question _before_ you run the code.\n",
    "\n",
    "Since this is a notebook, you can also then run this code to check what it does. \n",
    "\n",
    "Make sure you understand why each thing does what it does!"
   ]
  },
  {
   "cell_type": "markdown",
   "metadata": {},
   "source": [
    "## Variables & Operators\n",
    "\n",
    "For each of the following cells, after executing the code, what will the value of `var_a` be?"
   ]
  },
  {
   "cell_type": "code",
   "execution_count": null,
   "metadata": {},
   "outputs": [],
   "source": [
    "# Variables-1\n",
    "var_b = 2\n",
    "var_a = var_b = 2%3"
   ]
  },
  {
   "cell_type": "code",
   "execution_count": null,
   "metadata": {},
   "outputs": [],
   "source": [
    "# Variables-2\n",
    "var_b = False \n",
    "var_c = True\n",
    "var_d = True\n",
    "var_a = var_b or var_c or var_d"
   ]
  },
  {
   "cell_type": "code",
   "execution_count": null,
   "metadata": {},
   "outputs": [],
   "source": [
    "# Variables-3\n",
    "var_b = 2**3\n",
    "var_c = 2\n",
    "var_a = float(var_b/var_c)"
   ]
  },
  {
   "cell_type": "code",
   "execution_count": null,
   "metadata": {},
   "outputs": [],
   "source": [
    "# Variables-4\n",
    "var_a = 5**2 <= 30 or 25%4 > 1"
   ]
  },
  {
   "cell_type": "markdown",
   "metadata": {},
   "source": [
    "## Indexing"
   ]
  },
  {
   "cell_type": "markdown",
   "metadata": {},
   "source": [
    "Given the following list:"
   ]
  },
  {
   "cell_type": "code",
   "execution_count": null,
   "metadata": {},
   "outputs": [],
   "source": [
    "my_lst = ['Python', True, 12, 'Java', False, None, 23, 'C++']"
   ]
  },
  {
   "cell_type": "markdown",
   "metadata": {},
   "source": [
    "What will each of the following code cells print out?"
   ]
  },
  {
   "cell_type": "code",
   "execution_count": null,
   "metadata": {},
   "outputs": [],
   "source": [
    "len(my_lst)"
   ]
  },
  {
   "cell_type": "code",
   "execution_count": null,
   "metadata": {},
   "outputs": [],
   "source": [
    "my_lst[1:4]"
   ]
  },
  {
   "cell_type": "code",
   "execution_count": null,
   "metadata": {},
   "outputs": [],
   "source": [
    "my_lst[-3:]"
   ]
  },
  {
   "cell_type": "code",
   "execution_count": null,
   "metadata": {},
   "outputs": [],
   "source": [
    "my_lst[1::2]"
   ]
  },
  {
   "cell_type": "code",
   "execution_count": null,
   "metadata": {},
   "outputs": [],
   "source": [
    "my_lst[1:6:2]"
   ]
  },
  {
   "cell_type": "markdown",
   "metadata": {},
   "source": [
    "## Conditionals "
   ]
  },
  {
   "cell_type": "markdown",
   "metadata": {},
   "source": [
    "### Conditionals 1\n",
    "\n",
    "What will the following code print out?"
   ]
  },
  {
   "cell_type": "code",
   "execution_count": null,
   "metadata": {},
   "outputs": [],
   "source": [
    "if True and not False:\n",
    "    print('Yay')\n",
    "elif False or not False:\n",
    "    print('Also yay')"
   ]
  },
  {
   "cell_type": "markdown",
   "metadata": {},
   "source": [
    "### Conditionals 2\n",
    "\n",
    "What will the following code print out?\n",
    "\n",
    "a) 1  b) 2  c) broken d) 3 e) This code won't execute"
   ]
  },
  {
   "cell_type": "code",
   "execution_count": null,
   "metadata": {},
   "outputs": [],
   "source": [
    "if 10%2 == 5:\n",
    "    print('1')\n",
    "elif True and False or False:\n",
    "    print('2')\n",
    "elif 5/0:\n",
    "    print('broken')\n",
    "else:\n",
    "    print('3')"
   ]
  },
  {
   "cell_type": "markdown",
   "metadata": {},
   "source": [
    "## Functions & Algorithms"
   ]
  },
  {
   "cell_type": "markdown",
   "metadata": {},
   "source": [
    "### Functions 1\n",
    "\n",
    "What will the following piece of code print out?"
   ]
  },
  {
   "cell_type": "code",
   "execution_count": null,
   "metadata": {},
   "outputs": [],
   "source": [
    "def manipulate_three(num1, num2, num3):\n",
    "\n",
    "    answer = num1**num2%num3\n",
    "\n",
    "    return answer\n",
    "\n",
    "manipulate_three(3, 2, 5)"
   ]
  },
  {
   "cell_type": "markdown",
   "metadata": {},
   "source": [
    "### Functions 2\n",
    "\n",
    "What will the following code print: \n",
    "\n",
    "A) 'a'\tB) 'A'\tC) `dictionary`\tD) ' ' (string with space)\tE) '' (empty string)"
   ]
  },
  {
   "cell_type": "code",
   "execution_count": null,
   "metadata": {},
   "outputs": [],
   "source": [
    "def char_manipulator(char):\n",
    "    \n",
    "    dictionary = {\n",
    "        'a' : 'A',\n",
    "        'e' : 'E',\n",
    "        'i' : 'I',\n",
    "        'o' : 'O',\n",
    "        'u' : 'U'\n",
    "     }\n",
    "    \n",
    "    if char in dictionary:\n",
    "        output = dictionary[char]\n",
    "    else:\n",
    "        output = char\n",
    "    \n",
    "    return output\n",
    "\n",
    "variable = 'a'\n",
    "manipulated_char = char_manipulator(variable)\n",
    "print(manipulated_char)"
   ]
  }
 ],
 "metadata": {
  "kernelspec": {
   "display_name": "Python 3",
   "language": "python",
   "name": "python3"
  },
  "language_info": {
   "codemirror_mode": {
    "name": "ipython",
    "version": 3
   },
   "file_extension": ".py",
   "mimetype": "text/x-python",
   "name": "python",
   "nbconvert_exporter": "python",
   "pygments_lexer": "ipython3",
   "version": "3.9.5"
  }
 },
 "nbformat": 4,
 "nbformat_minor": 2
}
