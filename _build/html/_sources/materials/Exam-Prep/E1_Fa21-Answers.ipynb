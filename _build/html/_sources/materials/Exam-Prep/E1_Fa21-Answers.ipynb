{
 "cells": [
  {
   "cell_type": "markdown",
   "metadata": {
    "nbgrader": {
     "grade": false,
     "grade_id": "e1",
     "locked": true,
     "schema_version": 3,
     "solution": false
    }
   },
   "source": [
    "# COGS 18 - Exam 1\n",
    "\n",
    "This is the first exam for Fall 2021. It covers topics through the Loops Lecture.\n",
    "\n",
    "This exam is out of 12.5 points, worth 12.5% of your grade.\n",
    "\n",
    "**PLEASE DO NOT CHANGE THE NAME OF THIS FILE.**\n",
    "\n",
    "**PLEASE DO NOT COPY & PASTE OR DELETE CELLS INLCUDED IN THE ASSIGNMENT.** (Note that you can add additional cells, if you want to test things out."
   ]
  },
  {
   "cell_type": "markdown",
   "metadata": {
    "nbgrader": {
     "grade": false,
     "grade_id": "instructions",
     "locked": true,
     "schema_version": 3,
     "solution": false
    }
   },
   "source": [
    "## Instructions\n",
    "\n",
    "#### Timing\n",
    "- The exam is designed to take you ~1h.\n",
    "- There will be a >24 hour window during which you can complete this exam (due Mon 11:59 PM).\n",
    "- If it takes you longer than 1h, you're free to use that time.\n",
    "\n",
    "#### The Rules\n",
    "- You are to complete this exam on your own.\n",
    "- This is open-notes & open-Google\n",
    "- You may not talk to any humans about this exam. \n",
    "- The following are all *prohibited*:\n",
    "    - text/phone/online chat communication\n",
    "    - posting questions to a message board where a human could respond (Campuswire, Discord, Chegg, any similar site)\n",
    "    - viewing exam questions from a message board (as described above)\n",
    "    - asking anyone via any form about a question on this test directly\n",
    "- Clarification questions will ***not*** be allowed and there will be no posting on Campuswire about the exam at all. \n",
    "    - Campuswire posts about the exam will not be answered and will be deleted. \n",
    "    - Students who post questions about the exam to Campuswire are at risk of losing points on the exam.\n",
    "    - If you are confused about wording, add a note to your exam explaining your confusion and how you interpreted the question. \n",
    "    - Note: This policy is b/c we are incapable of responding for 72h straight. This is the only way to make it fair across the board for students."
   ]
  },
  {
   "cell_type": "markdown",
   "metadata": {
    "nbgrader": {
     "grade": false,
     "grade_id": "cell-26b08bd4b5ba54ab",
     "locked": true,
     "schema_version": 3,
     "solution": false
    }
   },
   "source": [
    " <span style=\"color: red;\">Note: </span> There _is_ a chance for partial credit on some questions, so _some_ code is better than _no_ code. Even if it throws an error, having some code that partially answers the question will benefit you/your grade."
   ]
  },
  {
   "cell_type": "markdown",
   "metadata": {
    "nbgrader": {
     "grade": false,
     "grade_id": "cell-4d8581ac45c24683",
     "locked": true,
     "schema_version": 3,
     "solution": false,
     "task": false
    }
   },
   "source": [
    "### Q0 - Honor Code (0.15 points)\n",
    "\n",
    "In the cell below, include a variable `honor_code` that stores the boolean `True` if you agree to the following statement:\n",
    "\n",
    ">I agree that this exam was completed individually with the knowlege in my brain, information the notes from this course, and/or with searching for help on the Internet *without searching for answers to the text from these questions directly*. I did not ask anyone about specific questions on this exam. I did not post these questions (in part or in whole) on the Internet. I did not copy answers to these questions from anywhere or anyone else. I understand all code I've written on this exam and could explain my answers to someone else if asked.\n"
   ]
  },
  {
   "cell_type": "code",
   "execution_count": 1,
   "metadata": {
    "nbgrader": {
     "grade": false,
     "grade_id": "cell-9dae831891d7a1ad",
     "locked": false,
     "schema_version": 3,
     "solution": true,
     "task": false
    }
   },
   "outputs": [],
   "source": [
    "### BEGIN SOLUTION\n",
    "honor_code = True\n",
    "### END SOLUTION"
   ]
  },
  {
   "cell_type": "code",
   "execution_count": 2,
   "metadata": {
    "nbgrader": {
     "grade": true,
     "grade_id": "cell-8a6d1a928512e45c",
     "locked": true,
     "points": 0.15,
     "schema_version": 3,
     "solution": false,
     "task": false
    }
   },
   "outputs": [],
   "source": [
    "assert honor_code"
   ]
  },
  {
   "cell_type": "markdown",
   "metadata": {
    "nbgrader": {
     "grade": false,
     "grade_id": "part1",
     "locked": true,
     "schema_version": 3,
     "solution": false
    }
   },
   "source": [
    "## Part 1: Variables & Operators (3.65 points)"
   ]
  },
  {
   "cell_type": "markdown",
   "metadata": {
    "nbgrader": {
     "grade": false,
     "grade_id": "q1",
     "locked": true,
     "schema_version": 3,
     "solution": false
    }
   },
   "source": [
    "### Q1 - Variables (0.75 points)\n",
    "\n",
    "In the cell below, create three variables: `var_str`, `var_num`, and `var_col`. \n",
    "\n",
    "- `var_str` should store a string of length 7\n",
    "- `var_num` should be a single value that, if multiplied by itself, returns 36.\n",
    "- `var_col` should be a a mutable variable type storing three different elements.\n",
    "\n",
    "The specific values you use to generate the variables are up to you, as long as they fulfill the criteria specified."
   ]
  },
  {
   "cell_type": "code",
   "execution_count": 3,
   "metadata": {
    "nbgrader": {
     "grade": false,
     "grade_id": "q1a",
     "locked": false,
     "schema_version": 3,
     "solution": true
    }
   },
   "outputs": [],
   "source": [
    "### BEGIN SOLUTION\n",
    "# actual values stored will differ\n",
    "var_str = 'Shannon'\n",
    "var_num = 6\n",
    "var_col = [1, 2, 3]\n",
    "### END SOLUTION"
   ]
  },
  {
   "cell_type": "code",
   "execution_count": 4,
   "metadata": {
    "nbgrader": {
     "grade": true,
     "grade_id": "q1-t1",
     "locked": true,
     "points": 0.25,
     "schema_version": 3,
     "solution": false
    }
   },
   "outputs": [],
   "source": [
    "# check variable exists\n",
    "assert var_str is not None\n",
    "### BEGIN HIDDEN TESTS\n",
    "assert isinstance(var_str, str)\n",
    "assert len(var_str) == 7\n",
    "### END HIDDEN TESTS"
   ]
  },
  {
   "cell_type": "code",
   "execution_count": 5,
   "metadata": {
    "nbgrader": {
     "grade": true,
     "grade_id": "q1-t3",
     "locked": true,
     "points": 0.25,
     "schema_version": 3,
     "solution": false,
     "task": false
    }
   },
   "outputs": [],
   "source": [
    "assert var_num is not None\n",
    "### BEGIN HIDDEN TESTS\n",
    "assert var_num ** 2 == 36\n",
    "### END HIDDEN TESTS"
   ]
  },
  {
   "cell_type": "code",
   "execution_count": 6,
   "metadata": {
    "nbgrader": {
     "grade": true,
     "grade_id": "q1-t2",
     "locked": true,
     "points": 0.25,
     "schema_version": 3,
     "solution": false
    }
   },
   "outputs": [],
   "source": [
    "assert var_col is not None\n",
    "### BEGIN HIDDEN TESTS\n",
    "assert isinstance(var_col, list)\n",
    "assert len(var_col) == 3\n",
    "### END HIDDEN TESTS"
   ]
  },
  {
   "cell_type": "markdown",
   "metadata": {
    "nbgrader": {
     "grade": false,
     "grade_id": "q2",
     "locked": true,
     "schema_version": 3,
     "solution": false
    }
   },
   "source": [
    "### Q2 - Math Operators (1 point)\n",
    "\n",
    "Use the variables provided in the cell below (`var_low`, `var_mid` and `var_high`) to generate the variables: `var_150` and `var_14` according to the following specifications:\n",
    "\n",
    "- `var_150` | use the 3 variables provided once each and *at least two* of the math operators (`+`, `-`, `*`, `/`, `**`, `//`, `%`) to store the value 150 \n",
    "- `var_14` | use the 3 variables provided once each and *at least two* of the math operators (`+`, `-`, `*`, `/`, `**`, `//`, `%`) to store the value 14"
   ]
  },
  {
   "cell_type": "code",
   "execution_count": 7,
   "metadata": {
    "nbgrader": {
     "grade": false,
     "grade_id": "cell-1ab3f523fc0818e7",
     "locked": true,
     "schema_version": 3,
     "solution": false,
     "task": false
    }
   },
   "outputs": [],
   "source": [
    "# these variables provided for you\n",
    "# this cell is read-only (cannot be changed)\n",
    "var_low = 5\n",
    "var_mid = 10\n",
    "var_high = 20"
   ]
  },
  {
   "cell_type": "code",
   "execution_count": 8,
   "metadata": {
    "nbgrader": {
     "grade": false,
     "grade_id": "q2a",
     "locked": false,
     "schema_version": 3,
     "solution": true
    }
   },
   "outputs": [
    {
     "name": "stdout",
     "output_type": "stream",
     "text": [
      "150 14\n"
     ]
    }
   ],
   "source": [
    "### BEGIN SOLUTION\n",
    "# actual operations will differ\n",
    "var_150 = (var_high - var_low) * var_mid\n",
    "var_14 = (var_high // var_low) + var_mid\n",
    "\n",
    "print(var_150, var_14)\n",
    "### END SOLUTION"
   ]
  },
  {
   "cell_type": "code",
   "execution_count": 9,
   "metadata": {
    "nbgrader": {
     "grade": true,
     "grade_id": "q2-t1",
     "locked": true,
     "points": 0.35,
     "schema_version": 3,
     "solution": false
    }
   },
   "outputs": [],
   "source": [
    "assert var_150 is not None\n",
    "### BEGIN HIDDEN TESTS\n",
    "assert var_150 == 150\n",
    "### END HIDDEN TESTS"
   ]
  },
  {
   "cell_type": "code",
   "execution_count": 10,
   "metadata": {
    "nbgrader": {
     "grade": true,
     "grade_id": "q2-t2",
     "locked": true,
     "points": 0.35,
     "schema_version": 3,
     "solution": false
    }
   },
   "outputs": [],
   "source": [
    "assert var_14 is not None\n",
    "### BEGIN HIDDEN TESTS\n",
    "assert var_14 == 14\n",
    "### END HIDDEN TESTS"
   ]
  },
  {
   "cell_type": "markdown",
   "metadata": {
    "nbgrader": {
     "grade": false,
     "grade_id": "q2-t3",
     "locked": true,
     "points": 0.3,
     "schema_version": 3,
     "solution": false,
     "task": true
    }
   },
   "source": [
    "**This \"blank\" cell included intentionally.** Do not do anything here. (It's being used in grading.)\n",
    "\n",
    "=== BEGIN MARK SCHEME ===\n",
    "\n",
    "- correct operators used (0.15)\n",
    "- variables referenced; did not hard-code numbers (0.15)  \n",
    "\n",
    "Note: It's ok if they also referenced additional values other than the variables provided.\n",
    "\n",
    "=== END MARK SCHEME ===\n"
   ]
  },
  {
   "cell_type": "markdown",
   "metadata": {
    "nbgrader": {
     "grade": false,
     "grade_id": "q3",
     "locked": true,
     "schema_version": 3,
     "solution": false
    }
   },
   "source": [
    "### Q3 - Comparison Operators (1 point)\n",
    "\n",
    "Store your favorite number in the variable `fav_num`. \n",
    "\n",
    "Then, store another number between 1 and 1000 in the variable `comparison_num`\n",
    "\n",
    "Finally, referencing both `fav_num` and `comparison_num` *and* using at least one comparison operator, define two variables: `true_comp` and `false_comp`\n",
    "\n",
    "These variables must satisfy the following requirements:\n",
    "\n",
    "1. Each variable must be defined using one comparison operator (`<`,`>`,`<=`,`>=`,`!=`,`==`).\n",
    "2. Each variable must use and refer to `fav_num` and `comparison_num` (and no other values or variables)\n",
    "4. `true_comp` should evaluate as the boolean `True`; `false_comp` should evaluate as the boolean `False`"
   ]
  },
  {
   "cell_type": "code",
   "execution_count": 11,
   "metadata": {
    "nbgrader": {
     "grade": false,
     "grade_id": "q3a",
     "locked": false,
     "schema_version": 3,
     "solution": true
    }
   },
   "outputs": [],
   "source": [
    "### BEGIN SOLUTION\n",
    "fav_num = 3 # specific values will differ\n",
    "comparison_num = 29\n",
    "\n",
    "true_comp = fav_num < comparison_num\n",
    "false_comp = fav_num == comparison_num\n",
    "### END SOLUTION"
   ]
  },
  {
   "cell_type": "code",
   "execution_count": 12,
   "metadata": {
    "nbgrader": {
     "grade": true,
     "grade_id": "q3-t1",
     "locked": true,
     "points": 0.25,
     "schema_version": 3,
     "solution": false
    }
   },
   "outputs": [],
   "source": [
    "assert true_comp is not None\n",
    "### BEGIN HIDDEN TESTS\n",
    "assert true_comp\n",
    "### END HIDDEN TESTS"
   ]
  },
  {
   "cell_type": "code",
   "execution_count": 13,
   "metadata": {
    "nbgrader": {
     "grade": true,
     "grade_id": "q3-t2",
     "locked": true,
     "points": 0.25,
     "schema_version": 3,
     "solution": false
    }
   },
   "outputs": [],
   "source": [
    "assert false_comp is not None\n",
    "### BEGIN HIDDEN TESTS\n",
    "assert not false_comp\n",
    "### END HIDDEN TESTS"
   ]
  },
  {
   "cell_type": "markdown",
   "metadata": {
    "nbgrader": {
     "grade": false,
     "grade_id": "q3-t5",
     "locked": true,
     "points": 0.5,
     "schema_version": 3,
     "solution": false,
     "task": true
    }
   },
   "source": [
    "**This \"blank\" cell included intentionally.** Do not do anything here. (It's being used in grading.)\n",
    "\n",
    "=== BEGIN MARK SCHEME ===\n",
    "\n",
    "- both variables reference `fav_num` and `comparison_num` (**0.25 pts**)\n",
    "- both variables reference use at least one comparison operator (**0.25 pts**)\n",
    "\n",
    "=== END MARK SCHEME ==="
   ]
  },
  {
   "cell_type": "markdown",
   "metadata": {
    "nbgrader": {
     "grade": false,
     "grade_id": "cell-77e7ac0498176358",
     "locked": true,
     "schema_version": 3,
     "solution": false,
     "task": false
    }
   },
   "source": [
    "### Q4 - Membership Operators (0.4 points)\n",
    "\n",
    "Define an *immutable* variable of length 7 called `my_var`, such that when you check whether 'COGS' is a member of `my_var` it returns `True`, but if you check whether 'holiday' is a member of `my_var` it returns `False`"
   ]
  },
  {
   "cell_type": "code",
   "execution_count": 14,
   "metadata": {
    "nbgrader": {
     "grade": false,
     "grade_id": "cell-f4e64b6777aff0a4",
     "locked": false,
     "schema_version": 3,
     "solution": true,
     "task": false
    }
   },
   "outputs": [],
   "source": [
    "### BEGIN SOLUTION\n",
    "# students could define *either* a string OR a tuple here\n",
    "my_var = 'COGS18!'\n",
    "# or\n",
    "my_var = ('COGS', 'b', 'c', 'd', 'e', 'f', 'g')\n",
    "### END SOLUTION"
   ]
  },
  {
   "cell_type": "code",
   "execution_count": 15,
   "metadata": {
    "nbgrader": {
     "grade": true,
     "grade_id": "cell-92c7c3227a68644b",
     "locked": true,
     "points": 0.1,
     "schema_version": 3,
     "solution": false,
     "task": false
    }
   },
   "outputs": [],
   "source": [
    "assert my_var is not None\n",
    "### BEGIN HIDDEN TESTS\n",
    "assert type(my_var) in [tuple, str]\n",
    "### END HIDDEN TESTS"
   ]
  },
  {
   "cell_type": "code",
   "execution_count": 16,
   "metadata": {
    "nbgrader": {
     "grade": true,
     "grade_id": "cell-3be15b8b3f026f5e",
     "locked": true,
     "points": 0.1,
     "schema_version": 3,
     "solution": false,
     "task": false
    }
   },
   "outputs": [],
   "source": [
    "# hidden tests to check length\n",
    "### BEGIN HIDDEN TESTS\n",
    "assert len(my_var) == 7\n",
    "### END HIDDEN TESTS"
   ]
  },
  {
   "cell_type": "code",
   "execution_count": 17,
   "metadata": {
    "nbgrader": {
     "grade": true,
     "grade_id": "cell-5c81a4b7ed540a90",
     "locked": true,
     "points": 0.1,
     "schema_version": 3,
     "solution": false
    }
   },
   "outputs": [],
   "source": [
    "# hidden tests to check conditions specified in instructions\n",
    "### BEGIN HIDDEN TESTS\n",
    "assert 'COGS' in my_var\n",
    "### END HIDDEN TESTS"
   ]
  },
  {
   "cell_type": "code",
   "execution_count": 18,
   "metadata": {
    "nbgrader": {
     "grade": true,
     "grade_id": "cell-f77a2729e8a01ea4",
     "locked": true,
     "points": 0.1,
     "schema_version": 3,
     "solution": false
    }
   },
   "outputs": [],
   "source": [
    "# hidden tests to check conditions specified in instructions\n",
    "### BEGIN HIDDEN TESTS\n",
    "assert 'holiday' not in my_var\n",
    "### END HIDDEN TESTS"
   ]
  },
  {
   "cell_type": "markdown",
   "metadata": {
    "nbgrader": {
     "grade": false,
     "grade_id": "cell-a71e617c033e1f79",
     "locked": true,
     "schema_version": 3,
     "solution": false,
     "task": false
    }
   },
   "source": [
    "### Q5 - String Concatenation (0.5 points)\n",
    "\n",
    "In this question, you'll specify how you've been feeling since returning to in-person learning. \n",
    "\n",
    "Define the variable `my_feeling` such that it stores the string `Returning to in-person learning has been ---.` , where the `---` is replaced by one of the values in `feelings` (provided below).\n",
    "\n",
    "Notes: \n",
    "- Your answer should reference (meaning: use) the variable `feelings`. You should NOT simply type one of the words from the list in your answer.\n",
    "- Spacing, captialization, and punctuation all matter. Be sure your resulting string matches what's specified in the instructions (including the period at the end of the sentence; note there is NO extra space in the string. It ends with a period.). "
   ]
  },
  {
   "cell_type": "code",
   "execution_count": 19,
   "metadata": {
    "nbgrader": {
     "grade": false,
     "grade_id": "cell-5ae37d59b3f8f95d",
     "locked": true,
     "schema_version": 3,
     "solution": false,
     "task": false
    }
   },
   "outputs": [],
   "source": [
    "# these variables provided for you\n",
    "# this cell is read-only (cannot be changed)\n",
    "feelings = ['exciting', 'nerve-wracking', 'boring', 'fun']"
   ]
  },
  {
   "cell_type": "code",
   "execution_count": 20,
   "metadata": {
    "nbgrader": {
     "grade": false,
     "grade_id": "cell-876b19d964a590ef",
     "locked": false,
     "schema_version": 3,
     "solution": true,
     "task": false
    }
   },
   "outputs": [
    {
     "name": "stdout",
     "output_type": "stream",
     "text": [
      "Returning to in-person learning has been exciting.\n"
     ]
    }
   ],
   "source": [
    "### BEGIN SOLUTION\n",
    "my_feeling = \"Returning to in-person learning has been \" + feelings[0] + '.'\n",
    "print(my_feeling)\n",
    "### END SOLUTION"
   ]
  },
  {
   "cell_type": "code",
   "execution_count": 21,
   "metadata": {
    "nbgrader": {
     "grade": true,
     "grade_id": "cell-e70e29fe7c2397a7",
     "locked": true,
     "points": 0.1,
     "schema_version": 3,
     "solution": false,
     "task": false
    }
   },
   "outputs": [],
   "source": [
    "assert my_feeling is not None\n",
    "### BEGIN HIDDEN TESTS\n",
    "assert isinstance(my_feeling, str)\n",
    "### END HIDDEN TESTS"
   ]
  },
  {
   "cell_type": "code",
   "execution_count": 22,
   "metadata": {
    "nbgrader": {
     "grade": true,
     "grade_id": "cell-88863536cb6918f4",
     "locked": true,
     "points": 0.4,
     "schema_version": 3,
     "solution": false,
     "task": false
    }
   },
   "outputs": [],
   "source": [
    "# hidden test checking for correct string\n",
    "### BEGIN HIDDEN TESTS\n",
    "assert my_feeling in ['Returning to in-person learning has been exciting.',\n",
    "                      'Returning to in-person learning has been nerve-wracking.',\n",
    "                      'Returning to in-person learning has been boring.',\n",
    "                      'Returning to in-person learning has been fun.']\n",
    "### END HIDDEN TESTS"
   ]
  },
  {
   "cell_type": "markdown",
   "metadata": {
    "nbgrader": {
     "grade": false,
     "grade_id": "cell-d3575c159bc88977",
     "locked": true,
     "points": 0,
     "schema_version": 3,
     "solution": false,
     "task": true
    }
   },
   "source": [
    "**This \"blank\" cell included intentionally.** Do not do anything here. (It's being used in grading.)\n",
    "\n",
    "=== BEGIN MARK SCHEME ===\n",
    "\n",
    "- if hard-coded (doesn't reference variable/use indexing, remove autograder credit from cell above (-0.4)\n",
    "\n",
    "=== END MARK SCHEME ==="
   ]
  },
  {
   "cell_type": "markdown",
   "metadata": {
    "nbgrader": {
     "grade": false,
     "grade_id": "part2",
     "locked": true,
     "schema_version": 3,
     "solution": false
    }
   },
   "source": [
    "## Part 2: Collections & Indexing  (2.5 points)"
   ]
  },
  {
   "cell_type": "markdown",
   "metadata": {
    "nbgrader": {
     "grade": false,
     "grade_id": "q4",
     "locked": true,
     "schema_version": 3,
     "solution": false
    }
   },
   "source": [
    "### Q6 - Lists & Indexing (1 point)\n",
    "\n",
    "The list `burritos` has been provided in the cell below for you.\n",
    "\n",
    "***Use the `burritos` variable and indexing*** to generate each of the four variables at left below, so that each stores the output at right below. For example, `burritos_a` should refer to `burritos` in its answer and use indexing to store the string 'Cali'.\n",
    "\n",
    "- `burritos_a` | `'Cali'`\n",
    "- `burritos_b` | `['Adobada', 'Bean and Cheese', 'Steak Ranchero', 'Carnitas']`\n",
    "- `burritos_c` | `['Cali', 'Steak Ranchero']`\n",
    "- `burritos_d` | `['Chicken', 'Chile Verde', 'Adobada', 'Steak Ranchero']`"
   ]
  },
  {
   "cell_type": "code",
   "execution_count": 23,
   "metadata": {
    "nbgrader": {
     "grade": false,
     "grade_id": "q4-var",
     "locked": true,
     "schema_version": 3,
     "solution": false,
     "task": false
    }
   },
   "outputs": [],
   "source": [
    "# this variables provided for you\n",
    "# this cell is read-only (cannot be changed)\n",
    "burritos = ['Chicken', 'Carne Asada', 'Chile Verde', 'Cali', \n",
    "            'Adobada', 'Bean and Cheese', 'Steak Ranchero',\n",
    "            'Carnitas']"
   ]
  },
  {
   "cell_type": "code",
   "execution_count": 24,
   "metadata": {
    "nbgrader": {
     "grade": false,
     "grade_id": "q4a",
     "locked": false,
     "schema_version": 3,
     "solution": true
    }
   },
   "outputs": [],
   "source": [
    "### BEGIN SOLUTION\n",
    "# actual values will differ\n",
    "burritos_a = burritos[3]\n",
    "burritos_b = burritos[-4:]\n",
    "burritos_c = burritos[3::3]\n",
    "burritos_d = burritos[::2]\n",
    "### END SOLUTION"
   ]
  },
  {
   "cell_type": "code",
   "execution_count": 25,
   "metadata": {
    "nbgrader": {
     "grade": true,
     "grade_id": "q4-t1",
     "locked": true,
     "points": 0.25,
     "schema_version": 3,
     "solution": false
    }
   },
   "outputs": [],
   "source": [
    "assert burritos_a\n",
    "### BEGIN HIDDEN TESTS\n",
    "assert burritos_a == 'Cali'\n",
    "### END HIDDEN TESTS"
   ]
  },
  {
   "cell_type": "code",
   "execution_count": 26,
   "metadata": {
    "nbgrader": {
     "grade": true,
     "grade_id": "q4-t2",
     "locked": true,
     "points": 0.25,
     "schema_version": 3,
     "solution": false
    }
   },
   "outputs": [],
   "source": [
    "assert burritos_b\n",
    "### BEGIN HIDDEN TESTS\n",
    "assert burritos_b == ['Adobada', 'Bean and Cheese', 'Steak Ranchero', 'Carnitas']\n",
    "### END HIDDEN TESTS"
   ]
  },
  {
   "cell_type": "code",
   "execution_count": 27,
   "metadata": {
    "nbgrader": {
     "grade": true,
     "grade_id": "q4-t3",
     "locked": true,
     "points": 0.25,
     "schema_version": 3,
     "solution": false
    }
   },
   "outputs": [],
   "source": [
    "assert burritos_c\n",
    "### BEGIN HIDDEN TESTS\n",
    "assert burritos_c == ['Cali', 'Steak Ranchero']\n",
    "### END HIDDEN TESTS"
   ]
  },
  {
   "cell_type": "code",
   "execution_count": 28,
   "metadata": {
    "nbgrader": {
     "grade": true,
     "grade_id": "q4-t4",
     "locked": true,
     "points": 0.25,
     "schema_version": 3,
     "solution": false,
     "task": false
    }
   },
   "outputs": [],
   "source": [
    "assert burritos_d\n",
    "### BEGIN HIDDEN TESTS\n",
    "assert burritos_d == ['Chicken', 'Chile Verde', 'Adobada', 'Steak Ranchero']\n",
    "### END HIDDEN TESTS"
   ]
  },
  {
   "cell_type": "markdown",
   "metadata": {
    "nbgrader": {
     "grade": false,
     "grade_id": "q4-t5",
     "locked": true,
     "points": 0,
     "schema_version": 3,
     "solution": false,
     "task": true
    }
   },
   "source": [
    "**This \"blank\" cell included intentionally.** Do not do anything here. (It's being used in grading.)\n",
    "\n",
    "=== BEGIN MARK SCHEME ===\n",
    "\n",
    "- if hard-coded (doesn't use indexing & reference `burritos`), remove autograder credit\n",
    "\n",
    "=== END MARK SCHEME ===\n"
   ]
  },
  {
   "cell_type": "markdown",
   "metadata": {
    "nbgrader": {
     "grade": false,
     "grade_id": "q7",
     "locked": true,
     "schema_version": 3,
     "solution": false
    }
   },
   "source": [
    "### Q7 - Tuples (1 point)\n",
    "\n",
    "In the cell below, explain the information or values you would store in a tuple, and why that variable type would be appropriate for your situation. \n",
    "\n",
    "Note: you do not *have* to write any python code here; we're looking for a written explanation."
   ]
  },
  {
   "cell_type": "markdown",
   "metadata": {
    "nbgrader": {
     "grade": true,
     "grade_id": "q7a",
     "locked": false,
     "points": 0,
     "schema_version": 3,
     "solution": true
    },
    "scrolled": true
   },
   "source": [
    "Possible examples (important fact was that they wouldn't reasonably change): birthdays of immediate family members; social security numbers of specific set of people; constants in physics; etc.\n",
    "\n",
    "Answer also had to mention immutability of tuples"
   ]
  },
  {
   "cell_type": "markdown",
   "metadata": {
    "nbgrader": {
     "grade": false,
     "grade_id": "q7-t1",
     "locked": true,
     "points": 1,
     "schema_version": 3,
     "solution": false,
     "task": true
    }
   },
   "source": [
    "**This \"blank\" cell included intentionally.** Do not do anything here. (It's being used in grading.)\n",
    "\n",
    "=== BEGIN MARK SCHEME ===\n",
    "\n",
    "- example provided includes multiple pieces of information being stored (**0.25 pts**)\n",
    "- information being stored would reasonably NOT want to be changed (**0.50 pts**)\n",
    "- student explanation links immutability to their example (**0.25 pts**)\n",
    "\n",
    "=== END MARK SCHEME ==="
   ]
  },
  {
   "cell_type": "markdown",
   "metadata": {
    "nbgrader": {
     "grade": false,
     "grade_id": "cell-56121ef94ddbb84e",
     "locked": true,
     "schema_version": 3,
     "solution": false,
     "task": false
    }
   },
   "source": [
    "### Q8 - Collections & Indexing  (0.5 points)\n",
    "\n",
    "Professor Ellis is trying to learn more about the colleges at UCSD (even though she's been here since 2019), so she's pulled together a list of the colleges. Unfortunately, she's got some bad information. Using code constructs discussed in class, replace any element in `ucsd_colleges` that is NOT a college at UCSD with an empty string. Your updated list should be stored in the same variable: `ucsd_colleges`.\n",
    "\n",
    "Note: Prof Ellis is NOT trying to trip you up on spelling or anything here, so you don't have to check each college's spelling or anything like that."
   ]
  },
  {
   "cell_type": "code",
   "execution_count": 29,
   "metadata": {
    "nbgrader": {
     "grade": false,
     "grade_id": "cell-7c69ad14dd1ce0a1",
     "locked": true,
     "schema_version": 3,
     "solution": false
    }
   },
   "outputs": [],
   "source": [
    "# this variable provided for you\n",
    "# this cell is read-only (cannot be changed)\n",
    "ucsd_colleges = ['Revelle',\n",
    "                 'John Muir',\n",
    "                 'Thurgood Marshall',\n",
    "                 'Sarah Marshall',\n",
    "                 'Earl Warren',\n",
    "                 'Eleanor Roosevelt',\n",
    "                 'Sixth',\n",
    "                 'Torrey Pines',\n",
    "                 'Seventh']"
   ]
  },
  {
   "cell_type": "code",
   "execution_count": 30,
   "metadata": {
    "nbgrader": {
     "grade": false,
     "grade_id": "q5a-part2",
     "locked": false,
     "schema_version": 3,
     "solution": true,
     "task": false
    }
   },
   "outputs": [],
   "source": [
    "### BEGIN SOLUTION\n",
    "ucsd_colleges[3] = ''\n",
    "ucsd_colleges[7] = ''\n",
    "### END SOLUTION"
   ]
  },
  {
   "cell_type": "code",
   "execution_count": 31,
   "metadata": {
    "nbgrader": {
     "grade": true,
     "grade_id": "q5-t5",
     "locked": true,
     "points": 0.25,
     "schema_version": 3,
     "solution": false,
     "task": false
    }
   },
   "outputs": [],
   "source": [
    "assert ucsd_colleges is not None\n",
    "### BEGIN HIDDEN TESTS\n",
    "assert ucsd_colleges[3] == ''\n",
    "### END HIDDEN TESTS"
   ]
  },
  {
   "cell_type": "code",
   "execution_count": 32,
   "metadata": {
    "nbgrader": {
     "grade": true,
     "grade_id": "q5-t6",
     "locked": true,
     "points": 0.25,
     "schema_version": 3,
     "solution": false,
     "task": false
    }
   },
   "outputs": [],
   "source": [
    "# hidden test\n",
    "### BEGIN HIDDEN TESTS\n",
    "assert ucsd_colleges[7] == ''\n",
    "### END HIDDEN TESTS"
   ]
  },
  {
   "cell_type": "markdown",
   "metadata": {
    "nbgrader": {
     "grade": false,
     "grade_id": "cell-63c936c684aedcbb",
     "locked": true,
     "points": 0,
     "schema_version": 3,
     "solution": false,
     "task": true
    }
   },
   "source": [
    "**This \"blank\" cell included intentionally.** Do not do anything here. (It's being used in grading.)\n",
    "\n",
    "=== BEGIN MARK SCHEME ===\n",
    "\n",
    "- if hard-coded (doesn't use indexing/conditionals & does not reference `ucsd_colleges`), remove autograder credit\n",
    "\n",
    "=== END MARK SCHEME ===\n"
   ]
  },
  {
   "cell_type": "markdown",
   "metadata": {
    "nbgrader": {
     "grade": false,
     "grade_id": "cell-08558daba596965c",
     "locked": true,
     "schema_version": 3,
     "solution": false
    }
   },
   "source": [
    "## Part 3: Control Flow - Conditionals & Loops  (6.2 points)"
   ]
  },
  {
   "cell_type": "markdown",
   "metadata": {
    "nbgrader": {
     "grade": false,
     "grade_id": "q6",
     "locked": true,
     "schema_version": 3,
     "solution": false
    }
   },
   "source": [
    "### Q9 - Conditionals (1.6 points)\n",
    "\n",
    "You're working on software that's supposed to determine whether a speeding ticket should be written. \n",
    "\n",
    "For this you have to consider both *where* the person is driving *and* how fast they're going. If the person should receive a ticket, the variable `ticket` should store the boolean `True`; otherwise, `ticket` should store `False`.\n",
    "\n",
    "More specifically, you have to write a conditional that references the three variables provided below and considers the following logic:\n",
    "\n",
    "It should specify that a ticket should be written under the following three conditions:\n",
    "1. If the person's `zone` is 'private' and their `speed` is greater than the `private_mph` (defined below)\n",
    "2. If the person's `zone` is 'local' and their `speed` is greater than the `local_mph` (defined below)\n",
    "3. If the person's `zone` is 'highway' and their `speed` is greater than the `hwy_mph` (defined below)\n",
    "\n",
    "Otherwise, the person should not be written a ticket.\n",
    "\n",
    "Note: `zone` and `speed` have been defined below for you. You can (and should) try out other values for those variables to make sure your logic is working as expected; however, when you're done be sure `zone` has the value 'private' and `speed` the value `20`."
   ]
  },
  {
   "cell_type": "code",
   "execution_count": 33,
   "metadata": {
    "nbgrader": {
     "grade": false,
     "grade_id": "cell-acee02aaeaa9c647",
     "locked": true,
     "schema_version": 3,
     "solution": false,
     "task": false
    }
   },
   "outputs": [],
   "source": [
    "# these variables provided for you\n",
    "# this cell is read-only (cannot be changed)\n",
    "private_mph = 5\n",
    "local_mph = 25\n",
    "hwy_mph = 65"
   ]
  },
  {
   "cell_type": "code",
   "execution_count": 34,
   "metadata": {
    "nbgrader": {
     "grade": false,
     "grade_id": "q6a",
     "locked": false,
     "schema_version": 3,
     "solution": true
    }
   },
   "outputs": [],
   "source": [
    "zone = 'private'\n",
    "speed = 20\n",
    "\n",
    "### BEGIN SOLUTION\n",
    "if zone == 'private' and speed > private_mph:\n",
    "    ticket = True\n",
    "elif zone == 'local' and speed > local_mph:\n",
    "    ticket = True\n",
    "elif zone == 'highway' and speed > hwy_mph:\n",
    "    ticket = True\n",
    "else:\n",
    "    ticket = False\n",
    "### END SOLUTION"
   ]
  },
  {
   "cell_type": "code",
   "execution_count": 35,
   "metadata": {
    "nbgrader": {
     "grade": true,
     "grade_id": "q6-t1",
     "locked": true,
     "points": 0.6,
     "schema_version": 3,
     "solution": false
    }
   },
   "outputs": [],
   "source": [
    "assert ticket is not None\n",
    "### BEGIN HIDDEN TESTS\n",
    "assert ticket\n",
    "### END HIDDEN TESTS"
   ]
  },
  {
   "cell_type": "markdown",
   "metadata": {
    "nbgrader": {
     "grade": false,
     "grade_id": "q6-t2",
     "locked": true,
     "points": 1,
     "schema_version": 3,
     "solution": false,
     "task": true
    }
   },
   "source": [
    "**This \"blank\" cell included intentionally.** Do not do anything here. (It's being used in grading.)\n",
    "\n",
    "\n",
    "=== BEGIN MARK SCHEME ===\n",
    "\n",
    "- uses `if`/`elif`/`elif`/`else` syntax correctly; half credit if `if`/`if`/`if`/`else` used (**0.4 points**)\n",
    "- conditionals correct \n",
    "    - references variables (`private_mph`, `local_mph`, `hwy_mph`) and doesn't hard-code (**0.2 points**)\n",
    "    - references `zone` (**0.1 points**)\n",
    "    - uses `>` and `and`/`&` correctly  (**0.2 points**)\n",
    "- `ticket` assigned a boolean value (even if logic is incorrect) (**0.1 points**)\n",
    "\n",
    "=== END MARK SCHEME ==="
   ]
  },
  {
   "cell_type": "markdown",
   "metadata": {
    "nbgrader": {
     "grade": false,
     "grade_id": "q9",
     "locked": true,
     "schema_version": 3,
     "solution": false
    }
   },
   "source": [
    "### Q10 - `for` loop (2.75 points)\n",
    "\n",
    "Rather than determining whether one single car should have a ticket written (as you did in the previous question), now you have to use the same logic, but for a whole list of cars. Two variables have been defined for you below. `speeds` includes the speeds of 6 cars. `zones` includes the zones in which each of those 6 cars was driving. For example, the first car was going `29` mph in a `'private'` zone.\n",
    "\n",
    "Your goal is to determine for each of these cars whether or not they should receive a ticket (where `True` indicates they deserve a ticket and `False` does not). These values should be stored in a list called `output_list`, such that at the end you have a list of six booleans in `output_list` corresponding to the six cars in `speeds`/`zones`."
   ]
  },
  {
   "cell_type": "code",
   "execution_count": 36,
   "metadata": {
    "nbgrader": {
     "grade": false,
     "grade_id": "cell-211fd28ed307b385",
     "locked": true,
     "schema_version": 3,
     "solution": false,
     "task": false
    }
   },
   "outputs": [],
   "source": [
    "# these variables provided for you\n",
    "# this cell is read-only (cannot be changed)\n",
    "speeds = [29, 30, 60, 4, 15, 27]\n",
    "zones = ['private', 'local', 'highway', 'private', 'local', 'highway']"
   ]
  },
  {
   "cell_type": "code",
   "execution_count": 37,
   "metadata": {
    "nbgrader": {
     "grade": false,
     "grade_id": "q9a",
     "locked": false,
     "schema_version": 3,
     "solution": true
    }
   },
   "outputs": [
    {
     "data": {
      "text/plain": [
       "[True, True, False, False, False, False]"
      ]
     },
     "execution_count": 37,
     "metadata": {},
     "output_type": "execute_result"
    }
   ],
   "source": [
    "### BEGIN SOLUTION\n",
    "output_list = []\n",
    "\n",
    "for val in range(0, len(speeds)):\n",
    "    \n",
    "    zone = zones[val]\n",
    "    speed = speeds[val]\n",
    "    \n",
    "    if zone == 'private' and speed > private_mph:\n",
    "        ticket = True\n",
    "    elif zone == 'local' and speed > local_mph:\n",
    "        ticket = True\n",
    "    elif zone == 'highway' and speed > hwy_mph:\n",
    "        ticket = True\n",
    "    else:\n",
    "        ticket = False\n",
    "    \n",
    "    output_list.append(ticket)\n",
    "\n",
    "output_list\n",
    "\n",
    "# solution without using append:\n",
    "\n",
    "# output_list = [None, None, None, None, None, None]\n",
    "# for val in range(0, len(speeds)):\n",
    "#     if zones [val] == 'private' and speeds[val] > private_mph:\n",
    "#         output_list[val] = True\n",
    "#     elif zones[val] == 'local' and speeds[val] > local_mph:\n",
    "#         output_list[val] = True\n",
    "#     elif zones[val] == 'highway' and speeds[val]> hwy_mph:\n",
    "#         output_list[val] = True\n",
    "#     else:\n",
    "#         output_list[val]= False\n",
    "### END SOLUTION"
   ]
  },
  {
   "cell_type": "code",
   "execution_count": 38,
   "metadata": {
    "nbgrader": {
     "grade": true,
     "grade_id": "q9-t1",
     "locked": true,
     "points": 0.5,
     "schema_version": 3,
     "solution": false
    }
   },
   "outputs": [],
   "source": [
    "assert output_list is not None\n",
    "### BEGIN HIDDEN TESTS\n",
    "assert len(output_list) == 6\n",
    "assert all([isinstance(x, bool) for x in output_list])\n",
    "### END HIDDEN TESTS"
   ]
  },
  {
   "cell_type": "code",
   "execution_count": 39,
   "metadata": {
    "nbgrader": {
     "grade": true,
     "grade_id": "cell-ba7e0c193a82faaf",
     "locked": true,
     "points": 0.5,
     "schema_version": 3,
     "solution": false,
     "task": false
    }
   },
   "outputs": [],
   "source": [
    "# hidden test checking values in output_list\n",
    "### BEGIN HIDDEN TESTS\n",
    "assert output_list == [True, True, False, False, False, False]\n",
    "### END HIDDEN TESTS"
   ]
  },
  {
   "cell_type": "markdown",
   "metadata": {
    "nbgrader": {
     "grade": false,
     "grade_id": "q9-t2",
     "locked": true,
     "points": 1.75,
     "schema_version": 3,
     "solution": false,
     "task": true
    }
   },
   "source": [
    "**This \"blank\" cell included intentionally.** Do not do anything here. (It's being used in grading.)\n",
    "\n",
    "=== BEGIN MARK SCHEME ===\n",
    "- `output_list` initialized with a value [] (**0.25 points**)\n",
    "- `for` loop thorugh `cars`/`zones`/range of len (**0.5 points**)\n",
    "- indexed to get value from list correctly (**0.5 points**)\n",
    "- conditionals included (not grading for correctness, as last question did) (**0.25 points**)\n",
    "- list appended correctly (**0.25 points**)\n",
    "    \n",
    "=== END MARK SCHEME ==="
   ]
  },
  {
   "cell_type": "markdown",
   "metadata": {
    "nbgrader": {
     "grade": false,
     "grade_id": "cell-e1f9fa847b38eac9",
     "locked": true,
     "schema_version": 3,
     "solution": false,
     "task": false
    }
   },
   "source": [
    "### Q11 - Accomplishing a task (1.85 points)\n",
    "\n",
    "Prof Ellis has a *lot* on her plate today, and she needs you to figure out if she has enough time to do it all. Assume that each of the `long_tasks` (defined below) takes 2 hours and each of the `short_tasks` (defined below) takes 1 hour to complete.\n",
    "\n",
    "Today, Prof Ellis has to write two (2) exams, grade an exam, answer email, hold office hours, and hold a staff meeting. She wants to know approximately how many hours that will take. \n",
    "\n",
    "Write code that will determine how long her day will take. Store the number of hours in the variable `prof_hours`.\n",
    "\n",
    "Note: Do not hard-code. Your answer should use code-construcs discussed in class to calculate `prof_hours`. In other words, if the specific tasks in a day were to change your `prof_hours` should still calculate correctly."
   ]
  },
  {
   "cell_type": "code",
   "execution_count": 40,
   "metadata": {
    "nbgrader": {
     "grade": false,
     "grade_id": "cell-fc03290fc1ccf12d",
     "locked": true,
     "schema_version": 3,
     "solution": false,
     "task": false
    }
   },
   "outputs": [],
   "source": [
    "# these variables provided for you\n",
    "# this cell is read-only (cannot be changed)\n",
    "long_tasks = ['write one exam', 'grade exam', 'prep lecture', 'office hours']\n",
    "short_tasks = ['review lecture', 'grade assignment', 'staff meeting', 'answer email']"
   ]
  },
  {
   "cell_type": "code",
   "execution_count": 41,
   "metadata": {
    "nbgrader": {
     "grade": false,
     "grade_id": "cell-1ea6cb63f391a4cf",
     "locked": false,
     "schema_version": 3,
     "solution": true,
     "task": false
    }
   },
   "outputs": [
    {
     "data": {
      "text/plain": [
       "10"
      ]
     },
     "execution_count": 41,
     "metadata": {},
     "output_type": "execute_result"
    }
   ],
   "source": [
    "### BEGIN SOLUTION\n",
    "prof_day = ['write one exam', 'write one exam', 'grade exam', 'answer email', 'office hours', 'staff meeting']\n",
    "prof_hours = 0 \n",
    "\n",
    "for task in prof_day:\n",
    "    if task in long_tasks: \n",
    "        prof_hours += 2\n",
    "    elif task in short_tasks:\n",
    "        prof_hours += 1 \n",
    "    else:\n",
    "        print('possible typo')\n",
    "\n",
    "prof_hours\n",
    "### END SOLUTION"
   ]
  },
  {
   "cell_type": "code",
   "execution_count": 42,
   "metadata": {
    "nbgrader": {
     "grade": true,
     "grade_id": "cell-b55e3349d00c555e",
     "locked": true,
     "points": 0.6,
     "schema_version": 3,
     "solution": false,
     "task": false
    }
   },
   "outputs": [],
   "source": [
    "assert prof_hours is not None\n",
    "### BEGIN HIDDEN TESTS\n",
    "assert prof_hours == 10\n",
    "### END HIDDEN TESTS"
   ]
  },
  {
   "cell_type": "markdown",
   "metadata": {
    "nbgrader": {
     "grade": false,
     "grade_id": "cell-6c3ff8ceb7efedf5",
     "locked": true,
     "points": 1.25,
     "schema_version": 3,
     "solution": false,
     "task": true
    }
   },
   "source": [
    "**This \"blank\" cell included intentionally.** Do not do anything here. (It's being used in grading.)\n",
    "\n",
    "=== BEGIN MARK SCHEME ===\n",
    "- `prof_hours` initialized (**0.25 points**)\n",
    "- `for` loop set up correctly (**0.25 points**)\n",
    "- conditional correct (references long_tasks; short_tasks) (**0.25 points**) \n",
    "- `prof_hours` incremented correctly (**0.5 points**)  \n",
    "\n",
    "=== END MARK SCHEME ==="
   ]
  },
  {
   "cell_type": "markdown",
   "metadata": {
    "nbgrader": {
     "grade": false,
     "grade_id": "fin",
     "locked": true,
     "schema_version": 3,
     "solution": false
    }
   },
   "source": [
    "### Submit on Datahub\n",
    "\n",
    "Good work - you're done!\n",
    "\n",
    "Check your work, and then when you're ready, **submit on datahub**.\n",
    "\n",
    "We will not have your exam until you click submit and see this show up under 'submitted assignments'."
   ]
  }
 ],
 "metadata": {
  "celltoolbar": "Create Assignment",
  "kernelspec": {
   "display_name": "Python 3",
   "language": "python",
   "name": "python3"
  },
  "language_info": {
   "codemirror_mode": {
    "name": "ipython",
    "version": 3
   },
   "file_extension": ".py",
   "mimetype": "text/x-python",
   "name": "python",
   "nbconvert_exporter": "python",
   "pygments_lexer": "ipython3",
   "version": "3.9.5"
  }
 },
 "nbformat": 4,
 "nbformat_minor": 2
}
