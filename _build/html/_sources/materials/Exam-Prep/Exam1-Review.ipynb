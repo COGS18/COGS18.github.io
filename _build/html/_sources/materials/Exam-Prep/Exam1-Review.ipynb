{
 "cells": [
  {
   "cell_type": "markdown",
   "id": "71bedfaa",
   "metadata": {
    "editable": true,
    "slideshow": {
     "slide_type": "slide"
    },
    "tags": []
   },
   "source": [
    "**Course Announcements**\n",
    " \n",
    "- **A2** due tonight (11:59 PM)\n",
    "- **E1 is on Thursday**\n",
    "    - closed notes in-class (12.5 pts) + open notes/open Internet take-home (2.5 pts)\n",
    "    - answer keys available\n",
    "    - no office hours on Thursday\n",
    "- **CL3** due Friday\n",
    "\n",
    "Notes: \n",
    "- Review slides (thanks Ana & Nikita) [here](https://docs.google.com/presentation/d/1B5eg0uy4XPK12BT7vW0SJLCIV5JrHtoUjfFYpoXX-2g) + [Extra OHs](https://piazza.com/class/luagsvdfwro6ek/post/87)\n",
    "- CL1 & A1 Scores Posted\n",
    "  - A1 regrades - fetch feedback on datahub; open for 3d; post privately to Instructors on Piazza\n",
    "  - CL - if you spent an hour of dedicated effort and didn't get full credit, reach out to me"
   ]
  },
  {
   "cell_type": "markdown",
   "id": "9bbfeb33",
   "metadata": {
    "editable": true,
    "slideshow": {
     "slide_type": "slide"
    },
    "tags": []
   },
   "source": [
    "# Exam 1 Review\n",
    "\n",
    "**In-class**:\n",
    "- bring a writing utensil\n",
    "- 20 Questions\n",
    "  - 8 multiple choice\n",
    "  - 9 fill in the blanks\n",
    "  - 1 draw arrows from concept to code\n",
    "  - 2 short answer\n",
    "\n",
    "**Take-home**:\n",
    "- 2 Questions\n",
    "  - 1 read/debug code\n",
    "  - 1 write a function\n",
    "- released at 3:30 PM; due 11:59 PM\n",
    "- fewer `assert`s than assignments"
   ]
  },
  {
   "cell_type": "markdown",
   "id": "f2f4e412-9d57-4721-b2a1-e10d89f58ee6",
   "metadata": {
    "editable": true,
    "slideshow": {
     "slide_type": "slide"
    },
    "tags": []
   },
   "source": [
    "## Big Topics Covered\n",
    "\n",
    "- **Variables & Data Types**\n",
    "    - Integers, Floats, Strings, Booleans, Lists, Tuples, Dictionaries\n",
    "- **Operators**\n",
    "    - logical, math, comparison, membership\n",
    "- **Functions**\n",
    "    - definition & execution\n",
    "    - default values\n",
    "    - keyword vs. positional\n",
    "- **Conditionals**\n",
    "    - if/elif/else"
   ]
  },
  {
   "cell_type": "markdown",
   "id": "6f08d34f-75d4-4ccd-86a4-8d224c9a8eef",
   "metadata": {
    "editable": true,
    "slideshow": {
     "slide_type": "fragment"
    },
    "tags": []
   },
   "source": [
    "**Expectations**:\n",
    "- Be able to explain/describe main concepts and vocabulary\n",
    "- Be able to read code and determine what it does\n",
    "- Be able to debug given code when a task is specified\n",
    "- Describe the logic/code needed to accomplish a task"
   ]
  },
  {
   "cell_type": "markdown",
   "id": "307e10b9-d87f-409f-b29d-ae87e6a782c0",
   "metadata": {
    "editable": true,
    "slideshow": {
     "slide_type": "fragment"
    },
    "tags": []
   },
   "source": [
    "**Questions?**"
   ]
  },
  {
   "cell_type": "markdown",
   "id": "a74ded95-084c-4e82-a4bb-5a7ed41fa407",
   "metadata": {},
   "source": [
    "## Indexing\n",
    "\n",
    "The list `burritos` has been provided in the cell below for you.\n",
    "\n",
    "***Use the `burritos` variable and indexing*** to generate each of the four variables at left below, so that each stores the output at right below. For example, `burritos_a` should refer to `burritos` in its answer and use indexing to store the string 'Cali'.\n",
    "\n",
    "- `burritos_a` | `'Cali'`\n",
    "- `burritos_b` | `['Adobada', 'Bean and Cheese', 'Steak Ranchero', 'Carnitas']`\n",
    "- `burritos_c` | `['Cali', 'Steak Ranchero']`\n",
    "- `burritos_d` | `['Chicken', 'Chile Verde', 'Adobada', 'Steak Ranchero']`"
   ]
  },
  {
   "cell_type": "code",
   "execution_count": null,
   "id": "aeef291e-205b-47ab-a52d-ba1ea7accbbd",
   "metadata": {},
   "outputs": [],
   "source": [
    "# this variables provided for you\n",
    "# this cell is read-only (cannot be changed)\n",
    "burritos = ['Chicken', 'Carne Asada', 'Chile Verde', 'Cali', \n",
    "            'Adobada', 'Bean and Cheese', 'Steak Ranchero',\n",
    "            'Carnitas']"
   ]
  },
  {
   "cell_type": "code",
   "execution_count": 3,
   "id": "ef097b87-2728-4eb3-a36c-12e1d637e9cd",
   "metadata": {},
   "outputs": [],
   "source": [
    "# answer here"
   ]
  },
  {
   "cell_type": "markdown",
   "id": "d6afee4f-e245-4193-b1b7-ae353cc94842",
   "metadata": {},
   "source": [
    "**For iclicker**: A) I did it. B) Tried and Stuck. C) I'm lost."
   ]
  },
  {
   "cell_type": "markdown",
   "id": "6226c26c-027c-4e0e-91ad-2113ec517ae0",
   "metadata": {
    "editable": true,
    "slideshow": {
     "slide_type": "slide"
    },
    "tags": []
   },
   "source": [
    "## Debugging"
   ]
  },
  {
   "cell_type": "markdown",
   "id": "7dde9fe4-42b3-4a27-8282-cff8cdddcc2c",
   "metadata": {
    "editable": true,
    "slideshow": {
     "slide_type": ""
    },
    "tags": []
   },
   "source": [
    "Find and fix the errors in `make_change()`.\n",
    "\n",
    "This function should `make_change(money)` - turns decimal dollars into a number of coins, returning how many quarters and pennies to return. (We will just work with two coin types for now, to keep things simple)\n",
    "\n",
    "```python\n",
    "def make_change(money)\n",
    "    \n",
    "    # turn it from dollars into cents \n",
    "    money = money * 100 \n",
    "    \n",
    "    # how many quarters to give\n",
    "    quarters = money // 25\n",
    "    \n",
    "    # how much money is left after the quarters\n",
    "    money = money - quarters*10\n",
    "    \n",
    "    # how many pennies to give\n",
    "    pennies = money / 1\n",
    "```"
   ]
  },
  {
   "cell_type": "code",
   "execution_count": null,
   "id": "31d6f66a-6ed5-430c-9fe4-34463b825aff",
   "metadata": {
    "editable": true,
    "slideshow": {
     "slide_type": ""
    },
    "tags": []
   },
   "outputs": [],
   "source": [
    "# debug here"
   ]
  },
  {
   "cell_type": "code",
   "execution_count": null,
   "id": "556d8d86-61a7-4955-b951-08b699cb6b12",
   "metadata": {
    "editable": true,
    "slideshow": {
     "slide_type": ""
    },
    "tags": []
   },
   "outputs": [],
   "source": [
    "# test out your edits here"
   ]
  },
  {
   "cell_type": "markdown",
   "id": "fa6eccc3-d1c2-44d9-8850-dc4091d222a2",
   "metadata": {
    "editable": true,
    "slideshow": {
     "slide_type": ""
    },
    "tags": []
   },
   "source": [
    "**For iclicker**: A) I did it. B) Tried and Stuck. C) I'm lost."
   ]
  },
  {
   "cell_type": "markdown",
   "id": "569b1e07-9fcb-463e-966c-3f196b4dc52f",
   "metadata": {
    "editable": true,
    "slideshow": {
     "slide_type": "slide"
    },
    "tags": []
   },
   "source": [
    "## Define a function"
   ]
  },
  {
   "cell_type": "markdown",
   "id": "a5f6629b-2f92-4b51-9eaa-8d038514e98b",
   "metadata": {
    "editable": true,
    "slideshow": {
     "slide_type": ""
    },
    "tags": []
   },
   "source": [
    "Write a function with the following properties:\n",
    "```python\n",
    "'''\n",
    "max_of_3(n1, n2, n3) - returns the maximum of three numbers\n",
    "\n",
    "inputs:\n",
    "n1, n2, n3 - the numbers \n",
    "\n",
    "returns:\n",
    "the biggest number among n1, n2, n3\n",
    "\n",
    "NB: you may assume there are no ties among n1, n2, n3;\n",
    "    and you don't need to error check the inputs\n",
    "'''\n",
    "```"
   ]
  },
  {
   "cell_type": "code",
   "execution_count": null,
   "id": "924d9d9e-cb14-4723-8d35-92aa8d8f0fee",
   "metadata": {},
   "outputs": [],
   "source": [
    "# answer here"
   ]
  },
  {
   "cell_type": "code",
   "execution_count": null,
   "id": "8aa04634-524f-4816-8116-e2e3b1d3cd9e",
   "metadata": {},
   "outputs": [],
   "source": [
    "# test here"
   ]
  },
  {
   "cell_type": "markdown",
   "id": "4906c538-2e9e-4888-90bb-f967d1f5be65",
   "metadata": {},
   "source": [
    "**For iclicker**: A) I did it. B) Tried and Stuck. C) I'm lost."
   ]
  }
 ],
 "metadata": {
  "celltoolbar": "Slideshow",
  "kernelspec": {
   "display_name": "Python 3 (ipykernel)",
   "language": "python",
   "name": "python3"
  },
  "language_info": {
   "codemirror_mode": {
    "name": "ipython",
    "version": 3
   },
   "file_extension": ".py",
   "mimetype": "text/x-python",
   "name": "python",
   "nbconvert_exporter": "python",
   "pygments_lexer": "ipython3",
   "version": "3.11.8"
  }
 },
 "nbformat": 4,
 "nbformat_minor": 5
}
