{
 "cells": [
  {
   "cell_type": "markdown",
   "metadata": {
    "nbgrader": {
     "grade": false,
     "grade_id": "intro",
     "locked": true,
     "schema_version": 3,
     "solution": false
    }
   },
   "source": [
    "# COGS 18 - Practice Exam 2\n",
    "\n",
    "This is the second practice exam for Fall 2020. It covers topics through the Namespaces Lecture.\n",
    "\n",
    "This is worth 0 points and worth 0% of your grade, but the real total exam is out of 12.5 points, worth 12.5% of your grade. \n",
    "\n",
    "**PLEASE DO NOT CHANGE THE NAME OF THIS FILE.**\n",
    "\n",
    "**PLEASE DO NOT COPY & PASTE OR DELETE CELLS INLCUDED IN THE ASSIGNMENT.** (Note that you can add additional cells, if you want to test things out."
   ]
  },
  {
   "cell_type": "markdown",
   "metadata": {
    "nbgrader": {
     "grade": false,
     "grade_id": "instructions1",
     "locked": true,
     "schema_version": 3,
     "solution": false
    }
   },
   "source": [
    "## Instructions\n",
    "\n",
    "#### Timing\n",
    "- The exam is designed to take you ~1 hour.\n",
    "- There will be a 24 hour window during which you can complete this exam.\n",
    "- If it takes you longer than 1 hour, you're free to use that time.\n",
    "\n",
    "#### The Rules\n",
    "- You are to complete this exam on your own.\n",
    "- This is open-notes & open-Google\n",
    "- You may not talk to any humans about this exam. \n",
    "- The following are all *prohibited*:\n",
    "    - text/phone/online chat communication\n",
    "    - posting questions to a message board where a human could respond\n",
    "    - asking anyone via any form about a question on this test directly\n",
    "- Clarification questions will ***not*** be allowed and there will be no posting on Piazza about the exam at all. \n",
    "    - Piazza posts about the exam will not be answered and will be deleted. \n",
    "    - Students who post questions about the exam to Piazza are at risk of losing points on the exam.\n",
    "    - If you are confused about wording, add a note to your exam explaining your confusion and how you interpreted the question. \n",
    "    - Note: This policy is b/c we are incapable of responding for 24h straight. This is the only way to make it fair across the board for students."
   ]
  },
  {
   "cell_type": "markdown",
   "metadata": {
    "nbgrader": {
     "grade": false,
     "grade_id": "instructions2",
     "locked": true,
     "schema_version": 3,
     "solution": false
    }
   },
   "source": [
    " <span style=\"color: red;\">Note: </span> There _is_ a chance for partial credit on some questions, so _some_ code is better than _no_ code. Even if it throws an error, having some code that partially answers the question will benefit you/your grade."
   ]
  },
  {
   "cell_type": "markdown",
   "metadata": {
    "nbgrader": {
     "grade": false,
     "grade_id": "part1",
     "locked": true,
     "schema_version": 3,
     "solution": false
    }
   },
   "source": [
    "## Part 1: E1 Review (3 points)\n",
    "\n",
    "There will be 3 questions on Part I, as specified below, with these point values.\n",
    "\n",
    "To review for this part of the exam, review Exam 1 and Practice Exam 1"
   ]
  },
  {
   "cell_type": "markdown",
   "metadata": {
    "nbgrader": {
     "grade": false,
     "grade_id": "q1",
     "locked": true,
     "schema_version": 3,
     "solution": false
    }
   },
   "source": [
    "### Q1 - Variables & Indexing (0.5 points)\n"
   ]
  },
  {
   "cell_type": "markdown",
   "metadata": {
    "nbgrader": {
     "grade": false,
     "grade_id": "q2",
     "locked": true,
     "schema_version": 3,
     "solution": false
    }
   },
   "source": [
    "### Q2 - Loops (1.25 points)\n"
   ]
  },
  {
   "cell_type": "markdown",
   "metadata": {
    "nbgrader": {
     "grade": false,
     "grade_id": "q3",
     "locked": true,
     "schema_version": 3,
     "solution": false
    }
   },
   "source": [
    "### Q3 - `for` loop (1.25 point)\n"
   ]
  },
  {
   "cell_type": "markdown",
   "metadata": {
    "nbgrader": {
     "grade": false,
     "grade_id": "part2",
     "locked": true,
     "schema_version": 3,
     "solution": false
    }
   },
   "source": [
    "## Part 2: Functions (4.25 points)"
   ]
  },
  {
   "cell_type": "markdown",
   "metadata": {
    "nbgrader": {
     "grade": false,
     "grade_id": "q5",
     "locked": true,
     "schema_version": 3,
     "solution": false,
     "task": false
    }
   },
   "source": [
    "### Q4 - Function execution (0.75 points)\n",
    "\n",
    "The cell below includes a function that has been provided for you. After running the cell below (to define this function), execute (use) this function to create the following variables under the specified conditions:\n",
    "\n",
    "1. `square_default` | execute the `square_all` function using the default parameter such that the output will carry out the function on a list of input values containing the integers 2, 3, and 4. \n",
    "2. `power_three` | Use the same input values as above, but this time, use the `square_all` function provided to raise all input values to the power 3\n",
    "3. `out_4` | Execute the `square_all` function such that `out_4` will store a list with 4 values, each of which is the integer 4."
   ]
  },
  {
   "cell_type": "code",
   "execution_count": null,
   "metadata": {
    "nbgrader": {
     "grade": false,
     "grade_id": "q5-funct",
     "locked": true,
     "schema_version": 3,
     "solution": false,
     "task": false
    }
   },
   "outputs": [],
   "source": [
    "def square_all(collection, power=2):\n",
    "    \n",
    "    square_list = []\n",
    "    for val in collection:\n",
    "        square_list.append(val**power)\n",
    "    \n",
    "    return square_list"
   ]
  },
  {
   "cell_type": "code",
   "execution_count": null,
   "metadata": {},
   "outputs": [],
   "source": [
    "# BE SURE YOUR ANSWER IS IN THE CELL BELOW\n",
    "# but you can use this cell to test/execute/check your thinking (optional)"
   ]
  },
  {
   "cell_type": "code",
   "execution_count": null,
   "metadata": {
    "nbgrader": {
     "grade": false,
     "grade_id": "q5-solution",
     "locked": false,
     "schema_version": 3,
     "solution": true,
     "task": false
    }
   },
   "outputs": [],
   "source": [
    "square_default = square_all([2,3,4])\n",
    "power_three = square_all([2,3,4], 3)\n",
    "out_4 = square_all([2,2,2,2]) # this execution could differ"
   ]
  },
  {
   "cell_type": "code",
   "execution_count": null,
   "metadata": {
    "nbgrader": {
     "grade": true,
     "grade_id": "q5-test1",
     "locked": true,
     "points": 0,
     "schema_version": 3,
     "solution": false,
     "task": false
    }
   },
   "outputs": [],
   "source": [
    "assert square_default is not None\n",
    "assert  square_default == [4,9,16]"
   ]
  },
  {
   "cell_type": "code",
   "execution_count": null,
   "metadata": {
    "nbgrader": {
     "grade": true,
     "grade_id": "q5-test2",
     "locked": true,
     "points": 0,
     "schema_version": 3,
     "solution": false,
     "task": false
    }
   },
   "outputs": [],
   "source": [
    "assert power_three is not None\n",
    "assert power_three  == [8, 27, 64]"
   ]
  },
  {
   "cell_type": "code",
   "execution_count": null,
   "metadata": {
    "nbgrader": {
     "grade": true,
     "grade_id": "q5-test3",
     "locked": true,
     "points": 0,
     "schema_version": 3,
     "solution": false,
     "task": false
    }
   },
   "outputs": [],
   "source": [
    "assert out_4 is not None\n",
    "assert out_4  == [4,4,4,4]"
   ]
  },
  {
   "cell_type": "markdown",
   "metadata": {
    "nbgrader": {
     "grade": false,
     "grade_id": "q5-test4",
     "locked": true,
     "points": 0,
     "schema_version": 3,
     "solution": false,
     "task": true
    }
   },
   "source": [
    "**This \"blank\" cell included intentionally.** Do not do anything here. (It's being used in grading.)\n",
    "\n",
    "=== BEGIN MARK SCHEME ===\n",
    "\n",
    "function executed appropriately for variable creation (aka not hard coded) (**1 point** ; 0.33 per function call)\n",
    "\n",
    "=== END MARK SCHEME ==="
   ]
  },
  {
   "cell_type": "markdown",
   "metadata": {
    "nbgrader": {
     "grade": false,
     "grade_id": "q7",
     "locked": true,
     "schema_version": 3,
     "solution": false
    }
   },
   "source": [
    "### Q5 - `count_int` (1 point)\n",
    "\n",
    "Write a function `count_int` that will take a tuple or list as the input and count the number (count) of integer values in that tuple/list, returning this value from the function. \n",
    "\n",
    "For example, if 3 of the values in the input list were integers, the function would return 3.\n",
    "\n",
    "Note: You can assume the input to this function will be a tuple or list and do *not* need to write code to check whether or not this is true."
   ]
  },
  {
   "cell_type": "code",
   "execution_count": null,
   "metadata": {
    "nbgrader": {
     "grade": false,
     "grade_id": "q7-solution",
     "locked": false,
     "schema_version": 3,
     "solution": true
    }
   },
   "outputs": [],
   "source": [
    "# we did this one in class together\n",
    "def count_int(col):\n",
    "    count = 0\n",
    "    \n",
    "    for val in col:\n",
    "        if type(val) == int:\n",
    "            count += 1\n",
    "    \n",
    "    return count"
   ]
  },
  {
   "cell_type": "code",
   "execution_count": null,
   "metadata": {},
   "outputs": [],
   "source": [
    "# BE SURE YOUR ANSWER IS IN THE CELL ABOVE\n",
    "# but you can use this cell to test/execute/check your function (optional)"
   ]
  },
  {
   "cell_type": "code",
   "execution_count": null,
   "metadata": {
    "nbgrader": {
     "grade": true,
     "grade_id": "q7-test1",
     "locked": true,
     "points": 0,
     "schema_version": 3,
     "solution": false,
     "task": false
    }
   },
   "outputs": [],
   "source": [
    "assert callable(count_int)\n",
    "\n",
    "assert count_int((1,2,3,4,5,'string',4.4)) == 5\n",
    "assert count_int([1,2,3,4,5,'string',4.4]) == 5"
   ]
  },
  {
   "cell_type": "markdown",
   "metadata": {
    "nbgrader": {
     "grade": false,
     "grade_id": "q7-test2",
     "locked": true,
     "points": 0,
     "schema_version": 3,
     "solution": false,
     "task": true
    }
   },
   "source": [
    "**This \"blank\" cell included intentionally.** Do not do anything here. (It's being used in grading.)\n",
    "\n",
    "=== BEGIN MARK SCHEME ===\n",
    "\n",
    "partial credit for answer above:\n",
    "\n",
    "- function defined correctly (**0.5 points**)\n",
    "- input parameter specified  (**0.5 points**)\n",
    "- counter initialized (**0.5 points**)\n",
    "- for loop (or equivalent) correct (**0.2 points**)\n",
    "- conditional (or equivalent) correct (**0.3 points**)\n",
    "- counter incremented correctly (**0.5 points**) \n",
    "- `return` statement included (**0.5 points**)\n",
    "\n",
    "=== END MARK SCHEME ==="
   ]
  },
  {
   "cell_type": "markdown",
   "metadata": {
    "nbgrader": {
     "grade": false,
     "grade_id": "q6",
     "locked": true,
     "schema_version": 3,
     "solution": false
    }
   },
   "source": [
    "### Q6 - `provide_info` (1 point)\n",
    "\n",
    "Write a function `provide_info` that takes three parameters: `name`, `year`, and `school` .\n",
    "\n",
    "Set the default value for `school` to be 'UCSD'.\n",
    "\n",
    "This function should `return` the string \"Hi. I'm `name`. I am a `year` at `school`.\" (where the variable names are replaced by the values input to the function upon execution).\n",
    "\n",
    "For example, one possible execution of this function could return \"Hi! I'm Shannon. I am a sophomore at UCSD.\"\n",
    "\n",
    "Note: Be sure punctuation and spacing match that specified in the instructions."
   ]
  },
  {
   "cell_type": "code",
   "execution_count": null,
   "metadata": {
    "nbgrader": {
     "grade": false,
     "grade_id": "q6-solution",
     "locked": false,
     "schema_version": 3,
     "solution": true
    }
   },
   "outputs": [],
   "source": [
    "def provide_info(name, year, school='UCSD'):\n",
    "    output = \"Hi. I'm \" + name + '. I am a ' + year + ' at ' + school + '.'\n",
    "    return output"
   ]
  },
  {
   "cell_type": "code",
   "execution_count": null,
   "metadata": {},
   "outputs": [],
   "source": [
    "# BE SURE YOUR ANSWER IS IN THE CELL ABOVE\n",
    "# but you can use this cell to test/execute/check your function (optional)"
   ]
  },
  {
   "cell_type": "code",
   "execution_count": null,
   "metadata": {
    "nbgrader": {
     "grade": true,
     "grade_id": "q6-test1",
     "locked": true,
     "points": 0,
     "schema_version": 3,
     "solution": false
    }
   },
   "outputs": [],
   "source": [
    "assert callable(provide_info)\n",
    "assert provide_info(name = 'Taylor', year = 'junior', school = 'UCLA') == \"Hi! I'm Taylor. I am a junior at UCLA.\" or provide_info(name='Taylor', year='junior', school = 'UCLA') == \"Hi. I'm Taylor. I am a junior at UCLA.\""
   ]
  },
  {
   "cell_type": "code",
   "execution_count": null,
   "metadata": {
    "nbgrader": {
     "grade": true,
     "grade_id": "q6-test2",
     "locked": true,
     "points": 0,
     "schema_version": 3,
     "solution": false,
     "task": false
    }
   },
   "outputs": [],
   "source": [
    "# hidden tests for function above\n",
    "# assure default parameter is correct\n",
    "assert provide_info(name = 'Taylor', year = 'junior') == \"Hi! I'm Taylor. I am a junior at UCSD.\" or provide_info(name='Taylor', year='junior') == \"Hi. I'm Taylor. I am a junior at UCSD.\""
   ]
  },
  {
   "cell_type": "markdown",
   "metadata": {
    "nbgrader": {
     "grade": false,
     "grade_id": "q6-test3",
     "locked": true,
     "points": 0,
     "schema_version": 3,
     "solution": false,
     "task": true
    }
   },
   "source": [
    "**This \"blank\" cell included intentionally.** Do not do anything here. (It's being used in grading.)\n",
    "\n",
    "\n",
    "=== BEGIN MARK SCHEME ===\n",
    "\n",
    "partial credit for answer above:\n",
    "\n",
    "- function defined correctly (**0.5 points**)\n",
    "- 3 parameters specified (**0.5 points**)\n",
    "- default parameter specified correctly (**0.5 points**)\n",
    "- string concatenation attempted correctly (even if typos in string) (**1 point**)\n",
    "- `return` statement included (**0.3 points**)\n",
    "\n",
    "=== END MARK SCHEME ==="
   ]
  },
  {
   "cell_type": "markdown",
   "metadata": {
    "nbgrader": {
     "grade": false,
     "grade_id": "cell-d98d683fccdf9a85",
     "locked": true,
     "schema_version": 3,
     "solution": false,
     "task": false
    }
   },
   "source": [
    "### Q7 - Debugging (1.5 points)\n"
   ]
  },
  {
   "cell_type": "markdown",
   "metadata": {},
   "source": [
    "There will be a question where you are provided the task that we want to complete and code that is not functioning. You will have to debug the code to get to accomplish the specified task."
   ]
  },
  {
   "cell_type": "markdown",
   "metadata": {
    "nbgrader": {
     "grade": false,
     "grade_id": "cell-4ab8407deca62752",
     "locked": true,
     "schema_version": 3,
     "solution": false,
     "task": false
    }
   },
   "source": [
    "## Part 3: Objects & Classes (5.25 points)"
   ]
  },
  {
   "cell_type": "markdown",
   "metadata": {
    "nbgrader": {
     "grade": false,
     "grade_id": "q8",
     "locked": true,
     "schema_version": 3,
     "solution": false
    }
   },
   "source": [
    "### Q8 - objects (0.25 points)\n",
    "\n",
    "The real exam will include an objects question here."
   ]
  },
  {
   "cell_type": "markdown",
   "metadata": {
    "nbgrader": {
     "grade": false,
     "grade_id": "q9",
     "locked": true,
     "schema_version": 3,
     "solution": false
    }
   },
   "source": [
    "### Q9 - Classes (2.5 points)\n",
    "\n",
    "Generate a class called `BasketballGame`.\n",
    "\n",
    "This class should have four instance attributes: `home_team`, `away_team`, `home_points`, and `away_points`\n",
    "\n",
    "It should also have one method, `play_game()`. \n",
    "\n",
    "Within the `play_game` method, add code that would determine who the winner of the game is (determined by the team with the most points), returning Winner: ' and the winning team's name.\n",
    "\n",
    "For ties, return: 'Winner: tie'"
   ]
  },
  {
   "cell_type": "code",
   "execution_count": null,
   "metadata": {
    "nbgrader": {
     "grade": false,
     "grade_id": "q9-solution",
     "locked": false,
     "schema_version": 3,
     "solution": true
    }
   },
   "outputs": [],
   "source": [
    "# we did this one in class together (but quickly)\n",
    "class BasketballGame():\n",
    "    def __init__(self, home_team, away_team, home_points, away_points):\n",
    "        self.home_team = home_team\n",
    "        self.away_team = away_team\n",
    "        self.home_points = home_points\n",
    "        self.away_points = away_points\n",
    "    \n",
    "    def play_game(self):\n",
    "        if self.home_points > self.away_points:\n",
    "            out = 'Winner: ' + self.home_team\n",
    "        elif self.away_points > self.home_points:\n",
    "            out = 'Winner: ' + self.away_team\n",
    "        else:\n",
    "            out = 'Winner: tie'\n",
    "        \n",
    "        return out"
   ]
  },
  {
   "cell_type": "code",
   "execution_count": null,
   "metadata": {},
   "outputs": [],
   "source": [
    "# use this cell to test/execute/check your class (optional)"
   ]
  },
  {
   "cell_type": "code",
   "execution_count": null,
   "metadata": {
    "nbgrader": {
     "grade": true,
     "grade_id": "q9-test1",
     "locked": true,
     "points": 0,
     "schema_version": 3,
     "solution": false
    }
   },
   "outputs": [],
   "source": [
    "assert callable(BasketballGame)\n",
    "game = BasketballGame(home_team='Warriors', away_team='Sixers', \n",
    "                      home_points=100, away_points=105)\n",
    "\n",
    "# test attributes\n",
    "assert game.home_team == 'Warriors'\n",
    "assert game.away_team == 'Sixers'\n",
    "assert game.home_points == 100\n",
    "assert game.away_points == 105"
   ]
  },
  {
   "cell_type": "code",
   "execution_count": null,
   "metadata": {
    "nbgrader": {
     "grade": true,
     "grade_id": "q9-test2",
     "locked": true,
     "points": 0,
     "schema_version": 3,
     "solution": false,
     "task": false
    }
   },
   "outputs": [],
   "source": [
    "assert callable(BasketballGame.play_game)\n",
    "# test method\n",
    "assert game.play_game() == 'Winner: Sixers'"
   ]
  },
  {
   "cell_type": "markdown",
   "metadata": {
    "nbgrader": {
     "grade": false,
     "grade_id": "q9-test3",
     "locked": true,
     "points": 0,
     "schema_version": 3,
     "solution": false,
     "task": true
    }
   },
   "source": [
    "This \"blank\" cell included intentionally. Do not do anything here. (It's being used in grading.)\n",
    "\n",
    "=== BEGIN MARK SCHEME ===\n",
    "\n",
    "rubric for partial credit\n",
    "\n",
    "=== END MARK SCHEME ==="
   ]
  },
  {
   "cell_type": "markdown",
   "metadata": {
    "nbgrader": {
     "grade": false,
     "grade_id": "cell-5454f4526cd0b696",
     "locked": true,
     "schema_version": 3,
     "solution": false,
     "task": false
    }
   },
   "source": [
    "### Q10 - Classes (2.5 points)\n",
    "\n",
    "Generate a class called `StudentInfo`.\n",
    "\n",
    "This class should have four *instance attributes*: `name`, `year`, `school`, and `proj_grade`. \n",
    "\n",
    "This class must also have a single method: `follow_up`. This method should determine if `proj_grade` is 65 or below. If `proj_grade` is 65 or below, the method should return the name of the student as the key and their proj_grade as the value in a dictionary. (If the student has a grade above 65, this method should return an empty dictionary.)"
   ]
  },
  {
   "cell_type": "code",
   "execution_count": null,
   "metadata": {
    "nbgrader": {
     "grade": false,
     "grade_id": "cell-92fa4a2fb1c8bc18",
     "locked": false,
     "schema_version": 3,
     "solution": true,
     "task": false
    }
   },
   "outputs": [],
   "source": [
    "class StudentInfo():\n",
    "    \n",
    "    def __init__(self, name, year, school, proj_grade):\n",
    "        self.name = name\n",
    "        self.year = year\n",
    "        self.school = school\n",
    "        self.proj_grade = proj_grade\n",
    "        \n",
    "    def follow_up(self):\n",
    "        out = {}\n",
    "        if self.proj_grade <= 65:\n",
    "            out[self.name] = self.proj_grade\n",
    "        return out"
   ]
  },
  {
   "cell_type": "code",
   "execution_count": null,
   "metadata": {},
   "outputs": [],
   "source": [
    "# BE SURE YOUR ANSWER IS IN THE CELL ABOVE\n",
    "# but you can use this cell to test/execute/check your class (optional)"
   ]
  },
  {
   "cell_type": "code",
   "execution_count": null,
   "metadata": {
    "nbgrader": {
     "grade": true,
     "grade_id": "cell-1c82d1d2be32aa8e",
     "locked": true,
     "points": 0,
     "schema_version": 3,
     "solution": false,
     "task": false
    }
   },
   "outputs": [],
   "source": [
    "assert callable(StudentInfo)\n",
    "\n",
    "student1 = StudentInfo(name='Shannon', year='sophomore', school='UCSD', proj_grade=63)\n",
    "student2 = StudentInfo(name='Josh', year='senior', school='UCSD', proj_grade=88)\n",
    "\n",
    "# test attributes\n",
    "assert student1.name == 'Shannon'\n",
    "assert student1.school == 'UCSD'\n",
    "assert student2.year == 'senior'\n",
    "assert student2.proj_grade == 88"
   ]
  },
  {
   "cell_type": "code",
   "execution_count": null,
   "metadata": {
    "nbgrader": {
     "grade": true,
     "grade_id": "cell-f970ff0477c6069f",
     "locked": true,
     "points": 0,
     "schema_version": 3,
     "solution": false,
     "task": false
    }
   },
   "outputs": [],
   "source": [
    "assert callable(StudentInfo.follow_up)\n",
    "\n",
    "# test method\n",
    "assert student1.follow_up() == {'Shannon': 63}\n",
    "assert student2.follow_up() == {}"
   ]
  },
  {
   "cell_type": "markdown",
   "metadata": {
    "nbgrader": {
     "grade": false,
     "grade_id": "cell-bc1c89e25683a973",
     "locked": true,
     "points": 0,
     "schema_version": 3,
     "solution": false,
     "task": true
    }
   },
   "source": [
    "**This \"blank\" cell included intentionally.** Do not do anything here. (It's being used in grading.)\n",
    "\n",
    "=== BEGIN MARK SCHEME ===\n",
    "\n",
    "partial credit for answer above:\n",
    "\n",
    "- class defined correctly (**0.5 points**)\n",
    "- instance attribute def correct  (**0.5 points**)\n",
    "- `self` used correctly in instance attribute (**0.5 points**)\n",
    "- method defined correctly (**0.5 points**)\n",
    "- dictionary + conditional correct (**0.5 points**) \n",
    "- `return` statement included (**0.5 points**)\n",
    "\n",
    "=== END MARK SCHEME ==="
   ]
  },
  {
   "cell_type": "markdown",
   "metadata": {
    "nbgrader": {
     "grade": false,
     "grade_id": "end",
     "locked": true,
     "schema_version": 3,
     "solution": false
    }
   },
   "source": [
    "### (Practice) Exam II complete!\n",
    "\n",
    "Good work - you're done with the second (practice) exam!\n",
    "\n",
    "Check your work, and then when you're ready, **submit on datahub**.\n",
    "\n",
    "We will not have your exam until you click submit and see this show up under 'submitted assignments'."
   ]
  }
 ],
 "metadata": {
  "celltoolbar": "Create Assignment",
  "kernelspec": {
   "display_name": "Python 3",
   "language": "python",
   "name": "python3"
  },
  "language_info": {
   "codemirror_mode": {
    "name": "ipython",
    "version": 3
   },
   "file_extension": ".py",
   "mimetype": "text/x-python",
   "name": "python",
   "nbconvert_exporter": "python",
   "pygments_lexer": "ipython3",
   "version": "3.7.9"
  }
 },
 "nbformat": 4,
 "nbformat_minor": 2
}
