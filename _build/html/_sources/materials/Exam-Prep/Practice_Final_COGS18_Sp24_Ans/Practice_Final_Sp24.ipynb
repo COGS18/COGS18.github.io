{
 "cells": [
  {
   "cell_type": "markdown",
   "id": "9a403699",
   "metadata": {
    "nbgrader": {
     "grade": false,
     "grade_id": "intro",
     "locked": true,
     "schema_version": 3,
     "solution": false
    }
   },
   "source": [
    "# COGS 18 -  Practice Final Exam\n",
    "\n",
    "This is the practice final exam for Spring 2024. It covers topics through the end of the course.\n",
    "\n",
    "This exam is out of 0 points, but the real thing will be out of 20 points.\n",
    "\n",
    "**PLEASE DO NOT CHANGE THE NAME OF THIS FILE.**\n",
    "\n",
    "**PLEASE DO NOT COPY & PASTE OR DELETE CELLS INLCUDED IN THE EXAM.** (Note that you can add additional cells, if you want to test things out."
   ]
  },
  {
   "cell_type": "markdown",
   "id": "64f3dbe3",
   "metadata": {
    "nbgrader": {
     "grade": false,
     "grade_id": "cell-0bdbfd4b5b7050f9",
     "locked": true,
     "schema_version": 3,
     "solution": false,
     "task": false
    }
   },
   "source": [
    "## Instructions\n",
    "\n",
    "#### Timing\n",
    "- The exam is designed to take you ~2-3h.\n",
    "- There will be a 48+ hour window during which you can complete this exam.\n",
    "- If it takes you longer than 3h, you're free to use that time.\n",
    "\n",
    "#### The Rules\n",
    "- You are to complete this exam on your own.\n",
    "- This is open-notes & open-Google\n",
    "- If you use outside sources, cite your sources (this includes ChatGPT)\n",
    "- You may not talk to any humans about this exam. \n",
    "- The following are all *prohibited*:\n",
    "    - text/phone/online chat communication\n",
    "    - posting questions to a message board where a human could respond (Piazza, Discord, Chegg, any similar site)\n",
    "    - viewing exam questions from a message board (as described above)\n",
    "    - asking anyone via any form about a question on this test directly\n",
    "- Clarification questions will ***not*** be allowed and there will be no posting on Piazza about the exam at all. \n",
    "    - Piazza posts about the exam will not be answered and will be deleted. \n",
    "    - Students who post questions about the exam to Piazza are at risk of losing points on the exam.\n",
    "    - If you are confused about wording, add a note to your exam explaining your confusion and how you interpreted the question. \n",
    "    - Note: This policy is b/c we are incapable of responding for 48+ hours straight. This is the only way to make it fair across the board for students."
   ]
  },
  {
   "cell_type": "markdown",
   "id": "33f64430",
   "metadata": {
    "nbgrader": {
     "grade": false,
     "grade_id": "cell-516057c92936dcb0",
     "locked": true,
     "schema_version": 3,
     "solution": false,
     "task": false
    }
   },
   "source": [
    " <span style=\"color: red;\">Note: </span> There _is_ a chance for partial credit on some questions, so _some_ code is better than _no_ code. Even if it throws an error, having some code that partially answers the question will benefit you/your grade."
   ]
  },
  {
   "cell_type": "markdown",
   "id": "00fe1ff1",
   "metadata": {
    "nbgrader": {
     "grade": false,
     "grade_id": "cell-65babcd260f10212",
     "locked": true,
     "schema_version": 3,
     "solution": false,
     "task": false
    }
   },
   "source": [
    "### Q0 - Honor Code (0.25 pts)\n",
    "\n",
    "In the cell below, include a variable `honor_code` that stores the boolean `True` if you agree to the following statement:\n",
    "\n",
    ">I agree that this exam was completed individually with the knowlege in my brain, information the notes from this course, and/or with searching for help on the Internet *without searching for answers to the text from these questions directly*. I did not ask anyone about specific questions on this exam. I did not post these questions (in part or in whole) on the Internet. I did not copy answers to these questions from anywhere or anyone else. I understand all code I've written on this exam and could explain my answers to someone else if asked.\n"
   ]
  },
  {
   "cell_type": "code",
   "execution_count": 1,
   "id": "89388e9f",
   "metadata": {
    "nbgrader": {
     "grade": false,
     "grade_id": "cell-1c43003780d414c6",
     "locked": false,
     "schema_version": 3,
     "solution": true,
     "task": false
    }
   },
   "outputs": [],
   "source": [
    "### BEGIN SOLUTION\n",
    "honor_code = True\n",
    "### END SOLUTION"
   ]
  },
  {
   "cell_type": "code",
   "execution_count": 2,
   "id": "b2b22017",
   "metadata": {
    "nbgrader": {
     "grade": true,
     "grade_id": "cell-2fa97174501cfae8",
     "locked": true,
     "points": 0,
     "schema_version": 3,
     "solution": false,
     "task": false
    }
   },
   "outputs": [],
   "source": [
    "assert honor_code"
   ]
  },
  {
   "cell_type": "markdown",
   "id": "5a61951b",
   "metadata": {
    "nbgrader": {
     "grade": false,
     "grade_id": "cell-7649711c1c686448",
     "locked": true,
     "schema_version": 3,
     "solution": false,
     "task": false
    }
   },
   "source": [
    "## Multiple choice section (2 points)\n",
    "\n",
    "#### Instructions\n",
    "\n",
    "Here are some multiple choice questions covering theoretical knowledge\n",
    "\n",
    "To provide answers you will fill out the corresponding variable, providing your choice as a string.  For example if the the question were\n",
    "> MCQ1: Which is greater?<br>\n",
    "> A) 12<br>\n",
    "> B) 2<br>\n",
    "\n",
    "Then in the answer section below you'd fill out\n",
    "```python\n",
    "MCQ1_ans = 'A'\n",
    "```\n",
    "remember that `'A'` is NOT the same as `'a'` or `' A'`... if you fill out the string incorrectly you will lose the points!\n",
    "\n",
    "#### MCQ1\n",
    "Python has reserved words that are part of the language. You should never name variables these reserved words.  Which of the following names is an acceptable variable name.\n",
    "\n",
    "A) with    <br>\n",
    "B) for    <br>\n",
    "C) try    <br>\n",
    "D) Break    <br>\n",
    "E) None of the above <br>\n",
    "\n",
    "#### MCQ2\n",
    "Imagine you have a notebook and one of the cells looks _exactly_ like the code below.  What will happen you execute that cell?\n",
    "```python \n",
    "a = 1\n",
    "    b = a\n",
    "    \n",
    "    print(b) \n",
    "```\n",
    "A) it prints `1`    <br>\n",
    "B) it prints `a`    <br>\n",
    "C) it prints `b`    <br>\n",
    "D) it throws an error    <br>\n",
    "E) None of the above <br>\n",
    "\n",
    "#### MCQ3\n",
    "Given the following math expression\n",
    "```python\n",
    "3 + 2 + 16 / (4 / 2)**3\n",
    "```\n",
    "what operator will be evaluated first?\n",
    "\n",
    "A) 3+2    <br>\n",
    "B) 16/4    <br>\n",
    "C) (4/2)    <br>\n",
    "D) 2\\*\\*3    <br>\n",
    "E) None of the above <br>\n",
    "\n",
    "#### MCQ4\n",
    "What will be the next evaluaton after the one above?\n",
    "\n",
    "A) 2\\*\\*3    <br>\n",
    "B) 5+16    <br>\n",
    "C) 4/2    <br>\n",
    "D) 16/4    <br>\n",
    "E) None of the above <br>\n",
    "\n",
    "#### MCQ5\n",
    "Which of these operators will give you the remainder of a division?\n",
    "\n",
    "A) //    <br>\n",
    "B) %    <br>\n",
    "C) /    <br>\n",
    "D) floor()    <br>\n",
    "E) None of the above <br>"
   ]
  },
  {
   "cell_type": "code",
   "execution_count": 3,
   "id": "9941fb0f",
   "metadata": {},
   "outputs": [],
   "source": [
    "MCQ1_ans = 'D'\n",
    "MCQ2_ans = 'D'\n",
    "MCQ3_ans = 'C'\n",
    "MCQ4_ans = 'A'\n",
    "MCQ5_ans = 'B'"
   ]
  },
  {
   "cell_type": "code",
   "execution_count": 4,
   "id": "6770a9ea",
   "metadata": {
    "nbgrader": {
     "grade": true,
     "grade_id": "cell-e455e7a6931c4fbf",
     "locked": true,
     "points": 0,
     "schema_version": 3,
     "solution": false,
     "task": false
    }
   },
   "outputs": [],
   "source": [
    "\n",
    "assert MCQ1_ans in ['A', 'B', 'C', 'D', 'E'] \n",
    "assert MCQ2_ans in ['A', 'B', 'C', 'D', 'E']\n",
    "assert MCQ3_ans in ['A', 'B', 'C', 'D', 'E']\n",
    "assert MCQ4_ans in ['A', 'B', 'C', 'D', 'E']\n",
    "assert MCQ5_ans in ['A', 'B', 'C', 'D', 'E']"
   ]
  },
  {
   "cell_type": "code",
   "execution_count": 5,
   "id": "61a04937",
   "metadata": {
    "nbgrader": {
     "grade": true,
     "grade_id": "cell-ea2b289da44b7c1c",
     "locked": true,
     "points": 0.05,
     "schema_version": 3,
     "solution": false,
     "task": false
    }
   },
   "outputs": [],
   "source": [
    "# this cell is being used in testing of your solution, do not edit or delete it.\n",
    "### BEGIN HIDDEN TESTS\n",
    "assert MCQ1_ans == 'D'\n",
    "### END HIDDEN TESTS"
   ]
  },
  {
   "cell_type": "code",
   "execution_count": 6,
   "id": "e396e02b",
   "metadata": {
    "nbgrader": {
     "grade": true,
     "grade_id": "cell-b5c46097af4076d1",
     "locked": true,
     "points": 0.05,
     "schema_version": 3,
     "solution": false,
     "task": false
    }
   },
   "outputs": [],
   "source": [
    "# this cell is being used in testing of your solution, do not edit or delete it.\n",
    "### BEGIN HIDDEN TESTS\n",
    "assert MCQ2_ans == 'D'\n",
    "### END HIDDEN TESTS"
   ]
  },
  {
   "cell_type": "code",
   "execution_count": 7,
   "id": "ec3d28ff",
   "metadata": {
    "nbgrader": {
     "grade": true,
     "grade_id": "cell-bc998633fd8d4d2b",
     "locked": true,
     "points": 0.05,
     "schema_version": 3,
     "solution": false,
     "task": false
    }
   },
   "outputs": [],
   "source": [
    "# this cell is being used in testing of your solution, do not edit or delete it.\n",
    "### BEGIN HIDDEN TESTS\n",
    "assert MCQ3_ans == 'C'\n",
    "### END HIDDEN TESTS"
   ]
  },
  {
   "cell_type": "code",
   "execution_count": 8,
   "id": "08894201",
   "metadata": {
    "nbgrader": {
     "grade": true,
     "grade_id": "cell-6f56137128a002e0",
     "locked": true,
     "points": 0.05,
     "schema_version": 3,
     "solution": false,
     "task": false
    }
   },
   "outputs": [],
   "source": [
    "# this cell is being used in testing of your solution, do not edit or delete it.\n",
    "### BEGIN HIDDEN TESTS\n",
    "assert MCQ4_ans == 'A'\n",
    "### END HIDDEN TESTS"
   ]
  },
  {
   "cell_type": "code",
   "execution_count": 9,
   "id": "92c81e0f",
   "metadata": {
    "nbgrader": {
     "grade": true,
     "grade_id": "cell-7a252757ba82709b",
     "locked": true,
     "points": 0.05,
     "schema_version": 3,
     "solution": false,
     "task": false
    }
   },
   "outputs": [],
   "source": [
    "# this cell is being used in testing of your solution, do not edit or delete it.\n",
    "### BEGIN HIDDEN TESTS\n",
    "assert MCQ5_ans == 'B'\n",
    "### END HIDDEN TESTS"
   ]
  },
  {
   "cell_type": "markdown",
   "id": "275ebf50",
   "metadata": {
    "nbgrader": {
     "grade": false,
     "grade_id": "cell-bae94bae649bbbf7",
     "locked": true,
     "schema_version": 3,
     "solution": false,
     "task": false
    }
   },
   "source": [
    "#### MCQ6\n",
    "When there is a set of if/elif statements that all evaluate as True, which of them will be executed?. E.g., \n",
    "```python\n",
    "if True:\n",
    "    print('1')\n",
    "elif True:\n",
    "    print('2')\n",
    "elif True:\n",
    "    print('3')\n",
    "else:\n",
    "    print('4')\n",
    "```\n",
    "A) all True statements will be executed     <br>\n",
    "B) the first True statement (`if`) will be executed    <br>\n",
    "C) the first True `elif` will be executed   <br>\n",
    "D) the last True statment will be executed    <br>\n",
    "E) None of the above <br>\n",
    "\n",
    "#### MCQ7\n",
    "Where can you NOT place an elif?\n",
    "\n",
    "A)  right after an if   <br>\n",
    "B)  right after another elif   <br>\n",
    "C)  right after an else   <br>\n",
    "D)  right before the else   <br>\n",
    "E) None of the above <br>\n",
    "\n",
    "#### MCQ8\n",
    "Here is a list\n",
    "```python\n",
    "my_lst = ['Julian', 'Amal', 'Richard', 'Juan', 'Xuan']\n",
    "```\n",
    "Which of the following gives a different result than the other answers?\n",
    "\n",
    "A)  `my_lst[2:]`  <br>\n",
    "B)  `my_lst[2:3]`  <br>\n",
    "C)  `my_lst[2]`  <br>\n",
    "D)  `my_lst[-3]`   <br>\n",
    "E) None of the above <br>\n",
    "\n",
    "#### MCQ9\n",
    "Which of the following statements is false?\n",
    "\n",
    "A) Dictionaries can be indexed by position    <br>\n",
    "B) New values can be added to a list    <br>\n",
    "C) New values can be added to a dictionary    <br>\n",
    "D) Dictionaries can be indexed by key    <br>\n",
    "E) None of the above <br>\n",
    "\n",
    "#### MCQ10\n",
    "A user gives you a list of empolyee names that need to have their paychecks processed. How would you best iterate through that list?\n",
    "\n",
    "A) while loop    <br>\n",
    "B) copy/paste a cell using different employee name in each    <br>\n",
    "C) if/elif/else    <br>\n",
    "D) for loop    <br>\n",
    "E) None of the above <br>\n",
    "\n",
    "\n",
    "\n",
    "\n"
   ]
  },
  {
   "cell_type": "code",
   "execution_count": 10,
   "id": "e2ca3dcc",
   "metadata": {},
   "outputs": [],
   "source": [
    "MCQ6_ans = 'B'\n",
    "MCQ7_ans = 'C'\n",
    "MCQ8_ans = 'A'\n",
    "MCQ9_ans = 'A'\n",
    "MCQ10_ans = 'D'"
   ]
  },
  {
   "cell_type": "code",
   "execution_count": 11,
   "id": "78abace1",
   "metadata": {
    "nbgrader": {
     "grade": true,
     "grade_id": "cell-75af9b073d5585be",
     "locked": true,
     "points": 0,
     "schema_version": 3,
     "solution": false,
     "task": false
    }
   },
   "outputs": [],
   "source": [
    "\n",
    "assert MCQ6_ans in ['A', 'B', 'C', 'D', 'E'] \n",
    "assert MCQ7_ans in ['A', 'B', 'C', 'D', 'E']\n",
    "assert MCQ8_ans in ['A', 'B', 'C', 'D', 'E']\n",
    "assert MCQ9_ans in ['A', 'B', 'C', 'D', 'E']\n",
    "assert MCQ10_ans in ['A', 'B', 'C', 'D', 'E']"
   ]
  },
  {
   "cell_type": "code",
   "execution_count": 12,
   "id": "550e39f0",
   "metadata": {
    "nbgrader": {
     "grade": true,
     "grade_id": "cell-5875df2f4969ecd1",
     "locked": true,
     "points": 0.05,
     "schema_version": 3,
     "solution": false,
     "task": false
    }
   },
   "outputs": [],
   "source": [
    "# this cell is being used in testing of your solution, do not edit or delete it.\n",
    "### BEGIN HIDDEN TESTS\n",
    "assert MCQ6_ans == 'B'\n",
    "### END HIDDEN TESTS"
   ]
  },
  {
   "cell_type": "code",
   "execution_count": 13,
   "id": "c6f9499d",
   "metadata": {
    "nbgrader": {
     "grade": true,
     "grade_id": "cell-e8444649b76a7f89",
     "locked": true,
     "points": 0.05,
     "schema_version": 3,
     "solution": false,
     "task": false
    }
   },
   "outputs": [],
   "source": [
    "# this cell is being used in testing of your solution, do not edit or delete it.\n",
    "### BEGIN HIDDEN TESTS\n",
    "assert MCQ7_ans == 'C'\n",
    "### END HIDDEN TESTS"
   ]
  },
  {
   "cell_type": "code",
   "execution_count": 14,
   "id": "aa433bd9",
   "metadata": {
    "nbgrader": {
     "grade": true,
     "grade_id": "cell-70b7fb2b8d432d24",
     "locked": true,
     "points": 0.05,
     "schema_version": 3,
     "solution": false,
     "task": false
    }
   },
   "outputs": [],
   "source": [
    "# this cell is being used in testing of your solution, do not edit or delete it.\n",
    "### BEGIN HIDDEN TESTS\n",
    "assert MCQ8_ans == 'A'\n",
    "### END HIDDEN TESTS"
   ]
  },
  {
   "cell_type": "code",
   "execution_count": 15,
   "id": "e7ad154e",
   "metadata": {
    "nbgrader": {
     "grade": true,
     "grade_id": "cell-c9a58bb167a11255",
     "locked": true,
     "points": 0.05,
     "schema_version": 3,
     "solution": false,
     "task": false
    }
   },
   "outputs": [],
   "source": [
    "# this cell is being used in testing of your solution, do not edit or delete it.\n",
    "### BEGIN HIDDEN TESTS\n",
    "assert MCQ9_ans == 'A'\n",
    "### END HIDDEN TESTS"
   ]
  },
  {
   "cell_type": "code",
   "execution_count": 16,
   "id": "9a5c134a",
   "metadata": {
    "nbgrader": {
     "grade": true,
     "grade_id": "cell-131992976f143874",
     "locked": true,
     "points": 0.05,
     "schema_version": 3,
     "solution": false,
     "task": false
    }
   },
   "outputs": [],
   "source": [
    "# this cell is being used in testing of your solution, do not edit or delete it.\n",
    "### BEGIN HIDDEN TESTS\n",
    "assert MCQ10_ans == 'D'\n",
    "### END HIDDEN TESTS"
   ]
  },
  {
   "cell_type": "markdown",
   "id": "bdf749b3",
   "metadata": {
    "nbgrader": {
     "grade": false,
     "grade_id": "cell-b15b81bdab7edbca",
     "locked": true,
     "schema_version": 3,
     "solution": false,
     "task": false
    }
   },
   "source": [
    "#### MCQ11\n",
    "\n",
    "A dictionary `my_dict` is defined for you.  How can you find out if `'foo'` is in the keys of `my_dict`\n",
    "\n",
    "A) `if my_dict.isin('foo'):` <br>\n",
    "B) `if my_dict in 'foo':`    <br>\n",
    "C) `if 'foo' in my_dict:`    <br>\n",
    "D) `if my_dict.keys() in 'foo':`   <br>\n",
    "E) None of the above <br>\n",
    "\n",
    "#### MCQ12\n",
    "When does IndexError occur?\n",
    "\n",
    "A) When you try to index a variable type that can't be indexed    <br>\n",
    "B) When you try to change the index  of a collection  <br>\n",
    "C) When you make an index and run out of memory<br>\n",
    "D) When you try to index outside the range of a collection    <br>\n",
    "E) None of the above <br>\n",
    "\n",
    "#### MCQ13\n",
    "When an IndexError occurs it is a(n)...\n",
    "\n",
    "A) Syntax error aka parsing error    <br>\n",
    "B) Exception aka runtime error   <br>\n",
    "C) System crash  <br>\n",
    "D) Hardware fault    <br>\n",
    "E) None of the above <br>\n",
    "\n",
    "#### MCQ14\n",
    "When the code below executes, what will you see printed?\n",
    "\n",
    "```python\n",
    "# note: variable x is NOT defined up to this point!\n",
    "try:\n",
    "    print(x)\n",
    "except NameError:\n",
    "    print(\"Message 1\")\n",
    "except IndexError:\n",
    "    print(\"Message 2\")\n",
    "except:\n",
    "    print(\"Message 3\")\n",
    "\n",
    "print(\"Message 4\")\n",
    "```\n",
    "A) Message 1    <br>\n",
    "B) Message 2    <br>\n",
    "C) Message 3    <br>\n",
    "D) the value of x, followed by Message 4    <br>\n",
    "E) None of the above <br>\n",
    "\n",
    "#### MCQ15\n",
    "\n",
    "You are processing a chat requests until the user types \"goodbye\" to end the chat session.  How would you best iterate through the user's messages to process them one by one?\n",
    "\n",
    "A) while loop    <br>\n",
    "B) copy/paste a cell using different employee name in each    <br>\n",
    "C) if/elif/else    <br>\n",
    "D) for loop    <br>\n",
    "E) None of the above <br>\n"
   ]
  },
  {
   "cell_type": "code",
   "execution_count": 17,
   "id": "a298f34e",
   "metadata": {},
   "outputs": [],
   "source": [
    "MCQ11_ans = 'C'\n",
    "MCQ12_ans = 'D'\n",
    "MCQ13_ans = 'B'\n",
    "MCQ14_ans = 'E'\n",
    "MCQ15_ans = 'A'"
   ]
  },
  {
   "cell_type": "code",
   "execution_count": 18,
   "id": "0c90e92f",
   "metadata": {
    "nbgrader": {
     "grade": true,
     "grade_id": "cell-23f8a739af8bd0cf",
     "locked": true,
     "points": 0,
     "schema_version": 3,
     "solution": false,
     "task": false
    }
   },
   "outputs": [],
   "source": [
    "\n",
    "assert MCQ11_ans in ['A', 'B', 'C', 'D', 'E'] \n",
    "assert MCQ12_ans in ['A', 'B', 'C', 'D', 'E']\n",
    "assert MCQ13_ans in ['A', 'B', 'C', 'D', 'E']\n",
    "assert MCQ14_ans in ['A', 'B', 'C', 'D', 'E']\n",
    "assert MCQ15_ans in ['A', 'B', 'C', 'D', 'E']"
   ]
  },
  {
   "cell_type": "code",
   "execution_count": 19,
   "id": "2672b566",
   "metadata": {
    "nbgrader": {
     "grade": true,
     "grade_id": "cell-8a34e79ade2c7cf1",
     "locked": true,
     "points": 0.05,
     "schema_version": 3,
     "solution": false,
     "task": false
    }
   },
   "outputs": [],
   "source": [
    "# this cell is being used in testing of your solution, do not edit or delete it.\n",
    "### BEGIN HIDDEN TESTS\n",
    "assert MCQ11_ans == 'C'\n",
    "### END HIDDEN TESTS"
   ]
  },
  {
   "cell_type": "code",
   "execution_count": 20,
   "id": "14403cdc",
   "metadata": {
    "nbgrader": {
     "grade": true,
     "grade_id": "cell-30d1362afa93dac2",
     "locked": true,
     "points": 0.05,
     "schema_version": 3,
     "solution": false,
     "task": false
    }
   },
   "outputs": [],
   "source": [
    "# this cell is being used in testing of your solution, do not edit or delete it.\n",
    "### BEGIN HIDDEN TESTS\n",
    "assert MCQ12_ans == 'D'\n",
    "### END HIDDEN TESTS"
   ]
  },
  {
   "cell_type": "code",
   "execution_count": 21,
   "id": "88ddef13",
   "metadata": {
    "nbgrader": {
     "grade": true,
     "grade_id": "cell-21525a021b1b2767",
     "locked": true,
     "points": 0.05,
     "schema_version": 3,
     "solution": false,
     "task": false
    }
   },
   "outputs": [],
   "source": [
    "# this cell is being used in testing of your solution, do not edit or delete it.\n",
    "### BEGIN HIDDEN TESTS\n",
    "assert MCQ13_ans == 'B'\n",
    "### END HIDDEN TESTS"
   ]
  },
  {
   "cell_type": "code",
   "execution_count": 22,
   "id": "81408d63",
   "metadata": {
    "nbgrader": {
     "grade": true,
     "grade_id": "cell-f3beaa38b6168d60",
     "locked": true,
     "points": 0.05,
     "schema_version": 3,
     "solution": false,
     "task": false
    }
   },
   "outputs": [],
   "source": [
    "# this cell is being used in testing of your solution, do not edit or delete it.\n",
    "### BEGIN HIDDEN TESTS\n",
    "assert MCQ14_ans == 'E'\n",
    "### END HIDDEN TESTS"
   ]
  },
  {
   "cell_type": "code",
   "execution_count": 23,
   "id": "c099c579",
   "metadata": {
    "nbgrader": {
     "grade": true,
     "grade_id": "cell-3c2d04100a315a03",
     "locked": true,
     "points": 0.05,
     "schema_version": 3,
     "solution": false,
     "task": false
    }
   },
   "outputs": [],
   "source": [
    "# this cell is being used in testing of your solution, do not edit or delete it.\n",
    "### BEGIN HIDDEN TESTS\n",
    "assert MCQ15_ans == 'A'\n",
    "### END HIDDEN TESTS"
   ]
  },
  {
   "cell_type": "markdown",
   "id": "f347c9eb",
   "metadata": {},
   "source": [
    "#### MCQ16\n",
    "\n",
    "The directory structure looks like:\n",
    "> /home/sellis/Code/COGS18 <br>\n",
    ">    | <br>\n",
    ">    |______ Materials <br>\n",
    ">    | <br>\n",
    ">    |______ LectureNotes <br>\n",
    "\n",
    "The current directory is `LectureNotes/`. How would you copy file `Lecture.ipynb` from `Materials/` to `LectureNotes/` using a relative file path?\n",
    "\n",
    "A) `cp ../Materials/Lecture.ipynb .` <br>\n",
    "B) `cp Lecture.ipynb ../LectureNotes/ `   <br>\n",
    "C) `cp /home/sellis/Code/COGS18/Materials/Lecture.ipynb .`    <br>\n",
    "D) `cp Lecture.ipynb /home/sellis/Code/COGS18/LectureNotes/`  <br>\n",
    "E) None of the above <br>\n",
    "\n",
    "#### MCQ17\n",
    "\n",
    "How would you make the same copy as above, but using an absolute file path?\n",
    "\n",
    "A) `cp ../Materials/Lecture.ipynb .` <br>\n",
    "B) `cp Lecture.ipynb ../LectureNotes/ `   <br>\n",
    "C) `cp /home/sellis/Code/COGS18/Materials/Lecture.ipynb .`    <br>\n",
    "D) `cp Lecture.ipynb /home/sellis/Code/COGS18/LectureNotes/`  <br>\n",
    "E) None of the above <br>\n",
    "\n",
    "#### MCQ18\n",
    "You want to iterate over two lists (`a_list, b_list`) that are the same length, simulatnously printing out the 0th elements of both lists on a single line, then 1st elements of both lists on a single line, then 2nd, etc..  What is the correct way to do this?\n",
    "\n",
    "A) \n",
    "```python\n",
    "for a, b in a_list, b_list:\n",
    "    print(a,b)\n",
    "```\n",
    "B) \n",
    "```python\n",
    "print( a_list, b_list)\n",
    "```\n",
    "C) \n",
    "```python\n",
    "for zip(a_list, b_list):\n",
    "    print(a,b)\n",
    "```\n",
    "D) \n",
    "```python\n",
    "for a, b in zip(a_list, b_list):\n",
    "    print(a,b)\n",
    "```\n",
    "E) None of the above <br>\n",
    "\n",
    "#### MCQ19\n",
    "For doing linear algebra which of the following libraries would be most helpful?\n",
    "\n",
    "A) LinAlg    <br>\n",
    "B) Pandas    <br>\n",
    "C) MathPy    <br>\n",
    "D) NumPy    <br>\n",
    "E) None of the above <br>\n",
    "\n",
    "#### MCQ20\n",
    "For working with spreadsheet-like data (tables of data) which of the following libraries  would be most helpful?\n",
    "\n",
    "A) LinAlg    <br>\n",
    "B) Pandas    <br>\n",
    "C) MathPy    <br>\n",
    "D) NumPy    <br>\n",
    "E) None of the above <br>"
   ]
  },
  {
   "cell_type": "code",
   "execution_count": 24,
   "id": "6122d38d",
   "metadata": {},
   "outputs": [],
   "source": [
    "MCQ16_ans = 'A'\n",
    "MCQ17_ans = 'C'\n",
    "MCQ18_ans = 'D' \n",
    "MCQ19_ans = 'D'\n",
    "MCQ20_ans = 'B'"
   ]
  },
  {
   "cell_type": "code",
   "execution_count": 25,
   "id": "b7137874",
   "metadata": {
    "nbgrader": {
     "grade": true,
     "grade_id": "cell-9457772c757f7f3f",
     "locked": true,
     "points": 0,
     "schema_version": 3,
     "solution": false,
     "task": false
    }
   },
   "outputs": [],
   "source": [
    "\n",
    "assert MCQ16_ans in ['A', 'B', 'C', 'D', 'E'] \n",
    "assert MCQ17_ans in ['A', 'B', 'C', 'D', 'E']\n",
    "assert MCQ18_ans in ['A', 'B', 'C', 'D', 'E']\n",
    "assert MCQ19_ans in ['A', 'B', 'C', 'D', 'E']\n",
    "assert MCQ20_ans in ['A', 'B', 'C', 'D', 'E']"
   ]
  },
  {
   "cell_type": "code",
   "execution_count": 26,
   "id": "d51532ba",
   "metadata": {
    "nbgrader": {
     "grade": true,
     "grade_id": "cell-0cbf3b70dcd9c44e",
     "locked": true,
     "points": 0.05,
     "schema_version": 3,
     "solution": false,
     "task": false
    }
   },
   "outputs": [],
   "source": [
    "# this cell is being used in testing of your solution, do not edit or delete it.\n",
    "### BEGIN HIDDEN TESTS\n",
    "assert MCQ16_ans == 'A'\n",
    "### END HIDDEN TESTS"
   ]
  },
  {
   "cell_type": "code",
   "execution_count": 27,
   "id": "69c07b99",
   "metadata": {
    "nbgrader": {
     "grade": true,
     "grade_id": "cell-3ab537168a21670f",
     "locked": true,
     "points": 0.05,
     "schema_version": 3,
     "solution": false,
     "task": false
    }
   },
   "outputs": [],
   "source": [
    "# this cell is being used in testing of your solution, do not edit or delete it.\n",
    "### BEGIN HIDDEN TESTS\n",
    "assert MCQ17_ans == 'C'\n",
    "### END HIDDEN TESTS"
   ]
  },
  {
   "cell_type": "code",
   "execution_count": 28,
   "id": "67660af2",
   "metadata": {
    "nbgrader": {
     "grade": true,
     "grade_id": "cell-d0da2ad89dade0e9",
     "locked": true,
     "points": 0.05,
     "schema_version": 3,
     "solution": false,
     "task": false
    }
   },
   "outputs": [],
   "source": [
    "# this cell is being used in testing of your solution, do not edit or delete it.\n",
    "### BEGIN HIDDEN TESTS\n",
    "assert MCQ18_ans == 'D'\n",
    "### END HIDDEN TESTS"
   ]
  },
  {
   "cell_type": "code",
   "execution_count": 29,
   "id": "6cb2fb5f",
   "metadata": {
    "nbgrader": {
     "grade": true,
     "grade_id": "cell-8cad56cf4fb09a63",
     "locked": true,
     "points": 0.05,
     "schema_version": 3,
     "solution": false,
     "task": false
    }
   },
   "outputs": [],
   "source": [
    "# this cell is being used in testing of your solution, do not edit or delete it.\n",
    "### BEGIN HIDDEN TESTS\n",
    "assert MCQ19_ans == 'D'\n",
    "### END HIDDEN TESTS"
   ]
  },
  {
   "cell_type": "code",
   "execution_count": 30,
   "id": "6b75ba9d",
   "metadata": {
    "nbgrader": {
     "grade": true,
     "grade_id": "cell-40699b069bbbaecc",
     "locked": true,
     "points": 0.05,
     "schema_version": 3,
     "solution": false,
     "task": false
    }
   },
   "outputs": [],
   "source": [
    "# this cell is being used in testing of your solution, do not edit or delete it.\n",
    "### BEGIN HIDDEN TESTS\n",
    "assert MCQ20_ans == 'B'\n",
    "### END HIDDEN TESTS"
   ]
  },
  {
   "cell_type": "markdown",
   "id": "f3128e5c",
   "metadata": {
    "nbgrader": {
     "grade": false,
     "grade_id": "cell-76a5d75a30bb1182",
     "locked": true,
     "schema_version": 3,
     "solution": false,
     "task": false
    }
   },
   "source": [
    "## Project Intro\n",
    "\n",
    "In this project, you'll be working with data from the 100 known verified oldest people.\n",
    "\n",
    "While there are many questions one *could* ask about this dataset, we're going to focus on the following question:\n",
    "\n",
    "> Of the verified oldest individuals born in the 20th century (1900-1999), were more of them female or were more male?\n",
    "\n",
    "While everything you need has been provided in the final folder, if you're interested, more information about these data can be read [from TidyTuesday](https://github.com/rfordatascience/tidytuesday/tree/master/data/2023/2023-05-30).\n",
    "\n",
    "*Caveat*: In these data, data from only two genders are represented (males, females); however, gender is not binary and a better dataset would be more reflective of this fact. In fact, as the documentation states, even though the column is called gender, it's likely actually the sex assigned at birth that was collected."
   ]
  },
  {
   "cell_type": "markdown",
   "id": "e5a716cf",
   "metadata": {
    "nbgrader": {
     "grade": false,
     "grade_id": "cell-8aff25612b088f1c",
     "locked": true,
     "schema_version": 3,
     "solution": false,
     "task": false
    }
   },
   "source": [
    "### Files Included\n",
    "\n",
    "There are 5 files included in your Project folder. Each is described below:\n",
    "\n",
    "- `Project_Final_Sp24.ipynb` | this notebook file; includes exam instructions\n",
    "- `data_analysis.py` | module that will store your functions (has a single function in it to start)\n",
    "- `test_data_analysis.py` | test file (has a single test function to start)\n",
    "- `centenarians.csv` | data file with the data we'll be using for the analysis\n",
    "- `testfile.csv` | a smaller version of the data file that can be used for testing\n",
    "\n",
    "**Do not move or change the name of any of these files.**"
   ]
  },
  {
   "cell_type": "markdown",
   "id": "f3a52c11",
   "metadata": {
    "nbgrader": {
     "grade": false,
     "grade_id": "cell-16901a78cdbb3c8f",
     "locked": true,
     "schema_version": 3,
     "solution": false,
     "task": false
    }
   },
   "source": [
    "## Part 1: Code + Module  (11 pts)\n",
    "\n",
    "In this section, you'll write the functions needed to carry out the analysis."
   ]
  },
  {
   "cell_type": "markdown",
   "id": "56c0dd83",
   "metadata": {
    "nbgrader": {
     "grade": false,
     "grade_id": "cell-1b19f542694e258b",
     "locked": true,
     "schema_version": 3,
     "solution": false,
     "task": false
    }
   },
   "source": [
    "### Q1: function: `read_data` (3 pts)\n",
    "\n",
    "Define a function `read_data` with a single parameter `file` that accomplishes the following, using `pandas` functions/methods:\n",
    "\n",
    "1. uses `pandas` to read the `file` in\n",
    "2. filters to only include individuals who are deceased (individuals with the value 'deceased' in the `still_alive` column)\n",
    "3. creates a new column `birth_year`, storing an integer - this which will include the year the individual was born (calculated from the column `birth_date`) \n",
    "3. filters to only include individuals born in the 20th century (born in a year between 1900 and 1999, inclusive)\n",
    "4. `return`s the resulting DataFrame from the function.\n",
    "\n",
    "Notes:\n",
    "- to test out your function here, you'll need to `import pandas as pd` first (outside your function).\n",
    "- `birth_date` is a string. We'll use that to generate the `birth_year` column, but note that the values in `birth_year` should be numeric (not strings)\n",
    "- There is a pandas method [`str.extract`](https://pandas.pydata.org/docs/reference/api/pandas.Series.str.extract.html) that may be helpful for generating `birth_year`. Note that if you want to pull out the first four digits of a string, the input to that method would be: `'(^\\d\\d\\d\\d)'`, where `\\d` specifies a digit\n",
    "- there is a pandas method called [`between()`](https://pandas.pydata.org/docs/reference/api/pandas.Series.between.html) that allows you to extract all rows between two values in a series\n",
    "\n",
    "**Suggested smoke test**: Executing the function as follows: `read_data(file = 'testfile.csv')` should return a `pandas` DataFrame with 5 rows and 9 columns."
   ]
  },
  {
   "cell_type": "code",
   "execution_count": 31,
   "id": "eaafbdff",
   "metadata": {
    "nbgrader": {
     "grade": false,
     "grade_id": "cell-1a00bd145029f997",
     "locked": false,
     "schema_version": 3,
     "solution": true,
     "task": false
    }
   },
   "outputs": [],
   "source": [
    "### BEGIN SOLUTION\n",
    "import pandas as pd\n",
    "\n",
    "def read_data(file):\n",
    "    \n",
    "    df = pd.read_csv(file)\n",
    "    df = df[df['still_alive'] == 'deceased']\n",
    "    df['birth_year'] = df['birth_date'].str.extract('(^\\d\\d\\d\\d)').astype(int)\n",
    "    df = df[df['birth_year'].between(1900,1999)]\n",
    "\n",
    "    return df\n",
    "### END SOLUTION"
   ]
  },
  {
   "cell_type": "code",
   "execution_count": 32,
   "id": "7bf013ce",
   "metadata": {},
   "outputs": [],
   "source": [
    "# BE SURE YOUR ANSWER IS IN THE CELL ABOVE\n",
    "# but you can use this cell to test/execute/check your thinking (optional)"
   ]
  },
  {
   "cell_type": "code",
   "execution_count": 33,
   "id": "fc27cba4",
   "metadata": {
    "nbgrader": {
     "grade": true,
     "grade_id": "cell-1d31bb00de367f31",
     "locked": true,
     "points": 0.5,
     "schema_version": 3,
     "solution": false,
     "task": false
    }
   },
   "outputs": [],
   "source": [
    "assert read_data\n",
    "### BEGIN HIDDEN TESTS\n",
    "import pandas as pd\n",
    "df = read_data('testfile.csv')\n",
    "assert isinstance(df, pd.DataFrame)\n",
    "### END HIDDEN TESTS"
   ]
  },
  {
   "cell_type": "code",
   "execution_count": 34,
   "id": "f11edb23",
   "metadata": {
    "nbgrader": {
     "grade": true,
     "grade_id": "cell-27ab0369eac92b75",
     "locked": true,
     "points": 0.25,
     "schema_version": 3,
     "solution": false,
     "task": false
    }
   },
   "outputs": [],
   "source": [
    "# hidden test to check correct output shape from read_data\n",
    "### BEGIN HIDDEN TESTS\n",
    "# check extracted columns correctly\n",
    "assert df.shape == (5, 9)\n",
    "### END HIDDEN TESTS"
   ]
  },
  {
   "cell_type": "code",
   "execution_count": 35,
   "id": "017e5519",
   "metadata": {
    "nbgrader": {
     "grade": true,
     "grade_id": "cell-460c72010bbad8f5",
     "locked": true,
     "points": 0.25,
     "schema_version": 3,
     "solution": false,
     "task": false
    }
   },
   "outputs": [],
   "source": [
    "# hidden test to check correct birth_year column exists\n",
    "### BEGIN HIDDEN TESTS\n",
    "assert 'birth_year' in list(df.columns)\n",
    "### END HIDDEN TESTS"
   ]
  },
  {
   "cell_type": "code",
   "execution_count": 36,
   "id": "edd53293",
   "metadata": {
    "nbgrader": {
     "grade": true,
     "grade_id": "cell-101e3ce8ece8d3cb",
     "locked": true,
     "points": 0.25,
     "schema_version": 3,
     "solution": false,
     "task": false
    }
   },
   "outputs": [],
   "source": [
    "# hidden test to check birth_year column values \n",
    "# are numeric and that values are between expected years\n",
    "### BEGIN HIDDEN TESTS\n",
    "assert all(df.birth_year >= 1900) and all(df.birth_year) <= 1999\n",
    "### END HIDDEN TESTS"
   ]
  },
  {
   "cell_type": "code",
   "execution_count": 37,
   "id": "dedd7109",
   "metadata": {
    "nbgrader": {
     "grade": true,
     "grade_id": "cell-00471611135f5019",
     "locked": true,
     "points": 0.25,
     "schema_version": 3,
     "solution": false,
     "task": false
    }
   },
   "outputs": [],
   "source": [
    "# hidden test to check that `still_alive` only contains 'deceased'\n",
    "### BEGIN HIDDEN TESTS\n",
    "assert all(df.still_alive == 'deceased')\n",
    "### END HIDDEN TESTS"
   ]
  },
  {
   "cell_type": "markdown",
   "id": "d09caf2b",
   "metadata": {
    "nbgrader": {
     "grade": false,
     "grade_id": "cell-727a4fb9129b4554",
     "locked": true,
     "points": 1.5,
     "schema_version": 3,
     "solution": false,
     "task": true
    }
   },
   "source": [
    "**This \"blank\" cell included intentionally.** Do not do anything here. (It's being used in grading.)\n",
    "\n",
    "=== BEGIN MARK SCHEME ===\n",
    "\n",
    "If points lost above, check for partial credit (otherwise, give full credit):\n",
    "- function defined correctly with single input parameter (**0.2 pts**)\n",
    "- reads file in correctly using `pd.read_csv()` function (**0.25 pts**)\n",
    "- filters `still_alive` correctly (**0.5 pts**)\n",
    "- calculates `birth_year` correctly - extracts and converts to integer (**0.5 pts**)\n",
    "- filters `birth_year` correctly\n",
    "- includes `return` statement (**0.05 pts**)\n",
    "=== END MARK SCHEME ==="
   ]
  },
  {
   "cell_type": "markdown",
   "id": "a45b7ac7",
   "metadata": {
    "nbgrader": {
     "grade": false,
     "grade_id": "cell-e2ab314a409f5570",
     "locked": true,
     "schema_version": 3,
     "solution": false,
     "task": false
    }
   },
   "source": [
    "### Q2: function: `calculate_stats` (2.5 pts)\n",
    "\n",
    "Now, define a function `calculate_stats` that takes in the parameter `df` (the DataFrame it will operate on).\n",
    "\n",
    "This function should:\n",
    "1. Calculate `value_counts()` on the `'gender'` column of the dataframe (using default values for all parameters)\n",
    "2. Extract the count of females (`num_female`) and males (`num_males`) from the output of `value_counts`\n",
    "3. `return` `num_female` and `num_male` (in that order) from the function\n",
    "\n",
    "Note:\n",
    "- If there are no females in the `value_counts` output, `num_female` should store `0`. If there are no males `num_males` should store `0`.\n",
    "\n",
    "**Suggested smoke test**: Executing the function as follows (where `df` is the output after having run `read_data()` on 'testfile.csv'): `out = calculate_stats(df)` should return a tuple containing `(5, 0)`"
   ]
  },
  {
   "cell_type": "code",
   "execution_count": 38,
   "id": "24c4b7e2",
   "metadata": {
    "nbgrader": {
     "grade": false,
     "grade_id": "cell-afa8d458aebc68a8",
     "locked": false,
     "schema_version": 3,
     "solution": true,
     "task": false
    }
   },
   "outputs": [],
   "source": [
    "### BEGIN SOLUTION\n",
    "# alt option; requires default value of get method be known/found\n",
    "def calculate_stats(df):\n",
    "    gender_counts = df['gender'].value_counts()  # Calculate value_counts() on the 'gender' column\n",
    "    \n",
    "    num_female = gender_counts.get('female', 0)  # Extract the count of females, defaulting to 0 if not found\n",
    "    num_male = gender_counts.get('male', 0)  # Extract the count of males, defaulting to 0 if not found\n",
    "    \n",
    "    return num_female, num_male\n",
    "\n",
    "\n",
    "# requires use of try/except\n",
    "# def calculate_stats(df):\n",
    "    \n",
    "#     val_counts = df['gender'].value_counts()\n",
    "    \n",
    "#     try:\n",
    "#         num_female = df['gender'].value_counts()['female']\n",
    "#     except:\n",
    "#         num_female = 0\n",
    "    \n",
    "#     try:\n",
    "#         num_male = df['gender'].value_counts()['male']\n",
    "#     except:\n",
    "#         num_male = 0\n",
    "\n",
    "#     return num_female, num_male\n",
    "### END SOLUTION"
   ]
  },
  {
   "cell_type": "code",
   "execution_count": 39,
   "id": "d5b90540",
   "metadata": {
    "nbgrader": {
     "grade": true,
     "grade_id": "cell-aefae4ed66a24acc",
     "locked": true,
     "points": 0.25,
     "schema_version": 3,
     "solution": false,
     "task": false
    },
    "scrolled": true
   },
   "outputs": [],
   "source": [
    "# hidden test to check function executes \n",
    "# without error on provided testfile\n",
    "### BEGIN HIDDEN TESTS\n",
    "df = read_data('testfile.csv')\n",
    "out = calculate_stats(df) \n",
    "### END HIDDEN TESTS"
   ]
  },
  {
   "cell_type": "code",
   "execution_count": 40,
   "id": "fe2970b4",
   "metadata": {
    "nbgrader": {
     "grade": true,
     "grade_id": "cell-65155f89eb909bfb",
     "locked": true,
     "points": 0.25,
     "schema_version": 3,
     "solution": false,
     "task": false
    }
   },
   "outputs": [],
   "source": [
    "# hidden test to check output from function\n",
    "# returns two values as a tuple with correct values\n",
    "### BEGIN HIDDEN TESTS\n",
    "assert len(out) == 2\n",
    "assert type(out) == tuple\n",
    "assert out == (5, 0)\n",
    "### END HIDDEN TESTS"
   ]
  },
  {
   "cell_type": "code",
   "execution_count": 41,
   "id": "5af0054f",
   "metadata": {
    "nbgrader": {
     "grade": true,
     "grade_id": "cell-0ce03f63914ee98f",
     "locked": true,
     "points": 0.25,
     "schema_version": 3,
     "solution": false,
     "task": false
    }
   },
   "outputs": [],
   "source": [
    "# hidden test to check function executes \n",
    "# without error on full dataset\n",
    "### BEGIN HIDDEN TESTS\n",
    "df_all = read_data('centenarians.csv')\n",
    "out = calculate_stats(df_all) \n",
    "### END HIDDEN TESTS"
   ]
  },
  {
   "cell_type": "code",
   "execution_count": 42,
   "id": "213588b6",
   "metadata": {
    "nbgrader": {
     "grade": true,
     "grade_id": "cell-2b38fb1aeaf6bb97",
     "locked": true,
     "points": 0.25,
     "schema_version": 3,
     "solution": false,
     "task": false
    }
   },
   "outputs": [],
   "source": [
    "# hidden test to check check values returned are correct\n",
    "### BEGIN HIDDEN TESTS\n",
    "assert out == (43, 50)\n",
    "### END HIDDEN TESTS"
   ]
  },
  {
   "cell_type": "markdown",
   "id": "b1964477",
   "metadata": {
    "nbgrader": {
     "grade": false,
     "grade_id": "cell-a0c76fe9aa784dc0",
     "locked": true,
     "points": 1,
     "schema_version": 3,
     "solution": false,
     "task": true
    }
   },
   "source": [
    "**This \"blank\" cell included intentionally.** Do not do anything here. (It's being used in grading.)\n",
    "\n",
    "=== BEGIN MARK SCHEME ===\n",
    "\n",
    "If points lost above, check for partial credit (otherwise, give full credit):\n",
    "- function defined correctly with parameters `df` amd `label` (**0.25 pts**)\n",
    "- conditional filtering correct (**0.25 pts**)\n",
    "- value_counts() syntax correct;  (**0.25 pts**)\n",
    "- `return` statement included (**0.25 pts**)\n",
    "\n",
    "=== END MARK SCHEME ==="
   ]
  },
  {
   "cell_type": "markdown",
   "id": "77cdf35f",
   "metadata": {
    "nbgrader": {
     "grade": false,
     "grade_id": "cell-99b75634429b425b",
     "locked": true,
     "schema_version": 3,
     "solution": false,
     "task": false
    }
   },
   "source": [
    "### Q3: module `data_analysis.py` (5 pts)\n",
    "\n",
    "Now, we'll move your functions from Q1 and Q2 into our `data_analysis` module and get that module all ready to go!\n",
    "\n",
    "`data_analysis.py` has two `import` statements at the top and a single function `generate_plot`. The code in `generate_plot` functions; however, you'll notice that it does not have any code comments or documentation. You'll fix that in just a second!\n",
    "\n",
    "To make this module more complete and polished, carry out the following steps:\n",
    "\n",
    "1. Copy the `read_data` and `calculate_stats` functions from Q1 and Q2 (respectively) into the `data_analysis` module (the module will have three functions total, including `generate_plot`)\n",
    "2. Edit all three functions for Code Style, as discussed in class\n",
    "3. Add helpful code comments throughout all three functions\n",
    "4. Add `numpy` style docs to all three functions, as discussed in class\n",
    "\n",
    "Note: Nothing has to be done in the notebook for this question. Everything will happen in `data_analysis.py`"
   ]
  },
  {
   "cell_type": "markdown",
   "id": "bd0f7263",
   "metadata": {
    "nbgrader": {
     "grade": false,
     "grade_id": "cell-11ebcb4b45937698",
     "locked": true,
     "points": 5,
     "schema_version": 3,
     "solution": false,
     "task": true
    }
   },
   "source": [
    "**This \"blank\" cell included intentionally.** Do not do anything here. (It's being used in grading.)\n",
    "\n",
    "=== BEGIN MARK SCHEME ===\n",
    "\n",
    "To grade, you'll have to open up this student's `data_analysis.py` file:\n",
    "- contains 3 functions (**0.5 pts**)\n",
    "- all three functions have good code style (line spacing, spacing around operators, good variable names, etc.) (**1.5 pts**)\n",
    "- functions contain at least some level of helpful code comments (**1 pts**)\n",
    "- functions contain `numpy` style docstrings, specifying one-liner, Parameters, and Returns (**2 pts**)\n",
    "\n",
    "=== END MARK SCHEME ==="
   ]
  },
  {
   "cell_type": "markdown",
   "id": "4cd1e4af",
   "metadata": {
    "nbgrader": {
     "grade": false,
     "grade_id": "cell-691e6e62f44e642b",
     "locked": true,
     "schema_version": 3,
     "solution": false,
     "task": false
    }
   },
   "source": [
    "## Part 2: Code Testing (4.5 pts)\n",
    "\n",
    "At this point, you've got three well-documented functions with helpful code comments and good code style in `data_analysis.py`. Now it's time to focus on our code tests!"
   ]
  },
  {
   "cell_type": "markdown",
   "id": "cd22ee3a",
   "metadata": {
    "nbgrader": {
     "grade": false,
     "grade_id": "cell-7a0e38ca05197c80",
     "locked": true,
     "schema_version": 3,
     "solution": false,
     "task": false
    }
   },
   "source": [
    "### Q4: test function: `test_calculate_stats` (1.5 pts)\n",
    "\n",
    "`test_calculate_stats()` has been provided for you in `test_data_analysis.py`. Describe in the cell containing ***Replace this with your explanation*** what exactly this test function is accomplishing/testing. (This will likely include an explanation of each line of code.)"
   ]
  },
  {
   "cell_type": "code",
   "execution_count": 43,
   "id": "5c11218c",
   "metadata": {},
   "outputs": [],
   "source": [
    "# FEEL FREE TO USE THIS CELL TO CHECK YOUR UNDERSTANDING (optional)"
   ]
  },
  {
   "cell_type": "markdown",
   "id": "52905ef0",
   "metadata": {},
   "source": [
    "***Replace this with your explanation.***"
   ]
  },
  {
   "cell_type": "markdown",
   "id": "b0ca027b",
   "metadata": {
    "nbgrader": {
     "grade": false,
     "grade_id": "cell-d2b026b00252f52c",
     "locked": true,
     "points": 1.5,
     "schema_version": 3,
     "solution": false,
     "task": true
    }
   },
   "source": [
    "**This \"blank\" cell included intentionally.** Do not do anything here. (It's being used in grading.)\n",
    "\n",
    "=== BEGIN MARK SCHEME ===\n",
    "\n",
    "- overall explanation of the test function/what a test function is is close to right (**0.25 pts**)\n",
    "- explains that `df = read_data(file='testfile.csv')` creates a dummy DataFrame (**0.25 pts**)\n",
    "- correctly explains that `out = calculate_stats(df)` is executing the function (**0.25 pts**)\n",
    "- explains that `type(out) == tuple` is checking the output type (**0.25 pts**)\n",
    "- explains that `len(out) == 2` is checking that the correct number of things have been returned (**0.25 pts**)\n",
    "- explains that `out = (5, 0)` is returning the number of females and males, respectively in the test dataset (**0.25 pts**)\n",
    "\n",
    "=== END MARK SCHEME ==="
   ]
  },
  {
   "cell_type": "markdown",
   "id": "fb3e4764",
   "metadata": {
    "nbgrader": {
     "grade": false,
     "grade_id": "cell-a66a47ceca428493",
     "locked": true,
     "schema_version": 3,
     "solution": false,
     "task": false
    }
   },
   "source": [
    "### Q5: test function: `test_read_data` (3 pts)\n",
    "\n",
    "Now it's your turn to write your own test function. Add a test function `test_read_data()` to `test_data_analysis.py` that: 1) includes at least three `assert` statements and 2) tests the functionality of the `read_data` function. \n",
    "\n",
    "Notes:\n",
    "- this will likely use the `'testfile.csv'` file provided\n",
    "- `test_data_analysis.py` is missing an `import` statement at the top; be sure to add these\n",
    "- nothing has to be done in the notebook here; however, feel free to test out your work below"
   ]
  },
  {
   "cell_type": "code",
   "execution_count": 44,
   "id": "024d4abd",
   "metadata": {},
   "outputs": [],
   "source": [
    "# FEEL FREE TO USE THIS CELL TO CHECK YOUR UNDERSTANDING (optional)"
   ]
  },
  {
   "cell_type": "markdown",
   "id": "b8500096",
   "metadata": {
    "nbgrader": {
     "grade": false,
     "grade_id": "cell-56d1302cffeb086b",
     "locked": true,
     "points": 3,
     "schema_version": 3,
     "solution": false,
     "task": true
    }
   },
   "source": [
    "**This \"blank\" cell included intentionally.** Do not do anything here. (It's being used in grading.)\n",
    "\n",
    "=== BEGIN MARK SCHEME ===\n",
    "\n",
    "To grade, you'll have to open up this student's `data_analysis.py` file:\n",
    "\n",
    "- `import` statement included (**0.5 pts**)\n",
    "- `import` statement matches how used in tests (**0.5 pts**)\n",
    "- `test_read_data()` has at least 3 `assert`s  (**0.5 pts**)\n",
    "- `assert`s test functionality of the code (i.e. type of, shape of, columns in, and/or values in output) (**1.5 pts**)\n",
    "\n",
    "=== END MARK SCHEME ==="
   ]
  },
  {
   "cell_type": "markdown",
   "id": "37f6dc32",
   "metadata": {
    "nbgrader": {
     "grade": false,
     "grade_id": "cell-ceec5737e8b0e0ce",
     "locked": true,
     "schema_version": 3,
     "solution": false,
     "task": false
    }
   },
   "source": [
    "### Q6: `pytest` (2 pts)\n",
    "\n",
    "In the cell below, execute `pytest` on your test file, ensuring your tests both pass."
   ]
  },
  {
   "cell_type": "code",
   "execution_count": 45,
   "id": "0396ae58",
   "metadata": {
    "nbgrader": {
     "grade": false,
     "grade_id": "cell-289115be2870f53e",
     "locked": false,
     "schema_version": 3,
     "solution": true,
     "task": false
    }
   },
   "outputs": [
    {
     "name": "stdout",
     "output_type": "stream",
     "text": [
      "\u001b[1m============================= test session starts ==============================\u001b[0m\n",
      "platform linux -- Python 3.9.5, pytest-8.0.2, pluggy-1.4.0\n",
      "rootdir: /home/grader-cogs18-01/LectureNotes-COGS18/Exam-Prep/Practice_Final_COGS18_Sp24_Ans\n",
      "plugins: anyio-3.2.1\n",
      "collected 2 items                                                              \u001b[0m\u001b[1m\n",
      "\n",
      "test_data_analysis.py \u001b[32m.\u001b[0m\u001b[32m.\u001b[0m\u001b[32m                                                 [100%]\u001b[0m\n",
      "\n",
      "\u001b[32m============================== \u001b[32m\u001b[1m2 passed\u001b[0m\u001b[32m in 1.50s\u001b[0m\u001b[32m ===============================\u001b[0m\n"
     ]
    }
   ],
   "source": [
    "### BEGIN SOLUTION\n",
    "!pytest test_data_analysis.py\n",
    "\n",
    "#OR \n",
    "\n",
    "# !pytest\n",
    "### END SOLUTION"
   ]
  },
  {
   "cell_type": "code",
   "execution_count": 46,
   "id": "132bd2c8",
   "metadata": {
    "nbgrader": {
     "grade": true,
     "grade_id": "cell-87fa8c6fd9817fc0",
     "locked": true,
     "points": 1,
     "schema_version": 3,
     "solution": false,
     "task": false
    }
   },
   "outputs": [],
   "source": [
    "# hidden test running pytest\n",
    "### BEGIN HIDDEN TESTS\n",
    "out = !pytest test_data_analysis.py\n",
    "assert out.grep(\"ERRORS\") == []\n",
    "assert out.grep(\"FAILED\") == []\n",
    "### END HIDDEN TESTS"
   ]
  },
  {
   "cell_type": "markdown",
   "id": "cee8bccb",
   "metadata": {
    "nbgrader": {
     "grade": false,
     "grade_id": "cell-0b701d7378262d41",
     "locked": true,
     "points": 1,
     "schema_version": 3,
     "solution": false,
     "task": true
    }
   },
   "source": [
    "**This \"blank\" cell included intentionally.** Do not do anything here. (It's being used in grading.)\n",
    "\n",
    "=== BEGIN MARK SCHEME ===\n",
    "\n",
    "- syntax calling `pytest` correct (even if tests failed) (**1 pt**) \n",
    "\n",
    "=== END MARK SCHEME ==="
   ]
  },
  {
   "cell_type": "markdown",
   "id": "e2277796",
   "metadata": {
    "nbgrader": {
     "grade": false,
     "grade_id": "cell-d4fc1b11741335db",
     "locked": true,
     "schema_version": 3,
     "solution": false,
     "task": false
    }
   },
   "source": [
    "## Part 3: `import` (+ use) (1.6 pts)"
   ]
  },
  {
   "cell_type": "markdown",
   "id": "dfa71bb8",
   "metadata": {
    "nbgrader": {
     "grade": false,
     "grade_id": "cell-e2c2e62ece0dfde0",
     "locked": true,
     "schema_version": 3,
     "solution": false,
     "task": false
    }
   },
   "source": [
    "### Q7: module import (1.5 pts)\n",
    "\n",
    "At this point you have a module with three functions and a test file with two functions, on which you've (hopefully successfully) executed `pytest` and have passing tests.\n",
    "\n",
    "Now, it's time to put it all together and use it!\n",
    "\n",
    "Below, `import` your `data_analysis` module below, so that when you execute the four cells with code provided below, they execute without error, with the final cell producing a plot of your data.\n",
    "\n",
    "Note: You will likely need to restart your kernel before the `import` will work."
   ]
  },
  {
   "cell_type": "code",
   "execution_count": 47,
   "id": "18706433",
   "metadata": {
    "nbgrader": {
     "grade": false,
     "grade_id": "cell-a74fbd0ae9141f54",
     "locked": false,
     "schema_version": 3,
     "solution": true,
     "task": false
    }
   },
   "outputs": [],
   "source": [
    "### BEGIN SOLUTION\n",
    "import data_analysis as da\n",
    "### END SOLUTION"
   ]
  },
  {
   "cell_type": "markdown",
   "id": "0336b8c9",
   "metadata": {
    "nbgrader": {
     "grade": false,
     "grade_id": "cell-36d2b37a342fb65a",
     "locked": true,
     "points": 0.25,
     "schema_version": 3,
     "solution": false,
     "task": true
    }
   },
   "source": [
    "**This \"blank\" cell included intentionally.** Do not do anything here. (It's being used in grading.)\n",
    "\n",
    "=== BEGIN MARK SCHEME ===\n",
    "\n",
    "- `import data_analysis as da` syntax correct; even if it produces an error, give full credit (**0.25 pts**)\n",
    "\n",
    "=== END MARK SCHEME ==="
   ]
  },
  {
   "cell_type": "code",
   "execution_count": 48,
   "id": "5d53e73a",
   "metadata": {
    "nbgrader": {
     "grade": false,
     "grade_id": "cell-b11bf0bb5d80ec8b",
     "locked": true,
     "schema_version": 3,
     "solution": false,
     "task": false
    }
   },
   "outputs": [],
   "source": [
    "# execute read_data function\n",
    "df = da.read_data(file = 'centenarians.csv')"
   ]
  },
  {
   "cell_type": "code",
   "execution_count": 49,
   "id": "c2a128a6",
   "metadata": {
    "nbgrader": {
     "grade": false,
     "grade_id": "cell-8ef7e34cef8de3ce",
     "locked": true,
     "schema_version": 3,
     "solution": false,
     "task": false
    }
   },
   "outputs": [
    {
     "data": {
      "text/plain": [
       "(43, 50)"
      ]
     },
     "execution_count": 49,
     "metadata": {},
     "output_type": "execute_result"
    }
   ],
   "source": [
    "# execute calculate_stats function\n",
    "counts = da.calculate_stats(df)\n",
    "counts"
   ]
  },
  {
   "cell_type": "code",
   "execution_count": 50,
   "id": "23be34d8",
   "metadata": {
    "nbgrader": {
     "grade": false,
     "grade_id": "cell-feb9e9b37a07fe75",
     "locked": true,
     "schema_version": 3,
     "solution": false,
     "task": false
    }
   },
   "outputs": [
    {
     "data": {
      "image/png": "[encoded data removed]",
      "text/plain": [
       "<Figure size 720x288 with 1 Axes>"
      ]
     },
     "metadata": {
      "needs_background": "light"
     },
     "output_type": "display_data"
    }
   ],
   "source": [
    "# produce a plot\n",
    "out = da.generate_plot(counts)"
   ]
  },
  {
   "cell_type": "code",
   "execution_count": 51,
   "id": "b09ea743",
   "metadata": {
    "nbgrader": {
     "grade": true,
     "grade_id": "cell-9e11c09f4c6be5d2",
     "locked": true,
     "points": 0.25,
     "schema_version": 3,
     "solution": false,
     "task": false
    }
   },
   "outputs": [],
   "source": [
    "assert da.read_data"
   ]
  },
  {
   "cell_type": "code",
   "execution_count": 52,
   "id": "02854306",
   "metadata": {
    "nbgrader": {
     "grade": true,
     "grade_id": "cell-a927fadd81a1f911",
     "locked": true,
     "points": 0.25,
     "schema_version": 3,
     "solution": false,
     "task": false
    }
   },
   "outputs": [],
   "source": [
    "assert da.calculate_stats"
   ]
  },
  {
   "cell_type": "code",
   "execution_count": 53,
   "id": "8b20ccc5",
   "metadata": {
    "nbgrader": {
     "grade": true,
     "grade_id": "cell-7709824a82974bad",
     "locked": true,
     "points": 0.25,
     "schema_version": 3,
     "solution": false,
     "task": false
    }
   },
   "outputs": [],
   "source": [
    "assert da.generate_plot"
   ]
  },
  {
   "cell_type": "code",
   "execution_count": 54,
   "id": "08b89b2f",
   "metadata": {
    "nbgrader": {
     "grade": true,
     "grade_id": "cell-b211324399c9c5c1",
     "locked": true,
     "points": 0.25,
     "schema_version": 3,
     "solution": false,
     "task": false
    }
   },
   "outputs": [],
   "source": [
    "# hidden test to check that plot was generated\n",
    "### BEGIN HIDDEN TESTS\n",
    "import matplotlib.pyplot as plt\n",
    "assert isinstance(out, plt.Figure)\n",
    "### END HIDDEN TESTS"
   ]
  },
  {
   "cell_type": "markdown",
   "id": "666cbc46",
   "metadata": {},
   "source": [
    "### Q8: Answering our question (0.25 pts)\n",
    "\n",
    "We set out to answer the question:\n",
    "\n",
    "> Of the verified oldest individuals born in the 20th century (1900-1999), were more of them female or were more male?\n",
    "\n",
    "Using the plot generated above, store your answer (either the string \"female\" or the string \"male\") in the variable `ans`."
   ]
  },
  {
   "cell_type": "code",
   "execution_count": 55,
   "id": "156167ff",
   "metadata": {
    "nbgrader": {
     "grade": false,
     "grade_id": "cell-5e316aefa120f5ae",
     "locked": false,
     "schema_version": 3,
     "solution": true,
     "task": false
    }
   },
   "outputs": [],
   "source": [
    "### BEGIN SOLUTION\n",
    "ans = \"male\"\n",
    "### END SOLUTION"
   ]
  },
  {
   "cell_type": "code",
   "execution_count": 56,
   "id": "3e660b71",
   "metadata": {
    "nbgrader": {
     "grade": true,
     "grade_id": "cell-2d25ceffca7d837a",
     "locked": true,
     "points": 0.25,
     "schema_version": 3,
     "solution": false,
     "task": false
    }
   },
   "outputs": [],
   "source": [
    "assert ans in [\"male\", \"female\"]\n",
    "# hidden test to check your answer\n",
    "### BEGIN HIDDEN TESTS\n",
    "assert ans == \"male\"\n",
    "### END HIDDEN TESTS"
   ]
  },
  {
   "cell_type": "markdown",
   "id": "f393ae5b",
   "metadata": {},
   "source": [
    "### Submit\n",
    "\n",
    "You're finished!!! Check your work and then (for the real final exam) when you're ready, **submit on datahub**. \n",
    "\n",
    "<p style=\"color:red;\">Note: all the files in the exam directory <i>will</i> be included with your submission...even if it *looks* on datahub like only the notebook is being submitted.</p>"
   ]
  }
 ],
 "metadata": {
  "celltoolbar": "Create Assignment",
  "kernelspec": {
   "display_name": "Python 3 (ipykernel)",
   "language": "python",
   "name": "python3"
  },
  "language_info": {
   "codemirror_mode": {
    "name": "ipython",
    "version": 3
   },
   "file_extension": ".py",
   "mimetype": "text/x-python",
   "name": "python",
   "nbconvert_exporter": "python",
   "pygments_lexer": "ipython3",
   "version": "3.11.8"
  }
 },
 "nbformat": 4,
 "nbformat_minor": 5
}
