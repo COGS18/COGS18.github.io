{
 "cells": [
  {
   "cell_type": "markdown",
   "id": "4ca872f1",
   "metadata": {
    "nbgrader": {
     "grade": false,
     "grade_id": "cell-4bcd92bb8159c51b",
     "locked": true,
     "schema_version": 3,
     "solution": false,
     "task": false
    }
   },
   "source": [
    "# COGS 18 - Exam 2 (Take-Home)\n",
    "\n",
    "This is the take-home portion of the second exam for Spring 2024. It covers through the Classes lecture.\n",
    "\n",
    "This take-home portion of the exam is out of 2.5 points, worth 2.5% of your grade.\n",
    "\n",
    "**PLEASE DO NOT CHANGE THE NAME OF THIS FILE.**\n",
    "\n",
    "**PLEASE DO NOT COPY & PASTE OR DELETE CELLS INLCUDED IN THE ASSIGNMENT.** (Note that you can add additional cells, if you want to test things out."
   ]
  },
  {
   "cell_type": "markdown",
   "id": "06e1baa0-dc9b-4a9b-88cd-bde792c646d7",
   "metadata": {},
   "source": [
    "**In-class Answer Key**\n",
    "\n",
    "- 11AM [here](https://docs.google.com/document/d/1CUHJ-HJy_n78vjNXdfwEdxlf_kOsc0nyDDaTnxHZwec/edit?usp=sharing)\n",
    "- 2PM [here](https://docs.google.com/document/d/1vV-Obolcu58zdycexAldY8xHokgeWekMyE0HXnEpiFM/edit?usp=sharing)"
   ]
  },
  {
   "cell_type": "markdown",
   "id": "ad0e8614",
   "metadata": {
    "nbgrader": {
     "grade": false,
     "grade_id": "cell-cd620a69ab1d3c4a",
     "locked": true,
     "schema_version": 3,
     "solution": false,
     "task": false
    }
   },
   "source": [
    "#### Instructions\n",
    "\n",
    "#### Timing\n",
    "- There take-home portion will be released 3:30 the day of the exam and due the same day at 11:59PM\n",
    "\n",
    "#### The Rules\n",
    "- You are to complete this exam on your own.\n",
    "- This is open-notes & open-Internet.\n",
    "- You may not talk to any humans about this exam. \n",
    "- Clarification questions will ***not*** be allowed and there will be no posting on Piazza about the exam at all. \n",
    "     - If you are confused about wording, add a note to your exam explaining your confusion and how you interpreted the question. \n",
    "    - If you have a technical issue completing the exam, message (Piazza or email) Prof Ellis ASAP."
   ]
  },
  {
   "cell_type": "markdown",
   "id": "bf92c7db",
   "metadata": {
    "nbgrader": {
     "grade": false,
     "grade_id": "cell-26b08bd4b5ba54ab",
     "locked": true,
     "schema_version": 3,
     "solution": false
    }
   },
   "source": [
    " <span style=\"color: red;\">Note: </span> This portion of the midterm will be autograded, similar to an assignment. `assert` statements are there to guide your thinking but do not guarantee you've gotten the answer correct."
   ]
  },
  {
   "cell_type": "markdown",
   "id": "34484adc",
   "metadata": {
    "nbgrader": {
     "grade": false,
     "grade_id": "cell-4d8581ac45c24683",
     "locked": true,
     "schema_version": 3,
     "solution": false,
     "task": false
    }
   },
   "source": [
    "### Q0 - Honor Code (0.00 points)\n",
    "\n",
    "In the cell below, include a variable `honor_code` that stores the boolean `True` if you agree to the following statement:\n",
    "\n",
    ">I agree that this exam was completed individually with the knowlege in my brain, information the notes from this course, and/or with searching for help on the Internet *without searching for answers to the text from these questions directly*. I did not ask anyone about specific questions on this exam. I did not post these questions (in part or in whole) on the Internet. I did not copy answers to these questions from anywhere or anyone else. I understand all code I've written on this exam and could explain my answers to someone else if asked.\n"
   ]
  },
  {
   "cell_type": "code",
   "execution_count": 1,
   "id": "cf9c08b7",
   "metadata": {
    "nbgrader": {
     "grade": false,
     "grade_id": "cell-9dae831891d7a1ad",
     "locked": false,
     "schema_version": 3,
     "solution": true,
     "task": false
    }
   },
   "outputs": [],
   "source": [
    "### BEGIN SOLUTION\n",
    "honor_code = True\n",
    "### END SOLUTION"
   ]
  },
  {
   "cell_type": "code",
   "execution_count": 2,
   "id": "80bb4cee",
   "metadata": {
    "nbgrader": {
     "grade": true,
     "grade_id": "cell-8a6d1a928512e45c",
     "locked": true,
     "points": 0,
     "schema_version": 3,
     "solution": false,
     "task": false
    }
   },
   "outputs": [],
   "source": [
    "assert honor_code"
   ]
  },
  {
   "cell_type": "markdown",
   "id": "46fc1f85",
   "metadata": {
    "nbgrader": {
     "grade": false,
     "grade_id": "cell-02c224df67abdd00",
     "locked": true,
     "schema_version": 3,
     "solution": false,
     "task": false
    }
   },
   "source": [
    "### Background\n",
    "\n",
    "On the in-class exam you saw the following:\n",
    "\n",
    "> The idea here is that there will be a single class (`Rectangle`) with a few attributes (described below) and two methods: 1) `calculate_area()` and  2) `calculate_perimeter()`. \n",
    "\n",
    "In the next two questions, you'll write the code and create some `Rectangle`s!"
   ]
  },
  {
   "cell_type": "markdown",
   "id": "60c839d2",
   "metadata": {
    "nbgrader": {
     "grade": false,
     "grade_id": "cell-7aace9d2e3f98133",
     "locked": true,
     "schema_version": 3,
     "solution": false,
     "task": false
    }
   },
   "source": [
    "### Q1 - `Rectangle` (1.5 pts)\n",
    "\n",
    "Here, create a `Rectangle()` type object, with the following:\n",
    "\n",
    "- instance attributes: 1) `length`  and 2) `width`, each of which the user will have to provide when an instance of the object is first created.\n",
    "- methods:\n",
    "    - `calculate_area()`, which should calculate and `return` the rectangle’s area. Note that a rectangle’s area is its length times its width\n",
    "    - `calculate_perimeter()` , which should calculate and return the rectangle’s perimeter. Note that perimeter is calculated by adding the length of every side of the rectangle together\n",
    "\n",
    "Checking your work: `rect = Rectangle(length=4, width=5)` should initialize a `Rectangle` type object. After initialization, calling `calculate_area()` on `rect` should `return` 20. Calling `calculate_perimeter()` should `return` 18. "
   ]
  },
  {
   "cell_type": "code",
   "execution_count": 1,
   "id": "98d2d935",
   "metadata": {
    "nbgrader": {
     "grade": false,
     "grade_id": "cell-890ee14a107fa8f5",
     "locked": false,
     "schema_version": 3,
     "solution": true,
     "task": false
    }
   },
   "outputs": [],
   "source": [
    "### BEGIN SOLUTION\n",
    "class Rectangle():\n",
    "    def __init__(self, length, width):\n",
    "        self.length = length\n",
    "        self.width = width\n",
    "\n",
    "    def calculate_area(self):\n",
    "        return self.length * self.width\n",
    "\n",
    "    def calculate_perimeter(self):\n",
    "        return 2 * (self.length + self.width)\n",
    "### END SOLUTION"
   ]
  },
  {
   "cell_type": "code",
   "execution_count": 4,
   "id": "32b02a42",
   "metadata": {},
   "outputs": [],
   "source": [
    "# you can use this cell to test/execute/check your thinking (optional)"
   ]
  },
  {
   "cell_type": "code",
   "execution_count": 14,
   "id": "c1d0ed43",
   "metadata": {
    "nbgrader": {
     "grade": true,
     "grade_id": "cell-986ea16845831923",
     "locked": true,
     "points": 0.25,
     "schema_version": 3,
     "solution": false,
     "task": false
    }
   },
   "outputs": [],
   "source": [
    "# check no typo in class name\n",
    "assert callable(Rectangle)"
   ]
  },
  {
   "cell_type": "code",
   "execution_count": 15,
   "id": "bb90fb68",
   "metadata": {
    "nbgrader": {
     "grade": true,
     "grade_id": "cell-d9a47a609cfdb98b",
     "locked": true,
     "points": 0.25,
     "schema_version": 3,
     "solution": false,
     "task": false
    }
   },
   "outputs": [],
   "source": [
    "# hidden test to check that Rectangle can be initialized\n",
    "### BEGIN HIDDEN TESTS\n",
    "my_rectangle = Rectangle(length=4, width=5)\n",
    "my_rectangle2 = Rectangle(length=2, width=3)\n",
    "### END HIDDEN TESTS"
   ]
  },
  {
   "cell_type": "code",
   "execution_count": 16,
   "id": "60a9e459",
   "metadata": {
    "nbgrader": {
     "grade": true,
     "grade_id": "cell-0ad5a91264167d53",
     "locked": true,
     "points": 0.25,
     "schema_version": 3,
     "solution": false,
     "task": false
    }
   },
   "outputs": [],
   "source": [
    "# hidden test that check length instance attribute\n",
    "### BEGIN HIDDEN TESTS\n",
    "assert my_rectangle.length == 4\n",
    "assert my_rectangle2.length == 2\n",
    "### END HIDDEN TESTS"
   ]
  },
  {
   "cell_type": "code",
   "execution_count": 17,
   "id": "e6506bfe",
   "metadata": {
    "nbgrader": {
     "grade": true,
     "grade_id": "cell-bf0ee3500fcd2bc9",
     "locked": true,
     "points": 0.25,
     "schema_version": 3,
     "solution": false,
     "task": false
    }
   },
   "outputs": [],
   "source": [
    "# hidden test that check width instance attribute\n",
    "### BEGIN HIDDEN TESTS\n",
    "assert my_rectangle.width == 5\n",
    "assert my_rectangle2.width == 3\n",
    "### END HIDDEN TESTS"
   ]
  },
  {
   "cell_type": "code",
   "execution_count": 11,
   "id": "d4137b51",
   "metadata": {
    "nbgrader": {
     "grade": true,
     "grade_id": "cell-7d903b9bfc07d385",
     "locked": true,
     "points": 0.25,
     "schema_version": 3,
     "solution": false,
     "task": false
    }
   },
   "outputs": [
    {
     "data": {
      "text/plain": [
       "True"
      ]
     },
     "execution_count": 11,
     "metadata": {},
     "output_type": "execute_result"
    }
   ],
   "source": [
    "# hidden tests that check calculate_area method\n",
    "### BEGIN HIDDEN TESTS\n",
    "assert my_rectangle.calculate_area() == 20\n",
    "assert my_rectangle2.calculate_area() == 6\n",
    "### END HIDDEN TESTS"
   ]
  },
  {
   "cell_type": "code",
   "execution_count": 12,
   "id": "5829fbbc",
   "metadata": {
    "nbgrader": {
     "grade": true,
     "grade_id": "cell-0693f283f6eaafeb",
     "locked": true,
     "points": 0.25,
     "schema_version": 3,
     "solution": false,
     "task": false
    }
   },
   "outputs": [
    {
     "data": {
      "text/plain": [
       "True"
      ]
     },
     "execution_count": 12,
     "metadata": {},
     "output_type": "execute_result"
    }
   ],
   "source": [
    "# hidden tests that check calculate_perimeter method\n",
    "### BEGIN HIDDEN TESTS\n",
    "assert my_rectangle.calculate_perimeter() == 18\n",
    "assert my_rectangle2.calculate_perimeter() == 10\n",
    "### END HIDDEN TESTS"
   ]
  },
  {
   "cell_type": "code",
   "execution_count": null,
   "id": "cbe03930",
   "metadata": {
    "nbgrader": {
     "grade": true,
     "grade_id": "cell-5d4daa1f4b374aa1",
     "locked": true,
     "points": 0,
     "schema_version": 3,
     "solution": false,
     "task": false
    }
   },
   "outputs": [],
   "source": [
    "# Do nothing with this cell\n",
    "# This cell here ensures that even if you got Q1 wrong \n",
    "# but got Q2 right, you'll get credit for Q2\n",
    "### BEGIN HIDDEN TESTS\n",
    "# this ensures you have the correct Rectangle class is used \n",
    "class Rectangle():\n",
    "    def __init__(self, length, width):\n",
    "        self.length = length\n",
    "        self.width = width\n",
    "\n",
    "    def calculate_area(self):\n",
    "        return self.length * self.width\n",
    "\n",
    "    def calculate_perimeter(self):\n",
    "        return 2 * (self.length + self.width)\n",
    "### END HIDDEN TESTS"
   ]
  },
  {
   "cell_type": "markdown",
   "id": "cb4a99ad",
   "metadata": {
    "nbgrader": {
     "grade": false,
     "grade_id": "cell-416a0d94c1e30c53",
     "locked": true,
     "schema_version": 3,
     "solution": false,
     "task": false
    }
   },
   "source": [
    "### Q2 - Using your class (1 pt)\n",
    "\n",
    "Here, you’ll initialize `rect1` and `rect2`, two different instances of your `Rectangle` object.\n",
    "\n",
    "- `rect1` should have a length of 10 and a width of 5. \n",
    "- `rect2` should have a length of 3 and a width of 9. \n",
    "\n",
    "After initializing each `Rectangle` object, let's utilize your methods:\n",
    "\n",
    "- Call the `calculate_area()` method on `rect1`, storing the output in `rect1_area`\n",
    "- Call the `calculate_perimeter()` method on `rect2`, storing the output in `rect2_perimeter`\n"
   ]
  },
  {
   "cell_type": "code",
   "execution_count": 26,
   "id": "0beae675",
   "metadata": {
    "nbgrader": {
     "grade": false,
     "grade_id": "cell-5406a3284790c7de",
     "locked": false,
     "schema_version": 3,
     "solution": true,
     "task": false
    }
   },
   "outputs": [],
   "source": [
    "### BEGIN SOLUTION\n",
    "rect1 = Rectangle(length=10, width=5)\n",
    "rect2 = Rectangle(length=3, width=9)\n",
    "\n",
    "rect1_area = rect1.calculate_area()\n",
    "rect2_perimeter = rect2.calculate_perimeter()\n",
    "### END SOLUTION"
   ]
  },
  {
   "cell_type": "code",
   "execution_count": 27,
   "id": "d83047eb",
   "metadata": {},
   "outputs": [],
   "source": [
    "# you can use this cell to test/execute/check your thinking (optional)"
   ]
  },
  {
   "cell_type": "code",
   "execution_count": 28,
   "id": "e0791229",
   "metadata": {
    "nbgrader": {
     "grade": true,
     "grade_id": "cell-b6f17c05f4455dff",
     "locked": true,
     "points": 0.25,
     "schema_version": 3,
     "solution": false,
     "task": false
    },
    "scrolled": true
   },
   "outputs": [],
   "source": [
    "# check for no typos in Rectangle objects\n",
    "assert rect1\n",
    "assert rect2"
   ]
  },
  {
   "cell_type": "code",
   "execution_count": 30,
   "id": "46f1249f",
   "metadata": {
    "nbgrader": {
     "grade": true,
     "grade_id": "cell-3ed4c4555bf2aad6",
     "locked": true,
     "points": 0.25,
     "schema_version": 3,
     "solution": false,
     "task": false
    }
   },
   "outputs": [],
   "source": [
    "# hidden test that checks rect1 and rect2 are of the expected type\n",
    "### BEGIN HIDDEN TESTS\n",
    "assert type(rect1) == Rectangle\n",
    "assert type(rect2) == Rectangle\n",
    "### END HIDDEN TESTS"
   ]
  },
  {
   "cell_type": "code",
   "execution_count": 31,
   "id": "3e96130a",
   "metadata": {
    "nbgrader": {
     "grade": true,
     "grade_id": "cell-1ce6db55cfb0fe1a",
     "locked": true,
     "points": 0.25,
     "schema_version": 3,
     "solution": false,
     "task": false
    }
   },
   "outputs": [],
   "source": [
    "# check for typos in variable name\n",
    "assert rect1_area\n",
    "\n",
    "# hidden test to check for correct value in rect1_area\n",
    "### BEGIN HIDDEN TESTS\n",
    "assert rect1_area == 50\n",
    "### END HIDDEN TESTS"
   ]
  },
  {
   "cell_type": "code",
   "execution_count": 32,
   "id": "543f4bb4",
   "metadata": {
    "nbgrader": {
     "grade": true,
     "grade_id": "cell-1ff39fd3a0967d23",
     "locked": true,
     "points": 0.25,
     "schema_version": 3,
     "solution": false,
     "task": false
    }
   },
   "outputs": [],
   "source": [
    "# check for typos in variable name\n",
    "assert rect2_perimeter\n",
    "\n",
    "# hidden test to check for correct value in rect2_perimeter\n",
    "### BEGIN HIDDEN TESTS\n",
    "assert rect2_perimeter == 24\n",
    "### END HIDDEN TESTS"
   ]
  },
  {
   "cell_type": "markdown",
   "id": "183fe5f8",
   "metadata": {
    "nbgrader": {
     "grade": false,
     "grade_id": "cell-8b4beca39e3d7d07",
     "locked": true,
     "schema_version": 3,
     "solution": false,
     "task": false
    }
   },
   "source": [
    "## Submit\n",
    "\n",
    "Midterm Complete - go ahead and check your work, restart & run all to double check it all runs without issue, and submit on datahub!"
   ]
  }
 ],
 "metadata": {
  "celltoolbar": "Create Assignment",
  "kernelspec": {
   "display_name": "Python 3 (ipykernel)",
   "language": "python",
   "name": "python3"
  },
  "language_info": {
   "codemirror_mode": {
    "name": "ipython",
    "version": 3
   },
   "file_extension": ".py",
   "mimetype": "text/x-python",
   "name": "python",
   "nbconvert_exporter": "python",
   "pygments_lexer": "ipython3",
   "version": "3.11.8"
  }
 },
 "nbformat": 4,
 "nbformat_minor": 5
}
