{
 "cells": [
  {
   "cell_type": "markdown",
   "metadata": {
    "nbgrader": {
     "grade": false,
     "grade_id": "e1",
     "locked": true,
     "schema_version": 3,
     "solution": false
    }
   },
   "source": [
    "# COGS 18 - Exam 1\n",
    "\n",
    "This is the first exam for Spring 2021. It covers topics through the Dictionaries Lecture.\n",
    "\n",
    "This exam is out of 12.5 points, worth 12.5% of your grade.\n",
    "\n",
    "**PLEASE DO NOT CHANGE THE NAME OF THIS FILE.**\n",
    "\n",
    "**PLEASE DO NOT COPY & PASTE OR DELETE CELLS INLCUDED IN THE ASSIGNMENT.** (Note that you can add additional cells, if you want to test things out."
   ]
  },
  {
   "cell_type": "markdown",
   "metadata": {
    "nbgrader": {
     "grade": false,
     "grade_id": "instructions",
     "locked": true,
     "schema_version": 3,
     "solution": false
    }
   },
   "source": [
    "## Instructions\n",
    "\n",
    "#### Timing\n",
    "- The exam is designed to take you ~1h.\n",
    "- There will be a 24 hour window during which you can complete this exam (due Sat 8AM).\n",
    "- If it takes you longer than 1h, you're free to use that time.\n",
    "\n",
    "#### The Rules\n",
    "- You are to complete this exam on your own.\n",
    "- This is open-notes & open-Google\n",
    "- You may not talk to any humans about this exam. \n",
    "- The following are all *prohibited*:\n",
    "    - text/phone/online chat communication\n",
    "    - posting questions to a message board where a human could respond (Campuswire, Discord, Chegg, any similar site)\n",
    "    - viewing exam questions from a message board (as described above)\n",
    "    - asking anyone via any form about a question on this test directly\n",
    "- Clarification questions will ***not*** be allowed and there will be no posting on Campuswire about the exam at all. \n",
    "    - Campuswire posts about the exam will not be answered and will be deleted. \n",
    "    - Students who post questions about the exam to Campuswire are at risk of losing points on the exam.\n",
    "    - If you are confused about wording, add a note to your exam explaining your confusion and how you interpreted the question. \n",
    "    - Note: This policy is b/c we are incapable of responding for 24h straight. This is the only way to make it fair across the board for students."
   ]
  },
  {
   "cell_type": "markdown",
   "metadata": {
    "nbgrader": {
     "grade": false,
     "grade_id": "cell-26b08bd4b5ba54ab",
     "locked": true,
     "schema_version": 3,
     "solution": false
    }
   },
   "source": [
    " <span style=\"color: red;\">Note: </span> There _is_ a chance for partial credit on some questions, so _some_ code is better than _no_ code. Even if it throws an error, having some code that partially answers the question will benefit you/your grade."
   ]
  },
  {
   "cell_type": "markdown",
   "metadata": {
    "nbgrader": {
     "grade": false,
     "grade_id": "cell-4d8581ac45c24683",
     "locked": true,
     "schema_version": 3,
     "solution": false,
     "task": false
    }
   },
   "source": [
    "### Q0 - Honor Code (0.1 points)\n",
    "\n",
    "In the cell below, include a variable `honor_code` that stores the boolean `True` if you agree to the following statement:\n",
    "\n",
    ">I agree that this exam was completed individually with the knowlege in my brain, information the notes from this course, and/or with searching for help on the Internet *without searching for answers to the text from these questions directly*. I did not ask anyone about specific questions on this exam. I did not post these questions (in part or in whole) on the Internet. I did not copy answers to these questions from anywhere or anyone else. I understand all code I've written on this exam and could explain my answers to someone else if asked.\n"
   ]
  },
  {
   "cell_type": "code",
   "execution_count": 1,
   "metadata": {
    "nbgrader": {
     "grade": false,
     "grade_id": "cell-9dae831891d7a1ad",
     "locked": false,
     "schema_version": 3,
     "solution": true,
     "task": false
    }
   },
   "outputs": [],
   "source": [
    "### BEGIN SOLUTION\n",
    "honor_code = True\n",
    "### END SOLUTION"
   ]
  },
  {
   "cell_type": "code",
   "execution_count": 2,
   "metadata": {
    "nbgrader": {
     "grade": true,
     "grade_id": "cell-8a6d1a928512e45c",
     "locked": true,
     "points": 0.1,
     "schema_version": 3,
     "solution": false,
     "task": false
    }
   },
   "outputs": [],
   "source": [
    "assert honor_code"
   ]
  },
  {
   "cell_type": "markdown",
   "metadata": {
    "nbgrader": {
     "grade": false,
     "grade_id": "part1",
     "locked": true,
     "schema_version": 3,
     "solution": false
    }
   },
   "source": [
    "## Part 1: Variables & Operators (3.75 points)"
   ]
  },
  {
   "cell_type": "markdown",
   "metadata": {
    "nbgrader": {
     "grade": false,
     "grade_id": "q1",
     "locked": true,
     "schema_version": 3,
     "solution": false
    }
   },
   "source": [
    "### Q1 - Variables (0.75 points)\n",
    "\n",
    "In the cell below, create three variables: `var_a`, `var_b`, and `var_c`. \n",
    "\n",
    "- `var_a` should store four characters in an immutable variable type that is only able to store one piece of information\n",
    "- `var_b` should be a single value that, when added to itself returns a whole number\n",
    "- `var_c` should be an immutable variable storing three different values\n",
    "\n",
    "The specific values you use to generate the variables are up to you, as long as they fulfull the criteria specified."
   ]
  },
  {
   "cell_type": "code",
   "execution_count": 3,
   "metadata": {
    "nbgrader": {
     "grade": false,
     "grade_id": "q1a",
     "locked": false,
     "schema_version": 3,
     "solution": true
    }
   },
   "outputs": [],
   "source": [
    "### BEGIN SOLUTION\n",
    "# actual values stored will differ\n",
    "var_a = 'abcd'\n",
    "var_b = 6.0\n",
    "var_c = (1,2,3)\n",
    "### END SOLUTION"
   ]
  },
  {
   "cell_type": "code",
   "execution_count": 4,
   "metadata": {
    "nbgrader": {
     "grade": true,
     "grade_id": "q1-t1",
     "locked": true,
     "points": 0.25,
     "schema_version": 3,
     "solution": false
    }
   },
   "outputs": [],
   "source": [
    "# check variable exists\n",
    "assert var_a is not None\n",
    "### BEGIN HIDDEN TESTS\n",
    "assert isinstance(var_a, str)\n",
    "assert len(var_a) == 4\n",
    "### END HIDDEN TESTS"
   ]
  },
  {
   "cell_type": "code",
   "execution_count": 5,
   "metadata": {
    "nbgrader": {
     "grade": true,
     "grade_id": "q1-t3",
     "locked": true,
     "points": 0.25,
     "schema_version": 3,
     "solution": false,
     "task": false
    }
   },
   "outputs": [],
   "source": [
    "assert var_b is not None\n",
    "### BEGIN HIDDEN TESTS\n",
    "assert var_b % 1 == 0 \n",
    "### END HIDDEN TESTS"
   ]
  },
  {
   "cell_type": "code",
   "execution_count": 6,
   "metadata": {
    "nbgrader": {
     "grade": true,
     "grade_id": "q1-t2",
     "locked": true,
     "points": 0.25,
     "schema_version": 3,
     "solution": false
    }
   },
   "outputs": [],
   "source": [
    "assert var_c is not None\n",
    "### BEGIN HIDDEN TESTS\n",
    "assert isinstance(var_c, tuple)\n",
    "assert len(var_c) == 3\n",
    "### END HIDDEN TESTS"
   ]
  },
  {
   "cell_type": "markdown",
   "metadata": {
    "nbgrader": {
     "grade": false,
     "grade_id": "q2",
     "locked": true,
     "schema_version": 3,
     "solution": false
    }
   },
   "source": [
    "### Q2 - Math Operators (1 point)\n",
    "\n",
    "Use the variables provided in the cell below (`var_low`, `var_mid` and `var_high`) to generate the variables: `var_even` and `var_odd` according to the following specifications:\n",
    "\n",
    "- `var_even` | use the 3 variables provided once each and *at least two* of the math operators (`+`, `-`, `*`, `/`, `**`, `//`, `%`) to store the value 12 \n",
    "- `var_odd` | use the 3 variables provided once each and *at least two* of the math operators (`+`, `-`, `*`, `/`, `**`, `//`, `%`) to store the value 13"
   ]
  },
  {
   "cell_type": "code",
   "execution_count": 7,
   "metadata": {
    "nbgrader": {
     "grade": false,
     "grade_id": "cell-1ab3f523fc0818e7",
     "locked": true,
     "schema_version": 3,
     "solution": false,
     "task": false
    }
   },
   "outputs": [],
   "source": [
    "# these variables provided for you\n",
    "# this cell is read-only (cannot be changed)\n",
    "var_low = 2\n",
    "var_mid = 20\n",
    "var_high = 30"
   ]
  },
  {
   "cell_type": "code",
   "execution_count": 8,
   "metadata": {
    "nbgrader": {
     "grade": false,
     "grade_id": "q2a",
     "locked": false,
     "schema_version": 3,
     "solution": true
    }
   },
   "outputs": [],
   "source": [
    "### BEGIN SOLUTION\n",
    "# actual operations will differ\n",
    "var_even = (var_high + var_low) % var_mid\n",
    "var_odd = (var_mid ** var_low) // var_high\n",
    "### END SOLUTION"
   ]
  },
  {
   "cell_type": "code",
   "execution_count": 9,
   "metadata": {
    "nbgrader": {
     "grade": true,
     "grade_id": "q2-t1",
     "locked": true,
     "points": 0.35,
     "schema_version": 3,
     "solution": false
    }
   },
   "outputs": [],
   "source": [
    "assert var_even is not None\n",
    "### BEGIN HIDDEN TESTS\n",
    "assert int(var_even % 2) == 0\n",
    "assert var_even == 12\n",
    "### END HIDDEN TESTS"
   ]
  },
  {
   "cell_type": "code",
   "execution_count": 10,
   "metadata": {
    "nbgrader": {
     "grade": true,
     "grade_id": "q2-t2",
     "locked": true,
     "points": 0.35,
     "schema_version": 3,
     "solution": false
    }
   },
   "outputs": [],
   "source": [
    "assert var_odd is not None\n",
    "### BEGIN HIDDEN TESTS\n",
    "assert var_odd % 2 != 0\n",
    "assert var_odd == 13\n",
    "### END HIDDEN TESTS"
   ]
  },
  {
   "cell_type": "markdown",
   "metadata": {
    "nbgrader": {
     "grade": false,
     "grade_id": "q2-t3",
     "locked": true,
     "points": 0.3,
     "schema_version": 3,
     "solution": false,
     "task": true
    }
   },
   "source": [
    "**This \"blank\" cell included intentionally.** Do not do anything here. (It's being used in grading.)\n",
    "\n",
    "=== BEGIN MARK SCHEME ===\n",
    "\n",
    "- correct operators used (0.15)\n",
    "- variables referenced; did not hard-code numbers (0.15)  \n",
    "\n",
    "=== END MARK SCHEME ===\n"
   ]
  },
  {
   "cell_type": "markdown",
   "metadata": {
    "nbgrader": {
     "grade": false,
     "grade_id": "q3",
     "locked": true,
     "schema_version": 3,
     "solution": false
    }
   },
   "source": [
    "### Q3 - Comparison Operators (1 point)\n",
    "\n",
    "First, define two variables below: `my_age` and `pres_age`. Store your age (as an integer) in `my_age` and store the current US President's age (as an integer) in `pres_age`. (Note: President Biden is 78 years old.)\n",
    "\n",
    "Then, use (refer to) `my_age` and `pres_age` to define define two variables: `true_compar` and `false_compar`.\n",
    "\n",
    "These variables must satisfy the following requirements:\n",
    "\n",
    "1. Each variable must be defined using one comparison operator (`<`,`>`,`<=`,`>=`,`!=`,`==`).\n",
    "2. Each variable must use and refer to `my_age` and `pres_age` (and no other values or variables)\n",
    "4. `true_compar` should evaluate as the boolean `True`; `false_compar` should evaluate as the boolean `False`"
   ]
  },
  {
   "cell_type": "code",
   "execution_count": 11,
   "metadata": {
    "nbgrader": {
     "grade": false,
     "grade_id": "q3a",
     "locked": false,
     "schema_version": 3,
     "solution": true
    }
   },
   "outputs": [],
   "source": [
    "### BEGIN SOLUTION\n",
    "my_age = 31 # specific values will differ\n",
    "pres_age = 78\n",
    "\n",
    "true_compar = my_age < pres_age\n",
    "false_compar = pres_age == my_age\n",
    "### END SOLUTION"
   ]
  },
  {
   "cell_type": "code",
   "execution_count": 12,
   "metadata": {
    "nbgrader": {
     "grade": true,
     "grade_id": "q3-t1",
     "locked": true,
     "points": 0.25,
     "schema_version": 3,
     "solution": false
    }
   },
   "outputs": [],
   "source": [
    "assert true_compar is not None\n",
    "### BEGIN HIDDEN TESTS\n",
    "assert true_compar\n",
    "### END HIDDEN TESTS"
   ]
  },
  {
   "cell_type": "code",
   "execution_count": 13,
   "metadata": {
    "nbgrader": {
     "grade": true,
     "grade_id": "q3-t2",
     "locked": true,
     "points": 0.25,
     "schema_version": 3,
     "solution": false
    }
   },
   "outputs": [],
   "source": [
    "assert false_compar is not None\n",
    "### BEGIN HIDDEN TESTS\n",
    "assert not false_compar\n",
    "### END HIDDEN TESTS"
   ]
  },
  {
   "cell_type": "code",
   "execution_count": 14,
   "metadata": {
    "nbgrader": {
     "grade": true,
     "grade_id": "q3-t3",
     "locked": true,
     "points": 0.1,
     "schema_version": 3,
     "solution": false,
     "task": false
    }
   },
   "outputs": [],
   "source": [
    "assert my_age is not None\n",
    "### BEGIN HIDDEN TESTS\n",
    "assert isinstance(my_age, int)\n",
    "assert my_age < 118\n",
    "### END HIDDEN TESTS"
   ]
  },
  {
   "cell_type": "code",
   "execution_count": 15,
   "metadata": {
    "nbgrader": {
     "grade": true,
     "grade_id": "q3-t4",
     "locked": true,
     "points": 0.1,
     "schema_version": 3,
     "solution": false,
     "task": false
    }
   },
   "outputs": [],
   "source": [
    "assert pres_age is not None\n",
    "### BEGIN HIDDEN TESTS\n",
    "assert pres_age == 78\n",
    "### END HIDDEN TESTS"
   ]
  },
  {
   "cell_type": "markdown",
   "metadata": {
    "nbgrader": {
     "grade": false,
     "grade_id": "q3-t5",
     "locked": true,
     "points": 0.3,
     "schema_version": 3,
     "solution": false,
     "task": true
    }
   },
   "source": [
    "**This \"blank\" cell included intentionally.** Do not do anything here. (It's being used in grading.)\n",
    "\n",
    "=== BEGIN MARK SCHEME ===\n",
    "\n",
    "- both variables reference `my_age` and `pres_age` (0.15)\n",
    "- both variables reference use at least one comparison operator (0.15)\n",
    "\n",
    "=== END MARK SCHEME ==="
   ]
  },
  {
   "cell_type": "markdown",
   "metadata": {
    "nbgrader": {
     "grade": false,
     "grade_id": "cell-77e7ac0498176358",
     "locked": true,
     "schema_version": 3,
     "solution": false,
     "task": false
    }
   },
   "source": [
    "### Q4 - Membership Operators (0.5 points)\n",
    "\n",
    "Two variables (`spring_holidays` and `current_holidays`) have been created for you below. Using **only these two variables and membership operators**, define the following two variables below (`yes_member` and `no_member`), such that they meet the following specifications:\n",
    "\n",
    "- `yes_member` | stores the boolean `True`\n",
    "- `no_member` | stores the boolean `False`"
   ]
  },
  {
   "cell_type": "code",
   "execution_count": 16,
   "metadata": {
    "nbgrader": {
     "grade": false,
     "grade_id": "cell-189b1b2bf3819a30",
     "locked": true,
     "schema_version": 3,
     "solution": false,
     "task": false
    }
   },
   "outputs": [],
   "source": [
    "# these variables provided for you\n",
    "# this cell is read-only (cannot be changed)\n",
    "spring_holidays = ['César Chávez', 'Passover', 'Easter', \n",
    "                   'Ramadan', 'Shavout', 'Memorial Day']\n",
    "current_holiday = 'Ramadan'"
   ]
  },
  {
   "cell_type": "code",
   "execution_count": 17,
   "metadata": {
    "nbgrader": {
     "grade": false,
     "grade_id": "cell-f4e64b6777aff0a4",
     "locked": false,
     "schema_version": 3,
     "solution": true,
     "task": false
    }
   },
   "outputs": [],
   "source": [
    "### BEGIN SOLUTION\n",
    "yes_member = current_holiday in spring_holidays\n",
    "no_member = current_holiday not in spring_holidays\n",
    "### END SOLUTION"
   ]
  },
  {
   "cell_type": "code",
   "execution_count": 18,
   "metadata": {
    "nbgrader": {
     "grade": true,
     "grade_id": "cell-92c7c3227a68644b",
     "locked": true,
     "points": 0.2,
     "schema_version": 3,
     "solution": false,
     "task": false
    }
   },
   "outputs": [],
   "source": [
    "assert yes_member is not None\n",
    "### BEGIN HIDDEN TESTS\n",
    "assert yes_member\n",
    "### END HIDDEN TESTS"
   ]
  },
  {
   "cell_type": "code",
   "execution_count": 19,
   "metadata": {
    "nbgrader": {
     "grade": true,
     "grade_id": "cell-3be15b8b3f026f5e",
     "locked": true,
     "points": 0.2,
     "schema_version": 3,
     "solution": false,
     "task": false
    }
   },
   "outputs": [],
   "source": [
    "assert no_member is not None\n",
    "### BEGIN HIDDEN TESTS\n",
    "assert not no_member\n",
    "### END HIDDEN TESTS"
   ]
  },
  {
   "cell_type": "markdown",
   "metadata": {
    "nbgrader": {
     "grade": false,
     "grade_id": "cell-26833ee81509ef65",
     "locked": true,
     "points": 0.1,
     "schema_version": 3,
     "solution": false,
     "task": true
    }
   },
   "source": [
    "**This \"blank\" cell included intentionally.** Do not do anything here. (It's being used in grading.)\n",
    "\n",
    "=== BEGIN MARK SCHEME ===\n",
    "\n",
    "- only references variables provided (+0.1)\n",
    "- remove autograder credit of hard-coded (does not use membership operator)\n",
    "\n",
    "=== END MARK SCHEME ==="
   ]
  },
  {
   "cell_type": "markdown",
   "metadata": {
    "nbgrader": {
     "grade": false,
     "grade_id": "cell-a71e617c033e1f79",
     "locked": true,
     "schema_version": 3,
     "solution": false,
     "task": false
    }
   },
   "source": [
    "### Q5 - String Concatenation (0.5 points)\n",
    "\n",
    "Two strings (`feeling` and `vaccine`) below have been provided for you. *Referencing these variables and including additional strings as needed*, create (define) the variable `vaccination` such that it stores the string `\"I'm so excited that students are now eligible for the vaccine!\"`.\n",
    "\n",
    "Notes: \n",
    "- Punctuation, captialization and spacing all matter here. Be sure your resulting string is equivalent to the string above. \n",
    "- Your answer should reference (meaning: use) the variables `feeling` and `vaccine`"
   ]
  },
  {
   "cell_type": "code",
   "execution_count": 20,
   "metadata": {
    "nbgrader": {
     "grade": false,
     "grade_id": "cell-5ae37d59b3f8f95d",
     "locked": true,
     "schema_version": 3,
     "solution": false,
     "task": false
    }
   },
   "outputs": [],
   "source": [
    "# these variables provided for you\n",
    "# this cell is read-only (cannot be changed)\n",
    "feeling = 'excited'\n",
    "vaccine = 'vaccine'"
   ]
  },
  {
   "cell_type": "code",
   "execution_count": 21,
   "metadata": {
    "nbgrader": {
     "grade": false,
     "grade_id": "cell-876b19d964a590ef",
     "locked": false,
     "schema_version": 3,
     "solution": true,
     "task": false
    }
   },
   "outputs": [],
   "source": [
    "### BEGIN SOLUTION\n",
    "vaccination = \"I'm so \" + feeling + \" that students are now eligible for the \" + vaccine + \"!\"\n",
    "### END SOLUTION"
   ]
  },
  {
   "cell_type": "code",
   "execution_count": 22,
   "metadata": {
    "nbgrader": {
     "grade": true,
     "grade_id": "cell-e70e29fe7c2397a7",
     "locked": true,
     "points": 0.1,
     "schema_version": 3,
     "solution": false,
     "task": false
    }
   },
   "outputs": [],
   "source": [
    "assert vaccination is not None\n",
    "### BEGIN HIDDEN TESTS\n",
    "assert isinstance(vaccination, str)\n",
    "### END HIDDEN TESTS"
   ]
  },
  {
   "cell_type": "code",
   "execution_count": 23,
   "metadata": {
    "nbgrader": {
     "grade": true,
     "grade_id": "cell-88863536cb6918f4",
     "locked": true,
     "points": 0.4,
     "schema_version": 3,
     "solution": false,
     "task": false
    }
   },
   "outputs": [],
   "source": [
    "# hidden test checking for correct string\n",
    "### BEGIN HIDDEN TESTS\n",
    "assert vaccination == \"I'm so excited that students are now eligible for the vaccine!\"\n",
    "### END HIDDEN TESTS"
   ]
  },
  {
   "cell_type": "markdown",
   "metadata": {
    "nbgrader": {
     "grade": false,
     "grade_id": "cell-d3575c159bc88977",
     "locked": true,
     "points": 0,
     "schema_version": 3,
     "solution": false,
     "task": true
    }
   },
   "source": [
    "**This \"blank\" cell included intentionally.** Do not do anything here. (It's being used in grading.)\n",
    "\n",
    "=== BEGIN MARK SCHEME ===\n",
    "\n",
    "- if hard-coded (doesn't reference variables and use `+` operator/format string programmatically), remove autograder credit from cell above (-0.4)\n",
    "\n",
    "=== END MARK SCHEME ==="
   ]
  },
  {
   "cell_type": "markdown",
   "metadata": {
    "nbgrader": {
     "grade": false,
     "grade_id": "part2",
     "locked": true,
     "schema_version": 3,
     "solution": false
    }
   },
   "source": [
    "## Part 2: Collections & Indexing  (3 points)"
   ]
  },
  {
   "cell_type": "markdown",
   "metadata": {
    "nbgrader": {
     "grade": false,
     "grade_id": "q4",
     "locked": true,
     "schema_version": 3,
     "solution": false
    }
   },
   "source": [
    "### Q6 - Lists & Indexing (1 point)\n",
    "\n",
    "The list `trees` has been provided in the cell below for you.\n",
    "\n",
    "***Use the `trees` variable and indexing*** to generate each of the four variables at left below, so that each stores the output at right below. For example, `trees_a` should refer to `trees` in its answer and use indexing to store the string 'Pine'.\n",
    "\n",
    "- `trees_a` | `'Pine'`\n",
    "- `trees_b` | `['Liquid Amber', 'Pepper', 'Podocarpus']`\n",
    "- `trees_c` | `['Eucalyptus', 'Ficus', 'Tipuana', 'Pepper']`\n",
    "- `trees_d` | `['Palms', 'Carrotwood', 'Tipuana', 'Podocarpus']`"
   ]
  },
  {
   "cell_type": "code",
   "execution_count": 24,
   "metadata": {
    "nbgrader": {
     "grade": false,
     "grade_id": "q4-var",
     "locked": true,
     "schema_version": 3,
     "solution": false,
     "task": false
    }
   },
   "outputs": [],
   "source": [
    "# this variables provided for you\n",
    "# this cell is read-only (cannot be changed)\n",
    "trees = ['Palms', 'Jacaranda', 'Eucalyptus', 'Carrotwood', \n",
    "         'Ficus', 'Pine', 'Tipuana', 'Liquid Amber', \n",
    "         'Pepper', 'Podocarpus']"
   ]
  },
  {
   "cell_type": "code",
   "execution_count": 25,
   "metadata": {
    "nbgrader": {
     "grade": false,
     "grade_id": "q4a",
     "locked": false,
     "schema_version": 3,
     "solution": true
    }
   },
   "outputs": [],
   "source": [
    "### BEGIN SOLUTION\n",
    "# actual values will differ\n",
    "trees_a = trees[5]\n",
    "trees_b = trees[-3:]\n",
    "trees_c = trees[2:9:2]\n",
    "trees_d = trees[::3]\n",
    "### END SOLUTION"
   ]
  },
  {
   "cell_type": "code",
   "execution_count": 26,
   "metadata": {
    "nbgrader": {
     "grade": true,
     "grade_id": "q4-t1",
     "locked": true,
     "points": 0.25,
     "schema_version": 3,
     "solution": false
    }
   },
   "outputs": [],
   "source": [
    "assert trees_a\n",
    "### BEGIN HIDDEN TESTS\n",
    "assert trees_a == 'Pine'\n",
    "### END HIDDEN TESTS"
   ]
  },
  {
   "cell_type": "code",
   "execution_count": 27,
   "metadata": {
    "nbgrader": {
     "grade": true,
     "grade_id": "q4-t2",
     "locked": true,
     "points": 0.25,
     "schema_version": 3,
     "solution": false
    }
   },
   "outputs": [],
   "source": [
    "assert trees_b\n",
    "### BEGIN HIDDEN TESTS\n",
    "assert trees_b == ['Liquid Amber', 'Pepper', 'Podocarpus']\n",
    "### END HIDDEN TESTS"
   ]
  },
  {
   "cell_type": "code",
   "execution_count": 28,
   "metadata": {
    "nbgrader": {
     "grade": true,
     "grade_id": "q4-t3",
     "locked": true,
     "points": 0.25,
     "schema_version": 3,
     "solution": false
    }
   },
   "outputs": [],
   "source": [
    "assert trees_c\n",
    "### BEGIN HIDDEN TESTS\n",
    "assert trees_c == ['Eucalyptus', 'Ficus', 'Tipuana', 'Pepper']\n",
    "### END HIDDEN TESTS"
   ]
  },
  {
   "cell_type": "code",
   "execution_count": 29,
   "metadata": {
    "nbgrader": {
     "grade": true,
     "grade_id": "q4-t4",
     "locked": true,
     "points": 0.25,
     "schema_version": 3,
     "solution": false,
     "task": false
    }
   },
   "outputs": [],
   "source": [
    "assert trees_d\n",
    "### BEGIN HIDDEN TESTS\n",
    "assert trees_d == ['Palms', 'Carrotwood', 'Tipuana', 'Podocarpus']\n",
    "### END HIDDEN TESTS"
   ]
  },
  {
   "cell_type": "markdown",
   "metadata": {
    "nbgrader": {
     "grade": false,
     "grade_id": "q4-t5",
     "locked": true,
     "points": 0,
     "schema_version": 3,
     "solution": false,
     "task": true
    }
   },
   "source": [
    "**This \"blank\" cell included intentionally.** Do not do anything here. (It's being used in grading.)\n",
    "\n",
    "=== BEGIN MARK SCHEME ===\n",
    "\n",
    "- if hard-coded (doesn't use indexing & reference `trees`), remove autograder credit\n",
    "\n",
    "=== END MARK SCHEME ===\n"
   ]
  },
  {
   "cell_type": "markdown",
   "metadata": {
    "nbgrader": {
     "grade": false,
     "grade_id": "q5",
     "locked": true,
     "schema_version": 3,
     "solution": false
    }
   },
   "source": [
    "### Q7 - Dictionaries & Tuples (2 points)\n",
    "\n",
    "**Part 1** (1.5 points)\n",
    "\n",
    "Generate a dictionary called `grading` that meets the following criteria:\n",
    "\n",
    "- has 5 keys: 'A', 'B', 'C', 'D', 'F'\n",
    "- stores a tuple containg the lower and upper bound for each letter grade for each key's value.\n",
    "\n",
    "Use the following ranges for reference:\n",
    "\n",
    "- A: 90-100\n",
    "- B: 80-90\n",
    "- C: 70-80\n",
    "- D: 60-70\n",
    "- F: 0-60\n",
    "\n",
    "Note that the upper bound for one letter will be the same value as the lower bound for the higher grade. This is expected behavior."
   ]
  },
  {
   "cell_type": "code",
   "execution_count": 30,
   "metadata": {
    "nbgrader": {
     "grade": false,
     "grade_id": "q5a",
     "locked": false,
     "schema_version": 3,
     "solution": true
    },
    "scrolled": true
   },
   "outputs": [],
   "source": [
    "### BEGIN SOLUTION\n",
    "grading = {'A': (90, 100),\n",
    "           'B': (80, 90),\n",
    "           'C': (70, 80),\n",
    "           'D': (60, 70),\n",
    "           'F': (0, 60)}\n",
    "### END SOLUTION"
   ]
  },
  {
   "cell_type": "code",
   "execution_count": 31,
   "metadata": {
    "nbgrader": {
     "grade": true,
     "grade_id": "q5-t1",
     "locked": true,
     "points": 0.35,
     "schema_version": 3,
     "solution": false
    }
   },
   "outputs": [],
   "source": [
    "assert grading\n",
    "### BEGIN HIDDEN TESTS\n",
    "assert isinstance(grading, dict)\n",
    "assert len(grading) == 5\n",
    "### END HIDDEN TESTS"
   ]
  },
  {
   "cell_type": "code",
   "execution_count": 32,
   "metadata": {
    "nbgrader": {
     "grade": true,
     "grade_id": "q5-t2",
     "locked": true,
     "points": 0.35,
     "schema_version": 3,
     "solution": false
    }
   },
   "outputs": [],
   "source": [
    "# hidden test to check types\n",
    "### BEGIN HIDDEN TESTS\n",
    "assert isinstance(list(grading.keys())[0], str)\n",
    "assert isinstance(list(grading.values())[0], tuple)\n",
    "### END HIDDEN TESTS"
   ]
  },
  {
   "cell_type": "code",
   "execution_count": 33,
   "metadata": {
    "nbgrader": {
     "grade": true,
     "grade_id": "q5-t3",
     "locked": true,
     "points": 0.4,
     "schema_version": 3,
     "solution": false
    }
   },
   "outputs": [],
   "source": [
    "# hidden test to check the keys\n",
    "### BEGIN HIDDEN TESTS\n",
    "assert list(grading.keys()) == ['A', 'B', 'C', 'D', 'F']\n",
    "### END HIDDEN TESTS"
   ]
  },
  {
   "cell_type": "code",
   "execution_count": 34,
   "metadata": {
    "nbgrader": {
     "grade": true,
     "grade_id": "q5-t4",
     "locked": true,
     "points": 0.4,
     "schema_version": 3,
     "solution": false,
     "task": false
    }
   },
   "outputs": [],
   "source": [
    "# hidden test to check the values\n",
    "### BEGIN HIDDEN TESTS\n",
    "assert list(grading.values()) == [(90, 100), (80, 90), (70, 80), \n",
    "                                  (60, 70), (0, 60)]\n",
    "### END HIDDEN TESTS"
   ]
  },
  {
   "cell_type": "markdown",
   "metadata": {
    "nbgrader": {
     "grade": false,
     "grade_id": "cell-56121ef94ddbb84e",
     "locked": true,
     "schema_version": 3,
     "solution": false,
     "task": false
    }
   },
   "source": [
    "**Part 2** (0.5 points)\n",
    "\n",
    "Use the `grading` dictionary you just generated **and indexing** to generate two variables: `A_lower` and `A_upper`.\n",
    "\n",
    "- `A_lower` will store the first (smaller) value in the tuple corresponding to the `'A'` key in `grading`.\n",
    "- `A_upper` will store the second (larger) value in the tuple corresponding to the `'A'` key in `grading`\n",
    "\n",
    "Note: Do not hard-code. For example, `A_lower = 90` is *not* the correct answer. Your code should reference `grading` and use indexing to store the value 90 in `A_lower`"
   ]
  },
  {
   "cell_type": "code",
   "execution_count": 35,
   "metadata": {
    "nbgrader": {
     "grade": false,
     "grade_id": "q5a-part2",
     "locked": false,
     "schema_version": 3,
     "solution": true,
     "task": false
    }
   },
   "outputs": [],
   "source": [
    "### BEGIN SOLUTION\n",
    "A_lower = grading['A'][0]\n",
    "A_upper = grading['A'][1]\n",
    "### END SOLUTION"
   ]
  },
  {
   "cell_type": "code",
   "execution_count": 36,
   "metadata": {
    "nbgrader": {
     "grade": true,
     "grade_id": "q5-t5",
     "locked": true,
     "points": 0.25,
     "schema_version": 3,
     "solution": false,
     "task": false
    }
   },
   "outputs": [],
   "source": [
    "assert A_lower\n",
    "### BEGIN HIDDEN TESTS\n",
    "assert A_lower == 90\n",
    "### END HIDDEN TESTS"
   ]
  },
  {
   "cell_type": "code",
   "execution_count": 37,
   "metadata": {
    "nbgrader": {
     "grade": true,
     "grade_id": "q5-t6",
     "locked": true,
     "points": 0.25,
     "schema_version": 3,
     "solution": false,
     "task": false
    }
   },
   "outputs": [],
   "source": [
    "assert A_upper\n",
    "### BEGIN HIDDEN TESTS\n",
    "assert A_upper == 100\n",
    "### END HIDDEN TESTS"
   ]
  },
  {
   "cell_type": "markdown",
   "metadata": {
    "nbgrader": {
     "grade": false,
     "grade_id": "cell-63c936c684aedcbb",
     "locked": true,
     "points": 0,
     "schema_version": 3,
     "solution": false,
     "task": true
    }
   },
   "source": [
    "**This \"blank\" cell included intentionally.** Do not do anything here. (It's being used in grading.)\n",
    "\n",
    "=== BEGIN MARK SCHEME ===\n",
    "\n",
    "- if hard-coded (doesn't use indexing & reference `grading`), remove autograder credit\n",
    "\n",
    "=== END MARK SCHEME ===\n"
   ]
  },
  {
   "cell_type": "markdown",
   "metadata": {
    "nbgrader": {
     "grade": false,
     "grade_id": "cell-08558daba596965c",
     "locked": true,
     "schema_version": 3,
     "solution": false
    }
   },
   "source": [
    "## Part 3: Control Flow - Conditionals & Loops  (5.65 points)"
   ]
  },
  {
   "cell_type": "markdown",
   "metadata": {
    "nbgrader": {
     "grade": false,
     "grade_id": "q6",
     "locked": true,
     "schema_version": 3,
     "solution": false
    }
   },
   "source": [
    "### Q8 - Conditionals (2 points)\n",
    "\n",
    "Store your desired score on this exam (out of 100 points) in the variable `desired_score`.\n",
    "\n",
    "Then, write a conditional that will compare your `desired_score` to your values (from Q7) in `A_lower` and `A_upper`. \n",
    "\n",
    "If your desired_score is greater than or equal to `A_lower` and less than or equal to A_upper, store the string `'A desired'` in the variable `output`. Otherwise, store the string `'A not desired'` in the variable `output`.\n",
    "\n",
    "Notes: \n",
    "1. Spelling/capitalization of the string stored in `output` matter. Be sure it matches the string specified in the instructions above.\n",
    "2. (Ignore this if you completed Q7.) If you could not figure out Q7, define two variables here `A_lower` and `A_upper`, so that they store 90 and 100, respectively. This will allow you to complete this question. "
   ]
  },
  {
   "cell_type": "code",
   "execution_count": 38,
   "metadata": {
    "nbgrader": {
     "grade": false,
     "grade_id": "q6a",
     "locked": false,
     "schema_version": 3,
     "solution": true
    }
   },
   "outputs": [],
   "source": [
    "### BEGIN SOLUTION\n",
    "desired_score = 100\n",
    "\n",
    "# code will differ based on who is taking the exam\n",
    "if desired_score >= A_lower and desired_score <= A_upper:\n",
    "    output = 'A desired'\n",
    "else:\n",
    "    output = 'A not desired'\n",
    "### END SOLUTION"
   ]
  },
  {
   "cell_type": "code",
   "execution_count": 39,
   "metadata": {
    "nbgrader": {
     "grade": true,
     "grade_id": "q6-t1",
     "locked": true,
     "points": 0.75,
     "schema_version": 3,
     "solution": false
    }
   },
   "outputs": [],
   "source": [
    "assert output\n",
    "# test to ensure no typos in string\n",
    "assert output in ['A desired', 'A not desired']\n",
    "### BEGIN HIDDEN TESTS\n",
    "if desired_score >= A_lower and desired_score <= A_upper:\n",
    "    test = 'A desired'\n",
    "else:\n",
    "    test = 'A not desired'\n",
    "\n",
    "assert test == output\n",
    "### END HIDDEN TESTS"
   ]
  },
  {
   "cell_type": "markdown",
   "metadata": {
    "nbgrader": {
     "grade": false,
     "grade_id": "q6-t2",
     "locked": true,
     "points": 1.25,
     "schema_version": 3,
     "solution": false,
     "task": true
    }
   },
   "source": [
    "**This \"blank\" cell included intentionally.** Do not do anything here. (It's being used in grading.)\n",
    "\n",
    "\n",
    "=== BEGIN MARK SCHEME ===\n",
    "\n",
    "- uses `if`/`else` OR `if`/`elif` syntax correctly (**0.5 points**)\n",
    "- conditional correct \n",
    "    - references variables (`desired_score`, `A_lower`, `A_upper`) (**0.3 points**)\n",
    "    - uses `>=` `and`/`&`, and `<=` (**0.3 points**)\n",
    "- `output` assigned a string value (even if there are typos in string) (**0.15 points**)\n",
    "\n",
    "=== END MARK SCHEME ==="
   ]
  },
  {
   "cell_type": "markdown",
   "metadata": {
    "nbgrader": {
     "grade": false,
     "grade_id": "q7",
     "locked": true,
     "schema_version": 3,
     "solution": false
    }
   },
   "source": [
    "### Q9 - `for` loop (2.5 points)\n",
    "\n",
    "Background: While Professor Ellis cares most that students learn the material in COGS 18, students are often (understandably) curious about their final letter grade in her classes. Here, you're going to help students figure out their letter grade programmatically!\n",
    "\n",
    "Define a grade between 0 and 100 in the variable `student_grade`.\n",
    "\n",
    "Then, write code that uses the dictionary `grading` you created in Q7 to determine the student's `letter_grade` using the following logic:\n",
    "\n",
    "For each key in `grading`, if the `student_grade` is 100, `letter_grade` will store the string 'A'. Otherwise, if the `student_grade` is *greater than or equal* to the lower value in the key's tuple value and *less than* the upper value in the key's tuple, the key will be stored in `letter_grade`.\n",
    "\n",
    "\n",
    "Note: This should not be hard-coded. Your answer should use code constructs discussed in class. In other words, your code should produce the correct `letter_grade`, regardless of the specific value you choose for `student_grade`. In fact, a great way to test your code is to check to ensure it gives you the correct `letter_grade`, regardless of the value you input for `student_grade`. Specifically, it may be best to test that a `student_grade` of 89 should return `'B'` for `letter_grade`, while a `student_grade` of 90 would store `'A'` for `letter_grade`"
   ]
  },
  {
   "cell_type": "code",
   "execution_count": 40,
   "metadata": {
    "nbgrader": {
     "grade": false,
     "grade_id": "q7a",
     "locked": false,
     "schema_version": 3,
     "solution": true
    }
   },
   "outputs": [],
   "source": [
    "### BEGIN SOLUTION\n",
    "student_grade = 89\n",
    "\n",
    "for grade in grading:\n",
    "    if student_grade == 100:\n",
    "        letter_grade = 'A'\n",
    "    elif student_grade >= grading[grade][0] and student_grade < grading[grade][1]:\n",
    "        letter_grade = grade\n",
    "        \n",
    "### END SOLUTION"
   ]
  },
  {
   "cell_type": "code",
   "execution_count": 41,
   "metadata": {
    "nbgrader": {
     "grade": true,
     "grade_id": "q7-t1",
     "locked": true,
     "points": 1,
     "schema_version": 3,
     "solution": false
    }
   },
   "outputs": [],
   "source": [
    "assert letter_grade\n",
    "### BEGIN HIDDEN TESTS\n",
    "grading = {'A' : (90, 100), \n",
    "           'B' : (80, 90), \n",
    "           'C' : (70, 80), \n",
    "           'D' : (60, 70), \n",
    "           'F' : (0, 60)\n",
    "          }\n",
    "\n",
    "\n",
    "for grade in grading:\n",
    "    if student_grade == 100:\n",
    "        test = 'A'\n",
    "    elif student_grade >= grading[grade][0] and student_grade < grading[grade][1]:\n",
    "        test = grade\n",
    "        \n",
    "assert test == letter_grade\n",
    "### END HIDDEN TESTS"
   ]
  },
  {
   "cell_type": "markdown",
   "metadata": {
    "nbgrader": {
     "grade": false,
     "grade_id": "q7-t2",
     "locked": true,
     "points": 1.5,
     "schema_version": 3,
     "solution": false,
     "task": true
    }
   },
   "source": [
    "**This \"blank\" cell included intentionally.** Do not do anything here. (It's being used in grading.)\n",
    "\n",
    "=== BEGIN MARK SCHEME ===\n",
    "- `student_grade` initialized with a value [0,100] (**0.25 points**)\n",
    "- `for` loop thorugh `grading` (**0.25 points**)\n",
    "- conditional for 100 correct (**0.25 points**)\n",
    "- `elif` conditional correct: \n",
    "    - uses `>=`, `and`/`&`, `<`  (**0.25 points**)\n",
    "    - indexes into `grading` correctly (**0.25 points**)\n",
    "    - `letter_grade` stores key from `grade` (**0.25 points**)\n",
    "    \n",
    "=== END MARK SCHEME ==="
   ]
  },
  {
   "cell_type": "markdown",
   "metadata": {
    "nbgrader": {
     "grade": false,
     "grade_id": "cell-e1f9fa847b38eac9",
     "locked": true,
     "schema_version": 3,
     "solution": false,
     "task": false
    }
   },
   "source": [
    "### Q10 - Accomplishing a task (1.15 points)\n",
    "\n",
    "Earlier (in Q5), you used string concatenation to store the string `\"I'm so excited that students are now eligible for the vaccine!\"`. Here we're going to accomplish the same task, but starting with the list below.\n",
    "\n",
    "Using the list below and code constructs we discussed in class, convert the list provided (`vaccination_list`) into a single sentence: `\"I'm so excited that students are now eligible for the vaccine!\"`. Store this in the variable `sentence`."
   ]
  },
  {
   "cell_type": "code",
   "execution_count": 42,
   "metadata": {
    "nbgrader": {
     "grade": false,
     "grade_id": "cell-fc03290fc1ccf12d",
     "locked": true,
     "schema_version": 3,
     "solution": false,
     "task": false
    }
   },
   "outputs": [],
   "source": [
    "vaccination_list = [\"I'm \", \"so \", \"excited \", \"that \", \"students \", \"are \", \n",
    "                    \"now \", \"eligible \", \"for \", \"the \", \"vaccine!\"]"
   ]
  },
  {
   "cell_type": "code",
   "execution_count": 43,
   "metadata": {
    "nbgrader": {
     "grade": false,
     "grade_id": "cell-1ea6cb63f391a4cf",
     "locked": false,
     "schema_version": 3,
     "solution": true,
     "task": false
    }
   },
   "outputs": [],
   "source": [
    "### BEGIN SOLUTION\n",
    "sentence = ''\n",
    "\n",
    "for word in vaccination_list:\n",
    "    sentence += word\n",
    "### END SOLUTION"
   ]
  },
  {
   "cell_type": "code",
   "execution_count": 44,
   "metadata": {
    "nbgrader": {
     "grade": true,
     "grade_id": "cell-b55e3349d00c555e",
     "locked": true,
     "points": 0.15,
     "schema_version": 3,
     "solution": false,
     "task": false
    }
   },
   "outputs": [],
   "source": [
    "assert sentence is not None\n",
    "### BEGIN HIDDEN TESTS\n",
    "assert sentence == \"I'm so excited that students are now eligible for the vaccine!\"\n",
    "### END HIDDEN TESTS"
   ]
  },
  {
   "cell_type": "markdown",
   "metadata": {
    "nbgrader": {
     "grade": false,
     "grade_id": "cell-6c3ff8ceb7efedf5",
     "locked": true,
     "points": 1,
     "schema_version": 3,
     "solution": false,
     "task": true
    }
   },
   "source": [
    "**This \"blank\" cell included intentionally.** Do not do anything here. (It's being used in grading.)\n",
    "\n",
    "=== BEGIN MARK SCHEME ===\n",
    "- `sentence` initialized as empty string (**0.25 points**)\n",
    "- `for` loop set up correctly (**0.25 points**)\n",
    "- string extended/concatenated correctly (**0.5 points**)  \n",
    "\n",
    "=== END MARK SCHEME ==="
   ]
  },
  {
   "cell_type": "markdown",
   "metadata": {
    "nbgrader": {
     "grade": false,
     "grade_id": "fin",
     "locked": true,
     "schema_version": 3,
     "solution": false
    }
   },
   "source": [
    "### Submit on Datahub\n",
    "\n",
    "Good work - you're done!\n",
    "\n",
    "Check your work, and then when you're ready, **submit on datahub**.\n",
    "\n",
    "We will not have your exam until you click submit and see this show up under 'submitted assignments'."
   ]
  }
 ],
 "metadata": {
  "celltoolbar": "Create Assignment",
  "kernelspec": {
   "display_name": "Python 3",
   "language": "python",
   "name": "python3"
  },
  "language_info": {
   "codemirror_mode": {
    "name": "ipython",
    "version": 3
   },
   "file_extension": ".py",
   "mimetype": "text/x-python",
   "name": "python",
   "nbconvert_exporter": "python",
   "pygments_lexer": "ipython3",
   "version": "3.7.9"
  }
 },
 "nbformat": 4,
 "nbformat_minor": 2
}
