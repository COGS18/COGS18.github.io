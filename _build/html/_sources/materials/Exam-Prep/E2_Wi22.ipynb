{
 "cells": [
  {
   "cell_type": "markdown",
   "id": "a08723b5",
   "metadata": {
    "nbgrader": {
     "grade": false,
     "grade_id": "intro",
     "locked": true,
     "schema_version": 3,
     "solution": false
    }
   },
   "source": [
    "# COGS 18 - Exam 2\n",
    "\n",
    "This is the second exam for Winter 2022. It covers topics through the Classes Lecture.\n",
    "\n",
    "This total exam is out of 12.5 points, worth 12.5% of your grade. \n",
    "\n",
    "**PLEASE DO NOT CHANGE THE NAME OF THIS FILE.**\n",
    "\n",
    "**PLEASE DO NOT COPY & PASTE OR DELETE CELLS INLCUDED IN THE EXAM.** (Note that you can add additional cells, if you want to test things out."
   ]
  },
  {
   "cell_type": "markdown",
   "id": "87b0eb79",
   "metadata": {
    "nbgrader": {
     "grade": false,
     "grade_id": "instructions",
     "locked": true,
     "schema_version": 3,
     "solution": false
    }
   },
   "source": [
    "## Instructions\n",
    "\n",
    "#### Timing\n",
    "- The exam is designed to take you ~1-2h.\n",
    "- If it takes you longer than 1-2h, you're free to use that time, so long as you submit the exam before the deadline (Sunday 11:59 PM)\n",
    "\n",
    "#### The Rules\n",
    "- You are to complete this exam on your own.\n",
    "- This is open-notes & open-Google\n",
    "- You may not talk to any humans about this exam. \n",
    "- The following are all *prohibited*:\n",
    "    - text/phone/online chat communication\n",
    "    - posting questions to a message board where a human could respond (Campuswire, Discord, Chegg, any similar site)\n",
    "    - viewing exam questions from a message board (as described above)\n",
    "    - asking anyone via any form about a question on this test directly\n",
    "- Clarification questions will ***not*** be allowed and there will be no posting on Campuswire about the exam at all. \n",
    "    - Campuswire posts about the exam will not be answered and will be deleted. \n",
    "    - Students who post questions about the exam to Campuswire are at risk of losing points on the exam.\n",
    "    - If you are confused about wording, add a note to your exam explaining your confusion and how you interpreted the question. \n",
    "    - Note: This policy is b/c we are incapable of responding for the entirety of hte exam. This is the only way to make it fair across the board for students."
   ]
  },
  {
   "cell_type": "markdown",
   "id": "79e51fd5",
   "metadata": {
    "nbgrader": {
     "grade": false,
     "grade_id": "cell-26b08bd4b5ba54ab",
     "locked": true,
     "schema_version": 3,
     "solution": false
    }
   },
   "source": [
    " <span style=\"color: red;\">Note: </span> There _is_ a chance for partial credit on some questions, so _some_ code is better than _no_ code. Even if it throws an error, having some code that partially answers the question will benefit you/your grade."
   ]
  },
  {
   "cell_type": "markdown",
   "id": "d90e1fd6",
   "metadata": {
    "nbgrader": {
     "grade": false,
     "grade_id": "cell-4d8581ac45c24683",
     "locked": true,
     "schema_version": 3,
     "solution": false,
     "task": false
    }
   },
   "source": [
    "### Q0 - Honor Code\n",
    "\n",
    "In the cell below, include a variable `honor_code` that stores the boolean `True` if you agree to the following statement:\n",
    "\n",
    ">I agree that this exam was completed individually with the knowlege in my brain, information the notes from this course, and/or with searching for help on the Internet *without searching for answers to the text from these questions directly*. I did not ask anyone about specific questions on this exam. I did not post these questions (in part or in whole) on the Internet. I did not copy answers to these questions from anywhere or anyone else. I understand all code I've written on this exam and could explain my answers to someone else if asked.\n"
   ]
  },
  {
   "cell_type": "code",
   "execution_count": 1,
   "id": "76ca9e8b",
   "metadata": {
    "nbgrader": {
     "grade": false,
     "grade_id": "cell-9dae831891d7a1ad",
     "locked": false,
     "schema_version": 3,
     "solution": true,
     "task": false
    }
   },
   "outputs": [],
   "source": [
    "### BEGIN SOLUTION\n",
    "honor_code = True\n",
    "### END SOLUTION"
   ]
  },
  {
   "cell_type": "code",
   "execution_count": 2,
   "id": "ee21b924",
   "metadata": {
    "nbgrader": {
     "grade": true,
     "grade_id": "cell-8a6d1a928512e45c",
     "locked": true,
     "points": 0,
     "schema_version": 3,
     "solution": false,
     "task": false
    }
   },
   "outputs": [],
   "source": [
    "assert honor_code"
   ]
  },
  {
   "cell_type": "markdown",
   "id": "4389bd08",
   "metadata": {
    "nbgrader": {
     "grade": false,
     "grade_id": "part2",
     "locked": true,
     "schema_version": 3,
     "solution": false,
     "task": false
    }
   },
   "source": [
    "## Part 1: Methods, Debugging, & Code Style (4.5 points)"
   ]
  },
  {
   "cell_type": "markdown",
   "id": "f27c3f5a",
   "metadata": {
    "nbgrader": {
     "grade": false,
     "grade_id": "q5",
     "locked": true,
     "schema_version": 3,
     "solution": false,
     "task": false
    }
   },
   "source": [
    "### Q1 - Method I (0.75 points)\n",
    "\n",
    "`title()` is a built-in string method that \"converts the first character of each word to upper case\". \n",
    "\n",
    "Store your favorite book's title using all lowercase characters in the variable `fav_book`.\n",
    "\n",
    "Then, use the `.title()` string method to convert the string in `fav_book` to title case (meaning the first letter of each word is upper case), and storing this result in the variable `book_title`."
   ]
  },
  {
   "cell_type": "code",
   "execution_count": 3,
   "id": "2d7daede",
   "metadata": {
    "nbgrader": {
     "grade": false,
     "grade_id": "cell-09260f9c394a5905",
     "locked": false,
     "schema_version": 3,
     "solution": true,
     "task": false
    }
   },
   "outputs": [
    {
     "name": "stdout",
     "output_type": "stream",
     "text": [
      "evicted Evicted\n"
     ]
    }
   ],
   "source": [
    "### BEGIN SOLUTION\n",
    "# specific strings will differ\n",
    "fav_book = 'evicted'\n",
    "book_title = fav_book.title()\n",
    "\n",
    "print(fav_book, book_title)\n",
    "### END SOLUTION"
   ]
  },
  {
   "cell_type": "code",
   "execution_count": 4,
   "id": "4f8fb416",
   "metadata": {
    "nbgrader": {
     "grade": true,
     "grade_id": "cell-e9a5e70357e98aef",
     "locked": true,
     "points": 0.1,
     "schema_version": 3,
     "solution": false,
     "task": false
    }
   },
   "outputs": [],
   "source": [
    "assert fav_book is not None\n",
    "### BEGIN HIDDEN TESTS\n",
    "assert fav_book.islower()\n",
    "### END HIDDEN TESTS"
   ]
  },
  {
   "cell_type": "code",
   "execution_count": 5,
   "id": "c56e663e",
   "metadata": {
    "nbgrader": {
     "grade": true,
     "grade_id": "cell-12001d8195362930",
     "locked": true,
     "points": 0.1,
     "schema_version": 3,
     "solution": false,
     "task": false
    }
   },
   "outputs": [],
   "source": [
    "assert book_title is not None\n",
    "### BEGIN HIDDEN TESTS\n",
    "assert book_title.istitle()\n",
    "### END HIDDEN TESTS"
   ]
  },
  {
   "cell_type": "markdown",
   "id": "ee946171",
   "metadata": {
    "nbgrader": {
     "grade": false,
     "grade_id": "cell-122f520b60ffe1a4",
     "locked": true,
     "points": 0.55,
     "schema_version": 3,
     "solution": false,
     "task": true
    }
   },
   "source": [
    "**This \"blank\" cell included intentionally.** Do not do anything here. (It's being used in grading.)\n",
    "\n",
    "=== BEGIN MARK SCHEME ===\n",
    "\n",
    "- uses `title()` syntax correctly (**0.35 pts**)\n",
    "- uses `fav_book` when calling `.title()` (**0.2 pts**) \n",
    "\n",
    "=== END MARK SCHEME ==="
   ]
  },
  {
   "cell_type": "markdown",
   "id": "48d81c26",
   "metadata": {
    "nbgrader": {
     "grade": false,
     "grade_id": "q4",
     "locked": true,
     "schema_version": 3,
     "solution": false,
     "task": false
    }
   },
   "source": [
    "### Q2 - Method II (1.25 points)\n",
    "\n",
    "`.count()` is a built-in tuple method that \"returns the number of times a specified value occurs in a tuple.\"\n",
    "\n",
    "In the cell below, the variable `students_fruits` has been provided for you. Using *only* `students_fruits` and the `count()` method, generate the three variables specified at left in the bulleted list below, satisfying the following criteria:\n",
    "\n",
    "- `apple_count` | the number of times `'apple'` shows up in `students_fruits`\n",
    "- `lychee_count` | the number of times `'lychee'` shows up in `students_fruits`\n",
    "- `pineapple_count` | the number of times `'pineapple'` shows up in `students_fruits`\n",
    "\n",
    "Note you will have to execute the cell with the variable provided below before being able to reference it in your answer."
   ]
  },
  {
   "cell_type": "code",
   "execution_count": 29,
   "id": "1a6d7970",
   "metadata": {
    "nbgrader": {
     "grade": false,
     "grade_id": "cell-95584769973d2b99",
     "locked": true,
     "schema_version": 3,
     "solution": false,
     "task": false
    }
   },
   "outputs": [],
   "source": [
    "# these variables provided for you\n",
    "# you will not be able to edit this cell\n",
    "students_fruits = ('apple', 'apple', 'apple', 'banana', 'pear', 'dragonfruit', 'starfruit', 'apple', \n",
    "                   'pear', 'pineapple', 'apple', 'grapefruit', 'lime', 'lychee', 'plum', 'plum', 'pineapple')"
   ]
  },
  {
   "cell_type": "code",
   "execution_count": 53,
   "id": "92c220bf",
   "metadata": {
    "nbgrader": {
     "grade": true,
     "grade_id": "cell-882669c5cbfd2e0d",
     "locked": true,
     "points": 0,
     "schema_version": 3,
     "solution": false,
     "task": false
    }
   },
   "outputs": [],
   "source": [
    "# ignore this cell; it's being used in grading\n",
    "# be sure to put your answer in the cell below this cell\n",
    "### BEGIN HIDDEN TESTS\n",
    "# editing tuple to avoid hard-coding issues \n",
    "students_fruits = ('apple', 'apple', 'banana', 'pear', 'dragonfruit', 'starfruit', 'lychee', 'apple', \n",
    "                   'pear', 'pineapple', 'apple', 'grapefruit', 'lime', 'lychee', 'plum', 'plum')\n",
    "### END HIDDEN TESTS"
   ]
  },
  {
   "cell_type": "code",
   "execution_count": 31,
   "id": "9761392e",
   "metadata": {
    "nbgrader": {
     "grade": false,
     "grade_id": "cell-3c6ed1cf0c8f8681",
     "locked": false,
     "schema_version": 3,
     "solution": true,
     "task": false
    }
   },
   "outputs": [
    {
     "name": "stdout",
     "output_type": "stream",
     "text": [
      "4 2 1\n"
     ]
    }
   ],
   "source": [
    "### BEGIN SOLUTION\n",
    "apple_count = students_fruits.count('apple')\n",
    "lychee_count = students_fruits.count('lychee')\n",
    "pineapple_count = students_fruits.count('pineapple')\n",
    "\n",
    "print(apple_count, lychee_count, pineapple_count)\n",
    "### END SOLUTION"
   ]
  },
  {
   "cell_type": "code",
   "execution_count": 32,
   "id": "54279d62",
   "metadata": {
    "nbgrader": {
     "grade": true,
     "grade_id": "cell-8e0910a9129a07a1",
     "locked": true,
     "points": 0.25,
     "schema_version": 3,
     "solution": false,
     "task": false
    }
   },
   "outputs": [],
   "source": [
    "assert apple_count is not None\n",
    "### BEGIN HIDDEN TESTS\n",
    "assert apple_count == 4\n",
    "### END HIDDEN TESTS"
   ]
  },
  {
   "cell_type": "code",
   "execution_count": 33,
   "id": "fa57e16a",
   "metadata": {
    "nbgrader": {
     "grade": true,
     "grade_id": "cell-98ba1271640a9369",
     "locked": true,
     "points": 0.25,
     "schema_version": 3,
     "solution": false,
     "task": false
    }
   },
   "outputs": [],
   "source": [
    "assert lychee_count is not None\n",
    "### BEGIN HIDDEN TESTS\n",
    "assert lychee_count == 2\n",
    "### END HIDDEN TESTS"
   ]
  },
  {
   "cell_type": "code",
   "execution_count": 34,
   "id": "b83e973e",
   "metadata": {
    "nbgrader": {
     "grade": true,
     "grade_id": "cell-3ddddce7836dcb95",
     "locked": true,
     "points": 0.25,
     "schema_version": 3,
     "solution": false,
     "task": false
    }
   },
   "outputs": [],
   "source": [
    "assert pineapple_count is not None\n",
    "### BEGIN HIDDEN TESTS\n",
    "assert pineapple_count == 1\n",
    "### END HIDDEN TESTS"
   ]
  },
  {
   "cell_type": "markdown",
   "id": "1834b0af",
   "metadata": {
    "nbgrader": {
     "grade": false,
     "grade_id": "cell-ecd4036e4d373194",
     "locked": true,
     "points": 0.5,
     "schema_version": 3,
     "solution": false,
     "task": true
    }
   },
   "source": [
    "**This \"blank\" cell included intentionally.** Do not do anything here. (It's being used in grading.)\n",
    "\n",
    "=== BEGIN MARK SCHEME ===\n",
    "\n",
    "- `count()` syntax correct (called directly on object) (**0.5 pts**)\n",
    "\n",
    "=== END MARK SCHEME ==="
   ]
  },
  {
   "cell_type": "markdown",
   "id": "916fad42",
   "metadata": {
    "nbgrader": {
     "grade": false,
     "grade_id": "q6",
     "locked": true,
     "schema_version": 3,
     "solution": false,
     "task": false
    }
   },
   "source": [
    "### Q3 - Debugging & Code Style (2.5 points)\n",
    "\n",
    "In the cell below, there is a function that is not operating as anticipated *and* that has poor code style.\n",
    "\n",
    "`determine_letter_grade()` is *supposed* to take a student's points received (`student_points`) on an assignment as well as the possible points the student *could* have earned (`possible_points`) and `return` the letter grade the student earned...but it's not quite functioning as anticipated. \n",
    "\n",
    "More specifically, this function should:\n",
    "- calculate the *percentage* of the possible points the student earned on the assignment (Note: you're only expected to account for percentages between 0 and 100 inclusive...so you don't have to consider 101%, for example.)\n",
    "- use the dictionary (`letter_grades`) provided in the function below to determine what letter grade (the key in the dictionary) the student has earned. Note that the values in the dictionary are the range of possible percentages corresponding to the letter grade. The lower bound should be included in the range while the upper value for each element in the dictionary should *not* be included in the range for that letter value (i.e. 90% would be an 'A'; 80% would be a 'B', etc.)\n",
    "- `return` the letter grade earned from the function\n",
    "\n",
    "For example:\n",
    "- `determine_letter_grade(student_points = 10, possible_points = 10)` would `return` `'A'`\n",
    "- `determine_letter_grade(student_points = 89, possible_points = 100)` would `return` `'B'`\n",
    "- `determine_letter_grade(student_points = 5, possible_points = 10)` would `return` `'F'`\n",
    "\n",
    "**Debug, edit, and test the function provided below so that it accomplishes the intended goal.** \n",
    "\n",
    "```python\n",
    "def determine_letter_grade(student_points,possible_points):\n",
    "    letter_grades={'A':(90,101),'B':(80,90),'C':(70,80),'D':(60,70),'F':(0,60)}\n",
    "    percentage=(student_points/possible_points)\n",
    "    for letter in letter_grades:\n",
    "        if percentage<=letter_grades[letter][0] and percentage>=letter_grades[letter][1]:\n",
    "            print(letter_grades[letter])\n",
    "        break\n",
    "```\n",
    "\n",
    "*Then*, be sure to **edit the function you generate so that it follows the code style guidelines** discussed in class."
   ]
  },
  {
   "cell_type": "code",
   "execution_count": 10,
   "id": "df81967c",
   "metadata": {
    "nbgrader": {
     "grade": false,
     "grade_id": "cell-62a0b0b8b94f6e92",
     "locked": false,
     "schema_version": 3,
     "solution": true,
     "task": false
    }
   },
   "outputs": [],
   "source": [
    "### BEGIN SOLUTION\n",
    "def determine_letter_grade(student_points, possible_points):\n",
    "\n",
    "    letter_grades = {'A' : (90, 101),\n",
    "                     'B' : (80, 90), \n",
    "                     'C' : (70, 80), \n",
    "                     'D' : (60, 70), \n",
    "                     'F' : (0, 60)}\n",
    "\n",
    "    percentage = (student_points/possible_points) * 100\n",
    "\n",
    "    for letter in letter_grades:\n",
    "        if percentage >= letter_grades[letter][0] and percentage < letter_grades[letter][1]:\n",
    "            return letter\n",
    "            break\n",
    "### END SOLUTION"
   ]
  },
  {
   "cell_type": "code",
   "execution_count": 11,
   "id": "65ae617a",
   "metadata": {},
   "outputs": [],
   "source": [
    "# BE SURE YOUR ANSWER IS IN THE CELL ABOVE\n",
    "# but you can use this cell to test/execute/check your thinking (optional)"
   ]
  },
  {
   "cell_type": "code",
   "execution_count": 12,
   "id": "70655fd6",
   "metadata": {
    "nbgrader": {
     "grade": true,
     "grade_id": "cell-e866cc0e17b6f2ba",
     "locked": true,
     "points": 0.25,
     "schema_version": 3,
     "solution": false,
     "task": false
    }
   },
   "outputs": [],
   "source": [
    "assert determine_letter_grade\n",
    "# hidden tests to check the specific cases given in the instructions\n",
    "### BEGIN HIDDEN TESTS\n",
    "assert determine_letter_grade(student_points = 10, possible_points = 10) == 'A' \n",
    "assert determine_letter_grade(student_points = 89, possible_points = 100) == 'B'\n",
    "assert determine_letter_grade(student_points = 5, possible_points = 10) == 'F' \n",
    "### END HIDDEN TESTS"
   ]
  },
  {
   "cell_type": "code",
   "execution_count": 13,
   "id": "6bdca489",
   "metadata": {
    "nbgrader": {
     "grade": true,
     "grade_id": "cell-182b68be741e938f",
     "locked": true,
     "points": 0.25,
     "schema_version": 3,
     "solution": false,
     "task": false
    }
   },
   "outputs": [],
   "source": [
    "assert callable(determine_letter_grade)\n",
    "# hidden tests to check additional cases beyond what was specified in the instructions\n",
    "### BEGIN HIDDEN TESTS\n",
    "assert determine_letter_grade(student_points = 0, possible_points = 10) == 'F'\n",
    "assert determine_letter_grade(student_points = 18, possible_points = 20) == 'A'\n",
    "### END HIDDEN TESTS"
   ]
  },
  {
   "cell_type": "markdown",
   "id": "4c31e327",
   "metadata": {
    "nbgrader": {
     "grade": false,
     "grade_id": "cell-e5b7221fc75de9ba",
     "locked": true,
     "points": 1.25,
     "schema_version": 3,
     "solution": false,
     "task": true
    }
   },
   "source": [
    "**This \"blank\" cell included intentionally.** Do not do anything here. (It's being used in grading for debugging.)\n",
    "\n",
    "=== BEGIN MARK SCHEME ===\n",
    "\n",
    "Check if points lost on autograder above: \n",
    "- `percentage` calculates percentage (`*100` added) (**0.25 pts**)\n",
    "- conditional operator logic fixed `>=` and `<` (**0.25 pts**)\n",
    "- `break` moved inside the conditional (or removed/handled some other way) (**0.25 pts**)\n",
    "- `print` statement -> `return` statement (**0.25 pts**)\n",
    "- `return`s `letter` (key) not the value (**0.25 pts**)\n",
    "\n",
    "                                                              \n",
    "=== END MARK SCHEME ==="
   ]
  },
  {
   "cell_type": "markdown",
   "id": "5fd0c37b",
   "metadata": {
    "nbgrader": {
     "grade": false,
     "grade_id": "cell-2d0e796f61411374",
     "locked": true,
     "points": 0.75,
     "schema_version": 3,
     "solution": false,
     "task": true
    }
   },
   "source": [
    "**This \"blank\" cell included intentionally.** Do not do anything here. (It's being used in grading for code style.)\n",
    "\n",
    "=== BEGIN MARK SCHEME ===\n",
    "\n",
    "Code Style: \n",
    "- Improved spacing in dictionary for readability (**0.25 pts**)\n",
    "- some logical line spacing included (**0.25 pts**)\n",
    "- reasonable spacing around operators (**0.25 pts**)\n",
    "                                                              \n",
    "=== END MARK SCHEME ==="
   ]
  },
  {
   "cell_type": "markdown",
   "id": "ae308d52",
   "metadata": {
    "nbgrader": {
     "grade": false,
     "grade_id": "part1",
     "locked": true,
     "schema_version": 3,
     "solution": false
    }
   },
   "source": [
    "## Part 2: Loops & Functions (4 points)"
   ]
  },
  {
   "cell_type": "markdown",
   "id": "6e464500",
   "metadata": {
    "nbgrader": {
     "grade": false,
     "grade_id": "q1",
     "locked": true,
     "schema_version": 3,
     "solution": false,
     "task": false
    }
   },
   "source": [
    "### Q4 - Function I: `purchase_items()` (1.75 points)\n",
    "\n",
    "In this question, you're going to define a function called `purchase_items()` that will take two parameters as input:\n",
    "\n",
    "- `cost` | a dictionary of the items (the keys; strings) and how much each item costs (the values; ints or floats)\n",
    "- `cash` | how much cash the buyer gave the cashier (int or float)\n",
    "\n",
    "Within the function, your code should:\n",
    "\n",
    "- Determine if the `cash` provided is enough to pay for all the items in `items`.\n",
    "- If there is enough `cash`, the function should determine (and `return`) how much change the buyer should receive, given how much they paid `cash` and how much the items in `cost` cost in total.\n",
    "- If there is not enough `cash` to cover *all* the items in `items`, the function should `return` the string 'More cash needed'\n",
    "\n",
    "For example:\n",
    "- `purchase_items(cost={'tool': 10, 'food': 5.5}, cash=16)` should `return` `0.5`\n",
    "- `purchase_items(cost={'tool': 10, 'food': 5}, cash=15)` should `return` `0`\n",
    "- `purchase_items(cost={'tool': 10, 'food': 5}, cash=14)` should `return` `'More cash needed'`"
   ]
  },
  {
   "cell_type": "code",
   "execution_count": 35,
   "id": "179c641a",
   "metadata": {
    "nbgrader": {
     "grade": false,
     "grade_id": "cell-fdbbaa5a44ac0068",
     "locked": false,
     "schema_version": 3,
     "solution": true,
     "task": false
    }
   },
   "outputs": [],
   "source": [
    "### BEGIN SOLUTION\n",
    "def purchase_items(cost, cash):\n",
    "\n",
    "    sum_values = sum(cost.values())\n",
    "    \n",
    "    for item in cost:\n",
    "        if cash >= 0:\n",
    "            cash = cash - cost[item]\n",
    "        \n",
    "    if cash < 0: \n",
    "        cash = 'More cash needed'\n",
    "    \n",
    "    return cash\n",
    "### END SOLUTION"
   ]
  },
  {
   "cell_type": "code",
   "execution_count": 36,
   "id": "b8514656",
   "metadata": {},
   "outputs": [],
   "source": [
    "# BE SURE YOUR ANSWER IS IN THE CELL BELOW\n",
    "# but you can use this cell to test/execute/check your thinking (optional)"
   ]
  },
  {
   "cell_type": "code",
   "execution_count": 37,
   "id": "6eb9edac",
   "metadata": {
    "nbgrader": {
     "grade": true,
     "grade_id": "cell-c825d1c25ec0c7b1",
     "locked": true,
     "points": 0.3,
     "schema_version": 3,
     "solution": false,
     "task": false
    }
   },
   "outputs": [],
   "source": [
    "assert purchase_items\n",
    "# hidden tests to check the specific cases given in the instructions\n",
    "### BEGIN HIDDEN TESTS\n",
    "assert purchase_items(cost={'tool': 10, 'food': 5.5}, cash=16) == 0.5\n",
    "assert purchase_items(cost={'tool': 10, 'food': 5}, cash=15) == 0\n",
    "assert purchase_items(cost={'tool': 10, 'food': 5}, cash=14) == 'More cash needed'\n",
    "### END HIDDEN TESTS"
   ]
  },
  {
   "cell_type": "code",
   "execution_count": 38,
   "id": "6a710d75",
   "metadata": {
    "nbgrader": {
     "grade": true,
     "grade_id": "cell-251a63bcc0de942b",
     "locked": true,
     "points": 0.3,
     "schema_version": 3,
     "solution": false,
     "task": false
    }
   },
   "outputs": [],
   "source": [
    "assert callable(purchase_items)\n",
    "# hidden tests to check additional cases beyond what was specified in the instructions\n",
    "### BEGIN HIDDEN TESTS\n",
    "# ensuring works with different length dictionaries/other keys\n",
    "assert purchase_items(cost={'tool': 2, 'food': 4, 'gas': 40}, cash=106) == 60\n",
    "assert purchase_items(cost={'A': 2, 'B': 4, 'C': 40, 'D': 30}, cash=40) == 'More cash needed'\n",
    "### END HIDDEN TESTS"
   ]
  },
  {
   "cell_type": "markdown",
   "id": "c5028919",
   "metadata": {
    "nbgrader": {
     "grade": false,
     "grade_id": "cell-f5317567b8e4efd0",
     "locked": true,
     "points": 1.15,
     "schema_version": 3,
     "solution": false,
     "task": true
    }
   },
   "source": [
    "**This \"blank\" cell included intentionally.** Do not do anything here. (It's being used in grading.)\n",
    "\n",
    "=== BEGIN MARK SCHEME ===\n",
    "\n",
    "Only check if autograder credit lost above:\n",
    "- function defined correctly with two input parameters `cost` and `cash` (**0.15 pts**)\n",
    "- loops through `cost` dictionary (**0.25 pts**)\n",
    "- has conditionals to determine:\n",
    "    - when out of cash (**0.35 pts**)\n",
    "    - when string should be returned (**0.3 pts**)\n",
    "- has `return` statement (**0.1 pts**)\n",
    "\n",
    "=== END MARK SCHEME ==="
   ]
  },
  {
   "cell_type": "markdown",
   "id": "d1765255",
   "metadata": {
    "nbgrader": {
     "grade": false,
     "grade_id": "q2",
     "locked": true,
     "schema_version": 3,
     "solution": false,
     "task": false
    }
   },
   "source": [
    "### Q5 - Function II: `string_shortener()`  (2.25 points)\n",
    "\n",
    "Define a function `string_shortener()` that takes two parameters as inputs `str_list` (a list of strings) and `int_list` (a list of integers).\n",
    "\n",
    "Within the function, your code should extract the number of characters in each element of `str_list` as specified by the integer in the corresponding element in `int_list`, adding each shortened string to `output_list` (which should be `return`ed from the function.) For example, if the first element in `str_list` were `'hello'`, and the first element in `int_list` were `3`, the string `'hel'` (the first three letters of `'hello'`) should be added to `output_list`. \n",
    "\n",
    "One caveat, is that *if* the integer specified in `int_list` is *greater* than the number of characters in the corresponding element in `str_list`, then `None` should be added to `output_list` (instead of a shortened string).\n",
    "\n",
    "For example:\n",
    "- `string_shortener(str_list=['hello', 'hey', 'everything'], int_list=[3, 2, 5])` should `return` `['hel', 'he', 'every']`\n",
    "- `string_shortener(str_list=['somanyletters', 'everything'], int_list=[40, 17])` should `return` `[None, None]`\n",
    "\n",
    "Notes: \n",
    "- you can assume that the length of both inputs is the same (your code does NOT have to check for/account for this)\n",
    "- you can assume that `str_list` contains a list of strings and `int_list` contains a list of integers (your code does NOT have to check for/account for this)\n",
    "- the `output_list` should always have the same number of elements as the input parameter lists\n",
    "- remember that `zip()`, introduced on A4, is available for use. This question *can* be completed without `zip()`...but it may be simpler if you use `zip()`"
   ]
  },
  {
   "cell_type": "code",
   "execution_count": 39,
   "id": "cead7374",
   "metadata": {
    "nbgrader": {
     "grade": false,
     "grade_id": "cell-27753e425b580be3",
     "locked": false,
     "schema_version": 3,
     "solution": true,
     "task": false
    }
   },
   "outputs": [],
   "source": [
    "### BEGIN SOLUTION\n",
    "def string_shortener(str_list, int_list):\n",
    "    \n",
    "    output_list = []\n",
    "    \n",
    "    # can be accomplished without zip by specifying/using index\n",
    "    for my_int, my_str in zip(int_list, str_list):\n",
    "        if my_int <= len(my_str):\n",
    "            output_list.append(my_str[0:my_int])\n",
    "        else:\n",
    "            output_list.append(None)\n",
    "    \n",
    "    return output_list\n",
    "        \n",
    "### END SOLUTION"
   ]
  },
  {
   "cell_type": "code",
   "execution_count": 40,
   "id": "ec625bf9",
   "metadata": {},
   "outputs": [],
   "source": [
    "# BE SURE YOUR ANSWER IS IN THE CELL ABOVE\n",
    "# but you can use this cell to test/execute/check your thinking (optional)"
   ]
  },
  {
   "cell_type": "code",
   "execution_count": 41,
   "id": "c93bab4b",
   "metadata": {
    "nbgrader": {
     "grade": true,
     "grade_id": "cell-409a4e8e6c215e8b",
     "locked": true,
     "points": 0.25,
     "schema_version": 3,
     "solution": false,
     "task": false
    }
   },
   "outputs": [],
   "source": [
    "assert string_shortener\n",
    "# hidden test to check that the output is of the expected type (a list)\n",
    "### BEGIN HIDDEN TESTS\n",
    "assert callable(string_shortener)\n",
    "assert type(string_shortener(str_list=['hi', 'hello'], int_list=[5,6])) == list\n",
    "### END HIDDEN TESTS"
   ]
  },
  {
   "cell_type": "code",
   "execution_count": 42,
   "id": "a0ca9f2a",
   "metadata": {
    "nbgrader": {
     "grade": true,
     "grade_id": "cell-6e90c33a6cf4dbc2",
     "locked": true,
     "points": 0.25,
     "schema_version": 3,
     "solution": false,
     "task": false
    }
   },
   "outputs": [],
   "source": [
    "# hidden test to check the first example provided in the instructions\n",
    "### BEGIN HIDDEN TESTS\n",
    "assert string_shortener(str_list = ['hello', 'hey', 'everything'], int_list=[3, 2, 5]) == ['hel', 'he', 'every']\n",
    "### END HIDDEN TESTS"
   ]
  },
  {
   "cell_type": "code",
   "execution_count": 43,
   "id": "526c72cc",
   "metadata": {
    "nbgrader": {
     "grade": true,
     "grade_id": "cell-4d88b639915b1608",
     "locked": true,
     "points": 0.25,
     "schema_version": 3,
     "solution": false,
     "task": false
    }
   },
   "outputs": [],
   "source": [
    "# hidden test to check the second example provided in the instructions\n",
    "### BEGIN HIDDEN TESTS\n",
    "assert string_shortener(str_list = ['somanyletters', 'everything'], int_list=[40, 17]) == [None, None]\n",
    "### END HIDDEN TESTS"
   ]
  },
  {
   "cell_type": "code",
   "execution_count": 44,
   "id": "5cc45161",
   "metadata": {
    "nbgrader": {
     "grade": true,
     "grade_id": "cell-72adcd0478d1805b",
     "locked": true,
     "points": 0.25,
     "schema_version": 3,
     "solution": false,
     "task": false
    }
   },
   "outputs": [],
   "source": [
    "# hidden test to check example not provided in the instructions\n",
    "### BEGIN HIDDEN TESTS\n",
    "# checks that code works with combination of strings and None\n",
    "assert string_shortener(str_list = ['hello', 'everything'], int_list=[5, 17]) == ['hello', None]\n",
    "### END HIDDEN TESTS"
   ]
  },
  {
   "cell_type": "markdown",
   "id": "24c45761",
   "metadata": {
    "nbgrader": {
     "grade": false,
     "grade_id": "cell-c0b132da8a0a1ec3",
     "locked": true,
     "points": 1.25,
     "schema_version": 3,
     "solution": false,
     "task": true
    }
   },
   "source": [
    "**This \"blank\" cell included intentionally.** Do not do anything here. (It's being used in grading.)\n",
    "\n",
    "=== BEGIN MARK SCHEME ===\n",
    "\n",
    "Check if points lost on autograder above: \n",
    "\n",
    "- `def` correct with 2 parameters `str_list` and `int_list` (**0.15 pts**)\n",
    "- `output_list` initialized as an empty list (**0.25 pts**)\n",
    "- code loops through `str_list` and `int_list` (does NOT have to be at the same time) (**0.25 pts**)\n",
    "- `.append()` used to add element to `output_list` (or equivalent) (**0.25 pts**)\n",
    "- has conditional to account for length of string (**0.25 pts**)\n",
    "- includes `return` statement (**0.1 pts**)\n",
    "\n",
    "Notes:\n",
    "- if only issue is `return` statement is missing, return autograder credit lost and only deduct for `return` statement missing\n",
    "\n",
    "=== END MARK SCHEME ==="
   ]
  },
  {
   "cell_type": "markdown",
   "id": "e8e11868",
   "metadata": {
    "nbgrader": {
     "grade": false,
     "grade_id": "part3",
     "locked": true,
     "schema_version": 3,
     "solution": false,
     "task": false
    }
   },
   "source": [
    "## Part 3: Classes (4 points)"
   ]
  },
  {
   "cell_type": "markdown",
   "id": "4636b107",
   "metadata": {
    "nbgrader": {
     "grade": false,
     "grade_id": "q8",
     "locked": true,
     "schema_version": 3,
     "solution": false,
     "task": false
    }
   },
   "source": [
    "### Q6 - Classes I: `ClassRoster()` (1.5 points)\n",
    "\n",
    "\n",
    "The following class has been provided for you:\n",
    "\n",
    "```python\n",
    "class ClassRoster():\n",
    "        \n",
    "    def __init__(self, course):\n",
    "        self.students = []\n",
    "        self.course = course\n",
    "        \n",
    "    def add_student(self, pid, name):\n",
    "        self.students.append({pid: name})\n",
    "```\n",
    "\n",
    "In the cell below, describe what a class is in general and what the `ClassRoster` class does. Be sure to be specific in your answer, and make sure to discuss each of its components (This will likely require you to talk about specific lines of code).\n",
    "\n",
    "\n",
    "Note: you do not need to write any python code for this question; we're looking for a written explanation in the cell provided below.\n",
    "\n",
    "<span style=\"color:red\">Be sure to include your text response in the cell below!</span>\n"
   ]
  },
  {
   "cell_type": "markdown",
   "id": "ec553b73",
   "metadata": {
    "nbgrader": {
     "grade": true,
     "grade_id": "cell-16d411f801117c8f",
     "locked": false,
     "points": 0,
     "schema_version": 3,
     "solution": true,
     "task": false
    }
   },
   "source": [
    "Possible answer: \n",
    "\n",
    "In general, a class defines a a blueprint for creating a new object, allowing for attributes (variables/data) and functions (methods) to be organized and operate together. \n",
    "\n",
    "The `ClassRoster` class has two instance-specifc attributes: `course` (initialized with the value specified by the user for the `course` parameter on instantiation) and `students` (initialized as an empty list). The use of `self` here indicates that these values can/will differ between different instantiations of the class (i.e. for different courses).\n",
    "\n",
    "The class also has a method, `add_student`, that takes two parameters (`pid` and a student's `name`). This method appends a key (`pid`) - value (`name`) pair to the instance attribute `students` list. Together, this allows an instructor to add all of their studentes to their `students` list."
   ]
  },
  {
   "cell_type": "code",
   "execution_count": 45,
   "id": "7b1d1ce1",
   "metadata": {},
   "outputs": [],
   "source": [
    "# BE SURE YOUR ANSWER IS IN THE CELL ABOVE\n",
    "# but you can use this cell to test/execute/check your thinking (optional)"
   ]
  },
  {
   "cell_type": "markdown",
   "id": "9db1cd5a",
   "metadata": {
    "nbgrader": {
     "grade": false,
     "grade_id": "cell-216f99649bc6b8df",
     "locked": true,
     "points": 1.5,
     "schema_version": 3,
     "solution": false,
     "task": true
    }
   },
   "source": [
    "**This \"blank\" cell included intentionally.** Do not do anything here. (It's being used in grading.)\n",
    "\n",
    "=== BEGIN MARK SCHEME ===\n",
    "\n",
    "- describes what a class is; generally describes that a ClassRoster object would allow you to keep track of a list of students PIDs and names as a dictionary in the `students` list (**0.25 pts**)\n",
    "- has *some* reasonable explanation of what `self` is in explanation (**0.25 pts**)\n",
    "- describes the instance attributes:\n",
    "    - `students` is initialized as an empty list (**0.25 pts**)\n",
    "    - `course` takes input from the user (**0.25 pts**)\n",
    "- describes the `add_student` method:\n",
    "    - takes two parameters from the user (**0.1 pts**)\n",
    "    - correctly desctibes that the parameters are stored in a dictionary AND that that dictionary is appended to the `students` attribute (**0.4 pts**)\n",
    "    \n",
    "=== END MARK SCHEME ==="
   ]
  },
  {
   "cell_type": "markdown",
   "id": "2e3c55ed",
   "metadata": {
    "nbgrader": {
     "grade": false,
     "grade_id": "q7",
     "locked": true,
     "schema_version": 3,
     "solution": false,
     "task": false
    }
   },
   "source": [
    "### Q7 - Classes II: `Warehouse()` (2.5 points)\n",
    "\n",
    "Define a class `Warehouse()` that meets the following specifications:\n",
    "\n",
    "- has a class attribute: `purpose` which always has the value 'storing goods' (a string)\n",
    "\n",
    "- has one instance attribute\n",
    "    - `department` | a string corresponding to the department; this is specified by the user on creation of a `Warehouse()` type object using the `department` parameter\n",
    "\n",
    "- has two methods:\n",
    "    - `calculate_imports()` \n",
    "        - calculates the sum of all the values in `imports` (the function's parameter; a *list* of all the imports for the department)\n",
    "        - This function should `return` the string `'Total imports for [department]: [sum of imports]'`, where `[department]` and `[sum of imports]` are replaced with the `department` attribute and sum total calculated within the function, respectively\n",
    "    - `calculate_exports()`\n",
    "        - calculates the sum of all the values in `exports` (the function's parameter; a *list* of all the exports for the department)\n",
    "        - This function should `return` the string `'Total exports for [department]: [sum of exports]'`, where `[department]` and `[sum of sum of exports]` are replaced with the `department` attribute and sum total calculated within the function, respectively\n",
    "        \n",
    "For example, if you were to create an instance of this object with the `'crafts'` and then called the `calculate_imports()` method on that object with the input `[4,5,6]`, you would expect this to `return` the string `'Total imports for crafts: 15'`"
   ]
  },
  {
   "cell_type": "code",
   "execution_count": 46,
   "id": "334db5e1",
   "metadata": {
    "nbgrader": {
     "grade": false,
     "grade_id": "cell-80e3cb9de1241e25",
     "locked": false,
     "schema_version": 3,
     "solution": true,
     "task": false
    }
   },
   "outputs": [],
   "source": [
    "### BEGIN SOLUTION\n",
    "class Warehouse():\n",
    "        \n",
    "    purpose = 'storing goods'\n",
    "    \n",
    "    def __init__(self, department):\n",
    "        self.department = department\n",
    "        \n",
    "    def calculate_imports(self, imports):\n",
    "        sum_imports = sum(imports)     \n",
    "        return \"Total imports for \" + self.department + \": \" + str(sum_imports)\n",
    "    \n",
    "    def calculate_exports(self, exports):\n",
    "        sum_exports = sum(exports)     \n",
    "        return \"Total exports for \" + self.department + \": \" + str(sum_exports)\n",
    "    \n",
    "    ### END SOLUTION"
   ]
  },
  {
   "cell_type": "code",
   "execution_count": 47,
   "id": "440c3bb4",
   "metadata": {},
   "outputs": [],
   "source": [
    "# BE SURE YOUR ANSWER IS IN THE CELL ABOVE\n",
    "# but you can use this cell to test/execute/check your thinking (optional)"
   ]
  },
  {
   "cell_type": "code",
   "execution_count": 48,
   "id": "ac9a2d94",
   "metadata": {
    "nbgrader": {
     "grade": true,
     "grade_id": "cell-37e8b60113767efa",
     "locked": true,
     "points": 0.2,
     "schema_version": 3,
     "solution": false,
     "task": false
    }
   },
   "outputs": [],
   "source": [
    "assert callable(Warehouse)\n",
    "my_warehouse = Warehouse(department='Clothing')"
   ]
  },
  {
   "cell_type": "code",
   "execution_count": 49,
   "id": "5f8878b9",
   "metadata": {
    "nbgrader": {
     "grade": true,
     "grade_id": "cell-30a7b606c61333a6",
     "locked": true,
     "points": 0.2,
     "schema_version": 3,
     "solution": false,
     "task": false
    }
   },
   "outputs": [],
   "source": [
    "# tests for class attribute\n",
    "assert my_warehouse.purpose == 'storing goods'"
   ]
  },
  {
   "cell_type": "code",
   "execution_count": 50,
   "id": "dfc514b1",
   "metadata": {
    "nbgrader": {
     "grade": true,
     "grade_id": "cell-301e916ade4a03a8",
     "locked": true,
     "points": 0.2,
     "schema_version": 3,
     "solution": false,
     "task": false
    }
   },
   "outputs": [],
   "source": [
    "# tests for instance attribute\n",
    "assert my_warehouse.department == 'Clothing'"
   ]
  },
  {
   "cell_type": "code",
   "execution_count": 51,
   "id": "e27ae149",
   "metadata": {
    "nbgrader": {
     "grade": true,
     "grade_id": "cell-ed7e6ef17084851f",
     "locked": true,
     "points": 0.2,
     "schema_version": 3,
     "solution": false,
     "task": false
    }
   },
   "outputs": [],
   "source": [
    "# tests for method calculate_imports\n",
    "assert callable(Warehouse.calculate_imports)\n",
    "assert my_warehouse.calculate_imports([4, 5, 6]) == 'Total imports for Clothing: 15'\n",
    "# ensure executes with correct parameter name\n",
    "assert my_warehouse.calculate_imports(imports=[4, 5, 6]) == 'Total imports for Clothing: 15'"
   ]
  },
  {
   "cell_type": "code",
   "execution_count": 52,
   "id": "2eb999f6",
   "metadata": {
    "nbgrader": {
     "grade": true,
     "grade_id": "cell-08b20e1611fc5c5a",
     "locked": true,
     "points": 0.2,
     "schema_version": 3,
     "solution": false,
     "task": false
    }
   },
   "outputs": [],
   "source": [
    "# tests for method calculate_exports\n",
    "assert callable(Warehouse.calculate_exports)\n",
    "assert my_warehouse.calculate_exports([1, 2, 3]) == 'Total exports for Clothing: 6'\n",
    "# ensure executes with correct parameter name\n",
    "assert my_warehouse.calculate_exports(exports=[1, 2, 3]) == 'Total exports for Clothing: 6'"
   ]
  },
  {
   "cell_type": "markdown",
   "id": "f2f9ce3c",
   "metadata": {
    "nbgrader": {
     "grade": false,
     "grade_id": "cell-d2891dfab143ad29",
     "locked": true,
     "points": 1.5,
     "schema_version": 3,
     "solution": false,
     "task": true
    }
   },
   "source": [
    "**This \"blank\" cell included intentionally.** Do not do anything here. (It's being used in grading.)\n",
    "\n",
    "=== BEGIN MARK SCHEME ===\n",
    "\n",
    "Check if points lost on autograder above (Note none of the tests were hidden...so we should avoid many string errors): \n",
    "- `class` defined correctly (**0.1 pts**)\n",
    "- class attribute correct (**0.2 pts**)\n",
    "- instance attribute\n",
    "    - `def __init__(self, department)` correct (**0.2 pts**)\n",
    "    - `self` used within definition (**0.2 pts**)\n",
    "    - `department` attribute initialized correctly (**0.2 pts**)\n",
    "- `calculate_import` and/or `calculate_export` methods (grade the one that's more corrrect):\n",
    "    - method definition correct with `self` and additional parameter (**0.2 pts**)\n",
    "    - calculates sum correctly (**0.1 pts**)\n",
    "    - uses self. to refer to attribute in string  (**0.2 pts**)\n",
    "    - `return`s a concatenated string (even if string incorrect) (**0.1 pts**)\n",
    "\n",
    "Note: autograder credit can be returned for portions above if particular aspect (class attribute, instance attribute, or method) were correct, but test failed because overall `class` was defined incorrectly\n",
    "\n",
    "=== END MARK SCHEME ==="
   ]
  },
  {
   "cell_type": "markdown",
   "id": "6687b4d7",
   "metadata": {
    "nbgrader": {
     "grade": false,
     "grade_id": "end",
     "locked": true,
     "schema_version": 3,
     "solution": false
    }
   },
   "source": [
    "### Exam II complete!\n",
    "\n",
    "Good work - you're done with the second exam!\n",
    "\n",
    "Check your work, and then when you're ready, **submit on datahub**.\n",
    "\n",
    "We will not have your exam until you click submit and see this show up under 'submitted assignments'."
   ]
  }
 ],
 "metadata": {
  "celltoolbar": "Create Assignment",
  "kernelspec": {
   "display_name": "Python 3 (ipykernel)",
   "language": "python",
   "name": "python3"
  },
  "language_info": {
   "codemirror_mode": {
    "name": "ipython",
    "version": 3
   },
   "file_extension": ".py",
   "mimetype": "text/x-python",
   "name": "python",
   "nbconvert_exporter": "python",
   "pygments_lexer": "ipython3",
   "version": "3.9.7"
  }
 },
 "nbformat": 4,
 "nbformat_minor": 5
}
