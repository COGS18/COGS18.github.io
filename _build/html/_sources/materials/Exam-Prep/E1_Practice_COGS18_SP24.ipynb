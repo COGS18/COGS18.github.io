{
 "cells": [
  {
   "cell_type": "markdown",
   "id": "4ca872f1",
   "metadata": {
    "nbgrader": {
     "grade": false,
     "grade_id": "cell-4bcd92bb8159c51b",
     "locked": true,
     "schema_version": 3,
     "solution": false,
     "task": false
    }
   },
   "source": [
    "# COGS 18 - Exam 1 (Practice Take-Home)\n",
    "\n",
    "This is the practice take-home portion of the first exam for Spring 2024. It covers the technical implementation of topics through the Collections Lecture.\n",
    "\n",
    "This practice is worth 0 pts and 0% of your grade. But, the actual exam will be worth 15 pts (12.5 pts in-class; 2.5 points take-home)\n",
    "\n",
    "**PLEASE DO NOT CHANGE THE NAME OF THIS FILE.**\n",
    "\n",
    "**PLEASE DO NOT COPY & PASTE OR DELETE CELLS INLCUDED IN THE ASSIGNMENT.** (Note that you can add additional cells, if you want to test things out."
   ]
  },
  {
   "cell_type": "markdown",
   "id": "d1fd5fc3-a008-4a42-b008-5fbad3255fe0",
   "metadata": {},
   "source": [
    "The Practice exam for the **in-class portion** of exam can be found here: https://docs.google.com/document/d/1gj1Vw_gf9LLMsN9_4FK3iZM6usdpoG7_hYSShnVYK-0/edit?usp=sharing\n",
    "\n",
    "The practice exam **answer key** can be found here: https://docs.google.com/document/d/1-IFfQ9Y36leBxoDmU0Ga16MqOxYn9TsgkNbizeFFBEk/edit?usp=sharing"
   ]
  },
  {
   "cell_type": "markdown",
   "id": "ad0e8614",
   "metadata": {
    "nbgrader": {
     "grade": false,
     "grade_id": "cell-cd620a69ab1d3c4a",
     "locked": true,
     "schema_version": 3,
     "solution": false,
     "task": false
    }
   },
   "source": [
    "#### Instructions\n",
    "\n",
    "#### Timing\n",
    "- There take-home portion will be released 3:30 the day of the exam and due the same day at 11:59PM\n",
    "\n",
    "#### The Rules\n",
    "- You are to complete this exam on your own.\n",
    "- This is open-notes & open-Internet.\n",
    "- You may not talk to any humans about this exam. \n",
    "- Clarification questions will ***not*** be allowed and there will be no posting on Piazza about the exam at all. \n",
    "     - If you are confused about wording, add a note to your exam explaining your confusion and how you interpreted the question. \n",
    "    - If you have a technical issue completing the exam, message (Piazza or email) Prof Ellis ASAP."
   ]
  },
  {
   "cell_type": "markdown",
   "id": "bf92c7db",
   "metadata": {
    "nbgrader": {
     "grade": false,
     "grade_id": "cell-26b08bd4b5ba54ab",
     "locked": true,
     "schema_version": 3,
     "solution": false
    }
   },
   "source": [
    " <span style=\"color: red;\">Note: </span> This portion of the midterm will be autograded, similar to an assingment. `assert` statements are there to guide your thinking but do not guarantee you've gotten the answer correct."
   ]
  },
  {
   "cell_type": "markdown",
   "id": "34484adc",
   "metadata": {
    "nbgrader": {
     "grade": false,
     "grade_id": "cell-4d8581ac45c24683",
     "locked": true,
     "schema_version": 3,
     "solution": false,
     "task": false
    }
   },
   "source": [
    "### Q0 - Honor Code (0.05 points)\n",
    "\n",
    "In the cell below, include a variable `honor_code` that stores the boolean `True` if you agree to the following statement:\n",
    "\n",
    ">I agree that this exam was completed individually with the knowlege in my brain, information the notes from this course, and/or with searching for help on the Internet *without searching for answers to the text from these questions directly*. I did not ask anyone about specific questions on this exam. I did not post these questions (in part or in whole) on the Internet. I did not copy answers to these questions from anywhere or anyone else. I understand all code I've written on this exam and could explain my answers to someone else if asked.\n"
   ]
  },
  {
   "cell_type": "code",
   "execution_count": 1,
   "id": "cf9c08b7",
   "metadata": {
    "nbgrader": {
     "grade": false,
     "grade_id": "cell-9dae831891d7a1ad",
     "locked": false,
     "schema_version": 3,
     "solution": true,
     "task": false
    }
   },
   "outputs": [],
   "source": [
    "### BEGIN SOLUTION\n",
    "honor_code = True\n",
    "### END SOLUTION"
   ]
  },
  {
   "cell_type": "code",
   "execution_count": 2,
   "id": "80bb4cee",
   "metadata": {
    "nbgrader": {
     "grade": true,
     "grade_id": "cell-8a6d1a928512e45c",
     "locked": true,
     "points": 0.05,
     "schema_version": 3,
     "solution": false,
     "task": false
    }
   },
   "outputs": [],
   "source": [
    "assert honor_code"
   ]
  },
  {
   "cell_type": "markdown",
   "id": "46fc1f85",
   "metadata": {
    "nbgrader": {
     "grade": false,
     "grade_id": "cell-02c224df67abdd00",
     "locked": true,
     "schema_version": 3,
     "solution": false,
     "task": false
    }
   },
   "source": [
    "### Background\n",
    "\n",
    "On the in-person portion of the midterm you were told the following: You sat down to write code to make a very basic memory game. The idea here is that there will be three functions: 1) a function that displays a single character; 2) a function that displays a set of characters;  3) a function that determines if the single character is in the set of characters. Now, let's write the code for those functions!"
   ]
  },
  {
   "cell_type": "markdown",
   "id": "b3bd1eac",
   "metadata": {
    "nbgrader": {
     "grade": false,
     "grade_id": "cell-643966fe4c9a689b",
     "locked": true,
     "schema_version": 3,
     "solution": false,
     "task": false
    }
   },
   "source": [
    "### Q1 - Function execution (0.6 pts)\n",
    "\n",
    "On the midterm you were provided the function provided beow and had the opportunity to describe how the function worked. \n",
    "\n",
    "Here, now that you have understanding, **execute the function** such that the provided `assert` statements for this question pass silently."
   ]
  },
  {
   "cell_type": "code",
   "execution_count": 3,
   "id": "5ed10c67",
   "metadata": {
    "nbgrader": {
     "grade": false,
     "grade_id": "cell-405183a90bf9084d",
     "locked": true,
     "schema_version": 3,
     "solution": false,
     "task": false
    }
   },
   "outputs": [],
   "source": [
    "def display_char(index):\n",
    "    \n",
    "    objects = ['x', 'ã', 'ƫ', '%', '§', '¶',\n",
    "              'Ł', 'Œ', 'Ɓ', 'Ɍ', 'Ɏ', 'ḉ']\n",
    "    \n",
    "    char = objects[index]\n",
    "    \n",
    "    return char"
   ]
  },
  {
   "cell_type": "code",
   "execution_count": 4,
   "id": "c65e44f1",
   "metadata": {
    "nbgrader": {
     "grade": false,
     "grade_id": "cell-2a38de5f23e685d9",
     "locked": false,
     "schema_version": 3,
     "solution": true,
     "task": false
    }
   },
   "outputs": [
    {
     "name": "stdout",
     "output_type": "stream",
     "text": [
      "¶ ƫ ḉ\n"
     ]
    }
   ],
   "source": [
    "### BEGIN SOLUTION\n",
    "out1 = display_char(5)\n",
    "out2 = display_char(2)\n",
    "out3 = display_char(-1)\n",
    "\n",
    "print(out1, out2, out3)\n",
    "### END SOLUTION"
   ]
  },
  {
   "cell_type": "code",
   "execution_count": 5,
   "id": "c1012530",
   "metadata": {},
   "outputs": [],
   "source": [
    "# you can use this cell to test/execute/check your thinking (optional)"
   ]
  },
  {
   "cell_type": "code",
   "execution_count": 6,
   "id": "24f8c15f",
   "metadata": {
    "nbgrader": {
     "grade": true,
     "grade_id": "cell-cefd6931782badca",
     "locked": true,
     "points": 0.2,
     "schema_version": 3,
     "solution": false,
     "task": false
    }
   },
   "outputs": [],
   "source": [
    "assert out1 == '¶'"
   ]
  },
  {
   "cell_type": "code",
   "execution_count": 7,
   "id": "7b2dbfd0",
   "metadata": {
    "nbgrader": {
     "grade": true,
     "grade_id": "cell-4d4b6be5704a8dff",
     "locked": true,
     "points": 0.2,
     "schema_version": 3,
     "solution": false,
     "task": false
    }
   },
   "outputs": [],
   "source": [
    "assert out2 == 'ƫ'"
   ]
  },
  {
   "cell_type": "code",
   "execution_count": 8,
   "id": "3b00dd47",
   "metadata": {
    "nbgrader": {
     "grade": true,
     "grade_id": "cell-98e932482181ba1a",
     "locked": true,
     "points": 0.2,
     "schema_version": 3,
     "solution": false,
     "task": false
    }
   },
   "outputs": [],
   "source": [
    "assert out3 == 'ḉ'"
   ]
  },
  {
   "cell_type": "markdown",
   "id": "60c839d2",
   "metadata": {
    "nbgrader": {
     "grade": false,
     "grade_id": "cell-7aace9d2e3f98133",
     "locked": true,
     "schema_version": 3,
     "solution": false,
     "task": false
    }
   },
   "source": [
    "### Q2 - Debugging a function (0.4 pts)\n",
    "\n",
    "The following function was provided on the midterm: \n",
    "\n",
    "```python\n",
    "def display_objects(start, stop, skip):\n",
    "    \n",
    "    objects = ['x', 'ã', 'ƫ', '%', '§', '¶',\n",
    "              'Ł', 'Œ', 'Ɓ', 'Ɍ', 'Ɏ', 'ḉ']\n",
    "    \n",
    "    objects[start:stop:skip]\n",
    "    \n",
    "    return objects\n",
    "```\n",
    "\n",
    "...with the following additional information: \n",
    "\n",
    "> You sit down to write a function (`display_objects`) that will return a slice of a specified list (`objects`). The idea is that, when executed, the function would use the values specified for the three parameters (`start`, `stop`, and `skip`)\n",
    "\n",
    "**Debug this function so that it accomplishes what you had intended.**"
   ]
  },
  {
   "cell_type": "code",
   "execution_count": 9,
   "id": "98d2d935",
   "metadata": {
    "nbgrader": {
     "grade": false,
     "grade_id": "cell-890ee14a107fa8f5",
     "locked": false,
     "schema_version": 3,
     "solution": true,
     "task": false
    }
   },
   "outputs": [],
   "source": [
    "### BEGIN SOLUTION\n",
    "def display_objects(start, stop, skip):\n",
    "    \n",
    "    objects = ['x', 'ã', 'ƫ', '%', '§', '¶',\n",
    "              'Ł', 'Œ', 'Ɓ', 'Ɍ', 'Ɏ', 'ḉ']\n",
    "    \n",
    "    output = objects[start:stop:skip]\n",
    "    \n",
    "    return output # could also return the output directly\n",
    "### END SOLUTION"
   ]
  },
  {
   "cell_type": "code",
   "execution_count": 10,
   "id": "32b02a42",
   "metadata": {},
   "outputs": [],
   "source": [
    "# you can use this cell to test/execute/check your thinking (optional)"
   ]
  },
  {
   "cell_type": "code",
   "execution_count": 11,
   "id": "d4137b51",
   "metadata": {
    "nbgrader": {
     "grade": true,
     "grade_id": "cell-7d903b9bfc07d385",
     "locked": true,
     "points": 0.4,
     "schema_version": 3,
     "solution": false,
     "task": false
    }
   },
   "outputs": [],
   "source": [
    "assert callable(display_objects)\n",
    "\n",
    "# hidden tests that check the function works as specified\n",
    "### BEGIN HIDDEN TESTS\n",
    "assert display_objects(0,1,1) == ['x']\n",
    "assert display_objects(1,6,2) == ['ã', '%', '¶']\n",
    "### END HIDDEN TESTS"
   ]
  },
  {
   "cell_type": "markdown",
   "id": "cb4a99ad",
   "metadata": {
    "nbgrader": {
     "grade": false,
     "grade_id": "cell-416a0d94c1e30c53",
     "locked": true,
     "schema_version": 3,
     "solution": false,
     "task": false
    }
   },
   "source": [
    "### Q3 - Defining a function (1.45 pts)\n",
    "\n",
    "Define a function `determine_match`. \n",
    "\n",
    "This function should take in two parameters, `char` (the output from `display_char`) and `list_of_objects` (the output from `display_objects`).\n",
    "\n",
    "If the output from `display_char` is in an element in the output from `display_objects`, this function should `return` `True`; otherwise, it should `return` `False`. \n",
    "\n",
    "For example:\n",
    "- `determine_match(display_char(5), display_objects(1,6,2))` should `return` `True`\n",
    "- `determine_match(display_char(0), display_objects(1,6,2))` should `return` `False`"
   ]
  },
  {
   "cell_type": "code",
   "execution_count": 15,
   "id": "0beae675",
   "metadata": {
    "nbgrader": {
     "grade": false,
     "grade_id": "cell-5406a3284790c7de",
     "locked": false,
     "schema_version": 3,
     "solution": true,
     "task": false
    }
   },
   "outputs": [],
   "source": [
    "### BEGIN SOLUTION\n",
    "def determine_match(char, list_of_objects):\n",
    "\n",
    "    if char in list_of_objects:\n",
    "        output = True\n",
    "    else:\n",
    "        output = False\n",
    "    \n",
    "    return output\n",
    "### END SOLUTION"
   ]
  },
  {
   "cell_type": "code",
   "execution_count": 13,
   "id": "d83047eb",
   "metadata": {},
   "outputs": [],
   "source": [
    "# you can use this cell to test/execute/check your thinking (optional)"
   ]
  },
  {
   "cell_type": "code",
   "execution_count": 13,
   "id": "e0791229",
   "metadata": {
    "nbgrader": {
     "grade": true,
     "grade_id": "cell-b6f17c05f4455dff",
     "locked": true,
     "points": 0.25,
     "schema_version": 3,
     "solution": false,
     "task": false
    },
    "scrolled": true
   },
   "outputs": [],
   "source": [
    "assert callable(determine_match)\n",
    "\n",
    "# hidden test that checks the output is of the expected type\n",
    "### BEGIN HIDDEN TESTS\n",
    "# note: this would still give credit, even if you had an error earlier\n",
    "assert type(determine_match('a', ['a','b']))\n",
    "### END HIDDEN TESTS"
   ]
  },
  {
   "cell_type": "code",
   "execution_count": 14,
   "id": "3e96130a",
   "metadata": {
    "nbgrader": {
     "grade": true,
     "grade_id": "cell-1ce6db55cfb0fe1a",
     "locked": true,
     "points": 0.25,
     "schema_version": 3,
     "solution": false,
     "task": false
    }
   },
   "outputs": [],
   "source": [
    "# hidden tests that check the parameter names\n",
    "### BEGIN HIDDEN TESTS\n",
    "# note: this would still give credit, even if you had an error earlier\n",
    "assert determine_match(char='a', list_of_objects=['a','b'])\n",
    "assert not determine_match(char='c', list_of_objects=['a','b'])\n",
    "### END HIDDEN TESTS"
   ]
  },
  {
   "cell_type": "code",
   "execution_count": 15,
   "id": "543f4bb4",
   "metadata": {
    "nbgrader": {
     "grade": true,
     "grade_id": "cell-1ff39fd3a0967d23",
     "locked": true,
     "points": 0.5,
     "schema_version": 3,
     "solution": false,
     "task": false
    }
   },
   "outputs": [],
   "source": [
    "# hidden tests that check the provided examples\n",
    "### BEGIN HIDDEN TESTS\n",
    "# note: this requires all three functions to work  to get credit\n",
    "assert determine_match(display_char(5), display_objects(1,6,2))\n",
    "assert not determine_match(display_char(0), display_objects(1,6,2))\n",
    "### END HIDDEN TESTS"
   ]
  },
  {
   "cell_type": "code",
   "execution_count": 16,
   "id": "56b9b8f6",
   "metadata": {
    "nbgrader": {
     "grade": true,
     "grade_id": "cell-0cdb562a88b1d7d6",
     "locked": true,
     "points": 0.45,
     "schema_version": 3,
     "solution": false,
     "task": false
    }
   },
   "outputs": [],
   "source": [
    "# hidden tests that check overall functionality\n",
    "### BEGIN HIDDEN TESTS\n",
    "# note: this requires all three functions to work  to get credit\n",
    "assert not determine_match(char=display_char(5), list_of_objects=display_objects(1,6,3))\n",
    "assert determine_match(display_char(0), display_objects(0, 12, 4))\n",
    "### END HIDDEN TESTS"
   ]
  }
 ],
 "metadata": {
  "celltoolbar": "Create Assignment",
  "kernelspec": {
   "display_name": "Python 3 (ipykernel)",
   "language": "python",
   "name": "python3"
  },
  "language_info": {
   "codemirror_mode": {
    "name": "ipython",
    "version": 3
   },
   "file_extension": ".py",
   "mimetype": "text/x-python",
   "name": "python",
   "nbconvert_exporter": "python",
   "pygments_lexer": "ipython3",
   "version": "3.11.8"
  }
 },
 "nbformat": 4,
 "nbformat_minor": 5
}
