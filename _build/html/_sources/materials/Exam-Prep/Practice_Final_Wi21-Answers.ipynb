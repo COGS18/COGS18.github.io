{
 "cells": [
  {
   "cell_type": "markdown",
   "metadata": {
    "nbgrader": {
     "grade": false,
     "grade_id": "intro",
     "locked": true,
     "schema_version": 3,
     "solution": false
    }
   },
   "source": [
    "# COGS 18 - Practice Final Exam\n",
    "\n",
    "This is the practice final exam for Winter 2021. It covers topics through the end of the course.\n",
    "\n",
    "This exam is out of 0 points, worth 0% of your grade. (The real final will be worth 19% of your grade)\n",
    "\n",
    "**PLEASE DO NOT CHANGE THE NAME OF THIS FILE.**\n",
    "\n",
    "**PLEASE DO NOT COPY & PASTE OR DELETE CELLS INLCUDED IN THE EXAM.** (Note that you can add additional cells, if you want to test things out."
   ]
  },
  {
   "cell_type": "markdown",
   "metadata": {
    "nbgrader": {
     "grade": false,
     "grade_id": "instructions1",
     "locked": true,
     "schema_version": 3,
     "solution": false
    }
   },
   "source": [
    "## Instructions\n",
    "\n",
    "#### Timing\n",
    "- The exam is designed to take you ~2-3 hours.\n",
    "- If it takes you longer than 2-3 hours, you're free to use that time.\n",
    "\n",
    "#### The Rules\n",
    "- You are to complete this exam on your own.\n",
    "- This is open-notes & open-Google.\n",
    "- You may not talk to any humans about this exam. \n",
    "- The following are all *prohibited*:\n",
    "    - text/phone/online chat communication\n",
    "    - posting questions to a message board where a human could respond\n",
    "    - asking anyone via any form about a question on this test directly\n",
    "- Clarification questions will ***not*** be allowed and there will be no posting on Campuswire about the exam at all. \n",
    "    - Campuswire posts about the exam will not be answered and will be deleted. \n",
    "    - Students who post questions about the exam to Campuswire are at risk of losing points on the exam.\n",
    "    - If you are confused about wording, add a note to your exam explaining your confusion and how you interpreted the question. \n",
    "    - Note: This policy is b/c we are incapable of responding for 3d straight. This is the only way to make it fair across the board for students."
   ]
  },
  {
   "cell_type": "markdown",
   "metadata": {
    "nbgrader": {
     "grade": false,
     "grade_id": "instructions2",
     "locked": true,
     "schema_version": 3,
     "solution": false
    }
   },
   "source": [
    " <span style=\"color: red;\">Note: </span> There _is_ a chance for partial credit on some questions, so _some_ code is better than _no_ code. Even if it throws an error, having some code that partially answers the question will benefit you/your grade."
   ]
  },
  {
   "cell_type": "markdown",
   "metadata": {
    "nbgrader": {
     "grade": false,
     "grade_id": "part1",
     "locked": true,
     "schema_version": 3,
     "solution": false
    }
   },
   "source": [
    "## Part 1: Variables, Conditionals, & Loops (3.5 points)"
   ]
  },
  {
   "cell_type": "markdown",
   "metadata": {
    "nbgrader": {
     "grade": false,
     "grade_id": "q1",
     "locked": true,
     "schema_version": 3,
     "solution": false
    }
   },
   "source": [
    "### Q1 - Conditionals (2 points)\n",
    "\n",
    "**Goal**: Given a character, return the capitalized character in the reverse position within the alphabet in the variable `output`. For example, if the input character is 'A' or 'a', `output` would store 'Z'. If the character is 'B' or 'b', the `output` would store 'Y'. (and vice versa: the input 'Z' or 'z' would store 'A' in `output`).\n",
    "\n",
    "**Approach**:\n",
    "\n",
    "Using the three variables provided below (`alpha`, `reverse_alpha`, and `char`), write code to acommplish the following:\n",
    "- check if the in input variable (`char`) is a string of length 1:\n",
    "     - if it is:\n",
    "         - convert the input (`char`) to upper case\n",
    "         - check to see if this upper case value is a value in `alpha`\n",
    "             - if it is: use `reverse_alpha` (provided below) to store the reverse alphabetical position in `output`\n",
    "     - otherwise (if the input is not a string of length 1):\n",
    "         - `output` should store `None`          \n",
    "         \n",
    "Note: feel free to test your code with values of `char` other than `'m'`, but be sure that `char = 'm'` when you submit your exam."
   ]
  },
  {
   "cell_type": "code",
   "execution_count": 1,
   "metadata": {
    "nbgrader": {
     "grade": false,
     "grade_id": "q1-solution",
     "locked": false,
     "schema_version": 3,
     "solution": true
    },
    "scrolled": true
   },
   "outputs": [],
   "source": [
    "# these three variables provided\n",
    "alpha = 'ABCDEFGHIJKLMNOPQRSTUVWXYZ'\n",
    "reverse_alpha = 'ZYXWVUTSRQPONMLKJIHGFEDCBA'\n",
    "char = 'm'\n",
    "\n",
    "### BEGIN SOLUTION\n",
    "if type(char) == str and len(char) == 1:\n",
    "    char = char.upper()\n",
    "    if char in alpha:\n",
    "        position = alpha.find(char)\n",
    "        output = reverse_alpha[position]\n",
    "else: \n",
    "    output = None\n",
    "### END SOLUTION"
   ]
  },
  {
   "cell_type": "code",
   "execution_count": 2,
   "metadata": {
    "nbgrader": {
     "grade": true,
     "grade_id": "q1-test1",
     "locked": true,
     "points": 0.5,
     "schema_version": 3,
     "solution": false
    }
   },
   "outputs": [],
   "source": [
    "assert output is not None\n",
    "\n",
    "### BEGIN HIDDEN TESTS\n",
    "assert output == 'N'\n",
    "### END HIDDEN TESTS"
   ]
  },
  {
   "cell_type": "markdown",
   "metadata": {
    "nbgrader": {
     "grade": false,
     "grade_id": "q1-test2",
     "locked": true,
     "points": 1.5,
     "schema_version": 3,
     "solution": false,
     "task": true
    }
   },
   "source": [
    "**This \"blank\" cell included intentionally.** Do not do anything here. (It's being used in grading.)\n",
    "\n",
    "=== BEGIN MARK SCHEME ===\n",
    "\n",
    "- if hard-coded, no partial credit\n",
    "- correctly checks if str/length 1 (0.5)\n",
    "- converts to upper case correctly (0.25)\n",
    "- checks if in alpha correctly (0.25)\n",
    "- finds position in reverse list correctly (0.5) \n",
    "\n",
    "=== END MARK SCHEME ==="
   ]
  },
  {
   "cell_type": "markdown",
   "metadata": {
    "nbgrader": {
     "grade": false,
     "grade_id": "q2",
     "locked": true,
     "schema_version": 3,
     "solution": false
    }
   },
   "source": [
    "### Q2 - Loops (1.5 points)\n",
    "\n",
    "Let's build on that last question! \n",
    "\n",
    "Here, you will write code that will again find the reverse alphabetical position; however, in this code, you will need to be able to do this for an entire string, not just a single character. \n",
    "\n",
    "Your code should again use `alpha` and `reverse_alpha` (from Q1), but should return the character in the reverse alphabetical position for the entire string stored in `input_string`. Store the reverse alphabetical string (which should be in all CAPS in the variable `output_string`.\n",
    "\n",
    "If the upper case of any character in your string is not in `alpha`, `output_string` should store `None`.\n",
    "\n",
    "Notes:\n",
    "1. Your code can assume `input_string` is a string and your code does not need to check this.\n",
    "2. Feel free to test your code with values of `input_string` other than `'HELLO'`, but be sure that `input_string = 'HELLO'` when you submit your exam.\n"
   ]
  },
  {
   "cell_type": "code",
   "execution_count": 3,
   "metadata": {
    "nbgrader": {
     "grade": false,
     "grade_id": "q2-solution",
     "locked": false,
     "schema_version": 3,
     "solution": true
    }
   },
   "outputs": [
    {
     "data": {
      "text/plain": [
       "'SVOOL'"
      ]
     },
     "execution_count": 3,
     "metadata": {},
     "output_type": "execute_result"
    }
   ],
   "source": [
    "input_string = 'HELLO'\n",
    "\n",
    "### BEGIN SOLUTION\n",
    "output_string = ''\n",
    "\n",
    "for char in input_string:\n",
    "    char = char.upper()\n",
    "    if char in alpha:\n",
    "        position = alpha.find(char)\n",
    "        output_string += reverse_alpha[position]\n",
    "    else:\n",
    "        output_string = None\n",
    "        break\n",
    "        \n",
    "output_string\n",
    "### END SOLUTION"
   ]
  },
  {
   "cell_type": "code",
   "execution_count": 4,
   "metadata": {
    "nbgrader": {
     "grade": true,
     "grade_id": "q2-test1",
     "locked": true,
     "points": 0.5,
     "schema_version": 3,
     "solution": false
    }
   },
   "outputs": [],
   "source": [
    "assert output_string is not None\n",
    "\n",
    "### BEGIN HIDDEN TESTS\n",
    "assert output_string == 'SVOOL'\n",
    "### END HIDDEN TESTS"
   ]
  },
  {
   "cell_type": "markdown",
   "metadata": {
    "nbgrader": {
     "grade": false,
     "grade_id": "cell-96fc8acc8fb822fd",
     "locked": true,
     "points": 1,
     "schema_version": 3,
     "solution": false,
     "task": true
    }
   },
   "source": [
    "**This \"blank\" cell included intentionally.** Do not do anything here. (It's being used in grading.)\n",
    "\n",
    "=== BEGIN MARK SCHEME ===\n",
    "\n",
    "- if hard-coded, no points\n",
    "- loops through string correctly (0.25)\n",
    "- extends string correctly (0.5)\n",
    "- sets output_string to None correctly (0.25)\n",
    "\n",
    "=== END MARK SCHEME ==="
   ]
  },
  {
   "cell_type": "markdown",
   "metadata": {
    "nbgrader": {
     "grade": false,
     "grade_id": "part2",
     "locked": true,
     "schema_version": 3,
     "solution": false
    }
   },
   "source": [
    "## Part 2: Functions & Testing (5 points)"
   ]
  },
  {
   "cell_type": "markdown",
   "metadata": {
    "nbgrader": {
     "grade": false,
     "grade_id": "q3",
     "locked": true,
     "schema_version": 3,
     "solution": false
    }
   },
   "source": [
    "### Q3 - `atbash_encrypt` (2.5 points)\n",
    "\n",
    "Let's continue the process!\n",
    "\n",
    "Write a function `atbash_encrypt()` that takes a string as its input and returns the reverse alphabetical string as its output (the same task as Q2...just turning it into a function).\n",
    "\n",
    "Remember that functions have their own namespace, so you'll likely want to redefine `alpha` and `reverse_alpha` in your function directly. (I promise this will come in handy later in the exam...)"
   ]
  },
  {
   "cell_type": "code",
   "execution_count": 5,
   "metadata": {
    "nbgrader": {
     "grade": false,
     "grade_id": "q3-solution",
     "locked": false,
     "schema_version": 3,
     "solution": true
    }
   },
   "outputs": [],
   "source": [
    "### BEGIN SOLUTION\n",
    "def atbash_encrypt(input_string):\n",
    "    alpha = 'ABCDEFGHIJKLMNOPQRSTUVWXYZ'\n",
    "    reverse_alpha = 'ZYXWVUTSRQPONMLKJIHGFEDCBA'\n",
    "\n",
    "    output_string = ''\n",
    "\n",
    "    for char in input_string:\n",
    "        char = char.upper()\n",
    "        if char in alpha:\n",
    "            position = alpha.find(char)\n",
    "            output_string += reverse_alpha[position]\n",
    "        else:\n",
    "            output_string = None\n",
    "            break\n",
    "        \n",
    "    return output_string\n",
    "### END SOLUTION"
   ]
  },
  {
   "cell_type": "code",
   "execution_count": 6,
   "metadata": {},
   "outputs": [],
   "source": [
    "# BE SURE YOUR ANSWER IS IN THE CELL ABOVE\n",
    "# but you can use this cell to test/execute/check your function (optional)"
   ]
  },
  {
   "cell_type": "code",
   "execution_count": 7,
   "metadata": {
    "nbgrader": {
     "grade": true,
     "grade_id": "q3-test1",
     "locked": true,
     "points": 1.25,
     "schema_version": 3,
     "solution": false,
     "task": false
    }
   },
   "outputs": [],
   "source": [
    "assert atbash_encrypt is not None\n",
    "\n",
    "### BEGIN HIDDEN TESTS\n",
    "assert atbash_encrypt('cogs') == 'XLTH'\n",
    "### END HIDDEN TESTS"
   ]
  },
  {
   "cell_type": "code",
   "execution_count": 8,
   "metadata": {
    "nbgrader": {
     "grade": true,
     "grade_id": "q3-test2",
     "locked": true,
     "points": 1.25,
     "schema_version": 3,
     "solution": false
    }
   },
   "outputs": [],
   "source": [
    "assert callable(atbash_encrypt)\n",
    "\n",
    "### BEGIN HIDDEN TESTS\n",
    "assert atbash_encrypt('COGS') == 'XLTH'\n",
    "### END HIDDEN TESTS"
   ]
  },
  {
   "cell_type": "markdown",
   "metadata": {
    "nbgrader": {
     "grade": false,
     "grade_id": "q4",
     "locked": true,
     "schema_version": 3,
     "solution": false,
     "task": false
    }
   },
   "source": [
    "### Q4 - Test Function: `test_atbash_encrypt` (2.5 points)\n",
    "\n",
    "Write a test function `test_atbash_encrypt()` that:\n",
    "\n",
    "1. contains at least three asserts that test the functionality of `atbash_encrypt()`\n",
    "2. passes silently when executed"
   ]
  },
  {
   "cell_type": "code",
   "execution_count": 9,
   "metadata": {
    "nbgrader": {
     "grade": false,
     "grade_id": "q4-solution",
     "locked": false,
     "schema_version": 3,
     "solution": true,
     "task": false
    }
   },
   "outputs": [],
   "source": [
    "### BEGIN SOLUTION\n",
    "# specific tests will differ\n",
    "def test_atbash_encrypt():\n",
    "    assert callable(atbash_encrypt)\n",
    "    assert isinstance(atbash_encrypt('HELLO'), str)\n",
    "    assert atbash_encrypt('HELLO') == 'SVOOL'\n",
    "    assert atbash_encrypt('hello') == 'SVOOL'\n",
    "### END SOLUTION"
   ]
  },
  {
   "cell_type": "code",
   "execution_count": 10,
   "metadata": {},
   "outputs": [],
   "source": [
    "# BE SURE YOUR ANSWER IS IN THE CELL ABOVE\n",
    "# but you can use this cell to test/execute/check your function (optional)"
   ]
  },
  {
   "cell_type": "code",
   "execution_count": 11,
   "metadata": {
    "nbgrader": {
     "grade": true,
     "grade_id": "q4-test1",
     "locked": true,
     "points": 1,
     "schema_version": 3,
     "solution": false,
     "task": false
    }
   },
   "outputs": [],
   "source": [
    "assert callable(test_atbash_encrypt)\n",
    "\n",
    "### BEGIN HIDDEN TESTS\n",
    "try:\n",
    "    test_atbash_encrypt()\n",
    "    out = 'good'\n",
    "except:\n",
    "    out = 'bad'\n",
    "    \n",
    "assert out == 'good'\n",
    "### END HIDDEN TESTS"
   ]
  },
  {
   "cell_type": "markdown",
   "metadata": {
    "nbgrader": {
     "grade": false,
     "grade_id": "q4-test2",
     "locked": true,
     "points": 1.5,
     "schema_version": 3,
     "solution": false,
     "task": true
    }
   },
   "source": [
    "##### **This \"blank\" cell included intentionally.** Do not do anything here. (It's being used in grading.)\n",
    "\n",
    "=== BEGIN MARK SCHEME ===\n",
    "\n",
    "- test function defined correctly (0.25)\n",
    "- contains at least three asserts (0.5)\n",
    "- asserts are meaningful for function (0.75)\n",
    "\n",
    "=== END MARK SCHEME ==="
   ]
  },
  {
   "cell_type": "markdown",
   "metadata": {
    "nbgrader": {
     "grade": false,
     "grade_id": "part-3",
     "locked": true,
     "schema_version": 3,
     "solution": false,
     "task": false
    }
   },
   "source": [
    "## Part 3: Style & Documentation (11 points)"
   ]
  },
  {
   "cell_type": "markdown",
   "metadata": {
    "nbgrader": {
     "grade": false,
     "grade_id": "q5",
     "locked": true,
     "schema_version": 3,
     "solution": false
    }
   },
   "source": [
    "### Q5 - Code Style (3 points)\n",
    "\n",
    "In the file `atbash.py`, there is a function `atbash_decrypt()`. The code is functional and the function name is the name we want; however, within the function, the variable naming and code style need improvement. And, documentation and code comments are completely missing.\n",
    "\n",
    "Edit the function in `atbash.py` to:\n",
    "1. Improve the function's variable naming (but: do *not* change the function's name)\n",
    "2. Improve the overall code style (using what we discussed in class about PEP8)\n",
    "3. Add a `numpy` style docstring (at the level discussed in class)\n",
    "4. Add code comments where needed\n",
    "\n",
    "Be sure to save changes in `atbash.py` when completed. \n",
    "\n",
    "Note: You do not have to actually add any code to this notebook for this question. All changes occur in `atbash.py`. (Partial credit for this question is awarded at the end of the exam.)"
   ]
  },
  {
   "cell_type": "markdown",
   "metadata": {
    "nbgrader": {
     "grade": false,
     "grade_id": "q6",
     "locked": true,
     "schema_version": 3,
     "solution": false
    }
   },
   "source": [
    "### Q6 - `atbash.py` (1 point)\n",
    "\n",
    "You now have two functions and two test functions, but they're not all yet organized! Let's do that now...\n",
    "\n",
    "**`atbash.py`**\n",
    "1. Add `atbash_encrypt()` (from Q3) to `atbash.py`\n",
    "2. Add a `numpy`-style docstring & appropriate code comments to `atbash_encrypt()` (if you haven't already) in `atbash.py`.\n",
    "3. Double check the naming/code style used in `atbash_encrypt()` - improve if needed\n",
    "\n",
    "**`test_atbash.py`**\n",
    "1. Add `test_atbash_encrypt` (from Q4) to `test_atbash.py`\n",
    "2. Update `import` statement at top (if needed)\n",
    "\n",
    "Once completed, `import` both of the functions from `atbash.py` below, such that the code `ab.atbash_encrypt('HELLO')` and `ab.atbash_decrypt('SVOOL')` both execute without issue.\n",
    "\n",
    "Note: You may have to restart your kernel for the `import` to work without issue.\n",
    "\n",
    "The assert cells below this question only test the import. The style/tests will be manually graded in Q7 (which is why that one is worth so many points)."
   ]
  },
  {
   "cell_type": "code",
   "execution_count": 12,
   "metadata": {
    "nbgrader": {
     "grade": false,
     "grade_id": "q6-solution",
     "locked": false,
     "schema_version": 3,
     "solution": true
    }
   },
   "outputs": [],
   "source": [
    "### BEGIN SOLUTION\n",
    "import atbash as ab\n",
    "### END SOLUTION"
   ]
  },
  {
   "cell_type": "code",
   "execution_count": 13,
   "metadata": {},
   "outputs": [],
   "source": [
    "# BE SURE YOUR ANSWER IS IN THE CELL ABOVE\n",
    "# but you can use this cell to check your work (optional)"
   ]
  },
  {
   "cell_type": "code",
   "execution_count": 14,
   "metadata": {
    "nbgrader": {
     "grade": true,
     "grade_id": "q6-test1",
     "locked": true,
     "points": 0.5,
     "schema_version": 3,
     "solution": false
    }
   },
   "outputs": [],
   "source": [
    "assert callable(ab.atbash_encrypt)\n",
    "\n",
    "# hidden test to ensure atbash_encrypt works on import\n",
    "### BEGIN HIDDEN TESTS\n",
    "assert ab.atbash_encrypt('HELLO') == 'SVOOL'\n",
    "### END HIDDEN TESTS"
   ]
  },
  {
   "cell_type": "code",
   "execution_count": 15,
   "metadata": {
    "nbgrader": {
     "grade": true,
     "grade_id": "q6-test2",
     "locked": true,
     "points": 0.5,
     "schema_version": 3,
     "solution": false,
     "task": false
    },
    "scrolled": true
   },
   "outputs": [],
   "source": [
    "assert callable(ab.atbash_decrypt)\n",
    "\n",
    "# hidden test to ensure atbash_decrypt works on import\n",
    "### BEGIN HIDDEN TESTS\n",
    "assert ab.atbash_decrypt('SVOOL') == 'HELLO'\n",
    "### END HIDDEN TESTS"
   ]
  },
  {
   "cell_type": "markdown",
   "metadata": {
    "nbgrader": {
     "grade": false,
     "grade_id": "q7",
     "locked": true,
     "schema_version": 3,
     "solution": false,
     "task": false
    }
   },
   "source": [
    "### Q7 - `atbash_wrapper` (7.25 points)\n",
    "\n",
    "Your module now has two functions (in `atbash.py`) and two accompanying test functions (in `test_atbash.py`). Let's add one final function and one final test function to complete the project.\n",
    "\n",
    "Steps:\n",
    "- Add a function `atbash_wrapper()` to `atbash.py` \n",
    "    - It should take two input parameters: `input_string` and `method`\n",
    "    - Within the function:\n",
    "        - if `method = 'encrypt'`, use `atbash_encrypt()` with `input_string` as the input to the function, returning, the output\n",
    "        - if `method = 'decrypt'`, use `atbash_decrypt()` with `input_string` as the input to the function, returning the output\n",
    "        - if `method` is anything other than these two specific strings, the function should `return` the string \"Expecting method to be either 'encrypt' or 'decrypt'\".  <- Just copy + paste the string to avoid typing issues :)\n",
    "- Add a test function `test_atbash_wrapper()` to `test_atbash.py` to test the functionality of `atbash_wrapper()`\n",
    "    - This test should contain at least three `asserts` and should pass silently\n",
    "    - Update imports at the top of the file (if needed)"
   ]
  },
  {
   "cell_type": "code",
   "execution_count": 16,
   "metadata": {},
   "outputs": [],
   "source": [
    "# After accomplishing tasks above, feel free to use this cell to check your work (optional)"
   ]
  },
  {
   "cell_type": "code",
   "execution_count": 1,
   "metadata": {
    "nbgrader": {
     "grade": true,
     "grade_id": "q7-test1",
     "locked": true,
     "points": 0.75,
     "schema_version": 3,
     "solution": false,
     "task": false
    }
   },
   "outputs": [],
   "source": [
    "# tests to ensure wrapper function works for decryption\n",
    "\n",
    "### BEGIN HIDDEN TESTS\n",
    "import atbash as ab\n",
    "assert ab.atbash_wrapper('HELLO', 'decrypt') == 'SVOOL'\n",
    "### END HIDDEN TESTS"
   ]
  },
  {
   "cell_type": "code",
   "execution_count": 2,
   "metadata": {
    "nbgrader": {
     "grade": true,
     "grade_id": "q7-test2",
     "locked": true,
     "points": 0.75,
     "schema_version": 3,
     "solution": false,
     "task": false
    }
   },
   "outputs": [],
   "source": [
    "# tests to ensure wrapper function works for encryption\n",
    "\n",
    "### BEGIN HIDDEN TESTS\n",
    "assert ab.atbash_wrapper('SVOOL', 'encrypt') == 'HELLO'\n",
    "### END HIDDEN TESTS"
   ]
  },
  {
   "cell_type": "code",
   "execution_count": 3,
   "metadata": {
    "nbgrader": {
     "grade": true,
     "grade_id": "q7-test3",
     "locked": true,
     "points": 0.75,
     "schema_version": 3,
     "solution": false,
     "task": false
    }
   },
   "outputs": [],
   "source": [
    "# tests to ensure wrapper function works when method is anything other than encrypt or decrypt\n",
    "\n",
    "### BEGIN HIDDEN TESTS\n",
    "assert ab.atbash_wrapper('SVOOL', 'blargh') == \"Expecting method to be either 'encrypt' or 'decrypt'\"\n",
    "### END HIDDEN TESTS"
   ]
  },
  {
   "cell_type": "code",
   "execution_count": 6,
   "metadata": {
    "nbgrader": {
     "grade": true,
     "grade_id": "q7-test4",
     "locked": true,
     "points": 1.25,
     "schema_version": 3,
     "solution": false,
     "task": false
    }
   },
   "outputs": [],
   "source": [
    "# tests to ensure test functions pass silently\n",
    "# uses pytest\n",
    "\n",
    "### BEGIN HIDDEN TESTS\n",
    "out = !pytest test_atbash.py\n",
    "assert out.grep(\"ERRORS\") == []\n",
    "assert out.grep(\"FAILED\") == []\n",
    "### END HIDDEN TESTS"
   ]
  },
  {
   "cell_type": "markdown",
   "metadata": {
    "nbgrader": {
     "grade": false,
     "grade_id": "q7-test5",
     "locked": true,
     "points": 1.5,
     "schema_version": 3,
     "solution": false,
     "task": true
    }
   },
   "source": [
    "**This \"blank\" cell included intentionally.** Do not do anything here. (It's being used in grading code style and documentation of `atbash_encrypt` in `atbash.py`.)\n",
    "\n",
    "\n",
    "=== BEGIN MARK SCHEME ===\n",
    "\n",
    "partial credit for `atbash_encrypt` in `atbash.py`:   \n",
    "- has numpy-style docstring & comments (**0.75 points**)\n",
    "- uses good naming/API + Code Style (**0.75 points**)\n",
    "\n",
    "=== END MARK SCHEME ==="
   ]
  },
  {
   "cell_type": "markdown",
   "metadata": {
    "nbgrader": {
     "grade": false,
     "grade_id": "cell-c5b316b08c00c710",
     "locked": true,
     "points": 3,
     "schema_version": 3,
     "solution": false,
     "task": true
    }
   },
   "source": [
    "**This \"blank\" cell included intentionally.** Do not do anything here. (It's being used in grading code style and documentation of `atbash_decrypt` in `atbash.py`, from Q5.)\n",
    "\n",
    "\n",
    "=== BEGIN MARK SCHEME ===\n",
    "\n",
    "`atbash_decrypt` in `atbash.py` (partial credit from Q5)\n",
    "- has numpy style docstring (**0.75 points**)\n",
    "- has at least one good code comment; does not comment every line (**0.75 points**)\n",
    "- has good Code Style (**0.75 points**)\n",
    "    - some line spacing\n",
    "    - spacing around operators\n",
    "- has better naming (**0.75 points**) \n",
    "    - `l` is no longer `l` \n",
    "    - `alpha`/`reverse_alpha` are lowercase\n",
    "    - `letter_index` uses snakecase\n",
    "\n",
    "=== END MARK SCHEME ==="
   ]
  },
  {
   "cell_type": "markdown",
   "metadata": {
    "nbgrader": {
     "grade": false,
     "grade_id": "cell-3121c72e66b1b364",
     "locked": true,
     "points": 2,
     "schema_version": 3,
     "solution": false,
     "task": true
    }
   },
   "source": [
    "**This \"blank\" cell included intentionally.** Do not do anything here. (It's being used in grading tests and imports in `test_atbash.py`)\n",
    "\n",
    "\n",
    "=== BEGIN MARK SCHEME ===\n",
    "\n",
    "partial credit for `test_atbash.py`:\n",
    "- contains `test_atbash_encrypt` & `test_wrapper` (**1 point**)\n",
    "- all 3 functions inported at top correctly (**0.5 points**)\n",
    "- agreement between import at top and how used in tests (**0.5 points**)\n",
    "\n",
    "=== END MARK SCHEME ==="
   ]
  },
  {
   "cell_type": "markdown",
   "metadata": {
    "nbgrader": {
     "grade": false,
     "grade_id": "part-4",
     "locked": true,
     "schema_version": 3,
     "solution": false,
     "task": false
    }
   },
   "source": [
    "## Part 4: True/False (1.5 points)"
   ]
  },
  {
   "cell_type": "markdown",
   "metadata": {
    "nbgrader": {
     "grade": false,
     "grade_id": "q8",
     "locked": true,
     "schema_version": 3,
     "solution": false,
     "task": false
    }
   },
   "source": [
    "### Q8 - True/False (1.5 points)\n",
    "\n",
    "Following the instructions & example above, store the appropriate boolean in the variable provided for each of the following statements:\n",
    "\n",
    "- `function_names` | `basketball_game` is a better function name than `BasketballGame`\n",
    "- `pwd` | `pwd` is a shell command that prints your current working directory\n",
    "- `cd` | `cd` is a shell command that lists the files in your current working directory\n",
    "- `relative_paths` | relative paths specify location relative to the computer's root directory\n",
    "- `script` | To execute a script `my_script.py` from a Jupyter Notebook in the same directory, the cell would contain `!python my_script.py`\n",
    "- `module` | To import a module `my_module.py` from a Jupyter Notebook in the same directory, the cell would contain `import my_module.py`"
   ]
  },
  {
   "cell_type": "code",
   "execution_count": null,
   "metadata": {
    "nbgrader": {
     "grade": false,
     "grade_id": "q8a",
     "locked": false,
     "schema_version": 3,
     "solution": true,
     "task": false
    }
   },
   "outputs": [],
   "source": [
    "### BEGIN SOLUTION\n",
    "function_names = True\n",
    "pwd = True\n",
    "cd = False\n",
    "relative_paths = False\n",
    "script = True\n",
    "module = False\n",
    "### END SOLUTION"
   ]
  },
  {
   "cell_type": "code",
   "execution_count": null,
   "metadata": {
    "nbgrader": {
     "grade": true,
     "grade_id": "q8-test1",
     "locked": true,
     "points": 0.25,
     "schema_version": 3,
     "solution": false,
     "task": false
    }
   },
   "outputs": [],
   "source": [
    "assert function_names is not None\n",
    "\n",
    "### BEGIN HIDDEN TESTS\n",
    "assert function_names\n",
    "### END HIDDEN TESTS"
   ]
  },
  {
   "cell_type": "code",
   "execution_count": null,
   "metadata": {
    "nbgrader": {
     "grade": true,
     "grade_id": "q8-test2",
     "locked": true,
     "points": 0.25,
     "schema_version": 3,
     "solution": false,
     "task": false
    }
   },
   "outputs": [],
   "source": [
    "assert pwd is not None\n",
    "\n",
    "### BEGIN HIDDEN TESTS\n",
    "assert pwd\n",
    "### END HIDDEN TESTS"
   ]
  },
  {
   "cell_type": "code",
   "execution_count": null,
   "metadata": {
    "nbgrader": {
     "grade": true,
     "grade_id": "q8-test3",
     "locked": true,
     "points": 0.25,
     "schema_version": 3,
     "solution": false,
     "task": false
    }
   },
   "outputs": [],
   "source": [
    "assert cd is not None\n",
    "\n",
    "### BEGIN HIDDEN TESTS\n",
    "assert not cd\n",
    "### END HIDDEN TESTS"
   ]
  },
  {
   "cell_type": "code",
   "execution_count": null,
   "metadata": {
    "nbgrader": {
     "grade": true,
     "grade_id": "q8-test4",
     "locked": true,
     "points": 0.25,
     "schema_version": 3,
     "solution": false,
     "task": false
    }
   },
   "outputs": [],
   "source": [
    "assert relative_paths is not None\n",
    "\n",
    "### BEGIN HIDDEN TESTS\n",
    "assert not relative_paths\n",
    "### END HIDDEN TESTS"
   ]
  },
  {
   "cell_type": "code",
   "execution_count": null,
   "metadata": {
    "nbgrader": {
     "grade": true,
     "grade_id": "q8-test5",
     "locked": true,
     "points": 0.25,
     "schema_version": 3,
     "solution": false,
     "task": false
    }
   },
   "outputs": [],
   "source": [
    "assert script is not None\n",
    "\n",
    "### BEGIN HIDDEN TESTS\n",
    "assert script\n",
    "### END HIDDEN TESTS"
   ]
  },
  {
   "cell_type": "code",
   "execution_count": null,
   "metadata": {
    "nbgrader": {
     "grade": true,
     "grade_id": "q8-tests6",
     "locked": true,
     "points": 0.25,
     "schema_version": 3,
     "solution": false,
     "task": false
    }
   },
   "outputs": [],
   "source": [
    "assert module is not None\n",
    "\n",
    "### BEGIN HIDDEN TESTS\n",
    "assert not module\n",
    "### END HIDDEN TESTS"
   ]
  },
  {
   "cell_type": "markdown",
   "metadata": {
    "nbgrader": {
     "grade": false,
     "grade_id": "fin",
     "locked": true,
     "schema_version": 3,
     "solution": false
    }
   },
   "source": [
    "### Practice Final Exam complete!\n",
    "\n",
    "Good work - you're done with the final exam!\n",
    "\n",
    "Check your work, and then when you're ready, **submit on datahub**.\n",
    "\n",
    "We will not have your exam until you click submit and see this show up under 'submitted assignments'."
   ]
  },
  {
   "cell_type": "markdown",
   "metadata": {},
   "source": [
    "### contents of atbash.py\n",
    "\n",
    "```python\n",
    "def atbash_decrypt(crypto):     \n",
    "    \"\"\"Decrypt Message using atbash method, returning reverse alphabetical position. \n",
    "    \n",
    "    Parameters\n",
    "    ----------\n",
    "    crypto : string\n",
    "        The string to be decrypted.\n",
    "    \n",
    "    Returns\n",
    "    -------\n",
    "    message : string\n",
    "        The atbash decrypted message. \n",
    "    \"\"\"\n",
    "    \n",
    "    alpha = 'ABCDEFGHIJKLMNOPQRSTUVWXYZ'\n",
    "    reverse_alpha = 'ZYXWVUTSRQPONMLKJIHGFEDCBA'\n",
    "    message = ''\n",
    "    crypto = crypto.upper()\n",
    "   \n",
    "    for char in crypto:\n",
    "        # if char in crypto is found, \n",
    "        # return indexed letters from reverse alpha\n",
    "        if char in reverse_alpha:\n",
    "            letter_index = reverse_alpha.find(char)\n",
    "            message = message + alpha[letter_index]\n",
    "        else: message = message + char\n",
    "        \n",
    "    return message\n",
    "\n",
    "\n",
    "def atbash_encrypt(input_string):\n",
    "    \"\"\"Reverse alphabetical position of letters within a string. \n",
    "    \n",
    "    Parameters\n",
    "    ----------\n",
    "    input_string : string\n",
    "        string to be encrypthed\n",
    "        \n",
    "    Returns\n",
    "    -------\n",
    "    answer : string\n",
    "        The encrypted string, storing the reverse alphabetical position of input string. \n",
    "    \"\"\"\n",
    "   \n",
    "    alpha = 'ABCDEFGHIJKLMNOPQRSTUVWXYZ'\n",
    "    reverse_alpha = 'ZYXWVUTSRQPONMLKJIHGFEDCBA'\n",
    "    output_string = ''\n",
    "    \n",
    "    for char in input_string:\n",
    "        char = char.upper()  # covert to upper case\n",
    "    \n",
    "        if char.isalpha():\n",
    "            index = alpha.index(char)  # get position\n",
    "            output_string += reverse_alpha[index]\n",
    "        else:\n",
    "            output_string += char\n",
    "        \n",
    "    return output_string\n",
    "\n",
    "\n",
    "        \n",
    "def atbash_wrapper(input_string, method):\n",
    "    \"\"\"Reverse alphabetical position of letters within a string. \n",
    "    \n",
    "    Parameters\n",
    "    ----------\n",
    "    input_string : string\n",
    "        string to be encrypted or decrypted\n",
    "    method: string\n",
    "        The method to use (\"encrypt\" or \"decrypt\")\n",
    "        \n",
    "    Returns\n",
    "    -------\n",
    "    ouput : string\n",
    "        The string, either encrypted or decrypted as indicated by method. \n",
    "    \"\"\"\n",
    "           \n",
    "    if method == 'encrypt':\n",
    "        output = atbash_encrypt(input_string)\n",
    "    elif method == 'decrypt':\n",
    "        output = atbash_decrypt(input_string)\n",
    "    else:\n",
    "        output = \"Expecting method to be either 'encrypt' or 'decrypt'\"\n",
    "    \n",
    "    return output\n",
    "```"
   ]
  },
  {
   "cell_type": "markdown",
   "metadata": {},
   "source": [
    "### contents of test_atbash.py\n",
    "\n",
    "Note: Your specific tests could differ\n",
    "\n",
    "```python\n",
    "from atbash import atbash_decrypt, atbash_encrypt, atbash_wrapper\n",
    "\n",
    "def test_atbash_decrypt():\n",
    "\n",
    "    assert callable(atbash_decrypt)\n",
    "    assert isinstance(atbash_decrypt(\"HMVZPB KBGSLM HMZPV\"), str)\n",
    "    assert atbash_decrypt(\"HMVZPB KBGSLM HMZPV\") == \"SNEAKY PYTHON SNAKE\"\n",
    "\n",
    "def test_atbash_encrypt():\n",
    "    \n",
    "    assert callable(atbash_encrypt)\n",
    "    assert isinstance(atbash_encrypt(\"VCZN\"), str)\n",
    "    assert atbash_decrypt(\"VCZN\") == \"EXAM\"\n",
    "    \n",
    "    \n",
    "def test_atbash_wrapper():\n",
    "    \n",
    "    assert callable(atbash_wrapper)\n",
    "    assert atbash_wrapper(\"HMVZPB KBGSLM HMZPV\", \"decrypt\") == \"SNEAKY PYTHON SNAKE\"\n",
    "    assert atbash_wrapper(\"SNEAKY PYTHON SNAKE\", \"encrypt\") == \"HMVZPB KBGSLM HMZPV\"\n",
    "    \n",
    "```"
   ]
  }
 ],
 "metadata": {
  "celltoolbar": "Create Assignment",
  "kernelspec": {
   "display_name": "Python 3",
   "language": "python",
   "name": "python3"
  },
  "language_info": {
   "codemirror_mode": {
    "name": "ipython",
    "version": 3
   },
   "file_extension": ".py",
   "mimetype": "text/x-python",
   "name": "python",
   "nbconvert_exporter": "python",
   "pygments_lexer": "ipython3",
   "version": "3.7.9"
  }
 },
 "nbformat": 4,
 "nbformat_minor": 2
}
