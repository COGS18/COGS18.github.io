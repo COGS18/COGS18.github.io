{
 "cells": [
  {
   "cell_type": "markdown",
   "metadata": {
    "slideshow": {
     "slide_type": "slide"
    }
   },
   "source": [
    "**Course Announcements**\n",
    "\n",
    "- **E1** due Monday at 11:59 PM\n",
    "    - released this afternoon (I'll message via Campuswire)\n",
    "    - complete individually\n",
    "    - submit on datahub\n",
    "    - No lecture or office hours Monday\n",
    "- **A2** due *next Friday* 10/22 (11:59 PM)\n",
    "    - Recommended to complete before exam: Q1-2, 4-12\n",
    "- **CL4** will be released this afternoon; due Wed\n",
    "    - Loops practice; can complete all of it"
   ]
  },
  {
   "cell_type": "markdown",
   "metadata": {
    "slideshow": {
     "slide_type": "slide"
    }
   },
   "source": [
    "**Prof Ellis' Office Hours**\n",
    "\n",
    "![courtyar](../img/courtyard.png)"
   ]
  },
  {
   "cell_type": "markdown",
   "metadata": {
    "slideshow": {
     "slide_type": "notes"
    }
   },
   "source": [
    "**Q&A** \n",
    "\n",
    "Q: For loops, do we ever move through loops backwards?  \n",
    "A: You could, but we won't.\n",
    "\n",
    "Q: what is `isinstance`?  \n",
    "A: This returns True if the variable specified right after the parentheses is of the type specified after hte comma. For example `isinstance(6, int)` would return True b/c 6 is an integer. `isinstance(6, str)` would return False b/c 6 is not a string.\n",
    "\n",
    "Q: How can you use for loops to add all the numbers in a range together?  \n",
    "A: See discussions on campuswire. \n",
    "\n",
    "Q: Will the lectures always give examples that will help with the assignments? I’m stuck on Q7 on A2 and can’t seem to find an example similar.  \n",
    "A: You'll always have seen the basic concepts in lectures and coding labs needed to figure out the assignments. But, you won't always have a \"similar example.\" The idea is if you really understand the concept, you can figure out the question's answer. If you're just trying to copy+paste and \"make it work,\" you'll struggle on a handful of questions.\n",
    "\n",
    "Q: I am wondering why I got such a bad grade on A1, I need to re-evaluate and try to do my best. It's important I dont make the same mistakes twice.  \n",
    "A: Check your feedback on datahub, and come to office hours if still unsure. We definitely want to be sure you're clear and good to go for future assignments!\n",
    "\n",
    "Q: I am kind of iffy on the difference between continue and break when writing the loop.  \n",
    "A: `continue` means \"skip to the next iteration of the loop\"; `break` means break out of the loop. Do not go on. Do not go to the next iteration. Just stop.\n",
    "\n",
    "Q: To have access to my coding work in the future, I need something called Anaconda right? How do I set that up?  \n",
    "A: See part 3 of the first coding lab. You can download Anaconda to your computer.\n",
    "\n",
    "Q: Is there a great place to find coding help for specific issues or questions? google is not the most reliable  \n",
    "A: For this class, campuswire is the best place. \n",
    "\n",
    "Q: Does the \"continue\" apply only for the \"for\" or can it be used for other purposes? Can I apply \"continue\" to other situations other than for \"for\" and does it run completely from the top of the cell?  \n",
    "A: `continue` can be used in any loop; it runs from the top of the loop, not necessarily the top of the cell.\n",
    "\n",
    "Q: Can we have more than one \"and\" or \"or\" operator for a if condition?  \n",
    "A: Yup.\n",
    "\n",
    "Q: How do you define odd and even numbers in a range, and them add them together?  \n",
    "A: Think about the logic about how you can use range's `start`, `stop`, and `step` for the first part. Then, consider the logic you would need in the loop to add the values together.\n",
    "\n",
    "Q: For the break function, does it matter if you put break after the for statement or after the print statement?  \n",
    "A: Yes, if you put it before the `print()` statement, it will break before printing. If you put it after, it will `print` first."
   ]
  },
  {
   "cell_type": "markdown",
   "metadata": {
    "slideshow": {
     "slide_type": "slide"
    }
   },
   "source": [
    "# Exam 1 Review\n",
    "\n",
    "**Exam 1 Topics** (updated Friday 10/15)\n",
    "- Q0: Honor Code (0.15 points)\n",
    "- Variables & Operators (3.65 points)\n",
    "    - Q1: Variables\n",
    "    - Q2: Math Operators\n",
    "    - Q3: Comparison Operators\n",
    "    - Q4: Membership Operators\n",
    "    - Q5: String Concatenation\n",
    "- Collections & Indexing (2.5 points)\n",
    "    - Q6: Lists & Indexing\n",
    "    - Q7: Tuples\n",
    "    - Q8: Collections & Indexing\n",
    "- Control Flow - Conditionals & Loops (6.2 points)\n",
    "    - Q9: Conditionals\n",
    "    - Q10: `for` loop\n",
    "    - Q11: Accomplishing a task"
   ]
  },
  {
   "cell_type": "markdown",
   "metadata": {
    "slideshow": {
     "slide_type": "slide"
    }
   },
   "source": [
    "## Midterm Notes\n",
    "\n",
    "- I'm not trying to trick you:\n",
    "    - variable is `var_str`...it's going to be a string\n",
    "    - question is called \"Membership Operators\"...it's about membership operators\n",
    "- Do not hard code.\n",
    "- `assert`s will guide you less than on assignments\n",
    "- `append` helpful on one exam question"
   ]
  },
  {
   "cell_type": "code",
   "execution_count": 8,
   "metadata": {},
   "outputs": [
    {
     "data": {
      "text/plain": [
       "['a', 'b', 'c', 'd']"
      ]
     },
     "execution_count": 8,
     "metadata": {},
     "output_type": "execute_result"
    }
   ],
   "source": [
    "my_list = ['a', 'b', 'c']\n",
    "my_list.append('d')\n",
    "my_list"
   ]
  },
  {
   "cell_type": "markdown",
   "metadata": {
    "slideshow": {
     "slide_type": "slide"
    }
   },
   "source": [
    "**`while` loop review**\n",
    "\n",
    "- will loop until condition is false"
   ]
  },
  {
   "cell_type": "code",
   "execution_count": 9,
   "metadata": {},
   "outputs": [
    {
     "name": "stdout",
     "output_type": "stream",
     "text": [
      "Hello\n",
      "4\n",
      "next iteration\n",
      "Hello\n",
      "5\n",
      "next iteration\n",
      "Hello\n",
      "6\n",
      "next iteration\n",
      "Hello\n",
      "7\n",
      "next iteration\n",
      "Hello\n",
      "8\n",
      "next iteration\n",
      "Hello\n",
      "9\n",
      "next iteration\n",
      "Hello\n",
      "10\n",
      "next iteration\n",
      "Hello\n",
      "11\n",
      "next iteration\n"
     ]
    }
   ],
   "source": [
    "condition = 3\n",
    "\n",
    "while condition <= 10:\n",
    "    print('Hello')\n",
    "    condition = condition + 1\n",
    "    print(condition)\n",
    "    print('next iteration')"
   ]
  },
  {
   "cell_type": "code",
   "execution_count": 16,
   "metadata": {},
   "outputs": [],
   "source": [
    "var_a = \"I'm\"\n",
    "var_b = \"with the exam!\"\n",
    "\n",
    "options = [\"done\", \"finished\", \"tired of working\"]"
   ]
  },
  {
   "cell_type": "code",
   "execution_count": 17,
   "metadata": {},
   "outputs": [
    {
     "data": {
      "text/plain": [
       "\"I'm done with the exam.\""
      ]
     },
     "execution_count": 17,
     "metadata": {},
     "output_type": "execute_result"
    }
   ],
   "source": [
    "# hard-coding; what to avoid\n",
    "my_string = \"I'm done with the exam.\"\n",
    "my_string"
   ]
  },
  {
   "cell_type": "code",
   "execution_count": 18,
   "metadata": {},
   "outputs": [
    {
     "data": {
      "text/plain": [
       "\"I'm finished with the exam!\""
      ]
     },
     "execution_count": 18,
     "metadata": {},
     "output_type": "execute_result"
    }
   ],
   "source": [
    "my_string = var_a + ' ' + options[1] + ' ' + var_b\n",
    "my_string"
   ]
  },
  {
   "cell_type": "markdown",
   "metadata": {
    "slideshow": {
     "slide_type": "slide"
    }
   },
   "source": [
    "#### Clicker Question #1\n",
    "\n",
    "Which topic would you like to review on the practice midterm?\n",
    "\n",
    "- A) Variables & Operators\n",
    "- B) Collections & Indexing\n",
    "- C) Loops\n",
    "- D) Conditionals\n",
    "- E) Accomplishing a task"
   ]
  },
  {
   "cell_type": "markdown",
   "metadata": {
    "slideshow": {
     "slide_type": "slide"
    }
   },
   "source": [
    "#### Clicker Question #2\n",
    "\n",
    "Click in when you...\n",
    "\n",
    "- A) have finished\n",
    "- B) think you have finished but aren't totally sure\n",
    "- C) are stuck."
   ]
  },
  {
   "cell_type": "markdown",
   "metadata": {
    "slideshow": {
     "slide_type": "notes"
    }
   },
   "source": [
    "## Midterm Expectations\n",
    "\n",
    "You will be expected to: \n",
    "\n",
    "1. Recognize, understand and _respond_ to Python syntax:\n",
    "    - statements & comments, whitespace, code blocks & indentation levels\n",
    "2. Recognize, understand and be able to _explain_ code constructions:\n",
    "    - variables, operators, data types, conditionals, loops\n",
    "3. Know and be able to explain (roughly define) concepts we have talked about:\n",
    "    - encodings\n",
    "4. Be able to apply what you've learned:\n",
    "    - Given a task:\n",
    "        - what kind of code constructions are needed to answer it?\n",
    "        - what kind of concepts does it relate to?\n",
    "5. With respect to everything above, be able to read and respond to short code snippets and write out code."
   ]
  },
  {
   "cell_type": "markdown",
   "metadata": {
    "slideshow": {
     "slide_type": "slide"
    }
   },
   "source": [
    "### Reminder: \n",
    "\n",
    "There are two extra notebooks that you can use for review:\n",
    "\n",
    "1. [A1-Syntax](https://cogs18.github.io/materials/A1-Syntax.html)\n",
    "2. [A2-Examples](https://cogs18.github.io/materials/A2-Examples.html)\n",
    "\n",
    "There are also a few Exam #1 Practice Problems [here](https://cogs18.github.io/materials/Exam-Prep/E1-Practice.html).\n",
    "\n",
    "And, there is a practice Exam on datahub."
   ]
  },
  {
   "cell_type": "markdown",
   "metadata": {
    "slideshow": {
     "slide_type": "slide"
    }
   },
   "source": [
    "## Topics & Example Questions\n",
    "\n",
    "- Variables & Data Types\n",
    "- Operators\n",
    "- Conditionals\n",
    "- Loops\n",
    "\n",
    "Note: The questions below are _less_ involved than the questions on your midterm. These are meant to help guide your studying. If you're stuck on one of these, you know where to focus your studying."
   ]
  },
  {
   "cell_type": "markdown",
   "metadata": {
    "slideshow": {
     "slide_type": "slide"
    }
   },
   "source": [
    "### Variables & DataTypes\n",
    "\n",
    "Types:\n",
    "- strings, integers, floats, Booleans, None\n",
    "- Collections\n",
    "    - Lists\n",
    "    - Tuples\n",
    "    - Dictionaries\n",
    "\n",
    "Concepts:\n",
    "- Mutable vs. Immutable\n",
    "- Indexing"
   ]
  },
  {
   "cell_type": "markdown",
   "metadata": {
    "slideshow": {
     "slide_type": "slide"
    }
   },
   "source": [
    "#### Data Types Question #1\n",
    "\n",
    "What is the difference between a tuple and a list?"
   ]
  },
  {
   "cell_type": "markdown",
   "metadata": {
    "slideshow": {
     "slide_type": "fragment"
    }
   },
   "source": [
    "#### Data Types Question #2\n",
    "\n",
    "Given the following list: \n",
    "\n",
    "```python\n",
    "ice_cream = ['vanilla', 'chocolate', 'strawberry', 'cherry', 'salted caramel']\n",
    "\n",
    "```\n",
    "\n",
    "Edit the code at right with how would you return the specified values on left:\n",
    "\n",
    "```python\n",
    "['vanilla', 'chocolate', 'strawberry'] : ice_cream[      ]\n",
    "```"
   ]
  },
  {
   "cell_type": "markdown",
   "metadata": {
    "slideshow": {
     "slide_type": "fragment"
    }
   },
   "source": [
    "#### Data Types Question #3\n",
    "\n",
    "Write a line of code that would change the third element of a list `my_list` to store the value `12`."
   ]
  },
  {
   "cell_type": "markdown",
   "metadata": {
    "slideshow": {
     "slide_type": "slide"
    }
   },
   "source": [
    "### Operators\n",
    "\n",
    "- assignment : `=`\n",
    "- math: `+`, `-`, `/`, `*`, `**`, `//`\n",
    "- comparison : `==`, `!=`, `<`, `>`, `<=`, `>=`\n",
    "- logic: `and`, `or`, `not`\n",
    "- identity: `is`, `is not`\n",
    "- membership : `in`, `not in`"
   ]
  },
  {
   "cell_type": "markdown",
   "metadata": {
    "slideshow": {
     "slide_type": "slide"
    }
   },
   "source": [
    "#### Operators Question #1\n",
    "\n",
    "What is the difference between `=` and `==`?"
   ]
  },
  {
   "cell_type": "markdown",
   "metadata": {
    "slideshow": {
     "slide_type": "fragment"
    }
   },
   "source": [
    "#### Operators Question #2\n",
    "\n",
    "Create a variable `oper_var` that uses both the not and or operators (each at least once) such that `oper_var` stores (returns) the value `True`."
   ]
  },
  {
   "cell_type": "markdown",
   "metadata": {
    "slideshow": {
     "slide_type": "fragment"
    }
   },
   "source": [
    "#### Operators Question #3\n",
    "\n",
    "Using at least 4 different math operators, create a variable `math_var` that stores (returns) the value '18' (or 18.0)"
   ]
  },
  {
   "cell_type": "markdown",
   "metadata": {
    "slideshow": {
     "slide_type": "fragment"
    }
   },
   "source": [
    "#### Operators Question #4\n",
    "\n",
    "Create a variable `string_concat` that demonstrates how you can concatenate two different strings together with a space between the two different strings. "
   ]
  },
  {
   "cell_type": "markdown",
   "metadata": {
    "slideshow": {
     "slide_type": "slide"
    }
   },
   "source": [
    "### Conditionals\n",
    "\n",
    "- `if`, `elif`, & `else`"
   ]
  },
  {
   "cell_type": "markdown",
   "metadata": {
    "slideshow": {
     "slide_type": "slide"
    }
   },
   "source": [
    "#### Conditionals Question #1\n",
    "\n",
    "Circle necessary or optional, as applicable: In Python, a conditional has a necessary / optional `if` statement, one or more necessary / optional `elif` statement(s) and a necessary / optional `else` statement. "
   ]
  },
  {
   "cell_type": "markdown",
   "metadata": {
    "slideshow": {
     "slide_type": "fragment"
    }
   },
   "source": [
    "#### Conditionals Question #2\n",
    "\n",
    "Given the following outline of a conditional:\n",
    "\n",
    "```python\n",
    "    if COND_A:\n",
    "        # Code Block A\n",
    "\telif COND_B:\n",
    "\t\t# Code Block B\n",
    "\telse:\n",
    "\t\t# Code Block C\n",
    "```\n",
    "\n",
    "1. If `COND_A` and `COND_B` are both `True`, which code block(s) evaluate?\n",
    "2. If `COND_A` is False and `COND_B` is `True`, which code block(s) evaluate?"
   ]
  },
  {
   "cell_type": "markdown",
   "metadata": {},
   "source": [
    "#### Conditionals Question #2\n",
    "\n",
    "You use have a list that stores 20 different integers. You use a comparison operator to compare the relationship between two of the elements in the list and store that output in a variable. What would the type of that output variable be?"
   ]
  },
  {
   "cell_type": "markdown",
   "metadata": {
    "slideshow": {
     "slide_type": "slide"
    }
   },
   "source": [
    "### Loops\n",
    "\n",
    "- loops: `for` and `while`\n",
    "    - `continue`, `break`, `pass`"
   ]
  },
  {
   "cell_type": "markdown",
   "metadata": {
    "slideshow": {
     "slide_type": "slide"
    }
   },
   "source": [
    "#### Loops Question #1\n",
    "What are the two kinds of loops? ____________ and ____________"
   ]
  },
  {
   "cell_type": "markdown",
   "metadata": {
    "slideshow": {
     "slide_type": "fragment"
    }
   },
   "source": [
    "#### Loops Question #2\n",
    "Use the following:\n",
    "`ind = 1` to write a loop (using real Python code) that would loop and print the value `ind` of ind each time through the loop _and_ update the value of ind by 1. Have this loop stop after 4 iterations. "
   ]
  },
  {
   "cell_type": "markdown",
   "metadata": {
    "slideshow": {
     "slide_type": "fragment"
    }
   },
   "source": [
    "#### Loops Question #3\n",
    "\n",
    "Create a list that stores each letter of your favorite animal as a different element in a list. Store that in the variable `fav_pet`. \n",
    "\n",
    "Initialize an additional variable called `reverse_pet` that will store an empty string to start.\n",
    "\n",
    "Then, using indexing, loop through each letter in that list such that `reverse_pet` stores a list with your favorite pet spelled backward.\n",
    "\n",
    "For example, if your favorite pet were \"cat\", the output stored in `reverse_pet` should be: `['t', 'a', 'c']`\n"
   ]
  }
 ],
 "metadata": {
  "celltoolbar": "Slideshow",
  "kernelspec": {
   "display_name": "Python 3",
   "language": "python",
   "name": "python3"
  },
  "language_info": {
   "codemirror_mode": {
    "name": "ipython",
    "version": 3
   },
   "file_extension": ".py",
   "mimetype": "text/x-python",
   "name": "python",
   "nbconvert_exporter": "python",
   "pygments_lexer": "ipython3",
   "version": "3.9.5"
  },
  "rise": {
   "scroll": true
  }
 },
 "nbformat": 4,
 "nbformat_minor": 2
}
