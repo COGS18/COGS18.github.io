{
 "cells": [
  {
   "cell_type": "markdown",
   "metadata": {
    "slideshow": {
     "slide_type": "slide"
    }
   },
   "source": [
    "**Course Announcements**\n",
    "\n",
    "Due Dates:\n",
    "- **CL4** due tonight 1/26 (11:59 PM)\n",
    "- **E1** (midterm) due Sun 1/30 11:59 PM (released Thurs at 3PM)\n",
    "- **A2** due Mon 1/31 (11:59 PM)\n",
    "\n",
    "Notes:\n",
    "- **CL3** scores released \n",
    "- Exam Prep answer keys posted\n",
    "- We *will* have lecture Friday \n",
    "    - that material will NOT be on E1\n",
    "    - will discuss details for what labs/OH will be in-person Friday "
   ]
  },
  {
   "cell_type": "markdown",
   "metadata": {
    "slideshow": {
     "slide_type": "notes"
    }
   },
   "source": [
    "**Q&A**\n",
    "\n",
    "Q: How do you search values in a dictionary?  \n",
    "A: This typically requires use of dictionary methods. We'll get there, but for now feel free to check out [this link](https://thispointer.com/python-check-if-a-value-exists-in-the-dictionary-3-ways/).\n",
    "\n",
    "Q: will we ever have to combine conditionals and collections?   \n",
    "A: Yup! This will mostly be done with loops (coming after E1), but it's possible to combine them now\n",
    "\n",
    "Q: When the best time to use each collection and how they are typically implemented in programs.  \n",
    "A: Lists are best for storing multiple elements that you may want to update later. Tuples are best for storing multiple elements that you don't want the ability to change. Dictionaries are best for storing key-value pairs...so when you have two pieces of information that you want associated with one another.\n",
    "\n",
    "Q: I am curious about why tuple are immutable  \n",
    "A: Tuples are immutable b/c sometimes you don't want to be able to update a collection after defintion. Tuples ensure that you can't change part of the collection after definition.\n",
    "\n",
    "Q: How to delete parts in list?  \n",
    "A: You can use `del` (like the dictionary example). We'll also discuss methods in a few weeks, but for now see [this example](https://www.programiz.com/python-programming/methods/list/remove).\n",
    "\n",
    "Q: What are nested lists? Are they really just lists within a list?  \n",
    "A: Yes.\n",
    "\n",
    "Q: Since tuples are immutable, if we were to make a mistake and wanted to change it would that mean we would have to delete it and start over?  \n",
    "A: You would have to re-define the entire tuple, yes.\n",
    "\n",
    "Q: The daily participation survey order/titles are kind of confusing me and I think I accidentally filled out Friday’s survey with Monday’s notes but I watched both lectures! I’m not sure what to do.   \n",
    "A: So long as you don't complete the survey for a day that hasn't happened yet, you're fine. I'd say the best way is to use the day of the week (Mon, Wed, Fri) for reference when choosing a lecture.\n",
    "\n",
    "Q: I am having a little trouble interpreting the assignment error codes when viewing the feedback after the assignment has been graded. Perhaps you can spend some time going through this in class if possible.   \n",
    "A: This will be a focus of today's coding lab review - encouraging you to attend coding lab this week!"
   ]
  },
  {
   "cell_type": "markdown",
   "metadata": {
    "slideshow": {
     "slide_type": "slide"
    }
   },
   "source": [
    "**E1: Details**\n",
    "\n",
    "- have from Thurs 3PM until Sunday 11:59 PM to complete\n",
    "- completed individually\n",
    "    - CAN: search the internet and notes for help on topics\n",
    "    - CANNOT: search for or post questions from the exam anywhere; discuss or work on the exam with anyone\n",
    "- No questions on campuswire about the exam\n",
    "    - if you're confused on wording, add a note in your exam directly\n",
    "    - if you have a technical issue (i.e. can't access the exam), DM Prof Ellis on Campuswire or email"
   ]
  },
  {
   "cell_type": "markdown",
   "metadata": {
    "slideshow": {
     "slide_type": "slide"
    }
   },
   "source": [
    "**E1: Plan**\n",
    "\n",
    "Q0: Honor Code (0.15 pts)\n",
    "\n",
    "**Part 1**: Variables & Operators (3.15 pts)\n",
    "- Q1: Variables (0.75 pts)\n",
    "- Q2: Math Operators (1 pt)*\n",
    "- Q3: Comparison Operators (1 pt)*\n",
    "- Q4: Membership Operators (0.4 pts)\n",
    "\n",
    "**Part 2**: Collections & Indexing (2.75 pts)\n",
    "- Q5: Indexing (1 pt)\n",
    "- **Q6**: Dictionaries (1pt)*\n",
    "- Q7: Collections & Mutating (0.75 pts)\n",
    "\n",
    "\n",
    "**Part 3**: Control Flow - Conditionals, Functions, & Code Style (6.45 pts)\n",
    "\n",
    "- **Q8**: Function Execution & Code Style (2 pts)*\n",
    "- Q9: Functions + Conditionals (2 pts)*\n",
    "- Q10: Accomplish a task (2.45 pts)*\n",
    "\n",
    "Notes: \n",
    "- \\* question has possibility for partial credit\n",
    "- There are two questions (**Q6** & **Q8**) that require written responses on the exam\n",
    "- I will never intentionally try to trick you with wording\n",
    "- If it doesn't say to define a function, you don't have to define a function"
   ]
  },
  {
   "cell_type": "markdown",
   "metadata": {
    "slideshow": {
     "slide_type": "fragment"
    }
   },
   "source": [
    "![written response](../img/written_response.png)"
   ]
  },
  {
   "cell_type": "markdown",
   "metadata": {
    "slideshow": {
     "slide_type": "slide"
    }
   },
   "source": [
    "# Exam 1 Review"
   ]
  },
  {
   "cell_type": "markdown",
   "metadata": {
    "slideshow": {
     "slide_type": "notes"
    }
   },
   "source": [
    "## Midterm Expectations\n",
    "\n",
    "You will be expected to: \n",
    "\n",
    "1. Recognize, understand and _respond_ to Python syntax:\n",
    "    - statements & comments, whitespace, code blocks & indentation levels\n",
    "2. Recognize, understand and be able to _explain_ code constructions:\n",
    "    - variables, operators, data types, conditionals\n",
    "3. Be able to apply what you've learned:\n",
    "    - Given a task:\n",
    "        - what kind of code constructions are needed to answer it?\n",
    "        - what kind of concepts does it relate to?\n",
    "4. With respect to everything above, be able to read and respond to short code snippets and write out code."
   ]
  },
  {
   "cell_type": "markdown",
   "metadata": {
    "slideshow": {
     "slide_type": "slide"
    }
   },
   "source": [
    "### Reminder: \n",
    "\n",
    "There are also a few Exam #1 Practice Problems [here](https://cogs18.github.io/materials/Exam-Prep/E1-Practice.html).\n",
    "\n",
    "And, there is a practice Exam on datahub."
   ]
  },
  {
   "cell_type": "markdown",
   "metadata": {
    "slideshow": {
     "slide_type": "slide"
    }
   },
   "source": [
    "## Topics & Example Questions\n",
    "\n",
    "- Variables & Data Types\n",
    "- Operators\n",
    "- Functions\n",
    "- Conditionals\n",
    "\n",
    "Note: The questions below are _less_ involved than the questions on your midterm. These are meant to help guide your studying. If you're stuck on one of these, you know where to focus your studying."
   ]
  },
  {
   "cell_type": "markdown",
   "metadata": {
    "slideshow": {
     "slide_type": "slide"
    }
   },
   "source": [
    "### Variables & DataTypes\n",
    "\n",
    "Types:\n",
    "- strings, integers, floats, Booleans, None\n",
    "- Collections\n",
    "    - Lists\n",
    "    - Tuples\n",
    "    - Dictionaries\n",
    "\n",
    "Concepts:\n",
    "- Mutable vs. Immutable\n",
    "- Indexing"
   ]
  },
  {
   "cell_type": "markdown",
   "metadata": {
    "slideshow": {
     "slide_type": "slide"
    }
   },
   "source": [
    "#### Data Types Question #1\n",
    "\n",
    "What is the difference between a tuple and a list?"
   ]
  },
  {
   "cell_type": "markdown",
   "metadata": {
    "slideshow": {
     "slide_type": "fragment"
    }
   },
   "source": [
    "#### Data Types Question #2\n",
    "\n",
    "Given the following list: \n",
    "\n",
    "```python\n",
    "ice_cream = ['vanilla', 'chocolate', 'strawberry', 'cherry', 'salted caramel']\n",
    "\n",
    "```\n",
    "\n",
    "Edit the code at right with how would you return the specified values on left:\n",
    "\n",
    "```python\n",
    "['vanilla', 'chocolate', 'strawberry'] : ice_cream[      ]\n",
    "```"
   ]
  },
  {
   "cell_type": "markdown",
   "metadata": {
    "slideshow": {
     "slide_type": "fragment"
    }
   },
   "source": [
    "#### Data Types Question #3\n",
    "\n",
    "Write a line of code that would change the third element of a list `my_list` to store the value `12`."
   ]
  },
  {
   "cell_type": "markdown",
   "metadata": {
    "slideshow": {
     "slide_type": "slide"
    }
   },
   "source": [
    "### Operators\n",
    "\n",
    "- assignment : `=`\n",
    "- math: `+`, `-`, `/`, `*`, `**`, `//`\n",
    "- comparison : `==`, `!=`, `<`, `>`, `<=`, `>=`\n",
    "- logic: `and`, `or`, `not`\n",
    "- identity: `is`, `is not`\n",
    "- membership : `in`, `not in`"
   ]
  },
  {
   "cell_type": "markdown",
   "metadata": {
    "slideshow": {
     "slide_type": "slide"
    }
   },
   "source": [
    "#### Operators Question #1\n",
    "\n",
    "What is the difference between `=` and `==`?"
   ]
  },
  {
   "cell_type": "markdown",
   "metadata": {
    "slideshow": {
     "slide_type": "fragment"
    }
   },
   "source": [
    "#### Operators Question #2\n",
    "\n",
    "Create a variable `oper_var` that uses both the not and or operators (each at least once) such that `oper_var` stores (returns) the value `True`."
   ]
  },
  {
   "cell_type": "markdown",
   "metadata": {
    "slideshow": {
     "slide_type": "fragment"
    }
   },
   "source": [
    "#### Operators Question #3\n",
    "\n",
    "Using at least 4 different math operators, create a variable `math_var` that stores (returns) the value '18' (or 18.0)"
   ]
  },
  {
   "cell_type": "markdown",
   "metadata": {
    "slideshow": {
     "slide_type": "fragment"
    }
   },
   "source": [
    "#### Operators Question #4\n",
    "\n",
    "Create a variable `string_concat` that demonstrates how you can concatenate two different strings together with a space between the two different strings. "
   ]
  },
  {
   "cell_type": "markdown",
   "metadata": {
    "slideshow": {
     "slide_type": "slide"
    }
   },
   "source": [
    "### Conditionals\n",
    "\n",
    "- `if`, `elif`, & `else`"
   ]
  },
  {
   "cell_type": "markdown",
   "metadata": {
    "slideshow": {
     "slide_type": "slide"
    }
   },
   "source": [
    "#### Conditionals Question #1\n",
    "\n",
    "Circle necessary or optional, as applicable: In Python, a conditional has a necessary / optional `if` statement, one or more necessary / optional `elif` statement(s) and a necessary / optional `else` statement. "
   ]
  },
  {
   "cell_type": "markdown",
   "metadata": {
    "slideshow": {
     "slide_type": "fragment"
    }
   },
   "source": [
    "#### Conditionals Question #2\n",
    "\n",
    "Given the following outline of a conditional:\n",
    "\n",
    "```python\n",
    "    if COND_A:\n",
    "        # Code Block A\n",
    "\telif COND_B:\n",
    "\t\t# Code Block B\n",
    "\telse:\n",
    "\t\t# Code Block C\n",
    "```\n",
    "\n",
    "1. If `COND_A` and `COND_B` are both `True`, which code block(s) evaluate?\n",
    "2. If `COND_A` is False and `COND_B` is `True`, which code block(s) evaluate?"
   ]
  },
  {
   "cell_type": "markdown",
   "metadata": {},
   "source": [
    "#### Conditionals Question #2\n",
    "\n",
    "You use have a list that stores 20 different integers. You use a comparison operator to compare the relationship between two of the elements in the list and store that output in a variable. What would the type of that output variable be?"
   ]
  },
  {
   "cell_type": "markdown",
   "metadata": {
    "slideshow": {
     "slide_type": "slide"
    }
   },
   "source": [
    "## Functions\n",
    "\n",
    "- `def`\n",
    "    - `return`\n",
    "- executing a function\n",
    "    - parameters\n",
    "        - keyword vs. positional\n",
    "        - default values\n",
    "- have a separate namespace"
   ]
  },
  {
   "cell_type": "markdown",
   "metadata": {
    "slideshow": {
     "slide_type": "slide"
    }
   },
   "source": [
    "#### Functions Question #1\n",
    "Write, in real code, a function called `remainder` that takes two inputs, divides the first input by the second and returns the remainder."
   ]
  },
  {
   "cell_type": "code",
   "execution_count": 1,
   "metadata": {
    "slideshow": {
     "slide_type": "fragment"
    }
   },
   "outputs": [],
   "source": [
    "## YOUR CODE HERE"
   ]
  },
  {
   "cell_type": "markdown",
   "metadata": {
    "slideshow": {
     "slide_type": "fragment"
    }
   },
   "source": [
    "#### Functions Question #2\n",
    "Using the function `remainder` you wrote above, write the python code you would use to return the remainder of 10 divided by 4. Store the output in the variable `my_remainder`."
   ]
  },
  {
   "cell_type": "code",
   "execution_count": 2,
   "metadata": {
    "slideshow": {
     "slide_type": "fragment"
    }
   },
   "outputs": [],
   "source": [
    "## YOUR CODE HERE"
   ]
  },
  {
   "cell_type": "markdown",
   "metadata": {
    "slideshow": {
     "slide_type": "slide"
    }
   },
   "source": [
    "#### Functions Question #3\n",
    "Assuming the following function has been defined, what would `double_list([1, 2, 3])` return?"
   ]
  },
  {
   "cell_type": "code",
   "execution_count": 1,
   "metadata": {
    "slideshow": {
     "slide_type": "fragment"
    }
   },
   "outputs": [],
   "source": [
    "def double_list(my_list):\n",
    "   \n",
    "    total = my_list * 2\n",
    "        \n",
    "    return total"
   ]
  },
  {
   "cell_type": "code",
   "execution_count": 3,
   "metadata": {},
   "outputs": [],
   "source": [
    "## CODE TO TEST HERE"
   ]
  }
 ],
 "metadata": {
  "celltoolbar": "Slideshow",
  "kernelspec": {
   "display_name": "Python 3",
   "language": "python",
   "name": "python3"
  },
  "language_info": {
   "codemirror_mode": {
    "name": "ipython",
    "version": 3
   },
   "file_extension": ".py",
   "mimetype": "text/x-python",
   "name": "python",
   "nbconvert_exporter": "python",
   "pygments_lexer": "ipython3",
   "version": "3.9.5"
  },
  "rise": {
   "scroll": true
  }
 },
 "nbformat": 4,
 "nbformat_minor": 2
}
