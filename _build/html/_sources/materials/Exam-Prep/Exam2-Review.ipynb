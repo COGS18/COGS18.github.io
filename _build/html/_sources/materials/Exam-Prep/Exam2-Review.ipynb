{
 "cells": [
  {
   "cell_type": "markdown",
   "id": "71bedfaa",
   "metadata": {
    "editable": true,
    "slideshow": {
     "slide_type": "slide"
    },
    "tags": []
   },
   "source": [
    "**Course Announcements**\n",
    "\n",
    "- **E2 is on Thursday**\n",
    "    - closed notes in-class (12.5 pts) + open notes/open Internet take-home (2.5 pts)\n",
    "    - answer keys for practice exams available\n",
    "      No office hours on Thursday\n",
    "    - Review slides (thanks Ana & Nikita) [here](https://docs.google.com/presentation/d/1UMRhvTfnTlotLjI5vsDULANVIVRas8mk2AztCSoXdac/edit?usp=sharing) + [Extra OHs](https://piazza.com/class/luagsvdfwro6ek/post/317)\n",
    "- **A4** due next Tuesday (11:59 PM)\n",
    "\n",
    "\n",
    "Notes: \n",
    "\n",
    "- coding lab this week: Wed == E2 review; Fri == NO lab\n",
    "- I will post a \"mid\"-course survey at end of week (EC opportunity)\n",
    "\n"
   ]
  },
  {
   "cell_type": "markdown",
   "id": "9bbfeb33",
   "metadata": {
    "editable": true,
    "slideshow": {
     "slide_type": "slide"
    },
    "tags": []
   },
   "source": [
    "# Exam 1 Review\n",
    "\n",
    "**In-class**:\n",
    "- bring a writing utensil\n",
    "- 19 Questions\n",
    "  - 11 multiple choice\n",
    "  - 1 T/F (w/ 8 subQ)\n",
    "  - 4 fill in the blanks\n",
    "  - \"3\" short answer\n",
    "\n",
    "**Take-home**:\n",
    "- 2 Questions\n",
    "  - 1 `class` question\n",
    "  - 1 object question\n",
    "- released at 3:30 PM; due 11:59 PM\n",
    "- fewer `assert`s than assignments"
   ]
  },
  {
   "cell_type": "markdown",
   "id": "f2f4e412-9d57-4721-b2a1-e10d89f58ee6",
   "metadata": {
    "editable": true,
    "slideshow": {
     "slide_type": "slide"
    },
    "tags": []
   },
   "source": [
    "## Big Topics Covered\n",
    "\n",
    "- **loops** | for, while, continue, break, range\n",
    "- **classes** | `class`, class attributes, instance attributes, methods, `self`"
   ]
  },
  {
   "cell_type": "markdown",
   "id": "6f08d34f-75d4-4ccd-86a4-8d224c9a8eef",
   "metadata": {
    "editable": true,
    "slideshow": {
     "slide_type": "fragment"
    },
    "tags": []
   },
   "source": [
    "**Expectations**:\n",
    "- Be able to explain/describe main concepts and vocabulary\n",
    "- Be able to read code and determine what it does\n",
    "- Be able to debug given code when a task is specified\n",
    "- Describe the logic/code needed to accomplish a task"
   ]
  }
 ],
 "metadata": {
  "celltoolbar": "Slideshow",
  "kernelspec": {
   "display_name": "Python 3 (ipykernel)",
   "language": "python",
   "name": "python3"
  },
  "language_info": {
   "codemirror_mode": {
    "name": "ipython",
    "version": 3
   },
   "file_extension": ".py",
   "mimetype": "text/x-python",
   "name": "python",
   "nbconvert_exporter": "python",
   "pygments_lexer": "ipython3",
   "version": "3.11.8"
  }
 },
 "nbformat": 4,
 "nbformat_minor": 5
}
