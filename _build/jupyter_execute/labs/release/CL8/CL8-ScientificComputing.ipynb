{
 "cells": [
  {
   "cell_type": "markdown",
   "metadata": {
    "deletable": false,
    "editable": false,
    "nbgrader": {
     "cell_type": "markdown",
     "checksum": "95b4c7738effdd2ed23499b328da077a",
     "grade": false,
     "grade_id": "cell-868c65b2364c590e",
     "locked": true,
     "schema_version": 3,
     "solution": false
    }
   },
   "source": [
    "# CL8: Scientific Computing\n",
    "\n",
    "Welcome to the eighth coding lab!\n",
    "\n",
    "This coding lab focuses on getting comfortable working with data using `pandas`, writing code that adheres to good code style principles, and code testing."
   ]
  },
  {
   "cell_type": "markdown",
   "metadata": {
    "deletable": false,
    "editable": false,
    "nbgrader": {
     "cell_type": "markdown",
     "checksum": "5026b84ce0c5f496dbf8bba3d7928764",
     "grade": false,
     "grade_id": "cell-8ac9b04cc885ab3b",
     "locked": true,
     "schema_version": 3,
     "solution": false
    }
   },
   "source": [
    "## Part 0: Setup\n",
    "\n",
    "Data wrangling often requires additional functionality outside what's included in Python by default. For this, we'll import other functionality from helpful packages."
   ]
  },
  {
   "cell_type": "markdown",
   "metadata": {
    "deletable": false,
    "editable": false,
    "nbgrader": {
     "cell_type": "markdown",
     "checksum": "761d2b8d81a64acdc625052fcc517b15",
     "grade": false,
     "grade_id": "cell-58bfc3d10382dd05",
     "locked": true,
     "schema_version": 3,
     "solution": false
    }
   },
   "source": [
    "**Import the following packages using their common shortened name found in parentheses:**\n",
    "\n",
    "* `numpy` (`np`)\n",
    "* `pandas` (`pd`)"
   ]
  },
  {
   "cell_type": "code",
   "execution_count": null,
   "metadata": {
    "deletable": false,
    "nbgrader": {
     "cell_type": "code",
     "checksum": "21a5caa099738dc651e06e0e09889835",
     "grade": false,
     "grade_id": "cell-b689d21f629d9dda",
     "locked": false,
     "schema_version": 3,
     "solution": true
    }
   },
   "outputs": [],
   "source": [
    "# YOUR CODE HERE\n",
    "raise NotImplementedError()"
   ]
  },
  {
   "cell_type": "code",
   "execution_count": null,
   "metadata": {
    "deletable": false,
    "editable": false,
    "nbgrader": {
     "cell_type": "code",
     "checksum": "ffbe1fe8b059b7e968c5ed75dc604a8d",
     "grade": true,
     "grade_id": "cell-fe28d02c0768c7b2",
     "locked": true,
     "points": 0,
     "schema_version": 3,
     "solution": false
    }
   },
   "outputs": [],
   "source": [
    "assert pd\n",
    "assert np"
   ]
  },
  {
   "cell_type": "markdown",
   "metadata": {
    "deletable": false,
    "editable": false,
    "nbgrader": {
     "cell_type": "markdown",
     "checksum": "76ce47244241a11361c87a6b54d3afbb",
     "grade": false,
     "grade_id": "cell-ebf5cc8eb9b24f16",
     "locked": true,
     "schema_version": 3,
     "solution": false
    }
   },
   "source": [
    "## Part I: `pandas`"
   ]
  },
  {
   "cell_type": "markdown",
   "metadata": {},
   "source": [
    "### `pandas`: data\n",
    "\n",
    "FiveThirtyEight makes a lot of their data publicly available, so to get some practice using `pandas`, read in a dataframe directly using the `pandas` function `read_csv()`. The input to this function should be the following URL, as a string: https://raw.githubusercontent.com/fivethirtyeight/data/master/voter-registration/new-voter-registrations.csv. Store, this in the object `df`. "
   ]
  },
  {
   "cell_type": "code",
   "execution_count": null,
   "metadata": {
    "deletable": false,
    "nbgrader": {
     "cell_type": "code",
     "checksum": "d6348639ad361445cb93912461b1dfe0",
     "grade": false,
     "grade_id": "cell-e5772a18eb209c26",
     "locked": false,
     "schema_version": 3,
     "solution": true
    }
   },
   "outputs": [],
   "source": [
    "# YOUR CODE HERE\n",
    "raise NotImplementedError()"
   ]
  },
  {
   "cell_type": "code",
   "execution_count": null,
   "metadata": {
    "deletable": false,
    "editable": false,
    "nbgrader": {
     "cell_type": "code",
     "checksum": "6d283056790464488c7125d57556bbb2",
     "grade": true,
     "grade_id": "cell-6fb58c546e3f6bb1",
     "locked": true,
     "points": 0,
     "schema_version": 3,
     "solution": false
    }
   },
   "outputs": [],
   "source": [
    "assert isinstance(df, pd.DataFrame) # correct object type\n",
    "assert df.shape == (106, 4) # correct no. rows & columns"
   ]
  },
  {
   "cell_type": "markdown",
   "metadata": {
    "deletable": false,
    "editable": false,
    "nbgrader": {
     "cell_type": "markdown",
     "checksum": "06b128c6d00dacd01e1ed3892343fc5a",
     "grade": false,
     "grade_id": "cell-33aec5fb592acda9",
     "locked": true,
     "schema_version": 3,
     "solution": false
    }
   },
   "source": [
    "### `pandas`: attributes\n",
    "\n",
    "`pandas` DataFrame objects have a number of attributes. In the cell below, look up the following information specified in the comment of each cell below.\n",
    "\n",
    "Note: each cell should have code that looks like `df.attribute`, where `attribute` is replaced by the attribute that returns the information in the comment"
   ]
  },
  {
   "cell_type": "code",
   "execution_count": null,
   "metadata": {
    "deletable": false,
    "nbgrader": {
     "cell_type": "code",
     "checksum": "e678d22d1cc3285806c3b4eab5d45b2a",
     "grade": true,
     "grade_id": "cell-16f5e41842082f77",
     "locked": false,
     "points": 0,
     "schema_version": 3,
     "solution": true
    }
   },
   "outputs": [],
   "source": [
    "# number of rows and columns\n",
    "\n",
    "# YOUR CODE HERE\n",
    "raise NotImplementedError()"
   ]
  },
  {
   "cell_type": "code",
   "execution_count": null,
   "metadata": {
    "deletable": false,
    "nbgrader": {
     "cell_type": "code",
     "checksum": "b81bbe124bebe60bc6c8cb21bf43565d",
     "grade": true,
     "grade_id": "cell-ba549ff059090d42",
     "locked": false,
     "points": 0,
     "schema_version": 3,
     "solution": true
    }
   },
   "outputs": [],
   "source": [
    "# column names\n",
    "\n",
    "# YOUR CODE HERE\n",
    "raise NotImplementedError()"
   ]
  },
  {
   "cell_type": "markdown",
   "metadata": {},
   "source": [
    "### `pandas`: methods\n",
    "\n",
    "`pandas` DataFrame objects *also* have a number of helpful methods. In the cell below, look up the following information specified in the comment of each cell below.\n",
    "\n",
    "Each cell should have code that looks like `df.method()`, where `method()` is replaced by the method that returns the information in the comment. \n",
    "\n",
    "Note that some methods will also need information within the parentheses following the method name (i.e. `df.method(arg=val)` and others may require you to specify the series on which you want to operate (i.e. `df['series'].method()`)"
   ]
  },
  {
   "cell_type": "code",
   "execution_count": null,
   "metadata": {
    "deletable": false,
    "nbgrader": {
     "cell_type": "code",
     "checksum": "696d09909c6d3110b6cf8f50786535d2",
     "grade": true,
     "grade_id": "cell-2ac7f780c95e3c73",
     "locked": false,
     "points": 0,
     "schema_version": 3,
     "solution": true
    }
   },
   "outputs": [],
   "source": [
    "# see the first 5 rows of df\n",
    "\n",
    "# YOUR CODE HERE\n",
    "raise NotImplementedError()"
   ]
  },
  {
   "cell_type": "code",
   "execution_count": null,
   "metadata": {
    "deletable": false,
    "nbgrader": {
     "cell_type": "code",
     "checksum": "36338be531df07259ed4f86f8ee6a49f",
     "grade": true,
     "grade_id": "cell-b7ade1cd727f2bf4",
     "locked": false,
     "points": 0,
     "schema_version": 3,
     "solution": true
    }
   },
   "outputs": [],
   "source": [
    "# determine which different months are included in df\n",
    "\n",
    "# YOUR CODE HERE\n",
    "raise NotImplementedError()"
   ]
  },
  {
   "cell_type": "code",
   "execution_count": null,
   "metadata": {
    "deletable": false,
    "nbgrader": {
     "cell_type": "code",
     "checksum": "4c64e236785cacf5770c8c8e1a127875",
     "grade": true,
     "grade_id": "cell-53af9735d46dad63",
     "locked": false,
     "points": 0,
     "schema_version": 3,
     "solution": true
    }
   },
   "outputs": [],
   "source": [
    "# determine how many different months are included in df\n",
    "\n",
    "# YOUR CODE HERE\n",
    "raise NotImplementedError()"
   ]
  },
  {
   "cell_type": "code",
   "execution_count": null,
   "metadata": {
    "deletable": false,
    "nbgrader": {
     "cell_type": "code",
     "checksum": "fda6032a938ffd98ff031e85546472ee",
     "grade": true,
     "grade_id": "cell-85f4da8e5a613764",
     "locked": false,
     "points": 0,
     "schema_version": 3,
     "solution": true
    }
   },
   "outputs": [],
   "source": [
    "# determine how many times each month shows up in df\n",
    "\n",
    "# YOUR CODE HERE\n",
    "raise NotImplementedError()"
   ]
  },
  {
   "cell_type": "code",
   "execution_count": null,
   "metadata": {
    "deletable": false,
    "nbgrader": {
     "cell_type": "code",
     "checksum": "430c92e5f85edb0f9203aca4e1596cde",
     "grade": true,
     "grade_id": "cell-86fe9f78f60ef83a",
     "locked": false,
     "points": 0,
     "schema_version": 3,
     "solution": true
    }
   },
   "outputs": [],
   "source": [
    "# calculate basic summary statistics\n",
    "# on New registered voters\n",
    "\n",
    "# YOUR CODE HERE\n",
    "raise NotImplementedError()"
   ]
  },
  {
   "cell_type": "markdown",
   "metadata": {
    "deletable": false,
    "editable": false,
    "nbgrader": {
     "cell_type": "markdown",
     "checksum": "769d5243e86fbbda828e3f877fc441d3",
     "grade": false,
     "grade_id": "cell-3c4aaccbc3bd056f",
     "locked": true,
     "schema_version": 3,
     "solution": false
    }
   },
   "source": [
    "## Part II: Code Style & Docuemntation\n",
    "\n",
    "Below a fucntion `get_most_common` is provided. \n",
    "\n",
    "For this question:\n",
    "1. Take a look at the code and examples provided in the cells to understand what the function is doing. \n",
    "2. Consider the code style guidelines discussed in class and edit the code in the cell below to make the code more readable. \n",
    "3. Add a numpy-style docstring to the function.\n",
    "\n",
    "Note: the name and the functionality of the code will *not* change, but the style (parameter/variable naming, spacing, indentation, capitalization, etc.) shuold be improved."
   ]
  },
  {
   "cell_type": "code",
   "execution_count": null,
   "metadata": {
    "deletable": false,
    "nbgrader": {
     "cell_type": "code",
     "checksum": "72958687e9f48018b0d05dcb8d3240df",
     "grade": true,
     "grade_id": "cell-9fb7b80d8ea51c15",
     "locked": false,
     "points": 0,
     "schema_version": 3,
     "solution": true
    }
   },
   "outputs": [],
   "source": [
    "# edit code style for this function\n",
    "def get_most_common(d,c):\n",
    "  MC=d[c].value_counts()\n",
    "  a=MC.idxmax();b=MC.max()\n",
    "  return a,b \n",
    "\n",
    "# YOUR CODE HERE\n",
    "raise NotImplementedError()"
   ]
  },
  {
   "cell_type": "code",
   "execution_count": null,
   "metadata": {},
   "outputs": [],
   "source": [
    "# execute function\n",
    "get_most_common(df, 'Jurisdiction')"
   ]
  },
  {
   "cell_type": "code",
   "execution_count": null,
   "metadata": {},
   "outputs": [],
   "source": [
    "# execute function\n",
    "# store output in two separate variables\n",
    "month_common, month_val = get_most_common(df, 'Month')\n",
    "print(month_common, month_val)"
   ]
  },
  {
   "cell_type": "markdown",
   "metadata": {
    "deletable": false,
    "editable": false,
    "nbgrader": {
     "cell_type": "markdown",
     "checksum": "3acff1d37c5ba34e3feddc0e54b71b95",
     "grade": false,
     "grade_id": "cell-a827a6ec9446ec24",
     "locked": true,
     "schema_version": 3,
     "solution": false
    }
   },
   "source": [
    "Provided is a function you've seen before in A3...but here with particularly terrible code style. As above, edit the function for code style and add a numpy-style docstring. Its functionality will not change, but its readability and documentation will."
   ]
  },
  {
   "cell_type": "code",
   "execution_count": null,
   "metadata": {
    "deletable": false,
    "nbgrader": {
     "cell_type": "code",
     "checksum": "0344483b3b8c5f0c0d263cc7aab8ab5d",
     "grade": false,
     "grade_id": "cell-386b512d8694e96a",
     "locked": false,
     "schema_version": 3,
     "solution": true
    }
   },
   "outputs": [],
   "source": [
    "# edit code style for this function\n",
    "def end_chat(i):\n",
    "    if 'quit' in i:o='Bye';c=False\n",
    "    else:o=None;c=True      \n",
    "    return o, c\n",
    "\n",
    "# YOUR CODE HERE\n",
    "raise NotImplementedError()"
   ]
  },
  {
   "cell_type": "code",
   "execution_count": null,
   "metadata": {},
   "outputs": [],
   "source": [
    "# execute function\n",
    "end_chat('I want to quit')"
   ]
  },
  {
   "cell_type": "code",
   "execution_count": null,
   "metadata": {},
   "outputs": [],
   "source": [
    "# execute function\n",
    "# store output in two separate variables\n",
    "output, chat = end_chat('I want to quit')\n",
    "print(output, chat)"
   ]
  },
  {
   "cell_type": "markdown",
   "metadata": {
    "deletable": false,
    "editable": false,
    "nbgrader": {
     "cell_type": "markdown",
     "checksum": "278da553b3c44f23a22b77969813201a",
     "grade": false,
     "grade_id": "cell-2be00d7e1d6f39b6",
     "locked": true,
     "schema_version": 3,
     "solution": false
    }
   },
   "source": [
    "## Part III: Code Testing\n",
    "\n",
    "After editing the function above, write a test function `test_get_most_common()` that will test the functionality of the `get_most_common` function above. \n",
    "\n",
    "Note: you'll likely need to create a dummy dataframe within the function"
   ]
  },
  {
   "cell_type": "code",
   "execution_count": null,
   "metadata": {
    "deletable": false,
    "nbgrader": {
     "cell_type": "code",
     "checksum": "913a6be6528b0f5a472c30da773f8ff1",
     "grade": false,
     "grade_id": "cell-c082de93aa527b7f",
     "locked": false,
     "schema_version": 3,
     "solution": true
    }
   },
   "outputs": [],
   "source": [
    "# YOUR CODE HERE\n",
    "raise NotImplementedError()"
   ]
  },
  {
   "cell_type": "code",
   "execution_count": null,
   "metadata": {
    "deletable": false,
    "editable": false,
    "nbgrader": {
     "cell_type": "code",
     "checksum": "1cf66152b0b3a93da0ef21d314b44fe0",
     "grade": false,
     "grade_id": "cell-7055da283ea651dc",
     "locked": true,
     "schema_version": 3,
     "solution": false
    }
   },
   "outputs": [],
   "source": [
    "# should pass silently\n",
    "# when you execute test\n",
    "test_get_most_common()"
   ]
  },
  {
   "cell_type": "code",
   "execution_count": null,
   "metadata": {
    "deletable": false,
    "editable": false,
    "nbgrader": {
     "cell_type": "code",
     "checksum": "79fd8dd985117e43427f95261b3f8b36",
     "grade": true,
     "grade_id": "cell-41bf6676180da7b0",
     "locked": true,
     "points": 0,
     "schema_version": 3,
     "solution": false
    }
   },
   "outputs": [],
   "source": [
    "# call test function\n",
    "out = test_get_most_common()\n",
    "# out should store none if passes silently\n",
    "assert out == None"
   ]
  },
  {
   "cell_type": "markdown",
   "metadata": {
    "deletable": false,
    "editable": false,
    "nbgrader": {
     "cell_type": "markdown",
     "checksum": "86e34e188089fcdb01547c4747902956",
     "grade": false,
     "grade_id": "part4",
     "locked": true,
     "schema_version": 3,
     "solution": false
    }
   },
   "source": [
    "## Part IV: `pytest` (*optional*)\n",
    "\n",
    "Let's try out `pytest!`\n",
    "\n",
    "1. Copy the function `get_most_common` to a `functions.py` file (in the same directory as this notebook.)\n",
    "2. Copy the test function `test_get_most_common` to a test file `test_functions.py`. Be sure to add the necessary `import` statement to the top of this file.\n",
    "3. Execute `pytest` in the cell below."
   ]
  },
  {
   "cell_type": "code",
   "execution_count": null,
   "metadata": {
    "deletable": false,
    "nbgrader": {
     "cell_type": "code",
     "checksum": "50a792a29057b8d5be012501c3cb00a4",
     "grade": false,
     "grade_id": "cell-bb97e4691ec8c1dd",
     "locked": false,
     "schema_version": 3,
     "solution": true
    }
   },
   "outputs": [],
   "source": [
    "# YOUR CODE HERE\n",
    "raise NotImplementedError()"
   ]
  }
 ],
 "metadata": {
  "kernelspec": {
   "display_name": "Python 3 (ipykernel)",
   "language": "python",
   "name": "python3"
  },
  "language_info": {
   "codemirror_mode": {
    "name": "ipython",
    "version": 3
   },
   "file_extension": ".py",
   "mimetype": "text/x-python",
   "name": "python",
   "nbconvert_exporter": "python",
   "pygments_lexer": "ipython3",
   "version": "3.9.7"
  }
 },
 "nbformat": 4,
 "nbformat_minor": 2
}