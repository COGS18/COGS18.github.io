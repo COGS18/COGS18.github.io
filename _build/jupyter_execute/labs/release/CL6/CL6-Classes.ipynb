{
 "cells": [
  {
   "cell_type": "markdown",
   "metadata": {
    "deletable": false,
    "editable": false,
    "nbgrader": {
     "cell_type": "markdown",
     "checksum": "053a2028c5f6c29fddb82ccda1f79fe7",
     "grade": false,
     "grade_id": "cell-cb0dbd8f44547687",
     "locked": true,
     "schema_version": 3,
     "solution": false
    }
   },
   "source": [
    "# CL6: Classes\n",
    "\n",
    "Welcome to the sixth coding lab!\n",
    "\n",
    "In this CodingLab we will revisit functions & then focus on objects. \n",
    "\n",
    "We will also start thinking about exploring all of the Python resources and tools that are available, with an eye towards starting to think about the projects."
   ]
  },
  {
   "cell_type": "markdown",
   "metadata": {
    "deletable": false,
    "editable": false,
    "nbgrader": {
     "cell_type": "markdown",
     "checksum": "53f0b8cadbcbeb5735f4dcc57f99d788",
     "grade": false,
     "grade_id": "cell-e863669962e037c1",
     "locked": true,
     "schema_version": 3,
     "solution": false
    }
   },
   "source": [
    "## Part I: (More) Functions "
   ]
  },
  {
   "cell_type": "markdown",
   "metadata": {},
   "source": [
    "### Reverse a string Function\n",
    "\n",
    "Write a function `reverse_string` that will take a string as an input and `return` the reverse of that string as its output. (For example, if the input were 'apple' the function woudl return 'elppa'\n",
    "\n",
    "Note that there are multiple ways in which to approach this. One possible approach would use the logic laid out in this pseudocode:\n",
    "\n",
    "```python\n",
    "# define function with input\n",
    "    \n",
    "    # generate empty string\n",
    "    # start counter at the length of the input string\n",
    "    \n",
    "    # while the counter is more than zero\n",
    "        # add the letter at index into the input string starting at end of input string to growing string\n",
    "        # decrease counter by 1\n",
    "    \n",
    "    # return string \n",
    "```"
   ]
  },
  {
   "cell_type": "code",
   "execution_count": null,
   "metadata": {
    "deletable": false,
    "nbgrader": {
     "cell_type": "code",
     "checksum": "514369d0c06582bb79e6062945048102",
     "grade": false,
     "grade_id": "cell-a6f2eefc87db8517",
     "locked": false,
     "schema_version": 3,
     "solution": true
    }
   },
   "outputs": [],
   "source": [
    "# YOUR CODE HERE\n",
    "raise NotImplementedError()"
   ]
  },
  {
   "cell_type": "code",
   "execution_count": null,
   "metadata": {},
   "outputs": [],
   "source": [
    "assert reverse_string('apple') == 'elppa'"
   ]
  },
  {
   "cell_type": "markdown",
   "metadata": {
    "deletable": false,
    "editable": false,
    "nbgrader": {
     "cell_type": "markdown",
     "checksum": "cc2aff43d2ee8f9adcb03c043640465b",
     "grade": false,
     "grade_id": "cell-7c46e094655f72b8",
     "locked": true,
     "schema_version": 3,
     "solution": false
    }
   },
   "source": [
    "### Palindrome Function\n",
    "\n",
    "Write a function `check_palindrome` that takes a string as an input and within that function determines whether the input string is a palindrome or not (a word or phrase that is read the same forward as it is backward - i.e. kayak, dad, etc.). \n",
    "\n",
    "If it is a palindrome, `return` 'Hey! That's a palindrome!'\n",
    "\n",
    "If it is not a palindrome, `return` 'Bummer. Not a palindrome.'\n",
    "\n",
    "Remember that you created a function that can reverse a string above."
   ]
  },
  {
   "cell_type": "code",
   "execution_count": null,
   "metadata": {
    "deletable": false,
    "nbgrader": {
     "cell_type": "code",
     "checksum": "db216a7f9f73bfce08489fd3446f964d",
     "grade": false,
     "grade_id": "cell-d8674d6dc7bbe1c6",
     "locked": false,
     "schema_version": 3,
     "solution": true
    }
   },
   "outputs": [],
   "source": [
    "# YOUR CODE HERE\n",
    "raise NotImplementedError()"
   ]
  },
  {
   "cell_type": "code",
   "execution_count": null,
   "metadata": {},
   "outputs": [],
   "source": [
    "assert check_palindrome('kayak') == \"Hey! That's a palindrome!\"\n",
    "assert check_palindrome('blargh') == 'Bummer. Not a palindrome.'"
   ]
  },
  {
   "cell_type": "markdown",
   "metadata": {
    "collapsed": true,
    "deletable": false,
    "editable": false,
    "nbgrader": {
     "cell_type": "markdown",
     "checksum": "27ed049d413fb2f3a4de01a4af70f0b3",
     "grade": false,
     "grade_id": "cell-a2149ce7c114d9be",
     "locked": true,
     "schema_version": 3,
     "solution": false
    }
   },
   "source": [
    "## Part II: Objects Questions"
   ]
  },
  {
   "cell_type": "markdown",
   "metadata": {
    "deletable": false,
    "editable": false,
    "nbgrader": {
     "cell_type": "markdown",
     "checksum": "402bdaf9dfcedd8670c519165b90884e",
     "grade": false,
     "grade_id": "cell-e5cf8a18c2aff1eb",
     "locked": true,
     "schema_version": 3,
     "solution": false
    }
   },
   "source": [
    "## Example Class"
   ]
  },
  {
   "cell_type": "code",
   "execution_count": null,
   "metadata": {},
   "outputs": [],
   "source": [
    "class Language():\n",
    "    \"\"\"A Python class to store and use information about languages.\"\"\"\n",
    "    \n",
    "    # Class Attributes\n",
    "    purpose = 'communication'\n",
    "    \n",
    "    def __init__(self, name, language_type, amount_of_goodness):\n",
    "        \n",
    "        # Instance Attributes\n",
    "        self.name = name\n",
    "        self.language_type = language_type\n",
    "        self.amount_of_goodness = amount_of_goodness\n",
    "        \n",
    "    # Class Method\n",
    "    def print_goodness_level(self):\n",
    "        print('The language', self.name, 'has', self.amount_of_goodness, 'goodness.')"
   ]
  },
  {
   "cell_type": "code",
   "execution_count": null,
   "metadata": {},
   "outputs": [],
   "source": [
    "# Create an instance of our class\n",
    "python = Language('python', 'computer', 'lots of')\n",
    "python.print_goodness_level()"
   ]
  },
  {
   "cell_type": "code",
   "execution_count": null,
   "metadata": {},
   "outputs": [],
   "source": [
    "# Create another instance of our class\n",
    "english = Language('english', 'human', 'some')\n",
    "english.print_goodness_level()"
   ]
  },
  {
   "cell_type": "markdown",
   "metadata": {
    "deletable": false,
    "editable": false,
    "nbgrader": {
     "cell_type": "markdown",
     "checksum": "e5ee54f69cd3137a1fe02503f1287d9f",
     "grade": false,
     "grade_id": "cell-8a06b77b3a54389b",
     "locked": true,
     "schema_version": 3,
     "solution": false
    }
   },
   "source": [
    "### TritonCourse class\n",
    "\n",
    "Let’s create a class to represent courses at UCSD! "
   ]
  },
  {
   "cell_type": "markdown",
   "metadata": {
    "deletable": false,
    "editable": false,
    "nbgrader": {
     "cell_type": "markdown",
     "checksum": "fb259e86317e39d12f0c5e318791bb07",
     "grade": false,
     "grade_id": "cell-e0550f60aba6f132",
     "locked": true,
     "schema_version": 3,
     "solution": false
    }
   },
   "source": [
    "#### Class Definition\n",
    "\n",
    "Write a class to store information about UCSD courses, called `TritonCourse`. \n",
    "\n",
    "This course assumes all courses belong to a department, have a course code, and have a title.\n",
    "\n",
    "That is, write a class called `TritonCourse` that has instance attributes `department` (string), `code` (int), and `title` (string). "
   ]
  },
  {
   "cell_type": "code",
   "execution_count": null,
   "metadata": {
    "deletable": false,
    "nbgrader": {
     "cell_type": "code",
     "checksum": "92cb3885b29f13af339bb97dbba68dee",
     "grade": false,
     "grade_id": "cell-c5cf9c77cd590257",
     "locked": false,
     "schema_version": 3,
     "solution": true
    }
   },
   "outputs": [],
   "source": [
    "# YOUR CODE HERE\n",
    "raise NotImplementedError()"
   ]
  },
  {
   "cell_type": "markdown",
   "metadata": {
    "deletable": false,
    "editable": false,
    "nbgrader": {
     "cell_type": "markdown",
     "checksum": "8c7db69ca57a8d9c82e75109bb485088",
     "grade": false,
     "grade_id": "cell-fafcd48a4c3ed9bb",
     "locked": true,
     "schema_version": 3,
     "solution": false
    }
   },
   "source": [
    "#### Instances\n",
    "\n",
    "Once you've written the class defintion above, you should be able to run the following code to create an instance of this class. \n",
    "\n",
    "You can then print out the attributes and check that they hold the values that you expect. "
   ]
  },
  {
   "cell_type": "code",
   "execution_count": null,
   "metadata": {},
   "outputs": [],
   "source": [
    "# Define an instance of our class\n",
    "cogs18 = TritonCourse(\"COGS\", 18, \"Introduction to Python\")"
   ]
  },
  {
   "cell_type": "code",
   "execution_count": null,
   "metadata": {},
   "outputs": [],
   "source": [
    "# Check the instance attributes\n",
    "print(cogs18.department)\n",
    "print(cogs18.code)\n",
    "print(cogs18.title)"
   ]
  },
  {
   "cell_type": "markdown",
   "metadata": {
    "deletable": false,
    "editable": false,
    "nbgrader": {
     "cell_type": "markdown",
     "checksum": "de1648e8952773eb3c51807c9f559b22",
     "grade": false,
     "grade_id": "cell-bfbfe91b75b76b91",
     "locked": true,
     "schema_version": 3,
     "solution": false
    }
   },
   "source": [
    "Now, create some more instances of our class:\n",
    "\n",
    "- ECE 15, \"Engineering Programming\" \n",
    "    - Save the result to a variable called `class1`\n",
    "- MUS 8, \"American Music: Jazz Culture\"\n",
    "    - Save the result to a variable called `class2`"
   ]
  },
  {
   "cell_type": "code",
   "execution_count": null,
   "metadata": {
    "deletable": false,
    "nbgrader": {
     "cell_type": "code",
     "checksum": "4414bf3208cbfea611afbaae9423d7a4",
     "grade": false,
     "grade_id": "cell-6a15641c3c04ead1",
     "locked": false,
     "schema_version": 3,
     "solution": true
    }
   },
   "outputs": [],
   "source": [
    "# YOUR CODE HERE\n",
    "raise NotImplementedError()"
   ]
  },
  {
   "cell_type": "markdown",
   "metadata": {
    "deletable": false,
    "editable": false,
    "nbgrader": {
     "cell_type": "markdown",
     "checksum": "d9623ff458f7a2fc7cd3498eb4a2bd03",
     "grade": false,
     "grade_id": "cell-9efedb98b2b61f5c",
     "locked": true,
     "schema_version": 3,
     "solution": false
    }
   },
   "source": [
    "#### Methods\n",
    "\n",
    "Now, make a new version of `TritonCourse` that has a method. \n",
    "\n",
    "Specifically, this method, called `print_info` should print out the information about the course as:\n",
    "\n",
    "    'department name code : title'\n",
    "    \n",
    "So, for example, once you add this method, using the method on our `cogs18` instance should print out:\n",
    "\n",
    "    `COGS 18 : Introduction to Python`"
   ]
  },
  {
   "cell_type": "code",
   "execution_count": null,
   "metadata": {
    "deletable": false,
    "nbgrader": {
     "cell_type": "code",
     "checksum": "567e81b4217618227cf9fa0bfdab30f6",
     "grade": false,
     "grade_id": "cell-37b479809503bb28",
     "locked": false,
     "schema_version": 3,
     "solution": true
    }
   },
   "outputs": [],
   "source": [
    "# YOUR CODE HERE\n",
    "raise NotImplementedError()"
   ]
  },
  {
   "cell_type": "code",
   "execution_count": null,
   "metadata": {},
   "outputs": [],
   "source": [
    "# Check the method works on our cogs18 instance\n",
    "cogs18 = TritonCourse(\"COGS\", 18, \"Introduction to Python\")\n",
    "cogs18.print_info()"
   ]
  },
  {
   "cell_type": "markdown",
   "metadata": {
    "deletable": false,
    "editable": false,
    "nbgrader": {
     "cell_type": "markdown",
     "checksum": "bf589ad70773c3402d4b616f2eb16f66",
     "grade": false,
     "grade_id": "cell-2762f36a00cb6412",
     "locked": true,
     "schema_version": 3,
     "solution": false
    }
   },
   "source": [
    "## Part III: Objects Explorations\n",
    "\n",
    "- What kind of other attributes and methods might we want on our `TritonCourse` object?\n",
    "    - Make an extended version of `TritonCourse` with at least one extra class attribute, instance attribute and method. \n",
    "- Create a brand new class, to do something new / different!\n",
    "    - Make sure it has at least one class attribute, instance attribute, and some methods\n",
    "    - Create at least one methods that takes in an argument (doesn't just use class & instance attributes)\n",
    "    - Create at least one method that has a conditional in it, one with a loop, and one with a try/except"
   ]
  },
  {
   "cell_type": "code",
   "execution_count": null,
   "metadata": {
    "deletable": false,
    "nbgrader": {
     "cell_type": "code",
     "checksum": "b271b49da1477dbfbfb0a31fa5222e3f",
     "grade": false,
     "grade_id": "cell-b7dae2a3c6dab247",
     "locked": false,
     "schema_version": 3,
     "solution": true
    }
   },
   "outputs": [],
   "source": [
    "# YOUR CODE HERE\n",
    "raise NotImplementedError()"
   ]
  },
  {
   "cell_type": "markdown",
   "metadata": {
    "deletable": false,
    "editable": false,
    "nbgrader": {
     "cell_type": "markdown",
     "checksum": "200b2471b774447b3bc1a24b9150c7a0",
     "grade": false,
     "grade_id": "cell-34c5777d0172e9f8",
     "locked": true,
     "schema_version": 3,
     "solution": false
    }
   },
   "source": [
    "### Objects Challenge\n",
    "\n",
    "Define an object `Cogs18Students` that has: \n",
    "\n",
    "- Instance Attibutes:\n",
    "    - `students` : list (initalize it as an empty list)\n",
    "- Methods:\n",
    "    - `add_student()`\n",
    "    - `calculate_points()`\n",
    "    \n",
    "#### Method: `add_student`\n",
    "\n",
    "Input(s):\n",
    "- `pid` : string\n",
    "- `a1` : int or float\n",
    "- `a2` : int or float\n",
    "- `e1` : int or float\n",
    "\n",
    "This method, when executed should take in the student's PID and their scores on A1, A2 and E1. These values should be stored in a single dictionary for each student with the keys 'PID', 'A1', 'A1', and 'E1', with the student's respective PID and scores as the values for each key. This dictionary should then be added to the `students` attribute for the class.\n",
    "\n",
    "#### Method: `calculate_points`\n",
    "\n",
    " \n",
    "Input(s):\n",
    "- `student_pid` : string\n",
    "\n",
    "This method should calculate the total number of points for all assignments for the student PID specified in `student_pid`. The sum of the students' points on A1, A2, and E1 should be returned from the method."
   ]
  },
  {
   "cell_type": "code",
   "execution_count": null,
   "metadata": {
    "deletable": false,
    "nbgrader": {
     "cell_type": "code",
     "checksum": "d056914b1a3637eeb580b11adadf0973",
     "grade": false,
     "grade_id": "cell-64c4880719b92960",
     "locked": false,
     "schema_version": 3,
     "solution": true
    }
   },
   "outputs": [],
   "source": [
    "# YOUR CODE HERE\n",
    "raise NotImplementedError()"
   ]
  },
  {
   "cell_type": "code",
   "execution_count": null,
   "metadata": {},
   "outputs": [],
   "source": [
    "# initialiaze a Cogs18Students object here\n",
    "# test out your methods"
   ]
  }
 ],
 "metadata": {
  "kernelspec": {
   "display_name": "Python 3 (ipykernel)",
   "language": "python",
   "name": "python3"
  },
  "language_info": {
   "codemirror_mode": {
    "name": "ipython",
    "version": 3
   },
   "file_extension": ".py",
   "mimetype": "text/x-python",
   "name": "python",
   "nbconvert_exporter": "python",
   "pygments_lexer": "ipython3",
   "version": "3.9.7"
  }
 },
 "nbformat": 4,
 "nbformat_minor": 2
}