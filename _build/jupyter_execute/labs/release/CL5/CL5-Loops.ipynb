{
 "cells": [
  {
   "cell_type": "markdown",
   "metadata": {
    "deletable": false,
    "editable": false,
    "nbgrader": {
     "cell_type": "markdown",
     "checksum": "e5370fdd5ef86529f90674a8812515a0",
     "grade": false,
     "grade_id": "cell-e8537ebe6502c993",
     "locked": true,
     "schema_version": 3,
     "solution": false
    }
   },
   "source": [
    "# CL5: Loops\n",
    "\n",
    "Welcome to the fifth coding lab!\n",
    "\n",
    "In this Coding Lab we will focus on debugging and understanding loops."
   ]
  },
  {
   "cell_type": "markdown",
   "metadata": {},
   "source": [
    "**Note**: You may *not* be able to complete all of this in 50 minutes, particularly the challenges in Part 3.  This are meant to help you gain mastery and provide additional practices, not to stress you out a ton. Make a concerted effort. Do your best to complete it. But, if you don't figure it all out, that's why we post answers for coding labs!"
   ]
  },
  {
   "cell_type": "markdown",
   "metadata": {
    "deletable": false,
    "editable": false,
    "nbgrader": {
     "cell_type": "markdown",
     "checksum": "38040baa97ee4d8463dfd20a0e235278",
     "grade": false,
     "grade_id": "cell-00813a1ea7d46d85",
     "locked": true,
     "schema_version": 3,
     "solution": false
    }
   },
   "source": [
    "## Part 1: Debugging"
   ]
  },
  {
   "cell_type": "markdown",
   "metadata": {
    "deletable": false,
    "editable": false,
    "nbgrader": {
     "cell_type": "markdown",
     "checksum": "e063b7811e92c0689600a4c81b8fba67",
     "grade": false,
     "grade_id": "cell-9734fc2b7191c9c7",
     "locked": true,
     "schema_version": 3,
     "solution": false
    }
   },
   "source": [
    "### Creating Errors\n",
    "For each of the follow Exceptions, write a small piece of code that will cause it to happen:\n",
    "- ZeroDivisionError\n",
    "- SyntaxError\n",
    "- IndentationError\n",
    "- TypeError\n",
    "- IndexError\n",
    "- ValueError\n",
    "- NameError"
   ]
  },
  {
   "cell_type": "code",
   "execution_count": null,
   "metadata": {
    "deletable": false,
    "nbgrader": {
     "cell_type": "code",
     "checksum": "b0d4336d9ce510ba887be18fb4ec84b1",
     "grade": true,
     "grade_id": "cell-0e441a93d9074f56",
     "locked": false,
     "points": 0,
     "schema_version": 3,
     "solution": true
    }
   },
   "outputs": [],
   "source": [
    "# ZeroDividisionError\n",
    "\n",
    "# YOUR CODE HERE\n",
    "raise NotImplementedError()"
   ]
  },
  {
   "cell_type": "code",
   "execution_count": null,
   "metadata": {
    "deletable": false,
    "nbgrader": {
     "cell_type": "code",
     "checksum": "faa1bc6c6b056aabcb51699664fc561c",
     "grade": true,
     "grade_id": "cell-b1ac7106e83cb72f",
     "locked": false,
     "points": 0,
     "schema_version": 3,
     "solution": true
    }
   },
   "outputs": [],
   "source": [
    "# SyntaxError\n",
    "\n",
    "# YOUR CODE HERE\n",
    "raise NotImplementedError()"
   ]
  },
  {
   "cell_type": "code",
   "execution_count": null,
   "metadata": {
    "deletable": false,
    "nbgrader": {
     "cell_type": "code",
     "checksum": "01df898a08e60b1d5b9bec3af12a7a78",
     "grade": true,
     "grade_id": "cell-cfb3db08e0f1e2f2",
     "locked": false,
     "points": 0,
     "schema_version": 3,
     "solution": true
    }
   },
   "outputs": [],
   "source": [
    "# IndentationError\n",
    "\n",
    "# YOUR CODE HERE\n",
    "raise NotImplementedError()"
   ]
  },
  {
   "cell_type": "code",
   "execution_count": null,
   "metadata": {
    "deletable": false,
    "nbgrader": {
     "cell_type": "code",
     "checksum": "e775753e770341895456791f7a863444",
     "grade": true,
     "grade_id": "cell-ffce1ddb5088e527",
     "locked": false,
     "points": 0,
     "schema_version": 3,
     "solution": true
    }
   },
   "outputs": [],
   "source": [
    "# TypeError\n",
    "\n",
    "# YOUR CODE HERE\n",
    "raise NotImplementedError()"
   ]
  },
  {
   "cell_type": "code",
   "execution_count": null,
   "metadata": {
    "deletable": false,
    "nbgrader": {
     "cell_type": "code",
     "checksum": "0eb9bdee6316fe4295823a8ca29a560d",
     "grade": true,
     "grade_id": "cell-425c5dbe3ce96cb2",
     "locked": false,
     "points": 0,
     "schema_version": 3,
     "solution": true
    }
   },
   "outputs": [],
   "source": [
    "# IndexError\n",
    "\n",
    "# YOUR CODE HERE\n",
    "raise NotImplementedError()"
   ]
  },
  {
   "cell_type": "code",
   "execution_count": null,
   "metadata": {
    "deletable": false,
    "nbgrader": {
     "cell_type": "code",
     "checksum": "3fd1a992a7e564692764dfb60062c127",
     "grade": true,
     "grade_id": "cell-16b2a47d0a4214d2",
     "locked": false,
     "points": 0,
     "schema_version": 3,
     "solution": true
    }
   },
   "outputs": [],
   "source": [
    "# ValueError\n",
    "\n",
    "# YOUR CODE HERE\n",
    "raise NotImplementedError()"
   ]
  },
  {
   "cell_type": "code",
   "execution_count": null,
   "metadata": {
    "deletable": false,
    "nbgrader": {
     "cell_type": "code",
     "checksum": "b66b82d72aa3604a6c28db568cfb8f15",
     "grade": true,
     "grade_id": "cell-6438bfb83cd2bd54",
     "locked": false,
     "points": 0,
     "schema_version": 3,
     "solution": true
    }
   },
   "outputs": [],
   "source": [
    "# NameError\n",
    "\n",
    "# YOUR CODE HERE\n",
    "raise NotImplementedError()"
   ]
  },
  {
   "cell_type": "markdown",
   "metadata": {
    "deletable": false,
    "editable": false,
    "nbgrader": {
     "cell_type": "markdown",
     "checksum": "b41ac4ef7cf8033644d8c74e06443c67",
     "grade": false,
     "grade_id": "cell-bb0cc23502d8e385",
     "locked": true,
     "schema_version": 3,
     "solution": false
    }
   },
   "source": [
    "### Fixing Errors\n",
    "\n",
    "For each of the following cells, try to debug the code to fix any errors, and get it running. "
   ]
  },
  {
   "cell_type": "code",
   "execution_count": null,
   "metadata": {
    "deletable": false,
    "nbgrader": {
     "cell_type": "code",
     "checksum": "99228d7a58a58391761cf1d430e8fb4e",
     "grade": true,
     "grade_id": "cell-5c1e4912f8be4917",
     "locked": false,
     "points": 0,
     "schema_version": 3,
     "solution": true
    }
   },
   "outputs": [],
   "source": [
    "if True\n",
    "    print('It worked')\n",
    "    \n",
    "# YOUR CODE HERE\n",
    "raise NotImplementedError()"
   ]
  },
  {
   "cell_type": "code",
   "execution_count": null,
   "metadata": {
    "deletable": false,
    "nbgrader": {
     "cell_type": "code",
     "checksum": "d6b8d180b8d5a47dd2856a4489b8e64e",
     "grade": true,
     "grade_id": "cell-a311736fa20712bf",
     "locked": false,
     "points": 0,
     "schema_version": 3,
     "solution": true
    }
   },
   "outputs": [],
   "source": [
    "age_string = \"My favorite number is \" + 27\n",
    "\n",
    "# YOUR CODE HERE\n",
    "raise NotImplementedError()\n"
   ]
  },
  {
   "cell_type": "code",
   "execution_count": null,
   "metadata": {
    "deletable": false,
    "nbgrader": {
     "cell_type": "code",
     "checksum": "a67e7d64240a1c8eac32da2bd1f64d7d",
     "grade": true,
     "grade_id": "cell-49b6889e712f45f6",
     "locked": false,
     "points": 0,
     "schema_version": 3,
     "solution": true
    }
   },
   "outputs": [],
   "source": [
    "print('Three plus five equals' + str(3+5)\n",
    "\n",
    "# YOUR CODE HERE\n",
    "raise NotImplementedError()"
   ]
  },
  {
   "cell_type": "markdown",
   "metadata": {
    "deletable": false,
    "editable": false,
    "nbgrader": {
     "cell_type": "markdown",
     "checksum": "102719e365438364f6138469884f4f29",
     "grade": false,
     "grade_id": "cell-634294ae0e4720a9",
     "locked": true,
     "schema_version": 3,
     "solution": false
    }
   },
   "source": [
    "## Part 2: Loops Review & Exploration\n",
    "\n",
    "We will now explore two ways to iterate over data in Python - `for` and `while` loops. \n",
    "\n",
    "Each type of loop performs its respective code block until certain conditions are met. Here, we will explore what those conditions are. \n",
    "\n",
    "Note: \"iterate\" means to perform an action repeatedly \n",
    "\n",
    "Note: Sometimes, we accidentally make loops that never end. \n",
    "- If that happens, \"break\" the cell by selecting it and then pressing \"ctrl+c\". Alternatively, press the \"stop\" button (square icon) in the Jupyter toolbar. "
   ]
  },
  {
   "cell_type": "markdown",
   "metadata": {
    "deletable": false,
    "editable": false,
    "nbgrader": {
     "cell_type": "markdown",
     "checksum": "b49cee67ad3322ff6e0e3945fb2b8e0f",
     "grade": false,
     "grade_id": "cell-b4f5bcda88789ec6",
     "locked": true,
     "schema_version": 3,
     "solution": false
    }
   },
   "source": [
    "### Loops \n",
    "\n",
    "First, declare a variable called `counter` that has type int and value zero.\n",
    "\n",
    "Then write a `while` loop that runs 10 times and use `counter` to track how many times the loop runs. "
   ]
  },
  {
   "cell_type": "code",
   "execution_count": null,
   "metadata": {
    "deletable": false,
    "nbgrader": {
     "cell_type": "code",
     "checksum": "16b20cedd5f13542a6ef38a626628bda",
     "grade": false,
     "grade_id": "cell-af48110fe42b669b",
     "locked": false,
     "schema_version": 3,
     "solution": true
    }
   },
   "outputs": [],
   "source": [
    "# YOUR CODE HERE\n",
    "raise NotImplementedError()"
   ]
  },
  {
   "cell_type": "code",
   "execution_count": null,
   "metadata": {},
   "outputs": [],
   "source": [
    "# Check that (after the loop runs) that there is a variable called `counter` that has value 10\n",
    "assert counter == 10"
   ]
  },
  {
   "cell_type": "markdown",
   "metadata": {
    "deletable": false,
    "editable": false,
    "nbgrader": {
     "cell_type": "markdown",
     "checksum": "a246820e73817ee79a36ee970d6dd41d",
     "grade": false,
     "grade_id": "cell-63a4942a96dc6c0d",
     "locked": true,
     "schema_version": 3,
     "solution": false
    }
   },
   "source": [
    "### Infinite Loops\n",
    "\n",
    "The while loop below will run indefinitely unless someone puts a stop to it! \n",
    "\n",
    "Add your own code that causes the loop to exit when the `counter` variable reaches 10. You can use `break` to do this. \n",
    "\n",
    "Note: Sometimes, we accidentally make loops that never end - try that by running the cell below before adding \n",
    "\n",
    "If that happens, interrupt the cell by selecting it and then pressing \"ctrl+c\". Alternatively, press the \"stop\" button (square icon) in the Jupyter toolbar. \n",
    "\n",
    "For refernece, the starter code provided is:\n",
    "```python\n",
    "counter = 0\n",
    "\n",
    "while True:\n",
    "    \n",
    "    print(\"the value of 'counter' = \" + str(counter))\n",
    "    counter +=1\n",
    "    \n",
    "```"
   ]
  },
  {
   "cell_type": "code",
   "execution_count": null,
   "metadata": {
    "deletable": false,
    "nbgrader": {
     "cell_type": "code",
     "checksum": "514c33b562a7cd5afe6341b0847647f7",
     "grade": false,
     "grade_id": "cell-0e33a3d206c8759d",
     "locked": false,
     "schema_version": 3,
     "solution": true
    }
   },
   "outputs": [],
   "source": [
    "counter = 0\n",
    "\n",
    "while True:\n",
    "    \n",
    "    print(\"the value of 'counter' = \" + str(counter))\n",
    "    counter +=1\n",
    "    \n",
    "# YOUR CODE HERE\n",
    "raise NotImplementedError()\n"
   ]
  },
  {
   "cell_type": "markdown",
   "metadata": {
    "deletable": false,
    "editable": false,
    "nbgrader": {
     "cell_type": "markdown",
     "checksum": "fa5ca16c01a286104381749a2a7c990b",
     "grade": false,
     "grade_id": "cell-9445f177e9dc38ff",
     "locked": true,
     "schema_version": 3,
     "solution": false
    }
   },
   "source": [
    "Now, rather than using `break`, edit the loop from above so that the condition following `while` will eventually evaluate as `False` (and thus terminate the loop)."
   ]
  },
  {
   "cell_type": "code",
   "execution_count": null,
   "metadata": {
    "deletable": false,
    "nbgrader": {
     "cell_type": "code",
     "checksum": "64a1a41b8d63f9f781af9cdac421b4b0",
     "grade": false,
     "grade_id": "cell-b561c8f0d73a25e3",
     "locked": false,
     "schema_version": 3,
     "solution": true
    }
   },
   "outputs": [],
   "source": [
    "# YOUR CODE HERE\n",
    "raise NotImplementedError()"
   ]
  },
  {
   "cell_type": "markdown",
   "metadata": {
    "deletable": false,
    "editable": false,
    "nbgrader": {
     "cell_type": "markdown",
     "checksum": "d9790975eeb72b99f793e2fc67aea4fd",
     "grade": false,
     "grade_id": "cell-263fbedcb0c5fe6c",
     "locked": true,
     "schema_version": 3,
     "solution": false
    }
   },
   "source": [
    "### Loop Explorations\n",
    "\n",
    "Now, explore using for and while loops and breaks. \n",
    "\n",
    "Here are some things to try, and questions to ask - each of which you should explore in code. \n",
    "- What happens if you use 'break' all by itself?\n",
    "- What are some different ways to loop through a list? tuple?\n",
    "- Write these combinations: \n",
    "    - a `for` loop with a `break`, a `for` loop with a `continue`\n",
    "    - a `while` loop with a `break`, a `while` loop with a `continue`\n",
    "- Write some loops that loop across lists:\n",
    "    - Write a loop that loops across, and prints out, all the elements of a list\n",
    "    - Write a loop that loops across, and prints out, every second element of a list\n",
    "    - Write a loop that loops across, and prints out, every element of a list in reverse order\n",
    "    - Write a loop that loops across, and prints out, the first half of a list\n",
    "- Write a loop with a conditional inside it.\n",
    "- Can you have loops inside loops? If you think so, try and write a nested loop. \n",
    "\n",
    "Reminder: you can add as many cells as you'd like to test these out! "
   ]
  },
  {
   "cell_type": "code",
   "execution_count": null,
   "metadata": {
    "deletable": false,
    "nbgrader": {
     "cell_type": "code",
     "checksum": "228a650dedc109f4776e50d2fab99f41",
     "grade": false,
     "grade_id": "cell-c101bd32c5150b72",
     "locked": false,
     "schema_version": 3,
     "solution": true
    }
   },
   "outputs": [],
   "source": [
    "# YOUR CODE HERE\n",
    "raise NotImplementedError()"
   ]
  },
  {
   "cell_type": "markdown",
   "metadata": {
    "deletable": false,
    "editable": false,
    "nbgrader": {
     "cell_type": "markdown",
     "checksum": "e73dc81a33d0dd4d01d53d87ce43cea9",
     "grade": false,
     "grade_id": "cell-cdec6e2bea17a7ba",
     "locked": true,
     "schema_version": 3,
     "solution": false
    }
   },
   "source": [
    "### Specific looping task\n",
    "\n",
    "`print`ing the output is great to learn about and explore loops, but typically we're looping to generate some output. \n",
    "\n",
    "Generate a list below that stores various integers and strings. \n",
    "\n",
    "Write a loop that will separate out the elements in your list by type, such that all the integers are stored in a list called `my_ints` and all of the strings are stored in a list called `my_strs`"
   ]
  },
  {
   "cell_type": "code",
   "execution_count": null,
   "metadata": {
    "deletable": false,
    "nbgrader": {
     "cell_type": "code",
     "checksum": "6f1e811c339db4a53435d4a1d8233e94",
     "grade": false,
     "grade_id": "cell-77fd056f3c67c2a3",
     "locked": false,
     "schema_version": 3,
     "solution": true
    }
   },
   "outputs": [],
   "source": [
    "# YOUR CODE HERE\n",
    "raise NotImplementedError()"
   ]
  },
  {
   "cell_type": "code",
   "execution_count": null,
   "metadata": {
    "deletable": false,
    "editable": false,
    "nbgrader": {
     "cell_type": "code",
     "checksum": "1f5ad00ffa6d3a7eea83880c5c568e37",
     "grade": true,
     "grade_id": "cell-362fd3c5dd6ea1ca",
     "locked": true,
     "points": 0,
     "schema_version": 3,
     "solution": false
    }
   },
   "outputs": [],
   "source": [
    "assert type(my_ints) == list\n",
    "assert type(my_strs) == list\n",
    "\n",
    "# check to make sure all values in each list are of expected type\n",
    "assert all([type(x) == int for x in my_ints])\n",
    "assert all([type(x) == str for x in my_strs])"
   ]
  },
  {
   "cell_type": "markdown",
   "metadata": {
    "deletable": false,
    "editable": false,
    "nbgrader": {
     "cell_type": "markdown",
     "checksum": "dd61928b048723713c965de1b7dc8c89",
     "grade": false,
     "grade_id": "cell-cf7b42ba860cbf70",
     "locked": true,
     "schema_version": 3,
     "solution": false
    }
   },
   "source": [
    "## Part 3: Challenges\n",
    "\n",
    "Give tese a shot, but it's definitely ok if you don't figure these out all the way! Remember, if you don't figure out the answer, definitely check the answer key when posted!"
   ]
  },
  {
   "cell_type": "markdown",
   "metadata": {
    "deletable": false,
    "editable": false,
    "nbgrader": {
     "cell_type": "markdown",
     "checksum": "97009ab68edad7804e1ac90238de8558",
     "grade": false,
     "grade_id": "cell-04fe5b8439ca9114",
     "locked": true,
     "schema_version": 3,
     "solution": false
    }
   },
   "source": [
    "### Debugging Challenge\n",
    "\n",
    "You're trying to write code that will count the number of vowels in your name, storing that value in `counter`. To get started, you store your name in the variable `my_name` and write the code you see below. However, the code below is not quite working...work to debug the code below to accomplish the task!\n",
    "\n",
    "Note: This question uses a `for` loop. Next week's coding lab will get you lots of loops practice!"
   ]
  },
  {
   "cell_type": "code",
   "execution_count": null,
   "metadata": {
    "deletable": false,
    "nbgrader": {
     "cell_type": "code",
     "checksum": "3827f651eb174474cbbfd082c21f817e",
     "grade": false,
     "grade_id": "cell-1d48166464642c57",
     "locked": false,
     "schema_version": 3,
     "solution": true
    }
   },
   "outputs": [],
   "source": [
    "my_name == 'Shannon'\n",
    "vowels = ['A','E','I','O','U', 'a', 'e', 'i', 'o', 'u']\n",
    "counter = 0\n",
    "\n",
    "for char in my_name:\n",
    "    if char == vowels:\n",
    "        counter =  1\n",
    "\n",
    "# YOUR CODE HERE\n",
    "raise NotImplementedError()"
   ]
  },
  {
   "cell_type": "markdown",
   "metadata": {
    "deletable": false,
    "editable": false,
    "nbgrader": {
     "cell_type": "markdown",
     "checksum": "acf9bcc9bc615c28dccdbe72c7c015ff",
     "grade": false,
     "grade_id": "cell-56be1cfa79acdd93",
     "locked": true,
     "schema_version": 3,
     "solution": false
    }
   },
   "source": [
    "### Nested Loop Challenge\n",
    "\n",
    "Using nested loops, you will print out a pattern that looks like this:\n",
    "\n",
    "1 <br>\n",
    "1 2 <br>\n",
    "1 2 3 <br>\n",
    "1 2 3 4 <br>\n",
    "1 2 3 4 5 <br>\n",
    "1 2 3 4 5 6 <br>\n",
    "1 2 3 4 5 6 7\n",
    "\n",
    "Hints:\n",
    "- You can do this with two while loops, one inside the other.\n",
    "- You will have two indices counters, one for each loop. \n",
    "- For the print statement, it will look something like `print(index_inner, end=\" \")`"
   ]
  },
  {
   "cell_type": "code",
   "execution_count": null,
   "metadata": {
    "deletable": false,
    "nbgrader": {
     "cell_type": "code",
     "checksum": "4c8b8b076657b57150697c0f2ecf3b39",
     "grade": false,
     "grade_id": "cell-3be5b519bda3c9fd",
     "locked": false,
     "schema_version": 3,
     "solution": true
    }
   },
   "outputs": [],
   "source": [
    "# YOUR CODE HERE\n",
    "raise NotImplementedError()"
   ]
  },
  {
   "cell_type": "markdown",
   "metadata": {
    "deletable": false,
    "editable": false,
    "nbgrader": {
     "cell_type": "markdown",
     "checksum": "1a73f6458baa7366ff33979d1512370d",
     "grade": false,
     "grade_id": "cell-7e248a0ca4750ec0",
     "locked": true,
     "schema_version": 3,
     "solution": false
    }
   },
   "source": [
    "If you get the above pattern working, try manipulating the code to print out different patterns, and with different symbols. "
   ]
  },
  {
   "cell_type": "code",
   "execution_count": null,
   "metadata": {
    "deletable": false,
    "nbgrader": {
     "cell_type": "code",
     "checksum": "e96b9919ad478d9414368b62e0457112",
     "grade": true,
     "grade_id": "cell-d7ff87fc6930bed0",
     "locked": false,
     "points": 0,
     "schema_version": 3,
     "solution": true
    }
   },
   "outputs": [],
   "source": [
    "# YOUR CODE HERE\n",
    "raise NotImplementedError()"
   ]
  },
  {
   "cell_type": "markdown",
   "metadata": {
    "deletable": false,
    "editable": false,
    "nbgrader": {
     "cell_type": "markdown",
     "checksum": "7a921410172fa93547f5070589fb2be9",
     "grade": false,
     "grade_id": "cell-328179da0a2517e7",
     "locked": true,
     "schema_version": 3,
     "solution": false
    }
   },
   "source": [
    "## The End!\n",
    "\n",
    "This is the end of this Coding Lab!\n",
    "\n",
    "Be sure you've made a concerted effort to complete all the tasks specified in this lab. Then, go ahead and submit on datahub!"
   ]
  }
 ],
 "metadata": {
  "kernelspec": {
   "display_name": "Python 3 (ipykernel)",
   "language": "python",
   "name": "python3"
  },
  "language_info": {
   "codemirror_mode": {
    "name": "ipython",
    "version": 3
   },
   "file_extension": ".py",
   "mimetype": "text/x-python",
   "name": "python",
   "nbconvert_exporter": "python",
   "pygments_lexer": "ipython3",
   "version": "3.9.5"
  }
 },
 "nbformat": 4,
 "nbformat_minor": 2
}