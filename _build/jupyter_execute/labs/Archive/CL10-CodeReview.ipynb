{
 "cells": [
  {
   "cell_type": "markdown",
   "metadata": {},
   "source": [
    "# Optional Coding Lab : Code Review\n",
    "\n",
    "Welcome to the final (and optional) coding lab!\n",
    "\n",
    "In this coding lab we will be doing a code review of your project code. "
   ]
  },
  {
   "cell_type": "markdown",
   "metadata": {
    "collapsed": true
   },
   "source": [
    "## Procedure"
   ]
  },
  {
   "cell_type": "markdown",
   "metadata": {
    "collapsed": true
   },
   "source": [
    "How to do this code review:\n",
    "- Get together in groups of 2 or 3\n",
    "- Make sure everyone is clear and up to date on the project description posted on the website\n",
    "- Each person should briefly explain the idea of the project, and describe where they are in the project\n",
    "- Review each other's code, focusing on the elements below. Take notes on any comments you have, and write them down for the other person\n",
    "- Debrief each other on the comments you made"
   ]
  },
  {
   "cell_type": "markdown",
   "metadata": {},
   "source": [
    "### What to Focus On"
   ]
  },
  {
   "cell_type": "markdown",
   "metadata": {
    "collapsed": true
   },
   "source": [
    "When reviewing each other's code, focus on and try to provide feedback on each of the following elements:\n",
    "\n",
    "- Project idea\n",
    "    - Can you understand what the other person is trying to do, and how they will do it?\n",
    "    - Does it sound like an idea that meets the requirements of the class?\n",
    "- Code\n",
    "    - Do they have code that implements their idea? Does it work?\n",
    "    - Are they using appropriate code constructs (operators, conditionals, loops, etc)\n",
    "    - Is the code organized into functions and classes?\n",
    "    - If you have any ideas about their implementation (things they could change, ways they could refactor it), take note of these. \n",
    "- Style\n",
    "    - Do they follow good coding style? If not, which things in particular do they need to fix. \n",
    "        - Provide some examples!\n",
    "- Documentation\n",
    "    - Do they have documentation on their code? \n",
    "        - Where is it missing documentation?\n",
    "        - If they have documentation, is it properly formatted?\n",
    "    - If you find any code segments confusing, recommend using some in line comments\n",
    "- Recommendations\n",
    "    - Do you have any recommendations for the project?\n",
    "        - Is there anything you think they could do a bit different?\n",
    "        - Anything you think they could add?"
   ]
  },
  {
   "cell_type": "markdown",
   "metadata": {},
   "source": [
    "### Giving Good Feedback\n",
    "\n",
    "- There are always things that can be improved.\n",
    "    - 'Looks good' is not particularly useful feedback. What can they improve?\n",
    "    - Focus on actionable comments. What can they do to make this code better?\n",
    "- Keep in mind that the other person has thought about this idea more than you\n",
    "    - There is probably a reason why they did things the way they did.\n",
    "    - If they aren't doing something that you think is obvious, ask why before jumping into assuming they've missed something. \n",
    "- Acknowledge where the person is in the process\n",
    "    - You don't have to list out things they already know they still have to do\n",
    "- Make sure, as you do your code reviews, that you are kind and respectful\n",
    "    - The goal here is to help each work through the project, and to get feedback from another person, highlighting anything that the person might have missed\n",
    "    - Productive code reviews should be done with the with a sincere intention of helping the other person"
   ]
  },
  {
   "cell_type": "markdown",
   "metadata": {},
   "source": [
    "### Receiving Feedback\n",
    "\n",
    "- Remember that the other person should be working in good faith to help you out\n",
    "    - Don't get defensive - hear them out. Listen to what they are saying. \n",
    "    - Pause your first reaction. Take a second to acknowledge where they are coming from before responding\n",
    "- If anything is unclear about the feedback, ask questions\n",
    "    - If you are not sure what they mean about a particular idea, ask for an example\n",
    "- Thank the other person for taking the time and effort to provide feedback on your project"
   ]
  },
  {
   "cell_type": "markdown",
   "metadata": {},
   "source": [
    "### Notes\n",
    "- If you have time, you can do more than one code review, with another person.\n",
    "- If you want to, you are recommended to organize with other students to do additional code reviews, outside of the coding lab."
   ]
  }
 ],
 "metadata": {
  "kernelspec": {
   "display_name": "Python 3",
   "language": "python",
   "name": "python3"
  },
  "language_info": {
   "codemirror_mode": {
    "name": "ipython",
    "version": 3
   },
   "file_extension": ".py",
   "mimetype": "text/x-python",
   "name": "python",
   "nbconvert_exporter": "python",
   "pygments_lexer": "ipython3",
   "version": "3.6.8"
  }
 },
 "nbformat": 4,
 "nbformat_minor": 2
}