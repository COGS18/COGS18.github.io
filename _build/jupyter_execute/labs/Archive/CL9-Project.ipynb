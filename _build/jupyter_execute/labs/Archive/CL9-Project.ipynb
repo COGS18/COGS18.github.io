{
 "cells": [
  {
   "cell_type": "markdown",
   "metadata": {},
   "source": [
    "# Coding Lab 9: Project\n",
    "\n",
    "Welcome to the ninth coding lab!\n",
    "\n",
    "This coding lab is all about your project. \n",
    "\n",
    "Alone or with a partner, discuss your code and work on your project. \n",
    "\n",
    "Help one another debug. \n",
    "\n",
    "Use this time to write code, work out bugs, and get feedback.\n",
    "\n",
    "Get feedback on your code, both from your fellow students and available course staff. "
   ]
  }
 ],
 "metadata": {
  "kernelspec": {
   "display_name": "Python 3",
   "language": "python",
   "name": "python3"
  },
  "language_info": {
   "codemirror_mode": {
    "name": "ipython",
    "version": 3
   },
   "file_extension": ".py",
   "mimetype": "text/x-python",
   "name": "python",
   "nbconvert_exporter": "python",
   "pygments_lexer": "ipython3",
   "version": "3.6.8"
  }
 },
 "nbformat": 4,
 "nbformat_minor": 2
}