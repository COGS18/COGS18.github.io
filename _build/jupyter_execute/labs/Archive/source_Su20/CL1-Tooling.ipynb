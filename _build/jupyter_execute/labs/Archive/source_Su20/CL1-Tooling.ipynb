{
 "cells": [
  {
   "cell_type": "markdown",
   "metadata": {
    "nbgrader": {
     "grade": false,
     "grade_id": "cell-fe674f12a873eecc",
     "locked": true,
     "schema_version": 3,
     "solution": false
    }
   },
   "source": [
    "# Coding Lab 1: Tech Setup & Tooling\n",
    "\n",
    "Welcome to the first coding lab!\n",
    "\n",
    "CodingLab labs are meant to be interactive - so, feel free to find another person to work together with on your CodingLab notebooks. \n",
    "\n",
    "For this lab, it's really important that you're comfortable with all of the tools we introduce here, as we'll be using them throughout the quarter. So, while you should feel free to consult with your classmates, you'll want to be sure you carry out each part on your own. \n",
    "\n",
    "If you have a question about how something works / what something does - try it out, and see what happens! If you get stuck, consult your classmates. If you're still stuck, your instructional staff are there to help!"
   ]
  },
  {
   "cell_type": "markdown",
   "metadata": {
    "nbgrader": {
     "grade": false,
     "grade_id": "cell-6c2e3c6cef5a53e2",
     "locked": true,
     "schema_version": 3,
     "solution": false
    }
   },
   "source": [
    "## Reminders: \n",
    "\n",
    "- **PLEASE DO NOT CHANGE THE NAME OF THIS FILE.**\n",
    "- **PLEASE DO NOT COPY & PASTE OR DELETE CELLS INLCUDED IN THE ASSIGNMENT.** (Adding new cells is allowed!)"
   ]
  },
  {
   "cell_type": "markdown",
   "metadata": {
    "nbgrader": {
     "grade": false,
     "grade_id": "cell-9ae624cb9ab52685",
     "locked": true,
     "schema_version": 3,
     "solution": false
    }
   },
   "source": [
    "## Part 1: Jupyter\n",
    "\n",
    "This is a Jupyter Notebook! They are a very helpful learning tool because they allow plain text (like this!) and code (coming up!) to be combined in a single document.\n",
    "\n",
    "The notes presented in lecture are Jupyter Notebooks. Your CodingLabs will be in Jupyter Notebooks. And, your assignments will be completed in Jupyter Notebooks. So, you'll want to get very comfortable with working within a notebook."
   ]
  },
  {
   "cell_type": "markdown",
   "metadata": {
    "nbgrader": {
     "grade": false,
     "grade_id": "cell-de4843e93c444918",
     "locked": true,
     "schema_version": 3,
     "solution": false
    }
   },
   "source": [
    "## Cells \n",
    "\n",
    "The operational unit of the notebook is the cell.\n",
    "\n",
    "Cells are primarily either text (Markdown) or code. \n",
    "\n",
    "If you click on this cell, you should see in the menu above that it says \"Markdown\"\n",
    "\n"
   ]
  },
  {
   "cell_type": "markdown",
   "metadata": {
    "nbgrader": {
     "grade": false,
     "grade_id": "cell-28a659019a298819",
     "locked": true,
     "schema_version": 3,
     "solution": false
    }
   },
   "source": [
    "### YOUR TURN: Add a new cell\n",
    "\n",
    "Single click on this cell. \n",
    "\n",
    "Then, click the '+' icon on the toolbar at the top to add a new cell below this one."
   ]
  },
  {
   "cell_type": "markdown",
   "metadata": {
    "nbgrader": {
     "grade": false,
     "grade_id": "cell-211cdc46ddaa7f9b",
     "locked": true,
     "schema_version": 3,
     "solution": false
    }
   },
   "source": [
    "The cell you just added above is a code cell by default. You can tell by the `In [ ]:` to the left of the cell and the fact that the drop-down box above says \"Code\"\n",
    "\n",
    "Use that drop-down menu to change the type of that cell you just created to be a text cell. Type the following in that cell \"Learning to program in Python makes me ...\" and finish the sentence with how you feel about learning to program in python."
   ]
  },
  {
   "cell_type": "markdown",
   "metadata": {},
   "source": [
    "### YOUR TURN: Editing Text Cells\n",
    "\n",
    "To edit the text in this cell, double-click on it.\n",
    "\n",
    "Add information below about yourself to get practice with editing text cells.\n",
    "\n",
    "Name:   \n",
    "PID:  \n",
    "College:  \n",
    "Major:  \n"
   ]
  },
  {
   "cell_type": "markdown",
   "metadata": {
    "nbgrader": {
     "grade": false,
     "grade_id": "cell-12ed58b912b113d8",
     "locked": true,
     "schema_version": 3,
     "solution": false
    }
   },
   "source": [
    "### Markdown\n",
    "\n",
    "As discussed in lecture, these cells are formatted using [Markdown syntax](https://www.markdownguide.org/basic-syntax/). \n",
    "\n",
    "Edit the text in the cell below so that it has the formatting specified by the text. \n",
    "\n",
    "For example, if the text said:\n",
    "\n",
    "This sentence is bold.\n",
    "\n",
    "You would edit the text so that it was bold:\n",
    "\n",
    "**This sentence is bold.**\n",
    "\n",
    "Note that to see the formatting changes, you'll have to run the cell using the Run icon above (or more simply use 'Shift + Enter' on your keyboard."
   ]
  },
  {
   "cell_type": "markdown",
   "metadata": {},
   "source": [
    "### YOUR TURN: Edit this text\n",
    "\n",
    "This is a heading level 4 (H4)\n",
    "\n",
    "This sentence is italicized.\n",
    "\n",
    "Below is a bulleted list:\n",
    "bullet item 1 \n",
    "bullet item 2\n",
    "bullet item 3\n",
    "\n",
    "Below is a numbered list:\n",
    "list item 1\n",
    "list item 2\n",
    "list item 3\n",
    "\n",
    "This sentence is bold AND italic."
   ]
  },
  {
   "cell_type": "markdown",
   "metadata": {
    "nbgrader": {
     "grade": false,
     "grade_id": "cell-7c824f4693ef2a74",
     "locked": true,
     "schema_version": 3,
     "solution": false
    }
   },
   "source": [
    "### Code Cells\n",
    "\n",
    "Below this cell, you see a code cell. \n",
    "\n",
    "Code is added to cells, but they have to be Run (executed) for the code to be processed.\n",
    "\n",
    "Type `x = 3` in the code cell below. Then, click \"Run\" from the menu above of press 'Shift + Enter' on your keybood to execute that code."
   ]
  },
  {
   "cell_type": "code",
   "execution_count": null,
   "metadata": {
    "nbgrader": {
     "grade": true,
     "grade_id": "cell-2449433ea75407f8",
     "locked": false,
     "points": 0,
     "schema_version": 3,
     "solution": true
    }
   },
   "outputs": [],
   "source": [
    "\n"
   ]
  },
  {
   "cell_type": "markdown",
   "metadata": {
    "nbgrader": {
     "grade": false,
     "grade_id": "cell-3a4613788c98806a",
     "locked": true,
     "schema_version": 3,
     "solution": false
    }
   },
   "source": [
    "After running the code cell above, there will be a number between the brackets to the left of the cell. Each time you run a code cell, this number will increase by 1. Run the code cell below to see what we mean."
   ]
  },
  {
   "cell_type": "code",
   "execution_count": 1,
   "metadata": {},
   "outputs": [],
   "source": [
    "y = 29"
   ]
  },
  {
   "cell_type": "markdown",
   "metadata": {
    "collapsed": true,
    "nbgrader": {
     "grade": false,
     "grade_id": "cell-7c6f45a2d00b7ab3",
     "locked": true,
     "schema_version": 3,
     "solution": false
    }
   },
   "source": [
    "One thing that sometimes trips users up is the fact that cells do NOT have to be run in order from top to bottom. Python remembers whatever was executed most recently. To see what we mean, run the cell below and see what it returns:"
   ]
  },
  {
   "cell_type": "code",
   "execution_count": 2,
   "metadata": {},
   "outputs": [
    {
     "ename": "NameError",
     "evalue": "name 'x' is not defined",
     "output_type": "error",
     "traceback": [
      "\u001b[0;31m---------------------------------------------------------------------------\u001b[0m",
      "\u001b[0;31mNameError\u001b[0m                                 Traceback (most recent call last)",
      "\u001b[0;32m<ipython-input-2-6fcf9dfbd479>\u001b[0m in \u001b[0;36m<module>\u001b[0;34m()\u001b[0m\n\u001b[0;32m----> 1\u001b[0;31m \u001b[0mx\u001b[0m\u001b[0;34m\u001b[0m\u001b[0m\n\u001b[0m",
      "\u001b[0;31mNameError\u001b[0m: name 'x' is not defined"
     ]
    }
   ],
   "source": [
    "x"
   ]
  },
  {
   "cell_type": "markdown",
   "metadata": {
    "collapsed": true,
    "nbgrader": {
     "grade": false,
     "grade_id": "cell-78adb95663850262",
     "locked": true,
     "schema_version": 3,
     "solution": false
    }
   },
   "source": [
    "Now, return to the cell above where you defined `x = 3` and change it to `x = 9`. Be sure to re-run this cell. When you do so, note that the number to the left of the cell updates to be the most recent number. `x` is now defined as 9, as that is the most recent cell that executed. \n",
    "\n",
    "The **order** in which the cells are run matters **NOT** the order in which they appear in the notebook."
   ]
  },
  {
   "cell_type": "markdown",
   "metadata": {
    "nbgrader": {
     "grade": false,
     "grade_id": "cell-ae6d910067c2e886",
     "locked": true,
     "schema_version": 3,
     "solution": false
    }
   },
   "source": [
    "## Part 2: CodingLab & Assignment Submission\n",
    "\n",
    "Assignments will be retrieved and submitted on [datahub](https://datahub.ucsd.edu).\n",
    "\n",
    "**Datahub** is a server-based service hosted by UCSD. It provides each of you with a space to complete your work. This is space on a UCSD server. You have your own account where you can save your own files and do your own computing. This is what you'll use to complete your assignments.\n",
    "\n"
   ]
  },
  {
   "cell_type": "markdown",
   "metadata": {
    "nbgrader": {
     "grade": false,
     "grade_id": "cell-55220e989e91225a",
     "locked": true,
     "schema_version": 3,
     "solution": false
    }
   },
   "source": [
    "### Step 1: Log Into datahub\n",
    "\n",
    "To get this CodingLab, your Instructional Staff guided you through logging onto datahub. Be sure that you're familiar with this process. The steps are explained below.\n",
    "\n",
    "**Log in (using your UCSD credentials/gmail account) to [datahub](https://datahub.ucsd.edu).**\n",
    "\n",
    "Note that *if* you are officially on the class roster (this includes those on the waitlist!), there will be an environment for this class there for you. For example, for the Spring 2020, you should see COGS18_SP20_A00. Click on this and then click 'Launch Environment'.\n",
    "\n",
    "Your server space will launch.\n",
    "\n",
    "Notice the tabs along the top. One of these should say \"Assignments.\" This is where you will fetch, complete, and submit coding labs and assignments. Let's practice this process now.\n"
   ]
  },
  {
   "cell_type": "markdown",
   "metadata": {
    "collapsed": true,
    "nbgrader": {
     "grade": false,
     "grade_id": "cell-fd2053e5ca8ef76d",
     "locked": true,
     "schema_version": 3,
     "solution": false
    }
   },
   "source": [
    "### Step 2: Fetch Assignment\n",
    "\n",
    "Under the 'Assignments' tab, you will see an assignment called 'Practice'. \n",
    "\n",
    "1. **Click Fetch** to get your copy of this practice assignment. \n",
    "\n",
    "        After clicking Fetch, this assignment will be listed under your \"Downloaded Assignments\". \n",
    "        You *could* click on this assignment there, but let's take a look at where this assignment lives on your space in the server. \n",
    "\n",
    "2. **Click on the Files tab** along the top. There should now be a directory (folder) in there called \"Practice\"\n",
    "\n",
    "3. **Click on the \"Practice\" directory** to display its contents.\n",
    "\n",
    "4. Within this directory, you'll see a Jupyter Notebook. **Click on this notebook** to open it up. \n",
    "\n",
    "Now, once you open up this file, you're ready to complete the practice assignment!\n"
   ]
  },
  {
   "cell_type": "markdown",
   "metadata": {
    "nbgrader": {
     "grade": false,
     "grade_id": "cell-2331319b623bd23c",
     "locked": true,
     "schema_version": 3,
     "solution": false
    }
   },
   "source": [
    "<div class=\"alert alert-danger\">\n",
    "Whatever you do, please <b> DO NOT RENAME CODINGLAB OR ASSIGNMENT NOTEBOOK FILES! </b>\n",
    "</div>"
   ]
  },
  {
   "cell_type": "markdown",
   "metadata": {
    "collapsed": true,
    "nbgrader": {
     "grade": false,
     "grade_id": "cell-202ad44a2c44b4c3",
     "locked": true,
     "schema_version": 3,
     "solution": false
    }
   },
   "source": [
    "When completing your assignments, you will write and execute your code directly within this document, but you **should not** rename it. Our autograding system is expecting a file of the same name. "
   ]
  },
  {
   "cell_type": "markdown",
   "metadata": {
    "nbgrader": {
     "grade": false,
     "grade_id": "cell-00cb536d7274bfec",
     "locked": true,
     "schema_version": 3,
     "solution": false
    }
   },
   "source": [
    "### Step 3: Complete & Submit\n",
    "\n",
    "Complete the assignment within the notebook you've just opened up. \n",
    "\n",
    "Be sure to read all of the text within the notebook as this information applies to all of your assignment submissions this quarter.\n",
    "\n",
    "Once you complete the assignment, submit it on Datahub. You'll see this assignment show up within the \"Submitted Assignments\" section within the \"Assignments\" tab.\n",
    "\n",
    "We're not going to grade this one, but we wanted to be sure you all got practice before doing the real thing for class."
   ]
  },
  {
   "cell_type": "markdown",
   "metadata": {
    "nbgrader": {
     "grade": false,
     "grade_id": "cell-5c60493d83a91395",
     "locked": true,
     "schema_version": 3,
     "solution": false
    }
   },
   "source": [
    "<div class=\"alert alert-danger\">\n",
    "If you fail to click \"Submit\", we will not have access to or be able to grade your assignment. <b>ALWAYS REMEMBER TO CLICK SUBMIT.</b>\n",
    "</div>"
   ]
  },
  {
   "cell_type": "markdown",
   "metadata": {
    "nbgrader": {
     "grade": false,
     "grade_id": "cell-957a682d1717d9cc",
     "locked": true,
     "schema_version": 3,
     "solution": false
    }
   },
   "source": [
    "## Part 3: Anaconda\n",
    "\n",
    "As noted above, assignments, coding labs and exams will be completed on Datahub. However, you will lose access to datahub aftert his course. This means, that if you want to have the tools we use here, you'll want to have them installed on your own computer.\n",
    "\n",
    "To ensure that this is possible, we ask that you **download the [Anaconda Distribution](https://www.anaconda.com/distribution/) now**. This is available for mac, windows,and linux operating systems. However, note that if you have a linux-based machine, you may run into a few hurdles upon installation.\n",
    "\n",
    "The Anaconda distribution is:\n",
    "\n",
    "> a package manager, an environment manager, a Python/R data science distribution, and a collection of over 1,500+ open source packages. Anaconda is free and easy to install, and it offers free community support.\"\n",
    "\n",
    "This provides you with a local copy of Jupyter and access to commonly-used python packages.\n"
   ]
  },
  {
   "cell_type": "markdown",
   "metadata": {
    "nbgrader": {
     "grade": false,
     "grade_id": "cell-f7ccbf88f9481134",
     "locked": true,
     "schema_version": 3,
     "solution": false
    }
   },
   "source": [
    "## The End!\n",
    "\n",
    "This is the end of the first Coding Lab!\n",
    "\n",
    "Be sure you've made a concerted effort to complete all the tasks specified in this lab. Then, go ahead and submit on datahub!"
   ]
  }
 ],
 "metadata": {
  "celltoolbar": "Create Assignment",
  "kernelspec": {
   "display_name": "Python 3",
   "language": "python",
   "name": "python3"
  },
  "language_info": {
   "codemirror_mode": {
    "name": "ipython",
    "version": 3
   },
   "file_extension": ".py",
   "mimetype": "text/x-python",
   "name": "python",
   "nbconvert_exporter": "python",
   "pygments_lexer": "ipython3",
   "version": "3.7.0"
  }
 },
 "nbformat": 4,
 "nbformat_minor": 2
}