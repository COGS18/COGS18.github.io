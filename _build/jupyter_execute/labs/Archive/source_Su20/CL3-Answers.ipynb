{
 "cells": [
  {
   "cell_type": "markdown",
   "metadata": {},
   "source": [
    "# CL3: Functions\n",
    "\n",
    "Welcome to the third coding lab!\n",
    "\n",
    "In this CodingLab we will be thinking and working on functions and algorithms. \n",
    "\n",
    "The first part is more abstract - thinking about algorithms and functions, and sketching out some pseudocode. \n",
    "\n",
    "After that, we'll move to more practice with functions. "
   ]
  },
  {
   "cell_type": "markdown",
   "metadata": {},
   "source": [
    "## Part I: PseudoCode\n",
    "\n",
    "First, let's briefly consider the idea of pseudocode. \n",
    "\n",
    "Pseudocode is an informal, 'high-level' sketch or description of a program or algorithm. \n",
    "\n",
    "It will typically resemble the structure of a program, but the details to make it actually run have not been fleshed out. "
   ]
  },
  {
   "cell_type": "markdown",
   "metadata": {},
   "source": [
    "### Pseudocode Human Language\n",
    "\n",
    "Some pseudocode is written in human level language, in a way that sketches out the tasks and general control flow. \n",
    "\n",
    "This highly abstract pseudocode is often not specific to any particular programming language. "
   ]
  },
  {
   "cell_type": "markdown",
   "metadata": {},
   "source": [
    "```\n",
    "# PseudoCode for checking if a student got full credit on assignment\n",
    "\n",
    "function that takes a list of student ids with student grades\n",
    "\n",
    "    create an output object to collect full credit\n",
    "\n",
    "    for student in list of grades\n",
    "\n",
    "        if grade of student is equal to max grade\n",
    "            add to list of full credits\n",
    "\n",
    "    return list of students who got full credit\n",
    "```"
   ]
  },
  {
   "cell_type": "markdown",
   "metadata": {},
   "source": [
    "### Pseudocode in Python format\n",
    "\n",
    "You can also write pseudocode, that is much closer to Python, including Python syntax, but that is more of a template / outline. \n",
    "\n",
    "PseudoCode like this is sometimes just a work-in-progress that is just not yet finished. \n",
    "\n",
    "Note the use of the `pass` keyword - `pass` is just a placeholder keyword, that does nothing."
   ]
  },
  {
   "cell_type": "code",
   "execution_count": 1,
   "metadata": {},
   "outputs": [],
   "source": [
    "# PseudoCode for a function to email a list of emails, and return a log of what was sent\n",
    "def sent_emails(list_of_emails):\n",
    "\n",
    "    emails_sent = {}  # Define an output variable for the logging\n",
    "\n",
    "    for email in list_of_emails:\n",
    "\n",
    "        # Send email to current student\n",
    "        pass\n",
    "\n",
    "        # Add logging information that email was sent\n",
    "        email_sent[email] = True\n",
    "\n",
    "    return emails_sent"
   ]
  },
  {
   "cell_type": "markdown",
   "metadata": {},
   "source": [
    "## Part II: Computation &  Algorithms\n",
    "\n",
    "Both computers and humans are good at some things, and bad at others. However, it tends to be different things that computers and humans are good at. \n",
    "\n",
    "Here is a list of possible tasks that a human and/or computer could try and do:\n",
    "\n",
    "- Given a list of 100K values, find the average and range of the list\n",
    "- Sort an array of randomly generated numbers from smallest to largest\n",
    "- Recognize the saddest part of a movie\n",
    "- Recall specific facts, like answering 'which day of the week was the 1st of June, 1997\n",
    "- Identify the likely country of origin of a person from their accent\n",
    "- Create a meme\n",
    "- Sort a list of 10,000 names alphabetically\n",
    "- Rank memes in order of how funny they are\n",
    "- Given two locations, figure out the best route to drive to get between them\n",
    "- Recognize the emotional state of a person\n",
    "- Flexibly change strategy, based on cues in the environment\n",
    "- Write and perform a winning rap battle \n",
    "- Learn and be able to understand a human language\n",
    "- Learn and be able to understand a programming language\n",
    "- Play tic-tac-toe\n",
    "- Write a review of a movie\n",
    "- Play chess\n",
    "- Play PACMAN"
   ]
  },
  {
   "cell_type": "markdown",
   "metadata": {},
   "source": [
    "### Instructions\n",
    "\n",
    "For the tasks above, we want to try and decide whether it is a task that computers would be better at, that humans would be better at, or if it would be a tie.\n",
    "\n",
    "In small groups (2 or 3 people), pick 3 or 4 examples from the list of tasks above, have a quick discussion about the task and hand and try to answer the question of who (computers and/or humans) this task would be easier for. \n",
    "\n",
    "For each task, try to imagine how you might try and do this in Python. \n",
    "\n",
    "Use pseudocode to sketch out an outline of the procedure. \n",
    "- If you think it is something computers can do well, your pseudocode should roughly cover the whole process.\n",
    "- If you think think it is more of a human thing, try to identify which part of the process, in particular, is difficult to specify within a formal algorithm. \n",
    "\n",
    "As you work through a few examples, make sure you talk through at least one of each of 'computer better' and 'human better' task. \n",
    "\n",
    "Note: as a rule of thumb, computers can do, and are good at anything we can write down an algorithm to complete. \n",
    "\n",
    "So one way to think of this task is to think through if and how you can think of writing an algorithm to complete this task.\n",
    "\n",
    "Below is an example, with an answer for the first listed task."
   ]
  },
  {
   "cell_type": "markdown",
   "metadata": {},
   "source": [
    "#### Example: Given a list of 100K values, find the average and range of the list\n",
    "\n",
    "This is a task that is easier for computers because we can write down a clear set of steps to complete this task (we can write an algorithm). \n",
    "\n",
    "Humans would not be good at completing this task, as there are a lot of steps to complete, and it would be slow, and we might not have the memory to do it.  "
   ]
  },
  {
   "cell_type": "code",
   "execution_count": 2,
   "metadata": {},
   "outputs": [],
   "source": [
    "# Pseudocode for array statistics\n",
    "def array_statistics():\n",
    "    \n",
    "    # Find the mean of the array. \n",
    "    pass\n",
    "    # To do so:\n",
    "        # Find the total sum of the array\n",
    "        # Find the number of elements in the array\n",
    "        # Divide the sum by the number of elements\n",
    "        \n",
    "    # Find the range of the array. \n",
    "    pass\n",
    "    # To do so:\n",
    "        # Find the maximum value of the array\n",
    "        # Find the minimum value of the array\n",
    "        # Calculate range by subtracting the max from the min for the array\n",
    "    \n",
    "    # Return the mean and range of the array\n",
    "    return None"
   ]
  },
  {
   "cell_type": "code",
   "execution_count": 3,
   "metadata": {},
   "outputs": [],
   "source": [
    "## Make some notes & write some pseudocode for you chosen tasks here\n",
    "\n",
    "\n"
   ]
  },
  {
   "cell_type": "markdown",
   "metadata": {},
   "source": [
    "## Part III Functions\n",
    "\n",
    "Functions are a way to organize code into a procedure that we can repeat and use whenever we want. "
   ]
  },
  {
   "cell_type": "markdown",
   "metadata": {},
   "source": [
    "### Function Questions"
   ]
  },
  {
   "cell_type": "markdown",
   "metadata": {},
   "source": [
    "#### Write a function that takes one input, multiplies it by two and returns the result\n",
    "\n",
    "This function has been started for you, with the name `mult_two`.\n",
    "\n",
    "Add some more code to finish this function. "
   ]
  },
  {
   "cell_type": "code",
   "execution_count": 4,
   "metadata": {},
   "outputs": [],
   "source": [
    "def mult_two(input_number):\n",
    "    \n",
    "    # YOUR CODE HERE\n",
    "    answer = input_number * 2\n",
    "    return answer"
   ]
  },
  {
   "cell_type": "code",
   "execution_count": 5,
   "metadata": {},
   "outputs": [
    {
     "data": {
      "text/plain": [
       "4"
      ]
     },
     "execution_count": 5,
     "metadata": {},
     "output_type": "execute_result"
    }
   ],
   "source": [
    "# Check that we can use the function\n",
    "mult_two(2)"
   ]
  },
  {
   "cell_type": "code",
   "execution_count": 6,
   "metadata": {},
   "outputs": [],
   "source": [
    "# Check this function returns the correct outputs\n",
    "assert mult_two(2) == 4\n",
    "assert mult_two(3) == 6"
   ]
  },
  {
   "cell_type": "markdown",
   "metadata": {},
   "source": [
    "#### Write a function that takes two inputs, adds them together, and returns the result\n",
    "\n",
    "Call this function `add_two`."
   ]
  },
  {
   "cell_type": "code",
   "execution_count": 7,
   "metadata": {},
   "outputs": [],
   "source": [
    "def add_two(num1, num2):\n",
    "\n",
    "    answer = num1 + num2\n",
    "    return answer"
   ]
  },
  {
   "cell_type": "code",
   "execution_count": 8,
   "metadata": {},
   "outputs": [
    {
     "data": {
      "text/plain": [
       "4"
      ]
     },
     "execution_count": 8,
     "metadata": {},
     "output_type": "execute_result"
    }
   ],
   "source": [
    "# Check that you can use the function\n",
    "add_two(2, 2)"
   ]
  },
  {
   "cell_type": "code",
   "execution_count": 9,
   "metadata": {},
   "outputs": [],
   "source": [
    "# Check this function returns the correct number\n",
    "assert add_two(2, 2) == 4\n",
    "assert add_two(3, 2) == 5"
   ]
  },
  {
   "cell_type": "markdown",
   "metadata": {},
   "source": [
    "## Functions Explorations"
   ]
  },
  {
   "cell_type": "markdown",
   "metadata": {},
   "source": [
    "### Write a function with a conditional inside it\n",
    "\n",
    "You can decide what this function does. \n",
    "\n",
    "It could, for example, take a boolean, and print out a status if the input is True. "
   ]
  },
  {
   "cell_type": "code",
   "execution_count": 10,
   "metadata": {},
   "outputs": [],
   "source": [
    "# YOUR CODE HERE\n",
    "def check_bool(input_bool):\n",
    "    \n",
    "    if input_bool == True:\n",
    "        print('Status is True')\n",
    "    else:\n",
    "        print('Status is not True')"
   ]
  },
  {
   "cell_type": "code",
   "execution_count": 11,
   "metadata": {},
   "outputs": [
    {
     "name": "stdout",
     "output_type": "stream",
     "text": [
      "Status is True\n"
     ]
    }
   ],
   "source": [
    "# Check the function\n",
    "check_bool(True)"
   ]
  },
  {
   "cell_type": "markdown",
   "metadata": {},
   "source": [
    "### Write a function with a loop inside it\n",
    "\n",
    "You can decide what this function does. \n",
    "\n",
    "It could, for example, take a list of numbers, and add 1 to each element, and return the new list. "
   ]
  },
  {
   "cell_type": "code",
   "execution_count": 12,
   "metadata": {},
   "outputs": [],
   "source": [
    "# YOUR CODE HERE\n",
    "def adder(in_list):\n",
    "\n",
    "    out_list = []\n",
    "\n",
    "    for it in in_list:\n",
    "        out_list.append(it + 1)\n",
    "        \n",
    "    return out_list"
   ]
  },
  {
   "cell_type": "code",
   "execution_count": 13,
   "metadata": {},
   "outputs": [
    {
     "data": {
      "text/plain": [
       "[2, 3, 4]"
      ]
     },
     "execution_count": 13,
     "metadata": {},
     "output_type": "execute_result"
    }
   ],
   "source": [
    "# Check the function\n",
    "adder([1, 2, 3])"
   ]
  },
  {
   "cell_type": "markdown",
   "metadata": {},
   "source": [
    "### Write a function with a loop and a conditional inside it\n",
    "\n",
    "You can decide what this function does. \n",
    "\n",
    "It could, for example, take a list of booleans, and count how many elements are True, returning a count of `True` values. "
   ]
  },
  {
   "cell_type": "code",
   "execution_count": 14,
   "metadata": {},
   "outputs": [],
   "source": [
    "# YOUR CODE HERE\n",
    "def count_bool(list_of_bools):\n",
    "    \n",
    "    counter = 0\n",
    "    \n",
    "    for it in list_of_bools:\n",
    "    \n",
    "        if isinstance(it, bool):\n",
    "            counter = counter + 1\n",
    "    \n",
    "    return counter"
   ]
  },
  {
   "cell_type": "code",
   "execution_count": 15,
   "metadata": {},
   "outputs": [
    {
     "data": {
      "text/plain": [
       "2"
      ]
     },
     "execution_count": 15,
     "metadata": {},
     "output_type": "execute_result"
    }
   ],
   "source": [
    "# Check the function\n",
    "count_bool([True, None, False, 12])"
   ]
  },
  {
   "cell_type": "markdown",
   "metadata": {
    "nbgrader": {
     "grade": false,
     "grade_id": "cell-e863669962e037c1",
     "locked": true,
     "schema_version": 3,
     "solution": false
    }
   },
   "source": [
    "## Part IV: (Even More) Functions "
   ]
  },
  {
   "cell_type": "markdown",
   "metadata": {},
   "source": [
    "### Reverse a string Function\n",
    "\n",
    "Write a function `reverse_string` that will take a string as an input and `return` the reverse of that string as its output. (For example, if the input were 'apple' the function woudl return 'elppa'\n",
    "\n",
    "Note that there are multiple ways in which to approach this. One possible approach would use the logic laid out in this pseudocode:\n",
    "\n",
    "```python\n",
    "# define function with input\n",
    "    \n",
    "    # generate empty string\n",
    "    # start counter at the length of the input string\n",
    "    \n",
    "    # while the counter is more than zero\n",
    "        # add the letter at index into the input string starting at end of input string to growing string\n",
    "        # decrease counter by 1\n",
    "    \n",
    "    # return string \n",
    "```"
   ]
  },
  {
   "cell_type": "code",
   "execution_count": 16,
   "metadata": {
    "nbgrader": {
     "grade": true,
     "grade_id": "cell-a6f2eefc87db8517",
     "locked": false,
     "points": 0,
     "schema_version": 3,
     "solution": true
    }
   },
   "outputs": [],
   "source": [
    "def reverse_string(input_string):\n",
    "    \n",
    "    rev = ''\n",
    "    counter = len(input_string) \n",
    "    \n",
    "    while counter > 0: \n",
    "        rev = rev + input_string[counter - 1]\n",
    "        counter = counter - 1\n",
    "    \n",
    "    return rev"
   ]
  },
  {
   "cell_type": "code",
   "execution_count": 17,
   "metadata": {},
   "outputs": [],
   "source": [
    "assert reverse_string('apple') == 'elppa'"
   ]
  },
  {
   "cell_type": "markdown",
   "metadata": {
    "nbgrader": {
     "grade": false,
     "grade_id": "cell-7c46e094655f72b8",
     "locked": true,
     "schema_version": 3,
     "solution": false
    }
   },
   "source": [
    "### Palindrome Function\n",
    "\n",
    "Write a function `check_palindrome` that takes a string as an input and within that function determines whether the input string is a palindrome or not (a word or phrase that is read the same forward as it is backward - i.e. kayak, dad, etc.). \n",
    "\n",
    "If it is a palindrome, `return` 'Hey! That's a palindrome!'\n",
    "\n",
    "If it is not a palindrome, `return` 'Bummer. Not a palindrome.'\n",
    "\n",
    "Remember that you created a function that can reverse a string above."
   ]
  },
  {
   "cell_type": "code",
   "execution_count": 18,
   "metadata": {
    "nbgrader": {
     "grade": true,
     "grade_id": "cell-d8674d6dc7bbe1c6",
     "locked": false,
     "points": 0,
     "schema_version": 3,
     "solution": true
    }
   },
   "outputs": [],
   "source": [
    "def check_palindrome(input_string):\n",
    "    rev = reverse_string(input_string)\n",
    "\n",
    "    if rev == input_string:\n",
    "        out = \"Hey! That's a palindrome!\"\n",
    "    else:\n",
    "        out = \"Bummer. Not a palindrome.\"\n",
    "    \n",
    "    return out"
   ]
  },
  {
   "cell_type": "code",
   "execution_count": 19,
   "metadata": {},
   "outputs": [],
   "source": [
    "assert check_palindrome('kayak') == \"Hey! That's a palindrome!\"\n",
    "assert check_palindrome('blargh') == 'Bummer. Not a palindrome.'"
   ]
  },
  {
   "cell_type": "markdown",
   "metadata": {
    "nbgrader": {
     "grade": false,
     "grade_id": "cell-95d5465d0a6a0ec5",
     "locked": true,
     "schema_version": 3,
     "solution": false
    }
   },
   "source": [
    "## The End!\n",
    "\n",
    "This is the end of this Coding Lab!\n",
    "\n",
    "Be sure you've made a concerted effort to complete all the tasks specified in this lab. Then, go ahead and submit on datahub!"
   ]
  }
 ],
 "metadata": {
  "kernelspec": {
   "display_name": "Python 3",
   "language": "python",
   "name": "python3"
  },
  "language_info": {
   "codemirror_mode": {
    "name": "ipython",
    "version": 3
   },
   "file_extension": ".py",
   "mimetype": "text/x-python",
   "name": "python",
   "nbconvert_exporter": "python",
   "pygments_lexer": "ipython3",
   "version": "3.7.0"
  }
 },
 "nbformat": 4,
 "nbformat_minor": 2
}