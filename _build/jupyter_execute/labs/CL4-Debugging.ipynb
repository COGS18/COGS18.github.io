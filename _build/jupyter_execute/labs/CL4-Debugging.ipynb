{
 "cells": [
  {
   "cell_type": "markdown",
   "metadata": {
    "nbgrader": {
     "grade": false,
     "grade_id": "cell-e8537ebe6502c993",
     "locked": true,
     "schema_version": 3,
     "solution": false
    }
   },
   "source": [
    "# CL4: Debugging & Loops\n",
    "\n",
    "Welcome to the fourth coding lab!\n",
    "\n",
    "In this Coding Lab we will start with debugging and then finish off with loops."
   ]
  },
  {
   "cell_type": "markdown",
   "metadata": {},
   "source": [
    "**Note**: You may *not* be able to complete all of this in 50 minutes, particularly the \"challenges.\"  These are meant to help you gain mastery and provide additional practices, not to stress you out a ton. Make a concerted effort. Do your best to complete it. But, if you don't figure it all out, that's why we post answers for these!"
   ]
  },
  {
   "cell_type": "markdown",
   "metadata": {
    "nbgrader": {
     "grade": false,
     "grade_id": "cell-00813a1ea7d46d85",
     "locked": true,
     "schema_version": 3,
     "solution": false
    }
   },
   "source": [
    "## Part 1: Debugging Questions"
   ]
  },
  {
   "cell_type": "markdown",
   "metadata": {
    "nbgrader": {
     "grade": false,
     "grade_id": "cell-9734fc2b7191c9c7",
     "locked": true,
     "schema_version": 3,
     "solution": false
    }
   },
   "source": [
    "### Creating Errors\n",
    "For each of the follow Exceptions, write a small piece of code that will cause it to happen:\n",
    "- ZeroDivisionError\n",
    "- SyntaxError\n",
    "- IndentationError\n",
    "- TypeError\n",
    "- IndexError\n",
    "- ValueError\n",
    "- NameError"
   ]
  },
  {
   "cell_type": "code",
   "execution_count": null,
   "metadata": {
    "nbgrader": {
     "grade": false,
     "grade_id": "cell-0e441a93d9074f56",
     "locked": false,
     "schema_version": 3,
     "solution": true
    }
   },
   "outputs": [],
   "source": [
    "# ZeroDividisionError\n",
    "\n",
    "### BEGIN SOLUTION\n",
    "# Zero Division Answer\n",
    "1/0\n",
    "### END SOLUTION"
   ]
  },
  {
   "cell_type": "code",
   "execution_count": null,
   "metadata": {
    "nbgrader": {
     "grade": false,
     "grade_id": "cell-b1ac7106e83cb72f",
     "locked": false,
     "schema_version": 3,
     "solution": true
    }
   },
   "outputs": [],
   "source": [
    "# SyntaxError\n",
    "\n",
    "### BEGIN SOLUTION\n",
    "# Syntax Answer\n",
    "for el in [1, 2]\n",
    "    print(el)\n",
    "### END SOLUTION"
   ]
  },
  {
   "cell_type": "code",
   "execution_count": null,
   "metadata": {
    "nbgrader": {
     "grade": false,
     "grade_id": "cell-cfb3db08e0f1e2f2",
     "locked": false,
     "schema_version": 3,
     "solution": true
    }
   },
   "outputs": [],
   "source": [
    "# IndentationError\n",
    "\n",
    "### BEGIN SOLUTION\n",
    "# Indentation Error\n",
    "for el in [1, 2]:\n",
    "print(el)\n",
    "### END SOLUTION"
   ]
  },
  {
   "cell_type": "code",
   "execution_count": null,
   "metadata": {
    "nbgrader": {
     "grade": false,
     "grade_id": "cell-ffce1ddb5088e527",
     "locked": false,
     "schema_version": 3,
     "solution": true
    }
   },
   "outputs": [],
   "source": [
    "# TypeError\n",
    "\n",
    "### BEGIN SOLUTION\n",
    "# Type error\n",
    "(1, 2) + (2)\n",
    "### END SOLUTION"
   ]
  },
  {
   "cell_type": "code",
   "execution_count": null,
   "metadata": {
    "nbgrader": {
     "grade": false,
     "grade_id": "cell-425c5dbe3ce96cb2",
     "locked": false,
     "schema_version": 3,
     "solution": true
    }
   },
   "outputs": [],
   "source": [
    "# IndexError\n",
    "\n",
    "### BEGIN SOLUTION\n",
    "# Index Error\n",
    "lst = [1, 2]\n",
    "lst[2]\n",
    "### END SOLUTION"
   ]
  },
  {
   "cell_type": "code",
   "execution_count": null,
   "metadata": {
    "nbgrader": {
     "grade": false,
     "grade_id": "cell-16b2a47d0a4214d2",
     "locked": false,
     "schema_version": 3,
     "solution": true
    }
   },
   "outputs": [],
   "source": [
    "# ValueError\n",
    "\n",
    "### BEGIN SOLUTION\n",
    "# Value Error\n",
    "int('a')\n",
    "### END SOLUTION"
   ]
  },
  {
   "cell_type": "code",
   "execution_count": null,
   "metadata": {
    "nbgrader": {
     "grade": false,
     "grade_id": "cell-6438bfb83cd2bd54",
     "locked": false,
     "schema_version": 3,
     "solution": true
    }
   },
   "outputs": [],
   "source": [
    "# NameError\n",
    "\n",
    "### BEGIN SOLUTION\n",
    "# Name Error\n",
    "a\n",
    "### END SOLUTION"
   ]
  },
  {
   "cell_type": "markdown",
   "metadata": {
    "nbgrader": {
     "grade": false,
     "grade_id": "cell-bb0cc23502d8e385",
     "locked": true,
     "schema_version": 3,
     "solution": false
    }
   },
   "source": [
    "### Fixing Errors\n",
    "\n",
    "For each of the following cells, try to debug the code to fix any errors, and get it running. "
   ]
  },
  {
   "cell_type": "code",
   "execution_count": null,
   "metadata": {
    "nbgrader": {
     "grade": false,
     "grade_id": "cell-5c1e4912f8be4917",
     "locked": false,
     "schema_version": 3,
     "solution": true
    }
   },
   "outputs": [],
   "source": [
    "if True\n",
    "    print('It worked')\n",
    "    \n",
    "### BEGIN SOLUTION\n",
    "# Answer: add a ':' to open the conditional code block\n",
    "if True:\n",
    "    print('It worked')\n",
    "### END SOLUTION"
   ]
  },
  {
   "cell_type": "code",
   "execution_count": 4,
   "metadata": {
    "nbgrader": {
     "grade": false,
     "grade_id": "cell-a311736fa20712bf",
     "locked": false,
     "schema_version": 3,
     "solution": true
    },
    "scrolled": true
   },
   "outputs": [
    {
     "ename": "TypeError",
     "evalue": "can only concatenate str (not \"int\") to str",
     "output_type": "error",
     "traceback": [
      "\u001b[0;31m---------------------------------------------------------------------------\u001b[0m",
      "\u001b[0;31mTypeError\u001b[0m                                 Traceback (most recent call last)",
      "\u001b[0;32m<ipython-input-4-e087e0c2913c>\u001b[0m in \u001b[0;36m<module>\u001b[0;34m\u001b[0m\n\u001b[0;32m----> 1\u001b[0;31m \u001b[0mage_string\u001b[0m \u001b[0;34m=\u001b[0m \u001b[0;34m\"My favourite number is \"\u001b[0m \u001b[0;34m+\u001b[0m \u001b[0;36m27\u001b[0m\u001b[0;34m\u001b[0m\u001b[0;34m\u001b[0m\u001b[0m\n\u001b[0m\u001b[1;32m      2\u001b[0m \u001b[0;34m\u001b[0m\u001b[0m\n\u001b[1;32m      3\u001b[0m \u001b[0;31m### BEGIN SOLUTION\u001b[0m\u001b[0;34m\u001b[0m\u001b[0;34m\u001b[0m\u001b[0;34m\u001b[0m\u001b[0m\n\u001b[1;32m      4\u001b[0m \u001b[0;31m# Answer: typecase int to string, `+ str(27)`\u001b[0m\u001b[0;34m\u001b[0m\u001b[0;34m\u001b[0m\u001b[0;34m\u001b[0m\u001b[0m\n\u001b[1;32m      5\u001b[0m \u001b[0mage_string\u001b[0m \u001b[0;34m=\u001b[0m \u001b[0;34m\"My favourite number is \"\u001b[0m \u001b[0;34m+\u001b[0m \u001b[0;34m\"27\"\u001b[0m\u001b[0;34m\u001b[0m\u001b[0;34m\u001b[0m\u001b[0m\n",
      "\u001b[0;31mTypeError\u001b[0m: can only concatenate str (not \"int\") to str"
     ]
    }
   ],
   "source": [
    "age_string = \"My favorite number is \" + 27\n",
    "\n",
    "### BEGIN SOLUTION\n",
    "# Answer: typecase int to string\n",
    "age_string = \"My favorite number is \" + \"27\"\n",
    "# OR\n",
    "age_string = \"My favorite number is \" + str(27)\n",
    "### END SOLUTION\n"
   ]
  },
  {
   "cell_type": "code",
   "execution_count": null,
   "metadata": {
    "nbgrader": {
     "grade": false,
     "grade_id": "cell-49b6889e712f45f6",
     "locked": false,
     "schema_version": 3,
     "solution": true
    }
   },
   "outputs": [],
   "source": [
    "print('Three plus five equals' + str(3+5)\n",
    "\n",
    "### BEGIN SOLUTION\n",
    "# Answer: Missing closing parenthesis - add ')' at the end\n",
    "print('Three plus five equals' + str(3+5))\n",
    "\n",
    "### END SOLUTION\n"
   ]
  },
  {
   "cell_type": "markdown",
   "metadata": {
    "nbgrader": {
     "grade": false,
     "grade_id": "cell-634294ae0e4720a9",
     "locked": true,
     "schema_version": 3,
     "solution": false
    }
   },
   "source": [
    "## Part 2: Loops\n",
    "\n",
    "We will now explore two ways to iterate over data in Python - `for` and `while` loops. \n",
    "\n",
    "Each type of loop performs its respective code block until certain conditions are met. Here, we will explore what those conditions are. \n",
    "\n",
    "Note: \"iterate\" means to perform an action repeatedly \n",
    "\n",
    "Note: Sometimes, we accidentally make loops that never end. \n",
    "- If that happens, \"break\" the cell by selecting it and then pressing \"ctrl+c\". Alternatively, press the \"stop\" button (square icon) in the Jupyter toolbar. "
   ]
  },
  {
   "cell_type": "markdown",
   "metadata": {
    "nbgrader": {
     "grade": false,
     "grade_id": "cell-b4f5bcda88789ec6",
     "locked": true,
     "schema_version": 3,
     "solution": false
    }
   },
   "source": [
    "#### Loops Q1\n",
    "\n",
    "First, declare a variable called `counter` that has type int and value zero.\n",
    "\n",
    "Then write a while loop that runs 10 times and use 'counter' to track how many times the loop runs. "
   ]
  },
  {
   "cell_type": "code",
   "execution_count": null,
   "metadata": {
    "collapsed": true,
    "nbgrader": {
     "grade": false,
     "grade_id": "cell-af48110fe42b669b",
     "locked": false,
     "schema_version": 3,
     "solution": true
    }
   },
   "outputs": [],
   "source": [
    "### BEGIN SOLUTION\n",
    "counter = 0\n",
    "while counter < 10:\n",
    "    counter = counter + 1\n",
    "### END SOLUTION"
   ]
  },
  {
   "cell_type": "code",
   "execution_count": null,
   "metadata": {
    "collapsed": true
   },
   "outputs": [],
   "source": [
    "# Check that (after the loop runs) that there is a variable called `counter` that has value 10\n",
    "assert counter == 10"
   ]
  },
  {
   "cell_type": "markdown",
   "metadata": {
    "nbgrader": {
     "grade": false,
     "grade_id": "cell-63a4942a96dc6c0d",
     "locked": true,
     "schema_version": 3,
     "solution": false
    }
   },
   "source": [
    "#### Infinite Loops\n",
    "\n",
    "The while loop below will run indefinitely unless someone puts a stop to it! \n",
    "\n",
    "Add your own code that causes the loop to exit when the `counter` variable reaches 10. You can use `break` to do this. \n",
    "\n",
    "Note: Sometimes, we accidentally make loops that never end - try that by running the cell below before adding \n",
    "\n",
    "If that happens, interrupt the cell by selecting it and then pressing \"ctrl+c\". Alternatively, press the \"stop\" button (square icon) in the Jupyter toolbar. "
   ]
  },
  {
   "cell_type": "code",
   "execution_count": 2,
   "metadata": {
    "nbgrader": {
     "grade": false,
     "grade_id": "cell-0e33a3d206c8759d",
     "locked": false,
     "schema_version": 3,
     "solution": true
    }
   },
   "outputs": [
    {
     "name": "stdout",
     "output_type": "stream",
     "text": [
      "the value of 'counter' = 0\n",
      "the value of 'counter' = 1\n",
      "the value of 'counter' = 2\n",
      "the value of 'counter' = 3\n",
      "the value of 'counter' = 4\n",
      "the value of 'counter' = 5\n",
      "the value of 'counter' = 6\n",
      "the value of 'counter' = 7\n",
      "the value of 'counter' = 8\n",
      "the value of 'counter' = 9\n"
     ]
    }
   ],
   "source": [
    "counter = 0\n",
    "\n",
    "while True:\n",
    "    \n",
    "    print(\"the value of 'counter' = {}\".format(counter))\n",
    "    counter +=1\n",
    "    \n",
    "### BEGIN SOLUTION\n",
    "    if counter >= 10:\n",
    "        break\n",
    "### END SOLUTION\n"
   ]
  },
  {
   "cell_type": "markdown",
   "metadata": {
    "nbgrader": {
     "grade": false,
     "grade_id": "cell-9445f177e9dc38ff",
     "locked": true,
     "schema_version": 3,
     "solution": false
    }
   },
   "source": [
    "Now, rather than using `break`, edit the loop from above so that the condition following `while` will eventually evaluate as `False` (and thus terminate the loop)."
   ]
  },
  {
   "cell_type": "code",
   "execution_count": null,
   "metadata": {
    "nbgrader": {
     "grade": false,
     "grade_id": "cell-b561c8f0d73a25e3",
     "locked": false,
     "schema_version": 3,
     "solution": true
    }
   },
   "outputs": [],
   "source": [
    "### BEGIN SOLUTION\n",
    "counter = 0\n",
    "\n",
    "# edit condition\n",
    "while counter < 10:\n",
    "    \n",
    "    print(\"the value of 'counter' = {}\".format(counter))\n",
    "    counter +=1\n",
    "### END SOLUTION"
   ]
  },
  {
   "cell_type": "markdown",
   "metadata": {
    "nbgrader": {
     "grade": false,
     "grade_id": "cell-263fbedcb0c5fe6c",
     "locked": true,
     "schema_version": 3,
     "solution": false
    }
   },
   "source": [
    "###  Loop Explorations\n",
    "\n",
    "Now, explore using for and while loops and breaks. \n",
    "\n",
    "Here are some things to try, and questions to ask - each of which you should explore in code. \n",
    "- What happens if you use 'break' all by itself?\n",
    "- What are some different ways to loop through a list? tuple?\n",
    "- Write these combinations: \n",
    "    - a `for` loop with a `break`, a `for` loop with a `continue`\n",
    "    - a `while` loop with a `break`, a `while` loop with a `continue`\n",
    "- Write some loops that loop across lists:\n",
    "    - Write a loop that loops across, and prints out, all the elements of a list\n",
    "    - Write a loop that loops across, and prints out, every second element of a list\n",
    "    - Write a loop that loops across, and prints out, every element of a list in reverse order\n",
    "    - Write a loop that loops across, and prints out, the first half of a list\n",
    "- Write a loop with a conditional inside it.\n",
    "- Can you have loops inside loops? If you think so, try and write a nested loop. "
   ]
  },
  {
   "cell_type": "code",
   "execution_count": null,
   "metadata": {
    "collapsed": true,
    "nbgrader": {
     "grade": false,
     "grade_id": "cell-c101bd32c5150b72",
     "locked": false,
     "schema_version": 3,
     "solution": true
    }
   },
   "outputs": [],
   "source": [
    "### BEGIN SOLUTION\n",
    "my_list = [1, 2]\n",
    "my_tuple = ('a', 'b')\n",
    "\n",
    "# You can loop through lists or tuples directly, or with indices\n",
    "# Loop through list with for - same goes for tuple\n",
    "for el in my_list:\n",
    "    print(el)\n",
    "\n",
    "print('')\n",
    "    \n",
    "# Loop through tuple using indexing - same goes for list\n",
    "for ind in range(2):\n",
    "    print(my_tuple[ind])\n",
    "\n",
    "#- Write these combinations: \n",
    "#    - a `for` loop with a `break`, a `for` loop with a `continue`\n",
    "#    - a `while` loop with a `break`, a `for` loop with a `continue`\n",
    "\n",
    "letter_list = ['a', 'c', 'e']\n",
    "\n",
    "for it in letter_list:\n",
    "    if it == 'c':\n",
    "        break\n",
    "\n",
    "for it in letter_list:\n",
    "    if it == 'a':\n",
    "        continue\n",
    "\n",
    "# While loops with break and continue\n",
    "ind = 0\n",
    "\n",
    "while ind < 5:\n",
    "    if ind == 2:\n",
    "        break\n",
    "    ind = ind + 1\n",
    "\n",
    "while ind < 5:\n",
    "    ind = ind + 1\n",
    "    if ind == 2:\n",
    "        continue\n",
    "\n",
    "# These are loops using indexing, to grab different elements of the list\n",
    "another_list = [1, 2, 3, 4]\n",
    "\n",
    "print('Print all elements list:')\n",
    "for it in another_list:\n",
    "    print(it)\n",
    "print('')\n",
    "    \n",
    "print('Print every second element list:')\n",
    "for it in another_list[1::2]:\n",
    "    print(it)\n",
    "print('')\n",
    "\n",
    "print('Print reversed list:')\n",
    "for it in another_list[::-1]:\n",
    "    print(it)\n",
    "print('')\n",
    "\n",
    "print('Print first half:')\n",
    "half_index = int(len(another_list)/2)\n",
    "for it in another_list[0:half_index]:\n",
    "    print(it)\n",
    "print('')\n",
    "\n",
    "# Loop with a conditional in it\n",
    "for it in [True, False]:\n",
    "    if it == True:\n",
    "        print('Yay.')\n",
    "\n",
    "# Yes, you can have a loop inside a loop\n",
    "for a_val in [1, 2, 3]:\n",
    "    for b_val in ['a', 'b', 'c']:\n",
    "        print(a_val, b_val)\n",
    "\n",
    "\n",
    "### END SOLUTION"
   ]
  },
  {
   "cell_type": "markdown",
   "metadata": {
    "nbgrader": {
     "grade": false,
     "grade_id": "cell-56be1cfa79acdd93",
     "locked": true,
     "schema_version": 3,
     "solution": false
    }
   },
   "source": [
    "### Nested Loop Challenge\n",
    "\n",
    "Using nested loops, you will print out a pattern that looks like this:\n",
    "\n",
    "1 <br>\n",
    "1 2 <br>\n",
    "1 2 3 <br>\n",
    "1 2 3 4 <br>\n",
    "1 2 3 4 5 <br>\n",
    "1 2 3 4 5 6 <br>\n",
    "1 2 3 4 5 6 7\n",
    "\n",
    "Hints:\n",
    "- You can do this with two while loops, one inside the other.\n",
    "- You will have two indices counters, one for each loop. \n",
    "- For the print statement, it will look something like `print(index_inner, end=\" \")`"
   ]
  },
  {
   "cell_type": "code",
   "execution_count": null,
   "metadata": {
    "collapsed": true,
    "nbgrader": {
     "grade": false,
     "grade_id": "cell-3be5b519bda3c9fd",
     "locked": false,
     "schema_version": 3,
     "solution": true
    }
   },
   "outputs": [],
   "source": [
    "### BEGIN SOLUTION\n",
    "index_outer = 1\n",
    "while index_outer < 8:\n",
    "    \n",
    "    index_inner = 1\n",
    "    \n",
    "    while index_inner <= index_outer:\n",
    "        print(index_inner, end=\" \")\n",
    "        index_inner = index_inner + 1\n",
    "        \n",
    "    print(\"\")\n",
    "    index_outer = index_outer + 1\n",
    "### END SOLUTION"
   ]
  },
  {
   "cell_type": "markdown",
   "metadata": {
    "nbgrader": {
     "grade": false,
     "grade_id": "cell-7e248a0ca4750ec0",
     "locked": true,
     "schema_version": 3,
     "solution": false
    }
   },
   "source": [
    "If you get the above pattern working, try manipulating the code to print out different patterns, and with different symbols. "
   ]
  },
  {
   "cell_type": "code",
   "execution_count": null,
   "metadata": {
    "nbgrader": {
     "grade": true,
     "grade_id": "cell-d7ff87fc6930bed0",
     "locked": false,
     "points": 0,
     "schema_version": 3,
     "solution": true
    }
   },
   "outputs": [],
   "source": []
  },
  {
   "cell_type": "markdown",
   "metadata": {
    "nbgrader": {
     "grade": false,
     "grade_id": "cell-5232a4181069f8a7",
     "locked": true,
     "schema_version": 3,
     "solution": false
    }
   },
   "source": [
    "## Part 2: PseudoCode\n",
    "\n",
    "First, let's briefly consider the idea of pseudocode. \n",
    "\n",
    "Pseudocode is an informal, 'high-level' sketch or description of a program or algorithm. \n",
    "\n",
    "It will typically resemble the structure of a program, but the details to make it actually run have not been fleshed out. "
   ]
  },
  {
   "cell_type": "markdown",
   "metadata": {
    "nbgrader": {
     "grade": false,
     "grade_id": "cell-7a0e870d238d9847",
     "locked": true,
     "schema_version": 3,
     "solution": false
    }
   },
   "source": [
    "### Pseudocode Human Language\n",
    "\n",
    "Some pseudocode is written in human level language, in a way that sketches out the tasks and general control flow. \n",
    "\n",
    "This highly abstract pseudocode is often not specific to any particular programming language. "
   ]
  },
  {
   "cell_type": "markdown",
   "metadata": {
    "nbgrader": {
     "grade": false,
     "grade_id": "cell-4ae58d69c00dc6dd",
     "locked": true,
     "schema_version": 3,
     "solution": false
    }
   },
   "source": [
    "```\n",
    "# PseudoCode for checking if a student got full credit on assignment\n",
    "\n",
    "function that takes a list of student ids with student grades\n",
    "\n",
    "    create an output object to collect full credit\n",
    "\n",
    "    for student in list of grades\n",
    "\n",
    "        if grade of student is equal to max grade\n",
    "            add to list of full credits\n",
    "\n",
    "    return list of students who got full credit\n",
    "```"
   ]
  },
  {
   "cell_type": "markdown",
   "metadata": {
    "nbgrader": {
     "grade": false,
     "grade_id": "cell-b927b4a1462ec5ce",
     "locked": true,
     "schema_version": 3,
     "solution": false
    }
   },
   "source": [
    "### Pseudocode in Python format\n",
    "\n",
    "You can also write pseudocode, that is much closer to Python (including Python syntax) but maintains more of a template / outline. \n",
    "\n",
    "Pseudocode like this is sometimes just a work-in-progress that is just not yet finished. \n",
    "\n",
    "Note the use of the `pass` keyword - `pass` is just a placeholder keyword that does nothing."
   ]
  },
  {
   "cell_type": "code",
   "execution_count": 1,
   "metadata": {},
   "outputs": [],
   "source": [
    "# PseudoCode for a function to email a list of emails, and return a log of what was sent\n",
    "def sent_emails(list_of_emails):\n",
    "\n",
    "    emails_sent = {}  # Define an output variable for the logging\n",
    "\n",
    "    for email in list_of_emails:\n",
    "\n",
    "        # Send email to current student\n",
    "        pass\n",
    "\n",
    "        # Add logging information that email was sent\n",
    "        email_sent[email] = True\n",
    "\n",
    "    return emails_sent"
   ]
  },
  {
   "cell_type": "markdown",
   "metadata": {
    "nbgrader": {
     "grade": false,
     "grade_id": "cell-617cc3352a710125",
     "locked": true,
     "schema_version": 3,
     "solution": false
    }
   },
   "source": [
    "## Part II: Computation &  Algorithms\n",
    "\n",
    "Both computers and humans are good at some things, and bad at others. However, it tends to be different things that computers and humans are good at. \n",
    "\n",
    "Here is a list of possible tasks that a human and/or computer could try and do:\n",
    "\n",
    "- Given a list of 100K values, find the average and range of the list\n",
    "- Sort an array of randomly generated numbers from smallest to largest\n",
    "- Recognize the saddest part of a movie\n",
    "- Recall specific facts, like answering 'which day of the week was the 1st of June, 1997?'\n",
    "- Identify the likely country of origin of a person from their accent\n",
    "- Create a meme\n",
    "- Sort a list of 10,000 names alphabetically\n",
    "- Rank memes in order of how funny they are\n",
    "- Given two locations, figure out the best route to drive to get from one to another\n",
    "- Recognize the emotional state of a person\n",
    "- Flexibly change strategies based on cues in the environment\n",
    "- Write and perform a winning rap battle \n",
    "- Learn and be able to understand a human language\n",
    "- Learn and be able to understand a programming language\n",
    "- Play tic-tac-toe\n",
    "- Write a review of a movie\n",
    "- Play chess\n",
    "- Play PACMAN"
   ]
  },
  {
   "cell_type": "markdown",
   "metadata": {
    "nbgrader": {
     "grade": false,
     "grade_id": "cell-55fdc86b317c61cf",
     "locked": true,
     "schema_version": 3,
     "solution": false
    }
   },
   "source": [
    "### Instructions\n",
    "\n",
    "For each task above, we want to try and decide whether it is a task that computers would be better at, that humans would be better at, or if it would be a tie.\n",
    "\n",
    "In small groups (2 or 3 people, or on your own if groups are not possible/you're not doing this in coding lab directly), pick 3 or 4 examples from the list of tasks above, have a quick discussion about the task at hand and try to answer the question of who (computers and/or humans) this task would be easier for. \n",
    "\n",
    "For each task, try to imagine how you might try and do this in Python. \n",
    "\n",
    "Use pseudocode to sketch out an outline of the procedure. \n",
    "- If you think it is something computers can do well, your pseudocode should roughly cover the whole process.\n",
    "- If you think it is more of a human thing, try to identify which part of the process, in particular, is difficult to specify within a formal algorithm. \n",
    "\n",
    "As you work through a few examples, make sure you talk through at least one of both 'computer better' and 'human better' tasks. \n",
    "\n",
    "Note: as a rule of thumb, computers can perform (and are good at) anything we can write down an algorithm. \n",
    "\n",
    "So one way to approach this section is to think through if and how you would write an algorithm to complete each task.\n",
    "\n",
    "Below is an example, with an answer for the first listed task. You will be asked to sketch out your own example under that."
   ]
  },
  {
   "cell_type": "markdown",
   "metadata": {
    "nbgrader": {
     "grade": false,
     "grade_id": "cell-cfcc54776e2ff1d8",
     "locked": true,
     "schema_version": 3,
     "solution": false
    }
   },
   "source": [
    "#### Example: Given a list of 100K values, find the average and range of the list\n",
    "\n",
    "This is a task that is easier for computers because we can write down a clear set of steps to complete this task (we can write an algorithm). \n",
    "\n",
    "Humans would not be good at completing this task, as there are a lot of steps to complete, and it would be slow, and we might not have the memory to do it.  "
   ]
  },
  {
   "cell_type": "code",
   "execution_count": 2,
   "metadata": {},
   "outputs": [],
   "source": [
    "# Pseudocode for array statistics\n",
    "def array_statistics():\n",
    "    \n",
    "    # Find the mean of the array. \n",
    "    pass\n",
    "    # To do so:\n",
    "        # Find the total sum of the array\n",
    "        # Find the number of elements in the array\n",
    "        # Divide the sum by the number of elements\n",
    "        \n",
    "    # Find the range of the array. \n",
    "    pass\n",
    "    # To do so:\n",
    "        # Find the maximum value of the array\n",
    "        # Find the minimum value of the array\n",
    "        # Calculate range by subtracting the max from the min for the array\n",
    "    \n",
    "    # Return the mean and range of the array\n",
    "    return None"
   ]
  },
  {
   "cell_type": "markdown",
   "metadata": {
    "nbgrader": {
     "grade": false,
     "grade_id": "cell-e639baffb40dad26",
     "locked": true,
     "schema_version": 3,
     "solution": false
    }
   },
   "source": [
    "### Include sketch of (at least) one task\n",
    "\n",
    "After brainstorming, include a sketch of your pseudocode for at least one of the tasks you brainstormed about earlier:"
   ]
  },
  {
   "cell_type": "code",
   "execution_count": 3,
   "metadata": {
    "nbgrader": {
     "grade": true,
     "grade_id": "cell-94678eaf8fcf9483",
     "locked": false,
     "points": 0,
     "schema_version": 3,
     "solution": true
    }
   },
   "outputs": [],
   "source": [
    "## Make some notes & write some pseudocode for you chosen task(s) here"
   ]
  },
  {
   "cell_type": "markdown",
   "metadata": {
    "nbgrader": {
     "grade": false,
     "grade_id": "cell-9c4a6e76457e664e",
     "locked": true,
     "schema_version": 3,
     "solution": false
    }
   },
   "source": [
    "## Part 3: Functions\n",
    "\n",
    "Functions are a way to organize code into a procedure that we can repeat and use whenever we want. "
   ]
  },
  {
   "cell_type": "markdown",
   "metadata": {
    "nbgrader": {
     "grade": false,
     "grade_id": "cell-b9e386bfc3490e7c",
     "locked": true,
     "schema_version": 3,
     "solution": false
    }
   },
   "source": [
    "### Function Questions"
   ]
  },
  {
   "cell_type": "markdown",
   "metadata": {
    "nbgrader": {
     "grade": false,
     "grade_id": "cell-b2831adfe726b342",
     "locked": true,
     "schema_version": 3,
     "solution": false
    }
   },
   "source": [
    "#### Write a function that takes one input, multiplies it by two and returns the result\n",
    "\n",
    "This function has been started for you, with the name `mult_two`.\n",
    "\n",
    "Add some more code to finish this function. "
   ]
  },
  {
   "cell_type": "code",
   "execution_count": 4,
   "metadata": {
    "nbgrader": {
     "grade": false,
     "grade_id": "cell-8d0f3557ad318843",
     "locked": false,
     "schema_version": 3,
     "solution": true
    }
   },
   "outputs": [],
   "source": [
    "def mult_two(input_number):\n",
    "    \n",
    "\n",
    "### BEGIN SOLUTION\n",
    "    answer = input_number * 2\n",
    "    return answer\n",
    "### END SOLUTION"
   ]
  },
  {
   "cell_type": "code",
   "execution_count": 5,
   "metadata": {},
   "outputs": [
    {
     "data": {
      "text/plain": [
       "4"
      ]
     },
     "execution_count": 5,
     "metadata": {},
     "output_type": "execute_result"
    }
   ],
   "source": [
    "# Check that you can use the function\n",
    "mult_two(2)"
   ]
  },
  {
   "cell_type": "code",
   "execution_count": 6,
   "metadata": {},
   "outputs": [],
   "source": [
    "# Check this function returns the correct outputs\n",
    "assert mult_two(2) == 4\n",
    "assert mult_two(3) == 6"
   ]
  },
  {
   "cell_type": "markdown",
   "metadata": {
    "nbgrader": {
     "grade": false,
     "grade_id": "cell-a8c64fa304d0f0b1",
     "locked": true,
     "schema_version": 3,
     "solution": false
    }
   },
   "source": [
    "#### Write a function that takes two inputs, adds them together, and returns the result\n",
    "\n",
    "Call this function `add_two`."
   ]
  },
  {
   "cell_type": "code",
   "execution_count": 10,
   "metadata": {
    "nbgrader": {
     "grade": false,
     "grade_id": "cell-bc8d2072710911df",
     "locked": false,
     "schema_version": 3,
     "solution": true
    }
   },
   "outputs": [],
   "source": [
    "def add_two(_FILL_IN_INPUTS_):\n",
    "    \n",
    "### BEGIN SOLUTION\n",
    "def add_two(num1, num2):\n",
    "\n",
    "    answer = num1 + num2\n",
    "    return answer\n",
    "### END SOLUTION"
   ]
  },
  {
   "cell_type": "code",
   "execution_count": 11,
   "metadata": {},
   "outputs": [
    {
     "data": {
      "text/plain": [
       "4"
      ]
     },
     "execution_count": 11,
     "metadata": {},
     "output_type": "execute_result"
    }
   ],
   "source": [
    "# Check that you can use the function\n",
    "add_two(2, 2)"
   ]
  },
  {
   "cell_type": "code",
   "execution_count": 12,
   "metadata": {},
   "outputs": [],
   "source": [
    "# Check this function returns the correct number\n",
    "assert add_two(2, 2) == 4\n",
    "assert add_two(3, 2) == 5"
   ]
  },
  {
   "cell_type": "markdown",
   "metadata": {
    "nbgrader": {
     "grade": false,
     "grade_id": "cell-f9deb6d22595e66d",
     "locked": true,
     "schema_version": 3,
     "solution": false
    }
   },
   "source": [
    "#### Write a function with a conditional inside it\n",
    "\n",
    "You can decide what this function does. \n",
    "\n",
    "It could, for example, take in a boolean and print out a status if the given boolean is True. "
   ]
  },
  {
   "cell_type": "code",
   "execution_count": 13,
   "metadata": {
    "nbgrader": {
     "grade": false,
     "grade_id": "cell-15f562b1e86720bc",
     "locked": false,
     "schema_version": 3,
     "solution": true
    }
   },
   "outputs": [],
   "source": [
    "### BEGIN SOLUTION\n",
    "def check_bool(input_bool):\n",
    "    \n",
    "    if input_bool == True:\n",
    "        out = 'Status is True'\n",
    "    else:\n",
    "        out = 'Status is not True'\n",
    "    \n",
    "    return out\n",
    "### END SOLUTION"
   ]
  },
  {
   "cell_type": "markdown",
   "metadata": {
    "nbgrader": {
     "grade": false,
     "grade_id": "cell-b573b96cc9f79e33",
     "locked": true,
     "schema_version": 3,
     "solution": false
    }
   },
   "source": [
    "#### Write a function with a loop inside it\n",
    "\n",
    "You can decide what this function does. \n",
    "\n",
    "It could, for example, take a list of numbers, add 1 to each element, and return the new list. "
   ]
  },
  {
   "cell_type": "code",
   "execution_count": 14,
   "metadata": {
    "nbgrader": {
     "grade": false,
     "grade_id": "cell-4e7d9444334a58a2",
     "locked": false,
     "schema_version": 3,
     "solution": true
    }
   },
   "outputs": [],
   "source": [
    "### BEGIN SOLUTION\n",
    "def adder(in_list):\n",
    "\n",
    "    out_list = []\n",
    "\n",
    "    for it in in_list:\n",
    "        out_list.append(it + 1)\n",
    "        \n",
    "    return out_list\n",
    "### END SOLUTION"
   ]
  },
  {
   "cell_type": "markdown",
   "metadata": {
    "nbgrader": {
     "grade": false,
     "grade_id": "cell-b6035401157222cf",
     "locked": true,
     "schema_version": 3,
     "solution": false
    }
   },
   "source": [
    "#### Write a function with a loop and a conditional inside it\n",
    "\n",
    "You can decide what this function does. \n",
    "\n",
    "It could, for example, take a list of booleans, count how many elements are True, and return a count of `True` values. "
   ]
  },
  {
   "cell_type": "code",
   "execution_count": 15,
   "metadata": {
    "nbgrader": {
     "grade": false,
     "grade_id": "cell-f98321ee45942642",
     "locked": false,
     "schema_version": 3,
     "solution": true
    }
   },
   "outputs": [
    {
     "data": {
      "text/plain": [
       "2"
      ]
     },
     "execution_count": 15,
     "metadata": {},
     "output_type": "execute_result"
    }
   ],
   "source": [
    "### BEGIN SOLUTION\n",
    "# YOUR CODE HERE\n",
    "def count_bool(list_of_bools):\n",
    "    \n",
    "    counter = 0\n",
    "    \n",
    "    for it in list_of_bools:\n",
    "    \n",
    "        if isinstance(it, bool):\n",
    "            counter = counter + 1\n",
    "    \n",
    "    return counter\n",
    "\n",
    "# Check the function\n",
    "count_bool([True, None, False, 12])\n",
    "### END SOLUTION"
   ]
  }
 ],
 "metadata": {
  "celltoolbar": "Create Assignment",
  "kernelspec": {
   "display_name": "Python 3",
   "language": "python",
   "name": "python3"
  },
  "language_info": {
   "codemirror_mode": {
    "name": "ipython",
    "version": 3
   },
   "file_extension": ".py",
   "mimetype": "text/x-python",
   "name": "python",
   "nbconvert_exporter": "python",
   "pygments_lexer": "ipython3",
   "version": "3.7.9"
  }
 },
 "nbformat": 4,
 "nbformat_minor": 2
}