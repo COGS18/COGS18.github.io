{
 "cells": [
  {
   "cell_type": "markdown",
   "metadata": {
    "slideshow": {
     "slide_type": "slide"
    }
   },
   "source": [
    "# Conditionals"
   ]
  },
  {
   "cell_type": "markdown",
   "metadata": {
    "slideshow": {
     "slide_type": "slide"
    }
   },
   "source": [
    "### Recap: Booleans\n",
    "\n",
    "Booleans are a data type that can take values of `True` or `False`. "
   ]
  },
  {
   "cell_type": "markdown",
   "metadata": {
    "slideshow": {
     "slide_type": "slide"
    }
   },
   "source": [
    "## Conditionals: if"
   ]
  },
  {
   "cell_type": "markdown",
   "metadata": {
    "slideshow": {
     "slide_type": "fragment"
    }
   },
   "source": [
    "<div class=\"alert alert-success\">\n",
    "Conditionals are statements that check for a condition, using the `if` statement, and then only execute a set of code if the condition evaluates as `True`.\n",
    "</div>"
   ]
  },
  {
   "cell_type": "code",
   "execution_count": 1,
   "metadata": {
    "slideshow": {
     "slide_type": "slide"
    }
   },
   "outputs": [
    {
     "name": "stdout",
     "output_type": "stream",
     "text": [
      "This code executes if the condition evaluates as True.\n"
     ]
    }
   ],
   "source": [
    "condition = True\n",
    "\n",
    "if condition:\n",
    "    print('This code executes if the condition evaluates as True.')"
   ]
  },
  {
   "cell_type": "markdown",
   "metadata": {
    "slideshow": {
     "slide_type": "slide"
    }
   },
   "source": [
    "## Conditional: else"
   ]
  },
  {
   "cell_type": "markdown",
   "metadata": {
    "slideshow": {
     "slide_type": "fragment"
    }
   },
   "source": [
    "<div class=\"alert alert-success\">\n",
    "After an `if`, you can use an `else` that will run if the conditional(s) above have not run.\n",
    "</div>"
   ]
  },
  {
   "cell_type": "code",
   "execution_count": 2,
   "metadata": {
    "slideshow": {
     "slide_type": "slide"
    }
   },
   "outputs": [
    {
     "name": "stdout",
     "output_type": "stream",
     "text": [
      "This code executes if the condition evaluates as True.\n"
     ]
    }
   ],
   "source": [
    "condition = True\n",
    "\n",
    "if condition:\n",
    "    print('This code executes if the condition evaluates as True.')\n",
    "else: \n",
    "    print('This code executes if the condition evaluates as False')"
   ]
  },
  {
   "cell_type": "markdown",
   "metadata": {
    "slideshow": {
     "slide_type": "slide"
    }
   },
   "source": [
    "## Conditional: elif"
   ]
  },
  {
   "cell_type": "markdown",
   "metadata": {
    "slideshow": {
     "slide_type": "fragment"
    }
   },
   "source": [
    "<div class=\"alert alert-success\">\n",
    "After an if statement, you can have any number of `elif`'s (meaning 'else if') to check other conditions.\n",
    "</div>"
   ]
  },
  {
   "cell_type": "code",
   "execution_count": 3,
   "metadata": {
    "slideshow": {
     "slide_type": "slide"
    }
   },
   "outputs": [
    {
     "name": "stdout",
     "output_type": "stream",
     "text": [
      "This code executes if condition_1 did not evaluate as True, but condition_2 does.\n"
     ]
    }
   ],
   "source": [
    "condition_1 = False\n",
    "condition_2 = True\n",
    "\n",
    "if condition_1:\n",
    "    print('This code executes if condition_1 evaluates as True.')\n",
    "elif condition_2:\n",
    "    print('This code executes if condition_1 did not evaluate as True, but condition_2 does.')\n",
    "else: \n",
    "    print('This code executes if both condition_1 and condition_2 evaluate as False')"
   ]
  },
  {
   "cell_type": "markdown",
   "metadata": {
    "slideshow": {
     "slide_type": "slide"
    }
   },
   "source": [
    "## Conditionals With Value Comparisons"
   ]
  },
  {
   "cell_type": "markdown",
   "metadata": {
    "slideshow": {
     "slide_type": "fragment"
    }
   },
   "source": [
    "<div class=\"alert alert-success\">\n",
    "Any expression that can be evaluated as a boolean, such as value comparisons, can be used with conditionals.\n",
    "</div>"
   ]
  },
  {
   "cell_type": "code",
   "execution_count": 6,
   "metadata": {
    "slideshow": {
     "slide_type": "slide"
    }
   },
   "outputs": [
    {
     "name": "stdout",
     "output_type": "stream",
     "text": [
      "Yay!\n"
     ]
    }
   ],
   "source": [
    "language = \"Python\"\n",
    "\n",
    "if language == \"Python\":\n",
    "    print(\"Yay!\")\n",
    "elif language == \"Matlab\":\n",
    "    print(\"Oh no.\")\n",
    "else:\n",
    "    print(\"Get yourself a programming language!\")"
   ]
  },
  {
   "cell_type": "code",
   "execution_count": 7,
   "metadata": {
    "slideshow": {
     "slide_type": "slide"
    }
   },
   "outputs": [
    {
     "name": "stdout",
     "output_type": "stream",
     "text": [
      "Before Conditional\n",
      "    If statement execution\n",
      "After Conditional\n"
     ]
    }
   ],
   "source": [
    "# Exploring conditionals\n",
    "\n",
    "number = 3\n",
    "\n",
    "print('Before Conditional')\n",
    "\n",
    "if number < 5:\n",
    "    print('    If statement execution')\n",
    "elif number > 5:\n",
    "    print('    Elif statement execution')\n",
    "\n",
    "print('After Conditional')"
   ]
  },
  {
   "cell_type": "markdown",
   "metadata": {
    "slideshow": {
     "slide_type": "slide"
    }
   },
   "source": [
    "### Clicker Question #1\n",
    "\n",
    "What will the following code snippet print out:\n",
    "\n",
    "```\n",
    "if False:\n",
    "    print(\"John\")\n",
    "elif True:\n",
    "    print(\"Paul\")\n",
    "elif True:\n",
    "    print(\"George\")\n",
    "else:\n",
    "    print(\"Ringo\")\n",
    "```\n",
    "\n",
    "A) John | B) Paul, George, Ringo | C) Paul | D) Paul, George | E) Ringo"
   ]
  },
  {
   "cell_type": "markdown",
   "metadata": {
    "slideshow": {
     "slide_type": "slide"
    }
   },
   "source": [
    "### Clicker Question Answer"
   ]
  },
  {
   "cell_type": "code",
   "execution_count": null,
   "metadata": {
    "collapsed": true,
    "slideshow": {
     "slide_type": "fragment"
    }
   },
   "outputs": [],
   "source": [
    "if False:\n",
    "    print(\"John\")\n",
    "elif True:\n",
    "    print(\"Paul\")\n",
    "elif True:\n",
    "    print(\"George\")\n",
    "else:\n",
    "    print(\"Ringo\")"
   ]
  },
  {
   "cell_type": "markdown",
   "metadata": {
    "slideshow": {
     "slide_type": "slide"
    }
   },
   "source": [
    "### Clicker Question 2\n",
    "\n",
    "What will the following code snippet print out:\n",
    "\n",
    "```\n",
    "if 1 + 1 == 2:\n",
    "    print(\"I did Math\")\n",
    "elif 1/0:\n",
    "    print(\"I broke Math\")\n",
    "else:\n",
    "    print(\"I didn't do math\")\n",
    "```\n",
    "\n",
    "A) I did Math | B) I broke Math | C) I didn't do math | D) This code won't execute"
   ]
  },
  {
   "cell_type": "markdown",
   "metadata": {
    "slideshow": {
     "slide_type": "slide"
    }
   },
   "source": [
    "### Clicker Questions Answer"
   ]
  },
  {
   "cell_type": "code",
   "execution_count": null,
   "metadata": {
    "collapsed": true,
    "slideshow": {
     "slide_type": "fragment"
    }
   },
   "outputs": [],
   "source": [
    "if 1 + 1 == 2:\n",
    "    print(\"I did Math\")\n",
    "elif 1/0:\n",
    "    print(\"I broke Math\")\n",
    "else:\n",
    "    print(\"I didn't do math\")"
   ]
  },
  {
   "cell_type": "markdown",
   "metadata": {
    "slideshow": {
     "slide_type": "slide"
    }
   },
   "source": [
    "### Clicker Question #3"
   ]
  },
  {
   "cell_type": "markdown",
   "metadata": {
    "slideshow": {
     "slide_type": "fragment"
    }
   },
   "source": [
    "What will the following code snippet print out:\n",
    "\n",
    "```\n",
    "python = \"great\"\n",
    "\n",
    "if True:\n",
    "    if python == \"great\":\n",
    "        print(\"Yay Python!\")\n",
    "    else:\n",
    "        print(\"Oh no.\")\n",
    "else:\n",
    "    print(\"I'm here\")\n",
    "```\n",
    "\n",
    "A) Yay Python  | B) Oh no. | C) I'm here | D) This code won't execute"
   ]
  },
  {
   "cell_type": "markdown",
   "metadata": {
    "slideshow": {
     "slide_type": "slide"
    }
   },
   "source": [
    "### Clicker Question Answer"
   ]
  },
  {
   "cell_type": "code",
   "execution_count": null,
   "metadata": {
    "collapsed": true,
    "slideshow": {
     "slide_type": "fragment"
    }
   },
   "outputs": [],
   "source": [
    "python = \"great\"\n",
    "\n",
    "if True:\n",
    "    if python == \"great\":\n",
    "        print(\"Yay Python!\")\n",
    "    else:\n",
    "        print(\"Oh no.\")\n",
    "else:\n",
    "    print(\"I'm here\")"
   ]
  },
  {
   "cell_type": "markdown",
   "metadata": {
    "collapsed": true,
    "slideshow": {
     "slide_type": "slide"
    }
   },
   "source": [
    "## Properties of conditionals\n",
    "\n",
    "- All conditionals start with an `if`, can have an optional and variable number of `elif`'s and an optional `else` statement\n",
    "- Conditionals can take any expression that can be evaluated as `True` or `False`. \n",
    "- At most one component (`if` / `elif` / `else`) of a conditional will run\n",
    "- The order of conditional blocks is always `if` then `elif`(s) then `else`\n",
    "- Code is only ever executed if the condition is met"
   ]
  }
 ],
 "metadata": {
  "celltoolbar": "Slideshow",
  "kernelspec": {
   "display_name": "Python 3",
   "language": "python",
   "name": "python3"
  },
  "language_info": {
   "codemirror_mode": {
    "name": "ipython",
    "version": 3
   },
   "file_extension": ".py",
   "mimetype": "text/x-python",
   "name": "python",
   "nbconvert_exporter": "python",
   "pygments_lexer": "ipython3",
   "version": "3.6.3"
  }
 },
 "nbformat": 4,
 "nbformat_minor": 2
}
