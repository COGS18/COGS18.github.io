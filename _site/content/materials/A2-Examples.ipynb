{
 "cells": [
  {
   "cell_type": "markdown",
   "metadata": {},
   "source": [
    "# Examples"
   ]
  },
  {
   "cell_type": "markdown",
   "metadata": {},
   "source": [
    "The following is a set of quick examples of the code constructs that we work through in class. \n",
    "\n",
    "This notebook does not have any explanations - so do check the course Materials for those details. "
   ]
  },
  {
   "cell_type": "markdown",
   "metadata": {},
   "source": [
    "## Defining Variables"
   ]
  },
  {
   "cell_type": "markdown",
   "metadata": {},
   "source": [
    "### Basic Types"
   ]
  },
  {
   "cell_type": "code",
   "execution_count": 1,
   "metadata": {
    "collapsed": true
   },
   "outputs": [],
   "source": [
    "my_int = 1\n",
    "my_float = 12.2\n",
    "my_boolean = True"
   ]
  },
  {
   "cell_type": "markdown",
   "metadata": {},
   "source": [
    "### Collection Types"
   ]
  },
  {
   "cell_type": "code",
   "execution_count": 2,
   "metadata": {
    "collapsed": true
   },
   "outputs": [],
   "source": [
    "my_string = 'abc'\n",
    "my_list = [1, 2, 3]\n",
    "my_tuple = (1, 2, 3)\n",
    "my_dictionary = {'name1' : True, 'name2' : 12}"
   ]
  },
  {
   "cell_type": "markdown",
   "metadata": {},
   "source": [
    "## Operators"
   ]
  },
  {
   "cell_type": "markdown",
   "metadata": {},
   "source": [
    "### Mathematical Operators"
   ]
  },
  {
   "cell_type": "code",
   "execution_count": 3,
   "metadata": {},
   "outputs": [
    {
     "name": "stdout",
     "output_type": "stream",
     "text": [
      "Addition: \t 15\n",
      "Subtraction: \t 9\n",
      "Multiplication:  36\n",
      "Division: \t 4.0\n"
     ]
    }
   ],
   "source": [
    "print('Addition: \\t', 12 + 3)\n",
    "print('Subtraction: \\t', 12 - 3)\n",
    "print('Multiplication: ', 12 * 3)\n",
    "print('Division: \\t', 12 / 3)"
   ]
  },
  {
   "cell_type": "code",
   "execution_count": 4,
   "metadata": {},
   "outputs": [
    {
     "name": "stdout",
     "output_type": "stream",
     "text": [
      "Exponentiation:\t 4\n",
      "Remainder: \t 1\n"
     ]
    }
   ],
   "source": [
    "print('Exponentiation:\\t', 2**2)\n",
    "print('Remainder: \\t', 7%2)"
   ]
  },
  {
   "cell_type": "markdown",
   "metadata": {},
   "source": [
    "### Boolean Operators"
   ]
  },
  {
   "cell_type": "code",
   "execution_count": 5,
   "metadata": {},
   "outputs": [
    {
     "data": {
      "text/plain": [
       "True"
      ]
     },
     "execution_count": 5,
     "metadata": {},
     "output_type": "execute_result"
    }
   ],
   "source": [
    "# Boolean `and`\n",
    "True and True"
   ]
  },
  {
   "cell_type": "code",
   "execution_count": 6,
   "metadata": {},
   "outputs": [
    {
     "data": {
      "text/plain": [
       "True"
      ]
     },
     "execution_count": 6,
     "metadata": {},
     "output_type": "execute_result"
    }
   ],
   "source": [
    "# Boolean `or`\n",
    "True or False"
   ]
  },
  {
   "cell_type": "code",
   "execution_count": 7,
   "metadata": {},
   "outputs": [
    {
     "data": {
      "text/plain": [
       "False"
      ]
     },
     "execution_count": 7,
     "metadata": {},
     "output_type": "execute_result"
    }
   ],
   "source": [
    "# Boolean `not`\n",
    "not True"
   ]
  },
  {
   "cell_type": "markdown",
   "metadata": {},
   "source": [
    "### Other Operators"
   ]
  },
  {
   "cell_type": "code",
   "execution_count": 8,
   "metadata": {},
   "outputs": [
    {
     "name": "stdout",
     "output_type": "stream",
     "text": [
      "abc\n"
     ]
    }
   ],
   "source": [
    "# String concatenation\n",
    "print('a' + 'b' + 'c')"
   ]
  },
  {
   "cell_type": "markdown",
   "metadata": {},
   "source": [
    "## Value Comparisons"
   ]
  },
  {
   "cell_type": "code",
   "execution_count": 9,
   "metadata": {},
   "outputs": [
    {
     "name": "stdout",
     "output_type": "stream",
     "text": [
      "Equal:  \t True\n",
      "Unequal:\t True\n"
     ]
    }
   ],
   "source": [
    "# Equality comparisons\n",
    "print('Equal:  \\t', 1 == 1)\n",
    "print('Unequal:\\t', 2 != 1)"
   ]
  },
  {
   "cell_type": "code",
   "execution_count": 10,
   "metadata": {},
   "outputs": [
    {
     "name": "stdout",
     "output_type": "stream",
     "text": [
      "Less Than:     \t\t\t True\n",
      "Greater Than:  \t\t\t False\n",
      "Less Than Or Equal to:     \t True\n",
      "Greater Than Or Equal to:  \t False\n"
     ]
    }
   ],
   "source": [
    "# Magnitude Comparisons\n",
    "print('Less Than:     \\t\\t\\t', 2 < 3)\n",
    "print('Greater Than:  \\t\\t\\t', 4 > 5)\n",
    "print('Less Than Or Equal to:     \\t', 2 <= 2)\n",
    "print('Greater Than Or Equal to:  \\t', 3 >= 5)"
   ]
  },
  {
   "cell_type": "markdown",
   "metadata": {},
   "source": [
    "## Conditionals"
   ]
  },
  {
   "cell_type": "code",
   "execution_count": 11,
   "metadata": {},
   "outputs": [
    {
     "name": "stdout",
     "output_type": "stream",
     "text": [
      "elif condition\n"
     ]
    }
   ],
   "source": [
    "first_condition = False\n",
    "other_condition = True\n",
    "\n",
    "if first_condition:\n",
    "    print('if condition')\n",
    "elif other_condition:\n",
    "    print('elif condition')\n",
    "else:\n",
    "    print('else condition')    "
   ]
  },
  {
   "cell_type": "markdown",
   "metadata": {},
   "source": [
    "## Loops"
   ]
  },
  {
   "cell_type": "code",
   "execution_count": 12,
   "metadata": {},
   "outputs": [
    {
     "name": "stdout",
     "output_type": "stream",
     "text": [
      "Looping!\n",
      "Looping!\n",
      "Looping!\n"
     ]
    }
   ],
   "source": [
    "# While Loop\n",
    "ind = 0\n",
    "while ind < 3:\n",
    "    print('Looping!')\n",
    "    ind = ind + 1"
   ]
  },
  {
   "cell_type": "code",
   "execution_count": 13,
   "metadata": {},
   "outputs": [
    {
     "name": "stdout",
     "output_type": "stream",
     "text": [
      "1\n",
      "2\n",
      "3\n"
     ]
    }
   ],
   "source": [
    "# For Loop\n",
    "list_of_items = [1, 2, 3]\n",
    "for item in list_of_items:\n",
    "    print(item)"
   ]
  },
  {
   "cell_type": "code",
   "execution_count": 14,
   "metadata": {},
   "outputs": [
    {
     "name": "stdout",
     "output_type": "stream",
     "text": [
      "0\n",
      "1\n",
      "2\n",
      "3\n",
      "4\n"
     ]
    }
   ],
   "source": [
    "# For Loop using Range\n",
    "for iteration in range(5):\n",
    "    print(iteration)"
   ]
  },
  {
   "cell_type": "markdown",
   "metadata": {},
   "source": [
    "## Functions"
   ]
  },
  {
   "cell_type": "code",
   "execution_count": 15,
   "metadata": {
    "collapsed": true
   },
   "outputs": [],
   "source": [
    "# Defining a function\n",
    "def function_name(function_input_1, function_input_2):\n",
    "\n",
    "    output = function_input_1 + function_input_2\n",
    "    \n",
    "    return output"
   ]
  },
  {
   "cell_type": "code",
   "execution_count": 16,
   "metadata": {},
   "outputs": [
    {
     "name": "stdout",
     "output_type": "stream",
     "text": [
      "Answer:\t 3\n"
     ]
    }
   ],
   "source": [
    "# Calling a function\n",
    "answer = function_name(1, 2)\n",
    "\n",
    "print('Answer:\\t', answer)"
   ]
  },
  {
   "cell_type": "markdown",
   "metadata": {},
   "source": [
    "## Combining Things"
   ]
  },
  {
   "cell_type": "code",
   "execution_count": 17,
   "metadata": {},
   "outputs": [],
   "source": [
    "# Defining a Function with a Conditional inside it\n",
    "def conditional_function(input_boolean):\n",
    "    \n",
    "    if input_boolean == True:\n",
    "        output = 'Yay!'\n",
    "    else:\n",
    "        output = 'Nay.'\n",
    "    \n",
    "    return output"
   ]
  },
  {
   "cell_type": "code",
   "execution_count": 18,
   "metadata": {},
   "outputs": [
    {
     "name": "stdout",
     "output_type": "stream",
     "text": [
      "Yay!\n"
     ]
    }
   ],
   "source": [
    "# Calling our function\n",
    "returned = conditional_function(True)\n",
    "print(returned)"
   ]
  },
  {
   "cell_type": "code",
   "execution_count": 19,
   "metadata": {
    "collapsed": true
   },
   "outputs": [],
   "source": [
    "# Defining a Function with a Loop inside it"
   ]
  },
  {
   "cell_type": "code",
   "execution_count": 20,
   "metadata": {
    "collapsed": true
   },
   "outputs": [],
   "source": [
    "def loop_function(my_list):\n",
    "    \n",
    "    new_list = []\n",
    "    for item in my_list:\n",
    "        temp = item + 1\n",
    "        new_list.append(temp)\n",
    "        \n",
    "    return new_list"
   ]
  },
  {
   "cell_type": "code",
   "execution_count": 21,
   "metadata": {},
   "outputs": [
    {
     "name": "stdout",
     "output_type": "stream",
     "text": [
      "[2, 3, 4]\n"
     ]
    }
   ],
   "source": [
    "# Calling our function\n",
    "out_list = loop_function([1, 2, 3])\n",
    "print(out_list)"
   ]
  },
  {
   "cell_type": "code",
   "execution_count": 22,
   "metadata": {
    "collapsed": true
   },
   "outputs": [],
   "source": [
    "# Function with everything\n",
    "def busy_function(complex_list):\n",
    "    \"\"\"This function takes a complex list, and returns the numbers of booleans in the list.\"\"\"\n",
    "    \n",
    "    boolean_counter = 0\n",
    "    \n",
    "    for item in complex_list:\n",
    "        if item == True or item == False:\n",
    "            boolean_counter = boolean_counter + 1\n",
    "            \n",
    "    return boolean_counter"
   ]
  },
  {
   "cell_type": "code",
   "execution_count": 23,
   "metadata": {},
   "outputs": [
    {
     "data": {
      "text/plain": [
       "3"
      ]
     },
     "execution_count": 23,
     "metadata": {},
     "output_type": "execute_result"
    }
   ],
   "source": [
    "# Calling our function\n",
    "busy_function([True, 7.2, 'and', 13, False, '', None, 'word', True])"
   ]
  }
 ],
 "metadata": {
  "kernelspec": {
   "display_name": "Python [default]",
   "language": "python",
   "name": "python3"
  },
  "language_info": {
   "codemirror_mode": {
    "name": "ipython",
    "version": 3
   },
   "file_extension": ".py",
   "mimetype": "text/x-python",
   "name": "python",
   "nbconvert_exporter": "python",
   "pygments_lexer": "ipython3",
   "version": "3.6.6"
  }
 },
 "nbformat": 4,
 "nbformat_minor": 2
}
