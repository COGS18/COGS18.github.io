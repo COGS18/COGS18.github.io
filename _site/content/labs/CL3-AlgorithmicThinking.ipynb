{
 "cells": [
  {
   "cell_type": "markdown",
   "metadata": {},
   "source": [
    "# CL3: Algorithmic Thinking\n",
    "\n",
    "Welcome to the third coding lab!\n",
    "\n",
    "In this CodingLab we will be thinking and working on functions and algorithms. \n",
    "\n",
    "The first part is more abstract - thinking about algorithms and functions, and sketching out some pseudocode. \n",
    "\n",
    "After that, we'll move to more practice with functions. "
   ]
  },
  {
   "cell_type": "markdown",
   "metadata": {},
   "source": [
    "## PseudoCode\n",
    "\n",
    "First, let's briefly consider the idea of pseudocode. \n",
    "\n",
    "Pseudocode is an informal, 'high-level' sketch or description of a program or algorithm. \n",
    "\n",
    "It will typically resemble the structure of a program, but the details to make it actually run have not been fleshed out. "
   ]
  },
  {
   "cell_type": "markdown",
   "metadata": {},
   "source": [
    "### Pseudocode Human Language\n",
    "\n",
    "Some pseudocode is written in human level language, in a way that sketches out the tasks and general control flow. \n",
    "\n",
    "This highly abstract pseudocode is often not specific to any particular programming language. "
   ]
  },
  {
   "cell_type": "markdown",
   "metadata": {},
   "source": [
    "```\n",
    "# PseudoCode for checking if a student got full credit on assignment\n",
    "\n",
    "function that takes a list of student ids with student grades\n",
    "\n",
    "    create an output object to collect full credit\n",
    "\n",
    "    for student in list of grades\n",
    "\n",
    "        if grade of student is equal to max grade\n",
    "            add to list of full credits\n",
    "\n",
    "    return list of students who got full credit\n",
    "```"
   ]
  },
  {
   "cell_type": "markdown",
   "metadata": {},
   "source": [
    "### Pseudocode in Python format\n",
    "\n",
    "You can also write pseudocode, that is much closer to Python, including Python syntax, but that is more of a template / outline. \n",
    "\n",
    "PseudoCode like this is sometimes just a work-in-progress that is just not yet finished. \n",
    "\n",
    "Note the use of the `pass` keyword - `pass` is just a placeholder keyword, that does nothing."
   ]
  },
  {
   "cell_type": "code",
   "execution_count": null,
   "metadata": {
    "collapsed": true
   },
   "outputs": [],
   "source": [
    "# PseudoCode for a function to email a list of emails, and return a log of what was sent\n",
    "def sent_emails(list_of_emails):\n",
    "\n",
    "    emails_sent = {}  # Define an output variable for the logging\n",
    "\n",
    "    for email in list_of_emails:\n",
    "\n",
    "        # Send email to current student\n",
    "        pass\n",
    "\n",
    "        # Add logging information that email was sent\n",
    "        email_sent[email] = True\n",
    "\n",
    "    return emails_sent"
   ]
  },
  {
   "cell_type": "markdown",
   "metadata": {},
   "source": [
    "## Computation &  Algorithms\n",
    "\n",
    "Both computers and humans are good at some things, and bad at others. However, it tends to be different things that computers and humans are good at. \n",
    "\n",
    "Here is a list of possible tasks that a human and/or computer could try and do:\n",
    "\n",
    "- Given a list of 100K values, find the average and range of the list\n",
    "- Sort an array of randomly generated numbers from smallest to largest\n",
    "- Recognize the saddest part of a movie\n",
    "- Recall specific facts, like answering 'which day of the week was the 1st of June, 1997\n",
    "- Identify the likely country of origin of a person from their accent\n",
    "- Create a meme\n",
    "- Sort a list of 10,000 names alphabetically\n",
    "- Rank memes in order of how funny they are\n",
    "- Given two locations, figure out the best route to drive to get between them\n",
    "- Recognize the emotional state of a person\n",
    "- Flexibly change strategy, based on cues in the environment\n",
    "- Write and perform a winning rap battle \n",
    "- Learn and be able to understand a human language\n",
    "- Learn and be able to understand a programming language\n",
    "- Play tic-tac-toe\n",
    "- Write a review of a movie\n",
    "- Play chess\n",
    "- Play PACMAN"
   ]
  },
  {
   "cell_type": "markdown",
   "metadata": {},
   "source": [
    "### Instructions\n",
    "\n",
    "For the tasks above, we want to try and decide whether it is a task that computers would be better at, that humans would be better at, or if it would be a tie.\n",
    "\n",
    "In small groups (2 or 3 people), pick 3 or 4 examples from the list of tasks above, have a quick discussion about the task and hand and try to answer the question of who (computers and/or humans) this task would be easier for. \n",
    "\n",
    "For each task, try to imagine how you might try and do this in Python. \n",
    "\n",
    "Use pseudocode to sketch out an outline of the procedure. \n",
    "- If you think it is something computers can do well, your pseudocode should roughly cover the whole process.\n",
    "- If you think think it is more of a human thing, try to identify which part of the process, in particular, is difficult to specify within a formal algorithm. \n",
    "\n",
    "As you work through a few examples, make sure you talk through at least one of each of 'computer better' and 'human better' task. \n",
    "\n",
    "Note: as a rule of thumb, computers can do, and are good at anything we can write down an algorithm to complete. \n",
    "\n",
    "So one way to think of this task is to think through if and how you can think of writing an algorithm to complete this task.\n",
    "\n",
    "Below is an example, with an answer for the first listed task."
   ]
  },
  {
   "cell_type": "markdown",
   "metadata": {},
   "source": [
    "#### Example: Given a list of 100K values, find the average and range of the list\n",
    "\n",
    "This is a task that is easier for computers because we can write down a clear set of steps to complete this task (we can write an algorithm). \n",
    "\n",
    "Humans would not be good at completing this task, as there are a lot of steps to complete, and it would be slow, and we might not have the memory to do it.  "
   ]
  },
  {
   "cell_type": "code",
   "execution_count": null,
   "metadata": {
    "collapsed": true
   },
   "outputs": [],
   "source": [
    "# Pseudocode for array statistics\n",
    "def array_statistics():\n",
    "    \n",
    "    # Find the mean of the array. \n",
    "    pass\n",
    "    # To do so:\n",
    "        # Find the total sum of the array\n",
    "        # Find the number of elements in the array\n",
    "        # Divide the sum by the number of elements\n",
    "        \n",
    "    # Find the range of the array. \n",
    "    pass\n",
    "    # To do so:\n",
    "        # Find the maximum value of the array\n",
    "        # Find the minimum value of the array\n",
    "        # Calculate range by subtracting the max from the min for the array\n",
    "    \n",
    "    # Return the mean and range of the array\n",
    "    return None"
   ]
  },
  {
   "cell_type": "code",
   "execution_count": null,
   "metadata": {
    "collapsed": true
   },
   "outputs": [],
   "source": [
    "## Make some notes & write some pseudocode for you chosen tasks here\n",
    "\n"
   ]
  },
  {
   "cell_type": "markdown",
   "metadata": {},
   "source": [
    "## Functions\n",
    "\n",
    "Functions are a way to organize code into a procedure that we can repeat and use whenever we want. "
   ]
  },
  {
   "cell_type": "markdown",
   "metadata": {},
   "source": [
    "### Function Questions"
   ]
  },
  {
   "cell_type": "markdown",
   "metadata": {},
   "source": [
    "#### Write a function that takes one input, multiplies it by two and returns the result\n",
    "\n",
    "This function has been started for you, with the name `mult_two`.\n",
    "\n",
    "Add some more code to finish this function. "
   ]
  },
  {
   "cell_type": "code",
   "execution_count": null,
   "metadata": {},
   "outputs": [],
   "source": [
    "def mult_two(input_number):\n",
    "    \n",
    "    # YOUR CODE HERE"
   ]
  },
  {
   "cell_type": "code",
   "execution_count": null,
   "metadata": {},
   "outputs": [],
   "source": [
    "# Check that you can use the function\n",
    "mult_two(2)"
   ]
  },
  {
   "cell_type": "code",
   "execution_count": null,
   "metadata": {},
   "outputs": [],
   "source": [
    "# Check this function returns the correct outputs\n",
    "assert mult_two(2) == 4\n",
    "assert mult_two(3) == 6"
   ]
  },
  {
   "cell_type": "markdown",
   "metadata": {},
   "source": [
    "### Write a function that takes two inputs, adds them together, and returns the result\n",
    "\n",
    "Call this function `add_two`."
   ]
  },
  {
   "cell_type": "code",
   "execution_count": null,
   "metadata": {},
   "outputs": [],
   "source": [
    "def add_two(_FILL_IN_INPUTS_):\n",
    "    # YOUR CODE HERE"
   ]
  },
  {
   "cell_type": "code",
   "execution_count": null,
   "metadata": {},
   "outputs": [],
   "source": [
    "# Check that you can use the function\n",
    "add_two(2, 2)"
   ]
  },
  {
   "cell_type": "code",
   "execution_count": null,
   "metadata": {
    "collapsed": true
   },
   "outputs": [],
   "source": [
    "# Check this function returns the correct number\n",
    "assert add_two(2, 2) == 4\n",
    "assert add_two(3, 2) == 5"
   ]
  },
  {
   "cell_type": "markdown",
   "metadata": {},
   "source": [
    "### Write a function with a conditional inside it\n",
    "\n",
    "You can decide what this function does. \n",
    "\n",
    "It could, for example, take a boolean, and print out a status if the input is True. "
   ]
  },
  {
   "cell_type": "code",
   "execution_count": null,
   "metadata": {
    "collapsed": true
   },
   "outputs": [],
   "source": [
    "# YOUR CODE HERE\n"
   ]
  },
  {
   "cell_type": "markdown",
   "metadata": {},
   "source": [
    "### Write a function with a loop inside it\n",
    "\n",
    "You can decide what this function does. \n",
    "\n",
    "It could, for example, take a list of numbers, and add 1 to each element, and return the new list. "
   ]
  },
  {
   "cell_type": "code",
   "execution_count": null,
   "metadata": {
    "collapsed": true
   },
   "outputs": [],
   "source": [
    "# YOUR CODE HERE\n"
   ]
  },
  {
   "cell_type": "markdown",
   "metadata": {},
   "source": [
    "### Write a function with a loop and a conditional inside it\n",
    "\n",
    "You can decide what this function does. \n",
    "\n",
    "It could, for example, take a list of booleans, and count how many elements are True, returning a count of `True` values. "
   ]
  },
  {
   "cell_type": "code",
   "execution_count": null,
   "metadata": {
    "collapsed": true
   },
   "outputs": [],
   "source": [
    "# YOUR CODE HERE\n"
   ]
  }
 ],
 "metadata": {
  "kernelspec": {
   "display_name": "Python [conda root]",
   "language": "python",
   "name": "conda-root-py"
  },
  "language_info": {
   "codemirror_mode": {
    "name": "ipython",
    "version": 3
   },
   "file_extension": ".py",
   "mimetype": "text/x-python",
   "name": "python",
   "nbconvert_exporter": "python",
   "pygments_lexer": "ipython3",
   "version": "3.6.6"
  }
 },
 "nbformat": 4,
 "nbformat_minor": 2
}
