{
 "cells": [
  {
   "cell_type": "markdown",
   "metadata": {
    "deletable": false,
    "editable": false,
    "nbgrader": {
     "grade": false,
     "grade_id": "cell-868c65b2364c590e",
     "locked": true,
     "schema_version": 3,
     "solution": false
    }
   },
   "source": [
    "# CL8: Scientific Computing\n",
    "\n",
    "Welcome to the eighth coding lab!\n",
    "\n",
    "This coding lab focuses on getting comfortable working with data using `pandas`, writing code that adheres to good code style principles, and code testing."
   ]
  },
  {
   "cell_type": "markdown",
   "metadata": {
    "deletable": false,
    "editable": false,
    "nbgrader": {
     "grade": false,
     "grade_id": "cell-8ac9b04cc885ab3b",
     "locked": true,
     "schema_version": 3,
     "solution": false
    }
   },
   "source": [
    "## Part 1: Setup\n",
    "\n",
    "Data wrangling often requires additional functionality outside what's included in Python by default. For this, we'll import other functionality from helpful packages."
   ]
  },
  {
   "cell_type": "markdown",
   "metadata": {
    "deletable": false,
    "editable": false,
    "nbgrader": {
     "grade": false,
     "grade_id": "cell-58bfc3d10382dd05",
     "locked": true,
     "schema_version": 3,
     "solution": false
    }
   },
   "source": [
    "**Import the following packages using their common shortened name found in parentheses:**\n",
    "\n",
    "* `numpy` (`np`)\n",
    "* `pandas` (`pd`)"
   ]
  },
  {
   "cell_type": "code",
   "execution_count": 1,
   "metadata": {
    "deletable": false,
    "execution": {
     "iopub.execute_input": "2025-09-02T20:18:41.534821Z",
     "iopub.status.busy": "2025-09-02T20:18:41.534308Z",
     "iopub.status.idle": "2025-09-02T20:18:42.620725Z",
     "shell.execute_reply": "2025-09-02T20:18:42.619843Z"
    },
    "nbgrader": {
     "grade": false,
     "grade_id": "cell-b689d21f629d9dda",
     "locked": false,
     "schema_version": 3,
     "solution": true
    }
   },
   "outputs": [],
   "source": [
    "### BEGIN SOLUTION\n",
    "import numpy as np\n",
    "import pandas as pd\n",
    "### END SOLUTION"
   ]
  },
  {
   "cell_type": "code",
   "execution_count": 2,
   "metadata": {
    "deletable": false,
    "editable": false,
    "execution": {
     "iopub.execute_input": "2025-09-02T20:18:42.624509Z",
     "iopub.status.busy": "2025-09-02T20:18:42.624272Z",
     "iopub.status.idle": "2025-09-02T20:18:42.627680Z",
     "shell.execute_reply": "2025-09-02T20:18:42.627043Z"
    },
    "nbgrader": {
     "grade": true,
     "grade_id": "cell-fe28d02c0768c7b2",
     "locked": true,
     "points": 0,
     "schema_version": 3,
     "solution": false
    }
   },
   "outputs": [],
   "source": [
    "assert pd\n",
    "assert np"
   ]
  },
  {
   "cell_type": "markdown",
   "metadata": {
    "deletable": false,
    "editable": false,
    "nbgrader": {
     "grade": false,
     "grade_id": "cell-548c2344b57bdd87",
     "locked": true,
     "schema_version": 3,
     "solution": false
    }
   },
   "source": [
    "## Part II: Module Files\n",
    "\n",
    "First, in the notebook below, do the following:\n",
    "\n",
    "- Write at least one new Class\n",
    "    - Make sure there is at least one method in the class that returns something/prints something out\n",
    "- Write two new functions, that do something with instances of your new class(es)\n",
    "    - For example, take a list of custom objects, and call a method on each one"
   ]
  },
  {
   "cell_type": "markdown",
   "metadata": {},
   "source": [
    "Classes here:"
   ]
  },
  {
   "cell_type": "code",
   "execution_count": 3,
   "metadata": {
    "deletable": false,
    "execution": {
     "iopub.execute_input": "2025-09-02T20:18:42.631394Z",
     "iopub.status.busy": "2025-09-02T20:18:42.631243Z",
     "iopub.status.idle": "2025-09-02T20:18:42.635161Z",
     "shell.execute_reply": "2025-09-02T20:18:42.634574Z"
    },
    "nbgrader": {
     "grade": false,
     "grade_id": "cell-675a19a968584510",
     "locked": false,
     "schema_version": 3,
     "solution": true
    }
   },
   "outputs": [],
   "source": [
    "### BEGIN SOLUTION\n",
    "# Classes here\n",
    "class Noodles():\n",
    "    def __init__(self, size = 'large', available = 'Yes'):\n",
    "        self.size = size\n",
    "        self.available = available\n",
    "        \n",
    "    def order_to_go(self):\n",
    "        if self.available == None:\n",
    "            out = \"I'm sorry, but we aren't taking to-go orders right now.\"\n",
    "        if self.available == 'Yes':\n",
    "             out = \"I'll have your order ready in 20 minutes\"\n",
    "        return out\n",
    "### END SOLUTION"
   ]
  },
  {
   "cell_type": "markdown",
   "metadata": {},
   "source": [
    "Functions here:"
   ]
  },
  {
   "cell_type": "code",
   "execution_count": 4,
   "metadata": {
    "deletable": false,
    "execution": {
     "iopub.execute_input": "2025-09-02T20:18:42.639230Z",
     "iopub.status.busy": "2025-09-02T20:18:42.639015Z",
     "iopub.status.idle": "2025-09-02T20:18:42.642873Z",
     "shell.execute_reply": "2025-09-02T20:18:42.642290Z"
    },
    "nbgrader": {
     "grade": false,
     "grade_id": "cell-86a1f143fe528238",
     "locked": false,
     "schema_version": 3,
     "solution": true
    }
   },
   "outputs": [],
   "source": [
    "### BEGIN SOLUTION\n",
    "# new functions here\n",
    "def eating(Noodles):\n",
    "    if Noodles.available == 'Yes':\n",
    "        print('Itadakimasu') # means \"I will receive\"; something you say before eating\n",
    "        out = 'Slurp slurp slurp, delicious!'\n",
    "    else:\n",
    "        out = 'Quarantine can be rough. It be like that sometimes.'\n",
    "    return out\n",
    "\n",
    "def soup(Noodles):\n",
    "    if Noodles.size == 'large':\n",
    "        out = \"\\n\" + 'Should I drink the soup?' + \"\\n\\t\" + \"I really shouldn't... There's too much sodium.\"\n",
    "    if Noodles.size != 'large':\n",
    "        out = \"\\n\" + 'Should I drink the soup?' + \"\\n\\t\" + \"You only live once! Slurp slurp slurp!\"\n",
    "    return out\n",
    "### END SOLUTION"
   ]
  },
  {
   "cell_type": "markdown",
   "metadata": {
    "deletable": false,
    "editable": false,
    "nbgrader": {
     "grade": false,
     "grade_id": "cell-b2ef8fc67dc9d745",
     "locked": true,
     "schema_version": 3,
     "solution": false
    }
   },
   "source": [
    "Next, we are going to move this code to an external file - a Python module file.\n",
    "\n",
    "- Open a new text file, from the Jupyter server page\n",
    "- Copy your classes and functions into that file\n",
    "- Save that file ***in the same folder/directory where this notebook is located***, with some name that you give it, and a '.py' extension.  Note that the filename should NOT have any spaces in it (underscores are fine).\n",
    "- Now, `import` the classes and functions from that file into the notebook, and check that you can use them. "
   ]
  },
  {
   "cell_type": "code",
   "execution_count": null,
   "metadata": {
    "deletable": false,
    "nbgrader": {
     "grade": false,
     "grade_id": "cell-6085d828ccc8a2f3",
     "locked": false,
     "schema_version": 3,
     "solution": true
    }
   },
   "outputs": [],
   "source": [
    "### BEGIN SOLUTION\n",
    "# save the above in crave.py\n",
    "import cravings as crave\n",
    "\n",
    "tonkotsu = crave.Noodles()\n",
    "print(crave.eating(tonkotsu))\n",
    "print(crave.soup(tonkotsu))\n",
    "### END SOLUTION"
   ]
  },
  {
   "cell_type": "markdown",
   "metadata": {
    "deletable": false,
    "editable": false,
    "nbgrader": {
     "grade": false,
     "grade_id": "cell-ebf5cc8eb9b24f16",
     "locked": true,
     "schema_version": 3,
     "solution": false
    }
   },
   "source": [
    "## Part III: `pandas`"
   ]
  },
  {
   "cell_type": "markdown",
   "metadata": {},
   "source": [
    "### `pandas`: data\n",
    "\n",
    "FiveThirtyEight makes a lot of their data publicly available, so to get some practice using `pandas`, read in a dataframe directly using the `pandas` function `read_csv()`. The input to this function should be the following URL, as a string: https://raw.githubusercontent.com/fivethirtyeight/data/master/voter-registration/new-voter-registrations.csv. Store, this in the object `df`. "
   ]
  },
  {
   "cell_type": "code",
   "execution_count": 6,
   "metadata": {
    "deletable": false,
    "execution": {
     "iopub.execute_input": "2025-09-02T20:18:42.869797Z",
     "iopub.status.busy": "2025-09-02T20:18:42.869640Z",
     "iopub.status.idle": "2025-09-02T20:18:43.040710Z",
     "shell.execute_reply": "2025-09-02T20:18:43.039459Z"
    },
    "nbgrader": {
     "grade": false,
     "grade_id": "cell-e5772a18eb209c26",
     "locked": false,
     "schema_version": 3,
     "solution": true
    }
   },
   "outputs": [],
   "source": [
    "### BEGIN SOLUTION\n",
    "df = pd.read_csv('https://raw.githubusercontent.com/fivethirtyeight/data/master/voter-registration/new-voter-registrations.csv')\n",
    "### END SOLUTION"
   ]
  },
  {
   "cell_type": "code",
   "execution_count": 7,
   "metadata": {
    "deletable": false,
    "editable": false,
    "execution": {
     "iopub.execute_input": "2025-09-02T20:18:43.044878Z",
     "iopub.status.busy": "2025-09-02T20:18:43.044447Z",
     "iopub.status.idle": "2025-09-02T20:18:43.049335Z",
     "shell.execute_reply": "2025-09-02T20:18:43.048550Z"
    },
    "nbgrader": {
     "grade": true,
     "grade_id": "cell-6fb58c546e3f6bb1",
     "locked": true,
     "points": 0,
     "schema_version": 3,
     "solution": false
    }
   },
   "outputs": [],
   "source": [
    "assert isinstance(df, pd.DataFrame) # correct object type\n",
    "assert df.shape == (106, 4) # correct no. rows & columns"
   ]
  },
  {
   "cell_type": "markdown",
   "metadata": {
    "deletable": false,
    "editable": false,
    "nbgrader": {
     "grade": false,
     "grade_id": "cell-33aec5fb592acda9",
     "locked": true,
     "schema_version": 3,
     "solution": false
    }
   },
   "source": [
    "### `pandas`: attributes\n",
    "\n",
    "`pandas` DataFrame objects have a number of attributes. In the cell below, look up the following information specified by the text provided above each code cell.\n",
    "\n",
    "Note: each cell should have code that looks like `df.attribute`, where `attribute` is replaced by the attribute that returns the information in the comment"
   ]
  },
  {
   "cell_type": "markdown",
   "metadata": {},
   "source": [
    "Calculate the number of rows and columns:"
   ]
  },
  {
   "cell_type": "code",
   "execution_count": 8,
   "metadata": {
    "deletable": false,
    "execution": {
     "iopub.execute_input": "2025-09-02T20:18:43.053197Z",
     "iopub.status.busy": "2025-09-02T20:18:43.052458Z",
     "iopub.status.idle": "2025-09-02T20:18:43.061760Z",
     "shell.execute_reply": "2025-09-02T20:18:43.060994Z"
    },
    "nbgrader": {
     "grade": true,
     "grade_id": "cell-16f5e41842082f77",
     "locked": false,
     "points": 0,
     "schema_version": 3,
     "solution": true
    }
   },
   "outputs": [
    {
     "data": {
      "text/plain": [
       "(106, 4)"
      ]
     },
     "execution_count": 8,
     "metadata": {},
     "output_type": "execute_result"
    }
   ],
   "source": [
    "### BEGIN SOLUTION\n",
    "df.shape\n",
    "### END SOLUTION"
   ]
  },
  {
   "cell_type": "markdown",
   "metadata": {},
   "source": [
    "Column names:"
   ]
  },
  {
   "cell_type": "code",
   "execution_count": 9,
   "metadata": {
    "deletable": false,
    "execution": {
     "iopub.execute_input": "2025-09-02T20:18:43.065385Z",
     "iopub.status.busy": "2025-09-02T20:18:43.065101Z",
     "iopub.status.idle": "2025-09-02T20:18:43.070956Z",
     "shell.execute_reply": "2025-09-02T20:18:43.070208Z"
    },
    "nbgrader": {
     "grade": true,
     "grade_id": "cell-ba549ff059090d42",
     "locked": false,
     "points": 0,
     "schema_version": 3,
     "solution": true
    }
   },
   "outputs": [
    {
     "data": {
      "text/plain": [
       "Index(['Jurisdiction', 'Year', 'Month', 'New registered voters'], dtype='object')"
      ]
     },
     "execution_count": 9,
     "metadata": {},
     "output_type": "execute_result"
    }
   ],
   "source": [
    "### BEGIN SOLUTION\n",
    "df.columns\n",
    "### END SOLUTION"
   ]
  },
  {
   "cell_type": "markdown",
   "metadata": {},
   "source": [
    "### `pandas`: methods\n",
    "\n",
    "`pandas` DataFrame objects *also* have a number of helpful methods. In the cell below, look up the following information specified in cell above each code cell.\n",
    "\n",
    "Each cell should have code that looks like `df.method()`, where `method()` is replaced by the method that returns the information in the comment. \n",
    "\n",
    "Note that some methods will also need information within the parentheses following the method name (i.e. `df.method(arg=val)` and others may require you to specify the series on which you want to operate (i.e. `df['series'].method()`)"
   ]
  },
  {
   "cell_type": "markdown",
   "metadata": {},
   "source": [
    "see the first 5 rows of `df`:"
   ]
  },
  {
   "cell_type": "code",
   "execution_count": 10,
   "metadata": {
    "deletable": false,
    "execution": {
     "iopub.execute_input": "2025-09-02T20:18:43.075182Z",
     "iopub.status.busy": "2025-09-02T20:18:43.074568Z",
     "iopub.status.idle": "2025-09-02T20:18:43.091104Z",
     "shell.execute_reply": "2025-09-02T20:18:43.090346Z"
    },
    "nbgrader": {
     "grade": true,
     "grade_id": "cell-2ac7f780c95e3c73",
     "locked": false,
     "points": 0,
     "schema_version": 3,
     "solution": true
    }
   },
   "outputs": [
    {
     "data": {
      "text/html": [
       "<div>\n",
       "<style scoped>\n",
       "    .dataframe tbody tr th:only-of-type {\n",
       "        vertical-align: middle;\n",
       "    }\n",
       "\n",
       "    .dataframe tbody tr th {\n",
       "        vertical-align: top;\n",
       "    }\n",
       "\n",
       "    .dataframe thead th {\n",
       "        text-align: right;\n",
       "    }\n",
       "</style>\n",
       "<table border=\"1\" class=\"dataframe\">\n",
       "  <thead>\n",
       "    <tr style=\"text-align: right;\">\n",
       "      <th></th>\n",
       "      <th>Jurisdiction</th>\n",
       "      <th>Year</th>\n",
       "      <th>Month</th>\n",
       "      <th>New registered voters</th>\n",
       "    </tr>\n",
       "  </thead>\n",
       "  <tbody>\n",
       "    <tr>\n",
       "      <th>0</th>\n",
       "      <td>Arizona</td>\n",
       "      <td>2016</td>\n",
       "      <td>Jan</td>\n",
       "      <td>25852</td>\n",
       "    </tr>\n",
       "    <tr>\n",
       "      <th>1</th>\n",
       "      <td>Arizona</td>\n",
       "      <td>2016</td>\n",
       "      <td>Feb</td>\n",
       "      <td>51155</td>\n",
       "    </tr>\n",
       "    <tr>\n",
       "      <th>2</th>\n",
       "      <td>Arizona</td>\n",
       "      <td>2016</td>\n",
       "      <td>Mar</td>\n",
       "      <td>48614</td>\n",
       "    </tr>\n",
       "    <tr>\n",
       "      <th>3</th>\n",
       "      <td>Arizona</td>\n",
       "      <td>2016</td>\n",
       "      <td>Apr</td>\n",
       "      <td>30668</td>\n",
       "    </tr>\n",
       "    <tr>\n",
       "      <th>4</th>\n",
       "      <td>Arizona</td>\n",
       "      <td>2020</td>\n",
       "      <td>Jan</td>\n",
       "      <td>33229</td>\n",
       "    </tr>\n",
       "  </tbody>\n",
       "</table>\n",
       "</div>"
      ],
      "text/plain": [
       "  Jurisdiction  Year Month  New registered voters\n",
       "0      Arizona  2016   Jan                  25852\n",
       "1      Arizona  2016   Feb                  51155\n",
       "2      Arizona  2016   Mar                  48614\n",
       "3      Arizona  2016   Apr                  30668\n",
       "4      Arizona  2020   Jan                  33229"
      ]
     },
     "execution_count": 10,
     "metadata": {},
     "output_type": "execute_result"
    }
   ],
   "source": [
    "### BEGIN SOLUTION\n",
    "df.head()\n",
    "### END SOLUTION"
   ]
  },
  {
   "cell_type": "markdown",
   "metadata": {},
   "source": [
    "determine which different months are included in `df`:"
   ]
  },
  {
   "cell_type": "code",
   "execution_count": 11,
   "metadata": {
    "deletable": false,
    "execution": {
     "iopub.execute_input": "2025-09-02T20:18:43.094751Z",
     "iopub.status.busy": "2025-09-02T20:18:43.094461Z",
     "iopub.status.idle": "2025-09-02T20:18:43.100423Z",
     "shell.execute_reply": "2025-09-02T20:18:43.099652Z"
    },
    "nbgrader": {
     "grade": true,
     "grade_id": "cell-b7ade1cd727f2bf4",
     "locked": false,
     "points": 0,
     "schema_version": 3,
     "solution": true
    }
   },
   "outputs": [
    {
     "data": {
      "text/plain": [
       "array(['Jan', 'Feb', 'Mar', 'Apr', 'May'], dtype=object)"
      ]
     },
     "execution_count": 11,
     "metadata": {},
     "output_type": "execute_result"
    }
   ],
   "source": [
    "### BEGIN SOLUTION\n",
    "df['Month'].unique()\n",
    "### END SOLUTION"
   ]
  },
  {
   "cell_type": "markdown",
   "metadata": {},
   "source": [
    "determine how many different months are included in `df`:"
   ]
  },
  {
   "cell_type": "code",
   "execution_count": 12,
   "metadata": {
    "deletable": false,
    "execution": {
     "iopub.execute_input": "2025-09-02T20:18:43.104400Z",
     "iopub.status.busy": "2025-09-02T20:18:43.103828Z",
     "iopub.status.idle": "2025-09-02T20:18:43.109222Z",
     "shell.execute_reply": "2025-09-02T20:18:43.108469Z"
    },
    "nbgrader": {
     "grade": true,
     "grade_id": "cell-53af9735d46dad63",
     "locked": false,
     "points": 0,
     "schema_version": 3,
     "solution": true
    }
   },
   "outputs": [
    {
     "data": {
      "text/plain": [
       "5"
      ]
     },
     "execution_count": 12,
     "metadata": {},
     "output_type": "execute_result"
    }
   ],
   "source": [
    "### BEGIN SOLUTION\n",
    "df['Month'].nunique()\n",
    "### END SOLUTION"
   ]
  },
  {
   "cell_type": "markdown",
   "metadata": {},
   "source": [
    "determine how many times each month shows up in `df`:"
   ]
  },
  {
   "cell_type": "code",
   "execution_count": 13,
   "metadata": {
    "deletable": false,
    "execution": {
     "iopub.execute_input": "2025-09-02T20:18:43.113195Z",
     "iopub.status.busy": "2025-09-02T20:18:43.112540Z",
     "iopub.status.idle": "2025-09-02T20:18:43.119819Z",
     "shell.execute_reply": "2025-09-02T20:18:43.119065Z"
    },
    "nbgrader": {
     "grade": true,
     "grade_id": "cell-85f4da8e5a613764",
     "locked": false,
     "points": 0,
     "schema_version": 3,
     "solution": true
    }
   },
   "outputs": [
    {
     "data": {
      "text/plain": [
       "Month\n",
       "Jan    24\n",
       "Feb    24\n",
       "Mar    24\n",
       "Apr    24\n",
       "May    10\n",
       "Name: count, dtype: int64"
      ]
     },
     "execution_count": 13,
     "metadata": {},
     "output_type": "execute_result"
    }
   ],
   "source": [
    "### BEGIN SOLUTION\n",
    "df['Month'].value_counts()\n",
    "### END SOLUTION"
   ]
  },
  {
   "cell_type": "markdown",
   "metadata": {},
   "source": [
    "calculate basic summary statistics on New registered voters:"
   ]
  },
  {
   "cell_type": "code",
   "execution_count": 14,
   "metadata": {
    "deletable": false,
    "execution": {
     "iopub.execute_input": "2025-09-02T20:18:43.123712Z",
     "iopub.status.busy": "2025-09-02T20:18:43.123096Z",
     "iopub.status.idle": "2025-09-02T20:18:43.133168Z",
     "shell.execute_reply": "2025-09-02T20:18:43.132398Z"
    },
    "nbgrader": {
     "grade": true,
     "grade_id": "cell-86fe9f78f60ef83a",
     "locked": false,
     "points": 0,
     "schema_version": 3,
     "solution": true
    }
   },
   "outputs": [
    {
     "data": {
      "text/plain": [
       "count       106.000000\n",
       "mean      48223.462264\n",
       "std       48596.080089\n",
       "min         589.000000\n",
       "25%       19137.500000\n",
       "50%       33301.500000\n",
       "75%       55257.500000\n",
       "max      238281.000000\n",
       "Name: New registered voters, dtype: float64"
      ]
     },
     "execution_count": 14,
     "metadata": {},
     "output_type": "execute_result"
    }
   ],
   "source": [
    "### BEGIN SOLUTION\n",
    "df['New registered voters'].describe()\n",
    "### END SOLUTION"
   ]
  },
  {
   "cell_type": "markdown",
   "metadata": {
    "deletable": false,
    "editable": false,
    "nbgrader": {
     "grade": false,
     "grade_id": "cell-f7ccbf88f9481134",
     "locked": true,
     "schema_version": 3,
     "solution": false
    }
   },
   "source": [
    "## The End!\n",
    "\n",
    "This is the end of this Coding Lab!\n",
    "\n",
    "Be sure you've made a concerted effort to complete all the tasks specified in this lab. Then, go ahead and submit on datahub!"
   ]
  },
  {
   "cell_type": "markdown",
   "metadata": {
    "deletable": false,
    "editable": false,
    "nbgrader": {
     "grade": false,
     "grade_id": "cell-340e1bf9035bead2",
     "locked": true,
     "points": 2,
     "schema_version": 3,
     "solution": false,
     "task": true
    }
   },
   "source": [
    "This \"blank\" cell included intentionally. Do not do anything here. (It's being used in grading.)"
   ]
  }
 ],
 "metadata": {
  "kernelspec": {
   "display_name": "Python 3 (ipykernel)",
   "language": "python",
   "name": "python3"
  },
  "language_info": {
   "codemirror_mode": {
    "name": "ipython",
    "version": 3
   },
   "file_extension": ".py",
   "mimetype": "text/x-python",
   "name": "python",
   "nbconvert_exporter": "python",
   "pygments_lexer": "ipython3",
   "version": "3.11.9"
  }
 },
 "nbformat": 4,
 "nbformat_minor": 4
}
