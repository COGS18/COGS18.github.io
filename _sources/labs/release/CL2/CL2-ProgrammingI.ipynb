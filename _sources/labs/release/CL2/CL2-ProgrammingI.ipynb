{
 "cells": [
  {
   "cell_type": "markdown",
   "metadata": {
    "deletable": false,
    "editable": false,
    "nbgrader": {
     "cell_type": "markdown",
     "checksum": "e634e425f28d1beee5e44bb59dbd9502",
     "grade": false,
     "grade_id": "cell-413ac508a997bdcd",
     "locked": true,
     "schema_version": 3,
     "solution": false
    }
   },
   "source": [
    "# Coding Lab 2: Programming I\n",
    "\n",
    "\n",
    "Welcome to the second coding lab!\n",
    "\n",
    "CodingLab labs are meant to be interactive - so you are encouraged find another person to work together with on this notebook. For this lab, you can either work together on one notebook, or work together but each still fill out your own notebook for submission.\n",
    "\n",
    "CodingLabs are also meant to be exploratory. There are broad questions in the notebook that you should explore, and try to answer - but you are also very much encouraged to explore other related ideas as you go! If you explore something beyond what is required in the notebook, feel free to leave that exploratory code in the notebook you submit.\n",
    "\n",
    "If you have a question about how something works / what something does - try it out, and see what happens! If you can't figure it out, reach out to your instructional staff - we're here to help!"
   ]
  },
  {
   "cell_type": "markdown",
   "metadata": {
    "deletable": false,
    "editable": false,
    "nbgrader": {
     "cell_type": "markdown",
     "checksum": "86c0ce226f56709dfb75f51710e1135a",
     "grade": false,
     "grade_id": "cell-7062b5cc779ad73d",
     "locked": true,
     "schema_version": 3,
     "solution": false
    }
   },
   "source": [
    "## Part 1: Variables\n",
    "\n",
    "Variables are used in Python to store values. "
   ]
  },
  {
   "cell_type": "markdown",
   "metadata": {
    "deletable": false,
    "editable": false,
    "nbgrader": {
     "cell_type": "markdown",
     "checksum": "2bf61ef951c884daa22422f0ef8c5cb2",
     "grade": false,
     "grade_id": "cell-bcaa9d238d34b0da",
     "locked": true,
     "schema_version": 3,
     "solution": false
    }
   },
   "source": [
    "### Defining Variables\n",
    "\n",
    "Declare an int, float, string, and boolean. Fill them with with any values you want. \n",
    "\n",
    "Call them `my_int`, `my_float`, `my_string` and `my_boolean`. "
   ]
  },
  {
   "cell_type": "code",
   "execution_count": null,
   "metadata": {
    "deletable": false,
    "nbgrader": {
     "cell_type": "code",
     "checksum": "4f4a39b788567cc01d9b3b87ac557a7c",
     "grade": false,
     "grade_id": "cell-bc577641f19eb639",
     "locked": false,
     "schema_version": 3,
     "solution": true
    }
   },
   "outputs": [],
   "source": [
    "# YOUR CODE HERE\n",
    "raise NotImplementedError()"
   ]
  },
  {
   "cell_type": "markdown",
   "metadata": {
    "deletable": false,
    "editable": false,
    "nbgrader": {
     "cell_type": "markdown",
     "checksum": "6b84fbcd1a10864603d0702c65d0a1d4",
     "grade": false,
     "grade_id": "cell-9221d6b61ef8062d",
     "locked": true,
     "schema_version": 3,
     "solution": false
    }
   },
   "source": [
    "You'll see a lot of `assert` test cells throughout this course - most often in exams and assignments, but sometimes in coding labs. These are meant to ensure you're on the right track!\n",
    "\n",
    "When you see `assert` followed by a variable name, that is Python checking to ensure that variable exists. If you mistyped the variable name above (when defining the variable name), you would get an assertion error when running the cell below. The assertion error will point to which `assert` led the error to be raised. It's then your job to go back to your code and figure out why the `assert` test failed!\n",
    "\n",
    "If you're on the right track, there will be no output - or as you'll hear us say, these will \"pass siltently\". This doesn't guarantee your answer is right...but it let's you know you're on the right track!"
   ]
  },
  {
   "cell_type": "code",
   "execution_count": null,
   "metadata": {
    "deletable": false,
    "editable": false,
    "nbgrader": {
     "cell_type": "code",
     "checksum": "257b86517e3baf0042182357b0cc566d",
     "grade": true,
     "grade_id": "cell-74f3c0118c73cedc",
     "locked": true,
     "points": 0,
     "schema_version": 3,
     "solution": false
    }
   },
   "outputs": [],
   "source": [
    "assert my_int\n",
    "assert my_float\n",
    "assert my_string\n",
    "assert my_boolean"
   ]
  },
  {
   "cell_type": "markdown",
   "metadata": {
    "deletable": false,
    "editable": false,
    "nbgrader": {
     "cell_type": "markdown",
     "checksum": "62e7a8da02555a448852bccb70abee50",
     "grade": false,
     "grade_id": "cell-6ae3633c5a201316",
     "locked": true,
     "schema_version": 3,
     "solution": false
    }
   },
   "source": [
    "Use the following cells to check the types of the variables you write are as expected"
   ]
  },
  {
   "cell_type": "code",
   "execution_count": null,
   "metadata": {},
   "outputs": [],
   "source": [
    "type(my_int)"
   ]
  },
  {
   "cell_type": "code",
   "execution_count": null,
   "metadata": {},
   "outputs": [],
   "source": [
    "type(my_float)"
   ]
  },
  {
   "cell_type": "code",
   "execution_count": null,
   "metadata": {},
   "outputs": [],
   "source": [
    "type(my_string)"
   ]
  },
  {
   "cell_type": "code",
   "execution_count": null,
   "metadata": {},
   "outputs": [],
   "source": [
    "type(my_boolean)"
   ]
  },
  {
   "cell_type": "markdown",
   "metadata": {
    "deletable": false,
    "editable": false,
    "nbgrader": {
     "cell_type": "markdown",
     "checksum": "cd2321aa733399abaebed0b41f4e4777",
     "grade": false,
     "grade_id": "cell-a54cc923ac755ff3",
     "locked": true,
     "schema_version": 3,
     "solution": false
    }
   },
   "source": [
    "Note that we could also use `assert` statements to test the type. If the `type` of `my_int` is an integer (`int`), this cell will \"pass silently\" (meaning give no output). If it raised an asserttion error, we would know we had done something wrong above."
   ]
  },
  {
   "cell_type": "code",
   "execution_count": null,
   "metadata": {
    "deletable": false,
    "editable": false,
    "nbgrader": {
     "cell_type": "code",
     "checksum": "31d796cbf5f6ece1326ce5dc45884826",
     "grade": true,
     "grade_id": "cell-0648f3aeaf31e974",
     "locked": true,
     "points": 0,
     "schema_version": 3,
     "solution": false
    }
   },
   "outputs": [],
   "source": [
    "# test that my_int is an int\n",
    "assert type(my_int) == int"
   ]
  },
  {
   "cell_type": "markdown",
   "metadata": {
    "deletable": false,
    "editable": false,
    "nbgrader": {
     "cell_type": "markdown",
     "checksum": "24b00a1ea2e90af6a499501434a1cf52",
     "grade": false,
     "grade_id": "cell-9f6ba0b8bf2b1fd0",
     "locked": true,
     "schema_version": 3,
     "solution": false
    }
   },
   "source": [
    "## Part 2: Operators & Comparisons\n",
    "\n",
    "Operators are used in Python to do things with variables. "
   ]
  },
  {
   "cell_type": "markdown",
   "metadata": {
    "deletable": false,
    "editable": false,
    "nbgrader": {
     "cell_type": "markdown",
     "checksum": "71f4ee180704606846ac97ce49a0ede8",
     "grade": false,
     "grade_id": "cell-da80d1272bc4eff9",
     "locked": true,
     "schema_version": 3,
     "solution": false
    }
   },
   "source": [
    "### Operator Questions"
   ]
  },
  {
   "cell_type": "markdown",
   "metadata": {
    "deletable": false,
    "editable": false,
    "nbgrader": {
     "cell_type": "markdown",
     "checksum": "1e0d8eb3d315b92a51fe6aa895fcd261",
     "grade": false,
     "grade_id": "cell-04e971b5fafc1cce",
     "locked": true,
     "schema_version": 3,
     "solution": false
    }
   },
   "source": [
    "First - explore using Python operators. Make sure you can add and subtract numbers, concatenate strings, do boolean comparisons, etc."
   ]
  },
  {
   "cell_type": "code",
   "execution_count": null,
   "metadata": {
    "deletable": false,
    "nbgrader": {
     "cell_type": "code",
     "checksum": "8a72e8cb8a83c964e7b16809ed0afbed",
     "grade": false,
     "grade_id": "cell-8f0d4b798a73fcc8",
     "locked": false,
     "schema_version": 3,
     "solution": true
    }
   },
   "outputs": [],
   "source": [
    "## Do some exploring!\n",
    "\n",
    "# YOUR CODE HERE\n",
    "raise NotImplementedError()"
   ]
  },
  {
   "cell_type": "markdown",
   "metadata": {
    "deletable": false,
    "editable": false,
    "nbgrader": {
     "cell_type": "markdown",
     "checksum": "006341ca844eb1be40d71fe62b05ab42",
     "grade": false,
     "grade_id": "cell-38ce33eb0dc9fe0e",
     "locked": true,
     "schema_version": 3,
     "solution": false
    }
   },
   "source": [
    "Once you have explored using operators, try to answer some quesions using them. \n",
    "\n",
    "Let's start with an example: is the multiplication of 13 and 15 greater than 200?"
   ]
  },
  {
   "cell_type": "code",
   "execution_count": null,
   "metadata": {},
   "outputs": [],
   "source": [
    "13 * 15 > 200"
   ]
  },
  {
   "cell_type": "markdown",
   "metadata": {},
   "source": [
    "Similar to that example, try to answer the following questions using Python variables & comparisons. You can assign the output to whatever variable name you like:\n",
    "- Is the remainder of dividing 323 by 13 greater than 6?\n",
    "- Is 7 to the power of 3 greater than or equal to 300?\n",
    "- Is 49 squared greater than 2500 or (boolean comparison) is 14 to the power of 3 greater than 2500\n",
    "- Is 49 modulus 9 equal to 67 modulus 9 and (boolean comparison) is the sum 49 & 67 modulus 9 greater than 7"
   ]
  },
  {
   "cell_type": "code",
   "execution_count": null,
   "metadata": {
    "deletable": false,
    "nbgrader": {
     "cell_type": "code",
     "checksum": "83d85976e83762b5496d2a460ae9ddf6",
     "grade": false,
     "grade_id": "cell-14b037c8bfb689e5",
     "locked": false,
     "schema_version": 3,
     "solution": true
    }
   },
   "outputs": [],
   "source": [
    "# YOUR CODE HERE\n",
    "raise NotImplementedError()"
   ]
  },
  {
   "cell_type": "markdown",
   "metadata": {
    "deletable": false,
    "editable": false,
    "nbgrader": {
     "cell_type": "markdown",
     "checksum": "002b2d7d09e85b036df5cccede3b8d3d",
     "grade": false,
     "grade_id": "cell-158feba4becf22a6",
     "locked": true,
     "schema_version": 3,
     "solution": false
    }
   },
   "source": [
    "### Operator Challenges\n",
    "\n",
    "The following are more challenging operator related questions. If they seem too tricky for now, just skip ahead to the next section.\n",
    "\n",
    "Some more comparisons, with variable assignment:\n",
    "- Set the variable `comp_1` to the result of whether 17 squared is not the same as 867 divided by 3\n",
    "- Set the variable `comp_2` to the result of whether 4^3 is less than 3^4 **and** also greater than the remainder of dividing 1234 by 99\n",
    "\n",
    "Bonus: both of the above questions can be written in (at least) two ways. \n",
    "\n",
    "If you found an answer to them, see if you can update the construction (by changing at least one operator) to answer the question in a different way. \n",
    "\n",
    "Note: x^y indicates 'x to the power of y'"
   ]
  },
  {
   "cell_type": "code",
   "execution_count": null,
   "metadata": {
    "deletable": false,
    "nbgrader": {
     "cell_type": "code",
     "checksum": "2e9f7d02137b3ffe1035bcbde4550d76",
     "grade": false,
     "grade_id": "cell-5a50b68c85d9f25d",
     "locked": false,
     "schema_version": 3,
     "solution": true
    }
   },
   "outputs": [],
   "source": [
    "# YOUR CODE HERE\n",
    "raise NotImplementedError()"
   ]
  },
  {
   "cell_type": "markdown",
   "metadata": {
    "deletable": false,
    "editable": false,
    "nbgrader": {
     "cell_type": "markdown",
     "checksum": "c30d7d92897de2ad876271946709a336",
     "grade": false,
     "grade_id": "cell-0f176efcc82e8199",
     "locked": true,
     "schema_version": 3,
     "solution": false
    }
   },
   "source": [
    "### Operator Explorations\n",
    "\n",
    "For each of the following questions, start by writing out your guess on the outcome. \n",
    "\n",
    "Then, test out each one by writing out some code. \n",
    "\n",
    "Finally, once you have answered the question using code, add a comment in markdown with the answer. \n",
    "\n",
    "Questions:\n",
    "- If you divide a float by an int, what is the type of the outcome? What about dividing an int by a float?\n",
    "- What happens if you multiply a string with a number?\n",
    "- The `+` sign works if you for adding numbers and for concatenating strings. Can you use `+` with a number and string in the same operation?\n",
    "- Since you can use `+` and `*` with strings, what happens if you try to substract two strings using `-`?"
   ]
  },
  {
   "cell_type": "code",
   "execution_count": null,
   "metadata": {
    "deletable": false,
    "nbgrader": {
     "cell_type": "code",
     "checksum": "e78f07cc5513659a94b24473c9b51542",
     "grade": false,
     "grade_id": "cell-45b122ecc0f9a988",
     "locked": false,
     "schema_version": 3,
     "solution": true
    }
   },
   "outputs": [],
   "source": [
    "# YOUR CODE HERE\n",
    "raise NotImplementedError()"
   ]
  },
  {
   "cell_type": "markdown",
   "metadata": {
    "deletable": false,
    "editable": false,
    "nbgrader": {
     "cell_type": "markdown",
     "checksum": "9fb277295b1bf7caf60794427f079087",
     "grade": false,
     "grade_id": "cell-2e9c87f50b3f0bcc",
     "locked": true,
     "schema_version": 3,
     "solution": false
    }
   },
   "source": [
    "## Part 3: Asserts\n",
    "\n",
    "You will notice, through the coding labs and assignments, code that looks something like `assert True`, in which the assert statement is used. The goal, in your coding labs and assignments is for `assert` statements to \"pass silently\"...meaning give no output.\n",
    "\n",
    "Using assert essentially means to `assert that the following code is True`.\n",
    "\n",
    "Or, slightly more formally, `assert that the following code evaluates as True`.\n",
    "\n",
    "If the asserted code does not evaluate as True, it raises an error - meaning it interrupts the code execution because something went wrong.\n",
    "\n",
    "This can be used as a way to test that code does what you expect it to do, and is therefore part of how we will test your code programmatically. \n",
    "\n",
    "Because the use of `assert` will be common in course materials, let's take a moment to explore how it works and what happens when we use it."
   ]
  },
  {
   "cell_type": "code",
   "execution_count": null,
   "metadata": {
    "deletable": false,
    "nbgrader": {
     "cell_type": "code",
     "checksum": "59973a742c1bad882ca0de3e3971e7bb",
     "grade": false,
     "grade_id": "cell-132ecd7af4833ad3",
     "locked": false,
     "schema_version": 3,
     "solution": true
    }
   },
   "outputs": [],
   "source": [
    "# Declare a variable called `boolean` that  has type boolean, and passes the assert in the next cell\n",
    "\n",
    "# YOUR CODE HERE\n",
    "raise NotImplementedError()"
   ]
  },
  {
   "cell_type": "code",
   "execution_count": null,
   "metadata": {
    "deletable": false,
    "editable": false,
    "nbgrader": {
     "cell_type": "code",
     "checksum": "24cfbf6106148cdba69913939d1b4d4c",
     "grade": false,
     "grade_id": "cell-e53915d52806502d",
     "locked": true,
     "schema_version": 3,
     "solution": false
    }
   },
   "outputs": [],
   "source": [
    "# Check that there is variable called `boolean` that is a boolean\n",
    "assert type(boolean) == bool"
   ]
  },
  {
   "cell_type": "code",
   "execution_count": null,
   "metadata": {
    "deletable": false,
    "editable": false,
    "nbgrader": {
     "cell_type": "code",
     "checksum": "152069832cad5e301c9f9336ef5501e0",
     "grade": false,
     "grade_id": "cell-9193e532765c4e4a",
     "locked": true,
     "schema_version": 3,
     "solution": false
    }
   },
   "outputs": [],
   "source": [
    "# Check that the variable called `boolean` passes the assert\n",
    "assert boolean"
   ]
  },
  {
   "cell_type": "markdown",
   "metadata": {
    "deletable": false,
    "editable": false,
    "nbgrader": {
     "cell_type": "markdown",
     "checksum": "b1e08c6448f12373a5b15d71ea743e37",
     "grade": false,
     "grade_id": "cell-e89ec7f5c50e7896",
     "locked": true,
     "schema_version": 3,
     "solution": false
    }
   },
   "source": [
    "###  Assert Explorations\n",
    "\n",
    "Now, explore using assert. \n",
    "\n",
    "What happens if you assert a True comparison, like `6 < 10`? a False comparison, `like 6 > 10`?\n",
    "\n",
    "What happens if you assert an integer? or a string? \n",
    "\n",
    "What happens if you assert None?\n",
    "\n",
    "Find at least one integer that raises an assertion error. "
   ]
  },
  {
   "cell_type": "code",
   "execution_count": null,
   "metadata": {
    "deletable": false,
    "nbgrader": {
     "cell_type": "code",
     "checksum": "ee8561c8d4b1273aeb7dfde8ef00fa91",
     "grade": false,
     "grade_id": "cell-355e2ee2814f7325",
     "locked": false,
     "schema_version": 3,
     "solution": true
    }
   },
   "outputs": [],
   "source": [
    "# YOUR CODE HERE\n",
    "raise NotImplementedError()"
   ]
  },
  {
   "cell_type": "markdown",
   "metadata": {
    "deletable": false,
    "editable": false,
    "nbgrader": {
     "cell_type": "markdown",
     "checksum": "0c283351886f0b14e85180fb5861bc20",
     "grade": false,
     "grade_id": "cell-f7ccbf88f9481134",
     "locked": true,
     "schema_version": 3,
     "solution": false
    }
   },
   "source": [
    "## The End!\n",
    "\n",
    "This is the end of this Coding Lab!\n",
    "\n",
    "Be sure you've made a concerted effort to complete all the tasks specified in this lab. Then, go ahead and submit on Datahub!"
   ]
  }
 ],
 "metadata": {
  "kernelspec": {
   "display_name": "Python 3 (ipykernel)",
   "language": "python",
   "name": "python3"
  },
  "language_info": {
   "codemirror_mode": {
    "name": "ipython",
    "version": 3
   },
   "file_extension": ".py",
   "mimetype": "text/x-python",
   "name": "python",
   "nbconvert_exporter": "python",
   "pygments_lexer": "ipython3",
   "version": "3.9.5"
  }
 },
 "nbformat": 4,
 "nbformat_minor": 2
}
