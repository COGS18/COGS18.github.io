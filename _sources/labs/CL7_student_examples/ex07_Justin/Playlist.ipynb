{
 "cells": [
  {
   "cell_type": "code",
   "execution_count": 1,
   "id": "4cb3aff1",
   "metadata": {},
   "outputs": [
    {
     "data": {
      "text/plain": [
       "[{'Departure': 'jfkj'}]"
      ]
     },
     "execution_count": 1,
     "metadata": {},
     "output_type": "execute_result"
    }
   ],
   "source": [
    "import playlist as pl\n",
    "\n",
    "# YOUR CODE HERE\n",
    "new_playlist = pl.Playlist('Anime')\n",
    "new_playlist.add_song({'Departure' : 'jfkj'})\n",
    "new_playlist.song_list"
   ]
  },
  {
   "cell_type": "code",
   "execution_count": 3,
   "id": "51a1f07c",
   "metadata": {
    "scrolled": true
   },
   "outputs": [
    {
     "data": {
      "text/plain": [
       "[{'Magic!': 'MAZE1981'},\n",
       " {'Count What You Have Now': 'Vantage'},\n",
       " {'Lean on Me': 'Bill Withers'},\n",
       " {'Are You Ready(On Your Own)': 'Distant Cousins'},\n",
       " {'Mayonaka no Door / Stay With Me': 'Miki Matsubara'},\n",
       " {\"Can't Tale My Eyes off You\": 'Frankie Valli'}]"
      ]
     },
     "execution_count": 3,
     "metadata": {},
     "output_type": "execute_result"
    }
   ],
   "source": [
    "your_playlist = pl.Playlist('100% worry free')\n",
    "your_playlist.add_song({'Magic!' : 'MAZE1981'})\n",
    "your_playlist.add_song({'Count What You Have Now' : 'Vantage'})\n",
    "your_playlist.add_song({'Lean on Me' : 'Bill Withers'})\n",
    "your_playlist.add_song({'Are You Ready(On Your Own)' : 'Distant Cousins'})\n",
    "your_playlist.add_song({'Mayonaka no Door / Stay With Me' : 'Miki Matsubara'})\n",
    "your_playlist.add_song({\"Can't Tale My Eyes off You\" : 'Frankie Valli'})\n",
    "your_playlist.song_list"
   ]
  },
  {
   "cell_type": "code",
   "execution_count": 4,
   "id": "a5d79f8e",
   "metadata": {},
   "outputs": [
    {
     "name": "stdout",
     "output_type": "stream",
     "text": [
      "[{'Comic Sans': 'Audrey Nuna'}, {'Why': 'Dominic Fike'}, {'Yellow Cab': 'DPR LIVE'}, {'zombie pop': 'DPR IAN'}, {'Blossom': 'Audrey Nuna'}, {'Dive with you (feat. eaJ)': 'Seori, eaJ'}]\r\n",
      "There are 5 artists in Vibes\r\n"
     ]
    }
   ],
   "source": [
    "!python playlist_script.py"
   ]
  }
 ],
 "metadata": {
  "kernelspec": {
   "display_name": "Python 3 (ipykernel)",
   "language": "python",
   "name": "python3"
  },
  "language_info": {
   "codemirror_mode": {
    "name": "ipython",
    "version": 3
   },
   "file_extension": ".py",
   "mimetype": "text/x-python",
   "name": "python",
   "nbconvert_exporter": "python",
   "pygments_lexer": "ipython3",
   "version": "3.9.7"
  }
 },
 "nbformat": 4,
 "nbformat_minor": 5
}
