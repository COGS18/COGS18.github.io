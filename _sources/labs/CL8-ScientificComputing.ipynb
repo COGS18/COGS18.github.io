{
 "cells": [
  {
   "cell_type": "markdown",
   "metadata": {
    "nbgrader": {
     "grade": false,
     "grade_id": "cell-868c65b2364c590e",
     "locked": true,
     "schema_version": 3,
     "solution": false
    }
   },
   "source": [
    "# CL8: Scientific Computing\n",
    "\n",
    "Welcome to the eighth coding lab!\n",
    "\n",
    "This coding lab focuses on getting comfortable working with data using `pandas`, writing code that adheres to good code style principles, and code testing."
   ]
  },
  {
   "cell_type": "markdown",
   "metadata": {
    "nbgrader": {
     "grade": false,
     "grade_id": "cell-8ac9b04cc885ab3b",
     "locked": true,
     "schema_version": 3,
     "solution": false
    }
   },
   "source": [
    "## Part 0: Setup\n",
    "\n",
    "Data wrangling often requires additional functionality outside what's included in Python by default. For this, we'll import other functionality from helpful packages."
   ]
  },
  {
   "cell_type": "markdown",
   "metadata": {
    "nbgrader": {
     "grade": false,
     "grade_id": "cell-58bfc3d10382dd05",
     "locked": true,
     "schema_version": 3,
     "solution": false
    }
   },
   "source": [
    "**Import the following packages using their common shortened name found in parentheses:**\n",
    "\n",
    "* `numpy` (`np`)\n",
    "* `pandas` (`pd`)"
   ]
  },
  {
   "cell_type": "code",
   "execution_count": 1,
   "metadata": {
    "nbgrader": {
     "grade": false,
     "grade_id": "cell-b689d21f629d9dda",
     "locked": false,
     "schema_version": 3,
     "solution": true
    }
   },
   "outputs": [],
   "source": [
    "### BEGIN SOLUTION\n",
    "import numpy as np\n",
    "import pandas as pd\n",
    "### END SOLUTION"
   ]
  },
  {
   "cell_type": "code",
   "execution_count": 2,
   "metadata": {
    "nbgrader": {
     "grade": true,
     "grade_id": "cell-fe28d02c0768c7b2",
     "locked": true,
     "points": 0,
     "schema_version": 3,
     "solution": false
    }
   },
   "outputs": [],
   "source": [
    "assert pd\n",
    "assert np"
   ]
  },
  {
   "cell_type": "markdown",
   "metadata": {
    "nbgrader": {
     "grade": false,
     "grade_id": "cell-ebf5cc8eb9b24f16",
     "locked": true,
     "schema_version": 3,
     "solution": false
    }
   },
   "source": [
    "## Part I: `pandas`"
   ]
  },
  {
   "cell_type": "markdown",
   "metadata": {},
   "source": [
    "### `pandas`: data\n",
    "\n",
    "FiveThirtyEight makes a lot of their data publicly available, so to get some practice using `pandas`, read in a dataframe directly using the `pandas` function `read_csv()`. The input to this function should be the following URL, as a string: https://raw.githubusercontent.com/fivethirtyeight/data/master/voter-registration/new-voter-registrations.csv. Store, this in the object `df`. "
   ]
  },
  {
   "cell_type": "code",
   "execution_count": 3,
   "metadata": {
    "nbgrader": {
     "grade": false,
     "grade_id": "cell-e5772a18eb209c26",
     "locked": false,
     "schema_version": 3,
     "solution": true
    }
   },
   "outputs": [],
   "source": [
    "### BEGIN SOLUTION\n",
    "df = pd.read_csv('https://raw.githubusercontent.com/fivethirtyeight/data/master/voter-registration/new-voter-registrations.csv')\n",
    "### END SOLUTION"
   ]
  },
  {
   "cell_type": "code",
   "execution_count": 4,
   "metadata": {
    "nbgrader": {
     "grade": true,
     "grade_id": "cell-6fb58c546e3f6bb1",
     "locked": true,
     "points": 0,
     "schema_version": 3,
     "solution": false
    }
   },
   "outputs": [],
   "source": [
    "assert isinstance(df, pd.DataFrame) # correct object type\n",
    "assert df.shape == (106, 4) # correct no. rows & columns"
   ]
  },
  {
   "cell_type": "markdown",
   "metadata": {
    "nbgrader": {
     "grade": false,
     "grade_id": "cell-33aec5fb592acda9",
     "locked": true,
     "schema_version": 3,
     "solution": false
    }
   },
   "source": [
    "### `pandas`: attributes\n",
    "\n",
    "`pandas` DataFrame objects have a number of attributes. In the cell below, look up the following information specified in the comment of each cell below.\n",
    "\n",
    "Note: each cell should have code that looks like `df.attribute`, where `attribute` is replaced by the attribute that returns the information in the comment"
   ]
  },
  {
   "cell_type": "code",
   "execution_count": 5,
   "metadata": {
    "nbgrader": {
     "grade": true,
     "grade_id": "cell-16f5e41842082f77",
     "locked": false,
     "points": 0,
     "schema_version": 3,
     "solution": true
    }
   },
   "outputs": [
    {
     "data": {
      "text/plain": [
       "(106, 4)"
      ]
     },
     "execution_count": 5,
     "metadata": {},
     "output_type": "execute_result"
    }
   ],
   "source": [
    "# number of rows and columns\n",
    "\n",
    "### BEGIN SOLUTION\n",
    "df.shape\n",
    "### END SOLUTION"
   ]
  },
  {
   "cell_type": "code",
   "execution_count": 6,
   "metadata": {
    "nbgrader": {
     "grade": true,
     "grade_id": "cell-ba549ff059090d42",
     "locked": false,
     "points": 0,
     "schema_version": 3,
     "solution": true
    }
   },
   "outputs": [
    {
     "data": {
      "text/plain": [
       "Index(['Jurisdiction', 'Year', 'Month', 'New registered voters'], dtype='object')"
      ]
     },
     "execution_count": 6,
     "metadata": {},
     "output_type": "execute_result"
    }
   ],
   "source": [
    "# column names\n",
    "\n",
    "### BEGIN SOLUTION\n",
    "df.columns\n",
    "### END SOLUTION"
   ]
  },
  {
   "cell_type": "markdown",
   "metadata": {},
   "source": [
    "### `pandas`: methods\n",
    "\n",
    "`pandas` DataFrame objects *also* have a number of helpful methods. In the cell below, look up the following information specified in the comment of each cell below.\n",
    "\n",
    "Each cell should have code that looks like `df.method()`, where `method()` is replaced by the method that returns the information in the comment. \n",
    "\n",
    "Note that some methods will also need information within the parentheses following the method name (i.e. `df.method(arg=val)` and others may require you to specify the series on which you want to operate (i.e. `df['series'].method()`)"
   ]
  },
  {
   "cell_type": "code",
   "execution_count": 7,
   "metadata": {
    "nbgrader": {
     "grade": true,
     "grade_id": "cell-2ac7f780c95e3c73",
     "locked": false,
     "points": 0,
     "schema_version": 3,
     "solution": true
    }
   },
   "outputs": [
    {
     "data": {
      "text/html": [
       "<div>\n",
       "<style scoped>\n",
       "    .dataframe tbody tr th:only-of-type {\n",
       "        vertical-align: middle;\n",
       "    }\n",
       "\n",
       "    .dataframe tbody tr th {\n",
       "        vertical-align: top;\n",
       "    }\n",
       "\n",
       "    .dataframe thead th {\n",
       "        text-align: right;\n",
       "    }\n",
       "</style>\n",
       "<table border=\"1\" class=\"dataframe\">\n",
       "  <thead>\n",
       "    <tr style=\"text-align: right;\">\n",
       "      <th></th>\n",
       "      <th>Jurisdiction</th>\n",
       "      <th>Year</th>\n",
       "      <th>Month</th>\n",
       "      <th>New registered voters</th>\n",
       "    </tr>\n",
       "  </thead>\n",
       "  <tbody>\n",
       "    <tr>\n",
       "      <th>0</th>\n",
       "      <td>Arizona</td>\n",
       "      <td>2016</td>\n",
       "      <td>Jan</td>\n",
       "      <td>25852</td>\n",
       "    </tr>\n",
       "    <tr>\n",
       "      <th>1</th>\n",
       "      <td>Arizona</td>\n",
       "      <td>2016</td>\n",
       "      <td>Feb</td>\n",
       "      <td>51155</td>\n",
       "    </tr>\n",
       "    <tr>\n",
       "      <th>2</th>\n",
       "      <td>Arizona</td>\n",
       "      <td>2016</td>\n",
       "      <td>Mar</td>\n",
       "      <td>48614</td>\n",
       "    </tr>\n",
       "    <tr>\n",
       "      <th>3</th>\n",
       "      <td>Arizona</td>\n",
       "      <td>2016</td>\n",
       "      <td>Apr</td>\n",
       "      <td>30668</td>\n",
       "    </tr>\n",
       "    <tr>\n",
       "      <th>4</th>\n",
       "      <td>Arizona</td>\n",
       "      <td>2020</td>\n",
       "      <td>Jan</td>\n",
       "      <td>33229</td>\n",
       "    </tr>\n",
       "  </tbody>\n",
       "</table>\n",
       "</div>"
      ],
      "text/plain": [
       "  Jurisdiction  Year Month  New registered voters\n",
       "0      Arizona  2016   Jan                  25852\n",
       "1      Arizona  2016   Feb                  51155\n",
       "2      Arizona  2016   Mar                  48614\n",
       "3      Arizona  2016   Apr                  30668\n",
       "4      Arizona  2020   Jan                  33229"
      ]
     },
     "execution_count": 7,
     "metadata": {},
     "output_type": "execute_result"
    }
   ],
   "source": [
    "# see the first 5 rows of df\n",
    "\n",
    "### BEGIN SOLUTION\n",
    "df.head()\n",
    "### END SOLUTION"
   ]
  },
  {
   "cell_type": "code",
   "execution_count": 8,
   "metadata": {
    "nbgrader": {
     "grade": true,
     "grade_id": "cell-b7ade1cd727f2bf4",
     "locked": false,
     "points": 0,
     "schema_version": 3,
     "solution": true
    }
   },
   "outputs": [
    {
     "data": {
      "text/plain": [
       "array(['Jan', 'Feb', 'Mar', 'Apr', 'May'], dtype=object)"
      ]
     },
     "execution_count": 8,
     "metadata": {},
     "output_type": "execute_result"
    }
   ],
   "source": [
    "# determine which different months are included in df\n",
    "\n",
    "### BEGIN SOLUTION\n",
    "df['Month'].unique()\n",
    "### END SOLUTION"
   ]
  },
  {
   "cell_type": "code",
   "execution_count": 9,
   "metadata": {
    "nbgrader": {
     "grade": true,
     "grade_id": "cell-53af9735d46dad63",
     "locked": false,
     "points": 0,
     "schema_version": 3,
     "solution": true
    }
   },
   "outputs": [
    {
     "data": {
      "text/plain": [
       "5"
      ]
     },
     "execution_count": 9,
     "metadata": {},
     "output_type": "execute_result"
    }
   ],
   "source": [
    "# determine how many different months are included in df\n",
    "\n",
    "### BEGIN SOLUTION\n",
    "df['Month'].nunique()\n",
    "### END SOLUTION"
   ]
  },
  {
   "cell_type": "code",
   "execution_count": 10,
   "metadata": {
    "nbgrader": {
     "grade": true,
     "grade_id": "cell-85f4da8e5a613764",
     "locked": false,
     "points": 0,
     "schema_version": 3,
     "solution": true
    }
   },
   "outputs": [
    {
     "data": {
      "text/plain": [
       "Jan    24\n",
       "Feb    24\n",
       "Mar    24\n",
       "Apr    24\n",
       "May    10\n",
       "Name: Month, dtype: int64"
      ]
     },
     "execution_count": 10,
     "metadata": {},
     "output_type": "execute_result"
    }
   ],
   "source": [
    "# determine how many times each month shows up in df\n",
    "\n",
    "### BEGIN SOLUTION\n",
    "df['Month'].value_counts()\n",
    "### END SOLUTION"
   ]
  },
  {
   "cell_type": "code",
   "execution_count": 11,
   "metadata": {
    "nbgrader": {
     "grade": true,
     "grade_id": "cell-86fe9f78f60ef83a",
     "locked": false,
     "points": 0,
     "schema_version": 3,
     "solution": true
    },
    "scrolled": true
   },
   "outputs": [
    {
     "data": {
      "text/plain": [
       "count       106.000000\n",
       "mean      48223.462264\n",
       "std       48596.080089\n",
       "min         589.000000\n",
       "25%       19137.500000\n",
       "50%       33301.500000\n",
       "75%       55257.500000\n",
       "max      238281.000000\n",
       "Name: New registered voters, dtype: float64"
      ]
     },
     "execution_count": 11,
     "metadata": {},
     "output_type": "execute_result"
    }
   ],
   "source": [
    "# calculate basic summary statistics\n",
    "# on New registered voters\n",
    "\n",
    "### BEGIN SOLUTION\n",
    "df['New registered voters'].describe()\n",
    "### END SOLUTION"
   ]
  },
  {
   "cell_type": "markdown",
   "metadata": {
    "nbgrader": {
     "grade": false,
     "grade_id": "cell-3c4aaccbc3bd056f",
     "locked": true,
     "schema_version": 3,
     "solution": false
    }
   },
   "source": [
    "## Part II: Code Style & Docuemntation\n",
    "\n",
    "Below a fucntion `get_most_common` is provided. \n",
    "\n",
    "For this question:\n",
    "1. Take a look at the code and examples provided in the cells to understand what the function is doing. \n",
    "2. Consider the code style guidelines discussed in class and edit the code in the cell below to make the code more readable. \n",
    "3. Add a numpy-style docstring to the function.\n",
    "\n",
    "Note: the name and the functionality of the code will *not* change, but the style (parameter/variable naming, spacing, indentation, capitalization, etc.) shuold be improved."
   ]
  },
  {
   "cell_type": "code",
   "execution_count": 12,
   "metadata": {
    "nbgrader": {
     "grade": true,
     "grade_id": "cell-9fb7b80d8ea51c15",
     "locked": false,
     "points": 0,
     "schema_version": 3,
     "solution": true
    }
   },
   "outputs": [],
   "source": [
    "# edit code style for this function\n",
    "def get_most_common(d,c):\n",
    "  MC=d[c].value_counts()\n",
    "  a=MC.idxmax();b=MC.max()\n",
    "  return a,b \n",
    "\n",
    "### BEGIN SOLUTION\n",
    "def get_most_common(df, variable):  # better parameter names\n",
    "    \n",
    "    \"\"\" \n",
    "    Identify the most common category that shoes up in the column of the DataFrame\n",
    "    specified on input as wel as how many times that value shows up.\n",
    "    \n",
    "    Parameters\n",
    "    ----------\n",
    "    df : DataFrame\n",
    "        The pandas DataFrame containing the column to be summarized\n",
    "    variable : str\n",
    "        The column in the pandas DataFrame to be summarized\n",
    "        \n",
    "    Returns\n",
    "    -------\n",
    "    max_label : str\n",
    "        The category/label that shows up most frequently in the column interrogated\n",
    "    max_value : int\n",
    "        The number of times the `max_label` shows up\n",
    "    \"\"\"\n",
    "    \n",
    "    # fix indentation; better spacing around operators; improve variable names\n",
    "    most_common = df[variable].value_counts() \n",
    "    max_label = most_common.idxmax()\n",
    "    max_value = most_common.max()  # separate out onto two lines\n",
    "    \n",
    "    return max_label, max_value \n",
    "### END SOLUTION"
   ]
  },
  {
   "cell_type": "code",
   "execution_count": 13,
   "metadata": {},
   "outputs": [
    {
     "data": {
      "text/plain": [
       "('District of Columbia', 10)"
      ]
     },
     "execution_count": 13,
     "metadata": {},
     "output_type": "execute_result"
    }
   ],
   "source": [
    "# execute function\n",
    "get_most_common(df, 'Jurisdiction')"
   ]
  },
  {
   "cell_type": "code",
   "execution_count": 14,
   "metadata": {},
   "outputs": [
    {
     "name": "stdout",
     "output_type": "stream",
     "text": [
      "Jan 24\n"
     ]
    }
   ],
   "source": [
    "# execute function\n",
    "# store output in two separate variables\n",
    "month_common, month_val = get_most_common(df, 'Month')\n",
    "print(month_common, month_val)"
   ]
  },
  {
   "cell_type": "markdown",
   "metadata": {
    "nbgrader": {
     "grade": false,
     "grade_id": "cell-a827a6ec9446ec24",
     "locked": true,
     "schema_version": 3,
     "solution": false
    }
   },
   "source": [
    "Provided is a function you've seen before in A3...but here with particularly terrible code style. As above, edit the function for code style and add a numpy-style docstring. Its functionality will not change, but its readability and documentation will."
   ]
  },
  {
   "cell_type": "code",
   "execution_count": 15,
   "metadata": {
    "nbgrader": {
     "grade": false,
     "grade_id": "cell-386b512d8694e96a",
     "locked": false,
     "schema_version": 3,
     "solution": true
    }
   },
   "outputs": [],
   "source": [
    "# edit code style for this function\n",
    "def end_chat(i):\n",
    "    if 'quit' in i:o='Bye';c=False\n",
    "    else:o=None;c=True      \n",
    "    return o, c\n",
    "\n",
    "### BEGIN SOLUTION\n",
    "def end_chat(input_string):  # better parameter name\n",
    "    \n",
    "    \"\"\"\n",
    "    Determine if the word 'quit' is in function's input\n",
    "    \n",
    "    Parameters\n",
    "    ----------\n",
    "    input_string : str\n",
    "        The string to be analyzed to see if it contains the word 'quit'\n",
    "        \n",
    "    \n",
    "    Returns\n",
    "    -------\n",
    "    output : str or None\n",
    "        Function returns the string 'Bye' if 'quit' is in the input_string and None otherwise\n",
    "    chat : bool\n",
    "        Function returns False if 'quit' is in the input_string and True otherwise; controls if chat should continue\n",
    "    \n",
    "    \"\"\"\n",
    "    \n",
    "    # fix indentation; better spacing around operators; improve variable names\n",
    "    if 'quit' in input_string:\n",
    "        output = 'Bye'\n",
    "        chat = False # separate out onto two lines\n",
    "    else:\n",
    "        output = None\n",
    "        chat = True\n",
    "    \n",
    "    return output, chat \n",
    "### END SOLUTION"
   ]
  },
  {
   "cell_type": "code",
   "execution_count": 16,
   "metadata": {},
   "outputs": [
    {
     "data": {
      "text/plain": [
       "('Bye', False)"
      ]
     },
     "execution_count": 16,
     "metadata": {},
     "output_type": "execute_result"
    }
   ],
   "source": [
    "# execute function\n",
    "end_chat('I want to quit')"
   ]
  },
  {
   "cell_type": "code",
   "execution_count": 17,
   "metadata": {},
   "outputs": [
    {
     "name": "stdout",
     "output_type": "stream",
     "text": [
      "Bye False\n"
     ]
    }
   ],
   "source": [
    "# execute function\n",
    "# store output in two separate variables\n",
    "output, chat = end_chat('I want to quit')\n",
    "print(output, chat)"
   ]
  },
  {
   "cell_type": "markdown",
   "metadata": {
    "nbgrader": {
     "grade": false,
     "grade_id": "cell-2be00d7e1d6f39b6",
     "locked": true,
     "schema_version": 3,
     "solution": false
    }
   },
   "source": [
    "## Part III: Code Testing\n",
    "\n",
    "After editing the function above, write a test function `test_get_most_common()` that will test the functionality of the `get_most_common` function above. \n",
    "\n",
    "Note: you'll likely need to create a dummy dataframe within the function"
   ]
  },
  {
   "cell_type": "code",
   "execution_count": 18,
   "metadata": {
    "nbgrader": {
     "grade": false,
     "grade_id": "cell-c082de93aa527b7f",
     "locked": false,
     "schema_version": 3,
     "solution": true
    }
   },
   "outputs": [],
   "source": [
    "### BEGIN SOLUTION\n",
    "def test_get_most_common():\n",
    "    # create data frame for testing\n",
    "    test_df = pd.DataFrame({'col1': ['a', 'b', 'b'], \n",
    "                            'col2': [3, 4, 5]}) \n",
    "    \n",
    "    # execute function\n",
    "    out = get_most_common(test_df, 'col1')\n",
    "    \n",
    "    # add assert statements that test function\n",
    "    assert callable(get_most_common)\n",
    "    assert isinstance(out, tuple)\n",
    "    assert out == ('b', 2)\n",
    "### END SOLUTION"
   ]
  },
  {
   "cell_type": "code",
   "execution_count": 19,
   "metadata": {
    "nbgrader": {
     "grade": false,
     "grade_id": "cell-7055da283ea651dc",
     "locked": true,
     "schema_version": 3,
     "solution": false
    }
   },
   "outputs": [],
   "source": [
    "# should pass silently\n",
    "# when you execute test\n",
    "test_get_most_common()"
   ]
  },
  {
   "cell_type": "code",
   "execution_count": 20,
   "metadata": {
    "nbgrader": {
     "grade": true,
     "grade_id": "cell-41bf6676180da7b0",
     "locked": true,
     "points": 0,
     "schema_version": 3,
     "solution": false
    }
   },
   "outputs": [],
   "source": [
    "# call test function\n",
    "out = test_get_most_common()\n",
    "# out should store none if passes silently\n",
    "assert out == None"
   ]
  },
  {
   "cell_type": "markdown",
   "metadata": {
    "nbgrader": {
     "grade": false,
     "grade_id": "part4",
     "locked": true,
     "schema_version": 3,
     "solution": false
    }
   },
   "source": [
    "## Part IV: `pytest` (*optional*)\n",
    "\n",
    "Let's try out `pytest!`\n",
    "\n",
    "1. Copy the function `get_most_common` to a `functions.py` file (in the same directory as this notebook.)\n",
    "2. Copy the test function `test_get_most_common` to a test file `test_functions.py`. Be sure to add the necessary `import` statement to the top of this file.\n",
    "3. Execute `pytest` in the cell below."
   ]
  },
  {
   "cell_type": "code",
   "execution_count": null,
   "metadata": {
    "nbgrader": {
     "grade": false,
     "grade_id": "cell-bb97e4691ec8c1dd",
     "locked": false,
     "schema_version": 3,
     "solution": true
    }
   },
   "outputs": [],
   "source": [
    "### BEGIN SOLUTION\n",
    "# executing this should show passing tests \n",
    "# once the above steps are carried out\n",
    "# assumes test_functions.py is in same directory\n",
    "# as this lab\n",
    "!pytest test_functions.py\n",
    "### END SOLUTION"
   ]
  }
 ],
 "metadata": {
  "celltoolbar": "Create Assignment",
  "kernelspec": {
   "display_name": "Python 3 (ipykernel)",
   "language": "python",
   "name": "python3"
  },
  "language_info": {
   "codemirror_mode": {
    "name": "ipython",
    "version": 3
   },
   "file_extension": ".py",
   "mimetype": "text/x-python",
   "name": "python",
   "nbconvert_exporter": "python",
   "pygments_lexer": "ipython3",
   "version": "3.9.7"
  }
 },
 "nbformat": 4,
 "nbformat_minor": 2
}
