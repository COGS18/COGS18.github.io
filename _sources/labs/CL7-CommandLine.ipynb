{
 "cells": [
  {
   "cell_type": "markdown",
   "metadata": {
    "nbgrader": {
     "grade": false,
     "grade_id": "cell-695e601f026b86f0",
     "locked": true,
     "schema_version": 3,
     "solution": false
    }
   },
   "source": [
    "# CL7: Command Line\n",
    "\n",
    "Welcome to the seventh coding lab! \n",
    "\n",
    "**We will use this lab for two weeks in a row. This is not due until Wed. 3/2**\n",
    "\n",
    "In this CodingLab we will be working with the command line, and with python files (module files and scripts). \n",
    "\n",
    "While this _may_ feel like busy work, understanding and completing this coding lab will be essential when it comes time for your project/final exam. Do your very best to complete all parts of this CodingLab!"
   ]
  },
  {
   "cell_type": "markdown",
   "metadata": {
    "nbgrader": {
     "grade": false,
     "grade_id": "cell-664df31c0ba3c2d4",
     "locked": true,
     "schema_version": 3,
     "solution": false
    }
   },
   "source": [
    "## Part I: Command Line (Week 1)\n",
    "\n",
    "Open a terminal from the Jupyter notebook server (either on your local computer or datahub), and do the following:\n",
    "\n",
    "- Navigate to your desktop (or home directory on datahub)\n",
    "- Make a new directory\n",
    "- Move inside that directory\n",
    "- Create a new Python file\n",
    "- Open the file (this may be from the Files tab on datahub)\n",
    "- Write some Python code inside that file\n",
    "    - For example: print('Hello World')\n",
    "- Save the file (and return to the terminal\n",
    "- Execute the Python file from the terminal"
   ]
  },
  {
   "cell_type": "markdown",
   "metadata": {},
   "source": [
    "Describe your success/struggles/failures with the above steps here (These are notes to yourself/meant to describe to staff what you did here. This *could* be copy + paste of the code you typed into the terminal or just notes to yourself/staff describing what you learned/where you struggled.):\n"
   ]
  },
  {
   "cell_type": "markdown",
   "metadata": {
    "nbgrader": {
     "grade": false,
     "grade_id": "cell-548c2344b57bdd87",
     "locked": true,
     "schema_version": 3,
     "solution": false
    }
   },
   "source": [
    "## Part II: Module Files  (Week 1)\n",
    "\n",
    "First, in the notebook below, do the following:\n",
    "\n",
    "- Write at least one new Class\n",
    "    - Make sure there is at least one method in the class that returns something/prints something out\n",
    "- Write two new functions, that do something with instances of your new class(es)\n",
    "    - For example, take a list of custom objects, and call a method on each one"
   ]
  },
  {
   "cell_type": "code",
   "execution_count": null,
   "metadata": {
    "nbgrader": {
     "grade": false,
     "grade_id": "cell-675a19a968584510",
     "locked": false,
     "schema_version": 3,
     "solution": true
    }
   },
   "outputs": [],
   "source": [
    "# Class(es) here\n",
    "\n",
    "### BEGIN SOLUTION\n",
    "# Classes here\n",
    "class Noodles():\n",
    "    def __init__(self, size = 'large', available = 'Yes'):\n",
    "        self.size = size\n",
    "        self.available = available\n",
    "        \n",
    "    def order_to_go(self):\n",
    "        if self.available == None:\n",
    "            out = \"I'm sorry, but we aren't taking to-go orders right now.\"\n",
    "        if self.available == 'Yes':\n",
    "             out = \"I'll have your order ready in 20 minutes\"\n",
    "        return out\n",
    "### END SOLUTION"
   ]
  },
  {
   "cell_type": "code",
   "execution_count": null,
   "metadata": {
    "nbgrader": {
     "grade": false,
     "grade_id": "cell-86a1f143fe528238",
     "locked": false,
     "schema_version": 3,
     "solution": true
    }
   },
   "outputs": [],
   "source": [
    "# function(s) here\n",
    "\n",
    "### BEGIN SOLUTION\n",
    "# new functions here\n",
    "def eating(Noodles):\n",
    "    if Noodles.available == 'Yes':\n",
    "        print('Itadakimasu') # means \"I will receive\"; something you say before eating\n",
    "        out = 'Slurp slurp slurp, delicious!'\n",
    "    else:\n",
    "        out = 'Quarantine can be rough. It be like that sometimes.'\n",
    "    return out\n",
    "\n",
    "def soup(Noodles):\n",
    "    if Noodles.size == 'large':\n",
    "        out = \"\\n\" + 'Should I drink the soup?' + \"\\n\\t\" + \"I really shouldn't... There's too much sodium.\"\n",
    "    if Noodles.size != 'large':\n",
    "        out = \"\\n\" + 'Should I drink the soup?' + \"\\n\\t\" + \"You only live once! Slurp slurp slurp!\"\n",
    "    return out\n",
    "### END SOLUTION"
   ]
  },
  {
   "cell_type": "markdown",
   "metadata": {
    "nbgrader": {
     "grade": false,
     "grade_id": "cell-b2ef8fc67dc9d745",
     "locked": true,
     "schema_version": 3,
     "solution": false
    }
   },
   "source": [
    "Next, we are going to move this code to an external file - a Python module file. (**Week 2**)\n",
    "\n",
    "- Open a new text file, from the Jupyter server page\n",
    "- Copy your classes and functions into that file\n",
    "- Save that file ***in the same folder/directory where this notebook is located***, with some name that you give it, and a '.py' extension.\n",
    "- Now, import the classes and functions from that file into the notebook, and check that you can use them. "
   ]
  },
  {
   "cell_type": "code",
   "execution_count": null,
   "metadata": {
    "nbgrader": {
     "grade": false,
     "grade_id": "cell-6085d828ccc8a2f3",
     "locked": false,
     "schema_version": 3,
     "solution": true
    }
   },
   "outputs": [],
   "source": [
    "import ...\n",
    "\n",
    "### BEGIN SOLUTION\n",
    "import cravings as crave\n",
    "\n",
    "tonkotsu = crave.Noodles()\n",
    "print(crave.eating(tonkotsu))\n",
    "print(crave.soup(tonkotsu))\n",
    "### END SOLUTION"
   ]
  },
  {
   "cell_type": "markdown",
   "metadata": {
    "nbgrader": {
     "grade": false,
     "grade_id": "cell-dbf22ebdae23df78",
     "locked": true,
     "schema_version": 3,
     "solution": false
    }
   },
   "source": [
    "## Part III: Python Scripts (Week 2)\n",
    "\n",
    "Now write a small script that imports from your module file, and uses that code to do something.\n",
    "\n",
    "To do so, start with the new text file. It should import your classes and functions from the file you made above. Then, use these functions and classes to do something (write some Python code that does something with these objects). Save your file with a '.py' extension ***in the same folder/directory where this notebook is located**, and then execute it from the terminal."
   ]
  },
  {
   "cell_type": "code",
   "execution_count": null,
   "metadata": {
    "nbgrader": {
     "grade": false,
     "grade_id": "cell-449d77be79b3fff3",
     "locked": false,
     "schema_version": 3,
     "solution": true
    }
   },
   "outputs": [],
   "source": [
    "# (optional) You can draft your script before moving it \n",
    "# to an external file here     \n",
    "\n",
    "### BEGIN SOLUTION\n",
    "# I've stored the following few lines of code in a file \n",
    "# called `cravings_script.py`:\n",
    "import cravings as crave\n",
    "\n",
    "tonkotsu = crave.Noodles()\n",
    "print(crave.eating(tonkotsu))s\n",
    "print(crave.soup(tonkotsu))\n",
    "\n",
    "# execute script\n",
    "!python cravings_script.py\n",
    "### END SOLUTION"
   ]
  },
  {
   "cell_type": "markdown",
   "metadata": {},
   "source": [
    "Explain your success/struggles/failures with the above here:"
   ]
  },
  {
   "cell_type": "markdown",
   "metadata": {
    "nbgrader": {
     "grade": false,
     "grade_id": "cell-f7ccbf88f9481134",
     "locked": true,
     "schema_version": 3,
     "solution": false
    }
   },
   "source": [
    "## The End!\n",
    "\n",
    "This is the end of this Coding Lab!\n",
    "\n",
    "Be sure you've made a concerted effort to complete all the tasks specified in this lab. Then, go ahead and submit on datahub!"
   ]
  }
 ],
 "metadata": {
  "celltoolbar": "Create Assignment",
  "kernelspec": {
   "display_name": "Python 3 (ipykernel)",
   "language": "python",
   "name": "python3"
  },
  "language_info": {
   "codemirror_mode": {
    "name": "ipython",
    "version": 3
   },
   "file_extension": ".py",
   "mimetype": "text/x-python",
   "name": "python",
   "nbconvert_exporter": "python",
   "pygments_lexer": "ipython3",
   "version": "3.9.7"
  }
 },
 "nbformat": 4,
 "nbformat_minor": 2
}
