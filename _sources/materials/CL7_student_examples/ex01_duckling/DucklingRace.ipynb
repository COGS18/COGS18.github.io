{
 "cells": [
  {
   "cell_type": "markdown",
   "metadata": {},
   "source": [
    "### Module Import"
   ]
  },
  {
   "cell_type": "code",
   "execution_count": 1,
   "metadata": {},
   "outputs": [],
   "source": [
    "from twentiethx import ducklings_race"
   ]
  },
  {
   "cell_type": "code",
   "execution_count": 2,
   "metadata": {},
   "outputs": [
    {
     "name": "stdout",
     "output_type": "stream",
     "text": [
      "[{'name': 'Donald', 'amount of steps': 5, 'comments': 'aka Mr. Duck'}, {'name': 'Daisy', 'amount of steps': 7, 'comments': 'aka Mrs. Duck'}, {'name': 'Mickey', 'amount of steps': 2, 'comments': 'not a duck, but it is fine'}]\n",
      "Daisy is the winner\n"
     ]
    }
   ],
   "source": [
    "bark = ducklings_race()\n",
    "bark.add_duckling('Donald', 5, 'aka Mr. Duck')\n",
    "bark.add_duckling('Daisy', 7, 'aka Mrs. Duck')\n",
    "bark.add_duckling('Mickey', 2, 'not a duck, but it is fine')\n",
    "print(bark.roster)\n",
    "bark.winner()"
   ]
  },
  {
   "cell_type": "markdown",
   "metadata": {},
   "source": [
    "### Script Execution"
   ]
  },
  {
   "cell_type": "code",
   "execution_count": 3,
   "metadata": {},
   "outputs": [
    {
     "name": "stdout",
     "output_type": "stream",
     "text": [
      "3\r\n"
     ]
    }
   ],
   "source": [
    "!python twentiethx_script.py"
   ]
  }
 ],
 "metadata": {
  "kernelspec": {
   "display_name": "Python 3",
   "language": "python",
   "name": "python3"
  },
  "language_info": {
   "codemirror_mode": {
    "name": "ipython",
    "version": 3
   },
   "file_extension": ".py",
   "mimetype": "text/x-python",
   "name": "python",
   "nbconvert_exporter": "python",
   "pygments_lexer": "ipython3",
   "version": "3.7.7"
  }
 },
 "nbformat": 4,
 "nbformat_minor": 4
}
