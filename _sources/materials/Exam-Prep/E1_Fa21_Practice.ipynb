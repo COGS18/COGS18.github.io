{
 "cells": [
  {
   "cell_type": "markdown",
   "metadata": {
    "nbgrader": {
     "grade": false,
     "grade_id": "cell-dee83f4fa4efc49d",
     "locked": true,
     "schema_version": 3,
     "solution": false
    }
   },
   "source": [
    "# COGS 18 - Practice Exam\n",
    "\n",
    "This is the practice exam for Fall 2021. It covers topics through the Dictionaries Lecture.\n",
    "\n",
    "This exam is out of 0 points, worth 0% of your grade, but the real thing will be out of 12.5 points.\n",
    "\n",
    "**PLEASE DO NOT CHANGE THE NAME OF THIS FILE.**\n",
    "\n",
    "**PLEASE DO NOT COPY & PASTE OR DELETE CELLS INLCUDED IN THE EXAM.** (Note that you can add additional cells, if you want to test things out.)"
   ]
  },
  {
   "cell_type": "markdown",
   "metadata": {
    "nbgrader": {
     "grade": false,
     "grade_id": "instructions",
     "locked": true,
     "schema_version": 3,
     "solution": false
    }
   },
   "source": [
    "## Instructions\n",
    "\n",
    "#### Timing\n",
    "- The exam is designed to take you ~1h.\n",
    "- There will be a 24 hour window during which you can complete this exam (due Sat 8AM).\n",
    "- If it takes you longer than 1h, you're free to use that time.\n",
    "\n",
    "#### The Rules\n",
    "- You are to complete this exam on your own.\n",
    "- This is open-notes & open-Google\n",
    "- You may not talk to any humans about this exam. \n",
    "- The following are all *prohibited*:\n",
    "    - text/phone/online chat communication\n",
    "    - posting questions to a message board where a human could respond\n",
    "    - asking anyone via any form about a question on this test directly\n",
    "- Clarification questions will ***not*** be allowed and there will be no posting on Campuswire about the exam at all. \n",
    "    - Campuswire posts about the exam will not be answered and will be deleted. \n",
    "    - Students who post questions about the exam to Campuswire are at risk of losing points on the exam.\n",
    "    - If you are confused about wording, add a note to your exam explaining your confusion and how you interpreted the question. \n",
    "    - Note: This policy is b/c we are incapable of responding for 24h straight. This is the only way to make it fair across the board for students."
   ]
  },
  {
   "cell_type": "markdown",
   "metadata": {
    "nbgrader": {
     "grade": false,
     "grade_id": "cell-26b08bd4b5ba54ab",
     "locked": true,
     "schema_version": 3,
     "solution": false
    }
   },
   "source": [
    " <span style=\"color: red;\">Note: </span> There _is_ a chance for partial credit on some questions, so _some_ code is better than _no_ code. Even if it throws an error, having some code that partially answers the question will benefit you/your grade."
   ]
  },
  {
   "cell_type": "markdown",
   "metadata": {
    "nbgrader": {
     "grade": false,
     "grade_id": "cell-4d8581ac45c24683",
     "locked": true,
     "schema_version": 3,
     "solution": false,
     "task": false
    }
   },
   "source": [
    "### Q0 - Honor Code (0.1 points)\n",
    "\n",
    "In the cell below, include a variable `honor_code` that stores the boolean `True` if you agree to the following statement:\n",
    "\n",
    ">I agree that this exam was completed individually with the knowlege in my brain, information the notes from this course, and/or with searching for help on the Internet *without searching for answers to the text from these questions directly*. I did not ask anyone about specific questions on this exam. I did not post these questions (in part or in whole) on the Internet. I did not copy answers to these questions from anywhere or anyone else. I understand all code I've written on this exam and could explain my answers to someone else if asked.\n"
   ]
  },
  {
   "cell_type": "code",
   "execution_count": 1,
   "metadata": {
    "nbgrader": {
     "grade": false,
     "grade_id": "cell-9dae831891d7a1ad",
     "locked": false,
     "schema_version": 3,
     "solution": true,
     "task": false
    }
   },
   "outputs": [],
   "source": [
    "### BEGIN SOLUTION\n",
    "honor_code = True\n",
    "### END SOLUTION"
   ]
  },
  {
   "cell_type": "code",
   "execution_count": 2,
   "metadata": {
    "nbgrader": {
     "grade": true,
     "grade_id": "cell-8a6d1a928512e45c",
     "locked": true,
     "points": 0.1,
     "schema_version": 3,
     "solution": false,
     "task": false
    }
   },
   "outputs": [],
   "source": [
    "assert honor_code"
   ]
  },
  {
   "cell_type": "markdown",
   "metadata": {
    "nbgrader": {
     "grade": false,
     "grade_id": "cell-67b477fe413ddd29",
     "locked": true,
     "schema_version": 3,
     "solution": false
    }
   },
   "source": [
    "## Part 1: Variables & Operators (3.75 points)\n",
    "^ The headers and point values correspond to the actual headers and point values you'll have for each section on your exam"
   ]
  },
  {
   "cell_type": "markdown",
   "metadata": {
    "nbgrader": {
     "grade": false,
     "grade_id": "cell-648c538aaa34a8e6",
     "locked": true,
     "schema_version": 3,
     "solution": false
    }
   },
   "source": [
    "### Example Q1 - Variables & Operators \n",
    "\n",
    "In the cell below, create three variables: `var_a`, `var_b`, and `var_c`.\n",
    "\n",
    "These variables must satisfy the following requirements:\n",
    "\n",
    "1. `var_a` must store a float (you get to choose the specific float)\n",
    "2. `var_b` must use *at least two* of the comparison operators (`<`,`>`,`<=`,`>=`,`!=`,`==`) and store (return) the value `True`. \n",
    "3. `var_c` must use *at least two* of the math operators (`+`, `-`, `/`, `*`, `**`, `%`, `//`) and store the value 36"
   ]
  },
  {
   "cell_type": "code",
   "execution_count": 3,
   "metadata": {
    "nbgrader": {
     "grade": false,
     "grade_id": "cell-9838f1e7760f2339",
     "locked": false,
     "schema_version": 3,
     "solution": true
    }
   },
   "outputs": [],
   "source": [
    "### BEGIN SOLUTION\n",
    "# actual variable creation will differ\n",
    "var_a = 7.3\n",
    "var_b = 6 == 6 and 3 <= 4\n",
    "var_c = (6 + 3) * 4\n",
    "### END SOLUTION"
   ]
  },
  {
   "cell_type": "code",
   "execution_count": 4,
   "metadata": {
    "nbgrader": {
     "grade": true,
     "grade_id": "cell-b8e0ad19e06f8f4e",
     "locked": true,
     "points": 0,
     "schema_version": 3,
     "solution": false
    }
   },
   "outputs": [],
   "source": [
    "# check variable exists\n",
    "assert var_a is not None\n",
    "\n",
    "### BEGIN HIDDEN TESTS\n",
    "assert isinstance(var_a, float)\n",
    "### END HIDDEN TESTS"
   ]
  },
  {
   "cell_type": "code",
   "execution_count": 5,
   "metadata": {
    "nbgrader": {
     "grade": true,
     "grade_id": "cell-923642821412100b",
     "locked": true,
     "points": 0,
     "schema_version": 3,
     "solution": false
    }
   },
   "outputs": [],
   "source": [
    "assert isinstance(var_b, bool)\n",
    "\n",
    "### BEGIN HIDDEN TESTS\n",
    "assert var_b \n",
    "### END HIDDEN TESTS"
   ]
  },
  {
   "cell_type": "code",
   "execution_count": 6,
   "metadata": {
    "nbgrader": {
     "grade": true,
     "grade_id": "cell-e6967925a5e8087c",
     "locked": true,
     "points": 0,
     "schema_version": 3,
     "solution": false
    }
   },
   "outputs": [],
   "source": [
    "# check variable exists\n",
    "assert var_c is not None\n",
    "\n",
    "### BEGIN HIDDEN TESTS\n",
    "assert var_c == 36\n",
    "### END HIDDEN TESTS"
   ]
  },
  {
   "cell_type": "markdown",
   "metadata": {
    "nbgrader": {
     "grade": false,
     "grade_id": "cell-468ebbcd5ee201ba",
     "locked": true,
     "points": 0,
     "schema_version": 3,
     "solution": false,
     "task": true
    }
   },
   "source": [
    "**This \"blank\" cell included intentionally.** Do not do anything here. (It's being used in grading.)"
   ]
  },
  {
   "cell_type": "markdown",
   "metadata": {
    "nbgrader": {
     "grade": false,
     "grade_id": "cell-dd772f325aeed313",
     "locked": true,
     "schema_version": 3,
     "solution": false
    }
   },
   "source": [
    "## Part 2: Collections & Indexing  (3 points)"
   ]
  },
  {
   "cell_type": "markdown",
   "metadata": {
    "nbgrader": {
     "grade": false,
     "grade_id": "cell-e1e679b600fffa0a",
     "locked": true,
     "schema_version": 3,
     "solution": false
    }
   },
   "source": [
    "### Example Q2 - Indexing\n",
    "\n",
    "Given a the list `my_list` provided below, include code below *using indexing* to return the values specified below from `my_list`.\n",
    "\n",
    "\n",
    "1. In `list_a`, index `my_list` such that it will store (return) `['c', 'd']`\n",
    "2. In `list_b`, index `my_list` such that it will store (return) `['a', 'c', 'e']`"
   ]
  },
  {
   "cell_type": "code",
   "execution_count": 7,
   "metadata": {
    "nbgrader": {
     "grade": false,
     "grade_id": "cell-f48b2de4d459c3a0",
     "locked": false,
     "schema_version": 3,
     "solution": true
    }
   },
   "outputs": [],
   "source": [
    "# my_list is provided for you\n",
    "my_list = ['a', 'b', 'c', 'd', 'e']\n",
    "\n",
    "### BEGIN SOLUTION\n",
    "# specific indexing approaches may differ\n",
    "list_a = my_list[2:4]\n",
    "list_b = my_list[0::2]\n",
    "### END SOLUTION"
   ]
  },
  {
   "cell_type": "code",
   "execution_count": 8,
   "metadata": {
    "nbgrader": {
     "grade": true,
     "grade_id": "cell-74d84403f448609d",
     "locked": true,
     "points": 0,
     "schema_version": 3,
     "solution": false
    }
   },
   "outputs": [],
   "source": [
    "assert isinstance(list_a, list)\n",
    "\n",
    "### BEGIN HIDDEN TESTS\n",
    "assert list_a == ['c', 'd']\n",
    "### END HIDDEN TESTS"
   ]
  },
  {
   "cell_type": "code",
   "execution_count": 9,
   "metadata": {
    "nbgrader": {
     "grade": true,
     "grade_id": "cell-8135dae390974663",
     "locked": true,
     "points": 0,
     "schema_version": 3,
     "solution": false
    }
   },
   "outputs": [],
   "source": [
    "assert isinstance(list_b, list)\n",
    "\n",
    "### BEGIN HIDDEN TESTS\n",
    "assert list_b == ['a', 'c', 'e']\n",
    "### END HIDDEN TESTS"
   ]
  },
  {
   "cell_type": "markdown",
   "metadata": {
    "nbgrader": {
     "grade": false,
     "grade_id": "cell-fe3e8da39d3f07ef",
     "locked": true,
     "points": 0.7,
     "schema_version": 3,
     "solution": false,
     "task": true
    }
   },
   "source": [
    "**This \"blank\" cell included intentionally.** Do not do anything here. (It's being used in grading.)"
   ]
  },
  {
   "cell_type": "markdown",
   "metadata": {
    "nbgrader": {
     "grade": false,
     "grade_id": "cell-08558daba596965c",
     "locked": true,
     "schema_version": 3,
     "solution": false
    }
   },
   "source": [
    "## Part 3: Control Flow - Conditionals & Loops  (5.65  points)\n",
    "\n",
    "**Note**: This section is longer and has more questions than what will be on your exam; however, this is where students struggle the most, so I wanted to give you more practice questions."
   ]
  },
  {
   "cell_type": "markdown",
   "metadata": {
    "nbgrader": {
     "grade": false,
     "grade_id": "cell-16c3665100b9d3e0",
     "locked": true,
     "schema_version": 3,
     "solution": false
    }
   },
   "source": [
    "### Example Q3 - `while` loop\n",
    "\n",
    "Include code in your answer below that:\n",
    "\n",
    "1. Creates (initializes) a counter `counter` that starts at 0\n",
    "2. Creates (initializes) an empty list `out`\n",
    "3. Creates a loop that will run as long as the value of `counter` is less than or equal to 10\n",
    "    - Within the loop:\n",
    "        - first: if the value of `counter` is odd, `append` the value of `counter` to the list `out`\n",
    "        - then: increase the value of `counter` by 1 each time through the loop "
   ]
  },
  {
   "cell_type": "code",
   "execution_count": 10,
   "metadata": {
    "nbgrader": {
     "grade": false,
     "grade_id": "cell-cc7b7de76987f097",
     "locked": false,
     "schema_version": 3,
     "solution": true
    }
   },
   "outputs": [],
   "source": [
    "### BEGIN SOLUTION\n",
    "out = []\n",
    "counter = 0 \n",
    "\n",
    "while counter <= 10: \n",
    "    if counter % 2 != 0:\n",
    "        out.append(counter)\n",
    "\n",
    "    counter += 1\n",
    "### END SOLUTION"
   ]
  },
  {
   "cell_type": "code",
   "execution_count": 11,
   "metadata": {
    "nbgrader": {
     "grade": true,
     "grade_id": "cell-b97c5d995d630ec6",
     "locked": true,
     "points": 0,
     "schema_version": 3,
     "solution": false
    }
   },
   "outputs": [],
   "source": [
    "assert counter > 0 & counter < 100\n",
    "\n",
    "### BEGIN HIDDEN TESTS\n",
    "assert counter == 11\n",
    "### END HIDDEN TESTS"
   ]
  },
  {
   "cell_type": "code",
   "execution_count": 12,
   "metadata": {
    "nbgrader": {
     "grade": true,
     "grade_id": "cell-4775c78a819a4bbc",
     "locked": true,
     "points": 0,
     "schema_version": 3,
     "solution": false
    }
   },
   "outputs": [],
   "source": [
    "assert isinstance(out, list)\n",
    "\n",
    "### BEGIN HIDDEN TESTS\n",
    "assert out == [1, 3, 5, 7, 9]\n",
    "### END HIDDEN TESTS"
   ]
  },
  {
   "cell_type": "markdown",
   "metadata": {
    "nbgrader": {
     "grade": false,
     "grade_id": "q4",
     "locked": true,
     "schema_version": 3,
     "solution": false
    }
   },
   "source": [
    "### Example Q4 - `for` loop\n",
    "\n",
    "Store your first name as a string in the variable `my_name` and initialize a `counter` (use that variable name).\n",
    "\n",
    "Then, write a `for` loop that loops through the letters of your first name, increasing the counter by one for each consonant (non-vowel) in your name. \n",
    "\n",
    "The value stored in the counter at the end of your loop’s execution should be the number of consonants in your first name. Be sure that 'B' and 'b' are counted as the same letter in your code.\n"
   ]
  },
  {
   "cell_type": "code",
   "execution_count": 13,
   "metadata": {
    "nbgrader": {
     "grade": false,
     "grade_id": "q4a",
     "locked": false,
     "schema_version": 3,
     "solution": true
    }
   },
   "outputs": [],
   "source": [
    "### BEGIN SOLUTION\n",
    "# code will differ based on who is taking the exam\n",
    "my_name = 'Shannon'\n",
    "counter = 0\n",
    "\n",
    "for char in my_name:\n",
    "    char = char.lower()\n",
    "    if char not in ['a', 'e', 'i', 'o', 'u']:\n",
    "        counter += 1\n",
    "        \n",
    "# OR\n",
    "# note `vowels` could also be a string\n",
    "vowels = ['A','E','I','O','U', 'a', 'e', 'i', 'o', 'u']\n",
    "counter = 0\n",
    "\n",
    "for char in my_name:\n",
    "    if char not in vowels:\n",
    "        counter += 1\n",
    "### END SOLUTION"
   ]
  },
  {
   "cell_type": "code",
   "execution_count": 14,
   "metadata": {
    "nbgrader": {
     "grade": true,
     "grade_id": "q4-t1",
     "locked": true,
     "points": 1,
     "schema_version": 3,
     "solution": false
    }
   },
   "outputs": [],
   "source": [
    "assert isinstance(counter, int)\n",
    "assert isinstance(my_name, str)\n",
    "\n",
    "### BEGIN HIDDEN TESTS\n",
    "count = 0\n",
    "\n",
    "for char in my_name:\n",
    "    char = char.lower()\n",
    "    if char not in ['a', 'e', 'i', 'o', 'u']:\n",
    "        count += 1\n",
    "        \n",
    "assert counter == count\n",
    "### END HIDDEN TESTS"
   ]
  },
  {
   "cell_type": "markdown",
   "metadata": {
    "nbgrader": {
     "grade": false,
     "grade_id": "q4-t2",
     "locked": true,
     "points": 1.5,
     "schema_version": 3,
     "solution": false,
     "task": true
    }
   },
   "source": [
    "**This \"blank\" cell included intentionally.** Do not do anything here. (It's being used in grading.)\n",
    "\n",
    "\n",
    "=== BEGIN MARK SCHEME ===\n",
    "\n",
    "- counter & my_name created (0.25 points)\n",
    "- for loop initialized correctly (0.25 points)\n",
    "- capitalization accounted for (0.5 points)\n",
    "- conditional correct (0.5 points)\n",
    "\n",
    "=== END MARK SCHEME ==="
   ]
  },
  {
   "cell_type": "markdown",
   "metadata": {
    "nbgrader": {
     "grade": false,
     "grade_id": "q6",
     "locked": true,
     "schema_version": 3,
     "solution": false
    }
   },
   "source": [
    "### Example Q5 - Conditionals\n",
    "\n",
    "Store your desired score on this exam (out of 100 points) in the variable `desired_score`. \n",
    "\n",
    "Then, write a conditional that will compare your `desired_score` to the lower (90) and upper (100) bound for an A on the exam.\n",
    "\n",
    "If your desired_score is greater than or equal to the lower bound and less than or equal to the upper bound, store the string `'A desired'` in the variable `output`. Otherwise, store the string `'A not desired'` in the variable `output`.\n",
    "\n",
    "Notes: \n",
    "1. Spelling/capitalization of the string stored in `output` matter. Be sure it matches the string specified in the instructions above."
   ]
  },
  {
   "cell_type": "code",
   "execution_count": 15,
   "metadata": {
    "nbgrader": {
     "grade": false,
     "grade_id": "q6a",
     "locked": false,
     "schema_version": 3,
     "solution": true
    }
   },
   "outputs": [],
   "source": [
    "### BEGIN SOLUTION\n",
    "desired_score = 100\n",
    "\n",
    "# code will differ based on who is taking the exam\n",
    "if desired_score >= 90 and desired_score <= 100:\n",
    "    output = 'A desired'\n",
    "else:\n",
    "    output = 'A not desired'\n",
    "### END SOLUTION"
   ]
  },
  {
   "cell_type": "code",
   "execution_count": 16,
   "metadata": {
    "nbgrader": {
     "grade": true,
     "grade_id": "q6-t1",
     "locked": true,
     "points": 0.75,
     "schema_version": 3,
     "solution": false
    }
   },
   "outputs": [],
   "source": [
    "assert output\n",
    "# test to ensure no typos in string\n",
    "assert output in ['A desired', 'A not desired']\n",
    "### BEGIN HIDDEN TESTS\n",
    "if desired_score >= 90 and desired_score <= 100:\n",
    "    test = 'A desired'\n",
    "else:\n",
    "    test = 'A not desired'\n",
    "\n",
    "assert test == output\n",
    "### END HIDDEN TESTS"
   ]
  },
  {
   "cell_type": "markdown",
   "metadata": {
    "nbgrader": {
     "grade": false,
     "grade_id": "q6-t2",
     "locked": true,
     "points": 1.25,
     "schema_version": 3,
     "solution": false,
     "task": true
    }
   },
   "source": [
    "**This \"blank\" cell included intentionally.** Do not do anything here. (It's being used in grading.)\n",
    "\n",
    "\n",
    "=== BEGIN MARK SCHEME ===\n",
    "\n",
    "- uses `if`/`else` OR `if`/`elif` syntax correctly (**0.5 points**)\n",
    "- conditional correct \n",
    "    - references variables (`desired_score`, `A_lower`, `A_upper`) (**0.3 points**)\n",
    "    - uses `>=` `and`/`&`, and `<=` (**0.3 points**)\n",
    "- `output` assigned a string value (even if there are typos in string) (**0.15 points**)\n",
    "\n",
    "=== END MARK SCHEME ==="
   ]
  },
  {
   "cell_type": "markdown",
   "metadata": {
    "nbgrader": {
     "grade": false,
     "grade_id": "q8",
     "locked": true,
     "schema_version": 3,
     "solution": false
    }
   },
   "source": [
    "### Example Q6 - `for` loop (2 points)\n",
    "\n",
    "Background: Imagine that in a few weeks you find yourself wanting to talk to someone on the instructional staff who has actually completed the COGS 18 final project. When this happens, you suddenly remember you created a list of all the staff members in COGS 18 earlier in the quarter when you were practicing with lists. Perfect! You can use this to help you figure out who you should talk to, since you know that all of the IAs previously took COGS 18 and completed the project. They will be able to discuss their experience with you!\n",
    "\n",
    "The list of staff members and their role is below and is called `staff`. Run the cell below to generate the `staff` list.\n",
    "\n",
    "\n",
    "Then, write code to loop through the provided list. Within the loop, write code that will store any entry in the list with '\\_IA' in the entry into a new list. Store this (the entries in `staff` corresponding to IAs) in a new list called `to_contact`."
   ]
  },
  {
   "cell_type": "code",
   "execution_count": 17,
   "metadata": {
    "nbgrader": {
     "grade": false,
     "grade_id": "cell-b6b412d82661cc94",
     "locked": true,
     "schema_version": 3,
     "solution": false,
     "task": false
    }
   },
   "outputs": [],
   "source": [
    "# run this to create list\n",
    "staff = ['Anu_IA', 'Bob_IA', 'Boning_IA', 'Bora_IA', 'David_TA', 'Emma_IA', \n",
    "         'Ellis_Prof', 'Frank_IA', 'Mani_IA', 'Harrison_IA', 'Shivani_TA']"
   ]
  },
  {
   "cell_type": "code",
   "execution_count": 18,
   "metadata": {
    "nbgrader": {
     "grade": false,
     "grade_id": "q8a",
     "locked": false,
     "schema_version": 3,
     "solution": true
    }
   },
   "outputs": [
    {
     "data": {
      "text/plain": [
       "['Anu_IA',\n",
       " 'Bob_IA',\n",
       " 'Boning_IA',\n",
       " 'Bora_IA',\n",
       " 'Emma_IA',\n",
       " 'Frank_IA',\n",
       " 'Mani_IA',\n",
       " 'Harrison_IA']"
      ]
     },
     "execution_count": 18,
     "metadata": {},
     "output_type": "execute_result"
    }
   ],
   "source": [
    "### BEGIN SOLUTION\n",
    "# code will differ based on who is taking the exam\n",
    "to_contact = []\n",
    "\n",
    "for person in staff:\n",
    "    if '_IA' in person:\n",
    "        to_contact.append(person)\n",
    "\n",
    "to_contact\n",
    "### END SOLUTION"
   ]
  },
  {
   "cell_type": "code",
   "execution_count": 19,
   "metadata": {
    "nbgrader": {
     "grade": true,
     "grade_id": "q8-t1",
     "locked": true,
     "points": 0.5,
     "schema_version": 3,
     "solution": false
    }
   },
   "outputs": [],
   "source": [
    "assert to_contact\n",
    "\n",
    "### BEGIN HIDDEN TESTS\n",
    "assert to_contact == ['Anu_IA',\n",
    "                     'Bob_IA',\n",
    "                     'Boning_IA',\n",
    "                     'Bora_IA',\n",
    "                     'Emma_IA',\n",
    "                     'Frank_IA',\n",
    "                     'Mani_IA',\n",
    "                     'Harrison_IA']\n",
    "### END HIDDEN TESTS"
   ]
  },
  {
   "cell_type": "markdown",
   "metadata": {
    "nbgrader": {
     "grade": false,
     "grade_id": "q8-t2",
     "locked": true,
     "points": 1.5,
     "schema_version": 3,
     "solution": false,
     "task": true
    }
   },
   "source": [
    "**This \"blank\" cell included intentionally.** Do not do anything here. (It's being used in grading.)\n",
    "\n",
    "=== BEGIN MARK SCHEME ===\n",
    "- empty list initialized (0.25)\n",
    "- for loop set up correctly (0.25)\n",
    "- conditional correct (0.5)\n",
    "- list extended correctly (0.5)\n",
    "\n",
    "=== END MARK SCHEME ==="
   ]
  },
  {
   "cell_type": "markdown",
   "metadata": {
    "nbgrader": {
     "grade": false,
     "grade_id": "cell-e1f9fa847b38eac9",
     "locked": true,
     "schema_version": 3,
     "solution": false,
     "task": false
    }
   },
   "source": [
    "### Q7 - Accomplishing a task (1.15 points)\n",
    "\n",
    "The goal here is to store the string `\"I'm so excited that students are now eligible for the vaccine!\"` in a single string. However, right now, each word is separated out into separate elements in a list...\n",
    "\n",
    "Using the list below and code constructs we discussed in class, convert the list provided (`vaccination_list`) into a single sentence: `\"I'm so excited that students are now eligible for the vaccine!\"`. Store this in the variable `sentence`."
   ]
  },
  {
   "cell_type": "code",
   "execution_count": 20,
   "metadata": {
    "nbgrader": {
     "grade": false,
     "grade_id": "cell-fc03290fc1ccf12d",
     "locked": true,
     "schema_version": 3,
     "solution": false,
     "task": false
    }
   },
   "outputs": [],
   "source": [
    "vaccination_list = [\"I'm \", \"so \", \"excited \", \"that \", \"students \", \"are \", \n",
    "                    \"now \", \"eligible \", \"for \", \"the \", \"vaccine!\"]"
   ]
  },
  {
   "cell_type": "code",
   "execution_count": 21,
   "metadata": {
    "nbgrader": {
     "grade": false,
     "grade_id": "cell-1ea6cb63f391a4cf",
     "locked": false,
     "schema_version": 3,
     "solution": true,
     "task": false
    }
   },
   "outputs": [],
   "source": [
    "### BEGIN SOLUTION\n",
    "sentence = ''\n",
    "\n",
    "for word in vaccination_list:\n",
    "    sentence += word\n",
    "### END SOLUTION"
   ]
  },
  {
   "cell_type": "code",
   "execution_count": 22,
   "metadata": {
    "nbgrader": {
     "grade": true,
     "grade_id": "cell-b55e3349d00c555e",
     "locked": true,
     "points": 0.15,
     "schema_version": 3,
     "solution": false,
     "task": false
    }
   },
   "outputs": [],
   "source": [
    "assert sentence is not None\n",
    "### BEGIN HIDDEN TESTS\n",
    "assert sentence == \"I'm so excited that students are now eligible for the vaccine!\"\n",
    "### END HIDDEN TESTS"
   ]
  },
  {
   "cell_type": "markdown",
   "metadata": {
    "nbgrader": {
     "grade": false,
     "grade_id": "cell-6c3ff8ceb7efedf5",
     "locked": true,
     "points": 1,
     "schema_version": 3,
     "solution": false,
     "task": true
    }
   },
   "source": [
    "**This \"blank\" cell included intentionally.** Do not do anything here. (It's being used in grading.)\n",
    "\n",
    "=== BEGIN MARK SCHEME ===\n",
    "- `sentence` initialized as empty string (**0.25 points**)\n",
    "- `for` loop set up correctly (**0.25 points**)\n",
    "- string extended/concatenated correctly (**0.5 points**)  \n",
    "\n",
    "=== END MARK SCHEME ==="
   ]
  },
  {
   "cell_type": "markdown",
   "metadata": {
    "nbgrader": {
     "grade": false,
     "grade_id": "eq9",
     "locked": true,
     "schema_version": 3,
     "solution": false
    }
   },
   "source": [
    "### Example Q8 - Accomplishing a task\n",
    "\n",
    "Background: Professor Ellis has made a mess of her to do list (`to_do_list`, provided below). She accidentally combined her to do list with her grocery list and the the her daily step count from last week. She needs your help to detangle this mess!\n",
    "\n",
    "Your job is to separate `to_do_list` out into three separate lists:\n",
    "- `steps` - a list of all the steps from last week (you know which values these are becuase they are integer values)\n",
    "- `to_do` - a list that contains the to do list items (you know which values these are because they contain 'cogs' in the string)\n",
    "- `grocery` - a list of all of the grocery list items (you know which values these are because they do NOT contain 'cogs' in the string)\n",
    "\n",
    "Each of the above lists should contain only the elements from `to_do_list` that match the specified description above. Specifically:\n",
    "- `steps` should be a list of integers\n",
    "- `to_do` should be a list of strings \n",
    "- `grocery` should be a list of strings\n",
    "\n",
    "The values in `steps`, `to_do`, and `grocery` should appear in the same relative order as in the original list (`to_do_list`).\n",
    "\n",
    "Note: This should not be hard-coded. Your answer should use code constructs discussed in class. In other words, your code should produce the correct lists, regardless of the specific values in `to_do_list`."
   ]
  },
  {
   "cell_type": "code",
   "execution_count": 23,
   "metadata": {
    "nbgrader": {
     "grade": false,
     "grade_id": "list",
     "locked": true,
     "schema_version": 3,
     "solution": false,
     "task": false
    }
   },
   "outputs": [],
   "source": [
    "# run this to create list\n",
    "to_do_list = ['mushrooms', 'peanut butter', 'release cogs18 exam', 10000, 8500, \n",
    "              'release cogs108 lab', 6000, 'tahini', 15000, 'post cogs18 lectures', \n",
    "              'post cogs108 lectures', 'release cogs18 practice exam', 12000, 'pineapple', \n",
    "              'udon noodles', 18000, 8000, 'romaine lettuce']"
   ]
  },
  {
   "cell_type": "code",
   "execution_count": 24,
   "metadata": {
    "nbgrader": {
     "grade": false,
     "grade_id": "eq8a",
     "locked": false,
     "schema_version": 3,
     "solution": true
    }
   },
   "outputs": [],
   "source": [
    "### BEGIN SOLUTION\n",
    "steps = []\n",
    "to_do = []\n",
    "grocery = []\n",
    "\n",
    "for value in to_do_list:\n",
    "    if isinstance(value, int):\n",
    "        steps.append(value)\n",
    "    else:\n",
    "        if 'cogs' in value:\n",
    "            to_do.append(value)\n",
    "        else: \n",
    "            grocery.append(value)\n",
    "### END SOLUTION"
   ]
  },
  {
   "cell_type": "code",
   "execution_count": 25,
   "metadata": {
    "nbgrader": {
     "grade": true,
     "grade_id": "eq8-t1",
     "locked": true,
     "points": 0.5,
     "schema_version": 3,
     "solution": false
    }
   },
   "outputs": [],
   "source": [
    "assert grocery\n",
    "### BEGIN HIDDEN TESTS\n",
    "assert grocery == ['mushrooms', 'peanut butter',\n",
    "                   'tahini', 'pineapple', 'udon noodles',\n",
    "                   'romaine lettuce']\n",
    "### END HIDDEN TESTS"
   ]
  },
  {
   "cell_type": "code",
   "execution_count": 26,
   "metadata": {
    "nbgrader": {
     "grade": true,
     "grade_id": "eq8-t2",
     "locked": true,
     "points": 0.5,
     "schema_version": 3,
     "solution": false,
     "task": false
    }
   },
   "outputs": [],
   "source": [
    "assert steps\n",
    "### BEGIN HIDDEN TESTS\n",
    "assert steps == [10000, 8500, 6000, 15000, 12000, 18000, 8000]\n",
    "### END HIDDEN TESTS"
   ]
  },
  {
   "cell_type": "code",
   "execution_count": 27,
   "metadata": {
    "nbgrader": {
     "grade": true,
     "grade_id": "eq8-t3",
     "locked": true,
     "points": 0.5,
     "schema_version": 3,
     "solution": false,
     "task": false
    }
   },
   "outputs": [],
   "source": [
    "assert to_do\n",
    "### BEGIN HIDDEN TESTS\n",
    "assert to_do ==  ['release cogs18 exam', 'release cogs108 lab',\n",
    "                  'post cogs18 lectures', 'post cogs108 lectures',\n",
    "                  'release cogs18 practice exam']\n",
    "### END HIDDEN TESTS"
   ]
  },
  {
   "cell_type": "markdown",
   "metadata": {
    "nbgrader": {
     "grade": false,
     "grade_id": "eq8-t4",
     "locked": true,
     "points": 1,
     "schema_version": 3,
     "solution": false,
     "task": true
    }
   },
   "source": [
    "**This \"blank\" cell included intentionally.** Do not do anything here. (It's being used in grading.)\n",
    "\n",
    "=== BEGIN MARK SCHEME ===\n",
    "- empty lists initialized (0.25)\n",
    "- for loop set up correctly (0.25)\n",
    "- conditionals correct (0.25)\n",
    "- list appended correctly (0.25)\n",
    "\n",
    "=== END MARK SCHEME ==="
   ]
  },
  {
   "cell_type": "markdown",
   "metadata": {
    "nbgrader": {
     "grade": false,
     "grade_id": "cell-afb5d32ea3790f9b",
     "locked": true,
     "schema_version": 3,
     "solution": false
    }
   },
   "source": [
    "### Submit on Datahub\n",
    "\n",
    "Good work - you're done!\n",
    "\n",
    "Check your work, and then when you're ready, **submit on datahub**.\n",
    "\n",
    "We will not have your exam until you click submit and see this show up under 'submitted assignments'."
   ]
  }
 ],
 "metadata": {
  "celltoolbar": "Create Assignment",
  "kernelspec": {
   "display_name": "Python 3",
   "language": "python",
   "name": "python3"
  },
  "language_info": {
   "codemirror_mode": {
    "name": "ipython",
    "version": 3
   },
   "file_extension": ".py",
   "mimetype": "text/x-python",
   "name": "python",
   "nbconvert_exporter": "python",
   "pygments_lexer": "ipython3",
   "version": "3.9.5"
  }
 },
 "nbformat": 4,
 "nbformat_minor": 2
}
