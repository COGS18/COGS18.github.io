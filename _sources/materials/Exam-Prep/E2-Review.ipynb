{
 "cells": [
  {
   "cell_type": "markdown",
   "metadata": {
    "slideshow": {
     "slide_type": "slide"
    }
   },
   "source": [
    "# Exam 2 Review"
   ]
  },
  {
   "cell_type": "markdown",
   "metadata": {
    "slideshow": {
     "slide_type": "slide"
    }
   },
   "source": [
    "## Exam Instructions\n",
    "\n",
    "#### Timing\n",
    "- The exam is designed to take you ~1-2h.\n",
    "- There will be a >24 hour window during which you can complete this exam.\n",
    "- Exam window will be from midnight to midnight on Fri 18 November\n",
    "- If it takes you longer than 1h, you're free to use that time.\n",
    "\n",
    "#### The Rules\n",
    "- You are to complete this exam on your own.\n",
    "- This is open-notes & open-Google.\n",
    "- You may not talk to any humans about this exam. \n",
    "- The following are all *prohibited*:\n",
    "    - text/phone/online chat communication\n",
    "    - posting questions to a message board where a human could respond (Discord, Chegg, Reddit, Wechat, Whatsapp, any similar site)\n",
    "    - viewing exam questions from a message board (as described above)\n",
    "    - asking anyone via any form about a question on this test directly\n",
    "- Clarification questions will  be allowed  on Piazza via private message to instructors. No guarentee of a timely response but we will try \n",
    "    - No office hours or emails to us either\n",
    "  "
   ]
  },
  {
   "cell_type": "markdown",
   "metadata": {
    "slideshow": {
     "slide_type": "slide"
    }
   },
   "source": [
    "## Exam II Plan (12.5 points)\n",
    "\n",
    "\n",
    "Part I: **Methods, Debugging, & Code Style** (4.5 points) \n",
    "- Q1: Method I (0.75 points)*\n",
    "- Q2: Method II (1.25 point)*\n",
    "- Q3: Debugging & Code Style (2.5 points)*\n",
    "\n",
    "Part II: **Loops & Functions** (4 points)  \n",
    "- Q4: Function I (1.75 points)*\n",
    "- Q5: Function II (2.25 points)*\n",
    "\n",
    "Part III: **Classes** (4 points)\n",
    "- Q6: Classes I (1.5 points)*\n",
    "- Q7: Classes II (2.5 points)*\n",
    "\n",
    "\\* : includes manual grading (partial credit)"
   ]
  },
  {
   "cell_type": "markdown",
   "metadata": {
    "slideshow": {
     "slide_type": "slide"
    }
   },
   "source": [
    "### Reminder: \n",
    "\n",
    "There are three extra notebooks that you can use for review (in addition to your notes, labs, and assignments):\n",
    "\n",
    "1. [A1-CodeSytle](https://cogs18.github.io/materials/A1-CodeStyle.html)\n",
    "1. [A2-Syntax](https://cogs18.github.io/materials/A2-Syntax.html)\n",
    "2. [A3-Examples](https://cogs18.github.io/materials/A3-Examples.html)\n",
    "\n",
    "There is also a practice exam on datahub and additional practice problems [here](https://shanellis.github.io/pythonbook/content/intro.html). Note that answers are included for all practice problems in the \"Answers\" chapter."
   ]
  },
  {
   "cell_type": "markdown",
   "metadata": {
    "slideshow": {
     "slide_type": "slide"
    }
   },
   "source": [
    "### Questions?"
   ]
  },
  {
   "cell_type": "markdown",
   "metadata": {
    "slideshow": {
     "slide_type": "slide"
    }
   },
   "source": [
    "### Loops\n",
    "\n",
    "- loops: `for` and `while`\n",
    "    - `continue`, `break`, `pass`"
   ]
  },
  {
   "cell_type": "markdown",
   "metadata": {
    "slideshow": {
     "slide_type": "slide"
    }
   },
   "source": [
    "#### Loops Question #1\n",
    "What are the two kinds of loops? ____________ and ____________"
   ]
  },
  {
   "cell_type": "markdown",
   "metadata": {
    "slideshow": {
     "slide_type": "fragment"
    }
   },
   "source": [
    "#### Loops Question #2\n",
    "Use the following:\n",
    "`ind = 1` to write a loop (using real Python code) that would loop and print the value `ind` of ind each time through the loop _and_ update the value of ind by 1. Have this loop stop after 4 iterations. "
   ]
  },
  {
   "cell_type": "code",
   "execution_count": 2,
   "metadata": {},
   "outputs": [
    {
     "name": "stdout",
     "output_type": "stream",
     "text": [
      "1\n",
      "2\n",
      "3\n",
      "4\n"
     ]
    }
   ],
   "source": [
    "ind = 1\n",
    "while ind<5:\n",
    "    print(ind)\n",
    "    ind = ind + 1\n",
    "    "
   ]
  },
  {
   "cell_type": "markdown",
   "metadata": {
    "slideshow": {
     "slide_type": "fragment"
    }
   },
   "source": [
    "#### Loops Question #3\n",
    "\n",
    "Create a list that stores each letter of your favorite animal as a different element in a list. Store that in the variable `fav_pet`. \n",
    "\n",
    "Initialize an additional variable called `reverse_pet` that will store an empty string to start.\n",
    "\n",
    "Then, using indexing, loop through each letter in that list such that `reverse_pet` stores a list with your favorite pet spelled backward.\n",
    "\n",
    "For example, if your favorite pet were \"cat\", the output stored in `reverse_pet` should be: `['t', 'a', 'c']`\n"
   ]
  },
  {
   "cell_type": "code",
   "execution_count": 3,
   "metadata": {},
   "outputs": [
    {
     "data": {
      "text/plain": [
       "['t', 'a', 'c']"
      ]
     },
     "execution_count": 3,
     "metadata": {},
     "output_type": "execute_result"
    }
   ],
   "source": [
    "fav_pet = ['c','a','t']\n",
    "reverse_pet = []\n",
    "for letter in fav_pet:\n",
    "    reverse_pet.insert(0,letter)\n",
    "\n",
    "reverse_pet\n",
    "    "
   ]
  },
  {
   "cell_type": "markdown",
   "metadata": {
    "slideshow": {
     "slide_type": "slide"
    }
   },
   "source": [
    "#### Loops Question #4\n",
    "Assuming the following function has been defined, what would `sum_list([1, 2, 3])` return?"
   ]
  },
  {
   "cell_type": "code",
   "execution_count": 10,
   "metadata": {
    "slideshow": {
     "slide_type": "fragment"
    }
   },
   "outputs": [],
   "source": [
    "def sum_list(my_list):\n",
    "    total = 0\n",
    "    \n",
    "    for item in my_list:\n",
    "        total += item\n",
    "        \n",
    "    return total"
   ]
  },
  {
   "cell_type": "code",
   "execution_count": 4,
   "metadata": {},
   "outputs": [],
   "source": [
    "## CODE TO TEST HERE"
   ]
  },
  {
   "cell_type": "markdown",
   "metadata": {
    "slideshow": {
     "slide_type": "slide"
    }
   },
   "source": [
    "## Objects & Classes\n",
    "\n",
    "- objects & `class`\n",
    "    - attributes\n",
    "    - methods\n",
    "    - instances\n"
   ]
  },
  {
   "cell_type": "code",
   "execution_count": 5,
   "metadata": {
    "slideshow": {
     "slide_type": "fragment"
    }
   },
   "outputs": [],
   "source": [
    "class Rocket():\n",
    "    \n",
    "    def __init__(self, x_init=0, y_init=0):\n",
    "        self.x = x_init\n",
    "        self.y = y_init\n",
    "    \n",
    "    def move_up(self):\n",
    "        self.y = self.y + 1\n",
    "        "
   ]
  },
  {
   "cell_type": "markdown",
   "metadata": {
    "slideshow": {
     "slide_type": "fragment"
    }
   },
   "source": [
    "The exam question will be more involved than this example. It's meant to combine all the pieces we've learned this quarter (classes w/ methods, conditionals, etc)."
   ]
  },
  {
   "cell_type": "markdown",
   "metadata": {
    "slideshow": {
     "slide_type": "fragment"
    }
   },
   "source": [
    "**Part B**\n",
    "\n",
    "Create an instance `my_rocket` of your Rocket object."
   ]
  },
  {
   "cell_type": "code",
   "execution_count": 13,
   "metadata": {
    "slideshow": {
     "slide_type": "fragment"
    }
   },
   "outputs": [],
   "source": [
    "my_rocket = Rocket()\n",
    "my_rocket.x, my_rocket.y\n",
    "\n",
    "\n",
    "your_rocket = Rocket()"
   ]
  },
  {
   "cell_type": "markdown",
   "metadata": {
    "slideshow": {
     "slide_type": "fragment"
    }
   },
   "source": [
    "**Part C**\n",
    "\n",
    "Update `my_rocket` so that `my_rocket` has the `y` position 3."
   ]
  },
  {
   "cell_type": "code",
   "execution_count": 14,
   "metadata": {
    "slideshow": {
     "slide_type": "fragment"
    }
   },
   "outputs": [
    {
     "name": "stdout",
     "output_type": "stream",
     "text": [
      "0 1\n",
      "0 2\n",
      "0 3\n"
     ]
    }
   ],
   "source": [
    "for x in range(3):\n",
    "    my_rocket.move_up()\n",
    "    print(my_rocket.x, my_rocket.y)"
   ]
  },
  {
   "cell_type": "code",
   "execution_count": 16,
   "metadata": {},
   "outputs": [
    {
     "data": {
      "text/plain": [
       "(0, 0)"
      ]
     },
     "execution_count": 16,
     "metadata": {},
     "output_type": "execute_result"
    }
   ],
   "source": [
    "(your_rocket.x, your_rocket.y)"
   ]
  },
  {
   "cell_type": "markdown",
   "metadata": {
    "slideshow": {
     "slide_type": "slide"
    }
   },
   "source": [
    "#### Objects & Classes Question #2\n",
    "\n",
    "Fill in the blanks:\n",
    "\n",
    "\tWhat is the name of a function defined within a class: ______________\n",
    "\n",
    "\tIn Python, everything is a(n) ______________. \n"
   ]
  },
  {
   "cell_type": "markdown",
   "metadata": {
    "slideshow": {
     "slide_type": "slide"
    }
   },
   "source": [
    "## Python & Jupyter Extras\n",
    "- encodings (`chr` & `ord`)\n",
    "- whitespace\n",
    "- namespace\n",
    "- kernel\n",
    "- code comments\n",
    "- magic functions"
   ]
  },
  {
   "cell_type": "markdown",
   "metadata": {
    "slideshow": {
     "slide_type": "slide"
    }
   },
   "source": [
    "#### Extras Question #1\n",
    "What will the following piece of code print out?\n",
    "\n",
    "```print(chr(ord('A')))``` \n",
    "    \n",
    "     _____________"
   ]
  },
  {
   "cell_type": "code",
   "execution_count": 20,
   "metadata": {},
   "outputs": [
    {
     "name": "stdout",
     "output_type": "stream",
     "text": [
      "B\n"
     ]
    }
   ],
   "source": [
    "print(chr(66))"
   ]
  },
  {
   "cell_type": "markdown",
   "metadata": {
    "slideshow": {
     "slide_type": "fragment"
    }
   },
   "source": [
    "#### Extras Question #2 \n",
    "\n",
    "What is the magic function `%whos` used for?"
   ]
  },
  {
   "cell_type": "code",
   "execution_count": 21,
   "metadata": {},
   "outputs": [
    {
     "name": "stdout",
     "output_type": "stream",
     "text": [
      "Variable      Type      Data/Info\n",
      "---------------------------------\n",
      "Rocket        type      <class '__main__.Rocket'>\n",
      "fav_pet       list      n=3\n",
      "ind           int       5\n",
      "letter        str       t\n",
      "my_rocket     Rocket    <__main__.Rocket object at 0x7ff5484dd4c0>\n",
      "reverse_pet   list      n=3\n",
      "x             int       2\n",
      "your_rocket   Rocket    <__main__.Rocket object at 0x7ff5484dd640>\n"
     ]
    }
   ],
   "source": [
    "%whos"
   ]
  },
  {
   "cell_type": "markdown",
   "metadata": {
    "slideshow": {
     "slide_type": "slide"
    }
   },
   "source": [
    "#### Extras Question #3\n",
    "\n",
    "For each of the following, indicate if the statement is True or False about Python and programming:\n",
    "\n",
    "- True Whitespace matters in Python\n",
    "- False Comments in Python start with '%' \t\t\t\t\t\n",
    "- False You have to specify a data type when you define a variable\n",
    "- False Every Python variable is available from every namespace\t\t\t\t\n",
    "- True `print_name()` follows best practices for function naming"
   ]
  },
  {
   "cell_type": "markdown",
   "metadata": {
    "slideshow": {
     "slide_type": "slide"
    }
   },
   "source": [
    "<h2><center>After the second exam:</center></h2>"
   ]
  },
  {
   "cell_type": "markdown",
   "metadata": {
    "slideshow": {
     "slide_type": "fragment"
    }
   },
   "source": [
    "<h3><center> We will focus on the Python ecosystem, and applications of Python. </center></h3>"
   ]
  },
  {
   "cell_type": "markdown",
   "metadata": {
    "slideshow": {
     "slide_type": "fragment"
    }
   },
   "source": [
    "<h3><center> We also become a project based course. </center></h3>"
   ]
  }
 ],
 "metadata": {
  "celltoolbar": "Slideshow",
  "kernelspec": {
   "display_name": "Python 3 (ipykernel)",
   "language": "python",
   "name": "python3"
  },
  "language_info": {
   "codemirror_mode": {
    "name": "ipython",
    "version": 3
   },
   "file_extension": ".py",
   "mimetype": "text/x-python",
   "name": "python",
   "nbconvert_exporter": "python",
   "pygments_lexer": "ipython3",
   "version": "3.9.12"
  },
  "rise": {
   "scroll": true
  }
 },
 "nbformat": 4,
 "nbformat_minor": 2
}
