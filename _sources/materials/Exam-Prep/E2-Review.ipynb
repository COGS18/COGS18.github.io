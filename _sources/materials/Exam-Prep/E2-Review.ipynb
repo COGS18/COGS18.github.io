{
 "cells": [
  {
   "cell_type": "markdown",
   "metadata": {
    "slideshow": {
     "slide_type": "slide"
    }
   },
   "source": [
    "# Exam 2 Review"
   ]
  },
  {
   "cell_type": "markdown",
   "metadata": {},
   "source": [
    "## Exam Instructions\n",
    "\n",
    "#### Timing\n",
    "- The exam is designed to take you ~1-2h.\n",
    "- There will be a >24 hour window during which you can complete this exam.\n",
    "- Exam window will be from midnight to midnight on Fri Oct 21\n",
    "- If it takes you longer than 1h, you're free to use that time.\n",
    "\n",
    "#### The Rules\n",
    "- You are to complete this exam on your own.\n",
    "- This is open-notes & open-Google.\n",
    "- You may not talk to any humans about this exam. \n",
    "- The following are all *prohibited*:\n",
    "    - text/phone/online chat communication\n",
    "    - posting questions to a message board where a human could respond (Discord, Chegg, Reddit, Wechat, Whatsapp, any similar site)\n",
    "    - viewing exam questions from a message board (as described above)\n",
    "    - asking anyone via any form about a question on this test directly\n",
    "- Clarification questions will ***not*** be allowed and there will be no posting on Piazza about the exam at all. \n",
    "    - No office hours or emails to us either\n",
    "    - Note: This policy is b/c we are incapable of responding for the entirety of the exam. This is the only way to make it fair across the board for students."
   ]
  },
  {
   "cell_type": "markdown",
   "metadata": {
    "slideshow": {
     "slide_type": "slide"
    }
   },
   "source": [
    "## Exam II Plan (12.5 points)\n",
    "\n",
    "\n",
    "Part I: **Methods, Debugging, & Code Style** (4.5 points) \n",
    "- Q1: Method I (0.75 points)*\n",
    "- Q2: Method II (1.25 point)*\n",
    "- Q3: Debugging & Code Style (2.5 points)*\n",
    "\n",
    "Part II: **Loops & Functions** (4 points)  \n",
    "- Q4: Function I (1.75 points)*\n",
    "- Q5: Function II (2.25 points)*\n",
    "\n",
    "Part III: **Classes** (4 points)\n",
    "- Q6: Classes I (1.5 points)*\n",
    "- Q7: Classes II (2.5 points)*\n",
    "\n",
    "\\* : includes manual grading (partial credit)"
   ]
  },
  {
   "cell_type": "markdown",
   "metadata": {
    "slideshow": {
     "slide_type": "slide"
    }
   },
   "source": [
    "### Reminder: \n",
    "\n",
    "There are three extra notebooks that you can use for review (in addition to your notes, labs, and assignments):\n",
    "\n",
    "1. [A1-CodeSytle](https://cogs18.github.io/materials/A1-CodeStyle.html)\n",
    "1. [A2-Syntax](https://cogs18.github.io/materials/A2-Syntax.html)\n",
    "2. [A3-Examples](https://cogs18.github.io/materials/A3-Examples.html)\n",
    "\n",
    "There is also a practice exam on datahub and additional practice problems [here](https://shanellis.github.io/pythonbook/content/intro.html). Note that answers are included for all practice problems in the \"Answers\" chapter."
   ]
  },
  {
   "cell_type": "markdown",
   "metadata": {
    "slideshow": {
     "slide_type": "slide"
    }
   },
   "source": [
    "### Questions?"
   ]
  },
  {
   "cell_type": "markdown",
   "metadata": {
    "slideshow": {
     "slide_type": "slide"
    }
   },
   "source": [
    "### Loops\n",
    "\n",
    "- loops: `for` and `while`\n",
    "    - `continue`, `break`, `pass`"
   ]
  },
  {
   "cell_type": "markdown",
   "metadata": {
    "slideshow": {
     "slide_type": "slide"
    }
   },
   "source": [
    "#### Loops Question #1\n",
    "What are the two kinds of loops? ____________ and ____________"
   ]
  },
  {
   "cell_type": "markdown",
   "metadata": {
    "slideshow": {
     "slide_type": "fragment"
    }
   },
   "source": [
    "#### Loops Question #2\n",
    "Use the following:\n",
    "`ind = 1` to write a loop (using real Python code) that would loop and print the value `ind` of ind each time through the loop _and_ update the value of ind by 1. Have this loop stop after 4 iterations. "
   ]
  },
  {
   "cell_type": "markdown",
   "metadata": {
    "slideshow": {
     "slide_type": "fragment"
    }
   },
   "source": [
    "#### Loops Question #3\n",
    "\n",
    "Create a list that stores each letter of your favorite animal as a different element in a list. Store that in the variable `fav_pet`. \n",
    "\n",
    "Initialize an additional variable called `reverse_pet` that will store an empty string to start.\n",
    "\n",
    "Then, using indexing, loop through each letter in that list such that `reverse_pet` stores a list with your favorite pet spelled backward.\n",
    "\n",
    "For example, if your favorite pet were \"cat\", the output stored in `reverse_pet` should be: `['t', 'a', 'c']`\n"
   ]
  },
  {
   "cell_type": "markdown",
   "metadata": {
    "slideshow": {
     "slide_type": "slide"
    }
   },
   "source": [
    "#### Loops Question #4\n",
    "Assuming the following function has been defined, what would `sum_list([1, 2, 3])` return?"
   ]
  },
  {
   "cell_type": "code",
   "execution_count": 10,
   "metadata": {
    "slideshow": {
     "slide_type": "fragment"
    }
   },
   "outputs": [],
   "source": [
    "def sum_list(my_list):\n",
    "    total = 0\n",
    "    \n",
    "    for item in my_list:\n",
    "        total += item\n",
    "        \n",
    "    return total"
   ]
  },
  {
   "cell_type": "code",
   "execution_count": 4,
   "metadata": {},
   "outputs": [],
   "source": [
    "## CODE TO TEST HERE"
   ]
  },
  {
   "cell_type": "markdown",
   "metadata": {
    "slideshow": {
     "slide_type": "slide"
    }
   },
   "source": [
    "## Objects & Classes\n",
    "\n",
    "- objects & `class`\n",
    "    - attributes\n",
    "    - methods\n",
    "    - instances\n"
   ]
  },
  {
   "cell_type": "markdown",
   "metadata": {
    "slideshow": {
     "slide_type": "slide"
    }
   },
   "source": [
    "#### Objects & Classes Question #1\n",
    "\n",
    "**Part A**\n",
    "\n",
    "We want to simulate a rocket ship for a game.\n",
    "\n",
    "Write code that will create a class `Rocket`. \n",
    "\n",
    "This class should have two instance attributes: `x` and `y`. These will specify the x,y position of the rocket. Each attribute should be initialized with hte value 0. \n",
    "\n",
    "Your `Rocket` should also have the method `move_up()`. This method should increment the y-position of the rocket by 1. "
   ]
  },
  {
   "cell_type": "code",
   "execution_count": 8,
   "metadata": {
    "slideshow": {
     "slide_type": "fragment"
    }
   },
   "outputs": [],
   "source": [
    "## YOUR CODE HERE"
   ]
  },
  {
   "cell_type": "markdown",
   "metadata": {
    "slideshow": {
     "slide_type": "fragment"
    }
   },
   "source": [
    "The exam question will be more involved than this example. It's meant to combine all the pieces we've learned this quarter (classes w/ methods, conditionals, etc)."
   ]
  },
  {
   "cell_type": "markdown",
   "metadata": {
    "slideshow": {
     "slide_type": "fragment"
    }
   },
   "source": [
    "**Part B**\n",
    "\n",
    "Create an instance `my_rocket` of your Rocket object."
   ]
  },
  {
   "cell_type": "code",
   "execution_count": 9,
   "metadata": {
    "slideshow": {
     "slide_type": "fragment"
    }
   },
   "outputs": [],
   "source": [
    "## YOUR CODE HERE"
   ]
  },
  {
   "cell_type": "markdown",
   "metadata": {
    "slideshow": {
     "slide_type": "fragment"
    }
   },
   "source": [
    "**Part C**\n",
    "\n",
    "Update `my_rocket` so that `my_rocket` has the `y` position 3."
   ]
  },
  {
   "cell_type": "code",
   "execution_count": 10,
   "metadata": {
    "slideshow": {
     "slide_type": "fragment"
    }
   },
   "outputs": [],
   "source": [
    "## YOUR CODE HERE"
   ]
  },
  {
   "cell_type": "markdown",
   "metadata": {
    "slideshow": {
     "slide_type": "slide"
    }
   },
   "source": [
    "#### Objects & Classes Question #2\n",
    "\n",
    "Fill in the blanks:\n",
    "\n",
    "\tWhat is the name of a function defined within a class: ______________\n",
    "\n",
    "\tIn Python, everything is a(n) ______________. \n"
   ]
  },
  {
   "cell_type": "markdown",
   "metadata": {
    "slideshow": {
     "slide_type": "slide"
    }
   },
   "source": [
    "## Python & Jupyter Extras\n",
    "- encodings (`chr` & `ord`)\n",
    "- whitespace\n",
    "- namespace\n",
    "- kernel\n",
    "- code comments\n",
    "- magic functions"
   ]
  },
  {
   "cell_type": "markdown",
   "metadata": {
    "slideshow": {
     "slide_type": "slide"
    }
   },
   "source": [
    "#### Extras Question #1\n",
    "What will the following piece of code print out?\n",
    "\n",
    "```print(chr(ord('A')))``` \n",
    "    \n",
    "     _____________"
   ]
  },
  {
   "cell_type": "markdown",
   "metadata": {
    "slideshow": {
     "slide_type": "fragment"
    }
   },
   "source": [
    "#### Extras Question #2 \n",
    "\n",
    "What is the magic function `%whos` used for?"
   ]
  },
  {
   "cell_type": "markdown",
   "metadata": {
    "slideshow": {
     "slide_type": "slide"
    }
   },
   "source": [
    "#### Extras Question #3\n",
    "\n",
    "For each of the following, indicate if the statement is True or False about Python and programming:\n",
    "\n",
    "- True/False Whitespace matters in Python\n",
    "- True/False Comments in Python start with '%' \t\t\t\t\t\n",
    "- True/False You have to specify a data type when you define a variable\n",
    "- True/False Every Python variable is available from every namespace\t\t\t\t\n",
    "- True/False `print_name()` folles best practices for function naming"
   ]
  },
  {
   "cell_type": "markdown",
   "metadata": {
    "slideshow": {
     "slide_type": "slide"
    }
   },
   "source": [
    "<h2><center>After the second exam:</center></h2>"
   ]
  },
  {
   "cell_type": "markdown",
   "metadata": {
    "slideshow": {
     "slide_type": "fragment"
    }
   },
   "source": [
    "<h3><center> We will focus on the Python ecosystem, and applications of Python. </center></h3>"
   ]
  },
  {
   "cell_type": "markdown",
   "metadata": {
    "slideshow": {
     "slide_type": "fragment"
    }
   },
   "source": [
    "<h3><center> We also become a project based course. </center></h3>"
   ]
  }
 ],
 "metadata": {
  "celltoolbar": "Slideshow",
  "kernelspec": {
   "display_name": "Python 3 (ipykernel)",
   "language": "python",
   "name": "python3"
  },
  "language_info": {
   "codemirror_mode": {
    "name": "ipython",
    "version": 3
   },
   "file_extension": ".py",
   "mimetype": "text/x-python",
   "name": "python",
   "nbconvert_exporter": "python",
   "pygments_lexer": "ipython3",
   "version": "3.9.12"
  },
  "rise": {
   "scroll": true
  }
 },
 "nbformat": 4,
 "nbformat_minor": 2
}
