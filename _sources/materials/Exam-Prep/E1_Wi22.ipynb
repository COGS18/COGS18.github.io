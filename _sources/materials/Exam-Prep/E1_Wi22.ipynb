{
 "cells": [
  {
   "cell_type": "markdown",
   "metadata": {
    "nbgrader": {
     "grade": false,
     "grade_id": "e1",
     "locked": true,
     "schema_version": 3,
     "solution": false
    }
   },
   "source": [
    "# COGS 18 - Exam 1\n",
    "\n",
    "This is the first exam for Winter 2022. It covers topics through the Collections Lecture.\n",
    "\n",
    "This exam is out of 12.5 points, worth 12.5% of your grade.\n",
    "\n",
    "**PLEASE DO NOT CHANGE THE NAME OF THIS FILE.**\n",
    "\n",
    "**PLEASE DO NOT COPY & PASTE OR DELETE CELLS INLCUDED IN THE ASSIGNMENT.** (Note that you can add additional cells, if you want to test things out."
   ]
  },
  {
   "cell_type": "markdown",
   "metadata": {
    "nbgrader": {
     "grade": false,
     "grade_id": "instructions",
     "locked": true,
     "schema_version": 3,
     "solution": false
    }
   },
   "source": [
    "## Instructions\n",
    "\n",
    "#### Timing\n",
    "- The exam is designed to take you ~1h.\n",
    "- There will be a >24 hour window during which you can complete this exam.\n",
    "- If it takes you longer than 1h, you're free to use that time.\n",
    "\n",
    "#### The Rules\n",
    "- You are to complete this exam on your own.\n",
    "- This is open-notes & open-Google.\n",
    "- You may not talk to any humans about this exam. \n",
    "- The following are all *prohibited*:\n",
    "    - text/phone/online chat communication\n",
    "    - posting questions to a message board where a human could respond (Campuswire, Discord, Chegg, any similar site)\n",
    "    - viewing exam questions from a message board (as described above)\n",
    "    - asking anyone via any form about a question on this test directly\n",
    "- Clarification questions will ***not*** be allowed and there will be no posting on Campuswire about the exam at all. \n",
    "    - Campuswire posts about the exam will not be answered and will be deleted. \n",
    "    - Students who post questions about the exam to Campuswire are at risk of losing points on the exam.\n",
    "    - If you are confused about wording, add a note to your exam explaining your confusion and how you interpreted the question. \n",
    "    - Note: This policy is b/c we are incapable of responding for the entirety of the exam. This is the only way to make it fair across the board for students."
   ]
  },
  {
   "cell_type": "markdown",
   "metadata": {
    "nbgrader": {
     "grade": false,
     "grade_id": "cell-26b08bd4b5ba54ab",
     "locked": true,
     "schema_version": 3,
     "solution": false
    }
   },
   "source": [
    " <span style=\"color: red;\">Note: </span> There _is_ a chance for partial credit on some questions, so _some_ code is better than _no_ code. Even if it throws an error, having some code that partially answers the question will benefit you/your grade."
   ]
  },
  {
   "cell_type": "markdown",
   "metadata": {
    "nbgrader": {
     "grade": false,
     "grade_id": "cell-4d8581ac45c24683",
     "locked": true,
     "schema_version": 3,
     "solution": false,
     "task": false
    }
   },
   "source": [
    "### Q0 - Honor Code (0.15 points)\n",
    "\n",
    "In the cell below, include a variable `honor_code` that stores the boolean `True` if you agree to the following statement:\n",
    "\n",
    ">I agree that this exam was completed individually with the knowlege in my brain, information the notes from this course, and/or with searching for help on the Internet *without searching for answers to the text from these questions directly*. I did not ask anyone about specific questions on this exam. I did not post these questions (in part or in whole) on the Internet. I did not copy answers to these questions from anywhere or anyone else. I understand all code I've written on this exam and could explain my answers to someone else if asked.\n"
   ]
  },
  {
   "cell_type": "code",
   "execution_count": 1,
   "metadata": {
    "nbgrader": {
     "grade": false,
     "grade_id": "cell-9dae831891d7a1ad",
     "locked": false,
     "schema_version": 3,
     "solution": true,
     "task": false
    }
   },
   "outputs": [],
   "source": [
    "### BEGIN SOLUTION\n",
    "honor_code = True\n",
    "### END SOLUTION"
   ]
  },
  {
   "cell_type": "code",
   "execution_count": 2,
   "metadata": {
    "nbgrader": {
     "grade": true,
     "grade_id": "cell-8a6d1a928512e45c",
     "locked": true,
     "points": 0.15,
     "schema_version": 3,
     "solution": false,
     "task": false
    }
   },
   "outputs": [],
   "source": [
    "assert honor_code"
   ]
  },
  {
   "cell_type": "markdown",
   "metadata": {
    "nbgrader": {
     "grade": false,
     "grade_id": "part1",
     "locked": true,
     "schema_version": 3,
     "solution": false
    }
   },
   "source": [
    "## Part 1: Variables & Operators (3.15 points)"
   ]
  },
  {
   "cell_type": "markdown",
   "metadata": {
    "nbgrader": {
     "grade": false,
     "grade_id": "q1",
     "locked": true,
     "schema_version": 3,
     "solution": false
    }
   },
   "source": [
    "### Q1 - Variables (0.75 points)\n",
    "\n",
    "In the cell below, define three variables: `var_a`, `var_b`, and `var_c`. \n",
    "\n",
    "- `var_a` should be the variable type most appropriate to store a whole number\n",
    "- `var_b` should be a mutable collection type of length 3 useful for storing key-value pairs\n",
    "- `var_c` should be the immutable variable type most appropriate for storing information as characters\n",
    "\n",
    "The specific values you use to generate the variables are up to you, as long as they fulfill the criteria specified."
   ]
  },
  {
   "cell_type": "code",
   "execution_count": 3,
   "metadata": {
    "nbgrader": {
     "grade": false,
     "grade_id": "q1a",
     "locked": false,
     "schema_version": 3,
     "solution": true
    }
   },
   "outputs": [],
   "source": [
    "### BEGIN SOLUTION\n",
    "# actual values stored will differ\n",
    "var_a = 29\n",
    "var_b = {'a' : 1, 'b' : 2, 'c' : 3}\n",
    "var_c = 'Shannon'\n",
    "### END SOLUTION"
   ]
  },
  {
   "cell_type": "code",
   "execution_count": 4,
   "metadata": {
    "nbgrader": {
     "grade": true,
     "grade_id": "q1-t1",
     "locked": true,
     "points": 0.25,
     "schema_version": 3,
     "solution": false
    }
   },
   "outputs": [],
   "source": [
    "# check variable exists\n",
    "assert var_a is not None\n",
    "### BEGIN HIDDEN TESTS\n",
    "assert type(var_a) == int\n",
    "### END HIDDEN TESTS"
   ]
  },
  {
   "cell_type": "code",
   "execution_count": 5,
   "metadata": {
    "nbgrader": {
     "grade": true,
     "grade_id": "q1-t3",
     "locked": true,
     "points": 0.25,
     "schema_version": 3,
     "solution": false,
     "task": false
    }
   },
   "outputs": [],
   "source": [
    "assert var_b is not None\n",
    "### BEGIN HIDDEN TESTS\n",
    "assert type(var_b) == dict\n",
    "assert len(var_b) == 3\n",
    "### END HIDDEN TESTS"
   ]
  },
  {
   "cell_type": "code",
   "execution_count": 6,
   "metadata": {
    "nbgrader": {
     "grade": true,
     "grade_id": "q1-t2",
     "locked": true,
     "points": 0.25,
     "schema_version": 3,
     "solution": false
    }
   },
   "outputs": [],
   "source": [
    "assert var_c is not None\n",
    "### BEGIN HIDDEN TESTS\n",
    "assert type(var_c) == str\n",
    "### END HIDDEN TESTS"
   ]
  },
  {
   "cell_type": "markdown",
   "metadata": {
    "nbgrader": {
     "grade": false,
     "grade_id": "q2",
     "locked": true,
     "schema_version": 3,
     "solution": false
    }
   },
   "source": [
    "### Q2 - Math Operators (1 point)\n",
    "\n",
    "Define three integer values in `math_a`, `math_b`, and `math_c`.\n",
    "\n",
    "Then, utilize the above variables to define two additional variables:\n",
    "- `neg_odd_val` | should store a negative, odd integer \n",
    "- `pos_even_val` | should store a positive, even integer\n",
    "\n",
    "Notes:\n",
    "- `neg_odd_val` and `pos_even_val` should *each* reference all three variables (`math_a`, `math_b` and `math_c`)\n",
    "- `neg_odd_val` and `pos_even_val` should *each* use *at least* two different math operators (such that *at least* four different math operators are used in total)\n",
    "- No other values other than `math_a`, `math_b`, and `math_c` should be used to generate `neg_odd_val` or `pos_even_val`"
   ]
  },
  {
   "cell_type": "code",
   "execution_count": 7,
   "metadata": {
    "nbgrader": {
     "grade": false,
     "grade_id": "q2a",
     "locked": false,
     "schema_version": 3,
     "solution": true
    }
   },
   "outputs": [
    {
     "name": "stdout",
     "output_type": "stream",
     "text": [
      "-3 320\n"
     ]
    }
   ],
   "source": [
    "### BEGIN SOLUTION\n",
    "# specific values will differ\n",
    "math_a = 2\n",
    "math_b = 5\n",
    "math_c = 10\n",
    "\n",
    "# actual operations will differ\n",
    "neg_odd_val = (math_b - math_c) + math_a\n",
    "pos_even_val = math_a ** math_b * math_c\n",
    "\n",
    "print(neg_odd_val, pos_even_val)\n",
    "### END SOLUTION"
   ]
  },
  {
   "cell_type": "code",
   "execution_count": 8,
   "metadata": {
    "nbgrader": {
     "grade": true,
     "grade_id": "cell-7d202de48525baa6",
     "locked": true,
     "points": 0.2,
     "schema_version": 3,
     "solution": false,
     "task": false
    }
   },
   "outputs": [],
   "source": [
    "assert math_a is not None\n",
    "assert math_b is not None\n",
    "assert math_c is not None\n",
    "\n",
    "### BEGIN HIDDEN TESTS\n",
    "assert type(math_a) == int\n",
    "assert type(math_b) == int\n",
    "assert type(math_c) == int\n",
    "### END HIDDEN TESTS"
   ]
  },
  {
   "cell_type": "code",
   "execution_count": 9,
   "metadata": {
    "nbgrader": {
     "grade": true,
     "grade_id": "q2-t1",
     "locked": true,
     "points": 0.25,
     "schema_version": 3,
     "solution": false
    }
   },
   "outputs": [],
   "source": [
    "assert neg_odd_val is not None\n",
    "### BEGIN HIDDEN TESTS\n",
    "def is_even(val):\n",
    "    if val % 2 == 0:\n",
    "        return True\n",
    "    else:\n",
    "        return False\n",
    "    \n",
    "assert neg_odd_val < 0\n",
    "assert not is_even(neg_odd_val)\n",
    "### END HIDDEN TESTS"
   ]
  },
  {
   "cell_type": "code",
   "execution_count": 10,
   "metadata": {
    "nbgrader": {
     "grade": true,
     "grade_id": "q2-t2",
     "locked": true,
     "points": 0.25,
     "schema_version": 3,
     "solution": false
    }
   },
   "outputs": [],
   "source": [
    "assert pos_even_val is not None\n",
    "### BEGIN HIDDEN TESTS\n",
    "assert pos_even_val > 0 \n",
    "assert is_even(pos_even_val)\n",
    "### END HIDDEN TESTS"
   ]
  },
  {
   "cell_type": "markdown",
   "metadata": {
    "nbgrader": {
     "grade": false,
     "grade_id": "q2-t3",
     "locked": true,
     "points": 0.3,
     "schema_version": 3,
     "solution": false,
     "task": true
    }
   },
   "source": [
    "**This \"blank\" cell included intentionally.** Do not do anything here. (It's being used in grading.)\n",
    "\n",
    "=== BEGIN MARK SCHEME ===\n",
    "\n",
    "- four different math operators used (**0.1 points**)\n",
    "- `neg_odd_val` and `pos_even_val` reference math_* variables; did not hard-code numbers (**0.1 points**)  \n",
    "- no other values used in definition (**0.1 points**)\n",
    "\n",
    "=== END MARK SCHEME ===\n"
   ]
  },
  {
   "cell_type": "markdown",
   "metadata": {
    "nbgrader": {
     "grade": false,
     "grade_id": "q3",
     "locked": true,
     "schema_version": 3,
     "solution": false
    }
   },
   "source": [
    "### Q3 - Comparison Operators (1 point)\n",
    "\n",
    "Professor Ellis started teaching at UCSD in Winter 2019. This means she has taught at UCSD for the following quarters: Wi19, Sp19, Fa19, Wi20, Sp20, Fa20, Wi21, Sp21, and Fa21. Of these, Sp20, Fa20, Wi21, and Sp21 were remote quarters. \n",
    "\n",
    "- Store the total number of quarters Prof Ellis has taught at UCSD in the variable `quarters_taught`.\n",
    "- Store the  number of remote quarters she has taught in the variable `remote_quarters`.\n",
    "\n",
    "Then generate two variables (`true_var` and `false_var`) that satisfy the following requirements:\n",
    "\n",
    "1. Each variable must be defined using one comparison operator (`<`,`>`,`<=`,`>=`,`!=`,`==`).\n",
    "2. Each variable must use and refer to `quarters_taught` and `remote_quarters` (and no other values or variables)\n",
    "4. `true_var` should evaluate as the boolean `True`; `false_var` should evaluate as the boolean `False`"
   ]
  },
  {
   "cell_type": "code",
   "execution_count": 11,
   "metadata": {
    "nbgrader": {
     "grade": false,
     "grade_id": "q3a",
     "locked": false,
     "schema_version": 3,
     "solution": true
    }
   },
   "outputs": [],
   "source": [
    "### BEGIN SOLUTION\n",
    "quarters_taught = 9 \n",
    "remote_quarters = 4\n",
    "\n",
    "true_var = quarters_taught > remote_quarters\n",
    "false_var = quarters_taught == remote_quarters\n",
    "### END SOLUTION"
   ]
  },
  {
   "cell_type": "code",
   "execution_count": 12,
   "metadata": {
    "nbgrader": {
     "grade": true,
     "grade_id": "q3-t1",
     "locked": true,
     "points": 0.1,
     "schema_version": 3,
     "solution": false
    }
   },
   "outputs": [],
   "source": [
    "assert quarters_taught is not None\n",
    "### BEGIN HIDDEN TESTS\n",
    "assert quarters_taught == 9\n",
    "### END HIDDEN TESTS"
   ]
  },
  {
   "cell_type": "code",
   "execution_count": 13,
   "metadata": {
    "nbgrader": {
     "grade": true,
     "grade_id": "cell-caa08ec1924b6ee7",
     "locked": true,
     "points": 0.1,
     "schema_version": 3,
     "solution": false,
     "task": false
    }
   },
   "outputs": [],
   "source": [
    "assert remote_quarters is not None\n",
    "### BEGIN HIDDEN TESTS\n",
    "assert remote_quarters == 4\n",
    "### END HIDDEN TESTS"
   ]
  },
  {
   "cell_type": "code",
   "execution_count": 14,
   "metadata": {
    "nbgrader": {
     "grade": true,
     "grade_id": "cell-f2b38685f990d7fb",
     "locked": true,
     "points": 0.1,
     "schema_version": 3,
     "solution": false,
     "task": false
    }
   },
   "outputs": [],
   "source": [
    "assert true_var is not None\n",
    "### BEGIN HIDDEN TESTS\n",
    "assert true_var\n",
    "### END HIDDEN TESTS"
   ]
  },
  {
   "cell_type": "code",
   "execution_count": 15,
   "metadata": {
    "nbgrader": {
     "grade": true,
     "grade_id": "q3-t2",
     "locked": true,
     "points": 0.1,
     "schema_version": 3,
     "solution": false
    }
   },
   "outputs": [],
   "source": [
    "assert false_var is not None\n",
    "### BEGIN HIDDEN TESTS\n",
    "assert not false_var\n",
    "### END HIDDEN TESTS"
   ]
  },
  {
   "cell_type": "markdown",
   "metadata": {
    "nbgrader": {
     "grade": false,
     "grade_id": "q3-t5",
     "locked": true,
     "points": 0.6,
     "schema_version": 3,
     "solution": false,
     "task": true
    }
   },
   "source": [
    "**This \"blank\" cell included intentionally.** Do not do anything here. (It's being used in grading.)\n",
    "\n",
    "=== BEGIN MARK SCHEME ===\n",
    "\n",
    "- both variables reference `quarters_taught` and `remote_quarters` (**0.2 pts**)\n",
    "- both variables reference use at least one comparison operator (**0.2 pts**)\n",
    "- no other variables are referenced (**0.2 pts**)\n",
    "\n",
    "=== END MARK SCHEME ==="
   ]
  },
  {
   "cell_type": "markdown",
   "metadata": {
    "nbgrader": {
     "grade": false,
     "grade_id": "cell-77e7ac0498176358",
     "locked": true,
     "schema_version": 3,
     "solution": false,
     "task": false
    }
   },
   "source": [
    "### Q4 - Membership Operators (0.4 points)\n",
    "\n",
    "Define a **list of length 4** called `my_list`, such that when you check whether 'COGS18' is a member of `my_list` it returns `True`, but if you check whether 'COGS' is a member of `my_list` it returns `False`."
   ]
  },
  {
   "cell_type": "code",
   "execution_count": 16,
   "metadata": {
    "nbgrader": {
     "grade": false,
     "grade_id": "cell-f4e64b6777aff0a4",
     "locked": false,
     "schema_version": 3,
     "solution": true,
     "task": false
    }
   },
   "outputs": [],
   "source": [
    "### BEGIN SOLUTION\n",
    "# specific list will vary, but at least one element has to be 'COGS18'\n",
    "my_list = ['COGS18', 'is', 'the', 'best!']\n",
    "### END SOLUTION"
   ]
  },
  {
   "cell_type": "code",
   "execution_count": 17,
   "metadata": {
    "nbgrader": {
     "grade": true,
     "grade_id": "cell-92c7c3227a68644b",
     "locked": true,
     "points": 0.1,
     "schema_version": 3,
     "solution": false,
     "task": false
    }
   },
   "outputs": [],
   "source": [
    "assert my_list is not None\n",
    "### BEGIN HIDDEN TESTS\n",
    "assert type(my_list) == list\n",
    "### END HIDDEN TESTS"
   ]
  },
  {
   "cell_type": "code",
   "execution_count": 18,
   "metadata": {
    "nbgrader": {
     "grade": true,
     "grade_id": "cell-3be15b8b3f026f5e",
     "locked": true,
     "points": 0.1,
     "schema_version": 3,
     "solution": false,
     "task": false
    }
   },
   "outputs": [],
   "source": [
    "# hidden tests to check length\n",
    "### BEGIN HIDDEN TESTS\n",
    "assert len(my_list) == 4\n",
    "### END HIDDEN TESTS"
   ]
  },
  {
   "cell_type": "code",
   "execution_count": 19,
   "metadata": {
    "nbgrader": {
     "grade": true,
     "grade_id": "cell-5c81a4b7ed540a90",
     "locked": true,
     "points": 0.1,
     "schema_version": 3,
     "solution": false
    }
   },
   "outputs": [],
   "source": [
    "# hidden tests to check conditions specified in instructions\n",
    "### BEGIN HIDDEN TESTS\n",
    "assert 'COGS18' in my_list\n",
    "### END HIDDEN TESTS"
   ]
  },
  {
   "cell_type": "code",
   "execution_count": 20,
   "metadata": {
    "nbgrader": {
     "grade": true,
     "grade_id": "cell-f77a2729e8a01ea4",
     "locked": true,
     "points": 0.1,
     "schema_version": 3,
     "solution": false
    }
   },
   "outputs": [],
   "source": [
    "# hidden tests to check conditions specified in instructions\n",
    "### BEGIN HIDDEN TESTS\n",
    "assert 'COGS' not in my_list\n",
    "### END HIDDEN TESTS"
   ]
  },
  {
   "cell_type": "markdown",
   "metadata": {
    "nbgrader": {
     "grade": false,
     "grade_id": "part2",
     "locked": true,
     "schema_version": 3,
     "solution": false
    }
   },
   "source": [
    "## Part 2: Collections & Indexing  (2.75 points)"
   ]
  },
  {
   "cell_type": "markdown",
   "metadata": {
    "nbgrader": {
     "grade": false,
     "grade_id": "q4",
     "locked": true,
     "schema_version": 3,
     "solution": false
    }
   },
   "source": [
    "### Q5 - Indexing (1 point)\n",
    "\n",
    "The list `us_govt` has been provided in the cell below for you.\n",
    "\n",
    "***Use the `us_govt` list and indexing*** to generate each of the four variables at left below, so that each stores the output at right below. For example, `congress_minority` should refer to `us_govt` in its answer and use indexing to store the list `['Kevin McCarthy', 'Mitch McConnell']`.\n",
    "\n",
    "- `congress_minority` | `['Kevin McCarthy', 'Mitch McConnell']`\n",
    "- `congress_majority` | `['Nancy Pelosi', 'Chuck Schumer']`\n",
    "- `executive` | `['Joe Biden', 'Kamala Harris']`\n",
    "- `president` | `'Joe Biden'` (note this is a string, not a list)"
   ]
  },
  {
   "cell_type": "code",
   "execution_count": 21,
   "metadata": {
    "nbgrader": {
     "grade": false,
     "grade_id": "q4-var",
     "locked": true,
     "schema_version": 3,
     "solution": false,
     "task": false
    }
   },
   "outputs": [],
   "source": [
    "# this variables provided for you\n",
    "# this cell is read-only (cannot be changed)\n",
    "us_govt = ['Joe Biden', 'Kamala Harris', \n",
    "           'Nancy Pelosi', 'Kevin McCarthy',\n",
    "           'Chuck Schumer', 'Mitch McConnell']"
   ]
  },
  {
   "cell_type": "code",
   "execution_count": 22,
   "metadata": {
    "nbgrader": {
     "grade": false,
     "grade_id": "q4a",
     "locked": false,
     "schema_version": 3,
     "solution": true
    }
   },
   "outputs": [],
   "source": [
    "### BEGIN SOLUTION\n",
    "# actual values will differ\n",
    "congress_minority = us_govt[3::2]\n",
    "congress_majority = us_govt[2::2]\n",
    "executive = us_govt[0:2]\n",
    "president = us_govt[0]\n",
    "### END SOLUTION"
   ]
  },
  {
   "cell_type": "code",
   "execution_count": 23,
   "metadata": {
    "nbgrader": {
     "grade": true,
     "grade_id": "q4-t1",
     "locked": true,
     "points": 0.25,
     "schema_version": 3,
     "solution": false
    }
   },
   "outputs": [],
   "source": [
    "assert congress_minority is not None\n",
    "### BEGIN HIDDEN TESTS\n",
    "assert congress_minority == ['Kevin McCarthy', 'Mitch McConnell']\n",
    "### END HIDDEN TESTS"
   ]
  },
  {
   "cell_type": "code",
   "execution_count": 24,
   "metadata": {
    "nbgrader": {
     "grade": true,
     "grade_id": "q4-t2",
     "locked": true,
     "points": 0.25,
     "schema_version": 3,
     "solution": false
    }
   },
   "outputs": [],
   "source": [
    "assert congress_majority is not None\n",
    "### BEGIN HIDDEN TESTS\n",
    "assert congress_majority == ['Nancy Pelosi', 'Chuck Schumer']\n",
    "### END HIDDEN TESTS"
   ]
  },
  {
   "cell_type": "code",
   "execution_count": 25,
   "metadata": {
    "nbgrader": {
     "grade": true,
     "grade_id": "q4-t3",
     "locked": true,
     "points": 0.25,
     "schema_version": 3,
     "solution": false
    }
   },
   "outputs": [],
   "source": [
    "assert executive is not None\n",
    "### BEGIN HIDDEN TESTS\n",
    "assert executive == ['Joe Biden', 'Kamala Harris']\n",
    "### END HIDDEN TESTS"
   ]
  },
  {
   "cell_type": "code",
   "execution_count": 26,
   "metadata": {
    "nbgrader": {
     "grade": true,
     "grade_id": "q4-t4",
     "locked": true,
     "points": 0.25,
     "schema_version": 3,
     "solution": false,
     "task": false
    }
   },
   "outputs": [],
   "source": [
    "assert president is not None\n",
    "### BEGIN HIDDEN TESTS\n",
    "assert president == 'Joe Biden'\n",
    "### END HIDDEN TESTS"
   ]
  },
  {
   "cell_type": "markdown",
   "metadata": {
    "nbgrader": {
     "grade": false,
     "grade_id": "q4-t5",
     "locked": true,
     "points": 0,
     "schema_version": 3,
     "solution": false,
     "task": true
    }
   },
   "source": [
    "**This \"blank\" cell included intentionally.** Do not do anything here. (It's being used in grading.)\n",
    "\n",
    "=== BEGIN MARK SCHEME ===\n",
    "\n",
    "- if hard-coded (doesn't use indexing & reference `us_govt`), remove autograder credit\n",
    "\n",
    "=== END MARK SCHEME ===\n"
   ]
  },
  {
   "cell_type": "markdown",
   "metadata": {
    "nbgrader": {
     "grade": false,
     "grade_id": "q7",
     "locked": true,
     "schema_version": 3,
     "solution": false
    }
   },
   "source": [
    "### Q6 - Dictionaries (1 point)\n",
    "\n",
    "In the cell below, describe a situation where you would store information in a dictionary (give an example). Be clear about the information or values you would store in a dictionary, why that variable type would be appropriate for your situation, and whether or not this information could be changed after the dictionary is created. \n",
    "\n",
    "Note: you do not *have* to write any python code here; we're looking for a written explanation.\n",
    "\n",
    "<span style=\"color:red\">Be sure to include your text response in the cell below!</span>\n"
   ]
  },
  {
   "cell_type": "markdown",
   "metadata": {
    "nbgrader": {
     "grade": true,
     "grade_id": "cell-8e93a31783c35e28",
     "locked": false,
     "points": 0,
     "schema_version": 3,
     "solution": true,
     "task": false
    },
    "scrolled": true
   },
   "source": []
  },
  {
   "cell_type": "markdown",
   "metadata": {
    "nbgrader": {
     "grade": false,
     "grade_id": "q7-t1",
     "locked": true,
     "points": 1,
     "schema_version": 3,
     "solution": false,
     "task": true
    }
   },
   "source": [
    "**This \"blank\" cell included intentionally.** Do not do anything here. (It's being used in grading.)\n",
    "\n",
    "=== BEGIN MARK SCHEME ===\n",
    "\n",
    "- example provided is something reasonably stored in a dictionary (**0.25 pts**)\n",
    "- information being stored makes sense/describes at least one key-value pair (**0.50 pts**)\n",
    "- student explanation addresses that dictionaries are mutable/can be updated (**0.25 pts**)\n",
    "\n",
    "=== END MARK SCHEME ==="
   ]
  },
  {
   "cell_type": "markdown",
   "metadata": {
    "nbgrader": {
     "grade": false,
     "grade_id": "cell-56121ef94ddbb84e",
     "locked": true,
     "schema_version": 3,
     "solution": false,
     "task": false
    }
   },
   "source": [
    "### Q7 - Collections & Mutating  (0.75 points)\n",
    "\n",
    "**Part I**\n",
    "\n",
    "Define a dictionary `my_dict` which stores a dictionary related to the one you described in Q6. \n",
    "\n",
    "Be sure that this dictionary has a length of at least 3.\n",
    "\n",
    "(Note, if the dictionary you described would have be really big, feel free to just store a couple of elements.)"
   ]
  },
  {
   "cell_type": "code",
   "execution_count": 27,
   "metadata": {
    "nbgrader": {
     "grade": false,
     "grade_id": "q5a-part2",
     "locked": false,
     "schema_version": 3,
     "solution": true,
     "task": false
    }
   },
   "outputs": [],
   "source": [
    "### BEGIN SOLUTION\n",
    "# specific values will differ\n",
    "my_dict = {'Make' : 'Hyundai',\n",
    "           'Model' : 'Insight',\n",
    "           'Year' : 2019,\n",
    "           'Color' : 'black'}\n",
    "### END SOLUTION"
   ]
  },
  {
   "cell_type": "code",
   "execution_count": 28,
   "metadata": {
    "nbgrader": {
     "grade": true,
     "grade_id": "q5-t5",
     "locked": true,
     "points": 0.25,
     "schema_version": 3,
     "solution": false,
     "task": false
    }
   },
   "outputs": [],
   "source": [
    "assert my_dict is not None\n",
    "### BEGIN HIDDEN TESTS\n",
    "assert type(my_dict) == dict\n",
    "### END HIDDEN TESTS"
   ]
  },
  {
   "cell_type": "code",
   "execution_count": 29,
   "metadata": {
    "nbgrader": {
     "grade": true,
     "grade_id": "cell-37d17903284cdc23",
     "locked": true,
     "points": 0.25,
     "schema_version": 3,
     "solution": false,
     "task": false
    }
   },
   "outputs": [],
   "source": [
    "# hidden test to check specifics of dictionary match instructions\n",
    "### BEGIN HIDDEN TESTS\n",
    "assert len(my_dict) >= 3\n",
    "\n",
    "import copy\n",
    "dict_copy = copy.deepcopy(my_dict)\n",
    "### END HIDDEN TESTS"
   ]
  },
  {
   "cell_type": "markdown",
   "metadata": {
    "nbgrader": {
     "grade": false,
     "grade_id": "cell-ff2b347b7cf54d87",
     "locked": true,
     "schema_version": 3,
     "solution": false,
     "task": false
    }
   },
   "source": [
    "**Part II**\n",
    "\n",
    "Having already defined `my_dict`, write code that would *mutate* the value stored in the first position of your dictionary.\n",
    "\n",
    "Note: the first position is the first element/thing stored in your dictionary."
   ]
  },
  {
   "cell_type": "code",
   "execution_count": 30,
   "metadata": {
    "nbgrader": {
     "grade": false,
     "grade_id": "cell-79195cabc5b83e0b",
     "locked": false,
     "schema_version": 3,
     "solution": true,
     "task": false
    }
   },
   "outputs": [],
   "source": [
    "### BEGIN SOLUTION\n",
    "# specific values will differ\n",
    "my_dict['Make'] = 'Honda'\n",
    "### END SOLUTION"
   ]
  },
  {
   "cell_type": "code",
   "execution_count": 31,
   "metadata": {
    "nbgrader": {
     "grade": true,
     "grade_id": "q5-t6",
     "locked": true,
     "points": 0.25,
     "schema_version": 3,
     "solution": false,
     "task": false
    }
   },
   "outputs": [],
   "source": [
    "# hidden test\n",
    "### BEGIN HIDDEN TESTS\n",
    "assert list(my_dict.values())[0] != list(dict_copy.values())[0] \n",
    "### END HIDDEN TESTS"
   ]
  },
  {
   "cell_type": "markdown",
   "metadata": {
    "nbgrader": {
     "grade": false,
     "grade_id": "cell-63c936c684aedcbb",
     "locked": true,
     "points": 0,
     "schema_version": 3,
     "solution": false,
     "task": true
    }
   },
   "source": [
    "**This \"blank\" cell included intentionally.** Do not do anything here. (It's being used in grading.)\n",
    "\n",
    "=== BEGIN MARK SCHEME ===\n",
    "\n",
    "- if hard-coded (i.e. redefines dictionary rather than udpating/mutating), remove autograder credit\n",
    "\n",
    "=== END MARK SCHEME ===\n"
   ]
  },
  {
   "cell_type": "markdown",
   "metadata": {
    "nbgrader": {
     "grade": false,
     "grade_id": "cell-08558daba596965c",
     "locked": true,
     "schema_version": 3,
     "solution": false
    }
   },
   "source": [
    "## Part 3: Control Flow - Conditionals, Functions, and Code Style  (6.45 points)"
   ]
  },
  {
   "cell_type": "markdown",
   "metadata": {
    "nbgrader": {
     "grade": false,
     "grade_id": "q9",
     "locked": true,
     "schema_version": 3,
     "solution": false
    }
   },
   "source": [
    "### Q8 - Function Execution & Code Style (2 points)\n",
    "\n",
    "The following function executes without programmatic issue...but there are two things we need from you! We need you to  1) fix the funtion's poor code style (Part I) and 2) explain what the function is doing (Part II).\n",
    "\n",
    "**Part I**\n",
    "\n",
    "In Part I, consider what we've discussed about code style for variables, operators, conditionals, and functions, then edit the code style for the provided function in the cell below.\n",
    "\n",
    "Do not change the name of the function or what the function does/accomplishes. Your changes/edits should only change the code style.\n",
    "\n",
    "The original function provided:\n",
    "\n",
    "```python\n",
    "def introduce(name,year,school,major):output='Hi! my name is '+name+'. I am a '+year+' at '+school+' studying '+major+'.';return output\n",
    "```\n",
    "\n",
    "Include your function with good code style in the cell below."
   ]
  },
  {
   "cell_type": "code",
   "execution_count": 32,
   "metadata": {
    "nbgrader": {
     "grade": false,
     "grade_id": "cell-e7a16cc46f413c0c",
     "locked": false,
     "schema_version": 3,
     "solution": true
    }
   },
   "outputs": [],
   "source": [
    "### BEGIN SOLUTION\n",
    "def introduce(name, year, school, major):\n",
    "    \n",
    "    output = 'Hi! my name is ' + name + '. I am a ' + year + ' at ' + school + ' studying ' + major + '.'\n",
    "    \n",
    "    return output\n",
    "### END SOLUTION"
   ]
  },
  {
   "cell_type": "code",
   "execution_count": 33,
   "metadata": {},
   "outputs": [],
   "source": [
    "# BE SURE YOUR ANSWER IS IN THE CELL ABOVE\n",
    "# but you can use this cell to test/execute/check your thinking (optional)"
   ]
  },
  {
   "cell_type": "markdown",
   "metadata": {
    "nbgrader": {
     "grade": false,
     "grade_id": "cell-35527e0282d0c996",
     "locked": true,
     "points": 1,
     "schema_version": 3,
     "solution": false,
     "task": true
    }
   },
   "source": [
    "**This \"blank\" cell included intentionally.** Do not do anything here. (It's being used in grading.)\n",
    "\n",
    "=== BEGIN MARK SCHEME ===\n",
    "- added spacing between function arguments (**0.25 points**)\n",
    "- considers spacing around operators in string concatenation/assignment (**0.5 points**)\n",
    "- not all in a single line (**0.25 points**)\n",
    "\n",
    "=== END MARK SCHEME ==="
   ]
  },
  {
   "cell_type": "markdown",
   "metadata": {
    "nbgrader": {
     "grade": false,
     "grade_id": "cell-a86d422ad27a7754",
     "locked": true,
     "schema_version": 3,
     "solution": false,
     "task": false
    }
   },
   "source": [
    "**Part II**\n",
    "\n",
    "In your own words, describe what the function above accomplishes overall and how the code in the function specifically accomplishes this. This will likely incclude specific explanations of lines of code provided.\n",
    "\n",
    "<span style=\"color:red\">Be sure to include your text response in the cell below!</span>"
   ]
  },
  {
   "cell_type": "markdown",
   "metadata": {
    "nbgrader": {
     "grade": true,
     "grade_id": "cell-ccc34ceae7745c13",
     "locked": false,
     "points": 0,
     "schema_version": 3,
     "solution": true,
     "task": false
    }
   },
   "source": []
  },
  {
   "cell_type": "markdown",
   "metadata": {
    "nbgrader": {
     "grade": false,
     "grade_id": "cell-35fa04f50e03a724",
     "locked": true,
     "points": 1,
     "schema_version": 3,
     "solution": false,
     "task": true
    }
   },
   "source": [
    "**This \"blank\" cell included intentionally.** Do not do anything here. (It's being used in grading.)\n",
    "\n",
    "=== BEGIN MARK SCHEME ===\n",
    "\n",
    "- explanation describes what function accomplishes (**0.25 points**)\n",
    "- describes parameters are input (**0.25 points**)\n",
    "- explains string concatenation (**0.25 points**)\n",
    "- describes single string output will be returned (**0.25 points**)\n",
    "\n",
    "=== END MARK SCHEME ==="
   ]
  },
  {
   "cell_type": "markdown",
   "metadata": {
    "nbgrader": {
     "grade": false,
     "grade_id": "q6",
     "locked": true,
     "schema_version": 3,
     "solution": false
    }
   },
   "source": [
    "### Q9 - Functions + Conditionals (2 points)\n",
    "\n",
    "As a semi-new prof, Prof Ellis is still trying to figure out the differences between the colleges. One thing she's noticed is that students discuss are the different math and writing requirements between the different colleges.\n",
    "\n",
    "To help her out, you're going to write a function `determine_college()` that will take two input parameters: `math` and `writing`. \n",
    "\n",
    "Within this function, using the number of math and writing courses as inputs, you will `return` the college (listed at left), using the logic specified at right below:\n",
    "\n",
    "- 'Muir' | 3 math courses; 2 writing courses\n",
    "- 'Thurgood Marshall' | 2 math courses; 0 writing courses\n",
    "- 'Earl Warren' | 0 math courses; 2 writing courses\n",
    "- 'Eleanor Roosevelt' | 0 math courses; 0 writing courses\n",
    "- 'Sixth' | 1 math course; 0 writing courses\n",
    "- 'Seventh' | 1 math course; 2 writing courses\n",
    "- 'cannot be determined' | output for any other combination of values\n",
    "\n",
    "For example, if you were to execute your function: `determine_college(math=3, writing=2)`, the function would `return` 'Muir'.\n",
    "\n",
    "Notes: \n",
    "- Be sure the output strings do not have any typos and have the *same* capitalization as written above (may be best to just copy and paste strings from above to avoid any issues!)\n",
    "- If you disagree with these requirements in what's *actually* required, you may be correct. Prof Ellis only quickly looked at the GE requirements. For this question, use the values above...even if they're not quite \"true\" in reality.\n"
   ]
  },
  {
   "cell_type": "code",
   "execution_count": 34,
   "metadata": {
    "nbgrader": {
     "grade": false,
     "grade_id": "q6a",
     "locked": false,
     "schema_version": 3,
     "solution": true
    }
   },
   "outputs": [],
   "source": [
    "### BEGIN SOLUTION\n",
    "def determine_college(math, writing):\n",
    "    \n",
    "    if math == 3 and writing == 2:\n",
    "        output = 'Muir'\n",
    "    elif math == 2 and writing == 0:\n",
    "        output = 'Thurgood Marshall'\n",
    "    elif math == 0 and writing == 2:\n",
    "        output = 'Earl Warren'\n",
    "    elif math == 0 and writing == 0:\n",
    "        output = 'Eleanor Roosevelt'\n",
    "    elif math == 1 and writing == 0:\n",
    "        output = 'Sixth'\n",
    "    elif math == 1 and writing == 2:\n",
    "        output = 'Seventh'\n",
    "    else:\n",
    "        output = 'cannot be determined'\n",
    "    \n",
    "    return output\n",
    "### END SOLUTION"
   ]
  },
  {
   "cell_type": "code",
   "execution_count": 35,
   "metadata": {},
   "outputs": [],
   "source": [
    "# BE SURE YOUR ANSWER IS IN THE CELL ABOVE\n",
    "# but you can use this cell to test/execute/check your thinking (optional)"
   ]
  },
  {
   "cell_type": "code",
   "execution_count": 36,
   "metadata": {
    "nbgrader": {
     "grade": true,
     "grade_id": "q6-t1",
     "locked": true,
     "points": 0.25,
     "schema_version": 3,
     "solution": false
    }
   },
   "outputs": [],
   "source": [
    "assert callable(determine_college)\n",
    "### BEGIN HIDDEN TESTS\n",
    "assert determine_college(math=3,writing=2) == 'Muir'\n",
    "assert determine_college(math=2,writing=0) == 'Thurgood Marshall'\n",
    "assert determine_college(math=0,writing=2) == 'Earl Warren'\n",
    "assert determine_college(math=0,writing=0) == 'Eleanor Roosevelt'\n",
    "assert determine_college(math=1,writing=0) == 'Sixth'\n",
    "assert determine_college(math=1,writing=2) == 'Seventh'\n",
    "### END HIDDEN TESTS"
   ]
  },
  {
   "cell_type": "code",
   "execution_count": 37,
   "metadata": {
    "nbgrader": {
     "grade": true,
     "grade_id": "cell-184ac55d1e2f125e",
     "locked": true,
     "points": 0.1,
     "schema_version": 3,
     "solution": false,
     "task": false
    }
   },
   "outputs": [],
   "source": [
    "# hidden test to check for 'cannot be determined'\n",
    "### BEGIN HIDDEN TESTS\n",
    "assert determine_college(math=5,writing=5) == 'cannot be determined'\n",
    "### END HIDDEN TESTS"
   ]
  },
  {
   "cell_type": "markdown",
   "metadata": {
    "nbgrader": {
     "grade": false,
     "grade_id": "q6-t2",
     "locked": true,
     "points": 1.65,
     "schema_version": 3,
     "solution": false,
     "task": true
    }
   },
   "source": [
    "**This \"blank\" cell included intentionally.** Do not do anything here. (It's being used in grading.)\n",
    "\n",
    "\n",
    "=== BEGIN MARK SCHEME ===\n",
    "\n",
    "- function definition correct with two parameters (**0.25 points**)\n",
    "- uses `if`/`elif`s/`/`else` syntax correctly; half credit if `if`/`if`s/`else` used (**0.5 points**)\n",
    "- conditionals correct \n",
    "    - references `math` `and` `writing` (**0.5 points**)\n",
    "    - uses `==` correctly  (**0.25 points**)\n",
    "- `return` statement inccluded (**0.15 points**)\n",
    "\n",
    "=== END MARK SCHEME ==="
   ]
  },
  {
   "cell_type": "markdown",
   "metadata": {
    "nbgrader": {
     "grade": false,
     "grade_id": "cell-e1f9fa847b38eac9",
     "locked": true,
     "schema_version": 3,
     "solution": false,
     "task": false
    }
   },
   "source": [
    "### Q10 - Accomplish a task (2.45 points)\n",
    "\n",
    "With the four weeks of the quarter being completely online, the instructional staff has been regularly losing track of time...and they're also not particularly good at military time. To help us out, define a function `time_report()` that takes in two input parameters:\n",
    "- `name` : The name of the person executing the function (string)\n",
    "- `hour` : The hour in military time (integer)\n",
    "\n",
    "The function will `return` a string that says either \"Good morning\", \"Good afternoon\", or \"Good evening\" depending on the `time` specified as input on execution. Specifically, We are using military (24 hour) time as input and converting it to am/pm (12 hour) time within the function. For the purposes of time keeping in this example, we are defining morning from 0:00-11:59, afternoon from 12:00-17:59, and evening from 18:00-23:59.\n",
    "\n",
    "The string `return`ed from the function will be some variation of `'Good [morning/afternoon/evening], [name]! It's currently [time] [am/pm].` (where the values in brackets are determined by the inputs to the function and the operations carried out within the function.\n",
    "\n",
    "For example: \n",
    "\n",
    "- `time_report('Sam', 8)` would `return` `\"Good morning, Sam! It's currently 8 am.\"`\n",
    "- `time_report('Donovan', 14)` would `return` `\"Good afternoon, Donovan! It's currently 2 pm.\"`\n",
    "- `time_report('Andrew', 20)` would `return` `\"Good evening, Andrew! It's currently 8 pm.\"` \n",
    "\n",
    "\n",
    "Notes/reminders: \n",
    "- punctuation, spelling, capitalization and spacing matters, so be sure the string you output is exactly as you see above (with the correct inputs/values corresponding to your parameters, of course.)\n",
    "- To convert from military time to 12 hour time for any time 1PM (13:00) or later, remember you would need to subtract 12 from military time\n",
    "- If you want to convert an integer to a string, remember you can use the `str()` function to typecast the integer to a string. For example, `str(6)` returns the string `\"6\"`."
   ]
  },
  {
   "cell_type": "code",
   "execution_count": 38,
   "metadata": {
    "nbgrader": {
     "grade": false,
     "grade_id": "cell-1ea6cb63f391a4cf",
     "locked": false,
     "schema_version": 3,
     "solution": true,
     "task": false
    }
   },
   "outputs": [],
   "source": [
    "### BEGIN SOLUTION\n",
    "def time_report(name, hour):\n",
    "    \n",
    "    # determine if it's the morning\n",
    "    if hour < 12:\n",
    "        time_out = str(hour) + ' am'\n",
    "        good = 'morning'\n",
    "    # determine if it's the afternoon\n",
    "    elif hour >= 12 and hour < 24:\n",
    "        time_out = str(hour-12) + ' pm'\n",
    "        \n",
    "        # handle noon\n",
    "        if hour == 12:\n",
    "            time_out = str(hour)  + ' pm'\n",
    "        \n",
    "        # handle afternoon vs evening\n",
    "        if hour >= 12 and hour < 18:\n",
    "            good = 'afternoon'\n",
    "        elif hour >= 18 and hour < 24:\n",
    "            good = 'evening'\n",
    "    else:\n",
    "        print(\"not an actual time\")\n",
    "        return \"cannout calculate\"\n",
    "    \n",
    "    # concatenate string\n",
    "    output = 'Good ' + good + \", \" + name + \"! It's currently \" + time_out + \".\"\n",
    "\n",
    "    return output\n",
    "\n",
    "# OR \n",
    "\n",
    "def time_report(name, hour):\n",
    "    # handle time\n",
    "    if hour >= 13:\n",
    "        time = hour - 12\n",
    "    else: \n",
    "        time = hour\n",
    "    \n",
    "    # determine what string to generate \n",
    "    if hour >= 0 and hour < 12:\n",
    "        output = \"Good morning, \" + name + \"! It's currently \" + str(time) + \" am.\"\n",
    "    elif hour >= 12 and hour < 18:\n",
    "        output = \"Good afternoon, \" + name + \"! It's currently \" + str(time) + \" pm.\"\n",
    "    elif hour >= 18 and hour < 24:\n",
    "        output = \"Good evening, \" + name + \"! It's currently \" + str(time) + \" pm.\"    \n",
    "    return(output)\n",
    "\n",
    "# OR \n",
    "\n",
    "def time_report(name, hour):\n",
    "    \n",
    "    # determine if AM\n",
    "    if hour >= 0 and hour < 12:\n",
    "        output = \"Good morning, \" + name + \"! It's currently \" + str(hour) + ' am.'\n",
    "    # determine if noon\n",
    "    elif hour == 12:\n",
    "        output = \"Good afternoon, \" + name + \"! It's currently \" + str(hour) + ' pm.'\n",
    "    # determine if afternoon\n",
    "    elif hour > 12 and hour < 18:\n",
    "        output = \"Good afternoon, \" + name + \"! It's currently \" + str(hour - 12) + ' pm.'\n",
    "    # determine if evening\n",
    "    elif hour >= 18 and hour < 24:\n",
    "        output = \"Good evening, \" + name + \"! It's currently \" + str(hour - 12) + ' pm.'\n",
    "        \n",
    "    return output\n",
    "### END SOLUTION"
   ]
  },
  {
   "cell_type": "code",
   "execution_count": 39,
   "metadata": {},
   "outputs": [],
   "source": [
    "# BE SURE YOUR ANSWER IS IN THE CELL ABOVE\n",
    "# but you can use this cell to test/execute/check your thinking (optional)"
   ]
  },
  {
   "cell_type": "code",
   "execution_count": 40,
   "metadata": {
    "nbgrader": {
     "grade": true,
     "grade_id": "cell-b55e3349d00c555e",
     "locked": true,
     "points": 0.35,
     "schema_version": 3,
     "solution": false,
     "task": false
    }
   },
   "outputs": [],
   "source": [
    "assert callable(time_report)\n",
    "# hidden checks to make sure parameter names are correct\n",
    "### BEGIN HIDDEN TESTS\n",
    "# checks parameter names\n",
    "assert time_report(name=\"Shannon\", hour=12)\n",
    "### END HIDDEN TESTS"
   ]
  },
  {
   "cell_type": "code",
   "execution_count": 41,
   "metadata": {
    "nbgrader": {
     "grade": true,
     "grade_id": "cell-7457dfd5157f08bc",
     "locked": true,
     "points": 0.35,
     "schema_version": 3,
     "solution": false,
     "task": false
    }
   },
   "outputs": [],
   "source": [
    "# hidden checks to make sure \"am\" or \"pm\" is correctly in string\n",
    "### BEGIN HIDDEN TESTS\n",
    "assert \"am\" in time_report(\"Shannon\", 8)\n",
    "assert \"pm\" in time_report(\"Shannon\", 12)\n",
    "assert \"pm\" in time_report(\"Shannon\", 18)\n",
    "### END HIDDEN TESTS"
   ]
  },
  {
   "cell_type": "code",
   "execution_count": 42,
   "metadata": {
    "nbgrader": {
     "grade": true,
     "grade_id": "cell-4bbd990a04ec413a",
     "locked": true,
     "points": 0.35,
     "schema_version": 3,
     "solution": false,
     "task": false
    }
   },
   "outputs": [],
   "source": [
    "# hidden checks to make sure output string is correct (morning)\n",
    "### BEGIN HIDDEN TESTS\n",
    "assert time_report(\"Andrew\", 6) == \"Good morning, Andrew! It's currently 6 am.\"\n",
    "### END HIDDEN TESTS"
   ]
  },
  {
   "cell_type": "code",
   "execution_count": 43,
   "metadata": {
    "nbgrader": {
     "grade": true,
     "grade_id": "cell-f509a85521684901",
     "locked": true,
     "points": 0.35,
     "schema_version": 3,
     "solution": false,
     "task": false
    }
   },
   "outputs": [],
   "source": [
    "# hidden checks to make sure output string is correct (afternoon)\n",
    "### BEGIN HIDDEN TESTS\n",
    "assert time_report(\"Andrina\", 12) == \"Good afternoon, Andrina! It's currently 12 pm.\"\n",
    "### END HIDDEN TESTS"
   ]
  },
  {
   "cell_type": "code",
   "execution_count": 44,
   "metadata": {
    "nbgrader": {
     "grade": true,
     "grade_id": "cell-eedcce71dec7b689",
     "locked": true,
     "points": 0.35,
     "schema_version": 3,
     "solution": false,
     "task": false
    }
   },
   "outputs": [],
   "source": [
    "# hidden checks to make sure output string is correct (evening)\n",
    "### BEGIN HIDDEN TESTS\n",
    "assert time_report(\"Shivani\", 20) == \"Good evening, Shivani! It's currently 8 pm.\"\n",
    "### END HIDDEN TESTS"
   ]
  },
  {
   "cell_type": "markdown",
   "metadata": {
    "nbgrader": {
     "grade": false,
     "grade_id": "cell-6c3ff8ceb7efedf5",
     "locked": true,
     "points": 0.7,
     "schema_version": 3,
     "solution": false,
     "task": true
    }
   },
   "source": [
    "**This \"blank\" cell included intentionally.** Do not do anything here. (It's being used in grading.)\n",
    "\n",
    "=== BEGIN MARK SCHEME ===\n",
    "- `time_report` defined with two parameters `name` and `hours` (**0.15 points**)\n",
    "- has conditional on `hours` (even if conditional incorrect) (**0.2 points**)\n",
    "- concatenates a string (even if concatenation incorrect) (**0.2 points**) \n",
    "- has a `return` statement (**0.15 points**)  \n",
    "\n",
    "=== END MARK SCHEME ==="
   ]
  },
  {
   "cell_type": "markdown",
   "metadata": {
    "nbgrader": {
     "grade": false,
     "grade_id": "fin",
     "locked": true,
     "schema_version": 3,
     "solution": false
    }
   },
   "source": [
    "### Submit on Datahub\n",
    "\n",
    "Good work - you're done!\n",
    "\n",
    "Check your work, and then when you're ready, **submit on datahub**.\n",
    "\n",
    "We will not have your exam until you click submit and see this show up under 'submitted assignments'."
   ]
  }
 ],
 "metadata": {
  "celltoolbar": "Create Assignment",
  "kernelspec": {
   "display_name": "Python 3 (ipykernel)",
   "language": "python",
   "name": "python3"
  },
  "language_info": {
   "codemirror_mode": {
    "name": "ipython",
    "version": 3
   },
   "file_extension": ".py",
   "mimetype": "text/x-python",
   "name": "python",
   "nbconvert_exporter": "python",
   "pygments_lexer": "ipython3",
   "version": "3.9.5"
  }
 },
 "nbformat": 4,
 "nbformat_minor": 2
}
