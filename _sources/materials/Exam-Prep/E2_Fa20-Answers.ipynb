{
 "cells": [
  {
   "cell_type": "markdown",
   "metadata": {
    "nbgrader": {
     "grade": false,
     "grade_id": "intro",
     "locked": true,
     "schema_version": 3,
     "solution": false
    }
   },
   "source": [
    "# COGS 18 - Exam 2\n",
    "\n",
    "This is the second exam for Fall 2020. It covers topics through the Namespaces Lecture.\n",
    "\n",
    "This total exam is out of 12.5 points, worth 12.5% of your grade. \n",
    "\n",
    "**PLEASE DO NOT CHANGE THE NAME OF THIS FILE.**\n",
    "\n",
    "**PLEASE DO NOT COPY & PASTE OR DELETE CELLS INLCUDED IN THE EXAM.** (Note that you can add additional cells, if you want to test things out."
   ]
  },
  {
   "cell_type": "markdown",
   "metadata": {
    "nbgrader": {
     "grade": false,
     "grade_id": "instructions1",
     "locked": true,
     "schema_version": 3,
     "solution": false
    }
   },
   "source": [
    "## Instructions\n",
    "\n",
    "#### Timing\n",
    "- The exam is designed to take you ~1 hour.\n",
    "- There will be a 24 hour window during which you can complete this exam.\n",
    "- If it takes you longer than 1 hour, you're free to use that time.\n",
    "\n",
    "#### The Rules\n",
    "- You are to complete this exam on your own.\n",
    "- This is open-notes & open-Google\n",
    "- You may not talk to any humans about this exam. \n",
    "- The following are all *prohibited*:\n",
    "    - text/phone/online chat communication\n",
    "    - posting questions to a message board where a human could respond\n",
    "    - asking anyone via any form about a question on this test directly\n",
    "- Clarification questions will ***not*** be allowed and there will be no posting on Piazza about the exam at all. \n",
    "    - Piazza posts about the exam will not be answered and will be deleted. \n",
    "    - Students who post questions about the exam to Piazza are at risk of losing points on the exam.\n",
    "    - If you are confused about wording, add a note to your exam explaining your confusion and how you interpreted the question. \n",
    "    - Note: This policy is b/c we are incapable of responding for 24h straight. This is the only way to make it fair across the board for students."
   ]
  },
  {
   "cell_type": "markdown",
   "metadata": {
    "nbgrader": {
     "grade": false,
     "grade_id": "instructions2",
     "locked": true,
     "schema_version": 3,
     "solution": false
    }
   },
   "source": [
    " <span style=\"color: red;\">Note: </span> There _is_ a chance for partial credit on some questions, so _some_ code is better than _no_ code. Even if it throws an error, having some code that partially answers the question will benefit you/your grade."
   ]
  },
  {
   "cell_type": "markdown",
   "metadata": {
    "nbgrader": {
     "grade": false,
     "grade_id": "part1",
     "locked": true,
     "schema_version": 3,
     "solution": false
    }
   },
   "source": [
    "## Part 1: E1 Review (3 points)"
   ]
  },
  {
   "cell_type": "markdown",
   "metadata": {
    "nbgrader": {
     "grade": false,
     "grade_id": "q1",
     "locked": true,
     "schema_version": 3,
     "solution": false
    }
   },
   "source": [
    "### Q1 - Variables & Indexing (0.5 points)\n",
    "\n",
    "Define a tuple `my_tuple` that stores 6 items: 2 integers, 1 dictionary, 2 lists, and 1 float (in any order).\n",
    "\n",
    "Then, write code that (*using indexing*) accomplishes the following:\n",
    "\n",
    "1. Assigns the second element of `my_tuple` to the variable `tuple_out_a`\n",
    "2. Assigns the single element in the second position from the end of `my_tuple` to the variable `tuple_out_b`\n",
    "\n",
    "Note: \"element\" refers to the position in the list - so the element at index 0 is the *first* element in any list."
   ]
  },
  {
   "cell_type": "code",
   "execution_count": null,
   "metadata": {
    "nbgrader": {
     "grade": false,
     "grade_id": "q1-solution",
     "locked": false,
     "schema_version": 3,
     "solution": true
    }
   },
   "outputs": [],
   "source": [
    "# specific tuple will differ\n",
    "my_tuple = (1, 2, {'a': 3}, [1, 2], [3, 4], 1.3)\n",
    "tuple_out_a = my_tuple[1]\n",
    "tuple_out_b = my_tuple[-2]"
   ]
  },
  {
   "cell_type": "code",
   "execution_count": null,
   "metadata": {
    "nbgrader": {
     "grade": true,
     "grade_id": "q1-test1",
     "locked": true,
     "points": 0.1,
     "schema_version": 3,
     "solution": false
    }
   },
   "outputs": [],
   "source": [
    "assert my_tuple is not None\n",
    "\n",
    "assert type(my_tuple) == tuple\n",
    "assert len(my_tuple) == 6"
   ]
  },
  {
   "cell_type": "code",
   "execution_count": null,
   "metadata": {
    "nbgrader": {
     "grade": true,
     "grade_id": "q1-test2",
     "locked": true,
     "points": 0.1,
     "schema_version": 3,
     "solution": false
    }
   },
   "outputs": [],
   "source": [
    "assert my_tuple\n",
    "\n",
    "# check for specific type satistfied\n",
    "num_int = 0\n",
    "num_list = 0\n",
    "num_dict = 0\n",
    "num_float = 0\n",
    "\n",
    "for el in my_tuple: \n",
    "    if type(el) == int: \n",
    "        num_int += 1\n",
    "    if type(el) == list:\n",
    "        num_list += 1\n",
    "    if type(el) == dict:\n",
    "        num_dict += 1\n",
    "    if type(el) == float:\n",
    "        num_float += 1\n",
    "               \n",
    "assert num_int == 2\n",
    "assert num_list == 2\n",
    "assert num_dict == 1\n",
    "assert num_float == 1"
   ]
  },
  {
   "cell_type": "code",
   "execution_count": null,
   "metadata": {
    "nbgrader": {
     "grade": true,
     "grade_id": "q1-test3",
     "locked": true,
     "points": 0.15,
     "schema_version": 3,
     "solution": false
    }
   },
   "outputs": [],
   "source": [
    "assert tuple_out_a is not None\n",
    "assert tuple_out_a == my_tuple[1]"
   ]
  },
  {
   "cell_type": "code",
   "execution_count": null,
   "metadata": {
    "nbgrader": {
     "grade": true,
     "grade_id": "q3-test4",
     "locked": true,
     "points": 0.15,
     "schema_version": 3,
     "solution": false
    }
   },
   "outputs": [],
   "source": [
    "assert tuple_out_b is not None\n",
    "assert tuple_out_b == my_tuple[-2]"
   ]
  },
  {
   "cell_type": "markdown",
   "metadata": {
    "nbgrader": {
     "grade": false,
     "grade_id": "q2",
     "locked": true,
     "schema_version": 3,
     "solution": false
    }
   },
   "source": [
    "### Q2 - Loops (1.25 points)\n",
    "\n",
    "1. Explain the difference between `for` and `while` loops. \n",
    "2. Describe an example (using a text explanation or pseudocode) of a situation that would create an infinite `while` loop.\n",
    "3. Describe what you would need to do to fix the loop you describe in #2 so that it was no longer an infinite loop.\n",
    "\n",
    "\n",
    "Note: Your response here should be a written explanation. It could (but does not have to) include some pseudocode. We are expecting a text response/explanation below."
   ]
  },
  {
   "cell_type": "markdown",
   "metadata": {},
   "source": [
    "REPLACE THIS WITH YOUR ANSWER."
   ]
  },
  {
   "cell_type": "markdown",
   "metadata": {
    "nbgrader": {
     "grade": false,
     "grade_id": "q2-solution",
     "locked": true,
     "points": 1.25,
     "schema_version": 3,
     "solution": false,
     "task": true
    }
   },
   "source": [
    "**This \"blank\" cell included intentionally.** Do not do anything here. (It's being used in grading.)\n",
    "\n",
    "=== BEGIN MARK SCHEME ===\n",
    "\n",
    "- difference between for and while clear and correct (**0.25 points**)\n",
    "- while loop described clearly and would be infinite (**0.5 points**)\n",
    "- explanation of what's needed to fix while loop clear and correct (**0.5 points**)\n",
    "    - i.e.: conditional statement that will be false at some point, likely to include a counter and an updated counter\n",
    "                                                                        \n",
    "=== END MARK SCHEME ==="
   ]
  },
  {
   "cell_type": "markdown",
   "metadata": {
    "nbgrader": {
     "grade": false,
     "grade_id": "cell-2da6957c36f67285",
     "locked": true,
     "schema_version": 3,
     "solution": false,
     "task": false
    }
   },
   "source": [
    "### Q3 - `for` loop (1.25 points)\n",
    "\n",
    "Store your first name as a string in the variable `my_name`.\n",
    "\n",
    "In this question, you're going to change `my_name` using the key-value pairs in `new_language` (defined below), ultimately storing the updated name in `modified_name`. Specifically, if any of the letters in your name (`my_name`) are keys in the dictionary `new_language` below, use that key's value in that letter's place in `modified_name`. If the letter is not in `new_language`, add the original character from `my_name` to `modified_name`.\n",
    "\n",
    "For example, if `my_name` stored 'Shannon', `modified_name` would store 'Shӓnnðn' (the a and the o have the modified character from `new_language`)\n",
    "\n",
    "Note that if your name does not have any vowels in it, the code should still run, but the string stored in `modified_name` will be the same as the string in `my_name`. In other words, your code should accomplish the specified task, regardless of what name is stored in `my_name`."
   ]
  },
  {
   "cell_type": "code",
   "execution_count": null,
   "metadata": {
    "nbgrader": {
     "grade": false,
     "grade_id": "cell-b6b412d82661cc94",
     "locked": true,
     "schema_version": 3,
     "solution": false,
     "task": false
    }
   },
   "outputs": [],
   "source": [
    "# run this to create list\n",
    "new_language = {'a': 'ӓ',\n",
    "                'e' : 'ɚ',\n",
    "                'i' : '¡',\n",
    "                'o' : 'ð', \n",
    "                'u' : 'û',\n",
    "                'A' : 'Ӓ', \n",
    "                'E' : 'ɛ', \n",
    "                'O' : 'Ó', \n",
    "                'U' : 'Ü'}"
   ]
  },
  {
   "cell_type": "code",
   "execution_count": null,
   "metadata": {
    "nbgrader": {
     "grade": false,
     "grade_id": "q8a",
     "locked": false,
     "schema_version": 3,
     "solution": true
    }
   },
   "outputs": [],
   "source": [
    "# code will differ based on who is taking the exam\n",
    "my_name = 'Shannon'\n",
    "modified_name = ''\n",
    "\n",
    "for letter in my_name:\n",
    "    if letter in new_language:\n",
    "        modified_name = modified_name + new_language[letter]\n",
    "    else:\n",
    "        modified_name = modified_name + letter\n",
    "\n",
    "modified_name"
   ]
  },
  {
   "cell_type": "code",
   "execution_count": null,
   "metadata": {
    "nbgrader": {
     "grade": true,
     "grade_id": "q8-t1",
     "locked": true,
     "points": 0.5,
     "schema_version": 3,
     "solution": false
    }
   },
   "outputs": [],
   "source": [
    "assert modified_name\n",
    "\n",
    "mod_name = ''\n",
    "for letter in my_name:\n",
    "    if letter in new_language:\n",
    "        mod_name = mod_name + new_language[letter]\n",
    "    else:\n",
    "        mod_name = mod_name + letter\n",
    "        \n",
    "assert mod_name == modified_name"
   ]
  },
  {
   "cell_type": "markdown",
   "metadata": {
    "nbgrader": {
     "grade": false,
     "grade_id": "q8-t2",
     "locked": true,
     "points": 0.75,
     "schema_version": 3,
     "solution": false,
     "task": true
    }
   },
   "source": [
    "**This \"blank\" cell included intentionally.** Do not do anything here. (It's being used in grading.)\n",
    "\n",
    "=== BEGIN MARK SCHEME ===\n",
    "- for loop set up correctly (**0.25 points**)\n",
    "- conditional correct (**0.25 points**)\n",
    "- string initialized + extended correctly (**0.25 points**)\n",
    "\n",
    "=== END MARK SCHEME ==="
   ]
  },
  {
   "cell_type": "markdown",
   "metadata": {
    "nbgrader": {
     "grade": false,
     "grade_id": "part2",
     "locked": true,
     "schema_version": 3,
     "solution": false
    }
   },
   "source": [
    "## Part 2: Functions (4.25 points)"
   ]
  },
  {
   "cell_type": "markdown",
   "metadata": {
    "nbgrader": {
     "grade": false,
     "grade_id": "q4",
     "locked": true,
     "schema_version": 3,
     "solution": false,
     "task": false
    }
   },
   "source": [
    "### Q4 - Function execution (0.75 points)\n",
    "\n",
    "The cell below includes a function that has been provided for you. After understanding the code in the function, run the cell below (to define this function). Then, execute (use) this function to create the following variables under the specified conditions:\n",
    "\n",
    "1. `tempA` | execute the `convert_temp` function to convert the temperature 95 degrees Fahrenheit into degrees Celsius\n",
    "2. `tempB` | execute `convert_temp` to convert the temperature 17 degrees Celsius into degrees Fahrenheit"
   ]
  },
  {
   "cell_type": "code",
   "execution_count": null,
   "metadata": {
    "nbgrader": {
     "grade": false,
     "grade_id": "q4-funct",
     "locked": true,
     "schema_version": 3,
     "solution": false,
     "task": false
    }
   },
   "outputs": [],
   "source": [
    "def convert_temp(temp, input_unit='F'):\n",
    "    \n",
    "    if input_unit == 'F':\n",
    "        out_temp = (temp - 32) * 5/9\n",
    "    elif input_unit == 'C':\n",
    "        out_temp = (temp * 9/5) + 32\n",
    "    else:\n",
    "        print(\"Please specify either 'F' or 'C' for input_unit\")\n",
    "        \n",
    "    return out_temp"
   ]
  },
  {
   "cell_type": "code",
   "execution_count": null,
   "metadata": {},
   "outputs": [],
   "source": [
    "# BE SURE YOUR ANSWER IS IN THE CELL BELOW\n",
    "# but you can use this cell to test/execute/check your thinking (optional)"
   ]
  },
  {
   "cell_type": "code",
   "execution_count": null,
   "metadata": {
    "nbgrader": {
     "grade": false,
     "grade_id": "q4-solution",
     "locked": false,
     "schema_version": 3,
     "solution": true,
     "task": false
    }
   },
   "outputs": [],
   "source": [
    "tempA = convert_temp(95)\n",
    "tempB = convert_temp(17, 'C')"
   ]
  },
  {
   "cell_type": "code",
   "execution_count": null,
   "metadata": {
    "nbgrader": {
     "grade": true,
     "grade_id": "q4-test1",
     "locked": true,
     "points": 0.25,
     "schema_version": 3,
     "solution": false,
     "task": false
    }
   },
   "outputs": [],
   "source": [
    "assert tempA\n",
    "assert tempA == 35.0\n"
   ]
  },
  {
   "cell_type": "code",
   "execution_count": null,
   "metadata": {
    "nbgrader": {
     "grade": true,
     "grade_id": "q4-test2",
     "locked": true,
     "points": 0.25,
     "schema_version": 3,
     "solution": false,
     "task": false
    }
   },
   "outputs": [],
   "source": [
    "assert tempB\n",
    "assert tempB == 62.6"
   ]
  },
  {
   "cell_type": "markdown",
   "metadata": {
    "nbgrader": {
     "grade": false,
     "grade_id": "q4-test3",
     "locked": true,
     "points": 0.25,
     "schema_version": 3,
     "solution": false,
     "task": true
    }
   },
   "source": [
    "**This \"blank\" cell included intentionally.** Do not do anything here. (It's being used in grading.)\n",
    "\n",
    "=== BEGIN MARK SCHEME ===\n",
    "\n",
    "function executed appropriately for variable creation (aka not hard coded)  (**0.25 points**)\n",
    "\n",
    "=== END MARK SCHEME ==="
   ]
  },
  {
   "cell_type": "markdown",
   "metadata": {
    "nbgrader": {
     "grade": false,
     "grade_id": "q5",
     "locked": true,
     "schema_version": 3,
     "solution": false
    }
   },
   "source": [
    "### Q5 - `modify_string` (1 point)\n",
    "\n",
    "In Q3, you wrote code that would modify your name, replacing vowels with the corresponding character defined in `new_language`. \n",
    "\n",
    "Here, define a function called `modify_string` that will accomplish the same task as in Q3, taking a string as input and `return`ing the modified string from the function.\n",
    "\n",
    "This function should have a single parameter: `input_string` - the string to be modified."
   ]
  },
  {
   "cell_type": "code",
   "execution_count": null,
   "metadata": {
    "nbgrader": {
     "grade": false,
     "grade_id": "q5-solution",
     "locked": false,
     "schema_version": 3,
     "solution": true
    }
   },
   "outputs": [],
   "source": [
    "def modify_string(input_string):\n",
    "    \n",
    "    new_language = {'a': 'ӓ',\n",
    "                'e' : 'ɚ',\n",
    "                'i' : '¡',\n",
    "                'o' : 'ð', \n",
    "                'u' : 'û',\n",
    "                'A' : 'Ӓ', \n",
    "                'E' : 'ɛ', \n",
    "                'O' : 'Ó', \n",
    "                'U' : 'Ü'}\n",
    "    \n",
    "    modified_name = ''\n",
    "    for letter in input_string:\n",
    "        if letter in new_language:\n",
    "            modified_name = modified_name + new_language[letter]\n",
    "        else:\n",
    "            modified_name = modified_name + letter\n",
    "\n",
    "    return modified_name"
   ]
  },
  {
   "cell_type": "code",
   "execution_count": null,
   "metadata": {},
   "outputs": [],
   "source": [
    "# BE SURE YOUR ANSWER IS IN THE CELL ABOVE\n",
    "# but you can use this cell to test/execute/check your function (optional)"
   ]
  },
  {
   "cell_type": "code",
   "execution_count": null,
   "metadata": {
    "nbgrader": {
     "grade": true,
     "grade_id": "q5-test1",
     "locked": true,
     "points": 0.25,
     "schema_version": 3,
     "solution": false,
     "task": false
    }
   },
   "outputs": [],
   "source": [
    "assert modify_string\n",
    "assert modify_string('Taylor') == 'Tӓylðr'"
   ]
  },
  {
   "cell_type": "code",
   "execution_count": null,
   "metadata": {
    "nbgrader": {
     "grade": true,
     "grade_id": "q5-test2",
     "locked": true,
     "points": 0.25,
     "schema_version": 3,
     "solution": false,
     "task": false
    }
   },
   "outputs": [],
   "source": [
    "assert callable(modify_string)\n",
    "# check functioning for capital letters\n",
    "assert modify_string('AaBbCcEe') == 'ӒӓBbCcɛɚ'"
   ]
  },
  {
   "cell_type": "markdown",
   "metadata": {
    "nbgrader": {
     "grade": false,
     "grade_id": "q5-test4",
     "locked": true,
     "points": 0.5,
     "schema_version": 3,
     "solution": false,
     "task": true
    }
   },
   "source": [
    "**This \"blank\" cell included intentionally.** Do not do anything here. (It's being used in grading.)\n",
    "\n",
    "=== BEGIN MARK SCHEME ===\n",
    "\n",
    "partial credit for answer above:\n",
    "\n",
    "- function defined correctly & input parameter specified (**0.1 points**)\n",
    "- for loop (or equivalent) correct (**0.1 points**)\n",
    "- conditional (or equivalent) correct (**0.1 points**)\n",
    "- string updated correctly (**0.1 points**) \n",
    "- `return` statement included (**0.1 points**)\n",
    "\n",
    "=== END MARK SCHEME ==="
   ]
  },
  {
   "cell_type": "markdown",
   "metadata": {
    "nbgrader": {
     "grade": false,
     "grade_id": "q6",
     "locked": true,
     "schema_version": 3,
     "solution": false
    }
   },
   "source": [
    "### Q6 - `calculate_points` (1 point)\n",
    "\n",
    "Write a function `calculate_points` that has a single input parameter: `hand`. `hand` can be assumed to be a list of string values, where each string corresponds to a value in a deck of cards (2-10, J, Q, K, or A)\n",
    "\n",
    "This function should calculate the total number of \"pointer\" cars in your hand, where ***a \"pointer\" is either a 10, J, Q, K, or A***. Each \"pointer\" is worth one point. All other cards are worth zero points. The function should `return` the total number of points in the `hand` as an integer.\n",
    "\n",
    "For example, if your `hand` input was: \n",
    "\n",
    "```python\n",
    "['J', '10', '2', '5', 'K']\n",
    "```\n",
    "\n",
    "executing the `calculate_points()` function with the above list as the input to the `hand` parameter, the function would `return` the integer 3 (one point each for the `'J'`, `'10'`, and `'K'`.\n",
    "\n",
    "If there are no pointers in the input `hand`, the function should return 0."
   ]
  },
  {
   "cell_type": "code",
   "execution_count": null,
   "metadata": {
    "nbgrader": {
     "grade": false,
     "grade_id": "q6-solution",
     "locked": false,
     "schema_version": 3,
     "solution": true
    }
   },
   "outputs": [],
   "source": [
    "def calculate_points(hand):\n",
    "    pointers = ['10', 'J', 'Q', 'K', 'A']\n",
    "    counter = 0\n",
    "    \n",
    "    for card in hand:\n",
    "        if card in pointers:\n",
    "            counter += 1\n",
    "        \n",
    "    return counter"
   ]
  },
  {
   "cell_type": "code",
   "execution_count": null,
   "metadata": {},
   "outputs": [],
   "source": [
    "# BE SURE YOUR ANSWER IS IN THE CELL ABOVE\n",
    "# but you can use this cell to test/execute/check your function (optional)"
   ]
  },
  {
   "cell_type": "code",
   "execution_count": null,
   "metadata": {
    "nbgrader": {
     "grade": true,
     "grade_id": "q6-test1",
     "locked": true,
     "points": 0.25,
     "schema_version": 3,
     "solution": false
    }
   },
   "outputs": [],
   "source": [
    "assert callable(calculate_points)\n",
    "\n",
    "# use default parameter\n",
    "assert calculate_points(['K']) == 1"
   ]
  },
  {
   "cell_type": "code",
   "execution_count": null,
   "metadata": {
    "nbgrader": {
     "grade": true,
     "grade_id": "q6-test2",
     "locked": true,
     "points": 0.25,
     "schema_version": 3,
     "solution": false,
     "task": false
    }
   },
   "outputs": [],
   "source": [
    "# hidden tests for function above\n",
    "# assure returns zero if no pointers\n",
    "assert calculate_points(['2', '7', '9']) == 0"
   ]
  },
  {
   "cell_type": "markdown",
   "metadata": {
    "nbgrader": {
     "grade": false,
     "grade_id": "q6-test4",
     "locked": true,
     "points": 0.5,
     "schema_version": 3,
     "solution": false,
     "task": true
    }
   },
   "source": [
    "**This \"blank\" cell included intentionally.** Do not do anything here. (It's being used in grading.)\n",
    "\n",
    "\n",
    "=== BEGIN MARK SCHEME ===\n",
    "\n",
    "partial credit for answer above:\n",
    "\n",
    "- function defined correctly with single parameter (**0.1 points**)\n",
    "- loop (or equivalent) correct (**0.1 points**)\n",
    "- conditional (or equivalent) correct (**0.1 points**)\n",
    "- counter incremented correctly (**0.1 points**)\n",
    "- `return` statement included (**0.1 points**)\n",
    "\n",
    "=== END MARK SCHEME ==="
   ]
  },
  {
   "cell_type": "markdown",
   "metadata": {
    "nbgrader": {
     "grade": false,
     "grade_id": "q7",
     "locked": true,
     "schema_version": 3,
     "solution": false
    }
   },
   "source": [
    "### Q7 - Debugging (1.5 points)\n",
    "\n",
    "In the cell below, there is a function that is not operating as anticipated.\n",
    "\n",
    "`count_consonants` is _supposed_ to take a string as input and count the number of each consonant in the `input_string` (input parameter), storing the output in a dictionary where the key is the consonant and the value is the number of times it appears in the input. \n",
    "\n",
    "Note that we want capitalization to be considered such that the capital and lower case letters are counted together, and the lower case letter is used as the key (i.e. 'A' and 'a' would both be counted under the key 'a')\n",
    "\n",
    "Specifically, if the `input_string` were \"Mohammed\", the function ould return: `{'m': 3, 'h': 1, 'd': 1}`\n",
    "\n",
    "Debug, edit, and test the function provided below so that it accomplishes the intended goal."
   ]
  },
  {
   "cell_type": "code",
   "execution_count": null,
   "metadata": {
    "nbgrader": {
     "grade": false,
     "grade_id": "q7-solution",
     "locked": false,
     "schema_version": 3,
     "solution": true
    }
   },
   "outputs": [],
   "source": [
    "# original code\n",
    "def count_consonants():\n",
    "    out = {}\n",
    "    vowels = ['a', 'e', 'i', 'o', 'u']\n",
    "    \n",
    "    for char in input_string:\n",
    "        \n",
    "        if char not in vowels:\n",
    "            if char not in out:\n",
    "                out[char] = 1\n",
    "\n",
    "# debugged coode\n",
    "def count_consonants(input_string):\n",
    "    out = {}\n",
    "    vowels = ['a', 'e', 'i', 'o', 'u']\n",
    "    \n",
    "    for char in input_string:\n",
    "        char = char.lower()\n",
    "        \n",
    "        if char not in vowels:\n",
    "            if char not in out:\n",
    "                out[char] = 1\n",
    "            else:\n",
    "                out[char] += 1\n",
    "    return out"
   ]
  },
  {
   "cell_type": "code",
   "execution_count": null,
   "metadata": {},
   "outputs": [],
   "source": [
    "# BE SURE YOUR ANSWER IS IN THE CELL ABOVE\n",
    "# but you can use this cell to test/execute/check your function (optional)"
   ]
  },
  {
   "cell_type": "code",
   "execution_count": null,
   "metadata": {
    "nbgrader": {
     "grade": true,
     "grade_id": "q7-test1",
     "locked": true,
     "points": 0.35,
     "schema_version": 3,
     "solution": false,
     "task": false
    }
   },
   "outputs": [],
   "source": [
    "assert count_consonants is not None\n",
    "assert count_consonants('Taylor') == {'t': 1, 'y': 1, 'l': 1, 'r': 1}\n"
   ]
  },
  {
   "cell_type": "code",
   "execution_count": null,
   "metadata": {
    "nbgrader": {
     "grade": true,
     "grade_id": "q7-test2",
     "locked": true,
     "points": 0.35,
     "schema_version": 3,
     "solution": false,
     "task": false
    }
   },
   "outputs": [],
   "source": [
    "assert callable(count_consonants)\n",
    "assert count_consonants('AaBbCc') == {'b': 2, 'c': 2}"
   ]
  },
  {
   "cell_type": "markdown",
   "metadata": {
    "nbgrader": {
     "grade": false,
     "grade_id": "q7-test3",
     "locked": true,
     "points": 0.8,
     "schema_version": 3,
     "solution": false,
     "task": true
    }
   },
   "source": [
    "**This \"blank\" cell included intentionally.** Do not do anything here. (It's being used in grading.)\n",
    "\n",
    "=== BEGIN MARK SCHEME ===\n",
    "- input parameter included (**0.2 points**)\n",
    "- captitalization accounted for (**0.2 points**)\n",
    "- else condition (or equivalent) included (**0.2 points**)\n",
    "- return statement included (**0.2 points**)\n",
    "=== END MARK SCHEME ==="
   ]
  },
  {
   "cell_type": "markdown",
   "metadata": {
    "nbgrader": {
     "grade": false,
     "grade_id": "part3",
     "locked": true,
     "schema_version": 3,
     "solution": false,
     "task": false
    }
   },
   "source": [
    "## Part 3: Objects & Classes (5.25 points)"
   ]
  },
  {
   "cell_type": "markdown",
   "metadata": {
    "nbgrader": {
     "grade": false,
     "grade_id": "q8",
     "locked": true,
     "schema_version": 3,
     "solution": false,
     "task": false
    }
   },
   "source": [
    "### Q8 - `random` (0.25 points)\n",
    "\n",
    "Import the `random` module."
   ]
  },
  {
   "cell_type": "code",
   "execution_count": null,
   "metadata": {
    "nbgrader": {
     "grade": false,
     "grade_id": "q8-solution",
     "locked": false,
     "schema_version": 3,
     "solution": true,
     "task": false
    }
   },
   "outputs": [],
   "source": [
    "import random"
   ]
  },
  {
   "cell_type": "code",
   "execution_count": null,
   "metadata": {
    "nbgrader": {
     "grade": true,
     "grade_id": "a8-test1",
     "locked": true,
     "points": 0.25,
     "schema_version": 3,
     "solution": false,
     "task": false
    }
   },
   "outputs": [],
   "source": [
    "assert random"
   ]
  },
  {
   "cell_type": "markdown",
   "metadata": {
    "nbgrader": {
     "grade": false,
     "grade_id": "q9",
     "locked": true,
     "schema_version": 3,
     "solution": false
    }
   },
   "source": [
    "### Q9 - `Kingdom()` (2.5 points)\n",
    "\n",
    "For this question (and the next one), imagine you want to create a video game with a handful of characters. You want this game to have a royal kingdom theme.\n",
    "\n",
    "Here, define a class `Kingdom()`.\n",
    "\n",
    "This class should have two instance attributes: `name` and `title`, which will be strings specifying the name and title of the character (in that order).\n",
    "\n",
    "This class will also have a method `introduce()`. This method should `return` (*not* just `print`) a string, similar to:\n",
    "\n",
    "```\n",
    "'Hello, my name is Ferdinand, and I am a King.' \n",
    "```\n",
    "\n",
    "...where 'Ferdinand' corresponds to whatever is stored in `Kingdom()` object's `name` attribute is and 'King' corresponds to whatever is stored in the `Kingdom()` object's `title` attribute.\n"
   ]
  },
  {
   "cell_type": "code",
   "execution_count": null,
   "metadata": {
    "nbgrader": {
     "grade": false,
     "grade_id": "q9-solution",
     "locked": false,
     "schema_version": 3,
     "solution": true
    }
   },
   "outputs": [],
   "source": [
    "class Kingdom():\n",
    "    \n",
    "    def __init__(self, name, title):\n",
    "        self.name = name\n",
    "        self.title = title\n",
    "    \n",
    "    def introduce(self):\n",
    "        return 'Hello, my name is ' + self.name + ', and I am a ' + self.title + '.'"
   ]
  },
  {
   "cell_type": "code",
   "execution_count": null,
   "metadata": {},
   "outputs": [],
   "source": [
    "# BE SURE YOUR ANSWER IS IN THE CELL ABOVE\n",
    "# but you can use this cell to test/execute/check your function (optional)"
   ]
  },
  {
   "cell_type": "code",
   "execution_count": null,
   "metadata": {
    "nbgrader": {
     "grade": true,
     "grade_id": "q9-test1",
     "locked": true,
     "points": 0.5,
     "schema_version": 3,
     "solution": false
    }
   },
   "outputs": [],
   "source": [
    "# Tests for the object\n",
    "assert Kingdom\n",
    "\n",
    "queen = Kingdom('Elizabeth', 'Queen')\n",
    "assert isinstance(queen, Kingdom)\n",
    "assert queen.name == 'Elizabeth'\n",
    "assert queen.title == 'Queen'"
   ]
  },
  {
   "cell_type": "code",
   "execution_count": null,
   "metadata": {
    "nbgrader": {
     "grade": true,
     "grade_id": "q9-test2",
     "locked": true,
     "points": 0.5,
     "schema_version": 3,
     "solution": false
    }
   },
   "outputs": [],
   "source": [
    "# Tests for introduce method\n",
    "assert callable(Kingdom)\n",
    "\n",
    "assert callable(queen.introduce)\n",
    "assert isinstance(queen.introduce(), str)"
   ]
  },
  {
   "cell_type": "markdown",
   "metadata": {
    "nbgrader": {
     "grade": false,
     "grade_id": "q9-test3",
     "locked": true,
     "points": 1.5,
     "schema_version": 3,
     "solution": false,
     "task": true
    }
   },
   "source": [
    "**This \"blank\" cell included intentionally.** Do not do anything here. (It's being used in grading.)\n",
    "\n",
    "=== BEGIN MARK SCHEME ===\n",
    "\n",
    "partial credit for answer above:\n",
    "\n",
    "- class defined correctly (**0.25 points**)\n",
    "- instance attributes initialized correctly with `self` + paramters (**0.25 points**)\n",
    "- `self` used correctly in instance attribute code block (**0.25 points**)\n",
    "- introduce method defined with `self` as parameter (**0.25 points**)\n",
    "- `return` statement returns a string (**0.25 points**)\n",
    "- `return` includes reference to `self.name` and `self.title` (**0.25 points**)\n",
    "\n",
    "=== END MARK SCHEME ==="
   ]
  },
  {
   "cell_type": "markdown",
   "metadata": {
    "nbgrader": {
     "grade": false,
     "grade_id": "q10",
     "locked": true,
     "schema_version": 3,
     "solution": false
    }
   },
   "source": [
    "### Q10 - `CourtJester` (2.5 points)\n",
    "\n",
    "Generate a class called `CourtJester()`.\n",
    "\n",
    "This object should inherit all attributes and methods from `Kingdom()`.\n",
    "\n",
    "Additionally, the `CourtJester()` object should have:\n",
    "- a class attribute `headwear`, storing the value `'fool's cap'`\n",
    "- a method `tell_a_joke()` that should `return` a joke at random from the list provided below\n",
    "\n",
    "(Reminder: You imported the `random` module earlier. Use of a function from that module will likely be helpful in `tell_a_joke()`.)"
   ]
  },
  {
   "cell_type": "code",
   "execution_count": null,
   "metadata": {},
   "outputs": [],
   "source": [
    "# joke list provided\n",
    "['A clown held the door open for me yesterday. I thought it was a nice jester',\n",
    " 'How does the court jester address the King of Ducks? Mal’Lard',\n",
    " 'What did the court jester call the balding crown prince? The Heir Apparent with no Hair Apparent',\n",
    " 'What do you call a joke made by using sign language? A jester']"
   ]
  },
  {
   "cell_type": "code",
   "execution_count": null,
   "metadata": {
    "nbgrader": {
     "grade": false,
     "grade_id": "q10-solution",
     "locked": false,
     "schema_version": 3,
     "solution": true
    }
   },
   "outputs": [],
   "source": [
    "class CourtJester(Kingdom):\n",
    "\n",
    "    headwear = \"fool's cap\"\n",
    "        \n",
    "    def tell_a_joke(self):\n",
    "        joke_list = ['A clown held the door open for me yesterday. I thought it was a nice jester',\n",
    " 'How does the court jester address the King of Ducks? Mal’Lard',\n",
    " 'What did the court jester call the balding crown prince? The Heir Apparent with no Hair Apparent',\n",
    " 'What do you call a joke made by using sign language? A jester']\n",
    "        out_joke = random.choice(joke_list)\n",
    "        return out_joke"
   ]
  },
  {
   "cell_type": "code",
   "execution_count": null,
   "metadata": {},
   "outputs": [],
   "source": [
    "# BE SURE YOUR ANSWER IS IN THE CELL ABOVE\n",
    "# but you can use this cell to test/execute/check your class (optional)"
   ]
  },
  {
   "cell_type": "code",
   "execution_count": null,
   "metadata": {
    "nbgrader": {
     "grade": true,
     "grade_id": "q10-test1",
     "locked": true,
     "points": 0.5,
     "schema_version": 3,
     "solution": false
    }
   },
   "outputs": [],
   "source": [
    "assert CourtJester\n",
    "\n",
    "jester = CourtJester('Barney', 'Jester')\n",
    "assert jester.headwear == \"fool's cap\""
   ]
  },
  {
   "cell_type": "code",
   "execution_count": null,
   "metadata": {
    "nbgrader": {
     "grade": true,
     "grade_id": "q10-test2",
     "locked": true,
     "points": 0.5,
     "schema_version": 3,
     "solution": false,
     "task": false
    }
   },
   "outputs": [],
   "source": [
    "assert callable(CourtJester)\n",
    "\n",
    "assert jester.name == 'Barney'\n",
    "assert jester.title == 'Jester'"
   ]
  },
  {
   "cell_type": "code",
   "execution_count": null,
   "metadata": {
    "nbgrader": {
     "grade": true,
     "grade_id": "q10-test3",
     "locked": true,
     "points": 0.5,
     "schema_version": 3,
     "solution": false,
     "task": false
    }
   },
   "outputs": [],
   "source": [
    "assert callable(CourtJester.tell_a_joke)\n",
    "\n",
    "joke_list = ['A clown held the door open for me yesterday. I thought it was a nice jester',\n",
    "'How does the court jester address the King of Ducks? Mal’Lard',\n",
    " 'What did the court jester call the balding crown prince? The Heir Apparent with no Hair Apparent',\n",
    " 'What do you call a joke made by using sign language? A jester']\n",
    "\n",
    "assert jester.tell_a_joke() in joke_list"
   ]
  },
  {
   "cell_type": "markdown",
   "metadata": {
    "nbgrader": {
     "grade": false,
     "grade_id": "q10-test4",
     "locked": true,
     "points": 1,
     "schema_version": 3,
     "solution": false,
     "task": true
    }
   },
   "source": [
    "**This \"blank\" cell included intentionally.** Do not do anything here. (It's being used in grading.)\n",
    "\n",
    "=== BEGIN MARK SCHEME ===\n",
    "\n",
    "partial credit for answer above:\n",
    "\n",
    "- class inherits correctly (**0.25 points**)\n",
    "- class attribute defined correctly (**0.25 points**)\n",
    "- list of jokes defined/included within class (**0.25 points**)\n",
    "- `random.choice()` used in method correctly (**0.25 points**)\n",
    "\n",
    "=== END MARK SCHEME ==="
   ]
  },
  {
   "cell_type": "markdown",
   "metadata": {
    "nbgrader": {
     "grade": false,
     "grade_id": "end",
     "locked": true,
     "schema_version": 3,
     "solution": false
    }
   },
   "source": [
    "### Exam II complete!\n",
    "\n",
    "Good work - you're done with the second exam!\n",
    "\n",
    "Check your work, and then when you're ready, **submit on datahub**.\n",
    "\n",
    "We will not have your exam until you click submit and see this show up under 'submitted assignments'."
   ]
  }
 ],
 "metadata": {
  "celltoolbar": "Create Assignment",
  "kernelspec": {
   "display_name": "Python 3",
   "language": "python",
   "name": "python3"
  },
  "language_info": {
   "codemirror_mode": {
    "name": "ipython",
    "version": 3
   },
   "file_extension": ".py",
   "mimetype": "text/x-python",
   "name": "python",
   "nbconvert_exporter": "python",
   "pygments_lexer": "ipython3",
   "version": "3.7.9"
  }
 },
 "nbformat": 4,
 "nbformat_minor": 2
}
