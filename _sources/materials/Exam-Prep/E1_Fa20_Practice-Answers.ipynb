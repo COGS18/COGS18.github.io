{
 "cells": [
  {
   "cell_type": "markdown",
   "metadata": {
    "deletable": false,
    "editable": false,
    "nbgrader": {
     "cell_type": "markdown",
     "checksum": "d8a8b0910da01f305269ed6cde615c52",
     "grade": false,
     "grade_id": "cell-dee83f4fa4efc49d",
     "locked": true,
     "schema_version": 3,
     "solution": false
    }
   },
   "source": [
    "# COGS 18 - Practice Exam\n",
    "\n",
    "This is the practice exam for Fall 2020. It covers topics through the Dictionaries Lecture.\n",
    "\n",
    "This exam is out of 0 points, worth 0% of your grade, but the real thing will be out of 12.5 points.\n",
    "\n",
    "**PLEASE DO NOT CHANGE THE NAME OF THIS FILE.**\n",
    "\n",
    "**PLEASE DO NOT COPY & PASTE OR DELETE CELLS INLCUDED IN THE EXAM.** (Note that you can add additional cells, if you want to test things out."
   ]
  },
  {
   "cell_type": "markdown",
   "metadata": {
    "deletable": false,
    "editable": false,
    "nbgrader": {
     "cell_type": "markdown",
     "checksum": "2222d615912bdd615e65a9e8b8b674de",
     "grade": false,
     "grade_id": "cell-d84a1b89ff1424e6",
     "locked": true,
     "schema_version": 3,
     "solution": false
    }
   },
   "source": [
    "## Instructions\n",
    "^ these are the instructions you will see on your real exam\n",
    "\n",
    "#### Timing\n",
    "- The exam is designed to take you ~1h.\n",
    "- There will be a 24 hour window during which you can complete this exam.\n",
    "- If it takes you longer than 1h, you're free to use that time.\n",
    "\n",
    "#### The Rules\n",
    "- You are to complete this exam on your own.\n",
    "- This is open-notes & open-Google\n",
    "- You may not talk to any humans about this exam. \n",
    "- The following are all *prohibited*:\n",
    "    - text/phone/online chat communication\n",
    "    - posting questions to a message board where a human could respond\n",
    "    - asking anyone via any form about a question on this test directly\n",
    "- Clarification questions will ***not*** be allowed and there will be no posting on Piazza about the exam at all. \n",
    "    - Piazza posts about the exam will not be answered and will be deleted. \n",
    "    - Students who post questions about the exam to Piazza are at risk of losing points on the exam.\n",
    "    - If you are confused about wording, add a note to your exam explaining your confusion and how you interpreted the question. \n",
    "    - Note: This policy is b/c we are incapable of responding for 24h straight. This is the only way to make it fair across the board for students."
   ]
  },
  {
   "cell_type": "markdown",
   "metadata": {
    "deletable": false,
    "editable": false,
    "nbgrader": {
     "cell_type": "markdown",
     "checksum": "d4f3d5408aa3961c5c65e0049d994899",
     "grade": false,
     "grade_id": "instructions2",
     "locked": true,
     "schema_version": 3,
     "solution": false
    }
   },
   "source": [
    " <span style=\"color: red;\">Note: </span> There _is_ a chance for partial credit on some questions, so _some_ code is better than _no_ code. Even if it throws an error, having some code that partially answers the question will benefit you/your grade."
   ]
  },
  {
   "cell_type": "markdown",
   "metadata": {
    "deletable": false,
    "editable": false,
    "nbgrader": {
     "cell_type": "markdown",
     "checksum": "f21e9ed7f78621645f9870794044d01a",
     "grade": false,
     "grade_id": "cell-67b477fe413ddd29",
     "locked": true,
     "schema_version": 3,
     "solution": false
    }
   },
   "source": [
    "## Part 1: Variables & Operators (4 points)\n",
    "^ The headers and point values correspond to the actual headers and point values you'll have for each section on your exam"
   ]
  },
  {
   "cell_type": "markdown",
   "metadata": {
    "deletable": false,
    "editable": false,
    "nbgrader": {
     "cell_type": "markdown",
     "checksum": "73c54a67d6dcc3f23b48e1474cc5a360",
     "grade": false,
     "grade_id": "cell-648c538aaa34a8e6",
     "locked": true,
     "schema_version": 3,
     "solution": false
    }
   },
   "source": [
    "### Example Q1 - Variables & Operators \n",
    "\n",
    "In the cell below, create three variables: `var_a`, `var_b`, and `var_c`.\n",
    "\n",
    "These variables must satisfy the following requirements:\n",
    "\n",
    "1. `var_a` must store a float (you get to choose the specific float)\n",
    "2. `var_b` must use *at least two* of the comparison operators (`<`,`>`,`<=`,`>=`,`!=`,`==`) and store (return) the value `True`. \n",
    "3. `var_c` must use *at least two* of the math operators (`+`, `-`, `/`, `*`, `**`, `%`, `//`) and store the value 36"
   ]
  },
  {
   "cell_type": "code",
   "execution_count": 17,
   "metadata": {
    "deletable": false,
    "nbgrader": {
     "cell_type": "code",
     "checksum": "1f21364212f4dac417311fa55989bbea",
     "grade": false,
     "grade_id": "cell-9838f1e7760f2339",
     "locked": false,
     "schema_version": 3,
     "solution": true
    }
   },
   "outputs": [
    {
     "name": "stdout",
     "output_type": "stream",
     "text": [
      "7.3 True 36\n"
     ]
    }
   ],
   "source": [
    "# actual variable creation will differ\n",
    "var_a = 7.3\n",
    "var_b = 6 == 6 and 3 <= 4\n",
    "var_c = (6 + 3) * 4\n",
    "\n",
    "# check my work (optional)\n",
    "print(var_a, var_b, var_c)"
   ]
  },
  {
   "cell_type": "code",
   "execution_count": 18,
   "metadata": {
    "deletable": false,
    "editable": false,
    "nbgrader": {
     "cell_type": "code",
     "checksum": "ccb96fe0ab1100a28af8e64fed679c14",
     "grade": true,
     "grade_id": "cell-b8e0ad19e06f8f4e",
     "locked": true,
     "points": 0,
     "schema_version": 3,
     "solution": false
    }
   },
   "outputs": [],
   "source": [
    "# check variable exists\n",
    "assert var_a is not None\n"
   ]
  },
  {
   "cell_type": "code",
   "execution_count": 19,
   "metadata": {
    "deletable": false,
    "editable": false,
    "nbgrader": {
     "cell_type": "code",
     "checksum": "cdc5b8d0fecd278d70c18e87a1bab9ed",
     "grade": true,
     "grade_id": "cell-923642821412100b",
     "locked": true,
     "points": 0,
     "schema_version": 3,
     "solution": false
    }
   },
   "outputs": [],
   "source": [
    "assert isinstance(var_b, bool)\n"
   ]
  },
  {
   "cell_type": "code",
   "execution_count": 20,
   "metadata": {
    "deletable": false,
    "editable": false,
    "nbgrader": {
     "cell_type": "code",
     "checksum": "41f792d0831c883b75f837172539104f",
     "grade": true,
     "grade_id": "cell-e6967925a5e8087c",
     "locked": true,
     "points": 0,
     "schema_version": 3,
     "solution": false
    }
   },
   "outputs": [],
   "source": [
    "# check variable exists\n",
    "assert var_c is not None\n"
   ]
  },
  {
   "cell_type": "markdown",
   "metadata": {
    "deletable": false,
    "editable": false,
    "nbgrader": {
     "cell_type": "markdown",
     "checksum": "3ef8e1e898a4ded5d672e9a7ea387bf7",
     "grade": false,
     "grade_id": "cell-468ebbcd5ee201ba",
     "locked": true,
     "points": 0,
     "schema_version": 3,
     "solution": false,
     "task": true
    }
   },
   "source": [
    "**This \"blank\" cell included intentionally.** Do not do anything here. (It's being used in grading.)"
   ]
  },
  {
   "cell_type": "markdown",
   "metadata": {
    "deletable": false,
    "editable": false,
    "nbgrader": {
     "cell_type": "markdown",
     "checksum": "d0ae7873bb4ff5d9b737feb7853a614c",
     "grade": false,
     "grade_id": "cell-dd772f325aeed313",
     "locked": true,
     "schema_version": 3,
     "solution": false
    }
   },
   "source": [
    "## Part 2: Collections & Indexing  (3 points)"
   ]
  },
  {
   "cell_type": "markdown",
   "metadata": {
    "deletable": false,
    "editable": false,
    "nbgrader": {
     "cell_type": "markdown",
     "checksum": "d2bbafb7d0d53652ed3198f6f1cc1112",
     "grade": false,
     "grade_id": "cell-e1e679b600fffa0a",
     "locked": true,
     "schema_version": 3,
     "solution": false
    }
   },
   "source": [
    "### Example Q2 - Indexing\n",
    "\n",
    "Given a the list `my_list` provided below, include code below *using indexing* to return the values specified below from `my_list`.\n",
    "\n",
    "\n",
    "1. In `list_a`, index `my_list` such that it will store (return) `['c', 'd']`\n",
    "2. In `list_b`, index `my_list` such that it will store (return) `['a', 'c', 'e']`"
   ]
  },
  {
   "cell_type": "code",
   "execution_count": 23,
   "metadata": {
    "deletable": false,
    "nbgrader": {
     "cell_type": "code",
     "checksum": "48a889b7878a3fc71359e3c45f26b0c4",
     "grade": false,
     "grade_id": "cell-f48b2de4d459c3a0",
     "locked": false,
     "schema_version": 3,
     "solution": true
    }
   },
   "outputs": [
    {
     "name": "stdout",
     "output_type": "stream",
     "text": [
      "['c', 'd'] ['a', 'c', 'e']\n"
     ]
    }
   ],
   "source": [
    "# my_list is provided for you\n",
    "my_list = ['a', 'b', 'c', 'd', 'e']\n",
    "\n",
    "# specific indexing approaches may differ\n",
    "list_a = my_list[2:4]\n",
    "list_b = my_list[0::2]\n",
    "\n",
    "# check my work (optional)\n",
    "print(list_a, list_b)"
   ]
  },
  {
   "cell_type": "code",
   "execution_count": 22,
   "metadata": {
    "deletable": false,
    "editable": false,
    "nbgrader": {
     "cell_type": "code",
     "checksum": "b069b02798f9f6a0bf351806fa3fa682",
     "grade": true,
     "grade_id": "cell-74d84403f448609d",
     "locked": true,
     "points": 0,
     "schema_version": 3,
     "solution": false
    }
   },
   "outputs": [],
   "source": [
    "assert isinstance(list_a, list)\n"
   ]
  },
  {
   "cell_type": "code",
   "execution_count": 24,
   "metadata": {
    "deletable": false,
    "editable": false,
    "nbgrader": {
     "cell_type": "code",
     "checksum": "5a91959cd6b360ba6cc67639efcfadd9",
     "grade": true,
     "grade_id": "cell-8135dae390974663",
     "locked": true,
     "points": 0,
     "schema_version": 3,
     "solution": false
    }
   },
   "outputs": [],
   "source": [
    "assert isinstance(list_b, list)\n"
   ]
  },
  {
   "cell_type": "markdown",
   "metadata": {
    "deletable": false,
    "editable": false,
    "nbgrader": {
     "cell_type": "markdown",
     "checksum": "5f3092fb3048b9c380c7319fb91e6c1d",
     "grade": false,
     "grade_id": "cell-fe3e8da39d3f07ef",
     "locked": true,
     "points": 0.7,
     "schema_version": 3,
     "solution": false,
     "task": true
    }
   },
   "source": [
    "**This \"blank\" cell included intentionally.** Do not do anything here. (It's being used in grading.)"
   ]
  },
  {
   "cell_type": "markdown",
   "metadata": {
    "deletable": false,
    "editable": false,
    "nbgrader": {
     "cell_type": "markdown",
     "checksum": "b2c758f02091e9d07d0bbc72a10bcf6f",
     "grade": false,
     "grade_id": "cell-08558daba596965c",
     "locked": true,
     "schema_version": 3,
     "solution": false
    }
   },
   "source": [
    "## Part 3: Control Flow - Conditionals & Loops  (5.5  points)\n",
    "\n",
    "**Note**: This section is longer and has more questions than what will be on your exam; however, this is where students struggle the most, so I wanted to give you more practice questions."
   ]
  },
  {
   "cell_type": "markdown",
   "metadata": {
    "deletable": false,
    "editable": false,
    "nbgrader": {
     "cell_type": "markdown",
     "checksum": "f20463e23bcbd61c80165bf7f780dfb5",
     "grade": false,
     "grade_id": "cell-16c3665100b9d3e0",
     "locked": true,
     "schema_version": 3,
     "solution": false
    }
   },
   "source": [
    "### Example Q3 - `while` loop\n",
    "\n",
    "Include code in your answer below that:\n",
    "\n",
    "1. Creates (initializes) a counter `counter` that starts at 0\n",
    "2. Creates (initializes) an empty list `out`\n",
    "3. Creates a loop that will run as long as the value of `counter` is less than or equal to 10\n",
    "    - Within the loop:\n",
    "        - first: if the value of `counter` is odd, `append` the value of `counter` to the list `out`\n",
    "        - then: increase the value of `counter` by 1 each time through the loop "
   ]
  },
  {
   "cell_type": "code",
   "execution_count": 5,
   "metadata": {
    "deletable": false,
    "nbgrader": {
     "cell_type": "code",
     "checksum": "827329ac4af0e002d4dbf04765677b8d",
     "grade": false,
     "grade_id": "cell-cc7b7de76987f097",
     "locked": false,
     "schema_version": 3,
     "solution": true
    }
   },
   "outputs": [
    {
     "data": {
      "text/plain": [
       "[1, 3, 5, 7, 9]"
      ]
     },
     "execution_count": 5,
     "metadata": {},
     "output_type": "execute_result"
    }
   ],
   "source": [
    "# the question we did together in lecture\n",
    "counter = 0\n",
    "out = []\n",
    "\n",
    "# loop until counter <= 10\n",
    "while counter <= 10:\n",
    "    # check if counter odd:\n",
    "    if counter % 2 != 0:\n",
    "        out.append(counter)\n",
    "    counter = counter + 1\n",
    "       # append counter to out\n",
    "       # increase counter by 1\n",
    "out"
   ]
  },
  {
   "cell_type": "code",
   "execution_count": 3,
   "metadata": {
    "deletable": false,
    "editable": false,
    "nbgrader": {
     "cell_type": "code",
     "checksum": "973c6fdc3a36df7786f5feeb5f6b5564",
     "grade": true,
     "grade_id": "cell-b97c5d995d630ec6",
     "locked": true,
     "points": 0,
     "schema_version": 3,
     "solution": false
    }
   },
   "outputs": [],
   "source": [
    "assert counter > 0 & counter < 100\n"
   ]
  },
  {
   "cell_type": "code",
   "execution_count": 4,
   "metadata": {
    "deletable": false,
    "editable": false,
    "nbgrader": {
     "cell_type": "code",
     "checksum": "b172c551b3a94e039a545ed978557f91",
     "grade": true,
     "grade_id": "cell-4775c78a819a4bbc",
     "locked": true,
     "points": 0,
     "schema_version": 3,
     "solution": false
    }
   },
   "outputs": [],
   "source": [
    "assert isinstance(out, list)\n"
   ]
  },
  {
   "cell_type": "markdown",
   "metadata": {
    "deletable": false,
    "editable": false,
    "nbgrader": {
     "cell_type": "markdown",
     "checksum": "9f9830b7852dbe7ff4f0c9d6f793a720",
     "grade": false,
     "grade_id": "q8",
     "locked": true,
     "schema_version": 3,
     "solution": false
    }
   },
   "source": [
    "### Example Q4 - `for` loop\n",
    "\n",
    "Store your first name as a string in the variable `my_name` and initialize a `counter` (use that variable name).\n",
    "\n",
    "Then, write a `for` loop that loops through the letters of your first name, increasing the counter by one for each consonant (non-vowel) in your name. \n",
    "\n",
    "The value stored in the counter at the end of your loop’s execution should be the number of consonants in your first name. Be sure that 'B' and 'b' are counted as the same letter in your code.\n"
   ]
  },
  {
   "cell_type": "code",
   "execution_count": 25,
   "metadata": {
    "deletable": false,
    "nbgrader": {
     "cell_type": "code",
     "checksum": "023fb766b894f5f41e565bf1fe1e0bd0",
     "grade": false,
     "grade_id": "q8a",
     "locked": false,
     "schema_version": 3,
     "solution": true
    }
   },
   "outputs": [
    {
     "name": "stdout",
     "output_type": "stream",
     "text": [
      "7\n"
     ]
    }
   ],
   "source": [
    "# code/output will differ based on who is taking the exam\n",
    "my_name = 'Shannon'\n",
    "counter = 0\n",
    "\n",
    "for char in my_name:\n",
    "    counter += 1\n",
    "\n",
    "# check my work (optional)\n",
    "print(counter)"
   ]
  },
  {
   "cell_type": "code",
   "execution_count": 26,
   "metadata": {
    "deletable": false,
    "editable": false,
    "nbgrader": {
     "cell_type": "code",
     "checksum": "7281c65fe19a86f851dfc99ae21cc0de",
     "grade": true,
     "grade_id": "q8-t1",
     "locked": true,
     "points": 1,
     "schema_version": 3,
     "solution": false
    }
   },
   "outputs": [],
   "source": [
    "assert isinstance(counter, int)\n",
    "assert isinstance(my_name, str)\n"
   ]
  },
  {
   "cell_type": "markdown",
   "metadata": {
    "deletable": false,
    "editable": false,
    "nbgrader": {
     "cell_type": "markdown",
     "checksum": "403b0e690ed4824509a6d038e41e713c",
     "grade": false,
     "grade_id": "q8-t2",
     "locked": true,
     "points": 1.5,
     "schema_version": 3,
     "solution": false,
     "task": true
    }
   },
   "source": [
    "**This \"blank\" cell included intentionally.** Do not do anything here. (It's being used in grading.)\n",
    "\n"
   ]
  },
  {
   "cell_type": "markdown",
   "metadata": {
    "deletable": false,
    "editable": false,
    "nbgrader": {
     "cell_type": "markdown",
     "checksum": "40e29b2dc9f61b5bc3fd1b077c93f82e",
     "grade": false,
     "grade_id": "q9",
     "locked": true,
     "schema_version": 3,
     "solution": false
    }
   },
   "source": [
    "### Example Q5  - `dictionary`\n",
    "\n",
    "Write code that will generate a dictionary `name_consonants` that stores each consonant letter in `my_name` (defined in previous question) as a key in the dictionary, and the number of times each consonant shows up in `my_name` as the letter's value. \n",
    "\n",
    "Noe that this code should run, regardless of what string is stored in `my_name`.\n",
    "\n",
    "For example, `name_consonants` for 'Shannon' would return:\n",
    "\n",
    "```\n",
    "{'s': 1, 'h': 1, 'n': 3}\n",
    "```\n",
    "\n",
    "Note that if you have no consonants in your name, this code would still run, but would return an empty dictionary."
   ]
  },
  {
   "cell_type": "code",
   "execution_count": 27,
   "metadata": {
    "deletable": false,
    "nbgrader": {
     "cell_type": "code",
     "checksum": "afc95853b7e301bec342214190d5b477",
     "grade": false,
     "grade_id": "q9a",
     "locked": false,
     "schema_version": 3,
     "solution": true
    }
   },
   "outputs": [
    {
     "name": "stdout",
     "output_type": "stream",
     "text": [
      "{'S': 1, 'h': 1, 'a': 1, 'n': 3, 'o': 1}\n"
     ]
    }
   ],
   "source": [
    "# code/output will differ based on who is taking the exam\n",
    "name_dict = {}\n",
    "\n",
    "for char in my_name:\n",
    "    if char not in name_dict:\n",
    "        name_dict[char] = 1\n",
    "    else:\n",
    "        name_dict[char] += 1\n",
    "\n",
    "# check my work (optional)\n",
    "print(name_dict)"
   ]
  },
  {
   "cell_type": "code",
   "execution_count": null,
   "metadata": {
    "deletable": false,
    "editable": false,
    "nbgrader": {
     "cell_type": "code",
     "checksum": "8e2c15e508b13fe95e873b9573e55e31",
     "grade": true,
     "grade_id": "q9-t1",
     "locked": true,
     "points": 1,
     "schema_version": 3,
     "solution": false
    }
   },
   "outputs": [],
   "source": [
    "assert isinstance(name_consonants, dict)\n"
   ]
  },
  {
   "cell_type": "markdown",
   "metadata": {
    "deletable": false,
    "editable": false,
    "nbgrader": {
     "cell_type": "markdown",
     "checksum": "2d958f5f868289cfe4271d0b357926e7",
     "grade": false,
     "grade_id": "q9-t2",
     "locked": true,
     "points": 2.5,
     "schema_version": 3,
     "solution": false,
     "task": true
    }
   },
   "source": [
    "**This \"blank\" cell included intentionally.** Do not do anything here. (It's being used in grading.)\n",
    "\n"
   ]
  },
  {
   "cell_type": "markdown",
   "metadata": {
    "deletable": false,
    "editable": false,
    "nbgrader": {
     "cell_type": "markdown",
     "checksum": "fff9f798c9b8af2c785f1d1b5738ec20",
     "grade": false,
     "grade_id": "q10",
     "locked": true,
     "schema_version": 3,
     "solution": false
    }
   },
   "source": [
    "### Example Q6  - Loops\n",
    "\n",
    "Write code that will loop through the `name_consonants` dictionary created in the previous question and store the sum of the values in the dictionary into `consonant_count`. (For the name Shannon, `consonant_count` would store 5).\n",
    "\n",
    "Be sure your answer refers back to `name_consonants` defined in the previous question"
   ]
  },
  {
   "cell_type": "code",
   "execution_count": 28,
   "metadata": {
    "deletable": false,
    "nbgrader": {
     "cell_type": "code",
     "checksum": "fe3742c86fbb0f0be01e75c54a0128ff",
     "grade": false,
     "grade_id": "q10a",
     "locked": false,
     "schema_version": 3,
     "solution": true
    }
   },
   "outputs": [
    {
     "name": "stdout",
     "output_type": "stream",
     "text": [
      "{'a': 1, 'o': 1}\n"
     ]
    }
   ],
   "source": [
    "# output will differ based on who is taking the exam\n",
    "name_vowels = {}\n",
    "\n",
    "for char in my_name:\n",
    "    if char in ['a', 'e', 'i', 'o', 'u', \n",
    "                'A', 'E', 'I', 'O', 'U']:\n",
    "        if char not in name_vowels:\n",
    "            name_vowels[char] = 1\n",
    "        else:\n",
    "            name_vowels[char] += 1\n",
    "\n",
    "# check my work (optional)          \n",
    "print(name_vowels)"
   ]
  },
  {
   "cell_type": "code",
   "execution_count": null,
   "metadata": {
    "deletable": false,
    "editable": false,
    "nbgrader": {
     "cell_type": "code",
     "checksum": "8d72ecab6491fcdc3b8061cae203d33c",
     "grade": true,
     "grade_id": "q10-t1",
     "locked": true,
     "points": 0.5,
     "schema_version": 3,
     "solution": false
    }
   },
   "outputs": [],
   "source": [
    "assert consonant_count is not None\n"
   ]
  },
  {
   "cell_type": "markdown",
   "metadata": {
    "deletable": false,
    "editable": false,
    "nbgrader": {
     "cell_type": "markdown",
     "checksum": "e6f6da26586746c89c4e77e70c7722a9",
     "grade": false,
     "grade_id": "q10-t2",
     "locked": true,
     "points": 1,
     "schema_version": 3,
     "solution": false,
     "task": true
    }
   },
   "source": [
    "##### **This \"blank\" cell included intentionally.** Do not do anything here. (It's being used in grading.)\n",
    "\n"
   ]
  },
  {
   "cell_type": "markdown",
   "metadata": {
    "deletable": false,
    "editable": false,
    "nbgrader": {
     "cell_type": "markdown",
     "checksum": "58251eec06cd034664427a87ae9af1e1",
     "grade": false,
     "grade_id": "cell-afb5d32ea3790f9b",
     "locked": true,
     "schema_version": 3,
     "solution": false
    }
   },
   "source": [
    "### Submit on Datahub\n",
    "\n",
    "Good work - you're done!\n",
    "\n",
    "Check your work, and then when you're ready, **submit on datahub**.\n",
    "\n",
    "We will not have your exam until you click submit and see this show up under 'submitted assignments'."
   ]
  }
 ],
 "metadata": {
  "kernelspec": {
   "display_name": "Python 3",
   "language": "python",
   "name": "python3"
  },
  "language_info": {
   "codemirror_mode": {
    "name": "ipython",
    "version": 3
   },
   "file_extension": ".py",
   "mimetype": "text/x-python",
   "name": "python",
   "nbconvert_exporter": "python",
   "pygments_lexer": "ipython3",
   "version": "3.7.6"
  }
 },
 "nbformat": 4,
 "nbformat_minor": 2
}
