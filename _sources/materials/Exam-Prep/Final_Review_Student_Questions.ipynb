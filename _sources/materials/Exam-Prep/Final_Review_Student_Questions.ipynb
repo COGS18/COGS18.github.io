{
 "cells": [
  {
   "cell_type": "markdown",
   "id": "e03d9441",
   "metadata": {},
   "source": [
    "# Students biggest point of confusion polled in class\n",
    "1. Classes\n",
    "1. Modules\n",
    "1. Command line\n",
    "1. return vs print\n",
    "1. dictionaries vs lists\n",
    "\n",
    "# Dict vs list"
   ]
  },
  {
   "cell_type": "code",
   "execution_count": 2,
   "id": "0d930bd9",
   "metadata": {},
   "outputs": [
    {
     "data": {
      "text/plain": [
       "'lkajsdf'"
      ]
     },
     "execution_count": 2,
     "metadata": {},
     "output_type": "execute_result"
    }
   ],
   "source": [
    "# lists for sequences... get things by index\n",
    "\n",
    "i_am_a_list=[1,2,'lkajsdf',None]\n",
    "\n",
    "i_am_a_list[2]"
   ]
  },
  {
   "cell_type": "code",
   "execution_count": 9,
   "id": "d7515ad6",
   "metadata": {},
   "outputs": [
    {
     "name": "stdout",
     "output_type": "stream",
     "text": [
      "definition2\n",
      "False\n"
     ]
    }
   ],
   "source": [
    "\n",
    "# dictionaries... for looking up something\n",
    "\n",
    "# just like a real dictionary (book)\n",
    "i_am_a_dict = {'word1':'definition1', \n",
    "              'word2':'definition2'}\n",
    "print(i_am_a_dict['word2']) #dictionary lookup gets replaced by value\n",
    "\n",
    "# lookup anything... like an employee's salary\n",
    "salary_dict = {'employee1':3, \n",
    "              'employee2':17}\n",
    "print(salary_dict['employee1'] > salary_dict['employee1']) #dictionary lookup gets replaced by value"
   ]
  },
  {
   "cell_type": "markdown",
   "id": "9a2b744f",
   "metadata": {},
   "source": [
    "# difference between print and return"
   ]
  },
  {
   "cell_type": "code",
   "execution_count": 11,
   "id": "337f66fa",
   "metadata": {},
   "outputs": [
    {
     "name": "stdout",
     "output_type": "stream",
     "text": [
      "zero!\n",
      "\n",
      "positive\n",
      "not negative!\n",
      "\n",
      "negative\n"
     ]
    },
    {
     "data": {
      "text/plain": [
       "'not positive'"
      ]
     },
     "execution_count": 11,
     "metadata": {},
     "output_type": "execute_result"
    }
   ],
   "source": [
    "# you can have prints inside a function... they happen during a call\n",
    "# generally speaking return values do NOT get automatically printed\n",
    "# BUT they do if they are the LAST return value of a cell\n",
    "\n",
    "\n",
    "def my_fun(arg1):\n",
    "    if arg1>0:\n",
    "        print('positive')\n",
    "        val = 'not negative!'\n",
    "    elif arg1<0:\n",
    "        print('negative')\n",
    "        val = 'not positive'\n",
    "    else:  # only go here if arg==0\n",
    "        print('zero!')\n",
    "        val = 'not pos or neg!'\n",
    "        \n",
    "    return val\n",
    "\n",
    "my_fun(0) #  return value 'not pos or neg!' but its silent without a print statement \n",
    "print()\n",
    "\n",
    "print(my_fun(1)) # return value 'not positive' but its silent without a print statement \n",
    "print()\n",
    "\n",
    "my_fun(-2) # return value gets printed because its the last one, so it gets echoed to screen\n",
    "\n"
   ]
  },
  {
   "cell_type": "markdown",
   "id": "57b0e4bc",
   "metadata": {},
   "source": [
    "# Command line"
   ]
  },
  {
   "cell_type": "code",
   "execution_count": 8,
   "id": "0a68a5f5",
   "metadata": {},
   "outputs": [
    {
     "name": "stdout",
     "output_type": "stream",
     "text": [
      "/Users/jasonfleischer/Code_local/COGS18/Exams/Review\r\n"
     ]
    }
   ],
   "source": [
    "!pwd"
   ]
  },
  {
   "cell_type": "code",
   "execution_count": 9,
   "id": "3d29056f",
   "metadata": {},
   "outputs": [
    {
     "name": "stdout",
     "output_type": "stream",
     "text": [
      "\u001b[34mE1-Practice\u001b[m\u001b[m             E1-Review-old.ipynb     E2-Review-Answers.ipynb\r\n",
      "E1-Practice.ipynb       E1-Review.ipynb         E2-Review.ipynb\r\n",
      "E1-Review-Answers.ipynb E2-Practice.ipynb       Untitled.ipynb\r\n"
     ]
    }
   ],
   "source": [
    "!ls"
   ]
  },
  {
   "cell_type": "code",
   "execution_count": 28,
   "id": "ad22871e",
   "metadata": {},
   "outputs": [],
   "source": [
    "!touch newfile_here"
   ]
  },
  {
   "cell_type": "code",
   "execution_count": 29,
   "id": "9bae536d",
   "metadata": {
    "scrolled": true
   },
   "outputs": [
    {
     "name": "stdout",
     "output_type": "stream",
     "text": [
      "\u001b[34mE1-Practice\u001b[m\u001b[m             E1-Review.ipynb         Untitled.ipynb\r\n",
      "E1-Practice.ipynb       E2-Practice.ipynb       newfile_here\r\n",
      "E1-Review-Answers.ipynb E2-Review-Answers.ipynb\r\n",
      "E1-Review-old.ipynb     E2-Review.ipynb\r\n"
     ]
    }
   ],
   "source": [
    "!ls"
   ]
  },
  {
   "cell_type": "markdown",
   "id": "f2a03a85",
   "metadata": {},
   "source": [
    "# Modules\n",
    "1. built into python... just import it\n",
    "1. other people made available on pypi... pip install\n",
    "1. i can write my own modules... all i need is a local directory file.py... `import file`"
   ]
  },
  {
   "cell_type": "code",
   "execution_count": 7,
   "id": "1be773ca",
   "metadata": {},
   "outputs": [
    {
     "name": "stdout",
     "output_type": "stream",
     "text": [
      "['E2-Practice.ipynb', '.DS_Store', 'E2-Review-Answers.ipynb', 'E1-Practice', 'E1-Practice.ipynb', 'E2-Review.ipynb', 'E1-Review-old.ipynb', 'newfile_here', 'E1-Review.ipynb', 'Final_Review_Student_Questions.ipynb', '.ipynb_checkpoints', 'E1-Review-Answers.ipynb']\n"
     ]
    }
   ],
   "source": [
    "#use a built in module\n",
    "\n",
    "import os\n",
    "\n",
    "files_to_process = os.listdir()\n",
    "print(files_to_process)"
   ]
  },
  {
   "cell_type": "code",
   "execution_count": 8,
   "id": "370963f0",
   "metadata": {},
   "outputs": [
    {
     "name": "stdout",
     "output_type": "stream",
     "text": [
      "Collecting astral\n",
      "  Downloading astral-3.2-py3-none-any.whl (38 kB)\n",
      "Installing collected packages: astral\n",
      "Successfully installed astral-3.2\n"
     ]
    }
   ],
   "source": [
    "!pip install astral\n",
    "# a good use of the commadn line, install modules you dont have"
   ]
  },
  {
   "cell_type": "markdown",
   "id": "d4e5c79a",
   "metadata": {},
   "source": [
    "# Classes\n",
    "\n",
    "Design a class when you need to do something repeatedly, like run a tournament every 4 years"
   ]
  },
  {
   "cell_type": "code",
   "execution_count": 24,
   "id": "21ab5553",
   "metadata": {},
   "outputs": [],
   "source": [
    "# define a class\n",
    "# difference between attributes that are always the same\n",
    "# vs attributes set by the initializer\n",
    "\n",
    "class WorldCup():\n",
    "    owner = 'FIFA'\n",
    "    \n",
    "    def __init__(self, team_list):\n",
    "        self.teams = team_list\n",
    "        \n",
    "    def play_match(self, team1, team2):\n",
    "        pass\n",
    "    \n",
    "    def political_protest(self, nation, cause):\n",
    "        pass\n",
    "    \n",
    "    def print_standings():\n",
    "        pass\n",
    "    \n",
    "    \n",
    "        \n",
    "        "
   ]
  },
  {
   "cell_type": "code",
   "execution_count": 25,
   "id": "9dd179c8",
   "metadata": {},
   "outputs": [
    {
     "data": {
      "text/plain": [
       "(['Russia', 'England'], 'FIFA')"
      ]
     },
     "execution_count": 25,
     "metadata": {},
     "output_type": "execute_result"
    }
   ],
   "source": [
    "WC2018 = WorldCup(['Russia','England'])\n",
    "WC2018.teams, WC2018.owner"
   ]
  },
  {
   "cell_type": "code",
   "execution_count": 27,
   "id": "dea06354",
   "metadata": {},
   "outputs": [
    {
     "data": {
      "text/plain": [
       "(['USA', 'England'], 'FIFA')"
      ]
     },
     "execution_count": 27,
     "metadata": {},
     "output_type": "execute_result"
    }
   ],
   "source": [
    "WC2022 = WorldCup(['USA',\"England\"])\n",
    "\n",
    "WC2022.teams, WC2022.owner"
   ]
  },
  {
   "cell_type": "code",
   "execution_count": null,
   "id": "8026a927",
   "metadata": {},
   "outputs": [],
   "source": []
  }
 ],
 "metadata": {
  "kernelspec": {
   "display_name": "Python 3 (ipykernel)",
   "language": "python",
   "name": "python3"
  },
  "language_info": {
   "codemirror_mode": {
    "name": "ipython",
    "version": 3
   },
   "file_extension": ".py",
   "mimetype": "text/x-python",
   "name": "python",
   "nbconvert_exporter": "python",
   "pygments_lexer": "ipython3",
   "version": "3.9.12"
  }
 },
 "nbformat": 4,
 "nbformat_minor": 5
}
