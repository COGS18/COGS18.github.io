{
 "cells": [
  {
   "cell_type": "markdown",
   "metadata": {
    "nbgrader": {
     "grade": false,
     "grade_id": "intro",
     "locked": true,
     "schema_version": 3,
     "solution": false
    }
   },
   "source": [
    "# COGS 18 - Practice Final Exam\n",
    "\n",
    "This is the practice final exam for Fall 2020. It covers topics through the end of the course.\n",
    "\n",
    "This exam is out of 0 points, worth 0% of your grade. \n",
    "\n",
    "**PLEASE DO NOT CHANGE THE NAME OF THIS FILE.**\n",
    "\n",
    "**PLEASE DO NOT COPY & PASTE OR DELETE CELLS INLCUDED IN THE EXAM.** (Note that you can add additional cells, if you want to test things out."
   ]
  },
  {
   "cell_type": "markdown",
   "metadata": {
    "nbgrader": {
     "grade": false,
     "grade_id": "instructions1",
     "locked": true,
     "schema_version": 3,
     "solution": false
    }
   },
   "source": [
    "## Instructions\n",
    "\n",
    "#### Timing\n",
    "- The exam is designed to take you ~2-3 hours.\n",
    "- If it takes you longer than 2-3 hours, you're free to use that time.\n",
    "- Regardless of when you start, the exam must be submited by Mon 12/14 at 11:59 PM.\n",
    "\n",
    "#### The Rules\n",
    "- You are to complete this exam on your own.\n",
    "- This is open-notes & open-Google\n",
    "- You may not talk to any humans about this exam. \n",
    "- The following are all *prohibited*:\n",
    "    - text/phone/online chat communication\n",
    "    - posting questions to a message board where a human could respond\n",
    "    - asking anyone via any form about a question on this test directly\n",
    "- Clarification questions will ***not*** be allowed and there will be no posting on Piazza about the exam at all. \n",
    "    - Piazza posts about the exam will not be answered and will be deleted. \n",
    "    - Students who post questions about the exam to Piazza are at risk of losing points on the exam.\n",
    "    - If you are confused about wording, add a note to your exam explaining your confusion and how you interpreted the question. \n",
    "    - Note: This policy is b/c we are incapable of responding for all of the time when the exam is being completed. This is the only way to make it fair across the board for students."
   ]
  },
  {
   "cell_type": "markdown",
   "metadata": {
    "nbgrader": {
     "grade": false,
     "grade_id": "instructions2",
     "locked": true,
     "schema_version": 3,
     "solution": false
    }
   },
   "source": [
    " <span style=\"color: red;\">Note: </span> There _is_ a chance for partial credit on some questions, so _some_ code is better than _no_ code. Even if it throws an error, having some code that partially answers the question will benefit you/your grade."
   ]
  },
  {
   "cell_type": "markdown",
   "metadata": {
    "nbgrader": {
     "grade": false,
     "grade_id": "part1",
     "locked": true,
     "schema_version": 3,
     "solution": false
    }
   },
   "source": [
    "## Part 1: Variables, Conditionals, & Loops (3.5 points)\n",
    "\n",
    "Review E1 for material in this section"
   ]
  },
  {
   "cell_type": "markdown",
   "metadata": {
    "nbgrader": {
     "grade": false,
     "grade_id": "q1",
     "locked": true,
     "schema_version": 3,
     "solution": false
    }
   },
   "source": [
    "### Q1 - Conditionals (2 points)"
   ]
  },
  {
   "cell_type": "markdown",
   "metadata": {
    "nbgrader": {
     "grade": false,
     "grade_id": "q2",
     "locked": true,
     "schema_version": 3,
     "solution": false
    }
   },
   "source": [
    "### Q2 - Loops (1.5 points)"
   ]
  },
  {
   "cell_type": "markdown",
   "metadata": {
    "nbgrader": {
     "grade": false,
     "grade_id": "part2",
     "locked": true,
     "schema_version": 3,
     "solution": false
    }
   },
   "source": [
    "## Part 2: Functions & Testing (5 points)"
   ]
  },
  {
   "cell_type": "markdown",
   "metadata": {
    "nbgrader": {
     "grade": false,
     "grade_id": "q3",
     "locked": true,
     "schema_version": 3,
     "solution": false
    }
   },
   "source": [
    "### Q3 - `years_to_days` (2.5 points)\n",
    "\n",
    "Write a function `years_to_days()` that takes the number of years as its input and then convers that to days (You should assume there are 365 days in a year for this question.) Return the number of days from the function as an integer.\n",
    "\n",
    "Note:\n",
    "- You can assume the input val is numeric\n",
    "- This function is admittedly _less_ involved than the function on your exam, so that we can focus on the new material"
   ]
  },
  {
   "cell_type": "code",
   "execution_count": 1,
   "metadata": {
    "nbgrader": {
     "grade": false,
     "grade_id": "q3-solution",
     "locked": false,
     "schema_version": 3,
     "solution": true
    }
   },
   "outputs": [],
   "source": [
    "### BEGIN SOLUTION\n",
    "def years_to_days(val):\n",
    "    return int(val*365)\n",
    "### END SOLUTION"
   ]
  },
  {
   "cell_type": "code",
   "execution_count": 8,
   "metadata": {
    "nbgrader": {
     "grade": true,
     "grade_id": "q3-test1",
     "locked": true,
     "points": 0.25,
     "schema_version": 3,
     "solution": false,
     "task": false
    }
   },
   "outputs": [],
   "source": [
    "assert years_to_days is not None\n",
    "\n",
    "assert years_to_days(1) == 365\n",
    "assert years_to_days(1.5) == 547"
   ]
  },
  {
   "cell_type": "markdown",
   "metadata": {
    "nbgrader": {
     "grade": false,
     "grade_id": "q3-test3",
     "locked": true,
     "points": 1,
     "schema_version": 3,
     "solution": false,
     "task": true
    }
   },
   "source": [
    "**This \"blank\" cell included intentionally.** Do not do anything here. (It's being used in grading.)\n",
    "\n",
    "=== BEGIN MARK SCHEME ===\n",
    "\n",
    "RUBRIC USED IN GRADING\n",
    "                                                                        \n",
    "=== END MARK SCHEME ==="
   ]
  },
  {
   "cell_type": "markdown",
   "metadata": {
    "nbgrader": {
     "grade": false,
     "grade_id": "q4",
     "locked": true,
     "schema_version": 3,
     "solution": false,
     "task": false
    }
   },
   "source": [
    "### Q4 - Test Function: `test_years_to_days` (2.5 points)\n",
    "\n",
    "Write a test function `test_years_to_days()` that:\n",
    "\n",
    "1. contains at least three asserts that test the functionality of `years_to_days()`\n",
    "2. passes silently when executed"
   ]
  },
  {
   "cell_type": "code",
   "execution_count": 3,
   "metadata": {
    "nbgrader": {
     "grade": false,
     "grade_id": "q4-solution",
     "locked": false,
     "schema_version": 3,
     "solution": true,
     "task": false
    }
   },
   "outputs": [],
   "source": [
    "# specific tests will differ\n",
    "def test_years_to_days():\n",
    "    assert callable(years_to_days)\n",
    "    assert isinstance(years_to_days(1), int)\n",
    "    assert years_to_days(1) == 365\n",
    "    assert years_to_days(1.5) == 547"
   ]
  },
  {
   "cell_type": "code",
   "execution_count": 4,
   "metadata": {
    "nbgrader": {
     "grade": true,
     "grade_id": "q4-test1",
     "locked": true,
     "points": 0.5,
     "schema_version": 3,
     "solution": false,
     "task": false
    }
   },
   "outputs": [],
   "source": [
    "assert callable(test_years_to_days)\n",
    "\n",
    "try:\n",
    "    test_years_to_days()\n",
    "    out = 'good'\n",
    "except:\n",
    "    out = 'bad'\n",
    "    \n",
    "assert out == 'good'"
   ]
  },
  {
   "cell_type": "markdown",
   "metadata": {
    "nbgrader": {
     "grade": false,
     "grade_id": "q4-test2",
     "locked": true,
     "points": 1,
     "schema_version": 3,
     "solution": false,
     "task": true
    }
   },
   "source": [
    "**This \"blank\" cell included intentionally.** Do not do anything here. (It's being used in grading.)\n",
    "\n",
    "=== BEGIN MARK SCHEME ===\n",
    "\n",
    "RUBRIC USED IN GRADING\n",
    "\n",
    "=== END MARK SCHEME ==="
   ]
  },
  {
   "cell_type": "markdown",
   "metadata": {
    "nbgrader": {
     "grade": false,
     "grade_id": "part-3",
     "locked": true,
     "schema_version": 3,
     "solution": false,
     "task": false
    }
   },
   "source": [
    "## Part 3: Style & Documentation (11 points)"
   ]
  },
  {
   "cell_type": "markdown",
   "metadata": {
    "nbgrader": {
     "grade": false,
     "grade_id": "q5",
     "locked": true,
     "schema_version": 3,
     "solution": false
    }
   },
   "source": [
    "### Q5 - Code Style (3 points)\n",
    "\n",
    "In the file `years.py`, there is a function `days_to_years()`. The code is functional; however, the API/naming and code style need improvement. And, documentation and code comments are completely missing.\n",
    "\n",
    "Edit the function in `years.py` to:\n",
    "1. Improve the function's API/naming (but: do *not* change the function's name)\n",
    "2. Improve the overall code style (using what we discussed in class about PEP8)\n",
    "3. Add a `numpy` style docstring (at the level discussed in class)\n",
    "4. Add code comments where needed\n",
    "\n",
    "Be sure to save changes in `years.py` when completed. \n",
    "\n",
    "Note: You do not have to actually add any code to this notebook for this question."
   ]
  },
  {
   "cell_type": "markdown",
   "metadata": {
    "nbgrader": {
     "grade": false,
     "grade_id": "q5-test2",
     "locked": true,
     "points": 2,
     "schema_version": 3,
     "solution": false,
     "task": true
    }
   },
   "source": [
    "**This \"blank\" cell included intentionally.** Do not do anything here. (It's being used in grading.)\n",
    "\n",
    "=== BEGIN MARK SCHEME ===\n",
    "\n",
    "RUBRIC USED IN GRADING\n",
    "\n",
    "=== END MARK SCHEME ==="
   ]
  },
  {
   "cell_type": "markdown",
   "metadata": {
    "nbgrader": {
     "grade": false,
     "grade_id": "q6",
     "locked": true,
     "schema_version": 3,
     "solution": false
    }
   },
   "source": [
    "### Q6 - `years.py` (1 point)\n",
    "\n",
    "You now have two functions and two test functions, but they're not all yet organized! Let's do that now...\n",
    "\n",
    "**`years.py`**\n",
    "1. Add `years_to_days()` (from Q3) to `years.py`\n",
    "2. Add a `numpy`-style docstring & appropriate code comments to `years_to_days()` (if you haven't already).\n",
    "3. Double check the naming/code style used in `years_to_days()` - improve if needed\n",
    "\n",
    "**`test_years.py`**\n",
    "1. Add `test_years_to_days` (from Q4) to `test_years.py`\n",
    "2. Update `import` statement at top (if needed)\n",
    "\n",
    "Once completed, `import` both of the functions from `years.py` below, such that the code `yr.years_to_days(1)` and `yr.days_to_years(365)` both execute without issue.\n",
    "\n",
    "Note: You may have to restart your kernel for the `import` to work without issue."
   ]
  },
  {
   "cell_type": "markdown",
   "metadata": {},
   "source": [
    "What should be in `years.py`:"
   ]
  },
  {
   "cell_type": "code",
   "execution_count": 1,
   "metadata": {},
   "outputs": [],
   "source": [
    "def days_to_years(input_days):\n",
    "    \"\"\"convert input value into years\n",
    "    \n",
    "    Parameters\n",
    "    ----------\n",
    "    input_days: int or float\n",
    "        input number of days to be converted\n",
    "    \n",
    "    Returns\n",
    "    -------\n",
    "    output_years: float\n",
    "        converted value in years\n",
    "    \n",
    "    \"\"\"\n",
    "    \n",
    "    # convert to years, round to two decimal place\n",
    "    output_years = input_days/365\n",
    "    output_years = round(output_years, 2)\n",
    "   \n",
    "    return output_years\n",
    "\n",
    "def years_to_days(input_years):\n",
    "    \"\"\"convert input value into days\n",
    "    \n",
    "    Parameters\n",
    "    ----------\n",
    "    input_years: int or float\n",
    "        input number of years to be converted\n",
    "    \n",
    "    Returns\n",
    "    -------\n",
    "    output_days: float\n",
    "        converted value in years\n",
    "    \n",
    "    \"\"\"\n",
    "    \n",
    "    output_days = int(input_years * 365)\n",
    "    \n",
    "    return output_days\n"
   ]
  },
  {
   "cell_type": "markdown",
   "metadata": {},
   "source": [
    "What should be in `test_years.py`:"
   ]
  },
  {
   "cell_type": "code",
   "execution_count": null,
   "metadata": {},
   "outputs": [],
   "source": [
    "from years import days_to_years, years_to_days\n",
    "\n",
    "# specific asserts will vary\n",
    "def test_days_to_years():\n",
    "    assert callable(days_to_years)\n",
    "    assert isinstance(days_to_years(365), float)\n",
    "    assert days_to_years(365) == 1\n",
    "    assert days_to_years(547) == 1.5\n",
    "\n",
    "\n",
    "def test_years_to_days():\n",
    "    assert callable(years_to_days)\n",
    "    assert isinstance(years_to_days(1), int)\n",
    "    assert years_to_days(1) == 365\n",
    "    assert years_to_days(1.5) == 547"
   ]
  },
  {
   "cell_type": "code",
   "execution_count": 12,
   "metadata": {
    "nbgrader": {
     "grade": false,
     "grade_id": "q6-solution",
     "locked": false,
     "schema_version": 3,
     "solution": true
    }
   },
   "outputs": [],
   "source": [
    "import years as yr"
   ]
  },
  {
   "cell_type": "code",
   "execution_count": 13,
   "metadata": {},
   "outputs": [],
   "source": [
    "# BE SURE YOUR ANSWER IS IN THE CELL ABOVE\n",
    "# but you can use this cell to check your work (optional)"
   ]
  },
  {
   "cell_type": "code",
   "execution_count": 14,
   "metadata": {
    "nbgrader": {
     "grade": true,
     "grade_id": "q6-test1",
     "locked": true,
     "points": 0.5,
     "schema_version": 3,
     "solution": false
    }
   },
   "outputs": [],
   "source": [
    "assert callable(yr.years_to_days)\n",
    "\n",
    "assert yr.years_to_days(1) == 365"
   ]
  },
  {
   "cell_type": "code",
   "execution_count": null,
   "metadata": {
    "nbgrader": {
     "grade": true,
     "grade_id": "q6-test2",
     "locked": true,
     "points": 0.5,
     "schema_version": 3,
     "solution": false,
     "task": false
    }
   },
   "outputs": [],
   "source": [
    "assert callable(yr.days_to_years)\n",
    "\n",
    "assert yr.days_to_years(365) == 1"
   ]
  },
  {
   "cell_type": "code",
   "execution_count": null,
   "metadata": {
    "nbgrader": {
     "grade": true,
     "grade_id": "cell-497239bfb9a2aae3",
     "locked": true,
     "points": 0,
     "schema_version": 3,
     "solution": false,
     "task": false
    }
   },
   "outputs": [],
   "source": [
    "# hidden test to run pytest\n",
    "# to run pytest\n",
    "!pytest test_years.py"
   ]
  },
  {
   "cell_type": "markdown",
   "metadata": {
    "nbgrader": {
     "grade": false,
     "grade_id": "q6-test4",
     "locked": true,
     "points": 1,
     "schema_version": 3,
     "solution": false,
     "task": true
    }
   },
   "source": [
    "**This \"blank\" cell included intentionally.** Do not do anything here. (It's being used in grading.)\n",
    "\n",
    "\n",
    "=== BEGIN MARK SCHEME ===\n",
    "\n",
    "RUBRIC USED FOR GRADING\n",
    "\n",
    "=== END MARK SCHEME ==="
   ]
  },
  {
   "cell_type": "markdown",
   "metadata": {
    "nbgrader": {
     "grade": false,
     "grade_id": "q7",
     "locked": true,
     "schema_version": 3,
     "solution": false,
     "task": false
    }
   },
   "source": [
    "### Q7 - Function II (7.25 points)\n",
    "\n",
    "Another function + code style + documentation + import question will be included here"
   ]
  },
  {
   "cell_type": "markdown",
   "metadata": {
    "nbgrader": {
     "grade": false,
     "grade_id": "part-4",
     "locked": true,
     "schema_version": 3,
     "solution": false,
     "task": false
    }
   },
   "source": [
    "## Part 4: True/False (1.5 points)"
   ]
  },
  {
   "cell_type": "markdown",
   "metadata": {
    "nbgrader": {
     "grade": false,
     "grade_id": "q8",
     "locked": true,
     "schema_version": 3,
     "solution": false,
     "task": false
    }
   },
   "source": [
    "### Q8 - True/False (1.5 points)\n",
    "\n",
    "Following the instructions & example above, store the appropriate boolean in the variable provided for each of the following statements:\n",
    "\n",
    "- `objects` | In Python, everything is an object"
   ]
  },
  {
   "cell_type": "code",
   "execution_count": 21,
   "metadata": {
    "nbgrader": {
     "grade": false,
     "grade_id": "q8a",
     "locked": false,
     "schema_version": 3,
     "solution": true,
     "task": false
    }
   },
   "outputs": [],
   "source": [
    "### BEGIN SOLUTION\n",
    "objects = True\n",
    "### END SOLUTION"
   ]
  },
  {
   "cell_type": "code",
   "execution_count": 26,
   "metadata": {
    "nbgrader": {
     "grade": true,
     "grade_id": "q8-test5",
     "locked": true,
     "points": 0.25,
     "schema_version": 3,
     "solution": false,
     "task": false
    }
   },
   "outputs": [],
   "source": [
    "assert objects is not None\n",
    "\n",
    "### BEGIN HIDDEN TESTS\n",
    "assert objects\n",
    "### END HIDDEN TESTS"
   ]
  },
  {
   "cell_type": "markdown",
   "metadata": {
    "nbgrader": {
     "grade": false,
     "grade_id": "fin",
     "locked": true,
     "schema_version": 3,
     "solution": false
    }
   },
   "source": [
    "### Final Exam complete!\n",
    "\n",
    "Good work - you're done with the final exam!\n",
    "\n",
    "Check your work, and then when you're ready, **submit on datahub**.\n",
    "\n",
    "We will not have your exam until you click submit and see this show up under 'submitted assignments'."
   ]
  }
 ],
 "metadata": {
  "celltoolbar": "Create Assignment",
  "kernelspec": {
   "display_name": "Python 3",
   "language": "python",
   "name": "python3"
  },
  "language_info": {
   "codemirror_mode": {
    "name": "ipython",
    "version": 3
   },
   "file_extension": ".py",
   "mimetype": "text/x-python",
   "name": "python",
   "nbconvert_exporter": "python",
   "pygments_lexer": "ipython3",
   "version": "3.7.9"
  }
 },
 "nbformat": 4,
 "nbformat_minor": 2
}
