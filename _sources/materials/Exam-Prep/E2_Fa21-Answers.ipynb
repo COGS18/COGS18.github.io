{
 "cells": [
  {
   "cell_type": "markdown",
   "id": "a08723b5",
   "metadata": {
    "nbgrader": {
     "grade": false,
     "grade_id": "intro",
     "locked": true,
     "schema_version": 3,
     "solution": false
    }
   },
   "source": [
    "# COGS 18 - Exam 2\n",
    "\n",
    "This is the second exam for Fall 2021. It covers topics through the Classes Lecture.\n",
    "\n",
    "This total exam is out of 12.5 points, worth 12.5% of your grade. \n",
    "\n",
    "**PLEASE DO NOT CHANGE THE NAME OF THIS FILE.**\n",
    "\n",
    "**PLEASE DO NOT COPY & PASTE OR DELETE CELLS INLCUDED IN THE EXAM.** (Note that you can add additional cells, if you want to test things out."
   ]
  },
  {
   "cell_type": "markdown",
   "id": "87b0eb79",
   "metadata": {
    "nbgrader": {
     "grade": false,
     "grade_id": "instructions",
     "locked": true,
     "schema_version": 3,
     "solution": false
    }
   },
   "source": [
    "## Instructions\n",
    "\n",
    "#### Timing\n",
    "- The exam is designed to take you ~1h.\n",
    "- There will be a >24 hour window during which you can complete this exam (due **Mon 8AM**).\n",
    "- If it takes you longer than 1h, you're free to use that time.\n",
    "\n",
    "#### The Rules\n",
    "- You are to complete this exam on your own.\n",
    "- This is open-notes & open-Google\n",
    "- You may not talk to any humans about this exam. \n",
    "- The following are all *prohibited*:\n",
    "    - text/phone/online chat communication\n",
    "    - posting questions to a message board where a human could respond (Campuswire, Discord, Chegg, any similar site)\n",
    "    - viewing exam questions from a message board (as described above)\n",
    "    - asking anyone via any form about a question on this test directly\n",
    "- Clarification questions will ***not*** be allowed and there will be no posting on Campuswire about the exam at all. \n",
    "    - Campuswire posts about the exam will not be answered and will be deleted. \n",
    "    - Students who post questions about the exam to Campuswire are at risk of losing points on the exam.\n",
    "    - If you are confused about wording, add a note to your exam explaining your confusion and how you interpreted the question. \n",
    "    - Note: This policy is b/c we are incapable of responding for 24h straight. This is the only way to make it fair across the board for students."
   ]
  },
  {
   "cell_type": "markdown",
   "id": "79e51fd5",
   "metadata": {
    "nbgrader": {
     "grade": false,
     "grade_id": "cell-26b08bd4b5ba54ab",
     "locked": true,
     "schema_version": 3,
     "solution": false
    }
   },
   "source": [
    " <span style=\"color: red;\">Note: </span> There _is_ a chance for partial credit on some questions, so _some_ code is better than _no_ code. Even if it throws an error, having some code that partially answers the question will benefit you/your grade."
   ]
  },
  {
   "cell_type": "markdown",
   "id": "d90e1fd6",
   "metadata": {
    "nbgrader": {
     "grade": false,
     "grade_id": "cell-4d8581ac45c24683",
     "locked": true,
     "schema_version": 3,
     "solution": false,
     "task": false
    }
   },
   "source": [
    "### Q0 - Honor Code (0.1 points)\n",
    "\n",
    "In the cell below, include a variable `honor_code` that stores the boolean `True` if you agree to the following statement:\n",
    "\n",
    ">I agree that this exam was completed individually with the knowlege in my brain, information the notes from this course, and/or with searching for help on the Internet *without searching for answers to the text from these questions directly*. I did not ask anyone about specific questions on this exam. I did not post these questions (in part or in whole) on the Internet. I did not copy answers to these questions from anywhere or anyone else. I understand all code I've written on this exam and could explain my answers to someone else if asked.\n"
   ]
  },
  {
   "cell_type": "code",
   "execution_count": 1,
   "id": "76ca9e8b",
   "metadata": {
    "nbgrader": {
     "grade": false,
     "grade_id": "cell-9dae831891d7a1ad",
     "locked": false,
     "schema_version": 3,
     "solution": true,
     "task": false
    }
   },
   "outputs": [],
   "source": [
    "### BEGIN SOLUTION\n",
    "honor_code = True\n",
    "### END SOLUTION"
   ]
  },
  {
   "cell_type": "code",
   "execution_count": 2,
   "id": "ee21b924",
   "metadata": {
    "nbgrader": {
     "grade": true,
     "grade_id": "cell-8a6d1a928512e45c",
     "locked": true,
     "points": 0.1,
     "schema_version": 3,
     "solution": false,
     "task": false
    }
   },
   "outputs": [],
   "source": [
    "assert honor_code"
   ]
  },
  {
   "cell_type": "markdown",
   "id": "4389bd08",
   "metadata": {
    "nbgrader": {
     "grade": false,
     "grade_id": "part2",
     "locked": true,
     "schema_version": 3,
     "solution": false,
     "task": false
    }
   },
   "source": [
    "## Part 1: Methods & Debugging (3.5 points)"
   ]
  },
  {
   "cell_type": "markdown",
   "id": "f27c3f5a",
   "metadata": {
    "nbgrader": {
     "grade": false,
     "grade_id": "q5",
     "locked": true,
     "schema_version": 3,
     "solution": false,
     "task": false
    }
   },
   "source": [
    "### Q1 - Method I (0.75 points)\n",
    "\n",
    "`istitle()` is a string method that determines if the string follows the rules of a title (meaning the first letter of each distinct word is upper case while all other letters are lower case).\n",
    "\n",
    "Use the `istitle()` method on two strings (of your choosing) below to create two variables:\n",
    "- `true_var` | should store the value `True`\n",
    "- `false_var` | should store the value `False`"
   ]
  },
  {
   "cell_type": "code",
   "execution_count": 3,
   "id": "2d7daede",
   "metadata": {
    "nbgrader": {
     "grade": false,
     "grade_id": "cell-09260f9c394a5905",
     "locked": false,
     "schema_version": 3,
     "solution": true,
     "task": false
    }
   },
   "outputs": [],
   "source": [
    "### BEGIN SOLUTION\n",
    "true_var = 'My Title'.istitle()\n",
    "false_var = 'MY TITLE'.istitle()\n",
    "### END SOLUTION"
   ]
  },
  {
   "cell_type": "code",
   "execution_count": 4,
   "id": "4f8fb416",
   "metadata": {
    "nbgrader": {
     "grade": true,
     "grade_id": "cell-e9a5e70357e98aef",
     "locked": true,
     "points": 0.2,
     "schema_version": 3,
     "solution": false,
     "task": false
    }
   },
   "outputs": [],
   "source": [
    "assert true_var is not None\n",
    "### BEGIN HIDDEN TESTS\n",
    "assert true_var\n",
    "### END HIDDEN TESTS"
   ]
  },
  {
   "cell_type": "code",
   "execution_count": 5,
   "id": "c56e663e",
   "metadata": {
    "nbgrader": {
     "grade": true,
     "grade_id": "cell-12001d8195362930",
     "locked": true,
     "points": 0.2,
     "schema_version": 3,
     "solution": false,
     "task": false
    }
   },
   "outputs": [],
   "source": [
    "assert false_var is not None\n",
    "### BEGIN HIDDEN TESTS\n",
    "assert not false_var\n",
    "### END HIDDEN TESTS"
   ]
  },
  {
   "cell_type": "markdown",
   "id": "ee946171",
   "metadata": {
    "nbgrader": {
     "grade": false,
     "grade_id": "cell-122f520b60ffe1a4",
     "locked": true,
     "points": 0.35,
     "schema_version": 3,
     "solution": false,
     "task": true
    }
   },
   "source": [
    "**This \"blank\" cell included intentionally.** Do not do anything here. (It's being used in grading.)\n",
    "\n",
    "=== BEGIN MARK SCHEME ===\n",
    "\n",
    "- uses `istitle()` syntax correctly (**0.35 pts**)\n",
    "\n",
    "=== END MARK SCHEME ==="
   ]
  },
  {
   "cell_type": "markdown",
   "id": "48d81c26",
   "metadata": {
    "nbgrader": {
     "grade": false,
     "grade_id": "q4",
     "locked": true,
     "schema_version": 3,
     "solution": false,
     "task": false
    }
   },
   "source": [
    "### Q2 - Method II (1.25 points)\n",
    "\n",
    "\n",
    "Using the `count()` method, code constructs discussed in class, and referencing the `prof_day` variable provided below, generate a dictionary `prof_events`, whose keys are each of the unique elements in `prof_day` and whose corresponding values are the number of times each value shows up in `prof_day`.\n",
    "\n",
    "\n",
    "Notes:\n",
    "- `prof_day` has been defined for you below\n",
    "- `count()` is a list method that counts the number of appearances of a specified element in a list.\n",
    "- Do not hard-code. You should use code contructs to determine `prof_events`."
   ]
  },
  {
   "cell_type": "code",
   "execution_count": 6,
   "id": "1a6d7970",
   "metadata": {
    "nbgrader": {
     "grade": false,
     "grade_id": "cell-95584769973d2b99",
     "locked": true,
     "schema_version": 3,
     "solution": false,
     "task": false
    }
   },
   "outputs": [],
   "source": [
    "# this variable provided for you\n",
    "# you will not be able to edit this cell\n",
    "prof_day = ['write one exam', 'write one exam', 'grade exam', 'answer email', 'office hours', 'staff meeting']"
   ]
  },
  {
   "cell_type": "code",
   "execution_count": 7,
   "id": "3a171e35",
   "metadata": {
    "nbgrader": {
     "grade": true,
     "grade_id": "cell-7a6a3d58d51c19da",
     "locked": true,
     "points": 0,
     "schema_version": 3,
     "solution": false,
     "task": false
    }
   },
   "outputs": [],
   "source": [
    "# hidden code being used in grading\n",
    "### BEGIN HIDDEN TESTS\n",
    "# change one value in list to ensure code still executes (aka is not hard-coded)\n",
    "prof_day = ['write one exam', 'write one exam', 'answer email', 'answer email', 'office hours', 'staff meeting']\n",
    "### END HIDDEN TESTS"
   ]
  },
  {
   "cell_type": "code",
   "execution_count": 8,
   "id": "9761392e",
   "metadata": {
    "nbgrader": {
     "grade": false,
     "grade_id": "cell-3c6ed1cf0c8f8681",
     "locked": false,
     "schema_version": 3,
     "solution": true,
     "task": false
    }
   },
   "outputs": [
    {
     "data": {
      "text/plain": [
       "{'write one exam': 2, 'answer email': 2, 'office hours': 1, 'staff meeting': 1}"
      ]
     },
     "execution_count": 8,
     "metadata": {},
     "output_type": "execute_result"
    }
   ],
   "source": [
    "### BEGIN SOLUTION\n",
    "prof_events = {}\n",
    "\n",
    "for ele in prof_day:\n",
    "    prof_events[ele] = prof_day.count(ele)\n",
    "\n",
    "prof_events\n",
    "### END SOLUTION"
   ]
  },
  {
   "cell_type": "code",
   "execution_count": 9,
   "id": "54279d62",
   "metadata": {
    "nbgrader": {
     "grade": true,
     "grade_id": "cell-8e0910a9129a07a1",
     "locked": true,
     "points": 0.25,
     "schema_version": 3,
     "solution": false,
     "task": false
    }
   },
   "outputs": [],
   "source": [
    "assert prof_events is not None\n",
    "### BEGIN HIDDEN TESTS\n",
    "# check that keys are all what they should be\n",
    "assert all(elem in list(prof_events.keys())  for elem in ['write one exam', 'answer email', 'office hours', 'staff meeting'])\n",
    "### END HIDDEN TESTS"
   ]
  },
  {
   "cell_type": "code",
   "execution_count": 10,
   "id": "fa57e16a",
   "metadata": {
    "nbgrader": {
     "grade": true,
     "grade_id": "cell-98ba1271640a9369",
     "locked": true,
     "points": 0.25,
     "schema_version": 3,
     "solution": false,
     "task": false
    }
   },
   "outputs": [],
   "source": [
    "# hidden tests for task above\n",
    "### BEGIN HIDDEN TESTS\n",
    "# check that values are what they should be\n",
    "assert sum(prof_events.values()) == 6\n",
    "assert all(elem in list(prof_events.values()) for elem in [2,1])\n",
    "### END HIDDEN TESTS"
   ]
  },
  {
   "cell_type": "markdown",
   "id": "1834b0af",
   "metadata": {
    "nbgrader": {
     "grade": false,
     "grade_id": "cell-ecd4036e4d373194",
     "locked": true,
     "points": 0.75,
     "schema_version": 3,
     "solution": false,
     "task": true
    }
   },
   "source": [
    "**This \"blank\" cell included intentionally.** Do not do anything here. (It's being used in grading.)\n",
    "\n",
    "=== BEGIN MARK SCHEME ===\n",
    "\n",
    "Check if points lost on autograder above: \n",
    "- initialized or created `prof_events` as a dictionary (**0.25 pts**)\n",
    "- Used count() method correctly (**0.25 pts**)\n",
    "- updated `prof_events` dictionary correctly (**0.25 pts**)\n",
    "\n",
    "=== END MARK SCHEME ==="
   ]
  },
  {
   "cell_type": "markdown",
   "id": "916fad42",
   "metadata": {
    "nbgrader": {
     "grade": false,
     "grade_id": "q6",
     "locked": true,
     "schema_version": 3,
     "solution": false,
     "task": false
    }
   },
   "source": [
    "### Q3 - Debugging (1.5 points)\n",
    "\n",
    "The following not-totally-functioning `give_ticket()` function has been provided for you. The *goal* of this function, is given two population inputs (`speed` and `zone`), the function should `return` the boolean True if the person should receive a ticket and the boolean False otherwise.\n",
    "\n",
    "The rules for giving a ticket depend upon the driver's speed and the zone in which they were driving. They would get a ticket if: 1) they're in a 'private' `zone` and their speed is above 5, 2) they're in a 'local' `zone` and their speed is above 25, or 3) they're in a 'highway' `zone` and their speed is above 65. \n",
    "\n",
    "For example, if the driver's `speed` was 25 and their zone was 'local', the function would `return` `False`. However, if in the same zone, and their speed were 26, the function would `return` `True`. \n",
    "\n",
    "Consider the function provided here and debug in the cell below to accomplish the task described above:\n",
    "\n",
    "```python\n",
    "def give_ticket(self, zone, speed):\n",
    "    if zone = 'private' or speed > 5:\n",
    "        print(True)\n",
    "    elif zone = 'local' or speed > 25:\n",
    "        print(True)\n",
    "    elif zone = 'highway' or speed > 65:\n",
    "        print(True)\n",
    "    else:\n",
    "        print(False)\n",
    "```\n",
    "\n",
    "You can start by copy + pasting the code from here into the cell below and then start the process of debugging. \n",
    "\n",
    "Note: Do not change the name of the function (`give_ticket`), and the parameter names provided in the instructions (`speed`, `zone`) must be used."
   ]
  },
  {
   "cell_type": "code",
   "execution_count": 11,
   "id": "df81967c",
   "metadata": {
    "nbgrader": {
     "grade": false,
     "grade_id": "cell-62a0b0b8b94f6e92",
     "locked": false,
     "schema_version": 3,
     "solution": true,
     "task": false
    }
   },
   "outputs": [],
   "source": [
    "### BEGIN SOLUTION\n",
    "def give_ticket(zone, speed):\n",
    "\n",
    "    if zone == 'private' and speed > 5:\n",
    "        ticket = True\n",
    "    elif zone == 'local' and speed > 25:\n",
    "        ticket = True\n",
    "    elif zone == 'highway' and speed > 65:\n",
    "        ticket = True\n",
    "    else:\n",
    "        ticket = False\n",
    "\n",
    "    return ticket\n",
    "### END SOLUTION"
   ]
  },
  {
   "cell_type": "code",
   "execution_count": 12,
   "id": "65ae617a",
   "metadata": {},
   "outputs": [],
   "source": [
    "# BE SURE YOUR ANSWER IS IN THE CELL ABOVE\n",
    "# but you can use this cell to test/execute/check your thinking (optional)"
   ]
  },
  {
   "cell_type": "code",
   "execution_count": 13,
   "id": "70655fd6",
   "metadata": {
    "nbgrader": {
     "grade": true,
     "grade_id": "cell-e866cc0e17b6f2ba",
     "locked": true,
     "points": 0.25,
     "schema_version": 3,
     "solution": false,
     "task": false
    }
   },
   "outputs": [],
   "source": [
    "assert give_ticket\n",
    "### BEGIN HIDDEN TESTS\n",
    "assert give_ticket(speed=6, zone='private') \n",
    "assert give_ticket(speed=26, zone='local') \n",
    "assert give_ticket(speed=66, zone='highway') \n",
    "### END HIDDEN TESTS"
   ]
  },
  {
   "cell_type": "code",
   "execution_count": 14,
   "id": "6bdca489",
   "metadata": {
    "nbgrader": {
     "grade": true,
     "grade_id": "cell-182b68be741e938f",
     "locked": true,
     "points": 0.25,
     "schema_version": 3,
     "solution": false,
     "task": false
    }
   },
   "outputs": [],
   "source": [
    "assert callable(give_ticket)\n",
    "### BEGIN HIDDEN TESTS\n",
    "assert not give_ticket(speed=5, zone='private') \n",
    "assert not give_ticket(speed=10, zone='local') \n",
    "assert not give_ticket(speed=45, zone='highway') \n",
    "### END HIDDEN TESTS"
   ]
  },
  {
   "cell_type": "markdown",
   "id": "4c31e327",
   "metadata": {
    "nbgrader": {
     "grade": false,
     "grade_id": "cell-e5b7221fc75de9ba",
     "locked": true,
     "points": 1,
     "schema_version": 3,
     "solution": false,
     "task": true
    }
   },
   "source": [
    "**This \"blank\" cell included intentionally.** Do not do anything here. (It's being used in grading.)\n",
    "\n",
    "=== BEGIN MARK SCHEME ===\n",
    "\n",
    "Check if points lost on autograder above: \n",
    "- `self` removed as a parameter (**0.1 pts**)\n",
    "- fixed conditional operator `=` to `==` (**0.25 pts**)\n",
    "- `or` changed to `and` in conditional (**0.25 pts**)\n",
    "- `print()` statements changed to store variable (**0.25 pts**)\n",
    "- `reuturn` statement added (**0.15 pts**)\n",
    "                                                              \n",
    "=== END MARK SCHEME ==="
   ]
  },
  {
   "cell_type": "markdown",
   "id": "ae308d52",
   "metadata": {
    "nbgrader": {
     "grade": false,
     "grade_id": "part1",
     "locked": true,
     "schema_version": 3,
     "solution": false
    }
   },
   "source": [
    "## Part 2: Functions (4.4 points)"
   ]
  },
  {
   "cell_type": "markdown",
   "id": "6e464500",
   "metadata": {
    "nbgrader": {
     "grade": false,
     "grade_id": "q1",
     "locked": true,
     "schema_version": 3,
     "solution": false,
     "task": false
    }
   },
   "source": [
    "### Q4 - Function Execution (1 point)\n",
    "\n",
    "The function `modify_string()` has been provided for you below. \n",
    "\n",
    "**Part 1** (0.75 points)\n",
    "\n",
    "First, in the cell provided below containing `YOUR ANSWER HERE`, describe what the `modify_string()` function accomplishes. This should include both 1) the overall task accomplished and 2) how the specific code used accomplishes this task."
   ]
  },
  {
   "cell_type": "code",
   "execution_count": 15,
   "id": "651a5973",
   "metadata": {
    "nbgrader": {
     "grade": false,
     "grade_id": "cell-dbe57c76c89c328c",
     "locked": true,
     "schema_version": 3,
     "solution": false,
     "task": false
    }
   },
   "outputs": [],
   "source": [
    "# function provided\n",
    "# cell cannot be edited\n",
    "def modify_string(input_string):\n",
    "    new_language = {'a': 'ӓ',\n",
    "                    'e' : 'ɚ',\n",
    "                    'i' : '¡',\n",
    "                    'o' : 'ð',\n",
    "                    'u' : 'û',\n",
    "                    'A' : 'Ӓ',\n",
    "                    'E' : 'ɛ', \n",
    "                    'O' : 'Ó', \n",
    "                    'U' : 'Ü'} \n",
    "    modified_name = ''\n",
    "    \n",
    "    for letter in input_string:\n",
    "        if letter in new_language:\n",
    "            modified_name = modified_name + new_language[letter]\n",
    "        else:\n",
    "            modified_name = modified_name + letter\n",
    "\n",
    "    return modified_name"
   ]
  },
  {
   "cell_type": "code",
   "execution_count": 16,
   "id": "b8514656",
   "metadata": {},
   "outputs": [],
   "source": [
    "# BE SURE YOUR ANSWER IS IN THE CELL BELOW\n",
    "# but you can use this cell to test/execute/check your thinking (optional)"
   ]
  },
  {
   "cell_type": "markdown",
   "id": "c5028919",
   "metadata": {
    "nbgrader": {
     "grade": true,
     "grade_id": "cell-f5317567b8e4efd0",
     "locked": false,
     "points": 0.75,
     "schema_version": 3,
     "solution": true,
     "task": false
    }
   },
   "source": [
    "Describe the `modify_string()` function here.\n",
    "\n",
    "\n",
    "=== BEGIN MARK SCHEME ===\n",
    "\n",
    "- explains task generally accurately (**0.25 pts**)\n",
    "- explains what loop accomplishes accurately; links `input_string` parameter to how it is referenced in the code (**0.25 pts**)\n",
    "- explains how `modified_name` is updated/extended correctly w/ reference to `new_language` dictionary (**0.25 pts**)\n",
    "\n",
    "=== END MARK SCHEME ==="
   ]
  },
  {
   "cell_type": "markdown",
   "id": "a12ac52d",
   "metadata": {
    "nbgrader": {
     "grade": false,
     "grade_id": "cell-2237741a93e97e01",
     "locked": true,
     "schema_version": 3,
     "solution": false,
     "task": false
    }
   },
   "source": [
    "**Part 2** (0.25 points)\n",
    "\n",
    "Execute the `modify_string()` function such that it:\n",
    "- `return`s `'CÓGS18 ɛxӓm Dӓy'`; assign this output to the variable `out_string`."
   ]
  },
  {
   "cell_type": "code",
   "execution_count": 17,
   "id": "179c641a",
   "metadata": {
    "nbgrader": {
     "grade": false,
     "grade_id": "cell-fdbbaa5a44ac0068",
     "locked": false,
     "schema_version": 3,
     "solution": true,
     "task": false
    }
   },
   "outputs": [
    {
     "data": {
      "text/plain": [
       "'CÓGS18 ɛxӓm Dӓy'"
      ]
     },
     "execution_count": 17,
     "metadata": {},
     "output_type": "execute_result"
    }
   ],
   "source": [
    "### BEGIN SOLUTION\n",
    "out_string = modify_string('COGS18 Exam Day')\n",
    "out_string\n",
    "### END SOLUTION"
   ]
  },
  {
   "cell_type": "code",
   "execution_count": 18,
   "id": "4e974e84",
   "metadata": {
    "nbgrader": {
     "grade": true,
     "grade_id": "cell-0b04266e15b8b616",
     "locked": true,
     "points": 0.25,
     "schema_version": 3,
     "solution": false,
     "task": false
    }
   },
   "outputs": [],
   "source": [
    "assert out_string\n",
    "### BEGIN HIDDEN TESTS\n",
    "assert out_string == 'CÓGS18 ɛxӓm Dӓy'\n",
    "### END HIDDEN TESTS"
   ]
  },
  {
   "cell_type": "markdown",
   "id": "ffe65515",
   "metadata": {
    "nbgrader": {
     "grade": false,
     "grade_id": "cell-32de12eec2a9bb1a",
     "locked": true,
     "points": 0,
     "schema_version": 3,
     "solution": false,
     "task": true
    }
   },
   "source": [
    "**This \"blank\" cell included intentionally.** Do not do anything here. (It's being used in grading.)\n",
    "\n",
    "=== BEGIN MARK SCHEME ===\n",
    "\n",
    "- remove autograder credit above if function not executed\n",
    "\n",
    "=== END MARK SCHEME ==="
   ]
  },
  {
   "cell_type": "markdown",
   "id": "d1765255",
   "metadata": {
    "nbgrader": {
     "grade": false,
     "grade_id": "q2",
     "locked": true,
     "schema_version": 3,
     "solution": false,
     "task": false
    }
   },
   "source": [
    "### Q5 - Function I: `wear_mask()`  (1.65 points)\n",
    "\n",
    "While the rules have and will continue to change, we want a function that will help us determine if a mask should be worn.\n",
    "\n",
    "This function `wear_mask()` will have three parameters:\n",
    "- `group_size`, which will have no default value\n",
    "- `location`, which should take the default value 'indoors' (a string)\n",
    "- `vaccinated`, which should take the default value `True` (a boolean)\n",
    "\n",
    "This function will `return` the string specified below using the following logic:\n",
    "- if `vaccinated` is `False` (regardless of other parameter values),: `return`s 'Masking required'\n",
    "- if `vaccinated` is True:\n",
    "    - ...and if `location` is 'outdoors', and `group_size` is any value: `return`s 'Masking encouraged'\n",
    "    - ...and if `location` is 'indoors' and `group_size` is > 1: `return`s 'Masking required'\n",
    "    - ...and any other condition: `return`s 'Mask requirement uncertain'\n",
    "\n",
    "Note that the string `return`ed must match exactly to string provided above. Likely best to copy + paste to avoid typos.\n",
    "\n",
    "For example:\n",
    "- `wear_mask(group_size=10, location = 'indoors')` would `return` 'Masking required'\n",
    "- `wear_mask(group_size=10, location='outdoors')` would `return` 'Masking encouraged'\n",
    "- `wear_mask(group_size=10, location='outdoors', vaccinated=False)` would `return` 'Masking required'\n",
    "- `wear_mask(group_size=1, location='indoors')` would `return` 'Mask requirement uncertain'"
   ]
  },
  {
   "cell_type": "code",
   "execution_count": 19,
   "id": "cead7374",
   "metadata": {
    "nbgrader": {
     "grade": false,
     "grade_id": "cell-27753e425b580be3",
     "locked": false,
     "schema_version": 3,
     "solution": true,
     "task": false
    }
   },
   "outputs": [],
   "source": [
    "### BEGIN SOLUTION\n",
    "def wear_mask(group_size, location='indoors', vaccinated=True):\n",
    "    if not vaccinated:\n",
    "        output = 'Masking required'\n",
    "    else:\n",
    "        if location == 'outdoors':\n",
    "            output = 'Masking encouraged'\n",
    "\n",
    "        elif location == 'indoors' and group_size > 1:\n",
    "            output = 'Masking required'\n",
    "        else:\n",
    "            output = 'Mask requirement uncertain'\n",
    "    \n",
    "    return output\n",
    "### END SOLUTION"
   ]
  },
  {
   "cell_type": "code",
   "execution_count": 20,
   "id": "ec625bf9",
   "metadata": {},
   "outputs": [],
   "source": [
    "# BE SURE YOUR ANSWER IS IN THE CELL ABOVE\n",
    "# but you can use this cell to test/execute/check your thinking (optional)"
   ]
  },
  {
   "cell_type": "code",
   "execution_count": 21,
   "id": "c93bab4b",
   "metadata": {
    "nbgrader": {
     "grade": true,
     "grade_id": "cell-409a4e8e6c215e8b",
     "locked": true,
     "points": 0.15,
     "schema_version": 3,
     "solution": false,
     "task": false
    }
   },
   "outputs": [],
   "source": [
    "assert wear_mask\n",
    "### BEGIN HIDDEN TESTS\n",
    "assert wear_mask(group_size=10, location='outdoors', vaccinated=False) == 'Masking required'\n",
    "### END HIDDEN TESTS"
   ]
  },
  {
   "cell_type": "code",
   "execution_count": 22,
   "id": "a0ca9f2a",
   "metadata": {
    "nbgrader": {
     "grade": true,
     "grade_id": "cell-6e90c33a6cf4dbc2",
     "locked": true,
     "points": 0.15,
     "schema_version": 3,
     "solution": false,
     "task": false
    }
   },
   "outputs": [],
   "source": [
    "# hidden test to check functionality\n",
    "### BEGIN HIDDEN TESTS\n",
    "# check indoors\n",
    "assert wear_mask(group_size=10, location='indoors') == 'Masking required'\n",
    "### END HIDDEN TESTS"
   ]
  },
  {
   "cell_type": "code",
   "execution_count": 23,
   "id": "526c72cc",
   "metadata": {
    "nbgrader": {
     "grade": true,
     "grade_id": "cell-4d88b639915b1608",
     "locked": true,
     "points": 0.15,
     "schema_version": 3,
     "solution": false,
     "task": false
    }
   },
   "outputs": [],
   "source": [
    "# hidden test to check functionality\n",
    "### BEGIN HIDDEN TESTS\n",
    "# check outdoors\n",
    "assert wear_mask(group_size=1, location='outdoors') == 'Masking encouraged'\n",
    "### END HIDDEN TESTS"
   ]
  },
  {
   "cell_type": "code",
   "execution_count": 24,
   "id": "5cc45161",
   "metadata": {
    "nbgrader": {
     "grade": true,
     "grade_id": "cell-72adcd0478d1805b",
     "locked": true,
     "points": 0.15,
     "schema_version": 3,
     "solution": false,
     "task": false
    }
   },
   "outputs": [],
   "source": [
    "# hidden test to check functionality\n",
    "### BEGIN HIDDEN TESTS\n",
    "# check default values\n",
    "assert wear_mask(1) == 'Mask requirement uncertain'\n",
    "### END HIDDEN TESTS"
   ]
  },
  {
   "cell_type": "code",
   "execution_count": 25,
   "id": "8849b8c3",
   "metadata": {
    "nbgrader": {
     "grade": true,
     "grade_id": "cell-65202d29251035dd",
     "locked": true,
     "points": 0.15,
     "schema_version": 3,
     "solution": false,
     "task": false
    }
   },
   "outputs": [],
   "source": [
    "# hidden test to check functionality\n",
    "### BEGIN HIDDEN TESTS\n",
    "# check outdoors, but state vaccinated explicitly\n",
    "assert wear_mask(group_size=1, location='outdoors', vaccinated=True) == 'Masking encouraged'\n",
    "### END HIDDEN TESTS"
   ]
  },
  {
   "cell_type": "markdown",
   "id": "24c45761",
   "metadata": {
    "nbgrader": {
     "grade": false,
     "grade_id": "cell-c0b132da8a0a1ec3",
     "locked": true,
     "points": 0.9,
     "schema_version": 3,
     "solution": false,
     "task": true
    }
   },
   "source": [
    "**This \"blank\" cell included intentionally.** Do not do anything here. (It's being used in grading.)\n",
    "\n",
    "=== BEGIN MARK SCHEME ===\n",
    "\n",
    "Check if points lost on autograder above: \n",
    "- `def` correct with 3 parameters (**0.1 pts**)\n",
    "- `location` and `vaccinated` take default values correctly (**0.1 pts**)\n",
    "- condition for `not vaccinated` correct (**0.2 pts**)\n",
    "- condition for `location` correct (**0.2 pts**)\n",
    "- `else` condition for 'Mask requirement uncertain.' included (**0.2 pts**)\n",
    "- includes `return` statement (**0.1 pts**)\n",
    "\n",
    "Note: if only issue is `return` statement is missing, return autograder credit lost and only deduct for `return` \n",
    "statement missing\n",
    "\n",
    "=== END MARK SCHEME ==="
   ]
  },
  {
   "cell_type": "markdown",
   "id": "719d1e8d",
   "metadata": {
    "nbgrader": {
     "grade": false,
     "grade_id": "q3",
     "locked": true,
     "schema_version": 3,
     "solution": false,
     "task": false
    }
   },
   "source": [
    "### Q6 - Function II: `write_tickets()` (1.75 points)\n",
    "\n",
    "Here you will write a function `write_tickets()` that will take a dictionary as input (using the parameter `input_dict`) and determine who in that dictionary will receive a ticket. The key in the `input_dict` will be the person's name, and the value will be a list of two values. The first value will be the person's zone ('private', 'local', or 'highway') and the second will be the speed at which the person was traveling. This function will `return` an output dictionary. Inside the output dictionary, the name of every person in the original dictionary will be the keys for the output dictionary. The value for each individual's key will be either the boolean `True` (if that person should receive a ticket) or `False` (if they should not), using the same logic as was described in Q3. \n",
    "\n",
    "For example: `write_tickets({'Shannon' : ['local', 20], 'Josh' : ['highway', 80]})` should `return` the dictionary `{'Shannon' : False, 'Josh' : True}`\n",
    "\n",
    "Note: You can assume that each key in the input dictionary only shows up one time. You do not need to worry about how to handle the same name showing up more than once."
   ]
  },
  {
   "cell_type": "code",
   "execution_count": 26,
   "id": "7b063f5c",
   "metadata": {
    "nbgrader": {
     "grade": false,
     "grade_id": "cell-b88e1dac87fd09a4",
     "locked": false,
     "schema_version": 3,
     "solution": true,
     "task": false
    }
   },
   "outputs": [],
   "source": [
    "### BEGIN SOLUTION\n",
    "def write_tickets(input_dict):\n",
    "    output_dict = {}\n",
    "    \n",
    "    for key in input_dict:\n",
    "        zone = input_dict[key][0]\n",
    "        speed = input_dict[key][1]\n",
    "        \n",
    "        if zone == 'private' and speed > 5:\n",
    "            output_dict[key] = True\n",
    "        elif zone == 'local' and speed > 25:\n",
    "            output_dict[key] = True\n",
    "        elif zone == 'highway' and speed > 65:\n",
    "            output_dict[key] = True\n",
    "        else:\n",
    "            output_dict[key] = False\n",
    "\n",
    "    return output_dict\n",
    "### END SOLUTION"
   ]
  },
  {
   "cell_type": "code",
   "execution_count": 27,
   "id": "91885860",
   "metadata": {},
   "outputs": [],
   "source": [
    "# BE SURE YOUR ANSWER IS IN THE CELL ABOVE\n",
    "# but you can use this cell to test/execute/check your thinking (optional)"
   ]
  },
  {
   "cell_type": "code",
   "execution_count": 28,
   "id": "7c633e86",
   "metadata": {
    "nbgrader": {
     "grade": true,
     "grade_id": "cell-d7a40ec4c818725d",
     "locked": true,
     "points": 0.1,
     "schema_version": 3,
     "solution": false,
     "task": false
    }
   },
   "outputs": [],
   "source": [
    "assert write_tickets\n",
    "### BEGIN HIDDEN TESTS\n",
    "# check provided example\n",
    "assert write_tickets({'Shannon' : ['local', 20], 'Josh' : ['highway', 80]}) == {'Shannon': False, 'Josh': True}\n",
    "### END HIDDEN TESTS"
   ]
  },
  {
   "cell_type": "code",
   "execution_count": 29,
   "id": "baca5e1d",
   "metadata": {
    "nbgrader": {
     "grade": true,
     "grade_id": "cell-2ee7dd57a8718dee",
     "locked": true,
     "points": 0.2,
     "schema_version": 3,
     "solution": false,
     "task": false
    }
   },
   "outputs": [],
   "source": [
    "# hidden test to check function accomplishes task\n",
    "### BEGIN HIDDEN TESTS\n",
    "# check for parameter name\n",
    "assert write_tickets(input_dict = {'Shannon' : ['private', 20], 'Josh' : ['highway', 80]}) == {'Shannon': True, 'Josh': True}\n",
    "### END HIDDEN TESTS"
   ]
  },
  {
   "cell_type": "code",
   "execution_count": 30,
   "id": "b1314ff4",
   "metadata": {
    "nbgrader": {
     "grade": true,
     "grade_id": "cell-b3246567017181ba",
     "locked": true,
     "points": 0.2,
     "schema_version": 3,
     "solution": false,
     "task": false
    }
   },
   "outputs": [],
   "source": [
    "# hidden test to check function accomplishes task\n",
    "### BEGIN HIDDEN TESTS\n",
    "# check for a more than two values\n",
    "assert write_tickets({'Shannon' : ['local', 20], \n",
    "                      'Kenny' : ['private', 20], \n",
    "                      'Josh' : ['highway', 80]}) == {'Shannon': False, 'Kenny': True, 'Josh': True}\n",
    "### END HIDDEN TESTS"
   ]
  },
  {
   "cell_type": "markdown",
   "id": "a0d3ac3c",
   "metadata": {
    "nbgrader": {
     "grade": false,
     "grade_id": "cell-ab5c7e21c6f5e759",
     "locked": true,
     "points": 1.25,
     "schema_version": 3,
     "solution": false,
     "task": true
    }
   },
   "source": [
    "**This \"blank\" cell included intentionally.** Do not do anything here. (It's being used in grading.)\n",
    "\n",
    "=== BEGIN MARK SCHEME ===\n",
    "\n",
    "Check if points lost on autograder above: \n",
    "- function defined correctly with `input_dict` parameter (**0.1 pts**)\n",
    "- some output dictionary initialized (**0.2 pts**)\n",
    "- indexing into input_dict done correctly (**0.25 pts**)\n",
    "- loops through input_list correctly (or equivalent) (**0.15 pts**) \n",
    "- conditionals included (even if not quite correct) (**0.2 pts**)\n",
    "- output dictionary updated correctly (**0.25 pts**)\n",
    "- includes `return` statement (**0.1 pts**) \n",
    "\n",
    "=== END MARK SCHEME ==="
   ]
  },
  {
   "cell_type": "markdown",
   "id": "e8e11868",
   "metadata": {
    "nbgrader": {
     "grade": false,
     "grade_id": "part3",
     "locked": true,
     "schema_version": 3,
     "solution": false,
     "task": false
    }
   },
   "source": [
    "## Part 3: Classes (4.5 points)"
   ]
  },
  {
   "cell_type": "markdown",
   "id": "2e3c55ed",
   "metadata": {
    "nbgrader": {
     "grade": false,
     "grade_id": "q7",
     "locked": true,
     "schema_version": 3,
     "solution": false,
     "task": false
    }
   },
   "source": [
    "### Q7 - Classes I: `Warehouse()` (2.25 points)\n",
    "\n",
    "Define a class `Warehouse()` that meets the following specifications:\n",
    "\n",
    "- has a class attribute: `purpose` which always has the value 'storing goods'\n",
    "\n",
    "- has two instance attributes:\n",
    "    - `location`, which is a specified by the user on creation of a `Warehouse()` type object using the `location` parameter\n",
    "    - `industry`, which is a specified by the user on creation of a `Warehouse()` type object using the `industry` parameter\n",
    "- a single method `return_info()`, which will `return` information about the warehouse object as a string. Specifically, this string will be: `'This warehouse is located at [location]. Its purpose is for [purpose] from the [industry] industry.`, where the values in brackets are replaced by the object's attributes. \n",
    "\n",
    "Note: there should not be brackets in your `return`ed string. The brackets above indicate that the value in between the brackets is what you should replace with the object's attributes."
   ]
  },
  {
   "cell_type": "code",
   "execution_count": 31,
   "id": "334db5e1",
   "metadata": {
    "nbgrader": {
     "grade": false,
     "grade_id": "cell-80e3cb9de1241e25",
     "locked": false,
     "schema_version": 3,
     "solution": true,
     "task": false
    }
   },
   "outputs": [],
   "source": [
    "### BEGIN SOLUTION\n",
    "class Warehouse():\n",
    "        \n",
    "    purpose = 'storing goods'\n",
    "    \n",
    "    def __init__(self, location, industry):\n",
    "        self.location = location\n",
    "        self.industry = industry\n",
    "        \n",
    "    def return_info(self):\n",
    "        return 'This warehouse is located at ' + self.location + '. Its purpose is for ' + self.purpose + ' from the ' + self.industry + ' industry.'\n",
    "### END SOLUTION"
   ]
  },
  {
   "cell_type": "code",
   "execution_count": 32,
   "id": "440c3bb4",
   "metadata": {},
   "outputs": [],
   "source": [
    "# BE SURE YOUR ANSWER IS IN THE CELL ABOVE\n",
    "# but you can use this cell to test/execute/check your thinking (optional)"
   ]
  },
  {
   "cell_type": "code",
   "execution_count": 33,
   "id": "ac9a2d94",
   "metadata": {
    "nbgrader": {
     "grade": true,
     "grade_id": "cell-37e8b60113767efa",
     "locked": true,
     "points": 0.2,
     "schema_version": 3,
     "solution": false,
     "task": false
    }
   },
   "outputs": [],
   "source": [
    "assert callable(Warehouse)\n",
    "### BEGIN HIDDEN TESTS\n",
    "my_warehouse = Warehouse('California', 'automotive')\n",
    "### END HIDDEN TESTS"
   ]
  },
  {
   "cell_type": "code",
   "execution_count": 34,
   "id": "5f8878b9",
   "metadata": {
    "nbgrader": {
     "grade": true,
     "grade_id": "cell-30a7b606c61333a6",
     "locked": true,
     "points": 0.15,
     "schema_version": 3,
     "solution": false,
     "task": false
    }
   },
   "outputs": [],
   "source": [
    "# tests for class attribute\n",
    "### BEGIN HIDDEN TESTS\n",
    "assert my_warehouse.purpose == 'storing goods'\n",
    "### END HIDDEN TESTS"
   ]
  },
  {
   "cell_type": "code",
   "execution_count": 35,
   "id": "dfc514b1",
   "metadata": {
    "nbgrader": {
     "grade": true,
     "grade_id": "cell-301e916ade4a03a8",
     "locked": true,
     "points": 0.2,
     "schema_version": 3,
     "solution": false,
     "task": false
    }
   },
   "outputs": [],
   "source": [
    "# tests for instance attributes\n",
    "### BEGIN HIDDEN TESTS\n",
    "assert my_warehouse.location == 'California'\n",
    "assert my_warehouse.industry == 'automotive'\n",
    "### END HIDDEN TESTS"
   ]
  },
  {
   "cell_type": "code",
   "execution_count": 36,
   "id": "e27ae149",
   "metadata": {
    "nbgrader": {
     "grade": true,
     "grade_id": "cell-ed7e6ef17084851f",
     "locked": true,
     "points": 0.2,
     "schema_version": 3,
     "solution": false,
     "task": false
    }
   },
   "outputs": [],
   "source": [
    "# tests for method\n",
    "assert callable(Warehouse.return_info)\n",
    "### BEGIN HIDDEN TESTS\n",
    "assert my_warehouse.return_info() == 'This warehouse is located at California. Its purpose is for storing goods from the automotive industry.'\n",
    "### END HIDDEN TESTS"
   ]
  },
  {
   "cell_type": "markdown",
   "id": "f2f9ce3c",
   "metadata": {
    "nbgrader": {
     "grade": false,
     "grade_id": "cell-d2891dfab143ad29",
     "locked": true,
     "points": 1.5,
     "schema_version": 3,
     "solution": false,
     "task": true
    }
   },
   "source": [
    "**This \"blank\" cell included intentionally.** Do not do anything here. (It's being used in grading.)\n",
    "\n",
    "=== BEGIN MARK SCHEME ===\n",
    "Check if points lost on autograder above: \n",
    "- `class` defined correctly (**0.1 pts**)\n",
    "- class attribute correct (**0.2 pts**)\n",
    "- instance attributes\n",
    "    - `def __init__(self)` correct (**0.2 pts**)\n",
    "    - `self` used within definition (**0.2 pts**)\n",
    "    - `location` and `industry` attribute initialized correctly (parameters) (**0.2 pts**)\n",
    "- `return_info` method:\n",
    "    - method definition correct with `self` (**0.2 pts**)\n",
    "    - string concatenation used (**0.1 pts**)\n",
    "    - uses self. to refer to attributes  (**0.2 pts**)\n",
    "    - `return` statement included (**0.1 pts**)\n",
    "\n",
    "Note: autograder credit can be returned for portions above if particular aspect (class attribute, instance attribute, or method) were correct, but test failed because overall `class` was defined incorrectly\n",
    "\n",
    "=== END MARK SCHEME ==="
   ]
  },
  {
   "cell_type": "markdown",
   "id": "e208b54a",
   "metadata": {
    "nbgrader": {
     "grade": false,
     "grade_id": "q8",
     "locked": true,
     "schema_version": 3,
     "solution": false,
     "task": false
    }
   },
   "source": [
    "### Q8 - Classes II: `TaskCalculator()` (2.25 points)\n",
    "\n",
    "Define a class `TaskCalculator()` to keep track of how much time day's tasks will likely take.\n",
    "\n",
    "This should have a single instance attribute: `daily_tasks`, which is initialized as an empty list.\n",
    "\n",
    "It will then have two methods: `add_task` and `calculate_time`.\n",
    "\n",
    "`add_task()`:\n",
    "- will have one parameter `task`\n",
    "- this method will add the string specified in `task` to the end of the list stored in the instance attribute `daily_tasks`\n",
    "\n",
    "`calculate_time()`:\n",
    "- will have two lists defined within it: \n",
    "    ```python\n",
    "    long_tasks = ['write one exam', 'grade exam', 'prep lecture', 'office hours']\n",
    "    short_tasks = ['review lecture', 'grade assignment', 'staff meeting', 'answer email']\n",
    "    ```\n",
    "- the code will then determine, given the values in the instance attribute `daily_tasks`, how long the `daily_tasks` are estimated to take, using the following logic:\n",
    "    - each value in `long_tasks` is estimated to take 2 hours\n",
    "    - each value in `short_tasks` is estimated to take 1 hour\n",
    "- the number of hours estimated should be `return`ed from this method as an integer (if `daily_tasks` is an empty list or does not have any tasks in either `long_tasks` or `short_tasks`, the method should `return` 0 (zero))"
   ]
  },
  {
   "cell_type": "code",
   "execution_count": 37,
   "id": "a3b62e93",
   "metadata": {
    "nbgrader": {
     "grade": false,
     "grade_id": "cell-db23ac2e2bd9a424",
     "locked": false,
     "schema_version": 3,
     "solution": true,
     "task": false
    }
   },
   "outputs": [],
   "source": [
    "### BEGIN SOLUTION\n",
    "class TaskCalculator():\n",
    "    \n",
    "    def __init__(self):\n",
    "        self.daily_tasks = []\n",
    "        \n",
    "    def add_task(self, task):\n",
    "        self.daily_tasks.append(task)\n",
    "        \n",
    "    def calculate_time(self):\n",
    "        long_tasks = ['write one exam', 'grade exam', 'prep lecture', 'office hours']\n",
    "        short_tasks = ['review lecture', 'grade assignment', 'staff meeting', 'answer email']\n",
    "        \n",
    "        time_sum = 0\n",
    "        \n",
    "        for val in self.daily_tasks:\n",
    "            if val in long_tasks:\n",
    "                time_sum += 2\n",
    "            elif val in short_tasks:\n",
    "                time_sum +=1\n",
    "                \n",
    "        return time_sum\n",
    "### END SOLUTION"
   ]
  },
  {
   "cell_type": "code",
   "execution_count": 38,
   "id": "a1696ec7",
   "metadata": {},
   "outputs": [],
   "source": [
    "# BE SURE YOUR ANSWER IS IN THE CELL ABOVE\n",
    "# but you can use this cell to test/execute/check your thinking (optional)"
   ]
  },
  {
   "cell_type": "code",
   "execution_count": 39,
   "id": "0f150df7",
   "metadata": {
    "nbgrader": {
     "grade": true,
     "grade_id": "cell-c4253d0a4b63b6ff",
     "locked": true,
     "points": 0.25,
     "schema_version": 3,
     "solution": false,
     "task": false
    }
   },
   "outputs": [],
   "source": [
    "assert callable(TaskCalculator)\n",
    "# hidden tests to check object can be created and empty list is initialized\n",
    "### BEGIN HIDDEN TESTS\n",
    "my_tasks = TaskCalculator()\n",
    "assert my_tasks.daily_tasks == []\n",
    "### END HIDDEN TESTS"
   ]
  },
  {
   "cell_type": "code",
   "execution_count": 40,
   "id": "0863d091",
   "metadata": {
    "nbgrader": {
     "grade": true,
     "grade_id": "cell-f4de47b202e5c535",
     "locked": true,
     "points": 0.25,
     "schema_version": 3,
     "solution": false,
     "task": false
    }
   },
   "outputs": [],
   "source": [
    "# check calculate_time method before adding tasks\n",
    "### BEGIN HIDDEN TESTS\n",
    "assert my_tasks.calculate_time() == 0\n",
    "### END HIDDEN TESTS"
   ]
  },
  {
   "cell_type": "code",
   "execution_count": 41,
   "id": "733d3ced",
   "metadata": {
    "nbgrader": {
     "grade": true,
     "grade_id": "cell-06d5b53a56c426b4",
     "locked": true,
     "points": 0.25,
     "schema_version": 3,
     "solution": false,
     "task": false
    }
   },
   "outputs": [],
   "source": [
    "# check add_task method by adding tasks\n",
    "### BEGIN HIDDEN TESTS\n",
    "my_tasks.add_task('write one exam')\n",
    "my_tasks.add_task('review lecture')\n",
    "assert my_tasks.daily_tasks == ['write one exam', 'review lecture']\n",
    "### END HIDDEN TESTS"
   ]
  },
  {
   "cell_type": "code",
   "execution_count": 42,
   "id": "d0e5ca9f",
   "metadata": {
    "nbgrader": {
     "grade": true,
     "grade_id": "cell-bfd82a7e62a79a3c",
     "locked": true,
     "points": 0.25,
     "schema_version": 3,
     "solution": false,
     "task": false
    }
   },
   "outputs": [],
   "source": [
    "# check calculate_time method after adding tasks\n",
    "### BEGIN HIDDEN TESTS\n",
    "assert my_tasks.calculate_time() == 3\n",
    "### END HIDDEN TESTS"
   ]
  },
  {
   "cell_type": "markdown",
   "id": "8c7f6e65",
   "metadata": {
    "nbgrader": {
     "grade": false,
     "grade_id": "cell-216f99649bc6b8df",
     "locked": true,
     "points": 1.25,
     "schema_version": 3,
     "solution": false,
     "task": true
    }
   },
   "source": [
    "**This \"blank\" cell included intentionally.** Do not do anything here. (It's being used in grading.)\n",
    "\n",
    "=== BEGIN MARK SCHEME ===\n",
    "\n",
    "Check if points lost on autograder above: \n",
    "- `class` defined correctly (**0.1 pts**)\n",
    "- instance attribute\n",
    "    - `def __init__(self)` correct (**0.1 pts**)\n",
    "    - `daily_tasks` attribute initialized correctly (empty list) (**0.1 pts**)\n",
    "\n",
    "- `add_task` method:\n",
    "    - method definition correct with `self`, `task` (**0.1 pts**)\n",
    "    - `self` referenced within method  (**0.1 pts**)\n",
    "    - extends list correctly; `append` (**0.1 pts**)\n",
    "\n",
    "- `calculate_item` method:\n",
    "    - method definition correct with `self` (**0.15 pts**)\n",
    "    - `long_tasks` and `short_tasks` defined wtihin method (**0.05 pts**)\n",
    "    - some variable initialized with 0; this variable `return`ed from function (**0.15 pts**)\n",
    "    - loops correctly through list attribute  (**0.15 pts**)\n",
    "    - variable tracking hours updated correctly  (**0.15 pts**)\n",
    "\n",
    "Note: autograder credit can be returned for portions above if particular aspect (class attribute, instance attribute, or method) were correct, but test failed because overall `class` was defined incorrectly\n",
    "\n",
    "=== END MARK SCHEME ==="
   ]
  },
  {
   "cell_type": "markdown",
   "id": "6687b4d7",
   "metadata": {
    "nbgrader": {
     "grade": false,
     "grade_id": "end",
     "locked": true,
     "schema_version": 3,
     "solution": false
    }
   },
   "source": [
    "### Exam II complete!\n",
    "\n",
    "Good work - you're done with the second exam!\n",
    "\n",
    "Check your work, and then when you're ready, **submit on datahub**.\n",
    "\n",
    "We will not have your exam until you click submit and see this show up under 'submitted assignments'."
   ]
  }
 ],
 "metadata": {
  "celltoolbar": "Create Assignment",
  "kernelspec": {
   "display_name": "Python 3 (ipykernel)",
   "language": "python",
   "name": "python3"
  },
  "language_info": {
   "codemirror_mode": {
    "name": "ipython",
    "version": 3
   },
   "file_extension": ".py",
   "mimetype": "text/x-python",
   "name": "python",
   "nbconvert_exporter": "python",
   "pygments_lexer": "ipython3",
   "version": "3.9.5"
  }
 },
 "nbformat": 4,
 "nbformat_minor": 5
}
