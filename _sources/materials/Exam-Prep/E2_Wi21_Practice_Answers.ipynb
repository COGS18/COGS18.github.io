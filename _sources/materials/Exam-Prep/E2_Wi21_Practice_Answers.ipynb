{
 "cells": [
  {
   "cell_type": "markdown",
   "metadata": {
    "nbgrader": {
     "grade": false,
     "grade_id": "intro",
     "locked": true,
     "schema_version": 3,
     "solution": false
    }
   },
   "source": [
    "# COGS 18 - Practice Exam 2\n",
    "\n",
    "This is the second practice exam for Winter 2021. It covers topics through the Classes Lecture.\n",
    "\n",
    "This is worth 0 points and worth 0% of your grade, but the real total exam is out of 12.5 points, worth 12.5% of your grade. \n",
    "\n",
    "**PLEASE DO NOT CHANGE THE NAME OF THIS FILE.**\n",
    "\n",
    "**PLEASE DO NOT COPY & PASTE OR DELETE CELLS INLCUDED IN THE ASSIGNMENT.** (Note that you can add additional cells, if you want to test things out."
   ]
  },
  {
   "cell_type": "markdown",
   "metadata": {
    "nbgrader": {
     "grade": false,
     "grade_id": "instructions1",
     "locked": true,
     "schema_version": 3,
     "solution": false
    }
   },
   "source": [
    "## Instructions\n",
    "\n",
    "#### Timing\n",
    "- The exam is designed to take you ~1h.\n",
    "- There will be a 24 hour window during which you can complete this exam.\n",
    "- If it takes you longer than 1h, you're free to use that time.\n",
    "\n",
    "#### The Rules\n",
    "- You are to complete this exam on your own.\n",
    "- This is open-notes & open-Google\n",
    "- You may not talk to any humans about this exam. \n",
    "- The following are all *prohibited*:\n",
    "    - text/phone/online chat communication\n",
    "    - posting questions to a message board where a human could respond\n",
    "    - asking anyone via any form about a question on this test directly\n",
    "- Clarification questions will ***not*** be allowed and there will be no posting on Campuswire about the exam at all. \n",
    "    - Campuswire posts about the exam will not be answered and will be deleted. \n",
    "    - Students who post questions about the exam to Campuswire are at risk of losing points on the exam.\n",
    "    - If you are confused about wording, add a note to your exam explaining your confusion and how you interpreted the question. \n",
    "    - Note: This policy is b/c we are incapable of responding for 24h straight. This is the only way to make it fair across the board for students."
   ]
  },
  {
   "cell_type": "markdown",
   "metadata": {
    "nbgrader": {
     "grade": false,
     "grade_id": "instructions2",
     "locked": true,
     "schema_version": 3,
     "solution": false
    }
   },
   "source": [
    " <span style=\"color: red;\">Note: </span> There _is_ a chance for partial credit on some questions, so _some_ code is better than _no_ code. Even if it throws an error, having some code that partially answers the question will benefit you/your grade."
   ]
  },
  {
   "cell_type": "markdown",
   "metadata": {
    "nbgrader": {
     "grade": false,
     "grade_id": "part1",
     "locked": true,
     "schema_version": 3,
     "solution": false
    }
   },
   "source": [
    "## Part 1: E1 Review (3 points)\n",
    "\n",
    "There will be 3 questions on Part I, as specified below, with these point values.\n",
    "\n",
    "To review for this part of the exam, review Exam 1 and Practice Exam 1"
   ]
  },
  {
   "cell_type": "markdown",
   "metadata": {
    "nbgrader": {
     "grade": false,
     "grade_id": "q1",
     "locked": true,
     "schema_version": 3,
     "solution": false
    }
   },
   "source": [
    "### Q1 - Variables, Operators & Indexing (0.5 points)\n"
   ]
  },
  {
   "cell_type": "markdown",
   "metadata": {
    "nbgrader": {
     "grade": false,
     "grade_id": "q2",
     "locked": true,
     "schema_version": 3,
     "solution": false
    }
   },
   "source": [
    "### Q2 - Conditionals & Loops (1.25 points)\n"
   ]
  },
  {
   "cell_type": "markdown",
   "metadata": {
    "nbgrader": {
     "grade": false,
     "grade_id": "q3",
     "locked": true,
     "schema_version": 3,
     "solution": false
    }
   },
   "source": [
    "### Q3 - Loop to Complete a Task (1.25 point)\n"
   ]
  },
  {
   "cell_type": "markdown",
   "metadata": {
    "nbgrader": {
     "grade": false,
     "grade_id": "part2",
     "locked": true,
     "schema_version": 3,
     "solution": false
    }
   },
   "source": [
    "## Part 2: Functions (4.25 points)"
   ]
  },
  {
   "cell_type": "markdown",
   "metadata": {
    "nbgrader": {
     "grade": false,
     "grade_id": "q4",
     "locked": true,
     "schema_version": 3,
     "solution": false,
     "task": false
    }
   },
   "source": [
    "### Q4 - Function execution (0.75 points)\n",
    "\n",
    "The cell below includes a function that has been provided for you. After running the cell below (to define this function), execute (use) this function to create the following variables under the specified conditions:\n",
    "\n",
    "1. `square_default` | execute the `square_all` function using the default parameter such that the output will carry out the function on a list of input values containing the integers 2, 3, and 4. \n",
    "2. `power_three` | Use the same input values as above, but this time, use the `square_all` function provided to raise all input values to the power 3\n",
    "3. `out_4` | Execute the `square_all` function such that `out_4` will store a list with 4 values, each of which is the integer 4."
   ]
  },
  {
   "cell_type": "code",
   "execution_count": 1,
   "metadata": {
    "nbgrader": {
     "grade": false,
     "grade_id": "q4-funct",
     "locked": true,
     "schema_version": 3,
     "solution": false,
     "task": false
    }
   },
   "outputs": [],
   "source": [
    "def square_all(collection, power=2):\n",
    "    \n",
    "    square_list = []\n",
    "    for val in collection:\n",
    "        square_list.append(val**power)\n",
    "    \n",
    "    return square_list"
   ]
  },
  {
   "cell_type": "code",
   "execution_count": 2,
   "metadata": {},
   "outputs": [],
   "source": [
    "# BE SURE YOUR ANSWER IS IN THE CELL BELOW\n",
    "# but you can use this cell to test/execute/check your thinking (optional)"
   ]
  },
  {
   "cell_type": "code",
   "execution_count": 3,
   "metadata": {
    "nbgrader": {
     "grade": false,
     "grade_id": "q4-solution",
     "locked": false,
     "schema_version": 3,
     "solution": true,
     "task": false
    }
   },
   "outputs": [],
   "source": [
    "### BEGIN SOLUTION\n",
    "square_default = square_all([2,3,4])\n",
    "power_three = square_all([2,3,4], 3)\n",
    "out_4 = square_all([2,2,2,2]) # this execution could differ\n",
    "### END SOLUTION"
   ]
  },
  {
   "cell_type": "code",
   "execution_count": 4,
   "metadata": {
    "nbgrader": {
     "grade": true,
     "grade_id": "q4-test1",
     "locked": true,
     "points": 0,
     "schema_version": 3,
     "solution": false,
     "task": false
    }
   },
   "outputs": [],
   "source": [
    "assert square_default is not None\n",
    "\n",
    "### BEGIN HIDDEN TESTS\n",
    "assert  square_default == [4,9,16]\n",
    "### END HIDDEN TESTS"
   ]
  },
  {
   "cell_type": "code",
   "execution_count": 5,
   "metadata": {
    "nbgrader": {
     "grade": true,
     "grade_id": "q4-test2",
     "locked": true,
     "points": 0,
     "schema_version": 3,
     "solution": false,
     "task": false
    }
   },
   "outputs": [],
   "source": [
    "assert power_three is not None\n",
    "\n",
    "### BEGIN HIDDEN TESTS\n",
    "assert power_three  == [8, 27, 64]\n",
    "### END HIDDEN TESTS"
   ]
  },
  {
   "cell_type": "code",
   "execution_count": 6,
   "metadata": {
    "nbgrader": {
     "grade": true,
     "grade_id": "q4-test3",
     "locked": true,
     "points": 0,
     "schema_version": 3,
     "solution": false,
     "task": false
    }
   },
   "outputs": [],
   "source": [
    "assert out_4 is not None\n",
    "\n",
    "### BEGIN HIDDEN TESTS\n",
    "assert out_4  == [4,4,4,4]\n",
    "### END HIDDEN TESTS"
   ]
  },
  {
   "cell_type": "markdown",
   "metadata": {
    "nbgrader": {
     "grade": false,
     "grade_id": "q4-test4",
     "locked": true,
     "points": 0,
     "schema_version": 3,
     "solution": false,
     "task": true
    }
   },
   "source": [
    "**This \"blank\" cell included intentionally.** Do not do anything here. (It's being used in grading.)\n",
    "\n",
    "=== BEGIN MARK SCHEME ===\n",
    "\n",
    "function executed appropriately for variable creation (aka not hard coded) (**1 point** ; 0.33 per function call)\n",
    "\n",
    "=== END MARK SCHEME ==="
   ]
  },
  {
   "cell_type": "markdown",
   "metadata": {
    "nbgrader": {
     "grade": false,
     "grade_id": "q7",
     "locked": true,
     "schema_version": 3,
     "solution": false
    }
   },
   "source": [
    "### Q5 - `count_int` (1 point)\n",
    "\n",
    "Write a function `count_int` that will take a tuple or list as the input and count the number (count) of integer values in that tuple/list, returning this value from the function. \n",
    "\n",
    "For example, if 3 of the values in the input list were integers, the function would return 3.\n",
    "\n",
    "Note: You can assume the input to this function will be a tuple or list and do *not* need to write code to check whether or not this is true."
   ]
  },
  {
   "cell_type": "code",
   "execution_count": 7,
   "metadata": {
    "nbgrader": {
     "grade": false,
     "grade_id": "q7-solution",
     "locked": false,
     "schema_version": 3,
     "solution": true
    }
   },
   "outputs": [],
   "source": [
    "### BEGIN SOLUTION\n",
    "def count_int(col):\n",
    "    count = 0\n",
    "    \n",
    "    for val in col:\n",
    "        if type(val) == int:\n",
    "            count += 1\n",
    "    \n",
    "    return count\n",
    "### END SOLUTION"
   ]
  },
  {
   "cell_type": "code",
   "execution_count": 8,
   "metadata": {},
   "outputs": [],
   "source": [
    "# BE SURE YOUR ANSWER IS IN THE CELL ABOVE\n",
    "# but you can use this cell to test/execute/check your function (optional)"
   ]
  },
  {
   "cell_type": "code",
   "execution_count": 9,
   "metadata": {
    "nbgrader": {
     "grade": true,
     "grade_id": "q5-test1",
     "locked": true,
     "points": 0,
     "schema_version": 3,
     "solution": false,
     "task": false
    }
   },
   "outputs": [],
   "source": [
    "assert callable(count_int)\n",
    "\n",
    "### BEGIN HIDDEN TESTS\n",
    "assert count_int((1,2,3,4,5,'string',4.4)) == 5\n",
    "assert count_int([1,2,3,4,5,'string',4.4]) == 5\n",
    "### END HIDDEN TESTS"
   ]
  },
  {
   "cell_type": "markdown",
   "metadata": {
    "nbgrader": {
     "grade": false,
     "grade_id": "q5-test2",
     "locked": true,
     "points": 0,
     "schema_version": 3,
     "solution": false,
     "task": true
    }
   },
   "source": [
    "**This \"blank\" cell included intentionally.** Do not do anything here. (It's being used in grading.)\n",
    "\n",
    "=== BEGIN MARK SCHEME ===\n",
    "\n",
    "partial credit for answer above:\n",
    "\n",
    "- function defined correctly (**0.5 points**)\n",
    "- input parameter specified  (**0.5 points**)\n",
    "- counter initialized (**0.5 points**)\n",
    "- for loop (or equivalent) correct (**0.2 points**)\n",
    "- conditional (or equivalent) correct (**0.3 points**)\n",
    "- counter incremented correctly (**0.5 points**) \n",
    "- `return` statement included (**0.5 points**)\n",
    "\n",
    "=== END MARK SCHEME ==="
   ]
  },
  {
   "cell_type": "markdown",
   "metadata": {
    "nbgrader": {
     "grade": false,
     "grade_id": "q6",
     "locked": true,
     "schema_version": 3,
     "solution": false
    }
   },
   "source": [
    "### Q6 - `provide_info` (1 point)\n",
    "\n",
    "Write a function `provide_info` that takes three parameters: `name`, `year`, and `school` .\n",
    "\n",
    "Set the default value for `school` to be 'UCSD'.\n",
    "\n",
    "This function should `return` the string \"Hi. I'm `name`. I am a `year` at `school`.\" (where the variable names are replaced by the values input to the function upon execution).\n",
    "\n",
    "For example, one possible execution of this function could return \"Hi! I'm Shannon. I am a sophomore at UCSD.\"\n",
    "\n",
    "Note: Be sure punctuation and spacing match that specified in the instructions."
   ]
  },
  {
   "cell_type": "code",
   "execution_count": 10,
   "metadata": {
    "nbgrader": {
     "grade": false,
     "grade_id": "q6-solution",
     "locked": false,
     "schema_version": 3,
     "solution": true
    }
   },
   "outputs": [],
   "source": [
    "### BEGIN SOLUTION\n",
    "def provide_info(name, year, school='UCSD'):\n",
    "    output = \"Hi. I'm \" + name + '. I am a ' + year + ' at ' + school + '.'\n",
    "    return output\n",
    "### END SOLUTION"
   ]
  },
  {
   "cell_type": "code",
   "execution_count": 11,
   "metadata": {},
   "outputs": [],
   "source": [
    "# BE SURE YOUR ANSWER IS IN THE CELL ABOVE\n",
    "# but you can use this cell to test/execute/check your function (optional)"
   ]
  },
  {
   "cell_type": "code",
   "execution_count": 12,
   "metadata": {
    "nbgrader": {
     "grade": true,
     "grade_id": "q6-test1",
     "locked": true,
     "points": 0,
     "schema_version": 3,
     "solution": false
    }
   },
   "outputs": [],
   "source": [
    "assert callable(provide_info)\n",
    "\n",
    "### BEGIN HIDDEN TESTS\n",
    "assert provide_info(name = 'Taylor', year = 'junior', school = 'UCLA') == \"Hi! I'm Taylor. I am a junior at UCLA.\" or provide_info(name='Taylor', year='junior', school = 'UCLA') == \"Hi. I'm Taylor. I am a junior at UCLA.\"\n",
    "### END HIDDEN TESTS"
   ]
  },
  {
   "cell_type": "code",
   "execution_count": 13,
   "metadata": {
    "nbgrader": {
     "grade": true,
     "grade_id": "q6-test2",
     "locked": true,
     "points": 0,
     "schema_version": 3,
     "solution": false,
     "task": false
    }
   },
   "outputs": [],
   "source": [
    "# hidden tests for function above\n",
    "### BEGIN HIDDEN TESTS\n",
    "# assure defaul parameter is correct\n",
    "assert provide_info(name = 'Taylor', year = 'junior') == \"Hi! I'm Taylor. I am a junior at UCSD.\" or provide_info(name='Taylor', year='junior') == \"Hi. I'm Taylor. I am a junior at UCSD.\"\n",
    "### END HIDDEN TESTS"
   ]
  },
  {
   "cell_type": "markdown",
   "metadata": {
    "nbgrader": {
     "grade": false,
     "grade_id": "q6-test3",
     "locked": true,
     "points": 0,
     "schema_version": 3,
     "solution": false,
     "task": true
    }
   },
   "source": [
    "**This \"blank\" cell included intentionally.** Do not do anything here. (It's being used in grading.)\n",
    "\n",
    "\n",
    "=== BEGIN MARK SCHEME ===\n",
    "\n",
    "partial credit for answer above:\n",
    "\n",
    "- function defined correctly (**0.5 points**)\n",
    "- 3 parameters specified (**0.5 points**)\n",
    "- default parameter specified correctly (**0.5 points**)\n",
    "- string concatenation attempted correctly (even if typos in string) (**1 point**)\n",
    "- `return` statement included (**0.3 points**)\n",
    "\n",
    "=== END MARK SCHEME ==="
   ]
  },
  {
   "cell_type": "markdown",
   "metadata": {
    "nbgrader": {
     "grade": false,
     "grade_id": "cell-d98d683fccdf9a85",
     "locked": true,
     "schema_version": 3,
     "solution": false,
     "task": false
    }
   },
   "source": [
    "### Q7 - Debugging (1.5 points)\n",
    "\n",
    "In the cell below, there is a function that is not operating as anticipated.\n",
    "\n",
    "`count_consonants` is _supposed_ to take a string as input and count the number of each consonant in the `input_string` (input parameter), storing the output in a dictionary where the key is the consonant and the value is the number of times it appears in the input. \n",
    "\n",
    "Note that we want capitalization to be considered such that the capital and lower case letters are counted together, and the lower case letter is used as the key (i.e. 'A' and 'a' would both be counted under the key 'a')\n",
    "\n",
    "Specifically, if the `input_string` were \"Mohammed\", the function ould return: `{'m': 3, 'h': 1, 'd': 1}`\n",
    "\n",
    "Debug, edit, and test the function provided below so that it accomplishes the intended goal."
   ]
  },
  {
   "cell_type": "code",
   "execution_count": 14,
   "metadata": {
    "nbgrader": {
     "grade": false,
     "grade_id": "cell-bf67b586499664bc",
     "locked": false,
     "schema_version": 3,
     "solution": true
    }
   },
   "outputs": [],
   "source": [
    "def count_consonants():\n",
    "    out = {}\n",
    "    vowels = ['a', 'e', 'i', 'o', 'u']\n",
    "    \n",
    "    for char in input_string:\n",
    "        \n",
    "        if char not in vowels:\n",
    "            if char not in out:\n",
    "                out[char] = 1\n",
    "\n",
    "### BEGIN SOLUTION\n",
    "def count_consonants(input_string):\n",
    "    out = {}\n",
    "    vowels = ['a', 'e', 'i', 'o', 'u']\n",
    "    \n",
    "    for char in input_string:\n",
    "        char = char.lower()\n",
    "        \n",
    "        if char not in vowels:\n",
    "            if char not in out:\n",
    "                out[char] = 1\n",
    "            else:\n",
    "                out[char] += 1\n",
    "    return out\n",
    "### END SOLUTION"
   ]
  },
  {
   "cell_type": "code",
   "execution_count": 15,
   "metadata": {},
   "outputs": [],
   "source": [
    "# BE SURE YOUR ANSWER IS IN THE CELL ABOVE\n",
    "# but you can use this cell to test/execute/check your function (optional)"
   ]
  },
  {
   "cell_type": "code",
   "execution_count": 16,
   "metadata": {
    "nbgrader": {
     "grade": true,
     "grade_id": "q7-test1",
     "locked": true,
     "points": 0.35,
     "schema_version": 3,
     "solution": false,
     "task": false
    }
   },
   "outputs": [],
   "source": [
    "assert count_consonants is not None\n",
    "\n",
    "### BEGIN HIDDEN TESTS\n",
    "assert count_consonants('Taylor') == {'t': 1, 'y': 1, 'l': 1, 'r': 1}\n",
    "### END HIDDEN TESTS"
   ]
  },
  {
   "cell_type": "code",
   "execution_count": 17,
   "metadata": {
    "nbgrader": {
     "grade": true,
     "grade_id": "q7-test2",
     "locked": true,
     "points": 0.35,
     "schema_version": 3,
     "solution": false,
     "task": false
    }
   },
   "outputs": [],
   "source": [
    "assert callable(count_consonants)\n",
    "\n",
    "### BEGIN HIDDEN TESTS\n",
    "assert count_consonants('AaBbCc') == {'b': 2, 'c': 2}\n",
    "### END HIDDEN TESTS"
   ]
  },
  {
   "cell_type": "markdown",
   "metadata": {
    "nbgrader": {
     "grade": false,
     "grade_id": "q7-test3",
     "locked": true,
     "points": 0.8,
     "schema_version": 3,
     "solution": false,
     "task": true
    }
   },
   "source": [
    "**This \"blank\" cell included intentionally.** Do not do anything here. (It's being used in grading.)\n",
    "\n",
    "=== BEGIN MARK SCHEME ===\n",
    "- input parameter included (**0.2 points**)\n",
    "- captitalization accounted for (**0.2 points**)\n",
    "- else condition (or equivalent) included (**0.2 points**)\n",
    "- return statement included (**0.2 points**)\n",
    "=== END MARK SCHEME ==="
   ]
  },
  {
   "cell_type": "markdown",
   "metadata": {
    "nbgrader": {
     "grade": false,
     "grade_id": "cell-4ab8407deca62752",
     "locked": true,
     "schema_version": 3,
     "solution": false,
     "task": false
    }
   },
   "source": [
    "## Part 3: Objects & Classes (5.25 points)\n",
    "\n",
    "Note this section has *more* questions than your real exam will have. This is where students tend to struggle the most as the material is new and puts all the pieces we've talked about so far this quarter together, so I wanted you to have extra practice."
   ]
  },
  {
   "cell_type": "markdown",
   "metadata": {
    "nbgrader": {
     "grade": false,
     "grade_id": "q8",
     "locked": true,
     "schema_version": 3,
     "solution": false
    }
   },
   "source": [
    "### Q8 - `random` (0.25 points)\n",
    "\n",
    "Import the `random` module."
   ]
  },
  {
   "cell_type": "code",
   "execution_count": 18,
   "metadata": {
    "nbgrader": {
     "grade": false,
     "grade_id": "q8-solution",
     "locked": false,
     "schema_version": 3,
     "solution": true,
     "task": false
    }
   },
   "outputs": [],
   "source": [
    "### BEGIN SOLUTION\n",
    "import random\n",
    "### END SOLUTION"
   ]
  },
  {
   "cell_type": "code",
   "execution_count": 19,
   "metadata": {
    "nbgrader": {
     "grade": true,
     "grade_id": "a8-test1",
     "locked": true,
     "points": 0.25,
     "schema_version": 3,
     "solution": false,
     "task": false
    }
   },
   "outputs": [],
   "source": [
    "assert random"
   ]
  },
  {
   "cell_type": "markdown",
   "metadata": {
    "nbgrader": {
     "grade": false,
     "grade_id": "q9",
     "locked": true,
     "schema_version": 3,
     "solution": false
    }
   },
   "source": [
    "### Q9 - `Kingdom()` (2.5 points)\n",
    "\n",
    "For this question (and the next one), imagine you want to create a video game with a handful of characters. You want this game to have a royal kingdom theme.\n",
    "\n",
    "Here, define a class `Kingdom()`.\n",
    "\n",
    "This class should have two instance attributes: `name` and `title`, which will be strings specifying the name and title of the character (in that order).\n",
    "\n",
    "This class will also have a method `introduce()`. This method should `return` (*not* just `print`) a string, similar to:\n",
    "\n",
    "```\n",
    "'Hello, my name is Ferdinand, and I am a King.' \n",
    "```\n",
    "\n",
    "...where 'Ferdinand' corresponds to whatever is stored in `Kingdom()` object's `name` attribute is and 'King' corresponds to whatever is stored in the `Kingdom()` object's `title` attribute.\n"
   ]
  },
  {
   "cell_type": "code",
   "execution_count": 20,
   "metadata": {
    "nbgrader": {
     "grade": false,
     "grade_id": "q9-solution",
     "locked": false,
     "schema_version": 3,
     "solution": true
    }
   },
   "outputs": [],
   "source": [
    "### BEGIN SOLUTION\n",
    "class Kingdom():\n",
    "    \n",
    "    def __init__(self, name, title):\n",
    "        self.name = name\n",
    "        self.title = title\n",
    "    \n",
    "    def introduce(self):\n",
    "        return 'Hello, my name is ' + self.name + ', and I am a ' + self.title + '.'\n",
    "### END SOLUTION\n"
   ]
  },
  {
   "cell_type": "code",
   "execution_count": 21,
   "metadata": {},
   "outputs": [],
   "source": [
    "# BE SURE YOUR ANSWER IS IN THE CELL ABOVE\n",
    "# but you can use this cell to test/execute/check your function (optional)"
   ]
  },
  {
   "cell_type": "code",
   "execution_count": 22,
   "metadata": {
    "nbgrader": {
     "grade": true,
     "grade_id": "q9-test1",
     "locked": true,
     "points": 0.5,
     "schema_version": 3,
     "solution": false
    }
   },
   "outputs": [],
   "source": [
    "# Tests for the object\n",
    "assert Kingdom\n",
    "\n",
    "### BEGIN HIDDEN TESTS\n",
    "queen = Kingdom('Elizabeth', 'Queen')\n",
    "assert isinstance(queen, Kingdom)\n",
    "assert queen.name == 'Elizabeth'\n",
    "assert queen.title == 'Queen'\n",
    "### END HIDDEN TESTS"
   ]
  },
  {
   "cell_type": "code",
   "execution_count": 23,
   "metadata": {
    "nbgrader": {
     "grade": true,
     "grade_id": "q9-test2",
     "locked": true,
     "points": 0.5,
     "schema_version": 3,
     "solution": false
    }
   },
   "outputs": [],
   "source": [
    "# Tests for introduce method\n",
    "assert callable(Kingdom)\n",
    "\n",
    "### BEGIN HIDDEN TESTS\n",
    "assert callable(queen.introduce)\n",
    "assert isinstance(queen.introduce(), str)\n",
    "### END HIDDEN TESTS"
   ]
  },
  {
   "cell_type": "markdown",
   "metadata": {
    "nbgrader": {
     "grade": false,
     "grade_id": "q9-test3",
     "locked": true,
     "points": 1.5,
     "schema_version": 3,
     "solution": false,
     "task": true
    }
   },
   "source": [
    "**This \"blank\" cell included intentionally.** Do not do anything here. (It's being used in grading.)\n",
    "\n",
    "=== BEGIN MARK SCHEME ===\n",
    "\n",
    "partial credit for answer above:\n",
    "\n",
    "- class defined correctly (**0.25 points**)\n",
    "- instance attributes initialized correctly with `self` + paramters (**0.25 points**)\n",
    "- `self` used correctly in instance attribute code block (**0.25 points**)\n",
    "- introduce method defined with `self` as parameter (**0.25 points**)\n",
    "- `return` statement returns a string (**0.25 points**)\n",
    "- `return` includes reference to `self.name` and `self.title` (**0.25 points**)\n",
    "\n",
    "=== END MARK SCHEME ==="
   ]
  },
  {
   "cell_type": "markdown",
   "metadata": {
    "nbgrader": {
     "grade": false,
     "grade_id": "q10",
     "locked": true,
     "schema_version": 3,
     "solution": false
    }
   },
   "source": [
    "### Q10 - `CourtJester` (2.5 points)\n",
    "\n",
    "Generate a class called `CourtJester()`.\n",
    "\n",
    "This object should inherit all attributes and methods from `Kingdom()`.\n",
    "\n",
    "Additionally, the `CourtJester()` object should have:\n",
    "- a class attribute `headwear`, storing the value `'fool's cap'`\n",
    "- a method `tell_a_joke()` that should `return` a joke at random from the list provided below\n",
    "\n",
    "(Reminder: You imported the `random` module earlier. Use of a function from that module will likely be helpful in `tell_a_joke()`.)"
   ]
  },
  {
   "cell_type": "markdown",
   "metadata": {},
   "source": [
    "**Note**: I said to skip this question during the Exam Review in class b/c I did not teach inheritance this quarter, which is required for this question...and I failed to consider this when I put it on the practice midterm."
   ]
  },
  {
   "cell_type": "code",
   "execution_count": 24,
   "metadata": {},
   "outputs": [
    {
     "data": {
      "text/plain": [
       "['A clown held the door open for me yesterday. I thought it was a nice jester',\n",
       " 'How does the court jester address the King of Ducks? Mal’Lard',\n",
       " 'What did the court jester call the balding crown prince? The Heir Apparent with no Hair Apparent',\n",
       " 'What do you call a joke made by using sign language? A jester']"
      ]
     },
     "execution_count": 24,
     "metadata": {},
     "output_type": "execute_result"
    }
   ],
   "source": [
    "# joke list provided\n",
    "['A clown held the door open for me yesterday. I thought it was a nice jester',\n",
    " 'How does the court jester address the King of Ducks? Mal’Lard',\n",
    " 'What did the court jester call the balding crown prince? The Heir Apparent with no Hair Apparent',\n",
    " 'What do you call a joke made by using sign language? A jester']"
   ]
  },
  {
   "cell_type": "code",
   "execution_count": 25,
   "metadata": {
    "nbgrader": {
     "grade": false,
     "grade_id": "q10-solution",
     "locked": false,
     "schema_version": 3,
     "solution": true
    }
   },
   "outputs": [],
   "source": [
    "### BEGIN SOLUTION\n",
    "class CourtJester(Kingdom):\n",
    "\n",
    "    headwear = \"fool's cap\"\n",
    "        \n",
    "    def tell_a_joke(self):\n",
    "        joke_list = ['A clown held the door open for me yesterday. I thought it was a nice jester',\n",
    " 'How does the court jester address the King of Ducks? Mal’Lard',\n",
    " 'What did the court jester call the balding crown prince? The Heir Apparent with no Hair Apparent',\n",
    " 'What do you call a joke made by using sign language? A jester']\n",
    "        out_joke = random.choice(joke_list)\n",
    "        return out_joke\n",
    "    \n",
    "### END SOLUTION"
   ]
  },
  {
   "cell_type": "code",
   "execution_count": 26,
   "metadata": {},
   "outputs": [],
   "source": [
    "# BE SURE YOUR ANSWER IS IN THE CELL ABOVE\n",
    "# but you can use this cell to test/execute/check your class (optional)"
   ]
  },
  {
   "cell_type": "code",
   "execution_count": 27,
   "metadata": {
    "nbgrader": {
     "grade": true,
     "grade_id": "q10-test1",
     "locked": true,
     "points": 0.5,
     "schema_version": 3,
     "solution": false
    }
   },
   "outputs": [],
   "source": [
    "assert CourtJester\n",
    "\n",
    "### BEGIN HIDDEN TESTS\n",
    "jester = CourtJester('Barney', 'Jester')\n",
    "assert jester.headwear == \"fool's cap\"\n",
    "### END HIDDEN TESTS"
   ]
  },
  {
   "cell_type": "code",
   "execution_count": 28,
   "metadata": {
    "nbgrader": {
     "grade": true,
     "grade_id": "q10-test2",
     "locked": true,
     "points": 0.5,
     "schema_version": 3,
     "solution": false,
     "task": false
    }
   },
   "outputs": [],
   "source": [
    "assert callable(CourtJester)\n",
    "\n",
    "### BEGIN HIDDEN TESTS\n",
    "assert jester.name == 'Barney'\n",
    "assert jester.title == 'Jester'\n",
    "### END HIDDEN TESTS"
   ]
  },
  {
   "cell_type": "code",
   "execution_count": 29,
   "metadata": {
    "nbgrader": {
     "grade": true,
     "grade_id": "q10-test3",
     "locked": true,
     "points": 0.5,
     "schema_version": 3,
     "solution": false,
     "task": false
    }
   },
   "outputs": [],
   "source": [
    "assert callable(CourtJester.tell_a_joke)\n",
    "\n",
    "### BEGIN HIDDEN TESTS\n",
    "joke_list = ['A clown held the door open for me yesterday. I thought it was a nice jester',\n",
    "'How does the court jester address the King of Ducks? Mal’Lard',\n",
    " 'What did the court jester call the balding crown prince? The Heir Apparent with no Hair Apparent',\n",
    " 'What do you call a joke made by using sign language? A jester']\n",
    "\n",
    "assert jester.tell_a_joke() in joke_list\n",
    "### END HIDDEN TESTS"
   ]
  },
  {
   "cell_type": "markdown",
   "metadata": {
    "nbgrader": {
     "grade": false,
     "grade_id": "q10-test4",
     "locked": true,
     "points": 1,
     "schema_version": 3,
     "solution": false,
     "task": true
    }
   },
   "source": [
    "**This \"blank\" cell included intentionally.** Do not do anything here. (It's being used in grading.)\n",
    "\n",
    "=== BEGIN MARK SCHEME ===\n",
    "\n",
    "partial credit for answer above:\n",
    "\n",
    "- class inherits correctly (**0.25 points**)\n",
    "- class attribute defined correctly (**0.25 points**)\n",
    "- list of jokes defined/included within class (**0.25 points**)\n",
    "- `random.choice()` used in method correctly (**0.25 points**)\n",
    "\n",
    "=== END MARK SCHEME ==="
   ]
  },
  {
   "cell_type": "markdown",
   "metadata": {
    "nbgrader": {
     "grade": false,
     "grade_id": "q11",
     "locked": true,
     "schema_version": 3,
     "solution": false
    }
   },
   "source": [
    "### Q11 - Classes (2.5 points)\n",
    "\n",
    "Generate a class called `BasketballGame`.\n",
    "\n",
    "This class should have four instance attributes: `home_team`, `away_team`, `home_points`, and `away_points`\n",
    "\n",
    "It should also have one method, `play_game()`. \n",
    "\n",
    "Within the `play_game` method, add code that would determine who the winner of the game is (determined by the team with the most points), returning Winner: ' and the winning team's name.\n",
    "\n",
    "For ties, return: 'Winner: tie'"
   ]
  },
  {
   "cell_type": "code",
   "execution_count": 30,
   "metadata": {
    "nbgrader": {
     "grade": false,
     "grade_id": "q11-solution",
     "locked": false,
     "schema_version": 3,
     "solution": true
    }
   },
   "outputs": [],
   "source": [
    "### BEGIN SOLUTION\n",
    "class BasketballGame():\n",
    "    def __init__(self, home_team, away_team, home_points, away_points):\n",
    "        self.home_team = home_team\n",
    "        self.away_team = away_team\n",
    "        self.home_points = home_points\n",
    "        self.away_points = away_points\n",
    "    \n",
    "    def play_game(self):\n",
    "        if self.home_points > self.away_points:\n",
    "            out = 'Winner: ' + self.home_team\n",
    "        elif self.away_points > self.home_points:\n",
    "            out = 'Winner: ' + self.away_team\n",
    "        else:\n",
    "            out = 'Winner: tie'\n",
    "        \n",
    "        return out\n",
    "### END SOLUTION"
   ]
  },
  {
   "cell_type": "code",
   "execution_count": 31,
   "metadata": {},
   "outputs": [],
   "source": [
    "# use this cell to test/execute/check your class (optional)"
   ]
  },
  {
   "cell_type": "code",
   "execution_count": 32,
   "metadata": {
    "nbgrader": {
     "grade": true,
     "grade_id": "q11-test1",
     "locked": true,
     "points": 0,
     "schema_version": 3,
     "solution": false
    }
   },
   "outputs": [],
   "source": [
    "assert callable(BasketballGame)\n",
    "\n",
    "### BEGIN HIDDEN TESTS\n",
    "game = BasketballGame(home_team='Warriors', away_team='Sixers', \n",
    "                      home_points=100, away_points=105)\n",
    "\n",
    "# test attributes\n",
    "assert game.home_team == 'Warriors'\n",
    "assert game.away_team == 'Sixers'\n",
    "assert game.home_points == 100\n",
    "assert game.away_points == 105\n",
    "### END HIDDEN TESTS"
   ]
  },
  {
   "cell_type": "code",
   "execution_count": 33,
   "metadata": {
    "nbgrader": {
     "grade": true,
     "grade_id": "q11-test2",
     "locked": true,
     "points": 0,
     "schema_version": 3,
     "solution": false,
     "task": false
    }
   },
   "outputs": [],
   "source": [
    "assert callable(BasketballGame.play_game)\n",
    "\n",
    "### BEGIN HIDDEN TESTS\n",
    "# test method\n",
    "assert game.play_game() == 'Winner: Sixers'\n",
    "### END HIDDEN TESTS"
   ]
  },
  {
   "cell_type": "markdown",
   "metadata": {
    "nbgrader": {
     "grade": false,
     "grade_id": "q11-test3",
     "locked": true,
     "points": 0,
     "schema_version": 3,
     "solution": false,
     "task": true
    }
   },
   "source": [
    "This \"blank\" cell included intentionally. Do not do anything here. (It's being used in grading.)\n",
    "\n",
    "=== BEGIN MARK SCHEME ===\n",
    "\n",
    "rubric for partial credit\n",
    "\n",
    "=== END MARK SCHEME ==="
   ]
  },
  {
   "cell_type": "markdown",
   "metadata": {
    "nbgrader": {
     "grade": false,
     "grade_id": "cell-5454f4526cd0b696",
     "locked": true,
     "schema_version": 3,
     "solution": false,
     "task": false
    }
   },
   "source": [
    "### Q12 - Classes (2.5 points)\n",
    "\n",
    "Generate a class called `StudentInfo`.\n",
    "\n",
    "This class should have four *instance attributes*: `name`, `year`, `school`, and `proj_grade`. \n",
    "\n",
    "This class must also have a single method: `follow_up`. This method should determine if `proj_grade` is 65 or below. If `proj_grade` is 65 or below, the method should return the name of the student as the key and their proj_grade as the value in a dictionary. (If the student has a grade above 65, this method should return an empty dictionary.)"
   ]
  },
  {
   "cell_type": "code",
   "execution_count": 34,
   "metadata": {
    "nbgrader": {
     "grade": false,
     "grade_id": "cell-92fa4a2fb1c8bc18",
     "locked": false,
     "schema_version": 3,
     "solution": true,
     "task": false
    }
   },
   "outputs": [],
   "source": [
    "### BEGIN SOLUTION\n",
    "class StudentInfo():\n",
    "    \n",
    "    def __init__(self, name, year, school, proj_grade):\n",
    "        self.name = name\n",
    "        self.year = year\n",
    "        self.school = school\n",
    "        self.proj_grade = proj_grade\n",
    "        \n",
    "    def follow_up(self):\n",
    "        out = {}\n",
    "        if self.proj_grade <= 65:\n",
    "            out[self.name] = self.proj_grade\n",
    "        return out\n",
    "    \n",
    "### END SOLUTION"
   ]
  },
  {
   "cell_type": "code",
   "execution_count": 35,
   "metadata": {},
   "outputs": [],
   "source": [
    "# BE SURE YOUR ANSWER IS IN THE CELL ABOVE\n",
    "# but you can use this cell to test/execute/check your class (optional)"
   ]
  },
  {
   "cell_type": "code",
   "execution_count": 36,
   "metadata": {
    "nbgrader": {
     "grade": true,
     "grade_id": "cell-1c82d1d2be32aa8e",
     "locked": true,
     "points": 0,
     "schema_version": 3,
     "solution": false,
     "task": false
    }
   },
   "outputs": [],
   "source": [
    "assert callable(StudentInfo)\n",
    "\n",
    "### BEGIN HIDDEN TESTS\n",
    "student1 = StudentInfo(name='Shannon', year='sophomore', school='UCSD', proj_grade=63)\n",
    "student2 = StudentInfo(name='Josh', year='senior', school='UCSD', proj_grade=88)\n",
    "\n",
    "# test attributes\n",
    "assert student1.name == 'Shannon'\n",
    "assert student1.school == 'UCSD'\n",
    "assert student2.year == 'senior'\n",
    "assert student2.proj_grade == 88\n",
    "### END HIDDEN TESTS"
   ]
  },
  {
   "cell_type": "code",
   "execution_count": 37,
   "metadata": {
    "nbgrader": {
     "grade": true,
     "grade_id": "cell-f970ff0477c6069f",
     "locked": true,
     "points": 0,
     "schema_version": 3,
     "solution": false,
     "task": false
    }
   },
   "outputs": [],
   "source": [
    "assert callable(StudentInfo.follow_up)\n",
    "\n",
    "### BEGIN HIDDEN TESTS\n",
    "# test method\n",
    "assert student1.follow_up() == {'Shannon': 63}\n",
    "assert student2.follow_up() == {}\n",
    "### END HIDDEN TESTS"
   ]
  },
  {
   "cell_type": "markdown",
   "metadata": {
    "nbgrader": {
     "grade": false,
     "grade_id": "cell-bc1c89e25683a973",
     "locked": true,
     "points": 0,
     "schema_version": 3,
     "solution": false,
     "task": true
    }
   },
   "source": [
    "**This \"blank\" cell included intentionally.** Do not do anything here. (It's being used in grading.)\n",
    "\n",
    "=== BEGIN MARK SCHEME ===\n",
    "\n",
    "partial credit for answer above:\n",
    "\n",
    "- class defined correctly (**0.5 points**)\n",
    "- instance attribute def correct  (**0.5 points**)\n",
    "- `self` used correctly in instance attribute (**0.5 points**)\n",
    "- method defined correctly (**0.5 points**)\n",
    "- dictionary + conditional correct (**0.5 points**) \n",
    "- `return` statement included (**0.5 points**)\n",
    "\n",
    "=== END MARK SCHEME ==="
   ]
  },
  {
   "cell_type": "markdown",
   "metadata": {
    "nbgrader": {
     "grade": false,
     "grade_id": "end",
     "locked": true,
     "schema_version": 3,
     "solution": false
    }
   },
   "source": [
    "### (Practice) Exam II complete!\n",
    "\n",
    "Good work - you're done with the second (practice) exam!\n",
    "\n",
    "Check your work, and then when you're ready, **submit on datahub**.\n",
    "\n",
    "We will not have your exam until you click submit and see this show up under 'submitted assignments'."
   ]
  }
 ],
 "metadata": {
  "celltoolbar": "Create Assignment",
  "kernelspec": {
   "display_name": "Python 3",
   "language": "python",
   "name": "python3"
  },
  "language_info": {
   "codemirror_mode": {
    "name": "ipython",
    "version": 3
   },
   "file_extension": ".py",
   "mimetype": "text/x-python",
   "name": "python",
   "nbconvert_exporter": "python",
   "pygments_lexer": "ipython3",
   "version": "3.7.9"
  }
 },
 "nbformat": 4,
 "nbformat_minor": 2
}
