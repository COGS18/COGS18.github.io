{
 "cells": [
  {
   "cell_type": "markdown",
   "metadata": {
    "nbgrader": {
     "grade": false,
     "grade_id": "intro",
     "locked": true,
     "schema_version": 3,
     "solution": false
    }
   },
   "source": [
    "# COGS 18 - Final Exam\n",
    "\n",
    "This is the practice final exam for Spring 2021. It covers topics through the end of the course.\n",
    "\n",
    "This exam is out of 0 points, but the real final will be worth 19 points (19% of your grade). \n",
    "\n",
    "**PLEASE DO NOT CHANGE THE NAME OF THIS FILE.**\n",
    "\n",
    "**PLEASE DO NOT COPY & PASTE OR DELETE CELLS INLCUDED IN THE EXAM.** (Note that you can add additional cells, if you want to test things out."
   ]
  },
  {
   "cell_type": "markdown",
   "metadata": {
    "nbgrader": {
     "grade": false,
     "grade_id": "cell-0bdbfd4b5b7050f9",
     "locked": true,
     "schema_version": 3,
     "solution": false,
     "task": false
    }
   },
   "source": [
    "## Instructions\n",
    "\n",
    "#### Timing\n",
    "- The exam is designed to take you ~2-3h.\n",
    "- There will be a 48+ hour window during which you can complete this exam.\n",
    "- If it takes you longer than 3h, you're free to use that time.\n",
    "\n",
    "#### The Rules\n",
    "- You are to complete this exam on your own.\n",
    "- This is open-notes & open-Google\n",
    "- You may not talk to any humans about this exam. \n",
    "- The following are all *prohibited*:\n",
    "    - text/phone/online chat communication\n",
    "    - posting questions to a message board where a human could respond (Campuswire, Discord, Chegg, any similar site)\n",
    "    - viewing exam questions from a message board (as described above)\n",
    "    - asking anyone via any form about a question on this test directly\n",
    "- Clarification questions will ***not*** be allowed and there will be no posting on Campuswire about the exam at all. \n",
    "    - Campuswire posts about the exam will not be answered and will be deleted. \n",
    "    - Students who post questions about the exam to Campuswire are at risk of losing points on the exam.\n",
    "    - If you are confused about wording, add a note to your exam explaining your confusion and how you interpreted the question. \n",
    "    - Note: This policy is b/c we are incapable of responding for 48+ hours straight. This is the only way to make it fair across the board for students."
   ]
  },
  {
   "cell_type": "markdown",
   "metadata": {
    "nbgrader": {
     "grade": false,
     "grade_id": "cell-516057c92936dcb0",
     "locked": true,
     "schema_version": 3,
     "solution": false,
     "task": false
    }
   },
   "source": [
    " <span style=\"color: red;\">Note: </span> There _is_ a chance for partial credit on some questions, so _some_ code is better than _no_ code. Even if it throws an error, having some code that partially answers the question will benefit you/your grade."
   ]
  },
  {
   "cell_type": "markdown",
   "metadata": {
    "nbgrader": {
     "grade": false,
     "grade_id": "cell-65babcd260f10212",
     "locked": true,
     "schema_version": 3,
     "solution": false,
     "task": false
    }
   },
   "source": [
    "### Q0 - Honor Code\n",
    "\n",
    "In the cell below, include a variable `honor_code` that stores the boolean `True` if you agree to the following statement:\n",
    "\n",
    ">I agree that this exam was completed individually with the knowlege in my brain, information the notes from this course, and/or with searching for help on the Internet *without searching for answers to the text from these questions directly*. I did not ask anyone about specific questions on this exam. I did not post these questions (in part or in whole) on the Internet. I did not copy answers to these questions from anywhere or anyone else. I understand all code I've written on this exam and could explain my answers to someone else if asked.\n"
   ]
  },
  {
   "cell_type": "code",
   "execution_count": 1,
   "metadata": {
    "nbgrader": {
     "grade": false,
     "grade_id": "cell-1c43003780d414c6",
     "locked": false,
     "schema_version": 3,
     "solution": true,
     "task": false
    }
   },
   "outputs": [],
   "source": [
    "### BEGIN SOLUTION\n",
    "honor_code = True\n",
    "### END SOLUTION"
   ]
  },
  {
   "cell_type": "code",
   "execution_count": 2,
   "metadata": {
    "nbgrader": {
     "grade": true,
     "grade_id": "cell-2fa97174501cfae8",
     "locked": true,
     "points": 0,
     "schema_version": 3,
     "solution": false,
     "task": false
    }
   },
   "outputs": [],
   "source": [
    "assert honor_code"
   ]
  },
  {
   "cell_type": "markdown",
   "metadata": {
    "nbgrader": {
     "grade": false,
     "grade_id": "part1",
     "locked": true,
     "schema_version": 3,
     "solution": false
    }
   },
   "source": [
    "## Part 1: Functions, Modules, & Code Style (10 points)"
   ]
  },
  {
   "cell_type": "markdown",
   "metadata": {
    "nbgrader": {
     "grade": false,
     "grade_id": "q8",
     "locked": true,
     "schema_version": 3,
     "solution": false,
     "task": false
    }
   },
   "source": [
    "### Q1 - `chatbot` module (0.5 points)\n",
    "\n",
    "Notice that in the folder with your exam there are two .py files provided. \n",
    "\n",
    "- `chatbot.py` includes a few functions for the module you'll be working with and editing throughout this exam. Go ahead and open this file now and take a glance at the code. Nothing you need to change yet. The exam will walk you through the steps needed.\n",
    "- `chatbot_tests.py` will (eventually) include your test functions. We'll get to those later.\n",
    "\n",
    "For now, import the `chatbot` module so that `chat.have_a_chat()` executes and allows you to have a chat. (Note that `'quit'` will allow you to end the chat.)"
   ]
  },
  {
   "cell_type": "code",
   "execution_count": 3,
   "metadata": {
    "nbgrader": {
     "grade": false,
     "grade_id": "q8-solution",
     "locked": false,
     "schema_version": 3,
     "solution": true,
     "task": false
    }
   },
   "outputs": [],
   "source": [
    "### BEGIN SOLUTION\n",
    "import chatbot as chat\n",
    "### END SOLUTION"
   ]
  },
  {
   "cell_type": "code",
   "execution_count": 4,
   "metadata": {},
   "outputs": [],
   "source": [
    "# BE SURE YOUR ANSWER IS IN THE CELL ABOVE\n",
    "# but you can use this cell to test/execute/check your work (optional)"
   ]
  },
  {
   "cell_type": "code",
   "execution_count": 5,
   "metadata": {
    "nbgrader": {
     "grade": true,
     "grade_id": "a8-test1",
     "locked": true,
     "points": 0.5,
     "schema_version": 3,
     "solution": false,
     "task": false
    }
   },
   "outputs": [],
   "source": [
    "assert chat\n",
    "### BEGIN HIDDEN TESTS\n",
    "assert callable(chat.have_a_chat)\n",
    "### END HIDDEN TESTS"
   ]
  },
  {
   "cell_type": "code",
   "execution_count": 6,
   "metadata": {},
   "outputs": [
    {
     "data": {
      "text/plain": [
       "('Bye', False)"
      ]
     },
     "execution_count": 6,
     "metadata": {},
     "output_type": "execute_result"
    }
   ],
   "source": [
    "chat.end_chat('this has quit in the middle')"
   ]
  },
  {
   "cell_type": "markdown",
   "metadata": {
    "nbgrader": {
     "grade": false,
     "grade_id": "cell-e5b56a632acf8e64",
     "locked": true,
     "schema_version": 3,
     "solution": false,
     "task": false
    }
   },
   "source": [
    "### Q2 - `about_ucsd` function (2.5 points)\n",
    "\n",
    "While our chatbot functions, it's pretty generic right now, so let's help make it a bit more interesting. Write a function in the cell below called `about_ucsd()`. \n",
    "\n",
    "This function will determine if the input is about UCSD.\n",
    "\n",
    "- It should have a single parameter: `input_string`.\n",
    "- The function should detect if the `input_string` contains any of the following: `'UCSD', 'ucsd', 'UC San Diego', or 'University of California, San Diego'`.\n",
    "    - If it contains any of the above, the function should `return` `True`. \n",
    "    - otherwise, the function should `return` False.\n",
    "    \n",
    "Be sure to use good code style here."
   ]
  },
  {
   "cell_type": "code",
   "execution_count": 7,
   "metadata": {
    "nbgrader": {
     "grade": false,
     "grade_id": "cell-631f1f9dfb252a01",
     "locked": false,
     "schema_version": 3,
     "solution": true,
     "task": false
    }
   },
   "outputs": [],
   "source": [
    "### BEGIN SOLUTION\n",
    "def about_ucsd(input_string):\n",
    "    \n",
    "    to_check = ['UCSD', \n",
    "               'ucsd', \n",
    "               'UC San Diego', \n",
    "               'University of California, San Diego']\n",
    "    out = any(val in input_string for val in to_check) \n",
    "    \n",
    "    return out\n",
    "### END SOLUTION"
   ]
  },
  {
   "cell_type": "code",
   "execution_count": 8,
   "metadata": {},
   "outputs": [],
   "source": [
    "# BE SURE YOUR ANSWER IS IN THE CELL ABOVE\n",
    "# but you can use this cell to test/execute/check your work (optional)"
   ]
  },
  {
   "cell_type": "code",
   "execution_count": 9,
   "metadata": {
    "nbgrader": {
     "grade": true,
     "grade_id": "cell-e04bde558f4fb909",
     "locked": true,
     "points": 0.5,
     "schema_version": 3,
     "solution": false,
     "task": false
    }
   },
   "outputs": [],
   "source": [
    "assert about_ucsd\n",
    "### BEGIN HIDDEN TESTS\n",
    "# returns false\n",
    "assert not about_ucsd('hi')\n",
    "### END HIDDEN TESTS"
   ]
  },
  {
   "cell_type": "code",
   "execution_count": 10,
   "metadata": {
    "nbgrader": {
     "grade": true,
     "grade_id": "cell-94c1c200f2dcaaf6",
     "locked": true,
     "points": 0.5,
     "schema_version": 3,
     "solution": false,
     "task": false
    }
   },
   "outputs": [],
   "source": [
    "assert callable(about_ucsd)\n",
    "### BEGIN HIDDEN TESTS\n",
    "# returns True\n",
    "assert about_ucsd('ucsd') \n",
    "assert about_ucsd('UCSD') \n",
    "assert about_ucsd('UC San Diego') \n",
    "### END HIDDEN TESTS"
   ]
  },
  {
   "cell_type": "markdown",
   "metadata": {
    "nbgrader": {
     "grade": false,
     "grade_id": "cell-29c0e51a40189a0b",
     "locked": true,
     "points": 1.5,
     "schema_version": 3,
     "solution": false,
     "task": true
    }
   },
   "source": [
    "**This \"blank\" cell included intentionally.** Do not do anything here. (It's being used in grading.)\n",
    "\n",
    "=== BEGIN MARK SCHEME ===\n",
    "\n",
    "- defined correctly; single input (**0.25 points**)\n",
    "- specified list (or other) to check correctly (**0.25 points**)\n",
    "- checks list correctly to return boolean (**0.25 points**)\n",
    "- has return statement (**0.25 points**)\n",
    "- adheres to good code style (**0.5 points**)\n",
    "\n",
    "=== END MARK SCHEME ==="
   ]
  },
  {
   "cell_type": "markdown",
   "metadata": {
    "nbgrader": {
     "grade": false,
     "grade_id": "cell-672016196f04105d",
     "locked": true,
     "schema_version": 3,
     "solution": false,
     "task": false
    }
   },
   "source": [
    "### Q3 - `about_ucsd` to `chatbot` module (1 point)\n",
    "\n",
    "Copy your `about_ucsd` function to the `chatbot` module. Save the changes to the `chatbot.py` file. \n",
    "\n",
    "Then, restart your kernel, and rerun your code from Q1 to `import` the module. \n",
    "\n",
    "Note, you do not need to write any code in this notebook for this question, but you can use the cell below to be sure you have accomplished the task correctly."
   ]
  },
  {
   "cell_type": "code",
   "execution_count": 11,
   "metadata": {},
   "outputs": [],
   "source": [
    "# BE SURE YOUR ANSWER IS IN THE MODULE\n",
    "# but you can use this cell to test/execute/check your work (optional)"
   ]
  },
  {
   "cell_type": "code",
   "execution_count": 12,
   "metadata": {
    "nbgrader": {
     "grade": true,
     "grade_id": "cell-0f7c95d42f4cb562",
     "locked": true,
     "points": 1,
     "schema_version": 3,
     "solution": false,
     "task": false
    }
   },
   "outputs": [],
   "source": [
    "# tests to ensure Q3 is done correctly\n",
    "### BEGIN HIDDEN TESTS\n",
    "import chatbot as chat\n",
    "assert not chat.about_ucsd('hi')\n",
    "assert chat.about_ucsd('UCSD')\n",
    "### END HIDDEN TESTS"
   ]
  },
  {
   "cell_type": "markdown",
   "metadata": {
    "nbgrader": {
     "grade": false,
     "grade_id": "cell-0a02c80e1bdc44e0",
     "locked": true,
     "schema_version": 3,
     "solution": false,
     "task": false
    }
   },
   "source": [
    "### Q4 - Code Style (3.5 points)\n",
    "\n",
    "At this point, you've got a few functions in your `chatbot` module; however, if you look at the code, you'll notice that some of the functions don't have very good code style. \n",
    "\n",
    "For this question, improve the code style, using what we discussed in class to improve the readiability and style of the `is_question()` and `end_chat()` functions.\n",
    "\n",
    "Note, you do not need to write any code in this notebook for this question. All work will occur in `chatbot.py`"
   ]
  },
  {
   "cell_type": "markdown",
   "metadata": {
    "nbgrader": {
     "grade": false,
     "grade_id": "cell-3442cc1d8c03f30d",
     "locked": true,
     "points": 2,
     "schema_version": 3,
     "solution": false,
     "task": true
    }
   },
   "source": [
    "**This \"blank\" cell included intentionally.** Do not do anything here. (It's being used in grading.)\n",
    "\n",
    "=== BEGIN MARK SCHEME ===\n",
    "\n",
    "`is_question()`\n",
    "- spacing around operators fixed (**0.5 points**)\n",
    "- variable names improved (**0.5 points**)\n",
    "- line spacing improved (**0.5 points**)\n",
    "- if/else on separate lines (**0.5 points**)\n",
    "\n",
    "=== END MARK SCHEME ==="
   ]
  },
  {
   "cell_type": "markdown",
   "metadata": {
    "nbgrader": {
     "grade": false,
     "grade_id": "cell-c69baac0a939d6ff",
     "locked": true,
     "points": 1.5,
     "schema_version": 3,
     "solution": false,
     "task": true
    }
   },
   "source": [
    "**This \"blank\" cell included intentionally.** Do not do anything here. (It's being used in grading.)\n",
    "\n",
    "=== BEGIN MARK SCHEME ===\n",
    "\n",
    "`end_chat()`\n",
    "- spacing around operators fixed (**0.5 points**)\n",
    "- variable names improved (**0.5 points**)\n",
    "- if/else on separate lines (**0.5 points**)\n",
    "\n",
    "=== END MARK SCHEME ==="
   ]
  },
  {
   "cell_type": "markdown",
   "metadata": {
    "nbgrader": {
     "grade": false,
     "grade_id": "cell-ce853f704885d69f",
     "locked": true,
     "schema_version": 3,
     "solution": false,
     "task": false
    }
   },
   "source": [
    "### Q5 - editing `return_message` and `have_a_chat` (2.5 points)\n",
    "\n",
    "At this point, you've written your `about_ucsd()` function and moved it into the `chatbot` module; however, its functionality has not *yet* been incorporated into the chatbot. \n",
    "\n",
    "Be sure you understand the code of all of the functions provided. \n",
    "\n",
    "Then, within the `chatbot.py` module, edit `return_message()` using the following approach:\n",
    "\n",
    "- has three input parameters: `out_msg`, `question`, `ucsd`\n",
    "    - `ucsd` will be a boolean indicating `True` if the user mentioned UCSD and `False` otherwise\n",
    "- has the same functionality as provided originally, *with the following addition*: \n",
    "    - if `question` is `False` and `about_ucsd()` is `True`, this function will `return` a response at random from the list of `ucsd_facts` provided below. \n",
    "\n",
    "Finally, in the `have_a_chat` function, edit `return_message` as needed and incorporate `about_ucsd()` such that if the user mentions UCSD (as specified in Q2), the chatbot will return a `ucsd_facts` at random.\n",
    "\n",
    "Note: no code needs to be written in the notebook here. All changes will be made in `chatbot.py`"
   ]
  },
  {
   "cell_type": "code",
   "execution_count": 13,
   "metadata": {
    "nbgrader": {
     "grade": false,
     "grade_id": "cell-b474940d0355147a",
     "locked": true,
     "schema_version": 3,
     "solution": false,
     "task": false
    }
   },
   "outputs": [],
   "source": [
    "ucsd_facts = ['UCSD sits on the ancestral homelands of the Kumeyaay Nation.',\n",
    "              'UCSD has more than 220,000 Eucalyptus trees on its campus.',\n",
    "              'UCSD was founded in 1960.',\n",
    "              'UCSD receives more than $1B in research funding annually.',\n",
    "              'UCSD has more than 130 different majors and more than 40,000 students.'\n",
    "             ]"
   ]
  },
  {
   "cell_type": "code",
   "execution_count": 14,
   "metadata": {},
   "outputs": [],
   "source": [
    "# BE SURE YOUR ANSWER IS IN THE MODULE\n",
    "# but you can use this cell to test/execute/check your work (optional)"
   ]
  },
  {
   "cell_type": "code",
   "execution_count": 15,
   "metadata": {
    "nbgrader": {
     "grade": true,
     "grade_id": "cell-a520211ab8016dd3",
     "locked": true,
     "points": 1.25,
     "schema_version": 3,
     "solution": false,
     "task": false
    },
    "scrolled": true
   },
   "outputs": [],
   "source": [
    "# check that chatbot works with questions\n",
    "### BEGIN HIDDEN TESTS\n",
    "import chatbot as chat\n",
    "assert chat.return_message(out_msg=None, question=True, ucsd=False) == \"I'm too shy to answer questions. What do you want to talk about?\"\n",
    "### END HIDDEN TESTS"
   ]
  },
  {
   "cell_type": "code",
   "execution_count": 16,
   "metadata": {
    "nbgrader": {
     "grade": true,
     "grade_id": "cell-cebeb2b2cd2f8b14",
     "locked": true,
     "points": 1.25,
     "schema_version": 3,
     "solution": false,
     "task": false
    }
   },
   "outputs": [],
   "source": [
    "# check that chatbot works when UCSD is mentioned\n",
    "### BEGIN HIDDEN TESTS\n",
    "ucsd_facts = ['UCSD sits on the ancestral homelands of the Kumeyaay Nation.',\n",
    "              'UCSD has more than 220,000 Eucalyptus trees on its campus.',\n",
    "              'UCSD was founded in 1960.',\n",
    "              'UCSD receives more than $1B in research funding annually.',\n",
    "              \"UCSD has more than 130 different majors and more than 40,000 students.\"\n",
    "             ]\n",
    "assert chat.return_message(out_msg=None, question=False, ucsd=True) in ucsd_facts\n",
    "### END HIDDEN TESTS"
   ]
  },
  {
   "cell_type": "markdown",
   "metadata": {
    "nbgrader": {
     "grade": false,
     "grade_id": "cell-3472aa9f7a0bd724",
     "locked": true,
     "schema_version": 3,
     "solution": false,
     "task": false
    }
   },
   "source": [
    "## Part 2: Code Documentation (5 points)"
   ]
  },
  {
   "cell_type": "markdown",
   "metadata": {
    "nbgrader": {
     "grade": false,
     "grade_id": "part2",
     "locked": true,
     "schema_version": 3,
     "solution": false
    }
   },
   "source": [
    "### Q6 - Code Comments (2 points)\n",
    "\n",
    "At this point, your chatbot is fully functional (for the purposes of this exam). Go through your module and be sure that all functions (both the ones provided and the ones your wrote/edited) have sufficient code comments.\n",
    "\n",
    "Note: Nothing has to be done in this notebook. All changes will be in `chatbot.py`."
   ]
  },
  {
   "cell_type": "markdown",
   "metadata": {
    "nbgrader": {
     "grade": false,
     "grade_id": "cell-bd730535cdc09d81",
     "locked": true,
     "points": 2,
     "schema_version": 3,
     "solution": false,
     "task": true
    }
   },
   "source": [
    "**This \"blank\" cell included intentionally.** Do not do anything here. (It's being used in grading.)\n",
    "\n",
    "=== BEGIN MARK SCHEME ===\n",
    "\n",
    "- sufficient good code comments throughout module (**2 points**)\n",
    "    - if *too* many comments (**-0.5 points**)  \n",
    "    - if comments don't explain code's logic (**-1 point**)\n",
    "    \n",
    "=== END MARK SCHEME ==="
   ]
  },
  {
   "cell_type": "markdown",
   "metadata": {
    "nbgrader": {
     "grade": false,
     "grade_id": "cell-0d071fd8af8d0ff2",
     "locked": true,
     "schema_version": 3,
     "solution": false,
     "task": false
    }
   },
   "source": [
    "### Q7 - `numpy`-style docstrings (3 points)\n",
    "\n",
    "Add `numpy`-style docstrings to the `is_question`, `end_chat`, and `return_message` functions within `chatbot.py`\n",
    "\n",
    "Note: Nothing has to be done in this notebook. All changes will be in `chatbot.py`."
   ]
  },
  {
   "cell_type": "markdown",
   "metadata": {
    "nbgrader": {
     "grade": false,
     "grade_id": "cell-baff36ddf1ae0876",
     "locked": true,
     "points": 3,
     "schema_version": 3,
     "solution": false,
     "task": true
    }
   },
   "source": [
    "**This \"blank\" cell included intentionally.** Do not do anything here. (It's being used in grading.)\n",
    "\n",
    "=== BEGIN MARK SCHEME ===\n",
    "\n",
    "- all (3) functions have `numpy`-style docstrings (**3 points**)\n",
    "    - if not numpy-style but has docstrings (-1.5)\n",
    "\n",
    "=== END MARK SCHEME ==="
   ]
  },
  {
   "cell_type": "markdown",
   "metadata": {
    "nbgrader": {
     "grade": false,
     "grade_id": "part3",
     "locked": true,
     "schema_version": 3,
     "solution": false,
     "task": false
    }
   },
   "source": [
    "## Part 3: Code Testing (4 points)"
   ]
  },
  {
   "cell_type": "markdown",
   "metadata": {
    "nbgrader": {
     "grade": false,
     "grade_id": "cell-03e1ed84b1ea2d0e",
     "locked": true,
     "schema_version": 3,
     "solution": false,
     "task": false
    }
   },
   "source": [
    "### Q8 - Code tests (4 points)\n",
    "\n",
    "`chatbot_tests.py` has been provided for you, but it's empty. \n",
    "\n",
    "Add three test functions to test the functions: `is_question()`, `end_chat()`, and `return_message()` from the `chatbot` module.\n",
    "\n",
    "Each test function should have at least three `assert` statements and should test the functionality of a single function.\n",
    "\n",
    "Remember that you'll want to consider what needs to be `import`ed at the top of your `chatbot_tests.py` file.\n",
    "\n",
    "Note: Nothing has to be done in this notebook. All changes will be in `chatbot_tests.py`."
   ]
  },
  {
   "cell_type": "code",
   "execution_count": 17,
   "metadata": {},
   "outputs": [],
   "source": [
    "# BE SURE TEST FUNCTIONS ARE IN `chatbot_tests` \n",
    "# but feel free to test out here"
   ]
  },
  {
   "cell_type": "code",
   "execution_count": 18,
   "metadata": {
    "nbgrader": {
     "grade": true,
     "grade_id": "cell-25c47c6a4d85043e",
     "locked": true,
     "points": 2,
     "schema_version": 3,
     "solution": false,
     "task": false
    }
   },
   "outputs": [],
   "source": [
    "# tests to ensure test functions pass silently\n",
    "# uses pytest\n",
    "### BEGIN HIDDEN TESTS\n",
    "out = !pytest chatbot_tests.py\n",
    "assert out.grep(\"ERRORS\") == []\n",
    "assert out.grep(\"FAILED\") == []\n",
    "### END HIDDEN TESTS"
   ]
  },
  {
   "cell_type": "markdown",
   "metadata": {
    "nbgrader": {
     "grade": false,
     "grade_id": "cell-a0c1d3d0c84844c5",
     "locked": true,
     "points": 2,
     "schema_version": 3,
     "solution": false,
     "task": true
    }
   },
   "source": [
    "**This \"blank\" cell included intentionally.** Do not do anything here. (It's being used in grading.)\n",
    "\n",
    "=== BEGIN MARK SCHEME ===\n",
    "\n",
    "- (3) test functions are there with correct name (**1 point**)\n",
    "- each test function contains three asserts that test functionality (**1 point**)\n",
    "\n",
    "=== END MARK SCHEME ==="
   ]
  },
  {
   "cell_type": "markdown",
   "metadata": {
    "nbgrader": {
     "grade": false,
     "grade_id": "cell-707b32bdc0c17296",
     "locked": true,
     "schema_version": 3,
     "solution": false,
     "task": false
    }
   },
   "source": [
    "### Final Exam complete!\n",
    "\n",
    "Good work - you're done with the final exam!\n",
    "\n",
    "Check your work, and then when you're ready, **submit on datahub**.\n",
    "\n",
    "We will not have your exam until you click submit and see this show up under 'submitted assignments'."
   ]
  }
 ],
 "metadata": {
  "celltoolbar": "Create Assignment",
  "kernelspec": {
   "display_name": "Python 3",
   "language": "python",
   "name": "python3"
  },
  "language_info": {
   "codemirror_mode": {
    "name": "ipython",
    "version": 3
   },
   "file_extension": ".py",
   "mimetype": "text/x-python",
   "name": "python",
   "nbconvert_exporter": "python",
   "pygments_lexer": "ipython3",
   "version": "3.7.7"
  }
 },
 "nbformat": 4,
 "nbformat_minor": 4
}
