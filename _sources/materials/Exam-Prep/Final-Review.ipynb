{
 "cells": [
  {
   "cell_type": "markdown",
   "metadata": {
    "slideshow": {
     "slide_type": "slide"
    }
   },
   "source": [
    "# Final Exam Review"
   ]
  },
  {
   "cell_type": "markdown",
   "metadata": {
    "slideshow": {
     "slide_type": "slide"
    }
   },
   "source": [
    "## Final Exam Plan (21 points)\n",
    "\n",
    "Part I: **Variables, Conditionals, & Loops** (3.5 points) \n",
    "- Q1: Conditionals (2 points)\n",
    "- Q2: Loops (1.5 points)*\n",
    "\n",
    "Part II: **Functions & Testing** (5 points)  \n",
    "- Q3: Function I (2.5 points)\n",
    "- Q4: Test Function (2.5 points)*\n",
    "\n",
    "Part III: **Style & Documentation** (11 points)\n",
    "- Q5: Code Style (3 points)*\n",
    "- Q6: Module & `import` (1 point)\n",
    "- Q7: Function II (7.25 points)*\n",
    "    - Note that this question includes partial credit for style and documentation in module, so it's not 7.25 points for writing a single function\n",
    "\n",
    "Part IV: **True/Valse** (1.5 points)\n",
    "- Q8: True/False (1.5 points)\n",
    "\n",
    "\\* Includes partial credit"
   ]
  },
  {
   "cell_type": "markdown",
   "metadata": {
    "slideshow": {
     "slide_type": "slide"
    }
   },
   "source": [
    "There will NOT be partial credit on functions. We expect that you know how to write functions at this point, and thus they will be autograded. Be sure your functions carry out the tasks specified."
   ]
  },
  {
   "cell_type": "markdown",
   "metadata": {
    "slideshow": {
     "slide_type": "slide"
    }
   },
   "source": [
    "## New Concepts on the Final Exam\n",
    "\n",
    "- Command Line\n",
    "- Importing custom code\n",
    "- Modules & Scripts\n",
    "- Code Testing\n",
    "- Code Style\n",
    "- Documentaation"
   ]
  }
 ],
 "metadata": {
  "celltoolbar": "Slideshow",
  "kernelspec": {
   "display_name": "Python 3",
   "language": "python",
   "name": "python3"
  },
  "language_info": {
   "codemirror_mode": {
    "name": "ipython",
    "version": 3
   },
   "file_extension": ".py",
   "mimetype": "text/x-python",
   "name": "python",
   "nbconvert_exporter": "python",
   "pygments_lexer": "ipython3",
   "version": "3.7.9"
  },
  "rise": {
   "scroll": true
  }
 },
 "nbformat": 4,
 "nbformat_minor": 2
}
