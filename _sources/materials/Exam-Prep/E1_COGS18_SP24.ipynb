{
 "cells": [
  {
   "cell_type": "markdown",
   "id": "4ca872f1",
   "metadata": {
    "nbgrader": {
     "grade": false,
     "grade_id": "cell-4bcd92bb8159c51b",
     "locked": true,
     "schema_version": 3,
     "solution": false,
     "task": false
    }
   },
   "source": [
    "# COGS 18 - Exam 1 (Take-Home)\n",
    "\n",
    "This is the take-home portion of the first exam for Spring 2024. It covers the technical implementation of topics through the Collections Lecture.\n",
    "\n",
    "This take-home portion of the exam is out of 2.5 points, worth 2.5% of your grade.\n",
    "\n",
    "**PLEASE DO NOT CHANGE THE NAME OF THIS FILE.**\n",
    "\n",
    "**PLEASE DO NOT COPY & PASTE OR DELETE CELLS INLCUDED IN THE ASSIGNMENT.** (Note that you can add additional cells, if you want to test things out."
   ]
  },
  {
   "cell_type": "markdown",
   "id": "6f8a4611-1b73-4894-bce7-635c80ae37bc",
   "metadata": {},
   "source": [
    "**In-class** answer key [here](https://docs.google.com/document/d/1iN60zQJ2FS0fgWVKVTZZIqihc6JSfrOP6DHd6xDDXDE/edit?usp=sharing)"
   ]
  },
  {
   "cell_type": "markdown",
   "id": "ad0e8614",
   "metadata": {
    "nbgrader": {
     "grade": false,
     "grade_id": "cell-cd620a69ab1d3c4a",
     "locked": true,
     "schema_version": 3,
     "solution": false,
     "task": false
    }
   },
   "source": [
    "#### Instructions\n",
    "\n",
    "#### Timing\n",
    "- There take-home portion will be released 3:30 the day of the exam and due the same day at 11:59PM\n",
    "\n",
    "#### The Rules\n",
    "- You are to complete this exam on your own.\n",
    "- This is open-notes & open-Internet.\n",
    "- You may not talk to any humans about this exam. \n",
    "- Clarification questions will ***not*** be allowed and there will be no posting on Piazza about the exam at all. \n",
    "     - If you are confused about wording, add a note to your exam explaining your confusion and how you interpreted the question. \n",
    "    - If you have a technical issue completing the exam, message (Piazza or email) Prof Ellis ASAP."
   ]
  },
  {
   "cell_type": "markdown",
   "id": "bf92c7db",
   "metadata": {
    "nbgrader": {
     "grade": false,
     "grade_id": "cell-26b08bd4b5ba54ab",
     "locked": true,
     "schema_version": 3,
     "solution": false
    }
   },
   "source": [
    " <span style=\"color: red;\">Note: </span> This portion of the midterm will be autograded, similar to an assignment. `assert` statements are there to guide your thinking but do not guarantee you've gotten the answer correct."
   ]
  },
  {
   "cell_type": "markdown",
   "id": "34484adc",
   "metadata": {
    "nbgrader": {
     "grade": false,
     "grade_id": "cell-4d8581ac45c24683",
     "locked": true,
     "schema_version": 3,
     "solution": false,
     "task": false
    }
   },
   "source": [
    "### Q0 - Honor Code (0.05 points)\n",
    "\n",
    "In the cell below, include a variable `honor_code` that stores the boolean `True` if you agree to the following statement:\n",
    "\n",
    ">I agree that this exam was completed individually with the knowlege in my brain, information the notes from this course, and/or with searching for help on the Internet *without searching for answers to the text from these questions directly*. I did not ask anyone about specific questions on this exam. I did not post these questions (in part or in whole) on the Internet. I did not copy answers to these questions from anywhere or anyone else. I understand all code I've written on this exam and could explain my answers to someone else if asked.\n"
   ]
  },
  {
   "cell_type": "code",
   "execution_count": 1,
   "id": "cf9c08b7",
   "metadata": {
    "nbgrader": {
     "grade": false,
     "grade_id": "cell-9dae831891d7a1ad",
     "locked": false,
     "schema_version": 3,
     "solution": true,
     "task": false
    }
   },
   "outputs": [],
   "source": [
    "### BEGIN SOLUTION\n",
    "honor_code = True\n",
    "### END SOLUTION"
   ]
  },
  {
   "cell_type": "code",
   "execution_count": 2,
   "id": "80bb4cee",
   "metadata": {
    "nbgrader": {
     "grade": true,
     "grade_id": "cell-8a6d1a928512e45c",
     "locked": true,
     "points": 0.05,
     "schema_version": 3,
     "solution": false,
     "task": false
    }
   },
   "outputs": [],
   "source": [
    "assert honor_code"
   ]
  },
  {
   "cell_type": "markdown",
   "id": "46fc1f85",
   "metadata": {
    "nbgrader": {
     "grade": false,
     "grade_id": "cell-02c224df67abdd00",
     "locked": true,
     "schema_version": 3,
     "solution": false,
     "task": false
    }
   },
   "source": [
    "### Background\n",
    "\n",
    "\n",
    "For these next two questions, each question will be related to the same task: writing code to determine if a given year is a leap year. The idea here is that there will be two functions: 1) a function that determines whether or not a given year is a leap year 2) a function that displays the output in a sentence that conveys the year and whether or not it is a leap year.\n",
    "\n",
    "\n"
   ]
  },
  {
   "cell_type": "markdown",
   "id": "60c839d2",
   "metadata": {
    "nbgrader": {
     "grade": false,
     "grade_id": "cell-7aace9d2e3f98133",
     "locked": true,
     "schema_version": 3,
     "solution": false,
     "task": false
    }
   },
   "source": [
    "### Q1 - Debugging a function (1 pt)\n",
    "\n",
    "On the in-person portion of the midterm you were told the following: You sit down to write a function (`is_leap_year`) that will return `True` if the input year is a leap year and `False` if not.  However, when you sit down to write your function, you draft the following:\n",
    "\n",
    "\n",
    "```python\n",
    "def is_leap_year(year):\n",
    "    if year / 4 = 0:\n",
    "        if year / 100 = 0:\n",
    "            if year / 400 = 0:\n",
    "                output =  True\n",
    "            else:\n",
    "                output = False\n",
    "        else:\n",
    "            output = True\n",
    "    else:\n",
    "        output = False\n",
    "```\n",
    "\n",
    "You were also provided the following information: \n",
    "\n",
    "\n",
    "The following rules apply for determining whether something is a leap year:\n",
    "\n",
    "- Every year that is evenly divisible by 4 is a leap year, except for:\n",
    "    - Years that are evenly divisible by 100 are not leap years, unless:\n",
    "        - The year is also evenly divisible by 400, in which case it is a leap year.\n",
    "        \n",
    "With this in mind, you know that `is_leap_year(2024)` should return `True` where `is_leap_year(2023)` should return `False`. But it's not doing that...yet. **Debug this function so that it accomplishes what you had intended.** Do not change the name of the function or the input parameter name."
   ]
  },
  {
   "cell_type": "code",
   "execution_count": 3,
   "id": "98d2d935",
   "metadata": {
    "nbgrader": {
     "grade": false,
     "grade_id": "cell-890ee14a107fa8f5",
     "locked": false,
     "schema_version": 3,
     "solution": true,
     "task": false
    }
   },
   "outputs": [],
   "source": [
    "### BEGIN SOLUTION\n",
    "def is_leap_year(year):\n",
    "    \n",
    "    if year % 4 == 0:\n",
    "        if year % 100 == 0:\n",
    "            if year % 400 == 0:\n",
    "                output =  True\n",
    "            else:\n",
    "                output = False\n",
    "        else:\n",
    "            output = True\n",
    "    else:\n",
    "        output = False\n",
    "    \n",
    "    return output\n",
    "### END SOLUTION"
   ]
  },
  {
   "cell_type": "code",
   "execution_count": 4,
   "id": "32b02a42",
   "metadata": {},
   "outputs": [],
   "source": [
    "# you can use this cell to test/execute/check your thinking (optional)"
   ]
  },
  {
   "cell_type": "code",
   "execution_count": 5,
   "id": "c1d0ed43",
   "metadata": {
    "nbgrader": {
     "grade": true,
     "grade_id": "cell-986ea16845831923",
     "locked": true,
     "points": 0.25,
     "schema_version": 3,
     "solution": false,
     "task": false
    }
   },
   "outputs": [],
   "source": [
    "# check no typo in function name\n",
    "assert callable(is_leap_year)"
   ]
  },
  {
   "cell_type": "code",
   "execution_count": 6,
   "id": "60a9e459",
   "metadata": {
    "nbgrader": {
     "grade": true,
     "grade_id": "cell-0ad5a91264167d53",
     "locked": true,
     "points": 0.25,
     "schema_version": 3,
     "solution": false,
     "task": false
    }
   },
   "outputs": [],
   "source": [
    "# hidden test that checks the output is of the expected type\n",
    "### BEGIN HIDDEN TESTS\n",
    "# note: this would still give credit, even if you had an error in Q1\n",
    "assert type(is_leap_year(2022)) == bool \n",
    "### END HIDDEN TESTS"
   ]
  },
  {
   "cell_type": "code",
   "execution_count": 7,
   "id": "d4137b51",
   "metadata": {
    "nbgrader": {
     "grade": true,
     "grade_id": "cell-7d903b9bfc07d385",
     "locked": true,
     "points": 0.25,
     "schema_version": 3,
     "solution": false,
     "task": false
    }
   },
   "outputs": [],
   "source": [
    "# hidden tests that check the function works with provided examples\n",
    "### BEGIN HIDDEN TESTS\n",
    "assert is_leap_year(2024)\n",
    "assert not is_leap_year(2023)\n",
    "### END HIDDEN TESTS"
   ]
  },
  {
   "cell_type": "code",
   "execution_count": 8,
   "id": "5829fbbc",
   "metadata": {
    "nbgrader": {
     "grade": true,
     "grade_id": "cell-0693f283f6eaafeb",
     "locked": true,
     "points": 0.25,
     "schema_version": 3,
     "solution": false,
     "task": false
    }
   },
   "outputs": [],
   "source": [
    "# hidden tests that check the function works as specified beyond provided examples\n",
    "### BEGIN HIDDEN TESTS\n",
    "assert is_leap_year(300) == False\n",
    "assert is_leap_year(400) == True\n",
    "assert is_leap_year(32) == True\n",
    "assert is_leap_year(401) == False\n",
    "### END HIDDEN TESTS\n"
   ]
  },
  {
   "cell_type": "markdown",
   "id": "cb4a99ad",
   "metadata": {
    "nbgrader": {
     "grade": false,
     "grade_id": "cell-416a0d94c1e30c53",
     "locked": true,
     "schema_version": 3,
     "solution": false,
     "task": false
    }
   },
   "source": [
    "### Q2 - Defining a function (1.45 pts)\n",
    "\n",
    "After you get your `is_leap_year()` function working as intended, you want to write a function `output_leap_year()`. This function should take in a `year` as input, determine if the `year` is a leap year, and, if it is, output '{year} is a leap year!' or, if it is not, '{year} is not a leap year!'...where {year} is replaced with the year input. \n",
    "\n",
    "Note: Spacing and punctuation in your string matter. For example: \n",
    "- `output_leap_year(2023)` should return the string: `'2023 is not a leap year!'` \n",
    "- `output_leap_year(2024)` would return `'2024 is a leap year!'`"
   ]
  },
  {
   "cell_type": "code",
   "execution_count": 9,
   "id": "0beae675",
   "metadata": {
    "nbgrader": {
     "grade": false,
     "grade_id": "cell-5406a3284790c7de",
     "locked": false,
     "schema_version": 3,
     "solution": true,
     "task": false
    }
   },
   "outputs": [],
   "source": [
    "### BEGIN SOLUTION\n",
    "def output_leap_year(year):\n",
    "    \n",
    "    yes_leap_year = is_leap_year(year)\n",
    "    \n",
    "    if yes_leap_year:\n",
    "        output = str(year) + ' is a leap year!'\n",
    "    elif not yes_leap_year:\n",
    "        output = str(year) + ' is not a leap year!'\n",
    "    else:\n",
    "        output = None\n",
    "    \n",
    "    return output\n",
    "### END SOLUTION"
   ]
  },
  {
   "cell_type": "code",
   "execution_count": 10,
   "id": "d83047eb",
   "metadata": {},
   "outputs": [],
   "source": [
    "# you can use this cell to test/execute/check your thinking (optional)"
   ]
  },
  {
   "cell_type": "code",
   "execution_count": 11,
   "id": "e0791229",
   "metadata": {
    "nbgrader": {
     "grade": true,
     "grade_id": "cell-b6f17c05f4455dff",
     "locked": true,
     "points": 0.25,
     "schema_version": 3,
     "solution": false,
     "task": false
    },
    "scrolled": true
   },
   "outputs": [],
   "source": [
    "assert callable(output_leap_year)\n",
    "### BEGIN HIDDEN TESTS\n",
    "# this ensures you have the correct is_leap_year function\n",
    "# so that you're able to get full credit below...even if you didn't figure out Q1\n",
    "def is_leap_year(year):\n",
    "    \n",
    "    if year % 4 == 0:\n",
    "        if year % 100 == 0:\n",
    "            if year % 400 == 0:\n",
    "                output =  True\n",
    "            else:\n",
    "                output = False\n",
    "        else:\n",
    "            output = True\n",
    "    else:\n",
    "        output = False\n",
    "    \n",
    "    return output\n",
    "### END HIDDEN TESTS"
   ]
  },
  {
   "cell_type": "code",
   "execution_count": 12,
   "id": "46f1249f",
   "metadata": {
    "nbgrader": {
     "grade": true,
     "grade_id": "cell-3ed4c4555bf2aad6",
     "locked": true,
     "points": 0.25,
     "schema_version": 3,
     "solution": false,
     "task": false
    }
   },
   "outputs": [],
   "source": [
    "# hidden test that checks the output is of the expected type\n",
    "### BEGIN HIDDEN TESTS\n",
    "# note: this would still give credit, even if you had an error in Q1\n",
    "assert type(output_leap_year(2022)) == str \n",
    "### END HIDDEN TESTS"
   ]
  },
  {
   "cell_type": "code",
   "execution_count": 13,
   "id": "3e96130a",
   "metadata": {
    "nbgrader": {
     "grade": true,
     "grade_id": "cell-1ce6db55cfb0fe1a",
     "locked": true,
     "points": 0.25,
     "schema_version": 3,
     "solution": false,
     "task": false
    }
   },
   "outputs": [],
   "source": [
    "# hidden tests that check the parameter name\n",
    "### BEGIN HIDDEN TESTS\n",
    "# note: this would still give credit, even if you had an error in Q1\n",
    "assert output_leap_year(year=2022)\n",
    "### END HIDDEN TESTS"
   ]
  },
  {
   "cell_type": "code",
   "execution_count": 14,
   "id": "543f4bb4",
   "metadata": {
    "nbgrader": {
     "grade": true,
     "grade_id": "cell-1ff39fd3a0967d23",
     "locked": true,
     "points": 0.25,
     "schema_version": 3,
     "solution": false,
     "task": false
    }
   },
   "outputs": [],
   "source": [
    "# hidden tests that check the provided examples\n",
    "### BEGIN HIDDEN TESTS\n",
    "# note: this would still give credit, even if you had an error in Q1\n",
    "assert output_leap_year(2023) == '2023 is not a leap year!'\n",
    "assert output_leap_year(2024) == '2024 is a leap year!'\n",
    "### END HIDDEN TESTS"
   ]
  },
  {
   "cell_type": "code",
   "execution_count": 15,
   "id": "56b9b8f6",
   "metadata": {
    "nbgrader": {
     "grade": true,
     "grade_id": "cell-0cdb562a88b1d7d6",
     "locked": true,
     "points": 0.45,
     "schema_version": 3,
     "solution": false,
     "task": false
    }
   },
   "outputs": [],
   "source": [
    "# hidden tests that check overall functionality beyond provided cases\n",
    "### BEGIN HIDDEN TESTS\n",
    "# note: this would still give credit, even if you had an error in Q1\n",
    "assert output_leap_year(300) == '300 is not a leap year!'\n",
    "assert output_leap_year(400) == '400 is a leap year!'\n",
    "assert output_leap_year(32) == '32 is a leap year!'\n",
    "assert output_leap_year(401) == '401 is not a leap year!'\n",
    "### END HIDDEN TESTS"
   ]
  }
 ],
 "metadata": {
  "celltoolbar": "Create Assignment",
  "kernelspec": {
   "display_name": "Python 3 (ipykernel)",
   "language": "python",
   "name": "python3"
  },
  "language_info": {
   "codemirror_mode": {
    "name": "ipython",
    "version": 3
   },
   "file_extension": ".py",
   "mimetype": "text/x-python",
   "name": "python",
   "nbconvert_exporter": "python",
   "pygments_lexer": "ipython3",
   "version": "3.11.8"
  }
 },
 "nbformat": 4,
 "nbformat_minor": 5
}
