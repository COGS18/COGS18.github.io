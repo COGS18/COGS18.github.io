{
 "cells": [
  {
   "cell_type": "markdown",
   "metadata": {
    "nbgrader": {
     "grade": false,
     "grade_id": "cell-dee83f4fa4efc49d",
     "locked": true,
     "schema_version": 3,
     "solution": false
    }
   },
   "source": [
    "# COGS 18 - Practice Exam\n",
    "\n",
    "This is the practice exam for Winter 2021. It covers topics through the Dictionaries Lecture.\n",
    "\n",
    "This exam is out of 0 points, worth 0% of your grade, but the real thing will be out of 12.5 points.\n",
    "\n",
    "**PLEASE DO NOT CHANGE THE NAME OF THIS FILE.**\n",
    "\n",
    "**PLEASE DO NOT COPY & PASTE OR DELETE CELLS INLCUDED IN THE EXAM.** (Note that you can add additional cells, if you want to test things out.)"
   ]
  },
  {
   "cell_type": "markdown",
   "metadata": {
    "nbgrader": {
     "grade": false,
     "grade_id": "cell-d84a1b89ff1424e6",
     "locked": true,
     "schema_version": 3,
     "solution": false
    }
   },
   "source": [
    "## Instructions\n",
    "^ these are the instructions you will see on your real exam\n",
    "\n",
    "#### Timing\n",
    "- The exam is designed to take you ~1h.\n",
    "- There will be a 24 hour window during which you can complete this exam.\n",
    "- If it takes you longer than 1h, you're free to use that time.\n",
    "\n",
    "#### The Rules\n",
    "- You are to complete this exam on your own.\n",
    "- This is open-notes & open-Google\n",
    "- You may not talk to any humans about this exam. \n",
    "- The following are all *prohibited*:\n",
    "    - text/phone/online chat communication\n",
    "    - posting questions to a message board where a human could respond\n",
    "    - asking anyone via any form about a question on this test directly\n",
    "- Clarification questions will ***not*** be allowed and there will be no posting on Campuswire about the exam at all. \n",
    "    - Campuswire posts about the exam will not be answered and will be deleted. \n",
    "    - Students who post questions about the exam to Campuswire are at risk of losing points on the exam.\n",
    "    - If you are confused about wording, add a note to your exam explaining your confusion and how you interpreted the question. \n",
    "    - Note: This policy is b/c we are incapable of responding for 24h straight. This is the only way to make it fair across the board for students."
   ]
  },
  {
   "cell_type": "markdown",
   "metadata": {
    "nbgrader": {
     "grade": false,
     "grade_id": "instructions2",
     "locked": true,
     "schema_version": 3,
     "solution": false
    }
   },
   "source": [
    " <span style=\"color: red;\">Note: </span> There _is_ a chance for partial credit on some questions, so _some_ code is better than _no_ code. Even if it throws an error, having some code that partially answers the question will benefit you/your grade."
   ]
  },
  {
   "cell_type": "markdown",
   "metadata": {
    "nbgrader": {
     "grade": false,
     "grade_id": "cell-67b477fe413ddd29",
     "locked": true,
     "schema_version": 3,
     "solution": false
    }
   },
   "source": [
    "## Part 1: Variables & Operators (3 points)\n",
    "^ The headers and point values correspond to the actual headers and point values you'll have for each section on your exam"
   ]
  },
  {
   "cell_type": "markdown",
   "metadata": {
    "nbgrader": {
     "grade": false,
     "grade_id": "cell-648c538aaa34a8e6",
     "locked": true,
     "schema_version": 3,
     "solution": false
    }
   },
   "source": [
    "### Example Q1 - Variables & Operators \n",
    "\n",
    "In the cell below, create three variables: `var_a`, `var_b`, and `var_c`.\n",
    "\n",
    "These variables must satisfy the following requirements:\n",
    "\n",
    "1. `var_a` must store a float (you get to choose the specific float)\n",
    "2. `var_b` must use *at least two* of the comparison operators (`<`,`>`,`<=`,`>=`,`!=`,`==`) and store (return) the value `True`. \n",
    "3. `var_c` must use *at least two* of the math operators (`+`, `-`, `/`, `*`, `**`, `%`, `//`) and store the value 36"
   ]
  },
  {
   "cell_type": "code",
   "execution_count": 1,
   "metadata": {
    "nbgrader": {
     "grade": false,
     "grade_id": "cell-9838f1e7760f2339",
     "locked": false,
     "schema_version": 3,
     "solution": true
    }
   },
   "outputs": [],
   "source": [
    "### BEGIN SOLUTION\n",
    "# actual variable creation will differ\n",
    "var_a = 7.3\n",
    "var_b = 6 == 6 and 3 <= 4\n",
    "var_c = (6 + 3) * 4\n",
    "### END SOLUTION"
   ]
  },
  {
   "cell_type": "code",
   "execution_count": 2,
   "metadata": {
    "nbgrader": {
     "grade": true,
     "grade_id": "cell-b8e0ad19e06f8f4e",
     "locked": true,
     "points": 0,
     "schema_version": 3,
     "solution": false
    }
   },
   "outputs": [],
   "source": [
    "# check variable exists\n",
    "assert var_a is not None\n",
    "\n",
    "### BEGIN HIDDEN TESTS\n",
    "assert isinstance(var_a, float)\n",
    "### END HIDDEN TESTS"
   ]
  },
  {
   "cell_type": "code",
   "execution_count": 3,
   "metadata": {
    "nbgrader": {
     "grade": true,
     "grade_id": "cell-923642821412100b",
     "locked": true,
     "points": 0,
     "schema_version": 3,
     "solution": false
    }
   },
   "outputs": [],
   "source": [
    "assert isinstance(var_b, bool)\n",
    "\n",
    "### BEGIN HIDDEN TESTS\n",
    "assert var_b \n",
    "### END HIDDEN TESTS"
   ]
  },
  {
   "cell_type": "code",
   "execution_count": 4,
   "metadata": {
    "nbgrader": {
     "grade": true,
     "grade_id": "cell-e6967925a5e8087c",
     "locked": true,
     "points": 0,
     "schema_version": 3,
     "solution": false
    }
   },
   "outputs": [],
   "source": [
    "# check variable exists\n",
    "assert var_c is not None\n",
    "\n",
    "### BEGIN HIDDEN TESTS\n",
    "assert var_c == 36\n",
    "### END HIDDEN TESTS"
   ]
  },
  {
   "cell_type": "markdown",
   "metadata": {
    "nbgrader": {
     "grade": false,
     "grade_id": "cell-468ebbcd5ee201ba",
     "locked": true,
     "points": 0,
     "schema_version": 3,
     "solution": false,
     "task": true
    }
   },
   "source": [
    "**This \"blank\" cell included intentionally.** Do not do anything here. (It's being used in grading.)"
   ]
  },
  {
   "cell_type": "markdown",
   "metadata": {
    "nbgrader": {
     "grade": false,
     "grade_id": "cell-dd772f325aeed313",
     "locked": true,
     "schema_version": 3,
     "solution": false
    }
   },
   "source": [
    "## Part 2: Collections & Indexing  (3 points)"
   ]
  },
  {
   "cell_type": "markdown",
   "metadata": {
    "nbgrader": {
     "grade": false,
     "grade_id": "cell-e1e679b600fffa0a",
     "locked": true,
     "schema_version": 3,
     "solution": false
    }
   },
   "source": [
    "### Example Q2 - Indexing\n",
    "\n",
    "Given a the list `my_list` provided below, include code below *using indexing* to return the values specified below from `my_list`.\n",
    "\n",
    "\n",
    "1. In `list_a`, index `my_list` such that it will store (return) `['c', 'd']`\n",
    "2. In `list_b`, index `my_list` such that it will store (return) `['a', 'c', 'e']`"
   ]
  },
  {
   "cell_type": "code",
   "execution_count": 5,
   "metadata": {
    "nbgrader": {
     "grade": false,
     "grade_id": "cell-f48b2de4d459c3a0",
     "locked": false,
     "schema_version": 3,
     "solution": true
    }
   },
   "outputs": [],
   "source": [
    "# my_list is provided for you\n",
    "my_list = ['a', 'b', 'c', 'd', 'e']\n",
    "\n",
    "### BEGIN SOLUTION\n",
    "# specific indexing approaches may differ\n",
    "list_a = my_list[2:4]\n",
    "list_b = my_list[0::2]\n",
    "### END SOLUTION"
   ]
  },
  {
   "cell_type": "code",
   "execution_count": 6,
   "metadata": {
    "nbgrader": {
     "grade": true,
     "grade_id": "cell-74d84403f448609d",
     "locked": true,
     "points": 0,
     "schema_version": 3,
     "solution": false
    }
   },
   "outputs": [],
   "source": [
    "assert isinstance(list_a, list)\n",
    "\n",
    "### BEGIN HIDDEN TESTS\n",
    "assert list_a == ['c', 'd']\n",
    "### END HIDDEN TESTS"
   ]
  },
  {
   "cell_type": "code",
   "execution_count": 7,
   "metadata": {
    "nbgrader": {
     "grade": true,
     "grade_id": "cell-8135dae390974663",
     "locked": true,
     "points": 0,
     "schema_version": 3,
     "solution": false
    }
   },
   "outputs": [],
   "source": [
    "assert isinstance(list_b, list)\n",
    "\n",
    "### BEGIN HIDDEN TESTS\n",
    "assert list_b == ['a', 'c', 'e']\n",
    "### END HIDDEN TESTS"
   ]
  },
  {
   "cell_type": "markdown",
   "metadata": {
    "nbgrader": {
     "grade": false,
     "grade_id": "cell-fe3e8da39d3f07ef",
     "locked": true,
     "points": 0.7,
     "schema_version": 3,
     "solution": false,
     "task": true
    }
   },
   "source": [
    "**This \"blank\" cell included intentionally.** Do not do anything here. (It's being used in grading.)"
   ]
  },
  {
   "cell_type": "markdown",
   "metadata": {
    "nbgrader": {
     "grade": false,
     "grade_id": "cell-08558daba596965c",
     "locked": true,
     "schema_version": 3,
     "solution": false
    }
   },
   "source": [
    "## Part 3: Control Flow - Conditionals & Loops  (6.5  points)\n",
    "\n",
    "**Note**: This section is longer and has more questions than what will be on your exam; however, this is where students struggle the most, so I wanted to give you more practice questions."
   ]
  },
  {
   "cell_type": "markdown",
   "metadata": {
    "nbgrader": {
     "grade": false,
     "grade_id": "cell-16c3665100b9d3e0",
     "locked": true,
     "schema_version": 3,
     "solution": false
    }
   },
   "source": [
    "### Example Q3 - `while` loop\n",
    "\n",
    "Include code in your answer below that:\n",
    "\n",
    "1. Creates (initializes) a counter `counter` that starts at 0\n",
    "2. Creates (initializes) an empty list `out`\n",
    "3. Creates a loop that will run as long as the value of `counter` is less than or equal to 10\n",
    "    - Within the loop:\n",
    "        - first: if the value of `counter` is odd, `append` the value of `counter` to the list `out`\n",
    "        - then: increase the value of `counter` by 1 each time through the loop "
   ]
  },
  {
   "cell_type": "code",
   "execution_count": 8,
   "metadata": {
    "nbgrader": {
     "grade": false,
     "grade_id": "cell-cc7b7de76987f097",
     "locked": false,
     "schema_version": 3,
     "solution": true
    }
   },
   "outputs": [],
   "source": [
    "### BEGIN SOLUTION\n",
    "out = []\n",
    "counter = 0 \n",
    "\n",
    "while counter <= 10: \n",
    "    if counter % 2 != 0:\n",
    "        out.append(counter)\n",
    "\n",
    "    counter += 1\n",
    "### END SOLUTION"
   ]
  },
  {
   "cell_type": "code",
   "execution_count": 9,
   "metadata": {
    "nbgrader": {
     "grade": true,
     "grade_id": "cell-b97c5d995d630ec6",
     "locked": true,
     "points": 0,
     "schema_version": 3,
     "solution": false
    }
   },
   "outputs": [],
   "source": [
    "assert counter > 0 & counter < 100\n",
    "\n",
    "### BEGIN HIDDEN TESTS\n",
    "assert counter == 11\n",
    "### END HIDDEN TESTS"
   ]
  },
  {
   "cell_type": "code",
   "execution_count": 10,
   "metadata": {
    "nbgrader": {
     "grade": true,
     "grade_id": "cell-4775c78a819a4bbc",
     "locked": true,
     "points": 0,
     "schema_version": 3,
     "solution": false
    }
   },
   "outputs": [],
   "source": [
    "assert isinstance(out, list)\n",
    "\n",
    "### BEGIN HIDDEN TESTS\n",
    "assert out == [1, 3, 5, 7, 9]\n",
    "### END HIDDEN TESTS"
   ]
  },
  {
   "cell_type": "markdown",
   "metadata": {
    "nbgrader": {
     "grade": false,
     "grade_id": "q4",
     "locked": true,
     "schema_version": 3,
     "solution": false
    }
   },
   "source": [
    "### Example Q4 - `for` loop\n",
    "\n",
    "Store your first name as a string in the variable `my_name` and initialize a `counter` (use that variable name).\n",
    "\n",
    "Then, write a `for` loop that loops through the letters of your first name, increasing the counter by one for each consonant (non-vowel) in your name. \n",
    "\n",
    "The value stored in the counter at the end of your loop’s execution should be the number of consonants in your first name. Be sure that 'B' and 'b' are counted as the same letter in your code.\n"
   ]
  },
  {
   "cell_type": "code",
   "execution_count": 4,
   "metadata": {
    "nbgrader": {
     "grade": false,
     "grade_id": "q4a",
     "locked": false,
     "schema_version": 3,
     "solution": true
    }
   },
   "outputs": [],
   "source": [
    "### BEGIN SOLUTION\n",
    "# code will differ based on who is taking the exam\n",
    "my_name = 'Shannon'\n",
    "counter = 0\n",
    "\n",
    "for char in my_name:\n",
    "    char = char.lower()\n",
    "    if char not in ['a', 'e', 'i', 'o', 'u']:\n",
    "        counter += 1\n",
    "        \n",
    "# OR\n",
    "vowels = ['A','E','I','O','U', 'a', 'e', 'i', 'o', 'u']\n",
    "counter = 0\n",
    "\n",
    "for char in my_name:\n",
    "    if char not in vowels:\n",
    "        counter += 1\n",
    "### END SOLUTION"
   ]
  },
  {
   "cell_type": "code",
   "execution_count": 5,
   "metadata": {
    "nbgrader": {
     "grade": true,
     "grade_id": "q4-t1",
     "locked": true,
     "points": 1,
     "schema_version": 3,
     "solution": false
    }
   },
   "outputs": [],
   "source": [
    "assert isinstance(counter, int)\n",
    "assert isinstance(my_name, str)\n",
    "\n",
    "### BEGIN HIDDEN TESTS\n",
    "count = 0\n",
    "\n",
    "for char in my_name:\n",
    "    char = char.lower()\n",
    "    if char not in ['a', 'e', 'i', 'o', 'u']:\n",
    "        count += 1\n",
    "        \n",
    "assert counter == count\n",
    "### END HIDDEN TESTS"
   ]
  },
  {
   "cell_type": "markdown",
   "metadata": {
    "nbgrader": {
     "grade": false,
     "grade_id": "q4-t2",
     "locked": true,
     "points": 1.5,
     "schema_version": 3,
     "solution": false,
     "task": true
    }
   },
   "source": [
    "**This \"blank\" cell included intentionally.** Do not do anything here. (It's being used in grading.)\n",
    "\n",
    "\n",
    "=== BEGIN MARK SCHEME ===\n",
    "\n",
    "- counter & my_name created (0.25 points)\n",
    "- for loop initialized correctly (0.25 points)\n",
    "- capitalization accounted for (0.5 points)\n",
    "- conditional correct (0.5 points)\n",
    "\n",
    "=== END MARK SCHEME ==="
   ]
  },
  {
   "cell_type": "markdown",
   "metadata": {
    "nbgrader": {
     "grade": false,
     "grade_id": "q5",
     "locked": true,
     "schema_version": 3,
     "solution": false
    }
   },
   "source": [
    "### Example Q5  - `dictionary`\n",
    "\n",
    "Write code that will generate a dictionary `name_consonants` that stores each consonant letter in `my_name` (defined in previous question) as a key in the dictionary, and the number of times each consonant shows up in `my_name` as the letter's value. \n",
    "\n",
    "Noe that this code should run, regardless of what string is stored in `my_name`.\n",
    "\n",
    "For example, `name_consonants` for 'Shannon' would return:\n",
    "\n",
    "```\n",
    "{'s': 1, 'h': 1, 'n': 3}\n",
    "```\n",
    "\n",
    "Note that if you have no consonants in your name, this code would still run, but would return an empty dictionary."
   ]
  },
  {
   "cell_type": "code",
   "execution_count": 6,
   "metadata": {
    "nbgrader": {
     "grade": false,
     "grade_id": "q5a",
     "locked": false,
     "schema_version": 3,
     "solution": true
    }
   },
   "outputs": [],
   "source": [
    "### BEGIN SOLUTION\n",
    "# output will differ based on who is taking the exam\n",
    "name_consonants = {}\n",
    "\n",
    "vowels = ['a', 'e', 'i', 'o', 'u']\n",
    "            \n",
    "for char in my_name:\n",
    "    char = char.lower()\n",
    "    if char not in vowels:\n",
    "        if char not in name_consonants:\n",
    "            name_consonants[char] = 1\n",
    "        else:\n",
    "            name_consonants[char] += 1            \n",
    "### END SOLUTION"
   ]
  },
  {
   "cell_type": "code",
   "execution_count": 7,
   "metadata": {
    "nbgrader": {
     "grade": true,
     "grade_id": "q5-t1",
     "locked": true,
     "points": 1,
     "schema_version": 3,
     "solution": false
    }
   },
   "outputs": [
    {
     "name": "stdout",
     "output_type": "stream",
     "text": [
      "{'S': 1, 'h': 1, 'n': 3}\n",
      "{'s': 1, 'h': 1, 'n': 3}\n"
     ]
    }
   ],
   "source": [
    "assert isinstance(name_consonants, dict)\n",
    "\n",
    "### BEGIN HIDDEN TESTS\n",
    "check = {}\n",
    "check_alt = {}\n",
    "\n",
    "for char in my_name:\n",
    "    if char not in ['a', 'e', 'i', 'o', 'u', 'A', 'E', 'I', 'O', 'U']:\n",
    "        if char not in check:\n",
    "            check[char] = 1\n",
    "        else:\n",
    "            check[char] += 1\n",
    "print(check)\n",
    "\n",
    "# OR (different version b/c wording was not super clear)\n",
    "# and we haven't yet discussed .lower()\n",
    "\n",
    "for char in my_name:\n",
    "    char = char.lower()\n",
    "    if char not in ['a','e', 'i', 'o', 'u']:\n",
    "        if char not in check_alt:\n",
    "            check_alt[char] = 1\n",
    "        else:\n",
    "            check_alt[char] += 1\n",
    "print(check_alt)\n",
    "            \n",
    "\n",
    "assert name_consonants == check or name_consonants == check_alt\n",
    "### END HIDDEN TESTS"
   ]
  },
  {
   "cell_type": "markdown",
   "metadata": {
    "nbgrader": {
     "grade": false,
     "grade_id": "q5-t2",
     "locked": true,
     "points": 2.5,
     "schema_version": 3,
     "solution": false,
     "task": true
    }
   },
   "source": [
    "**This \"blank\" cell included intentionally.** Do not do anything here. (It's being used in grading.)\n",
    "\n",
    "\n",
    "=== BEGIN MARK SCHEME ===\n",
    "\n",
    "- refers back to my_name variable (0.5 points)\n",
    "- for loop initialized correctly (0.5 points)\n",
    "- capitalization accounted for (0.5 points)\n",
    "- conditional correct (0.5 points)\n",
    "- dictionary incremented correctly (0.5 points)\n",
    "\n",
    "=== END MARK SCHEME ==="
   ]
  },
  {
   "cell_type": "markdown",
   "metadata": {
    "nbgrader": {
     "grade": false,
     "grade_id": "q10",
     "locked": true,
     "schema_version": 3,
     "solution": false
    }
   },
   "source": [
    "### Example Q6  - Loops\n",
    "\n",
    "Write code that will loop through the `name_consonants` dictionary created in the previous question and store the sum of the values in the dictionary into `consonant_count`. (For the name Shannon, `consonant_count` would store 5).\n",
    "\n",
    "Be sure your answer refers back to `name_consonants` defined in the previous question"
   ]
  },
  {
   "cell_type": "code",
   "execution_count": 15,
   "metadata": {
    "nbgrader": {
     "grade": false,
     "grade_id": "q10a",
     "locked": false,
     "schema_version": 3,
     "solution": true
    }
   },
   "outputs": [],
   "source": [
    "### BEGIN SOLUTION\n",
    "# output will differ based on who is taking the exam\n",
    "consonant_count = 0\n",
    "\n",
    "for key in name_consonants:\n",
    "    consonant_count += name_consonants[key]\n",
    "### END SOLUTION"
   ]
  },
  {
   "cell_type": "code",
   "execution_count": 16,
   "metadata": {
    "nbgrader": {
     "grade": true,
     "grade_id": "q10-t1",
     "locked": true,
     "points": 0.5,
     "schema_version": 3,
     "solution": false
    }
   },
   "outputs": [],
   "source": [
    "assert consonant_count is not None\n",
    "\n",
    "### BEGIN HIDDEN TESTS\n",
    "check = 0\n",
    "\n",
    "for key in name_consonants:\n",
    "    check += name_consonants[key]\n",
    "    \n",
    "assert consonant_count == check\n",
    "### END HIDDEN TESTS"
   ]
  },
  {
   "cell_type": "markdown",
   "metadata": {
    "nbgrader": {
     "grade": false,
     "grade_id": "q10-t2",
     "locked": true,
     "points": 1,
     "schema_version": 3,
     "solution": false,
     "task": true
    }
   },
   "source": [
    "##### **This \"blank\" cell included intentionally.** Do not do anything here. (It's being used in grading.)\n",
    "\n",
    "\n",
    "=== BEGIN MARK SCHEME ===\n",
    "\n",
    "- counter initialized (0.25)\n",
    "- for loop correct (0.25)\n",
    "- accessing dictionary/increase counter correct (0.5)\n",
    "\n",
    "=== END MARK SCHEME ==="
   ]
  },
  {
   "cell_type": "markdown",
   "metadata": {
    "nbgrader": {
     "grade": false,
     "grade_id": "q8",
     "locked": true,
     "schema_version": 3,
     "solution": false
    }
   },
   "source": [
    "### Example Q7 - `for` loop (2 points)\n",
    "\n",
    "Background: Imagine that in a few weeks you find yourself wanting to talk to someone on the instructional staff who has actually completed the COGS 18 final project. When this happens, you suddenly remember you created a list of all the staff members in COGS 18 earlier in the quarter when you were practicing with lists. Perfect! You can use this to help you figure out who you should talk to, since you know that all of the IAs previously took COGS 18 and completed the project. They will be able to discuss their experience with you!\n",
    "\n",
    "The list of staff members and their role is below and is called `staff`. Run the cell below to generate the `staff` list.\n",
    "\n",
    "\n",
    "Then, write code to loop through the provided list. Within the loop, write code that will store any entry in the list with '\\_IA' in the entry into a new list. Store this (the entries in `staff` corresponding to IAs) in a new list called `to_contact`."
   ]
  },
  {
   "cell_type": "code",
   "execution_count": 17,
   "metadata": {
    "nbgrader": {
     "grade": false,
     "grade_id": "cell-b6b412d82661cc94",
     "locked": true,
     "schema_version": 3,
     "solution": false,
     "task": false
    }
   },
   "outputs": [],
   "source": [
    "# run this to create list\n",
    "staff = ['Anu_IA', 'Bob_IA', 'Boning_IA', 'Bora_IA', 'David_TA', 'Emma_IA', \n",
    "         'Ellis_Prof', 'Frank_IA', 'Mani_IA', 'Harrison_IA', 'Shivani_TA']"
   ]
  },
  {
   "cell_type": "code",
   "execution_count": 18,
   "metadata": {
    "nbgrader": {
     "grade": false,
     "grade_id": "q8a",
     "locked": false,
     "schema_version": 3,
     "solution": true
    }
   },
   "outputs": [
    {
     "data": {
      "text/plain": [
       "['Anu_IA',\n",
       " 'Bob_IA',\n",
       " 'Boning_IA',\n",
       " 'Bora_IA',\n",
       " 'Emma_IA',\n",
       " 'Frank_IA',\n",
       " 'Mani_IA',\n",
       " 'Harrison_IA']"
      ]
     },
     "execution_count": 18,
     "metadata": {},
     "output_type": "execute_result"
    }
   ],
   "source": [
    "### BEGIN SOLUTION\n",
    "# code will differ based on who is taking the exam\n",
    "to_contact = []\n",
    "\n",
    "for person in staff:\n",
    "    if '_IA' in person:\n",
    "        to_contact.append(person)\n",
    "\n",
    "to_contact\n",
    "### END SOLUTION"
   ]
  },
  {
   "cell_type": "code",
   "execution_count": 19,
   "metadata": {
    "nbgrader": {
     "grade": true,
     "grade_id": "q8-t1",
     "locked": true,
     "points": 0.5,
     "schema_version": 3,
     "solution": false
    }
   },
   "outputs": [],
   "source": [
    "assert to_contact\n",
    "\n",
    "### BEGIN HIDDEN TESTS\n",
    "assert to_contact == ['Anu_IA',\n",
    "                     'Bob_IA',\n",
    "                     'Boning_IA',\n",
    "                     'Bora_IA',\n",
    "                     'Emma_IA',\n",
    "                     'Frank_IA',\n",
    "                     'Mani_IA',\n",
    "                     'Harrison_IA']\n",
    "### END HIDDEN TESTS"
   ]
  },
  {
   "cell_type": "markdown",
   "metadata": {
    "nbgrader": {
     "grade": false,
     "grade_id": "q8-t2",
     "locked": true,
     "points": 1.5,
     "schema_version": 3,
     "solution": false,
     "task": true
    }
   },
   "source": [
    "**This \"blank\" cell included intentionally.** Do not do anything here. (It's being used in grading.)\n",
    "\n",
    "=== BEGIN MARK SCHEME ===\n",
    "- empty list initialized (0.25)\n",
    "- for loop set up correctly (0.25)\n",
    "- conditional correct (0.5)\n",
    "- list extended correctly (0.5)\n",
    "\n",
    "=== END MARK SCHEME ==="
   ]
  },
  {
   "cell_type": "markdown",
   "metadata": {
    "nbgrader": {
     "grade": false,
     "grade_id": "q9",
     "locked": true,
     "schema_version": 3,
     "solution": false
    }
   },
   "source": [
    "### Example Q8 - Completing  a task (2 points)\n",
    "\n",
    "Imagine you want to determine the total number of students Professor Ellis has taught in COGS 18 since arriving at UCSD.\n",
    "\n",
    "To do so, first run the cell below to create the dictionary `ellis_courses`. This dictionary stores course names and quarters as keys and the number of students enrolled as values.\n",
    "\n",
    "Then, using the information in the `ellis_courses` dictionary, determine what code constructs you would need to sum the values for the students who have taken cogs18 with Professor Ellis during this time. Store this value in the variable `cogs18_students`. \n",
    "\n",
    "Note: Do not hard-code. Your answer should use the code constructs taught so far in the course. For example, if the values in the dictionary were to be updated, your code should still produce the correct result.\n"
   ]
  },
  {
   "cell_type": "code",
   "execution_count": 20,
   "metadata": {
    "nbgrader": {
     "grade": false,
     "grade_id": "q9d",
     "locked": true,
     "schema_version": 3,
     "solution": false,
     "task": false
    }
   },
   "outputs": [],
   "source": [
    "# run this to create ellis_courses dictionary\n",
    "ellis_courses = {'cogs9_wi19': 326,\n",
    "                 'cogs108_sp19': 825,\n",
    "                 'cogs18_sp19' : 272,\n",
    "                 'cogs9_fa19' : 292,\n",
    "                 'cogs18_fa19' : 301,\n",
    "                 'cogs108_wi20' : 442,\n",
    "                 'cogs18_sp20' : 307,\n",
    "                 'cogs108_sp20' : 469,\n",
    "                 'cogs18_su20' : 88,\n",
    "                 'cogs18_fa20' : 330,\n",
    "                 'cogs108_fa20' : 498\n",
    "}"
   ]
  },
  {
   "cell_type": "code",
   "execution_count": 21,
   "metadata": {
    "nbgrader": {
     "grade": false,
     "grade_id": "q9a",
     "locked": false,
     "schema_version": 3,
     "solution": true
    }
   },
   "outputs": [
    {
     "data": {
      "text/plain": [
       "1298"
      ]
     },
     "execution_count": 21,
     "metadata": {},
     "output_type": "execute_result"
    }
   ],
   "source": [
    "### BEGIN SOLUTION\n",
    "cogs18_students = 0\n",
    "\n",
    "for key in ellis_courses:\n",
    "    if 'cogs18' in key:\n",
    "        cogs18_students = cogs18_students + ellis_courses[key]\n",
    "\n",
    "cogs18_students\n",
    "### END SOLUTION"
   ]
  },
  {
   "cell_type": "code",
   "execution_count": 22,
   "metadata": {
    "nbgrader": {
     "grade": true,
     "grade_id": "q9-t1",
     "locked": true,
     "points": 0.5,
     "schema_version": 3,
     "solution": false
    }
   },
   "outputs": [],
   "source": [
    "assert cogs18_students \n",
    "\n",
    "### BEGIN HIDDEN TESTS\n",
    "assert cogs18_students == 1298\n",
    "### END HIDDEN TESTS"
   ]
  },
  {
   "cell_type": "markdown",
   "metadata": {
    "nbgrader": {
     "grade": false,
     "grade_id": "q9-t2",
     "locked": true,
     "points": 1.5,
     "schema_version": 3,
     "solution": false,
     "task": true
    }
   },
   "source": [
    "**This \"blank\" cell included intentionally.** Do not do anything here. (It's being used in grading.)\n",
    "\n",
    "\n",
    "=== BEGIN MARK SCHEME ===\n",
    "- counter initialized correctly (0.25)\n",
    "- loop set up correctly (0.25)\n",
    "- conditional used/checks membership correctly (0.5)\n",
    "- value accessed from dictionary correctly (0.25)\n",
    "- counter increased correctly (0.25)\n",
    "\n",
    "=== END MARK SCHEME ==="
   ]
  },
  {
   "cell_type": "markdown",
   "metadata": {
    "nbgrader": {
     "grade": false,
     "grade_id": "cell-afb5d32ea3790f9b",
     "locked": true,
     "schema_version": 3,
     "solution": false
    }
   },
   "source": [
    "### Submit on Datahub\n",
    "\n",
    "Good work - you're done!\n",
    "\n",
    "Check your work, and then when you're ready, **submit on datahub**.\n",
    "\n",
    "We will not have your exam until you click submit and see this show up under 'submitted assignments'."
   ]
  }
 ],
 "metadata": {
  "celltoolbar": "Create Assignment",
  "kernelspec": {
   "display_name": "Python 3",
   "language": "python",
   "name": "python3"
  },
  "language_info": {
   "codemirror_mode": {
    "name": "ipython",
    "version": 3
   },
   "file_extension": ".py",
   "mimetype": "text/x-python",
   "name": "python",
   "nbconvert_exporter": "python",
   "pygments_lexer": "ipython3",
   "version": "3.7.6"
  }
 },
 "nbformat": 4,
 "nbformat_minor": 2
}
