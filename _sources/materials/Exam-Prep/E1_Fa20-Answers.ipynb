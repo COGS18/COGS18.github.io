{
 "cells": [
  {
   "cell_type": "markdown",
   "metadata": {
    "nbgrader": {
     "grade": false,
     "grade_id": "e1",
     "locked": true,
     "schema_version": 3,
     "solution": false
    }
   },
   "source": [
    "# COGS 18 - Exam 1\n",
    "\n",
    "This is the first exam for Fall 2020. It covers topics through the Dictionaries Lecture.\n",
    "\n",
    "This exam is out of 12.5 points, worth 12.5% of your grade.\n",
    "\n",
    "**PLEASE DO NOT CHANGE THE NAME OF THIS FILE.**\n",
    "\n",
    "**PLEASE DO NOT COPY & PASTE OR DELETE CELLS INLCUDED IN THE ASSIGNMENT.** (Note that you can add additional cells, if you want to test things out."
   ]
  },
  {
   "cell_type": "markdown",
   "metadata": {
    "nbgrader": {
     "grade": false,
     "grade_id": "instructions",
     "locked": true,
     "schema_version": 3,
     "solution": false
    }
   },
   "source": [
    "## Instructions\n",
    "\n",
    "#### Timing\n",
    "- The exam is designed to take you ~1h.\n",
    "- There will be a 24 hour window during which you can complete this exam.\n",
    "- If it takes you longer than 1h, you're free to use that time.\n",
    "\n",
    "#### The Rules\n",
    "- You are to complete this exam on your own.\n",
    "- This is open-notes & open-Google\n",
    "- You may not talk to any humans about this exam. \n",
    "- The following are all *prohibited*:\n",
    "    - text/phone/online chat communication\n",
    "    - posting questions to a message board where a human could respond\n",
    "    - asking anyone via any form about a question on this test directly\n",
    "- Clarification questions will ***not*** be allowed and there will be no posting on Piazza about the exam at all. \n",
    "    - Piazza posts about the exam will not be answered and will be deleted. \n",
    "    - Students who post questions about the exam to Piazza are at risk of losing points on the exam.\n",
    "    - If you are confused about wording, add a note to your exam explaining your confusion and how you interpreted the question. \n",
    "    - Note: This policy is b/c we are incapable of responding for 24h straight. This is the only way to make it fair across the board for students."
   ]
  },
  {
   "cell_type": "markdown",
   "metadata": {
    "nbgrader": {
     "grade": false,
     "grade_id": "cell-26b08bd4b5ba54ab",
     "locked": true,
     "schema_version": 3,
     "solution": false
    }
   },
   "source": [
    " <span style=\"color: red;\">Note: </span> There _is_ a chance for partial credit on some questions, so _some_ code is better than _no_ code. Even if it throws an error, having some code that partially answers the question will benefit you/your grade."
   ]
  },
  {
   "cell_type": "markdown",
   "metadata": {
    "nbgrader": {
     "grade": false,
     "grade_id": "part1",
     "locked": true,
     "schema_version": 3,
     "solution": false
    }
   },
   "source": [
    "## Part 1: Variables & Operators (4 points)"
   ]
  },
  {
   "cell_type": "markdown",
   "metadata": {
    "nbgrader": {
     "grade": false,
     "grade_id": "q1",
     "locked": true,
     "schema_version": 3,
     "solution": false
    }
   },
   "source": [
    "### Q1 - Variables (1 point)\n",
    "\n",
    "In the cell below, create two variables: `var_cat` and `var_sum`. \n",
    "\n",
    "- `var_cat` should store a string created (assigned) by concatenating two strings together \n",
    "- `var_sum` should store a numeric variable (float or int) created (assigned) by adding two numeric values together\n",
    "\n",
    "The specific values you use to generate `var_cat` and `var_sum` are up to you, as long as they fulfull the criteria specified."
   ]
  },
  {
   "cell_type": "code",
   "execution_count": 1,
   "metadata": {
    "nbgrader": {
     "grade": false,
     "grade_id": "q1a",
     "locked": false,
     "schema_version": 3,
     "solution": true
    }
   },
   "outputs": [],
   "source": [
    "# actual values stored will differ\n",
    "var_cat = 'cogs' + '18'\n",
    "var_sum = 9 + 29"
   ]
  },
  {
   "cell_type": "code",
   "execution_count": 2,
   "metadata": {
    "nbgrader": {
     "grade": true,
     "grade_id": "q1-t1",
     "locked": true,
     "points": 0.5,
     "schema_version": 3,
     "solution": false
    }
   },
   "outputs": [],
   "source": [
    "# check variable exists\n",
    "assert var_cat is not None\n",
    "assert isinstance(var_cat, str)"
   ]
  },
  {
   "cell_type": "code",
   "execution_count": 3,
   "metadata": {
    "nbgrader": {
     "grade": true,
     "grade_id": "q1-t2",
     "locked": true,
     "points": 0.5,
     "schema_version": 3,
     "solution": false
    }
   },
   "outputs": [],
   "source": [
    "# check variable exists\n",
    "assert var_sum is not None\n",
    "assert isinstance(var_sum, float) or isinstance(var_sum, int)"
   ]
  },
  {
   "cell_type": "markdown",
   "metadata": {
    "nbgrader": {
     "grade": false,
     "grade_id": "q2",
     "locked": true,
     "schema_version": 3,
     "solution": false
    }
   },
   "source": [
    "### Q2 - Math Operators (1 point)\n",
    "\n",
    "In the cell below, create three variables: `var_low`, `var_mid`, and `var_high`.\n",
    "\n",
    "Across these three variables:\n",
    "- all seven math operators (`+`, `-`, `/`, `*`, `**`, `%`, `//`) must be used _at least once_ \n",
    "- each variable must store a number (float or int)\n",
    "- the values stored in each variable must satisfy the condition that `var_low` stores the smallest number and `var_high` the highest"
   ]
  },
  {
   "cell_type": "code",
   "execution_count": 4,
   "metadata": {
    "nbgrader": {
     "grade": false,
     "grade_id": "q2a",
     "locked": false,
     "schema_version": 3,
     "solution": true
    }
   },
   "outputs": [],
   "source": [
    "# actual operations will differ\n",
    "var_low = (9 + 2 - 1) % 3\n",
    "var_mid = 25 / 5 * 2 // 1\n",
    "var_high = 13 ** 2  "
   ]
  },
  {
   "cell_type": "code",
   "execution_count": 5,
   "metadata": {
    "nbgrader": {
     "grade": true,
     "grade_id": "q2-t1",
     "locked": true,
     "points": 0.2,
     "schema_version": 3,
     "solution": false
    }
   },
   "outputs": [],
   "source": [
    "assert var_low is not None\n",
    "assert isinstance(var_low, float) or isinstance(var_low, int)"
   ]
  },
  {
   "cell_type": "code",
   "execution_count": 6,
   "metadata": {
    "nbgrader": {
     "grade": true,
     "grade_id": "q2-t2",
     "locked": true,
     "points": 0.2,
     "schema_version": 3,
     "solution": false
    }
   },
   "outputs": [],
   "source": [
    "assert var_mid is not None\n",
    "assert isinstance(var_mid, float) or isinstance(var_mid, int)"
   ]
  },
  {
   "cell_type": "code",
   "execution_count": 7,
   "metadata": {
    "nbgrader": {
     "grade": true,
     "grade_id": "q2-t3",
     "locked": true,
     "points": 0.2,
     "schema_version": 3,
     "solution": false
    }
   },
   "outputs": [],
   "source": [
    "assert var_high is not None\n",
    "assert isinstance(var_high, float) or isinstance(var_high, int)"
   ]
  },
  {
   "cell_type": "code",
   "execution_count": 8,
   "metadata": {
    "nbgrader": {
     "grade": true,
     "grade_id": "q2-t4",
     "locked": true,
     "points": 0.2,
     "schema_version": 3,
     "solution": false,
     "task": false
    }
   },
   "outputs": [],
   "source": [
    "#hidden test to ensure conditions specified in instructions were followed\n",
    "assert var_low < var_mid < var_high"
   ]
  },
  {
   "cell_type": "markdown",
   "metadata": {
    "nbgrader": {
     "grade": false,
     "grade_id": "q2-t5",
     "locked": true,
     "points": 0.2,
     "schema_version": 3,
     "solution": false,
     "task": true
    }
   },
   "source": [
    "**This \"blank\" cell included intentionally.** Do not do anything here. (It's being used in grading.)\n",
    "\n",
    "=== BEGIN MARK SCHEME ===\n",
    "\n",
    "- all seven operators are used (0.2)\n",
    "\n",
    "=== END MARK SCHEME ==="
   ]
  },
  {
   "cell_type": "markdown",
   "metadata": {
    "nbgrader": {
     "grade": false,
     "grade_id": "q3",
     "locked": true,
     "schema_version": 3,
     "solution": false
    }
   },
   "source": [
    "### Q3 - Comparison Operators (1 point)\n",
    "\n",
    "In the cell below, create two variables: `true_var` and `false_var`.\n",
    "\n",
    "These variables must satisfy the following requirements:\n",
    "\n",
    "1. Each variable must be defined using *at least one* comparison operator (`<`,`>`,`<=`,`>=`,`!=`,`==`).\n",
    "2. Each variable must use and refer to at least one variable created in Q2 (`var_low`, `var_mid`, `var_high`)\n",
    "3. Additional values and/or operators may also be used, but `true_var` must use the `and` operator; `false_var` must use the `or` operator.\n",
    "4. `true_var` should evaluate as the boolean `True`; `false_var` should evaluate as the boolean `False`"
   ]
  },
  {
   "cell_type": "code",
   "execution_count": 9,
   "metadata": {
    "nbgrader": {
     "grade": false,
     "grade_id": "q3a",
     "locked": false,
     "schema_version": 3,
     "solution": true
    }
   },
   "outputs": [],
   "source": [
    "# actual variable creation will differ\n",
    "true_var = (var_low < var_mid) and (var_high >= var_mid)\n",
    "false_var = (var_mid == var_low) or (var_high < var_mid)"
   ]
  },
  {
   "cell_type": "code",
   "execution_count": 10,
   "metadata": {
    "nbgrader": {
     "grade": true,
     "grade_id": "q3-t1",
     "locked": true,
     "points": 0.25,
     "schema_version": 3,
     "solution": false
    }
   },
   "outputs": [],
   "source": [
    "assert isinstance(true_var, bool)\n",
    "assert true_var"
   ]
  },
  {
   "cell_type": "code",
   "execution_count": 11,
   "metadata": {
    "nbgrader": {
     "grade": true,
     "grade_id": "q3-t2",
     "locked": true,
     "points": 0.25,
     "schema_version": 3,
     "solution": false
    }
   },
   "outputs": [],
   "source": [
    "assert isinstance(false_var, bool)\n",
    "assert not false_var"
   ]
  },
  {
   "cell_type": "markdown",
   "metadata": {
    "nbgrader": {
     "grade": false,
     "grade_id": "q3-t3",
     "locked": true,
     "points": 0.5,
     "schema_version": 3,
     "solution": false,
     "task": true
    }
   },
   "source": [
    "**This \"blank\" cell included intentionally.** Do not do anything here. (It's being used in grading.)\n",
    "\n",
    "=== BEGIN MARK SCHEME ===\n",
    "\n",
    "- both variables reference `var_low`, `var_mid`, or `var_high` at least once (0.2)\n",
    "- both variables reference use at least one comparison operator (0.2)\n",
    "- `true_var` uses `and`; `false_var` uses `or`  (0.1)\n",
    "\n",
    "=== END MARK SCHEME ===\n"
   ]
  },
  {
   "cell_type": "markdown",
   "metadata": {
    "nbgrader": {
     "grade": false,
     "grade_id": "q4",
     "locked": true,
     "schema_version": 3,
     "solution": false,
     "task": false
    }
   },
   "source": [
    "### Q4 - Variables (1 point)\n",
    "\n",
    "Consider each of the following scenarios and determine what type of collection (list, tuple, dictionary) would be best to use. For each scenario, store 'list', 'tuple' or 'dictionary' in the variable specified, depending upon which is best for the given scnenario. (Note: Capitalization and spelling matter.)\n",
    "\n",
    "\n",
    "For example, for `scenario_A`, if you thought the correct answer were 'list' your answer in the answer cell would be:\n",
    "\n",
    "```python\n",
    "scenario_A = 'list'\n",
    "```\n",
    "\n",
    "Scenarios:\n",
    "\n",
    "- `scenario_A` | You want to store all of the names of the films that won an Academy Award last year.\n",
    "- `scenario_B` | You want to keep a record of all the email addresses (and only the email addresses) of all of Directors working in Hollywood, so that you can email them your brilliant ideas whenever you have them. \n",
    "- `scenario_C` | You want to store the names *and* email addresses of all of the Directors working in Hollywood, so that you can email them your brilliant ideas whenever you have them *and* address the email to the right name. \n",
    "- `scenario_D` | You want to keep a record of all of the films that have ever won an Academy award and the year in which that award was won."
   ]
  },
  {
   "cell_type": "code",
   "execution_count": 12,
   "metadata": {
    "nbgrader": {
     "grade": false,
     "grade_id": "q4a",
     "locked": false,
     "schema_version": 3,
     "solution": true,
     "task": false
    }
   },
   "outputs": [],
   "source": [
    "scenario_A = 'tuple'\n",
    "scenario_B = 'list'\n",
    "scenario_C = 'dictionary'\n",
    "scenario_D = 'dictionary'"
   ]
  },
  {
   "cell_type": "code",
   "execution_count": 13,
   "metadata": {
    "nbgrader": {
     "grade": true,
     "grade_id": "q4-t1",
     "locked": true,
     "points": 0.25,
     "schema_version": 3,
     "solution": false
    }
   },
   "outputs": [],
   "source": [
    "assert scenario_A in ['tuple', 'list', 'dictionary']\n",
    "assert scenario_A == 'tuple'"
   ]
  },
  {
   "cell_type": "code",
   "execution_count": 14,
   "metadata": {
    "nbgrader": {
     "grade": true,
     "grade_id": "q4-t2",
     "locked": true,
     "points": 0.25,
     "schema_version": 3,
     "solution": false
    }
   },
   "outputs": [],
   "source": [
    "assert scenario_B in ['tuple', 'list', 'dictionary']\n",
    "assert scenario_B == 'list'"
   ]
  },
  {
   "cell_type": "code",
   "execution_count": 15,
   "metadata": {
    "nbgrader": {
     "grade": true,
     "grade_id": "q4-t3",
     "locked": true,
     "points": 0.25,
     "schema_version": 3,
     "solution": false
    }
   },
   "outputs": [],
   "source": [
    "assert scenario_C in ['tuple', 'list', 'dictionary']\n",
    "assert scenario_C == 'dictionary'"
   ]
  },
  {
   "cell_type": "code",
   "execution_count": 16,
   "metadata": {
    "nbgrader": {
     "grade": true,
     "grade_id": "g4-t4",
     "locked": true,
     "points": 0.25,
     "schema_version": 3,
     "solution": false
    }
   },
   "outputs": [],
   "source": [
    "assert scenario_D in ['tuple', 'list', 'dictionary']\n",
    "assert scenario_D == 'dictionary'"
   ]
  },
  {
   "cell_type": "markdown",
   "metadata": {
    "nbgrader": {
     "grade": false,
     "grade_id": "part2",
     "locked": true,
     "schema_version": 3,
     "solution": false
    }
   },
   "source": [
    "## Part 2: Collections & Indexing  (3 points)"
   ]
  },
  {
   "cell_type": "markdown",
   "metadata": {
    "nbgrader": {
     "grade": false,
     "grade_id": "q5",
     "locked": true,
     "schema_version": 3,
     "solution": false
    }
   },
   "source": [
    "### Q5 - Lists & Indexing (2.25 points)\n",
    "\n",
    "#### Part 1 (0.75 points)\n",
    "\n",
    "Generate a list called `midterm_list` that meets the following criteria:\n",
    "\n",
    "- contains 7 elements/items \n",
    "- has 2 strings, 2 floats, 1 boolean, 1 list, and 1 tuple as its elements\n",
    "\n",
    "The specific elements in the list `midterm_list` are up to you and can be stored in any order/position within the list, so long as they're in there and of the types specified above."
   ]
  },
  {
   "cell_type": "code",
   "execution_count": 17,
   "metadata": {
    "nbgrader": {
     "grade": false,
     "grade_id": "q5a",
     "locked": false,
     "schema_version": 3,
     "solution": true
    }
   },
   "outputs": [],
   "source": [
    "# actual values will differ\n",
    "midterm_list = ['a', 'b', 2.2, 2.9, True, ['internal', 'list'], (2,3)]"
   ]
  },
  {
   "cell_type": "code",
   "execution_count": 18,
   "metadata": {
    "nbgrader": {
     "grade": true,
     "grade_id": "q5-t1",
     "locked": true,
     "points": 0.25,
     "schema_version": 3,
     "solution": false
    }
   },
   "outputs": [],
   "source": [
    "assert midterm_list\n",
    "assert isinstance(midterm_list, list)"
   ]
  },
  {
   "cell_type": "code",
   "execution_count": 19,
   "metadata": {
    "nbgrader": {
     "grade": true,
     "grade_id": "q5-t2",
     "locked": true,
     "points": 0.25,
     "schema_version": 3,
     "solution": false
    }
   },
   "outputs": [],
   "source": [
    "#hidden test to ensure conditions specified in instructions were followed\n",
    "assert len(midterm_list) == 7"
   ]
  },
  {
   "cell_type": "code",
   "execution_count": 20,
   "metadata": {
    "nbgrader": {
     "grade": true,
     "grade_id": "q5-t3",
     "locked": true,
     "points": 0.25,
     "schema_version": 3,
     "solution": false
    }
   },
   "outputs": [],
   "source": [
    "#hidden test to ensure conditions specified in instructions were followed\n",
    "float_count = 0\n",
    "string_count = 0\n",
    "bool_count = 0\n",
    "list_count = 0\n",
    "tuple_count = 0\n",
    "\n",
    "for n in midterm_list:\n",
    "    if isinstance(n, float):\n",
    "        float_count += 1\n",
    "    if isinstance(n, str):\n",
    "        string_count += 1\n",
    "    if isinstance(n, bool):\n",
    "        bool_count += 1\n",
    "    if isinstance(n, list):\n",
    "        list_count += 1\n",
    "    if isinstance(n, tuple):\n",
    "        tuple_count += 1\n",
    "\n",
    "assert float_count == 2\n",
    "assert string_count == 2\n",
    "assert bool_count == 1\n",
    "assert list_count == 1\n",
    "assert tuple_count == 1"
   ]
  },
  {
   "cell_type": "markdown",
   "metadata": {
    "nbgrader": {
     "grade": false,
     "grade_id": "q5-2",
     "locked": true,
     "schema_version": 3,
     "solution": false,
     "task": false
    }
   },
   "source": [
    "#### Part 2 (1.5 points)\n",
    "\n",
    "Using the list you defined in Part 1 (`midterm_list`), ***use indexing*** to return the slice/element of the list specified below, storing it in the variable name provided:\n",
    "\n",
    "- `slice_1` | stores the third, fourth, and fifth elements in `midterm_list`\n",
    "- `slice_2` | stores the first, third, and fifth elements in `midterm_list`\n",
    "- `slice_3` | uses ***negative indexing*** to return the single element stored in the second position from the end of `midterm_list`\n",
    "\n",
    "Note on wording: the first _element_ in a given list is the same as the 0<sup>th</sup> _index_ of that list.\n"
   ]
  },
  {
   "cell_type": "code",
   "execution_count": 21,
   "metadata": {
    "nbgrader": {
     "grade": false,
     "grade_id": "q5-a2",
     "locked": false,
     "schema_version": 3,
     "solution": true,
     "task": false
    }
   },
   "outputs": [],
   "source": [
    "### BEGIN SOLUTION\n",
    "slice_1 = midterm_list[2:5]\n",
    "slice_2 = midterm_list[0:6:2]\n",
    "slice_3 = midterm_list[-2]\n",
    "### END SOLUTION"
   ]
  },
  {
   "cell_type": "code",
   "execution_count": 22,
   "metadata": {
    "nbgrader": {
     "grade": true,
     "grade_id": "q5-t4",
     "locked": true,
     "points": 0.5,
     "schema_version": 3,
     "solution": false,
     "task": false
    }
   },
   "outputs": [],
   "source": [
    "assert slice_1\n",
    "assert len(slice_1) == 3\n",
    "assert slice_1 == midterm_list[2:5]"
   ]
  },
  {
   "cell_type": "code",
   "execution_count": 23,
   "metadata": {
    "nbgrader": {
     "grade": true,
     "grade_id": "q5-t5",
     "locked": true,
     "points": 0.5,
     "schema_version": 3,
     "solution": false,
     "task": false
    }
   },
   "outputs": [],
   "source": [
    "assert slice_2\n",
    "assert len(slice_2) == 3\n",
    "assert slice_2 == midterm_list[0:6:2]"
   ]
  },
  {
   "cell_type": "code",
   "execution_count": 24,
   "metadata": {
    "nbgrader": {
     "grade": true,
     "grade_id": "q5-t6",
     "locked": true,
     "points": 0.5,
     "schema_version": 3,
     "solution": false,
     "task": false
    }
   },
   "outputs": [],
   "source": [
    "assert slice_3\n",
    "assert slice_3 == midterm_list[-2]"
   ]
  },
  {
   "cell_type": "markdown",
   "metadata": {
    "nbgrader": {
     "grade": false,
     "grade_id": "q6",
     "locked": true,
     "schema_version": 3,
     "solution": false
    }
   },
   "source": [
    "### Q6 - Dictionaries (0.75 points)\n",
    "\n",
    "Generate a dictionary called `midterm_dict` that meets the following criteria:\n",
    "\n",
    "- has three keys: 'name', 'age', and 'major'\n",
    "- stores _your_ `name` (string), `age` (int), and `major` (string) as each key's value\n",
    "\n",
    "(Note: I don't care if you use your real name, age, and major as the values in the dictionary, so long as they are of the specified type.)"
   ]
  },
  {
   "cell_type": "code",
   "execution_count": 25,
   "metadata": {
    "nbgrader": {
     "grade": false,
     "grade_id": "q6a",
     "locked": false,
     "schema_version": 3,
     "solution": true
    },
    "scrolled": true
   },
   "outputs": [],
   "source": [
    "midterm_dict = {'name': 'Shannon',\n",
    "               'age' : 32,\n",
    "               'major': 'biology'}"
   ]
  },
  {
   "cell_type": "code",
   "execution_count": 26,
   "metadata": {
    "nbgrader": {
     "grade": true,
     "grade_id": "q6-t1",
     "locked": true,
     "points": 0.25,
     "schema_version": 3,
     "solution": false
    }
   },
   "outputs": [],
   "source": [
    "assert midterm_dict\n",
    "assert isinstance(midterm_dict, dict)"
   ]
  },
  {
   "cell_type": "code",
   "execution_count": 27,
   "metadata": {
    "nbgrader": {
     "grade": true,
     "grade_id": "q6-t2",
     "locked": true,
     "points": 0.25,
     "schema_version": 3,
     "solution": false
    }
   },
   "outputs": [],
   "source": [
    "#hidden test to ensure conditions specified in instructions were followed\n",
    "assert len(midterm_dict) == 3"
   ]
  },
  {
   "cell_type": "code",
   "execution_count": 28,
   "metadata": {
    "nbgrader": {
     "grade": true,
     "grade_id": "q6-t3",
     "locked": true,
     "points": 0.25,
     "schema_version": 3,
     "solution": false
    }
   },
   "outputs": [],
   "source": [
    "#hidden test to ensure conditions specified in instructions were followed\n",
    "assert isinstance(midterm_dict['age'], int)\n",
    "assert isinstance(midterm_dict['name'], str)\n",
    "assert isinstance(midterm_dict['major'], str)"
   ]
  },
  {
   "cell_type": "markdown",
   "metadata": {
    "nbgrader": {
     "grade": false,
     "grade_id": "cell-08558daba596965c",
     "locked": true,
     "schema_version": 3,
     "solution": false
    }
   },
   "source": [
    "## Part 3: Control Flow - Conditionals & Loops  (5.5 points)"
   ]
  },
  {
   "cell_type": "markdown",
   "metadata": {
    "nbgrader": {
     "grade": false,
     "grade_id": "q7",
     "locked": true,
     "schema_version": 3,
     "solution": false
    }
   },
   "source": [
    "### Q7 - Conditionals (1.5 points)\n",
    "\n",
    "Store your first name as a string in the variable `my_name`.\n",
    "\n",
    "Write a conditional that will determine if there are more letters in your name (`my_name`) relative to the number of letters in the `comparison_name` (provided below, and storing the string 'Shannon').\n",
    "\n",
    "If your name is:\n",
    "- shorter than the `comparison_name`, store the string 'shorter' in the variable `output`\n",
    "- longer than the `comparison_name`, store the string 'longer' in the variable `output`\n",
    "- the same length as `comparison_name`, store the string 'same length' in the variable `output`\n",
    "\n",
    "Note: Do not hard-code. This means your code should work (store the correct string in `output`) regardless of the specific strings stored in `comparison_name` or `my_name`. "
   ]
  },
  {
   "cell_type": "code",
   "execution_count": 29,
   "metadata": {
    "nbgrader": {
     "grade": false,
     "grade_id": "q7a",
     "locked": false,
     "schema_version": 3,
     "solution": true
    }
   },
   "outputs": [],
   "source": [
    "# comparison_name is provided for you\n",
    "# do not change its value\n",
    "comparison_name = 'Shannon'\n",
    "\n",
    "# code will differ based on who is taking the exam\n",
    "my_name = 'Shannon'\n",
    "\n",
    "if len(my_name) < len(comparison_name):\n",
    "    output = 'shorter'\n",
    "elif len(my_name) > len(comparison_name):\n",
    "    output = 'longer'\n",
    "elif len(my_name) == len(comparison_name):\n",
    "    output = 'same length'\n",
    "else:\n",
    "    print('something has gone awry')\n"
   ]
  },
  {
   "cell_type": "code",
   "execution_count": 30,
   "metadata": {
    "nbgrader": {
     "grade": true,
     "grade_id": "q7-t1",
     "locked": true,
     "points": 0.5,
     "schema_version": 3,
     "solution": false
    }
   },
   "outputs": [],
   "source": [
    "assert my_name\n",
    "assert output\n",
    "# test to ensure no typos in string\n",
    "assert output in ['shorter', 'longer', 'same length']\n",
    "\n",
    "comparison_name = 'Shannon'\n",
    "\n",
    "if len(my_name) < len(comparison_name):\n",
    "    output_check = 'shorter'\n",
    "elif len(my_name) > len(comparison_name):\n",
    "    output_check = 'longer'\n",
    "elif len(my_name) == len(comparison_name):\n",
    "    output_check = 'same length'\n",
    "\n",
    "assert output_check == output"
   ]
  },
  {
   "cell_type": "markdown",
   "metadata": {
    "nbgrader": {
     "grade": false,
     "grade_id": "q7-t2",
     "locked": true,
     "points": 1,
     "schema_version": 3,
     "solution": false,
     "task": true
    }
   },
   "source": [
    "**This \"blank\" cell included intentionally.** Do not do anything here. (It's being used in grading.)\n",
    "\n",
    "\n",
    "=== BEGIN MARK SCHEME ===\n",
    "\n",
    "- uses if, elif, else OR if, elif, elif syntax correctly (0.25)\n",
    "- conditionals correct (0.5 points)\n",
    "- `output` assigned a string value (even if there are typos in string) (0.25)\n",
    "\n",
    "=== END MARK SCHEME ==="
   ]
  },
  {
   "cell_type": "markdown",
   "metadata": {
    "nbgrader": {
     "grade": false,
     "grade_id": "q8",
     "locked": true,
     "schema_version": 3,
     "solution": false
    }
   },
   "source": [
    "### Q8 - `for` loop (2 points)\n",
    "\n",
    "Background: Imagine that in a few weeks you find yourself wanting to talk to someone on the instructional staff who has actually completed the COGS 18 final project. When this happens, you suddenly remember you created a list of all the staff members in COGS 18 earlier in the quarter when you were practicing with lists. Perfect! You can use this to help you figure out who you should talk to, since you know that all of the IAs previously took COGS 18 and completed the project. They will be able to discuss their experience with you!\n",
    "\n",
    "The list of staff members and their role is below and is called `staff`. Run the cell below to generate the `staff` list.\n",
    "\n",
    "\n",
    "Then, write code to loop through the provided list. Within the loop, write code that will store any entry in the list with '\\_IA' in the entry into a new list. Store this (the entries in `staff` corresponding to IAs) in a new list called `to_contact`."
   ]
  },
  {
   "cell_type": "code",
   "execution_count": 31,
   "metadata": {
    "nbgrader": {
     "grade": false,
     "grade_id": "cell-b6b412d82661cc94",
     "locked": true,
     "schema_version": 3,
     "solution": false,
     "task": false
    }
   },
   "outputs": [],
   "source": [
    "# run this to create list\n",
    "staff = ['Anu_IA', 'Bob_IA', 'Boning_IA', 'Bora_IA', 'David_TA', 'Emma_IA', \n",
    "         'Ellis_Prof', 'Frank_IA', 'Mani_IA', 'Harrison_IA', 'Shivani_TA']"
   ]
  },
  {
   "cell_type": "code",
   "execution_count": 32,
   "metadata": {
    "nbgrader": {
     "grade": false,
     "grade_id": "q8a",
     "locked": false,
     "schema_version": 3,
     "solution": true
    }
   },
   "outputs": [
    {
     "data": {
      "text/plain": [
       "['Anu_IA',\n",
       " 'Bob_IA',\n",
       " 'Boning_IA',\n",
       " 'Bora_IA',\n",
       " 'Emma_IA',\n",
       " 'Frank_IA',\n",
       " 'Mani_IA',\n",
       " 'Harrison_IA']"
      ]
     },
     "execution_count": 32,
     "metadata": {},
     "output_type": "execute_result"
    }
   ],
   "source": [
    "# code will differ based on who is taking the exam\n",
    "to_contact = []\n",
    "\n",
    "for person in staff:\n",
    "    if '_IA' in person:\n",
    "        to_contact.append(person)\n",
    "\n",
    "to_contact"
   ]
  },
  {
   "cell_type": "code",
   "execution_count": 33,
   "metadata": {
    "nbgrader": {
     "grade": true,
     "grade_id": "q8-t1",
     "locked": true,
     "points": 0.5,
     "schema_version": 3,
     "solution": false
    }
   },
   "outputs": [],
   "source": [
    "assert to_contact\n",
    "\n",
    "assert to_contact == ['Anu_IA',\n",
    "                     'Bob_IA',\n",
    "                     'Boning_IA',\n",
    "                     'Bora_IA',\n",
    "                     'Emma_IA',\n",
    "                     'Frank_IA',\n",
    "                     'Mani_IA',\n",
    "                     'Harrison_IA']"
   ]
  },
  {
   "cell_type": "markdown",
   "metadata": {
    "nbgrader": {
     "grade": false,
     "grade_id": "q8-t2",
     "locked": true,
     "points": 1.5,
     "schema_version": 3,
     "solution": false,
     "task": true
    }
   },
   "source": [
    "**This \"blank\" cell included intentionally.** Do not do anything here. (It's being used in grading.)\n",
    "\n",
    "=== BEGIN MARK SCHEME ===\n",
    "- empty list initialized (0.25)\n",
    "- for loop set up correctly (0.25)\n",
    "- conditional correct (0.5)\n",
    "- list extended correctly (0.5)\n",
    "\n",
    "=== END MARK SCHEME ==="
   ]
  },
  {
   "cell_type": "markdown",
   "metadata": {
    "nbgrader": {
     "grade": false,
     "grade_id": "q9",
     "locked": true,
     "schema_version": 3,
     "solution": false
    }
   },
   "source": [
    "### Q9 - Completing  a task (2 points)\n",
    "\n",
    "Imagine you want to determine the total number of students Professor Ellis has taught in COGS 18 since arriving at UCSD.\n",
    "\n",
    "To do so, first run the cell below to create the dictionary `ellis_courses`. This dictionary stores course names and quarters as keys and the number of students enrolled as values.\n",
    "\n",
    "Then, using the information in the `ellis_courses` dictionary, determine what code constructs you would need to sum the values for the students who have taken cogs18 with Professor Ellis since Winter 2019. Store this value in the variable `cogs18_students`. \n",
    "\n",
    "Note: Do not hard-code. Your answer should use the code constructs taught so far in the course. For example, if the values in the dictionary were to be updated, your code should still produce the correct result.\n"
   ]
  },
  {
   "cell_type": "code",
   "execution_count": 34,
   "metadata": {
    "nbgrader": {
     "grade": false,
     "grade_id": "q9d",
     "locked": true,
     "schema_version": 3,
     "solution": false,
     "task": false
    }
   },
   "outputs": [],
   "source": [
    "# run this to create ellis_courses dictionary\n",
    "ellis_courses = {'cogs9_wi19': 326,\n",
    "                 'cogs108_sp19': 825,\n",
    "                 'cogs18_sp19' : 272,\n",
    "                 'cogs9_fa19' : 292,\n",
    "                 'cogs18_fa19' : 301,\n",
    "                 'cogs108_wi20' : 442,\n",
    "                 'cogs18_sp20' : 307,\n",
    "                 'cogs108_sp20' : 469,\n",
    "                 'cogs18_su20' : 88,\n",
    "                 'cogs18_fa20' : 330,\n",
    "                 'cogs108_fa20' : 498\n",
    "}"
   ]
  },
  {
   "cell_type": "code",
   "execution_count": 35,
   "metadata": {
    "nbgrader": {
     "grade": false,
     "grade_id": "q9a",
     "locked": false,
     "schema_version": 3,
     "solution": true
    }
   },
   "outputs": [
    {
     "data": {
      "text/plain": [
       "1298"
      ]
     },
     "execution_count": 35,
     "metadata": {},
     "output_type": "execute_result"
    }
   ],
   "source": [
    "# Note: we accepted answers that summed all COGS18 classes or all COGS 18 classes other than those in 2019\n",
    "cogs18_students = 0\n",
    "\n",
    "for key in ellis_courses:\n",
    "    if 'cogs18' in key:\n",
    "        cogs18_students = cogs18_students + ellis_courses[key]\n",
    "\n",
    "cogs18_students"
   ]
  },
  {
   "cell_type": "code",
   "execution_count": 36,
   "metadata": {
    "nbgrader": {
     "grade": true,
     "grade_id": "q9-t1",
     "locked": true,
     "points": 0.5,
     "schema_version": 3,
     "solution": false
    }
   },
   "outputs": [],
   "source": [
    "assert cogs18_students \n",
    "\n",
    "assert cogs18_students == 1298 or cogs18_students == 725"
   ]
  },
  {
   "cell_type": "markdown",
   "metadata": {
    "nbgrader": {
     "grade": false,
     "grade_id": "q9-t2",
     "locked": true,
     "points": 1.5,
     "schema_version": 3,
     "solution": false,
     "task": true
    }
   },
   "source": [
    "**This \"blank\" cell included intentionally.** Do not do anything here. (It's being used in grading.)\n",
    "\n",
    "\n",
    "=== BEGIN MARK SCHEME ===\n",
    "- counter initialized correctly (0.25)\n",
    "- loop set up correctly (0.25)\n",
    "- conditional used/checks membership correctly (0.5)\n",
    "- value accessed from dictionary correctly (0.25)\n",
    "- counter increased correctly (0.25)\n",
    "\n",
    "=== END MARK SCHEME ==="
   ]
  },
  {
   "cell_type": "markdown",
   "metadata": {
    "nbgrader": {
     "grade": false,
     "grade_id": "cell-afb5d32ea3790f9b",
     "locked": true,
     "schema_version": 3,
     "solution": false
    }
   },
   "source": [
    "### Submit on Datahub\n",
    "\n",
    "Good work - you're done!\n",
    "\n",
    "Check your work, and then when you're ready, **submit on datahub**.\n",
    "\n",
    "We will not have your exam until you click submit and see this show up under 'submitted assignments'."
   ]
  }
 ],
 "metadata": {
  "kernelspec": {
   "display_name": "Python 3",
   "language": "python",
   "name": "python3"
  },
  "language_info": {
   "codemirror_mode": {
    "name": "ipython",
    "version": 3
   },
   "file_extension": ".py",
   "mimetype": "text/x-python",
   "name": "python",
   "nbconvert_exporter": "python",
   "pygments_lexer": "ipython3",
   "version": "3.7.9"
  }
 },
 "nbformat": 4,
 "nbformat_minor": 2
}
