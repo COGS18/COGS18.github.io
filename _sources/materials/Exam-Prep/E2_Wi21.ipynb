{
 "cells": [
  {
   "cell_type": "markdown",
   "metadata": {
    "nbgrader": {
     "grade": false,
     "grade_id": "intro",
     "locked": true,
     "schema_version": 3,
     "solution": false
    }
   },
   "source": [
    "# COGS 18 - Exam 2\n",
    "\n",
    "This is the second exam for Winter 2021. It covers topics through the Classes Lecture.\n",
    "\n",
    "This total exam is out of 12.5 points, worth 12.5% of your grade. \n",
    "\n",
    "**PLEASE DO NOT CHANGE THE NAME OF THIS FILE.**\n",
    "\n",
    "**PLEASE DO NOT COPY & PASTE OR DELETE CELLS INLCUDED IN THE EXAM.** (Note that you can add additional cells, if you want to test things out."
   ]
  },
  {
   "cell_type": "markdown",
   "metadata": {
    "nbgrader": {
     "grade": false,
     "grade_id": "instructions1",
     "locked": true,
     "schema_version": 3,
     "solution": false
    }
   },
   "source": [
    "## Instructions\n",
    "\n",
    "#### Timing\n",
    "- The exam is designed to take you ~1h.\n",
    "- There will be a 24 hour window during which you can complete this exam (due Thurs 8AM).\n",
    "- If it takes you longer than 1h, you're free to use that time.\n",
    "\n",
    "#### The Rules\n",
    "- You are to complete this exam on your own.\n",
    "- This is open-notes & open-Google.\n",
    "- You may not talk to any humans about this exam. \n",
    "- The following are all *prohibited*:\n",
    "    - text/phone/online chat communication\n",
    "    - posting questions to a message board where a human could respond\n",
    "    - asking anyone via any form about a question on this test directly\n",
    "- Clarification questions will ***not*** be allowed and there will be no posting on Campuswire about the exam at all. \n",
    "    - Campuswire posts about the exam will not be answered and will be deleted. \n",
    "    - Students who post questions about the exam to Campuswire are at risk of losing points on the exam.\n",
    "    - If you are confused about wording, add a note to your exam explaining your confusion and how you interpreted the question. \n",
    "    - Note: This policy is b/c we are incapable of responding for 24h straight. This is the only way to make it fair across the board for students."
   ]
  },
  {
   "cell_type": "markdown",
   "metadata": {
    "nbgrader": {
     "grade": false,
     "grade_id": "instructions2",
     "locked": true,
     "schema_version": 3,
     "solution": false
    }
   },
   "source": [
    " <span style=\"color: red;\">Note: </span> There _is_ a chance for partial credit on some questions, so _some_ code is better than _no_ code. Even if it throws an error, having some code that partially answers the question will benefit you/your grade."
   ]
  },
  {
   "cell_type": "markdown",
   "metadata": {
    "nbgrader": {
     "grade": false,
     "grade_id": "cell-4d8581ac45c24683",
     "locked": true,
     "schema_version": 3,
     "solution": false,
     "task": false
    }
   },
   "source": [
    "### Q0 - Honor Code (0.1 points - bonus)\n",
    "\n",
    "In the cell below, include a variable `honor_code` that stores the boolean `True` if you agree to the following statement:\n",
    "\n",
    ">I agree that this exam was completed individually with the knowlege in my brain, information the notes from this course, and/or with searching for help on the Internet without searching for answers to these questions directly. I did not ask anyone about specific questions on this exam. I did not post these questions (in part or in whole) on the Internet.\n"
   ]
  },
  {
   "cell_type": "code",
   "execution_count": 1,
   "metadata": {
    "nbgrader": {
     "grade": false,
     "grade_id": "cell-9dae831891d7a1ad",
     "locked": false,
     "schema_version": 3,
     "solution": true,
     "task": false
    }
   },
   "outputs": [],
   "source": [
    "### BEGIN SOLUTION\n",
    "honor_code = True\n",
    "### END SOLUTION"
   ]
  },
  {
   "cell_type": "code",
   "execution_count": 2,
   "metadata": {
    "nbgrader": {
     "grade": true,
     "grade_id": "cell-8a6d1a928512e45c",
     "locked": true,
     "points": 0.1,
     "schema_version": 3,
     "solution": false,
     "task": false
    }
   },
   "outputs": [],
   "source": [
    "assert honor_code"
   ]
  },
  {
   "cell_type": "markdown",
   "metadata": {
    "nbgrader": {
     "grade": false,
     "grade_id": "part1",
     "locked": true,
     "schema_version": 3,
     "solution": false
    }
   },
   "source": [
    "## Part 1: E1 Review (3 points)"
   ]
  },
  {
   "cell_type": "markdown",
   "metadata": {
    "nbgrader": {
     "grade": false,
     "grade_id": "q1",
     "locked": true,
     "schema_version": 3,
     "solution": false
    }
   },
   "source": [
    "### Q1 - Variables, Operators, Indexing, and Loops (0.5 points)\n",
    "\n",
    "Thanks to your efforts on E1, Prof Ellis now has her grocery list all in order! Execute the cell below to create the `grocery` list.\n",
    "\n",
    "Then, write code that (*using indexing* and/or operators we've learned) accomplishes the following:\n",
    "\n",
    "1. Assigns the second, fourth, and sixth (every other) element of `grocery` to the variable `out_a`.\n",
    "2. Assigns the single element in the third position from the end of `grocery` to the variable `out_b`\n",
    "3. Returns a list of booleans, storing `True` for any element in `grocery` that contains the letter `n` and `False` otherwise. Store this in the variable `out_c`. \n",
    "\n",
    "Note: \"element\" refers to the position in the list - so the element at index 0 is the *first* element in any list."
   ]
  },
  {
   "cell_type": "code",
   "execution_count": 3,
   "metadata": {
    "nbgrader": {
     "grade": false,
     "grade_id": "cell-dc41150f29ab53a2",
     "locked": true,
     "schema_version": 3,
     "solution": false,
     "task": false
    }
   },
   "outputs": [],
   "source": [
    "grocery = ['mushrooms', 'peanut butter', 'tahini', \n",
    "           'pineapple', 'udon noodles', 'romaine lettuce']"
   ]
  },
  {
   "cell_type": "code",
   "execution_count": 4,
   "metadata": {
    "nbgrader": {
     "grade": false,
     "grade_id": "q1-solution",
     "locked": false,
     "schema_version": 3,
     "solution": true
    }
   },
   "outputs": [],
   "source": [
    "### BEGIN SOLUTION\n",
    " # specific indexing could differ\n",
    "out_a = grocery[1::2]\n",
    "out_b = grocery[-3]\n",
    "out_c = [] \n",
    "for el in grocery:\n",
    "    if 'n' in el:\n",
    "        out_c.append(True)\n",
    "    else:\n",
    "        out_c.append(False)\n",
    "### END SOLUTION"
   ]
  },
  {
   "cell_type": "code",
   "execution_count": 5,
   "metadata": {
    "nbgrader": {
     "grade": true,
     "grade_id": "q1-test1",
     "locked": true,
     "points": 0.15,
     "schema_version": 3,
     "solution": false
    }
   },
   "outputs": [],
   "source": [
    "assert out_a\n",
    "### BEGIN HIDDEN TESTS\n",
    "assert isinstance(out_a, list)\n",
    "assert out_a == ['peanut butter', 'pineapple', 'romaine lettuce']\n",
    "### END HIDDEN TESTS"
   ]
  },
  {
   "cell_type": "code",
   "execution_count": 6,
   "metadata": {
    "nbgrader": {
     "grade": true,
     "grade_id": "q1-test2",
     "locked": true,
     "points": 0.15,
     "schema_version": 3,
     "solution": false
    }
   },
   "outputs": [],
   "source": [
    "assert out_b\n",
    "### BEGIN HIDDEN TESTS\n",
    "assert isinstance(out_b, str)\n",
    "assert out_b == 'pineapple'\n",
    "### END HIDDEN TESTS"
   ]
  },
  {
   "cell_type": "code",
   "execution_count": 7,
   "metadata": {
    "nbgrader": {
     "grade": true,
     "grade_id": "q1-test3",
     "locked": true,
     "points": 0.2,
     "schema_version": 3,
     "solution": false
    }
   },
   "outputs": [],
   "source": [
    "assert out_c\n",
    "### BEGIN HIDDEN TESTS\n",
    "assert out_c == [False, True, True, True, True, True]\n",
    "### END HIDDEN TESTS"
   ]
  },
  {
   "cell_type": "markdown",
   "metadata": {
    "nbgrader": {
     "grade": false,
     "grade_id": "q2",
     "locked": true,
     "schema_version": 3,
     "solution": false
    }
   },
   "source": [
    "### Q2 - Conditionals & Loops (1.25 points)\n",
    "\n",
    "Alice wants to encrypt a message to send to Bob. Help her with this process - storing the encrypted message as a string in `secret_message`, using the specific approach to encryption described:\n",
    "\n",
    "1. Starting with the third character in the `message`, take every third element and and add it to the output `secret_message`. Be sure to remove these characters from the original `message` in this process. (Reminder: there are helpful string methods; `.replace()` may help you here, but there are multiple ways to approach this, so your answer does not *have* to use `.replace()`.)\n",
    "2. For all remaining characters in original `message` after step 1, reverse the order of these characters, such that the first character becomes the last and the second character becomes the second to last. Add this reversed string to the end of `secret_message`.\n",
    "\n",
    "For example, for the `message` `'funtimes'`, `secret_message` would store `'nmseituf'`, where `'n'`, `'m'`  are the 3rd and 6th elements in the original string and `'seituf'` is the remaining string (`'futies'`) reversed, added onto the end of `secret_message`.\n",
    "\n",
    "**Note**: Do not hard code. Use the code constructs taught in class. In other words, your code should have `secret_message` should store the correct output, even if the string in `message` were to change."
   ]
  },
  {
   "cell_type": "code",
   "execution_count": 8,
   "metadata": {
    "nbgrader": {
     "grade": false,
     "grade_id": "cell-547e46da385b3cd3",
     "locked": false,
     "schema_version": 3,
     "solution": true,
     "task": false
    }
   },
   "outputs": [
    {
     "data": {
      "text/plain": [
       "'disyaot'"
      ]
     },
     "execution_count": 8,
     "metadata": {},
     "output_type": "execute_result"
    }
   ],
   "source": [
    "# you can test other `message` strings\n",
    "# but be sure when you submit\n",
    "# message is 'todayis'\n",
    "message = 'todayis'\n",
    "\n",
    "### BEGIN SOLUTION\n",
    "# specific solutions will and can vary\n",
    "secret_message = ''\n",
    "\n",
    "counter = 1\n",
    "for char in message:\n",
    "    if counter % 3 == 0: # get every third character\n",
    "        secret_message += char # add to secret message\n",
    "        message = message.replace(char, '', 1) # remove character from original message\n",
    "    counter += 1\n",
    "\n",
    "# after removal, reverse remaining string\n",
    "secret_message += message[::-1]\n",
    "\n",
    "secret_message\n",
    "### END SOLUTION"
   ]
  },
  {
   "cell_type": "code",
   "execution_count": 9,
   "metadata": {
    "nbgrader": {
     "grade": true,
     "grade_id": "q2-t1",
     "locked": true,
     "points": 0.25,
     "schema_version": 3,
     "solution": false,
     "task": false
    }
   },
   "outputs": [],
   "source": [
    "assert secret_message\n",
    "### BEGIN HIDDEN TESTS\n",
    "assert isinstance(secret_message, str)\n",
    "### END HIDDEN TESTS"
   ]
  },
  {
   "cell_type": "code",
   "execution_count": 2,
   "metadata": {
    "nbgrader": {
     "grade": true,
     "grade_id": "q2-t2",
     "locked": true,
     "points": 1,
     "schema_version": 3,
     "solution": false,
     "task": false
    }
   },
   "outputs": [
    {
     "data": {
      "text/plain": [
       "True"
      ]
     },
     "execution_count": 2,
     "metadata": {},
     "output_type": "execute_result"
    }
   ],
   "source": [
    "# hidden test to ensure correct approach\n",
    "### BEGIN HIDDEN TESTS\n",
    "assert secret_message == 'disyaot' or secret_message == 'dieeaydsndwsyaot' or secret_message == 'dieeaysnwsyot'\n",
    "### END HIDDEN TESTS"
   ]
  },
  {
   "cell_type": "markdown",
   "metadata": {
    "nbgrader": {
     "grade": false,
     "grade_id": "q2-t3",
     "locked": true,
     "points": 0,
     "schema_version": 3,
     "solution": false,
     "task": true
    }
   },
   "source": [
    "**This \"blank\" cell included intentionally.** Do not do anything here. (It's being used in grading.)\n",
    "\n",
    "=== BEGIN MARK SCHEME ===\n",
    "\n",
    "Answer not hard-coded; remove autograded credit if answer is hard-coded.                                                   \n",
    "=== END MARK SCHEME ==="
   ]
  },
  {
   "cell_type": "markdown",
   "metadata": {
    "nbgrader": {
     "grade": false,
     "grade_id": "cell-2da6957c36f67285",
     "locked": true,
     "schema_version": 3,
     "solution": false,
     "task": false
    }
   },
   "source": [
    "### Q3 - Loop to Complete a Task (1.25 points)\n",
    "\n",
    "The World Health Organization has contacted Professor Ellis to ask for her help sorting between people that should be quarantined and people that shouldn’t. Unfortunately, she’s too busy grading assignments, exams, and coding labs. As such, your task, should you choose to accept it (This a joke, you’re required to accept it), is to help Professor Ellis accomplish this task!\n",
    "\n",
    "Given a dictionary called `quarantine_dict`, store the names (which are the keys in `quarantine_dict`) of people whose value is `True` in a list called `do_quarantine` and the names of people whose value is `False` in a list called `dont_quarantine`."
   ]
  },
  {
   "cell_type": "code",
   "execution_count": 11,
   "metadata": {
    "nbgrader": {
     "grade": false,
     "grade_id": "cell-b6b412d82661cc94",
     "locked": true,
     "schema_version": 3,
     "solution": false,
     "task": false
    }
   },
   "outputs": [],
   "source": [
    "# run this to create list\n",
    "quarantine_dict = {'King Triton': True,\n",
    "                   'Racoon One': True,\n",
    "                   'Sun God': False,\n",
    "                   'Racoon Two': False,\n",
    "                   'Cole Slaw': False,\n",
    "                   'Racoon Three': True,\n",
    "                   'Dr. Py T. Hon': True\n",
    "                  }"
   ]
  },
  {
   "cell_type": "code",
   "execution_count": 12,
   "metadata": {
    "nbgrader": {
     "grade": false,
     "grade_id": "q8a",
     "locked": false,
     "schema_version": 3,
     "solution": true
    }
   },
   "outputs": [
    {
     "name": "stdout",
     "output_type": "stream",
     "text": [
      "['King Triton', 'Racoon One', 'Racoon Three', 'Dr. Py T. Hon'] ['Sun God', 'Racoon Two', 'Cole Slaw']\n"
     ]
    }
   ],
   "source": [
    "### BEGIN SOLUTION\n",
    "# code will differ based on who is taking the exam\n",
    "do_quarantine = []\n",
    "dont_quarantine = []\n",
    "\n",
    "for person in quarantine_dict:\n",
    "    if quarantine_dict[person]:\n",
    "        do_quarantine.append(person)\n",
    "    else:\n",
    "        dont_quarantine.append(person)\n",
    "        \n",
    "print(do_quarantine, dont_quarantine)\n",
    "### END SOLUTION"
   ]
  },
  {
   "cell_type": "code",
   "execution_count": 13,
   "metadata": {
    "nbgrader": {
     "grade": true,
     "grade_id": "q8-t1",
     "locked": true,
     "points": 0.1,
     "schema_version": 3,
     "solution": false
    }
   },
   "outputs": [],
   "source": [
    "assert do_quarantine\n",
    "### BEGIN HIDDEN TESTS\n",
    "assert isinstance(do_quarantine, list)\n",
    "### END HIDDEN TESTS"
   ]
  },
  {
   "cell_type": "code",
   "execution_count": 14,
   "metadata": {
    "nbgrader": {
     "grade": true,
     "grade_id": "cell-1c4e5e4f38b22e57",
     "locked": true,
     "points": 0.1,
     "schema_version": 3,
     "solution": false,
     "task": false
    }
   },
   "outputs": [],
   "source": [
    "assert dont_quarantine\n",
    "### BEGIN HIDDEN TESTS\n",
    "assert isinstance(dont_quarantine, list)\n",
    "### END HIDDEN TESTS"
   ]
  },
  {
   "cell_type": "code",
   "execution_count": 15,
   "metadata": {
    "nbgrader": {
     "grade": true,
     "grade_id": "cell-d1655f4ccb691b57",
     "locked": true,
     "points": 0.05,
     "schema_version": 3,
     "solution": false,
     "task": false
    }
   },
   "outputs": [],
   "source": [
    "#hidden tests to ensure task completed \n",
    "### BEGIN HIDDEN TESTS\n",
    "assert len(do_quarantine) == 4\n",
    "assert len(dont_quarantine) == 3\n",
    "### END HIDDEN TESTS"
   ]
  },
  {
   "cell_type": "code",
   "execution_count": 16,
   "metadata": {
    "nbgrader": {
     "grade": true,
     "grade_id": "cell-62895d2f093e1001",
     "locked": true,
     "points": 0.5,
     "schema_version": 3,
     "solution": false,
     "task": false
    }
   },
   "outputs": [],
   "source": [
    "#hidden tests to ensure task completed \n",
    "### BEGIN HIDDEN TESTS\n",
    "assert all(item in do_quarantine for item in ['King Triton', 'Racoon One', 'Racoon Three', 'Dr. Py T. Hon']) \n",
    "### END HIDDEN TESTS"
   ]
  },
  {
   "cell_type": "code",
   "execution_count": 17,
   "metadata": {
    "nbgrader": {
     "grade": true,
     "grade_id": "cell-4169dd888c08a6ff",
     "locked": true,
     "points": 0.5,
     "schema_version": 3,
     "solution": false,
     "task": false
    }
   },
   "outputs": [],
   "source": [
    "#hidden tests to ensure task completed \n",
    "### BEGIN HIDDEN TESTS\n",
    "assert all(item in dont_quarantine for item in ['Sun God', 'Racoon Two', 'Cole Slaw']) \n",
    "### END HIDDEN TESTS"
   ]
  },
  {
   "cell_type": "markdown",
   "metadata": {
    "nbgrader": {
     "grade": false,
     "grade_id": "part2",
     "locked": true,
     "schema_version": 3,
     "solution": false
    }
   },
   "source": [
    "## Part 2: Functions (4.5 points)"
   ]
  },
  {
   "cell_type": "markdown",
   "metadata": {
    "nbgrader": {
     "grade": false,
     "grade_id": "q4",
     "locked": true,
     "schema_version": 3,
     "solution": false,
     "task": false
    }
   },
   "source": [
    "### Q4 - Function execution (0.75 points)\n",
    "\n",
    "The cell below includes a function `court_jester_jokes` that has been provided for you. After understanding the code in the function, run the cell below (to define this function). Then, execute (use) this function to create the following variables under the specified conditions:\n",
    "\n",
    "1. `joke_random` | execute the `court_jester_jokes` function to return a joke at random\n",
    "2. `joke_nonrandom` | execute `court_jester_jokes` to return the second joke in `joke_list`"
   ]
  },
  {
   "cell_type": "code",
   "execution_count": 18,
   "metadata": {
    "nbgrader": {
     "grade": false,
     "grade_id": "q4-funct",
     "locked": true,
     "schema_version": 3,
     "solution": false,
     "task": false
    }
   },
   "outputs": [],
   "source": [
    "import random\n",
    "\n",
    "def court_jester_jokes(random_joke=True):\n",
    "    joke_list = ['A clown held the door open for me yesterday. I thought it was a nice jester',\n",
    "                 'How does the court jester address the King of Ducks? Mal’Lard',\n",
    "                 'What did the court jester call the balding crown prince? The Heir Apparent with no Hair Apparent',\n",
    "                 'What do you call a joke made by using sign language? A jester']\n",
    "    if random_joke:\n",
    "        out_joke = random.choice(joke_list)\n",
    "    else:\n",
    "        out_joke = joke_list[1]\n",
    "\n",
    "    return out_joke"
   ]
  },
  {
   "cell_type": "code",
   "execution_count": 19,
   "metadata": {},
   "outputs": [],
   "source": [
    "# BE SURE YOUR ANSWER IS IN THE CELL BELOW\n",
    "# but you can use this cell to test/execute/check your thinking (optional)"
   ]
  },
  {
   "cell_type": "code",
   "execution_count": 20,
   "metadata": {
    "nbgrader": {
     "grade": false,
     "grade_id": "q4-solution",
     "locked": false,
     "schema_version": 3,
     "solution": true,
     "task": false
    }
   },
   "outputs": [],
   "source": [
    "### BEGIN SOLUTION\n",
    "joke_random = court_jester_jokes()\n",
    "joke_nonrandom = court_jester_jokes(random_joke=False)\n",
    "### END SOLUTION"
   ]
  },
  {
   "cell_type": "code",
   "execution_count": 21,
   "metadata": {
    "nbgrader": {
     "grade": true,
     "grade_id": "q4-test1",
     "locked": true,
     "points": 0.25,
     "schema_version": 3,
     "solution": false,
     "task": false
    }
   },
   "outputs": [],
   "source": [
    "assert joke_random\n",
    "\n",
    "### BEGIN HIDDEN TESTS\n",
    "jokes = ['A clown held the door open for me yesterday. I thought it was a nice jester',\n",
    "         'How does the court jester address the King of Ducks? Mal’Lard',\n",
    "         'What did the court jester call the balding crown prince? The Heir Apparent with no Hair Apparent',\n",
    "         'What do you call a joke made by using sign language? A jester']\n",
    "assert joke_random in jokes\n",
    "### END HIDDEN TESTS"
   ]
  },
  {
   "cell_type": "code",
   "execution_count": 22,
   "metadata": {
    "nbgrader": {
     "grade": true,
     "grade_id": "q4-test2",
     "locked": true,
     "points": 0.5,
     "schema_version": 3,
     "solution": false,
     "task": false
    }
   },
   "outputs": [],
   "source": [
    "assert joke_nonrandom\n",
    "### BEGIN HIDDEN TESTS\n",
    "assert joke_nonrandom == 'How does the court jester address the King of Ducks? Mal’Lard'\n",
    "### END HIDDEN TESTS"
   ]
  },
  {
   "cell_type": "markdown",
   "metadata": {
    "nbgrader": {
     "grade": false,
     "grade_id": "q4-test3",
     "locked": true,
     "points": 0,
     "schema_version": 3,
     "solution": false,
     "task": true
    }
   },
   "source": [
    "**This \"blank\" cell included intentionally.** Do not do anything here. (It's being used in grading.)\n",
    "\n",
    "=== BEGIN MARK SCHEME ===\n",
    "\n",
    "Function executed; remove autograder credit if hard-coded\n",
    "\n",
    "=== END MARK SCHEME ==="
   ]
  },
  {
   "cell_type": "markdown",
   "metadata": {
    "nbgrader": {
     "grade": false,
     "grade_id": "q5",
     "locked": true,
     "schema_version": 3,
     "solution": false
    }
   },
   "source": [
    "### Q5 - `encrypt_message` (1.25 points)\n",
    "\n",
    "In Q2, you wrote code that would encrypt a message.\n",
    "\n",
    "Here, define a function called `encrypt_message` that will accomplish the same task as in Q2, taking a string as input and `return`ing the encrypted string from the function as specified in Q2.\n",
    "\n",
    "This function should have a single parameter: `input_message` - the string to be modified."
   ]
  },
  {
   "cell_type": "code",
   "execution_count": null,
   "metadata": {
    "nbgrader": {
     "grade": false,
     "grade_id": "q5-solution",
     "locked": false,
     "schema_version": 3,
     "solution": true
    }
   },
   "outputs": [],
   "source": [
    "### BEGIN SOLUTION\n",
    "def encrypt_message(input_message):\n",
    "    \n",
    "    secret_message = ''\n",
    "\n",
    "    counter = 1\n",
    "    for char in input_message:\n",
    "        if counter % 3 == 0: # get every third character\n",
    "            secret_message += char # add to secret message\n",
    "            input_message = input_message.replace(char, '', 1) # remove character from original message\n",
    "        counter += 1\n",
    "\n",
    "    # after removal, reverse remaining string\n",
    "    secret_message += input_message[::-1]\n",
    "\n",
    "    return secret_message   \n",
    "\n",
    "\n",
    "## alternate solution\n",
    "# def encrypt_message(input_message):\n",
    "#     secret_message = input_message[2::3]\n",
    "    \n",
    "#     start_pos = len(input_message)-1\n",
    "#     for position in range(start_pos, -1, -1):\n",
    "#         if position % 3 != 2:\n",
    "#             secret_message += input_message[position]\n",
    "            \n",
    "#     return secret_message\n",
    "### END SOLUTION"
   ]
  },
  {
   "cell_type": "code",
   "execution_count": null,
   "metadata": {},
   "outputs": [],
   "source": [
    "# BE SURE YOUR ANSWER IS IN THE CELL ABOVE\n",
    "# but you can use this cell to test/execute/check your function (optional)"
   ]
  },
  {
   "cell_type": "code",
   "execution_count": null,
   "metadata": {
    "nbgrader": {
     "grade": true,
     "grade_id": "q5-test1",
     "locked": true,
     "points": 0.25,
     "schema_version": 3,
     "solution": false,
     "task": false
    }
   },
   "outputs": [],
   "source": [
    "assert encrypt_message\n",
    "### BEGIN HIDDEN TESTS\n",
    "# check for correct output\n",
    "# and correct parameter name\n",
    "assert encrypt_message(input_message='happyweek7') == 'pwk7eeypah' or encrypt_message(input_message='happyweek7') == 'pwk7eeyah'\n",
    "### END HIDDEN TESTS"
   ]
  },
  {
   "cell_type": "code",
   "execution_count": null,
   "metadata": {
    "nbgrader": {
     "grade": true,
     "grade_id": "q5-test2",
     "locked": true,
     "points": 0.25,
     "schema_version": 3,
     "solution": false,
     "task": false
    }
   },
   "outputs": [],
   "source": [
    "assert callable(encrypt_message)\n",
    "### BEGIN HIDDEN TESTS\n",
    "# check if reverse string alone is working\n",
    "assert encrypt_message('hi') == 'ih'\n",
    "### END HIDDEN TESTS"
   ]
  },
  {
   "cell_type": "markdown",
   "metadata": {
    "nbgrader": {
     "grade": false,
     "grade_id": "q5-test4",
     "locked": true,
     "points": 0.75,
     "schema_version": 3,
     "solution": false,
     "task": true
    }
   },
   "source": [
    "**This \"blank\" cell included intentionally.** Do not do anything here. (It's being used in grading.)\n",
    "\n",
    "=== BEGIN MARK SCHEME ===\n",
    "\n",
    "partial credit for answer above:\n",
    "\n",
    "- function defined correctly & correct input parameter specified (**0.1 points**)\n",
    "- for loop (or equivalent) correct (**0.1 points**)\n",
    "- character removed from input message correctly (**0.1 points**)\n",
    "- counter/conditional (or equivalent) correct (**0.2 points**)\n",
    "- string reversal correct (**0.15 points**) \n",
    "- `return` statement included (**0.1 points**)\n",
    "\n",
    "=== END MARK SCHEME ==="
   ]
  },
  {
   "cell_type": "markdown",
   "metadata": {
    "nbgrader": {
     "grade": false,
     "grade_id": "q6",
     "locked": true,
     "schema_version": 3,
     "solution": false
    }
   },
   "source": [
    "### Q6 - `to_quarantine` (1.25 points)\n",
    "\n",
    "In Q3, you wrote code that would determine who needed to quarantine (`do_quarantine`) and who did not (`dont_quarantine`) based on the values in an input dictionary. In this question, we're going to turn that task into a function.\n",
    "\n",
    "Write a function called `to_quarantine`. This function should have two input values `input_dict`, and `quarantine`. The default value for `quarantine` should be `True`.\n",
    "\n",
    "Within this function, the same task as was accomplished in Q3 should be accomplished; *however*, only a single list of names should be returned from the function. If `quarantine` is `True`, the function should return `do_quarantine`. If `quarantine` is `False`, the function should return `dont_quarantine`."
   ]
  },
  {
   "cell_type": "code",
   "execution_count": 27,
   "metadata": {
    "nbgrader": {
     "grade": false,
     "grade_id": "q6-solution",
     "locked": false,
     "schema_version": 3,
     "solution": true
    }
   },
   "outputs": [],
   "source": [
    "### BEGIN SOLUTION\n",
    "def to_quarantine(input_dict, quarantine=True):\n",
    "    \n",
    "    do_quarantine = []\n",
    "    dont_quarantine = []\n",
    "\n",
    "    for person in input_dict:\n",
    "        if input_dict[person]:\n",
    "            do_quarantine.append(person)\n",
    "        else:\n",
    "            dont_quarantine.append(person)\n",
    "    \n",
    "    if quarantine:\n",
    "        output = do_quarantine\n",
    "    else:\n",
    "        output = dont_quarantine\n",
    "\n",
    "    return output\n",
    "\n",
    "### END SOLUTION"
   ]
  },
  {
   "cell_type": "code",
   "execution_count": 28,
   "metadata": {},
   "outputs": [],
   "source": [
    "# BE SURE YOUR ANSWER IS IN THE CELL ABOVE\n",
    "# but you can use this cell to test/execute/check your function (optional)"
   ]
  },
  {
   "cell_type": "code",
   "execution_count": 29,
   "metadata": {
    "nbgrader": {
     "grade": true,
     "grade_id": "q6-test1",
     "locked": true,
     "points": 0.25,
     "schema_version": 3,
     "solution": false
    }
   },
   "outputs": [],
   "source": [
    "assert to_quarantine\n",
    "### BEGIN HIDDEN TESTS\n",
    "# use default parameter; specify parameter name\n",
    "assert to_quarantine(input_dict={'A': True, 'B': False, 'C': True, 'D': False}) == ['A', 'C']\n",
    "### END HIDDEN TESTS"
   ]
  },
  {
   "cell_type": "code",
   "execution_count": 30,
   "metadata": {
    "nbgrader": {
     "grade": true,
     "grade_id": "q6-test2",
     "locked": true,
     "points": 0.25,
     "schema_version": 3,
     "solution": false,
     "task": false
    }
   },
   "outputs": [],
   "source": [
    "assert callable(to_quarantine)\n",
    "### BEGIN HIDDEN TESTS\n",
    "# change default parameter\n",
    "assert to_quarantine({'A': True, 'B': False, 'C': True, 'D': False}, quarantine=False) == ['B', 'D']\n",
    "### END HIDDEN TESTS"
   ]
  },
  {
   "cell_type": "markdown",
   "metadata": {
    "nbgrader": {
     "grade": false,
     "grade_id": "q6-test4",
     "locked": true,
     "points": 0.75,
     "schema_version": 3,
     "solution": false,
     "task": true
    }
   },
   "source": [
    "**This \"blank\" cell included intentionally.** Do not do anything here. (It's being used in grading.)\n",
    "\n",
    "\n",
    "=== BEGIN MARK SCHEME ===\n",
    "\n",
    "partial credit for answer above:\n",
    "\n",
    "- function defined correctly with two parameters (**0.1 points**)\n",
    "- default value for quarantine specified correctly (**0.1 points**)\n",
    "- empty lists (or equivalent) initialized (**0.1 points**)\n",
    "- loop + conditional for dictionary processing (or equivalent) correct (**0.15 points**)\n",
    "- conditional to determine output (or equivalent) correct (**0.2 points**)\n",
    "- `return` statement included (**0.1 points**)\n",
    "\n",
    "=== END MARK SCHEME ==="
   ]
  },
  {
   "cell_type": "markdown",
   "metadata": {
    "nbgrader": {
     "grade": false,
     "grade_id": "q7",
     "locked": true,
     "schema_version": 3,
     "solution": false
    }
   },
   "source": [
    "### Q7 - Debugging (1.25 points)\n",
    "\n",
    "In the cell below, there is a function that is not operating as anticipated.\n",
    "\n",
    "`new_encrypt` is _supposed_ to take a string as input and return the reverse alphabetical string as output, meaning, given a character, return the capitalized character in the reverse position within the alphabet. \n",
    "\n",
    "For example, if the input character is 'B' or 'b', the function would store 'Y' in the output string. If the character is 'A' or 'a', the function would store 'Z'. (and vice versa: the input 'Z' or 'z' would store 'A').\n",
    "\n",
    "Specifically, if the `input_string` were \"ABc\", the function would `return`: 'ZYX'\n",
    "\n",
    "Debug, edit, and test the function provided below so that it accomplishes the intended goal."
   ]
  },
  {
   "cell_type": "code",
   "execution_count": 31,
   "metadata": {
    "nbgrader": {
     "grade": false,
     "grade_id": "q7-solution",
     "locked": false,
     "schema_version": 3,
     "solution": true
    }
   },
   "outputs": [],
   "source": [
    "def new_encrypt():\n",
    "    alpha = 'ABCDEFGHIJKLMNOPQRSTUVWXYZ'\n",
    "    reverse_alpha = 'ZYXWVUTSRQPONMLKJIHGFEDCBA'\n",
    "\n",
    "    for char in input_string:\n",
    "        if char in alpha:\n",
    "            position = alpha.find(char)\n",
    "            output_string += reverse_alpha[position]\n",
    "        else:\n",
    "            output_string = None\n",
    "            break\n",
    "        \n",
    "### BEGIN SOLUTION\n",
    "def new_encrypt(input_string):\n",
    "    alpha = 'ABCDEFGHIJKLMNOPQRSTUVWXYZ'\n",
    "    reverse_alpha = 'ZYXWVUTSRQPONMLKJIHGFEDCBA'\n",
    "\n",
    "    output_string = ''\n",
    "\n",
    "    for char in input_string:\n",
    "        char = char.upper()\n",
    "        if char in alpha:\n",
    "            position = alpha.find(char)\n",
    "            output_string += reverse_alpha[position]\n",
    "        else:\n",
    "            output_string = None\n",
    "            break\n",
    "        \n",
    "    return output_string\n",
    "### END SOLUTION"
   ]
  },
  {
   "cell_type": "code",
   "execution_count": 32,
   "metadata": {},
   "outputs": [],
   "source": [
    "# BE SURE YOUR ANSWER IS IN THE CELL ABOVE\n",
    "# but you can use this cell to test/execute/check your function (optional)"
   ]
  },
  {
   "cell_type": "code",
   "execution_count": 33,
   "metadata": {
    "nbgrader": {
     "grade": true,
     "grade_id": "q7-test1",
     "locked": true,
     "points": 0.25,
     "schema_version": 3,
     "solution": false,
     "task": false
    }
   },
   "outputs": [],
   "source": [
    "assert new_encrypt\n",
    "### BEGIN HIDDEN TESTS\n",
    "assert new_encrypt('mohammed') == 'NLSZNNVW'\n",
    "### END HIDDEN TESTS"
   ]
  },
  {
   "cell_type": "code",
   "execution_count": 34,
   "metadata": {
    "nbgrader": {
     "grade": true,
     "grade_id": "q7-test2",
     "locked": true,
     "points": 0.25,
     "schema_version": 3,
     "solution": false,
     "task": false
    }
   },
   "outputs": [],
   "source": [
    "assert callable(new_encrypt)\n",
    "\n",
    "### BEGIN HIDDEN TESTS\n",
    "# will work even if they missed the .upper()\n",
    "# has correct input parameter\n",
    "assert new_encrypt(input_string='ABC') == 'ZYX'\n",
    "### END HIDDEN TESTS"
   ]
  },
  {
   "cell_type": "markdown",
   "metadata": {
    "nbgrader": {
     "grade": false,
     "grade_id": "q7-test3",
     "locked": true,
     "points": 0.75,
     "schema_version": 3,
     "solution": false,
     "task": true
    }
   },
   "source": [
    "**This \"blank\" cell included intentionally.** Do not do anything here. (It's being used in grading.)\n",
    "\n",
    "=== BEGIN MARK SCHEME ===\n",
    "- `input_string` parameter included (**0.15 points**)\n",
    "- empty `output_string` initialized (**0.2 points**)\n",
    "- capitalization accounted for (**0.2 points**)\n",
    "- `return` statement included (**0.2 points**)\n",
    "\n",
    "=== END MARK SCHEME ==="
   ]
  },
  {
   "cell_type": "markdown",
   "metadata": {
    "nbgrader": {
     "grade": false,
     "grade_id": "part3",
     "locked": true,
     "schema_version": 3,
     "solution": false,
     "task": false
    }
   },
   "source": [
    "## Part 3: Objects & Classes (5 points)"
   ]
  },
  {
   "cell_type": "markdown",
   "metadata": {
    "nbgrader": {
     "grade": false,
     "grade_id": "q8",
     "locked": true,
     "schema_version": 3,
     "solution": false
    }
   },
   "source": [
    "### Q8 - `NewYear()` (2.5 points)\n",
    "\n",
    "For this question, let's create a class to celebrate the Lunar New Year!\n",
    "\n",
    "Here, define a class `NewYear()`.\n",
    "\n",
    "This class should have:\n",
    "\n",
    "- **one class attribute**: `zodiac_signs` that stores the dictionary specified in the cell below. This dictionary contains the zodiac sign as the key and the birth years that correspond to that sign.\n",
    "- **one instance attribute**:  `year` that takes the birth `year` as input from the user upon creation of a `NewYear` type object.\n",
    "\n",
    "This class will also have a method `return_sign()`. This method should `return` (*not* just `print`) a string, similar to:\n",
    "\n",
    "```\n",
    "'You were born in the year of the Dragon!' \n",
    "```\n",
    "\n",
    "...where 'Dragon' corresponds to the key from the `zodiac_signs` corresponding to the value stored in the `year` attribute. (Be sure captitalization and punctuation match the string specified here. The only thing that should change is the last word in the string.)\n",
    "\n",
    "For example `NewYear(year=2021).return_sign()` should return 'You were born in the year of the Ox!', since 2021 is a value in the `zodiac_signs` dictionary for the key 'Ox'. "
   ]
  },
  {
   "cell_type": "code",
   "execution_count": 35,
   "metadata": {
    "nbgrader": {
     "grade": false,
     "grade_id": "cell-0320cf0ec9903820",
     "locked": true,
     "schema_version": 3,
     "solution": false,
     "task": false
    }
   },
   "outputs": [],
   "source": [
    "# provided for you\n",
    "zodiac_signs = {\n",
    "    'Ox' : [1937, 1949, 1961, 1973, 1985, 1997, 2009, 2021],\n",
    "    'Tiger' : [1938, 1950, 1962, 1974, 1986, 1998, 2010, 2022], \n",
    "    'Rabbit' : [1939, 1951, 1963, 1975, 1987, 1999, 2011, 2023], \n",
    "    'Dragon' : [1940, 1952, 1964, 1976, 1988, 2000, 2012, 2024], \n",
    "    'Snake' : [1941, 1953, 1965, 1977, 1989, 2001, 2013, 2025], \n",
    "    'Horse' : [1942, 1954, 1966, 1978, 1990, 2002, 2014, 2026], \n",
    "    'Goat/Sheep' : [1943, 1955, 1967, 1979, 1991, 2003, 2015, 2027], \n",
    "    'Monkey' : [1944, 1956, 1968, 1980, 1992, 2004, 2016, 2028], \n",
    "    'Rooster' : [1945, 1957, 1969, 1981, 1993, 2005, 2017, 2029], \n",
    "    'Dog' : [1946, 1958, 1970, 1982, 1994, 2006, 2018, 2030], \n",
    "    'Pig' : [1947, 1959, 1971, 1983, 1995, 2007, 2019, 2031], \n",
    "    'Rat' : [1936, 1948, 1960, 1972, 1984, 1996, 2008, 2020]\n",
    "} "
   ]
  },
  {
   "cell_type": "code",
   "execution_count": 36,
   "metadata": {
    "nbgrader": {
     "grade": false,
     "grade_id": "q8-solution",
     "locked": false,
     "schema_version": 3,
     "solution": true
    }
   },
   "outputs": [],
   "source": [
    "### BEGIN SOLUTION\n",
    "class NewYear():\n",
    "    \n",
    "    zodiac_signs = {\n",
    "    'Ox' : [1937, 1949, 1961, 1973, 1985, 1997, 2009, 2021],\n",
    "    'Tiger' : [1938, 1950, 1962, 1974, 1986, 1998, 2010], \n",
    "    'Rabbit' : [1939, 1951, 1963, 1975, 1987, 1999, 2011, 2023], \n",
    "    'Dragon' : [1940, 1952, 1964, 1976, 1988, 2000, 2012, 2024], \n",
    "    'Snake' : [1941, 1953, 1965, 1977, 1989, 2001, 2013, 2025], \n",
    "    'Horse' : [1942, 1954, 1966, 1978, 1990, 2002, 2014, 2026], \n",
    "    'Goat/Sheep' : [1943, 1955, 1967, 1979, 1991, 2003, 2015, 2027], \n",
    "    'Monkey' : [1944, 1956, 1968, 1980, 1992, 2004, 2016, 2028], \n",
    "    'Rooster' : [1945, 1957, 1969, 1981, 1993, 2005, 2017, 2029], \n",
    "    'Dog' : [1946, 1958, 1970, 1982, 1994, 2006, 2018, 2030], \n",
    "    'Pig' : [1947, 1959, 1971, 1983, 1995, 2007, 2019, 2031], \n",
    "    'Rat' : [1936, 1948, 1960, 1972, 1984, 1996, 2008, 2020]\n",
    "    } \n",
    "    \n",
    "    \n",
    "    def __init__(self, year):\n",
    "        self.year = year\n",
    "    \n",
    "    def return_sign(self):\n",
    "        for key in self.zodiac_signs:\n",
    "            if self.year in self.zodiac_signs[key]:\n",
    "                out = key\n",
    "                break # answer would be fine without break here\n",
    "                \n",
    "        return 'You were born in the year of the ' + out + '!'\n",
    "### END SOLUTION\n"
   ]
  },
  {
   "cell_type": "code",
   "execution_count": 37,
   "metadata": {},
   "outputs": [],
   "source": [
    "# BE SURE YOUR ANSWER IS IN THE CELL ABOVE\n",
    "# but you can use this cell to test/execute/check your function (optional)"
   ]
  },
  {
   "cell_type": "code",
   "execution_count": 38,
   "metadata": {
    "nbgrader": {
     "grade": true,
     "grade_id": "q8-test1",
     "locked": true,
     "points": 0.25,
     "schema_version": 3,
     "solution": false
    }
   },
   "outputs": [],
   "source": [
    "# Tests for the object\n",
    "assert NewYear\n",
    "### BEGIN HIDDEN TESTS\n",
    "dragon = NewYear(1988)\n",
    "assert isinstance(dragon, NewYear)\n",
    "### END HIDDEN TESTS"
   ]
  },
  {
   "cell_type": "code",
   "execution_count": 39,
   "metadata": {
    "nbgrader": {
     "grade": true,
     "grade_id": "q8-test2",
     "locked": true,
     "points": 0.25,
     "schema_version": 3,
     "solution": false
    }
   },
   "outputs": [],
   "source": [
    "assert callable(NewYear)\n",
    "# Tests for classs attribute\n",
    "### BEGIN HIDDEN TESTS\n",
    "assert dragon.year ==  1988\n",
    "### END HIDDEN TESTS"
   ]
  },
  {
   "cell_type": "code",
   "execution_count": 40,
   "metadata": {
    "nbgrader": {
     "grade": true,
     "grade_id": "q8-test3",
     "locked": true,
     "points": 0.25,
     "schema_version": 3,
     "solution": false,
     "task": false
    }
   },
   "outputs": [],
   "source": [
    "# Tests for instance attribute\n",
    "### BEGIN HIDDEN TESTS\n",
    "assert isinstance(dragon.zodiac_signs, dict)\n",
    "assert 'Ox' in dragon.zodiac_signs.keys()\n",
    "### END HIDDEN TESTS"
   ]
  },
  {
   "cell_type": "code",
   "execution_count": 41,
   "metadata": {
    "nbgrader": {
     "grade": true,
     "grade_id": "q8-test4",
     "locked": true,
     "points": 0.5,
     "schema_version": 3,
     "solution": false,
     "task": false
    }
   },
   "outputs": [],
   "source": [
    "# tests for method\n",
    "# be sure punctuation matches instructions\n",
    "### BEGIN HIDDEN TESTS\n",
    "assert dragon.return_sign() == 'You were born in the year of the Dragon!'\n",
    "### END HIDDEN TESTS"
   ]
  },
  {
   "cell_type": "markdown",
   "metadata": {
    "nbgrader": {
     "grade": false,
     "grade_id": "q8-test5",
     "locked": true,
     "points": 1.25,
     "schema_version": 3,
     "solution": false,
     "task": true
    }
   },
   "source": [
    "**This \"blank\" cell included intentionally.** Do not do anything here. (It's being used in grading.)\n",
    "\n",
    "=== BEGIN MARK SCHEME ===\n",
    "\n",
    "partial credit for answer above:\n",
    "\n",
    "- class defined correctly (**0.25 points**)\n",
    "- class attribute defined correctly (**0.25 points**)\n",
    "- instance attribute defined correctly (with `self` + parameter) (**0.15 points**)\n",
    "- method definition includes `self` (**0.1 points**)\n",
    "- method code loop/conditional correct. (**0.25 points**)\n",
    "- method code specifies self.name (**0.15 points**)\n",
    "- method includes `return` statement (**0.1 points**)\n",
    "\n",
    "=== END MARK SCHEME ==="
   ]
  },
  {
   "cell_type": "markdown",
   "metadata": {
    "nbgrader": {
     "grade": false,
     "grade_id": "q9",
     "locked": true,
     "schema_version": 3,
     "solution": false
    }
   },
   "source": [
    "### Q9 - `PresidentsDay` (2.5 points)\n",
    "\n",
    "Generate a class called `PresidentsDay()`.\n",
    "\n",
    "This should have:\n",
    "- **one class attribute**: `when` that stores the string: `'Third Monday in February'`\n",
    "- **one instance attribute**: `has_school` that stores the boolean `False` by default\n",
    "\n",
    "\n",
    "Additionally, the `PresidentsDay()` object should have a single method `sleep_in()` that should `return` the string 'Go ahead and sleep in!' if the `has_school` attribute is `False` and the string \"Get up! It's time for class\" if the `has_school` attribute is `True`."
   ]
  },
  {
   "cell_type": "code",
   "execution_count": 42,
   "metadata": {
    "nbgrader": {
     "grade": false,
     "grade_id": "q9-solution",
     "locked": false,
     "schema_version": 3,
     "solution": true
    }
   },
   "outputs": [],
   "source": [
    "### BEGIN SOLUTION\n",
    "class PresidentsDay():\n",
    "\n",
    "    when = 'Third Monday in February'\n",
    "    \n",
    "    def __init__(self, has_school=False):\n",
    "        self.has_school = has_school\n",
    "        \n",
    "    def sleep_in(self):   \n",
    "        if self.has_school:\n",
    "            return \"Get up! It's time for class\"\n",
    "        else:\n",
    "            return 'Go ahead and sleep in!'\n",
    "### END SOLUTION"
   ]
  },
  {
   "cell_type": "code",
   "execution_count": 43,
   "metadata": {},
   "outputs": [],
   "source": [
    "# BE SURE YOUR ANSWER IS IN THE CELL ABOVE\n",
    "# but you can use this cell to test/execute/check your class (optional)"
   ]
  },
  {
   "cell_type": "code",
   "execution_count": 44,
   "metadata": {
    "nbgrader": {
     "grade": true,
     "grade_id": "q9-test1",
     "locked": true,
     "points": 0.25,
     "schema_version": 3,
     "solution": false
    }
   },
   "outputs": [],
   "source": [
    "assert PresidentsDay\n",
    "### BEGIN HIDDEN TESTS\n",
    "no_school = PresidentsDay()\n",
    "### END HIDDEN TESTS"
   ]
  },
  {
   "cell_type": "code",
   "execution_count": 45,
   "metadata": {
    "nbgrader": {
     "grade": true,
     "grade_id": "q9-test2",
     "locked": true,
     "points": 0.25,
     "schema_version": 3,
     "solution": false,
     "task": false
    }
   },
   "outputs": [],
   "source": [
    "assert callable(PresidentsDay)\n",
    "### BEGIN HIDDEN TESTS\n",
    "assert no_school.has_school == False\n",
    "assert no_school.when == 'Third Monday in February'\n",
    "### END HIDDEN TESTS"
   ]
  },
  {
   "cell_type": "code",
   "execution_count": 46,
   "metadata": {
    "nbgrader": {
     "grade": true,
     "grade_id": "q9-test4",
     "locked": true,
     "points": 0.25,
     "schema_version": 3,
     "solution": false,
     "task": false
    }
   },
   "outputs": [],
   "source": [
    "assert callable(PresidentsDay.sleep_in)\n",
    "### BEGIN HIDDEN TESTS\n",
    "assert no_school.sleep_in() == 'Go ahead and sleep in!'\n",
    "### END HIDDEN TESTS"
   ]
  },
  {
   "cell_type": "code",
   "execution_count": 47,
   "metadata": {
    "nbgrader": {
     "grade": true,
     "grade_id": "q9-test5",
     "locked": true,
     "points": 0.25,
     "schema_version": 3,
     "solution": false,
     "task": false
    }
   },
   "outputs": [],
   "source": [
    "# hidden test for method\n",
    "### BEGIN HIDDEN TESTS\n",
    "yes_school = PresidentsDay(has_school=True)\n",
    "assert yes_school.sleep_in() == \"Get up! It's time for class\"\n",
    "### END HIDDEN TESTS"
   ]
  },
  {
   "cell_type": "code",
   "execution_count": 48,
   "metadata": {
    "nbgrader": {
     "grade": true,
     "grade_id": "q9-test3",
     "locked": true,
     "points": 0.25,
     "schema_version": 3,
     "solution": false,
     "task": false
    }
   },
   "outputs": [],
   "source": [
    "# hiddden tests for attributes\n",
    "### BEGIN HIDDEN TESTS\n",
    "# set has_school parameter\n",
    "assert yes_school.has_school == True\n",
    "### END HIDDEN TESTS"
   ]
  },
  {
   "cell_type": "markdown",
   "metadata": {
    "nbgrader": {
     "grade": false,
     "grade_id": "q9-test6",
     "locked": true,
     "points": 1.25,
     "schema_version": 3,
     "solution": false,
     "task": true
    }
   },
   "source": [
    "**This \"blank\" cell included intentionally.** Do not do anything here. (It's being used in grading.)\n",
    "\n",
    "=== BEGIN MARK SCHEME ===\n",
    "\n",
    "partial credit for answer above:\n",
    "\n",
    "- class defined correctly (**0.25 points**)\n",
    "- class attribute defined correctly (**0.25 points**)\n",
    "- instance attribute defined correctly w/ `self` (**0.25 points**)\n",
    "- method defined correctly with `self` (**0.1 points**)\n",
    "- method uses `self` correctly for `self.has_school` (**0.1 points**)\n",
    "- condition in method correct (**0.1 points**)\n",
    "- method has return statement (even if incorrect) (**0.1 points**)\n",
    "\n",
    "=== END MARK SCHEME ==="
   ]
  },
  {
   "cell_type": "markdown",
   "metadata": {
    "nbgrader": {
     "grade": false,
     "grade_id": "end",
     "locked": true,
     "schema_version": 3,
     "solution": false
    }
   },
   "source": [
    "### Exam II complete!\n",
    "\n",
    "Good work - you're done with the second exam!\n",
    "\n",
    "Check your work, and then when you're ready, **submit on datahub**.\n",
    "\n",
    "We will not have your exam until you click submit and see this show up under 'submitted assignments'."
   ]
  }
 ],
 "metadata": {
  "celltoolbar": "Create Assignment",
  "kernelspec": {
   "display_name": "Python 3",
   "language": "python",
   "name": "python3"
  },
  "language_info": {
   "codemirror_mode": {
    "name": "ipython",
    "version": 3
   },
   "file_extension": ".py",
   "mimetype": "text/x-python",
   "name": "python",
   "nbconvert_exporter": "python",
   "pygments_lexer": "ipython3",
   "version": "3.7.9"
  }
 },
 "nbformat": 4,
 "nbformat_minor": 2
}
