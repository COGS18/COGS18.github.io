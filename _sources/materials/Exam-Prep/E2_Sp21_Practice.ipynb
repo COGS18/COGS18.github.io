{
 "cells": [
  {
   "cell_type": "markdown",
   "metadata": {
    "nbgrader": {
     "grade": false,
     "grade_id": "intro",
     "locked": true,
     "schema_version": 3,
     "solution": false
    }
   },
   "source": [
    "# COGS 18 - Practice Exam 2\n",
    "\n",
    "This is the second practice exam for Spring 2021. It covers topics through the Classes Lecture.\n",
    "\n",
    "This is worth 0 points and worth 0% of your grade, but the real total exam is out of 12.5 points, worth 12.5% of your grade. \n",
    "\n",
    "**PLEASE DO NOT CHANGE THE NAME OF THIS FILE.**\n",
    "\n",
    "**PLEASE DO NOT COPY & PASTE OR DELETE CELLS INLCUDED IN THE ASSIGNMENT.** (Note that you can add additional cells, if you want to test things out."
   ]
  },
  {
   "cell_type": "markdown",
   "metadata": {
    "nbgrader": {
     "grade": false,
     "grade_id": "instructions",
     "locked": true,
     "schema_version": 3,
     "solution": false
    }
   },
   "source": [
    "## Instructions\n",
    "\n",
    "#### Timing\n",
    "- The exam is designed to take you ~1h.\n",
    "- There will be a 24 hour window during which you can complete this exam (due Sat 8AM).\n",
    "- If it takes you longer than 1h, you're free to use that time.\n",
    "\n",
    "#### The Rules\n",
    "- You are to complete this exam on your own.\n",
    "- This is open-notes & open-Google\n",
    "- You may not talk to any humans about this exam. \n",
    "- The following are all *prohibited*:\n",
    "    - text/phone/online chat communication\n",
    "    - posting questions to a message board where a human could respond (Campuswire, Discord, Chegg, any similar site)\n",
    "    - viewing exam questions from a message board (as described above)\n",
    "    - asking anyone via any form about a question on this test directly\n",
    "- Clarification questions will ***not*** be allowed and there will be no posting on Campuswire about the exam at all. \n",
    "    - Campuswire posts about the exam will not be answered and will be deleted. \n",
    "    - Students who post questions about the exam to Campuswire are at risk of losing points on the exam.\n",
    "    - If you are confused about wording, add a note to your exam explaining your confusion and how you interpreted the question. \n",
    "    - Note: This policy is b/c we are incapable of responding for 24h straight. This is the only way to make it fair across the board for students."
   ]
  },
  {
   "cell_type": "markdown",
   "metadata": {
    "nbgrader": {
     "grade": false,
     "grade_id": "cell-26b08bd4b5ba54ab",
     "locked": true,
     "schema_version": 3,
     "solution": false
    }
   },
   "source": [
    " <span style=\"color: red;\">Note: </span> There _is_ a chance for partial credit on some questions, so _some_ code is better than _no_ code. Even if it throws an error, having some code that partially answers the question will benefit you/your grade."
   ]
  },
  {
   "cell_type": "markdown",
   "metadata": {
    "nbgrader": {
     "grade": false,
     "grade_id": "cell-4d8581ac45c24683",
     "locked": true,
     "schema_version": 3,
     "solution": false,
     "task": false
    }
   },
   "source": [
    "### Q0 - Honor Code (0.1 points)\n",
    "\n",
    "In the cell below, include a variable `honor_code` that stores the boolean `True` if you agree to the following statement:\n",
    "\n",
    ">I agree that this exam was completed individually with the knowlege in my brain, information the notes from this course, and/or with searching for help on the Internet *without searching for answers to the text from these questions directly*. I did not ask anyone about specific questions on this exam. I did not post these questions (in part or in whole) on the Internet. I did not copy answers to these questions from anywhere or anyone else. I understand all code I've written on this exam and could explain my answers to someone else if asked.\n"
   ]
  },
  {
   "cell_type": "code",
   "execution_count": 1,
   "metadata": {
    "nbgrader": {
     "grade": false,
     "grade_id": "cell-9dae831891d7a1ad",
     "locked": false,
     "schema_version": 3,
     "solution": true,
     "task": false
    }
   },
   "outputs": [],
   "source": [
    "### BEGIN SOLUTION\n",
    "honor_code = True\n",
    "### END SOLUTION"
   ]
  },
  {
   "cell_type": "code",
   "execution_count": 2,
   "metadata": {
    "nbgrader": {
     "grade": true,
     "grade_id": "cell-8a6d1a928512e45c",
     "locked": true,
     "points": 0.1,
     "schema_version": 3,
     "solution": false,
     "task": false
    }
   },
   "outputs": [],
   "source": [
    "assert honor_code"
   ]
  },
  {
   "cell_type": "markdown",
   "metadata": {
    "nbgrader": {
     "grade": false,
     "grade_id": "part2",
     "locked": true,
     "schema_version": 3,
     "solution": false
    }
   },
   "source": [
    "## Part 1: Methods & Debugging (3.5 points)"
   ]
  },
  {
   "cell_type": "markdown",
   "metadata": {
    "nbgrader": {
     "grade": false,
     "grade_id": "q1",
     "locked": true,
     "schema_version": 3,
     "solution": false,
     "task": false
    }
   },
   "source": [
    "### Q1 - Method I (0.75 points)\n",
    "\n",
    "`isalpha()` is a string method that determines if all the characters in a string are in the alphabet (meaning letters or numbers: A-Z, a-z).\n",
    "\n",
    "Use the `isalpha()` method on two strings (of your choosing) below to create two variables:\n",
    "- `true_var` | should store the value `True`\n",
    "- `false_var` | should store the value `False`"
   ]
  },
  {
   "cell_type": "code",
   "execution_count": 3,
   "metadata": {
    "nbgrader": {
     "grade": true,
     "grade_id": "cell-09260f9c394a5905",
     "locked": false,
     "points": 0,
     "schema_version": 3,
     "solution": true,
     "task": false
    }
   },
   "outputs": [],
   "source": [
    "### BEGIN SOLUTION\n",
    "true_var = 'asdf'.isalpha()\n",
    "false_var = '!!!!'.isalpha()\n",
    "### END SOLUTION"
   ]
  },
  {
   "cell_type": "code",
   "execution_count": 4,
   "metadata": {
    "nbgrader": {
     "grade": true,
     "grade_id": "cell-e9a5e70357e98aef",
     "locked": true,
     "points": 0.2,
     "schema_version": 3,
     "solution": false,
     "task": false
    }
   },
   "outputs": [],
   "source": [
    "assert true_var is not None\n",
    "### BEGIN HIDDEN TESTS\n",
    "assert true_var\n",
    "### END HIDDEN TESTS"
   ]
  },
  {
   "cell_type": "code",
   "execution_count": 5,
   "metadata": {
    "nbgrader": {
     "grade": true,
     "grade_id": "cell-12001d8195362930",
     "locked": true,
     "points": 0.2,
     "schema_version": 3,
     "solution": false,
     "task": false
    }
   },
   "outputs": [],
   "source": [
    "assert false_var is not None\n",
    "### BEGIN HIDDEN TESTS\n",
    "assert not false_var\n",
    "### END HIDDEN TESTS"
   ]
  },
  {
   "cell_type": "markdown",
   "metadata": {
    "nbgrader": {
     "grade": false,
     "grade_id": "cell-122f520b60ffe1a4",
     "locked": true,
     "points": 0.6,
     "schema_version": 3,
     "solution": false,
     "task": true
    }
   },
   "source": [
    "**This \"blank\" cell included intentionally.** Do not do anything here. (It's being used in grading.)\n",
    "\n",
    "=== BEGIN MARK SCHEME ===\n",
    "\n",
    "- uses `isalnum()` (**0.6 pts**)\n",
    "\n",
    "=== END MARK SCHEME ==="
   ]
  },
  {
   "cell_type": "markdown",
   "metadata": {
    "nbgrader": {
     "grade": false,
     "grade_id": "q6",
     "locked": true,
     "schema_version": 3,
     "solution": false,
     "task": false
    }
   },
   "source": [
    "### Q2 - Debugging\n",
    "\n",
    "In the cell below, there is a function that is not operating as anticipated.\n",
    "\n",
    "`count_consonants` is _supposed_ to take a string as input and count the number of each consonant in the `input_string` (input parameter), storing the output in a dictionary where the key is the consonant and the value is the number of times it appears in the input. \n",
    "\n",
    "Note that we want capitalization to be considered such that the capital and lower case letters are counted together, and the lower case letter is used as the key (i.e. 'A' and 'a' would both be counted under the key 'a')\n",
    "\n",
    "Specifically, if the `input_string` were \"Mohammed\", the function ould return: `{'m': 3, 'h': 1, 'd': 1}`\n",
    "\n",
    "Debug, edit, and test the function provided below so that it accomplishes the intended goal."
   ]
  },
  {
   "cell_type": "code",
   "execution_count": 6,
   "metadata": {
    "nbgrader": {
     "grade": false,
     "grade_id": "cell-bf67b586499664bc",
     "locked": false,
     "schema_version": 3,
     "solution": true
    }
   },
   "outputs": [],
   "source": [
    "def count_consonants():\n",
    "    out = {}\n",
    "    vowels = ['a', 'e', 'i', 'o', 'u']\n",
    "    \n",
    "    for char in input_string:\n",
    "        \n",
    "        if char not in vowels:\n",
    "            if char not in out:\n",
    "                out[char] = 1\n",
    "\n",
    "### BEGIN SOLUTION\n",
    "def count_consonants(input_string):\n",
    "    out = {}\n",
    "    vowels = ['a', 'e', 'i', 'o', 'u']\n",
    "    \n",
    "    for char in input_string:\n",
    "        char = char.lower()\n",
    "        \n",
    "        if char not in vowels:\n",
    "            if char not in out:\n",
    "                out[char] = 1\n",
    "            else:\n",
    "                out[char] += 1\n",
    "    return out\n",
    "### END SOLUTION"
   ]
  },
  {
   "cell_type": "code",
   "execution_count": 7,
   "metadata": {},
   "outputs": [],
   "source": [
    "# BE SURE YOUR ANSWER IS IN THE CELL ABOVE\n",
    "# but you can use this cell to test/execute/check your function (optional)"
   ]
  },
  {
   "cell_type": "code",
   "execution_count": 8,
   "metadata": {
    "nbgrader": {
     "grade": true,
     "grade_id": "q6-test1",
     "locked": true,
     "points": 0.35,
     "schema_version": 3,
     "solution": false,
     "task": false
    }
   },
   "outputs": [],
   "source": [
    "assert count_consonants is not None\n",
    "\n",
    "### BEGIN HIDDEN TESTS\n",
    "assert count_consonants('Taylor') == {'t': 1, 'y': 1, 'l': 1, 'r': 1}\n",
    "### END HIDDEN TESTS"
   ]
  },
  {
   "cell_type": "code",
   "execution_count": 9,
   "metadata": {
    "nbgrader": {
     "grade": true,
     "grade_id": "q6-test2",
     "locked": true,
     "points": 0.35,
     "schema_version": 3,
     "solution": false,
     "task": false
    }
   },
   "outputs": [],
   "source": [
    "assert callable(count_consonants)\n",
    "\n",
    "### BEGIN HIDDEN TESTS\n",
    "assert count_consonants('AaBbCc') == {'b': 2, 'c': 2}\n",
    "### END HIDDEN TESTS"
   ]
  },
  {
   "cell_type": "markdown",
   "metadata": {
    "nbgrader": {
     "grade": false,
     "grade_id": "q6-test3",
     "locked": true,
     "points": 0.8,
     "schema_version": 3,
     "solution": false,
     "task": true
    }
   },
   "source": [
    "**This \"blank\" cell included intentionally.** Do not do anything here. (It's being used in grading.)\n",
    "\n",
    "=== BEGIN MARK SCHEME ===\n",
    "- input parameter included (**0.2 points**)\n",
    "- captitalization accounted for (**0.2 points**)\n",
    "- else condition (or equivalent) included (**0.2 points**)\n",
    "- return statement included (**0.2 points**)\n",
    "\n",
    "=== END MARK SCHEME ==="
   ]
  },
  {
   "cell_type": "markdown",
   "metadata": {
    "nbgrader": {
     "grade": false,
     "grade_id": "q7",
     "locked": true,
     "schema_version": 3,
     "solution": false
    }
   },
   "source": [
    "### Q3 - Debugging\n",
    "\n",
    "In the cell below, there is a function that is not operating as anticipated.\n",
    "\n",
    "`new_encrypt` is _supposed_ to take a string as input and return the reverse alphabetical string as output, meaning, given a character, return the capitalized character in the reverse position within the alphabet. \n",
    "\n",
    "For example, if the input character is 'B' or 'b', the function would store 'Y' in the output string. If the character is 'A' or 'a', the function would store 'Z'. (and vice versa: the input 'Z' or 'z' would store 'A').\n",
    "\n",
    "Specifically, if the `input_string` were \"ABc\", the function would `return`: 'ZYX'\n",
    "\n",
    "Debug, edit, and test the function provided below so that it accomplishes the intended goal."
   ]
  },
  {
   "cell_type": "code",
   "execution_count": 10,
   "metadata": {
    "nbgrader": {
     "grade": false,
     "grade_id": "q7-solution",
     "locked": false,
     "schema_version": 3,
     "solution": true
    }
   },
   "outputs": [],
   "source": [
    "def new_encrypt():\n",
    "    alpha = 'ABCDEFGHIJKLMNOPQRSTUVWXYZ'\n",
    "    reverse_alpha = 'ZYXWVUTSRQPONMLKJIHGFEDCBA'\n",
    "\n",
    "    for char in input_string:\n",
    "        if char in alpha:\n",
    "            position = alpha.find(char)\n",
    "            output_string += reverse_alpha[position]\n",
    "        else:\n",
    "            output_string = None\n",
    "            break\n",
    "        \n",
    "### BEGIN SOLUTION\n",
    "def new_encrypt(input_string):\n",
    "    alpha = 'ABCDEFGHIJKLMNOPQRSTUVWXYZ'\n",
    "    reverse_alpha = 'ZYXWVUTSRQPONMLKJIHGFEDCBA'\n",
    "\n",
    "    output_string = ''\n",
    "\n",
    "    for char in input_string:\n",
    "        char = char.upper()\n",
    "        if char in alpha:\n",
    "            position = alpha.find(char)\n",
    "            output_string += reverse_alpha[position]\n",
    "        else:\n",
    "            output_string = None\n",
    "            break\n",
    "        \n",
    "    return output_string\n",
    "### END SOLUTION"
   ]
  },
  {
   "cell_type": "code",
   "execution_count": 11,
   "metadata": {},
   "outputs": [],
   "source": [
    "# BE SURE YOUR ANSWER IS IN THE CELL ABOVE\n",
    "# but you can use this cell to test/execute/check your function (optional)"
   ]
  },
  {
   "cell_type": "code",
   "execution_count": 12,
   "metadata": {
    "nbgrader": {
     "grade": true,
     "grade_id": "q7-test1",
     "locked": true,
     "points": 0.25,
     "schema_version": 3,
     "solution": false,
     "task": false
    }
   },
   "outputs": [],
   "source": [
    "assert new_encrypt\n",
    "### BEGIN HIDDEN TESTS\n",
    "assert new_encrypt('mohammed') == 'NLSZNNVW'\n",
    "### END HIDDEN TESTS"
   ]
  },
  {
   "cell_type": "code",
   "execution_count": 13,
   "metadata": {
    "nbgrader": {
     "grade": true,
     "grade_id": "q7-test2",
     "locked": true,
     "points": 0.25,
     "schema_version": 3,
     "solution": false,
     "task": false
    }
   },
   "outputs": [],
   "source": [
    "assert callable(new_encrypt)\n",
    "\n",
    "### BEGIN HIDDEN TESTS\n",
    "# will work even if they missed the .upper()\n",
    "# has correct input parameter\n",
    "assert new_encrypt(input_string='ABC') == 'ZYX'\n",
    "### END HIDDEN TESTS"
   ]
  },
  {
   "cell_type": "markdown",
   "metadata": {
    "nbgrader": {
     "grade": false,
     "grade_id": "q7-test3",
     "locked": true,
     "points": 0.75,
     "schema_version": 3,
     "solution": false,
     "task": true
    }
   },
   "source": [
    "**This \"blank\" cell included intentionally.** Do not do anything here. (It's being used in grading.)\n",
    "\n",
    "=== BEGIN MARK SCHEME ===\n",
    "- `input_string` parameter included (**0.15 points**)\n",
    "- empty `output_string` initialized (**0.2 points**)\n",
    "- capitalization accounted for (**0.2 points**)\n",
    "- `return` statement included (**0.2 points**)\n",
    "\n",
    "=== END MARK SCHEME ==="
   ]
  },
  {
   "cell_type": "markdown",
   "metadata": {
    "nbgrader": {
     "grade": false,
     "grade_id": "part1",
     "locked": true,
     "schema_version": 3,
     "solution": false
    }
   },
   "source": [
    "## Part 2: Functions (4.4 points)\n",
    "\n",
    "Note this section has *more* questions than your real exam will have. This is just to get you additional practice."
   ]
  },
  {
   "cell_type": "markdown",
   "metadata": {
    "nbgrader": {
     "grade": false,
     "grade_id": "q4",
     "locked": true,
     "schema_version": 3,
     "solution": false,
     "task": false
    }
   },
   "source": [
    "### Q4 - Function execution\n",
    "\n",
    "The cell below includes a function that has been provided for you. After running the cell below (to define this function), execute (use) this function to create the following variables under the specified conditions:\n",
    "\n",
    "1. `square_default` | execute the `square_all` function using the default parameter such that the output will carry out the function on a list of input values containing the integers 2, 3, and 4. \n",
    "2. `power_three` | Use the same input values as above, but this time, use the `square_all` function provided to raise all input values to the power 3\n",
    "3. `out_4` | Execute the `square_all` function such that `out_4` will store a list with 4 values, each of which is the integer 4."
   ]
  },
  {
   "cell_type": "code",
   "execution_count": 14,
   "metadata": {
    "nbgrader": {
     "grade": false,
     "grade_id": "q4-funct",
     "locked": true,
     "schema_version": 3,
     "solution": false,
     "task": false
    }
   },
   "outputs": [],
   "source": [
    "def square_all(collection, power=2):\n",
    "    \n",
    "    square_list = []\n",
    "    for val in collection:\n",
    "        square_list.append(val**power)\n",
    "    \n",
    "    return square_list"
   ]
  },
  {
   "cell_type": "code",
   "execution_count": 15,
   "metadata": {},
   "outputs": [],
   "source": [
    "# BE SURE YOUR ANSWER IS IN THE CELL BELOW\n",
    "# but you can use this cell to test/execute/check your thinking (optional)"
   ]
  },
  {
   "cell_type": "code",
   "execution_count": 16,
   "metadata": {
    "nbgrader": {
     "grade": false,
     "grade_id": "q4-solution",
     "locked": false,
     "schema_version": 3,
     "solution": true,
     "task": false
    }
   },
   "outputs": [],
   "source": [
    "### BEGIN SOLUTION\n",
    "square_default = square_all([2,3,4])\n",
    "power_three = square_all([2,3,4], 3)\n",
    "out_4 = square_all([2,2,2,2]) # this execution could differ\n",
    "### END SOLUTION"
   ]
  },
  {
   "cell_type": "code",
   "execution_count": 17,
   "metadata": {
    "nbgrader": {
     "grade": true,
     "grade_id": "q4-test1",
     "locked": true,
     "points": 0,
     "schema_version": 3,
     "solution": false,
     "task": false
    }
   },
   "outputs": [],
   "source": [
    "assert square_default is not None\n",
    "\n",
    "### BEGIN HIDDEN TESTS\n",
    "assert  square_default == [4,9,16]\n",
    "### END HIDDEN TESTS"
   ]
  },
  {
   "cell_type": "code",
   "execution_count": 18,
   "metadata": {
    "nbgrader": {
     "grade": true,
     "grade_id": "q4-test2",
     "locked": true,
     "points": 0,
     "schema_version": 3,
     "solution": false,
     "task": false
    }
   },
   "outputs": [],
   "source": [
    "assert power_three is not None\n",
    "\n",
    "### BEGIN HIDDEN TESTS\n",
    "assert power_three  == [8, 27, 64]\n",
    "### END HIDDEN TESTS"
   ]
  },
  {
   "cell_type": "code",
   "execution_count": 19,
   "metadata": {
    "nbgrader": {
     "grade": true,
     "grade_id": "q4-test3",
     "locked": true,
     "points": 0,
     "schema_version": 3,
     "solution": false,
     "task": false
    }
   },
   "outputs": [],
   "source": [
    "assert out_4 is not None\n",
    "\n",
    "### BEGIN HIDDEN TESTS\n",
    "assert out_4  == [4,4,4,4]\n",
    "### END HIDDEN TESTS"
   ]
  },
  {
   "cell_type": "markdown",
   "metadata": {
    "nbgrader": {
     "grade": false,
     "grade_id": "q4-test4",
     "locked": true,
     "points": 0,
     "schema_version": 3,
     "solution": false,
     "task": true
    }
   },
   "source": [
    "**This \"blank\" cell included intentionally.** Do not do anything here. (It's being used in grading.)\n",
    "\n",
    "=== BEGIN MARK SCHEME ===\n",
    "\n",
    "function executed appropriately for variable creation (aka not hard coded) (**1 point** ; 0.33 per function call)\n",
    "\n",
    "=== END MARK SCHEME ==="
   ]
  },
  {
   "cell_type": "markdown",
   "metadata": {
    "nbgrader": {
     "grade": false,
     "grade_id": "q2",
     "locked": true,
     "schema_version": 3,
     "solution": false
    }
   },
   "source": [
    "### Q5 - `count_int` \n",
    "\n",
    "Write a function `count_int` that will take a tuple or list as the input and count the number (count) of integer values in that tuple/list, returning this value from the function. \n",
    "\n",
    "For example, if 3 of the values in the input list were integers, the function would return 3.\n",
    "\n",
    "Note: You can assume the input to this function will be a tuple or list and do *not* need to write code to check whether or not this is true."
   ]
  },
  {
   "cell_type": "code",
   "execution_count": 20,
   "metadata": {
    "nbgrader": {
     "grade": false,
     "grade_id": "q2-solution",
     "locked": false,
     "schema_version": 3,
     "solution": true
    }
   },
   "outputs": [],
   "source": [
    "### BEGIN SOLUTION\n",
    "def count_int(col):\n",
    "    count = 0\n",
    "    \n",
    "    for val in col:\n",
    "        if type(val) == int:\n",
    "            count += 1\n",
    "    \n",
    "    return count\n",
    "### END SOLUTION"
   ]
  },
  {
   "cell_type": "code",
   "execution_count": 21,
   "metadata": {},
   "outputs": [],
   "source": [
    "# BE SURE YOUR ANSWER IS IN THE CELL ABOVE\n",
    "# but you can use this cell to test/execute/check your function (optional)"
   ]
  },
  {
   "cell_type": "code",
   "execution_count": 22,
   "metadata": {
    "nbgrader": {
     "grade": true,
     "grade_id": "q5-test1",
     "locked": true,
     "points": 0,
     "schema_version": 3,
     "solution": false,
     "task": false
    }
   },
   "outputs": [],
   "source": [
    "assert callable(count_int)\n",
    "\n",
    "### BEGIN HIDDEN TESTS\n",
    "assert count_int((1,2,3,4,5,'string',4.4)) == 5\n",
    "assert count_int([1,2,3,4,5,'string',4.4]) == 5\n",
    "### END HIDDEN TESTS"
   ]
  },
  {
   "cell_type": "markdown",
   "metadata": {
    "nbgrader": {
     "grade": false,
     "grade_id": "q5-test2",
     "locked": true,
     "points": 0,
     "schema_version": 3,
     "solution": false,
     "task": true
    }
   },
   "source": [
    "**This \"blank\" cell included intentionally.** Do not do anything here. (It's being used in grading.)\n",
    "\n",
    "=== BEGIN MARK SCHEME ===\n",
    "\n",
    "partial credit for answer above:\n",
    "\n",
    "- function defined correctly (**0.5 points**)\n",
    "- input parameter specified  (**0.5 points**)\n",
    "- counter initialized (**0.5 points**)\n",
    "- for loop (or equivalent) correct (**0.2 points**)\n",
    "- conditional (or equivalent) correct (**0.3 points**)\n",
    "- counter incremented correctly (**0.5 points**) \n",
    "- `return` statement included (**0.5 points**)\n",
    "\n",
    "=== END MARK SCHEME ==="
   ]
  },
  {
   "cell_type": "markdown",
   "metadata": {
    "nbgrader": {
     "grade": false,
     "grade_id": "q3",
     "locked": true,
     "schema_version": 3,
     "solution": false
    }
   },
   "source": [
    "### Q6 - `provide_info` (1 point)\n",
    "\n",
    "Write a function `provide_info` that takes three parameters: `name`, `year`, and `school` .\n",
    "\n",
    "Set the default value for `school` to be 'UCSD'.\n",
    "\n",
    "This function should `return` the string \"Hi. I'm `name`. I am a `year` at `school`.\" (where the variable names are replaced by the values input to the function upon execution).\n",
    "\n",
    "For example, one possible execution of this function could return \"Hi! I'm Shannon. I am a sophomore at UCSD.\"\n",
    "\n",
    "Note: Be sure punctuation and spacing match that specified in the instructions."
   ]
  },
  {
   "cell_type": "code",
   "execution_count": 23,
   "metadata": {
    "nbgrader": {
     "grade": false,
     "grade_id": "q3-solution",
     "locked": false,
     "schema_version": 3,
     "solution": true
    }
   },
   "outputs": [],
   "source": [
    "### BEGIN SOLUTION\n",
    "def provide_info(name, year, school='UCSD'):\n",
    "    output = \"Hi. I'm \" + name + '. I am a ' + year + ' at ' + school + '.'\n",
    "    return output\n",
    "### END SOLUTION"
   ]
  },
  {
   "cell_type": "code",
   "execution_count": 24,
   "metadata": {},
   "outputs": [],
   "source": [
    "# BE SURE YOUR ANSWER IS IN THE CELL ABOVE\n",
    "# but you can use this cell to test/execute/check your function (optional)"
   ]
  },
  {
   "cell_type": "code",
   "execution_count": 25,
   "metadata": {
    "nbgrader": {
     "grade": true,
     "grade_id": "q3-test1",
     "locked": true,
     "points": 0,
     "schema_version": 3,
     "solution": false
    }
   },
   "outputs": [],
   "source": [
    "assert callable(provide_info)\n",
    "\n",
    "### BEGIN HIDDEN TESTS\n",
    "assert provide_info(name = 'Taylor', year = 'junior', school = 'UCLA') == \"Hi! I'm Taylor. I am a junior at UCLA.\" or provide_info(name='Taylor', year='junior', school = 'UCLA') == \"Hi. I'm Taylor. I am a junior at UCLA.\"\n",
    "### END HIDDEN TESTS"
   ]
  },
  {
   "cell_type": "code",
   "execution_count": 26,
   "metadata": {
    "nbgrader": {
     "grade": true,
     "grade_id": "q3-test2",
     "locked": true,
     "points": 0,
     "schema_version": 3,
     "solution": false,
     "task": false
    }
   },
   "outputs": [],
   "source": [
    "# hidden tests for function above\n",
    "### BEGIN HIDDEN TESTS\n",
    "# assure defaul parameter is correct\n",
    "assert provide_info(name = 'Taylor', year = 'junior') == \"Hi! I'm Taylor. I am a junior at UCSD.\" or provide_info(name='Taylor', year='junior') == \"Hi. I'm Taylor. I am a junior at UCSD.\"\n",
    "### END HIDDEN TESTS"
   ]
  },
  {
   "cell_type": "markdown",
   "metadata": {
    "nbgrader": {
     "grade": false,
     "grade_id": "q3-test3",
     "locked": true,
     "points": 0,
     "schema_version": 3,
     "solution": false,
     "task": true
    }
   },
   "source": [
    "**This \"blank\" cell included intentionally.** Do not do anything here. (It's being used in grading.)\n",
    "\n",
    "\n",
    "=== BEGIN MARK SCHEME ===\n",
    "\n",
    "partial credit for answer above:\n",
    "\n",
    "- function defined correctly (**0.5 points**)\n",
    "- 3 parameters specified (**0.5 points**)\n",
    "- default parameter specified correctly (**0.5 points**)\n",
    "- string concatenation attempted correctly (even if typos in string) (**1 point**)\n",
    "- `return` statement included (**0.3 points**)\n",
    "\n",
    "=== END MARK SCHEME ==="
   ]
  },
  {
   "cell_type": "markdown",
   "metadata": {
    "nbgrader": {
     "grade": false,
     "grade_id": "q5",
     "locked": true,
     "schema_version": 3,
     "solution": false
    }
   },
   "source": [
    "### Q7 - `modify_string` (1 point)\n",
    "\n",
    "\n",
    "In this question, you're going to define a function called `modify_string()` that will change `input_string` using the key-value pairs in `new_language` (provided below), ultimately returning the updated name from the function.\n",
    "\n",
    "Specifically, if any of the letters in your name (`input_string`) are keys in the dictionary `new_language` below, use that key's value in that letter's place in the string being output from the function. If the letter is not in `new_language`, add the original character from `input_string` to the string being output from the function.\n",
    "\n",
    "For example, if `input_string` were 'Shannon', `modif_string()` would `return` 'Shӓnnðn' (the a and the o have the modified character from `new_language`)\n",
    "\n",
    "\n",
    "This function should have a single parameter: `input_string` - the string to be modified."
   ]
  },
  {
   "cell_type": "code",
   "execution_count": 27,
   "metadata": {},
   "outputs": [],
   "source": [
    "new_language = {'a': 'ӓ',\n",
    "                'e' : 'ɚ',\n",
    "                'i' : '¡',\n",
    "                'o' : 'ð',\n",
    "                'u' : 'û',\n",
    "                'A' : 'Ӓ'\n",
    "                'E' : 'ɛ',\n",
    "                'O' : 'Ó',\n",
    "                'U' : 'Ü'}"
   ]
  },
  {
   "cell_type": "code",
   "execution_count": 28,
   "metadata": {
    "nbgrader": {
     "grade": false,
     "grade_id": "q5-solution",
     "locked": false,
     "schema_version": 3,
     "solution": true
    }
   },
   "outputs": [],
   "source": [
    "### BEGIN SOLUTION\n",
    "def modify_string(input_string):\n",
    "    \n",
    "    new_language = {'a': 'ӓ',\n",
    "                    'e' : 'ɚ',\n",
    "                    'i' : '¡',\n",
    "                    'o' : 'ð',\n",
    "                    'u' : 'û',\n",
    "                    'A' : 'Ӓ',\n",
    "                    'E' : 'ɛ', \n",
    "                    'O' : 'Ó', \n",
    "                    'U' : 'Ü'}\n",
    "    \n",
    "    modified_name = ''\n",
    "    \n",
    "    for letter in input_string:\n",
    "        if letter in new_language:\n",
    "            modified_name = modified_name + new_language[letter]\n",
    "        else:\n",
    "            modified_name = modified_name + letter\n",
    "\n",
    "    return modified_name\n",
    "                \n",
    "### END SOLUTION"
   ]
  },
  {
   "cell_type": "code",
   "execution_count": 29,
   "metadata": {},
   "outputs": [],
   "source": [
    "# BE SURE YOUR ANSWER IS IN THE CELL ABOVE\n",
    "# but you can use this cell to test/execute/check your function (optional)"
   ]
  },
  {
   "cell_type": "code",
   "execution_count": 30,
   "metadata": {
    "nbgrader": {
     "grade": true,
     "grade_id": "test1",
     "locked": true,
     "points": 0.25,
     "schema_version": 3,
     "solution": false,
     "task": false
    }
   },
   "outputs": [],
   "source": [
    "assert modify_string\n",
    "\n",
    "### BEGIN HIDDEN TESTS\n",
    "assert modify_string('Taylor') == 'Tӓylðr'\n",
    "### END HIDDEN TESTS"
   ]
  },
  {
   "cell_type": "code",
   "execution_count": 31,
   "metadata": {
    "nbgrader": {
     "grade": true,
     "grade_id": "test2",
     "locked": true,
     "points": 0.25,
     "schema_version": 3,
     "solution": false,
     "task": false
    }
   },
   "outputs": [],
   "source": [
    "assert callable(modify_string)\n",
    "\n",
    "### BEGIN HIDDEN TESTS\n",
    "# check functioning for capital letters\n",
    "assert modify_string('AaBbCcEe') == 'ӒӓBbCcɛɚ'\n",
    "### END HIDDEN TESTS\n"
   ]
  },
  {
   "cell_type": "markdown",
   "metadata": {
    "nbgrader": {
     "grade": false,
     "grade_id": "q5-test4",
     "locked": true,
     "points": 0.5,
     "schema_version": 3,
     "solution": false,
     "task": true
    }
   },
   "source": [
    "**This \"blank\" cell included intentionally.** Do not do anything here. (It's being used in grading.)\n",
    "\n",
    "=== BEGIN MARK SCHEME ===\n",
    "\n",
    "partial credit for answer above:\n",
    "\n",
    "- function defined correctly & input parameter specified (**0.1 points**)\n",
    "- for loop (or equivalent) correct (**0.1 points**)\n",
    "- conditional (or equivalent) correct (**0.1 points**)\n",
    "- string updated correctly (**0.1 points**) \n",
    "- `return` statement included (**0.1 points**)\n",
    "\n",
    "=== END MARK SCHEME ==="
   ]
  },
  {
   "cell_type": "markdown",
   "metadata": {
    "nbgrader": {
     "grade": false,
     "grade_id": "q",
     "locked": true,
     "schema_version": 3,
     "solution": false
    }
   },
   "source": [
    "### Q8 - `calculate_points` (1 point)\n",
    "\n",
    "Write a function `calculate_points` that has a single input parameter: `hand`. `hand` can be assumed to be a list of string values, where each string corresponds to a value in a deck of cards (2-10, J, Q, K, or A)\n",
    "\n",
    "This function should calculate the total number of \"pointer\" cars in your hand, where ***a \"pointer\" is either a 10, J, Q, K, or A***. Each \"pointer\" is worth one point. All other cards are worth zero points. The function should `return` the total number of points in the `hand` as an integer.\n",
    "\n",
    "For example, if your `hand` input was: \n",
    "\n",
    "```python\n",
    "['J', '10', '2', '5', 'K']\n",
    "```\n",
    "\n",
    "executing the `calculate_points()` function with the above list as the input to the `hand` parameter, the function would `return` the integer 3 (one point each for the `'J'`, `'10'`, and `'K'`.\n",
    "\n",
    "If there are no pointers in the input `hand`, the function should return 0."
   ]
  },
  {
   "cell_type": "code",
   "execution_count": 32,
   "metadata": {
    "nbgrader": {
     "grade": false,
     "grade_id": "q6-solution",
     "locked": false,
     "schema_version": 3,
     "solution": true
    }
   },
   "outputs": [],
   "source": [
    "### BEGIN SOLUTION\n",
    "def calculate_points(hand):\n",
    "    pointers = ['10', 'J', 'Q', 'K', 'A']\n",
    "    counter = 0\n",
    "    \n",
    "    for card in hand:\n",
    "        if card in pointers:\n",
    "            counter += 1\n",
    "        \n",
    "    return counter\n",
    "### END SOLUTION"
   ]
  },
  {
   "cell_type": "code",
   "execution_count": 33,
   "metadata": {},
   "outputs": [],
   "source": [
    "# BE SURE YOUR ANSWER IS IN THE CELL ABOVE\n",
    "# but you can use this cell to test/execute/check your function (optional)"
   ]
  },
  {
   "cell_type": "code",
   "execution_count": 34,
   "metadata": {
    "nbgrader": {
     "grade": true,
     "grade_id": "q6-testa",
     "locked": true,
     "points": 0.25,
     "schema_version": 3,
     "solution": false
    }
   },
   "outputs": [],
   "source": [
    "assert callable(calculate_points)\n",
    "\n",
    "### BEGIN HIDDEN TESTS\n",
    "# use default parameter\n",
    "assert calculate_points(['K']) == 1\n",
    "### END HIDDEN TESTS"
   ]
  },
  {
   "cell_type": "code",
   "execution_count": 35,
   "metadata": {
    "nbgrader": {
     "grade": true,
     "grade_id": "q6-testb",
     "locked": true,
     "points": 0.25,
     "schema_version": 3,
     "solution": false,
     "task": false
    }
   },
   "outputs": [],
   "source": [
    "# hidden tests for function above\n",
    "### BEGIN HIDDEN TESTS\n",
    "# assure returns zero if no pointers\n",
    "assert calculate_points(['2', '7', '9']) == 0\n",
    "### END HIDDEN TESTS"
   ]
  },
  {
   "cell_type": "markdown",
   "metadata": {
    "nbgrader": {
     "grade": false,
     "grade_id": "q6-test4",
     "locked": true,
     "points": 0.5,
     "schema_version": 3,
     "solution": false,
     "task": true
    }
   },
   "source": [
    "**This \"blank\" cell included intentionally.** Do not do anything here. (It's being used in grading.)\n",
    "\n",
    "\n",
    "=== BEGIN MARK SCHEME ===\n",
    "\n",
    "partial credit for answer above:\n",
    "\n",
    "- function defined correctly with single parameter (**0.1 points**)\n",
    "- loop (or equivalent) correct (**0.1 points**)\n",
    "- conditional (or equivalent) correct (**0.1 points**)\n",
    "- counter incremented correctly (**0.1 points**)\n",
    "- `return` statement included (**0.1 points**)\n",
    "\n",
    "=== END MARK SCHEME ==="
   ]
  },
  {
   "cell_type": "markdown",
   "metadata": {
    "nbgrader": {
     "grade": false,
     "grade_id": "cell-4ab8407deca62752",
     "locked": true,
     "schema_version": 3,
     "solution": false,
     "task": false
    }
   },
   "source": [
    "## Part 3: Objects & Classes (4.5 points)\n",
    "\n",
    "Note this section has *more* questions than your real exam will have. This is where students tend to struggle the most as the material is new and puts all the pieces we've talked about so far this quarter together, so I wanted you to have extra practice."
   ]
  },
  {
   "cell_type": "markdown",
   "metadata": {
    "nbgrader": {
     "grade": false,
     "grade_id": "q9",
     "locked": true,
     "schema_version": 3,
     "solution": false
    }
   },
   "source": [
    "### Q9 - `Kingdom()`\n",
    "\n",
    "For this question (and the next one), imagine you want to create a video game with a handful of characters. You want this game to have a royal kingdom theme.\n",
    "\n",
    "Here, define a class `Kingdom()`.\n",
    "\n",
    "This class should have two instance attributes: `name` and `title`, which will be strings specifying the name and title of the character (in that order).\n",
    "\n",
    "This class will also have a method `introduce()`. This method should `return` (*not* just `print`) a string, similar to:\n",
    "\n",
    "```\n",
    "'Hello, my name is Ferdinand, and I am a King.' \n",
    "```\n",
    "\n",
    "...where 'Ferdinand' corresponds to whatever is stored in `Kingdom()` object's `name` attribute is and 'King' corresponds to whatever is stored in the `Kingdom()` object's `title` attribute.\n"
   ]
  },
  {
   "cell_type": "code",
   "execution_count": 36,
   "metadata": {
    "nbgrader": {
     "grade": false,
     "grade_id": "q9-solution",
     "locked": false,
     "schema_version": 3,
     "solution": true
    }
   },
   "outputs": [],
   "source": [
    "### BEGIN SOLUTION\n",
    "class Kingdom():\n",
    "    \n",
    "    def __init__(self, name, title):\n",
    "        self.name = name\n",
    "        self.title = title\n",
    "    \n",
    "    def introduce(self):\n",
    "        return 'Hello, my name is ' + self.name + ', and I am a ' + self.title + '.'\n",
    "### END SOLUTION\n"
   ]
  },
  {
   "cell_type": "code",
   "execution_count": 37,
   "metadata": {},
   "outputs": [],
   "source": [
    "# BE SURE YOUR ANSWER IS IN THE CELL ABOVE\n",
    "# but you can use this cell to test/execute/check your function (optional)"
   ]
  },
  {
   "cell_type": "code",
   "execution_count": 38,
   "metadata": {
    "nbgrader": {
     "grade": true,
     "grade_id": "q9-test1",
     "locked": true,
     "points": 0.5,
     "schema_version": 3,
     "solution": false
    }
   },
   "outputs": [],
   "source": [
    "# Tests for the object\n",
    "assert Kingdom\n",
    "\n",
    "### BEGIN HIDDEN TESTS\n",
    "queen = Kingdom('Elizabeth', 'Queen')\n",
    "assert isinstance(queen, Kingdom)\n",
    "assert queen.name == 'Elizabeth'\n",
    "assert queen.title == 'Queen'\n",
    "### END HIDDEN TESTS"
   ]
  },
  {
   "cell_type": "code",
   "execution_count": 39,
   "metadata": {
    "nbgrader": {
     "grade": true,
     "grade_id": "q9-test2",
     "locked": true,
     "points": 0.5,
     "schema_version": 3,
     "solution": false
    }
   },
   "outputs": [],
   "source": [
    "# Tests for introduce method\n",
    "assert callable(Kingdom)\n",
    "\n",
    "### BEGIN HIDDEN TESTS\n",
    "assert callable(queen.introduce)\n",
    "assert isinstance(queen.introduce(), str)\n",
    "### END HIDDEN TESTS"
   ]
  },
  {
   "cell_type": "markdown",
   "metadata": {
    "nbgrader": {
     "grade": false,
     "grade_id": "q9-test3",
     "locked": true,
     "points": 1.5,
     "schema_version": 3,
     "solution": false,
     "task": true
    }
   },
   "source": [
    "**This \"blank\" cell included intentionally.** Do not do anything here. (It's being used in grading.)\n",
    "\n",
    "=== BEGIN MARK SCHEME ===\n",
    "\n",
    "partial credit for answer above:\n",
    "\n",
    "- class defined correctly (**0.25 points**)\n",
    "- instance attributes initialized correctly with `self` + paramters (**0.25 points**)\n",
    "- `self` used correctly in instance attribute code block (**0.25 points**)\n",
    "- introduce method defined with `self` as parameter (**0.25 points**)\n",
    "- `return` statement returns a string (**0.25 points**)\n",
    "- `return` includes reference to `self.name` and `self.title` (**0.25 points**)\n",
    "\n",
    "=== END MARK SCHEME ==="
   ]
  },
  {
   "cell_type": "markdown",
   "metadata": {
    "nbgrader": {
     "grade": false,
     "grade_id": "q10",
     "locked": true,
     "schema_version": 3,
     "solution": false
    }
   },
   "source": [
    "### Q10 - `NewYear()`\n",
    "\n",
    "For this question, let's create a class to celebrate the Lunar New Year!\n",
    "\n",
    "Here, define a class `NewYear()`.\n",
    "\n",
    "This class should have:\n",
    "\n",
    "- **one class attribute**: `zodiac_signs` that stores the dictionary specified in the cell below. This dictionary contains the zodiac sign as the key and the birth years that correspond to that sign.\n",
    "- **one instance attribute**:  `year` that takes the birth `year` as input from the user upon creation of a `NewYear` type object.\n",
    "\n",
    "This class will also have a method `return_sign()`. This method should `return` (*not* just `print`) a string, similar to:\n",
    "\n",
    "```\n",
    "'You were born in the year of the Dragon!' \n",
    "```\n",
    "\n",
    "...where 'Dragon' corresponds to the key from the `zodiac_signs` corresponding to the value stored in the `year` attribute. (Be sure captitalization and punctuation match the string specified here. The only thing that should change is the last word in the string.)\n",
    "\n",
    "For example `NewYear(year=2021).return_sign()` should return 'You were born in the year of the Ox!', since 2021 is a value in the `zodiac_signs` dictionary for the key 'Ox'. "
   ]
  },
  {
   "cell_type": "code",
   "execution_count": 40,
   "metadata": {
    "nbgrader": {
     "grade": false,
     "grade_id": "cell-0320cf0ec9903820",
     "locked": true,
     "schema_version": 3,
     "solution": false,
     "task": false
    }
   },
   "outputs": [],
   "source": [
    "# provided for you\n",
    "zodiac_signs = {\n",
    "    'Ox' : [1937, 1949, 1961, 1973, 1985, 1997, 2009, 2021],\n",
    "    'Tiger' : [1938, 1950, 1962, 1974, 1986, 1998, 2010, 2022], \n",
    "    'Rabbit' : [1939, 1951, 1963, 1975, 1987, 1999, 2011, 2023], \n",
    "    'Dragon' : [1940, 1952, 1964, 1976, 1988, 2000, 2012, 2024], \n",
    "    'Snake' : [1941, 1953, 1965, 1977, 1989, 2001, 2013, 2025], \n",
    "    'Horse' : [1942, 1954, 1966, 1978, 1990, 2002, 2014, 2026], \n",
    "    'Goat/Sheep' : [1943, 1955, 1967, 1979, 1991, 2003, 2015, 2027], \n",
    "    'Monkey' : [1944, 1956, 1968, 1980, 1992, 2004, 2016, 2028], \n",
    "    'Rooster' : [1945, 1957, 1969, 1981, 1993, 2005, 2017, 2029], \n",
    "    'Dog' : [1946, 1958, 1970, 1982, 1994, 2006, 2018, 2030], \n",
    "    'Pig' : [1947, 1959, 1971, 1983, 1995, 2007, 2019, 2031], \n",
    "    'Rat' : [1936, 1948, 1960, 1972, 1984, 1996, 2008, 2020]\n",
    "} "
   ]
  },
  {
   "cell_type": "code",
   "execution_count": 41,
   "metadata": {
    "nbgrader": {
     "grade": false,
     "grade_id": "q10-solution",
     "locked": false,
     "schema_version": 3,
     "solution": true
    }
   },
   "outputs": [],
   "source": [
    "### BEGIN SOLUTION\n",
    "class NewYear():\n",
    "    \n",
    "    zodiac_signs = {\n",
    "    'Ox' : [1937, 1949, 1961, 1973, 1985, 1997, 2009, 2021],\n",
    "    'Tiger' : [1938, 1950, 1962, 1974, 1986, 1998, 2010], \n",
    "    'Rabbit' : [1939, 1951, 1963, 1975, 1987, 1999, 2011, 2023], \n",
    "    'Dragon' : [1940, 1952, 1964, 1976, 1988, 2000, 2012, 2024], \n",
    "    'Snake' : [1941, 1953, 1965, 1977, 1989, 2001, 2013, 2025], \n",
    "    'Horse' : [1942, 1954, 1966, 1978, 1990, 2002, 2014, 2026], \n",
    "    'Goat/Sheep' : [1943, 1955, 1967, 1979, 1991, 2003, 2015, 2027], \n",
    "    'Monkey' : [1944, 1956, 1968, 1980, 1992, 2004, 2016, 2028], \n",
    "    'Rooster' : [1945, 1957, 1969, 1981, 1993, 2005, 2017, 2029], \n",
    "    'Dog' : [1946, 1958, 1970, 1982, 1994, 2006, 2018, 2030], \n",
    "    'Pig' : [1947, 1959, 1971, 1983, 1995, 2007, 2019, 2031], \n",
    "    'Rat' : [1936, 1948, 1960, 1972, 1984, 1996, 2008, 2020]\n",
    "    } \n",
    "    \n",
    "    \n",
    "    def __init__(self, year):\n",
    "        self.year = year\n",
    "    \n",
    "    def return_sign(self):\n",
    "        for key in self.zodiac_signs:\n",
    "            if self.year in self.zodiac_signs[key]:\n",
    "                out = key\n",
    "                break # answer would be fine without break here\n",
    "                \n",
    "        return 'You were born in the year of the ' + out + '!'\n",
    "### END SOLUTION\n"
   ]
  },
  {
   "cell_type": "code",
   "execution_count": 42,
   "metadata": {},
   "outputs": [],
   "source": [
    "# BE SURE YOUR ANSWER IS IN THE CELL ABOVE\n",
    "# but you can use this cell to test/execute/check your function (optional)"
   ]
  },
  {
   "cell_type": "code",
   "execution_count": 43,
   "metadata": {
    "nbgrader": {
     "grade": true,
     "grade_id": "q10-test1",
     "locked": true,
     "points": 0.25,
     "schema_version": 3,
     "solution": false
    }
   },
   "outputs": [],
   "source": [
    "# Tests for the object\n",
    "assert NewYear\n",
    "### BEGIN HIDDEN TESTS\n",
    "dragon = NewYear(1988)\n",
    "assert isinstance(dragon, NewYear)\n",
    "### END HIDDEN TESTS"
   ]
  },
  {
   "cell_type": "code",
   "execution_count": 44,
   "metadata": {
    "nbgrader": {
     "grade": true,
     "grade_id": "q10-test2",
     "locked": true,
     "points": 0.25,
     "schema_version": 3,
     "solution": false
    }
   },
   "outputs": [],
   "source": [
    "assert callable(NewYear)\n",
    "# Tests for classs attribute\n",
    "### BEGIN HIDDEN TESTS\n",
    "assert dragon.year ==  1988\n",
    "### END HIDDEN TESTS"
   ]
  },
  {
   "cell_type": "code",
   "execution_count": 45,
   "metadata": {
    "nbgrader": {
     "grade": true,
     "grade_id": "q10-test3",
     "locked": true,
     "points": 0.25,
     "schema_version": 3,
     "solution": false,
     "task": false
    }
   },
   "outputs": [],
   "source": [
    "# Tests for instance attribute\n",
    "### BEGIN HIDDEN TESTS\n",
    "assert isinstance(dragon.zodiac_signs, dict)\n",
    "assert 'Ox' in dragon.zodiac_signs.keys()\n",
    "### END HIDDEN TESTS"
   ]
  },
  {
   "cell_type": "code",
   "execution_count": 46,
   "metadata": {
    "nbgrader": {
     "grade": true,
     "grade_id": "q10-test4",
     "locked": true,
     "points": 0.5,
     "schema_version": 3,
     "solution": false,
     "task": false
    }
   },
   "outputs": [],
   "source": [
    "# tests for method\n",
    "# be sure punctuation matches instructions\n",
    "### BEGIN HIDDEN TESTS\n",
    "assert dragon.return_sign() == 'You were born in the year of the Dragon!'\n",
    "### END HIDDEN TESTS"
   ]
  },
  {
   "cell_type": "markdown",
   "metadata": {
    "nbgrader": {
     "grade": false,
     "grade_id": "q10-test5",
     "locked": true,
     "points": 1.25,
     "schema_version": 3,
     "solution": false,
     "task": true
    }
   },
   "source": [
    "**This \"blank\" cell included intentionally.** Do not do anything here. (It's being used in grading.)\n",
    "\n",
    "=== BEGIN MARK SCHEME ===\n",
    "\n",
    "partial credit for answer above:\n",
    "\n",
    "- class defined correctly (**0.25 points**)\n",
    "- class attribute defined correctly (**0.25 points**)\n",
    "- instance attribute defined correctly (with `self` + parameter) (**0.15 points**)\n",
    "- method definition includes `self` (**0.1 points**)\n",
    "- method code loop/conditional correct. (**0.25 points**)\n",
    "- method code specifies self.name (**0.15 points**)\n",
    "- method includes `return` statement (**0.1 points**)\n",
    "\n",
    "=== END MARK SCHEME ==="
   ]
  },
  {
   "cell_type": "markdown",
   "metadata": {
    "nbgrader": {
     "grade": false,
     "grade_id": "q11",
     "locked": true,
     "schema_version": 3,
     "solution": false
    }
   },
   "source": [
    "### Q11 - `BasketballGame`\n",
    "\n",
    "Generate a class called `BasketballGame`.\n",
    "\n",
    "This class should have four instance attributes: `home_team`, `away_team`, `home_points`, and `away_points`\n",
    "\n",
    "It should also have one method, `play_game()`. \n",
    "\n",
    "Within the `play_game` method, add code that would determine who the winner of the game is (determined by the team with the most points), returning Winner: ' and the winning team's name.\n",
    "\n",
    "For ties, return: 'Winner: tie'"
   ]
  },
  {
   "cell_type": "code",
   "execution_count": 47,
   "metadata": {
    "nbgrader": {
     "grade": false,
     "grade_id": "q11-solution",
     "locked": false,
     "schema_version": 3,
     "solution": true
    }
   },
   "outputs": [],
   "source": [
    "### BEGIN SOLUTION\n",
    "class BasketballGame():\n",
    "    def __init__(self, home_team, away_team, home_points, away_points):\n",
    "        self.home_team = home_team\n",
    "        self.away_team = away_team\n",
    "        self.home_points = home_points\n",
    "        self.away_points = away_points\n",
    "    \n",
    "    def play_game(self):\n",
    "        if self.home_points > self.away_points:\n",
    "            out = 'Winner: ' + self.home_team\n",
    "        elif self.away_points > self.home_points:\n",
    "            out = 'Winner: ' + self.away_team\n",
    "        else:\n",
    "            out = 'Winner: tie'\n",
    "        \n",
    "        return out\n",
    "### END SOLUTION"
   ]
  },
  {
   "cell_type": "code",
   "execution_count": 48,
   "metadata": {},
   "outputs": [],
   "source": [
    "# use this cell to test/execute/check your class (optional)"
   ]
  },
  {
   "cell_type": "code",
   "execution_count": 49,
   "metadata": {
    "nbgrader": {
     "grade": true,
     "grade_id": "q11-test1",
     "locked": true,
     "points": 0,
     "schema_version": 3,
     "solution": false
    }
   },
   "outputs": [],
   "source": [
    "assert callable(BasketballGame)\n",
    "\n",
    "### BEGIN HIDDEN TESTS\n",
    "game = BasketballGame(home_team='Warriors', away_team='Sixers', \n",
    "                      home_points=100, away_points=105)\n",
    "\n",
    "# test attributes\n",
    "assert game.home_team == 'Warriors'\n",
    "assert game.away_team == 'Sixers'\n",
    "assert game.home_points == 100\n",
    "assert game.away_points == 105\n",
    "### END HIDDEN TESTS"
   ]
  },
  {
   "cell_type": "code",
   "execution_count": 50,
   "metadata": {
    "nbgrader": {
     "grade": true,
     "grade_id": "q11-test2",
     "locked": true,
     "points": 0,
     "schema_version": 3,
     "solution": false,
     "task": false
    }
   },
   "outputs": [],
   "source": [
    "assert callable(BasketballGame.play_game)\n",
    "\n",
    "### BEGIN HIDDEN TESTS\n",
    "# test method\n",
    "assert game.play_game() == 'Winner: Sixers'\n",
    "### END HIDDEN TESTS"
   ]
  },
  {
   "cell_type": "markdown",
   "metadata": {
    "nbgrader": {
     "grade": false,
     "grade_id": "q11-test3",
     "locked": true,
     "points": 0,
     "schema_version": 3,
     "solution": false,
     "task": true
    }
   },
   "source": [
    "This \"blank\" cell included intentionally. Do not do anything here. (It's being used in grading.)\n",
    "\n",
    "=== BEGIN MARK SCHEME ===\n",
    "\n",
    "rubric for partial credit\n",
    "\n",
    "=== END MARK SCHEME ==="
   ]
  },
  {
   "cell_type": "markdown",
   "metadata": {
    "nbgrader": {
     "grade": false,
     "grade_id": "end",
     "locked": true,
     "schema_version": 3,
     "solution": false
    }
   },
   "source": [
    "### (Practice) Exam II complete!\n",
    "\n",
    "Good work - you're done with the second (practice) exam!\n",
    "\n",
    "Check your work, and then when you're ready, **submit on datahub**.\n",
    "\n",
    "We will not have your exam until you click submit and see this show up under 'submitted assignments'."
   ]
  }
 ],
 "metadata": {
  "celltoolbar": "Create Assignment",
  "kernelspec": {
   "display_name": "Python 3",
   "language": "python",
   "name": "python3"
  },
  "language_info": {
   "codemirror_mode": {
    "name": "ipython",
    "version": 3
   },
   "file_extension": ".py",
   "mimetype": "text/x-python",
   "name": "python",
   "nbconvert_exporter": "python",
   "pygments_lexer": "ipython3",
   "version": "3.7.9"
  }
 },
 "nbformat": 4,
 "nbformat_minor": 2
}
