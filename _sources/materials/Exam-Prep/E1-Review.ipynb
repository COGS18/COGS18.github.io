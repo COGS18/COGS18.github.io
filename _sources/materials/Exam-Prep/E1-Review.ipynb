{
 "cells": [
  {
   "cell_type": "markdown",
   "metadata": {
    "slideshow": {
     "slide_type": "slide"
    }
   },
   "source": [
    "# Exam 1 Review"
   ]
  },
  {
   "cell_type": "markdown",
   "metadata": {
    "slideshow": {
     "slide_type": "notes"
    }
   },
   "source": [
    "## Midterm Expectations\n",
    "\n",
    "You will be expected to: \n",
    "\n",
    "1. Recognize, understand and _respond_ to Python syntax:\n",
    "    - statements & comments, whitespace, code blocks & indentation levels\n",
    "2. Recognize, understand and be able to _explain_ code constructions:\n",
    "    - variables, operators, data types, conditionals, functions\n",
    "3. Be able to apply what you've learned:\n",
    "    - Given a task:\n",
    "        - what kind of code constructions are needed to answer it?\n",
    "        - what kind of concepts does it relate to?\n",
    "4. With respect to everything above, be able to read and respond to short code snippets and write out code."
   ]
  },
  {
   "cell_type": "markdown",
   "metadata": {},
   "source": [
    "## Exam Instructions\n",
    "\n",
    "#### Timing\n",
    "- The exam is designed to take you ~1h.\n",
    "- There will be a >24 hour window during which you can complete this exam.\n",
    "- Exam window will be from midnight to midnight on Fri Oct 21\n",
    "- If it takes you longer than 1h, you're free to use that time.\n",
    "\n",
    "#### The Rules\n",
    "- You are to complete this exam on your own.\n",
    "- This is open-notes & open-Google.\n",
    "- You may not talk to any humans about this exam. \n",
    "- The following are all *prohibited*:\n",
    "    - text/phone/online chat communication\n",
    "    - posting questions to a message board where a human could respond (Discord, Chegg, Reddit, Wechat, Whatsapp, any similar site)\n",
    "    - viewing exam questions from a message board (as described above)\n",
    "    - asking anyone via any form about a question on this test directly\n",
    "- Clarification questions will ***not*** be allowed and there will be no posting on Piazza about the exam at all. \n",
    "    - No office hours or emails to us either\n",
    "    - Note: This policy is b/c we are incapable of responding for the entirety of the exam. This is the only way to make it fair across the board for students."
   ]
  },
  {
   "cell_type": "markdown",
   "metadata": {
    "slideshow": {
     "slide_type": "slide"
    }
   },
   "source": [
    "### Reminder: \n",
    "\n",
    "There is a practice Exam on datahub."
   ]
  },
  {
   "cell_type": "markdown",
   "metadata": {
    "slideshow": {
     "slide_type": "slide"
    }
   },
   "source": [
    "## Topics & Example Questions\n",
    "\n",
    "- Variables & Data Types\n",
    "- Operators\n",
    "- Functions\n",
    "- Conditionals\n",
    "\n",
    "Note: The questions below are _less_ involved than the questions on your midterm. These are meant to help guide your studying. If you're stuck on one of these, you know where to focus your studying."
   ]
  },
  {
   "cell_type": "markdown",
   "metadata": {
    "slideshow": {
     "slide_type": "slide"
    }
   },
   "source": [
    "### Variables & DataTypes\n",
    "\n",
    "Types:\n",
    "- strings, integers, floats, Booleans, None\n",
    "- Collections\n",
    "    - Lists\n",
    "    - Tuples\n",
    "    - Dictionaries\n",
    "\n",
    "Concepts:\n",
    "- Mutable vs. Immutable\n",
    "- Indexing"
   ]
  },
  {
   "cell_type": "markdown",
   "metadata": {
    "slideshow": {
     "slide_type": "slide"
    }
   },
   "source": [
    "#### Data Types Question #1\n",
    "\n",
    "What is the difference between a tuple and a list?"
   ]
  },
  {
   "cell_type": "markdown",
   "metadata": {
    "slideshow": {
     "slide_type": "fragment"
    }
   },
   "source": [
    "#### Data Types Question #2\n",
    "\n",
    "Given the following list: \n",
    "\n",
    "```python\n",
    "ice_cream = ['vanilla', 'chocolate', 'strawberry', 'cherry', 'salted caramel']\n",
    "\n",
    "```\n",
    "\n",
    "Edit the code to show only the first three items in the list:\n",
    "\n",
    "```python\n",
    "ice_cream[      ]\n",
    "```"
   ]
  },
  {
   "cell_type": "markdown",
   "metadata": {
    "slideshow": {
     "slide_type": "fragment"
    }
   },
   "source": [
    "#### Data Types Question #3\n",
    "\n",
    "Write a line of code that would change the third element of a list `my_list` to store the value `12`."
   ]
  },
  {
   "cell_type": "markdown",
   "metadata": {
    "slideshow": {
     "slide_type": "slide"
    }
   },
   "source": [
    "### Operators\n",
    "\n",
    "- assignment : `=`\n",
    "- math: `+`, `-`, `/`, `*`, `**`, `//`\n",
    "- comparison : `==`, `!=`, `<`, `>`, `<=`, `>=`\n",
    "- logic: `and`, `or`, `not`\n",
    "- identity: `is`, `is not`\n",
    "- membership : `in`, `not in`"
   ]
  },
  {
   "cell_type": "markdown",
   "metadata": {
    "slideshow": {
     "slide_type": "slide"
    }
   },
   "source": [
    "#### Operators Question #1\n",
    "\n",
    "What is the difference between `=` and `==`?"
   ]
  },
  {
   "cell_type": "markdown",
   "metadata": {
    "slideshow": {
     "slide_type": "fragment"
    }
   },
   "source": [
    "#### Operators Question #2\n",
    "\n",
    "Create a variable `oper_var` that uses both the not and or operators (each at least once) such that `oper_var` stores (returns) the value `True`."
   ]
  },
  {
   "cell_type": "markdown",
   "metadata": {
    "slideshow": {
     "slide_type": "fragment"
    }
   },
   "source": [
    "#### Operators Question #3\n",
    "\n",
    "Using at least 4 different math operators, create a variable `math_var` that stores (returns) the value `18.0`"
   ]
  },
  {
   "cell_type": "markdown",
   "metadata": {
    "slideshow": {
     "slide_type": "fragment"
    }
   },
   "source": [
    "#### Operators Question #4\n",
    "\n",
    "Create a variable `string_concat` that demonstrates how you can concatenate two different strings together with a space between the two different strings. "
   ]
  },
  {
   "cell_type": "markdown",
   "metadata": {
    "slideshow": {
     "slide_type": "slide"
    }
   },
   "source": [
    "### Conditionals\n",
    "\n",
    "- `if`, `elif`, & `else`"
   ]
  },
  {
   "cell_type": "markdown",
   "metadata": {
    "slideshow": {
     "slide_type": "slide"
    }
   },
   "source": [
    "#### Conditionals Question #1\n",
    "\n",
    "Circle necessary or optional, as applicable: In Python, a conditional has a necessary / optional `if` statement, one or more necessary / optional `elif` statement(s) and a necessary / optional `else` statement. "
   ]
  },
  {
   "cell_type": "markdown",
   "metadata": {
    "slideshow": {
     "slide_type": "fragment"
    }
   },
   "source": [
    "#### Conditionals Question #2\n",
    "\n",
    "Given the following outline of a conditional:\n",
    "\n",
    "```python\n",
    "    if COND_A:\n",
    "        # Code Block A\n",
    "\telif COND_B:\n",
    "\t\t# Code Block B\n",
    "\telse:\n",
    "\t\t# Code Block C\n",
    "```\n",
    "\n",
    "1. If `COND_A` and `COND_B` are both `True`, which code block(s) evaluate?\n",
    "2. If `COND_A` is False and `COND_B` is `True`, which code block(s) evaluate?"
   ]
  },
  {
   "cell_type": "markdown",
   "metadata": {},
   "source": [
    "#### Conditionals Question #2\n",
    "\n",
    "You use have a list that stores 20 different integers. You use a comparison operator to compare the relationship between two of the elements in the list and store that output in a variable. What would the type of that output variable be?"
   ]
  },
  {
   "cell_type": "markdown",
   "metadata": {
    "slideshow": {
     "slide_type": "slide"
    }
   },
   "source": [
    "## Functions\n",
    "\n",
    "- `def`\n",
    "    - `return`\n",
    "- executing a function\n",
    "    - parameters\n",
    "        - keyword vs. positional\n",
    "        - default values\n",
    "- have a separate namespace\n",
    "\n",
    "Here's an example function below "
   ]
  },
  {
   "cell_type": "code",
   "execution_count": null,
   "metadata": {},
   "outputs": [],
   "source": [
    "def make_burger(cooked='medium', cheese=False):\n",
    "    # make a list describing a burger order for the kitchen to make\n",
    "    # inputs: \n",
    "    #   cooked (str) says how to cook it\n",
    "    #   cheese (bool) says whether its a cheeseburger\n",
    "    # outputs:\n",
    "    #   order (list) describing what the kitchen needs to do  \n",
    "    \n",
    "    # make sure cooked order is one of the possibilities allowed\n",
    "    assert cooked in ['rare', 'medium rare', 'medium', 'medium well', 'well']\n",
    "    \n",
    "    # start the list off as empty\n",
    "    order=[]\n",
    "\n",
    "    # add the cooking instructions \n",
    "    # for a list variable, calling the method .append() adds an element on the end of the list\n",
    "    order.append(cooked)\n",
    "    \n",
    "    # add cheese to the burger if customer wants it\n",
    "    if cheese:\n",
    "        order.append('cheese')\n",
    "        \n",
    "    return order"
   ]
  },
  {
   "cell_type": "code",
   "execution_count": null,
   "metadata": {},
   "outputs": [],
   "source": [
    "alices_order = make_burger()\n",
    "bobs_order = make_burger(cooked='medium rare', cheese=True)\n",
    "carmens_order = make_burger(cheese=True)\n",
    "\n",
    "print('Alice:',alices_order)\n",
    "print('Bob:',bobs_order)\n",
    "print('Carmen:',carmens_order)"
   ]
  },
  {
   "cell_type": "markdown",
   "metadata": {
    "slideshow": {
     "slide_type": "slide"
    }
   },
   "source": [
    "#### Functions Question #1\n",
    "It's inconvenient to store the customer's name as the name of the variable... let's add customer name to the order list itself.  This means we need to pass customer name as an argument to the `make_burger()` function above.\n",
    "\n",
    "1. Copy the function above and paste it below.\n",
    "\n",
    "1. Modify the function so that the **first** argument is called `customer`, which will be a string like `'Alice'` or `'Bob'` when we call the function.  There is no default value to `customer`, unlike `cooked`... that's why `customer` has to be the first argument in the function.  Keep the previous arguments to the function... they jsut become the 2nd and 3rd arguments now\n",
    "\n",
    "1. Modify the function so that the customer name is at the beginning of the list. That means the sequence of the order list you return has to be `[customer, cooked, 'cheese']`, where cheese is an optional element (it's still a valid order list if cheese isn't there).  BTW there is more than one way to get this done :)"
   ]
  },
  {
   "cell_type": "code",
   "execution_count": null,
   "metadata": {
    "slideshow": {
     "slide_type": "fragment"
    }
   },
   "outputs": [],
   "source": [
    "## YOUR NEW make_burger CODE HERE"
   ]
  },
  {
   "cell_type": "code",
   "execution_count": null,
   "metadata": {},
   "outputs": [],
   "source": [
    "an_order = make_burger('Jamal', cooked='rare', cheese=True)\n",
    "assert len(an_order) == 3\n",
    "assert an_order[0] == 'Jamal'\n",
    "assert an_order[1] == 'rare'\n",
    "assert an_order[2] == 'cheese'\n",
    "\n",
    "\n",
    "another_order = make_burger('Jiayi')\n",
    "assert len(another_order) == 2\n",
    "assert another_order[0] == 'Jiayi'\n",
    "assert another_order[1] == 'medium'"
   ]
  },
  {
   "cell_type": "markdown",
   "metadata": {
    "slideshow": {
     "slide_type": "fragment"
    }
   },
   "source": [
    "#### Functions Question #2\n",
    "Lets add more arguments to the function you wrote above. This time we need you to\n",
    "\n",
    "1. Copy the function above and paste it below.\n",
    "\n",
    "1. Add an argument `double` (bool) that makes the burger a double when true. Think of this working just like the argument `cheese` does\n",
    "\n",
    "1. Add an argument `fries` (bool) that adds fries to the order. It works the same as above.\n",
    "\n",
    "Once you've modified your function above, make sure you rerun the definition before "
   ]
  },
  {
   "cell_type": "code",
   "execution_count": null,
   "metadata": {
    "slideshow": {
     "slide_type": "fragment"
    }
   },
   "outputs": [],
   "source": [
    "## YOUR EVEN NEWER make_burger CODE HERE"
   ]
  },
  {
   "cell_type": "code",
   "execution_count": null,
   "metadata": {},
   "outputs": [],
   "source": [
    "an_order = make_burger('Jamal', cooked='rare', cheese=True, double=True)\n",
    "assert len(an_order) == 4\n",
    "assert an_order[0] == 'Jamal'\n",
    "assert an_order[1] == 'rare'\n",
    "assert an_order[2] == 'cheese'\n",
    "assert an_order[3] == 'double'\n",
    "\n",
    "\n",
    "another_order = make_burger('Jiayi', fries=True)\n",
    "assert len(another_order) == 3\n",
    "assert another_order[0] == 'Jiayi'\n",
    "assert another_order[1] == 'medium'\n",
    "assert another_order[2] == 'fries'"
   ]
  },
  {
   "cell_type": "markdown",
   "metadata": {
    "slideshow": {
     "slide_type": "slide"
    }
   },
   "source": [
    "#### Functions Question #3\n",
    "Uh oh! A group of 4 hungry students have shown up.  \n",
    "\n",
    "Make a list `group_order` of their 4 orders. Use your imagination for the ordering and names.\n",
    "\n",
    "The result will be 4 elements long, with each element being a valid order list"
   ]
  },
  {
   "cell_type": "code",
   "execution_count": null,
   "metadata": {},
   "outputs": [],
   "source": [
    "## YOUR CODE HERE\n"
   ]
  },
  {
   "cell_type": "code",
   "execution_count": null,
   "metadata": {},
   "outputs": [],
   "source": [
    "assert group_order\n",
    "\n",
    "assert type(group_order) == list\n",
    "assert len(group_order) == 4\n",
    "\n",
    "assert type(group_order[0]) == list\n",
    "assert len(group_order[0]) >=2 \n",
    "\n",
    "assert type(group_order[1]) == list\n",
    "assert len(group_order[1]) >=2 \n",
    "\n",
    "assert type(group_order[2]) == list\n",
    "assert len(group_order[2]) >=2 \n",
    "\n",
    "assert type(group_order[3]) == list\n",
    "assert len(group_order[3]) >=2 \n",
    "\n",
    "\n",
    "\n"
   ]
  }
 ],
 "metadata": {
  "celltoolbar": "Slideshow",
  "kernelspec": {
   "display_name": "Python 3 (ipykernel)",
   "language": "python",
   "name": "python3"
  },
  "language_info": {
   "codemirror_mode": {
    "name": "ipython",
    "version": 3
   },
   "file_extension": ".py",
   "mimetype": "text/x-python",
   "name": "python",
   "nbconvert_exporter": "python",
   "pygments_lexer": "ipython3",
   "version": "3.9.12"
  },
  "rise": {
   "scroll": true
  }
 },
 "nbformat": 4,
 "nbformat_minor": 2
}
