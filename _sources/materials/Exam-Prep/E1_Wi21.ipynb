{
 "cells": [
  {
   "cell_type": "markdown",
   "metadata": {
    "nbgrader": {
     "grade": false,
     "grade_id": "e1",
     "locked": true,
     "schema_version": 3,
     "solution": false
    }
   },
   "source": [
    "# COGS 18 - Exam 1\n",
    "\n",
    "This is the first exam for Winter 2021. It covers topics through the Dictionaries Lecture.\n",
    "\n",
    "This exam is out of 12.5 points, worth 12.5% of your grade.\n",
    "\n",
    "**PLEASE DO NOT CHANGE THE NAME OF THIS FILE.**\n",
    "\n",
    "**PLEASE DO NOT COPY & PASTE OR DELETE CELLS INLCUDED IN THE ASSIGNMENT.** (Note that you can add additional cells, if you want to test things out."
   ]
  },
  {
   "cell_type": "markdown",
   "metadata": {
    "nbgrader": {
     "grade": false,
     "grade_id": "instructions",
     "locked": true,
     "schema_version": 3,
     "solution": false
    }
   },
   "source": [
    "## Instructions\n",
    "\n",
    "#### Timing\n",
    "- The exam is designed to take you ~1h.\n",
    "- There will be a 72hour ~24 hour~ window during which you can complete this exam (due Mon 8AM).\n",
    "- If it takes you longer than 1h, you're free to use that time.\n",
    "\n",
    "#### The Rules\n",
    "- You are to complete this exam on your own.\n",
    "- This is open-notes & open-Google\n",
    "- You may not talk to any humans about this exam. \n",
    "- The following are all *prohibited*:\n",
    "    - text/phone/online chat communication\n",
    "    - posting questions to a message board where a human could respond\n",
    "    - asking anyone via any form about a question on this test directly\n",
    "- Clarification questions will ***not*** be allowed and there will be no posting on Campuswire about the exam at all. \n",
    "    - Campuswire posts about the exam will not be answered and will be deleted. \n",
    "    - Students who post questions about the exam to Campuswire are at risk of losing points on the exam.\n",
    "    - If you are confused about wording, add a note to your exam explaining your confusion and how you interpreted the question. \n",
    "    - Note: This policy is b/c we are incapable of responding for 24h straight. This is the only way to make it fair across the board for students."
   ]
  },
  {
   "cell_type": "markdown",
   "metadata": {
    "nbgrader": {
     "grade": false,
     "grade_id": "cell-26b08bd4b5ba54ab",
     "locked": true,
     "schema_version": 3,
     "solution": false
    }
   },
   "source": [
    " <span style=\"color: red;\">Note: </span> There _is_ a chance for partial credit on some questions, so _some_ code is better than _no_ code. Even if it throws an error, having some code that partially answers the question will benefit you/your grade."
   ]
  },
  {
   "cell_type": "markdown",
   "metadata": {
    "nbgrader": {
     "grade": false,
     "grade_id": "cell-4d8581ac45c24683",
     "locked": true,
     "schema_version": 3,
     "solution": false,
     "task": false
    }
   },
   "source": [
    "### Q0 - Honor Code (0.1 points - bonus)\n",
    "\n",
    "In the cell below, include a variable `honor_code` that stores the boolean `True` if you agree to the following statement:\n",
    "\n",
    ">I agree that this exam was completed individually with the knowlege in my brain, information the notes from this course, and/or with searching for help on the Internet without searching for answers to these questions directly. I did not ask anyone about specific questions on this exam. I did not post these questions (in part or in whole) on the Internet.\n"
   ]
  },
  {
   "cell_type": "code",
   "execution_count": 1,
   "metadata": {
    "nbgrader": {
     "grade": false,
     "grade_id": "cell-9dae831891d7a1ad",
     "locked": false,
     "schema_version": 3,
     "solution": true,
     "task": false
    }
   },
   "outputs": [],
   "source": [
    "### BEGIN SOLUTION\n",
    "honor_code = True\n",
    "### END SOLUTION"
   ]
  },
  {
   "cell_type": "code",
   "execution_count": 2,
   "metadata": {
    "nbgrader": {
     "grade": true,
     "grade_id": "cell-8a6d1a928512e45c",
     "locked": true,
     "points": 0.1,
     "schema_version": 3,
     "solution": false,
     "task": false
    }
   },
   "outputs": [],
   "source": [
    "assert honor_code"
   ]
  },
  {
   "cell_type": "markdown",
   "metadata": {
    "nbgrader": {
     "grade": false,
     "grade_id": "part1",
     "locked": true,
     "schema_version": 3,
     "solution": false
    }
   },
   "source": [
    "## Part 1: Variables & Operators (3 points)"
   ]
  },
  {
   "cell_type": "markdown",
   "metadata": {
    "nbgrader": {
     "grade": false,
     "grade_id": "q1",
     "locked": true,
     "schema_version": 3,
     "solution": false
    }
   },
   "source": [
    "### Q1 - Variables (1 point)\n",
    "\n",
    "In the cell below, create three variables: `var_int`, `var_float`, and `var_combined`. \n",
    "\n",
    "- `var_int` should store an integer\n",
    "- `var_float` should store a float\n",
    "- `var_combined` should use a math operator to add `var_int` and `var_float` together\n",
    "\n",
    "The specific values you use to generate `var_int` and `var_float` are up to you, as long as they fulfull the criteria specified."
   ]
  },
  {
   "cell_type": "code",
   "execution_count": 1,
   "metadata": {
    "nbgrader": {
     "grade": false,
     "grade_id": "q1a",
     "locked": false,
     "schema_version": 3,
     "solution": true
    }
   },
   "outputs": [],
   "source": [
    "### BEGIN SOLUTION\n",
    "# actual values stored will differ\n",
    "var_int = 10\n",
    "var_float = 1.0 \n",
    "var_combined = var_int + var_float\n",
    "### END SOLUTION"
   ]
  },
  {
   "cell_type": "code",
   "execution_count": 2,
   "metadata": {
    "nbgrader": {
     "grade": true,
     "grade_id": "q1-t1",
     "locked": true,
     "points": 0.25,
     "schema_version": 3,
     "solution": false
    }
   },
   "outputs": [],
   "source": [
    "# check variable exists\n",
    "assert var_int is not None\n",
    "### BEGIN HIDDEN TESTS\n",
    "assert isinstance(var_int, int)\n",
    "### END HIDDEN TESTS"
   ]
  },
  {
   "cell_type": "code",
   "execution_count": 3,
   "metadata": {
    "nbgrader": {
     "grade": true,
     "grade_id": "q1-t2",
     "locked": true,
     "points": 0.25,
     "schema_version": 3,
     "solution": false
    }
   },
   "outputs": [],
   "source": [
    "# check variable exists\n",
    "assert var_float is not None\n",
    "### BEGIN HIDDEN TESTS\n",
    "assert isinstance(var_float, float)\n",
    "### END HIDDEN TESTS"
   ]
  },
  {
   "cell_type": "code",
   "execution_count": 4,
   "metadata": {
    "nbgrader": {
     "grade": true,
     "grade_id": "q1-t3",
     "locked": true,
     "points": 0.5,
     "schema_version": 3,
     "solution": false,
     "task": false
    }
   },
   "outputs": [],
   "source": [
    "# check variable exists\n",
    "assert var_combined is not None\n",
    "### BEGIN HIDDEN TESTS\n",
    "assert isinstance(var_combined, float)\n",
    "assert var_combined == var_int + var_float\n",
    "### END HIDDEN TESTS"
   ]
  },
  {
   "cell_type": "markdown",
   "metadata": {
    "nbgrader": {
     "grade": false,
     "grade_id": "q2",
     "locked": true,
     "schema_version": 3,
     "solution": false
    }
   },
   "source": [
    "### Q2 - Math Operators (1 point)\n",
    "\n",
    "In the cell below, create three variables: `var_even`, `var_odd`, and `var_operator`.\n",
    "\n",
    "Across these three variables:\n",
    "- all seven math operators (`+`, `-`, `/`, `*`, `**`, `%`, `//`) must be used _at least once_ \n",
    "- `var_even` must store an even number\n",
    "- `var_odd` must store an odd number\n",
    "- `var_operator` can include other variables/numbers but must use (refer to) the variables `var_even` *and* `var_odd` during assignment and must store (have the value) 6 (or 6.0)"
   ]
  },
  {
   "cell_type": "code",
   "execution_count": 5,
   "metadata": {
    "nbgrader": {
     "grade": false,
     "grade_id": "q2a",
     "locked": false,
     "schema_version": 3,
     "solution": true
    }
   },
   "outputs": [],
   "source": [
    "### BEGIN SOLUTION\n",
    "# actual operations will differ\n",
    "var_odd = (9 + 2 - 1) % 3\n",
    "var_even = 25 / 5 * 2 // 1\n",
    "var_operator = var_odd ** var_even + 5\n",
    "### END SOLUTION"
   ]
  },
  {
   "cell_type": "code",
   "execution_count": 6,
   "metadata": {
    "nbgrader": {
     "grade": true,
     "grade_id": "q2-t1",
     "locked": true,
     "points": 0.35,
     "schema_version": 3,
     "solution": false
    }
   },
   "outputs": [],
   "source": [
    "assert var_odd is not None\n",
    "### BEGIN HIDDEN TESTS\n",
    "assert var_odd % 2 != 0\n",
    "### END HIDDEN TESTS"
   ]
  },
  {
   "cell_type": "code",
   "execution_count": 7,
   "metadata": {
    "nbgrader": {
     "grade": true,
     "grade_id": "q2-t2",
     "locked": true,
     "points": 0.35,
     "schema_version": 3,
     "solution": false
    }
   },
   "outputs": [],
   "source": [
    "assert var_even is not None\n",
    "### BEGIN HIDDEN TESTS\n",
    "assert int(var_even % 2) == 0\n",
    "### END HIDDEN TESTS"
   ]
  },
  {
   "cell_type": "code",
   "execution_count": 8,
   "metadata": {
    "nbgrader": {
     "grade": true,
     "grade_id": "q2-t3",
     "locked": true,
     "points": 0.3,
     "schema_version": 3,
     "solution": false
    }
   },
   "outputs": [],
   "source": [
    "assert var_operator is not None\n",
    "### BEGIN HIDDEN TESTS\n",
    "assert isinstance(var_operator, float) or isinstance(var_operator, int)\n",
    "assert var_operator == 6\n",
    "### END HIDDEN TESTS"
   ]
  },
  {
   "cell_type": "markdown",
   "metadata": {
    "nbgrader": {
     "grade": false,
     "grade_id": "q3",
     "locked": true,
     "schema_version": 3,
     "solution": false
    }
   },
   "source": [
    "### Q3 - Comparison Operators (1 point)\n",
    "\n",
    "Your answer will define two variables: `true_var` and `false_var`.\n",
    "\n",
    "These variables must satisfy the following requirements:\n",
    "\n",
    "1. Each variable must be defined using *at least one* comparison operator (`<`,`>`,`<=`,`>=`,`!=`,`==`).\n",
    "2. Each variable must use and refer to at least one variables defined below (`var_low`, `var_mid`, `var_high`)\n",
    "3. Additional values and/or operators may also be used, but `true_var` must use the `or` operator; `false_var` must use the `and` operator.\n",
    "4. `true_var` should evaluate as the boolean `True`; `false_var` should evaluate as the boolean `False`"
   ]
  },
  {
   "cell_type": "code",
   "execution_count": 9,
   "metadata": {
    "nbgrader": {
     "grade": false,
     "grade_id": "cell-a2314b921e013b81",
     "locked": true,
     "schema_version": 3,
     "solution": false,
     "task": false
    }
   },
   "outputs": [],
   "source": [
    "# these variables provided for you\n",
    "# this cell is read-only (cannot be changed)\n",
    "var_low = 35 % 11\n",
    "var_mid = 5 ** 2\n",
    "var_high = (14 + 2) * 6"
   ]
  },
  {
   "cell_type": "code",
   "execution_count": 10,
   "metadata": {
    "nbgrader": {
     "grade": false,
     "grade_id": "q3a",
     "locked": false,
     "schema_version": 3,
     "solution": true
    }
   },
   "outputs": [],
   "source": [
    "### BEGIN SOLUTION\n",
    "# actual variable creation will differ\n",
    "true_var = (var_low < var_mid) or (var_high >= var_mid)\n",
    "false_var = (var_mid != var_low) and (var_high < var_mid)\n",
    "### END SOLUTION"
   ]
  },
  {
   "cell_type": "code",
   "execution_count": 11,
   "metadata": {
    "nbgrader": {
     "grade": true,
     "grade_id": "q3-t1",
     "locked": true,
     "points": 0.25,
     "schema_version": 3,
     "solution": false
    }
   },
   "outputs": [],
   "source": [
    "assert isinstance(true_var, bool)\n",
    "### BEGIN HIDDEN TESTS\n",
    "assert true_var\n",
    "### END HIDDEN TESTS"
   ]
  },
  {
   "cell_type": "code",
   "execution_count": 12,
   "metadata": {
    "nbgrader": {
     "grade": true,
     "grade_id": "q3-t2",
     "locked": true,
     "points": 0.25,
     "schema_version": 3,
     "solution": false
    }
   },
   "outputs": [],
   "source": [
    "assert isinstance(false_var, bool)\n",
    "### BEGIN HIDDEN TESTS\n",
    "assert not false_var\n",
    "### END HIDDEN TESTS"
   ]
  },
  {
   "cell_type": "markdown",
   "metadata": {
    "nbgrader": {
     "grade": false,
     "grade_id": "q3-t3",
     "locked": true,
     "points": 0.5,
     "schema_version": 3,
     "solution": false,
     "task": true
    }
   },
   "source": [
    "**This \"blank\" cell included intentionally.** Do not do anything here. (It's being used in grading.)\n",
    "\n",
    "=== BEGIN MARK SCHEME ===\n",
    "\n",
    "- both variables reference `var_low`, `var_mid`, or `var_high` at least once (0.2)\n",
    "- both variables reference use at least one comparison operator (0.2)\n",
    "- `true_var` uses `or`; `false_var` uses `and`  (0.1)\n",
    "\n",
    "=== END MARK SCHEME ===\n"
   ]
  },
  {
   "cell_type": "markdown",
   "metadata": {
    "nbgrader": {
     "grade": false,
     "grade_id": "part2",
     "locked": true,
     "schema_version": 3,
     "solution": false
    }
   },
   "source": [
    "## Part 2: Collections & Indexing  (3 points)"
   ]
  },
  {
   "cell_type": "markdown",
   "metadata": {
    "nbgrader": {
     "grade": false,
     "grade_id": "q5",
     "locked": true,
     "schema_version": 3,
     "solution": false
    }
   },
   "source": [
    "### Q4 - Lists & Indexing (2.25 points)\n",
    "\n",
    "#### Part 1 (0.75 points)\n",
    "\n",
    "Generate a list called `midterm_list` that meets the following criteria:\n",
    "\n",
    "- contains 6 elements/items \n",
    "- has 2 strings, 1 float, 1 boolean, 1 dictionary, and 1 tuple as its elements\n",
    "\n",
    "The specific elements in the list `midterm_list` are up to you and can be stored in any order/position within the list, so long as they're in there and of the types specified above."
   ]
  },
  {
   "cell_type": "code",
   "execution_count": 13,
   "metadata": {
    "nbgrader": {
     "grade": false,
     "grade_id": "q5a",
     "locked": false,
     "schema_version": 3,
     "solution": true
    }
   },
   "outputs": [],
   "source": [
    "### BEGIN SOLUTION\n",
    "# actual values will differ\n",
    "midterm_list = ['a', 'b', 2.9, True, {'A':1, 'B':2}, (2, 3)]\n",
    "### END SOLUTION"
   ]
  },
  {
   "cell_type": "code",
   "execution_count": 14,
   "metadata": {
    "nbgrader": {
     "grade": true,
     "grade_id": "q5-t1",
     "locked": true,
     "points": 0.25,
     "schema_version": 3,
     "solution": false
    }
   },
   "outputs": [],
   "source": [
    "assert midterm_list\n",
    "### BEGIN HIDDEN TESTS\n",
    "assert isinstance(midterm_list, list)\n",
    "### END HIDDEN TESTS"
   ]
  },
  {
   "cell_type": "code",
   "execution_count": 15,
   "metadata": {
    "nbgrader": {
     "grade": true,
     "grade_id": "q5-t2",
     "locked": true,
     "points": 0.25,
     "schema_version": 3,
     "solution": false
    }
   },
   "outputs": [],
   "source": [
    "#hidden test to ensure conditions specified in instructions were followed\n",
    "### BEGIN HIDDEN TESTS\n",
    "assert len(midterm_list) == 6\n",
    "### END HIDDEN TESTS"
   ]
  },
  {
   "cell_type": "code",
   "execution_count": 16,
   "metadata": {
    "nbgrader": {
     "grade": true,
     "grade_id": "q5-t3",
     "locked": true,
     "points": 0.25,
     "schema_version": 3,
     "solution": false
    }
   },
   "outputs": [],
   "source": [
    "#hidden test to ensure conditions specified in instructions were followed\n",
    "### BEGIN HIDDEN TESTS\n",
    "float_count = 0\n",
    "string_count = 0\n",
    "bool_count = 0\n",
    "dict_count = 0\n",
    "tuple_count = 0\n",
    "\n",
    "for n in midterm_list:\n",
    "    if isinstance(n, float):\n",
    "        float_count += 1\n",
    "    if isinstance(n, str):\n",
    "        string_count += 1\n",
    "    if isinstance(n, bool):\n",
    "        bool_count += 1\n",
    "    if isinstance(n, dict):\n",
    "        dict_count += 1\n",
    "    if isinstance(n, tuple):\n",
    "        tuple_count += 1\n",
    "\n",
    "assert float_count == 1\n",
    "assert string_count == 2\n",
    "assert bool_count == 1\n",
    "assert dict_count == 1\n",
    "assert tuple_count == 1\n",
    "### END HIDDEN TESTS"
   ]
  },
  {
   "cell_type": "markdown",
   "metadata": {
    "nbgrader": {
     "grade": false,
     "grade_id": "q5-2",
     "locked": true,
     "schema_version": 3,
     "solution": false,
     "task": false
    }
   },
   "source": [
    "#### Part 2 (1.5 points)\n",
    "\n",
    "Using the list you defined in Part 1 (`midterm_list`), ***use indexing*** to return the slice/element of the list specified below, storing it in the variable name provided:\n",
    "\n",
    "- `slice_1` | stores the second, third, and fourth elements in `midterm_list`\n",
    "- `slice_2` | stores the second, fourth, and sixth elements in `midterm_list`\n",
    "- `slice_3` | uses ***negative indexing*** to return the single element stored in the third position from the end of `midterm_list`\n",
    "\n",
    "Note on wording: the first _element_ in a given list is the same as the 0<sup>th</sup> _index_ of that list.\n"
   ]
  },
  {
   "cell_type": "code",
   "execution_count": 17,
   "metadata": {
    "nbgrader": {
     "grade": false,
     "grade_id": "q5-a2",
     "locked": false,
     "schema_version": 3,
     "solution": true,
     "task": false
    }
   },
   "outputs": [],
   "source": [
    "### BEGIN SOLUTION\n",
    "slice_1 = midterm_list[1:4]\n",
    "slice_2 = midterm_list[1::2]\n",
    "slice_3 = midterm_list[-3]\n",
    "### END SOLUTION"
   ]
  },
  {
   "cell_type": "code",
   "execution_count": 18,
   "metadata": {
    "nbgrader": {
     "grade": true,
     "grade_id": "q5-t4",
     "locked": true,
     "points": 0.5,
     "schema_version": 3,
     "solution": false,
     "task": false
    }
   },
   "outputs": [],
   "source": [
    "assert slice_1\n",
    "### BEGIN HIDDEN TESTS\n",
    "assert len(slice_1) == 3\n",
    "assert slice_1 == midterm_list[1:4]\n",
    "### END HIDDEN TESTS"
   ]
  },
  {
   "cell_type": "code",
   "execution_count": 19,
   "metadata": {
    "nbgrader": {
     "grade": true,
     "grade_id": "q5-t5",
     "locked": true,
     "points": 0.5,
     "schema_version": 3,
     "solution": false,
     "task": false
    }
   },
   "outputs": [],
   "source": [
    "assert slice_2\n",
    "### BEGIN HIDDEN TESTS\n",
    "assert len(slice_2) == 3\n",
    "assert slice_2 == midterm_list[1::2]\n",
    "### END HIDDEN TESTS"
   ]
  },
  {
   "cell_type": "code",
   "execution_count": 20,
   "metadata": {
    "nbgrader": {
     "grade": true,
     "grade_id": "q5-t6",
     "locked": true,
     "points": 0.5,
     "schema_version": 3,
     "solution": false,
     "task": false
    }
   },
   "outputs": [],
   "source": [
    "assert slice_3\n",
    "### BEGIN HIDDEN TESTS\n",
    "assert slice_3 == midterm_list[-3]\n",
    "### END HIDDEN TESTS"
   ]
  },
  {
   "cell_type": "markdown",
   "metadata": {
    "nbgrader": {
     "grade": false,
     "grade_id": "q6",
     "locked": true,
     "schema_version": 3,
     "solution": false
    }
   },
   "source": [
    "### Q5 - Dictionaries (0.75 points)\n",
    "\n",
    "Generate a dictionary called `midterm_dict` that meets the following criteria:\n",
    "\n",
    "- has three keys: 'name', 'favorite_game', and 'height'\n",
    "- stores _your_ `name` (string), `favorite_game` (string), and `height` (int) in inches as each key's value\n",
    "\n",
    "(Note: I don't care if you use your real name, favorite_game, and height as the values in the dictionary, so long as they are of the specified type.)"
   ]
  },
  {
   "cell_type": "code",
   "execution_count": 21,
   "metadata": {
    "nbgrader": {
     "grade": false,
     "grade_id": "q6a",
     "locked": false,
     "schema_version": 3,
     "solution": true
    },
    "scrolled": true
   },
   "outputs": [],
   "source": [
    "### BEGIN SOLUTION\n",
    "midterm_dict = {'name': 'Shannon',\n",
    "               'favorite_game' : 'Coup',\n",
    "               'height': 65}\n",
    "### END SOLUTION"
   ]
  },
  {
   "cell_type": "code",
   "execution_count": 22,
   "metadata": {
    "nbgrader": {
     "grade": true,
     "grade_id": "q6-t1",
     "locked": true,
     "points": 0.25,
     "schema_version": 3,
     "solution": false
    }
   },
   "outputs": [],
   "source": [
    "assert midterm_dict\n",
    "### BEGIN HIDDEN TESTS\n",
    "assert isinstance(midterm_dict, dict)\n",
    "### END HIDDEN TESTS"
   ]
  },
  {
   "cell_type": "code",
   "execution_count": 23,
   "metadata": {
    "nbgrader": {
     "grade": true,
     "grade_id": "q6-t2",
     "locked": true,
     "points": 0.25,
     "schema_version": 3,
     "solution": false
    }
   },
   "outputs": [],
   "source": [
    "#hidden test to ensure conditions specified in instructions were followed\n",
    "### BEGIN HIDDEN TESTS\n",
    "assert len(midterm_dict) == 3\n",
    "### END HIDDEN TESTS"
   ]
  },
  {
   "cell_type": "code",
   "execution_count": 24,
   "metadata": {
    "nbgrader": {
     "grade": true,
     "grade_id": "q6-t3",
     "locked": true,
     "points": 0.25,
     "schema_version": 3,
     "solution": false
    }
   },
   "outputs": [],
   "source": [
    "#hidden test to ensure conditions specified in instructions were followed\n",
    "### BEGIN HIDDEN TESTS\n",
    "assert isinstance(midterm_dict['name'], str)\n",
    "assert isinstance(midterm_dict['favorite_game'], str)\n",
    "assert isinstance(midterm_dict['height'], int)\n",
    "### END HIDDEN TESTS"
   ]
  },
  {
   "cell_type": "markdown",
   "metadata": {
    "nbgrader": {
     "grade": false,
     "grade_id": "cell-08558daba596965c",
     "locked": true,
     "schema_version": 3,
     "solution": false
    }
   },
   "source": [
    "## Part 3: Control Flow - Conditionals & Loops  (6.5 points)"
   ]
  },
  {
   "cell_type": "markdown",
   "metadata": {
    "nbgrader": {
     "grade": false,
     "grade_id": "q7",
     "locked": true,
     "schema_version": 3,
     "solution": false
    }
   },
   "source": [
    "### Q6 - Conditionals (1.5 points)\n",
    "\n",
    "Write a conditional that will determine if you are taller, the same height as, or shorter than Professor Ellis. \n",
    "\n",
    "To do this, you will access (meaning, refer to) the `midterm_dict` dictionary you created in Q6 and compare *your* height with the height specified in the `height` value in the `prof_dict` dictionary defined below. \n",
    "\n",
    "If you are:\n",
    "-  taller than Prof. Ellis, store the string 'taller' in the variable `output`\n",
    "- shorter than Prof. Ellis, store the string 'shorter' in the variable `output`\n",
    "- the same height as Prof Ellis, store the string 'same height' in the variable `output`\n",
    "\n",
    "Notes: \n",
    "1. Do not hard-code. This means your code should work (store the correct string in `output`) regardless of the specific value stored for `height` in `midterm_dict`. In other words, you must use the code constructs from class to determine your answer.\n",
    "2. Spelling/capitalization of the string stored in `output` matter. Be sure it matches the string specified in the instructions above."
   ]
  },
  {
   "cell_type": "code",
   "execution_count": 25,
   "metadata": {
    "nbgrader": {
     "grade": false,
     "grade_id": "q7a",
     "locked": false,
     "schema_version": 3,
     "solution": true
    }
   },
   "outputs": [],
   "source": [
    "# prof_dict is provided for you\n",
    "# do not change height value - it should be 65\n",
    "prof_dict = {'height': 65}\n",
    "\n",
    "### BEGIN SOLUTION\n",
    "# output will differ based on who is taking the exam\n",
    "if midterm_dict['height'] < prof_dict['height']:\n",
    "    output = 'shorter'\n",
    "elif midterm_dict['height'] > prof_dict['height']:\n",
    "    output = 'taller'\n",
    "elif midterm_dict['height'] == prof_dict['height']:\n",
    "    output = 'same height'\n",
    "else:\n",
    "    output = 'not possible'\n",
    "### END SOLUTION"
   ]
  },
  {
   "cell_type": "code",
   "execution_count": 26,
   "metadata": {
    "nbgrader": {
     "grade": true,
     "grade_id": "q7-t1",
     "locked": true,
     "points": 0.5,
     "schema_version": 3,
     "solution": false
    }
   },
   "outputs": [],
   "source": [
    "assert output\n",
    "# test to ensure no typos in string\n",
    "assert output in ['shorter', 'taller', 'same height']\n",
    "### BEGIN HIDDEN TESTS\n",
    "if midterm_dict['height'] < prof_dict['height']:\n",
    "    test = 'shorter'\n",
    "elif midterm_dict['height'] > prof_dict['height']:\n",
    "    test = 'taller'\n",
    "elif midterm_dict['height'] == prof_dict['height']:\n",
    "    test = 'same height'\n",
    "else:\n",
    "    test = 'not possible'\n",
    "\n",
    "assert test == output\n",
    "### END HIDDEN TESTS"
   ]
  },
  {
   "cell_type": "markdown",
   "metadata": {
    "nbgrader": {
     "grade": false,
     "grade_id": "q7-t2",
     "locked": true,
     "points": 1,
     "schema_version": 3,
     "solution": false,
     "task": true
    }
   },
   "source": [
    "**This \"blank\" cell included intentionally.** Do not do anything here. (It's being used in grading.)\n",
    "\n",
    "\n",
    "=== BEGIN MARK SCHEME ===\n",
    "\n",
    "- uses if, elif, else OR if, elif, elif syntax correctly (0.25)\n",
    "- conditionals correct (0.5 points)\n",
    "- `output` assigned a string value (even if there are typos in string) (0.25)\n",
    "\n",
    "=== END MARK SCHEME ==="
   ]
  },
  {
   "cell_type": "markdown",
   "metadata": {
    "nbgrader": {
     "grade": false,
     "grade_id": "q8",
     "locked": true,
     "schema_version": 3,
     "solution": false
    }
   },
   "source": [
    "### Q7 - Accomplishing a task (5 points)\n",
    "\n",
    "Background: Professor Ellis has made a mess of her to do list (`to_do_list`, provided below). She accidentally combined her to do list with her grocery list and the the her daily step count from last week. She needs your help to detangle this mess!\n",
    "\n",
    "**Part I (2.5 points)**\n",
    "\n",
    "Your job is to separate `to_do_list` out into three separate lists:\n",
    "- `steps` - a list of all the steps from last week (you know which values these are becuase they are integer values)\n",
    "- `to_do` - a list that contains the to do list items (you know which values these are because they contain 'cogs' in the string)\n",
    "- `grocery` - a list of all of the grocery list items (you know which values these are because they do NOT contain 'cogs' in the string)\n",
    "\n",
    "Each of the above lists should contain only the elements from `to_do_list` that match the specified description above. Specifically:\n",
    "- `steps` should be a list of integers\n",
    "- `to_do` should be a list of strings \n",
    "- `grocery` should be a list of strings\n",
    "\n",
    "The values in `steps`, `to_do`, and `grocery` should appear in the same relative order as in the original list (`to_do_list`).\n",
    "\n",
    "Note: This should not be hard-coded. Your answer should use code constructs discussed in class. In other words, your code should produce the correct lists, regardless of the specific values in `to_do_list`."
   ]
  },
  {
   "cell_type": "code",
   "execution_count": 27,
   "metadata": {
    "nbgrader": {
     "grade": false,
     "grade_id": "cell-b6b412d82661cc94",
     "locked": true,
     "schema_version": 3,
     "solution": false,
     "task": false
    }
   },
   "outputs": [],
   "source": [
    "# run this to create list\n",
    "to_do_list = ['mushrooms', 'peanut butter', 'release cogs18 exam', 10000, 8500, \n",
    "              'release cogs108 lab', 6000, 'tahini', 15000, 'post cogs18 lectures', \n",
    "              'post cogs108 lectures', 'release cogs18 practice exam', 12000, 'pineapple', \n",
    "              'udon noodles', 18000, 8000, 'romaine lettuce']"
   ]
  },
  {
   "cell_type": "code",
   "execution_count": 28,
   "metadata": {
    "nbgrader": {
     "grade": false,
     "grade_id": "q8a",
     "locked": false,
     "schema_version": 3,
     "solution": true
    }
   },
   "outputs": [],
   "source": [
    "### BEGIN SOLUTION\n",
    "# there is more than one correct approach here\n",
    "steps = []\n",
    "to_do = []\n",
    "grocery = []\n",
    "\n",
    "for value in to_do_list:\n",
    "    if isinstance(value, int):\n",
    "        steps.append(value)\n",
    "    else:\n",
    "        if 'cogs' in value:\n",
    "            to_do.append(value)\n",
    "        else: \n",
    "            grocery.append(value)\n",
    "### END SOLUTION"
   ]
  },
  {
   "cell_type": "code",
   "execution_count": 29,
   "metadata": {
    "nbgrader": {
     "grade": true,
     "grade_id": "q8-t1",
     "locked": true,
     "points": 0.5,
     "schema_version": 3,
     "solution": false
    }
   },
   "outputs": [],
   "source": [
    "assert grocery\n",
    "### BEGIN HIDDEN TESTS\n",
    "assert grocery == ['mushrooms', 'peanut butter',\n",
    "                   'tahini', 'pineapple', 'udon noodles',\n",
    "                   'romaine lettuce']\n",
    "### END HIDDEN TESTS"
   ]
  },
  {
   "cell_type": "code",
   "execution_count": 30,
   "metadata": {
    "nbgrader": {
     "grade": true,
     "grade_id": "q8-t2",
     "locked": true,
     "points": 0.5,
     "schema_version": 3,
     "solution": false,
     "task": false
    }
   },
   "outputs": [],
   "source": [
    "assert steps\n",
    "### BEGIN HIDDEN TESTS\n",
    "assert steps == [10000, 8500, 6000, 15000, 12000, 18000, 8000]\n",
    "### END HIDDEN TESTS"
   ]
  },
  {
   "cell_type": "code",
   "execution_count": 31,
   "metadata": {
    "nbgrader": {
     "grade": true,
     "grade_id": "q8-t3",
     "locked": true,
     "points": 0.5,
     "schema_version": 3,
     "solution": false,
     "task": false
    }
   },
   "outputs": [],
   "source": [
    "assert to_do\n",
    "### BEGIN HIDDEN TESTS\n",
    "assert to_do ==  ['release cogs18 exam', 'release cogs108 lab',\n",
    "                  'post cogs18 lectures', 'post cogs108 lectures',\n",
    "                  'release cogs18 practice exam']\n",
    "### END HIDDEN TESTS"
   ]
  },
  {
   "cell_type": "markdown",
   "metadata": {
    "nbgrader": {
     "grade": false,
     "grade_id": "q8-t4",
     "locked": true,
     "points": 1,
     "schema_version": 3,
     "solution": false,
     "task": true
    }
   },
   "source": [
    "**This \"blank\" cell included intentionally.** Do not do anything here. (It's being used in grading.)\n",
    "\n",
    "=== BEGIN MARK SCHEME ===\n",
    "- empty lists initialized (0.25)\n",
    "- for loop set up correctly (0.25)\n",
    "- conditionals correct (0.25)\n",
    "- list appended correctly (0.25)\n",
    "\n",
    "=== END MARK SCHEME ==="
   ]
  },
  {
   "cell_type": "markdown",
   "metadata": {
    "nbgrader": {
     "grade": false,
     "grade_id": "q8-part2",
     "locked": true,
     "schema_version": 3,
     "solution": false
    }
   },
   "source": [
    "**Part II (2.5 points)**\n",
    "\n",
    "Now that you've got the `steps` extracted, Professor Ellis needs a dictionary of which steps she took on which day. \n",
    "\n",
    "Using the values in your list `steps`, create a dictionary `steps_dict` that stores each value as a different day's steps, starting with 'Monday'. For example, the first value in the `steps` list will be the value for the key 'Monday', the second for 'Tuesday', so on and so forth. \n",
    "\n",
    "Be sure to spell out the day of the week, using a capital letter for the first letter in the day. The list `days_of_week` has been provided, as it may be helpful in answering the question.\n",
    "\n",
    "Note: This should not be hard-coded. Your answer should use code constructs discussed in class. In other words, your code should produce the correct `steps_dict` if the specific values in `steps` were to change/differ."
   ]
  },
  {
   "cell_type": "code",
   "execution_count": 32,
   "metadata": {
    "nbgrader": {
     "grade": false,
     "grade_id": "cell-5cff03fed2f31ba8",
     "locked": true,
     "schema_version": 3,
     "solution": false,
     "task": false
    }
   },
   "outputs": [],
   "source": [
    "# provided if helpful\n",
    "days_of_week = ['Monday', 'Tuesday', 'Wednesday', 'Thursday', 'Friday', 'Saturday', 'Sunday']"
   ]
  },
  {
   "cell_type": "code",
   "execution_count": 33,
   "metadata": {
    "nbgrader": {
     "grade": false,
     "grade_id": "q9a",
     "locked": false,
     "schema_version": 3,
     "solution": true
    }
   },
   "outputs": [
    {
     "data": {
      "text/plain": [
       "{'Monday': 10000,\n",
       " 'Tuesday': 8500,\n",
       " 'Wednesday': 6000,\n",
       " 'Thursday': 15000,\n",
       " 'Friday': 12000,\n",
       " 'Saturday': 18000,\n",
       " 'Sunday': 8000}"
      ]
     },
     "execution_count": 33,
     "metadata": {},
     "output_type": "execute_result"
    }
   ],
   "source": [
    "### BEGIN SOLUTION\n",
    "days_of_week = ['Monday', 'Tuesday', 'Wednesday', 'Thursday', 'Friday', 'Saturday', 'Sunday']\n",
    "steps_dict = {}\n",
    "\n",
    "# there is more than one approach here\n",
    "for i in range(0,7):\n",
    "    key = days_of_week[i]\n",
    "    val = steps[i]\n",
    "    steps_dict[key] = val\n",
    "    \n",
    "steps_dict\n",
    "### END SOLUTION"
   ]
  },
  {
   "cell_type": "code",
   "execution_count": 34,
   "metadata": {
    "nbgrader": {
     "grade": true,
     "grade_id": "q8-t5",
     "locked": true,
     "points": 0.25,
     "schema_version": 3,
     "solution": false,
     "task": false
    }
   },
   "outputs": [],
   "source": [
    "assert steps_dict \n",
    "### BEGIN HIDDEN TESTS\n",
    "# check to be sure all keys are strings\n",
    "assert all(isinstance(x, str) for x in list(steps_dict.keys()))\n",
    "### END HIDDEN TESTS"
   ]
  },
  {
   "cell_type": "code",
   "execution_count": 35,
   "metadata": {
    "nbgrader": {
     "grade": true,
     "grade_id": "q8-t6",
     "locked": true,
     "points": 0.25,
     "schema_version": 3,
     "solution": false,
     "task": false
    }
   },
   "outputs": [],
   "source": [
    "assert isinstance(steps_dict, dict) \n",
    "### BEGIN HIDDEN TESTS\n",
    "# check to be sure all values are integers\n",
    "assert all(isinstance(x, int) for x in list(steps_dict.values()))\n",
    "### END HIDDEN TESTS"
   ]
  },
  {
   "cell_type": "code",
   "execution_count": 36,
   "metadata": {
    "nbgrader": {
     "grade": true,
     "grade_id": "q8-t7",
     "locked": true,
     "points": 0.5,
     "schema_version": 3,
     "solution": false
    }
   },
   "outputs": [],
   "source": [
    "# hidden test to check the keys in the dictionary\n",
    "### BEGIN HIDDEN TESTS\n",
    "assert set(list(steps_dict.keys())) ==  set(days_of_week)\n",
    "### END HIDDEN TESTS"
   ]
  },
  {
   "cell_type": "code",
   "execution_count": 37,
   "metadata": {
    "nbgrader": {
     "grade": true,
     "grade_id": "q8-t8",
     "locked": true,
     "points": 0.5,
     "schema_version": 3,
     "solution": false,
     "task": false
    }
   },
   "outputs": [],
   "source": [
    "# hidden test to check the values in the dictionary\n",
    "### BEGIN HIDDEN TESTS\n",
    "assert sum(steps_dict.values()) ==  77500\n",
    "### END HIDDEN TESTS"
   ]
  },
  {
   "cell_type": "markdown",
   "metadata": {
    "nbgrader": {
     "grade": false,
     "grade_id": "q8-t9",
     "locked": true,
     "points": 1,
     "schema_version": 3,
     "solution": false,
     "task": true
    }
   },
   "source": [
    "**This \"blank\" cell included intentionally.** Do not do anything here. (It's being used in grading.)\n",
    "\n",
    "\n",
    "=== BEGIN MARK SCHEME ===\n",
    "- dictionary initialized (0.25)\n",
    "- loop set up correctly (0.25)\n",
    "- key and val accessed correctly (0.25)\n",
    "- new value assigned to steps_dict correctly (0.25)\n",
    "\n",
    "=== END MARK SCHEME ==="
   ]
  },
  {
   "cell_type": "markdown",
   "metadata": {
    "nbgrader": {
     "grade": false,
     "grade_id": "fin",
     "locked": true,
     "schema_version": 3,
     "solution": false
    }
   },
   "source": [
    "### Submit on Datahub\n",
    "\n",
    "Good work - you're done!\n",
    "\n",
    "Check your work, and then when you're ready, **submit on datahub**.\n",
    "\n",
    "We will not have your exam until you click submit and see this show up under 'submitted assignments'."
   ]
  }
 ],
 "metadata": {
  "celltoolbar": "Create Assignment",
  "kernelspec": {
   "display_name": "Python 3",
   "language": "python",
   "name": "python3"
  },
  "language_info": {
   "codemirror_mode": {
    "name": "ipython",
    "version": 3
   },
   "file_extension": ".py",
   "mimetype": "text/x-python",
   "name": "python",
   "nbconvert_exporter": "python",
   "pygments_lexer": "ipython3",
   "version": "3.7.9"
  }
 },
 "nbformat": 4,
 "nbformat_minor": 2
}
