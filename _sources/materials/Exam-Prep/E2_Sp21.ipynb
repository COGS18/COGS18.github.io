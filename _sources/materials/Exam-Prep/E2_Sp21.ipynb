{
 "cells": [
  {
   "cell_type": "markdown",
   "metadata": {
    "nbgrader": {
     "grade": false,
     "grade_id": "intro",
     "locked": true,
     "schema_version": 3,
     "solution": false
    }
   },
   "source": [
    "# COGS 18 - Exam 2\n",
    "\n",
    "This is the second exam for Spring 2021. It covers topics through the Classes Lecture.\n",
    "\n",
    "This total exam is out of 12.5 points, worth 12.5% of your grade. \n",
    "\n",
    "**PLEASE DO NOT CHANGE THE NAME OF THIS FILE.**\n",
    "\n",
    "**PLEASE DO NOT COPY & PASTE OR DELETE CELLS INLCUDED IN THE EXAM.** (Note that you can add additional cells, if you want to test things out."
   ]
  },
  {
   "cell_type": "markdown",
   "metadata": {
    "nbgrader": {
     "grade": false,
     "grade_id": "instructions",
     "locked": true,
     "schema_version": 3,
     "solution": false
    }
   },
   "source": [
    "## Instructions\n",
    "\n",
    "#### Timing\n",
    "- The exam is designed to take you ~1h.\n",
    "- There will be a 24 hour window during which you can complete this exam (due Tues 8AM).\n",
    "- If it takes you longer than 1h, you're free to use that time.\n",
    "\n",
    "#### The Rules\n",
    "- You are to complete this exam on your own.\n",
    "- This is open-notes & open-Google\n",
    "- You may not talk to any humans about this exam. \n",
    "- The following are all *prohibited*:\n",
    "    - text/phone/online chat communication\n",
    "    - posting questions to a message board where a human could respond (Campuswire, Discord, Chegg, any similar site)\n",
    "    - viewing exam questions from a message board (as described above)\n",
    "    - asking anyone via any form about a question on this test directly\n",
    "- Clarification questions will ***not*** be allowed and there will be no posting on Campuswire about the exam at all. \n",
    "    - Campuswire posts about the exam will not be answered and will be deleted. \n",
    "    - Students who post questions about the exam to Campuswire are at risk of losing points on the exam.\n",
    "    - If you are confused about wording, add a note to your exam explaining your confusion and how you interpreted the question. \n",
    "    - Note: This policy is b/c we are incapable of responding for 24h straight. This is the only way to make it fair across the board for students."
   ]
  },
  {
   "cell_type": "markdown",
   "metadata": {
    "nbgrader": {
     "grade": false,
     "grade_id": "cell-26b08bd4b5ba54ab",
     "locked": true,
     "schema_version": 3,
     "solution": false
    }
   },
   "source": [
    " <span style=\"color: red;\">Note: </span> There _is_ a chance for partial credit on some questions, so _some_ code is better than _no_ code. Even if it throws an error, having some code that partially answers the question will benefit you/your grade."
   ]
  },
  {
   "cell_type": "markdown",
   "metadata": {
    "nbgrader": {
     "grade": false,
     "grade_id": "cell-4d8581ac45c24683",
     "locked": true,
     "schema_version": 3,
     "solution": false,
     "task": false
    }
   },
   "source": [
    "### Q0 - Honor Code (0.1 points)\n",
    "\n",
    "In the cell below, include a variable `honor_code` that stores the boolean `True` if you agree to the following statement:\n",
    "\n",
    ">I agree that this exam was completed individually with the knowlege in my brain, information the notes from this course, and/or with searching for help on the Internet *without searching for answers to the text from these questions directly*. I did not ask anyone about specific questions on this exam. I did not post these questions (in part or in whole) on the Internet. I did not copy answers to these questions from anywhere or anyone else. I understand all code I've written on this exam and could explain my answers to someone else if asked.\n"
   ]
  },
  {
   "cell_type": "code",
   "execution_count": 1,
   "metadata": {
    "nbgrader": {
     "grade": false,
     "grade_id": "cell-9dae831891d7a1ad",
     "locked": false,
     "schema_version": 3,
     "solution": true,
     "task": false
    }
   },
   "outputs": [],
   "source": [
    "### BEGIN SOLUTION\n",
    "honor_code = True\n",
    "### END SOLUTION"
   ]
  },
  {
   "cell_type": "code",
   "execution_count": 2,
   "metadata": {
    "nbgrader": {
     "grade": true,
     "grade_id": "cell-8a6d1a928512e45c",
     "locked": true,
     "points": 0.1,
     "schema_version": 3,
     "solution": false,
     "task": false
    }
   },
   "outputs": [],
   "source": [
    "assert honor_code"
   ]
  },
  {
   "cell_type": "markdown",
   "metadata": {
    "nbgrader": {
     "grade": false,
     "grade_id": "part2",
     "locked": true,
     "schema_version": 3,
     "solution": false,
     "task": false
    }
   },
   "source": [
    "## Part 1: Methods & Debugging (3.5 points)"
   ]
  },
  {
   "cell_type": "markdown",
   "metadata": {
    "nbgrader": {
     "grade": false,
     "grade_id": "q5",
     "locked": true,
     "schema_version": 3,
     "solution": false,
     "task": false
    }
   },
   "source": [
    "### Q1 - Method I (0.75 points)\n",
    "\n",
    "`isalnum()` is a string method that determines if all the characters in a string are alphanumeric (meaning letters or numbers: A-Z, a-z, 0-9).\n",
    "\n",
    "Use the `isalnum()` method on two strings (of your choosing) below to create two variables:\n",
    "- `true_var` | should store the value `True`\n",
    "- `false_var` | should store the value `False`"
   ]
  },
  {
   "cell_type": "code",
   "execution_count": 3,
   "metadata": {
    "nbgrader": {
     "grade": false,
     "grade_id": "cell-09260f9c394a5905",
     "locked": false,
     "schema_version": 3,
     "solution": true,
     "task": false
    }
   },
   "outputs": [],
   "source": [
    "### BEGIN SOLUTION\n",
    "true_var = 'asdf123'.isalnum()\n",
    "false_var = '!!!!'.isalnum()\n",
    "### END SOLUTION"
   ]
  },
  {
   "cell_type": "code",
   "execution_count": 4,
   "metadata": {
    "nbgrader": {
     "grade": true,
     "grade_id": "cell-e9a5e70357e98aef",
     "locked": true,
     "points": 0.2,
     "schema_version": 3,
     "solution": false,
     "task": false
    }
   },
   "outputs": [],
   "source": [
    "assert true_var is not None\n",
    "### BEGIN HIDDEN TESTS\n",
    "assert true_var\n",
    "### END HIDDEN TESTS"
   ]
  },
  {
   "cell_type": "code",
   "execution_count": 5,
   "metadata": {
    "nbgrader": {
     "grade": true,
     "grade_id": "cell-12001d8195362930",
     "locked": true,
     "points": 0.2,
     "schema_version": 3,
     "solution": false,
     "task": false
    }
   },
   "outputs": [],
   "source": [
    "assert false_var is not None\n",
    "### BEGIN HIDDEN TESTS\n",
    "assert not false_var\n",
    "### END HIDDEN TESTS"
   ]
  },
  {
   "cell_type": "markdown",
   "metadata": {
    "nbgrader": {
     "grade": false,
     "grade_id": "cell-122f520b60ffe1a4",
     "locked": true,
     "points": 0.35,
     "schema_version": 3,
     "solution": false,
     "task": true
    }
   },
   "source": [
    "**This \"blank\" cell included intentionally.** Do not do anything here. (It's being used in grading.)\n",
    "\n",
    "=== BEGIN MARK SCHEME ===\n",
    "\n",
    "- uses `isalnum()` syntax correctly (**0.35 pts**)\n",
    "\n",
    "=== END MARK SCHEME ==="
   ]
  },
  {
   "cell_type": "markdown",
   "metadata": {
    "nbgrader": {
     "grade": false,
     "grade_id": "q4",
     "locked": true,
     "schema_version": 3,
     "solution": false,
     "task": false
    }
   },
   "source": [
    "### Q2 - Method II (1.25 points)\n",
    "\n",
    "Here, `site_days` and `days_of_week` have been provided for you. \n",
    "- `site_days`: is a (totally made up) list of days on which people received their vaccinations\n",
    "- `days_of_week`: a tuple containing the days of the week\n",
    "\n",
    "Note: `count()` is a list method that counts the number of appearances of a specified element in a list.\n",
    "\n",
    "Using the `count()` method, code constructs discussed in class, and referencing the two variables provided, generate a dictionary:\n",
    " - `days_summary`  | whose keys are each of the days of the week in `days_of_week` and whose corresponding values are the number of times each day shows up in `site_days`.\n",
    "\n",
    "Note: Do not hard-code. You should use code contructs to determine `days_summary`."
   ]
  },
  {
   "cell_type": "code",
   "execution_count": 6,
   "metadata": {
    "nbgrader": {
     "grade": false,
     "grade_id": "cell-95584769973d2b99",
     "locked": true,
     "schema_version": 3,
     "solution": false,
     "task": false
    }
   },
   "outputs": [],
   "source": [
    "site_days = ['M', 'W', 'Th', 'F', 'Tu', 'Sa', 'Su', 'W', 'Su', 'Su',\n",
    "             'M', 'Th', 'Th', 'Sa', 'M', 'W', 'Sa', 'Tu', 'Sa', 'Su',\n",
    "             'Su', 'Tu', 'F', 'Sa', 'F', 'W', 'M', 'M', 'Su', 'F',\n",
    "             'Sa', 'W', 'F', 'W', 'F', 'Sa', 'Tu', 'W', 'Sa', 'Th',\n",
    "             'W', 'Sa', 'Tu', 'W', 'Tu', 'Sa', 'Th', 'W', 'F', 'W',\n",
    "             'F', 'Su', 'Th', 'Tu', 'Tu', 'Sa', 'F', 'M', 'Th', 'Tu',\n",
    "             'M', 'M', 'M', 'Th', 'Sa', 'Sa', 'F', 'Th', 'Tu', 'M',\n",
    "             'M', 'Tu', 'W', 'Tu', 'Su', 'Sa', 'Su', 'F', 'F', 'Su',\n",
    "             'Sa', 'Th', 'F', 'W', 'W', 'Sa', 'Su', 'W', 'Sa', 'Su',            \n",
    "            ]\n",
    "days_of_week = ('M', 'Tu', 'W', 'Th', 'F', 'Sa', 'Su')"
   ]
  },
  {
   "cell_type": "code",
   "execution_count": 7,
   "metadata": {
    "nbgrader": {
     "grade": true,
     "grade_id": "cell-7a6a3d58d51c19da",
     "locked": true,
     "points": 0,
     "schema_version": 3,
     "solution": false,
     "task": false
    }
   },
   "outputs": [],
   "source": [
    "# hidden test being used in grading\n",
    "### BEGIN HIDDEN TESTS\n",
    "site_days = ['M', 'M', 'M', 'M']\n",
    "days_of_week = ('M', 'Tu', 'W', 'Th', 'F', 'Sa', 'Su')\n",
    "### END HIDDEN TESTS"
   ]
  },
  {
   "cell_type": "code",
   "execution_count": 8,
   "metadata": {
    "nbgrader": {
     "grade": false,
     "grade_id": "cell-3c6ed1cf0c8f8681",
     "locked": false,
     "schema_version": 3,
     "solution": true,
     "task": false
    }
   },
   "outputs": [],
   "source": [
    "### BEGIN SOLUTION\n",
    "days_summary = {}\n",
    "\n",
    "for day in days_of_week:\n",
    "    days_summary[day] = site_days.count(day)\n",
    "### END SOLUTION"
   ]
  },
  {
   "cell_type": "code",
   "execution_count": 9,
   "metadata": {
    "nbgrader": {
     "grade": true,
     "grade_id": "cell-8e0910a9129a07a1",
     "locked": true,
     "points": 0.25,
     "schema_version": 3,
     "solution": false,
     "task": false
    }
   },
   "outputs": [],
   "source": [
    "assert days_summary is not None\n",
    "### BEGIN HIDDEN TESTS\n",
    "assert list(days_summary.keys()) == ['M', 'Tu', 'W', 'Th',\n",
    "                                     'F', 'Sa', 'Su']\n",
    "### END HIDDEN TESTS"
   ]
  },
  {
   "cell_type": "code",
   "execution_count": 10,
   "metadata": {
    "nbgrader": {
     "grade": true,
     "grade_id": "cell-98ba1271640a9369",
     "locked": true,
     "points": 0.25,
     "schema_version": 3,
     "solution": false,
     "task": false
    }
   },
   "outputs": [],
   "source": [
    "# hidden tests for task above\n",
    "### BEGIN HIDDEN TESTS\n",
    "assert list(days_summary.values()) == [4, 0, 0, 0, 0, 0, 0]\n",
    "### END HIDDEN TESTS"
   ]
  },
  {
   "cell_type": "markdown",
   "metadata": {
    "nbgrader": {
     "grade": false,
     "grade_id": "cell-ecd4036e4d373194",
     "locked": true,
     "points": 0.75,
     "schema_version": 3,
     "solution": false,
     "task": true
    }
   },
   "source": [
    "**This \"blank\" cell included intentionally.** Do not do anything here. (It's being used in grading.)\n",
    "\n",
    "=== BEGIN MARK SCHEME ===\n",
    "\n",
    "Check if points lost on autograder above: \n",
    "- initialized or created `days_summary` as a dictionary (**0.25 pts**)\n",
    "- Used count() method correctly (**0.25 pts**)\n",
    "- updated `days_summary` dictionary correctly (**0.25 pts**)\n",
    "\n",
    "=== END MARK SCHEME ==="
   ]
  },
  {
   "cell_type": "markdown",
   "metadata": {
    "nbgrader": {
     "grade": false,
     "grade_id": "q6",
     "locked": true,
     "schema_version": 3,
     "solution": false,
     "task": false
    }
   },
   "source": [
    "### Q3 - Debugging (1.5 points)\n",
    "\n",
    "The following not-totally-functioning `growth_rate()` function has been provided for you. The *goal* of this function, is given two population inputs: `last_year`, `this_year`, the function should return the population growth rate for that country.\n",
    "\n",
    "For example, in 2020, China's population was `1439323776`. This year, its population is `1444216107`.\n",
    "\n",
    "Population growth rate is calculated by taking the difference between this year's population minus last year's population, dividng that difference by last year's population, and multiplying the entire quantity by 100.\n",
    "\n",
    "Given China's numbers above and this calculation, we know that this function should return `0.34`...but it's not at this point.\n",
    "\n",
    "Consider the function currently and then debug (you can edit the code provided directly or copy and paste below so you still have the original if needed) to accomplish the task specified above. \n",
    "\n",
    "Note: Do not change the name of the function (`growth_rate`), and the parameter names provided in the instructions (`last_year`, `this_year`) must be used."
   ]
  },
  {
   "cell_type": "code",
   "execution_count": 11,
   "metadata": {
    "nbgrader": {
     "grade": false,
     "grade_id": "cell-62a0b0b8b94f6e92",
     "locked": false,
     "schema_version": 3,
     "solution": true,
     "task": false
    }
   },
   "outputs": [],
   "source": [
    "def growth_rate(self, this_year, last_year):\n",
    "    self.this_year - self.last_year/self.last_year * 100\n",
    "\n",
    "### BEGIN SOLUTION\n",
    "def growth_rate(this_year, last_year):\n",
    "    return ((this_year - last_year)/last_year) * 100\n",
    "### END SOLUTION"
   ]
  },
  {
   "cell_type": "code",
   "execution_count": 12,
   "metadata": {},
   "outputs": [],
   "source": [
    "# BE SURE YOUR ANSWER IS IN THE CELL ABOVE\n",
    "# but you can use this cell to test/execute/check your thinking (optional)"
   ]
  },
  {
   "cell_type": "code",
   "execution_count": 13,
   "metadata": {
    "nbgrader": {
     "grade": true,
     "grade_id": "cell-e866cc0e17b6f2ba",
     "locked": true,
     "points": 0.5,
     "schema_version": 3,
     "solution": false,
     "task": false
    }
   },
   "outputs": [],
   "source": [
    "assert growth_rate\n",
    "### BEGIN HIDDEN TESTS\n",
    "from numpy import isclose\n",
    "assert isclose(growth_rate(last_year=331002651, \n",
    "                           this_year=332915073), 0.58, 0.01)\n",
    "### END HIDDEN TESTS\n"
   ]
  },
  {
   "cell_type": "markdown",
   "metadata": {
    "nbgrader": {
     "grade": false,
     "grade_id": "cell-e5b7221fc75de9ba",
     "locked": true,
     "points": 1,
     "schema_version": 3,
     "solution": false,
     "task": true
    }
   },
   "source": [
    "**This \"blank\" cell included intentionally.** Do not do anything here. (It's being used in grading.)\n",
    "\n",
    "=== BEGIN MARK SCHEME ===\n",
    "\n",
    "Check if points lost on autograder above: \n",
    "- `self` removed as a parameter (**0.25 pts**)\n",
    "- `self` removed from within function (**0.25 pts**)\n",
    "- parentheses added/Order of operations accounted for (**0.25 pts**)\n",
    "- `reuturn` statement added (**0.25 pts**)\n",
    "                                                              \n",
    "=== END MARK SCHEME ==="
   ]
  },
  {
   "cell_type": "markdown",
   "metadata": {
    "nbgrader": {
     "grade": false,
     "grade_id": "part1",
     "locked": true,
     "schema_version": 3,
     "solution": false
    }
   },
   "source": [
    "## Part 2: Functions (4.4 points)"
   ]
  },
  {
   "cell_type": "markdown",
   "metadata": {
    "nbgrader": {
     "grade": false,
     "grade_id": "q1",
     "locked": true,
     "schema_version": 3,
     "solution": false,
     "task": false
    }
   },
   "source": [
    "### Q4 - Function Execution (1 point)\n",
    "\n",
    "The function `count_sentences()` has been provided for you below. Note that `split()` is a string method that splits a string at the character specified within the parentheses of the method call.\n",
    "\n",
    "**Part 1** (0.75 points)\n",
    "\n",
    "First, in the cell provided below containing `YOUR ANSWER HERE`, describe what the `count_sentences()` function accomplishes. This should include both 1) the overall task accomplished and 2) how the specific code used accomplishes this task."
   ]
  },
  {
   "cell_type": "code",
   "execution_count": 14,
   "metadata": {
    "nbgrader": {
     "grade": false,
     "grade_id": "cell-dbe57c76c89c328c",
     "locked": true,
     "schema_version": 3,
     "solution": false,
     "task": false
    }
   },
   "outputs": [],
   "source": [
    "def count_sentences(text):\n",
    "    sentences = text.split('.')\n",
    "    \n",
    "    if sentences[-1]=='':\n",
    "        num_sentences = len(sentences) - 1\n",
    "    else:\n",
    "        num_sentences = len(sentences)\n",
    "        \n",
    "    return num_sentences"
   ]
  },
  {
   "cell_type": "code",
   "execution_count": 15,
   "metadata": {},
   "outputs": [],
   "source": [
    "# BE SURE YOUR ANSWER IS IN THE CELL BELOW\n",
    "# but you can use this cell to test/execute/check your thinking (optional)"
   ]
  },
  {
   "cell_type": "markdown",
   "metadata": {
    "nbgrader": {
     "grade": true,
     "grade_id": "cell-f5317567b8e4efd0",
     "locked": false,
     "points": 0.75,
     "schema_version": 3,
     "solution": true,
     "task": false
    }
   },
   "source": [
    "Describe the `count_sentences()` function here.\n",
    "\n",
    "\n",
    "=== BEGIN MARK SCHEME ===\n",
    "\n",
    "- explains task generally accurately (**0.25 pts**)\n",
    "- explains what `.split()` does in context accurately (**0.25 pts**)\n",
    "- explains what conditional does/why it's needed (**0.25 pts**)\n",
    "\n",
    "=== END MARK SCHEME ==="
   ]
  },
  {
   "cell_type": "markdown",
   "metadata": {
    "nbgrader": {
     "grade": false,
     "grade_id": "cell-2237741a93e97e01",
     "locked": true,
     "schema_version": 3,
     "solution": false,
     "task": false
    }
   },
   "source": [
    "**Part 2** (0.25 points)\n",
    "\n",
    "Execute the `count_sentences()` function such that it:\n",
    "- returns `2`; assign this output to the variable `out_2`."
   ]
  },
  {
   "cell_type": "code",
   "execution_count": 16,
   "metadata": {
    "nbgrader": {
     "grade": false,
     "grade_id": "cell-fdbbaa5a44ac0068",
     "locked": false,
     "schema_version": 3,
     "solution": true,
     "task": false
    }
   },
   "outputs": [],
   "source": [
    "### BEGIN SOLUTION\n",
    "out_2 = count_sentences('A sentence with words. A second sentence with words.')\n",
    "### END SOLUTION"
   ]
  },
  {
   "cell_type": "code",
   "execution_count": 17,
   "metadata": {
    "nbgrader": {
     "grade": true,
     "grade_id": "cell-0b04266e15b8b616",
     "locked": true,
     "points": 0.25,
     "schema_version": 3,
     "solution": false,
     "task": false
    }
   },
   "outputs": [],
   "source": [
    "assert out_2\n",
    "### BEGIN HIDDEN TESTS\n",
    "assert out_2 == 2\n",
    "### END HIDDEN TESTS"
   ]
  },
  {
   "cell_type": "markdown",
   "metadata": {
    "nbgrader": {
     "grade": false,
     "grade_id": "cell-32de12eec2a9bb1a",
     "locked": true,
     "points": 0,
     "schema_version": 3,
     "solution": false,
     "task": true
    }
   },
   "source": [
    "**This \"blank\" cell included intentionally.** Do not do anything here. (It's being used in grading.)\n",
    "\n",
    "=== BEGIN MARK SCHEME ===\n",
    "\n",
    "- remove autograder credit above if function not executed\n",
    "\n",
    "=== END MARK SCHEME ==="
   ]
  },
  {
   "cell_type": "markdown",
   "metadata": {
    "nbgrader": {
     "grade": false,
     "grade_id": "q2",
     "locked": true,
     "schema_version": 3,
     "solution": false,
     "task": false
    }
   },
   "source": [
    "### Q5 - Function I: Username check (1.65 points)\n",
    "\n",
    "Recently the company you work at ('cogs co.') realized that too many employees have problematic usernames. You're going to write a function (`change_username()`) that takes a single parameter `username` as input. \n",
    "\n",
    "This function will check if the `username` meets the following specifications:\n",
    "- contains more than four characters\n",
    "- includes only letters (A-Z; a-z) and/or numbers (0-9); in other words: is alphanumeric\n",
    "- does NOT include the string 'cogs'\n",
    "\n",
    "If the `username` meets the above specifications, the function will `return` `False` (indicating the username does *not* have to be changed. If any one of the above specifications is not met, the function will `return` `True` (indicating that the `username` does *not* meet at least one of the above specifications).\n",
    "\n",
    "For example, `change_username(username='cogs')` would `return` `True` because it does not contain more than four letters *and* because it includes the string `'cogs'` in its name, while `change_username(username='Shannon')` would return `False`, as this meets all three specifications above. "
   ]
  },
  {
   "cell_type": "code",
   "execution_count": 1,
   "metadata": {
    "nbgrader": {
     "grade": false,
     "grade_id": "cell-27753e425b580be3",
     "locked": false,
     "schema_version": 3,
     "solution": true,
     "task": false
    }
   },
   "outputs": [],
   "source": [
    "### BEGIN SOLUTION\n",
    "def change_username(username):\n",
    "    \n",
    "    if not username.isalnum(): # determine if any letters are not in letters_numbers\n",
    "        output = True\n",
    "    elif len(username) <= 4:  # check length\n",
    "        output = True\n",
    "    elif 'cogs' in username:   #s check for string\n",
    "        output = True\n",
    "    else:\n",
    "        output = False\n",
    "    \n",
    "    return output\n",
    "\n",
    "# OR\n",
    "\n",
    "def change_username(username):\n",
    "    if len(username) > 4 and username.isalnum() and 'cogs' not in username:\n",
    "        return False\n",
    "    else:\n",
    "        return True\n",
    "### END SOLUTION"
   ]
  },
  {
   "cell_type": "code",
   "execution_count": 2,
   "metadata": {},
   "outputs": [],
   "source": [
    "# BE SURE YOUR ANSWER IS IN THE CELL ABOVE\n",
    "# but you can use this cell to test/execute/check your thinking (optional)"
   ]
  },
  {
   "cell_type": "code",
   "execution_count": 3,
   "metadata": {
    "nbgrader": {
     "grade": true,
     "grade_id": "cell-409a4e8e6c215e8b",
     "locked": true,
     "points": 0.15,
     "schema_version": 3,
     "solution": false,
     "task": false
    }
   },
   "outputs": [],
   "source": [
    "assert change_username\n",
    "### BEGIN HIDDEN TESTS\n",
    "assert callable(change_username)\n",
    "assert change_username('aaaaa') == False\n",
    "### END HIDDEN TESTS"
   ]
  },
  {
   "cell_type": "code",
   "execution_count": 4,
   "metadata": {
    "nbgrader": {
     "grade": true,
     "grade_id": "cell-72adcd0478d1805b",
     "locked": true,
     "points": 0.15,
     "schema_version": 3,
     "solution": false,
     "task": false
    }
   },
   "outputs": [],
   "source": [
    "# hidden test to check functionality\n",
    "### BEGIN HIDDEN TESTS\n",
    "# check four letters\n",
    "assert change_username('aaaa') == True\n",
    "### END HIDDEN TESTS"
   ]
  },
  {
   "cell_type": "code",
   "execution_count": 5,
   "metadata": {
    "nbgrader": {
     "grade": true,
     "grade_id": "cell-6e90c33a6cf4dbc2",
     "locked": true,
     "points": 0.15,
     "schema_version": 3,
     "solution": false,
     "task": false
    }
   },
   "outputs": [],
   "source": [
    "# hidden test to check functionality\n",
    "### BEGIN HIDDEN TESTS\n",
    "# check capitalization\n",
    "assert change_username('AAAAA') == False\n",
    "### END HIDDEN TESTS"
   ]
  },
  {
   "cell_type": "code",
   "execution_count": 6,
   "metadata": {
    "nbgrader": {
     "grade": true,
     "grade_id": "cell-4d88b639915b1608",
     "locked": true,
     "points": 0.15,
     "schema_version": 3,
     "solution": false,
     "task": false
    }
   },
   "outputs": [],
   "source": [
    "# hidden test to check functionality\n",
    "### BEGIN HIDDEN TESTS\n",
    "# check numbers\n",
    "assert change_username('12345') == False\n",
    "### END HIDDEN TESTS"
   ]
  },
  {
   "cell_type": "code",
   "execution_count": 7,
   "metadata": {
    "nbgrader": {
     "grade": true,
     "grade_id": "cell-65202d29251035dd",
     "locked": true,
     "points": 0.15,
     "schema_version": 3,
     "solution": false,
     "task": false
    }
   },
   "outputs": [],
   "source": [
    "# hidden test to check functionality\n",
    "### BEGIN HIDDEN TESTS\n",
    "# check cogs string\n",
    "assert change_username('cogs123') == True\n",
    "### END HIDDEN TESTS"
   ]
  },
  {
   "cell_type": "markdown",
   "metadata": {
    "nbgrader": {
     "grade": false,
     "grade_id": "cell-c0b132da8a0a1ec3",
     "locked": true,
     "points": 0.9,
     "schema_version": 3,
     "solution": false,
     "task": true
    }
   },
   "source": [
    "**This \"blank\" cell included intentionally.** Do not do anything here. (It's being used in grading.)\n",
    "\n",
    "=== BEGIN MARK SCHEME ===\n",
    "\n",
    "Check if points lost on autograder above: \n",
    "- `def` corect with `username` password (**0.2 pts**)\n",
    "- condition for length correct (**0.2 pts**)\n",
    "- condition for 'cogs' string correct (**0.2 pts**)\n",
    "- condition for letters and numbers correct (**0.2 pts**)\n",
    "- includes `return` statement (**0.1 pts**)\n",
    "\n",
    "Note: if only issue is `return` statement is missing, return autograder credit lost and only deduct for `return` statement missing\n",
    "=== END MARK SCHEME ==="
   ]
  },
  {
   "cell_type": "markdown",
   "metadata": {
    "nbgrader": {
     "grade": false,
     "grade_id": "q3",
     "locked": true,
     "schema_version": 3,
     "solution": false,
     "task": false
    }
   },
   "source": [
    "### Q6 - Function II: Tax Rate (1.75 points)\n",
    "\n",
    "Here you will write a function that, given a salary as input, will `return` how much of that person's salary is going toward taxes.\n",
    "\n",
    "To accomplish this, write a function `to_taxes()` that takes two parameters as input: `salary` and `tax_brackets`. The default value for the `tax_brackets` parameter should be the `default_brackets` dictionary provided below. Then, use code constructs discussed in class to accomplish the above goal.\n",
    "\n",
    "Note that the dictionary `default_brackets` provided will have to be used to accomplish this goal. The keys in `default_brackets` are the proportion of an individual's salary that will go toward taxes if their salary is within the range in a given key's value (tuple). For example, an individual who makes \\$10,000 would contribute 12\\% of their salary in taxes, given the information in `tax_brackets` (specifically becasue 10000 falls between 9876 and 40125).\n",
    "\n",
    "Accordingly, `to_taxes(salary=10000)` should `return` 1200.0 (which corresponds to 12\\% of the input $10,000 salary)."
   ]
  },
  {
   "cell_type": "code",
   "execution_count": 25,
   "metadata": {
    "nbgrader": {
     "grade": false,
     "grade_id": "cell-384f29c043901ce3",
     "locked": true,
     "schema_version": 3,
     "solution": false,
     "task": false
    }
   },
   "outputs": [],
   "source": [
    "default_brackets = {0.10 : (0, 9875),\n",
    "                    0.12 : (9876, 40125),\n",
    "                    0.22 : (40126, 85525),\n",
    "                    0.24 : (85526, 163300),\n",
    "                    0.32 : (163301, 207350),\n",
    "                    0.35 : (207351, 518400)\n",
    "                   }"
   ]
  },
  {
   "cell_type": "code",
   "execution_count": 26,
   "metadata": {
    "nbgrader": {
     "grade": false,
     "grade_id": "cell-b88e1dac87fd09a4",
     "locked": false,
     "schema_version": 3,
     "solution": true,
     "task": false
    }
   },
   "outputs": [],
   "source": [
    "### BEGIN SOLUTION\n",
    "def to_taxes(salary, tax_brackets=default_brackets):\n",
    "    for key in tax_brackets:\n",
    "        if tax_brackets[key][0] <= salary <= tax_brackets[key][1]:\n",
    "            output = key * salary\n",
    "    \n",
    "    return output\n",
    "### END SOLUTION"
   ]
  },
  {
   "cell_type": "code",
   "execution_count": 27,
   "metadata": {},
   "outputs": [],
   "source": [
    "# BE SURE YOUR ANSWER IS IN THE CELL ABOVE\n",
    "# but you can use this cell to test/execute/check your thinking (optional)"
   ]
  },
  {
   "cell_type": "code",
   "execution_count": 28,
   "metadata": {
    "nbgrader": {
     "grade": true,
     "grade_id": "cell-d7a40ec4c818725d",
     "locked": true,
     "points": 0.1,
     "schema_version": 3,
     "solution": false,
     "task": false
    }
   },
   "outputs": [],
   "source": [
    "assert to_taxes\n",
    "### BEGIN HIDDEN TESTS\n",
    "assert callable(to_taxes)\n",
    "assert to_taxes(10000) == 1200.0\n",
    "assert to_taxes(207355) == 72574.25\n",
    "### END HIDDEN TESTS"
   ]
  },
  {
   "cell_type": "code",
   "execution_count": 29,
   "metadata": {
    "nbgrader": {
     "grade": true,
     "grade_id": "cell-2ee7dd57a8718dee",
     "locked": true,
     "points": 0.2,
     "schema_version": 3,
     "solution": false,
     "task": false
    }
   },
   "outputs": [],
   "source": [
    "# hidden test to check function accomplishes task\n",
    "### BEGIN HIDDEN TESTS\n",
    "# check for 22% bracket\n",
    "# check that values on edges included\n",
    "assert to_taxes(40126) == 8827.72\n",
    "assert to_taxes(85525) == 18815.5\n",
    "### END HIDDEN TESTS"
   ]
  },
  {
   "cell_type": "code",
   "execution_count": 30,
   "metadata": {
    "nbgrader": {
     "grade": true,
     "grade_id": "cell-b3246567017181ba",
     "locked": true,
     "points": 0.2,
     "schema_version": 3,
     "solution": false,
     "task": false
    }
   },
   "outputs": [],
   "source": [
    "# hidden test to check default parameter correct\n",
    "### BEGIN HIDDEN TESTS\n",
    "# check for a different tax_brackets\n",
    "assert to_taxes(100, tax_brackets={0.5: (0,1000)}) == 50.0\n",
    "### END HIDDEN TESTS"
   ]
  },
  {
   "cell_type": "markdown",
   "metadata": {
    "nbgrader": {
     "grade": false,
     "grade_id": "cell-ab5c7e21c6f5e759",
     "locked": true,
     "points": 1.25,
     "schema_version": 3,
     "solution": false,
     "task": true
    }
   },
   "source": [
    "**This \"blank\" cell included intentionally.** Do not do anything here. (It's being used in grading.)\n",
    "\n",
    "=== BEGIN MARK SCHEME ===\n",
    "\n",
    "Check if points lost on autograder above: \n",
    "- function defined correctly with `salary` parameter and default value for `tax_brackets` parameter (**0.25 pts**)\n",
    "- loops through dictionary (or equivalent) correctly (**0.2 pts**)\n",
    "- conditional accesses values in tuple correctly (**0.2 pts**)\n",
    "- conditional checks lower and upper bound of range (**0.2 pts**)\n",
    "- calculation correct (i.e. key * salary) (**0.2 pts**)\n",
    "- includes `return` statement (**0.2 pts**) \n",
    "\n",
    "=== END MARK SCHEME ==="
   ]
  },
  {
   "cell_type": "markdown",
   "metadata": {
    "nbgrader": {
     "grade": false,
     "grade_id": "part3",
     "locked": true,
     "schema_version": 3,
     "solution": false,
     "task": false
    }
   },
   "source": [
    "## Part 3: Classes (4.5 points)"
   ]
  },
  {
   "cell_type": "markdown",
   "metadata": {
    "nbgrader": {
     "grade": false,
     "grade_id": "q7",
     "locked": true,
     "schema_version": 3,
     "solution": false,
     "task": false
    }
   },
   "source": [
    "### Q7 - Classes I (2.25 points)\n",
    "\n",
    "Define a class `ClassRoster()` that meets the following specifications:\n",
    "\n",
    "- has two instance attributes:\n",
    "    - `students`; initialized as an empty list\n",
    "    - `course`; which the user specifies when creating a `ClassRoster()` object\n",
    "- a single method `add_student()`, which will have `pid` and `name` as arguments, and will add these two inputs as a dictionary with `pid` as the key and the student's `name` as the value to the `students` list each time the method is called"
   ]
  },
  {
   "cell_type": "code",
   "execution_count": 31,
   "metadata": {
    "nbgrader": {
     "grade": false,
     "grade_id": "cell-80e3cb9de1241e25",
     "locked": false,
     "schema_version": 3,
     "solution": true,
     "task": false
    }
   },
   "outputs": [],
   "source": [
    "### BEGIN SOLUTION\n",
    "class ClassRoster():\n",
    "        \n",
    "    def __init__(self, course):\n",
    "        self.students = []\n",
    "        self.course = course\n",
    "        \n",
    "    def add_student(self, pid, name):\n",
    "        self.students.append({pid: name})\n",
    "### END SOLUTION"
   ]
  },
  {
   "cell_type": "code",
   "execution_count": 32,
   "metadata": {},
   "outputs": [],
   "source": [
    "# BE SURE YOUR ANSWER IS IN THE CELL ABOVE\n",
    "# but you can use this cell to test/execute/check your thinking (optional)"
   ]
  },
  {
   "cell_type": "code",
   "execution_count": 33,
   "metadata": {
    "nbgrader": {
     "grade": true,
     "grade_id": "cell-37e8b60113767efa",
     "locked": true,
     "points": 0.25,
     "schema_version": 3,
     "solution": false,
     "task": false
    }
   },
   "outputs": [],
   "source": [
    "assert callable(ClassRoster)\n",
    "my_course = ClassRoster('COGS 18')\n",
    "### BEGIN HIDDEN TESTS\n",
    "assert my_course.course == 'COGS 18'\n",
    "### END HIDDEN TESTS"
   ]
  },
  {
   "cell_type": "code",
   "execution_count": 34,
   "metadata": {
    "nbgrader": {
     "grade": true,
     "grade_id": "cell-30a7b606c61333a6",
     "locked": true,
     "points": 0.25,
     "schema_version": 3,
     "solution": false,
     "task": false
    }
   },
   "outputs": [],
   "source": [
    "# tests for instance attribute\n",
    "assert my_course.students is not None\n",
    "### BEGIN HIDDEN TESTS\n",
    "assert my_course.students == []\n",
    "### END HIDDEN TESTS"
   ]
  },
  {
   "cell_type": "code",
   "execution_count": 35,
   "metadata": {
    "nbgrader": {
     "grade": true,
     "grade_id": "cell-ed7e6ef17084851f",
     "locked": true,
     "points": 0.25,
     "schema_version": 3,
     "solution": false,
     "task": false
    }
   },
   "outputs": [],
   "source": [
    "# tests for method\n",
    "assert callable(my_course.add_student)\n",
    "### BEGIN HIDDEN TESTS\n",
    "my_course.add_student(pid='A12345', name='Shannon')\n",
    "my_course.add_student(pid='A56789', name='Josh')\n",
    "\n",
    "assert my_course.students == [{'A12345':'Shannon'}, {'A56789': 'Josh'}]\n",
    "### END HIDDEN TESTS"
   ]
  },
  {
   "cell_type": "markdown",
   "metadata": {
    "nbgrader": {
     "grade": false,
     "grade_id": "cell-d2891dfab143ad29",
     "locked": true,
     "points": 1.5,
     "schema_version": 3,
     "solution": false,
     "task": true
    }
   },
   "source": [
    "**This \"blank\" cell included intentionally.** Do not do anything here. (It's being used in grading.)\n",
    "\n",
    "=== BEGIN MARK SCHEME ===\n",
    "\n",
    "Check if points lost on autograder above: \n",
    "- `class` defined correctly (**0.1 pts**)\n",
    "- instance attributes\n",
    "    - `def __init__(self)` correct (**0.2 pts**)\n",
    "    - `self` used within definition (**0.2 pts**)\n",
    "    - `students` attribute initialized correctly (empty list) (**0.2 pts**)\n",
    "    - `course` intialized correctly  (**0.2 pts**)\n",
    "- `add_student` method:\n",
    "    - method definition correct with `self`, `pid`, and `name` (**0.2 pts**)\n",
    "    - dictionary syntax correct  (**0.2 pts**)\n",
    "    - added to list correct (`append`) (**0.2 pts**)\n",
    "\n",
    "Note: autograder credit can be returned for portions above if particular aspect (class attribute, instance attribute, or method) were correct, but test failed because overall `class` was defined incorrectly\n",
    "\n",
    "=== END MARK SCHEME ==="
   ]
  },
  {
   "cell_type": "markdown",
   "metadata": {
    "nbgrader": {
     "grade": false,
     "grade_id": "q8",
     "locked": true,
     "schema_version": 3,
     "solution": false,
     "task": false
    }
   },
   "source": [
    "### Q8 - Classes II (2.25 points)\n",
    "\n",
    "Define a class `ToDo()` to keep track of your to do list.\n",
    "\n",
    "This should have a single instance attribute: `to_do`, which is initialized as an empty list.\n",
    "\n",
    "It will then have two methods: `add_item` and `remove_item`.\n",
    "\n",
    "`add_item()`:\n",
    "- will have two parameters `item`, and `top` (`top` takes the default value `True`)\n",
    "- if `top` is `True`:\n",
    "    the string in `item` will be added to the top of `to_do`:\n",
    "- if `top` is not true:\n",
    "    the string it `item` will be added to the end of `to_do`\n",
    "\n",
    "`remove_item()`:\n",
    "- will have a single parameter `item`\n",
    "- will remove the item specified from `to_do`\n",
    "\n",
    "Note: there is a list method `insert()`, which operates in place to add a value to a list at the index specified with the general syntax `my_list.insert(index, item_to_add)`."
   ]
  },
  {
   "cell_type": "code",
   "execution_count": 36,
   "metadata": {
    "nbgrader": {
     "grade": false,
     "grade_id": "cell-db23ac2e2bd9a424",
     "locked": false,
     "schema_version": 3,
     "solution": true,
     "task": false
    }
   },
   "outputs": [],
   "source": [
    "### BEGIN SOLUTION\n",
    "class ToDo():\n",
    "    \n",
    "    def __init__(self):\n",
    "        self.to_do = []\n",
    "        \n",
    "    def add_item(self, item, top=True):\n",
    "        if top:\n",
    "            self.to_do.insert(0, item)\n",
    "        else: \n",
    "            self.to_do.append(item)\n",
    "        \n",
    "    def remove_item(self, item):\n",
    "        self.to_do.remove(item)\n",
    "\n",
    "### END SOLUTION"
   ]
  },
  {
   "cell_type": "code",
   "execution_count": 37,
   "metadata": {},
   "outputs": [],
   "source": [
    "# BE SURE YOUR ANSWER IS IN THE CELL ABOVE\n",
    "# but you can use this cell to test/execute/check your thinking (optional)"
   ]
  },
  {
   "cell_type": "code",
   "execution_count": 38,
   "metadata": {
    "nbgrader": {
     "grade": true,
     "grade_id": "cell-c4253d0a4b63b6ff",
     "locked": true,
     "points": 0.25,
     "schema_version": 3,
     "solution": false,
     "task": false
    }
   },
   "outputs": [],
   "source": [
    "assert callable(ToDo)\n",
    "my_todo_list = ToDo()\n",
    "### BEGIN HIDDEN TESTS\n",
    "assert my_todo_list.to_do == []\n",
    "### END HIDDEN TESTS"
   ]
  },
  {
   "cell_type": "code",
   "execution_count": 39,
   "metadata": {
    "nbgrader": {
     "grade": true,
     "grade_id": "cell-f4de47b202e5c535",
     "locked": true,
     "points": 0.25,
     "schema_version": 3,
     "solution": false,
     "task": false
    }
   },
   "outputs": [],
   "source": [
    "# check add_item method\n",
    "### BEGIN HIDDEN TESTS\n",
    "my_todo_list.add_item('A')\n",
    "my_todo_list.add_item('B')\n",
    "assert my_todo_list.to_do == ['B','A']\n",
    "### END HIDDEN TESTS"
   ]
  },
  {
   "cell_type": "code",
   "execution_count": 40,
   "metadata": {
    "nbgrader": {
     "grade": true,
     "grade_id": "cell-06d5b53a56c426b4",
     "locked": true,
     "points": 0.25,
     "schema_version": 3,
     "solution": false,
     "task": false
    }
   },
   "outputs": [],
   "source": [
    "# check add_item with non-default value\n",
    "### BEGIN HIDDEN TESTS\n",
    "my_todo_list.add_item('C', top=False)\n",
    "assert my_todo_list.to_do == ['B','A', 'C']\n",
    "### END HIDDEN TESTS"
   ]
  },
  {
   "cell_type": "code",
   "execution_count": 41,
   "metadata": {
    "nbgrader": {
     "grade": true,
     "grade_id": "cell-bfd82a7e62a79a3c",
     "locked": true,
     "points": 0.25,
     "schema_version": 3,
     "solution": false,
     "task": false
    }
   },
   "outputs": [],
   "source": [
    "# check remove_item\n",
    "### BEGIN HIDDEN TESTS\n",
    "my_todo_list.remove_item('A')\n",
    "assert my_todo_list.to_do == ['B', 'C']\n",
    "### END HIDDEN TESTS"
   ]
  },
  {
   "cell_type": "markdown",
   "metadata": {
    "nbgrader": {
     "grade": false,
     "grade_id": "cell-216f99649bc6b8df",
     "locked": true,
     "points": 1.25,
     "schema_version": 3,
     "solution": false,
     "task": true
    }
   },
   "source": [
    "**This \"blank\" cell included intentionally.** Do not do anything here. (It's being used in grading.)\n",
    "\n",
    "=== BEGIN MARK SCHEME ===\n",
    "\n",
    "Check if points lost on autograder above: \n",
    "- `class` defined correctly (**0.1 pts**)\n",
    "- instance attribute\n",
    "    - `def __init__(self)` correct (**0.2 pts**)\n",
    "    - `to_do` attribute initialized correctly (empty list) (**0.2 pts**)\n",
    "\n",
    "- `add_item` method:\n",
    "    - method definition correct with `self`, `item`, and `top` (**0.15 pts**)\n",
    "    - `top` default value set to `True`\n",
    "    - conditional correct  (**0.15 pts**)\n",
    "    - extends list correctly (**0.15 pts**)\n",
    "\n",
    "- `remove_item` method:\n",
    "    - method definition correct with `self` and `item` (**0.15 pts**)\n",
    "    - item removed correctly  (**0.15 pts**)\n",
    "\n",
    "Note: autograder credit can be returned for portions above if particular aspect (class attribute, instance attribute, or method) were correct, but test failed because overall `class` was defined incorrectly\n",
    "\n",
    "=== END MARK SCHEME ==="
   ]
  },
  {
   "cell_type": "markdown",
   "metadata": {
    "nbgrader": {
     "grade": false,
     "grade_id": "end",
     "locked": true,
     "schema_version": 3,
     "solution": false
    }
   },
   "source": [
    "### Exam II complete!\n",
    "\n",
    "Good work - you're done with the second exam!\n",
    "\n",
    "Check your work, and then when you're ready, **submit on datahub**.\n",
    "\n",
    "We will not have your exam until you click submit and see this show up under 'submitted assignments'."
   ]
  }
 ],
 "metadata": {
  "celltoolbar": "Create Assignment",
  "kernelspec": {
   "display_name": "Python 3",
   "language": "python",
   "name": "python3"
  },
  "language_info": {
   "codemirror_mode": {
    "name": "ipython",
    "version": 3
   },
   "file_extension": ".py",
   "mimetype": "text/x-python",
   "name": "python",
   "nbconvert_exporter": "python",
   "pygments_lexer": "ipython3",
   "version": "3.7.9"
  }
 },
 "nbformat": 4,
 "nbformat_minor": 5
}
