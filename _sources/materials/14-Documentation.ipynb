{
 "cells": [
  {
   "cell_type": "markdown",
   "metadata": {
    "editable": true,
    "slideshow": {
     "slide_type": "slide"
    },
    "tags": []
   },
   "source": [
    "# Code Style & Documentation\n",
    "\n",
    "[![Open In Colab](https://colab.research.google.com/assets/colab-badge.svg)](https://colab.research.google.com/github/COGS18/LectureNotes-COGS18/blob/main/14-Documentation.ipynb)"
   ]
  },
  {
   "cell_type": "markdown",
   "metadata": {},
   "source": [
    "**Q&A**\n",
    "\n",
    "> Q: What is the difference between assertEqual and assertTrue?  \n",
    "> A: `assertEqual` takes in two inputs and checks that the first input is equal to the second; `assertTrue` expects that whatever is in the parentheses evaluates to `True`"
   ]
  },
  {
   "cell_type": "markdown",
   "metadata": {},
   "source": [
    "**Course Announcements**\n",
    "\n",
    "Due this week:\n",
    "- **CL9** (optional, for 2 pts EC...but **you should do it** to get testing practice)\n",
    "- E1 or E2 retake (*optional*)\n",
    "- **Final Exam** (6/7-6/13)\n",
    "- **Post-course assessement** (due 6/13; required; will be available Friday)\n",
    "\n",
    "Notes: \n",
    "- Please complete your SETs\n",
    "- Handful of questions about **exam retake**:\n",
    "    - Your final E1/E2 score after retake is 75% of your highest and 25% of your lowest?\n",
    "    - What does that math look like? Well, let's say you got a 9/12.5 originally and you get 11.5/12.5 on the retake: `0.25*9 + 0.75*11.5 == 10.88` (+1.88 to your final grade)\n",
    "    - Could my score go down? Yes\n",
    "    - Sign up on PrairieTest; take in same location (TTC-CBTF)\n",
    "- **E2 Summary**:\n",
    "    - Class Average: 70%\n",
    "    - 31/580 (5%) earned perfect marks\n",
    "    - 11% higher average for those coming to class than those who didn't\n",
    "- Do you have to take the final exam if you took the course P/NP and already have >=70 pts? No.\n",
    "    - If you have a 70% currently, do you have to take the exam? YES! \n",
    "- Canvas Gradebook will be updated by EOD Friday with Lecture EC and Oral Exam 2 score\n",
    "- Office Hours end this Friday (no office hours during finals week; I will monitor Ed/email)"
   ]
  },
  {
   "cell_type": "markdown",
   "metadata": {},
   "source": [
    "**Final Exam** (13 pts; 1h50min)\n",
    "\n",
    "- 13 MC (6.5 pts total; 0.5 pt each)\n",
    "    - Topics: Variables, Operators, Functions, Conditionals, Loops, Classes, Command Line, Imports/File Paths, Scientific Computing (2), Code Testing, Documentation, Code Style\n",
    "- 2 Code Reading & Debugging Qs (3.5 pts) \n",
    "    -  Function (1.5 pts)\n",
    "    -  Class (2 pts)\n",
    "- Testing Questions (3pts; 1.5 pt each `unittest`)\n",
    "    - 1 uses `pandas`\n",
    " \n",
    "Notes:\n",
    "- No mini-project\n",
    "- **Practice exam will be very good practice for all of these**\n",
    "- Information Provided:\n",
    "    - `pandas` functions/methods\n",
    "    - `unittest` framework w/ list of `assert` statements discussed in class"
   ]
  },
  {
   "cell_type": "markdown",
   "metadata": {},
   "source": [
    "## Today's Plan\n",
    "\n",
    "- Code Style\n",
    "    - readability\n",
    "    - PEP8 (style guides)\n",
    "    - linters\n",
    "- Documentation \n",
    "    - code comments\n",
    "    - docstrings\n",
    "- (Revisiting) testing\n",
    "- versioning"
   ]
  },
  {
   "cell_type": "markdown",
   "metadata": {},
   "source": [
    "## Code Style"
   ]
  },
  {
   "cell_type": "markdown",
   "metadata": {
    "slideshow": {
     "slide_type": "slide"
    }
   },
   "source": [
    "### Code Readability (API)"
   ]
  },
  {
   "cell_type": "markdown",
   "metadata": {
    "slideshow": {
     "slide_type": "fragment"
    }
   },
   "source": [
    "\"Code is more often read than written\" - Guido van Rossum"
   ]
  },
  {
   "cell_type": "markdown",
   "metadata": {
    "slideshow": {
     "slide_type": "fragment"
    }
   },
   "source": [
    "So: code should be written to be readable by humans."
   ]
  },
  {
   "cell_type": "markdown",
   "metadata": {
    "slideshow": {
     "slide_type": "fragment"
    }
   },
   "source": [
    "Note: one of those humans is future you."
   ]
  },
  {
   "cell_type": "markdown",
   "metadata": {
    "slideshow": {
     "slide_type": "slide"
    }
   },
   "source": [
    "### The Zen of Python"
   ]
  },
  {
   "cell_type": "code",
   "execution_count": null,
   "metadata": {
    "slideshow": {
     "slide_type": "-"
    }
   },
   "outputs": [],
   "source": [
    "import this"
   ]
  },
  {
   "cell_type": "markdown",
   "metadata": {
    "slideshow": {
     "slide_type": "slide"
    }
   },
   "source": [
    "### Writing Readable Code"
   ]
  },
  {
   "cell_type": "markdown",
   "metadata": {
    "slideshow": {
     "slide_type": "fragment"
    }
   },
   "source": [
    "So how do we write good code for humans?\n",
    "\n",
    "- Use good structure\n",
    "- Use good naming\n",
    "- Use code comments and include documentation"
   ]
  },
  {
   "cell_type": "markdown",
   "metadata": {
    "slideshow": {
     "slide_type": "fragment"
    }
   },
   "source": [
    "### Good Structure\n",
    "\n",
    "If you design your program using separate functions for each task, avoid copying + pasting (functions and loops instead), and consider structure beforehand, you'll be set up for success"
   ]
  },
  {
   "cell_type": "markdown",
   "metadata": {
    "slideshow": {
     "slide_type": "fragment"
    }
   },
   "source": [
    "### Good Naming\n",
    "\n",
    "Clear names are for humans. The computer doesn't care, but you and others reading your code do."
   ]
  },
  {
   "cell_type": "markdown",
   "metadata": {
    "slideshow": {
     "slide_type": "fragment"
    }
   },
   "source": [
    "### Code comments & Documentation\n",
    "\n",
    "Helpful comments and documentation take your code to the next level. The final piece in the trifecta of readable code! "
   ]
  },
  {
   "cell_type": "markdown",
   "metadata": {
    "slideshow": {
     "slide_type": "fragment"
    }
   },
   "source": [
    "Good code has good documentation - but code documentation should _not_ be used to try and fix unclear names, or bad structure. \n",
    "\n",
    "Rather, comments should add any additional context and information that helps explain what the code is, how it works, and why it works that way. "
   ]
  },
  {
   "cell_type": "markdown",
   "metadata": {
    "editable": true,
    "slideshow": {
     "slide_type": "slide"
    },
    "tags": []
   },
   "source": [
    "### Motivation: Think-Pair-Share\n",
    "What does the following code do?"
   ]
  },
  {
   "cell_type": "code",
   "execution_count": null,
   "metadata": {
    "editable": true,
    "scrolled": true,
    "slideshow": {
     "slide_type": "fragment"
    },
    "tags": []
   },
   "outputs": [],
   "source": [
    "def ff(jj):\n",
    "    oo = []; jj = list(jj) \n",
    "    for ii in jj: oo.append(str(ord(ii)))\n",
    "    return '+'.join(oo)\n",
    "ff('Hello World.')"
   ]
  },
  {
   "cell_type": "markdown",
   "metadata": {
    "slideshow": {
     "slide_type": "fragment"
    }
   },
   "source": [
    "- A) Returns unicode code points, as a list\n",
    "- B) Encodes a string as a cypher, returning a string of alphabetical characters\n",
    "- C) Returns unicode code points, as a string\n",
    "- D) Encodes inputs alphabetical characters, returned as a list\n",
    "- E) This code will fail"
   ]
  },
  {
   "cell_type": "markdown",
   "metadata": {
    "slideshow": {
     "slide_type": "fragment"
    }
   },
   "source": [
    "Improvement Considerations (Style)\n",
    "- Structural considerations: indentations & spacing\n",
    "- Improved naming: functions & variables"
   ]
  },
  {
   "cell_type": "code",
   "execution_count": null,
   "metadata": {
    "slideshow": {
     "slide_type": "fragment"
    }
   },
   "outputs": [],
   "source": [
    "def convert_to_unicode(input_string):\n",
    "    string = []\n",
    "    input_list = list(input_string)\n",
    "      \n",
    "    for character in input_list: \n",
    "        string.append(str(ord(character)))\n",
    "        \n",
    "    output_string = '+'.join(string)\n",
    "    return output_string\n",
    "\n",
    "convert_to_unicode('Hello World.')"
   ]
  },
  {
   "cell_type": "markdown",
   "metadata": {
    "slideshow": {
     "slide_type": "fragment"
    }
   },
   "source": [
    "- A) Returns unicode code points, as a list\n",
    "- B) Encodes a string as a cypher, returning a string of alphabetical characters\n",
    "- C) Returns unicode code points, as a string\n",
    "- D) Encodes inputs alphabetical characters, returned as a list\n",
    "- E) This code will fail"
   ]
  },
  {
   "cell_type": "markdown",
   "metadata": {},
   "source": [
    "### Code Style Review"
   ]
  },
  {
   "cell_type": "markdown",
   "metadata": {
    "collapsed": true,
    "jupyter": {
     "outputs_hidden": true
    },
    "slideshow": {
     "slide_type": "fragment"
    }
   },
   "source": [
    "Or: How to be Pythonic"
   ]
  },
  {
   "cell_type": "markdown",
   "metadata": {
    "slideshow": {
     "slide_type": "-"
    }
   },
   "source": [
    "Reasons to be Pythonic:\n",
    "- user friendly for humans\n",
    "- extra work up-front on the developers (pays off on the long run)\n",
    "- best to practice this early on (I promise!)"
   ]
  },
  {
   "cell_type": "markdown",
   "metadata": {
    "slideshow": {
     "slide_type": "slide"
    }
   },
   "source": [
    "### Style Guides"
   ]
  },
  {
   "cell_type": "markdown",
   "metadata": {
    "slideshow": {
     "slide_type": "-"
    }
   },
   "source": [
    "<div class=\"alert alert-success\">\n",
    "Coding style refers to a set of conventions for how to write good code. \n",
    "</div>"
   ]
  },
  {
   "cell_type": "markdown",
   "metadata": {
    "slideshow": {
     "slide_type": "fragment"
    }
   },
   "source": [
    "Consistency is the goal. Rules help us achieve consistency."
   ]
  },
  {
   "cell_type": "markdown",
   "metadata": {
    "slideshow": {
     "slide_type": "fragment"
    }
   },
   "source": [
    "Much of this will apply to other programming languages, so it's good to learn...regardless of language.\n",
    "\n",
    "Some of these Code Style notes will be more specific to Python, however."
   ]
  },
  {
   "cell_type": "markdown",
   "metadata": {
    "slideshow": {
     "slide_type": "slide"
    }
   },
   "source": [
    "#### Python Enhancement Proposals (PEPs)"
   ]
  },
  {
   "cell_type": "markdown",
   "metadata": {
    "slideshow": {
     "slide_type": "fragment"
    }
   },
   "source": [
    "<div class=\"alert alert-success\">\n",
    "Python PEPs are proposals for how something should be / work in the Python programming language. \n",
    "</div>"
   ]
  },
  {
   "cell_type": "markdown",
   "metadata": {
    "slideshow": {
     "slide_type": "fragment"
    }
   },
   "source": [
    "These are written by the people responsible for the Python Programming language."
   ]
  },
  {
   "cell_type": "markdown",
   "metadata": {
    "slideshow": {
     "slide_type": "fragment"
    }
   },
   "source": [
    "PEP are voted on before incorporation."
   ]
  },
  {
   "cell_type": "markdown",
   "metadata": {
    "slideshow": {
     "slide_type": "slide"
    }
   },
   "source": [
    "#### PEP8"
   ]
  },
  {
   "cell_type": "markdown",
   "metadata": {
    "collapsed": true,
    "jupyter": {
     "outputs_hidden": true
    },
    "slideshow": {
     "slide_type": "-"
    }
   },
   "source": [
    "<div class=\"alert alert-info\">\n",
    "<b><a href=\"https://www.python.org/dev/peps/pep-0008/\">PEP8</a></b> is an accepted proposal that outlines the style guide for Python.\n",
    "</div>"
   ]
  },
  {
   "cell_type": "markdown",
   "metadata": {
    "slideshow": {
     "slide_type": "fragment"
    }
   },
   "source": [
    "Defines the style guide for Pythonistas (people who code in Python)."
   ]
  },
  {
   "cell_type": "markdown",
   "metadata": {
    "collapsed": true,
    "jupyter": {
     "outputs_hidden": true
    },
    "slideshow": {
     "slide_type": "slide"
    }
   },
   "source": [
    "### Code Style: Structure\n",
    "\n",
    "- blank lines\n",
    "- indentaion\n",
    "- spacing \n",
    "- length <- NEW\n",
    "- imports"
   ]
  },
  {
   "cell_type": "markdown",
   "metadata": {
    "slideshow": {
     "slide_type": "-"
    }
   },
   "source": [
    "#### Blank Lines\n",
    "\n",
    "- Use 2 blank lines between functions & classes, and 1 between methods\n",
    "- Use 1 blank line between segments to indicate logical structure"
   ]
  },
  {
   "cell_type": "markdown",
   "metadata": {
    "slideshow": {
     "slide_type": "-"
    }
   },
   "source": [
    "#### Indentation\n",
    "\n",
    "Use spaces to indicate indentation levels, with each level defined as 4 spaces. "
   ]
  },
  {
   "cell_type": "markdown",
   "metadata": {
    "slideshow": {
     "slide_type": "-"
    }
   },
   "source": [
    "#### Spacing\n",
    "\n",
    "- Put one (and only one) space between each element\n",
    "- Index and assignment don't have a space between opening & closing '()' or '[]'"
   ]
  },
  {
   "cell_type": "code",
   "execution_count": null,
   "metadata": {},
   "outputs": [],
   "source": [
    "my_list = ['a', 'b', 'c']\n",
    "# avoid having space after list and before square brackets\n",
    "my_list [0]\n",
    "# instead do this:\n",
    "my_list[0]"
   ]
  },
  {
   "cell_type": "markdown",
   "metadata": {
    "slideshow": {
     "slide_type": "slide"
    }
   },
   "source": [
    "#### Line Length (NEW)\n",
    "\n",
    "- PEP8 recommends that each line be at most 79 characters long"
   ]
  },
  {
   "cell_type": "markdown",
   "metadata": {
    "slideshow": {
     "slide_type": "-"
    }
   },
   "source": [
    "Computers used to require this.\n",
    "\n",
    "But, super long lines are hard to read at a glance."
   ]
  },
  {
   "cell_type": "markdown",
   "metadata": {
    "slideshow": {
     "slide_type": "slide"
    }
   },
   "source": [
    "#### Multi-Line"
   ]
  },
  {
   "cell_type": "code",
   "execution_count": null,
   "metadata": {
    "slideshow": {
     "slide_type": "fragment"
    }
   },
   "outputs": [],
   "source": [
    "my_long_list = [1, 2, 3, 4, 5,\n",
    "                6, 7, 8, 9, 10]"
   ]
  },
  {
   "cell_type": "code",
   "execution_count": null,
   "metadata": {
    "slideshow": {
     "slide_type": "fragment"
    }
   },
   "outputs": [],
   "source": [
    "# Note: you can explicitly indicate a new line with '\\'\n",
    "my_string = 'Python is ' + \\\n",
    "            'a pretty great language.'"
   ]
  },
  {
   "cell_type": "markdown",
   "metadata": {
    "collapsed": true,
    "jupyter": {
     "outputs_hidden": true
    },
    "slideshow": {
     "slide_type": "slide"
    }
   },
   "source": [
    "#### One Statement Per Line\n",
    "\n",
    "- While you *can* condense multiple statements into one line, you usually shouldn't."
   ]
  },
  {
   "cell_type": "code",
   "execution_count": null,
   "metadata": {
    "slideshow": {
     "slide_type": "fragment"
    }
   },
   "outputs": [],
   "source": [
    "# Badness\n",
    "for i in [1, 2, 3]: print(i**2 + i%2)"
   ]
  },
  {
   "cell_type": "code",
   "execution_count": null,
   "metadata": {
    "slideshow": {
     "slide_type": "fragment"
    }
   },
   "outputs": [],
   "source": [
    "# Goodness\n",
    "for i in [1, 2, 3]:\n",
    "    print(i**2 + i%2)"
   ]
  },
  {
   "cell_type": "markdown",
   "metadata": {
    "slideshow": {
     "slide_type": "slide"
    }
   },
   "source": [
    "#### Imports\n",
    "\n",
    "- Import one module per line\n",
    "- Avoid `*` imports\n",
    "- Use the import order: standard library; 3rd party packages; local / custom code"
   ]
  },
  {
   "cell_type": "code",
   "execution_count": null,
   "metadata": {
    "slideshow": {
     "slide_type": "fragment"
    }
   },
   "outputs": [],
   "source": [
    "# Badness\n",
    "from numpy import *\n",
    "\n",
    "import os, sys"
   ]
  },
  {
   "cell_type": "code",
   "execution_count": null,
   "metadata": {
    "slideshow": {
     "slide_type": "fragment"
    }
   },
   "outputs": [],
   "source": [
    "# Goodness\n",
    "import os\n",
    "import sys\n",
    "\n",
    "import numpy as np"
   ]
  },
  {
   "cell_type": "markdown",
   "metadata": {
    "slideshow": {
     "slide_type": "fragment"
    }
   },
   "source": [
    "Note: If you don't know how to import a local/custom module, figure that out this week in office hours."
   ]
  },
  {
   "cell_type": "markdown",
   "metadata": {
    "slideshow": {
     "slide_type": "slide"
    }
   },
   "source": [
    "### Naming (review)"
   ]
  },
  {
   "cell_type": "markdown",
   "metadata": {
    "slideshow": {
     "slide_type": "-"
    }
   },
   "source": [
    "#### Valid Names\n",
    "\n",
    "- Use descriptive names for all modules, variables, functions and classes, that are longer than 1 character"
   ]
  },
  {
   "cell_type": "markdown",
   "metadata": {
    "jp-MarkdownHeadingCollapsed": true,
    "slideshow": {
     "slide_type": "-"
    }
   },
   "source": [
    "#### Naming Style\n",
    "\n",
    "- CapWords (leading capitals, no separation) for Classes\n",
    "- snake_case (all lowercase, underscore separator) for variables, functions, and modules"
   ]
  },
  {
   "cell_type": "markdown",
   "metadata": {
    "slideshow": {
     "slide_type": "slide"
    }
   },
   "source": [
    "### Code Comments"
   ]
  },
  {
   "cell_type": "markdown",
   "metadata": {
    "slideshow": {
     "slide_type": "-"
    }
   },
   "source": [
    "#### Inline code comments\n",
    "\n",
    "Inline code comments should use `#`, and be written at the same indentation level of the code it describes. "
   ]
  },
  {
   "cell_type": "markdown",
   "metadata": {
    "slideshow": {
     "slide_type": "slide"
    }
   },
   "source": [
    "How to use comments:\n",
    "- Generally:\n",
    "    - focus on the *how* and *why*, over literal 'what is the code'\n",
    "    - explain any context needed to understand the task at hand\n",
    "    - give a broad overview of what approach you are taking to perform the task\n",
    "    - if you're using any unusual approaches, explain what they are, and why you're using them\n",
    "- Comments need to be maintained - make sure to keep them up to date"
   ]
  },
  {
   "cell_type": "markdown",
   "metadata": {
    "slideshow": {
     "slide_type": "slide"
    }
   },
   "source": [
    "**Bad Comments**"
   ]
  },
  {
   "cell_type": "code",
   "execution_count": null,
   "metadata": {
    "slideshow": {
     "slide_type": "fragment"
    }
   },
   "outputs": [],
   "source": [
    "# This is a loop that iterates over elements in a list\n",
    "for element in list_of_elements:\n",
    "    pass"
   ]
  },
  {
   "cell_type": "markdown",
   "metadata": {
    "collapsed": true,
    "jupyter": {
     "outputs_hidden": true
    },
    "slideshow": {
     "slide_type": "fragment"
    }
   },
   "source": [
    "**Good Comments**"
   ]
  },
  {
   "cell_type": "code",
   "execution_count": null,
   "metadata": {
    "slideshow": {
     "slide_type": "fragment"
    }
   },
   "outputs": [],
   "source": [
    "# Because of X, we will use approach Y to do Z\n",
    "for element in list_of_elements:\n",
    "    # comment for code block\n",
    "    pass"
   ]
  },
  {
   "cell_type": "markdown",
   "metadata": {
    "slideshow": {
     "slide_type": "slide"
    }
   },
   "source": [
    "#### Code Style: Comments"
   ]
  },
  {
   "cell_type": "markdown",
   "metadata": {
    "slideshow": {
     "slide_type": "fragment"
    }
   },
   "source": [
    "Out-of-date comments are worse than no comments at all.\n",
    "\n",
    "Keep your comments up-to-date."
   ]
  },
  {
   "cell_type": "markdown",
   "metadata": {
    "slideshow": {
     "slide_type": "fragment"
    }
   },
   "source": [
    "#### Block comments\n",
    "- apply to some (or all) code that follows them\n",
    "- are indented to the same level as that code. \n",
    "- Each line of a block comment starts with a # and a single space"
   ]
  },
  {
   "cell_type": "code",
   "execution_count": null,
   "metadata": {
    "slideshow": {
     "slide_type": "fragment"
    }
   },
   "outputs": [],
   "source": [
    "# Badness\n",
    "import random\n",
    "\n",
    "def week_10():\n",
    "# help try to destress students by picking one thing from the following list using random\n",
    "    statements = [\"You've totally got this!\",\"You're so close!\",\"You're going to do great!\",\"Remember to take breaks!\",\"Sleep, water, and food are really important!\"]\n",
    "    out = random.choice(statements)\n",
    "    return out\n",
    "\n",
    "week_10()"
   ]
  },
  {
   "cell_type": "code",
   "execution_count": null,
   "metadata": {
    "slideshow": {
     "slide_type": "fragment"
    }
   },
   "outputs": [],
   "source": [
    "# Goodness\n",
    "def week_10():\n",
    "    \n",
    "    # Randomly pick from list of de-stressing statements\n",
    "    # to help students as they finish the quarter.\n",
    "    statements = [\"You've totally got this!\", \n",
    "                  \"You're so close!\", \n",
    "                  \"You're going to do great!\",\n",
    "                  \"Remember to take breaks!\",\n",
    "                  \"Sleep, water, and food are really important!\"]\n",
    "    \n",
    "    out = random.choice(statements)\n",
    "    \n",
    "    return out\n",
    "\n",
    "week_10()"
   ]
  },
  {
   "cell_type": "markdown",
   "metadata": {
    "slideshow": {
     "slide_type": "fragment"
    }
   },
   "source": [
    "#### Inline comments\n",
    "- to be used sparingly\n",
    "- to be separated by at least two spaces from the statement\n",
    "- start with a # and a single space"
   ]
  },
  {
   "cell_type": "code",
   "execution_count": null,
   "metadata": {
    "slideshow": {
     "slide_type": "fragment"
    }
   },
   "outputs": [],
   "source": [
    "# Badness\n",
    "week_10()#words of encouragement"
   ]
  },
  {
   "cell_type": "code",
   "execution_count": null,
   "metadata": {
    "slideshow": {
     "slide_type": "fragment"
    }
   },
   "outputs": [],
   "source": [
    "# Goodness\n",
    "week_10()  # words of encouragement"
   ]
  },
  {
   "cell_type": "markdown",
   "metadata": {},
   "source": [
    "### Activity: Code Style\n",
    "\n",
    "Complete the Google Form: [https://forms.gle/aS3VoiKuT8vNHEgK9](https://forms.gle/aS3VoiKuT8vNHEgK9)\n",
    "\n",
    "> Improve the code style of the provided class, using PEP8 guidelines:"
   ]
  },
  {
   "cell_type": "code",
   "execution_count": null,
   "metadata": {},
   "outputs": [],
   "source": [
    "#original\n",
    "class CoffeeTracker:\n",
    "    def __init__(self,n):\n",
    "        self.n=n\n",
    "        self.ts=0.0\n",
    "        self.tc=0\n",
    "        self.ap=0.0\n",
    "    def buy_coffee(self,p):\n",
    "        for p1 in p:self.ts+=p1;self.tc+=1\n",
    "        if self.tc>0:self.ap=self.ts/self.tc\n",
    "        print(f\"{self.n} bought {self.tc} coffees.\")\n",
    "        print(f\"Average price per coffee: ${self.ap:.2f}\")"
   ]
  },
  {
   "cell_type": "markdown",
   "metadata": {},
   "source": [
    "Suggested improvements:\n",
    "- meaningful variable names (n -> name; ts -> total_spent; tc -> total_coffees)\n",
    "- line spacing between methods\n",
    "- multi-line statements (for/if) -> more than one line\n",
    "- spacing operators (self,n -> self, n; around other operators )"
   ]
  },
  {
   "cell_type": "code",
   "execution_count": null,
   "metadata": {},
   "outputs": [],
   "source": [
    "#improved\n",
    "class CoffeeTracker:\n",
    "    \n",
    "    def __init__(self, name):\n",
    "        self.name = name\n",
    "        self.total_spent = 0.0\n",
    "        self.total_coffees = 0\n",
    "        self.avg_price = 0.0\n",
    "        \n",
    "    def buy_coffee(self, prices):\n",
    "        \n",
    "        for price in prices:\n",
    "            self.total_spent += price\n",
    "            self.total_coffees += 1\n",
    "            \n",
    "        if self.tc>0:\n",
    "            self.avg_price = self.total_spent/self.total_coffees\n",
    "            \n",
    "        print(f\"{self.name} bought {self.total_coffees} coffees.\")\n",
    "        print(f\"Average price per coffee: ${self.avg_price:.2f}\")"
   ]
  },
  {
   "cell_type": "markdown",
   "metadata": {
    "slideshow": {
     "slide_type": "slide"
    }
   },
   "source": [
    "## Code Documentation"
   ]
  },
  {
   "cell_type": "markdown",
   "metadata": {
    "slideshow": {
     "slide_type": "-"
    }
   },
   "source": [
    "<div class=\"alert alert-success\">\n",
    "Code documentation is text that accompanies and/or is embedded within a software project, that explains what the code is and how to use it. \n",
    "</div>"
   ]
  },
  {
   "cell_type": "markdown",
   "metadata": {
    "slideshow": {
     "slide_type": "fragment"
    }
   },
   "source": [
    "Stuff written for humans in human language to help the humans."
   ]
  },
  {
   "cell_type": "markdown",
   "metadata": {
    "collapsed": true,
    "jupyter": {
     "outputs_hidden": true
    },
    "slideshow": {
     "slide_type": "slide"
    }
   },
   "source": [
    "### Code Comments vs. Documentation"
   ]
  },
  {
   "cell_type": "markdown",
   "metadata": {
    "collapsed": true,
    "jupyter": {
     "outputs_hidden": true
    },
    "slideshow": {
     "slide_type": "fragment"
    }
   },
   "source": [
    "#### Comments"
   ]
  },
  {
   "cell_type": "markdown",
   "metadata": {
    "slideshow": {
     "slide_type": "fragment"
    }
   },
   "source": [
    "Comments are string literals written directly in the code, typically directed at developers - people reading and potentially writing the code. "
   ]
  },
  {
   "cell_type": "markdown",
   "metadata": {
    "slideshow": {
     "slide_type": "fragment"
    }
   },
   "source": [
    "#### Documentation"
   ]
  },
  {
   "cell_type": "markdown",
   "metadata": {
    "slideshow": {
     "slide_type": "fragment"
    }
   },
   "source": [
    "Documentation are descriptions and guides written for code users. "
   ]
  },
  {
   "cell_type": "markdown",
   "metadata": {
    "slideshow": {
     "slide_type": "fragment"
    }
   },
   "source": [
    "## Returning to `convert_to_unicode()`\n",
    "That example from before...Improvement Considerations:\n",
    "- Structural considerations: indentations & spacing\n",
    "- Improved naming: functions & variables\n",
    "- Add Comments within code\n",
    "- **Proper Documentation!**"
   ]
  },
  {
   "cell_type": "code",
   "execution_count": null,
   "metadata": {
    "scrolled": true,
    "slideshow": {
     "slide_type": "slide"
    }
   },
   "outputs": [],
   "source": [
    "def convert_to_unicode(input_string):\n",
    "    \"\"\"Converts an input string into a string containing the unicode code points.\n",
    "    \n",
    "    Parameters\n",
    "    ----------\n",
    "    input_string : string\n",
    "        String to convert to code points\n",
    "        \n",
    "    Returns\n",
    "    -------\n",
    "    output_string : string\n",
    "        String containing the code points for the input string.\n",
    "    \"\"\" \n",
    "    \n",
    "    string = []\n",
    "    # converting input string to list to make it iterable\n",
    "    input_list = list(input_string)\n",
    "\n",
    "    for character in input_list: \n",
    "        string.append(str(ord(character)))\n",
    "        \n",
    "    output_string = '+'.join(string)\n",
    "    return output_string\n",
    "\n",
    "convert_to_unicode('Hello World.')"
   ]
  },
  {
   "cell_type": "markdown",
   "metadata": {
    "slideshow": {
     "slide_type": "slide"
    }
   },
   "source": [
    "## Docstrings"
   ]
  },
  {
   "cell_type": "markdown",
   "metadata": {
    "slideshow": {
     "slide_type": "-"
    }
   },
   "source": [
    "<div class=\"alert alert-success\">\n",
    "<b>Docstrings</b> are in-code text that describe modules, classes and functions. They describe the operation of the code.\n",
    "</div>"
   ]
  },
  {
   "cell_type": "markdown",
   "metadata": {
    "slideshow": {
     "slide_type": "fragment"
    }
   },
   "source": [
    "### Numpy style docs\n",
    "[Numpy style docs](https://numpydoc.readthedocs.io/en/latest/format.html) are a particular specification for docstrings. "
   ]
  },
  {
   "cell_type": "markdown",
   "metadata": {
    "collapsed": true,
    "jupyter": {
     "outputs_hidden": true
    },
    "slideshow": {
     "slide_type": "slide"
    }
   },
   "source": [
    "### Example Docstring"
   ]
  },
  {
   "cell_type": "code",
   "execution_count": null,
   "metadata": {
    "slideshow": {
     "slide_type": "fragment"
    }
   },
   "outputs": [],
   "source": [
    "def add(num1, num2):\n",
    "    \"\"\"Add two numbers together. \n",
    "    \n",
    "    Parameters\n",
    "    ----------\n",
    "    num1 : int or float\n",
    "        The first number, to be added. \n",
    "    num2 : int or float\n",
    "        The second number, to be added.\n",
    "    \n",
    "    Returns\n",
    "    -------\n",
    "    answer : float\n",
    "        The result of the addition. \n",
    "    \"\"\"\n",
    "    \n",
    "    answer = num1 + num2\n",
    "    \n",
    "    return answer"
   ]
  },
  {
   "cell_type": "markdown",
   "metadata": {
    "slideshow": {
     "slide_type": "fragment"
    }
   },
   "source": [
    "Docstrings\n",
    "\n",
    "- multi-line string that describes what's going on\n",
    "- starts and ends with triple quotes `\"\"\"`\n",
    "- one sentence overview at the top - the task/goal of function\n",
    "- **Parameters** : description of function arguments, keywords & respective types\n",
    "- **Returns** : explanation of returned values and their types"
   ]
  },
  {
   "cell_type": "markdown",
   "metadata": {
    "slideshow": {
     "slide_type": "fragment"
    }
   },
   "source": [
    "**Docstrings** are available to you *outside* of the source code."
   ]
  },
  {
   "cell_type": "markdown",
   "metadata": {
    "editable": true,
    "slideshow": {
     "slide_type": "fragment"
    },
    "tags": []
   },
   "source": [
    "Note: ChatGPT is pretty good at generating docstrings..."
   ]
  },
  {
   "cell_type": "markdown",
   "metadata": {
    "slideshow": {
     "slide_type": "slide"
    }
   },
   "source": [
    "### Docstrings are available through the code"
   ]
  },
  {
   "cell_type": "code",
   "execution_count": null,
   "metadata": {
    "slideshow": {
     "slide_type": "-"
    }
   },
   "outputs": [],
   "source": [
    "add?"
   ]
  },
  {
   "cell_type": "code",
   "execution_count": null,
   "metadata": {
    "slideshow": {
     "slide_type": "fragment"
    }
   },
   "outputs": [],
   "source": [
    "# The `help` function prints out the `docstring` \n",
    "# of an object (module, function, class)\n",
    "help(add)"
   ]
  },
  {
   "cell_type": "markdown",
   "metadata": {
    "slideshow": {
     "slide_type": "slide"
    }
   },
   "source": [
    "#### `__doc__`"
   ]
  },
  {
   "cell_type": "code",
   "execution_count": null,
   "metadata": {
    "scrolled": true,
    "slideshow": {
     "slide_type": "-"
    }
   },
   "outputs": [],
   "source": [
    "# Docstrings get stored as the `__doc__` attribute\n",
    "# can also be accessed from there\n",
    "print(add.__doc__)"
   ]
  },
  {
   "cell_type": "code",
   "execution_count": null,
   "metadata": {},
   "outputs": [],
   "source": [
    "class Person:\n",
    "\n",
    "    def __init__(self, name, age):\n",
    "        self.name = name\n",
    "        self.age = age\n",
    "\n",
    "    def birthday(self):\n",
    "        self.age += 1\n",
    "        return 'Happy Birthday!'"
   ]
  },
  {
   "cell_type": "code",
   "execution_count": null,
   "metadata": {},
   "outputs": [],
   "source": [
    "# with docstring\n",
    "class Person:\n",
    "    \"\"\"\n",
    "    A class to represent a person with a name and age.\n",
    "\n",
    "    Attributes\n",
    "    ----------\n",
    "    name : str\n",
    "        The name of the person.\n",
    "    age : int\n",
    "        The age of the person.\n",
    "\n",
    "    Methods\n",
    "    -------\n",
    "    birthday():\n",
    "        Increments the person's age by one and returns a birthday greeting.\n",
    "    \"\"\"\n",
    "\n",
    "    def __init__(self, name, age):\n",
    "        self.name = name\n",
    "        self.age = age\n",
    "\n",
    "    def birthday(self):\n",
    "        \"\"\"\n",
    "        Increments the person's age by one year.\n",
    "\n",
    "        Returns\n",
    "        -------\n",
    "        str\n",
    "            A birthday greeting message.\n",
    "        \"\"\"\n",
    "        self.age += 1\n",
    "        return 'Happy Birthday!'\n"
   ]
  },
  {
   "cell_type": "markdown",
   "metadata": {
    "slideshow": {
     "slide_type": "slide"
    }
   },
   "source": [
    "### Final Exam & Documentation\n",
    "\n",
    "**Will I need to write docstrings on the final exam?**\n",
    "\n",
    "No...not from scratch (but you need to know what they are and be able to read/understand one). LLMs are really good at this, so I won't make you write them by hand on the exam."
   ]
  },
  {
   "cell_type": "markdown",
   "metadata": {},
   "source": [
    "### Activity: Code Testing (Revisited)\n",
    "\n",
    "Complete the Google Form: [https://forms.gle/jWDmi5Zokg5uXD197](https://forms.gle/jWDmi5Zokg5uXD197)\n",
    "\n",
    "We now have this nicely-styled and documented function. How could we use `unittest` for this?"
   ]
  },
  {
   "cell_type": "code",
   "execution_count": 1,
   "metadata": {},
   "outputs": [],
   "source": [
    "def convert_to_unicode(input_string):\n",
    "    \"\"\"Converts an input string into a string containing the unicode code points.\n",
    "    \n",
    "    Parameters\n",
    "    ----------\n",
    "    input_string : string\n",
    "        String to convert to code points\n",
    "        \n",
    "    Returns\n",
    "    -------\n",
    "    output_string : string\n",
    "        String containing the code points for the input string.\n",
    "    \"\"\" \n",
    "    \n",
    "    string = []\n",
    "    # coverting input string to list to make it iterable\n",
    "    input_list = list(input_string)\n",
    "      \n",
    "    for character in input_list: \n",
    "        string.append(str(ord(character)))\n",
    "        \n",
    "    output_string = '+'.join(string)\n",
    "    return output_string"
   ]
  },
  {
   "cell_type": "code",
   "execution_count": 2,
   "metadata": {},
   "outputs": [
    {
     "data": {
      "text/plain": [
       "'97+98+99'"
      ]
     },
     "execution_count": 2,
     "metadata": {},
     "output_type": "execute_result"
    }
   ],
   "source": [
    "convert_to_unicode('abc')"
   ]
  },
  {
   "cell_type": "code",
   "execution_count": null,
   "metadata": {},
   "outputs": [],
   "source": []
  },
  {
   "cell_type": "markdown",
   "metadata": {},
   "source": [
    "<div class=\"alert alert-warning\">\n",
    "<b>Below is an example of the <code>unittest</code>  framework I'd provide on the final exam:</b> \n",
    "</div>"
   ]
  },
  {
   "cell_type": "code",
   "execution_count": 4,
   "metadata": {},
   "outputs": [
    {
     "name": "stderr",
     "output_type": "stream",
     "text": [
      "test_length (__main__.TestConvertToUnicode.test_length) ... ok\n",
      "test_output (__main__.TestConvertToUnicode.test_output) ... ok\n",
      "test_output_type (__main__.TestConvertToUnicode.test_output_type) ... ok\n",
      "\n",
      "----------------------------------------------------------------------\n",
      "Ran 3 tests in 0.003s\n",
      "\n",
      "OK\n"
     ]
    }
   ],
   "source": [
    "import unittest\n",
    "\n",
    "class TestConvertToUnicode(unittest.TestCase):\n",
    "\n",
    "    output = convert_to_unicode('abc')\n",
    "    \n",
    "    def test_output_type(self):\n",
    "        self.assertIsInstance(self.output, str)\n",
    "        \n",
    "    def test_length(self):\n",
    "        self.assertEqual(8, len(convert_to_unicode('abc')))\n",
    "            \n",
    "    def test_output(self):\n",
    "        self.assertEqual('97+98+99', convert_to_unicode('abc'))\n",
    "        \n",
    "if __name__ == '__main__':\n",
    "    suite = unittest.TestLoader().loadTestsFromTestCase(TestConvertToUnicode)\n",
    "    unittest.TextTestRunner(verbosity=2).run(suite)"
   ]
  },
  {
   "cell_type": "markdown",
   "metadata": {},
   "source": [
    "<div class=\"alert alert-danger\">\n",
    "<b>NOTE: Below this is not tested on your final exam.</b> \n",
    "</div>"
   ]
  },
  {
   "cell_type": "markdown",
   "metadata": {
    "slideshow": {
     "slide_type": "slide"
    }
   },
   "source": [
    "### Documentation for a Software Project"
   ]
  },
  {
   "cell_type": "markdown",
   "metadata": {
    "slideshow": {
     "slide_type": "fragment"
    }
   },
   "source": [
    "Documentation Files:\n",
    "- A `README` is a file that provides an overview of the project to potential users and developers\n",
    "- A `LICENSE` file specifies the license under which the code is available (the terms of use)\n",
    "- An `API Reference` is a collection of the docstrings, listing public interfaces, parameters and return values\n",
    "- Tutorials and/or Examples show examples and tutorials for using the codebase"
   ]
  },
  {
   "cell_type": "markdown",
   "metadata": {
    "collapsed": true,
    "jupyter": {
     "outputs_hidden": true
    },
    "slideshow": {
     "slide_type": "slide"
    }
   },
   "source": [
    "### Documentation Sites"
   ]
  },
  {
   "cell_type": "markdown",
   "metadata": {
    "collapsed": true,
    "jupyter": {
     "outputs_hidden": true
    },
    "slideshow": {
     "slide_type": "fragment"
    }
   },
   "source": [
    "<div class=\"alert alert-success\">\n",
    "Documentation sites are a host of a package's documentation, for code users. \n",
    "</div>"
   ]
  },
  {
   "cell_type": "markdown",
   "metadata": {
    "slideshow": {
     "slide_type": "fragment"
    }
   },
   "source": [
    "#### Example: Function Documentation\n",
    "`numpy.array` :\n",
    "https://docs.scipy.org/doc/numpy/reference/generated/numpy.array.html"
   ]
  },
  {
   "cell_type": "markdown",
   "metadata": {
    "slideshow": {
     "slide_type": "fragment"
    }
   },
   "source": [
    "#### Example: Package Documentation\n",
    "**scikit learn** (`sklearn`) : https://scikit-learn.org/stable/index.html"
   ]
  },
  {
   "cell_type": "markdown",
   "metadata": {
    "slideshow": {
     "slide_type": "slide"
    }
   },
   "source": [
    "## Linters"
   ]
  },
  {
   "cell_type": "markdown",
   "metadata": {
    "slideshow": {
     "slide_type": "fragment"
    }
   },
   "source": [
    "<div class=\"alert alert-success\">\n",
    "A linter is a tool that analyzes code for both programmatic errors and stylistic issues. \n",
    "</div>"
   ]
  },
  {
   "cell_type": "markdown",
   "metadata": {
    "slideshow": {
     "slide_type": "fragment"
    }
   },
   "source": [
    "`pylint` is available from Anaconda to check this for you. (Not available on PrairieLearn.)\n",
    "\n",
    "\n",
    "```python\n",
    "# to install on your computer\n",
    "!pip install --user pylint\n",
    "```"
   ]
  },
  {
   "cell_type": "markdown",
   "metadata": {
    "collapsed": true,
    "jupyter": {
     "outputs_hidden": true
    },
    "slideshow": {
     "slide_type": "slide"
    }
   },
   "source": [
    "#### Think-Pair-Share\n",
    "\n",
    "How many PEP8 violations can you find in this code?"
   ]
  },
  {
   "cell_type": "code",
   "execution_count": null,
   "metadata": {
    "slideshow": {
     "slide_type": "fragment"
    }
   },
   "outputs": [],
   "source": [
    "def MyFunction(input_num):\n",
    "    \n",
    "    my_list = [0,1,2,3]\n",
    "    if 1 in my_list: ind = 1\n",
    "    else:\n",
    "      ind = 0\n",
    "    qq = []\n",
    "    for i in my_list [ind:]:\n",
    "        qq.append(input_num/i)\n",
    "    return qq"
   ]
  },
  {
   "cell_type": "markdown",
   "metadata": {
    "slideshow": {
     "slide_type": "-"
    }
   },
   "source": [
    "### list here\n",
    "- conditional (if) -> multiline\n",
    "- spacing with indexing\n",
    "- qq -> good variable naming\n",
    "- spacing for value in my_list (spaces after commas)\n",
    "- function name is not snake case "
   ]
  },
  {
   "cell_type": "code",
   "execution_count": null,
   "metadata": {
    "slideshow": {
     "slide_type": "fragment"
    }
   },
   "outputs": [],
   "source": [
    "# Let's fix this code\n",
    "def output_nums(input_num):\n",
    "    \n",
    "    my_list = [0, 1, 2, 3]\n",
    "    \n",
    "    if 1 in my_list: \n",
    "        ind = 1\n",
    "    else:\n",
    "        ind = 0\n",
    "        \n",
    "    output_list = []\n",
    "    for i in my_list[ind:]:\n",
    "        output_list.append(input_num/i)\n",
    "        \n",
    "    return output_list"
   ]
  },
  {
   "cell_type": "code",
   "execution_count": null,
   "metadata": {
    "scrolled": true
   },
   "outputs": [],
   "source": [
    "# check using pylint\n",
    "!pylint linter_example.py"
   ]
  },
  {
   "cell_type": "markdown",
   "metadata": {
    "slideshow": {
     "slide_type": "slide"
    }
   },
   "source": [
    "## Software Versioning\n",
    "\n",
    "When you make changes to the software you've released into the world, you have to change the version of that software to let people know changes have occurred."
   ]
  },
  {
   "cell_type": "markdown",
   "metadata": {
    "slideshow": {
     "slide_type": "slide"
    }
   },
   "source": [
    "### Versioning Schemes\n",
    "\n",
    "The rules, if you're new to this can be [dizzying](https://www.python.org/dev/peps/pep-0440/#version-scheme), so we'll [simplify](https://www.python.org/dev/peps/pep-0396/) for now:\n",
    "\n",
    "- `<MAJOR>.<MINOR>`\n",
    "    - i.e. 1.3\n",
    "    \n",
    "- `<MAJOR>.<MINOR>.<MAINTENANCE>`\n",
    "    - i.e. 1.3.1"
   ]
  },
  {
   "cell_type": "markdown",
   "metadata": {
    "slideshow": {
     "slide_type": "fragment"
    }
   },
   "source": [
    "- `<MAJOR>` - increase by 1 w/ incompatible API changes\n",
    "- `<MINOR>` - increase by 1 w/ added functionality in a backwards-compatible manner\n",
    "- `<MAINTENANCE>` - (aka patch) increase by 1 w/  backwards-compatible bug fixes."
   ]
  },
  {
   "cell_type": "code",
   "execution_count": 5,
   "metadata": {
    "slideshow": {
     "slide_type": "-"
    }
   },
   "outputs": [
    {
     "data": {
      "text/plain": [
       "'2.2.3'"
      ]
     },
     "execution_count": 5,
     "metadata": {},
     "output_type": "execute_result"
    }
   ],
   "source": [
    "# see version information\n",
    "import pandas as pd\n",
    "pd.__version__"
   ]
  },
  {
   "cell_type": "markdown",
   "metadata": {
    "slideshow": {
     "slide_type": "fragment"
    }
   },
   "source": [
    "In Python package development... when `<MAJOR>` == 0, suggests a package in development"
   ]
  },
  {
   "cell_type": "code",
   "execution_count": 6,
   "metadata": {
    "scrolled": true,
    "slideshow": {
     "slide_type": "-"
    }
   },
   "outputs": [
    {
     "name": "stdout",
     "output_type": "stream",
     "text": [
      "Name: pandas\n",
      "Version: 2.2.3\n",
      "Summary: Powerful data structures for data analysis, time series, and statistics\n",
      "Home-page: https://pandas.pydata.org\n",
      "Author: \n",
      "Author-email: The Pandas Development Team <pandas-dev@python.org>\n",
      "License: BSD 3-Clause License\n",
      "\n",
      "Copyright (c) 2008-2011, AQR Capital Management, LLC, Lambda Foundry, Inc. and PyData Development Team\n",
      "All rights reserved.\n",
      "\n",
      "Copyright (c) 2011-2023, Open source contributors.\n",
      "\n",
      "Redistribution and use in source and binary forms, with or without\n",
      "modification, are permitted provided that the following conditions are met:\n",
      "\n",
      "* Redistributions of source code must retain the above copyright notice, this\n",
      "  list of conditions and the following disclaimer.\n",
      "\n",
      "* Redistributions in binary form must reproduce the above copyright notice,\n",
      "  this list of conditions and the following disclaimer in the documentation\n",
      "  and/or other materials provided with the distribution.\n",
      "\n",
      "* Neither the name of the copyright holder nor the names of its\n",
      "  contributors may be used to endorse or promote products derived from\n",
      "  this software without specific prior written permission.\n",
      "\n",
      "THIS SOFTWARE IS PROVIDED BY THE COPYRIGHT HOLDERS AND CONTRIBUTORS \"AS IS\"\n",
      "AND ANY EXPRESS OR IMPLIED WARRANTIES, INCLUDING, BUT NOT LIMITED TO, THE\n",
      "IMPLIED WARRANTIES OF MERCHANTABILITY AND FITNESS FOR A PARTICULAR PURPOSE ARE\n",
      "DISCLAIMED. IN NO EVENT SHALL THE COPYRIGHT HOLDER OR CONTRIBUTORS BE LIABLE\n",
      "FOR ANY DIRECT, INDIRECT, INCIDENTAL, SPECIAL, EXEMPLARY, OR CONSEQUENTIAL\n",
      "DAMAGES (INCLUDING, BUT NOT LIMITED TO, PROCUREMENT OF SUBSTITUTE GOODS OR\n",
      "SERVICES; LOSS OF USE, DATA, OR PROFITS; OR BUSINESS INTERRUPTION) HOWEVER\n",
      "CAUSED AND ON ANY THEORY OF LIABILITY, WHETHER IN CONTRACT, STRICT LIABILITY,\n",
      "OR TORT (INCLUDING NEGLIGENCE OR OTHERWISE) ARISING IN ANY WAY OUT OF THE USE\n",
      "OF THIS SOFTWARE, EVEN IF ADVISED OF THE POSSIBILITY OF SUCH DAMAGE.\n",
      "Copyright (c) 2010-2019 Keith Goodman\n",
      "Copyright (c) 2019 Bottleneck Developers\n",
      "All rights reserved.\n",
      "\n",
      "Redistribution and use in source and binary forms, with or without\n",
      "modification, are permitted provided that the following conditions are met:\n",
      "\n",
      "    * Redistributions of source code must retain the above copyright notice,\n",
      "      this list of conditions and the following disclaimer.\n",
      "\n",
      "    * Redistributions in binary form must reproduce the above copyright\n",
      "      notice, this list of conditions and the following disclaimer in the\n",
      "      documentation and/or other materials provided with the distribution.\n",
      "\n",
      "THIS SOFTWARE IS PROVIDED BY THE COPYRIGHT HOLDERS AND CONTRIBUTORS \"AS IS\"\n",
      "AND ANY EXPRESS OR IMPLIED WARRANTIES, INCLUDING, BUT NOT LIMITED TO, THE\n",
      "IMPLIED WARRANTIES OF MERCHANTABILITY AND FITNESS FOR A PARTICULAR PURPOSE\n",
      "ARE DISCLAIMED. IN NO EVENT SHALL THE COPYRIGHT HOLDER OR CONTRIBUTORS BE\n",
      "LIABLE FOR ANY DIRECT, INDIRECT, INCIDENTAL, SPECIAL, EXEMPLARY, OR\n",
      "CONSEQUENTIAL DAMAGES (INCLUDING, BUT NOT LIMITED TO, PROCUREMENT OF\n",
      "SUBSTITUTE GOODS OR SERVICES; LOSS OF USE, DATA, OR PROFITS; OR BUSINESS\n",
      "INTERRUPTION) HOWEVER CAUSED AND ON ANY THEORY OF LIABILITY, WHETHER IN\n",
      "CONTRACT, STRICT LIABILITY, OR TORT (INCLUDING NEGLIGENCE OR OTHERWISE)\n",
      "ARISING IN ANY WAY OUT OF THE USE OF THIS SOFTWARE, EVEN IF ADVISED OF THE\n",
      "POSSIBILITY OF SUCH DAMAGE.Copyright 2017- Paul Ganssle <paul@ganssle.io>\n",
      "Copyright 2017- dateutil contributors (see AUTHORS file)\n",
      "\n",
      "   Licensed under the Apache License, Version 2.0 (the \"License\");\n",
      "   you may not use this file except in compliance with the License.\n",
      "   You may obtain a copy of the License at\n",
      "\n",
      "       http://www.apache.org/licenses/LICENSE-2.0\n",
      "\n",
      "   Unless required by applicable law or agreed to in writing, software\n",
      "   distributed under the License is distributed on an \"AS IS\" BASIS,\n",
      "   WITHOUT WARRANTIES OR CONDITIONS OF ANY KIND, either express or implied.\n",
      "   See the License for the specific language governing permissions and\n",
      "   limitations under the License.\n",
      "\n",
      "The above license applies to all contributions after 2017-12-01, as well as\n",
      "all contributions that have been re-licensed (see AUTHORS file for the list of\n",
      "contributors who have re-licensed their code).\n",
      "--------------------------------------------------------------------------------\n",
      "dateutil - Extensions to the standard Python datetime module.\n",
      "\n",
      "Copyright (c) 2003-2011 - Gustavo Niemeyer <gustavo@niemeyer.net>\n",
      "Copyright (c) 2012-2014 - Tomi Pieviläinen <tomi.pievilainen@iki.fi>\n",
      "Copyright (c) 2014-2016 - Yaron de Leeuw <me@jarondl.net>\n",
      "Copyright (c) 2015-     - Paul Ganssle <paul@ganssle.io>\n",
      "Copyright (c) 2015-     - dateutil contributors (see AUTHORS file)\n",
      "\n",
      "All rights reserved.\n",
      "\n",
      "Redistribution and use in source and binary forms, with or without\n",
      "modification, are permitted provided that the following conditions are met:\n",
      "\n",
      "    * Redistributions of source code must retain the above copyright notice,\n",
      "      this list of conditions and the following disclaimer.\n",
      "    * Redistributions in binary form must reproduce the above copyright notice,\n",
      "      this list of conditions and the following disclaimer in the documentation\n",
      "      and/or other materials provided with the distribution.\n",
      "    * Neither the name of the copyright holder nor the names of its\n",
      "      contributors may be used to endorse or promote products derived from\n",
      "      this software without specific prior written permission.\n",
      "\n",
      "THIS SOFTWARE IS PROVIDED BY THE COPYRIGHT HOLDERS AND CONTRIBUTORS\n",
      "\"AS IS\" AND ANY EXPRESS OR IMPLIED WARRANTIES, INCLUDING, BUT NOT\n",
      "LIMITED TO, THE IMPLIED WARRANTIES OF MERCHANTABILITY AND FITNESS FOR\n",
      "A PARTICULAR PURPOSE ARE DISCLAIMED. IN NO EVENT SHALL THE COPYRIGHT OWNER OR\n",
      "CONTRIBUTORS BE LIABLE FOR ANY DIRECT, INDIRECT, INCIDENTAL, SPECIAL,\n",
      "EXEMPLARY, OR CONSEQUENTIAL DAMAGES (INCLUDING, BUT NOT LIMITED TO,\n",
      "PROCUREMENT OF SUBSTITUTE GOODS OR SERVICES; LOSS OF USE, DATA, OR\n",
      "PROFITS; OR BUSINESS INTERRUPTION) HOWEVER CAUSED AND ON ANY THEORY OF\n",
      "LIABILITY, WHETHER IN CONTRACT, STRICT LIABILITY, OR TORT (INCLUDING\n",
      "NEGLIGENCE OR OTHERWISE) ARISING IN ANY WAY OUT OF THE USE OF THIS\n",
      "SOFTWARE, EVEN IF ADVISED OF THE POSSIBILITY OF SUCH DAMAGE.\n",
      "\n",
      "The above BSD License Applies to all code, even that also covered by Apache 2.0.# MIT License\n",
      "\n",
      "Copyright (c) 2019 Hadley Wickham; RStudio; and Evan Miller\n",
      "\n",
      "Permission is hereby granted, free of charge, to any person obtaining a copy\n",
      "of this software and associated documentation files (the \"Software\"), to deal\n",
      "in the Software without restriction, including without limitation the rights\n",
      "to use, copy, modify, merge, publish, distribute, sublicense, and/or sell\n",
      "copies of the Software, and to permit persons to whom the Software is\n",
      "furnished to do so, subject to the following conditions:\n",
      "\n",
      "The above copyright notice and this permission notice shall be included in all\n",
      "copies or substantial portions of the Software.\n",
      "\n",
      "THE SOFTWARE IS PROVIDED \"AS IS\", WITHOUT WARRANTY OF ANY KIND, EXPRESS OR\n",
      "IMPLIED, INCLUDING BUT NOT LIMITED TO THE WARRANTIES OF MERCHANTABILITY,\n",
      "FITNESS FOR A PARTICULAR PURPOSE AND NONINFRINGEMENT. IN NO EVENT SHALL THE\n",
      "AUTHORS OR COPYRIGHT HOLDERS BE LIABLE FOR ANY CLAIM, DAMAGES OR OTHER\n",
      "LIABILITY, WHETHER IN AN ACTION OF CONTRACT, TORT OR OTHERWISE, ARISING FROM,\n",
      "OUT OF OR IN CONNECTION WITH THE SOFTWARE OR THE USE OR OTHER DEALINGS IN THE\n",
      "SOFTWARE.\n",
      "Based on http://opensource.org/licenses/MIT\n",
      "\n",
      "This is a template. Complete and ship as file LICENSE the following 2\n",
      "lines (only)\n",
      "\n",
      "YEAR:\n",
      "COPYRIGHT HOLDER:\n",
      "\n",
      "and specify as\n",
      "\n",
      "License: MIT + file LICENSE\n",
      "\n",
      "Copyright (c) <YEAR>, <COPYRIGHT HOLDER>\n",
      "\n",
      "Permission is hereby granted, free of charge, to any person obtaining\n",
      "a copy of this software and associated documentation files (the\n",
      "\"Software\"), to deal in the Software without restriction, including\n",
      "without limitation the rights to use, copy, modify, merge, publish,\n",
      "distribute, sublicense, and/or sell copies of the Software, and to\n",
      "permit persons to whom the Software is furnished to do so, subject to\n",
      "the following conditions:\n",
      "\n",
      "The above copyright notice and this permission notice shall be\n",
      "included in all copies or substantial portions of the Software.\n",
      "\n",
      "THE SOFTWARE IS PROVIDED \"AS IS\", WITHOUT WARRANTY OF ANY KIND,\n",
      "EXPRESS OR IMPLIED, INCLUDING BUT NOT LIMITED TO THE WARRANTIES OF\n",
      "MERCHANTABILITY, FITNESS FOR A PARTICULAR PURPOSE AND\n",
      "NONINFRINGEMENT. IN NO EVENT SHALL THE AUTHORS OR COPYRIGHT HOLDERS BE\n",
      "LIABLE FOR ANY CLAIM, DAMAGES OR OTHER LIABILITY, WHETHER IN AN ACTION\n",
      "OF CONTRACT, TORT OR OTHERWISE, ARISING FROM, OUT OF OR IN CONNECTION\n",
      "WITH THE SOFTWARE OR THE USE OR OTHER DEALINGS IN THE SOFTWARE.\n",
      "The MIT License\n",
      "\n",
      "Copyright (c) 2008-     Attractive Chaos <attractor@live.co.uk>\n",
      "\n",
      "Permission is hereby granted, free of charge, to any person obtaining\n",
      "a copy of this software and associated documentation files (the\n",
      "\"Software\"), to deal in the Software without restriction, including\n",
      "without limitation the rights to use, copy, modify, merge, publish,\n",
      "distribute, sublicense, and/or sell copies of the Software, and to\n",
      "permit persons to whom the Software is furnished to do so, subject to\n",
      "the following conditions:\n",
      "\n",
      "The above copyright notice and this permission notice shall be\n",
      "included in all copies or substantial portions of the Software.\n",
      "\n",
      "THE SOFTWARE IS PROVIDED \"AS IS\", WITHOUT WARRANTY OF ANY KIND,\n",
      "EXPRESS OR IMPLIED, INCLUDING BUT NOT LIMITED TO THE WARRANTIES OF\n",
      "MERCHANTABILITY, FITNESS FOR A PARTICULAR PURPOSE AND\n",
      "NONINFRINGEMENT. IN NO EVENT SHALL THE AUTHORS OR COPYRIGHT HOLDERS\n",
      "BE LIABLE FOR ANY CLAIM, DAMAGES OR OTHER LIABILITY, WHETHER IN AN\n",
      "ACTION OF CONTRACT, TORT OR OTHERWISE, ARISING FROM, OUT OF OR IN\n",
      "CONNECTION WITH THE SOFTWARE OR THE USE OR OTHER DEALINGS IN THE\n",
      "SOFTWARE.musl as a whole is licensed under the following standard MIT license:\n",
      "\n",
      "----------------------------------------------------------------------\n",
      "Copyright © 2005-2020 Rich Felker, et al.\n",
      "\n",
      "Permission is hereby granted, free of charge, to any person obtaining\n",
      "a copy of this software and associated documentation files (the\n",
      "\"Software\"), to deal in the Software without restriction, including\n",
      "without limitation the rights to use, copy, modify, merge, publish,\n",
      "distribute, sublicense, and/or sell copies of the Software, and to\n",
      "permit persons to whom the Software is furnished to do so, subject to\n",
      "the following conditions:\n",
      "\n",
      "The above copyright notice and this permission notice shall be\n",
      "included in all copies or substantial portions of the Software.\n",
      "\n",
      "THE SOFTWARE IS PROVIDED \"AS IS\", WITHOUT WARRANTY OF ANY KIND,\n",
      "EXPRESS OR IMPLIED, INCLUDING BUT NOT LIMITED TO THE WARRANTIES OF\n",
      "MERCHANTABILITY, FITNESS FOR A PARTICULAR PURPOSE AND NONINFRINGEMENT.\n",
      "IN NO EVENT SHALL THE AUTHORS OR COPYRIGHT HOLDERS BE LIABLE FOR ANY\n",
      "CLAIM, DAMAGES OR OTHER LIABILITY, WHETHER IN AN ACTION OF CONTRACT,\n",
      "TORT OR OTHERWISE, ARISING FROM, OUT OF OR IN CONNECTION WITH THE\n",
      "SOFTWARE OR THE USE OR OTHER DEALINGS IN THE SOFTWARE.\n",
      "----------------------------------------------------------------------\n",
      "\n",
      "Authors/contributors include:\n",
      "\n",
      "A. Wilcox\n",
      "Ada Worcester\n",
      "Alex Dowad\n",
      "Alex Suykov\n",
      "Alexander Monakov\n",
      "Andre McCurdy\n",
      "Andrew Kelley\n",
      "Anthony G. Basile\n",
      "Aric Belsito\n",
      "Arvid Picciani\n",
      "Bartosz Brachaczek\n",
      "Benjamin Peterson\n",
      "Bobby Bingham\n",
      "Boris Brezillon\n",
      "Brent Cook\n",
      "Chris Spiegel\n",
      "Clément Vasseur\n",
      "Daniel Micay\n",
      "Daniel Sabogal\n",
      "Daurnimator\n",
      "David Carlier\n",
      "David Edelsohn\n",
      "Denys Vlasenko\n",
      "Dmitry Ivanov\n",
      "Dmitry V. Levin\n",
      "Drew DeVault\n",
      "Emil Renner Berthing\n",
      "Fangrui Song\n",
      "Felix Fietkau\n",
      "Felix Janda\n",
      "Gianluca Anzolin\n",
      "Hauke Mehrtens\n",
      "He X\n",
      "Hiltjo Posthuma\n",
      "Isaac Dunham\n",
      "Jaydeep Patil\n",
      "Jens Gustedt\n",
      "Jeremy Huntwork\n",
      "Jo-Philipp Wich\n",
      "Joakim Sindholt\n",
      "John Spencer\n",
      "Julien Ramseier\n",
      "Justin Cormack\n",
      "Kaarle Ritvanen\n",
      "Khem Raj\n",
      "Kylie McClain\n",
      "Leah Neukirchen\n",
      "Luca Barbato\n",
      "Luka Perkov\n",
      "M Farkas-Dyck (Strake)\n",
      "Mahesh Bodapati\n",
      "Markus Wichmann\n",
      "Masanori Ogino\n",
      "Michael Clark\n",
      "Michael Forney\n",
      "Mikhail Kremnyov\n",
      "Natanael Copa\n",
      "Nicholas J. Kain\n",
      "orc\n",
      "Pascal Cuoq\n",
      "Patrick Oppenlander\n",
      "Petr Hosek\n",
      "Petr Skocik\n",
      "Pierre Carrier\n",
      "Reini Urban\n",
      "Rich Felker\n",
      "Richard Pennington\n",
      "Ryan Fairfax\n",
      "Samuel Holland\n",
      "Segev Finer\n",
      "Shiz\n",
      "sin\n",
      "Solar Designer\n",
      "Stefan Kristiansson\n",
      "Stefan O'Rear\n",
      "Szabolcs Nagy\n",
      "Timo Teräs\n",
      "Trutz Behn\n",
      "Valentin Ochs\n",
      "Will Dietz\n",
      "William Haddon\n",
      "William Pitcock\n",
      "\n",
      "Portions of this software are derived from third-party works licensed\n",
      "under terms compatible with the above MIT license:\n",
      "\n",
      "The TRE regular expression implementation (src/regex/reg* and\n",
      "src/regex/tre*) is Copyright © 2001-2008 Ville Laurikari and licensed\n",
      "under a 2-clause BSD license (license text in the source files). The\n",
      "included version has been heavily modified by Rich Felker in 2012, in\n",
      "the interests of size, simplicity, and namespace cleanliness.\n",
      "\n",
      "Much of the math library code (src/math/* and src/complex/*) is\n",
      "Copyright © 1993,2004 Sun Microsystems or\n",
      "Copyright © 2003-2011 David Schultz or\n",
      "Copyright © 2003-2009 Steven G. Kargl or\n",
      "Copyright © 2003-2009 Bruce D. Evans or\n",
      "Copyright © 2008 Stephen L. Moshier or\n",
      "Copyright © 2017-2018 Arm Limited\n",
      "and labelled as such in comments in the individual source files. All\n",
      "have been licensed under extremely permissive terms.\n",
      "\n",
      "The ARM memcpy code (src/string/arm/memcpy.S) is Copyright © 2008\n",
      "The Android Open Source Project and is licensed under a two-clause BSD\n",
      "license. It was taken from Bionic libc, used on Android.\n",
      "\n",
      "The AArch64 memcpy and memset code (src/string/aarch64/*) are\n",
      "Copyright © 1999-2019, Arm Limited.\n",
      "\n",
      "The implementation of DES for crypt (src/crypt/crypt_des.c) is\n",
      "Copyright © 1994 David Burren. It is licensed under a BSD license.\n",
      "\n",
      "The implementation of blowfish crypt (src/crypt/crypt_blowfish.c) was\n",
      "originally written by Solar Designer and placed into the public\n",
      "domain. The code also comes with a fallback permissive license for use\n",
      "in jurisdictions that may not recognize the public domain.\n",
      "\n",
      "The smoothsort implementation (src/stdlib/qsort.c) is Copyright © 2011\n",
      "Valentin Ochs and is licensed under an MIT-style license.\n",
      "\n",
      "The x86_64 port was written by Nicholas J. Kain and is licensed under\n",
      "the standard MIT terms.\n",
      "\n",
      "The mips and microblaze ports were originally written by Richard\n",
      "Pennington for use in the ellcc project. The original code was adapted\n",
      "by Rich Felker for build system and code conventions during upstream\n",
      "integration. It is licensed under the standard MIT terms.\n",
      "\n",
      "The mips64 port was contributed by Imagination Technologies and is\n",
      "licensed under the standard MIT terms.\n",
      "\n",
      "The powerpc port was also originally written by Richard Pennington,\n",
      "and later supplemented and integrated by John Spencer. It is licensed\n",
      "under the standard MIT terms.\n",
      "\n",
      "All other files which have no copyright comments are original works\n",
      "produced specifically for use as part of this library, written either\n",
      "by Rich Felker, the main author of the library, or by one or more\n",
      "contibutors listed above. Details on authorship of individual files\n",
      "can be found in the git version control history of the project. The\n",
      "omission of copyright and license comments in each file is in the\n",
      "interest of source tree size.\n",
      "\n",
      "In addition, permission is hereby granted for all public header files\n",
      "(include/* and arch/*/bits/*) and crt files intended to be linked into\n",
      "applications (crt/*, ldso/dlstart.c, and arch/*/crt_arch.h) to omit\n",
      "the copyright notice and permission notice otherwise required by the\n",
      "license, and to use these files without any requirement of\n",
      "attribution. These files include substantial contributions from:\n",
      "\n",
      "Bobby Bingham\n",
      "John Spencer\n",
      "Nicholas J. Kain\n",
      "Rich Felker\n",
      "Richard Pennington\n",
      "Stefan Kristiansson\n",
      "Szabolcs Nagy\n",
      "\n",
      "all of whom have explicitly granted such permission.\n",
      "\n",
      "This file previously contained text expressing a belief that most of\n",
      "the files covered by the above exception were sufficiently trivial not\n",
      "to be subject to copyright, resulting in confusion over whether it\n",
      "negated the permissions granted in the license. In the spirit of\n",
      "permissive licensing, and of not having licensing issues being an\n",
      "obstacle to adoption, that text has been removed.Copyright (c) 2005-2023, NumPy Developers.\n",
      "All rights reserved.\n",
      "\n",
      "Redistribution and use in source and binary forms, with or without\n",
      "modification, are permitted provided that the following conditions are\n",
      "met:\n",
      "\n",
      "    * Redistributions of source code must retain the above copyright\n",
      "       notice, this list of conditions and the following disclaimer.\n",
      "\n",
      "    * Redistributions in binary form must reproduce the above\n",
      "       copyright notice, this list of conditions and the following\n",
      "       disclaimer in the documentation and/or other materials provided\n",
      "       with the distribution.\n",
      "\n",
      "    * Neither the name of the NumPy Developers nor the names of any\n",
      "       contributors may be used to endorse or promote products derived\n",
      "       from this software without specific prior written permission.\n",
      "\n",
      "THIS SOFTWARE IS PROVIDED BY THE COPYRIGHT HOLDERS AND CONTRIBUTORS\n",
      "\"AS IS\" AND ANY EXPRESS OR IMPLIED WARRANTIES, INCLUDING, BUT NOT\n",
      "LIMITED TO, THE IMPLIED WARRANTIES OF MERCHANTABILITY AND FITNESS FOR\n",
      "A PARTICULAR PURPOSE ARE DISCLAIMED. IN NO EVENT SHALL THE COPYRIGHT\n",
      "OWNER OR CONTRIBUTORS BE LIABLE FOR ANY DIRECT, INDIRECT, INCIDENTAL,\n",
      "SPECIAL, EXEMPLARY, OR CONSEQUENTIAL DAMAGES (INCLUDING, BUT NOT\n",
      "LIMITED TO, PROCUREMENT OF SUBSTITUTE GOODS OR SERVICES; LOSS OF USE,\n",
      "DATA, OR PROFITS; OR BUSINESS INTERRUPTION) HOWEVER CAUSED AND ON ANY\n",
      "THEORY OF LIABILITY, WHETHER IN CONTRACT, STRICT LIABILITY, OR TORT\n",
      "(INCLUDING NEGLIGENCE OR OTHERWISE) ARISING IN ANY WAY OUT OF THE USE\n",
      "OF THIS SOFTWARE, EVEN IF ADVISED OF THE POSSIBILITY OF SUCH DAMAGE.\n",
      "                                 Apache License\n",
      "                           Version 2.0, January 2004\n",
      "                        http://www.apache.org/licenses/\n",
      "\n",
      "   TERMS AND CONDITIONS FOR USE, REPRODUCTION, AND DISTRIBUTION\n",
      "\n",
      "   1. Definitions.\n",
      "\n",
      "      \"License\" shall mean the terms and conditions for use, reproduction,\n",
      "      and distribution as defined by Sections 1 through 9 of this document.\n",
      "\n",
      "      \"Licensor\" shall mean the copyright owner or entity authorized by\n",
      "      the copyright owner that is granting the License.\n",
      "\n",
      "      \"Legal Entity\" shall mean the union of the acting entity and all\n",
      "      other entities that control, are controlled by, or are under common\n",
      "      control with that entity. For the purposes of this definition,\n",
      "      \"control\" means (i) the power, direct or indirect, to cause the\n",
      "      direction or management of such entity, whether by contract or\n",
      "      otherwise, or (ii) ownership of fifty percent (50%) or more of the\n",
      "      outstanding shares, or (iii) beneficial ownership of such entity.\n",
      "\n",
      "      \"You\" (or \"Your\") shall mean an individual or Legal Entity\n",
      "      exercising permissions granted by this License.\n",
      "\n",
      "      \"Source\" form shall mean the preferred form for making modifications,\n",
      "      including but not limited to software source code, documentation\n",
      "      source, and configuration files.\n",
      "\n",
      "      \"Object\" form shall mean any form resulting from mechanical\n",
      "      transformation or translation of a Source form, including but\n",
      "      not limited to compiled object code, generated documentation,\n",
      "      and conversions to other media types.\n",
      "\n",
      "      \"Work\" shall mean the work of authorship, whether in Source or\n",
      "      Object form, made available under the License, as indicated by a\n",
      "      copyright notice that is included in or attached to the work\n",
      "      (an example is provided in the Appendix below).\n",
      "\n",
      "      \"Derivative Works\" shall mean any work, whether in Source or Object\n",
      "      form, that is based on (or derived from) the Work and for which the\n",
      "      editorial revisions, annotations, elaborations, or other modifications\n",
      "      represent, as a whole, an original work of authorship. For the purposes\n",
      "      of this License, Derivative Works shall not include works that remain\n",
      "      separable from, or merely link (or bind by name) to the interfaces of,\n",
      "      the Work and Derivative Works thereof.\n",
      "\n",
      "      \"Contribution\" shall mean any work of authorship, including\n",
      "      the original version of the Work and any modifications or additions\n",
      "      to that Work or Derivative Works thereof, that is intentionally\n",
      "      submitted to Licensor for inclusion in the Work by the copyright owner\n",
      "      or by an individual or Legal Entity authorized to submit on behalf of\n",
      "      the copyright owner. For the purposes of this definition, \"submitted\"\n",
      "      means any form of electronic, verbal, or written communication sent\n",
      "      to the Licensor or its representatives, including but not limited to\n",
      "      communication on electronic mailing lists, source code control systems,\n",
      "      and issue tracking systems that are managed by, or on behalf of, the\n",
      "      Licensor for the purpose of discussing and improving the Work, but\n",
      "      excluding communication that is conspicuously marked or otherwise\n",
      "      designated in writing by the copyright owner as \"Not a Contribution.\"\n",
      "\n",
      "      \"Contributor\" shall mean Licensor and any individual or Legal Entity\n",
      "      on behalf of whom a Contribution has been received by Licensor and\n",
      "      subsequently incorporated within the Work.\n",
      "\n",
      "   2. Grant of Copyright License. Subject to the terms and conditions of\n",
      "      this License, each Contributor hereby grants to You a perpetual,\n",
      "      worldwide, non-exclusive, no-charge, royalty-free, irrevocable\n",
      "      copyright license to reproduce, prepare Derivative Works of,\n",
      "      publicly display, publicly perform, sublicense, and distribute the\n",
      "      Work and such Derivative Works in Source or Object form.\n",
      "\n",
      "   3. Grant of Patent License. Subject to the terms and conditions of\n",
      "      this License, each Contributor hereby grants to You a perpetual,\n",
      "      worldwide, non-exclusive, no-charge, royalty-free, irrevocable\n",
      "      (except as stated in this section) patent license to make, have made,\n",
      "      use, offer to sell, sell, import, and otherwise transfer the Work,\n",
      "      where such license applies only to those patent claims licensable\n",
      "      by such Contributor that are necessarily infringed by their\n",
      "      Contribution(s) alone or by combination of their Contribution(s)\n",
      "      with the Work to which such Contribution(s) was submitted. If You\n",
      "      institute patent litigation against any entity (including a\n",
      "      cross-claim or counterclaim in a lawsuit) alleging that the Work\n",
      "      or a Contribution incorporated within the Work constitutes direct\n",
      "      or contributory patent infringement, then any patent licenses\n",
      "      granted to You under this License for that Work shall terminate\n",
      "      as of the date such litigation is filed.\n",
      "\n",
      "   4. Redistribution. You may reproduce and distribute copies of the\n",
      "      Work or Derivative Works thereof in any medium, with or without\n",
      "      modifications, and in Source or Object form, provided that You\n",
      "      meet the following conditions:\n",
      "\n",
      "      (a) You must give any other recipients of the Work or\n",
      "          Derivative Works a copy of this License; and\n",
      "\n",
      "      (b) You must cause any modified files to carry prominent notices\n",
      "          stating that You changed the files; and\n",
      "\n",
      "      (c) You must retain, in the Source form of any Derivative Works\n",
      "          that You distribute, all copyright, patent, trademark, and\n",
      "          attribution notices from the Source form of the Work,\n",
      "          excluding those notices that do not pertain to any part of\n",
      "          the Derivative Works; and\n",
      "\n",
      "      (d) If the Work includes a \"NOTICE\" text file as part of its\n",
      "          distribution, then any Derivative Works that You distribute must\n",
      "          include a readable copy of the attribution notices contained\n",
      "          within such NOTICE file, excluding those notices that do not\n",
      "          pertain to any part of the Derivative Works, in at least one\n",
      "          of the following places: within a NOTICE text file distributed\n",
      "          as part of the Derivative Works; within the Source form or\n",
      "          documentation, if provided along with the Derivative Works; or,\n",
      "          within a display generated by the Derivative Works, if and\n",
      "          wherever such third-party notices normally appear. The contents\n",
      "          of the NOTICE file are for informational purposes only and\n",
      "          do not modify the License. You may add Your own attribution\n",
      "          notices within Derivative Works that You distribute, alongside\n",
      "          or as an addendum to the NOTICE text from the Work, provided\n",
      "          that such additional attribution notices cannot be construed\n",
      "          as modifying the License.\n",
      "\n",
      "      You may add Your own copyright statement to Your modifications and\n",
      "      may provide additional or different license terms and conditions\n",
      "      for use, reproduction, or distribution of Your modifications, or\n",
      "      for any such Derivative Works as a whole, provided Your use,\n",
      "      reproduction, and distribution of the Work otherwise complies with\n",
      "      the conditions stated in this License.\n",
      "\n",
      "   5. Submission of Contributions. Unless You explicitly state otherwise,\n",
      "      any Contribution intentionally submitted for inclusion in the Work\n",
      "      by You to the Licensor shall be under the terms and conditions of\n",
      "      this License, without any additional terms or conditions.\n",
      "      Notwithstanding the above, nothing herein shall supersede or modify\n",
      "      the terms of any separate license agreement you may have executed\n",
      "      with Licensor regarding such Contributions.\n",
      "\n",
      "   6. Trademarks. This License does not grant permission to use the trade\n",
      "      names, trademarks, service marks, or product names of the Licensor,\n",
      "      except as required for reasonable and customary use in describing the\n",
      "      origin of the Work and reproducing the content of the NOTICE file.\n",
      "\n",
      "   7. Disclaimer of Warranty. Unless required by applicable law or\n",
      "      agreed to in writing, Licensor provides the Work (and each\n",
      "      Contributor provides its Contributions) on an \"AS IS\" BASIS,\n",
      "      WITHOUT WARRANTIES OR CONDITIONS OF ANY KIND, either express or\n",
      "      implied, including, without limitation, any warranties or conditions\n",
      "      of TITLE, NON-INFRINGEMENT, MERCHANTABILITY, or FITNESS FOR A\n",
      "      PARTICULAR PURPOSE. You are solely responsible for determining the\n",
      "      appropriateness of using or redistributing the Work and assume any\n",
      "      risks associated with Your exercise of permissions under this License.\n",
      "\n",
      "   8. Limitation of Liability. In no event and under no legal theory,\n",
      "      whether in tort (including negligence), contract, or otherwise,\n",
      "      unless required by applicable law (such as deliberate and grossly\n",
      "      negligent acts) or agreed to in writing, shall any Contributor be\n",
      "      liable to You for damages, including any direct, indirect, special,\n",
      "      incidental, or consequential damages of any character arising as a\n",
      "      result of this License or out of the use or inability to use the\n",
      "      Work (including but not limited to damages for loss of goodwill,\n",
      "      work stoppage, computer failure or malfunction, or any and all\n",
      "      other commercial damages or losses), even if such Contributor\n",
      "      has been advised of the possibility of such damages.\n",
      "\n",
      "   9. Accepting Warranty or Additional Liability. While redistributing\n",
      "      the Work or Derivative Works thereof, You may choose to offer,\n",
      "      and charge a fee for, acceptance of support, warranty, indemnity,\n",
      "      or other liability obligations and/or rights consistent with this\n",
      "      License. However, in accepting such obligations, You may act only\n",
      "      on Your own behalf and on Your sole responsibility, not on behalf\n",
      "      of any other Contributor, and only if You agree to indemnify,\n",
      "      defend, and hold each Contributor harmless for any liability\n",
      "      incurred by, or claims asserted against, such Contributor by reason\n",
      "      of your accepting any such warranty or additional liability.\n",
      "\n",
      "   END OF TERMS AND CONDITIONS\n",
      "\n",
      "\n",
      "Copyright (c) Donald Stufft and individual contributors.\n",
      "All rights reserved.\n",
      "\n",
      "Redistribution and use in source and binary forms, with or without\n",
      "modification, are permitted provided that the following conditions are met:\n",
      "\n",
      "    1. Redistributions of source code must retain the above copyright notice,\n",
      "       this list of conditions and the following disclaimer.\n",
      "\n",
      "    2. Redistributions in binary form must reproduce the above copyright\n",
      "       notice, this list of conditions and the following disclaimer in the\n",
      "       documentation and/or other materials provided with the distribution.\n",
      "\n",
      "THIS SOFTWARE IS PROVIDED BY THE COPYRIGHT HOLDERS AND CONTRIBUTORS \"AS IS\" AND\n",
      "ANY EXPRESS OR IMPLIED WARRANTIES, INCLUDING, BUT NOT LIMITED TO, THE IMPLIED\n",
      "WARRANTIES OF MERCHANTABILITY AND FITNESS FOR A PARTICULAR PURPOSE ARE\n",
      "DISCLAIMED. IN NO EVENT SHALL THE COPYRIGHT HOLDER OR CONTRIBUTORS BE LIABLE\n",
      "FOR ANY DIRECT, INDIRECT, INCIDENTAL, SPECIAL, EXEMPLARY, OR CONSEQUENTIAL\n",
      "DAMAGES (INCLUDING, BUT NOT LIMITED TO, PROCUREMENT OF SUBSTITUTE GOODS OR\n",
      "SERVICES; LOSS OF USE, DATA, OR PROFITS; OR BUSINESS INTERRUPTION) HOWEVER\n",
      "CAUSED AND ON ANY THEORY OF LIABILITY, WHETHER IN CONTRACT, STRICT LIABILITY,\n",
      "OR TORT (INCLUDING NEGLIGENCE OR OTHERWISE) ARISING IN ANY WAY OUT OF THE USE\n",
      "OF THIS SOFTWARE, EVEN IF ADVISED OF THE POSSIBILITY OF SUCH DAMAGE.A. HISTORY OF THE SOFTWARE\n",
      "==========================\n",
      "\n",
      "Python was created in the early 1990s by Guido van Rossum at Stichting\n",
      "Mathematisch Centrum (CWI, see https://www.cwi.nl) in the Netherlands\n",
      "as a successor of a language called ABC.  Guido remains Python's\n",
      "principal author, although it includes many contributions from others.\n",
      "\n",
      "In 1995, Guido continued his work on Python at the Corporation for\n",
      "National Research Initiatives (CNRI, see https://www.cnri.reston.va.us)\n",
      "in Reston, Virginia where he released several versions of the\n",
      "software.\n",
      "\n",
      "In May 2000, Guido and the Python core development team moved to\n",
      "BeOpen.com to form the BeOpen PythonLabs team.  In October of the same\n",
      "year, the PythonLabs team moved to Digital Creations, which became\n",
      "Zope Corporation.  In 2001, the Python Software Foundation (PSF, see\n",
      "https://www.python.org/psf/) was formed, a non-profit organization\n",
      "created specifically to own Python-related Intellectual Property.\n",
      "Zope Corporation was a sponsoring member of the PSF.\n",
      "\n",
      "All Python releases are Open Source (see https://opensource.org for\n",
      "the Open Source Definition).  Historically, most, but not all, Python\n",
      "releases have also been GPL-compatible; the table below summarizes\n",
      "the various releases.\n",
      "\n",
      "    Release         Derived     Year        Owner       GPL-\n",
      "                    from                                compatible? (1)\n",
      "\n",
      "    0.9.0 thru 1.2              1991-1995   CWI         yes\n",
      "    1.3 thru 1.5.2  1.2         1995-1999   CNRI        yes\n",
      "    1.6             1.5.2       2000        CNRI        no\n",
      "    2.0             1.6         2000        BeOpen.com  no\n",
      "    1.6.1           1.6         2001        CNRI        yes (2)\n",
      "    2.1             2.0+1.6.1   2001        PSF         no\n",
      "    2.0.1           2.0+1.6.1   2001        PSF         yes\n",
      "    2.1.1           2.1+2.0.1   2001        PSF         yes\n",
      "    2.1.2           2.1.1       2002        PSF         yes\n",
      "    2.1.3           2.1.2       2002        PSF         yes\n",
      "    2.2 and above   2.1.1       2001-now    PSF         yes\n",
      "\n",
      "Footnotes:\n",
      "\n",
      "(1) GPL-compatible doesn't mean that we're distributing Python under\n",
      "    the GPL.  All Python licenses, unlike the GPL, let you distribute\n",
      "    a modified version without making your changes open source.  The\n",
      "    GPL-compatible licenses make it possible to combine Python with\n",
      "    other software that is released under the GPL; the others don't.\n",
      "\n",
      "(2) According to Richard Stallman, 1.6.1 is not GPL-compatible,\n",
      "    because its license has a choice of law clause.  According to\n",
      "    CNRI, however, Stallman's lawyer has told CNRI's lawyer that 1.6.1\n",
      "    is \"not incompatible\" with the GPL.\n",
      "\n",
      "Thanks to the many outside volunteers who have worked under Guido's\n",
      "direction to make these releases possible.\n",
      "\n",
      "\n",
      "B. TERMS AND CONDITIONS FOR ACCESSING OR OTHERWISE USING PYTHON\n",
      "===============================================================\n",
      "\n",
      "Python software and documentation are licensed under the\n",
      "Python Software Foundation License Version 2.\n",
      "\n",
      "Starting with Python 3.8.6, examples, recipes, and other code in\n",
      "the documentation are dual licensed under the PSF License Version 2\n",
      "and the Zero-Clause BSD license.\n",
      "\n",
      "Some software incorporated into Python is under different licenses.\n",
      "The licenses are listed with code falling under that license.\n",
      "\n",
      "\n",
      "PYTHON SOFTWARE FOUNDATION LICENSE VERSION 2\n",
      "--------------------------------------------\n",
      "\n",
      "1. This LICENSE AGREEMENT is between the Python Software Foundation\n",
      "(\"PSF\"), and the Individual or Organization (\"Licensee\") accessing and\n",
      "otherwise using this software (\"Python\") in source or binary form and\n",
      "its associated documentation.\n",
      "\n",
      "2. Subject to the terms and conditions of this License Agreement, PSF hereby\n",
      "grants Licensee a nonexclusive, royalty-free, world-wide license to reproduce,\n",
      "analyze, test, perform and/or display publicly, prepare derivative works,\n",
      "distribute, and otherwise use Python alone or in any derivative version,\n",
      "provided, however, that PSF's License Agreement and PSF's notice of copyright,\n",
      "i.e., \"Copyright (c) 2001, 2002, 2003, 2004, 2005, 2006, 2007, 2008, 2009, 2010,\n",
      "2011, 2012, 2013, 2014, 2015, 2016, 2017, 2018, 2019, 2020, 2021, 2022, 2023 Python Software Foundation;\n",
      "All Rights Reserved\" are retained in Python alone or in any derivative version\n",
      "prepared by Licensee.\n",
      "\n",
      "3. In the event Licensee prepares a derivative work that is based on\n",
      "or incorporates Python or any part thereof, and wants to make\n",
      "the derivative work available to others as provided herein, then\n",
      "Licensee hereby agrees to include in any such work a brief summary of\n",
      "the changes made to Python.\n",
      "\n",
      "4. PSF is making Python available to Licensee on an \"AS IS\"\n",
      "basis.  PSF MAKES NO REPRESENTATIONS OR WARRANTIES, EXPRESS OR\n",
      "IMPLIED.  BY WAY OF EXAMPLE, BUT NOT LIMITATION, PSF MAKES NO AND\n",
      "DISCLAIMS ANY REPRESENTATION OR WARRANTY OF MERCHANTABILITY OR FITNESS\n",
      "FOR ANY PARTICULAR PURPOSE OR THAT THE USE OF PYTHON WILL NOT\n",
      "INFRINGE ANY THIRD PARTY RIGHTS.\n",
      "\n",
      "5. PSF SHALL NOT BE LIABLE TO LICENSEE OR ANY OTHER USERS OF PYTHON\n",
      "FOR ANY INCIDENTAL, SPECIAL, OR CONSEQUENTIAL DAMAGES OR LOSS AS\n",
      "A RESULT OF MODIFYING, DISTRIBUTING, OR OTHERWISE USING PYTHON,\n",
      "OR ANY DERIVATIVE THEREOF, EVEN IF ADVISED OF THE POSSIBILITY THEREOF.\n",
      "\n",
      "6. This License Agreement will automatically terminate upon a material\n",
      "breach of its terms and conditions.\n",
      "\n",
      "7. Nothing in this License Agreement shall be deemed to create any\n",
      "relationship of agency, partnership, or joint venture between PSF and\n",
      "Licensee.  This License Agreement does not grant permission to use PSF\n",
      "trademarks or trade name in a trademark sense to endorse or promote\n",
      "products or services of Licensee, or any third party.\n",
      "\n",
      "8. By copying, installing or otherwise using Python, Licensee\n",
      "agrees to be bound by the terms and conditions of this License\n",
      "Agreement.\n",
      "\n",
      "\n",
      "BEOPEN.COM LICENSE AGREEMENT FOR PYTHON 2.0\n",
      "-------------------------------------------\n",
      "\n",
      "BEOPEN PYTHON OPEN SOURCE LICENSE AGREEMENT VERSION 1\n",
      "\n",
      "1. This LICENSE AGREEMENT is between BeOpen.com (\"BeOpen\"), having an\n",
      "office at 160 Saratoga Avenue, Santa Clara, CA 95051, and the\n",
      "Individual or Organization (\"Licensee\") accessing and otherwise using\n",
      "this software in source or binary form and its associated\n",
      "documentation (\"the Software\").\n",
      "\n",
      "2. Subject to the terms and conditions of this BeOpen Python License\n",
      "Agreement, BeOpen hereby grants Licensee a non-exclusive,\n",
      "royalty-free, world-wide license to reproduce, analyze, test, perform\n",
      "and/or display publicly, prepare derivative works, distribute, and\n",
      "otherwise use the Software alone or in any derivative version,\n",
      "provided, however, that the BeOpen Python License is retained in the\n",
      "Software, alone or in any derivative version prepared by Licensee.\n",
      "\n",
      "3. BeOpen is making the Software available to Licensee on an \"AS IS\"\n",
      "basis.  BEOPEN MAKES NO REPRESENTATIONS OR WARRANTIES, EXPRESS OR\n",
      "IMPLIED.  BY WAY OF EXAMPLE, BUT NOT LIMITATION, BEOPEN MAKES NO AND\n",
      "DISCLAIMS ANY REPRESENTATION OR WARRANTY OF MERCHANTABILITY OR FITNESS\n",
      "FOR ANY PARTICULAR PURPOSE OR THAT THE USE OF THE SOFTWARE WILL NOT\n",
      "INFRINGE ANY THIRD PARTY RIGHTS.\n",
      "\n",
      "4. BEOPEN SHALL NOT BE LIABLE TO LICENSEE OR ANY OTHER USERS OF THE\n",
      "SOFTWARE FOR ANY INCIDENTAL, SPECIAL, OR CONSEQUENTIAL DAMAGES OR LOSS\n",
      "AS A RESULT OF USING, MODIFYING OR DISTRIBUTING THE SOFTWARE, OR ANY\n",
      "DERIVATIVE THEREOF, EVEN IF ADVISED OF THE POSSIBILITY THEREOF.\n",
      "\n",
      "5. This License Agreement will automatically terminate upon a material\n",
      "breach of its terms and conditions.\n",
      "\n",
      "6. This License Agreement shall be governed by and interpreted in all\n",
      "respects by the law of the State of California, excluding conflict of\n",
      "law provisions.  Nothing in this License Agreement shall be deemed to\n",
      "create any relationship of agency, partnership, or joint venture\n",
      "between BeOpen and Licensee.  This License Agreement does not grant\n",
      "permission to use BeOpen trademarks or trade names in a trademark\n",
      "sense to endorse or promote products or services of Licensee, or any\n",
      "third party.  As an exception, the \"BeOpen Python\" logos available at\n",
      "http://www.pythonlabs.com/logos.html may be used according to the\n",
      "permissions granted on that web page.\n",
      "\n",
      "7. By copying, installing or otherwise using the software, Licensee\n",
      "agrees to be bound by the terms and conditions of this License\n",
      "Agreement.\n",
      "\n",
      "\n",
      "CNRI LICENSE AGREEMENT FOR PYTHON 1.6.1\n",
      "---------------------------------------\n",
      "\n",
      "1. This LICENSE AGREEMENT is between the Corporation for National\n",
      "Research Initiatives, having an office at 1895 Preston White Drive,\n",
      "Reston, VA 20191 (\"CNRI\"), and the Individual or Organization\n",
      "(\"Licensee\") accessing and otherwise using Python 1.6.1 software in\n",
      "source or binary form and its associated documentation.\n",
      "\n",
      "2. Subject to the terms and conditions of this License Agreement, CNRI\n",
      "hereby grants Licensee a nonexclusive, royalty-free, world-wide\n",
      "license to reproduce, analyze, test, perform and/or display publicly,\n",
      "prepare derivative works, distribute, and otherwise use Python 1.6.1\n",
      "alone or in any derivative version, provided, however, that CNRI's\n",
      "License Agreement and CNRI's notice of copyright, i.e., \"Copyright (c)\n",
      "1995-2001 Corporation for National Research Initiatives; All Rights\n",
      "Reserved\" are retained in Python 1.6.1 alone or in any derivative\n",
      "version prepared by Licensee.  Alternately, in lieu of CNRI's License\n",
      "Agreement, Licensee may substitute the following text (omitting the\n",
      "quotes): \"Python 1.6.1 is made available subject to the terms and\n",
      "conditions in CNRI's License Agreement.  This Agreement together with\n",
      "Python 1.6.1 may be located on the internet using the following\n",
      "unique, persistent identifier (known as a handle): 1895.22/1013.  This\n",
      "Agreement may also be obtained from a proxy server on the internet\n",
      "using the following URL: http://hdl.handle.net/1895.22/1013\".\n",
      "\n",
      "3. In the event Licensee prepares a derivative work that is based on\n",
      "or incorporates Python 1.6.1 or any part thereof, and wants to make\n",
      "the derivative work available to others as provided herein, then\n",
      "Licensee hereby agrees to include in any such work a brief summary of\n",
      "the changes made to Python 1.6.1.\n",
      "\n",
      "4. CNRI is making Python 1.6.1 available to Licensee on an \"AS IS\"\n",
      "basis.  CNRI MAKES NO REPRESENTATIONS OR WARRANTIES, EXPRESS OR\n",
      "IMPLIED.  BY WAY OF EXAMPLE, BUT NOT LIMITATION, CNRI MAKES NO AND\n",
      "DISCLAIMS ANY REPRESENTATION OR WARRANTY OF MERCHANTABILITY OR FITNESS\n",
      "FOR ANY PARTICULAR PURPOSE OR THAT THE USE OF PYTHON 1.6.1 WILL NOT\n",
      "INFRINGE ANY THIRD PARTY RIGHTS.\n",
      "\n",
      "5. CNRI SHALL NOT BE LIABLE TO LICENSEE OR ANY OTHER USERS OF PYTHON\n",
      "1.6.1 FOR ANY INCIDENTAL, SPECIAL, OR CONSEQUENTIAL DAMAGES OR LOSS AS\n",
      "A RESULT OF MODIFYING, DISTRIBUTING, OR OTHERWISE USING PYTHON 1.6.1,\n",
      "OR ANY DERIVATIVE THEREOF, EVEN IF ADVISED OF THE POSSIBILITY THEREOF.\n",
      "\n",
      "6. This License Agreement will automatically terminate upon a material\n",
      "breach of its terms and conditions.\n",
      "\n",
      "7. This License Agreement shall be governed by the federal\n",
      "intellectual property law of the United States, including without\n",
      "limitation the federal copyright law, and, to the extent such\n",
      "U.S. federal law does not apply, by the law of the Commonwealth of\n",
      "Virginia, excluding Virginia's conflict of law provisions.\n",
      "Notwithstanding the foregoing, with regard to derivative works based\n",
      "on Python 1.6.1 that incorporate non-separable material that was\n",
      "previously distributed under the GNU General Public License (GPL), the\n",
      "law of the Commonwealth of Virginia shall govern this License\n",
      "Agreement only as to issues arising under or with respect to\n",
      "Paragraphs 4, 5, and 7 of this License Agreement.  Nothing in this\n",
      "License Agreement shall be deemed to create any relationship of\n",
      "agency, partnership, or joint venture between CNRI and Licensee.  This\n",
      "License Agreement does not grant permission to use CNRI trademarks or\n",
      "trade name in a trademark sense to endorse or promote products or\n",
      "services of Licensee, or any third party.\n",
      "\n",
      "8. By clicking on the \"ACCEPT\" button where indicated, or by copying,\n",
      "installing or otherwise using Python 1.6.1, Licensee agrees to be\n",
      "bound by the terms and conditions of this License Agreement.\n",
      "\n",
      "        ACCEPT\n",
      "\n",
      "\n",
      "CWI LICENSE AGREEMENT FOR PYTHON 0.9.0 THROUGH 1.2\n",
      "--------------------------------------------------\n",
      "\n",
      "Copyright (c) 1991 - 1995, Stichting Mathematisch Centrum Amsterdam,\n",
      "The Netherlands.  All rights reserved.\n",
      "\n",
      "Permission to use, copy, modify, and distribute this software and its\n",
      "documentation for any purpose and without fee is hereby granted,\n",
      "provided that the above copyright notice appear in all copies and that\n",
      "both that copyright notice and this permission notice appear in\n",
      "supporting documentation, and that the name of Stichting Mathematisch\n",
      "Centrum or CWI not be used in advertising or publicity pertaining to\n",
      "distribution of the software without specific, written prior\n",
      "permission.\n",
      "\n",
      "STICHTING MATHEMATISCH CENTRUM DISCLAIMS ALL WARRANTIES WITH REGARD TO\n",
      "THIS SOFTWARE, INCLUDING ALL IMPLIED WARRANTIES OF MERCHANTABILITY AND\n",
      "FITNESS, IN NO EVENT SHALL STICHTING MATHEMATISCH CENTRUM BE LIABLE\n",
      "FOR ANY SPECIAL, INDIRECT OR CONSEQUENTIAL DAMAGES OR ANY DAMAGES\n",
      "WHATSOEVER RESULTING FROM LOSS OF USE, DATA OR PROFITS, WHETHER IN AN\n",
      "ACTION OF CONTRACT, NEGLIGENCE OR OTHER TORTIOUS ACTION, ARISING OUT\n",
      "OF OR IN CONNECTION WITH THE USE OR PERFORMANCE OF THIS SOFTWARE.\n",
      "\n",
      "ZERO-CLAUSE BSD LICENSE FOR CODE IN THE PYTHON DOCUMENTATION\n",
      "----------------------------------------------------------------------\n",
      "\n",
      "Permission to use, copy, modify, and/or distribute this software for any\n",
      "purpose with or without fee is hereby granted.\n",
      "\n",
      "THE SOFTWARE IS PROVIDED \"AS IS\" AND THE AUTHOR DISCLAIMS ALL WARRANTIES WITH\n",
      "REGARD TO THIS SOFTWARE INCLUDING ALL IMPLIED WARRANTIES OF MERCHANTABILITY\n",
      "AND FITNESS. IN NO EVENT SHALL THE AUTHOR BE LIABLE FOR ANY SPECIAL, DIRECT,\n",
      "INDIRECT, OR CONSEQUENTIAL DAMAGES OR ANY DAMAGES WHATSOEVER RESULTING FROM\n",
      "LOSS OF USE, DATA OR PROFITS, WHETHER IN AN ACTION OF CONTRACT, NEGLIGENCE OR\n",
      "OTHER TORTIOUS ACTION, ARISING OUT OF OR IN CONNECTION WITH THE USE OR\n",
      "PERFORMANCE OF THIS SOFTWARE.\n",
      "Copyright (c) 2014, Al Sweigart\n",
      "All rights reserved.\n",
      "\n",
      "Redistribution and use in source and binary forms, with or without\n",
      "modification, are permitted provided that the following conditions are met:\n",
      "\n",
      "* Redistributions of source code must retain the above copyright notice, this\n",
      "  list of conditions and the following disclaimer.\n",
      "\n",
      "* Redistributions in binary form must reproduce the above copyright notice,\n",
      "  this list of conditions and the following disclaimer in the documentation\n",
      "  and/or other materials provided with the distribution.\n",
      "\n",
      "* Neither the name of the {organization} nor the names of its\n",
      "  contributors may be used to endorse or promote products derived from\n",
      "  this software without specific prior written permission.\n",
      "\n",
      "THIS SOFTWARE IS PROVIDED BY THE COPYRIGHT HOLDERS AND CONTRIBUTORS \"AS IS\"\n",
      "AND ANY EXPRESS OR IMPLIED WARRANTIES, INCLUDING, BUT NOT LIMITED TO, THE\n",
      "IMPLIED WARRANTIES OF MERCHANTABILITY AND FITNESS FOR A PARTICULAR PURPOSE ARE\n",
      "DISCLAIMED. IN NO EVENT SHALL THE COPYRIGHT HOLDER OR CONTRIBUTORS BE LIABLE\n",
      "FOR ANY DIRECT, INDIRECT, INCIDENTAL, SPECIAL, EXEMPLARY, OR CONSEQUENTIAL\n",
      "DAMAGES (INCLUDING, BUT NOT LIMITED TO, PROCUREMENT OF SUBSTITUTE GOODS OR\n",
      "SERVICES; LOSS OF USE, DATA, OR PROFITS; OR BUSINESS INTERRUPTION) HOWEVER\n",
      "CAUSED AND ON ANY THEORY OF LIABILITY, WHETHER IN CONTRACT, STRICT LIABILITY,\n",
      "OR TORT (INCLUDING NEGLIGENCE OR OTHERWISE) ARISING IN ANY WAY OUT OF THE USE\n",
      "OF THIS SOFTWARE, EVEN IF ADVISED OF THE POSSIBILITY OF SUCH DAMAGE.Copyright (c) 2017 Anthony Sottile\n",
      "\n",
      "Permission is hereby granted, free of charge, to any person obtaining a copy\n",
      "of this software and associated documentation files (the \"Software\"), to deal\n",
      "in the Software without restriction, including without limitation the rights\n",
      "to use, copy, modify, merge, publish, distribute, sublicense, and/or sell\n",
      "copies of the Software, and to permit persons to whom the Software is\n",
      "furnished to do so, subject to the following conditions:\n",
      "\n",
      "The above copyright notice and this permission notice shall be included in\n",
      "all copies or substantial portions of the Software.\n",
      "\n",
      "THE SOFTWARE IS PROVIDED \"AS IS\", WITHOUT WARRANTY OF ANY KIND, EXPRESS OR\n",
      "IMPLIED, INCLUDING BUT NOT LIMITED TO THE WARRANTIES OF MERCHANTABILITY,\n",
      "FITNESS FOR A PARTICULAR PURPOSE AND NONINFRINGEMENT. IN NO EVENT SHALL THE\n",
      "AUTHORS OR COPYRIGHT HOLDERS BE LIABLE FOR ANY CLAIM, DAMAGES OR OTHER\n",
      "LIABILITY, WHETHER IN AN ACTION OF CONTRACT, TORT OR OTHERWISE, ARISING FROM,\n",
      "OUT OF OR IN CONNECTION WITH THE SOFTWARE OR THE USE OR OTHER DEALINGS IN\n",
      "THE SOFTWARE.Copyright (c) 2015-2019 Jared Hobbs\n",
      "\n",
      "Permission is hereby granted, free of charge, to any person obtaining a copy of\n",
      "this software and associated documentation files (the \"Software\"), to deal in\n",
      "the Software without restriction, including without limitation the rights to\n",
      "use, copy, modify, merge, publish, distribute, sublicense, and/or sell copies\n",
      "of the Software, and to permit persons to whom the Software is furnished to do\n",
      "so, subject to the following conditions:\n",
      "\n",
      "The above copyright notice and this permission notice shall be included in all\n",
      "copies or substantial portions of the Software.\n",
      "\n",
      "THE SOFTWARE IS PROVIDED \"AS IS\", WITHOUT WARRANTY OF ANY KIND, EXPRESS OR\n",
      "IMPLIED, INCLUDING BUT NOT LIMITED TO THE WARRANTIES OF MERCHANTABILITY,\n",
      "FITNESS FOR A PARTICULAR PURPOSE AND NONINFRINGEMENT. IN NO EVENT SHALL THE\n",
      "AUTHORS OR COPYRIGHT HOLDERS BE LIABLE FOR ANY CLAIM, DAMAGES OR OTHER\n",
      "LIABILITY, WHETHER IN AN ACTION OF CONTRACT, TORT OR OTHERWISE, ARISING FROM,\n",
      "OUT OF OR IN CONNECTION WITH THE SOFTWARE OR THE USE OR OTHER DEALINGS IN THE\n",
      "SOFTWARE.Developed by ESN, an Electronic Arts Inc. studio.\n",
      "Copyright (c) 2014, Electronic Arts Inc.\n",
      "All rights reserved.\n",
      "\n",
      "Redistribution and use in source and binary forms, with or without\n",
      "modification, are permitted provided that the following conditions are met:\n",
      "* Redistributions of source code must retain the above copyright\n",
      "notice, this list of conditions and the following disclaimer.\n",
      "* Redistributions in binary form must reproduce the above copyright\n",
      "notice, this list of conditions and the following disclaimer in the\n",
      "documentation and/or other materials provided with the distribution.\n",
      "* Neither the name of ESN, Electronic Arts Inc. nor the\n",
      "names of its contributors may be used to endorse or promote products\n",
      "derived from this software without specific prior written permission.\n",
      "\n",
      "THIS SOFTWARE IS PROVIDED BY THE COPYRIGHT HOLDERS AND CONTRIBUTORS \"AS IS\" AND\n",
      "ANY EXPRESS OR IMPLIED WARRANTIES, INCLUDING, BUT NOT LIMITED TO, THE IMPLIED\n",
      "WARRANTIES OF MERCHANTABILITY AND FITNESS FOR A PARTICULAR PURPOSE ARE\n",
      "DISCLAIMED. IN NO EVENT SHALL ELECTRONIC ARTS INC. BE LIABLE\n",
      "FOR ANY DIRECT, INDIRECT, INCIDENTAL, SPECIAL, EXEMPLARY, OR CONSEQUENTIAL DAMAGES\n",
      "(INCLUDING, BUT NOT LIMITED TO, PROCUREMENT OF SUBSTITUTE GOODS OR SERVICES;\n",
      "LOSS OF USE, DATA, OR PROFITS; OR BUSINESS INTERRUPTION) HOWEVER CAUSED AND\n",
      "ON ANY THEORY OF LIABILITY, WHETHER IN CONTRACT, STRICT LIABILITY, OR TORT\n",
      "(INCLUDING NEGLIGENCE OR OTHERWISE) ARISING IN ANY WAY OUT OF THE USE OF THIS\n",
      "SOFTWARE, EVEN IF ADVISED OF THE POSSIBILITY OF SUCH DAMAGE.\n",
      "\n",
      "----\n",
      "\n",
      "Portions of code from MODP_ASCII - Ascii transformations (upper/lower, etc)\n",
      "https://github.com/client9/stringencoders\n",
      "\n",
      "  Copyright 2005, 2006, 2007\n",
      "  Nick Galbreath -- nickg [at] modp [dot] com\n",
      "  All rights reserved.\n",
      "\n",
      "  Redistribution and use in source and binary forms, with or without\n",
      "  modification, are permitted provided that the following conditions are\n",
      "  met:\n",
      "\n",
      "    Redistributions of source code must retain the above copyright\n",
      "    notice, this list of conditions and the following disclaimer.\n",
      "\n",
      "    Redistributions in binary form must reproduce the above copyright\n",
      "    notice, this list of conditions and the following disclaimer in the\n",
      "    documentation and/or other materials provided with the distribution.\n",
      "\n",
      "    Neither the name of the modp.com nor the names of its\n",
      "    contributors may be used to endorse or promote products derived from\n",
      "    this software without specific prior written permission.\n",
      "\n",
      "  THIS SOFTWARE IS PROVIDED BY THE COPYRIGHT HOLDERS AND CONTRIBUTORS\n",
      "  \"AS IS\" AND ANY EXPRESS OR IMPLIED WARRANTIES, INCLUDING, BUT NOT\n",
      "  LIMITED TO, THE IMPLIED WARRANTIES OF MERCHANTABILITY AND FITNESS FOR\n",
      "  A PARTICULAR PURPOSE ARE DISCLAIMED. IN NO EVENT SHALL THE COPYRIGHT\n",
      "  OWNER OR CONTRIBUTORS BE LIABLE FOR ANY DIRECT, INDIRECT, INCIDENTAL,\n",
      "  SPECIAL, EXEMPLARY, OR CONSEQUENTIAL DAMAGES (INCLUDING, BUT NOT\n",
      "  LIMITED TO, PROCUREMENT OF SUBSTITUTE GOODS OR SERVICES; LOSS OF USE,\n",
      "  DATA, OR PROFITS; OR BUSINESS INTERRUPTION) HOWEVER CAUSED AND ON ANY\n",
      "  THEORY OF LIABILITY, WHETHER IN CONTRACT, STRICT LIABILITY, OR TORT\n",
      "  (INCLUDING NEGLIGENCE OR OTHERWISE) ARISING IN ANY WAY OUT OF THE USE\n",
      "  OF THIS SOFTWARE, EVEN IF ADVISED OF THE POSSIBILITY OF SUCH DAMAGE.\n",
      "\n",
      "  This is the standard \"new\" BSD license:\n",
      "  http://www.opensource.org/licenses/bsd-license.php\n",
      "\n",
      "https://github.com/client9/stringencoders/blob/cfd5c1507325ae497ea9bacdacba12c0ffd79d30/COPYING\n",
      "\n",
      "----\n",
      "\n",
      "Numeric decoder derived from from TCL library\n",
      "https://opensource.apple.com/source/tcl/tcl-14/tcl/license.terms\n",
      " * Copyright (c) 1988-1993 The Regents of the University of California.\n",
      " * Copyright (c) 1994 Sun Microsystems, Inc.\n",
      "\n",
      "  This software is copyrighted by the Regents of the University of\n",
      "  California, Sun Microsystems, Inc., Scriptics Corporation, ActiveState\n",
      "  Corporation and other parties.  The following terms apply to all files\n",
      "  associated with the software unless explicitly disclaimed in\n",
      "  individual files.\n",
      "\n",
      "  The authors hereby grant permission to use, copy, modify, distribute,\n",
      "  and license this software and its documentation for any purpose, provided\n",
      "  that existing copyright notices are retained in all copies and that this\n",
      "  notice is included verbatim in any distributions. No written agreement,\n",
      "  license, or royalty fee is required for any of the authorized uses.\n",
      "  Modifications to this software may be copyrighted by their authors\n",
      "  and need not follow the licensing terms described here, provided that\n",
      "  the new terms are clearly indicated on the first page of each file where\n",
      "  they apply.\n",
      "\n",
      "  IN NO EVENT SHALL THE AUTHORS OR DISTRIBUTORS BE LIABLE TO ANY PARTY\n",
      "  FOR DIRECT, INDIRECT, SPECIAL, INCIDENTAL, OR CONSEQUENTIAL DAMAGES\n",
      "  ARISING OUT OF THE USE OF THIS SOFTWARE, ITS DOCUMENTATION, OR ANY\n",
      "  DERIVATIVES THEREOF, EVEN IF THE AUTHORS HAVE BEEN ADVISED OF THE\n",
      "  POSSIBILITY OF SUCH DAMAGE.\n",
      "\n",
      "  THE AUTHORS AND DISTRIBUTORS SPECIFICALLY DISCLAIM ANY WARRANTIES,\n",
      "  INCLUDING, BUT NOT LIMITED TO, THE IMPLIED WARRANTIES OF MERCHANTABILITY,\n",
      "  FITNESS FOR A PARTICULAR PURPOSE, AND NON-INFRINGEMENT.  THIS SOFTWARE\n",
      "  IS PROVIDED ON AN \"AS IS\" BASIS, AND THE AUTHORS AND DISTRIBUTORS HAVE\n",
      "  NO OBLIGATION TO PROVIDE MAINTENANCE, SUPPORT, UPDATES, ENHANCEMENTS, OR\n",
      "  MODIFICATIONS.\n",
      "\n",
      "  GOVERNMENT USE: If you are acquiring this software on behalf of the\n",
      "  U.S. government, the Government shall have only \"Restricted Rights\"\n",
      "  in the software and related documentation as defined in the Federal\n",
      "  Acquisition Regulations (FARs) in Clause 52.227.19 (c) (2).  If you\n",
      "  are acquiring the software on behalf of the Department of Defense, the\n",
      "  software shall be classified as \"Commercial Computer Software\" and the\n",
      "  Government shall have only \"Restricted Rights\" as defined in Clause\n",
      "  252.227-7013 (c) (1) of DFARs.  Notwithstanding the foregoing, the\n",
      "  authors grant the U.S. Government and others acting in its behalf\n",
      "  permission to use and distribute the software in accordance with the\n",
      "  terms specified in this license.Apache License\n",
      "Version 2.0, January 2004\n",
      "http://www.apache.org/licenses/\n",
      "\n",
      "TERMS AND CONDITIONS FOR USE, REPRODUCTION, AND DISTRIBUTION\n",
      "\n",
      "1. Definitions.\n",
      "\n",
      "\"License\" shall mean the terms and conditions for use, reproduction, and\n",
      "distribution as defined by Sections 1 through 9 of this document.\n",
      "\n",
      "\"Licensor\" shall mean the copyright owner or entity authorized by the copyright\n",
      "owner that is granting the License.\n",
      "\n",
      "\"Legal Entity\" shall mean the union of the acting entity and all other entities\n",
      "that control, are controlled by, or are under common control with that entity.\n",
      "For the purposes of this definition, \"control\" means (i) the power, direct or\n",
      "indirect, to cause the direction or management of such entity, whether by\n",
      "contract or otherwise, or (ii) ownership of fifty percent (50%) or more of the\n",
      "outstanding shares, or (iii) beneficial ownership of such entity.\n",
      "\n",
      "\"You\" (or \"Your\") shall mean an individual or Legal Entity exercising\n",
      "permissions granted by this License.\n",
      "\n",
      "\"Source\" form shall mean the preferred form for making modifications, including\n",
      "but not limited to software source code, documentation source, and configuration\n",
      "files.\n",
      "\n",
      "\"Object\" form shall mean any form resulting from mechanical transformation or\n",
      "translation of a Source form, including but not limited to compiled object code,\n",
      "generated documentation, and conversions to other media types.\n",
      "\n",
      "\"Work\" shall mean the work of authorship, whether in Source or Object form, made\n",
      "available under the License, as indicated by a copyright notice that is included\n",
      "in or attached to the work (an example is provided in the Appendix below).\n",
      "\n",
      "\"Derivative Works\" shall mean any work, whether in Source or Object form, that\n",
      "is based on (or derived from) the Work and for which the editorial revisions,\n",
      "annotations, elaborations, or other modifications represent, as a whole, an\n",
      "original work of authorship. For the purposes of this License, Derivative Works\n",
      "shall not include works that remain separable from, or merely link (or bind by\n",
      "name) to the interfaces of, the Work and Derivative Works thereof.\n",
      "\n",
      "\"Contribution\" shall mean any work of authorship, including the original version\n",
      "of the Work and any modifications or additions to that Work or Derivative Works\n",
      "thereof, that is intentionally submitted to Licensor for inclusion in the Work\n",
      "by the copyright owner or by an individual or Legal Entity authorized to submit\n",
      "on behalf of the copyright owner. For the purposes of this definition,\n",
      "\"submitted\" means any form of electronic, verbal, or written communication sent\n",
      "to the Licensor or its representatives, including but not limited to\n",
      "communication on electronic mailing lists, source code control systems, and\n",
      "issue tracking systems that are managed by, or on behalf of, the Licensor for\n",
      "the purpose of discussing and improving the Work, but excluding communication\n",
      "that is conspicuously marked or otherwise designated in writing by the copyright\n",
      "owner as \"Not a Contribution.\"\n",
      "\n",
      "\"Contributor\" shall mean Licensor and any individual or Legal Entity on behalf\n",
      "of whom a Contribution has been received by Licensor and subsequently\n",
      "incorporated within the Work.\n",
      "\n",
      "2. Grant of Copyright License.\n",
      "\n",
      "Subject to the terms and conditions of this License, each Contributor hereby\n",
      "grants to You a perpetual, worldwide, non-exclusive, no-charge, royalty-free,\n",
      "irrevocable copyright license to reproduce, prepare Derivative Works of,\n",
      "publicly display, publicly perform, sublicense, and distribute the Work and such\n",
      "Derivative Works in Source or Object form.\n",
      "\n",
      "3. Grant of Patent License.\n",
      "\n",
      "Subject to the terms and conditions of this License, each Contributor hereby\n",
      "grants to You a perpetual, worldwide, non-exclusive, no-charge, royalty-free,\n",
      "irrevocable (except as stated in this section) patent license to make, have\n",
      "made, use, offer to sell, sell, import, and otherwise transfer the Work, where\n",
      "such license applies only to those patent claims licensable by such Contributor\n",
      "that are necessarily infringed by their Contribution(s) alone or by combination\n",
      "of their Contribution(s) with the Work to which such Contribution(s) was\n",
      "submitted. If You institute patent litigation against any entity (including a\n",
      "cross-claim or counterclaim in a lawsuit) alleging that the Work or a\n",
      "Contribution incorporated within the Work constitutes direct or contributory\n",
      "patent infringement, then any patent licenses granted to You under this License\n",
      "for that Work shall terminate as of the date such litigation is filed.\n",
      "\n",
      "4. Redistribution.\n",
      "\n",
      "You may reproduce and distribute copies of the Work or Derivative Works thereof\n",
      "in any medium, with or without modifications, and in Source or Object form,\n",
      "provided that You meet the following conditions:\n",
      "\n",
      "You must give any other recipients of the Work or Derivative Works a copy of\n",
      "this License; and\n",
      "You must cause any modified files to carry prominent notices stating that You\n",
      "changed the files; and\n",
      "You must retain, in the Source form of any Derivative Works that You distribute,\n",
      "all copyright, patent, trademark, and attribution notices from the Source form\n",
      "of the Work, excluding those notices that do not pertain to any part of the\n",
      "Derivative Works; and\n",
      "If the Work includes a \"NOTICE\" text file as part of its distribution, then any\n",
      "Derivative Works that You distribute must include a readable copy of the\n",
      "attribution notices contained within such NOTICE file, excluding those notices\n",
      "that do not pertain to any part of the Derivative Works, in at least one of the\n",
      "following places: within a NOTICE text file distributed as part of the\n",
      "Derivative Works; within the Source form or documentation, if provided along\n",
      "with the Derivative Works; or, within a display generated by the Derivative\n",
      "Works, if and wherever such third-party notices normally appear. The contents of\n",
      "the NOTICE file are for informational purposes only and do not modify the\n",
      "License. You may add Your own attribution notices within Derivative Works that\n",
      "You distribute, alongside or as an addendum to the NOTICE text from the Work,\n",
      "provided that such additional attribution notices cannot be construed as\n",
      "modifying the License.\n",
      "You may add Your own copyright statement to Your modifications and may provide\n",
      "additional or different license terms and conditions for use, reproduction, or\n",
      "distribution of Your modifications, or for any such Derivative Works as a whole,\n",
      "provided Your use, reproduction, and distribution of the Work otherwise complies\n",
      "with the conditions stated in this License.\n",
      "\n",
      "5. Submission of Contributions.\n",
      "\n",
      "Unless You explicitly state otherwise, any Contribution intentionally submitted\n",
      "for inclusion in the Work by You to the Licensor shall be under the terms and\n",
      "conditions of this License, without any additional terms or conditions.\n",
      "Notwithstanding the above, nothing herein shall supersede or modify the terms of\n",
      "any separate license agreement you may have executed with Licensor regarding\n",
      "such Contributions.\n",
      "\n",
      "6. Trademarks.\n",
      "\n",
      "This License does not grant permission to use the trade names, trademarks,\n",
      "service marks, or product names of the Licensor, except as required for\n",
      "reasonable and customary use in describing the origin of the Work and\n",
      "reproducing the content of the NOTICE file.\n",
      "\n",
      "7. Disclaimer of Warranty.\n",
      "\n",
      "Unless required by applicable law or agreed to in writing, Licensor provides the\n",
      "Work (and each Contributor provides its Contributions) on an \"AS IS\" BASIS,\n",
      "WITHOUT WARRANTIES OR CONDITIONS OF ANY KIND, either express or implied,\n",
      "including, without limitation, any warranties or conditions of TITLE,\n",
      "NON-INFRINGEMENT, MERCHANTABILITY, or FITNESS FOR A PARTICULAR PURPOSE. You are\n",
      "solely responsible for determining the appropriateness of using or\n",
      "redistributing the Work and assume any risks associated with Your exercise of\n",
      "permissions under this License.\n",
      "\n",
      "8. Limitation of Liability.\n",
      "\n",
      "In no event and under no legal theory, whether in tort (including negligence),\n",
      "contract, or otherwise, unless required by applicable law (such as deliberate\n",
      "and grossly negligent acts) or agreed to in writing, shall any Contributor be\n",
      "liable to You for damages, including any direct, indirect, special, incidental,\n",
      "or consequential damages of any character arising as a result of this License or\n",
      "out of the use or inability to use the Work (including but not limited to\n",
      "damages for loss of goodwill, work stoppage, computer failure or malfunction, or\n",
      "any and all other commercial damages or losses), even if such Contributor has\n",
      "been advised of the possibility of such damages.\n",
      "\n",
      "9. Accepting Warranty or Additional Liability.\n",
      "\n",
      "While redistributing the Work or Derivative Works thereof, You may choose to\n",
      "offer, and charge a fee for, acceptance of support, warranty, indemnity, or\n",
      "other liability obligations and/or rights consistent with this License. However,\n",
      "in accepting such obligations, You may act only on Your own behalf and on Your\n",
      "sole responsibility, not on behalf of any other Contributor, and only if You\n",
      "agree to indemnify, defend, and hold each Contributor harmless for any liability\n",
      "incurred by, or claims asserted against, such Contributor by reason of your\n",
      "accepting any such warranty or additional liability.\n",
      "\n",
      "END OF TERMS AND CONDITIONS\n",
      "\n",
      "APPENDIX: How to apply the Apache License to your work\n",
      "\n",
      "To apply the Apache License to your work, attach the following boilerplate\n",
      "notice, with the fields enclosed by brackets \"[]\" replaced with your own\n",
      "identifying information. (Don't include the brackets!) The text should be\n",
      "enclosed in the appropriate comment syntax for the file format. We also\n",
      "recommend that a file or class name and description of purpose be included on\n",
      "the same \"printed page\" as the copyright notice for easier identification within\n",
      "third-party archives.\n",
      "\n",
      "   Copyright [yyyy] [name of copyright owner]\n",
      "\n",
      "   Licensed under the Apache License, Version 2.0 (the \"License\");\n",
      "   you may not use this file except in compliance with the License.\n",
      "   You may obtain a copy of the License at\n",
      "\n",
      "     http://www.apache.org/licenses/LICENSE-2.0\n",
      "\n",
      "   Unless required by applicable law or agreed to in writing, software\n",
      "   distributed under the License is distributed on an \"AS IS\" BASIS,\n",
      "   WITHOUT WARRANTIES OR CONDITIONS OF ANY KIND, either express or implied.\n",
      "   See the License for the specific language governing permissions and\n",
      "   limitations under the License.\n",
      "Location: /Users/shannonellis/.local/lib/python3.11/site-packages\n",
      "Requires: numpy, python-dateutil, pytz, tzdata\n",
      "Required-by: CanvasGroupy, geopandas, seaborn, statsmodels\n"
     ]
    }
   ],
   "source": [
    "# see version information\n",
    "!pip show pandas"
   ]
  },
  {
   "cell_type": "code",
   "execution_count": null,
   "metadata": {},
   "outputs": [],
   "source": []
  }
 ],
 "metadata": {
  "celltoolbar": "Slideshow",
  "kernelspec": {
   "display_name": "Python 3 (ipykernel)",
   "language": "python",
   "name": "python3"
  },
  "language_info": {
   "codemirror_mode": {
    "name": "ipython",
    "version": 3
   },
   "file_extension": ".py",
   "mimetype": "text/x-python",
   "name": "python",
   "nbconvert_exporter": "python",
   "pygments_lexer": "ipython3",
   "version": "3.11.8"
  },
  "rise": {
   "scroll": true
  }
 },
 "nbformat": 4,
 "nbformat_minor": 4
}
