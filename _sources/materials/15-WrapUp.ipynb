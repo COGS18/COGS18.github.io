{
 "cells": [
  {
   "cell_type": "markdown",
   "metadata": {
    "slideshow": {
     "slide_type": "slide"
    }
   },
   "source": [
    "# Code Projects & Wrap Up\n",
    "\n",
    "[![Open In Colab](https://colab.research.google.com/assets/colab-badge.svg)](https://colab.research.google.com/github/COGS18/LectureNotes-COGS18/blob/main/15-WrapUp.ipynb)\n"
   ]
  },
  {
   "cell_type": "markdown",
   "metadata": {},
   "source": [
    "**Q&A**\n",
    "\n",
    "> Q: Could you give more examples on code style? I would be very helpful.  \n",
    "> A: Yup - we'll do a few more today!\n",
    "\n",
    "> Q: How is code style tested on the final?  \n",
    "> A: We'll use a linter, with a permissive threshold (discussed today)\n",
    "\n",
    "> Q: (in reference to improved code style) im not sure what is the difference btw this and the normal code? can you explain more pls  \n",
    "> A: Functionally, for the computer, there's nothing different. But, when we improve code style, it makes the code easier to read/understand by the humans.\n",
    "\n",
    "> Q: Will we have to remember any specific NumPy or Pandas methods on the Final?   \n",
    "> A: No - all methods will be explained what they're function is. You'll need to know how to use them once you know what they do."
   ]
  },
  {
   "cell_type": "markdown",
   "metadata": {},
   "source": [
    "**Course Announcements**\n",
    "\n",
    "Due this week:\n",
    "- **CL9** (due Fri; *optional*, for 2 pts EC...but **you should do it** to get testing practice)\n",
    "- **E1 or E2** retake (*optional*)\n",
    "- **Final Exam** (6/7-6/13)\n",
    "    - Do the practice final exam \n",
    "- **Post-course assessement** (due 6/13; required; will be available Friday)\n",
    "\n",
    "Notes: \n",
    "- Please complete your SETs - opportunity for EC\n",
    "    - If >= 70% of the class completes their SETs for the course -> +0.5% (currently: 22%)\n",
    "    - If any one staff member gets 7% of the class (43 people) to give them evals -> +0.5%\n",
    "- Office Hours end this Friday (no office hours during finals week; I will monitor Ed/email)"
   ]
  },
  {
   "cell_type": "markdown",
   "metadata": {},
   "source": [
    "## The Plan\n",
    "\n",
    "- Code Projects\n",
    "    - Projects you can now do...\n",
    "    - Atbash encryption project example\n",
    "    - Refactoring Code\n",
    "- Where to after COGS 18? "
   ]
  },
  {
   "cell_type": "markdown",
   "metadata": {
    "slideshow": {
     "slide_type": "-"
    }
   },
   "source": [
    "#### Some examples of projects you could try after COGS 18\n",
    "\n",
    "- Chatbot: start and end a chat\n",
    "- Data Analysis: read a dataset in, make a basic plot\n",
    "- Car Inventory: object with method that adds a car to the Inventory\n",
    "- Artificial Agents: simple bot moves around randomly"
   ]
  },
  {
   "cell_type": "markdown",
   "metadata": {
    "slideshow": {
     "slide_type": "slide"
    }
   },
   "source": [
    "## Project Organization"
   ]
  },
  {
   "cell_type": "markdown",
   "metadata": {
    "collapsed": true,
    "jupyter": {
     "outputs_hidden": true
    },
    "slideshow": {
     "slide_type": "-"
    }
   },
   "source": [
    "- **Notebooks**: good for interactive development\n",
    "    - For when seeing the inputs and outputs of code running needs to be seen start to finish\n",
    "    - file ends in `.ipynb`\n",
    "- **Modules**: for storing mature Python code, that you can import\n",
    "    - you don't *use* the functions in there, just define them\n",
    "    - file ends in `.py`\n",
    "- **Scripts**: a Python file for executing a particular task\n",
    "    - this takes an input and does something start to finish\n",
    "    - file ends in `.py`"
   ]
  },
  {
   "cell_type": "markdown",
   "metadata": {
    "slideshow": {
     "slide_type": "slide"
    }
   },
   "source": [
    "### Project Workflow"
   ]
  },
  {
   "cell_type": "markdown",
   "metadata": {
    "collapsed": true,
    "jupyter": {
     "outputs_hidden": true
    },
    "slideshow": {
     "slide_type": "-"
    }
   },
   "source": [
    "Typical project workflow:\n",
    "\n",
    "- Develop plan and write tests\n",
    "- Develop code interactively in a Jupyter notebook/text editor\n",
    "- As functions & classes become mature, move them to Python files that you then `import`\n",
    "    - As you do so, go back through them to check for code style, add documentation, and run your code tests\n",
    "- At the end of a project, (maybe) write a standalone script that runs the project"
   ]
  },
  {
   "cell_type": "markdown",
   "metadata": {
    "slideshow": {
     "slide_type": "slide"
    }
   },
   "source": [
    "#### Project Notes\n",
    "\n",
    "1. Design and write tests\n",
    "2. Write some code\n",
    "2. Test to make sure it works\n",
    "3. Check code style (naming, spacing, etc.)\n",
    "4. Add documentation\n",
    "5. Move to module (if necessary)\n",
    "6. Run all tests"
   ]
  },
  {
   "cell_type": "markdown",
   "metadata": {
    "slideshow": {
     "slide_type": "slide"
    }
   },
   "source": [
    "### Project Design\n",
    "\n",
    "- Idea: atbash encryption: return the capitalized, reverse alphabetical letter for each character in the input string\n",
    "\n",
    "- Design:\n",
    "    - `atbash_encrypt()` : take input string and retrun atbash encrypted string\n",
    "        - inputs: `input_string` \n",
    "        - returns: `atbash_string`\n",
    "    - `atbash_decrypt()` : take encrypted string and decrypt using atbash\n",
    "        - inputs: `atbash_string`\n",
    "        - returns: `decrypted_string`\n",
    "    - `atbash_wrapper()` : does either of the above, as specified with input parameter\n",
    "        - inputs: `input_string`, `method` (either 'encrypt' or 'decrypt', default: 'encrypt')\n",
    "        - returns `output_string`"
   ]
  },
  {
   "cell_type": "markdown",
   "metadata": {
    "slideshow": {
     "slide_type": "slide"
    }
   },
   "source": [
    "### Adding Unit Tests"
   ]
  },
  {
   "cell_type": "markdown",
   "metadata": {},
   "source": [
    "- consider imports at the top\n",
    "- tests to check each function\n",
    "    - check is callable/output is correct type\n",
    "    - check specific output is correct (consider capitalization) "
   ]
  },
  {
   "cell_type": "code",
   "execution_count": null,
   "metadata": {},
   "outputs": [],
   "source": [
    "import unittest\n",
    "from atbash import atbash_encrypt, atbash_decrypt, atbash_wrapper\n",
    "\n",
    "class TestEncrypt(unittest.TestCase):\n",
    "    \n",
    "    def test_exist(self):\n",
    "        self.assertTrue(callable(atbash_encrypt))\n",
    "\n",
    "    def test_type(self):\n",
    "        self.assertIsInstance(atbash_encrypt('hello'), str)\n",
    "\n",
    "    def test_output(self):\n",
    "        self.assertEqual('SVOOL', atbash_encrypt('HELLO'))\n",
    "        self.assertEqual('SVOOL', atbash_encrypt('hello'))\n",
    "\n",
    "\n",
    "class TestDecrypt(unittest.TestCase):\n",
    "    \n",
    "    def test_exist(self):\n",
    "        self.assertTrue(callable(atbash_decrypt))\n",
    "\n",
    "    def test_type(self):\n",
    "        self.assertIsInstance(atbash_decrypt('hello'), str)\n",
    "\n",
    "    def test_output(self):\n",
    "        self.assertEqual('HELLO', atbash_decrypt('SVOOL'))\n",
    "        self.assertEqual('HELLO', atbash_decrypt('svool'))\n",
    "\n",
    "\n",
    "class TestWrapper(unittest.TestCase):\n",
    "    \n",
    "    def test_exist(self):\n",
    "        self.assertTrue(callable(atbash_wrapper))\n",
    "\n",
    "    def test_type(self):\n",
    "        self.assertIsInstance(atbash_wrapper('hello', method='encrypt'), str)\n",
    "\n",
    "    def test_output_encrypt(self):\n",
    "        self.assertEqual('SVOOL', atbash_wrapper('hello', method='encrypt'))\n",
    "        self.assertEqual('SVOOL', atbash_wrapper('HELLO', method='encrypt'))\n",
    "\n",
    "    def test_output_decrypt(self):\n",
    "        self.assertEqual('HELLO', atbash_wrapper('SVOOL', method='decrypt'))\n",
    "        self.assertEqual('HELLO', atbash_wrapper('svool', method='decrypt'))\n",
    "\n",
    "    def test_output_other(self):\n",
    "        self.assertEqual(\"method should be either 'decrypt' or 'encrypt'\", atbash_wrapper('svool', method='blargh'))"
   ]
  },
  {
   "cell_type": "markdown",
   "metadata": {
    "slideshow": {
     "slide_type": "slide"
    }
   },
   "source": [
    "### Writing Code"
   ]
  },
  {
   "cell_type": "markdown",
   "metadata": {
    "slideshow": {
     "slide_type": "-"
    }
   },
   "source": [
    "#### `atbash_encrypt`"
   ]
  },
  {
   "cell_type": "code",
   "execution_count": null,
   "metadata": {
    "slideshow": {
     "slide_type": "-"
    }
   },
   "outputs": [],
   "source": [
    "def atbash_encrypt(input_string):\n",
    "    alpha = 'ABCDEFGHIJKLMNOPQRSTUVWXYZ'\n",
    "    reverse_alpha = 'ZYXWVUTSRQPONMLKJIHGFEDCBA'\n",
    "\n",
    "    atbash_string = ''\n",
    "\n",
    "    for char in input_string:\n",
    "        char = char.upper()\n",
    "        if char in alpha:\n",
    "            position = alpha.find(char)\n",
    "            atbash_string += reverse_alpha[position]\n",
    "        else:\n",
    "            atbash_string = None\n",
    "            break\n",
    "        \n",
    "    return atbash_string"
   ]
  },
  {
   "cell_type": "code",
   "execution_count": null,
   "metadata": {
    "scrolled": true
   },
   "outputs": [],
   "source": [
    "# smoke test\n",
    "atbash_encrypt('Hello')"
   ]
  },
  {
   "cell_type": "markdown",
   "metadata": {
    "slideshow": {
     "slide_type": "slide"
    }
   },
   "source": [
    "### Moving to a module...\n",
    "\n",
    "- consider imports at the top"
   ]
  },
  {
   "cell_type": "markdown",
   "metadata": {
    "slideshow": {
     "slide_type": "-"
    }
   },
   "source": [
    "Note on `imports`: If you want to be able to use modules (imports) within a module/script, be sure to import it at the top. This applies to test files as well."
   ]
  },
  {
   "cell_type": "code",
   "execution_count": null,
   "metadata": {},
   "outputs": [],
   "source": [
    "# Run tests\n",
    "suite = unittest.TestLoader().discover('.', pattern='test_atbash.py')\n",
    "unittest.TextTestRunner(verbosity=2).run(suite)"
   ]
  },
  {
   "cell_type": "markdown",
   "metadata": {
    "slideshow": {
     "slide_type": "slide"
    }
   },
   "source": [
    "#### `atbash_decrypt`"
   ]
  },
  {
   "cell_type": "code",
   "execution_count": null,
   "metadata": {
    "slideshow": {
     "slide_type": "-"
    }
   },
   "outputs": [],
   "source": [
    "# reminder: consider code style! \n",
    "def atbash_decrypt(atbash_string):    \n",
    "    ALPHA='ABCDEFGHIJKLMNOPQRSTUVWXYZ'\n",
    "    REVERSEALPHA='ZYXWVUTSRQPONMLKJIHGFEDCBA'\n",
    "    atbash_string=atbash_string.upper()\n",
    "    decrypted_string=''\n",
    "    for l in atbash_string:\n",
    "        if l in REVERSEALPHA:\n",
    "            letterindex=REVERSEALPHA.find(l)\n",
    "            decrypted_string=decrypted_string+ALPHA [letterindex]\n",
    "        else: decrypted_string=decrypted_string+l\n",
    "    return decrypted_string"
   ]
  },
  {
   "cell_type": "code",
   "execution_count": null,
   "metadata": {},
   "outputs": [],
   "source": [
    "# smoke test\n",
    "atbash_decrypt('SVOOL')"
   ]
  },
  {
   "cell_type": "code",
   "execution_count": null,
   "metadata": {
    "scrolled": true
   },
   "outputs": [],
   "source": [
    "# Run tests\n",
    "suite = unittest.TestLoader().discover('.', pattern='test_atbash.py')\n",
    "unittest.TextTestRunner(verbosity=2).run(suite)"
   ]
  },
  {
   "cell_type": "markdown",
   "metadata": {
    "slideshow": {
     "slide_type": "slide"
    }
   },
   "source": [
    "#### `atbash_wrapper`"
   ]
  },
  {
   "cell_type": "code",
   "execution_count": null,
   "metadata": {
    "slideshow": {
     "slide_type": "-"
    }
   },
   "outputs": [],
   "source": [
    "def atbash_wrapper(input_string, method='encrypt'):\n",
    "    \n",
    "    if method == 'encrypt':\n",
    "        output_string = atbash_encrypt(input_string)\n",
    "    elif method == 'decrypt':\n",
    "        output_string = atbash_decrypt(input_string)\n",
    "    else:\n",
    "        output_string = \"method should be either 'decrypt' or 'encrypt'\"\n",
    "    \n",
    "    return output_string"
   ]
  },
  {
   "cell_type": "code",
   "execution_count": null,
   "metadata": {},
   "outputs": [],
   "source": [
    "# smoke test\n",
    "atbash_wrapper('hello')"
   ]
  },
  {
   "cell_type": "code",
   "execution_count": null,
   "metadata": {},
   "outputs": [],
   "source": [
    "# Run tests\n",
    "suite = unittest.TestLoader().discover('.', pattern='test_atbash.py')\n",
    "unittest.TextTestRunner(verbosity=2).run(suite)"
   ]
  },
  {
   "cell_type": "markdown",
   "metadata": {
    "slideshow": {
     "slide_type": "slide"
    }
   },
   "source": [
    "### Documentation\n",
    "\n",
    "- Let's add:\n",
    "    - numpy-style docstrings\n",
    "    - code comments"
   ]
  },
  {
   "cell_type": "markdown",
   "metadata": {
    "slideshow": {
     "slide_type": "slide"
    }
   },
   "source": [
    "### Putting it all together"
   ]
  },
  {
   "cell_type": "code",
   "execution_count": null,
   "metadata": {},
   "outputs": [],
   "source": [
    "from atbash import atbash_wrapper"
   ]
  },
  {
   "cell_type": "code",
   "execution_count": null,
   "metadata": {},
   "outputs": [],
   "source": [
    "atbash_wrapper('hello')"
   ]
  },
  {
   "cell_type": "code",
   "execution_count": null,
   "metadata": {},
   "outputs": [],
   "source": [
    "atbash_wrapper('svool', method='decrypt')"
   ]
  },
  {
   "cell_type": "code",
   "execution_count": null,
   "metadata": {},
   "outputs": [],
   "source": [
    "atbash_wrapper('hello', method='blargh')"
   ]
  },
  {
   "cell_type": "markdown",
   "metadata": {
    "slideshow": {
     "slide_type": "slide"
    }
   },
   "source": [
    "### Refactoring"
   ]
  },
  {
   "cell_type": "markdown",
   "metadata": {
    "slideshow": {
     "slide_type": "fragment"
    }
   },
   "source": [
    "<div class=\"alert alert-success\">\n",
    "Refactoring is the process of restructuring existing computer code, without changing its external behaviour. \n",
    "</div>"
   ]
  },
  {
   "cell_type": "markdown",
   "metadata": {
    "slideshow": {
     "slide_type": "fragment"
    }
   },
   "source": [
    "Think of this as restructuring and final edits on your essay. "
   ]
  },
  {
   "cell_type": "markdown",
   "metadata": {
    "slideshow": {
     "slide_type": "fragment"
    }
   },
   "source": [
    "**Nesting Functions** - If you have a whole bunch of functions, if statements, and for/while loops together within a single function, you probably want (need?) to refactor."
   ]
  },
  {
   "cell_type": "markdown",
   "metadata": {
    "slideshow": {
     "slide_type": "fragment"
    }
   },
   "source": [
    "Clean functions accomplish a **single task**!"
   ]
  },
  {
   "cell_type": "markdown",
   "metadata": {
    "slideshow": {
     "slide_type": "fragment"
    }
   },
   "source": [
    "**DRY**: Don't Repeat Yourself"
   ]
  },
  {
   "cell_type": "markdown",
   "metadata": {
    "slideshow": {
     "slide_type": "slide"
    }
   },
   "source": [
    "#### Refactoring Example: Chatbot"
   ]
  },
  {
   "cell_type": "code",
   "execution_count": null,
   "metadata": {
    "slideshow": {
     "slide_type": "-"
    }
   },
   "outputs": [],
   "source": [
    "import random \n",
    "\n",
    "def have_a_chat():\n",
    "    \"\"\"Main function to run our chatbot.\"\"\"\n",
    "    \n",
    "    chat = True\n",
    "\n",
    "    while chat:\n",
    "\n",
    "        # Get a message from the user\n",
    "        msg = input('INPUT :\\t')\n",
    "        out_msg = None\n",
    "        \n",
    "        # Check if the input is a question\n",
    "        input_string = msg\n",
    "        if '?' in input_string:\n",
    "            question = True\n",
    "        else:\n",
    "            question = False\n",
    "\n",
    "        # Check for an end msg \n",
    "        if 'quit' in input_string:\n",
    "            out_msg = 'Bye!'\n",
    "            chat = False\n",
    "            \n",
    "        # If we don't have an output yet, but the input was a question, \n",
    "        # return msg related to it being a question\n",
    "        if not out_msg and question:\n",
    "            out_msg = \"I'm too shy to answer questions. What do you want to talk about?\"\n",
    "\n",
    "        # Catch-all to say something if msg not caught & processed so far\n",
    "        if not out_msg:\n",
    "            out_msg = random.choice(['Good.', 'Okay', 'Huh?', 'Yeah!', 'Thanks!'])\n",
    "\n",
    "        print('OUTPUT:', out_msg)"
   ]
  },
  {
   "cell_type": "code",
   "execution_count": null,
   "metadata": {
    "slideshow": {
     "slide_type": "fragment"
    }
   },
   "outputs": [],
   "source": [
    "have_a_chat()  "
   ]
  },
  {
   "cell_type": "markdown",
   "metadata": {
    "slideshow": {
     "slide_type": "slide"
    }
   },
   "source": [
    "#### Refactored Example: Chatbot"
   ]
  },
  {
   "cell_type": "markdown",
   "metadata": {
    "slideshow": {
     "slide_type": "fragment"
    }
   },
   "source": [
    "What this function does:\n",
    "\n",
    "1. takes an input\n",
    "2. checks if input is a question\n",
    "3. checks if input is supposed to end the chat\n",
    "4. return appropriate response if question, end chat, or other\n",
    "\n",
    "That's four different things! Functions should do a single thing..."
   ]
  },
  {
   "cell_type": "code",
   "execution_count": null,
   "metadata": {
    "slideshow": {
     "slide_type": "fragment"
    }
   },
   "outputs": [],
   "source": [
    "def get_input():\n",
    "    \"\"\"ask user for an input message\"\"\"\n",
    "    \n",
    "    msg = input('INPUT :\\t')\n",
    "    out_msg = None\n",
    "    \n",
    "    return msg, out_msg"
   ]
  },
  {
   "cell_type": "code",
   "execution_count": null,
   "metadata": {
    "slideshow": {
     "slide_type": "fragment"
    }
   },
   "outputs": [],
   "source": [
    "def is_question(input_string):\n",
    "    \"\"\"determine if input from user is a question\"\"\"\n",
    "    \n",
    "    if '?' in input_string:\n",
    "        output = True\n",
    "    else:\n",
    "        output = False\n",
    "    \n",
    "    return output"
   ]
  },
  {
   "cell_type": "code",
   "execution_count": null,
   "metadata": {
    "slideshow": {
     "slide_type": "fragment"
    }
   },
   "outputs": [],
   "source": [
    "def end_chat(input_list):\n",
    "    \"\"\"identify if user says 'quit' in input and end chat\"\"\"\n",
    "    \n",
    "    if 'quit' in input_list:\n",
    "        output = 'Bye'\n",
    "        chat = False\n",
    "    else:\n",
    "        output = None\n",
    "        chat = True\n",
    "        \n",
    "    return output, chat"
   ]
  },
  {
   "cell_type": "code",
   "execution_count": null,
   "metadata": {
    "slideshow": {
     "slide_type": "fragment"
    }
   },
   "outputs": [],
   "source": [
    "def return_message(out_msg, question):\n",
    "    \"\"\"generic responses for the chatbot to return\"\"\"\n",
    "        \n",
    "    # If we don't have an output yet, but the input was a question, \n",
    "    # return msg related to it being a question\n",
    "    if not out_msg and question:\n",
    "        out_msg = \"I'm too shy to answer questions. What do you want to talk about?\"\n",
    "\n",
    "    # Catch-all to say something if msg not caught & processed so far\n",
    "    if not out_msg:\n",
    "        out_msg = random.choice(['Good.', 'Okay', 'Huh?', 'Yeah!', 'Thanks!'])\n",
    "        \n",
    "    return out_msg"
   ]
  },
  {
   "cell_type": "code",
   "execution_count": null,
   "metadata": {
    "slideshow": {
     "slide_type": "fragment"
    }
   },
   "outputs": [],
   "source": [
    "def have_a_chat():\n",
    "    \"\"\"Main function to run our chatbot.\"\"\"\n",
    "    \n",
    "    chat = True\n",
    "\n",
    "    while chat:\n",
    "\n",
    "        # Get input message from the user\n",
    "        msg, out_msg = get_input()\n",
    "        \n",
    "        # Check if the input is a question\n",
    "        question = is_question(msg)\n",
    "         \n",
    "        # Check for an end msg \n",
    "        out_msg, chat = end_chat(msg)\n",
    "       \n",
    "        # specify what to return\n",
    "        out_msg = return_message(out_msg = out_msg, question = question)\n",
    "        \n",
    "        print('OUTPUT:', out_msg)"
   ]
  },
  {
   "cell_type": "code",
   "execution_count": null,
   "metadata": {
    "editable": true,
    "slideshow": {
     "slide_type": "fragment"
    },
    "tags": []
   },
   "outputs": [],
   "source": [
    "have_a_chat()  "
   ]
  },
  {
   "cell_type": "markdown",
   "metadata": {},
   "source": [
    "## The Goal\n",
    "\n",
    "To teach you a skill - of how to do things with Python.\n",
    "\n",
    "You've been more formally trained than *many* people out in the world programming."
   ]
  },
  {
   "cell_type": "markdown",
   "metadata": {},
   "source": [
    "## Where We've Been:\n",
    "\n",
    "- Python & Jupyter\n",
    "- Variables\n",
    "- Operators\n",
    "- Conditionals\n",
    "- Functions\n",
    "- Lists, Tuples & Dictionaries\n",
    "- Loops\n",
    "- Objects & Classes\n",
    "- Command Line\n",
    "- Scientific Computing\n",
    "- Documentation, Code Style, Code Testing"
   ]
  },
  {
   "cell_type": "markdown",
   "metadata": {},
   "source": [
    "### Activity: Wrap-up\n",
    "\n",
    "Please complete the following Google Form: [https://forms.gle/xdUjB27ywgG5bn4t7](https://forms.gle/xdUjB27ywgG5bn4t7)"
   ]
  },
  {
   "cell_type": "markdown",
   "metadata": {},
   "source": [
    "## How to Continue with Coding\n",
    "\n",
    "- Write Code\n",
    "- Read Code\n",
    "- Learn and follow standard procedures\n",
    "- Do code reviews\n",
    "- Interact with the community\n",
    "- Build a code portfolio"
   ]
  },
  {
   "cell_type": "markdown",
   "metadata": {},
   "source": [
    "## Where do you go from here? (things)\n",
    "\n",
    "- `git` & [GitHub](https://github.com/) - version control, code!\n",
    "- Code in production: deubuggers ([`pdb`](https://docs.python.org/3/library/pdb.html))\n",
    "- Dependancy-management ([`PyPI`](https://pypi.org/), [conda](https://docs.conda.io/en/latest/))\n",
    "- IDEs: [VSCode](https://code.visualstudio.com/)"
   ]
  },
  {
   "cell_type": "markdown",
   "metadata": {},
   "source": [
    "- if want_more_data_science:\n",
    "    - go to COGS 9\n",
    "- if you want *to do* more_data_science:\n",
    "    - ...*and* Python: take COGS 108\n",
    "    - ...*and* R: take COGS 137\n",
    "- if interested_in_research:\n",
    "    - look for labs, tell them you can code\n",
    "- if you want_something_else:\n",
    "    - go do it!"
   ]
  },
  {
   "cell_type": "markdown",
   "metadata": {},
   "source": [
    "## Acknowledgments\n",
    "\n",
    "Thank you to the TAs & IAs for their tireless work on this class.\n",
    "\n",
    "Thank you students for you time, effort and patience."
   ]
  },
  {
   "cell_type": "markdown",
   "metadata": {},
   "source": [
    "<center><h2> The End "
   ]
  }
 ],
 "metadata": {
  "celltoolbar": "Slideshow",
  "kernelspec": {
   "display_name": "Python 3 (ipykernel)",
   "language": "python",
   "name": "python3"
  },
  "language_info": {
   "codemirror_mode": {
    "name": "ipython",
    "version": 3
   },
   "file_extension": ".py",
   "mimetype": "text/x-python",
   "name": "python",
   "nbconvert_exporter": "python",
   "pygments_lexer": "ipython3",
   "version": "3.11.8"
  },
  "rise": {
   "scroll": true
  }
 },
 "nbformat": 4,
 "nbformat_minor": 4
}
