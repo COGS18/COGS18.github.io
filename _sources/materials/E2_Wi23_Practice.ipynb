{
 "cells": [
  {
   "cell_type": "markdown",
   "metadata": {
    "nbgrader": {
     "grade": false,
     "grade_id": "intro",
     "locked": true,
     "schema_version": 3,
     "solution": false
    }
   },
   "source": [
    "# COGS 18 - Practice Exam 2\n",
    "\n",
    "This is the second practice exam for Winter 2023. It covers topics through the Classes Lecture.\n",
    "\n",
    "This is worth 0 points and worth 0% of your grade, but the real total exam is out of 12.5 points, worth 12.5% of your grade. \n",
    "\n",
    "**PLEASE DO NOT CHANGE THE NAME OF THIS FILE.**\n",
    "\n",
    "**PLEASE DO NOT COPY & PASTE OR DELETE CELLS INLCUDED IN THE ASSIGNMENT.** (Note that you can add additional cells, if you want to test things out.\n",
    "\n",
    "<span style=\"color:red\">Note: There are WAYYYYYY more questions on this practice exam than on the real exam. This is because a number of students have asked for additional practice problems. So, do not be intimidated by the length here, but feel free to use it for extra practice!</span>"
   ]
  },
  {
   "cell_type": "markdown",
   "metadata": {
    "nbgrader": {
     "grade": false,
     "grade_id": "instructions",
     "locked": true,
     "schema_version": 3,
     "solution": false
    }
   },
   "source": [
    "## Instructions\n",
    "\n",
    "#### Timing\n",
    "- The exam is designed to take you ~1-2h.\n",
    "- There will be a >24 hour window during which you can complete this exam.\n",
    "- If it takes you longer than 1-2h, you're free to use that time.\n",
    "\n",
    "#### The Rules\n",
    "- You are to complete this exam on your own.\n",
    "- This is open-notes & open-Google\n",
    "- You may not talk to any humans about this exam. \n",
    "- The following are all *prohibited*:\n",
    "    - text/phone/online chat communication\n",
    "    - posting questions to a message board where a human could respond (Campuswire, Discord, Chegg, any similar site)\n",
    "    - viewing exam questions from a message board (as described above)\n",
    "    - asking anyone via any form about a question on this test directly\n",
    "- Clarification questions will ***not*** be allowed and there will be no posting on Campuswire about the exam at all. \n",
    "    - Campuswire posts about the exam will not be answered and will be deleted. \n",
    "    - Students who post questions about the exam to Campuswire are at risk of losing points on the exam.\n",
    "    - If you are confused about wording, add a note to your exam explaining your confusion and how you interpreted the question. \n",
    "    - Note: This policy is b/c we are incapable of responding for 24h straight. This is the only way to make it fair across the board for students."
   ]
  },
  {
   "cell_type": "markdown",
   "metadata": {
    "nbgrader": {
     "grade": false,
     "grade_id": "cell-26b08bd4b5ba54ab",
     "locked": true,
     "schema_version": 3,
     "solution": false
    }
   },
   "source": [
    " <span style=\"color: red;\">Note: </span> There _is_ a chance for partial credit on some questions, so _some_ code is better than _no_ code. Even if it throws an error, having some code that partially answers the question will benefit you/your grade."
   ]
  },
  {
   "cell_type": "markdown",
   "metadata": {
    "nbgrader": {
     "grade": false,
     "grade_id": "cell-4d8581ac45c24683",
     "locked": true,
     "schema_version": 3,
     "solution": false,
     "task": false
    }
   },
   "source": [
    "### Q0 - Honor Code\n",
    "\n",
    "In the cell below, include a variable `honor_code` that stores the boolean `True` if you agree to the following statement:\n",
    "\n",
    ">I agree that this exam was completed individually with the knowlege in my brain, information the notes from this course, and/or with searching for help on the Internet *without searching for answers to the text from these questions directly*. I did not ask anyone about specific questions on this exam. I did not post these questions (in part or in whole) on the Internet. I did not copy answers to these questions from anywhere or anyone else. I understand all code I've written on this exam and could explain my answers to someone else if asked.\n"
   ]
  },
  {
   "cell_type": "code",
   "execution_count": 1,
   "metadata": {
    "nbgrader": {
     "grade": false,
     "grade_id": "cell-9dae831891d7a1ad",
     "locked": false,
     "schema_version": 3,
     "solution": true,
     "task": false
    }
   },
   "outputs": [],
   "source": [
    "### BEGIN SOLUTION\n",
    "honor_code = True\n",
    "### END SOLUTION"
   ]
  },
  {
   "cell_type": "code",
   "execution_count": 2,
   "metadata": {
    "nbgrader": {
     "grade": true,
     "grade_id": "cell-8a6d1a928512e45c",
     "locked": true,
     "points": 0.1,
     "schema_version": 3,
     "solution": false,
     "task": false
    }
   },
   "outputs": [],
   "source": [
    "assert honor_code"
   ]
  },
  {
   "cell_type": "markdown",
   "metadata": {
    "nbgrader": {
     "grade": false,
     "grade_id": "part2",
     "locked": true,
     "schema_version": 3,
     "solution": false
    }
   },
   "source": [
    "## Part 1: Methods, Debugging & Code Style"
   ]
  },
  {
   "cell_type": "markdown",
   "metadata": {
    "nbgrader": {
     "grade": false,
     "grade_id": "q1",
     "locked": true,
     "schema_version": 3,
     "solution": false,
     "task": false
    }
   },
   "source": [
    "### Q1 - Method I\n",
    "\n",
    "`isalpha()` is a built-in string method that determines if all the characters in a string are in the alphabet (meaning letters or numbers: A-Z, a-z).\n",
    "\n",
    "Use the `isalpha()` method on two strings (of your choosing) below to create two variables:\n",
    "- `true_var` | should store the value `True`\n",
    "- `false_var` | should store the value `False`"
   ]
  },
  {
   "cell_type": "code",
   "execution_count": 3,
   "metadata": {
    "nbgrader": {
     "grade": true,
     "grade_id": "cell-09260f9c394a5905",
     "locked": false,
     "points": 0,
     "schema_version": 3,
     "solution": true,
     "task": false
    }
   },
   "outputs": [],
   "source": [
    "### BEGIN SOLUTION\n",
    "true_var = 'asdf'.isalpha()\n",
    "false_var = '!!!!'.isalpha()\n",
    "### END SOLUTION"
   ]
  },
  {
   "cell_type": "code",
   "execution_count": 4,
   "metadata": {
    "nbgrader": {
     "grade": true,
     "grade_id": "cell-e9a5e70357e98aef",
     "locked": true,
     "points": 0.2,
     "schema_version": 3,
     "solution": false,
     "task": false
    }
   },
   "outputs": [],
   "source": [
    "assert true_var is not None\n",
    "# below this would normally be hidden tests,\n",
    "# but because this is a practice exam \n",
    "# we are going to show it to you\n",
    "assert true_var\n",
    "### END HIDDEN TESTS"
   ]
  },
  {
   "cell_type": "code",
   "execution_count": 5,
   "metadata": {
    "nbgrader": {
     "grade": true,
     "grade_id": "cell-12001d8195362930",
     "locked": true,
     "points": 0.2,
     "schema_version": 3,
     "solution": false,
     "task": false
    }
   },
   "outputs": [],
   "source": [
    "assert false_var is not None\n",
    "# below this would normally be hidden tests,\n",
    "# but because this is a practice exam \n",
    "# we are going to show it to you\n",
    "assert not false_var\n",
    "### END HIDDEN TESTS"
   ]
  },
  {
   "cell_type": "markdown",
   "metadata": {
    "nbgrader": {
     "grade": false,
     "grade_id": "cell-122f520b60ffe1a4",
     "locked": true,
     "points": 0.6,
     "schema_version": 3,
     "solution": false,
     "task": true
    }
   },
   "source": [
    "**This \"blank\" cell included intentionally.** Do not do anything here. (It's being used in grading.)\n",
    "\n",
    "=== BEGIN MARK SCHEME ===\n",
    "\n",
    "- uses `isalpha()` correctly (**0.3pts for each variable**)\n",
    "\n",
    "=== END MARK SCHEME ==="
   ]
  },
  {
   "cell_type": "markdown",
   "metadata": {
    "nbgrader": {
     "grade": false,
     "grade_id": "cell-02b864480df846b4",
     "locked": true,
     "schema_version": 3,
     "solution": false,
     "task": false
    }
   },
   "source": [
    "### Q2 - Method II \n",
    "\n",
    "`istitle()` is a string method that determines if the string follows the rules of a title (meaning the first letter of each distinct word is upper case while all other letters are lower case).\n",
    "\n",
    "Use the `istitle()` method on two strings (of your choosing) below to create two variables:\n",
    "- `true_var` | should store the value `True`\n",
    "- `false_var` | should store the value `False`"
   ]
  },
  {
   "cell_type": "code",
   "execution_count": 6,
   "metadata": {
    "nbgrader": {
     "grade": false,
     "grade_id": "cell-be3c54eac262c3d4",
     "locked": false,
     "schema_version": 3,
     "solution": true,
     "task": false
    }
   },
   "outputs": [],
   "source": [
    "### BEGIN SOLUTION\n",
    "true_var = 'My Title'.istitle()\n",
    "false_var = 'MY TITLE'.istitle()\n",
    "### END SOLUTIONs"
   ]
  },
  {
   "cell_type": "code",
   "execution_count": 7,
   "metadata": {
    "nbgrader": {
     "grade": true,
     "grade_id": "cell-1e7cd59711db9b76",
     "locked": true,
     "points": 0.2,
     "schema_version": 3,
     "solution": false,
     "task": false
    }
   },
   "outputs": [],
   "source": [
    "assert true_var is not None\n",
    "# below this would normally be hidden tests,\n",
    "# but because this is a practice exam \n",
    "# we are going to show it to you\n",
    "assert true_var\n",
    "### END HIDDEN TESTS"
   ]
  },
  {
   "cell_type": "code",
   "execution_count": 8,
   "metadata": {
    "nbgrader": {
     "grade": true,
     "grade_id": "cell-80b753f1012acaae",
     "locked": true,
     "points": 0.2,
     "schema_version": 3,
     "solution": false,
     "task": false
    }
   },
   "outputs": [],
   "source": [
    "assert false_var is not None\n",
    "# below this would normally be hidden tests,\n",
    "# but because this is a practice exam \n",
    "# we are going to show it to you\n",
    "assert not false_var\n",
    "### END HIDDEN TESTS"
   ]
  },
  {
   "cell_type": "markdown",
   "metadata": {
    "nbgrader": {
     "grade": false,
     "grade_id": "cell-90b25a499b49a7f3",
     "locked": true,
     "points": 0.6,
     "schema_version": 3,
     "solution": false,
     "task": true
    }
   },
   "source": [
    "**This \"blank\" cell included intentionally.** Do not do anything here. (It's being used in grading.)\n",
    "\n",
    "=== BEGIN MARK SCHEME ===\n",
    "\n",
    "- uses `istitle()` syntax correctly (**0.3 pts**)\n",
    "\n",
    "=== END MARK SCHEME ==="
   ]
  },
  {
   "cell_type": "markdown",
   "metadata": {
    "nbgrader": {
     "grade": false,
     "grade_id": "cell-ec6253bef69e19d0",
     "locked": true,
     "schema_version": 3,
     "solution": false,
     "task": false
    }
   },
   "source": [
    "### Q3 - Method III\n",
    "\n",
    "We've provided a variable called `prof_day` below. Generate a dictionary `prof_events`, whose keys are each of the unique elements in `prof_day` and whose corresponding values are the number of times each value shows up in `prof_day`.\n",
    " \n",
    "Notes:\n",
    "- `prof_day` has been defined for you below\n",
    "- `count()` is a list method that counts the number of appearances of a specified element in a list.\n",
    "- **Do not hard-code**. Use your code to process the list so that we could change the list and you'd still generate the correct answer automatically. That is DON'T write something like:\n",
    "```python\n",
    "prof_events = {'write one exam':2}\n",
    "```\n",
    "because if we changed the list this answer would be wrong.\n"
   ]
  },
  {
   "cell_type": "code",
   "execution_count": 1,
   "metadata": {
    "nbgrader": {
     "grade": false,
     "grade_id": "cell-baf97130cf05f18a",
     "locked": true,
     "schema_version": 3,
     "solution": false,
     "task": false
    }
   },
   "outputs": [],
   "source": [
    "# these variables provided for you\n",
    "# you will not be able to edit this cell\n",
    "prof_day = ['write one exam', 'write one exam', 'grade exam', 'answer email', 'office hours', 'staff meeting', 'answer email']\n"
   ]
  },
  {
   "cell_type": "code",
   "execution_count": 2,
   "metadata": {
    "nbgrader": {
     "grade": true,
     "grade_id": "cell-6992bbe86b5d62a3",
     "locked": true,
     "points": 0,
     "schema_version": 3,
     "solution": false,
     "task": false
    }
   },
   "outputs": [],
   "source": [
    "# hidden test being used in grading\n",
    "# below this would normally be hidden tests,\n",
    "# but because this is a practice exam \n",
    "# we are going to show it to you\n",
    "\n",
    "# this is the kind of thing we do to check you didn't hard code\n",
    "# we change one value in list you were originally shown \n",
    "# then the tests go on to execute below\n",
    "\n",
    "prof_day = ['write one exam', 'write one exam', 'answer email', 'answer email', 'office hours', 'staff meeting', 'answer email']\n",
    "### END HIDDEN TESTS"
   ]
  },
  {
   "cell_type": "code",
   "execution_count": 3,
   "metadata": {
    "nbgrader": {
     "grade": false,
     "grade_id": "cell-43c896bbf4a8a127",
     "locked": false,
     "schema_version": 3,
     "solution": true,
     "task": false
    }
   },
   "outputs": [
    {
     "data": {
      "text/plain": [
       "{'write one exam': 2, 'answer email': 3, 'office hours': 1, 'staff meeting': 1}"
      ]
     },
     "execution_count": 3,
     "metadata": {},
     "output_type": "execute_result"
    }
   ],
   "source": [
    "### BEGIN SOLUTION\n",
    "prof_events = {}\n",
    "\n",
    "for ele in prof_day:\n",
    "    prof_events[ele] = prof_day.count(ele)\n",
    "\n",
    "prof_events\n",
    "### END SOLUTION"
   ]
  },
  {
   "cell_type": "code",
   "execution_count": 4,
   "metadata": {
    "nbgrader": {
     "grade": true,
     "grade_id": "cell-7cc63f7c144c54af",
     "locked": true,
     "points": 0.2,
     "schema_version": 3,
     "solution": false,
     "task": false
    }
   },
   "outputs": [],
   "source": [
    "assert prof_events is not None\n",
    "\n",
    "# below this would normally be hidden tests,\n",
    "# but because this is a practice exam \n",
    "# we are going to show it to you\n",
    "\n",
    "# check that keys are all what they should be\n",
    "assert all(elem in list(prof_events.keys())  for elem in ['write one exam', 'answer email', 'office hours', 'staff meeting'])\n",
    "### END HIDDEN TESTS"
   ]
  },
  {
   "cell_type": "code",
   "execution_count": 5,
   "metadata": {
    "nbgrader": {
     "grade": true,
     "grade_id": "cell-1de53862761ee0f0",
     "locked": true,
     "points": 0.2,
     "schema_version": 3,
     "solution": false,
     "task": false
    }
   },
   "outputs": [],
   "source": [
    "\n",
    "# below this would normally be hidden tests,\n",
    "# but because this is a practice exam \n",
    "# we are going to show it to you\n",
    "\n",
    "# check that values are what they should be\n",
    "assert sum(prof_events.values()) == 7\n",
    "assert all(elem in list(prof_events.values()) for elem in [2,1,3])\n",
    "### END HIDDEN TESTS"
   ]
  },
  {
   "cell_type": "markdown",
   "metadata": {
    "nbgrader": {
     "grade": false,
     "grade_id": "cell-bb8e34b344f32197",
     "locked": true,
     "points": 0.6,
     "schema_version": 3,
     "solution": false,
     "task": true
    }
   },
   "source": [
    "**This \"blank\" cell included intentionally.** Do not do anything here. (It's being used in grading.)\n",
    "\n",
    "=== BEGIN MARK SCHEME ===\n",
    "\n",
    "Check if points lost on autograder above: \n",
    "- initialized or created `prof_events` as a dictionary (**0.2 pts**)\n",
    "- Used count() method correctly (**0.2 pts**)\n",
    "- updated `prof_events` dictionary correctly (**0.2 pts**)\n",
    "\n",
    "=== END MARK SCHEME ==="
   ]
  },
  {
   "cell_type": "markdown",
   "metadata": {
    "nbgrader": {
     "grade": false,
     "grade_id": "q6",
     "locked": true,
     "schema_version": 3,
     "solution": false,
     "task": false
    }
   },
   "source": [
    "### Q4 - Debugging & Code Style\n",
    "\n",
    "In the cell below, there is a function that is not operating as anticipated *and* that has bad code style.\n",
    "\n",
    "`count_consonants` is _supposed_ to take a string as input and count the number of each consonant in the `input_string` (input parameter), storing the output in a dictionary where the key is the consonant and the value is the number of times it appears in the input. \n",
    "\n",
    "Note that we want capitalization to be considered such that the capital and lower case letters are counted together, and the upper case letter is used as the key (i.e. 'A' and 'a' would both be counted under the key 'A')\n",
    "\n",
    "Specifically, if the `input_string` were \"Mohammed\", the function ould return: `{'M': 3, 'H': 1, 'D': 1}`\n",
    "\n",
    "Debug, edit, and test the function provided below so that it accomplishes the intended goal. \n",
    "\n",
    "*Then* be sure to **edit the function you generate so that it follows the code style guidelines** discussed in class."
   ]
  },
  {
   "cell_type": "code",
   "execution_count": 14,
   "metadata": {
    "nbgrader": {
     "grade": false,
     "grade_id": "cell-926669216d811292",
     "locked": true,
     "schema_version": 3,
     "solution": false,
     "task": false
    }
   },
   "outputs": [],
   "source": [
    "# This is the function that is not operating as anticipated and that has bad code style.\n",
    "# Debug, edit, and test the function provided below so that it accomplishes the intended goal.\n",
    "def count_consonants():\n",
    "    out={}\n",
    "    vowels=['A','E','I','O','U']\n",
    "    for char in input_string:\n",
    "        if char not in vowels:\n",
    "            if char not in out:\n",
    "                out[char]=1\n",
    "# You can copy and paste this code (not the cell) to start your coding"
   ]
  },
  {
   "cell_type": "code",
   "execution_count": 15,
   "metadata": {
    "nbgrader": {
     "grade": false,
     "grade_id": "cell-bf67b586499664bc",
     "locked": false,
     "schema_version": 3,
     "solution": true
    }
   },
   "outputs": [],
   "source": [
    "### BEGIN SOLUTION\n",
    "def count_consonants(input_string):\n",
    "    out = {}\n",
    "    vowels = ['A', 'E', 'I', 'O', 'U']\n",
    "    \n",
    "    for char in input_string:\n",
    "        char = char.upper()\n",
    "        \n",
    "        if char not in vowels:\n",
    "            if char not in out:\n",
    "                out[char] = 1\n",
    "            else:\n",
    "                out[char] += 1\n",
    "    return out\n",
    "### END SOLUTION"
   ]
  },
  {
   "cell_type": "code",
   "execution_count": 16,
   "metadata": {},
   "outputs": [],
   "source": [
    "# BE SURE YOUR ANSWER IS IN THE CELL ABOVE\n",
    "# but you can use this cell to test/execute/check your function (optional)"
   ]
  },
  {
   "cell_type": "code",
   "execution_count": 17,
   "metadata": {
    "nbgrader": {
     "grade": true,
     "grade_id": "q6-test1",
     "locked": true,
     "points": 0.35,
     "schema_version": 3,
     "solution": false,
     "task": false
    }
   },
   "outputs": [],
   "source": [
    "assert count_consonants is not None\n"
   ]
  },
  {
   "cell_type": "code",
   "execution_count": 18,
   "metadata": {
    "nbgrader": {
     "grade": true,
     "grade_id": "q6-test2",
     "locked": true,
     "points": 0.35,
     "schema_version": 3,
     "solution": false,
     "task": false
    }
   },
   "outputs": [],
   "source": [
    "assert callable(count_consonants)\n",
    "\n",
    "# below this would normally be hidden tests,\n",
    "# but because this is a practice exam \n",
    "# we are going to show it to you\n",
    "assert count_consonants('AaBbCc') == {'B': 2, 'C': 2}\n",
    "assert count_consonants('Taylor') == {'T': 1, 'Y': 1, 'L': 1, 'R': 1}\n",
    "### END HIDDEN TESTS"
   ]
  },
  {
   "cell_type": "markdown",
   "metadata": {
    "nbgrader": {
     "grade": false,
     "grade_id": "q6-test3",
     "locked": true,
     "points": 0.8,
     "schema_version": 3,
     "solution": false,
     "task": true
    }
   },
   "source": [
    "**This \"blank\" cell included intentionally.** Do not do anything here. (It's being used in grading.)\n",
    "\n",
    "=== BEGIN MARK SCHEME ===\n",
    "\n",
    "Debugging:\n",
    "- input parameter included (**0.2 points**)\n",
    "- captitalization accounted for (**0.2 points**)\n",
    "- else condition (or equivalent) included (**0.2 points**)\n",
    "- return statement included (**0.2 points**)\n",
    "\n",
    "Code Style: \n",
    "- has reasonable spacing around operators\n",
    "- some reasonable line spacing introduced\n",
    "\n",
    "=== END MARK SCHEME ==="
   ]
  },
  {
   "cell_type": "markdown",
   "metadata": {
    "nbgrader": {
     "grade": false,
     "grade_id": "q7",
     "locked": true,
     "schema_version": 3,
     "solution": false
    }
   },
   "source": [
    "### Q5 - Debugging & Code Style\n",
    "\n",
    "In the cell below, there is a function that is not operating as anticipated *and* has bad code style.\n",
    "\n",
    "`new_encrypt` is _supposed_ to take a string as input and return the reverse alphabetical string as output, meaning, given a character, return the __lowercase__ character in the reverse position within the alphabet. \n",
    "\n",
    "For example, if the input character is 'B' or 'b', the function would store 'y' in the output string. If the character is 'A' or 'a', the function would store 'z'. (and vice versa: the input 'Z' or 'z' would store 'a').\n",
    "\n",
    "Specifically, if the `input_string` were \"ABc\", the function would `return`: 'zyx'\n",
    "\n",
    "Debug, edit, and test the function provided below so that it accomplishes the intended goal.\n",
    "\n",
    "*Then* be sure to **edit the function you generate so that it follows the code style guidelines** discussed in class."
   ]
  },
  {
   "cell_type": "code",
   "execution_count": 19,
   "metadata": {
    "nbgrader": {
     "grade": false,
     "grade_id": "cell-26f79ac76d80e4d9",
     "locked": true,
     "schema_version": 3,
     "solution": false,
     "task": false
    }
   },
   "outputs": [],
   "source": [
    "# This is the function that is not operating as anticipated and has bad code style.\n",
    "# Debug, edit, and test the function provided below so that it accomplishes the intended goal.\n",
    "def new_encrypt():\n",
    "    alpha='abcdefghijklmnopqrstuvwxyz'\n",
    "    reverse_alpha='zyxwvutsrqponmlkjihgfedcba'\n",
    "    for char in input_string:\n",
    "        if char in alpha:\n",
    "            position=alpha.find(char)\n",
    "            output_string+=reverse_alpha[position]\n",
    "        else:\n",
    "            output_string=None\n",
    "            break\n",
    "            \n",
    "# You can copy and paste the code (not the cell) to start your debugging"
   ]
  },
  {
   "cell_type": "code",
   "execution_count": 20,
   "metadata": {
    "nbgrader": {
     "grade": false,
     "grade_id": "q7-solution",
     "locked": false,
     "schema_version": 3,
     "solution": true
    }
   },
   "outputs": [],
   "source": [
    "### BEGIN SOLUTION\n",
    "def new_encrypt(input_string):\n",
    "    alpha = 'abcdefghijklmnopqrstuvwxyz'\n",
    "    reverse_alpha = 'zyxwvutsrqponmlkjihgfedcba'\n",
    "\n",
    "    output_string = ''\n",
    "\n",
    "    for char in input_string:\n",
    "        char = char.lower()\n",
    "        if char in alpha:\n",
    "            position = alpha.find(char)\n",
    "            output_string += reverse_alpha[position]\n",
    "        else:\n",
    "            output_string = None\n",
    "            break\n",
    "        \n",
    "    return output_string\n",
    "### END SOLUTION"
   ]
  },
  {
   "cell_type": "code",
   "execution_count": 21,
   "metadata": {},
   "outputs": [],
   "source": [
    "# BE SURE YOUR ANSWER IS IN THE CELL ABOVE\n",
    "# but you can use this cell to test/execute/check your function (optional)"
   ]
  },
  {
   "cell_type": "code",
   "execution_count": 22,
   "metadata": {
    "nbgrader": {
     "grade": true,
     "grade_id": "q7-test1",
     "locked": true,
     "points": 0.25,
     "schema_version": 3,
     "solution": false,
     "task": false
    }
   },
   "outputs": [],
   "source": [
    "assert new_encrypt\n",
    "\n"
   ]
  },
  {
   "cell_type": "code",
   "execution_count": 23,
   "metadata": {
    "nbgrader": {
     "grade": true,
     "grade_id": "q7-test2",
     "locked": true,
     "points": 0.25,
     "schema_version": 3,
     "solution": false,
     "task": false
    }
   },
   "outputs": [],
   "source": [
    "assert callable(new_encrypt)\n",
    "\n",
    "# below this would normally be hidden tests,\n",
    "# but because this is a practice exam \n",
    "# we are going to show it to you\n",
    "assert new_encrypt(input_string='abc') == 'zyx'\n",
    "assert new_encrypt('MOHAMMED') == 'nlsznnvw'\n",
    "\n",
    "### END HIDDEN TESTS"
   ]
  },
  {
   "cell_type": "markdown",
   "metadata": {
    "nbgrader": {
     "grade": false,
     "grade_id": "q7-test3",
     "locked": true,
     "points": 0.75,
     "schema_version": 3,
     "solution": false,
     "task": true
    }
   },
   "source": [
    "**This \"blank\" cell included intentionally.** Do not do anything here. (It's being used in grading.)\n",
    "\n",
    "=== BEGIN MARK SCHEME ===\n",
    "\n",
    "Debugging:\n",
    "- `input_string` parameter included (**0.15 points**)\n",
    "- empty `output_string` initialized (**0.2 points**)\n",
    "- lower() accounted for (**0.2 points**)\n",
    "- `return` statement included (**0.2 points**)\n",
    "\n",
    "Code Style: \n",
    "- has reasonable spacing around operators\n",
    "- some reasonable line spacing introduced\n",
    "\n",
    "=== END MARK SCHEME ==="
   ]
  },
  {
   "cell_type": "markdown",
   "metadata": {
    "nbgrader": {
     "grade": false,
     "grade_id": "cell-6dcb551ee590c420",
     "locked": true,
     "schema_version": 3,
     "solution": false,
     "task": false
    }
   },
   "source": [
    "### Q6 - Debugging (1.5 points)\n",
    "\n",
    "The following not-totally-functioning `give_ticket()` function has been provided for you. The *goal* of this function, is given two inputs (`speed` and `zone`), the function should return the boolean True if the person should receive a ticket and the boolean False otherwise.\n",
    "\n",
    "The rules for giving a ticket depend on the `zone` which can take the following values/rules:\n",
    "- `private`&nbsp;| ticket if  `speed` is above 5\n",
    "- `local`&nbsp;&nbsp;&nbsp;&nbsp;&nbsp;|   ticket if `speed` is above 25\n",
    "- `highway` |  ticket if `speed` is above 65\n",
    "\n",
    "\n",
    "For example, if the driver's `speed` was 25 and their zone was 'local', the function would return `False`. However, if in the same zone, and their speed were 26, the function would return `True`. \n",
    "\n",
    "Consider the function provided below and then debug (you can copy and paste the code below) to accomplish the task specified above. \n",
    "\n",
    "Note: Do not change the name of the function (`give_ticket`), and the parameter names provided in the instructions (`speed`, `zone`) must be used."
   ]
  },
  {
   "cell_type": "code",
   "execution_count": 25,
   "metadata": {
    "nbgrader": {
     "grade": false,
     "grade_id": "cell-e0df52cdb34e2567",
     "locked": true,
     "schema_version": 3,
     "solution": false,
     "task": false
    }
   },
   "outputs": [
    {
     "ename": "SyntaxError",
     "evalue": "invalid syntax (1962991419.py, line 4)",
     "output_type": "error",
     "traceback": [
      "\u001b[0;36m  File \u001b[0;32m\"/var/folders/79/pvtx21_16wbgg4pkmck0g7b80000gn/T/ipykernel_1665/1962991419.py\"\u001b[0;36m, line \u001b[0;32m4\u001b[0m\n\u001b[0;31m    if zone = 'private' or speed > 5:\u001b[0m\n\u001b[0m            ^\u001b[0m\n\u001b[0;31mSyntaxError\u001b[0m\u001b[0;31m:\u001b[0m invalid syntax\n"
     ]
    }
   ],
   "source": [
    "# This is the no-functioning function\n",
    "# Debug and edit it to accomplish the task specified above.\n",
    "def give_ticket(self, speed, zone):\n",
    "    if zone = 'private' or speed > 5:\n",
    "        print(True)\n",
    "    elif zone = 'local' or speed > 25:\n",
    "        print(True)\n",
    "    elif zone = 'highway' or speed > 65:\n",
    "        print(True)\n",
    "    else:\n",
    "        print(False)\n",
    "    \n",
    "# You can copy and paste the code (not the cell) to start your debugging"
   ]
  },
  {
   "cell_type": "code",
   "execution_count": 26,
   "metadata": {
    "nbgrader": {
     "grade": false,
     "grade_id": "cell-ee5cbe431e55aeb8",
     "locked": false,
     "schema_version": 3,
     "solution": true,
     "task": false
    }
   },
   "outputs": [],
   "source": [
    "### BEGIN SOLUTION\n",
    "def give_ticket(speed, zone):\n",
    "\n",
    "    if zone == 'private' and speed > 5:\n",
    "        ticket = True\n",
    "    elif zone == 'local' and speed > 25:\n",
    "        ticket = True\n",
    "    elif zone == 'highway' and speed > 65:\n",
    "        ticket = True\n",
    "    else:\n",
    "        ticket = False\n",
    "\n",
    "    return ticket\n",
    "### END SOLUTION"
   ]
  },
  {
   "cell_type": "code",
   "execution_count": 27,
   "metadata": {},
   "outputs": [],
   "source": [
    "# BE SURE YOUR ANSWER IS IN THE CELL ABOVE\n",
    "# but you can use this cell to test/execute/check your thinking (optional)"
   ]
  },
  {
   "cell_type": "code",
   "execution_count": 28,
   "metadata": {
    "nbgrader": {
     "grade": true,
     "grade_id": "cell-d3ecf602a2d3eee9",
     "locked": true,
     "points": 0.25,
     "schema_version": 3,
     "solution": false,
     "task": false
    }
   },
   "outputs": [],
   "source": [
    "assert give_ticket\n",
    "\n",
    "# below this would normally be hidden tests,\n",
    "# but because this is a practice exam \n",
    "# we are going to show it to you\n",
    "assert give_ticket(speed=6, zone='private') \n",
    "assert give_ticket(speed=26, zone='local') \n",
    "assert give_ticket(speed=66, zone='highway') \n",
    "### END HIDDEN TESTS"
   ]
  },
  {
   "cell_type": "code",
   "execution_count": 29,
   "metadata": {
    "nbgrader": {
     "grade": true,
     "grade_id": "cell-f70941db79b59474",
     "locked": true,
     "points": 0.25,
     "schema_version": 3,
     "solution": false,
     "task": false
    }
   },
   "outputs": [],
   "source": [
    "assert callable(give_ticket)\n",
    "\n",
    "# below this would normally be hidden tests,\n",
    "# but because this is a practice exam \n",
    "# we are going to show it to you\n",
    "assert not give_ticket(speed=5, zone='private') \n",
    "assert not give_ticket(speed=10, zone='local') \n",
    "assert not give_ticket(speed=45, zone='highway') \n",
    "### END HIDDEN TESTS"
   ]
  },
  {
   "cell_type": "markdown",
   "metadata": {
    "nbgrader": {
     "grade": false,
     "grade_id": "cell-c0f97983945fb210",
     "locked": true,
     "points": 1,
     "schema_version": 3,
     "solution": false,
     "task": true
    }
   },
   "source": [
    "**This \"blank\" cell included intentionally.** Do not do anything here. (It's being used in grading.)\n",
    "\n",
    "=== BEGIN MARK SCHEME ===\n",
    "\n",
    "Check if points lost on autograder above: \n",
    "- `self` removed as a parameter (**0.1 pts**)\n",
    "- fixed conditional operator `=` to `==` (**0.25 pts**)\n",
    "- `or` changed to `and` in conditional (**0.25 pts**)\n",
    "- `print()` statements changed to store variable (**0.25 pts**)\n",
    "- `reuturn` statement added (**0.15 pts**)\n",
    "                                                              \n",
    "=== END MARK SCHEME ==="
   ]
  },
  {
   "cell_type": "markdown",
   "metadata": {
    "nbgrader": {
     "grade": false,
     "grade_id": "part1",
     "locked": true,
     "schema_version": 3,
     "solution": false
    }
   },
   "source": [
    "## Part 2: Loops & Functions\n",
    "\n",
    "Note this section has *more* questions than your real exam will have. This is just to get you additional practice."
   ]
  },
  {
   "cell_type": "markdown",
   "metadata": {
    "nbgrader": {
     "grade": false,
     "grade_id": "q4",
     "locked": true,
     "schema_version": 3,
     "solution": false,
     "task": false
    }
   },
   "source": [
    "### Q7 - Function execution\n",
    "\n",
    "The cell below includes a function that has been provided for you. After running the cell below (to define this function), execute (use) this function to create the following variables under the specified conditions:\n",
    "\n",
    "- `mulitply_default` | execute the `multiply_all` function using the default parameter such that the output will carry out the function on a list of input values containing the integers 2, 3, and 4. \n",
    "- `multiplication_5` | Use the same input values as above to obtain an answer from `multiply_all` function, but this time using multiplication_factor as 5.\n",
    "- `my_output` &nbsp;&nbsp;&nbsp;&nbsp;&nbsp;&nbsp;&nbsp;&nbsp;&nbsp;&nbsp;| Execute the `multiply_all` function such that `my_output` will store a list with 4 values `[10,10,10,10]` , such that the multiplication_factor = -5.  "
   ]
  },
  {
   "cell_type": "code",
   "execution_count": 6,
   "metadata": {
    "nbgrader": {
     "grade": false,
     "grade_id": "q4-funct",
     "locked": true,
     "schema_version": 3,
     "solution": false,
     "task": false
    }
   },
   "outputs": [],
   "source": [
    "def multiply_all(my_list, multiplication_factor=2):\n",
    "    \n",
    "    output_list = []\n",
    "    for val in my_list:\n",
    "        new_val = val * multiplication_factor\n",
    "        output_list.append(new_val)\n",
    "    \n",
    "    return output_list"
   ]
  },
  {
   "cell_type": "code",
   "execution_count": 7,
   "metadata": {},
   "outputs": [],
   "source": [
    "# BE SURE YOUR ANSWER IS IN THE CELL BELOW\n",
    "# but you can use this cell to test/execute/check your thinking (optional)"
   ]
  },
  {
   "cell_type": "code",
   "execution_count": 8,
   "metadata": {
    "nbgrader": {
     "grade": false,
     "grade_id": "q4-solution",
     "locked": false,
     "schema_version": 3,
     "solution": true,
     "task": false
    }
   },
   "outputs": [],
   "source": [
    "### BEGIN SOLUTION\n",
    "mulitply_default = multiply_all([2,3,4])\n",
    "multiplication_5 = multiply_all([2,3,4], 5)\n",
    "my_output = multiply_all([-2,-2,-2,-2], -5) # this execution could differ\n",
    "### END SOLUTION"
   ]
  },
  {
   "cell_type": "code",
   "execution_count": 9,
   "metadata": {
    "nbgrader": {
     "grade": true,
     "grade_id": "q4-test1",
     "locked": true,
     "points": 0.25,
     "schema_version": 3,
     "solution": false,
     "task": false
    }
   },
   "outputs": [],
   "source": [
    "assert mulitply_default is not None\n",
    "\n",
    "# below this would normally be hidden tests,\n",
    "# but because this is a practice exam \n",
    "# we are going to show it to you\n",
    "assert  mulitply_default == [4,6,8]\n",
    "### END HIDDEN TESTS"
   ]
  },
  {
   "cell_type": "code",
   "execution_count": 10,
   "metadata": {
    "nbgrader": {
     "grade": true,
     "grade_id": "q4-test2",
     "locked": true,
     "points": 0.25,
     "schema_version": 3,
     "solution": false,
     "task": false
    }
   },
   "outputs": [],
   "source": [
    "assert multiplication_5 is not None\n",
    "\n",
    "# below this would normally be hidden tests,\n",
    "# but because this is a practice exam \n",
    "# we are going to show it to you\n",
    "assert multiplication_5  == [10, 15, 20]\n",
    "### END HIDDEN TESTS"
   ]
  },
  {
   "cell_type": "code",
   "execution_count": 11,
   "metadata": {
    "nbgrader": {
     "grade": true,
     "grade_id": "q4-test3",
     "locked": true,
     "points": 0.25,
     "schema_version": 3,
     "solution": false,
     "task": false
    }
   },
   "outputs": [],
   "source": [
    "assert my_output is not None\n",
    "\n",
    "# below this would normally be hidden tests,\n",
    "# but because this is a practice exam \n",
    "# we are going to show it to you\n",
    "assert my_output  == [10,10,10,10]\n",
    "### END HIDDEN TESTS"
   ]
  },
  {
   "cell_type": "markdown",
   "metadata": {
    "nbgrader": {
     "grade": false,
     "grade_id": "q4-test4",
     "locked": true,
     "points": 0.25,
     "schema_version": 3,
     "solution": false,
     "task": true
    }
   },
   "source": [
    "**This \"blank\" cell included intentionally.** Do not do anything here. (It's being used in grading.)\n",
    "\n",
    "=== BEGIN MARK SCHEME ===\n",
    "\n",
    "function executed appropriately for variable creation (aka not hard coded) (**1 point** ; 0.33 per function call)\n",
    "\n",
    "=== END MARK SCHEME ==="
   ]
  },
  {
   "cell_type": "markdown",
   "metadata": {
    "nbgrader": {
     "grade": false,
     "grade_id": "cell-890fd54197ddc82d",
     "locked": true,
     "schema_version": 3,
     "solution": false,
     "task": false
    }
   },
   "source": [
    "### Q8 - Function Execution\n",
    "\n",
    "The function `count_sentences()` has been provided for you below. Note that `split()` is a string method that splits a string at the character specified within the parentheses of the method call.\n",
    "\n",
    "If this isn't clear to you, you might want to try the following in a cell and see what happens:\n",
    "```python\n",
    "'milk, butter, eggs'.split(',')\n",
    "```\n",
    "\n",
    "**Part 1** \n",
    "\n",
    "First, in the cell provided below containing `YOUR ANSWER HERE`, describe what the `count_sentences()` function accomplishes. This should include both 1) the overall task accomplished and 2) how the specific code used accomplishes this task."
   ]
  },
  {
   "cell_type": "code",
   "execution_count": 13,
   "metadata": {
    "nbgrader": {
     "grade": false,
     "grade_id": "cell-499ed96ef2b003e9",
     "locked": true,
     "schema_version": 3,
     "solution": false,
     "task": false
    }
   },
   "outputs": [],
   "source": [
    "def count_sentences(text):\n",
    "    sentences = text.split('.')\n",
    "    \n",
    "    if sentences[-1]=='':\n",
    "        num_sentences = len(sentences) - 1\n",
    "    else:\n",
    "        num_sentences = len(sentences)\n",
    "        \n",
    "    return num_sentences"
   ]
  },
  {
   "cell_type": "code",
   "execution_count": 14,
   "metadata": {},
   "outputs": [],
   "source": [
    "# BE SURE YOUR ANSWER IS IN THE CELL BELOW\n",
    "# but you can use this cell to test/execute/check your thinking (optional)"
   ]
  },
  {
   "cell_type": "markdown",
   "metadata": {
    "nbgrader": {
     "grade": false,
     "grade_id": "cell-f060a0b5dbbc43db",
     "locked": true,
     "points": 0,
     "schema_version": 3,
     "solution": false,
     "task": true
    }
   },
   "source": [
    "Describe the `count_sentences()` function here.\n",
    "\n",
    "\n",
    "=== BEGIN MARK SCHEME ===\n",
    "\n",
    "- explains task generally accurately (**0.25 pts**)\n",
    "- explains what `.split()` does in context accurately (**0.25 pts**)\n",
    "- explains what conditional does/why it's needed (**0.25 pts**)\n",
    "\n",
    "=== END MARK SCHEME ==="
   ]
  },
  {
   "cell_type": "markdown",
   "metadata": {
    "nbgrader": {
     "grade": false,
     "grade_id": "cell-931ecd95a8a4a45f",
     "locked": true,
     "schema_version": 3,
     "solution": false,
     "task": false
    }
   },
   "source": [
    "**Part 2**\n",
    "\n",
    "Execute the `count_sentences()` function by passing it a string that will cause it to return a value of `2`; assign this output to the variable `out_2`."
   ]
  },
  {
   "cell_type": "code",
   "execution_count": 15,
   "metadata": {
    "nbgrader": {
     "grade": false,
     "grade_id": "cell-b60e1b7443ba1cb1",
     "locked": false,
     "schema_version": 3,
     "solution": true,
     "task": false
    }
   },
   "outputs": [],
   "source": [
    "### BEGIN SOLUTION\n",
    "out_2 = count_sentences('A sentence with words. A second sentence with words.')\n",
    "### END SOLUTION"
   ]
  },
  {
   "cell_type": "code",
   "execution_count": 17,
   "metadata": {
    "nbgrader": {
     "grade": true,
     "grade_id": "cell-b92e934f9e45a69a",
     "locked": true,
     "points": 0,
     "schema_version": 3,
     "solution": false,
     "task": false
    }
   },
   "outputs": [],
   "source": [
    "assert out_2\n",
    "# below this would normally be hidden tests,\n",
    "# but because this is a practice exam \n",
    "# we are going to show it to you\n",
    "assert out_2 == 2\n",
    "### END HIDDEN TESTS"
   ]
  },
  {
   "cell_type": "markdown",
   "metadata": {
    "nbgrader": {
     "grade": false,
     "grade_id": "cell-8d8d84eb3b622760",
     "locked": true,
     "points": 0,
     "schema_version": 3,
     "solution": false,
     "task": true
    }
   },
   "source": [
    "**This \"blank\" cell included intentionally.** Do not do anything here. (It's being used in grading.)\n",
    "\n",
    "=== BEGIN MARK SCHEME ===\n",
    "\n",
    "- remove autograder credit above if function not executed\n",
    "\n",
    "=== END MARK SCHEME ==="
   ]
  },
  {
   "cell_type": "markdown",
   "metadata": {
    "nbgrader": {
     "grade": false,
     "grade_id": "q2",
     "locked": true,
     "schema_version": 3,
     "solution": false
    }
   },
   "source": [
    "### Q9 - `count_int` \n",
    "\n",
    "Write a function `count_int` that will take a list as the input and count the number of integers in that list, returning this value from the function. \n",
    "\n",
    "For example, if the list had 5 elements, with 2 of the elements being strings and 3 of the elements were integers, then the function would return 3.\n",
    "\n",
    "Note: You can assume the input to this function will be a list and do *not* need to write code to check whether or not this is true."
   ]
  },
  {
   "cell_type": "code",
   "execution_count": 18,
   "metadata": {
    "nbgrader": {
     "grade": false,
     "grade_id": "q2-solution",
     "locked": false,
     "schema_version": 3,
     "solution": true
    }
   },
   "outputs": [],
   "source": [
    "### BEGIN SOLUTION\n",
    "def count_int(col):\n",
    "    count = 0\n",
    "    \n",
    "    for val in col:\n",
    "        if type(val) == int:\n",
    "            count += 1\n",
    "    \n",
    "    return count\n",
    "### END SOLUTION"
   ]
  },
  {
   "cell_type": "code",
   "execution_count": 19,
   "metadata": {},
   "outputs": [],
   "source": [
    "# BE SURE YOUR ANSWER IS IN THE CELL ABOVE\n",
    "# but you can use this cell to test/execute/check your function (optional)"
   ]
  },
  {
   "cell_type": "code",
   "execution_count": 22,
   "metadata": {
    "nbgrader": {
     "grade": true,
     "grade_id": "q5-test1",
     "locked": true,
     "points": 0.25,
     "schema_version": 3,
     "solution": false,
     "task": false
    }
   },
   "outputs": [],
   "source": [
    "assert callable(count_int)\n",
    "\n",
    "# below this would normally be hidden tests,\n",
    "# but because this is a practice exam \n",
    "# we are going to show it to you\n",
    "assert count_int((1,2,3,4,5)) == 5\n",
    "assert count_int([1,3,'string', 4.4, None, True ]) == 2\n",
    "### END HIDDEN TESTS"
   ]
  },
  {
   "cell_type": "markdown",
   "metadata": {
    "nbgrader": {
     "grade": false,
     "grade_id": "q5-test2",
     "locked": true,
     "points": 0,
     "schema_version": 3,
     "solution": false,
     "task": true
    }
   },
   "source": [
    "**This \"blank\" cell included intentionally.** Do not do anything here. (It's being used in grading.)\n",
    "\n",
    "=== BEGIN MARK SCHEME ===\n",
    "\n",
    "partial credit for answer above:\n",
    "\n",
    "- function defined correctly (**0.5 points**)\n",
    "- input parameter specified  (**0.5 points**)\n",
    "- counter initialized (**0.5 points**)\n",
    "- for loop (or equivalent) correct (**0.2 points**)\n",
    "- conditional (or equivalent) correct (**0.3 points**)\n",
    "- counter incremented correctly (**0.5 points**) \n",
    "- `return` statement included (**0.5 points**)\n",
    "\n",
    "=== END MARK SCHEME ==="
   ]
  },
  {
   "cell_type": "markdown",
   "metadata": {
    "nbgrader": {
     "grade": false,
     "grade_id": "q5",
     "locked": true,
     "schema_version": 3,
     "solution": false
    }
   },
   "source": [
    "### Q10 - `modify_string`\n",
    "\n",
    "\n",
    "In this question, you're going to define a function called `modify_string()` that will change `input_string` using the key-value pairs in `new_language` (provided below), ultimately returning the updated name from the function.\n",
    "\n",
    "Specifically, if any of the letters in your name (`input_string`) are keys in the dictionary `new_language` below, use that key's value in that letter's place in the string being output from the function. If the letter is not in `new_language`, add the original character from `input_string` to the string being output from the function.\n",
    "\n",
    "For example, if `input_string` were 'Shannon', `modif_string()` would `return` 'Shӓnnðn' (the a and the o have the modified character from `new_language`)\n",
    "\n",
    "\n",
    "This function should have a single parameter: `input_string` - the string to be modified."
   ]
  },
  {
   "cell_type": "code",
   "execution_count": 43,
   "metadata": {},
   "outputs": [],
   "source": [
    "new_language = {'a': 'ӓ',\n",
    "                'e' : 'ɚ',\n",
    "                'i' : '¡',\n",
    "                'o' : 'ð',\n",
    "                'u' : 'û',\n",
    "                'A' : 'Ӓ',\n",
    "                'E' : 'ɛ',\n",
    "                'O' : 'Ó',\n",
    "                'U' : 'Ü'}"
   ]
  },
  {
   "cell_type": "code",
   "execution_count": 23,
   "metadata": {
    "nbgrader": {
     "grade": false,
     "grade_id": "q5-solution",
     "locked": false,
     "schema_version": 3,
     "solution": true
    }
   },
   "outputs": [],
   "source": [
    "### BEGIN SOLUTION\n",
    "def modify_string(input_string):\n",
    "    \n",
    "    new_language = {'a': 'ӓ',\n",
    "                    'e' : 'ɚ',\n",
    "                    'i' : '¡',\n",
    "                    'o' : 'ð',\n",
    "                    'u' : 'û',\n",
    "                    'A' : 'Ӓ',\n",
    "                    'E' : 'ɛ', \n",
    "                    'O' : 'Ó', \n",
    "                    'U' : 'Ü'}\n",
    "    \n",
    "    modified_name = ''\n",
    "    \n",
    "    for letter in input_string:\n",
    "        if letter in new_language:\n",
    "            modified_name = modified_name + new_language[letter]\n",
    "        else:\n",
    "            modified_name = modified_name + letter\n",
    "\n",
    "    return modified_name\n",
    "                \n",
    "### END SOLUTION"
   ]
  },
  {
   "cell_type": "code",
   "execution_count": 24,
   "metadata": {},
   "outputs": [],
   "source": [
    "# BE SURE YOUR ANSWER IS IN THE CELL ABOVE\n",
    "# but you can use this cell to test/execute/check your function (optional)"
   ]
  },
  {
   "cell_type": "code",
   "execution_count": 25,
   "metadata": {
    "nbgrader": {
     "grade": true,
     "grade_id": "test1",
     "locked": true,
     "points": 0.25,
     "schema_version": 3,
     "solution": false,
     "task": false
    }
   },
   "outputs": [],
   "source": [
    "assert modify_string\n",
    "\n",
    "# below this would normally be hidden tests,\n",
    "# but because this is a practice exam \n",
    "# we are going to show it to you\n",
    "assert modify_string('taylor') == 'tӓylðr'\n",
    "### END HIDDEN TESTS"
   ]
  },
  {
   "cell_type": "code",
   "execution_count": 26,
   "metadata": {
    "nbgrader": {
     "grade": true,
     "grade_id": "test2",
     "locked": true,
     "points": 0.25,
     "schema_version": 3,
     "solution": false,
     "task": false
    }
   },
   "outputs": [],
   "source": [
    "assert callable(modify_string)\n",
    "\n",
    "# below this would normally be hidden tests,\n",
    "# but because this is a practice exam \n",
    "# we are going to show it to you\n",
    "# check functioning for capital letters\n",
    "assert modify_string('AaBbCcEe') == 'ӒӓBbCcɛɚ'\n",
    "### END HIDDEN TESTS\n"
   ]
  },
  {
   "cell_type": "markdown",
   "metadata": {
    "nbgrader": {
     "grade": false,
     "grade_id": "q5-test4",
     "locked": true,
     "points": 0.5,
     "schema_version": 3,
     "solution": false,
     "task": true
    }
   },
   "source": [
    "**This \"blank\" cell included intentionally.** Do not do anything here. (It's being used in grading.)\n",
    "\n",
    "=== BEGIN MARK SCHEME ===\n",
    "\n",
    "partial credit for answer above:\n",
    "\n",
    "- function defined correctly & input parameter specified (**0.1 points**)\n",
    "- for loop (or equivalent) correct (**0.1 points**)\n",
    "- conditional (or equivalent) correct (**0.1 points**)\n",
    "- string updated correctly (**0.1 points**) \n",
    "- `return` statement included (**0.1 points**)\n",
    "\n",
    "=== END MARK SCHEME ==="
   ]
  },
  {
   "cell_type": "markdown",
   "metadata": {
    "nbgrader": {
     "grade": false,
     "grade_id": "q",
     "locked": true,
     "schema_version": 3,
     "solution": false
    }
   },
   "source": [
    "### Q11 - `calculate_points`\n",
    "\n",
    "Write a function `calculate_points` that has a single input parameter: `dice`. `dice` can be assumed to be a list of string values, where each string corresponds to a value corresponding to each face of dice (1,2,3,4,5,6)\n",
    "\n",
    "This function should calculate the total number of \"pointer\" faces of a dice, where ***a \"pointer\" is either a 4, 5, or 6***. Each \"pointer\" is worth one point. All other faces are worth zero points. The function should `return` the total number of points in the `dice` as an integer.\n",
    "\n",
    "For example, if your `dice` input was: \n",
    "\n",
    "```python\n",
    "['1', '3', '4', '5', '6']\n",
    "```\n",
    "\n",
    "executing the `calculate_points()` function with the above list as the input to the `dice` parameter, the function would `return` the integer 3 (one point each for the `'4'`, `'5'`, and `'6'`.\n",
    "\n",
    "If there are no pointers in the input `dice`, the function should return 0."
   ]
  },
  {
   "cell_type": "code",
   "execution_count": 28,
   "metadata": {
    "nbgrader": {
     "grade": false,
     "grade_id": "q6-solution",
     "locked": false,
     "schema_version": 3,
     "solution": true
    }
   },
   "outputs": [],
   "source": [
    "### BEGIN SOLUTION\n",
    "def calculate_points(dice):\n",
    "    pointers = ['4', '5', '6']\n",
    "    counter = 0\n",
    "    \n",
    "    for roll in dice:\n",
    "        if roll in pointers:\n",
    "            counter += 1\n",
    "        \n",
    "    return counter\n",
    "### END SOLUTION"
   ]
  },
  {
   "cell_type": "code",
   "execution_count": 29,
   "metadata": {},
   "outputs": [],
   "source": [
    "# BE SURE YOUR ANSWER IS IN THE CELL ABOVE\n",
    "# but you can use this cell to test/execute/check your function (optional)"
   ]
  },
  {
   "cell_type": "code",
   "execution_count": 30,
   "metadata": {
    "nbgrader": {
     "grade": true,
     "grade_id": "q6-testa",
     "locked": true,
     "points": 0.25,
     "schema_version": 3,
     "solution": false
    }
   },
   "outputs": [],
   "source": [
    "assert callable(calculate_points)\n"
   ]
  },
  {
   "cell_type": "code",
   "execution_count": 33,
   "metadata": {
    "nbgrader": {
     "grade": true,
     "grade_id": "q6-testb",
     "locked": true,
     "points": 0.25,
     "schema_version": 3,
     "solution": false,
     "task": false
    }
   },
   "outputs": [],
   "source": [
    "# hidden tests for function above\n",
    "\n",
    "# below this would normally be hidden tests,\n",
    "# but because this is a practice exam \n",
    "# we are going to show it to you\n",
    "\n",
    "# assure returns zero if no pointers\n",
    "assert calculate_points(['1', '2', '3']) == 0\n",
    "assert calculate_points(['4','5']) == 2\n",
    "assert calculate_points([5, 6]) == 0 # these are ints, we said strings\n",
    "### END HIDDEN TESTS"
   ]
  },
  {
   "cell_type": "markdown",
   "metadata": {
    "nbgrader": {
     "grade": false,
     "grade_id": "q6-test4",
     "locked": true,
     "points": 0.5,
     "schema_version": 3,
     "solution": false,
     "task": true
    }
   },
   "source": [
    "**This \"blank\" cell included intentionally.** Do not do anything here. (It's being used in grading.)\n",
    "\n",
    "\n",
    "=== BEGIN MARK SCHEME ===\n",
    "\n",
    "partial credit for answer above:\n",
    "\n",
    "- function defined correctly with single parameter (**0.1 points**)\n",
    "- loop (or equivalent) correct (**0.1 points**)\n",
    "- conditional (or equivalent) correct (**0.1 points**)\n",
    "- counter incremented correctly (**0.1 points**)\n",
    "- `return` statement included (**0.1 points**)\n",
    "\n",
    "=== END MARK SCHEME ==="
   ]
  },
  {
   "cell_type": "markdown",
   "metadata": {
    "nbgrader": {
     "grade": false,
     "grade_id": "cell-b07c2aef11f91d5c",
     "locked": true,
     "schema_version": 3,
     "solution": false,
     "task": false
    }
   },
   "source": [
    "### Q12 - `to_taxes`\n",
    "\n",
    "Here you will write a function that, given a salary as input, will `return` how much of that person's salary is going toward taxes.\n",
    "\n",
    "To accomplish this, write a function `to_taxes()` that takes two parameters as input: `salary` and `tax_brackets`. The default value for the `tax_brackets` parameter should be the `default_brackets` dictionary provided below. Then, use code constructs discussed in class to accomplish the above goal.\n",
    "\n",
    "Note that the dictionary `default_brackets` provided will have to be used to accomplish this goal. The keys in `default_brackets` are the proportion of an individual's salary that will go toward taxes if their salary is within the range in a given key's value (tuple). For example, an individual who makes \\$10,000 would contribute 12\\% of their salary in taxes, given the information in `tax_brackets` (specifically becasue 10000 falls between 9876 and 40125).\n",
    "\n",
    "Accordingly, `to_taxes(salary=10000)` should `return` 1200.0 (which corresponds to 12\\% of the input $10,000 salary)."
   ]
  },
  {
   "cell_type": "code",
   "execution_count": 52,
   "metadata": {
    "nbgrader": {
     "grade": false,
     "grade_id": "cell-7a2d1b04bb88e023",
     "locked": true,
     "schema_version": 3,
     "solution": false,
     "task": false
    }
   },
   "outputs": [],
   "source": [
    "default_brackets = {0.10 : (0, 9875),\n",
    "                    0.12 : (9876, 40125),\n",
    "                    0.22 : (40126, 85525),\n",
    "                    0.24 : (85526, 163300),\n",
    "                    0.32 : (163301, 207350),\n",
    "                    0.35 : (207351, 518400)\n",
    "                   }"
   ]
  },
  {
   "cell_type": "code",
   "execution_count": 53,
   "metadata": {
    "nbgrader": {
     "grade": false,
     "grade_id": "cell-f48b7b2362162c98",
     "locked": false,
     "schema_version": 3,
     "solution": true,
     "task": false
    }
   },
   "outputs": [],
   "source": [
    "### BEGIN SOLUTION\n",
    "def to_taxes(salary, tax_brackets=default_brackets):\n",
    "    for key in tax_brackets:\n",
    "        if tax_brackets[key][0] <= salary <= tax_brackets[key][1]:\n",
    "            output = key * salary\n",
    "    \n",
    "    return output\n",
    "### END SOLUTION"
   ]
  },
  {
   "cell_type": "code",
   "execution_count": 54,
   "metadata": {},
   "outputs": [],
   "source": [
    "# BE SURE YOUR ANSWER IS IN THE CELL ABOVE\n",
    "# but you can use this cell to test/execute/check your thinking (optional)"
   ]
  },
  {
   "cell_type": "code",
   "execution_count": 55,
   "metadata": {
    "nbgrader": {
     "grade": true,
     "grade_id": "cell-46841edd2405b87e",
     "locked": true,
     "points": 0,
     "schema_version": 3,
     "solution": false,
     "task": false
    }
   },
   "outputs": [],
   "source": [
    "assert to_taxes\n",
    "\n",
    "# below this would normally be hidden tests,\n",
    "# but because this is a practice exam \n",
    "# we are going to show it to you\n",
    "\n",
    "assert callable(to_taxes)\n",
    "assert to_taxes(10000) == 1200.0\n",
    "assert to_taxes(207355) == 72574.25\n",
    "### END HIDDEN TESTS"
   ]
  },
  {
   "cell_type": "code",
   "execution_count": 56,
   "metadata": {
    "nbgrader": {
     "grade": true,
     "grade_id": "cell-48691fd539be2c35",
     "locked": true,
     "points": 0,
     "schema_version": 3,
     "solution": false,
     "task": false
    }
   },
   "outputs": [],
   "source": [
    "# hidden test to check function accomplishes task\n",
    "\n",
    "# below this would normally be hidden tests,\n",
    "# but because this is a practice exam \n",
    "# we are going to show it to you\n",
    "\n",
    "# check for 22% bracket\n",
    "# check that values on edges included\n",
    "assert to_taxes(40126) == 8827.72\n",
    "assert to_taxes(85525) == 18815.5\n",
    "### END HIDDEN TESTS"
   ]
  },
  {
   "cell_type": "code",
   "execution_count": 57,
   "metadata": {
    "nbgrader": {
     "grade": true,
     "grade_id": "cell-11839f4b8385d811",
     "locked": true,
     "points": 0,
     "schema_version": 3,
     "solution": false,
     "task": false
    }
   },
   "outputs": [],
   "source": [
    "# hidden test to check default parameter correct\n",
    "\n",
    "# below this would normally be hidden tests,\n",
    "# but because this is a practice exam \n",
    "# we are going to show it to you\n",
    "\n",
    "# check for a different tax_brackets\n",
    "assert to_taxes(100, tax_brackets={0.5: (0,1000)}) == 50.0\n",
    "### END HIDDEN TESTS"
   ]
  },
  {
   "cell_type": "markdown",
   "metadata": {
    "nbgrader": {
     "grade": false,
     "grade_id": "cell-1119e2d53ac4a2bd",
     "locked": true,
     "points": 0,
     "schema_version": 3,
     "solution": false,
     "task": true
    }
   },
   "source": [
    "**This \"blank\" cell included intentionally.** Do not do anything here. (It's being used in grading.)\n",
    "\n",
    "=== BEGIN MARK SCHEME ===\n",
    "\n",
    "Check if points lost on autograder above: \n",
    "- function defined correctly with `salary` parameter and default value for `tax_brackets` parameter (**0.25 pts**)\n",
    "- loops through dictionary (or equivalent) correctly (**0.2 pts**)\n",
    "- conditional accesses values in tuple correctly (**0.2 pts**)\n",
    "- conditional checks lower and upper bound of range (**0.2 pts**)\n",
    "- calculation correct (i.e. key * salary) (**0.2 pts**)\n",
    "- includes `return` statement (**0.2 pts**) \n",
    "\n",
    "=== END MARK SCHEME ==="
   ]
  },
  {
   "cell_type": "markdown",
   "metadata": {
    "nbgrader": {
     "grade": false,
     "grade_id": "cell-4ab8407deca62752",
     "locked": true,
     "schema_version": 3,
     "solution": false,
     "task": false
    }
   },
   "source": [
    "## Part 3: Classes & Code Style\n",
    "\n",
    "Note this section has *more* questions than your real exam will have. This is where students tend to struggle the most as the material is new and puts all the pieces we've talked about so far this quarter together, so I wanted you to have extra practice."
   ]
  },
  {
   "cell_type": "markdown",
   "metadata": {
    "nbgrader": {
     "grade": false,
     "grade_id": "q9",
     "locked": true,
     "schema_version": 3,
     "solution": false
    }
   },
   "source": [
    "### Q13 - `Movie`\n",
    "\n",
    "For this question, imagine you want to create a movie game with a handful of characters. You want this game to have a movie theme.\n",
    "\n",
    "Here, define a class `Movie()`.\n",
    "\n",
    "This class should have two instance attributes: `movie_name` and `actor`, which will be strings specifying the movie_name and an actor in that movie.\n",
    "\n",
    "This class will also have a method `introduce()`. This method should `return` (*not* just `print`) a string, similar to:\n",
    "\n",
    "```\n",
    "'Inception starring Leonardo DiCaprio.' \n",
    "```\n",
    "\n",
    "...where 'Inception' corresponds to whatever is stored in `Movie()` object's `movie_name` attribute is and 'Leonardo DiCaprio' corresponds to whatever is stored in the `Movie()` object's `actor` attribute.\n",
    "\n",
    "Note that you can make the introduction say whatever you want as long as the output is a string mentioning both the movie name and the actor."
   ]
  },
  {
   "cell_type": "code",
   "execution_count": 34,
   "metadata": {
    "nbgrader": {
     "grade": false,
     "grade_id": "q9-solution",
     "locked": false,
     "schema_version": 3,
     "solution": true
    }
   },
   "outputs": [],
   "source": [
    "### BEGIN SOLUTION\n",
    "class Movie():\n",
    "    \n",
    "    def __init__(self, movie_name, actor):\n",
    "        self.movie_name = movie_name\n",
    "        self.actor = actor\n",
    "    \n",
    "    def introduce(self):\n",
    "        return 'The movie is ' + self.movie_name +  ' and the actor is ' + self.actor + '.'\n",
    "### END SOLUTION\n"
   ]
  },
  {
   "cell_type": "code",
   "execution_count": 35,
   "metadata": {},
   "outputs": [],
   "source": [
    "# BE SURE YOUR ANSWER IS IN THE CELL ABOVE\n",
    "# but you can use this cell to test/execute/check your function (optional)"
   ]
  },
  {
   "cell_type": "code",
   "execution_count": 36,
   "metadata": {
    "nbgrader": {
     "grade": true,
     "grade_id": "q9-test1",
     "locked": true,
     "points": 0.5,
     "schema_version": 3,
     "solution": false
    }
   },
   "outputs": [],
   "source": [
    "# Tests for the object\n",
    "assert Movie\n",
    "\n",
    "# below this would normally be hidden tests,\n",
    "# but because this is a practice exam \n",
    "# we are going to show it to you\n",
    "\n",
    "my_movie = Movie('Inception', 'Leonardo DiCaprio')\n",
    "assert isinstance(my_movie, Movie)\n",
    "assert my_movie.movie_name == 'Inception'\n",
    "assert my_movie.actor == 'Leonardo DiCaprio'\n",
    "### END HIDDEN TESTS"
   ]
  },
  {
   "cell_type": "code",
   "execution_count": 37,
   "metadata": {
    "nbgrader": {
     "grade": true,
     "grade_id": "q9-test2",
     "locked": true,
     "points": 0.5,
     "schema_version": 3,
     "solution": false
    }
   },
   "outputs": [],
   "source": [
    "# Tests for introduce method\n",
    "assert callable(Movie)\n",
    "\n",
    "# below this would normally be hidden tests,\n",
    "# but because this is a practice exam \n",
    "# we are going to show it to you\n",
    "\n",
    "assert callable(my_movie.introduce)\n",
    "assert isinstance(my_movie.introduce(), str)\n",
    "assert my_movie.actor in my_movie.introduce()\n",
    "assert my_movie.movie_name in my_movie.introduce()\n",
    "\n",
    "### END HIDDEN TESTS"
   ]
  },
  {
   "cell_type": "markdown",
   "metadata": {
    "nbgrader": {
     "grade": false,
     "grade_id": "q9-test3",
     "locked": true,
     "points": 1.5,
     "schema_version": 3,
     "solution": false,
     "task": true
    }
   },
   "source": [
    "**This \"blank\" cell included intentionally.** Do not do anything here. (It's being used in grading.)\n",
    "\n",
    "=== BEGIN MARK SCHEME ===\n",
    "\n",
    "partial credit for answer above:\n",
    "\n",
    "- class defined correctly (**0.25 points**)\n",
    "- instance attributes initialized correctly with `self` + paramters (**0.25 points**)\n",
    "- `self` used correctly in instance attribute code block (**0.25 points**)\n",
    "- introduce method defined with `self` as parameter (**0.25 points**)\n",
    "- `return` statement returns a string (**0.25 points**)\n",
    "- `return` includes reference to `self.name` and `self.title` (**0.25 points**)\n",
    "\n",
    "=== END MARK SCHEME ==="
   ]
  },
  {
   "cell_type": "markdown",
   "metadata": {
    "nbgrader": {
     "grade": false,
     "grade_id": "q10",
     "locked": true,
     "schema_version": 3,
     "solution": false
    }
   },
   "source": [
    "### Q15 - `NewYear`\n",
    "\n",
    "For this question, let's create a class to celebrate the Lunar New Year!\n",
    "\n",
    "Here, define a class `NewYear()`.\n",
    "\n",
    "This class should have:\n",
    "\n",
    "- **one class attribute**: `zodiac_signs` that stores the dictionary specified in the cell below. This dictionary contains the zodiac sign as the key and the birth years that correspond to that sign.\n",
    "- **one instance attribute**:  `year` that takes the birth `year` as input from the user upon creation of a `NewYear` type object.\n",
    "\n",
    "This class will also have a method `return_sign()`. This method should `return` (*not* just `print`) a string, similar to:\n",
    "\n",
    "```\n",
    "'You were born in the year of the Dragon!' \n",
    "```\n",
    "\n",
    "...where 'Dragon' corresponds to the key from the `zodiac_signs` corresponding to the value stored in the `year` attribute. (Be sure captitalization and punctuation match the string specified here. The only thing that should change is the last word in the string.)\n",
    "\n",
    "For example `NewYear(year=2021).return_sign()` should return 'You were born in the year of the Ox!', since 2021 is a value in the `zodiac_signs` dictionary for the key 'Ox'. "
   ]
  },
  {
   "cell_type": "code",
   "execution_count": 67,
   "metadata": {
    "nbgrader": {
     "grade": false,
     "grade_id": "cell-0320cf0ec9903820",
     "locked": true,
     "schema_version": 3,
     "solution": false,
     "task": false
    }
   },
   "outputs": [],
   "source": [
    "# provided for you\n",
    "zodiac_signs = {\n",
    "    'Ox' : [1937, 1949, 1961, 1973, 1985, 1997, 2009, 2021],\n",
    "    'Tiger' : [1938, 1950, 1962, 1974, 1986, 1998, 2010, 2022], \n",
    "    'Rabbit' : [1939, 1951, 1963, 1975, 1987, 1999, 2011, 2023], \n",
    "    'Dragon' : [1940, 1952, 1964, 1976, 1988, 2000, 2012, 2024], \n",
    "    'Snake' : [1941, 1953, 1965, 1977, 1989, 2001, 2013, 2025], \n",
    "    'Horse' : [1942, 1954, 1966, 1978, 1990, 2002, 2014, 2026], \n",
    "    'Goat/Sheep' : [1943, 1955, 1967, 1979, 1991, 2003, 2015, 2027], \n",
    "    'Monkey' : [1944, 1956, 1968, 1980, 1992, 2004, 2016, 2028], \n",
    "    'Rooster' : [1945, 1957, 1969, 1981, 1993, 2005, 2017, 2029], \n",
    "    'Dog' : [1946, 1958, 1970, 1982, 1994, 2006, 2018, 2030], \n",
    "    'Pig' : [1947, 1959, 1971, 1983, 1995, 2007, 2019, 2031], \n",
    "    'Rat' : [1936, 1948, 1960, 1972, 1984, 1996, 2008, 2020]\n",
    "} "
   ]
  },
  {
   "cell_type": "code",
   "execution_count": 68,
   "metadata": {
    "nbgrader": {
     "grade": false,
     "grade_id": "q10-solution",
     "locked": false,
     "schema_version": 3,
     "solution": true
    }
   },
   "outputs": [],
   "source": [
    "### BEGIN SOLUTION\n",
    "class NewYear():\n",
    "    \n",
    "    zodiac_signs = {\n",
    "    'Ox' : [1937, 1949, 1961, 1973, 1985, 1997, 2009, 2021],\n",
    "    'Tiger' : [1938, 1950, 1962, 1974, 1986, 1998, 2010], \n",
    "    'Rabbit' : [1939, 1951, 1963, 1975, 1987, 1999, 2011, 2023], \n",
    "    'Dragon' : [1940, 1952, 1964, 1976, 1988, 2000, 2012, 2024], \n",
    "    'Snake' : [1941, 1953, 1965, 1977, 1989, 2001, 2013, 2025], \n",
    "    'Horse' : [1942, 1954, 1966, 1978, 1990, 2002, 2014, 2026], \n",
    "    'Goat/Sheep' : [1943, 1955, 1967, 1979, 1991, 2003, 2015, 2027], \n",
    "    'Monkey' : [1944, 1956, 1968, 1980, 1992, 2004, 2016, 2028], \n",
    "    'Rooster' : [1945, 1957, 1969, 1981, 1993, 2005, 2017, 2029], \n",
    "    'Dog' : [1946, 1958, 1970, 1982, 1994, 2006, 2018, 2030], \n",
    "    'Pig' : [1947, 1959, 1971, 1983, 1995, 2007, 2019, 2031], \n",
    "    'Rat' : [1936, 1948, 1960, 1972, 1984, 1996, 2008, 2020]\n",
    "    } \n",
    "    \n",
    "    \n",
    "    def __init__(self, year):\n",
    "        self.year = year\n",
    "    \n",
    "    def return_sign(self):\n",
    "        for key in self.zodiac_signs:\n",
    "            if self.year in self.zodiac_signs[key]:\n",
    "                out = key\n",
    "                break # answer would be fine without break here\n",
    "                \n",
    "        return 'You were born in the year of the ' + out + '!'\n",
    "### END SOLUTION\n"
   ]
  },
  {
   "cell_type": "code",
   "execution_count": 69,
   "metadata": {},
   "outputs": [],
   "source": [
    "# BE SURE YOUR ANSWER IS IN THE CELL ABOVE\n",
    "# but you can use this cell to test/execute/check your function (optional)"
   ]
  },
  {
   "cell_type": "code",
   "execution_count": 70,
   "metadata": {
    "nbgrader": {
     "grade": true,
     "grade_id": "q10-test1",
     "locked": true,
     "points": 0.25,
     "schema_version": 3,
     "solution": false
    }
   },
   "outputs": [],
   "source": [
    "# Tests for the object\n",
    "assert NewYear\n",
    "\n",
    "# below this would normally be hidden tests,\n",
    "# but because this is a practice exam \n",
    "# we are going to show it to you\n",
    "\n",
    "dragon = NewYear(1988)\n",
    "assert isinstance(dragon, NewYear)\n",
    "### END HIDDEN TESTS"
   ]
  },
  {
   "cell_type": "code",
   "execution_count": 71,
   "metadata": {
    "nbgrader": {
     "grade": true,
     "grade_id": "q10-test2",
     "locked": true,
     "points": 0.25,
     "schema_version": 3,
     "solution": false
    }
   },
   "outputs": [],
   "source": [
    "assert callable(NewYear)\n",
    "# Tests for classs attribute\n",
    "\n",
    "# below this would normally be hidden tests,\n",
    "# but because this is a practice exam \n",
    "# we are going to show it to you\n",
    "\n",
    "assert dragon.year ==  1988\n",
    "### END HIDDEN TESTS"
   ]
  },
  {
   "cell_type": "code",
   "execution_count": 72,
   "metadata": {
    "nbgrader": {
     "grade": true,
     "grade_id": "q10-test3",
     "locked": true,
     "points": 0.25,
     "schema_version": 3,
     "solution": false,
     "task": false
    }
   },
   "outputs": [],
   "source": [
    "# Tests for instance attribute\n",
    "\n",
    "# below this would normally be hidden tests,\n",
    "# but because this is a practice exam \n",
    "# we are going to show it to you\n",
    "\n",
    "assert isinstance(dragon.zodiac_signs, dict)\n",
    "assert 'Ox' in dragon.zodiac_signs.keys()\n",
    "### END HIDDEN TESTS"
   ]
  },
  {
   "cell_type": "code",
   "execution_count": 73,
   "metadata": {
    "nbgrader": {
     "grade": true,
     "grade_id": "q10-test4",
     "locked": true,
     "points": 0.5,
     "schema_version": 3,
     "solution": false,
     "task": false
    }
   },
   "outputs": [],
   "source": [
    "# tests for method\n",
    "# be sure punctuation matches instructions\n",
    "\n",
    "# below this would normally be hidden tests,\n",
    "# but because this is a practice exam \n",
    "# we are going to show it to you\n",
    "\n",
    "assert dragon.return_sign() == 'You were born in the year of the Dragon!'\n",
    "### END HIDDEN TESTS"
   ]
  },
  {
   "cell_type": "markdown",
   "metadata": {
    "nbgrader": {
     "grade": false,
     "grade_id": "q10-test5",
     "locked": true,
     "points": 1.25,
     "schema_version": 3,
     "solution": false,
     "task": true
    }
   },
   "source": [
    "**This \"blank\" cell included intentionally.** Do not do anything here. (It's being used in grading.)\n",
    "\n",
    "=== BEGIN MARK SCHEME ===\n",
    "\n",
    "partial credit for answer above:\n",
    "\n",
    "- class defined correctly (**0.25 points**)\n",
    "- class attribute defined correctly (**0.25 points**)\n",
    "- instance attribute defined correctly (with `self` + parameter) (**0.15 points**)\n",
    "- method definition includes `self` (**0.1 points**)\n",
    "- method code loop/conditional correct. (**0.25 points**)\n",
    "- method code specifies self.name (**0.15 points**)\n",
    "- method includes `return` statement (**0.1 points**)\n",
    "\n",
    "=== END MARK SCHEME ==="
   ]
  },
  {
   "cell_type": "markdown",
   "metadata": {
    "nbgrader": {
     "grade": false,
     "grade_id": "q11",
     "locked": true,
     "schema_version": 3,
     "solution": false
    }
   },
   "source": [
    "### Q16 - `BasketballGame`\n",
    "\n",
    "Generate a class called `BasketballGame`.\n",
    "\n",
    "This class should have four instance attributes: `home_team`, `away_team`, `home_points`, and `away_points`\n",
    "\n",
    "It should also have one method, `play_game()`. \n",
    "\n",
    "Within the `play_game` method, add code that would determine who the winner of the game is (determined by the team with the most points), returning Winner: ' and the winning team's name.\n",
    "\n",
    "For ties, return: 'Winner: tie'"
   ]
  },
  {
   "cell_type": "code",
   "execution_count": 74,
   "metadata": {
    "nbgrader": {
     "grade": false,
     "grade_id": "q11-solution",
     "locked": false,
     "schema_version": 3,
     "solution": true
    }
   },
   "outputs": [],
   "source": [
    "### BEGIN SOLUTION\n",
    "class BasketballGame():\n",
    "    def __init__(self, home_team, away_team, home_points, away_points):\n",
    "        self.home_team = home_team\n",
    "        self.away_team = away_team\n",
    "        self.home_points = home_points\n",
    "        self.away_points = away_points\n",
    "    \n",
    "    def play_game(self):\n",
    "        if self.home_points > self.away_points:\n",
    "            out = 'Winner: ' + self.home_team\n",
    "        elif self.away_points > self.home_points:\n",
    "            out = 'Winner: ' + self.away_team\n",
    "        else:\n",
    "            out = 'Winner: tie'\n",
    "        \n",
    "        return out\n",
    "### END SOLUTION"
   ]
  },
  {
   "cell_type": "code",
   "execution_count": 75,
   "metadata": {},
   "outputs": [],
   "source": [
    "# use this cell to test/execute/check your class (optional)"
   ]
  },
  {
   "cell_type": "code",
   "execution_count": 76,
   "metadata": {
    "nbgrader": {
     "grade": true,
     "grade_id": "q11-test1",
     "locked": true,
     "points": 0,
     "schema_version": 3,
     "solution": false
    }
   },
   "outputs": [],
   "source": [
    "assert callable(BasketballGame)\n",
    "\n",
    "# below this would normally be hidden tests,\n",
    "# but because this is a practice exam \n",
    "# we are going to show it to you\n",
    "\n",
    "game = BasketballGame(home_team='Warriors', away_team='Sixers', \n",
    "                      home_points=100, away_points=105)\n",
    "\n",
    "# test attributes\n",
    "assert game.home_team == 'Warriors'\n",
    "assert game.away_team == 'Sixers'\n",
    "assert game.home_points == 100\n",
    "assert game.away_points == 105\n",
    "### END HIDDEN TESTS"
   ]
  },
  {
   "cell_type": "code",
   "execution_count": 77,
   "metadata": {
    "nbgrader": {
     "grade": true,
     "grade_id": "q11-test2",
     "locked": true,
     "points": 0,
     "schema_version": 3,
     "solution": false,
     "task": false
    }
   },
   "outputs": [],
   "source": [
    "assert callable(BasketballGame.play_game)\n",
    "\n",
    "# below this would normally be hidden tests,\n",
    "# but because this is a practice exam \n",
    "# we are going to show it to you\n",
    "\n",
    "# test method\n",
    "assert game.play_game() == 'Winner: Sixers'\n",
    "### END HIDDEN TESTS"
   ]
  },
  {
   "cell_type": "markdown",
   "metadata": {
    "nbgrader": {
     "grade": false,
     "grade_id": "q11-test3",
     "locked": true,
     "points": 0,
     "schema_version": 3,
     "solution": false,
     "task": true
    }
   },
   "source": [
    "This \"blank\" cell included intentionally. Do not do anything here. (It's being used in grading.)\n",
    "\n",
    "=== BEGIN MARK SCHEME ===\n",
    "\n",
    "rubric for partial credit\n",
    "\n",
    "=== END MARK SCHEME ==="
   ]
  },
  {
   "cell_type": "markdown",
   "metadata": {
    "nbgrader": {
     "grade": false,
     "grade_id": "cell-298cc925723b1f75",
     "locked": true,
     "schema_version": 3,
     "solution": false,
     "task": false
    }
   },
   "source": [
    "### Q17 - `ClassRoster`\n",
    "\n",
    "Define a class `ClassRoster()` that meets the following specifications:\n",
    "\n",
    "- has two instance attributes:\n",
    "    - `students`; initialized as an empty list\n",
    "    - `course`; which the user specifies when creating a `ClassRoster()` object\n",
    "- a single method `add_student()`, which will have `pid` and `name` as arguments, and will add these two inputs as a dictionary with `pid` as the key and the student's `name` as the value to the `students` list each time the method is called"
   ]
  },
  {
   "cell_type": "code",
   "execution_count": 78,
   "metadata": {
    "nbgrader": {
     "grade": false,
     "grade_id": "cell-d4d9cea6256f62c0",
     "locked": false,
     "schema_version": 3,
     "solution": true,
     "task": false
    }
   },
   "outputs": [],
   "source": [
    "### BEGIN SOLUTION\n",
    "class ClassRoster():\n",
    "        \n",
    "    def __init__(self, course):\n",
    "        self.students = []\n",
    "        self.course = course\n",
    "        \n",
    "    def add_student(self, pid, name):\n",
    "        self.students.append({pid: name})\n",
    "### END SOLUTION"
   ]
  },
  {
   "cell_type": "code",
   "execution_count": 79,
   "metadata": {},
   "outputs": [],
   "source": [
    "# BE SURE YOUR ANSWER IS IN THE CELL ABOVE\n",
    "# but you can use this cell to test/execute/check your thinking (optional)"
   ]
  },
  {
   "cell_type": "code",
   "execution_count": 80,
   "metadata": {
    "nbgrader": {
     "grade": true,
     "grade_id": "cell-22422a3990743b88",
     "locked": true,
     "points": 0,
     "schema_version": 3,
     "solution": false,
     "task": false
    }
   },
   "outputs": [],
   "source": [
    "assert callable(ClassRoster)\n",
    "my_course = ClassRoster('COGS 18')\n",
    "\n",
    "\n",
    "# below this would normally be hidden tests,\n",
    "# but because this is a practice exam \n",
    "# we are going to show it to you\n",
    "\n",
    "assert my_course.course == 'COGS 18'\n",
    "### END HIDDEN TESTS"
   ]
  },
  {
   "cell_type": "code",
   "execution_count": 81,
   "metadata": {
    "nbgrader": {
     "grade": false,
     "grade_id": "cell-bd0c067e35d23349",
     "locked": false,
     "schema_version": 3,
     "solution": true,
     "task": false
    }
   },
   "outputs": [],
   "source": [
    "# tests for instance attribute\n",
    "assert my_course.students is not None\n",
    "\n",
    "# below this would normally be hidden tests,\n",
    "# but because this is a practice exam \n",
    "# we are going to show it to you\n",
    "\n",
    "assert my_course.students == []\n",
    "### END HIDDEN TESTS"
   ]
  },
  {
   "cell_type": "code",
   "execution_count": 82,
   "metadata": {
    "nbgrader": {
     "grade": false,
     "grade_id": "cell-c250ea29b92bbfb1",
     "locked": false,
     "schema_version": 3,
     "solution": true,
     "task": false
    }
   },
   "outputs": [],
   "source": [
    "# tests for method\n",
    "assert callable(my_course.add_student)\n",
    "\n",
    "\n",
    "# below this would normally be hidden tests,\n",
    "# but because this is a practice exam \n",
    "# we are going to show it to you\n",
    "\n",
    "my_course.add_student(pid='A12345', name='Shannon')\n",
    "my_course.add_student(pid='A56789', name='Josh')\n",
    "\n",
    "assert my_course.students == [{'A12345':'Shannon'}, {'A56789': 'Josh'}]\n",
    "### END HIDDEN TESTS"
   ]
  },
  {
   "cell_type": "markdown",
   "metadata": {
    "nbgrader": {
     "grade": false,
     "grade_id": "cell-6aef43453248070e",
     "locked": true,
     "points": 0,
     "schema_version": 3,
     "solution": false,
     "task": true
    }
   },
   "source": [
    "**This \"blank\" cell included intentionally.** Do not do anything here. (It's being used in grading.)\n",
    "\n",
    "=== BEGIN MARK SCHEME ===\n",
    "\n",
    "Check if points lost on autograder above: \n",
    "- `class` defined correctly (**0.1 pts**)\n",
    "- instance attributes\n",
    "    - `def __init__(self)` correct (**0.2 pts**)\n",
    "    - `self` used within definition (**0.2 pts**)\n",
    "    - `students` attribute initialized correctly (empty list) (**0.2 pts**)\n",
    "    - `course` intialized correctly  (**0.2 pts**)\n",
    "- `add_student` method:\n",
    "    - method definition correct with `self`, `pid`, and `name` (**0.2 pts**)\n",
    "    - dictionary syntax correct  (**0.2 pts**)\n",
    "    - added to list correct (`append`) (**0.2 pts**)\n",
    "\n",
    "Note: autograder credit can be returned for portions above if particular aspect (class attribute, instance attribute, or method) were correct, but test failed because overall `class` was defined incorrectly\n",
    "\n",
    "=== END MARK SCHEME ==="
   ]
  },
  {
   "cell_type": "markdown",
   "metadata": {
    "nbgrader": {
     "grade": false,
     "grade_id": "cell-052d00ebe5951a3d",
     "locked": true,
     "schema_version": 3,
     "solution": false,
     "task": false
    }
   },
   "source": [
    "### Q18 - `ShoppingList` \n",
    "\n",
    "Define a class `ShoppingList()` to keep track of your to do list.\n",
    "\n",
    "This should have a single instance attribute: `shoppinglist`, which is initialized as an empty list.\n",
    "\n",
    "It will then have two methods: `add_item` and `remove_item`.\n",
    "\n",
    "`add_item()`:\n",
    "- will have two parameters `item`, and `importance` (`importance` takes the default value `True`)\n",
    "- if `importance` is `True`:\n",
    "    the string in `item` will be added to the top of `shoppinglist`:\n",
    "- if `importance` is not true:\n",
    "    the string it `item` will be added to the end of `shoppinglist`\n",
    "\n",
    "`remove_item()`:\n",
    "- will have a single parameter `item`\n",
    "- will remove the item specified from `shoppinglist`\n",
    "\n",
    "Note: there is a list method `insert()`, which operates in place to add a value to a list at the index specified with the general syntax `my_list.insert(index, item_to_add)`."
   ]
  },
  {
   "cell_type": "code",
   "execution_count": 83,
   "metadata": {
    "nbgrader": {
     "grade": false,
     "grade_id": "cell-e696ac9734d6920a",
     "locked": false,
     "schema_version": 3,
     "solution": true,
     "task": false
    }
   },
   "outputs": [],
   "source": [
    "### BEGIN SOLUTION\n",
    "class ShoppingList():\n",
    "    \n",
    "    def __init__(self):\n",
    "        self.shoppinglist = []\n",
    "        \n",
    "    def add_item(self, item, importance=True):\n",
    "        if importance:\n",
    "            self.shoppinglist.insert(0, item)\n",
    "        else: \n",
    "            self.shoppinglist.append(item)\n",
    "        \n",
    "    def remove_item(self, item):\n",
    "        self.shoppinglist.remove(item)\n",
    "\n",
    "### END SOLUTION"
   ]
  },
  {
   "cell_type": "code",
   "execution_count": 84,
   "metadata": {},
   "outputs": [],
   "source": [
    "# BE SURE YOUR ANSWER IS IN THE CELL ABOVE\n",
    "# but you can use this cell to test/execute/check your thinking (optional)"
   ]
  },
  {
   "cell_type": "code",
   "execution_count": 85,
   "metadata": {
    "nbgrader": {
     "grade": true,
     "grade_id": "cell-b43d68904a417d44",
     "locked": true,
     "points": 0,
     "schema_version": 3,
     "solution": false,
     "task": false
    }
   },
   "outputs": [],
   "source": [
    "assert callable(ShoppingList)\n",
    "my_shoppinglist = ShoppingList()\n",
    "\n",
    "# below this would normally be hidden tests,\n",
    "# but because this is a practice exam \n",
    "# we are going to show it to you\n",
    "\n",
    "assert my_shoppinglist.shoppinglist == []\n",
    "### END HIDDEN TESTS"
   ]
  },
  {
   "cell_type": "code",
   "execution_count": 86,
   "metadata": {
    "nbgrader": {
     "grade": true,
     "grade_id": "cell-16d48156f776f357",
     "locked": true,
     "points": 0,
     "schema_version": 3,
     "solution": false,
     "task": false
    }
   },
   "outputs": [],
   "source": [
    "# check add_item method\n",
    "\n",
    "# below this would normally be hidden tests,\n",
    "# but because this is a practice exam \n",
    "# we are going to show it to you\n",
    "\n",
    "my_shoppinglist.add_item('A')\n",
    "my_shoppinglist.add_item('B')\n",
    "assert my_shoppinglist.shoppinglist == ['B','A']\n",
    "### END HIDDEN TESTS"
   ]
  },
  {
   "cell_type": "code",
   "execution_count": 87,
   "metadata": {
    "nbgrader": {
     "grade": true,
     "grade_id": "cell-90ca75a4a66f62cc",
     "locked": true,
     "points": 0,
     "schema_version": 3,
     "solution": false,
     "task": false
    }
   },
   "outputs": [],
   "source": [
    "# check add_item with non-default value\n",
    "\n",
    "\n",
    "# below this would normally be hidden tests,\n",
    "# but because this is a practice exam \n",
    "# we are going to show it to you\n",
    "\n",
    "my_shoppinglist.add_item('C', importance=False)\n",
    "assert my_shoppinglist.shoppinglist == ['B','A', 'C']\n",
    "### END HIDDEN TESTS"
   ]
  },
  {
   "cell_type": "code",
   "execution_count": 88,
   "metadata": {
    "nbgrader": {
     "grade": true,
     "grade_id": "cell-41ae8cf0c3d717c5",
     "locked": true,
     "points": 0,
     "schema_version": 3,
     "solution": false,
     "task": false
    }
   },
   "outputs": [],
   "source": [
    "# check remove_item\n",
    "\n",
    "\n",
    "# below this would normally be hidden tests,\n",
    "# but because this is a practice exam \n",
    "# we are going to show it to you\n",
    "\n",
    "my_shoppinglist.remove_item('A')\n",
    "assert my_shoppinglist.shoppinglist == ['B', 'C']\n",
    "### END HIDDEN TESTS"
   ]
  },
  {
   "cell_type": "markdown",
   "metadata": {
    "nbgrader": {
     "grade": false,
     "grade_id": "cell-05a72dd94ba338c9",
     "locked": true,
     "points": 0,
     "schema_version": 3,
     "solution": false,
     "task": true
    }
   },
   "source": [
    "**This \"blank\" cell included intentionally.** Do not do anything here. (It's being used in grading.)\n",
    "\n",
    "=== BEGIN MARK SCHEME ===\n",
    "\n",
    "Check if points lost on autograder above: \n",
    "- `class` defined correctly (**0.1 pts**)\n",
    "- instance attribute\n",
    "    - `def __init__(self)` correct (**0.2 pts**)\n",
    "    - `to_do` attribute initialized correctly (empty list) (**0.2 pts**)\n",
    "\n",
    "- `add_item` method:\n",
    "    - method definition correct with `self`, `item`, and `top` (**0.15 pts**)\n",
    "    - `top` default value set to `True`\n",
    "    - conditional correct  (**0.15 pts**)\n",
    "    - extends list correctly (**0.15 pts**)\n",
    "\n",
    "- `remove_item` method:\n",
    "    - method definition correct with `self` and `item` (**0.15 pts**)\n",
    "    - item removed correctly  (**0.15 pts**)\n",
    "\n",
    "Note: autograder credit can be returned for portions above if particular aspect (class attribute, instance attribute, or method) were correct, but test failed because overall `class` was defined incorrectly\n",
    "\n",
    "=== END MARK SCHEME ==="
   ]
  },
  {
   "cell_type": "markdown",
   "metadata": {
    "nbgrader": {
     "grade": false,
     "grade_id": "end",
     "locked": true,
     "schema_version": 3,
     "solution": false
    }
   },
   "source": [
    "### (Practice) Exam II complete!\n",
    "\n",
    "Good work - you're done with the second (practice) exam!\n",
    "\n",
    "A reminder that for the real thing you will need to submit on datahub. We will not have your exam until you click submit and see this show up under 'submitted assignments'."
   ]
  }
 ],
 "metadata": {
  "celltoolbar": "Create Assignment",
  "kernelspec": {
   "display_name": "Python 3 (ipykernel)",
   "language": "python",
   "name": "python3"
  },
  "language_info": {
   "codemirror_mode": {
    "name": "ipython",
    "version": 3
   },
   "file_extension": ".py",
   "mimetype": "text/x-python",
   "name": "python",
   "nbconvert_exporter": "python",
   "pygments_lexer": "ipython3",
   "version": "3.8.8"
  }
 },
 "nbformat": 4,
 "nbformat_minor": 2
}
