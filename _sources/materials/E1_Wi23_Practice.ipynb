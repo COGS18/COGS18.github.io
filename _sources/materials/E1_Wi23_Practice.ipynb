{
 "cells": [
  {
   "cell_type": "markdown",
   "metadata": {
    "nbgrader": {
     "grade": false,
     "grade_id": "e1",
     "locked": true,
     "schema_version": 3,
     "solution": false
    }
   },
   "source": [
    "# COGS 18 - Practice Exam 1\n",
    "\n",
    "This is the practice exam for Winter 2023. It covers topics through the Loops Lecture.\n",
    "\n",
    "This exam is out 0 points and worth 0% of your grade, but the real thing will be out of 12.5 points, worth 12.5% of your grade.\n",
    "\n",
    "**PLEASE DO NOT CHANGE THE NAME OF THIS FILE.**\n",
    "\n",
    "**PLEASE DO NOT COPY & PASTE OR DELETE CELLS INLCUDED IN THE ASSIGNMENT.** (Note that you can add additional cells, if you want to test things out."
   ]
  },
  {
   "cell_type": "markdown",
   "metadata": {
    "nbgrader": {
     "grade": false,
     "grade_id": "instructions",
     "locked": true,
     "schema_version": 3,
     "solution": false
    }
   },
   "source": [
    "## Instructions\n",
    "\n",
    "#### Timing\n",
    "- The exam is designed to take you ~1h.\n",
    "- There will be a >24 hour window during which you can complete this exam (due Mon 11:59 PM).\n",
    "\n",
    "#### The Rules\n",
    "- You are to complete this exam on your own.\n",
    "- This is open-notes & open-Google\n",
    "- You may not talk to any humans about this exam. \n",
    "- The following are all *prohibited*:\n",
    "    - text/phone/online chat communication\n",
    "    - posting questions to a message board where a human could respond (Campuswire, Discord, Chegg, any similar site)\n",
    "    - viewing exam questions from a message board (as described above)\n",
    "    - asking anyone via any form about a question on this test directly\n"
   ]
  },
  {
   "cell_type": "markdown",
   "metadata": {
    "nbgrader": {
     "grade": false,
     "grade_id": "cell-26b08bd4b5ba54ab",
     "locked": true,
     "schema_version": 3,
     "solution": false
    }
   },
   "source": [
    " <span style=\"color: red;\">Note: </span> There _is_ a chance for partial credit on some questions, so _some_ code is better than _no_ code. Even if it throws an error, having some code that partially answers the question will benefit you/your grade."
   ]
  },
  {
   "cell_type": "markdown",
   "metadata": {
    "nbgrader": {
     "grade": false,
     "grade_id": "cell-4d8581ac45c24683",
     "locked": true,
     "schema_version": 3,
     "solution": false,
     "task": false
    }
   },
   "source": [
    "### Q0 - Honor Code (0.15 points)\n",
    "\n",
    "In the cell below, include a variable `honor_code` that stores the boolean `True` if you agree to the following statement:\n",
    "\n",
    ">I agree that this exam was completed individually with the knowlege in my brain, information the notes from this course, and/or with searching for help on the Internet *without searching for answers to the text from these questions directly*. I did not ask anyone about specific questions on this exam. I did not post these questions (in part or in whole) on the Internet. I did not copy answers to these questions from anywhere or anyone else. I understand all code I've written on this exam and could explain my answers to someone else if asked.\n"
   ]
  },
  {
   "cell_type": "code",
   "execution_count": 1,
   "metadata": {
    "nbgrader": {
     "grade": false,
     "grade_id": "cell-9dae831891d7a1ad",
     "locked": false,
     "schema_version": 3,
     "solution": true,
     "task": false
    }
   },
   "outputs": [],
   "source": [
    "### BEGIN SOLUTION\n",
    "honor_code = True\n",
    "### END SOLUTION"
   ]
  },
  {
   "cell_type": "code",
   "execution_count": 2,
   "metadata": {
    "nbgrader": {
     "grade": true,
     "grade_id": "cell-8a6d1a928512e45c",
     "locked": true,
     "points": 0.15,
     "schema_version": 3,
     "solution": false,
     "task": false
    }
   },
   "outputs": [],
   "source": [
    "assert honor_code"
   ]
  },
  {
   "cell_type": "markdown",
   "metadata": {
    "nbgrader": {
     "grade": false,
     "grade_id": "part1",
     "locked": true,
     "schema_version": 3,
     "solution": false
    }
   },
   "source": [
    "## Part 1: Variables & Operators (3.65 points)"
   ]
  },
  {
   "cell_type": "markdown",
   "metadata": {
    "nbgrader": {
     "grade": false,
     "grade_id": "q1",
     "locked": true,
     "schema_version": 3,
     "solution": false
    }
   },
   "source": [
    "### Q1 - Variables (0.75 points)\n",
    "\n",
    "In the cell below, create three variables: `my_string`, `my_float`, `my_int`, and `my_bool`. \n",
    "\n",
    "- `my_string` should store any string of your choice having length 5 and should start with character \"s\".\n",
    "- `my_float` should be a decimal point value that is less than 10.\n",
    "- `my_int` should be a positive integer divisible by 5.\n",
    "- `my_bool` should be a boolean value.\n",
    "\n",
    "The specific values you use to generate the variables are up to you, as long as they fulfill the criteria specified."
   ]
  },
  {
   "cell_type": "code",
   "execution_count": 7,
   "metadata": {
    "nbgrader": {
     "grade": false,
     "grade_id": "q1a",
     "locked": false,
     "schema_version": 3,
     "solution": true
    }
   },
   "outputs": [],
   "source": [
    "### BEGIN SOLUTION\n",
    "# actual values stored will differ\n",
    "my_string = 'sssss'\n",
    "my_float = 2.4\n",
    "my_int = 15\n",
    "my_bool = True\n",
    "\n",
    "### END SOLUTION"
   ]
  },
  {
   "cell_type": "code",
   "execution_count": 8,
   "metadata": {
    "nbgrader": {
     "grade": true,
     "grade_id": "q1-t1",
     "locked": true,
     "points": 0.25,
     "schema_version": 3,
     "solution": false
    }
   },
   "outputs": [],
   "source": [
    "# check variable exists\n",
    "assert len(my_string) == 5 and (my_string[0] == 's' or my_string[0] == 'S') \n",
    "### BEGIN HIDDEN TESTS\n",
    "assert isinstance(my_float, float) and my_float<10.0\n",
    "assert isinstance(my_int, int) and my_int%5==0\n",
    "assert type(my_bool) == bool\n",
    "### END HIDDEN TESTS"
   ]
  },
  {
   "cell_type": "markdown",
   "metadata": {
    "nbgrader": {
     "grade": false,
     "grade_id": "q2",
     "locked": true,
     "schema_version": 3,
     "solution": false
    }
   },
   "source": [
    "### Q2 - Math Operators (1 point)\n",
    "\n",
    "Use the variables provided in the cell below (`var_low`, `var_mid` and `var_high`) to generate the variables: `var_150` and `var_14` according to the following specifications:\n",
    "\n",
    "- `ans_1` | compute the answer when var_low is doubled and multiplied with var_mid and then added to var_high\n",
    "- `ans_2` | use the 3 variables provided once each and *at least two* of the math operators (`+`, `-`, `*`, `/`) to store the value 75"
   ]
  },
  {
   "cell_type": "code",
   "execution_count": 12,
   "metadata": {
    "nbgrader": {
     "grade": false,
     "grade_id": "cell-1ab3f523fc0818e7",
     "locked": true,
     "schema_version": 3,
     "solution": false,
     "task": false
    }
   },
   "outputs": [],
   "source": [
    "# these variables provided for you\n",
    "# this cell is read-only (cannot be changed)\n",
    "var_low = 2\n",
    "var_mid = 10\n",
    "var_high = 15"
   ]
  },
  {
   "cell_type": "code",
   "execution_count": 15,
   "metadata": {
    "nbgrader": {
     "grade": false,
     "grade_id": "q2a",
     "locked": false,
     "schema_version": 3,
     "solution": true
    }
   },
   "outputs": [
    {
     "name": "stdout",
     "output_type": "stream",
     "text": [
      "55 75.0\n"
     ]
    }
   ],
   "source": [
    "### BEGIN SOLUTION\n",
    "# actual operations will differ\n",
    "ans_1 = 2*var_low*var_mid + var_high\n",
    "ans_2 = (var_high * var_mid) / var_low\n",
    "\n",
    "print(ans_1, ans_2)\n",
    "### END SOLUTION"
   ]
  },
  {
   "cell_type": "code",
   "execution_count": 16,
   "metadata": {
    "nbgrader": {
     "grade": true,
     "grade_id": "q2-t1",
     "locked": true,
     "points": 0.35,
     "schema_version": 3,
     "solution": false
    }
   },
   "outputs": [],
   "source": [
    "assert ans_1 is not None\n",
    "### BEGIN HIDDEN TESTS\n",
    "assert ans_1 == 55\n",
    "### END HIDDEN TESTS"
   ]
  },
  {
   "cell_type": "code",
   "execution_count": 17,
   "metadata": {
    "nbgrader": {
     "grade": true,
     "grade_id": "q2-t2",
     "locked": true,
     "points": 0.35,
     "schema_version": 3,
     "solution": false
    }
   },
   "outputs": [],
   "source": [
    "assert ans_2 is not None\n",
    "### BEGIN HIDDEN TESTS\n",
    "assert ans_2 == 75.0\n",
    "### END HIDDEN TESTS"
   ]
  },
  {
   "cell_type": "code",
   "execution_count": null,
   "metadata": {},
   "outputs": [],
   "source": []
  },
  {
   "cell_type": "markdown",
   "metadata": {
    "nbgrader": {
     "grade": false,
     "grade_id": "q2-t3",
     "locked": true,
     "points": 0.3,
     "schema_version": 3,
     "solution": false,
     "task": true
    }
   },
   "source": [
    "**This \"blank\" cell included intentionally.** Do not do anything here. (It's being used in grading.)\n",
    "\n",
    "=== BEGIN MARK SCHEME ===\n",
    "\n",
    "- correct operators used (0.15)\n",
    "- variables referenced; did not hard-code numbers (0.15)  \n",
    "\n",
    "Note: It's ok if they also referenced additional values other than the variables provided.\n",
    "\n",
    "=== END MARK SCHEME ===\n"
   ]
  },
  {
   "cell_type": "markdown",
   "metadata": {
    "nbgrader": {
     "grade": false,
     "grade_id": "q3",
     "locked": true,
     "schema_version": 3,
     "solution": false
    }
   },
   "source": [
    "### Q3 - Comparison Operators (1 point)\n",
    "\n",
    "Store your favorite number in the variable `fav_num` (can be any number). \n",
    "\n",
    "Then, store another number between -100 and 100 (both not inclusive) in the variable `comparison_num`\n",
    "\n",
    "Finally, referencing both `fav_num` and `comparison_num` *and* using at least one comparison operator, define two variables: `true_comp` and `false_comp`\n",
    "\n",
    "These variables must satisfy the following requirements:\n",
    "\n",
    "1. Each variable must be defined using one comparison operator (`<`,`>`,`<=`,`>=`,`!=`,`==`).\n",
    "2. Each variable must use and refer to `fav_num` and `comparison_num` (and no other values or variables)\n",
    "4. `true_comp` should evaluate as the boolean `False`; `false_comp` should evaluate as the boolean `True`"
   ]
  },
  {
   "cell_type": "code",
   "execution_count": 19,
   "metadata": {
    "nbgrader": {
     "grade": false,
     "grade_id": "q3a",
     "locked": false,
     "schema_version": 3,
     "solution": true
    }
   },
   "outputs": [],
   "source": [
    "### BEGIN SOLUTION\n",
    "fav_num = 60 # specific values will differ\n",
    "comparison_num = -10\n",
    "\n",
    "true_comp = fav_num < comparison_num\n",
    "false_comp = fav_num > comparison_num\n",
    "### END SOLUTION"
   ]
  },
  {
   "cell_type": "code",
   "execution_count": 20,
   "metadata": {
    "nbgrader": {
     "grade": true,
     "grade_id": "q3-t1",
     "locked": true,
     "points": 0.25,
     "schema_version": 3,
     "solution": false
    }
   },
   "outputs": [],
   "source": [
    "assert true_comp is not None\n",
    "### BEGIN HIDDEN TESTS\n",
    "assert not true_comp\n",
    "### END HIDDEN TESTS"
   ]
  },
  {
   "cell_type": "code",
   "execution_count": 21,
   "metadata": {
    "nbgrader": {
     "grade": true,
     "grade_id": "q3-t2",
     "locked": true,
     "points": 0.25,
     "schema_version": 3,
     "solution": false
    }
   },
   "outputs": [],
   "source": [
    "assert false_comp is not None\n",
    "### BEGIN HIDDEN TESTS\n",
    "assert false_comp\n",
    "### END HIDDEN TESTS"
   ]
  },
  {
   "cell_type": "code",
   "execution_count": null,
   "metadata": {},
   "outputs": [],
   "source": []
  },
  {
   "cell_type": "markdown",
   "metadata": {
    "nbgrader": {
     "grade": false,
     "grade_id": "q3-t5",
     "locked": true,
     "points": 0.5,
     "schema_version": 3,
     "solution": false,
     "task": true
    }
   },
   "source": [
    "**This \"blank\" cell included intentionally.** Do not do anything here. (It's being used in grading.)\n",
    "\n",
    "=== BEGIN MARK SCHEME ===\n",
    "\n",
    "- both variables reference `fav_num` and `comparison_num` (**0.25 pts**)\n",
    "- both variables reference use at least one comparison operator (**0.25 pts**)\n",
    "\n",
    "=== END MARK SCHEME ==="
   ]
  },
  {
   "cell_type": "markdown",
   "metadata": {
    "nbgrader": {
     "grade": false,
     "grade_id": "cell-77e7ac0498176358",
     "locked": true,
     "schema_version": 3,
     "solution": false,
     "task": false
    }
   },
   "source": [
    "### Q4 - Membership Operators (0.4 points)\n",
    "\n",
    "Define an *string* variable of length 10 called `my_string` (all capital letters), such that when you check whether 'COGS' is a member of `my_string` it returns `True`."
   ]
  },
  {
   "cell_type": "code",
   "execution_count": 43,
   "metadata": {
    "nbgrader": {
     "grade": false,
     "grade_id": "cell-f4e64b6777aff0a4",
     "locked": false,
     "schema_version": 3,
     "solution": true,
     "task": false
    }
   },
   "outputs": [],
   "source": [
    "### BEGIN SOLUTION\n",
    "# students could define *either* a string OR a tuple here\n",
    "my_string = 'COGSCOGS18'\n",
    "### END SOLUTION"
   ]
  },
  {
   "cell_type": "code",
   "execution_count": 44,
   "metadata": {
    "nbgrader": {
     "grade": true,
     "grade_id": "cell-92c7c3227a68644b",
     "locked": true,
     "points": 0.1,
     "schema_version": 3,
     "solution": false,
     "task": false
    }
   },
   "outputs": [],
   "source": [
    "assert my_string is not None\n",
    "### BEGIN HIDDEN TESTS\n",
    "assert type(my_string) is str\n",
    "### END HIDDEN TESTS"
   ]
  },
  {
   "cell_type": "code",
   "execution_count": 45,
   "metadata": {
    "nbgrader": {
     "grade": true,
     "grade_id": "cell-3be15b8b3f026f5e",
     "locked": true,
     "points": 0.1,
     "schema_version": 3,
     "solution": false,
     "task": false
    }
   },
   "outputs": [],
   "source": [
    "# hidden tests to check length\n",
    "### BEGIN HIDDEN TESTS\n",
    "assert len(my_string) == 10\n",
    "### END HIDDEN TESTS"
   ]
  },
  {
   "cell_type": "code",
   "execution_count": 46,
   "metadata": {
    "nbgrader": {
     "grade": true,
     "grade_id": "cell-5c81a4b7ed540a90",
     "locked": true,
     "points": 0.1,
     "schema_version": 3,
     "solution": false
    }
   },
   "outputs": [],
   "source": [
    "# hidden tests to check conditions specified in instructions\n",
    "### BEGIN HIDDEN TESTS\n",
    "assert 'COGS' in my_string\n",
    "### END HIDDEN TESTS"
   ]
  },
  {
   "cell_type": "code",
   "execution_count": 47,
   "metadata": {
    "nbgrader": {
     "grade": true,
     "grade_id": "cell-f77a2729e8a01ea4",
     "locked": true,
     "points": 0.1,
     "schema_version": 3,
     "solution": false
    }
   },
   "outputs": [],
   "source": [
    "# hidden tests to check conditions specified in instructions\n",
    "### BEGIN HIDDEN TESTS\n",
    "assert my_string.isupper()\n",
    "### END HIDDEN TESTS"
   ]
  },
  {
   "cell_type": "markdown",
   "metadata": {
    "nbgrader": {
     "grade": false,
     "grade_id": "cell-08558daba596965c",
     "locked": true,
     "schema_version": 3,
     "solution": false
    }
   },
   "source": [
    "## Part 2: Functions + Conditionals  (6.2 points)"
   ]
  },
  {
   "cell_type": "markdown",
   "metadata": {
    "nbgrader": {
     "grade": false,
     "grade_id": "q6",
     "locked": true,
     "schema_version": 3,
     "solution": false
    }
   },
   "source": [
    "### Q5 - Conditionals (1.6 points)\n",
    "\n",
    "You're in-charge of safety of rides and following protocols in an amusement park. \n",
    "\n",
    "For this you have to consider both *whether* the person is an adult or a child, depending on their age criterion and also depending on the danger level of the ride. If the person should receive a ticket, the variable `ticket` should store the boolean `True`; otherwise, `ticket` should store `False`.\n",
    "\n",
    "More specifically, you have to write a conditional that references the three variables provided below and considers the following logic:\n",
    "\n",
    "It should specify that a ticket should be provided under the following three conditions:\n",
    "1. If danger level of ride is 2 then the person must be an adult (atleast 18 years age)\n",
    "2. If danger level of ride is 1 then the person must be an adult (atleast 18 years age) or the person can be greater than 14 years of age but must be accompanied by an adult\n",
    "3. If danger level of ride is 0, any person of any age can get on the ride\n",
    "\n",
    "Otherwise, the person should not be provided a ticket.\n"
   ]
  },
  {
   "cell_type": "code",
   "execution_count": 58,
   "metadata": {
    "nbgrader": {
     "grade": false,
     "grade_id": "cell-acee02aaeaa9c647",
     "locked": true,
     "schema_version": 3,
     "solution": false,
     "task": false
    }
   },
   "outputs": [],
   "source": [
    "# these variables provided for you\n",
    "# this cell is read-only (cannot be changed)\n",
    "danger_level = 1\n",
    "accompanied_by_adult = True"
   ]
  },
  {
   "cell_type": "code",
   "execution_count": 59,
   "metadata": {
    "nbgrader": {
     "grade": false,
     "grade_id": "q6a",
     "locked": false,
     "schema_version": 3,
     "solution": true
    }
   },
   "outputs": [],
   "source": [
    "age = 15\n",
    "\n",
    "### BEGIN SOLUTION\n",
    "if danger_level == 0 and age > 0:\n",
    "    ticket = True\n",
    "elif danger_level == 1 and ((age >= 18) or (age>14 and accompanied_by_adult)):\n",
    "    ticket = True\n",
    "elif danger_level == 2 and age >= 18:\n",
    "    ticket = True\n",
    "else:\n",
    "    ticket = False\n",
    "\n",
    "### END SOLUTION"
   ]
  },
  {
   "cell_type": "code",
   "execution_count": 60,
   "metadata": {
    "nbgrader": {
     "grade": true,
     "grade_id": "q6-t1",
     "locked": true,
     "points": 0.6,
     "schema_version": 3,
     "solution": false
    }
   },
   "outputs": [],
   "source": [
    "assert ticket is not None\n",
    "### BEGIN HIDDEN TESTS\n",
    "assert ticket\n",
    "### END HIDDEN TESTS"
   ]
  },
  {
   "cell_type": "code",
   "execution_count": null,
   "metadata": {},
   "outputs": [],
   "source": []
  },
  {
   "cell_type": "markdown",
   "metadata": {
    "nbgrader": {
     "grade": false,
     "grade_id": "q6-t2",
     "locked": true,
     "points": 1,
     "schema_version": 3,
     "solution": false,
     "task": true
    }
   },
   "source": [
    "**This \"blank\" cell included intentionally.** Do not do anything here. (It's being used in grading.)\n",
    "\n",
    "\n",
    "=== BEGIN MARK SCHEME ===\n",
    "\n",
    "- uses `if`/`elif`/`elif`/`else` syntax correctly; half credit if `if`/`if`/`if`/`else` used (**0.4 points**)\n",
    "- conditionals correct \n",
    "    - references variables (`private_mph`, `local_mph`, `hwy_mph`) and doesn't hard-code (**0.2 points**)\n",
    "    - references `zone` (**0.1 points**)\n",
    "    - uses `>` and `and`/`&` correctly  (**0.2 points**)\n",
    "- `ticket` assigned a boolean value (even if logic is incorrect) (**0.1 points**)\n",
    "\n",
    "=== END MARK SCHEME ==="
   ]
  },
  {
   "cell_type": "markdown",
   "metadata": {
    "nbgrader": {
     "grade": false,
     "grade_id": "q9",
     "locked": true,
     "schema_version": 3,
     "solution": false
    }
   },
   "source": [
    "### Q6 - Function Execution (2 points)\n",
    "\n",
    "\n",
    "Here is a function we will talk about below.\n",
    "\n",
    "MAKE SURE YOU EXECUTE THE FUNCTION DEFINTION IN THE CELL BELOW."
   ]
  },
  {
   "cell_type": "code",
   "execution_count": 1,
   "metadata": {
    "nbgrader": {
     "grade": false,
     "grade_id": "cell-211fd28ed307b385",
     "locked": true,
     "schema_version": 3,
     "solution": false,
     "task": false
    }
   },
   "outputs": [],
   "source": [
    "# this function is provided for you\n",
    "# this cell is read-only (cannot be changed)\n",
    "def introduce(name, hobby, food):\n",
    "    \n",
    "    output = 'Hi! my name is ' + name + '. My hobby is ' + hobby + ' and my favourite food is ' + food + '.'\n",
    "    \n",
    "    return output"
   ]
  },
  {
   "cell_type": "markdown",
   "metadata": {
    "nbgrader": {
     "grade": false,
     "grade_id": "q9a",
     "locked": false,
     "schema_version": 3,
     "solution": false,
     "task": false
    }
   },
   "source": [
    "Use the cell below to print the output of 2 calls to the function above using 2 different people.\n",
    "\n",
    "Your solution should use the function defined above and print the output of the function doing it for 2 different people."
   ]
  },
  {
   "cell_type": "code",
   "execution_count": 2,
   "metadata": {},
   "outputs": [
    {
     "name": "stdout",
     "output_type": "stream",
     "text": [
      "Hi! my name is Mike. My hobby is guitar and my favourite food is taco.\n",
      "Hi! my name is Emily. My hobby is singing and my favourite food is sushi.\n"
     ]
    }
   ],
   "source": [
    "### BEGIN SOLUTION\n",
    "print(introduce('Mike','guitar','taco'))\n",
    "print(introduce('Emily','singing','sushi'))\n",
    "### END SOLUTION"
   ]
  },
  {
   "cell_type": "markdown",
   "metadata": {
    "nbgrader": {
     "grade": false,
     "grade_id": "q9-t2",
     "locked": true,
     "points": 1.75,
     "schema_version": 3,
     "solution": false,
     "task": true
    }
   },
   "source": [
    "**This \"blank\" cell included intentionally.** Do not do anything here. (It's being used in grading.)\n",
    "\n",
    "=== BEGIN MARK SCHEME ===\n",
    "- `output_list` initialized with a value [] (**0.25 points**)\n",
    "- `for` loop thorugh `cars`/`zones`/range of len (**0.5 points**)\n",
    "- indexed to get value from list correctly (**0.5 points**)\n",
    "- conditionals included (not grading for correctness, as last question did) (**0.25 points**)\n",
    "- list appended correctly (**0.25 points**)\n",
    "    \n",
    "=== END MARK SCHEME ==="
   ]
  },
  {
   "cell_type": "markdown",
   "metadata": {
    "nbgrader": {
     "grade": false,
     "grade_id": "cell-e1f9fa847b38eac9",
     "locked": true,
     "schema_version": 3,
     "solution": false,
     "task": false
    }
   },
   "source": [
    "### Q7 - Functions + Conditionals (2 points)\n",
    "\n",
    "Background: Students are often curious about their grade in classes. Here, you're going to help students figure out their grade by writing a function.\n",
    "\n",
    "You need to define a function called \"check_grade\" by taking in one parameter called score, attendance.\n",
    "\n",
    "The status of a student will only be shown if attendance is greater than 75, otherwise your grade would be displayed as 'F'.\n",
    "Considering that a student has their attendance greater than 75, 'A' grade is given to students who have a score of 90+, 'B' grade is  given to students who have a score of 75-90, 'C' grade is  given to students who have a score of 60-75, and if less than 60, 'D' grade is given.\n",
    "\n",
    "Find the output, of a student (grade of that student) given the attendance and the score.\n"
   ]
  },
  {
   "cell_type": "code",
   "execution_count": 4,
   "metadata": {
    "nbgrader": {
     "grade": false,
     "grade_id": "cell-1ea6cb63f391a4cf",
     "locked": false,
     "schema_version": 3,
     "solution": true,
     "task": false
    }
   },
   "outputs": [],
   "source": [
    "### BEGIN SOLUTION\n",
    "def check_grade(score, attendance):\n",
    "    if attendance < 75:\n",
    "        grade = 'F'\n",
    "    else:\n",
    "        if score > 90:\n",
    "            grade = 'A'\n",
    "        elif score >75:\n",
    "            grade = 'B'\n",
    "        elif score >60:\n",
    "            grade = 'C'\n",
    "        else:\n",
    "            grade = 'D'\n",
    "    \n",
    "    return grade\n",
    "### END SOLUTION"
   ]
  },
  {
   "cell_type": "code",
   "execution_count": 5,
   "metadata": {
    "nbgrader": {
     "grade": true,
     "grade_id": "cell-b55e3349d00c555e",
     "locked": true,
     "points": 0.6,
     "schema_version": 3,
     "solution": false,
     "task": false
    }
   },
   "outputs": [],
   "source": [
    "\n",
    "### BEGIN HIDDEN TESTS\n",
    "grade = check_grade(100, 60)\n",
    "assert grade == 'F'\n",
    "\n",
    "grade = check_grade(20, 75)\n",
    "assert grade == 'D'\n",
    "\n",
    "\n",
    "grade = check_grade(91, 93)\n",
    "assert grade == 'A'\n",
    "\n",
    "\n",
    "grade = check_grade(87, 90)\n",
    "assert grade == 'B'\n",
    "\n",
    "\n",
    "grade = check_grade(70, 89)\n",
    "assert grade == 'C'\n",
    "### END HIDDEN TESTS"
   ]
  },
  {
   "cell_type": "markdown",
   "metadata": {
    "nbgrader": {
     "grade": false,
     "grade_id": "cell-6c3ff8ceb7efedf5",
     "locked": true,
     "points": 1.25,
     "schema_version": 3,
     "solution": false,
     "task": true
    }
   },
   "source": [
    "**This \"blank\" cell included intentionally.** Do not do anything here. (It's being used in grading.)\n",
    "\n",
    "=== BEGIN MARK SCHEME ===\n",
    "- `prof_hours` initialized (**0.25 points**)\n",
    "- `for` loop set up correctly (**0.25 points**)\n",
    "- conditional correct (references long_tasks; short_tasks) (**0.25 points**) \n",
    "- `prof_hours` incremented correctly (**0.5 points**)  \n",
    "\n",
    "=== END MARK SCHEME ==="
   ]
  },
  {
   "cell_type": "markdown",
   "metadata": {
    "nbgrader": {
     "grade": false,
     "grade_id": "cell-86e198a36190342c",
     "locked": true,
     "schema_version": 3,
     "solution": false,
     "task": false
    }
   },
   "source": [
    "## Part 3: Collections and Indexing (2.5 points)"
   ]
  },
  {
   "cell_type": "markdown",
   "metadata": {
    "nbgrader": {
     "grade": false,
     "grade_id": "cell-506e0b7eaef8f1f8",
     "locked": true,
     "schema_version": 3,
     "solution": false,
     "task": false
    }
   },
   "source": [
    "### Q8 - Lists & Indexing (1 point)\n",
    "\n",
    "The list `burritos` has been provided in the cell below for you.\n",
    "\n",
    "***Use the `burritos` variable and indexing*** to generate each of the four variables at left below, so that each stores the output at right below. For example, `burritos_a` should refer to `burritos` in its answer and use indexing to store the string 'Cali'.\n",
    "\n",
    "- `burritos_a` | `'Chile Verde'`\n",
    "- `burritos_b` | `['Bean and Cheese', 'Steak Ranchero', 'Carnitas']`\n",
    "- `burritos_c` | `['Adobada', 'Carnitas']`\n",
    "- `burritos_d` | `['Chicken', 'Cali', 'Steak Ranchero']`"
   ]
  },
  {
   "cell_type": "code",
   "execution_count": 1,
   "metadata": {
    "nbgrader": {
     "grade": false,
     "grade_id": "cell-194d1a278f00fa64",
     "locked": true,
     "schema_version": 3,
     "solution": false,
     "task": false
    }
   },
   "outputs": [],
   "source": [
    "# this variables provided for you\n",
    "# this cell is read-only (cannot be changed)\n",
    "burritos = ['Chicken', 'Carne Asada', 'Chile Verde', 'Cali', \n",
    "            'Adobada', 'Bean and Cheese', 'Steak Ranchero',\n",
    "            'Carnitas']"
   ]
  },
  {
   "cell_type": "code",
   "execution_count": 2,
   "metadata": {
    "nbgrader": {
     "grade": false,
     "grade_id": "cell-2f6afe8e2f00389a",
     "locked": false,
     "schema_version": 3,
     "solution": true,
     "task": false
    }
   },
   "outputs": [],
   "source": [
    "### BEGIN SOLUTION\n",
    "# actual values will differ\n",
    "burritos_a = burritos[2]\n",
    "burritos_b = burritos[-3:]\n",
    "burritos_c = burritos[4::3]\n",
    "burritos_d = burritos[::3]\n",
    "### END SOLUTION"
   ]
  },
  {
   "cell_type": "code",
   "execution_count": 3,
   "metadata": {
    "nbgrader": {
     "grade": true,
     "grade_id": "cell-b087dcf49a19a876",
     "locked": true,
     "points": 0.25,
     "schema_version": 3,
     "solution": false,
     "task": false
    }
   },
   "outputs": [],
   "source": [
    "assert burritos_a\n",
    "### BEGIN HIDDEN TESTS\n",
    "assert burritos_a == 'Chile Verde'\n",
    "### END HIDDEN TESTS"
   ]
  },
  {
   "cell_type": "code",
   "execution_count": 4,
   "metadata": {
    "nbgrader": {
     "grade": true,
     "grade_id": "cell-db3ae047ed3001b3",
     "locked": true,
     "points": 0.25,
     "schema_version": 3,
     "solution": false,
     "task": false
    }
   },
   "outputs": [],
   "source": [
    "assert burritos_b\n",
    "### BEGIN HIDDEN TESTS\n",
    "assert burritos_b == ['Bean and Cheese', 'Steak Ranchero', 'Carnitas']\n",
    "### END HIDDEN TESTS"
   ]
  },
  {
   "cell_type": "code",
   "execution_count": 5,
   "metadata": {
    "nbgrader": {
     "grade": true,
     "grade_id": "cell-9c6b23230d2dd7e2",
     "locked": true,
     "points": 0.25,
     "schema_version": 3,
     "solution": false,
     "task": false
    }
   },
   "outputs": [],
   "source": [
    "assert burritos_c\n",
    "### BEGIN HIDDEN TESTS\n",
    "assert burritos_c == ['Adobada', 'Carnitas']\n",
    "### END HIDDEN TESTS"
   ]
  },
  {
   "cell_type": "code",
   "execution_count": 6,
   "metadata": {
    "nbgrader": {
     "grade": true,
     "grade_id": "cell-a0ae2d0f54500a1d",
     "locked": true,
     "points": 0.25,
     "schema_version": 3,
     "solution": false,
     "task": false
    }
   },
   "outputs": [],
   "source": [
    "assert burritos_d\n",
    "### BEGIN HIDDEN TESTS\n",
    "assert burritos_d == ['Chicken', 'Cali', 'Steak Ranchero']\n",
    "### END HIDDEN TESTS"
   ]
  },
  {
   "cell_type": "markdown",
   "metadata": {
    "nbgrader": {
     "grade": false,
     "grade_id": "cell-d2aea614980d6352",
     "locked": true,
     "points": 0,
     "schema_version": 3,
     "solution": false,
     "task": true
    }
   },
   "source": [
    "**This \"blank\" cell included intentionally.** Do not do anything here. (It's being used in grading.)\n",
    "\n",
    "=== BEGIN MARK SCHEME ===\n",
    "\n",
    "- if hard-coded (doesn't use indexing & reference `burritos`), remove autograder credit\n",
    "\n",
    "=== END MARK SCHEME ===\n"
   ]
  },
  {
   "cell_type": "markdown",
   "metadata": {
    "nbgrader": {
     "grade": false,
     "grade_id": "cell-bde3d98451170d6b",
     "locked": true,
     "schema_version": 3,
     "solution": false,
     "task": false
    }
   },
   "source": [
    "### Q9 - Tuples (1 point)\n",
    "\n",
    "In the cell below, describe a situation where you would store information in a tuple (give an example). Be clear about the information or values you would store in a tuple and why that variable type would be appropriate for your situation. \n",
    "\n",
    "Note: you do not *have* to write any python code here; we're looking for a written explanation."
   ]
  },
  {
   "cell_type": "markdown",
   "metadata": {
    "nbgrader": {
     "grade": true,
     "grade_id": "cell-de38aa298e12df9e",
     "locked": false,
     "points": 0,
     "schema_version": 3,
     "solution": true,
     "task": false
    }
   },
   "source": []
  },
  {
   "cell_type": "markdown",
   "metadata": {
    "nbgrader": {
     "grade": false,
     "grade_id": "cell-0575eebf466e95bc",
     "locked": true,
     "points": 1,
     "schema_version": 3,
     "solution": false,
     "task": true
    }
   },
   "source": [
    "**This \"blank\" cell included intentionally.** Do not do anything here. (It's being used in grading.)\n",
    "\n",
    "=== BEGIN MARK SCHEME ===\n",
    "\n",
    "- example provided includes multiple pieces of information being stored (**0.25 pts**)\n",
    "- information being stored would reasonably NOT want to be changed (**0.50 pts**)\n",
    "- student explanation links immutability to their example (**0.25 pts**)\n",
    "\n",
    "=== END MARK SCHEME ==="
   ]
  },
  {
   "cell_type": "markdown",
   "metadata": {
    "nbgrader": {
     "grade": false,
     "grade_id": "cell-113e24c843f7f7fe",
     "locked": true,
     "schema_version": 3,
     "solution": false,
     "task": false
    }
   },
   "source": [
    "### Q10 - Collections: Indexing & Mutating (0.5 point)\n",
    "\n",
    "One of the TAs in COGS 18 is trying to learn more about the colleges at UCSD, so she's pulled together a list of the colleges. Unfortunately, she's got some bad information. Using code constructs discussed in class, replace any element in `ucsd_colleges` that is NOT a college at UCSD with the string `ERROR`. Your updated list should be stored in the same variable: `ucsd_colleges`.\n",
    "\n",
    "Note: Prof Ellis is NOT trying to trip you up on spelling or anything here, so you don't have to check each college's spelling or anything like that."
   ]
  },
  {
   "cell_type": "code",
   "execution_count": 7,
   "metadata": {
    "nbgrader": {
     "grade": false,
     "grade_id": "cell-e895f47fd8665d6c",
     "locked": true,
     "schema_version": 3,
     "solution": false,
     "task": false
    }
   },
   "outputs": [],
   "source": [
    "# this variable provided for you\n",
    "# this cell is read-only (cannot be changed)\n",
    "ucsd_colleges = ['Revelle',\n",
    "                 'Sarah Marshall',\n",
    "                 'John Muir',\n",
    "                 'Thurgood Marshall',\n",
    "                 'Earl Warren',\n",
    "                 'Eleanor Roosevelt',\n",
    "                 'Torrey Pines',\n",
    "                 'Sixth',\n",
    "                 'Seventh']"
   ]
  },
  {
   "cell_type": "code",
   "execution_count": 8,
   "metadata": {
    "nbgrader": {
     "grade": false,
     "grade_id": "cell-27ed0de1ff49cfac",
     "locked": false,
     "schema_version": 3,
     "solution": true,
     "task": false
    }
   },
   "outputs": [],
   "source": [
    "### BEGIN SOLUTION\n",
    "ucsd_colleges[1] = 'ERROR'\n",
    "ucsd_colleges[6] = 'ERROR'\n",
    "### END SOLUTION"
   ]
  },
  {
   "cell_type": "code",
   "execution_count": 9,
   "metadata": {
    "nbgrader": {
     "grade": true,
     "grade_id": "cell-ecac9c070cf94edf",
     "locked": true,
     "points": 0.25,
     "schema_version": 3,
     "solution": false,
     "task": false
    }
   },
   "outputs": [],
   "source": [
    "assert ucsd_colleges is not None\n",
    "### BEGIN HIDDEN TESTS\n",
    "assert ucsd_colleges[1] == 'ERROR'\n",
    "### END HIDDEN TESTS"
   ]
  },
  {
   "cell_type": "code",
   "execution_count": 10,
   "metadata": {
    "nbgrader": {
     "grade": true,
     "grade_id": "cell-e6240eecb22337ae",
     "locked": true,
     "points": 0.25,
     "schema_version": 3,
     "solution": false,
     "task": false
    }
   },
   "outputs": [],
   "source": [
    "# hidden test\n",
    "### BEGIN HIDDEN TESTS\n",
    "assert ucsd_colleges[6] == 'ERROR'\n",
    "### END HIDDEN TESTS"
   ]
  },
  {
   "cell_type": "markdown",
   "metadata": {
    "nbgrader": {
     "grade": false,
     "grade_id": "cell-efe98807da39912b",
     "locked": true,
     "points": 0,
     "schema_version": 3,
     "solution": false,
     "task": true
    }
   },
   "source": [
    "**This \"blank\" cell included intentionally.** Do not do anything here. (It's being used in grading.)\n",
    "\n",
    "=== BEGIN MARK SCHEME ===\n",
    "\n",
    "- if hard-coded (doesn't use indexing/conditionals & does not reference `ucsd_colleges`), remove autograder credit\n",
    "\n",
    "=== END MARK SCHEME ===\n"
   ]
  },
  {
   "cell_type": "markdown",
   "metadata": {
    "nbgrader": {
     "grade": false,
     "grade_id": "fin",
     "locked": true,
     "schema_version": 3,
     "solution": false
    }
   },
   "source": [
    "### Submit on Datahub\n",
    "\n",
    "Good work - you're done!\n",
    "\n",
    "Check your work, and then when you're ready, **submit on datahub**.\n",
    "\n",
    "We will not have your exam until you click submit and see this show up under 'submitted assignments'."
   ]
  },
  {
   "cell_type": "code",
   "execution_count": null,
   "metadata": {},
   "outputs": [],
   "source": []
  }
 ],
 "metadata": {
  "celltoolbar": "Create Assignment",
  "kernelspec": {
   "display_name": "Python 3 (ipykernel)",
   "language": "python",
   "name": "python3"
  },
  "language_info": {
   "codemirror_mode": {
    "name": "ipython",
    "version": 3
   },
   "file_extension": ".py",
   "mimetype": "text/x-python",
   "name": "python",
   "nbconvert_exporter": "python",
   "pygments_lexer": "ipython3",
   "version": "3.9.5"
  }
 },
 "nbformat": 4,
 "nbformat_minor": 2
}
