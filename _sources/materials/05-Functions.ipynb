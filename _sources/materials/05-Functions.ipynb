{
 "cells": [
  {
   "cell_type": "markdown",
   "metadata": {},
   "source": [
    "# Functions\n",
    "\n",
    "[![Open In Colab](https://colab.research.google.com/assets/colab-badge.svg)](https://colab.research.google.com/github/COGS18/LectureNotes-COGS18/blob/main/05-Functions.ipynb)\n"
   ]
  },
  {
   "cell_type": "markdown",
   "metadata": {
    "editable": true,
    "slideshow": {
     "slide_type": "slide"
    },
    "tags": []
   },
   "source": [
    "**Q&A**\n",
    "\n",
    "> Q: is there an order of operations for % and //?  \n",
    "> A: They are treated equal to division\n",
    "\n",
    "> Q: What is the difference between False and Error?  \n",
    "> A: False is what Python would return if the code ran. Error is what python would display if the code could not run. For example, if indentation is incorrect, you'll get an error - python can't interpret it. However, if you ran the code `10 > 20`, python knows what to do there...it will execute, it just happens to be `False`.\n",
    "\n",
    "> Q: Does the operator replace the assignment symbol (=)? Like should I put:  sword_charge = 90 <= OR sword_charge <= 90   \n",
    "> A: No. The comparison operator does not replace the assignment oeprator.\n",
    "\n",
    "> Q: Will we need to know about identity and chaining operators?   \n",
    "> A: No on identity operators. Chaining operators is what we started to do by combining different operators into a single statement....so yes, but not the arbitrary examples demonstrated in the book....just that it is conceptually possible to combine them.\n",
    "\n",
    "> Q:  For “and” statements when the left side is True and the right side is False [as in print(\"hi\") and False], why is the left hand side still returned? Why aren’t they both False because of the “and” operator?  \n",
    "> A: Ah...so *anytime* python encounters `print()` python is going to print the output (thus why you see hi printed). However...if you remove the `print` around \"hi\" you would get the expected `False`.\n",
    "\n",
    "> Q: Is everything on the textbook going to be things we need to know for exams?  \n",
    "> A: Not necessarily. The videos - those are all fair game. However, if something is in the textbook and we never do any practice problems on it or discuss it in class (i.e. identity operators), you will not be tested on it during an exam. Everything on the exam will be things you did at least one practice problem on (and typically many practice problems).\n",
    "\n",
    "> Q: how do you type out a modulus operator/ how do I get it?  \n",
    "> A: Shift + 5 on your keyboard\n",
    "\n",
    "> Q: Im still confused if the placement of the true matters in an or operator  \n",
    "> A: It does not. If either the left OR the right side is `True`, it will evaluate as `True`. \n"
   ]
  },
  {
   "cell_type": "markdown",
   "metadata": {
    "editable": true,
    "slideshow": {
     "slide_type": ""
    },
    "tags": []
   },
   "source": [
    "**Course Announcements**\n",
    "\n",
    "Due This Week: \n",
    "- **CL1** due Friday\n",
    "- Pre-course assessments (two surveys) due Sunday\n",
    "\n",
    "Notes: \n",
    "- PrairieLearn vs PrairieTest\n",
    "    - PrairieLearn: system where you complete quizzes, labs, assignments, etc.\n",
    "    - PrairieTest: where you sign up for exams; link now on Canvas homepage (practice exam reminder)\n",
    "- Course Website vs. Textbook\n",
    "    - Course website: lecture notes, schedule, and links to textbook/prairielearn\n",
    "    - Course textbook: for pre-class reading/videos (and additional practice)\n",
    "- Oral Exams: [sign up for first oral exam](https://calendar.app.google/3xu3mtgu3mAZgTRw5) (during lab; sign up for one slot during weeks 3-6; link also on Canvas homepage)\n",
    "- Discuss Gemini in Colab"
   ]
  },
  {
   "cell_type": "markdown",
   "metadata": {
    "editable": true,
    "slideshow": {
     "slide_type": "slide"
    },
    "tags": []
   },
   "source": [
    "## Functions\n",
    "\n",
    "- defining a function\n",
    "    - `def`\n",
    "    - `return`\n",
    "    - default values\n",
    "    - keyword vs. positional arguments\n",
    "- executing a function\n",
    "    - parameters"
   ]
  },
  {
   "cell_type": "markdown",
   "metadata": {
    "editable": true,
    "slideshow": {
     "slide_type": "slide"
    },
    "tags": []
   },
   "source": [
    "## Vocab\n",
    "\n",
    "- **Define/create/make** a function: To set up and write the instructions for a function.\n",
    "- **Execute/call/use** a function: To actually use the pre-defined function.\n",
    "\n",
    "- **Input/parameter/argument**: A variable defined by the user that is put/passed in between the parantheses `()` that comes after the function name.  \n",
    "- **Output**: The variable that is `return`ed to the user after the function is executed."
   ]
  },
  {
   "cell_type": "markdown",
   "metadata": {
    "editable": true,
    "slideshow": {
     "slide_type": "slide"
    },
    "tags": []
   },
   "source": [
    "## Functions\n",
    "\n",
    "<div class=\"alert alert-success\">\n",
    "A function is a re-usable piece of code that performs operations on a specified set of variables, and returns the result.\n",
    "</div>"
   ]
  },
  {
   "cell_type": "markdown",
   "metadata": {
    "editable": true,
    "slideshow": {
     "slide_type": "fragment"
    },
    "tags": []
   },
   "source": [
    "![cheeseburger](img/cheeseburger.png)"
   ]
  },
  {
   "cell_type": "markdown",
   "metadata": {
    "editable": true,
    "slideshow": {
     "slide_type": "slide"
    },
    "tags": []
   },
   "source": [
    "## Modular Programming\n",
    "\n",
    "<div class=\"alert alert-success\">\n",
    "Modular programming is an approach to programming that focuses on building programs from independent modules ('pieces'). \n",
    "</div>"
   ]
  },
  {
   "cell_type": "markdown",
   "metadata": {
    "editable": true,
    "slideshow": {
     "slide_type": "fragment"
    },
    "tags": []
   },
   "source": [
    "Copy + Pasting the same/similar bit of code is to be avoided.\n",
    "\n",
    "**Functions** are one way to avoid this.\n",
    "\n",
    "**Loops** are another! (we'll get to these soon...)"
   ]
  },
  {
   "cell_type": "markdown",
   "metadata": {
    "editable": true,
    "slideshow": {
     "slide_type": "slide"
    },
    "tags": []
   },
   "source": [
    "## Functions for Modular Programming"
   ]
  },
  {
   "cell_type": "markdown",
   "metadata": {
    "editable": true,
    "slideshow": {
     "slide_type": "fragment"
    },
    "tags": []
   },
   "source": [
    "- Functions allow us to flexibly re-use pieces of code\n",
    "- Each function is independent of every other function, and other pieces of code\n",
    "- Functions are the building blocks of programs, and can be flexibly combined and executed in specified orders\n",
    "    - This allows us to build up arbitrarily complex, well-organized programs"
   ]
  },
  {
   "cell_type": "code",
   "execution_count": null,
   "metadata": {
    "editable": true,
    "slideshow": {
     "slide_type": "fragment"
    },
    "tags": []
   },
   "outputs": [],
   "source": [
    "# you've seen functions before\n",
    "# here we use the type() function\n",
    "my_var = 3\n",
    "type(my_var)"
   ]
  },
  {
   "cell_type": "code",
   "execution_count": null,
   "metadata": {
    "editable": true,
    "slideshow": {
     "slide_type": "fragment"
    },
    "tags": []
   },
   "outputs": [],
   "source": [
    "# the function print() doesn't depend on type()\n",
    "# but they can both be used on the same variable\n",
    "print(my_var)"
   ]
  },
  {
   "cell_type": "markdown",
   "metadata": {
    "editable": true,
    "slideshow": {
     "slide_type": "slide"
    },
    "tags": []
   },
   "source": [
    "## Function Example I\n",
    "\n",
    "When you use `def`, **you are defining a function**.\n",
    "You are metaphorically writing the instructions for how to make the cheeseburger."
   ]
  },
  {
   "cell_type": "code",
   "execution_count": null,
   "metadata": {
    "editable": true,
    "slideshow": {
     "slide_type": "fragment"
    },
    "tags": []
   },
   "outputs": [],
   "source": [
    "# define a function: double_value\n",
    "# Notice that the parameter `num` is not explicitly defined with an = \n",
    "# This is because it will be defined later by the user when they execute the function.\n",
    "def double_value(num):\n",
    "\n",
    "    # do some operation\n",
    "    doubled = num + num\n",
    "    \n",
    "    # return output from function\n",
    "    return doubled"
   ]
  },
  {
   "cell_type": "code",
   "execution_count": null,
   "metadata": {
    "editable": true,
    "slideshow": {
     "slide_type": "fragment"
    },
    "tags": []
   },
   "outputs": [],
   "source": [
    "# excecute a function by calling the function's name\n",
    "# and defining the parameter within the parentheses\n",
    "double_value(num=2) "
   ]
  },
  {
   "cell_type": "code",
   "execution_count": null,
   "metadata": {
    "editable": true,
    "slideshow": {
     "slide_type": "fragment"
    },
    "tags": []
   },
   "outputs": [],
   "source": [
    "# equivalent function call\n",
    "# Here the parameter `num` is defined without \n",
    "# explicitly specifying the name of the parameter\n",
    "double_value(2)"
   ]
  },
  {
   "cell_type": "markdown",
   "metadata": {
    "editable": true,
    "slideshow": {
     "slide_type": "slide"
    },
    "tags": []
   },
   "source": [
    "## Function Properties"
   ]
  },
  {
   "cell_type": "markdown",
   "metadata": {
    "editable": true,
    "slideshow": {
     "slide_type": "fragment"
    },
    "tags": []
   },
   "source": [
    "- Functions are defined using `def` followed by the name of the function, parentheses `()`, parameters within the parentheses, and then `:` after the parentheses, which opens a code-block that comprises the function\n",
    "    - Running code with a `def` block *defines* the function (but does not *execute* it)"
   ]
  },
  {
   "cell_type": "markdown",
   "metadata": {
    "editable": true,
    "slideshow": {
     "slide_type": "fragment"
    },
    "tags": []
   },
   "source": [
    "- Functions are *executed* with the name of the function and parentheses - `()` without `def` and `:`\n",
    "    - This is when the code inside a function is actually run"
   ]
  },
  {
   "cell_type": "markdown",
   "metadata": {
    "editable": true,
    "slideshow": {
     "slide_type": "fragment"
    },
    "tags": []
   },
   "source": [
    "- Inside a function, there is code that performs operations on the available variables"
   ]
  },
  {
   "cell_type": "markdown",
   "metadata": {
    "editable": true,
    "slideshow": {
     "slide_type": "fragment"
    },
    "tags": []
   },
   "source": [
    "- Functions use the special operator `return` to exit the function, passing out any specified variables"
   ]
  },
  {
   "cell_type": "markdown",
   "metadata": {
    "editable": true,
    "slideshow": {
     "slide_type": "fragment"
    },
    "tags": []
   },
   "source": [
    "- When you use a function, you can assign the output (whatever is `return`ed) to a variable"
   ]
  },
  {
   "cell_type": "markdown",
   "metadata": {
    "editable": true,
    "slideshow": {
     "slide_type": ""
    },
    "tags": []
   },
   "source": [
    "## Activity: Functions I\n",
    "\n",
    "Complete the questions in this Google Form ([https://forms.gle/MfiKe5gPW9AeZ1PP6](https://forms.gle/MfiKe5gPW9AeZ1PP6)) and then click submit.\n",
    "> How would the following code evaluate? \n",
    "\n",
    "```python\n",
    "def remainder(number, divider=2):\n",
    "    r = number % divider \n",
    "    return r\n",
    "\n",
    "ans_1 = remainder(12, 5)\n",
    "ans_2 = remainder(2, 2)\n",
    "\n",
    "print(ans_1 + ans_2)\n",
    "```\n",
    "\n",
    "> Write a function `greet` that takes the parameter `name`. Inside the function, concatenate 'Hello', the person's name, and 'Good Day!\". Assign this to `output` and return `output`. Paste your code below."
   ]
  },
  {
   "cell_type": "code",
   "execution_count": null,
   "metadata": {
    "editable": true,
    "slideshow": {
     "slide_type": ""
    },
    "tags": []
   },
   "outputs": [],
   "source": [
    "## YOUR CODE HERE \n",
    "def greet(name):\n",
    "    output = 'Hello ' + name + '. Good Day!'\n",
    "    return output"
   ]
  },
  {
   "cell_type": "code",
   "execution_count": null,
   "metadata": {},
   "outputs": [],
   "source": [
    "def greet(name):\n",
    "    output = 'Hello ' + 'name' + '. Good Day!'\n",
    "    return output"
   ]
  },
  {
   "cell_type": "code",
   "execution_count": null,
   "metadata": {
    "editable": true,
    "slideshow": {
     "slide_type": ""
    },
    "tags": []
   },
   "outputs": [],
   "source": [
    "## TEST YOUR CODE HERE\n",
    "greet('COGS 18 Students')"
   ]
  },
  {
   "cell_type": "markdown",
   "metadata": {
    "editable": true,
    "slideshow": {
     "slide_type": "fragment"
    },
    "tags": []
   },
   "source": [
    "Let's also discuss how you may use ChatGPT for this question..."
   ]
  },
  {
   "cell_type": "markdown",
   "metadata": {
    "editable": true,
    "slideshow": {
     "slide_type": "slide"
    },
    "tags": []
   },
   "source": [
    "**Q&A**\n",
    "\n",
    "> Q: Am I able to get help with other coding questions in ED not related to COGS18 specifically?  \n",
    "> A: You can definitely ask. We won't prioritize these...so may take a bit longer to get a response, but we'll do our best!\n",
    "\n",
    "> Q: how long do functions remain define or 'effective\" for in a notebook?  \n",
    "> A: Only so long as that notebook is open. Once the notebook is closed, the next time you open it you would need to re-run the code where the function is defined before being able to use it. We'll soon learn about creating modules to avoid this issue...so we can easily \"import\" functions into notebooks for use...without having to define them in the notebook where we use them. But, that's a few weeks out.\n",
    "\n",
    "> Q: Does spacing matter, because I would write the function and it still would not not run?  \n",
    "> A: Yes! Specifically, indentation matters. Spacing between lines is allowed but not required. \n",
    "\n",
    "> Q: In the example from activity 1, how come we had to define name='Shannon' instead of using just 'Shannon'? I remember being able to put 6 instead of num=6 in other functions.  \n",
    "> A: This has to do with the operations being carried out inside the function. In the function I was trying to concatenate strings...so the input had to be a string. In the other functions we were carrying out mathematical operations, so they could be integers.\n",
    "\n",
    "> Q: Once the function is run and the value is returned to some output variable, does that output variable keep that value until the function is used again with some other output?  \n",
    "> A: That variable will keep the value until another value is assigned to it. So, if you had `output_1 = my_function(5)` and then `output_2 = my_function(2)`...output_1 and output_2 would each have different values. If you *then* said output_1 = 'Shannon'...well, then you would store the string 'Shannon' in `output_1`\n",
    "\n",
    "> Q: How do you know what to name the function?  \n",
    "> A: Well, often in this class, I'll tell you what to name the function. But, on your own, the best function names are verbs (action words) that summarize what the function accomplishes.\n",
    "\n",
    "> Q: What does the type function do that the print function does not?  \n",
    "> A: `type` tells you the type of the variable; `print` displays the contents of the variable\n",
    "\n",
    "> Q: What is the difference between return and print? I am kind of confused 🫠  \n",
    "> A: `return` is a special keyword for use inside a function definition. If you want to get output from a function, use `return`. `print` is a function that when encountered, will display the contents of a variable (in or outside of a function definition).\n",
    "\n",
    "> Q: Is there anywhere we can get simple functions to practice reading/interpreting before the oral quiz?  \n",
    "> A: The functions from the notes (i.e. `double_value`), Google Forms (i.e. `greet`, `convert_to_f`) and first assignment (the calculator questions) are a few good examples! to help practice. We'll also do an activity today in class.\n",
    "\n",
    "> Q: How can I practice reading and understanding code?  \n",
    "> A: A good way is to work through examples used in class. Then, you could use ChatGPT, provide those examples and ask it to provide similar examples (for example, functions using only variables and operators) but without any explanation as to what they do so you can think about them...and then you could ask it to explain to make sure your understanding matched."
   ]
  },
  {
   "cell_type": "markdown",
   "metadata": {
    "editable": true,
    "slideshow": {
     "slide_type": "slide"
    },
    "tags": []
   },
   "source": [
    "**Course Announcements**\n",
    "\n",
    "Due this week:\n",
    "- VQ5 due Wed (is now available)\n",
    "- CL2 due Fri\n",
    "- A1 due Sun\n",
    "\n",
    "Notes:\n",
    "\n",
    "- Sign up for written exams (prairietest) and oral exams (taken in lab)\n",
    "- For oral (and written) exams, please treat like other exams...don't discuss with those who haven't yet taken it\n",
    "- Pre-course assessment surveys are open for one more day. Please complete TODAY if you haven't already."
   ]
  },
  {
   "attachments": {},
   "cell_type": "markdown",
   "metadata": {
    "editable": true,
    "slideshow": {
     "slide_type": "slide"
    },
    "tags": []
   },
   "source": [
    "## Activity: Functions II\n",
    "\n",
    "Now that we worked through that first example together...complete the question in this Google Form ([https://forms.gle/uJTMjnv8zDSBMJJC7](https://forms.gle/uJTMjnv8zDSBMJJC7)) and then click submit.\n",
    "\n",
    ">Write a function `convert_to_f` that will convert a temperature in Celsius to Fahrenheit, returning the temperature in Fahrenheit.\n",
    "\n",
    "> Note: A temperature in Celsius will be multiplied by 9/5 and then 32 will be added to that quantity to convert to Fahrenheit."
   ]
  },
  {
   "cell_type": "code",
   "execution_count": 4,
   "metadata": {},
   "outputs": [],
   "source": [
    "## YOUR CODE HERE \n",
    "def convert_to_f(temp_c):\n",
    "    temp_f = temp_c * 9/5 + 32\n",
    "    return temp_f"
   ]
  },
  {
   "cell_type": "code",
   "execution_count": 2,
   "metadata": {},
   "outputs": [
    {
     "data": {
      "text/plain": [
       "68.0"
      ]
     },
     "execution_count": 2,
     "metadata": {},
     "output_type": "execute_result"
    }
   ],
   "source": [
    "20 * 9/5 + 32"
   ]
  },
  {
   "cell_type": "code",
   "execution_count": 7,
   "metadata": {
    "editable": true,
    "slideshow": {
     "slide_type": ""
    },
    "tags": []
   },
   "outputs": [
    {
     "data": {
      "text/plain": [
       "50.0"
      ]
     },
     "execution_count": 7,
     "metadata": {},
     "output_type": "execute_result"
    }
   ],
   "source": [
    "## TEST YOUR CODE HERE\n",
    "convert_to_f(temp_c=10)"
   ]
  },
  {
   "cell_type": "markdown",
   "metadata": {
    "editable": true,
    "slideshow": {
     "slide_type": ""
    },
    "tags": []
   },
   "source": [
    "## Default Values"
   ]
  },
  {
   "cell_type": "markdown",
   "metadata": {
    "editable": true,
    "slideshow": {
     "slide_type": ""
    },
    "tags": []
   },
   "source": [
    "<div class=\"alert alert-success\">\n",
    "Function parameters can also take <b>default values</b>. This makes some parameters optional, as they take a default value if not otherwise specified.\n",
    "</div>"
   ]
  },
  {
   "cell_type": "code",
   "execution_count": 8,
   "metadata": {
    "editable": true,
    "slideshow": {
     "slide_type": "fragment"
    },
    "tags": []
   },
   "outputs": [],
   "source": [
    "# Create a function, that has a default values for a parameter\n",
    "def exponentiate(number, exponent=2):  \n",
    "    return number ** exponent"
   ]
  },
  {
   "cell_type": "code",
   "execution_count": 9,
   "metadata": {
    "editable": true,
    "slideshow": {
     "slide_type": "fragment"
    },
    "tags": []
   },
   "outputs": [
    {
     "data": {
      "text/plain": [
       "9"
      ]
     },
     "execution_count": 9,
     "metadata": {},
     "output_type": "execute_result"
    }
   ],
   "source": [
    "# Use the function, using default value\n",
    "exponentiate(3)"
   ]
  },
  {
   "cell_type": "code",
   "execution_count": 10,
   "metadata": {
    "editable": true,
    "scrolled": true,
    "slideshow": {
     "slide_type": "fragment"
    },
    "tags": []
   },
   "outputs": [
    {
     "data": {
      "text/plain": [
       "8"
      ]
     },
     "execution_count": 10,
     "metadata": {},
     "output_type": "execute_result"
    }
   ],
   "source": [
    "# Call the function, over-riding default value with something else\n",
    "# python assumes values are in order of parameters specified in definition\n",
    "exponentiate(2, 3)"
   ]
  },
  {
   "cell_type": "code",
   "execution_count": 11,
   "metadata": {
    "editable": true,
    "scrolled": true,
    "slideshow": {
     "slide_type": "fragment"
    },
    "tags": []
   },
   "outputs": [
    {
     "data": {
      "text/plain": [
       "8"
      ]
     },
     "execution_count": 11,
     "metadata": {},
     "output_type": "execute_result"
    }
   ],
   "source": [
    "# you can always state this explicitly\n",
    "exponentiate(number=2, exponent=3)"
   ]
  },
  {
   "cell_type": "markdown",
   "metadata": {
    "editable": true,
    "slideshow": {
     "slide_type": "slide"
    },
    "tags": []
   },
   "source": [
    "## Positional vs. Keyword Arguments"
   ]
  },
  {
   "cell_type": "markdown",
   "metadata": {
    "editable": true,
    "slideshow": {
     "slide_type": ""
    },
    "tags": []
   },
   "source": [
    "<div class=\"alert alert-success\">\n",
    "Arguments to a function can be indicated by either position or keyword.\n",
    "</div>"
   ]
  },
  {
   "cell_type": "code",
   "execution_count": null,
   "metadata": {
    "editable": true,
    "slideshow": {
     "slide_type": "fragment"
    },
    "tags": []
   },
   "outputs": [],
   "source": [
    "# Positional arguments use the position to infer which argument each value relates to\n",
    "exponentiate(2, 3)"
   ]
  },
  {
   "cell_type": "code",
   "execution_count": null,
   "metadata": {
    "editable": true,
    "slideshow": {
     "slide_type": "fragment"
    },
    "tags": []
   },
   "outputs": [],
   "source": [
    "# Keyword arguments are explicitly named as to which argument each value relates to\n",
    "exponentiate(number=2, exponent=3)"
   ]
  },
  {
   "cell_type": "code",
   "execution_count": 12,
   "metadata": {
    "editable": true,
    "slideshow": {
     "slide_type": ""
    },
    "tags": []
   },
   "outputs": [
    {
     "data": {
      "text/plain": [
       "8"
      ]
     },
     "execution_count": 12,
     "metadata": {},
     "output_type": "execute_result"
    }
   ],
   "source": [
    "# DON'T DO THIS; IT CONFUSES US HUMANS\n",
    "exponentiate(exponent=3, number=2)"
   ]
  },
  {
   "cell_type": "code",
   "execution_count": 13,
   "metadata": {
    "editable": true,
    "slideshow": {
     "slide_type": "fragment"
    },
    "tags": []
   },
   "outputs": [
    {
     "ename": "SyntaxError",
     "evalue": "positional argument follows keyword argument (623788136.py, line 3)",
     "output_type": "error",
     "traceback": [
      "\u001b[0;36m  Cell \u001b[0;32mIn[13], line 3\u001b[0;36m\u001b[0m\n\u001b[0;31m    exponentiate(number=2, 3)\u001b[0m\n\u001b[0m                            ^\u001b[0m\n\u001b[0;31mSyntaxError\u001b[0m\u001b[0;31m:\u001b[0m positional argument follows keyword argument\n"
     ]
    }
   ],
   "source": [
    "# Note: once you have a keyword argument, you can't have other positional arguments afterwards\n",
    "# this cell will produce an error\n",
    "exponentiate(number=2, 3)"
   ]
  },
  {
   "cell_type": "markdown",
   "metadata": {
    "editable": true,
    "slideshow": {
     "slide_type": "slide"
    },
    "tags": []
   },
   "source": [
    "## Code Style: Functions\n",
    "\n",
    "- Function names should be snake_case \n",
    "- Function names should describe task accomplished by function\n",
    "- Separate out logical sections within a function with new lines\n",
    "- Arguments should be separated by a comma and a space\n",
    "- Default values do NOT need a space around the `=`"
   ]
  },
  {
   "cell_type": "markdown",
   "metadata": {
    "slideshow": {
     "slide_type": "fragment"
    }
   },
   "source": [
    "### Functions: Good Code Style"
   ]
  },
  {
   "cell_type": "code",
   "execution_count": null,
   "metadata": {
    "slideshow": {
     "slide_type": "-"
    }
   },
   "outputs": [],
   "source": [
    "def remainder(number, divider=2):\n",
    "    \n",
    "    r = number % divider\n",
    "    \n",
    "    return r"
   ]
  },
  {
   "cell_type": "markdown",
   "metadata": {
    "slideshow": {
     "slide_type": "fragment"
    }
   },
   "source": [
    "### Functions: Code Style to Avoid"
   ]
  },
  {
   "cell_type": "code",
   "execution_count": null,
   "metadata": {
    "editable": true,
    "slideshow": {
     "slide_type": "-"
    },
    "tags": []
   },
   "outputs": [],
   "source": [
    "# could be improved by adding empty lines to separate out logical chunks\n",
    "def remainder(number,divider=2): # needs space after comma\n",
    "    r=number%divider # needs spacing around operators\n",
    "    return r"
   ]
  },
  {
   "cell_type": "markdown",
   "metadata": {
    "editable": true,
    "slideshow": {
     "slide_type": ""
    },
    "tags": []
   },
   "source": [
    "## Activity: Functions III (Code Describing - Paired)\n",
    "\n",
    "1. Pair up with one other individual.\n",
    "2. Decide who will be Person A and who will be Person B\n",
    "3. Open up the correct Google Form: [Person A](https://forms.gle/F8q95RhNvYQJV6KHA); [Person B](https://forms.gle/Psm7kPWc3h24CwcB7)\n",
    "4. On your own, read through the code provided, thinking about what it's accomplishing.\n",
    "5. For each person: without letting your partner see the code AND without describing the code word for word, explain what the code accomplishes and the logic within the code.\n",
    "6. Have the other person try to write code that accomplishes what the other partner described. Test out the code if you have enough time.\n",
    "7. Discuss similarities/differences in the code described and the code written and any misunderstandings that you had in this process."
   ]
  },
  {
   "cell_type": "code",
   "execution_count": 14,
   "metadata": {
    "editable": true,
    "slideshow": {
     "slide_type": ""
    },
    "tags": []
   },
   "outputs": [],
   "source": [
    "## YOUR CODE HERE\n",
    "def introduce_self(name, year, major):\n",
    "    out_string = 'Hi, my name is ' + name + '. I am a ' + year + ' studying ' + major + '.'\n",
    "    return out_string"
   ]
  },
  {
   "cell_type": "code",
   "execution_count": 19,
   "metadata": {},
   "outputs": [
    {
     "data": {
      "text/plain": [
       "'Hi, my name is Shannon. I am a 25th year studying cogsci.'"
      ]
     },
     "execution_count": 19,
     "metadata": {},
     "output_type": "execute_result"
    }
   ],
   "source": [
    "## TEST YOUR CODE HERE\n",
    "# positional arguments\n",
    "introduce_self('Shannon', '25th year', 'cogsci')\n",
    "\n",
    "# keyword arguments\n",
    "introduce_self(name='Shannon', year='25th year', major='cogsci')"
   ]
  },
  {
   "cell_type": "code",
   "execution_count": 27,
   "metadata": {},
   "outputs": [],
   "source": [
    "def is_even(num):\n",
    "    even = num % 2 == 0\n",
    "    return even"
   ]
  },
  {
   "cell_type": "code",
   "execution_count": 28,
   "metadata": {},
   "outputs": [
    {
     "data": {
      "text/plain": [
       "False"
      ]
     },
     "execution_count": 28,
     "metadata": {},
     "output_type": "execute_result"
    }
   ],
   "source": [
    "# positional argument\n",
    "is_even(11)\n",
    "\n",
    "# keyword argument\n",
    "is_even(num=7)"
   ]
  },
  {
   "cell_type": "markdown",
   "metadata": {
    "editable": true,
    "slideshow": {
     "slide_type": "slide"
    },
    "tags": []
   },
   "source": [
    "## Summary\n",
    "- how to define a function\n",
    "- how to execute a function\n",
    "- default values\n",
    "- position vs. keyword arguments\n",
    "- code style"
   ]
  }
 ],
 "metadata": {
  "celltoolbar": "Slideshow",
  "kernelspec": {
   "display_name": "Python 3 (ipykernel)",
   "language": "python",
   "name": "python3"
  },
  "language_info": {
   "codemirror_mode": {
    "name": "ipython",
    "version": 3
   },
   "file_extension": ".py",
   "mimetype": "text/x-python",
   "name": "python",
   "nbconvert_exporter": "python",
   "pygments_lexer": "ipython3",
   "version": "3.11.8"
  },
  "rise": {
   "scroll": true
  }
 },
 "nbformat": 4,
 "nbformat_minor": 4
}
