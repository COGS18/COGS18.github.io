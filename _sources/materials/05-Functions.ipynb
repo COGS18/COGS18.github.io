{
 "cells": [
  {
   "cell_type": "markdown",
   "metadata": {
    "slideshow": {
     "slide_type": "slide"
    }
   },
   "source": [
    "**Course Announcements**\n",
    "\n",
    "Due Dates:\n",
    "- **CL2** due tonight (11:59 PM)\n",
    "- **A1** due Mon 1/17 (11:59 PM)\n",
    "\n",
    "Notes:\n",
    "- Waitlist: If you were spots 1-5, check your email; you can now enroll; I don't anticipate others being enrolled\n",
    "- No class or office hours this Monday (Dr. MLK, Jr. Day)"
   ]
  },
  {
   "cell_type": "markdown",
   "metadata": {
    "slideshow": {
     "slide_type": "skip"
    }
   },
   "source": [
    "**Q&A**\n",
    "\n",
    "Q: I'm still confused about `%whos`. From my understanding if you run it, it shows all the variables in your code? With the type and what it's assigned to as well?  \n",
    "A: That's right - it shows all the variables you've defined in that current namespace. Every time you open a notebook, you connect to a kernel. This kernel allows you to execute code. When you execute code, you store variables in your namespace. When you run `%whos` it tells you everything stored in your namespace.\n",
    "\n",
    "Q: why is it called snake_case? Also, is there more to code style? Or is what we learned in this lecture all there is to it?  \n",
    "A: snake_case b/c everythign is on the same level like the body of a snake. camelCase is another common case, where the upper case letters are the \"humps\" of the camel's back.\n",
    "\n",
    "Q: How to change variable types; for example after importing a dataset.   \n",
    "A: Take a look at \"typecasting in python\" results when you google! (We'll get to this later in the course.)\n",
    "\n",
    "Q: How are coding assignments graded? Is it based on correctness or accuracy of the code?  \n",
    "A: They are graded programmatically based on the `assert` statements in the assignment - both visible and hidden. Correctness/accuracy matter. This will make even more sense after we grade A1.\n",
    "\n",
    "Q: When you run the namespace in the jupyter nb is it supposed to give you an output?  \n",
    "A: Only if you've already defined variables in your namespace (meaning, run some code to create some variables).\n",
    "\n",
    "Q: What are examples of mutable variables? Or are they anything other than the variables we discussed in lecture today?  \n",
    "A: We'll get there soon! But, lists and dictionaries are two common mutable types we'll soon get comfortable with!\n",
    "\n",
    "Q: what happens when the values for different variables are identical?   \n",
    "A: We'll talk a bit about this soon, but the answer is \"it depends.\" Sometimes python stores them in different places in memory; sometimes in the same. For this course, the details won't matter a ton.\n",
    "\n",
    "Q: I am curious if restarting the kernel means our memory is cleared and then reallocated for the variables in our code?  \n",
    "A: Your namespace/memory is cleared. When you restart the kernel no variables have been created yet. Code will have to be re-executed to store the variables in memory again.\n",
    "\n",
    "Q: What exactly is the purpose of None type? How would it be used?  \n",
    "A: The example I gave in class is think about the gradebook for this class right now. Y'all haven't had any assignments graded yet, so each value would be `None`. We wouldn't want to use zero...b/c then students would be concerned they got no credit on the assignment! `None` is a good placeholder when you want to demonstrate the idea/concept of \"nothing.\"\n",
    "\n",
    "Q: i am curious about why python does not need to specify variable type like other languages  \n",
    "A: This is b/c Python is \"dynamically typed.\" The variable type is inferred directly from the code/syntax.\n",
    "\n",
    "Q: What are the different colorings for the different variables?  \n",
    "A: black = variable; green = function or number; purple = operator; bold and green = reserved word in Python; red = warning or error\n",
    "\n",
    "Q: Is it possible to modify the namespace within the python code without explicitly creating variables? For example, deleting specific variables or creating variables to track the changes in other variables.  \n",
    "A: Yup, `del` will remove a variable from the namespace. As for the last example, not totally sure what you mean...so not sure if it is or is not possible.\n",
    "\n",
    "Q: When you print a variable, this makes it so that the variable can be used later or makes it so that it appears if you were to type %whos for example, correct?   \n",
    "A: Nope - `print` simply displays the variable to your screen. To `print` something, it has to already exist/have been defined. So the `=` statement creates the variable. After this, it can be `print`ed.\n",
    "\n",
    "Q: Will we be solving complex math problems on tests or homework assignments?   \n",
    "A: Nope.\n",
    "\n",
    "Q: When calculating with floats, is there a best practice to make sure floats produce answers with the accuracy you want it to produce (for example, making sure an operation produces 2.0 and not 2.00000...001)? I noticed something like this happened on the assignment for this week and want to try and reduce that happening if possible.  \n",
    "A: There are ways (like forcing a certain number of decimal places)...but they won't be super important for this class. For example, if I ask you to do some operation that should return 2.3 as an answer, I am going to accept that value with uncertainty around it as an answer...to avoid any float/rounding issues. So, not something you have to worry about for this class.\n",
    "\n",
    "Q: Is there a way to print more than one variable at once? I've been using print(variable) for each variable in order to test what I did was right and it gets a bit tedious.   \n",
    "A: Yup - you can separate the variables by a comma in your print statement, for example: `print(var_a, var_b)`.\n",
    "\n",
    "Q: I am confused that is there a difference between using single and double quotes in python?   \n",
    "A: No difference - pick one and stick with it.\n",
    "\n",
    "Q: Can you assert a string? What does it mean to do so? What are you asserting?  \n",
    "A: Yes. If you assert a string, it asserts that the string is anything *other than* an empty string, so if there's something in the string, the `assert` will pass silently. What's more comment is to `assert` that the value of the string is exactly equal to a string. We'll see this more in coming assignments.\n",
    "\n",
    "Q: Can we work on A1 or any assignments for that matter in increments? I.e., if I start A1, may I leave it for some time and then come back to it without penalty or anything getting lost?  \n",
    "A: Yes, you are encouraged to work incrementally.\n",
    "\n",
    "Q: I am kind of confused the grading of Coding lab and also assignments.  \n",
    "A: Coding labs are graded on concerted effort. We (staff) look through to see if it looks like you spent ~1h of time on the coding lab. It's ok if there are errors, for example; you can still get full credit. Assignments are autograded, so they are graded for correctness. You'll see an example of this process soon with A1.\n",
    "\n",
    "Q: I forgot to fill out a daily participation survey for Friday's (1-7) lecture. How do I submit this?  \n",
    "A: You don't, but it's for EC, so it's not a big deal.\n",
    "\n",
    "Q: Can you divide variables by both / and // ? because I tried both ways and they both work...  \n",
    "A: Yup, `/` gives you a float; `//` returns the integer\n",
    "\n",
    "Q: Why both int(4) and int('4') gives an output 4 but int('4.0') raises an error?  \n",
    "A: Ah the joys/nuances of python! `int('4.0')` is interpreted the same as trying to convert the string '4.4' to an integer...python just don't know how to do it.\n",
    "\n",
    "Q: can you convert a string (if it stores a number with a quotation mark) to integer type?    \n",
    "A: Yes, you would \"typecast\" this using `str('6')` for example.\n",
    "\n",
    "Q: How does using the % and %who differ?  \n",
    "A: `%` returns the remainder after division; `%who` lists what's currently stored in your namespace\n",
    "\n",
    "Q: Will there be situations where you can use indents in code?  \n",
    "A: Yes! Loops, functions, conditionals - we're getting there!"
   ]
  },
  {
   "cell_type": "markdown",
   "metadata": {
    "slideshow": {
     "slide_type": "slide"
    }
   },
   "source": [
    "# Functions\n",
    "\n",
    "- defining a function\n",
    "    - `def`\n",
    "    - `return`\n",
    "    - default values\n",
    "    - keyword vs. positional arguments\n",
    "- executing a function\n",
    "    - parameters\n",
    "    - separate namespace"
   ]
  },
  {
   "cell_type": "markdown",
   "metadata": {
    "slideshow": {
     "slide_type": "slide"
    }
   },
   "source": [
    "## Vocab\n",
    "\n",
    "- **Define/create/make** a function: To set up and write the instructions for a function.\n",
    "- **Execute/call/use** a function: To actually use the pre-defined function.\n",
    "\n",
    "- **Input/parameter/argument**: A variable defined by the user that is put/passed in between the parantheses `()` that comes after the function name.  \n",
    "- **Output**: The variable that is `return`ed to the user after the function is executed."
   ]
  },
  {
   "cell_type": "markdown",
   "metadata": {
    "slideshow": {
     "slide_type": "slide"
    }
   },
   "source": [
    "## Functions\n",
    "\n",
    "<div class=\"alert alert-success\">\n",
    "A function is a re-usable piece of code that performs operations on a specified set of variables, and returns the result.\n",
    "</div>"
   ]
  },
  {
   "cell_type": "markdown",
   "metadata": {
    "slideshow": {
     "slide_type": "fragment"
    }
   },
   "source": [
    "![cheeseburger](img/cheeseburger.png)"
   ]
  },
  {
   "cell_type": "markdown",
   "metadata": {
    "slideshow": {
     "slide_type": "slide"
    }
   },
   "source": [
    "## Modular Programming\n",
    "\n",
    "<div class=\"alert alert-success\">\n",
    "Modular programming is an approach to programming that focuses on building programs from indendent modules ('pieces'). \n",
    "</div>"
   ]
  },
  {
   "cell_type": "markdown",
   "metadata": {
    "slideshow": {
     "slide_type": "fragment"
    }
   },
   "source": [
    "Copy + Pasting the same/similar bit of code is to be avoided.\n",
    "\n",
    "**Functions** were one way to avoid this.\n",
    "\n",
    "**Loops** are another! (we'll get to these soon...)"
   ]
  },
  {
   "cell_type": "markdown",
   "metadata": {
    "slideshow": {
     "slide_type": "slide"
    }
   },
   "source": [
    "## Functions for Modular Programming"
   ]
  },
  {
   "cell_type": "markdown",
   "metadata": {
    "slideshow": {
     "slide_type": "fragment"
    }
   },
   "source": [
    "- Functions allow us to flexibly re-use pieces of code\n",
    "- Each function is independent of every other function, and other pieces of code\n",
    "- Functions are the building blocks of programs, and can be flexibly combined and executed in specified orders\n",
    "    - This allows us to build up arbitrarily complex, well-organized programs"
   ]
  },
  {
   "cell_type": "code",
   "execution_count": null,
   "metadata": {
    "slideshow": {
     "slide_type": "fragment"
    }
   },
   "outputs": [],
   "source": [
    "# you've seen functions before\n",
    "# here we use the type() function\n",
    "my_var = [3, 4, 5]\n",
    "type(my_var)"
   ]
  },
  {
   "cell_type": "code",
   "execution_count": null,
   "metadata": {
    "slideshow": {
     "slide_type": "fragment"
    }
   },
   "outputs": [],
   "source": [
    "# the function print() doesn't depend on type()\n",
    "# but they can both be used on the same variable\n",
    "print(my_var)"
   ]
  },
  {
   "cell_type": "markdown",
   "metadata": {
    "slideshow": {
     "slide_type": "slide"
    }
   },
   "source": [
    "## Function Example I\n",
    "\n",
    "When you use `def`, **you are defining a function**.\n",
    "You are metaphorically writing the instructions for how to make the cheeseburger."
   ]
  },
  {
   "cell_type": "code",
   "execution_count": null,
   "metadata": {
    "slideshow": {
     "slide_type": "fragment"
    }
   },
   "outputs": [],
   "source": [
    "# define a function: double_value\n",
    "# Notice that the parameter `num` is not explicitly defined with an = \n",
    "# This is because it will be defined later by the user when they execute the function.\n",
    "def double_value(num):\n",
    "\n",
    "    # do some operation\n",
    "    doubled = num + num\n",
    "    \n",
    "    # return output from function\n",
    "    return doubled    "
   ]
  },
  {
   "cell_type": "code",
   "execution_count": null,
   "metadata": {
    "slideshow": {
     "slide_type": "fragment"
    }
   },
   "outputs": [],
   "source": [
    "# excecute a function by calling the function's name\n",
    "# and defining the parameter within the parentheses\n",
    "double_value(num = 2) "
   ]
  },
  {
   "cell_type": "code",
   "execution_count": null,
   "metadata": {
    "slideshow": {
     "slide_type": "fragment"
    }
   },
   "outputs": [],
   "source": [
    "# equivalent function call\n",
    "# Here the parameter `num` is defined without \n",
    "# explicitly specifying the name of the parameter\n",
    "double_value(2) "
   ]
  },
  {
   "cell_type": "markdown",
   "metadata": {
    "slideshow": {
     "slide_type": "slide"
    }
   },
   "source": [
    "## Function Example II\n",
    "\n",
    "Here we are defining a function with multiple parameters"
   ]
  },
  {
   "cell_type": "code",
   "execution_count": null,
   "metadata": {
    "slideshow": {
     "slide_type": "fragment"
    }
   },
   "outputs": [],
   "source": [
    "def add_two_numbers(num1, num2):\n",
    "    \n",
    "    # Do some operations with the parameters\n",
    "    answer = num1 + num2\n",
    "    \n",
    "    # Return the variable answer\n",
    "    return answer"
   ]
  },
  {
   "cell_type": "code",
   "execution_count": null,
   "metadata": {
    "slideshow": {
     "slide_type": "fragment"
    }
   },
   "outputs": [],
   "source": [
    "add_two_numbers(5, 14)"
   ]
  },
  {
   "cell_type": "code",
   "execution_count": null,
   "metadata": {
    "scrolled": true,
    "slideshow": {
     "slide_type": "fragment"
    }
   },
   "outputs": [],
   "source": [
    "# Execute our function again on some other inputs to double check \n",
    "# that our function is working how we think it should\n",
    "output = add_two_numbers(-1, 4)\n",
    "print(output)"
   ]
  },
  {
   "cell_type": "markdown",
   "metadata": {
    "slideshow": {
     "slide_type": "slide"
    }
   },
   "source": [
    "## Function Properties"
   ]
  },
  {
   "cell_type": "markdown",
   "metadata": {
    "slideshow": {
     "slide_type": "fragment"
    }
   },
   "source": [
    "- Functions are defined using `def` followed by the name of the function, parentheses `()`, parameters within the parentheses, and then `:` after the parentheses, which opens a code-block that comprises the function\n",
    "    - Running code with a `def` block *defines* the function (but does not *execute* it)"
   ]
  },
  {
   "cell_type": "markdown",
   "metadata": {
    "slideshow": {
     "slide_type": "fragment"
    }
   },
   "source": [
    "- Functions are *executed* with the name of the function and parentheses - `()` without `def` and `:`\n",
    "    - This is when the code inside a function is actually run"
   ]
  },
  {
   "cell_type": "markdown",
   "metadata": {
    "slideshow": {
     "slide_type": "fragment"
    }
   },
   "source": [
    "- Inside a function, there is code that performs operations on the available variables"
   ]
  },
  {
   "cell_type": "markdown",
   "metadata": {
    "slideshow": {
     "slide_type": "fragment"
    }
   },
   "source": [
    "- Functions use the special operator `return` to exit the function, passing out any specified variables"
   ]
  },
  {
   "cell_type": "markdown",
   "metadata": {
    "slideshow": {
     "slide_type": "fragment"
    }
   },
   "source": [
    "- When you use a function, you can assign the output (whatever is `return`ed) to a variable"
   ]
  },
  {
   "cell_type": "markdown",
   "metadata": {
    "collapsed": true,
    "slideshow": {
     "slide_type": "slide"
    }
   },
   "source": [
    "#### Clicker Question #1\n",
    "Given the function defined below, what will the second code cell below print out?\n",
    "\n",
    "A) 0   &emsp;B) 2    &emsp;C) 4    &emsp;D) '2r.2 + 1'    &emsp;E) ¯\\\\\\_(ツ)\\_/¯"
   ]
  },
  {
   "cell_type": "code",
   "execution_count": null,
   "metadata": {
    "slideshow": {
     "slide_type": "fragment"
    }
   },
   "outputs": [],
   "source": [
    "def remainder(number, divider):\n",
    "    \n",
    "    r = number % divider\n",
    "    \n",
    "    return r"
   ]
  },
  {
   "cell_type": "code",
   "execution_count": null,
   "metadata": {
    "slideshow": {
     "slide_type": "fragment"
    }
   },
   "outputs": [],
   "source": [
    "ans_1 = remainder(12, 5)\n",
    "ans_2 = remainder(2, 2)\n",
    "\n",
    "print(ans_1 + ans_2)"
   ]
  },
  {
   "cell_type": "markdown",
   "metadata": {
    "collapsed": true,
    "slideshow": {
     "slide_type": "slide"
    }
   },
   "source": [
    "#### Clicker Question #2\n",
    "\n",
    "Write a function `greet` that takes the parameter `name`. Inside the function, concatenate 'Hello', the person's name, and 'Good morning!\". Assign this to `output` and return `output`.\n",
    "\n",
    "A) I did it! &emsp;B) I think I did it. &emsp;C) I tried but I am stuck. &emsp;D) Super duper lost"
   ]
  },
  {
   "cell_type": "code",
   "execution_count": null,
   "metadata": {
    "slideshow": {
     "slide_type": "fragment"
    }
   },
   "outputs": [],
   "source": [
    "## YOUR CODE HERE  "
   ]
  },
  {
   "cell_type": "code",
   "execution_count": null,
   "metadata": {},
   "outputs": [],
   "source": [
    "# TEST YOUR FUNCTION HERE"
   ]
  },
  {
   "cell_type": "markdown",
   "metadata": {
    "slideshow": {
     "slide_type": "slide"
    }
   },
   "source": [
    "## Default Values"
   ]
  },
  {
   "cell_type": "markdown",
   "metadata": {
    "slideshow": {
     "slide_type": "subslide"
    }
   },
   "source": [
    "<div class=\"alert alert-success\">\n",
    "Function parameters can also take <b>default values</b>. This makes some parameters optional, as they take a default value if not otherwise specified.\n",
    "</div>"
   ]
  },
  {
   "cell_type": "markdown",
   "metadata": {
    "slideshow": {
     "slide_type": "slide"
    }
   },
   "source": [
    "#### Default Value Functions\n",
    "\n",
    "Specify a default value in a function by doing an assignment within the function definition."
   ]
  },
  {
   "cell_type": "code",
   "execution_count": null,
   "metadata": {
    "slideshow": {
     "slide_type": "fragment"
    }
   },
   "outputs": [],
   "source": [
    "# Create a function, that has a default values for a parameter\n",
    "def exponentiate(number, exponent=2):  \n",
    "    return number ** exponent"
   ]
  },
  {
   "cell_type": "code",
   "execution_count": null,
   "metadata": {
    "slideshow": {
     "slide_type": "fragment"
    }
   },
   "outputs": [],
   "source": [
    "# Use the function, using default value\n",
    "exponentiate(3)"
   ]
  },
  {
   "cell_type": "code",
   "execution_count": null,
   "metadata": {
    "scrolled": true,
    "slideshow": {
     "slide_type": "fragment"
    }
   },
   "outputs": [],
   "source": [
    "# Call the function, over-riding default value with something else\n",
    "# python assumes values are in order of parameters specified in definition\n",
    "exponentiate(2, 3)"
   ]
  },
  {
   "cell_type": "code",
   "execution_count": null,
   "metadata": {
    "scrolled": true,
    "slideshow": {
     "slide_type": "fragment"
    }
   },
   "outputs": [],
   "source": [
    "# you can always state this explicitly\n",
    "exponentiate(number=2, exponent=3)"
   ]
  },
  {
   "cell_type": "markdown",
   "metadata": {
    "slideshow": {
     "slide_type": "slide"
    }
   },
   "source": [
    "## Positional vs. Keyword Arguments"
   ]
  },
  {
   "cell_type": "markdown",
   "metadata": {
    "slideshow": {
     "slide_type": "fragment"
    }
   },
   "source": [
    "<div class=\"alert alert-success\">\n",
    "Arguments to a function can be indicated by either position or keyword.\n",
    "</div>"
   ]
  },
  {
   "cell_type": "code",
   "execution_count": null,
   "metadata": {
    "slideshow": {
     "slide_type": "fragment"
    }
   },
   "outputs": [],
   "source": [
    "# Positional arguments use the position to infer which argument each value relates to\n",
    "exponentiate(2, 3)"
   ]
  },
  {
   "cell_type": "code",
   "execution_count": null,
   "metadata": {
    "slideshow": {
     "slide_type": "fragment"
    }
   },
   "outputs": [],
   "source": [
    "# Keyword arguments are explicitly named as to which argument each value relates to\n",
    "exponentiate(number=2, exponent=3)"
   ]
  },
  {
   "cell_type": "code",
   "execution_count": null,
   "metadata": {},
   "outputs": [],
   "source": [
    "exponentiate(exponent=3, number=2)"
   ]
  },
  {
   "cell_type": "code",
   "execution_count": null,
   "metadata": {
    "slideshow": {
     "slide_type": "fragment"
    }
   },
   "outputs": [],
   "source": [
    "# Note: once you have a keyword argument, you can't have other positional arguments afterwards\n",
    "# this cell will produce an error\n",
    "exponentiate(number=2, 3)"
   ]
  },
  {
   "cell_type": "markdown",
   "metadata": {
    "slideshow": {
     "slide_type": "fragment"
    }
   },
   "source": [
    "Reminder, setting a default value for parameters is allowed during function *definition*.\n",
    "\n",
    "(This may look like what we did above, but here we are including a default value for one parameter during function definition. During function *execution*, you can't mix and match using positional vs. keywords)"
   ]
  },
  {
   "cell_type": "code",
   "execution_count": null,
   "metadata": {
    "slideshow": {
     "slide_type": "fragment"
    }
   },
   "outputs": [],
   "source": [
    "def exponentiate(number, exponent=2):    \n",
    "    return number ** exponent"
   ]
  },
  {
   "cell_type": "markdown",
   "metadata": {
    "slideshow": {
     "slide_type": "slide"
    }
   },
   "source": [
    "#### Clicker Question #3\n",
    "\n",
    "What will the following code snippet print?"
   ]
  },
  {
   "cell_type": "code",
   "execution_count": null,
   "metadata": {
    "slideshow": {
     "slide_type": "fragment"
    }
   },
   "outputs": [],
   "source": [
    "def exponentiate(number, exponent=2):    \n",
    "    return number ** exponent\n",
    "\n",
    "exponentiate(exponent=3, number=2)"
   ]
  },
  {
   "cell_type": "markdown",
   "metadata": {
    "slideshow": {
     "slide_type": "fragment"
    }
   },
   "source": [
    "- A) 8\n",
    "- B) 9\n",
    "- C) SyntaxError\n",
    "- D) None\n"
   ]
  },
  {
   "cell_type": "markdown",
   "metadata": {
    "slideshow": {
     "slide_type": "fragment"
    }
   },
   "source": [
    "Note: when using Keyword arguments position/order no longer matters"
   ]
  },
  {
   "cell_type": "markdown",
   "metadata": {
    "slideshow": {
     "slide_type": "slide"
    }
   },
   "source": [
    "## Function Namespace "
   ]
  },
  {
   "cell_type": "markdown",
   "metadata": {
    "slideshow": {
     "slide_type": "fragment"
    }
   },
   "source": [
    "- Each function has its own namespace\n",
    "- Functions only have access to:\n",
    "    - variables explicitly passed into them\n",
    "    - variables defined inside the function"
   ]
  },
  {
   "cell_type": "code",
   "execution_count": null,
   "metadata": {
    "slideshow": {
     "slide_type": "fragment"
    }
   },
   "outputs": [],
   "source": [
    "# You can check variables defined in the global namespace with `%whos`\n",
    "%whos"
   ]
  },
  {
   "cell_type": "markdown",
   "metadata": {
    "slideshow": {
     "slide_type": "slide"
    }
   },
   "source": [
    "### Variables defined inside a function only exist within that function."
   ]
  },
  {
   "cell_type": "code",
   "execution_count": null,
   "metadata": {
    "slideshow": {
     "slide_type": "fragment"
    }
   },
   "outputs": [],
   "source": [
    "# Names used inside a function are independent of those used outside\n",
    "# variables defined outside of functions are global variables\n",
    "# global variables are always available\n",
    "my_var = 'I am a variable'\n",
    "\n",
    "print(my_var)"
   ]
  },
  {
   "cell_type": "code",
   "execution_count": null,
   "metadata": {
    "slideshow": {
     "slide_type": "fragment"
    }
   },
   "outputs": [],
   "source": [
    "# define a function that uses my_var inside the function\n",
    "def concat_self(my_var):\n",
    "    \n",
    "    my_var = my_var + ' ' + my_var\n",
    "    \n",
    "    return my_var\n",
    "\n",
    "print(concat_self(my_var))"
   ]
  },
  {
   "cell_type": "code",
   "execution_count": null,
   "metadata": {},
   "outputs": [],
   "source": [
    "# see that my_var in global name space remains unchanged\n",
    "print(my_var)"
   ]
  },
  {
   "cell_type": "code",
   "execution_count": null,
   "metadata": {},
   "outputs": [],
   "source": [
    "# only way to change my_var in global namespace\n",
    "# is to assign to variable my_var in global namespace\n",
    "my_var = concat_self(my_var)\n",
    "print(my_var)"
   ]
  },
  {
   "cell_type": "markdown",
   "metadata": {
    "slideshow": {
     "slide_type": "slide"
    }
   },
   "source": [
    "## Code Style: Functions\n",
    "\n",
    "- Function names should be snake_case \n",
    "- Function names should describe task accomplished by function\n",
    "- Separate out logical sections within a function with new lines\n",
    "- Arguments should be separated by a comma and a space\n",
    "- Default values do NOT need a space around the `=`"
   ]
  },
  {
   "cell_type": "markdown",
   "metadata": {
    "slideshow": {
     "slide_type": "fragment"
    }
   },
   "source": [
    "### Functions: Good Code Style"
   ]
  },
  {
   "cell_type": "code",
   "execution_count": null,
   "metadata": {
    "slideshow": {
     "slide_type": "-"
    }
   },
   "outputs": [],
   "source": [
    "def remainder(number, divider=2):\n",
    "    \n",
    "    r = number % divider\n",
    "    \n",
    "    return r"
   ]
  },
  {
   "cell_type": "markdown",
   "metadata": {
    "slideshow": {
     "slide_type": "fragment"
    }
   },
   "source": [
    "### Functions: Code Style to Avoid"
   ]
  },
  {
   "cell_type": "code",
   "execution_count": null,
   "metadata": {
    "slideshow": {
     "slide_type": "-"
    }
   },
   "outputs": [],
   "source": [
    "# could be improved by adding empty lines to separate out logical chunks\n",
    "def remainder(number,divider=2): # needs space after comma\n",
    "    r=number%divider # needs spacing around operators\n",
    "    return r"
   ]
  },
  {
   "cell_type": "markdown",
   "metadata": {
    "slideshow": {
     "slide_type": "slide"
    }
   },
   "source": [
    "## Summary\n",
    "- how to define a function\n",
    "- how to execute a function\n",
    "- default values\n",
    "- position vs. keyword arguments\n",
    "- global namespace vs. local namespace\n",
    "- code style"
   ]
  }
 ],
 "metadata": {
  "celltoolbar": "Slideshow",
  "kernelspec": {
   "display_name": "Python 3",
   "language": "python",
   "name": "python3"
  },
  "language_info": {
   "codemirror_mode": {
    "name": "ipython",
    "version": 3
   },
   "file_extension": ".py",
   "mimetype": "text/x-python",
   "name": "python",
   "nbconvert_exporter": "python",
   "pygments_lexer": "ipython3",
   "version": "3.9.5"
  },
  "rise": {
   "scroll": true
  }
 },
 "nbformat": 4,
 "nbformat_minor": 2
}
