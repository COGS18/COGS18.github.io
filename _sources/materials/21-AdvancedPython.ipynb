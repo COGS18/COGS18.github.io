{
 "cells": [
  {
   "cell_type": "markdown",
   "metadata": {
    "slideshow": {
     "slide_type": "slide"
    }
   },
   "source": [
    "**Course Announcements**\n",
    "\n",
    "- No Coding Lab to turn in tonight - Coding Lab today is project-focused\n",
    "- **A5** due Friday (11:59)\n",
    "- **Final exam/project** due Mon (12/6; 11:59 PM)\n",
    "    - Project EC: [GitHub EC](https://docs.google.com/forms/d/e/1FAIpQLSe9WBkspvL4OYKQocamdpwa58HLJGiEbYKQUi6VFn21utVM3g/viewform?usp=sf_link) (link also on Canvas) and/or \"going above and beyond\" (described in submitted notebook)\n",
    "- **Finals Week Office Hours** - normal office hours are *not* happening during finals week\n",
    "    - **Prof**: OH by 10 min appt on Mon 1-3 PM (see Canvas page for Calendly link to sign up; please cancel if you're not going to show; come ready to ask question - I will stick to the schedule)\n",
    "    - If **staff** decide to hold, they'll post to campuswire (they are not required to do so)\n",
    "- **CAPEs** - please fill out your [CAPEs](https://cape.ucsd.edu/) (+1% if >=85\\% of class completes their CAPEs; currently: ~40%)\n",
    "- **[Post-Course Survey](https://docs.google.com/forms/d/e/1FAIpQLSfqwgORTqIj1h6Zb5MJB_StJnAVTgrOEboq60frGv4Z4xN3Wg/viewform?usp=sf_link)** (\"due\" 12/6 11:59 PM; link also on Canvas); ideally, fill out *after* taking final exam/completing final project"
   ]
  },
  {
   "cell_type": "markdown",
   "metadata": {
    "slideshow": {
     "slide_type": "notes"
    }
   },
   "source": [
    "**Q&A**\n",
    "\n",
    "Q: Would the final be an overall test of all the material or would it be project like?  \n",
    "A: It will be project-like and test the material throughout the quarter with a focus on material learned since second midterm. See practice final to get a sense.\n",
    "\n",
    "Q: How will we know that our project is at a level where we could believe we’d get a good grade? Is there a rubric?  \n",
    "A: https://cogs18.github.io/materials/Projects/overview.html#grading-rubric \n",
    "\n",
    "Q: Why I think atbash_encrypt and atbash_decrypt are essentially the same function? I could get 'HELLO' as output even if I use abash_encryot('SVOOL') rather than the decrypt function. Then how can I distinguish which function to use?   \n",
    "A: Yes! This is a great observation. This code needs to be refactored/reorganized. We'll comment on this today in class.\n",
    "\n",
    "Q: I'm curious about how one could expand on the project, either by learning new code techniques or by simply writing more extensive code   \n",
    "A: You could go beyond the requirements of the project by writing more code than what is required, writing better documentation, implementing something we haven't talked about in class (i.e. a new package), teaching yourself something beyond what was covered in class, etc.\n",
    "\n",
    "Q: How do you rename a folder?  \n",
    "A: From the terminal the command is `rm`. From the Files tab on datahub, click the box to the left of what you want to rename and select \"Rename\" from menu at top.\n",
    "\n",
    "Q: Will there be extra OH to get help with this project?   \n",
    "A: Yes - I will hold OH on Monday by appt. \n",
    "\n",
    "Q: Is there a central place that includes all project requirements and how exactly to format everything? Do we have to include docstrings and comments on every function or only 3 of them?  \n",
    "A: Yes: https://cogs18.github.io/materials/Projects/overview.html with FAQ [here](https://cogs18.github.io/materials/Projects/faq.html)\n",
    "\n",
    "Q: Where can I find the project file (Project_COGS18_FA21)?  \n",
    "A: Fetched from Assignments tab on datahub.\n",
    "\n",
    "Q: Where can I find a rubric for the project. I see on the course website that there is a rubric in terms of grading percentage but I can't find the requirements of the project. for example I am not sure how many Classes or functions I need.   \n",
    "A: https://cogs18.github.io/materials/Projects/overview.html#grading-rubric states \"Must include at least 3 original functions or methods\"\n",
    "\n",
    "Q: how many files should we submit for our project?  \n",
    "A: At a minimum, three. One notebook, one module/script, one test file: https://cogs18.github.io/materials/Projects/overview.html#submitting-your-project"
   ]
  },
  {
   "cell_type": "markdown",
   "metadata": {
    "slideshow": {
     "slide_type": "slide"
    }
   },
   "source": [
    "# Advanced Python\n",
    "\n",
    "- software versioning\n",
    "- string formatting (`format`)\n",
    "- sets\n",
    "- `collections`\n",
    "- args & kwargs\n",
    "- list comprehensions\n",
    "- `filter`/`map`\n",
    "- APIs\n",
    "- overloading operators"
   ]
  },
  {
   "cell_type": "markdown",
   "metadata": {
    "slideshow": {
     "slide_type": "fragment"
    }
   },
   "source": [
    "...or: a day of extra info and shortcuts\n",
    "\n",
    "Note: Shortcuts make *your* life easier, but your code *less* understandable to beginners."
   ]
  },
  {
   "cell_type": "markdown",
   "metadata": {
    "slideshow": {
     "slide_type": "fragment"
    }
   },
   "source": [
    "It's hard to search for things you don't know exist.\n",
    "\n",
    "Today's goal : let you know these things exist.\n",
    "\n",
    "NOT today's goal : teach you all the details."
   ]
  },
  {
   "cell_type": "markdown",
   "metadata": {
    "slideshow": {
     "slide_type": "fragment"
    }
   },
   "source": [
    "You do *not* need to incorporate these into your project, but if they'll help you, go for it!"
   ]
  },
  {
   "cell_type": "code",
   "execution_count": 1,
   "metadata": {
    "slideshow": {
     "slide_type": "slide"
    }
   },
   "outputs": [],
   "source": [
    "import antigravity"
   ]
  },
  {
   "cell_type": "markdown",
   "metadata": {
    "slideshow": {
     "slide_type": "slide"
    }
   },
   "source": [
    "## Documentation for a Software Project"
   ]
  },
  {
   "cell_type": "markdown",
   "metadata": {
    "slideshow": {
     "slide_type": "fragment"
    }
   },
   "source": [
    "Documentation Files:\n",
    "- A `README` is a file that provides an overview of the project to potential users and developers\n",
    "- A `LICENSE` file specifies the license under which the code is available (the terms of use)\n",
    "- An `API Reference` is a collection of the docstrings, listing public interfaces, parameters and return values\n",
    "- Tutorials and/or Examples show examples and tutorials for using the codebase"
   ]
  },
  {
   "cell_type": "markdown",
   "metadata": {
    "collapsed": true,
    "slideshow": {
     "slide_type": "slide"
    }
   },
   "source": [
    "## Documentation Sites"
   ]
  },
  {
   "cell_type": "markdown",
   "metadata": {
    "collapsed": true,
    "slideshow": {
     "slide_type": "fragment"
    }
   },
   "source": [
    "<div class=\"alert alert-success\">\n",
    "Documentation sites are a host of a package's documentation, for code users. \n",
    "</div>"
   ]
  },
  {
   "cell_type": "markdown",
   "metadata": {
    "slideshow": {
     "slide_type": "fragment"
    }
   },
   "source": [
    "### Example: Function Documentation\n",
    "`numpy.array` :\n",
    "https://docs.scipy.org/doc/numpy/reference/generated/numpy.array.html"
   ]
  },
  {
   "cell_type": "markdown",
   "metadata": {
    "slideshow": {
     "slide_type": "fragment"
    }
   },
   "source": [
    "### Example: Package Documentation\n",
    "**scikit learn** (`sklearn`) : https://scikit-learn.org/stable/index.html"
   ]
  },
  {
   "cell_type": "markdown",
   "metadata": {
    "slideshow": {
     "slide_type": "slide"
    }
   },
   "source": [
    "## Software Versioning\n",
    "\n",
    "When you make changes to the software you've released into the world, you have to change the version of that software to let people know changes have occurred."
   ]
  },
  {
   "cell_type": "markdown",
   "metadata": {
    "slideshow": {
     "slide_type": "slide"
    }
   },
   "source": [
    "### Versioning Schemes\n",
    "\n",
    "The rules, if you're new to this can be [dizzying](https://www.python.org/dev/peps/pep-0440/#version-scheme), so we'll [simplify](https://www.python.org/dev/peps/pep-0396/) for now:\n",
    "\n",
    "- `<MAJOR>.<MINOR>`\n",
    "    - i.e. 1.3\n",
    "    \n",
    "- `<MAJOR>.<MINOR>.<MAINTENANCE>`\n",
    "    - i.e. 1.3.1"
   ]
  },
  {
   "cell_type": "markdown",
   "metadata": {
    "slideshow": {
     "slide_type": "fragment"
    }
   },
   "source": [
    "- `<MAJOR>` - increase by 1 w/ incompatible API changes\n",
    "- `<MINOR>` - increase by 1 w/ added functionality in a backwards-compatible manner\n",
    "- `<MAINTENANCE>` - (aka patch) increase by 1 w/  backwards-compatible bug fixes."
   ]
  },
  {
   "cell_type": "code",
   "execution_count": 2,
   "metadata": {
    "slideshow": {
     "slide_type": "-"
    }
   },
   "outputs": [
    {
     "data": {
      "text/plain": [
       "'1.3.0'"
      ]
     },
     "execution_count": 2,
     "metadata": {},
     "output_type": "execute_result"
    }
   ],
   "source": [
    "# see version information\n",
    "import pandas as pd\n",
    "pd.__version__"
   ]
  },
  {
   "cell_type": "markdown",
   "metadata": {
    "slideshow": {
     "slide_type": "fragment"
    }
   },
   "source": [
    "In Python package development... when `<MAJOR>` == 0, suggests a package in development"
   ]
  },
  {
   "cell_type": "code",
   "execution_count": 5,
   "metadata": {},
   "outputs": [
    {
     "name": "stdout",
     "output_type": "stream",
     "text": [
      "Collecting lisc\n",
      "  Downloading lisc-0.2.0-py3-none-any.whl (88 kB)\n",
      "\u001b[K     |████████████████████████████████| 88 kB 6.3 MB/s eta 0:00:011\n",
      "\u001b[?25hRequirement already satisfied: numpy>=1.17.1 in /Users/shannonellis/opt/anaconda3/envs/research/lib/python3.9/site-packages (from lisc) (1.20.3)\n",
      "Collecting lxml\n",
      "  Downloading lxml-4.6.4-cp39-cp39-macosx_10_14_x86_64.whl (4.5 MB)\n",
      "\u001b[K     |████████████████████████████████| 4.5 MB 6.8 MB/s eta 0:00:01\n",
      "\u001b[?25hRequirement already satisfied: requests in /Users/shannonellis/opt/anaconda3/envs/research/lib/python3.9/site-packages (from lisc) (2.26.0)\n",
      "Requirement already satisfied: beautifulsoup4 in /Users/shannonellis/opt/anaconda3/envs/research/lib/python3.9/site-packages (from lisc) (4.9.3)\n",
      "Requirement already satisfied: soupsieve>1.2 in /Users/shannonellis/opt/anaconda3/envs/research/lib/python3.9/site-packages (from beautifulsoup4->lisc) (2.2.1)\n",
      "Requirement already satisfied: charset-normalizer~=2.0.0 in /Users/shannonellis/opt/anaconda3/envs/research/lib/python3.9/site-packages (from requests->lisc) (2.0.3)\n",
      "Requirement already satisfied: idna<4,>=2.5 in /Users/shannonellis/opt/anaconda3/envs/research/lib/python3.9/site-packages (from requests->lisc) (3.2)\n",
      "Requirement already satisfied: certifi>=2017.4.17 in /Users/shannonellis/opt/anaconda3/envs/research/lib/python3.9/site-packages (from requests->lisc) (2021.5.30)\n",
      "Requirement already satisfied: urllib3<1.27,>=1.21.1 in /Users/shannonellis/opt/anaconda3/envs/research/lib/python3.9/site-packages (from requests->lisc) (1.26.6)\n",
      "Installing collected packages: lxml, lisc\n",
      "Successfully installed lisc-0.2.0 lxml-4.6.4\n"
     ]
    }
   ],
   "source": [
    "!pip install lisc"
   ]
  },
  {
   "cell_type": "code",
   "execution_count": 6,
   "metadata": {
    "scrolled": true,
    "slideshow": {
     "slide_type": "-"
    }
   },
   "outputs": [
    {
     "name": "stdout",
     "output_type": "stream",
     "text": [
      "Name: lisc\r\n",
      "Version: 0.2.0\r\n",
      "Summary: Literature Scanner\r\n",
      "Home-page: https://github.com/lisc-tools/lisc\r\n",
      "Author: Thomas Donoghue\r\n",
      "Author-email: tdonoghue.research@gmail.com\r\n",
      "License: Apache License, 2.0\r\n",
      "Location: /Users/shannonellis/opt/anaconda3/envs/research/lib/python3.9/site-packages\r\n",
      "Requires: requests, numpy, beautifulsoup4, lxml\r\n",
      "Required-by: \r\n"
     ]
    }
   ],
   "source": [
    "# see version information\n",
    "!pip show lisc"
   ]
  },
  {
   "cell_type": "markdown",
   "metadata": {
    "slideshow": {
     "slide_type": "slide"
    }
   },
   "source": [
    "## String Formatting"
   ]
  },
  {
   "cell_type": "markdown",
   "metadata": {
    "slideshow": {
     "slide_type": "fragment"
    }
   },
   "source": [
    "Use the `format` method to manipulate and format strings."
   ]
  },
  {
   "cell_type": "code",
   "execution_count": 7,
   "metadata": {
    "slideshow": {
     "slide_type": "fragment"
    }
   },
   "outputs": [
    {
     "data": {
      "text/plain": [
       "'Hello! My name is Shannon. My job is Assistant Teaching Professor, and I work on Python'"
      ]
     },
     "execution_count": 7,
     "metadata": {},
     "output_type": "execute_result"
    }
   ],
   "source": [
    "name = \"Shannon\"\n",
    "job = \"Assistant Teaching Professor\"\n",
    "topic = \"Python\"\n",
    "\n",
    "\"Hello! My name is {}. My job is {}, and I work on {}\".format(name, job, topic)"
   ]
  },
  {
   "cell_type": "markdown",
   "metadata": {
    "slideshow": {
     "slide_type": "slide"
    }
   },
   "source": [
    "## Sets "
   ]
  },
  {
   "cell_type": "markdown",
   "metadata": {
    "slideshow": {
     "slide_type": "fragment"
    }
   },
   "source": [
    "Sets are a variable type that store **only unique entries**."
   ]
  },
  {
   "cell_type": "code",
   "execution_count": 8,
   "metadata": {
    "slideshow": {
     "slide_type": "fragment"
    }
   },
   "outputs": [
    {
     "data": {
      "text/plain": [
       "{1, 2, 3, 4}"
      ]
     },
     "execution_count": 8,
     "metadata": {},
     "output_type": "execute_result"
    }
   ],
   "source": [
    "my_set = set([1, 1, 2, 3, 4])\n",
    "my_set"
   ]
  },
  {
   "cell_type": "markdown",
   "metadata": {
    "slideshow": {
     "slide_type": "fragment"
    }
   },
   "source": [
    "Like lists, they are iterable & mutable."
   ]
  },
  {
   "cell_type": "code",
   "execution_count": 9,
   "metadata": {
    "scrolled": true,
    "slideshow": {
     "slide_type": "fragment"
    }
   },
   "outputs": [
    {
     "data": {
      "text/plain": [
       "{1, 2, 3, 4, 6}"
      ]
     },
     "execution_count": 9,
     "metadata": {},
     "output_type": "execute_result"
    }
   ],
   "source": [
    "my_set.add(6)\n",
    "my_set"
   ]
  },
  {
   "cell_type": "markdown",
   "metadata": {
    "slideshow": {
     "slide_type": "fragment"
    }
   },
   "source": [
    "#### Clicker Question #1\n",
    "\n",
    "How many values would be in the following set?"
   ]
  },
  {
   "cell_type": "code",
   "execution_count": 10,
   "metadata": {
    "slideshow": {
     "slide_type": "fragment"
    }
   },
   "outputs": [
    {
     "data": {
      "text/plain": [
       "{1, 2, 3, 4, 6}"
      ]
     },
     "execution_count": 10,
     "metadata": {},
     "output_type": "execute_result"
    }
   ],
   "source": [
    "clicker_set = set([1, 1, 2, 2, 3, 4])\n",
    "clicker_set.add(6)\n",
    "clicker_set.add(1)\n",
    "clicker_set"
   ]
  },
  {
   "cell_type": "markdown",
   "metadata": {
    "slideshow": {
     "slide_type": "fragment"
    }
   },
   "source": [
    "- A) 0\n",
    "- B) 4\n",
    "- C) 5\n",
    "- D) 6\n",
    "- E) ¯\\\\\\_(ツ)\\_/¯"
   ]
  },
  {
   "cell_type": "markdown",
   "metadata": {
    "slideshow": {
     "slide_type": "notes"
    }
   },
   "source": [
    "Reminder that if you add a value that is already in the set...the set will not change"
   ]
  },
  {
   "cell_type": "markdown",
   "metadata": {
    "slideshow": {
     "slide_type": "slide"
    }
   },
   "source": [
    "## Collections"
   ]
  },
  {
   "cell_type": "markdown",
   "metadata": {
    "slideshow": {
     "slide_type": "fragment"
    }
   },
   "source": [
    "The `collections` module has a number of useful variable types, with special properties. "
   ]
  },
  {
   "cell_type": "markdown",
   "metadata": {
    "slideshow": {
     "slide_type": "fragment"
    }
   },
   "source": [
    "\"Special editions\" of collections we've discussed before (lists, tuples, and dictionaries)."
   ]
  },
  {
   "cell_type": "code",
   "execution_count": 11,
   "metadata": {
    "slideshow": {
     "slide_type": "fragment"
    }
   },
   "outputs": [],
   "source": [
    "from collections import Counter"
   ]
  },
  {
   "cell_type": "code",
   "execution_count": 12,
   "metadata": {
    "slideshow": {
     "slide_type": "fragment"
    }
   },
   "outputs": [
    {
     "data": {
      "text/plain": [
       "Counter({1: 3, 0: 1, 2: 1})"
      ]
     },
     "execution_count": 12,
     "metadata": {},
     "output_type": "execute_result"
    }
   ],
   "source": [
    "# count how many elements there are in collection\n",
    "# return values in a dictionary\n",
    "Counter([1, 0, 1, 2, 1])"
   ]
  },
  {
   "cell_type": "code",
   "execution_count": 13,
   "metadata": {},
   "outputs": [],
   "source": [
    "import collections"
   ]
  },
  {
   "cell_type": "code",
   "execution_count": 14,
   "metadata": {},
   "outputs": [
    {
     "data": {
      "text/plain": [
       "Counter({1: 3, 0: 1, 2: 1})"
      ]
     },
     "execution_count": 14,
     "metadata": {},
     "output_type": "execute_result"
    }
   ],
   "source": [
    "collections.Counter([1, 0, 1, 2, 1])"
   ]
  },
  {
   "cell_type": "code",
   "execution_count": 15,
   "metadata": {
    "slideshow": {
     "slide_type": "fragment"
    }
   },
   "outputs": [
    {
     "data": {
      "text/plain": [
       "Counter({'I': 2,\n",
       "         ' ': 9,\n",
       "         'w': 2,\n",
       "         'o': 2,\n",
       "         'n': 2,\n",
       "         'd': 1,\n",
       "         'e': 7,\n",
       "         'r': 2,\n",
       "         'h': 2,\n",
       "         'm': 2,\n",
       "         'a': 1,\n",
       "         'y': 1,\n",
       "         't': 4,\n",
       "         'i': 1,\n",
       "         's': 2,\n",
       "         'u': 1,\n",
       "         'l': 1,\n",
       "         \"'\": 2})"
      ]
     },
     "execution_count": 15,
     "metadata": {},
     "output_type": "execute_result"
    }
   ],
   "source": [
    "# can count how many of each letter are in there\n",
    "Counter(\"I wonder how many times I use the letter 'e'\")"
   ]
  },
  {
   "cell_type": "markdown",
   "metadata": {
    "slideshow": {
     "slide_type": "fragment"
    }
   },
   "source": [
    "Think back to our encryption scheme! \n",
    "\n",
    "The most common letter in the English language is 'e'.\n",
    "\n",
    "If you just move each letter over by 1 position, you can just use a Counter to crack the code.\n",
    "\n",
    "Why we moved to a variable encoder!"
   ]
  },
  {
   "cell_type": "markdown",
   "metadata": {
    "slideshow": {
     "slide_type": "slide"
    }
   },
   "source": [
    "## `any` & `all`"
   ]
  },
  {
   "cell_type": "markdown",
   "metadata": {
    "slideshow": {
     "slide_type": "fragment"
    }
   },
   "source": [
    "`any` and `all` evaluate collections for whether elements evaluate as True. "
   ]
  },
  {
   "cell_type": "code",
   "execution_count": 16,
   "metadata": {
    "slideshow": {
     "slide_type": "fragment"
    }
   },
   "outputs": [],
   "source": [
    "my_bool_list = [True, False, True]"
   ]
  },
  {
   "cell_type": "code",
   "execution_count": 17,
   "metadata": {
    "slideshow": {
     "slide_type": "fragment"
    }
   },
   "outputs": [
    {
     "data": {
      "text/plain": [
       "True"
      ]
     },
     "execution_count": 17,
     "metadata": {},
     "output_type": "execute_result"
    }
   ],
   "source": [
    "any(my_bool_list)"
   ]
  },
  {
   "cell_type": "code",
   "execution_count": 18,
   "metadata": {
    "scrolled": true,
    "slideshow": {
     "slide_type": "fragment"
    }
   },
   "outputs": [
    {
     "data": {
      "text/plain": [
       "False"
      ]
     },
     "execution_count": 18,
     "metadata": {},
     "output_type": "execute_result"
    }
   ],
   "source": [
    "all(my_bool_list)"
   ]
  },
  {
   "cell_type": "markdown",
   "metadata": {
    "slideshow": {
     "slide_type": "slide"
    }
   },
   "source": [
    "#### Clicker Question #2\n",
    "\n",
    "What would the following return?"
   ]
  },
  {
   "cell_type": "code",
   "execution_count": 19,
   "metadata": {
    "slideshow": {
     "slide_type": "fragment"
    }
   },
   "outputs": [
    {
     "data": {
      "text/plain": [
       "True"
      ]
     },
     "execution_count": 19,
     "metadata": {},
     "output_type": "execute_result"
    }
   ],
   "source": [
    "my_list = [True, True, False, True]\n",
    "any(my_list)"
   ]
  },
  {
   "cell_type": "markdown",
   "metadata": {
    "slideshow": {
     "slide_type": "fragment"
    }
   },
   "source": [
    "- A) `True`\n",
    "- B) `False`\n",
    "- C) `[True, True, True]`\n",
    "- D) `[False]`\n",
    "- E) ¯\\\\\\_(ツ)\\_/¯"
   ]
  },
  {
   "cell_type": "markdown",
   "metadata": {
    "slideshow": {
     "slide_type": "slide"
    }
   },
   "source": [
    "## `getattr` & `setattr`"
   ]
  },
  {
   "cell_type": "markdown",
   "metadata": {
    "slideshow": {
     "slide_type": "fragment"
    }
   },
   "source": [
    "`getattr` and `setattr` can be used to get and set attributes, respectively. "
   ]
  },
  {
   "cell_type": "markdown",
   "metadata": {
    "slideshow": {
     "slide_type": "fragment"
    }
   },
   "source": [
    "Flexibly return and define instance attributes."
   ]
  },
  {
   "cell_type": "code",
   "execution_count": 20,
   "metadata": {
    "slideshow": {
     "slide_type": "fragment"
    }
   },
   "outputs": [],
   "source": [
    "class MyClass():\n",
    "    \n",
    "    def __init__(self):        \n",
    "        self.var_a = 'string'\n",
    "        self.var_b = 12\n",
    "\n",
    "# create instance \n",
    "instance = MyClass()"
   ]
  },
  {
   "cell_type": "code",
   "execution_count": 21,
   "metadata": {
    "slideshow": {
     "slide_type": "fragment"
    }
   },
   "outputs": [
    {
     "data": {
      "text/plain": [
       "'string'"
      ]
     },
     "execution_count": 21,
     "metadata": {},
     "output_type": "execute_result"
    }
   ],
   "source": [
    "instance.var_a"
   ]
  },
  {
   "cell_type": "code",
   "execution_count": 22,
   "metadata": {
    "slideshow": {
     "slide_type": "fragment"
    }
   },
   "outputs": [
    {
     "data": {
      "text/plain": [
       "'string'"
      ]
     },
     "execution_count": 22,
     "metadata": {},
     "output_type": "execute_result"
    }
   ],
   "source": [
    "# Get a specified attribute\n",
    "# define var_a as an input\n",
    "getattr(instance, 'var_a')"
   ]
  },
  {
   "cell_type": "code",
   "execution_count": 23,
   "metadata": {
    "slideshow": {
     "slide_type": "fragment"
    }
   },
   "outputs": [
    {
     "name": "stdout",
     "output_type": "stream",
     "text": [
      "13\n"
     ]
    }
   ],
   "source": [
    "# Set a specified attribute\n",
    "setattr(instance, 'var_b', 13)\n",
    "print(instance.var_b)"
   ]
  },
  {
   "cell_type": "markdown",
   "metadata": {
    "slideshow": {
     "slide_type": "slide"
    }
   },
   "source": [
    "## `args` & `kwargs`\n",
    "\n",
    "- allow you to pass a variable number of arguments to a function\n",
    "    - `*args` - allow any number of extra arguments (including zero)\n",
    "    - `**kwargs` - allow any number of *keyword* arguments to be passed (as a dictionary)"
   ]
  },
  {
   "cell_type": "markdown",
   "metadata": {
    "slideshow": {
     "slide_type": "fragment"
    }
   },
   "source": [
    "### `*args`"
   ]
  },
  {
   "cell_type": "code",
   "execution_count": 29,
   "metadata": {
    "slideshow": {
     "slide_type": "-"
    }
   },
   "outputs": [],
   "source": [
    "# use *arguments to demonstrate args\n",
    "def tell_audience(*arguments):\n",
    "    print(type(arguments))\n",
    "    \n",
    "    for arg in arguments:\n",
    "        print(arg)"
   ]
  },
  {
   "cell_type": "code",
   "execution_count": 30,
   "metadata": {},
   "outputs": [
    {
     "name": "stdout",
     "output_type": "stream",
     "text": [
      "<class 'tuple'>\n",
      "asdf\n"
     ]
    }
   ],
   "source": [
    "tell_audience('asdf')"
   ]
  },
  {
   "cell_type": "code",
   "execution_count": 31,
   "metadata": {
    "scrolled": true,
    "slideshow": {
     "slide_type": "fragment"
    }
   },
   "outputs": [
    {
     "name": "stdout",
     "output_type": "stream",
     "text": [
      "<class 'tuple'>\n",
      "Hello!\n",
      "My name is Shannon.\n",
      "My job is Assistant Teaching Professor.\n"
     ]
    }
   ],
   "source": [
    "tell_audience(\"Hello!\", \n",
    "              \"My name is Shannon.\", \n",
    "              \"My job is Assistant Teaching Professor.\")"
   ]
  },
  {
   "cell_type": "markdown",
   "metadata": {
    "slideshow": {
     "slide_type": "fragment"
    }
   },
   "source": [
    "### `**kwargs`"
   ]
  },
  {
   "cell_type": "code",
   "execution_count": 27,
   "metadata": {
    "slideshow": {
     "slide_type": "-"
    }
   },
   "outputs": [],
   "source": [
    "def tell_audience_kwargs(**info):\n",
    "    print(\"type: \", type(info), '\\n')\n",
    "    \n",
    "    for key, value in info.items():\n",
    "        print(\"key: \", key)\n",
    "        print(\"value: \", value, \"\\n\")"
   ]
  },
  {
   "cell_type": "code",
   "execution_count": 28,
   "metadata": {
    "slideshow": {
     "slide_type": "fragment"
    }
   },
   "outputs": [
    {
     "name": "stdout",
     "output_type": "stream",
     "text": [
      "type:  <class 'dict'> \n",
      "\n",
      "key:  first\n",
      "value:  Shannon \n",
      "\n",
      "key:  last\n",
      "value:  Ellis \n",
      "\n",
      "key:  email\n",
      "value:  sellis@ucsd.edu \n",
      "\n"
     ]
    }
   ],
   "source": [
    "tell_audience_kwargs(first='Shannon', \n",
    "                     last='Ellis', \n",
    "                     email='sellis@ucsd.edu')"
   ]
  },
  {
   "cell_type": "markdown",
   "metadata": {
    "slideshow": {
     "slide_type": "slide"
    }
   },
   "source": [
    "## List Comprehensions"
   ]
  },
  {
   "cell_type": "markdown",
   "metadata": {
    "collapsed": true,
    "slideshow": {
     "slide_type": "fragment"
    }
   },
   "source": [
    "List comprehensions allow you to run loops and conditionals, *inside lists*."
   ]
  },
  {
   "cell_type": "markdown",
   "metadata": {},
   "source": [
    "The general format is :\n",
    "\n",
    "`[ expression for item in list if conditional ]`\n"
   ]
  },
  {
   "cell_type": "code",
   "execution_count": 32,
   "metadata": {
    "slideshow": {
     "slide_type": "fragment"
    }
   },
   "outputs": [
    {
     "data": {
      "text/plain": [
       "[1, 2, 3]"
      ]
     },
     "execution_count": 32,
     "metadata": {},
     "output_type": "execute_result"
    }
   ],
   "source": [
    "# NOT a list comprehension\n",
    "# how we've been doing it\n",
    "input_list = [0, 1, 2]\n",
    "output_list = []\n",
    "\n",
    "for ind in input_list:\n",
    "    output_list.append(ind + 1)\n",
    "    \n",
    "# look at output\n",
    "output_list"
   ]
  },
  {
   "cell_type": "code",
   "execution_count": 33,
   "metadata": {
    "slideshow": {
     "slide_type": "fragment"
    }
   },
   "outputs": [
    {
     "data": {
      "text/plain": [
       "[1, 2, 3]"
      ]
     },
     "execution_count": 33,
     "metadata": {},
     "output_type": "execute_result"
    }
   ],
   "source": [
    "# This list comprehension is equivalent to the cell above\n",
    "# note the square brackets on the outside\n",
    "[ind + 1 for ind in [0, 1, 2]]"
   ]
  },
  {
   "cell_type": "code",
   "execution_count": 34,
   "metadata": {
    "slideshow": {
     "slide_type": "fragment"
    }
   },
   "outputs": [],
   "source": [
    "# You can also include conditionals inside a list comprehension\n",
    "my_list = [1, 2, 3, 4, 5]\n",
    "my_list2 = [val for val in my_list if val % 2 == 0]"
   ]
  },
  {
   "cell_type": "code",
   "execution_count": 35,
   "metadata": {
    "slideshow": {
     "slide_type": "fragment"
    }
   },
   "outputs": [
    {
     "name": "stdout",
     "output_type": "stream",
     "text": [
      "[1, 2, 3, 4, 5]\n",
      "[2, 4]\n"
     ]
    }
   ],
   "source": [
    "print(my_list)\n",
    "print(my_list2)"
   ]
  },
  {
   "cell_type": "markdown",
   "metadata": {
    "slideshow": {
     "slide_type": "slide"
    }
   },
   "source": [
    "#### Clicker Question #3\n",
    "\n",
    "What would the following return?"
   ]
  },
  {
   "cell_type": "code",
   "execution_count": null,
   "metadata": {
    "slideshow": {
     "slide_type": "fragment"
    }
   },
   "outputs": [],
   "source": [
    "list1 = [3, 4, 5]\n",
    "multiplied = [item * 3 for item in list1] \n",
    "multiplied"
   ]
  },
  {
   "cell_type": "markdown",
   "metadata": {
    "slideshow": {
     "slide_type": "fragment"
    }
   },
   "source": [
    "- A) `True`\n",
    "- B) `False`\n",
    "- C) `[9, 12, 15]`\n",
    "- D) `15`\n",
    "- E) ¯\\\\\\_(ツ)\\_/¯"
   ]
  },
  {
   "cell_type": "markdown",
   "metadata": {
    "slideshow": {
     "slide_type": "fragment"
    }
   },
   "source": [
    "Note: there are also tuple & dictionary comprehensions. They're just used less frequently."
   ]
  },
  {
   "cell_type": "markdown",
   "metadata": {
    "slideshow": {
     "slide_type": "slide"
    }
   },
   "source": [
    "## Regular Expressions"
   ]
  },
  {
   "cell_type": "markdown",
   "metadata": {
    "slideshow": {
     "slide_type": "fragment"
    }
   },
   "source": [
    "Regular expressions allow you to work with **specified patterns in strings**."
   ]
  },
  {
   "cell_type": "code",
   "execution_count": null,
   "metadata": {
    "slideshow": {
     "slide_type": "fragment"
    }
   },
   "outputs": [],
   "source": [
    "import re"
   ]
  },
  {
   "cell_type": "code",
   "execution_count": null,
   "metadata": {
    "slideshow": {
     "slide_type": "fragment"
    }
   },
   "outputs": [],
   "source": [
    "my_string = \"If 12 Python programmers try to complete 14 tasks in 16 minutes, why?\""
   ]
  },
  {
   "cell_type": "code",
   "execution_count": null,
   "metadata": {
    "slideshow": {
     "slide_type": "fragment"
    }
   },
   "outputs": [],
   "source": [
    "# can just search for a letter\n",
    "re.findall('o', my_string)"
   ]
  },
  {
   "cell_type": "code",
   "execution_count": null,
   "metadata": {
    "slideshow": {
     "slide_type": "fragment"
    }
   },
   "outputs": [],
   "source": [
    "# but the patterns are where these shine\n",
    "re.findall('\\d\\d', my_string)"
   ]
  },
  {
   "cell_type": "markdown",
   "metadata": {
    "slideshow": {
     "slide_type": "slide"
    }
   },
   "source": [
    "## filter"
   ]
  },
  {
   "cell_type": "markdown",
   "metadata": {
    "slideshow": {
     "slide_type": "fragment"
    }
   },
   "source": [
    "`filter` is a function that takes in another function, and a collection object, and **filters the collection with the function**. "
   ]
  },
  {
   "cell_type": "code",
   "execution_count": null,
   "metadata": {
    "slideshow": {
     "slide_type": "fragment"
    }
   },
   "outputs": [],
   "source": [
    "def is_bool(val):\n",
    "    if isinstance(val, bool):\n",
    "        return True\n",
    "    else:\n",
    "        return False"
   ]
  },
  {
   "cell_type": "code",
   "execution_count": null,
   "metadata": {},
   "outputs": [],
   "source": [
    "#filter?"
   ]
  },
  {
   "cell_type": "code",
   "execution_count": null,
   "metadata": {},
   "outputs": [],
   "source": [
    "out = []\n",
    "\n",
    "for val in [1, False, 's', True]:\n",
    "    out.append(is_bool(val))\n",
    "\n",
    "out"
   ]
  },
  {
   "cell_type": "code",
   "execution_count": null,
   "metadata": {
    "slideshow": {
     "slide_type": "fragment"
    }
   },
   "outputs": [],
   "source": [
    "# apply function to every element of list\n",
    "# function to apply is first input to filter\n",
    "list(filter(is_bool, [1, False, 's', True]))"
   ]
  },
  {
   "cell_type": "markdown",
   "metadata": {
    "slideshow": {
     "slide_type": "slide"
    }
   },
   "source": [
    "## Lambda Functions"
   ]
  },
  {
   "cell_type": "markdown",
   "metadata": {
    "slideshow": {
     "slide_type": "fragment"
    }
   },
   "source": [
    "Lambda functions are small, anonymous functions. \n",
    "\n",
    "Can define them in line."
   ]
  },
  {
   "cell_type": "code",
   "execution_count": null,
   "metadata": {
    "slideshow": {
     "slide_type": "fragment"
    }
   },
   "outputs": [],
   "source": [
    "increment = lambda a: a + 1"
   ]
  },
  {
   "cell_type": "code",
   "execution_count": null,
   "metadata": {
    "slideshow": {
     "slide_type": "fragment"
    }
   },
   "outputs": [],
   "source": [
    "increment(1)"
   ]
  },
  {
   "cell_type": "code",
   "execution_count": null,
   "metadata": {
    "slideshow": {
     "slide_type": "fragment"
    }
   },
   "outputs": [],
   "source": [
    "# not a lambda function\n",
    "def lambda_equivalent(a):\n",
    "    \n",
    "    output = a + 1\n",
    "    \n",
    "    return output"
   ]
  },
  {
   "cell_type": "code",
   "execution_count": null,
   "metadata": {
    "scrolled": true,
    "slideshow": {
     "slide_type": "fragment"
    }
   },
   "outputs": [],
   "source": [
    "lambda_equivalent(1)"
   ]
  },
  {
   "cell_type": "markdown",
   "metadata": {
    "slideshow": {
     "slide_type": "slide"
    }
   },
   "source": [
    "#### Clicker Question #4\n",
    "\n",
    "What would the following return?"
   ]
  },
  {
   "cell_type": "code",
   "execution_count": null,
   "metadata": {
    "slideshow": {
     "slide_type": "fragment"
    }
   },
   "outputs": [],
   "source": [
    "my_list = [1, 5, 4, 6, 8, 11, 3, 12]\n",
    "new_list = list(filter(lambda x: (x%2 == 0), my_list))\n",
    "new_list"
   ]
  },
  {
   "cell_type": "markdown",
   "metadata": {
    "slideshow": {
     "slide_type": "fragment"
    }
   },
   "source": [
    "- A) `[1, 5, 11, 3]`\n",
    "- B) `[1, 3, 5, 11]`\n",
    "- C) `[4, 6, 8, 12]`\n",
    "- D) `[1, 5, 4, 6, 8, 11, 3, 12]`\n",
    "- E) ¯\\\\\\_(ツ)\\_/¯"
   ]
  },
  {
   "cell_type": "markdown",
   "metadata": {
    "slideshow": {
     "slide_type": "slide"
    }
   },
   "source": [
    "## map"
   ]
  },
  {
   "cell_type": "markdown",
   "metadata": {
    "slideshow": {
     "slide_type": "fragment"
    }
   },
   "source": [
    "`map` applies a given function to each element in a collection. "
   ]
  },
  {
   "cell_type": "code",
   "execution_count": null,
   "metadata": {
    "slideshow": {
     "slide_type": "fragment"
    }
   },
   "outputs": [],
   "source": [
    "# create a function\n",
    "def double(val):\n",
    "    return val * 2"
   ]
  },
  {
   "cell_type": "code",
   "execution_count": null,
   "metadata": {
    "slideshow": {
     "slide_type": "fragment"
    }
   },
   "outputs": [],
   "source": [
    "# map function to each element of list\n",
    "my_list = [1, 2, 3, 4]\n",
    "list(map(double, my_list))"
   ]
  },
  {
   "cell_type": "code",
   "execution_count": null,
   "metadata": {
    "slideshow": {
     "slide_type": "fragment"
    }
   },
   "outputs": [],
   "source": [
    "# Note - we can use lambda functions with map\n",
    "list(map(lambda x: x *2, my_list))"
   ]
  },
  {
   "cell_type": "markdown",
   "metadata": {
    "slideshow": {
     "slide_type": "slide"
    }
   },
   "source": [
    "## Conditional Assignment"
   ]
  },
  {
   "cell_type": "markdown",
   "metadata": {
    "slideshow": {
     "slide_type": "fragment"
    }
   },
   "source": [
    "You can use a conditional within an assignment, to manipulate what gets assigned given some condition. "
   ]
  },
  {
   "cell_type": "code",
   "execution_count": null,
   "metadata": {
    "slideshow": {
     "slide_type": "fragment"
    }
   },
   "outputs": [],
   "source": [
    "# variable assignment\n",
    "condition = False\n",
    "my_var = 1 if condition else 2"
   ]
  },
  {
   "cell_type": "code",
   "execution_count": null,
   "metadata": {
    "scrolled": true,
    "slideshow": {
     "slide_type": "fragment"
    }
   },
   "outputs": [],
   "source": [
    "print(my_var)"
   ]
  },
  {
   "cell_type": "markdown",
   "metadata": {
    "slideshow": {
     "slide_type": "slide"
    }
   },
   "source": [
    "## Unpacking"
   ]
  },
  {
   "cell_type": "markdown",
   "metadata": {
    "slideshow": {
     "slide_type": "fragment"
    }
   },
   "source": [
    "You can unpack collection objects with `*`, and key, value pairs with `**`. "
   ]
  },
  {
   "cell_type": "code",
   "execution_count": null,
   "metadata": {
    "slideshow": {
     "slide_type": "fragment"
    }
   },
   "outputs": [],
   "source": [
    "def my_func(xx, yy, zz):\n",
    "    print(xx, yy, zz)"
   ]
  },
  {
   "cell_type": "code",
   "execution_count": null,
   "metadata": {
    "slideshow": {
     "slide_type": "fragment"
    }
   },
   "outputs": [],
   "source": [
    "# create list\n",
    "my_list = [1, 2, 3]"
   ]
  },
  {
   "cell_type": "code",
   "execution_count": null,
   "metadata": {
    "slideshow": {
     "slide_type": "fragment"
    }
   },
   "outputs": [],
   "source": [
    "# this will error\n",
    "my_func(my_list)"
   ]
  },
  {
   "cell_type": "code",
   "execution_count": null,
   "metadata": {
    "slideshow": {
     "slide_type": "fragment"
    }
   },
   "outputs": [],
   "source": [
    "# unpack the list\n",
    "my_func(*my_list)"
   ]
  },
  {
   "cell_type": "code",
   "execution_count": null,
   "metadata": {
    "slideshow": {
     "slide_type": "fragment"
    }
   },
   "outputs": [],
   "source": [
    "# create dictionary\n",
    "my_dict = {'xx' : 1, 'yy' : 2, 'zz' : 3}"
   ]
  },
  {
   "cell_type": "code",
   "execution_count": null,
   "metadata": {
    "slideshow": {
     "slide_type": "fragment"
    }
   },
   "outputs": [],
   "source": [
    "# unpack the dictionary\n",
    "my_func(**my_dict)"
   ]
  },
  {
   "cell_type": "markdown",
   "metadata": {
    "slideshow": {
     "slide_type": "slide"
    }
   },
   "source": [
    "## Application Programming Interface"
   ]
  },
  {
   "cell_type": "markdown",
   "metadata": {
    "slideshow": {
     "slide_type": "fragment"
    }
   },
   "source": [
    "<div class=\"alert alert-success\">\n",
    "An <b>API</b> is a programmatic interface to an application - a software to software interface, or way for programs to talk to other programs. \n",
    "</div>"
   ]
  },
  {
   "cell_type": "markdown",
   "metadata": {
    "slideshow": {
     "slide_type": "fragment"
    }
   },
   "source": [
    "If you are pointing and clicking on computer applications, that is _not_ an API.\n",
    "\n",
    "If you are writing code to interact with software and get information, that _IS_ an API."
   ]
  },
  {
   "cell_type": "markdown",
   "metadata": {
    "slideshow": {
     "slide_type": "slide"
    }
   },
   "source": [
    "### Module APIs"
   ]
  },
  {
   "cell_type": "markdown",
   "metadata": {
    "slideshow": {
     "slide_type": "fragment"
    }
   },
   "source": [
    "Modules have an API. Every time you write or use a set of functions and/or classes, you are writing or using an API. "
   ]
  },
  {
   "cell_type": "markdown",
   "metadata": {
    "slideshow": {
     "slide_type": "slide"
    }
   },
   "source": [
    "### Web APIs"
   ]
  },
  {
   "cell_type": "markdown",
   "metadata": {
    "slideshow": {
     "slide_type": "fragment"
    }
   },
   "source": [
    "APIs are an interface to interact with an application, _designed for programmatic use_ :\n",
    "- They allow systematic, controlled access to (for example) an applications database and procedures\n",
    "- They can be used to request data and/or to request that the the application perform some procedure"
   ]
  },
  {
   "cell_type": "markdown",
   "metadata": {
    "slideshow": {
     "slide_type": "slide"
    }
   },
   "source": [
    "### RESTful API\n",
    "\n",
    "(Representational State Transfer API) \n",
    "\n",
    "An approach to interact with web addresses"
   ]
  },
  {
   "cell_type": "markdown",
   "metadata": {
    "slideshow": {
     "slide_type": "slide"
    }
   },
   "source": [
    "## Twitter API"
   ]
  },
  {
   "cell_type": "code",
   "execution_count": null,
   "metadata": {
    "scrolled": true,
    "slideshow": {
     "slide_type": "notes"
    }
   },
   "outputs": [],
   "source": [
    "# to use this on your computer\n",
    "# uncomment and run following line\n",
    "!pip install tweepy"
   ]
  },
  {
   "cell_type": "markdown",
   "metadata": {
    "slideshow": {
     "slide_type": "notes"
    }
   },
   "source": [
    "Then, follow the instructions [here](https://www.digitalocean.com/community/tutorials/how-to-authenticate-a-python-application-with-twitter-using-tweepy-on-ubuntu-14-04) for authetication of tweepy with Python."
   ]
  },
  {
   "cell_type": "code",
   "execution_count": null,
   "metadata": {
    "scrolled": true,
    "slideshow": {
     "slide_type": "fragment"
    }
   },
   "outputs": [],
   "source": [
    "# Accessing Twitter API from Python\n",
    "#  Note: to run this, you will have to fill in stw.py with your OAuth credentials.\n",
    "#    You can do that here: https://apps.twitter.com/\n",
    "\n",
    "# Import tweepy to access API\n",
    "import tweepy\n",
    "from tweepy import OAuthHandler\n",
    "\n",
    "# Import my API credentials\n",
    "from stw import *\n",
    "\n",
    "# Twitter API requires Authentification with OAuth\n",
    "auth = OAuthHandler(CONSUMER_KEY, CONSUMER_SECRET)\n",
    "auth.set_access_token(ACCESS_TOKEN, ACCESS_TOKEN_SECRET)\n",
    "\n",
    "# # Create an API object to access Twitter\n",
    "api = tweepy.API(auth)\n",
    "\n",
    "for status in tweepy.Cursor(api.home_timeline).items(3):\n",
    "    # Process a single status\n",
    "    print(status.user.name)\n",
    "    print(status.text, '\\n')"
   ]
  },
  {
   "cell_type": "markdown",
   "metadata": {
    "slideshow": {
     "slide_type": "slide"
    }
   },
   "source": [
    "## Overloading Operators"
   ]
  },
  {
   "cell_type": "markdown",
   "metadata": {
    "slideshow": {
     "slide_type": "fragment"
    }
   },
   "source": [
    "In other words: Nothing in Python is sacred."
   ]
  },
  {
   "cell_type": "markdown",
   "metadata": {
    "slideshow": {
     "slide_type": "fragment"
    }
   },
   "source": [
    "Operators and special operations for objects are defined by double underscore methods, which we can overload to change how the object acts. "
   ]
  },
  {
   "cell_type": "code",
   "execution_count": null,
   "metadata": {
    "slideshow": {
     "slide_type": "fragment"
    }
   },
   "outputs": [],
   "source": [
    "class Language():\n",
    "    \n",
    "    def __init__(self, name):\n",
    "        self.name = name.lower()\n",
    "    \n",
    "    # Overload what the printed representation of the object as a string\n",
    "    def __repr__(self):\n",
    "        return \"The programming language \" + self.name\n",
    "    \n",
    "    # Overload the greater than symbol\n",
    "    def __gt__(self, other):\n",
    "        return True if self.name == 'python' else False"
   ]
  },
  {
   "cell_type": "markdown",
   "metadata": {
    "slideshow": {
     "slide_type": "notes"
    }
   },
   "source": [
    "Note: \"dunder\" is how we refer to those double underscore methods"
   ]
  },
  {
   "cell_type": "code",
   "execution_count": null,
   "metadata": {
    "slideshow": {
     "slide_type": "fragment"
    }
   },
   "outputs": [],
   "source": [
    "python = Language('python')\n",
    "perl = Language('perl')"
   ]
  },
  {
   "cell_type": "code",
   "execution_count": null,
   "metadata": {
    "slideshow": {
     "slide_type": "fragment"
    }
   },
   "outputs": [],
   "source": [
    "print(python)"
   ]
  },
  {
   "cell_type": "code",
   "execution_count": null,
   "metadata": {
    "slideshow": {
     "slide_type": "fragment"
    }
   },
   "outputs": [],
   "source": [
    "python > perl"
   ]
  }
 ],
 "metadata": {
  "celltoolbar": "Slideshow",
  "kernelspec": {
   "display_name": "Python 3",
   "language": "python",
   "name": "python3"
  },
  "language_info": {
   "codemirror_mode": {
    "name": "ipython",
    "version": 3
   },
   "file_extension": ".py",
   "mimetype": "text/x-python",
   "name": "python",
   "nbconvert_exporter": "python",
   "pygments_lexer": "ipython3",
   "version": "3.9.5"
  },
  "rise": {
   "scroll": true
  }
 },
 "nbformat": 4,
 "nbformat_minor": 2
}
