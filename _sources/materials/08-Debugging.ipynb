{
 "cells": [
  {
   "cell_type": "markdown",
   "metadata": {
    "slideshow": {
     "slide_type": "slide"
    }
   },
   "source": [
    "**Course Announcements**\n",
    "\n",
    "Due Dates:\n",
    "- **E1** (midterm) due Sun 1/30 11:59 PM\n",
    "- **A2** due Mon 1/31 (11:59 PM)\n",
    "\n",
    "Notes: \n",
    "- **E1** is now available\n",
    "- **Updates for what is in person next week!** (Look at Canvas homepage)\n",
    "    - Lecture: Zoom\n",
    "    - Coding Lab: Some Zoom; Some In-Person\n",
    "    - Office Hours: Some Zoom; Some In-Person"
   ]
  },
  {
   "cell_type": "markdown",
   "metadata": {
    "slideshow": {
     "slide_type": "notes"
    }
   },
   "source": [
    "**Q&A**\n",
    "\n",
    "Q: What is the point of ord and chr? I didn't really understand how it's applicable to class.  \n",
    "A: Take a look at A2 (and we'll see it again on A3) - it's a way to encrypt and decrypt messages.\n",
    "\n",
    "Q: Can numbers be characters inputted to ord?  \n",
    "A: I'm not 100% sure I understand the question, but `ord()` will only accept integer values as input.\n",
    "\n",
    "Q: how would we approach a string with multiple characters? so that would be several unicodes?   \n",
    "A: Excellent question! Loops! We start these on Monday! And, you'll get to use them on A3. \n",
    "\n",
    "Q: is unicode like the official way of indexing a list (e.g., list of letters in the alphabet)? so the unicode values are official? (e.g., 'a' will always return 97)  \n",
    "A: 'a' *will* always return 97...but that is separate from indexing into a list. Think of unicode more like a dictionary, where 'a' is the key and 97 is its value - they are \"linked\" to one another.\n",
    "\n",
    "Q: What is the purpose of unicode if we do not ever have to learn which letter corresponds to which number?  \n",
    "A: Take a look at A2 ...and eventually A3 to see how we can utilize in our code to accomplish a task!\n",
    "\n",
    "Q: it seems like i get the concepts separately but when asked to utilize all the stuff we learned under one function I blank. Could we maybe do problems like these at the end of lecture to test our knowledge? Because it seems like these are the questions we are getting on assignments and exams   \n",
    "A: Yup - I will work to incorporate more of these into lecture going forward. But, I also do want you to be able to do things on homework that puts concepts together. So, I'll try to make the jump from lecture to assignments smaller, but I won't make it go away completely b/c there is a lot of learning that happens when you have to combine concepts.\n",
    "\n",
    "Q: What would happen if we don't understand the question? Are we allowed to email you or the TA for clarification?  \n",
    "A: On the exam no, you'll have to do your best to interpret the question as is. If you're unsure, feel free to explain how you interpreted the question.\n",
    "\n",
    "Q: One question I have is what does this do; my_lst[1::2]  (the :: ).  \n",
    "A: The :: indicates there is no stop value, so go from the 1 index to the end of the list (b/c there is no stop)\n",
    "\n",
    "Q: we can submit as twice as we want as long as it is before deadline, right?  \n",
    "A: I'm assuming you mean for the exam and yes, you can submit as  many times as you want before the deadline. We'll use your last submission.\n",
    "\n",
    "Q: What has the average grade been for previous E1's?  \n",
    "A: ~85%\n",
    "\n",
    "Q: How does unicode assign numbers?  \n",
    "A: These rules are actually established by a group that monitors/updates unicde rules. See more [here](https://en.wikipedia.org/wiki/Unicode). \n",
    "\n",
    "Q: curious about how difficult exam 1 will be compared to practice exam  \n",
    "A: Should be similar overall. My feeling (and one TA's feelings) is that Q1-9 are a bit easier than prevoius quarters/the practice exam, but Q10 is harder.\n",
    "\n",
    "Q: Will Aliases be tested on any other exams?  \n",
    "A: You'll need to understand them, yes.\n",
    "\n",
    "Q: The main thing I am still questioning is the rules when it comes to if, elif, and else. Which is ruled first?  \n",
    "A: The if is checked, then the elif, and the else finally.\n",
    "\n",
    "Q: Can you further explain Exam 1 logistics? There's a 24 hour window to submit but we can have multiple days to work on it?  \n",
    "A: There's a *greater* than 24 hour window. The syllabus says I'll give at least 24 hours. B/c I know some people are traveling back to campus this weekend and busy with other midterms/life, I decided to give way more than 24h this time. You can start whenever you want. You can work on it as much as you want. It just must be submitted by Sunday night.\n",
    "\n",
    "Q: I am struggling to understand how to properly write code to calculate the total number of components there are in a list.   \n",
    "A: Take a look at the collections notes for a function that can help you do this.\n",
    "\n",
    "Q: Is there a comprehensive set of notes that we can refer to when struggling with remembering the proper code style?  \n",
    "A: Good idea! I'll try to pull something together and share! There is an [official guide](https://www.python.org/dev/peps/pep-0008/) but it goes way beyond what we've discussed so far."
   ]
  },
  {
   "cell_type": "markdown",
   "metadata": {
    "collapsed": true,
    "slideshow": {
     "slide_type": "slide"
    }
   },
   "source": [
    "# Debugging\n",
    "\n",
    "- Errors\n",
    "    - Syntax\n",
    "    - Exceptions\n",
    "- Debugging Process\n",
    "    - Stack trace\n",
    "    - Using outside resources\n",
    "- `try`/`except`"
   ]
  },
  {
   "cell_type": "markdown",
   "metadata": {
    "slideshow": {
     "slide_type": "-"
    }
   },
   "source": [
    "<div class=\"alert alert-success\">\n",
    "Debugging is the process of finding and fixing errors in a computer program.\n",
    "</div>"
   ]
  },
  {
   "cell_type": "markdown",
   "metadata": {
    "slideshow": {
     "slide_type": "slide"
    }
   },
   "source": [
    "## Errors"
   ]
  },
  {
   "cell_type": "markdown",
   "metadata": {
    "slideshow": {
     "slide_type": "-"
    }
   },
   "source": [
    "<div class=\"alert alert-success\">\n",
    "Errors are problems with code definition or execution that interrupt running Python code.\n",
    "</div>"
   ]
  },
  {
   "cell_type": "markdown",
   "metadata": {
    "slideshow": {
     "slide_type": "slide"
    }
   },
   "source": [
    "### Syntax Errors\n",
    "\n",
    "- Syntax Errors\n",
    "- Indentation Errors"
   ]
  },
  {
   "cell_type": "markdown",
   "metadata": {
    "slideshow": {
     "slide_type": "-"
    }
   },
   "source": [
    "<div class=\"alert alert-success\">\n",
    "Syntax & Indentation Errors reflect code that doesn't follow Python structure, and will necessarily fail. \n",
    "</div>"
   ]
  },
  {
   "cell_type": "markdown",
   "metadata": {
    "slideshow": {
     "slide_type": "slide"
    }
   },
   "source": [
    "### Syntax Error Examples"
   ]
  },
  {
   "cell_type": "code",
   "execution_count": 3,
   "metadata": {
    "slideshow": {
     "slide_type": "-"
    }
   },
   "outputs": [
    {
     "ename": "SyntaxError",
     "evalue": "invalid syntax (<ipython-input-3-dfda8e0f217c>, line 2)",
     "output_type": "error",
     "traceback": [
      "\u001b[0;36m  File \u001b[0;32m\"<ipython-input-3-dfda8e0f217c>\"\u001b[0;36m, line \u001b[0;32m2\u001b[0m\n\u001b[0;31m    if True\u001b[0m\n\u001b[0m           ^\u001b[0m\n\u001b[0;31mSyntaxError\u001b[0m\u001b[0;31m:\u001b[0m invalid syntax\n"
     ]
    }
   ],
   "source": [
    "# will produce a syntax error\n",
    "if True\n",
    "    print('Yep.')"
   ]
  },
  {
   "cell_type": "markdown",
   "metadata": {
    "slideshow": {
     "slide_type": "-"
    }
   },
   "source": [
    "Python does its best to tell you:\n",
    "- what type of error it is\n",
    "- and where it _thinks_ it occurred (`^`)"
   ]
  },
  {
   "cell_type": "code",
   "execution_count": 14,
   "metadata": {
    "slideshow": {
     "slide_type": "fragment"
    }
   },
   "outputs": [
    {
     "ename": "IndentationError",
     "evalue": "expected an indented block (<ipython-input-14-f50cd2dca413>, line 4)",
     "output_type": "error",
     "traceback": [
      "\u001b[0;36m  File \u001b[0;32m\"<ipython-input-14-f50cd2dca413>\"\u001b[0;36m, line \u001b[0;32m4\u001b[0m\n\u001b[0;31m    print(value)\u001b[0m\n\u001b[0m    ^\u001b[0m\n\u001b[0;31mIndentationError\u001b[0m\u001b[0;31m:\u001b[0m expected an indented block\n"
     ]
    }
   ],
   "source": [
    "# will produce a syntax error\n",
    "# and specifically an indentation error\n",
    "if 3 < 5:\n",
    "print(value)"
   ]
  },
  {
   "cell_type": "markdown",
   "metadata": {
    "slideshow": {
     "slide_type": "-"
    }
   },
   "source": [
    "Python gives you a readout about what it was expecting and where you appear to have gone wrong."
   ]
  },
  {
   "cell_type": "markdown",
   "metadata": {
    "collapsed": true,
    "slideshow": {
     "slide_type": "slide"
    }
   },
   "source": [
    "## Exceptions\n",
    "\n",
    "<div class=\"alert alert-success\">\n",
    "Exceptions are errors that occur when a code is executed.\n",
    "</div>"
   ]
  },
  {
   "cell_type": "markdown",
   "metadata": {
    "slideshow": {
     "slide_type": "-"
    }
   },
   "source": [
    "For these, there's nothing wrong with the _syntax_ or _structure_ of the code, but in your specific case and how you're trying to use it, Python says 'no'."
   ]
  },
  {
   "cell_type": "markdown",
   "metadata": {
    "slideshow": {
     "slide_type": "slide"
    }
   },
   "source": [
    "### ZeroDivisionError\n",
    "\n",
    "ZeroDivisionError occurs when you try to divide by zero. "
   ]
  },
  {
   "cell_type": "code",
   "execution_count": 7,
   "metadata": {
    "scrolled": true,
    "slideshow": {
     "slide_type": "-"
    }
   },
   "outputs": [
    {
     "ename": "ZeroDivisionError",
     "evalue": "division by zero",
     "output_type": "error",
     "traceback": [
      "\u001b[0;31m---------------------------------------------------------------------------\u001b[0m",
      "\u001b[0;31mZeroDivisionError\u001b[0m                         Traceback (most recent call last)",
      "\u001b[0;32m<ipython-input-7-79e900a17bd3>\u001b[0m in \u001b[0;36m<module>\u001b[0;34m\u001b[0m\n\u001b[1;32m      1\u001b[0m \u001b[0;31m# produces ZeroDivisionError\u001b[0m\u001b[0;34m\u001b[0m\u001b[0;34m\u001b[0m\u001b[0;34m\u001b[0m\u001b[0m\n\u001b[0;32m----> 2\u001b[0;31m \u001b[0;36m1\u001b[0m \u001b[0;34m/\u001b[0m \u001b[0;36m0\u001b[0m\u001b[0;34m\u001b[0m\u001b[0;34m\u001b[0m\u001b[0m\n\u001b[0m",
      "\u001b[0;31mZeroDivisionError\u001b[0m: division by zero"
     ]
    }
   ],
   "source": [
    "# produces ZeroDivisionError\n",
    "1 / 0"
   ]
  },
  {
   "cell_type": "markdown",
   "metadata": {
    "slideshow": {
     "slide_type": "-"
    }
   },
   "source": [
    "Python specifies:\n",
    "- the Exception and specific type / error\n",
    "- points you to where the error occurred"
   ]
  },
  {
   "cell_type": "markdown",
   "metadata": {
    "slideshow": {
     "slide_type": "slide"
    }
   },
   "source": [
    "### NameError\n",
    "\n",
    "NameError occurs when you try to access a name that Python does not know."
   ]
  },
  {
   "cell_type": "code",
   "execution_count": 8,
   "metadata": {
    "slideshow": {
     "slide_type": "-"
    }
   },
   "outputs": [],
   "source": [
    "# Define a variable\n",
    "variable = 12"
   ]
  },
  {
   "cell_type": "code",
   "execution_count": 9,
   "metadata": {
    "scrolled": false,
    "slideshow": {
     "slide_type": "-"
    }
   },
   "outputs": [
    {
     "ename": "NameError",
     "evalue": "name 'varaible' is not defined",
     "output_type": "error",
     "traceback": [
      "\u001b[0;31m---------------------------------------------------------------------------\u001b[0m",
      "\u001b[0;31mNameError\u001b[0m                                 Traceback (most recent call last)",
      "\u001b[0;32m<ipython-input-9-4acade15292f>\u001b[0m in \u001b[0;36m<module>\u001b[0;34m\u001b[0m\n\u001b[1;32m      1\u001b[0m \u001b[0;31m# If you typo a name, you will get a NameError\u001b[0m\u001b[0;34m\u001b[0m\u001b[0;34m\u001b[0m\u001b[0;34m\u001b[0m\u001b[0m\n\u001b[0;32m----> 2\u001b[0;31m \u001b[0mvaraible\u001b[0m\u001b[0;34m\u001b[0m\u001b[0;34m\u001b[0m\u001b[0m\n\u001b[0m",
      "\u001b[0;31mNameError\u001b[0m: name 'varaible' is not defined"
     ]
    }
   ],
   "source": [
    "# If you typo a name, you will get a NameError\n",
    "varaible"
   ]
  },
  {
   "cell_type": "markdown",
   "metadata": {
    "slideshow": {
     "slide_type": "-"
    }
   },
   "source": [
    "While it's annoying, it's helpful that Python doesn't just _guess_ that you _meant_ 'variable'....because sometimes Python would guess wrong. It's better for Python to just give us the error."
   ]
  },
  {
   "cell_type": "code",
   "execution_count": 10,
   "metadata": {
    "scrolled": true,
    "slideshow": {
     "slide_type": "fragment"
    }
   },
   "outputs": [
    {
     "ename": "NameError",
     "evalue": "name 'new_variable' is not defined",
     "output_type": "error",
     "traceback": [
      "\u001b[0;31m---------------------------------------------------------------------------\u001b[0m",
      "\u001b[0;31mNameError\u001b[0m                                 Traceback (most recent call last)",
      "\u001b[0;32m<ipython-input-10-4f05423dede6>\u001b[0m in \u001b[0;36m<module>\u001b[0;34m\u001b[0m\n\u001b[1;32m      1\u001b[0m \u001b[0;31m# You also get a name error if you try to use the wrong operator for assignment\u001b[0m\u001b[0;34m\u001b[0m\u001b[0;34m\u001b[0m\u001b[0;34m\u001b[0m\u001b[0m\n\u001b[0;32m----> 2\u001b[0;31m \u001b[0mnew_variable\u001b[0m \u001b[0;34m==\u001b[0m \u001b[0;36m1\u001b[0m\u001b[0;34m\u001b[0m\u001b[0;34m\u001b[0m\u001b[0m\n\u001b[0m",
      "\u001b[0;31mNameError\u001b[0m: name 'new_variable' is not defined"
     ]
    }
   ],
   "source": [
    "# You also get a name error if you try to use the wrong operator for assignment\n",
    "new_variable == 1"
   ]
  },
  {
   "cell_type": "markdown",
   "metadata": {
    "slideshow": {
     "slide_type": "slide"
    }
   },
   "source": [
    "### IndexError\n",
    "\n",
    "IndexError occurs when you try to access an index that doesn't exist."
   ]
  },
  {
   "cell_type": "code",
   "execution_count": 11,
   "metadata": {
    "scrolled": true,
    "slideshow": {
     "slide_type": "-"
    }
   },
   "outputs": [
    {
     "ename": "IndexError",
     "evalue": "string index out of range",
     "output_type": "error",
     "traceback": [
      "\u001b[0;31m---------------------------------------------------------------------------\u001b[0m",
      "\u001b[0;31mIndexError\u001b[0m                                Traceback (most recent call last)",
      "\u001b[0;32m<ipython-input-11-562cc9d58aa8>\u001b[0m in \u001b[0;36m<module>\u001b[0;34m\u001b[0m\n\u001b[1;32m      1\u001b[0m \u001b[0mmy_string\u001b[0m \u001b[0;34m=\u001b[0m \u001b[0;34m'COGS18'\u001b[0m\u001b[0;34m\u001b[0m\u001b[0;34m\u001b[0m\u001b[0m\n\u001b[0;32m----> 2\u001b[0;31m \u001b[0mmy_string\u001b[0m\u001b[0;34m[\u001b[0m\u001b[0;36m6\u001b[0m\u001b[0;34m]\u001b[0m\u001b[0;34m\u001b[0m\u001b[0;34m\u001b[0m\u001b[0m\n\u001b[0m",
      "\u001b[0;31mIndexError\u001b[0m: string index out of range"
     ]
    }
   ],
   "source": [
    "my_string = 'COGS18'\n",
    "my_string[6]"
   ]
  },
  {
   "cell_type": "code",
   "execution_count": 20,
   "metadata": {},
   "outputs": [
    {
     "data": {
      "text/plain": [
       "['b']"
      ]
     },
     "execution_count": 20,
     "metadata": {},
     "output_type": "execute_result"
    }
   ],
   "source": [
    "my_list = ['a', 'b']\n",
    "# direct indexing errors\n",
    "# my_list[2]\n",
    "# can include an index that doesn't exist\n",
    "# in a slice\n",
    "my_list[1:5]"
   ]
  },
  {
   "cell_type": "code",
   "execution_count": 12,
   "metadata": {
    "scrolled": true,
    "slideshow": {
     "slide_type": "-"
    }
   },
   "outputs": [
    {
     "ename": "KeyError",
     "evalue": "'name3'",
     "output_type": "error",
     "traceback": [
      "\u001b[0;31m---------------------------------------------------------------------------\u001b[0m",
      "\u001b[0;31mKeyError\u001b[0m                                  Traceback (most recent call last)",
      "\u001b[0;32m<ipython-input-12-84a1c00e4833>\u001b[0m in \u001b[0;36m<module>\u001b[0;34m\u001b[0m\n\u001b[1;32m      1\u001b[0m \u001b[0;31m# Relatedly, 'KeyError' occurs if you ask for a dictionary key that doesn't exist\u001b[0m\u001b[0;34m\u001b[0m\u001b[0;34m\u001b[0m\u001b[0;34m\u001b[0m\u001b[0m\n\u001b[1;32m      2\u001b[0m \u001b[0mmy_dictionary\u001b[0m \u001b[0;34m=\u001b[0m \u001b[0;34m{\u001b[0m\u001b[0;34m'name1'\u001b[0m \u001b[0;34m:\u001b[0m \u001b[0;36m1\u001b[0m\u001b[0;34m,\u001b[0m \u001b[0;34m'name2'\u001b[0m \u001b[0;34m:\u001b[0m \u001b[0;36m2\u001b[0m\u001b[0;34m}\u001b[0m\u001b[0;34m\u001b[0m\u001b[0;34m\u001b[0m\u001b[0m\n\u001b[0;32m----> 3\u001b[0;31m \u001b[0mmy_dictionary\u001b[0m\u001b[0;34m[\u001b[0m\u001b[0;34m'name3'\u001b[0m\u001b[0;34m]\u001b[0m\u001b[0;34m\u001b[0m\u001b[0;34m\u001b[0m\u001b[0m\n\u001b[0m",
      "\u001b[0;31mKeyError\u001b[0m: 'name3'"
     ]
    }
   ],
   "source": [
    "# Relatedly, 'KeyError' occurs if you ask for a dictionary key that doesn't exist\n",
    "my_dictionary = {'name1' : 1, 'name2' : 2}\n",
    "my_dictionary['name3']"
   ]
  },
  {
   "cell_type": "markdown",
   "metadata": {
    "slideshow": {
     "slide_type": "slide"
    }
   },
   "source": [
    "### ValueError\n",
    "\n",
    "ValueError occurs when you try to use an illegal value for something."
   ]
  },
  {
   "cell_type": "code",
   "execution_count": 21,
   "metadata": {
    "scrolled": true,
    "slideshow": {
     "slide_type": "-"
    }
   },
   "outputs": [
    {
     "ename": "ValueError",
     "evalue": "invalid literal for int() with base 10: 'cat'",
     "output_type": "error",
     "traceback": [
      "\u001b[0;31m---------------------------------------------------------------------------\u001b[0m",
      "\u001b[0;31mValueError\u001b[0m                                Traceback (most recent call last)",
      "\u001b[0;32m<ipython-input-21-1c6b28888bbe>\u001b[0m in \u001b[0;36m<module>\u001b[0;34m\u001b[0m\n\u001b[0;32m----> 1\u001b[0;31m \u001b[0mint\u001b[0m\u001b[0;34m(\u001b[0m\u001b[0;34m'cat'\u001b[0m\u001b[0;34m)\u001b[0m\u001b[0;34m\u001b[0m\u001b[0;34m\u001b[0m\u001b[0m\n\u001b[0m",
      "\u001b[0;31mValueError\u001b[0m: invalid literal for int() with base 10: 'cat'"
     ]
    }
   ],
   "source": [
    "int('cat')"
   ]
  },
  {
   "cell_type": "markdown",
   "metadata": {
    "slideshow": {
     "slide_type": "slide"
    }
   },
   "source": [
    "### TypeError\n",
    "\n",
    "TypeError occurs when you try to do something with a variable type that python cannot interpret."
   ]
  },
  {
   "cell_type": "code",
   "execution_count": 22,
   "metadata": {
    "slideshow": {
     "slide_type": "-"
    }
   },
   "outputs": [
    {
     "ename": "TypeError",
     "evalue": "can only concatenate str (not \"int\") to str",
     "output_type": "error",
     "traceback": [
      "\u001b[0;31m---------------------------------------------------------------------------\u001b[0m",
      "\u001b[0;31mTypeError\u001b[0m                                 Traceback (most recent call last)",
      "\u001b[0;32m<ipython-input-22-57c293ee5895>\u001b[0m in \u001b[0;36m<module>\u001b[0;34m\u001b[0m\n\u001b[0;32m----> 1\u001b[0;31m \u001b[0;34m'a_string'\u001b[0m \u001b[0;34m+\u001b[0m \u001b[0;36m12\u001b[0m\u001b[0;34m\u001b[0m\u001b[0;34m\u001b[0m\u001b[0m\n\u001b[0m",
      "\u001b[0;31mTypeError\u001b[0m: can only concatenate str (not \"int\") to str"
     ]
    }
   ],
   "source": [
    "'a_string' + 12"
   ]
  },
  {
   "cell_type": "markdown",
   "metadata": {
    "slideshow": {
     "slide_type": "slide"
    }
   },
   "source": [
    "## Error Recap\n",
    "\n",
    "- Syntax Errors\n",
    "    - `SyntaxError`\n",
    "    - `IndentationError`\n",
    "- Exceptions\n",
    "    - `ZeroDivisionError` \n",
    "    - `NameError`\n",
    "    - Index Errors\n",
    "        - `IndexError`\n",
    "        - `KeyError`\n",
    "    - `ValueError`\n",
    "    - `TypeError`\n"
   ]
  },
  {
   "cell_type": "markdown",
   "metadata": {
    "slideshow": {
     "slide_type": "slide"
    }
   },
   "source": [
    "#### Clicker Question #1\n",
    "\n",
    "What type of error will the following code produce?"
   ]
  },
  {
   "cell_type": "code",
   "execution_count": 23,
   "metadata": {
    "scrolled": true,
    "slideshow": {
     "slide_type": "-"
    }
   },
   "outputs": [
    {
     "ename": "SyntaxError",
     "evalue": "invalid syntax (<ipython-input-23-ad228ac1793f>, line 1)",
     "output_type": "error",
     "traceback": [
      "\u001b[0;36m  File \u001b[0;32m\"<ipython-input-23-ad228ac1793f>\"\u001b[0;36m, line \u001b[0;32m1\u001b[0m\n\u001b[0;31m    if num > 0\u001b[0m\n\u001b[0m              ^\u001b[0m\n\u001b[0;31mSyntaxError\u001b[0m\u001b[0;31m:\u001b[0m invalid syntax\n"
     ]
    }
   ],
   "source": [
    "if num > 0\n",
    "    print(\"Greater than 0\")"
   ]
  },
  {
   "cell_type": "markdown",
   "metadata": {
    "slideshow": {
     "slide_type": "-"
    }
   },
   "source": [
    "- A) Syntax \n",
    "- B) Name\n",
    "- C) Type\n",
    "- D) Index\n",
    "- E) Value"
   ]
  },
  {
   "cell_type": "markdown",
   "metadata": {
    "slideshow": {
     "slide_type": "slide"
    }
   },
   "source": [
    "#### Clicker Question #2\n",
    "\n",
    "What type of error will the following code produce?"
   ]
  },
  {
   "cell_type": "code",
   "execution_count": null,
   "metadata": {},
   "outputs": [],
   "source": [
    "num = 6"
   ]
  },
  {
   "cell_type": "code",
   "execution_count": 24,
   "metadata": {
    "slideshow": {
     "slide_type": "-"
    }
   },
   "outputs": [
    {
     "ename": "NameError",
     "evalue": "name 'num' is not defined",
     "output_type": "error",
     "traceback": [
      "\u001b[0;31m---------------------------------------------------------------------------\u001b[0m",
      "\u001b[0;31mNameError\u001b[0m                                 Traceback (most recent call last)",
      "\u001b[0;32m<ipython-input-24-2ff8076b6898>\u001b[0m in \u001b[0;36m<module>\u001b[0;34m\u001b[0m\n\u001b[0;32m----> 1\u001b[0;31m \u001b[0;32mif\u001b[0m \u001b[0mnum\u001b[0m \u001b[0;34m>\u001b[0m \u001b[0;36m0\u001b[0m\u001b[0;34m:\u001b[0m\u001b[0;34m\u001b[0m\u001b[0;34m\u001b[0m\u001b[0m\n\u001b[0m\u001b[1;32m      2\u001b[0m     \u001b[0mprint\u001b[0m\u001b[0;34m(\u001b[0m\u001b[0;34m\"Greater than 0\"\u001b[0m\u001b[0;34m)\u001b[0m\u001b[0;34m\u001b[0m\u001b[0;34m\u001b[0m\u001b[0m\n",
      "\u001b[0;31mNameError\u001b[0m: name 'num' is not defined"
     ]
    }
   ],
   "source": [
    "if num > 0:\n",
    "    print(\"Greater than 0\")"
   ]
  },
  {
   "cell_type": "code",
   "execution_count": 26,
   "metadata": {},
   "outputs": [
    {
     "ename": "NameError",
     "evalue": "name 'num' is not defined",
     "output_type": "error",
     "traceback": [
      "\u001b[0;31m---------------------------------------------------------------------------\u001b[0m",
      "\u001b[0;31mNameError\u001b[0m                                 Traceback (most recent call last)",
      "\u001b[0;32m<ipython-input-26-253a6e14ed8f>\u001b[0m in \u001b[0;36m<module>\u001b[0;34m\u001b[0m\n\u001b[0;32m----> 1\u001b[0;31m \u001b[0;32mif\u001b[0m \u001b[0mnum\u001b[0m \u001b[0;34m>\u001b[0m \u001b[0;36m0\u001b[0m\u001b[0;34m:\u001b[0m\u001b[0;34m\u001b[0m\u001b[0;34m\u001b[0m\u001b[0m\n\u001b[0m\u001b[1;32m      2\u001b[0m     \u001b[0mprint\u001b[0m\u001b[0;34m(\u001b[0m\u001b[0;34m\"Greater than 0\"\u001b[0m\u001b[0;34m)\u001b[0m\u001b[0;34m\u001b[0m\u001b[0;34m\u001b[0m\u001b[0m\n\u001b[1;32m      3\u001b[0m \u001b[0;34m\u001b[0m\u001b[0m\n\u001b[1;32m      4\u001b[0m \u001b[0mmy_val\u001b[0m \u001b[0;34m=\u001b[0m \u001b[0;36m6\u001b[0m\u001b[0;34m\u001b[0m\u001b[0;34m\u001b[0m\u001b[0m\n\u001b[1;32m      5\u001b[0m \u001b[0;34m\u001b[0m\u001b[0m\n",
      "\u001b[0;31mNameError\u001b[0m: name 'num' is not defined"
     ]
    }
   ],
   "source": [
    "# syntax errors checked first\n",
    "# then python executes code - checks for exceptions\n",
    "if num > 0:\n",
    "    print(\"Greater than 0\")\n",
    "\n",
    "my_val = 6\n",
    "\n",
    "if my_val < 0\n",
    "    print('hi')"
   ]
  },
  {
   "cell_type": "markdown",
   "metadata": {
    "slideshow": {
     "slide_type": "-"
    }
   },
   "source": [
    "- A) Syntax \n",
    "- B) Name\n",
    "- C) Type\n",
    "- D) Index\n",
    "- E) Value"
   ]
  },
  {
   "cell_type": "markdown",
   "metadata": {
    "slideshow": {
     "slide_type": "slide"
    }
   },
   "source": [
    "## Stack Trace\n",
    "\n",
    "**Read (and understand!) your error messages!**\n",
    "\n",
    "The trace (log) of what Python did as it went through your code. Gets printed out if Python runs into an error."
   ]
  },
  {
   "cell_type": "markdown",
   "metadata": {
    "slideshow": {
     "slide_type": "fragment"
    }
   },
   "source": [
    "For example...say you're trying to write a function that takes a character as input, turns it into its unicode code point...with an offset of 500, turns *that* back into a character and returns the output...Your first attempt (**which has errors**) is below:"
   ]
  },
  {
   "cell_type": "code",
   "execution_count": 27,
   "metadata": {
    "scrolled": true,
    "slideshow": {
     "slide_type": "fragment"
    }
   },
   "outputs": [
    {
     "ename": "SyntaxError",
     "evalue": "cannot assign to operator (<ipython-input-27-d854ff387b3c>, line 5)",
     "output_type": "error",
     "traceback": [
      "\u001b[0;36m  File \u001b[0;32m\"<ipython-input-27-d854ff387b3c>\"\u001b[0;36m, line \u001b[0;32m5\u001b[0m\n\u001b[0;31m    char + 500 = offset\u001b[0m\n\u001b[0m    ^\u001b[0m\n\u001b[0;31mSyntaxError\u001b[0m\u001b[0;31m:\u001b[0m cannot assign to operator\n"
     ]
    }
   ],
   "source": [
    "def encode_char(char):\n",
    "    # turn into code point\n",
    "    ord(char)\n",
    "    # add offset\n",
    "    char + 500 = offset\n",
    "    # turn into character\n",
    "    chr(offset)"
   ]
  },
  {
   "cell_type": "code",
   "execution_count": 45,
   "metadata": {},
   "outputs": [],
   "source": [
    "def encode_char(char):\n",
    "    # turn into code point\n",
    "    unicode = ord(char)\n",
    "    # add offset\n",
    "    offset = unicode + 500\n",
    "    # turn into character\n",
    "    offset = chr(offset)\n",
    "    \n",
    "    return offset"
   ]
  },
  {
   "cell_type": "code",
   "execution_count": null,
   "metadata": {},
   "outputs": [],
   "source": [
    "def encode_char(char):\n",
    "    # turn into code point\n",
    "    # add offset\n",
    "    # into charaeter\n",
    "    unicode = chr(ord(char) + 500)\n",
    "\n",
    "    return unicode"
   ]
  },
  {
   "cell_type": "code",
   "execution_count": 41,
   "metadata": {},
   "outputs": [
    {
     "data": {
      "text/plain": [
       "'ɕ'"
      ]
     },
     "execution_count": 41,
     "metadata": {},
     "output_type": "execute_result"
    }
   ],
   "source": [
    "ord('a') + 500\n",
    "chr(597)"
   ]
  },
  {
   "cell_type": "code",
   "execution_count": 42,
   "metadata": {
    "scrolled": false
   },
   "outputs": [
    {
     "data": {
      "text/plain": [
       "597"
      ]
     },
     "execution_count": 42,
     "metadata": {},
     "output_type": "execute_result"
    }
   ],
   "source": [
    "encode_char('a')"
   ]
  },
  {
   "cell_type": "markdown",
   "metadata": {
    "slideshow": {
     "slide_type": "-"
    }
   },
   "source": [
    "What to look for and think about:\n",
    "1. What *kind* of error is it?\n",
    "2. What line of code/where in the line of code is the error pointing to? \n",
    "3. What does it *mean*? How do I fix this?\n",
    "\n",
    "Sometimes these get really complex. We're here to get better at interpreting these traces. Note that if external functions are being used, these will get longer."
   ]
  },
  {
   "cell_type": "markdown",
   "metadata": {
    "slideshow": {
     "slide_type": "fragment"
    }
   },
   "source": [
    "Sometimes you even have `assert` messages to guide you...how should you use `assert` messages?\n",
    "\n",
    "1. Read them; understand them\n",
    "2. Revisit the part of your code most likely associated with the assert\n",
    "3. *Think* about what you would need to change to fix the issue (do not just guess wildly trying to pass the `assert` - will waste your time)\n",
    "4. Fix the code; re-execute; re-run the assert"
   ]
  },
  {
   "cell_type": "code",
   "execution_count": 46,
   "metadata": {
    "slideshow": {
     "slide_type": "-"
    }
   },
   "outputs": [],
   "source": [
    "assert callable(encode_char)\n",
    "assert type(encode_char('c')) == str\n",
    "assert encode_char('c') == 'ɗ'"
   ]
  },
  {
   "cell_type": "markdown",
   "metadata": {
    "slideshow": {
     "slide_type": "slide"
    }
   },
   "source": [
    "## Helping yourself when debugging\n",
    "\n",
    "- Pause and *think*\n",
    "- You aren't sure how to approach a problem: add 'in python'\n",
    "- You don't understand an error message: \n",
    "    - Use `print()` statements\n",
    "    - Google the error message...but then you need to understand what you're reading"
   ]
  },
  {
   "cell_type": "markdown",
   "metadata": {
    "slideshow": {
     "slide_type": "fragment"
    }
   },
   "source": [
    "### Unsure how to approach a problem?\n",
    "\n",
    "\"Write code that will check whether the value stored in `my_val` is both positive and even. If it is, store the integer `1` in the variable `output`\"\n",
    "\n",
    "...How do I check whether a variable stores an even value?\n",
    "\n",
    "Google: \"How to check whether a variable stores an even value _in python_\""
   ]
  },
  {
   "cell_type": "code",
   "execution_count": 7,
   "metadata": {
    "slideshow": {
     "slide_type": "-"
    }
   },
   "outputs": [
    {
     "data": {
      "text/plain": [
       "0"
      ]
     },
     "execution_count": 7,
     "metadata": {},
     "output_type": "execute_result"
    }
   ],
   "source": [
    "# this code has errors\n",
    "# we're going to debug together in class\n",
    "my_val = -2\n",
    "\n",
    "if my_val > 0 and my_val % 2 == 0:\n",
    "    output = 1\n",
    "else:\n",
    "    output = 0\n",
    "\n",
    "output"
   ]
  },
  {
   "cell_type": "markdown",
   "metadata": {
    "slideshow": {
     "slide_type": "fragment"
    }
   },
   "source": [
    "### Don't understand the error message?\n",
    "\n",
    "So you try to accomplish the task...below is your first attempt"
   ]
  },
  {
   "cell_type": "code",
   "execution_count": null,
   "metadata": {
    "slideshow": {
     "slide_type": "-"
    }
   },
   "outputs": [],
   "source": [
    "# this code has errors\n",
    "# we're going to debug together in class\n",
    "my_val = 6\n",
    "\n",
    "if my_val > 0 and my_val % 2 = 0:\n",
    "    output == 1"
   ]
  },
  {
   "cell_type": "markdown",
   "metadata": {
    "slideshow": {
     "slide_type": "slide"
    }
   },
   "source": [
    "## Try / Except\n",
    "\n",
    "<div class=\"alert alert-success\">\n",
    "Exceptions do not necessarily have to lead to breaking the program - they can be programmatically dealt with, using <code>try</code> and <code>except</code>. \n",
    "</div>"
   ]
  },
  {
   "cell_type": "markdown",
   "metadata": {
    "slideshow": {
     "slide_type": "fragment"
    }
   },
   "source": [
    "For this example, I'm going to introduce `input()`, a function which allows us to get input from the user."
   ]
  },
  {
   "cell_type": "code",
   "execution_count": 12,
   "metadata": {
    "slideshow": {
     "slide_type": "-"
    }
   },
   "outputs": [
    {
     "name": "stdout",
     "output_type": "stream",
     "text": [
      "Please type a number: 5\n",
      "\n",
      "my_num is:  5\n"
     ]
    }
   ],
   "source": [
    "# Example: we want to get an input number from the user\n",
    "\n",
    "my_num = input(\"Please type a number: \")\n",
    "\n",
    "print('\\nmy_num is: ', my_num)"
   ]
  },
  {
   "cell_type": "markdown",
   "metadata": {
    "slideshow": {
     "slide_type": "slide"
    }
   },
   "source": [
    "### `try` / `except` Block"
   ]
  },
  {
   "cell_type": "code",
   "execution_count": 11,
   "metadata": {},
   "outputs": [
    {
     "ename": "ValueError",
     "evalue": "invalid literal for int() with base 10: 'monday'",
     "output_type": "error",
     "traceback": [
      "\u001b[0;31m---------------------------------------------------------------------------\u001b[0m",
      "\u001b[0;31mValueError\u001b[0m                                Traceback (most recent call last)",
      "\u001b[0;32m<ipython-input-11-557a7aee15e0>\u001b[0m in \u001b[0;36m<module>\u001b[0;34m\u001b[0m\n\u001b[0;32m----> 1\u001b[0;31m \u001b[0mint\u001b[0m\u001b[0;34m(\u001b[0m\u001b[0;34m'monday'\u001b[0m\u001b[0;34m)\u001b[0m\u001b[0;34m\u001b[0m\u001b[0;34m\u001b[0m\u001b[0m\n\u001b[0m",
      "\u001b[0;31mValueError\u001b[0m: invalid literal for int() with base 10: 'monday'"
     ]
    }
   ],
   "source": [
    "int('monday')"
   ]
  },
  {
   "cell_type": "code",
   "execution_count": 15,
   "metadata": {
    "slideshow": {
     "slide_type": "fragment"
    }
   },
   "outputs": [
    {
     "name": "stdout",
     "output_type": "stream",
     "text": [
      "Number asdfoasdf\n",
      "nahhh\n"
     ]
    }
   ],
   "source": [
    "try:\n",
    "    int(input('Number'))\n",
    "except:\n",
    "    print(\"nahhh\")"
   ]
  },
  {
   "cell_type": "markdown",
   "metadata": {
    "slideshow": {
     "slide_type": "slide"
    }
   },
   "source": [
    "## Raising Errors\n",
    "\n",
    "<div class=\"alert alert-success\">\n",
    "You can also write code to raise an Exception if something unexpected happens.\n",
    "</div>"
   ]
  },
  {
   "cell_type": "markdown",
   "metadata": {
    "slideshow": {
     "slide_type": "slide"
    }
   },
   "source": [
    "### Raise Exception Examples\n",
    "\n",
    "`raise` is a keyword that tells Python you want to create your own error."
   ]
  },
  {
   "cell_type": "code",
   "execution_count": 17,
   "metadata": {
    "scrolled": true,
    "slideshow": {
     "slide_type": "fragment"
    }
   },
   "outputs": [
    {
     "name": "stdout",
     "output_type": "stream",
     "text": [
      "An integer please: asdfjasdfija\n"
     ]
    },
    {
     "ename": "ValueError",
     "evalue": "I wanted a number! :(",
     "output_type": "error",
     "traceback": [
      "\u001b[0;31m---------------------------------------------------------------------------\u001b[0m",
      "\u001b[0;31mValueError\u001b[0m                                Traceback (most recent call last)",
      "\u001b[0;32m<ipython-input-17-df6803c14de3>\u001b[0m in \u001b[0;36m<module>\u001b[0;34m\u001b[0m\n\u001b[1;32m      1\u001b[0m \u001b[0mmy_int\u001b[0m \u001b[0;34m=\u001b[0m \u001b[0minput\u001b[0m\u001b[0;34m(\u001b[0m\u001b[0;34m'An integer please: '\u001b[0m\u001b[0;34m)\u001b[0m\u001b[0;34m\u001b[0m\u001b[0;34m\u001b[0m\u001b[0m\n\u001b[1;32m      2\u001b[0m \u001b[0;32mif\u001b[0m \u001b[0;32mnot\u001b[0m \u001b[0mmy_int\u001b[0m\u001b[0;34m.\u001b[0m\u001b[0misnumeric\u001b[0m\u001b[0;34m(\u001b[0m\u001b[0;34m)\u001b[0m\u001b[0;34m:\u001b[0m\u001b[0;34m\u001b[0m\u001b[0;34m\u001b[0m\u001b[0m\n\u001b[0;32m----> 3\u001b[0;31m     \u001b[0;32mraise\u001b[0m \u001b[0mValueError\u001b[0m\u001b[0;34m(\u001b[0m\u001b[0;34m'I wanted a number! :('\u001b[0m\u001b[0;34m)\u001b[0m\u001b[0;34m\u001b[0m\u001b[0;34m\u001b[0m\u001b[0m\n\u001b[0m\u001b[1;32m      4\u001b[0m \u001b[0;34m\u001b[0m\u001b[0m\n\u001b[1;32m      5\u001b[0m \u001b[0mprint\u001b[0m\u001b[0;34m(\u001b[0m\u001b[0;34m'My integer is: '\u001b[0m\u001b[0;34m,\u001b[0m \u001b[0mmy_int\u001b[0m\u001b[0;34m)\u001b[0m\u001b[0;34m\u001b[0m\u001b[0;34m\u001b[0m\u001b[0m\n",
      "\u001b[0;31mValueError\u001b[0m: I wanted a number! :("
     ]
    }
   ],
   "source": [
    "my_int = input('An integer please: ')\n",
    "if not my_int.isnumeric():\n",
    "    raise ValueError('I wanted a number! :(')\n",
    "    \n",
    "print('My integer is: ', my_int) "
   ]
  },
  {
   "cell_type": "markdown",
   "metadata": {
    "slideshow": {
     "slide_type": "slide"
    }
   },
   "source": [
    "#### Clicker Question #3\n",
    "\n",
    "Edit the code below (replacing `---` with either values or variable names) so that when executed, this cell returns `None`."
   ]
  },
  {
   "cell_type": "code",
   "execution_count": null,
   "metadata": {},
   "outputs": [],
   "source": [
    "# if ... is true:\n",
    "    # run this code"
   ]
  },
  {
   "cell_type": "code",
   "execution_count": 18,
   "metadata": {
    "slideshow": {
     "slide_type": "fragment"
    }
   },
   "outputs": [
    {
     "name": "stdout",
     "output_type": "stream",
     "text": [
      "None\n"
     ]
    }
   ],
   "source": [
    "num1 = 56\n",
    "num2 = 0\n",
    "\n",
    "try:\n",
    "    output = num1 / num2\n",
    "except ZeroDivisionError:\n",
    "    output = None\n",
    "    \n",
    "print(output)"
   ]
  },
  {
   "cell_type": "markdown",
   "metadata": {
    "slideshow": {
     "slide_type": "fragment"
    }
   },
   "source": [
    "- A) I did it!\n",
    "- B) I _think_ I did it...\n",
    "- C) I'm totally lost."
   ]
  }
 ],
 "metadata": {
  "celltoolbar": "Slideshow",
  "kernelspec": {
   "display_name": "Python 3",
   "language": "python",
   "name": "python3"
  },
  "language_info": {
   "codemirror_mode": {
    "name": "ipython",
    "version": 3
   },
   "file_extension": ".py",
   "mimetype": "text/x-python",
   "name": "python",
   "nbconvert_exporter": "python",
   "pygments_lexer": "ipython3",
   "version": "3.9.5"
  },
  "rise": {
   "scroll": true
  }
 },
 "nbformat": 4,
 "nbformat_minor": 2
}
