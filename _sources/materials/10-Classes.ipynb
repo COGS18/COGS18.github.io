{
 "cells": [
  {
   "cell_type": "markdown",
   "metadata": {
    "editable": true,
    "slideshow": {
     "slide_type": ""
    },
    "tags": []
   },
   "source": [
    "# Classes\n",
    "\n",
    "[![Open In Colab](https://colab.research.google.com/assets/colab-badge.svg)](https://colab.research.google.com/github/COGS18/LectureNotes-COGS18/blob/main/10-Classes.ipynb)"
   ]
  },
  {
   "cell_type": "markdown",
   "metadata": {},
   "source": [
    "**Q&A**\n",
    "\n",
    "> Q: will we learn any methods for tuples?\n",
    "> A: No...they exist...although there are only two ([see here](https://www.w3schools.com/python/python_ref_tuple.asp)) But, we don't use tuples a ton so I don't focus on them/\n",
    "\n",
    "> Q: will quotations be included as a space?  \n",
    "> A: Nope. A space will only be included if there is a space between the quotes\n",
    "\n",
    "> Q: why did question 2 print out the final correct list option 3, but when in the example in class when we did the upper of hello example when the last print statement is there it went back to origonal.  \n",
    "> A: List methods operate in place. String methods operate not in place.\n",
    "\n",
    "> Q: In A3: when you’re working with None, why can’t you set a variable equal to None (something like \"a = None\")   \n",
    "> A: You can set a variable equal to None!\n",
    "\n",
    "> Q: Also, why does the identity operator “is” work when you’re checking if something equals None, but “==“ doesn’t?   \n",
    "> A: `==` does work. For example, the following returns True:\n",
    "\n",
    "```python\n",
    " a = None\n",
    " a == None\n",
    "```\n",
    "\n",
    "> Q: I'm very confused about when to know to use range(len()) and when to use append vs += and how to know the appropriate way to get the output of loops  \n",
    "> A: If you want to loop over 1 through however many things there are in a list (for example), you'd use range(len()). Append is when you want to add something to the end of a list += is for when you want to extend a string or add a number to a numeric variable. As for how to get output of loops - this is a great question for office hours!\n",
    "\n",
    "> Q: as mentioned previous that instead of using 200, we have to use key, since key=200, what if we don't not use that  \n",
    "> A: Then you'll *only* be able to use 200 within the function; no ability to use a different value\n",
    "\n",
    "> Q: are the brackets necesary  \n",
    "> A: Brackets are necessary any time you want to indicate we're looking at a list\n",
    "\n",
    "> Q: Still confused on the try/except. How is it not just one code block running like conditionals?   \n",
    "> A: It's the way it works. For a try/except, python will *always* try the code in the try block first. If that code executes without error, it's done. If, however, an error is raised, it will execute the code in the `except` instead.\n",
    "\n",
    "> Q: just to clarify attributes store information, and methods are functions?  \n",
    "> A: Yup! We'll deepen this knowledge today!  "
   ]
  },
  {
   "cell_type": "markdown",
   "metadata": {
    "jp-MarkdownHeadingCollapsed": true
   },
   "source": [
    "**Announcements**\n",
    "\n",
    "**Due this week**: \n",
    "- CL5 due Friday 5/9/25\n",
    "- [mid-course survey](https://forms.gle/Ecord5uEgnLYztzF7) (\"due\" for EC Friday)\n",
    "\n",
    "**Notes**: \n",
    "- E1 will be viewable on PrairieLearn tomorrow (Fri) afternoon\n",
    "- Next week there will be one VQ (due Mon); none for Wed\n",
    "- A4 due *next* Sun\n",
    "- The withdrawal deadline is end of this week\n",
    "    - Class is out of 100 points; 51 pts remain\n",
    "    - Need 70 pts to pass the course"
   ]
  },
  {
   "cell_type": "markdown",
   "metadata": {},
   "source": [
    "## Classes Overview\n",
    "\n",
    "- Objects\n",
    "- Classes\n",
    "    - Attributes\n",
    "    - Methods\n",
    "- Instances\n",
    "    - ```__init__```"
   ]
  },
  {
   "cell_type": "markdown",
   "metadata": {},
   "source": [
    "## What is an Object?\n",
    "\n",
    "Python is an object oriented programming language. This is the definition that most web browsers and search engines give you, but what does it mean?\n",
    "\n",
    "An object is a specific example created from an instance of a class. Since Python is a object oriented, that means everything you have been working with has been a form of an object."
   ]
  },
  {
   "cell_type": "markdown",
   "metadata": {},
   "source": [
    "So what is a way of thinking about Classes and Objects?\n",
    "\n",
    "**Objects and Classes can be compared to like how a type of number can be defined as an integer `int` or float `float` in Python**"
   ]
  },
  {
   "cell_type": "code",
   "execution_count": 1,
   "metadata": {},
   "outputs": [],
   "source": [
    "x = 5"
   ]
  },
  {
   "cell_type": "code",
   "execution_count": 2,
   "metadata": {},
   "outputs": [],
   "source": [
    "y = 20.25"
   ]
  },
  {
   "cell_type": "code",
   "execution_count": 3,
   "metadata": {},
   "outputs": [
    {
     "data": {
      "text/plain": [
       "int"
      ]
     },
     "execution_count": 3,
     "metadata": {},
     "output_type": "execute_result"
    }
   ],
   "source": [
    "type(x)"
   ]
  },
  {
   "cell_type": "code",
   "execution_count": 4,
   "metadata": {},
   "outputs": [
    {
     "data": {
      "text/plain": [
       "float"
      ]
     },
     "execution_count": 4,
     "metadata": {},
     "output_type": "execute_result"
    }
   ],
   "source": [
    "type(y)"
   ]
  },
  {
   "cell_type": "markdown",
   "metadata": {},
   "source": [
    "## What is a Class?\n",
    "\n",
    "A class is a blueprint for creating objects \n",
    "\n",
    "## How do we create a Class? \n",
    "\n",
    "We use the keyword `class` in order to make classes in Python"
   ]
  },
  {
   "cell_type": "markdown",
   "metadata": {},
   "source": [
    "## Understanding Class Attributes\n",
    "\n",
    "Think of a classes as a blueprint for creating objects. Let's use a real world example: a Human."
   ]
  },
  {
   "cell_type": "markdown",
   "metadata": {},
   "source": [
    "### Class Attributes\n",
    "Class attributes are like **variable assignment** or characteristics that ALL humans share. For example:\n",
    "- All humans have two legs\n",
    "- All humans are two eyes\n",
    "- All humans have one hair color\n",
    "\n",
    "It's like saying \"every human has these things in common!\"\n",
    "\n",
    "But instead of making a human, let's make a Class of something else...\n",
    "\n",
    "Something a little more realistic and uses the concepts we have learned in the previous weeks!\n",
    "\n",
    "Like *Spotify*! \n",
    "\n",
    "So let's create our first class `Spotify` and add **`platform_name`** as an `attribute` assign it to the `str` `Spotify`.\n",
    "\n",
    "Remember **Variable Assignment**!\n",
    "\n",
    "Initially look like this:\n",
    "\n",
    "```python\n",
    "class Spotify:\n",
    "    pass\n",
    "\n",
    "```"
   ]
  },
  {
   "cell_type": "code",
   "execution_count": 5,
   "metadata": {},
   "outputs": [],
   "source": [
    "# creates a class Spotify\n",
    "# with a single *class* attribute platform_name\n",
    "class Spotify:\n",
    "    platform_name = 'Spotify'"
   ]
  },
  {
   "cell_type": "markdown",
   "metadata": {},
   "source": [
    "## How do we use a class? \n",
    "\n",
    "We need to make an instance of the class\n",
    "\n",
    "An example of a Class Instance for a `Human` Class is:\n",
    "\n",
    "\n",
    "```python\n",
    "class Human:\n",
    "    number_of_legs = 2\n",
    "\n",
    "myhuman = Human()\n",
    "```\n",
    "\n",
    "## Now let's make it but for our Spotify Class!\n",
    "\n",
    "Make an instance of Spotify and assign it to variable called `my_music`\n"
   ]
  },
  {
   "cell_type": "code",
   "execution_count": 6,
   "metadata": {},
   "outputs": [],
   "source": [
    "# my_music is an *instance* of the Spotify object\n",
    "my_music = Spotify()"
   ]
  },
  {
   "cell_type": "markdown",
   "metadata": {},
   "source": [
    "## How do we check the value of a class attribute?\n",
    "\n",
    "**We put a period after instance's name and type out the class attribute's name `platform_name`**\n",
    "\n",
    "Here's an example of using it with the `Human` Class.\n",
    "\n",
    "```python\n",
    "myhuman.number_of_legs\n",
    "\n",
    "2\n",
    "```\n",
    "\n",
    "Hint: Tab is your best friend!\n",
    "\n",
    "Let's check the value for the class attribute `platform_name` in our `Spotify` Class.\n"
   ]
  },
  {
   "cell_type": "code",
   "execution_count": 7,
   "metadata": {},
   "outputs": [
    {
     "data": {
      "text/plain": [
       "'Spotify'"
      ]
     },
     "execution_count": 7,
     "metadata": {},
     "output_type": "execute_result"
    }
   ],
   "source": [
    "my_music.platform_name"
   ]
  },
  {
   "cell_type": "markdown",
   "metadata": {},
   "source": [
    "## Exercise: Adding more Class Attributes\n",
    "\n",
    "1. Add a class attribute called **`playlist`** and make it a empty list\n",
    "2. Add a another class attribute called **`total_playlists`** and assign it 0\n",
    "3. Run the newly added class attributes\n",
    "\n",
    "**Caution**: You may run into an error if you do not reupdate both our class `Spotify` and our instance `my_music` because updating one of them is not enough\n"
   ]
  },
  {
   "cell_type": "code",
   "execution_count": 8,
   "metadata": {},
   "outputs": [],
   "source": [
    "# Spotify object now has thre class attributes\n",
    "# these will be the same for every Spotify-type object\n",
    "class Spotify:\n",
    "    platform_name = 'Spotify'\n",
    "    playlist = []\n",
    "    total_playlists = 0"
   ]
  },
  {
   "cell_type": "code",
   "execution_count": 9,
   "metadata": {},
   "outputs": [],
   "source": [
    "my_music = Spotify()"
   ]
  },
  {
   "cell_type": "code",
   "execution_count": 10,
   "metadata": {},
   "outputs": [
    {
     "data": {
      "text/plain": [
       "[]"
      ]
     },
     "execution_count": 10,
     "metadata": {},
     "output_type": "execute_result"
    }
   ],
   "source": [
    "my_music.playlist"
   ]
  },
  {
   "cell_type": "code",
   "execution_count": 11,
   "metadata": {},
   "outputs": [
    {
     "data": {
      "text/plain": [
       "'Spotify'"
      ]
     },
     "execution_count": 11,
     "metadata": {},
     "output_type": "execute_result"
    }
   ],
   "source": [
    "my_music.platform_name"
   ]
  },
  {
   "cell_type": "code",
   "execution_count": 12,
   "metadata": {},
   "outputs": [
    {
     "data": {
      "text/plain": [
       "[]"
      ]
     },
     "execution_count": 12,
     "metadata": {},
     "output_type": "execute_result"
    }
   ],
   "source": [
    "my_music.playlist"
   ]
  },
  {
   "cell_type": "code",
   "execution_count": 13,
   "metadata": {},
   "outputs": [
    {
     "data": {
      "text/plain": [
       "0"
      ]
     },
     "execution_count": 13,
     "metadata": {},
     "output_type": "execute_result"
    }
   ],
   "source": [
    "my_music.total_playlists"
   ]
  },
  {
   "cell_type": "markdown",
   "metadata": {},
   "source": [
    "### Activity: Classes 1 Google Form: \n",
    "\n",
    "### https://forms.gle/pcpJCwN8Y8eKszEU7"
   ]
  },
  {
   "cell_type": "code",
   "execution_count": 14,
   "metadata": {},
   "outputs": [
    {
     "data": {
      "text/plain": [
       "360"
      ]
     },
     "execution_count": 14,
     "metadata": {},
     "output_type": "execute_result"
    }
   ],
   "source": [
    "class Circle():\n",
    "    pi = 3.14\n",
    "    degrees = 360\n",
    "\n",
    "my_circle = Circle()\n",
    "my_circle.degrees"
   ]
  },
  {
   "cell_type": "code",
   "execution_count": null,
   "metadata": {},
   "outputs": [],
   "source": []
  },
  {
   "cell_type": "code",
   "execution_count": null,
   "metadata": {},
   "outputs": [],
   "source": []
  },
  {
   "cell_type": "code",
   "execution_count": null,
   "metadata": {},
   "outputs": [],
   "source": []
  },
  {
   "cell_type": "markdown",
   "metadata": {},
   "source": [
    "### Now that we know how to make a Class Attribute, let's learn how to make a Class Method! "
   ]
  },
  {
   "cell_type": "markdown",
   "metadata": {},
   "source": [
    "## Class Methods\n",
    "Class Methods are like actions that a Human can do. For example:\n",
    "- A human can walk\n",
    "- A human can talk\n",
    "- A human can read\n",
    "\n",
    "Think of class methods as **functions** or \"actions a Human can do.\"\n",
    "\n",
    "But what actions can **Spotify** do? \n",
    "\n",
    "Another way we can think of actions are features for an App or in this case: Spotify.\n",
    "\n",
    "What are some important features that Spotify provides?\n",
    "\n",
    "Some might say downloadable playlists, Spotify Wrapped, podcast, and etc.\n",
    "\n",
    "In general, one of the staples to a Music App is being able to have a Liked Playlist or Favorite Playlist.\n",
    "\n",
    "First, let's make a dictionary called `songs` where the keys are the artist's name as a `str` and the values as a `list` of their songs"
   ]
  },
  {
   "cell_type": "code",
   "execution_count": 15,
   "metadata": {},
   "outputs": [],
   "source": [
    "songs = {'Brandi Carlile' : ['The Mother', 'The Story', 'Right on Time'], \n",
    "         'The Beatles' : ['Hey Jude', 'Abbey Road']}"
   ]
  },
  {
   "cell_type": "markdown",
   "metadata": {
    "editable": true,
    "slideshow": {
     "slide_type": ""
    },
    "tags": []
   },
   "source": [
    "Then make a class method `favorite_songs` that allows us to add our favorite songs! \n",
    "\n",
    "It takes an input `songs_by_artist` is a dictionary where we will put our songs where the key is the artist's name and our values is a list of songs. \n",
    "\n",
    "We want our method `favorite_songs` to take in a `dict` and return an **embedded list**, a list in a list, of the songs. \n",
    "\n",
    "We want our output to look like this:\n",
    "\n",
    "```\n",
    "[['intentions', 'starfall'],\n",
    " ['talk to me', 'starfall'],\n",
    " ['Reality', 'yayyoung'],\n",
    " ['If You Only Knew', 'yayyoung']]\n",
    "```\n",
    "\n",
    "Our code should initially look like this:\n",
    "\n",
    "```python\n",
    "class Spotify:\n",
    "    platform_name = 'Spotify'\n",
    "    playlist = []\n",
    "    total_playlists = 0\n",
    "\n",
    "    def favorite_songs(self, songs_by_artists):\n",
    "        \n",
    "```\n",
    "\n",
    "Hint: Use psuedo code or notes using `#` to break down complicated things!"
   ]
  },
  {
   "cell_type": "code",
   "execution_count": 16,
   "metadata": {},
   "outputs": [
    {
     "data": {
      "text/plain": [
       "{'Brandi Carlile': ['The Mother', 'The Story', 'Right on Time'],\n",
       " 'The Beatles': ['Hey Jude', 'Abbey Road']}"
      ]
     },
     "execution_count": 16,
     "metadata": {},
     "output_type": "execute_result"
    }
   ],
   "source": [
    "# recalling songs dictionary I defined earlier\n",
    "songs"
   ]
  },
  {
   "cell_type": "code",
   "execution_count": 17,
   "metadata": {},
   "outputs": [],
   "source": [
    "class Spotify:\n",
    "    platform_name = 'Spotify'\n",
    "    playlist = []\n",
    "    total_playlists = 0\n",
    "\n",
    "    # this is a class method\n",
    "    # it's a function defined *inside* of a class\n",
    "    def favorite_songs(self, songs_by_artists):\n",
    "        output_list = []\n",
    "\n",
    "        # looping over the keys and values in the input dictionary songs_by_artists\n",
    "        for artist, lst_songs in songs_by_artists.items():\n",
    "            # loops over each of the songs in the list (which is the values of the input dictionary)\n",
    "            for song in lst_songs:\n",
    "                # add song and artist for each song in the input dictionary\n",
    "                output_list.append([song, artist])\n",
    "\n",
    "        return output_list"
   ]
  },
  {
   "cell_type": "code",
   "execution_count": 18,
   "metadata": {},
   "outputs": [],
   "source": [
    "# create an instance of my updated Spotify object\n",
    "my_music = Spotify()"
   ]
  },
  {
   "cell_type": "code",
   "execution_count": 19,
   "metadata": {},
   "outputs": [
    {
     "data": {
      "text/plain": [
       "[['The Mother', 'Brandi Carlile'],\n",
       " ['The Story', 'Brandi Carlile'],\n",
       " ['Right on Time', 'Brandi Carlile'],\n",
       " ['Hey Jude', 'The Beatles'],\n",
       " ['Abbey Road', 'The Beatles']]"
      ]
     },
     "execution_count": 19,
     "metadata": {},
     "output_type": "execute_result"
    }
   ],
   "source": [
    "# add my favorite songs using the favorite_songs method\n",
    "my_music.favorite_songs(songs_by_artists=songs)"
   ]
  },
  {
   "cell_type": "code",
   "execution_count": 20,
   "metadata": {},
   "outputs": [
    {
     "data": {
      "text/plain": [
       "[]"
      ]
     },
     "execution_count": 20,
     "metadata": {},
     "output_type": "execute_result"
    }
   ],
   "source": [
    "# class attributes still exist\n",
    "my_music.playlist"
   ]
  },
  {
   "cell_type": "code",
   "execution_count": null,
   "metadata": {},
   "outputs": [],
   "source": []
  },
  {
   "cell_type": "code",
   "execution_count": null,
   "metadata": {},
   "outputs": [],
   "source": []
  },
  {
   "cell_type": "code",
   "execution_count": null,
   "metadata": {},
   "outputs": [],
   "source": []
  },
  {
   "cell_type": "code",
   "execution_count": null,
   "metadata": {},
   "outputs": [],
   "source": []
  },
  {
   "cell_type": "code",
   "execution_count": null,
   "metadata": {},
   "outputs": [],
   "source": []
  },
  {
   "cell_type": "code",
   "execution_count": null,
   "metadata": {},
   "outputs": [],
   "source": []
  },
  {
   "attachments": {},
   "cell_type": "markdown",
   "metadata": {},
   "source": [
    "### Caution! \n",
    "\n",
    "What happens if I do not put `self` in my Class Methods?"
   ]
  },
  {
   "cell_type": "code",
   "execution_count": 21,
   "metadata": {},
   "outputs": [],
   "source": [
    "class Spotify2:\n",
    "    platform_name = \"Spotify\"\n",
    "    playlists = []\n",
    "    total_playlists = 0\n",
    "\n",
    "    # !!!! self is missing as the first parameter here !!!!\n",
    "    def favorite_songs(songs_by_artist):\n",
    "        lst = []        \n",
    "        for artist, songs in songs_by_artist.items():\n",
    "            for song in songs:\n",
    "                lst.append([song, artist])\n",
    "    \n",
    "        return lst"
   ]
  },
  {
   "cell_type": "code",
   "execution_count": 22,
   "metadata": {},
   "outputs": [],
   "source": [
    "my_music2 = Spotify2()"
   ]
  },
  {
   "cell_type": "code",
   "execution_count": 23,
   "metadata": {
    "scrolled": true
   },
   "outputs": [
    {
     "ename": "TypeError",
     "evalue": "Spotify2.favorite_songs() takes 1 positional argument but 2 were given",
     "output_type": "error",
     "traceback": [
      "\u001b[0;31m---------------------------------------------------------------------------\u001b[0m",
      "\u001b[0;31mTypeError\u001b[0m                                 Traceback (most recent call last)",
      "Cell \u001b[0;32mIn[23], line 1\u001b[0m\n\u001b[0;32m----> 1\u001b[0m \u001b[43mmy_music2\u001b[49m\u001b[38;5;241;43m.\u001b[39;49m\u001b[43mfavorite_songs\u001b[49m\u001b[43m(\u001b[49m\u001b[43msongs\u001b[49m\u001b[43m)\u001b[49m\n",
      "\u001b[0;31mTypeError\u001b[0m: Spotify2.favorite_songs() takes 1 positional argument but 2 were given"
     ]
    }
   ],
   "source": [
    "my_music2.favorite_songs(songs)"
   ]
  },
  {
   "cell_type": "markdown",
   "metadata": {},
   "source": [
    "So why does this happen?\n",
    "\n",
    "This is because of when you define a method inside a class, the first parameter is always the object itself, which is called `self`. \n",
    "\n",
    "`Self` allows any class method to access and use the **instance attributes** you have previously defined and other **class methods** within your `Class`.\n",
    "\n",
    "You can think of this as the class methods as operating on it**SELF**.\n",
    "\n",
    "Just remember to put `self` in all of your Class Methods! \n",
    "\n",
    "But what is an ****Instance Attribute?****"
   ]
  },
  {
   "cell_type": "markdown",
   "metadata": {},
   "source": [
    "**Course Announcements**\n",
    "\n",
    "Due this week:\n",
    "\n",
    "- VQ11 due Wed\n",
    "- CL6 due Fri\n",
    "- A4 due Sun\n",
    "\n",
    "Notes:\n",
    "\n",
    "- Thanks to all who completed the mid-course survey! (N=501/610; 82%); EC has been posted to Canvas\n",
    "- Reminder to sign up for [Oral exam 2 slot](https://calendar.app.google/3xu3mtgu3mAZgTRw5) (link also on Canvas homepage)\n",
    "- E1 viewable on PL; score on Canvas\n",
    "- These announcements/first few cells were added since Thurs; picking up right before \"Instance Attributes\""
   ]
  },
  {
   "cell_type": "markdown",
   "metadata": {},
   "source": [
    "**Mid-Course Survey**\n",
    "- **Course overall** (constructive feedback): maybe a *bit too much* to do; 👎 loss of credit on VQs; wanting stuff to be posted sooner; want additional example problems (of ____ type)\n",
    "- **Exam**:\n",
    "    - *Pros*: familiarity with PrairieLearn; on a day & at a time you like; multiple attempts & partial credit; scratch paper & calculator; didn't have to write code on paper\n",
    "    - *Cons*: lockers; computer lag; computer keyboards/mice; unfamiliar space in a basement; wifi interruptions; not enough time; no water/coffee; no COGS 18 proctors"
   ]
  },
  {
   "cell_type": "markdown",
   "metadata": {},
   "source": [
    "**Classes**: Reviewing our VQ/textbook example"
   ]
  },
  {
   "cell_type": "code",
   "execution_count": null,
   "metadata": {},
   "outputs": [],
   "source": [
    "class Dog():\n",
    "    \n",
    "    sound = 'Woof'\n",
    "    \n",
    "    def __init__(self, name):\n",
    "        self.name = name\n",
    "    \n",
    "    def speak(self, n_times=2):\n",
    "        return self.sound * n_times"
   ]
  },
  {
   "cell_type": "code",
   "execution_count": null,
   "metadata": {},
   "outputs": [],
   "source": [
    "lexi = Dog('lexi')"
   ]
  },
  {
   "cell_type": "code",
   "execution_count": null,
   "metadata": {},
   "outputs": [],
   "source": [
    "lexi.sound"
   ]
  },
  {
   "cell_type": "code",
   "execution_count": null,
   "metadata": {},
   "outputs": [],
   "source": [
    "lexi.name"
   ]
  },
  {
   "cell_type": "code",
   "execution_count": null,
   "metadata": {},
   "outputs": [],
   "source": [
    "lexi.speak()"
   ]
  },
  {
   "cell_type": "code",
   "execution_count": null,
   "metadata": {},
   "outputs": [],
   "source": [
    "lexi.speak(4)"
   ]
  },
  {
   "cell_type": "markdown",
   "metadata": {},
   "source": [
    "**Classes**: Reviewing our Spotify example so far"
   ]
  },
  {
   "cell_type": "code",
   "execution_count": null,
   "metadata": {},
   "outputs": [],
   "source": [
    "class Spotify:\n",
    "    platform_name = 'Spotify'\n",
    "    playlist = []\n",
    "    total_playlists = 0\n",
    "    \n",
    "    def favorite_songs(self, songs_by_artists):\n",
    "        output_list = []\n",
    "\n",
    "        for artist, lst_songs in songs_by_artists.items():\n",
    "            for song in lst_songs:\n",
    "                output_list.append([song, artist])\n",
    "\n",
    "        return output_list"
   ]
  },
  {
   "cell_type": "code",
   "execution_count": null,
   "metadata": {},
   "outputs": [],
   "source": [
    "my_music = Spotify()"
   ]
  },
  {
   "cell_type": "code",
   "execution_count": null,
   "metadata": {},
   "outputs": [],
   "source": [
    "songs = {'Brandi Carlile' : ['The Mother', 'The Story', 'Right on Time'], \n",
    "         'The Beatles' : ['Hey Jude', 'Abbey Road']}"
   ]
  },
  {
   "cell_type": "code",
   "execution_count": null,
   "metadata": {},
   "outputs": [],
   "source": [
    "my_music.favorite_songs(songs_by_artists=songs)"
   ]
  },
  {
   "cell_type": "markdown",
   "metadata": {},
   "source": [
    "## Instance Attributes \n",
    "\n",
    "### The `__init__()` Method/Function/Constructor\n",
    "\n",
    "Remember there are  double underscores `__` on each side!\n",
    "\n",
    "The examples above are classes and objects in their simplest form, and but we can built upon it even more for real world applications.\n",
    "\n",
    "To build upon it even more, we have to understand the built in `__init__()` function.\n",
    "\n",
    "All classes have a function called `__init__()` or init method"
   ]
  },
  {
   "cell_type": "markdown",
   "metadata": {},
   "source": [
    "### So what is the point of `__init__()` ?\n",
    "\n",
    "The `__init__()` method is to initialize an object's attributes when it is created, also called an constructor\n",
    "\n",
    "Constructors in any coding language are used to initialize an object's state, in this case: object attributes\n",
    "\n",
    "Our code should initially look like this:\n",
    "\n",
    "**Instance Attributes** allow you to build more complex Class Methods and Class Attributes within your Class\n",
    "\n",
    "Initially our code should look like this:\n",
    "\n",
    "```python\n",
    "class Spotify:\n",
    "    platform_name = \"Spotify\"\n",
    "    playlists = []\n",
    "    total_playlists = 0\n",
    "\n",
    "    def __init__(self):\n",
    "        pass\n",
    "    \n",
    "    def favorite_songs(self, songs_by_artist):\n",
    "        lst = []        \n",
    "        for artist, songs in songs_by_artist.items():\n",
    "            for song in songs:\n",
    "                lst.append([song, artist])\n",
    "    \n",
    "        return lst\n",
    "```\n",
    "\n",
    "The `pass` is here as a placeholder for actual code."
   ]
  },
  {
   "cell_type": "markdown",
   "metadata": {},
   "source": [
    "### How do we use our `__init__` method?\n",
    "\n",
    "We can define that in the `__init__` method or making instance attributes! \n",
    "\n",
    "**Instance Attributes** are attributes defined **INSIDE** the `__init__` initialize function. \n",
    "\n",
    "There are two categories of Instance Attributes\n",
    "\n",
    "1. The ones you define as an input parameter\n",
    "\n",
    "3. The ones you continuously update while using Class Methods\n",
    "\n",
    "An example of the Human Class:\n",
    "\n",
    "```python\n",
    "\n",
    "class Human:\n",
    "    number_of_legs = 2\n",
    "\n",
    "    def __init__(self, name, height, age):\n",
    "        self.name = name\n",
    "        self.height = height\n",
    "        self.age = age\n",
    "        self.hobbies = []\n",
    "\n",
    "```"
   ]
  },
  {
   "cell_type": "markdown",
   "metadata": {},
   "source": [
    "#### How do we know what to put as an input parameter versus continuously updating?\n",
    "\n",
    "\n",
    "In our case for Spotify: **Usernames**\n",
    "\n",
    "Let's do a series of things!\n",
    "\n",
    "1. Add The instance Attribute `username` as an input to our init method\n",
    "2. Add The instance Attribute `fav_artist` and assign it to a blank list\n",
    "3. Add The instance Attribute `fav_playlist`and assign it to a blank list\n",
    "4. Update `favorite_songs` method to add your favorite artists to `fav_artist`\n",
    "5. Update `favorite_songs` method to add your favorite songs to `fav_playlist`\n",
    "\n",
    "Caution: \n",
    "\n",
    "- Instance Attributes defined as an input paramater besides `self` need to put in every time you make a Class Instance"
   ]
  },
  {
   "cell_type": "code",
   "execution_count": null,
   "metadata": {},
   "outputs": [],
   "source": [
    "class Spotify:\n",
    "    platform_name = \"Spotify\"\n",
    "    playlists = []\n",
    "    total_playlists = 0\n",
    "\n",
    "    def __init__(self):\n",
    "        pass\n",
    "    \n",
    "    def favorite_songs(self, songs_by_artist):\n",
    "        lst = []        \n",
    "        for artist, lst_songs in songs_by_artist.items():\n",
    "            for song in lst_songs:\n",
    "                lst.append([song, artist])\n",
    "\n",
    "        return lst"
   ]
  },
  {
   "cell_type": "code",
   "execution_count": null,
   "metadata": {},
   "outputs": [],
   "source": []
  },
  {
   "cell_type": "code",
   "execution_count": null,
   "metadata": {},
   "outputs": [],
   "source": []
  },
  {
   "cell_type": "code",
   "execution_count": null,
   "metadata": {
    "scrolled": true
   },
   "outputs": [],
   "source": []
  },
  {
   "cell_type": "code",
   "execution_count": null,
   "metadata": {},
   "outputs": [],
   "source": []
  },
  {
   "cell_type": "code",
   "execution_count": null,
   "metadata": {},
   "outputs": [],
   "source": []
  },
  {
   "cell_type": "code",
   "execution_count": null,
   "metadata": {},
   "outputs": [],
   "source": []
  },
  {
   "cell_type": "code",
   "execution_count": null,
   "metadata": {
    "scrolled": true
   },
   "outputs": [],
   "source": []
  },
  {
   "cell_type": "code",
   "execution_count": null,
   "metadata": {},
   "outputs": [],
   "source": []
  },
  {
   "cell_type": "code",
   "execution_count": null,
   "metadata": {
    "scrolled": true
   },
   "outputs": [],
   "source": []
  },
  {
   "cell_type": "markdown",
   "metadata": {},
   "source": [
    "## Let's say we wanted to show a string statement that told me what my username was?\n",
    "\n",
    "### How can we make a string?\n",
    "\n",
    "Currently, these are all the ways you know how to make a string:\n",
    "```python\n",
    "- str()\n",
    "- \"\"\n",
    "- ''\n",
    "```\n",
    "\n",
    "But what if we have some variables we want in our string statement?"
   ]
  },
  {
   "cell_type": "markdown",
   "metadata": {},
   "source": [
    "Manual Way: String Concatenation\n",
    "\n",
    "An Example of String Concatenation is:\n",
    "\n",
    "```python\n",
    "element1 = 'carbon'\n",
    "element2 = 'oxygen'\n",
    "carbon_atoms = 2\n",
    "oxygen_atoms = 1 \n",
    "```\n",
    "Make the string statement: \n",
    "\n",
    "```python\n",
    "\"C02 is made up of 2 carbon atoms and 1 oxygen atom.\" \n",
    "```"
   ]
  },
  {
   "cell_type": "code",
   "execution_count": null,
   "metadata": {},
   "outputs": [],
   "source": [
    "element1 = 'carbon'\n",
    "element2 = 'oxygen'\n",
    "carbon_atoms = 2\n",
    "oxygen_atoms = 1 "
   ]
  },
  {
   "cell_type": "code",
   "execution_count": null,
   "metadata": {},
   "outputs": [],
   "source": [
    "\"C02 is made up of \" + str(carbon_atoms) + ' ' + element1 + ' atoms and ' + str(oxygen_atoms) + ' ' + element2 + ' atom.'"
   ]
  },
  {
   "cell_type": "markdown",
   "metadata": {},
   "source": [
    "Another way of doing this are called **F-Strings**\n",
    "\n",
    "## F-Strings \n",
    "\n",
    "You can put variables inside of a string by using f-strings.\n",
    "\n",
    "To create an f-string you will need to put `f\"`, an f with double quotation marks infront of it.\n",
    "\n",
    "Then put any variable name using curly braces `{}`\n",
    "\n",
    "Lastly, end your statement with the remaining `\"`\n",
    "\n",
    "We can turn our previous string concatenation monster into this:\n",
    "\n",
    "```python\n",
    "f\"CO2 is made up of {carbon_atoms} {element1} and {oxygen_atoms} {element2} atom\"\n",
    "```"
   ]
  },
  {
   "cell_type": "code",
   "execution_count": null,
   "metadata": {},
   "outputs": [],
   "source": [
    "f\"CO2 is made up of {carbon_atoms} {element1} and {oxygen_atoms} {element2} atom\""
   ]
  },
  {
   "cell_type": "markdown",
   "metadata": {},
   "source": [
    "## Exercise: \n",
    "\n",
    "Make a class method `user_info` that:\n",
    "\n",
    "- Takes in `year` , an integer, that represents the year when you first downloaded the Spotify App\n",
    "\n",
    "- Outputs an f-string statement that tells our username and how long we've had Spotify for"
   ]
  },
  {
   "cell_type": "code",
   "execution_count": null,
   "metadata": {},
   "outputs": [],
   "source": [
    "class Spotify:\n",
    "    platform_name = \"Spotify\"\n",
    "    playlists = []\n",
    "    total_playlists = 0\n",
    "\n",
    "    def __init__(self, username):\n",
    "        self.username = username\n",
    "        self.fav_artist = []\n",
    "        self.fav_playlist = []\n",
    "    \n",
    "    def favorite_songs(self, songs_by_artist):\n",
    "        lst = []        \n",
    "        for artist, lst_songs in songs_by_artist.items():\n",
    "            for song in lst_songs:\n",
    "                lst.append([song, artist])\n",
    "            if artist not in self.fav_artist: \n",
    "                self.fav_artist.append(artist)\n",
    "                \n",
    "        self.fav_playlist = lst\n",
    "        return lst"
   ]
  },
  {
   "cell_type": "code",
   "execution_count": null,
   "metadata": {},
   "outputs": [],
   "source": []
  },
  {
   "cell_type": "code",
   "execution_count": null,
   "metadata": {},
   "outputs": [],
   "source": []
  },
  {
   "cell_type": "code",
   "execution_count": null,
   "metadata": {},
   "outputs": [],
   "source": []
  },
  {
   "cell_type": "markdown",
   "metadata": {},
   "source": [
    "## Activity: Classes 2 Google Form:\n",
    "\n",
    "### https://forms.gle/mBPD32aC3uV3s9hz7"
   ]
  },
  {
   "cell_type": "code",
   "execution_count": null,
   "metadata": {},
   "outputs": [],
   "source": []
  },
  {
   "cell_type": "code",
   "execution_count": null,
   "metadata": {},
   "outputs": [],
   "source": []
  },
  {
   "cell_type": "code",
   "execution_count": null,
   "metadata": {},
   "outputs": [],
   "source": []
  },
  {
   "cell_type": "code",
   "execution_count": null,
   "metadata": {},
   "outputs": [],
   "source": []
  },
  {
   "cell_type": "markdown",
   "metadata": {},
   "source": [
    "## But what if we wanted to to create a playlist??\n",
    "\n",
    "Let's add a Class Method called **`create_playlist`** that returns a dictionary `final_dict`!\n",
    "\n",
    "Where the key is the `playlist_name` and the values is an embedded list \n",
    "\n",
    "Remember to put the **`self`** paramater inside of our **`create_playlist`** method! \n",
    "\n",
    "It takes in three inputs: \n",
    "\n",
    "- `playlist_name`, a string of your playlist name\n",
    "- `fav_artist`, a list of your favorite artist that you want in the playlist\n",
    "- `fav_list`, an embedded list of your favorite songs and artist!"
   ]
  },
  {
   "cell_type": "code",
   "execution_count": null,
   "metadata": {},
   "outputs": [],
   "source": [
    "class Spotify:\n",
    "    platform_name = \"Spotify\"\n",
    "    playlists = []\n",
    "    total_playlists = 0\n",
    "\n",
    "    def __init__(self, username):\n",
    "        self.username = username\n",
    "        self.fav_artist = []\n",
    "        self.fav_playlist = []\n",
    "    \n",
    "    def favorite_songs(self, songs_by_artist):\n",
    "        lst = []        \n",
    "        for artist, lst_songs in songs_by_artist.items():\n",
    "            for song in lst_songs:\n",
    "                lst.append([song, artist])\n",
    "            if artist not in self.fav_artist:\n",
    "                self.fav_artist.append(artist)\n",
    "        self.fav_playlist = lst\n",
    "        return lst\n",
    "\n",
    "    def create_playlist(self, playlist_name, fav_artist=None, fav_list=None):\n",
    "        if fav_artist == None:\n",
    "            fav_artist = self.fav_artist\n",
    "        if fav_list == None:\n",
    "            fav_list = self.fav_playlist\n",
    "    \n",
    "        lst = []\n",
    "        for song, artist in fav_list:\n",
    "            if artist in self.fav_artist:\n",
    "                lst.append((song,artist))\n",
    "\n",
    "        final_dict = {\"name\": playlist_name, \"songs\": lst}\n",
    "        self.playlists.append(final_dict)\n",
    "        return final_dict"
   ]
  },
  {
   "cell_type": "code",
   "execution_count": null,
   "metadata": {},
   "outputs": [],
   "source": []
  },
  {
   "cell_type": "code",
   "execution_count": null,
   "metadata": {},
   "outputs": [],
   "source": [
    "my_music = Spotify('Emonx')"
   ]
  },
  {
   "cell_type": "code",
   "execution_count": null,
   "metadata": {},
   "outputs": [],
   "source": [
    "songs = {'starfall' : ['intentions', 'talk to me'],\n",
    "         'yayyoung' : ['Reality', 'If You Only Knew'],\n",
    "         'bixby' : [\"don't make me\", 'darling, he lied']}"
   ]
  },
  {
   "cell_type": "code",
   "execution_count": null,
   "metadata": {},
   "outputs": [],
   "source": [
    "my_music.favorite_songs(songs)"
   ]
  },
  {
   "cell_type": "code",
   "execution_count": null,
   "metadata": {},
   "outputs": [],
   "source": [
    "my_music.fav_artist"
   ]
  },
  {
   "cell_type": "code",
   "execution_count": null,
   "metadata": {},
   "outputs": [],
   "source": [
    "my_music.fav_playlist"
   ]
  },
  {
   "cell_type": "code",
   "execution_count": null,
   "metadata": {},
   "outputs": [],
   "source": [
    "my_music.create_playlist('Vibe City')"
   ]
  },
  {
   "cell_type": "code",
   "execution_count": null,
   "metadata": {},
   "outputs": [],
   "source": [
    "my_music.playlists"
   ]
  },
  {
   "cell_type": "markdown",
   "metadata": {},
   "source": [
    "## Inheritance\n",
    "\n",
    "You can think of this as inheriting Someone's Will: property, certain finances, and etc.\n",
    "\n",
    "This means that you can inherit all the properties of a previously defined Class:\n",
    "\n",
    "***Class Methods and Attributes and Instance Attributes***\n",
    "\n",
    "So let's a new simple class: `GradStudent` and have it inherit our `CollegeStudent` Class for Activity 2\n",
    "\n",
    "An example of inheritance would be \n",
    "\n",
    "```python\n",
    "class Family_Member(Human):\n",
    "    pass\n",
    "```"
   ]
  },
  {
   "cell_type": "code",
   "execution_count": null,
   "metadata": {},
   "outputs": [],
   "source": [
    "class CollegeStudent():\n",
    "    def __init__(self, name, age, major, college):\n",
    "        self.name = name\n",
    "        self.age = age\n",
    "        self.major = major\n",
    "        self.college = college\n",
    "\n",
    "    def introduction(self):\n",
    "        output = f\"Hi my name is {self.name} and I am {self.age} years old. I am a {self.major} major at {self.college}.\"\n",
    "        return output"
   ]
  },
  {
   "cell_type": "code",
   "execution_count": null,
   "metadata": {
    "scrolled": true
   },
   "outputs": [],
   "source": [
    "class GradStudent(CollegeStudent):\n",
    "    pass"
   ]
  },
  {
   "cell_type": "markdown",
   "metadata": {},
   "source": [
    "Let's see if any values of the original properties of the `CollegeStudent` came through."
   ]
  },
  {
   "cell_type": "code",
   "execution_count": null,
   "metadata": {},
   "outputs": [],
   "source": [
    "my_gradstudent = GradStudent()"
   ]
  },
  {
   "cell_type": "code",
   "execution_count": null,
   "metadata": {},
   "outputs": [],
   "source": [
    "my_gradstudent = GradStudent('Emanoel Agbayani', 23, 'Cognitive Science', 'UCSD')"
   ]
  },
  {
   "cell_type": "code",
   "execution_count": null,
   "metadata": {},
   "outputs": [],
   "source": [
    "my_gradstudent.introduction()"
   ]
  },
  {
   "cell_type": "markdown",
   "metadata": {},
   "source": [
    "#### Let's say now that we are older, we will need to show that we are a Graduate Student\n",
    "\n",
    "Create a new Class Method `introduction_2` that gives us a string statement that we are a Graduate Student"
   ]
  },
  {
   "cell_type": "code",
   "execution_count": null,
   "metadata": {},
   "outputs": [],
   "source": [
    "class Grad_Student(CollegeStudent):\n",
    "    def introduction_2(self):\n"
   ]
  },
  {
   "cell_type": "code",
   "execution_count": null,
   "metadata": {
    "scrolled": true
   },
   "outputs": [],
   "source": [
    "my_gradstudent = Grad_Student('Emanoel Agbayani', 26, 'Cognitive Science', 'UCSD')"
   ]
  },
  {
   "cell_type": "code",
   "execution_count": null,
   "metadata": {},
   "outputs": [],
   "source": [
    "my_gradstudent.introduction_2()"
   ]
  },
  {
   "cell_type": "markdown",
   "metadata": {},
   "source": [
    "<h3 style=\"text-align: center\"><strong>Now you know how to create Classes, Class Attributes and Methods, and Instance Attributes!</strong></h3>\n",
    "\n",
    "Remember!!! \n",
    "\n",
    "Attributes can be thought of as **Variable Assignment** !!!\n",
    "\n",
    "Methods can be thought of as **Functions**!!!"
   ]
  },
  {
   "cell_type": "markdown",
   "metadata": {},
   "source": [
    "## On-Campus ways to be involved with Coding/Machine Learning:\n",
    "\n",
    "- Triton Prosthetics Society: https://discord.gg/sfJrRqsX\n",
    "- ACM: https://discord.gg/jFkaxRZ6"
   ]
  }
 ],
 "metadata": {
  "kernelspec": {
   "display_name": "Python 3 (ipykernel)",
   "language": "python",
   "name": "python3"
  },
  "language_info": {
   "codemirror_mode": {
    "name": "ipython",
    "version": 3
   },
   "file_extension": ".py",
   "mimetype": "text/x-python",
   "name": "python",
   "nbconvert_exporter": "python",
   "pygments_lexer": "ipython3",
   "version": "3.11.8"
  }
 },
 "nbformat": 4,
 "nbformat_minor": 4
}
