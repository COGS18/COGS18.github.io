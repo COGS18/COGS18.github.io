{
 "cells": [
  {
   "cell_type": "markdown",
   "id": "9a403699",
   "metadata": {
    "nbgrader": {
     "grade": false,
     "grade_id": "intro",
     "locked": true,
     "schema_version": 3,
     "solution": false
    }
   },
   "source": [
    "# COGS 18 - Pratice Final Exam\n",
    "\n",
    "This is the practice final exam for Spring 2023. It covers topics through the end of the course.\n",
    "\n",
    "This exam is out of 0 points, but the real thing will be out of 19 points, worth 19% of your grade. \n",
    "\n",
    "**PLEASE DO NOT CHANGE THE NAME OF THIS FILE.**\n",
    "\n",
    "**PLEASE DO NOT COPY & PASTE OR DELETE CELLS INLCUDED IN THE EXAM.** (Note that you can add additional cells, if you want to test things out."
   ]
  },
  {
   "cell_type": "markdown",
   "id": "64f3dbe3",
   "metadata": {
    "nbgrader": {
     "grade": false,
     "grade_id": "cell-0bdbfd4b5b7050f9",
     "locked": true,
     "schema_version": 3,
     "solution": false,
     "task": false
    }
   },
   "source": [
    "## Instructions\n",
    "\n",
    "#### Timing\n",
    "- The exam is designed to take you ~2-3h.\n",
    "- There will be a 48+ hour window during which you can complete this exam.\n",
    "- If it takes you longer than 3h, you're free to use that time.\n",
    "\n",
    "#### The Rules\n",
    "- You are to complete this exam on your own.\n",
    "- This is open-notes & open-Google\n",
    "- You may not talk to any humans about this exam. \n",
    "- The following are all *prohibited*:\n",
    "    - text/phone/online chat communication\n",
    "    - posting questions to a message board where a human could respond (Campuswire, Discord, Chegg, any similar site)\n",
    "    - viewing exam questions from a message board (as described above)\n",
    "    - asking anyone via any form about a question on this test directly\n",
    "- Clarification questions will ***not*** be allowed and there will be no posting on Campuswire about the exam at all. \n",
    "    - Campuswire posts about the exam will not be answered and will be deleted. \n",
    "    - Students who post questions about the exam to Campuswire are at risk of losing points on the exam.\n",
    "    - If you are confused about wording, add a note to your exam explaining your confusion and how you interpreted the question. \n",
    "    - Note: This policy is b/c we are incapable of responding for 48+ hours straight. This is the only way to make it fair across the board for students."
   ]
  },
  {
   "cell_type": "markdown",
   "id": "33f64430",
   "metadata": {
    "nbgrader": {
     "grade": false,
     "grade_id": "cell-516057c92936dcb0",
     "locked": true,
     "schema_version": 3,
     "solution": false,
     "task": false
    }
   },
   "source": [
    " <span style=\"color: red;\">Note: </span> There _is_ a chance for partial credit on some questions, so _some_ code is better than _no_ code. Even if it throws an error, having some code that partially answers the question will benefit you/your grade."
   ]
  },
  {
   "cell_type": "markdown",
   "id": "00fe1ff1",
   "metadata": {
    "nbgrader": {
     "grade": false,
     "grade_id": "cell-65babcd260f10212",
     "locked": true,
     "schema_version": 3,
     "solution": false,
     "task": false
    }
   },
   "source": [
    "### Q0 - Honor Code\n",
    "\n",
    "In the cell below, include a variable `honor_code` that stores the boolean `True` if you agree to the following statement:\n",
    "\n",
    ">I agree that this exam was completed individually with the knowlege in my brain, information the notes from this course, and/or with searching for help on the Internet *without searching for answers to the text from these questions directly*. I did not ask anyone about specific questions on this exam. I did not post these questions (in part or in whole) on the Internet. I did not copy answers to these questions from anywhere or anyone else. I understand all code I've written on this exam and could explain my answers to someone else if asked.\n"
   ]
  },
  {
   "cell_type": "code",
   "execution_count": 1,
   "id": "89388e9f",
   "metadata": {
    "nbgrader": {
     "grade": false,
     "grade_id": "cell-1c43003780d414c6",
     "locked": false,
     "schema_version": 3,
     "solution": true,
     "task": false
    }
   },
   "outputs": [],
   "source": [
    "### BEGIN SOLUTION\n",
    "honor_code = True\n",
    "### END SOLUTION"
   ]
  },
  {
   "cell_type": "code",
   "execution_count": 2,
   "id": "b2b22017",
   "metadata": {
    "nbgrader": {
     "grade": true,
     "grade_id": "cell-2fa97174501cfae8",
     "locked": true,
     "points": 0,
     "schema_version": 3,
     "solution": false,
     "task": false
    }
   },
   "outputs": [],
   "source": [
    "assert honor_code"
   ]
  },
  {
   "cell_type": "markdown",
   "id": "f3128e5c",
   "metadata": {
    "nbgrader": {
     "grade": false,
     "grade_id": "cell-76a5d75a30bb1182",
     "locked": true,
     "schema_version": 3,
     "solution": false,
     "task": false
    }
   },
   "source": [
    "## Project Intro\n",
    "\n",
    "In this project, you'll be working with data collected by questionnaire that looked to better understand Student Time Management.\n",
    "\n",
    "While there are many questions one *could* ask about this dataset, we're going to focus on the following question:\n",
    "\n",
    "> Does gender affect whether someone is more likely to leave something to the last minute?\n",
    "\n",
    "While everything you need has been provided in the final folder, if you're interested, more information about these data can be read [on kaggle](https://www.kaggle.com/xiaowenlimarketing/international-student-time-management).\n",
    "\n",
    "*Caveat*: In these data, data from only two genders are represented (males, females); however, gender is not binary and a better dataset would be more reflective of this fact."
   ]
  },
  {
   "cell_type": "markdown",
   "id": "e5a716cf",
   "metadata": {
    "nbgrader": {
     "grade": false,
     "grade_id": "cell-8aff25612b088f1c",
     "locked": true,
     "schema_version": 3,
     "solution": false,
     "task": false
    }
   },
   "source": [
    "### Files Included\n",
    "\n",
    "There are 5 files included in your Project folder. Each is described below:\n",
    "\n",
    "- `Final.ipynb` | this notebook file; includes exam instructions\n",
    "- `time_manageement.py` | module that will store your functions (has a single function in it to start)\n",
    "- `test_time_management.py` | test file (has a single test function to start)\n",
    "- `International students Time management data.csv` | data file with the data we'll be using for the analayis\n",
    "- `testfile.csv` | a smaller version of the data file that can be used for testing\n",
    "\n",
    "**Do not move or change the name of any of these files.**"
   ]
  },
  {
   "cell_type": "markdown",
   "id": "f3a52c11",
   "metadata": {
    "nbgrader": {
     "grade": false,
     "grade_id": "cell-16901a78cdbb3c8f",
     "locked": true,
     "schema_version": 3,
     "solution": false,
     "task": false
    }
   },
   "source": [
    "## Part 1: Code + Module  (11 pts)\n",
    "\n",
    "In this section, you'll write the functions needed to carry out the analysis."
   ]
  },
  {
   "cell_type": "markdown",
   "id": "56c0dd83",
   "metadata": {
    "nbgrader": {
     "grade": false,
     "grade_id": "cell-1b19f542694e258b",
     "locked": true,
     "schema_version": 3,
     "solution": false,
     "task": false
    }
   },
   "source": [
    "### Q1: function: `read_data` (3 pts)\n",
    "\n",
    "Define a function `read_data` with a single parameter `file` that accomplishes the following, using `pandas` functions/methods:\n",
    "\n",
    "1. uses `pandas` to read the `file` in\n",
    "2. extracts only two of the columns: `'Gender'` and `'11'`\n",
    "3. Renames these two columns to have the column names `'gender'` and `'last_minute'`\n",
    "4. `return`s the resulting DataFrame from the function.\n",
    "\n",
    "Notes:\n",
    "- column '11' from the original dataset are respondent's response on the questionnaire to the statement 'You tend to leave things to the last minute'\n",
    "- to test out your function here, you'll need to `import pandas as pd` first (outside your function).\n",
    "\n",
    "**Suggested smoke test**: Executing the function as follows: `read_data(file = 'testfile.csv')` should return a `pandas` DataFrame with two columns and 10 rows."
   ]
  },
  {
   "cell_type": "code",
   "execution_count": 3,
   "id": "eaafbdff",
   "metadata": {
    "nbgrader": {
     "grade": false,
     "grade_id": "cell-1a00bd145029f997",
     "locked": false,
     "schema_version": 3,
     "solution": true,
     "task": false
    }
   },
   "outputs": [],
   "source": [
    "### BEGIN SOLUTION\n",
    "import pandas as pd\n",
    "\n",
    "def read_data(file):\n",
    "    \n",
    "    df = pd.read_csv(file)\n",
    "    df = df[['Gender', '11']]\n",
    "    df.columns = ['gender', 'last_minute']\n",
    "    \n",
    "    return df\n",
    "### END SOLUTION"
   ]
  },
  {
   "cell_type": "code",
   "execution_count": null,
   "id": "7bf013ce",
   "metadata": {},
   "outputs": [],
   "source": [
    "# BE SURE YOUR ANSWER IS IN THE CELL ABOVE\n",
    "# but you can use this cell to test/execute/check your thinking (optional)"
   ]
  },
  {
   "cell_type": "code",
   "execution_count": 4,
   "id": "fc27cba4",
   "metadata": {
    "nbgrader": {
     "grade": true,
     "grade_id": "cell-1d31bb00de367f31",
     "locked": true,
     "points": 0.5,
     "schema_version": 3,
     "solution": false,
     "task": false
    }
   },
   "outputs": [],
   "source": [
    "assert read_data\n",
    "### BEGIN HIDDEN TESTS\n",
    "import pandas as pd\n",
    "df = read_data('testfile.csv')\n",
    "assert isinstance(df, pd.DataFrame)\n",
    "### END HIDDEN TESTS"
   ]
  },
  {
   "cell_type": "code",
   "execution_count": 5,
   "id": "f11edb23",
   "metadata": {
    "nbgrader": {
     "grade": true,
     "grade_id": "cell-27ab0369eac92b75",
     "locked": true,
     "points": 0.5,
     "schema_version": 3,
     "solution": false,
     "task": false
    }
   },
   "outputs": [],
   "source": [
    "# hidden test to check correct output shape\n",
    "### BEGIN HIDDEN TESTS\n",
    "# check extracted columns correctly\n",
    "assert df.shape == (10, 2)\n",
    "### END HIDDEN TESTS"
   ]
  },
  {
   "cell_type": "code",
   "execution_count": 6,
   "id": "017e5519",
   "metadata": {
    "nbgrader": {
     "grade": true,
     "grade_id": "cell-460c72010bbad8f5",
     "locked": true,
     "points": 0.5,
     "schema_version": 3,
     "solution": false,
     "task": false
    }
   },
   "outputs": [],
   "source": [
    "# hidden test to check correct column names\n",
    "### BEGIN HIDDEN TESTS\n",
    "# check columns renamed correctly\n",
    "assert list(df.columns) == ['gender', 'last_minute']\n",
    "### END HIDDEN TESTS"
   ]
  },
  {
   "cell_type": "markdown",
   "id": "d09caf2b",
   "metadata": {
    "nbgrader": {
     "grade": false,
     "grade_id": "cell-727a4fb9129b4554",
     "locked": true,
     "points": 1.5,
     "schema_version": 3,
     "solution": false,
     "task": true
    }
   },
   "source": [
    "**This \"blank\" cell included intentionally.** Do not do anything here. (It's being used in grading.)\n",
    "\n",
    "=== BEGIN MARK SCHEME ===\n",
    "\n",
    "If points lost above, check for partial credit (otherwise, give full credit):\n",
    "- function defined correctly with `data` parameter (**0.2 pts**)\n",
    "- reads file in correctly using `pd.read_csv()` function (**0.25 pts**)\n",
    "- selects columns correctly (**0.5 pts**)\n",
    "- renames columns correctly (**0.5 pts**)\n",
    "- includes `return` statement (**0.05 pts**)\n",
    "\n",
    "=== END MARK SCHEME ==="
   ]
  },
  {
   "cell_type": "markdown",
   "id": "a45b7ac7",
   "metadata": {
    "nbgrader": {
     "grade": false,
     "grade_id": "cell-e2ab314a409f5570",
     "locked": true,
     "schema_version": 3,
     "solution": false,
     "task": false
    }
   },
   "source": [
    "### Q2: function: `calculate_stats` (3 pts)\n",
    "\n",
    "Now, define a function `calculate_stats` that takes in two parameters `df` (the DataFrame it will operate on) and `label` (the value in the column that we want to extract - which will be either 'M' or 'F' upon execution). \n",
    "\n",
    "This function should:\n",
    "1. Filter to only include those values from the `'gender'` column in `df` that are exactly equal to `label`\n",
    "2. Calculate `value_counts()` on the `'last_minute'` column of the dataframe generated in step 1 above, using the `normalize=True` parameter in the `value_counts()` method\n",
    "3. `return`s the results from step 2 from the function\n",
    "\n",
    "**Suggested smoke tests**: Executing the function as follows (where `df` is the output after having run `read_data()` on 'testfile.csv'): `calculate_stats(df, 'M')` should return:\n",
    "\n",
    "```\n",
    "Neither    0.6\n",
    "Agree      0.4\n",
    "Name: last_minute, dtype: float64\n",
    "```\n",
    "\n",
    "and `calculate_stats(df, 'F')` should return:\n",
    "\n",
    "```\n",
    "Strong Agree    0.4\n",
    "Disagree        0.4\n",
    "Agree           0.2\n",
    "Name: last_minute, dtype: float64\n",
    "```"
   ]
  },
  {
   "cell_type": "code",
   "execution_count": 7,
   "id": "24c4b7e2",
   "metadata": {
    "nbgrader": {
     "grade": false,
     "grade_id": "cell-afa8d458aebc68a8",
     "locked": false,
     "schema_version": 3,
     "solution": true,
     "task": false
    }
   },
   "outputs": [],
   "source": [
    "### BEGIN SOLUTION\n",
    "def calculate_stats(df, label):\n",
    "    \n",
    "    df = df[df['gender'] == label]\n",
    "    val_counts = df['last_minute'].value_counts(normalize=True)\n",
    "    \n",
    "    return val_counts\n",
    "### END SOLUTION"
   ]
  },
  {
   "cell_type": "code",
   "execution_count": 8,
   "id": "d5b90540",
   "metadata": {
    "nbgrader": {
     "grade": true,
     "grade_id": "cell-aefae4ed66a24acc",
     "locked": true,
     "points": 0.25,
     "schema_version": 3,
     "solution": false,
     "task": false
    }
   },
   "outputs": [],
   "source": [
    "# hidden test to check function executes without error\n",
    "### BEGIN HIDDEN TESTS\n",
    "df = read_data('testfile.csv')\n",
    "out_M = calculate_stats(df, 'M') \n",
    "out_F = calculate_stats(df, 'F')\n",
    "### END HIDDEN TESTS"
   ]
  },
  {
   "cell_type": "code",
   "execution_count": 9,
   "id": "fe2970b4",
   "metadata": {
    "nbgrader": {
     "grade": true,
     "grade_id": "cell-65155f89eb909bfb",
     "locked": true,
     "points": 0.25,
     "schema_version": 3,
     "solution": false,
     "task": false
    }
   },
   "outputs": [],
   "source": [
    "# hidden test to check output is of correct type\n",
    "### BEGIN HIDDEN TESTS\n",
    "assert isinstance(out_M, pd.Series)\n",
    "assert isinstance(out_F, pd.Series)\n",
    "### END HIDDEN TESTS"
   ]
  },
  {
   "cell_type": "code",
   "execution_count": 10,
   "id": "213588b6",
   "metadata": {
    "nbgrader": {
     "grade": true,
     "grade_id": "cell-2b38fb1aeaf6bb97",
     "locked": true,
     "points": 0.5,
     "schema_version": 3,
     "solution": false,
     "task": false
    }
   },
   "outputs": [],
   "source": [
    "# hidden test to check check categories are correct\n",
    "### BEGIN HIDDEN TESTS\n",
    "assert set(list(out_M.index)) == set(['Neither', 'Agree'])\n",
    "assert set(list(out_F.index)) == set(['Disagree', 'Strong Agree', 'Agree'])\n",
    "### END HIDDEN TESTS"
   ]
  },
  {
   "cell_type": "code",
   "execution_count": 11,
   "id": "133e0e1a",
   "metadata": {
    "nbgrader": {
     "grade": true,
     "grade_id": "cell-14ba1f3c9aed3938",
     "locked": true,
     "points": 0.5,
     "schema_version": 3,
     "solution": false,
     "task": false
    }
   },
   "outputs": [],
   "source": [
    "# hidden test to check check values are correct\n",
    "### BEGIN HIDDEN TESTS\n",
    "assert set(list(out_M.values)) == set([0.6, 0.4])\n",
    "assert set(list(out_F.values)) == set([0.4, 0.4, 0.2])\n",
    "### END HIDDEN TESTS"
   ]
  },
  {
   "cell_type": "markdown",
   "id": "b1964477",
   "metadata": {
    "nbgrader": {
     "grade": false,
     "grade_id": "cell-a0c76fe9aa784dc0",
     "locked": true,
     "points": 1.5,
     "schema_version": 3,
     "solution": false,
     "task": true
    }
   },
   "source": [
    "**This \"blank\" cell included intentionally.** Do not do anything here. (It's being used in grading.)\n",
    "\n",
    "=== BEGIN MARK SCHEME ===\n",
    "\n",
    "If points lost above, check for partial credit (otherwise, give full credit):\n",
    "- function defined correctly with parameters `df` amd `label` (**0.25 pts**)\n",
    "- conditional filtering correct (**0.5 pts**)\n",
    "- value_counts() syntax correct; specifies `normalize=True` parameter (**0.5 pts**)\n",
    "- `return` statement included (**0.25 pts**)\n",
    "\n",
    "=== END MARK SCHEME ==="
   ]
  },
  {
   "cell_type": "markdown",
   "id": "77cdf35f",
   "metadata": {
    "nbgrader": {
     "grade": false,
     "grade_id": "cell-99b75634429b425b",
     "locked": true,
     "schema_version": 3,
     "solution": false,
     "task": false
    }
   },
   "source": [
    "### Q3: module `time_management.py` (5 pts)\n",
    "\n",
    "Here, we'll move your functions from Part 1 into our `time_management` module and get that module all ready to go!\n",
    "\n",
    "`time_management.py` has three `import` statements at the top and a single function `generate_plot`. The code in `generate_plot` functions; however, you'll notice that the code style is poor. You'll fix that in just a second!\n",
    "\n",
    "To make this module more complete and polished, carry out the following steps:\n",
    "\n",
    "1. Copy the `read_data` and `calculate_stats` functions from Q1 and Q2 (respectively) into the `time_management` module (the module will have three functions total, including `generate_plot`)\n",
    "2. Edit all three functions for Code Style, as discussed in class\n",
    "3. Add helpful code comments throughout all three functions\n",
    "4. Add `numpy` style docs to all three functions, as discussed in class\n",
    "\n",
    "Note: Nothing has to be done in the notebook for this question. Everything will happen in `time_management.py`"
   ]
  },
  {
   "cell_type": "markdown",
   "id": "bd0f7263",
   "metadata": {
    "nbgrader": {
     "grade": false,
     "grade_id": "cell-11ebcb4b45937698",
     "locked": true,
     "points": 5,
     "schema_version": 3,
     "solution": false,
     "task": true
    }
   },
   "source": [
    "**This \"blank\" cell included intentionally.** Do not do anything here. (It's being used in grading.)\n",
    "\n",
    "=== BEGIN MARK SCHEME ===\n",
    "\n",
    "To grade, you'll have to open up this student's `time_management.py` file:\n",
    "- contains 3 functions (**0.5 pts**)\n",
    "- all three functions have good code style (line spacing, spacing around operators, good variable names, etc.) (**1.5 pts**)\n",
    "- functions contain at least some level of helpful code comments (**1 pts**)\n",
    "- functions contain `numpy` style docstrings, specifying one-liner, Parameters, and Returns (**2 pts**)\n",
    "\n",
    "=== END MARK SCHEME ==="
   ]
  },
  {
   "cell_type": "markdown",
   "id": "4cd1e4af",
   "metadata": {
    "nbgrader": {
     "grade": false,
     "grade_id": "cell-691e6e62f44e642b",
     "locked": true,
     "schema_version": 3,
     "solution": false,
     "task": false
    }
   },
   "source": [
    "## Part 2: Code Testing (4.5 pts)\n",
    "\n",
    "At this point, you've got three well-documented functions with helpful code comments and good code style in `time_management.py`. Now it's time to focus on our code tests!"
   ]
  },
  {
   "cell_type": "markdown",
   "id": "cd22ee3a",
   "metadata": {
    "nbgrader": {
     "grade": false,
     "grade_id": "cell-7a0e38ca05197c80",
     "locked": true,
     "schema_version": 3,
     "solution": false,
     "task": false
    }
   },
   "source": [
    "### Q4: test function: `test_calculate_stats` (1.5 pts)\n",
    "\n",
    "`test_calculate_stats()` has been provided for you. Describe in the cell containing ***Replace this with your explanation*** what exactly this test function is accomplishing/testing. (This will likely include an explanation of each line of code.)"
   ]
  },
  {
   "cell_type": "code",
   "execution_count": null,
   "id": "5c11218c",
   "metadata": {},
   "outputs": [],
   "source": [
    "# FEEL FREE TO USE THIS CELL TO CHECK YOUR UNDERSTANDING (optional)"
   ]
  },
  {
   "cell_type": "markdown",
   "id": "52905ef0",
   "metadata": {},
   "source": [
    "***Replace this with your explanation.***"
   ]
  },
  {
   "cell_type": "markdown",
   "id": "b0ca027b",
   "metadata": {
    "nbgrader": {
     "grade": false,
     "grade_id": "cell-d2b026b00252f52c",
     "locked": true,
     "points": 1.5,
     "schema_version": 3,
     "solution": false,
     "task": true
    }
   },
   "source": [
    "**This \"blank\" cell included intentionally.** Do not do anything here. (It's being used in grading.)\n",
    "\n",
    "=== BEGIN MARK SCHEME ===\n",
    "\n",
    "- overall explanation of the test function/what a test function is is close to right (**0.25 pts**)\n",
    "- describes dummy DataFrame creation (**0.25 pts**)\n",
    "\n",
    "the following four could explain either/both the M/F versions\n",
    "- correctly explains that `out_M = calculate_stats(df, 'M')` is executing the function (**0.25 pts**)\n",
    "- explains that `assert isinstance(out_M, pd.Series)` is checking the output type (**0.25 pts**)\n",
    "- explains that `assert list(out_M.index) == ['Neither', 'Agree']` is the categories from the original datframe (**0.25 pts**)\n",
    "- explains that `assert list(out_M.values) == [0.6, 0.4]` are the proportions of how often the value shows up (**0.25 pts**)\n",
    "\n",
    "=== END MARK SCHEME ==="
   ]
  },
  {
   "cell_type": "markdown",
   "id": "fb3e4764",
   "metadata": {
    "nbgrader": {
     "grade": false,
     "grade_id": "cell-a66a47ceca428493",
     "locked": true,
     "schema_version": 3,
     "solution": false,
     "task": false
    }
   },
   "source": [
    "### Q5: test function: `test_read_data` (3 pts)\n",
    "\n",
    "Now it's your turn to write your own test function. Add a test function `test_read_data()` to `test_time_management.py` that 1) includes at least three `assert` statements and 2) tests the functionality of the `read_data` function. \n",
    "\n",
    "*Be sure to also include any necessary `import` statements at the top of the test file.*\n",
    "\n",
    "Notes:\n",
    "- this will likely use the `'testfile.csv'` file provided\n",
    "- nothing has to be done in the notebook here; however, feel free to test out your work below"
   ]
  },
  {
   "cell_type": "code",
   "execution_count": null,
   "id": "024d4abd",
   "metadata": {},
   "outputs": [],
   "source": [
    "# FEEL FREE TO USE THIS CELL TO CHECK YOUR UNDERSTANDING (optional)"
   ]
  },
  {
   "cell_type": "markdown",
   "id": "b8500096",
   "metadata": {
    "nbgrader": {
     "grade": false,
     "grade_id": "cell-56d1302cffeb086b",
     "locked": true,
     "points": 3,
     "schema_version": 3,
     "solution": false,
     "task": true
    }
   },
   "source": [
    "**This \"blank\" cell included intentionally.** Do not do anything here. (It's being used in grading.)\n",
    "\n",
    "=== BEGIN MARK SCHEME ===\n",
    "To grade, you'll have to open up this student's `test_time_management.py` file:\n",
    "\n",
    "- `import` statement included (**0.5 pts**)\n",
    "- `import` statement matches how used in tests (**0.5 pts**)\n",
    "- `test_read_data()` has at least 3 `assert`s  (**0.5 pts**)\n",
    "- `assert`s test functionality of the code (i.e. type of, shape of, columns in, and/or values in output) (**1.5 pts**)\n",
    "=== END MARK SCHEME ==="
   ]
  },
  {
   "cell_type": "markdown",
   "id": "37f6dc32",
   "metadata": {
    "nbgrader": {
     "grade": false,
     "grade_id": "cell-ceec5737e8b0e0ce",
     "locked": true,
     "schema_version": 3,
     "solution": false,
     "task": false
    }
   },
   "source": [
    "### Q6: `pytest` (2 pts)\n",
    "\n",
    "In the cell below, execute `pytest` on your test file."
   ]
  },
  {
   "cell_type": "code",
   "execution_count": 12,
   "id": "0396ae58",
   "metadata": {
    "nbgrader": {
     "grade": false,
     "grade_id": "cell-289115be2870f53e",
     "locked": false,
     "schema_version": 3,
     "solution": true,
     "task": false
    }
   },
   "outputs": [
    {
     "name": "stdout",
     "output_type": "stream",
     "text": [
      "\u001b[1m============================= test session starts ==============================\u001b[0m\n",
      "platform darwin -- Python 3.9.7, pytest-6.2.4, py-1.10.0, pluggy-0.13.1\n",
      "rootdir: /Users/shannonellis/Desktop/Teaching/COGS18/LectureNotes-COGS18/ExamPrep/PracticeFinal\n",
      "plugins: anyio-2.2.0\n",
      "collected 2 items                                                              \u001b[0m\u001b[1m\n",
      "\n",
      "test_time_management.py \u001b[32m.\u001b[0m\u001b[32m.\u001b[0m\u001b[32m                                               [100%]\u001b[0m\n",
      "\n",
      "\u001b[32m============================== \u001b[32m\u001b[1m2 passed\u001b[0m\u001b[32m in 1.04s\u001b[0m\u001b[32m ===============================\u001b[0m\n"
     ]
    }
   ],
   "source": [
    "### BEGIN SOLUTION\n",
    "!pytest test_time_management.py\n",
    "\n",
    "#OR \n",
    "\n",
    "# !pytest\n",
    "### END SOLUTION"
   ]
  },
  {
   "cell_type": "code",
   "execution_count": 13,
   "id": "132bd2c8",
   "metadata": {
    "nbgrader": {
     "grade": true,
     "grade_id": "cell-87fa8c6fd9817fc0",
     "locked": true,
     "points": 1,
     "schema_version": 3,
     "solution": false,
     "task": false
    }
   },
   "outputs": [],
   "source": [
    "# hidden test running pytest\n",
    "### BEGIN HIDDEN TESTS\n",
    "out = !pytest test_time_management.py\n",
    "assert out.grep(\"ERRORS\") == []\n",
    "assert out.grep(\"FAILED\") == []\n",
    "### END HIDDEN TESTS"
   ]
  },
  {
   "cell_type": "markdown",
   "id": "cee8bccb",
   "metadata": {
    "nbgrader": {
     "grade": false,
     "grade_id": "cell-0b701d7378262d41",
     "locked": true,
     "points": 1,
     "schema_version": 3,
     "solution": false,
     "task": true
    }
   },
   "source": [
    "**This \"blank\" cell included intentionally.** Do not do anything here. (It's being used in grading.)\n",
    "\n",
    "=== BEGIN MARK SCHEME ===\n",
    "\n",
    "- syntax calling `pytest` correct (even if tests failed) (**1 pt**) \n",
    "\n",
    "=== END MARK SCHEME ==="
   ]
  },
  {
   "cell_type": "markdown",
   "id": "e2277796",
   "metadata": {
    "nbgrader": {
     "grade": false,
     "grade_id": "cell-d4fc1b11741335db",
     "locked": true,
     "schema_version": 3,
     "solution": false,
     "task": false
    }
   },
   "source": [
    "## Part 3: `import` (+ use) (1.5 pts)"
   ]
  },
  {
   "cell_type": "markdown",
   "id": "dfa71bb8",
   "metadata": {
    "nbgrader": {
     "grade": false,
     "grade_id": "cell-e2c2e62ece0dfde0",
     "locked": true,
     "schema_version": 3,
     "solution": false,
     "task": false
    }
   },
   "source": [
    "### Q7: module import (1.5 pts)\n",
    "\n",
    "At this point you have a module with three functions and a test file with two functions, on which you've (hopefully successfully) executed `pytest` and have passing tests.\n",
    "\n",
    "Now, it's time to put it all together and use it!\n",
    "\n",
    "Below, `import` your `time_management` module below, so that when you execute the four cells with code provided below, they execute without error, with the final cell producing a plot of your data.\n",
    "\n",
    "Note: You will likely need to restart your kernel before the `import` will work."
   ]
  },
  {
   "cell_type": "code",
   "execution_count": 14,
   "id": "18706433",
   "metadata": {
    "nbgrader": {
     "grade": false,
     "grade_id": "cell-a74fbd0ae9141f54",
     "locked": false,
     "schema_version": 3,
     "solution": true,
     "task": false
    }
   },
   "outputs": [],
   "source": [
    "### BEGIN SOLUTION\n",
    "import time_management as tm\n",
    "### END SOLUTION"
   ]
  },
  {
   "cell_type": "markdown",
   "id": "0336b8c9",
   "metadata": {
    "nbgrader": {
     "grade": false,
     "grade_id": "cell-36d2b37a342fb65a",
     "locked": true,
     "points": 0.5,
     "schema_version": 3,
     "solution": false,
     "task": true
    }
   },
   "source": [
    "**This \"blank\" cell included intentionally.** Do not do anything here. (It's being used in grading.)\n",
    "\n",
    "=== BEGIN MARK SCHEME ===\n",
    "\n",
    "- `import time_management as tm` syntax correct; even if it produces an error, give full credit (**0.5 pts**)\n",
    "\n",
    "=== END MARK SCHEME ==="
   ]
  },
  {
   "cell_type": "code",
   "execution_count": 15,
   "id": "5d53e73a",
   "metadata": {
    "nbgrader": {
     "grade": false,
     "grade_id": "cell-b11bf0bb5d80ec8b",
     "locked": true,
     "schema_version": 3,
     "solution": false,
     "task": false
    }
   },
   "outputs": [],
   "source": [
    "# execute read_data function\n",
    "df = tm.read_data(file = 'International students Time management data.csv')"
   ]
  },
  {
   "cell_type": "code",
   "execution_count": 16,
   "id": "c2a128a6",
   "metadata": {
    "nbgrader": {
     "grade": false,
     "grade_id": "cell-8ef7e34cef8de3ce",
     "locked": true,
     "schema_version": 3,
     "solution": false,
     "task": false
    }
   },
   "outputs": [
    {
     "data": {
      "text/plain": [
       "Neither            0.338710\n",
       "Disagree           0.274194\n",
       "Agree              0.258065\n",
       "Strong Disagree    0.064516\n",
       "Strong Agree       0.064516\n",
       "Name: last_minute, dtype: float64"
      ]
     },
     "execution_count": 16,
     "metadata": {},
     "output_type": "execute_result"
    }
   ],
   "source": [
    "# execute calculate_stats function\n",
    "tm.calculate_stats(df, 'M')"
   ]
  },
  {
   "cell_type": "code",
   "execution_count": 17,
   "id": "f4a96266",
   "metadata": {
    "nbgrader": {
     "grade": false,
     "grade_id": "cell-d77ef8aa26ca6225",
     "locked": true,
     "schema_version": 3,
     "solution": false,
     "task": false
    }
   },
   "outputs": [
    {
     "data": {
      "text/plain": [
       "Disagree           0.311475\n",
       "Agree              0.245902\n",
       "Neither            0.213115\n",
       "Strong Disagree    0.147541\n",
       "Strong Agree       0.081967\n",
       "Name: last_minute, dtype: float64"
      ]
     },
     "execution_count": 17,
     "metadata": {},
     "output_type": "execute_result"
    }
   ],
   "source": [
    "# execute calculate_stats function\n",
    "tm.calculate_stats(df, 'F')"
   ]
  },
  {
   "cell_type": "code",
   "execution_count": 18,
   "id": "23be34d8",
   "metadata": {
    "nbgrader": {
     "grade": false,
     "grade_id": "cell-feb9e9b37a07fe75",
     "locked": true,
     "schema_version": 3,
     "solution": false,
     "task": false
    }
   },
   "outputs": [
    {
     "data": {
      "image/png": "[encoded data removed]",
      "text/plain": [
       "<Figure size 1440x288 with 2 Axes>"
      ]
     },
     "metadata": {
      "needs_background": "light"
     },
     "output_type": "display_data"
    }
   ],
   "source": [
    "# produce a plot\n",
    "out = tm.generate_plot(df)"
   ]
  },
  {
   "cell_type": "code",
   "execution_count": 19,
   "id": "b09ea743",
   "metadata": {
    "nbgrader": {
     "grade": true,
     "grade_id": "cell-9e11c09f4c6be5d2",
     "locked": true,
     "points": 0.25,
     "schema_version": 3,
     "solution": false,
     "task": false
    }
   },
   "outputs": [],
   "source": [
    "assert tm.read_data"
   ]
  },
  {
   "cell_type": "code",
   "execution_count": 20,
   "id": "02854306",
   "metadata": {
    "nbgrader": {
     "grade": true,
     "grade_id": "cell-a927fadd81a1f911",
     "locked": true,
     "points": 0.25,
     "schema_version": 3,
     "solution": false,
     "task": false
    }
   },
   "outputs": [],
   "source": [
    "assert tm.calculate_stats"
   ]
  },
  {
   "cell_type": "code",
   "execution_count": 21,
   "id": "8b20ccc5",
   "metadata": {
    "nbgrader": {
     "grade": true,
     "grade_id": "cell-7709824a82974bad",
     "locked": true,
     "points": 0.25,
     "schema_version": 3,
     "solution": false,
     "task": false
    }
   },
   "outputs": [],
   "source": [
    "assert tm.generate_plot"
   ]
  },
  {
   "cell_type": "code",
   "execution_count": 22,
   "id": "08b89b2f",
   "metadata": {
    "nbgrader": {
     "grade": true,
     "grade_id": "cell-b211324399c9c5c1",
     "locked": true,
     "points": 0.25,
     "schema_version": 3,
     "solution": false,
     "task": false
    }
   },
   "outputs": [],
   "source": [
    "# hidden test to check that plot was generated\n",
    "### BEGIN HIDDEN TESTS\n",
    "import matplotlib.pyplot as plt\n",
    "assert isinstance(out, plt.Figure)\n",
    "### END HIDDEN TESTS"
   ]
  }
 ],
 "metadata": {
  "celltoolbar": "Create Assignment",
  "kernelspec": {
   "display_name": "Python 3 (ipykernel)",
   "language": "python",
   "name": "python3"
  },
  "language_info": {
   "codemirror_mode": {
    "name": "ipython",
    "version": 3
   },
   "file_extension": ".py",
   "mimetype": "text/x-python",
   "name": "python",
   "nbconvert_exporter": "python",
   "pygments_lexer": "ipython3",
   "version": "3.9.7"
  }
 },
 "nbformat": 4,
 "nbformat_minor": 5
}
