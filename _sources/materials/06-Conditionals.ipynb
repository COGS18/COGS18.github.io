{
 "cells": [
  {
   "cell_type": "markdown",
   "metadata": {
    "slideshow": {
     "slide_type": "slide"
    }
   },
   "source": [
    "**Course Announcements (Wed 1/12)**\n",
    "\n",
    "Due Dates:\n",
    "- **CL3** due tonight (11:59 PM)\n",
    "- **A1** accepted until late deadline w/o penalty (Thurs 1/20 11:59 PM)\n",
    "\n",
    "Notes:\n",
    "- **A2** now available\n",
    "- **CL2** scores posted (out of 2 pts; concerted effort)\n",
    "- Review:\n",
    "    - copy + paste code vs. copy + pasting a whole cell\n",
    "    - must define/execute cell before you can use the variables\n",
    "    - avoid hard-coding"
   ]
  },
  {
   "cell_type": "markdown",
   "metadata": {
    "slideshow": {
     "slide_type": "fragment"
    }
   },
   "source": [
    "Reminder: Do the greet clicker question!"
   ]
  },
  {
   "cell_type": "markdown",
   "metadata": {
    "slideshow": {
     "slide_type": "notes"
    }
   },
   "source": [
    "**Q&A**\n",
    "\n",
    "Q: So only def and return are operators specific to functions?  \n",
    "A: Correct!\n",
    "\n",
    "Q: But where do I go to find the answer keys for assignments and labs?  \n",
    "A: Lab answer keys are posted on the course website and on datahub in the Lectures-COGS18 folder...inside a folder called CL-Answers. Assignment answer keys aren't posted, but you'll get specific feedback about where points were lost. We'll discuss where to find this (on datahub assignments tab) after A1 is graded.\n",
    "\n",
    "Q: In a function, can one of the two parentheses be a number and the other one be strings?  \n",
    "A: Yup! \n",
    "\n",
    "Q: Is the way we create the instructions for the function done with the # and then the command?  \n",
    "A: You can always add a comment with # before the code, but remember the computer ignores all commentes...so you'd definitely still need the code.\n",
    "\n",
    "Q: When will the coding labs be graded by?   \n",
    "A: Typically, these are graded by Sunday night and I'll post grades Monday morning.\n",
    "\n",
    "Q: What does \"The source of the following cell has changed, but it should not have!\": mean?  \n",
    "A: This typically means you copy+pasted an instruction cell on an assignment. This is something you can't delete but that we can fix when grading your assignment. Do your best to avoid copy+pasting whole cells on an assignment to avoid this.\n",
    "\n",
    "Q: Just clarification regarding the fact that we can turn in assignment 1 late - is that a one time thing due to it being due on a weekend, or is it just a general one time situation for any of the assignments due?   \n",
    "A: This is a one time thing due to the holiday. Typically, assignments can be turned in up to 3 days late...but at a 25% penalty. This time, there will be no penalty applied.\n",
    "\n",
    "Q: In the function examples given in the notes, the instructions usually define an operation first such as 'answer= num1+num2', and then return that operation such as 'return answer'. I'm curious about whether you can just write 'return num1+num2', or you have to define some kind of variable first and then return that variable to get the proper answer?  \n",
    "A: You can just return directly! I didn't do this in the notes so that it was clear to students what was happening...but feel free to condense to a single line.\n",
    "\n",
    "Q: Can we use a function within a function? Specifically, ones that we defined prior to defining a new one?   \n",
    "A: Yes, you can use a function within a function; however, to execute a function, any functions used within it must already be defined.\n",
    "\n",
    "Q: I know we went over this in class, but I'm still a bit confused on what the difference between return and print is. Is return only used for functions?  \n",
    "A: `return` specifies what the output from your function should be. It IS specific to function definitions. `print()` is a general statement to use any time you want to \"check and see\" what is stored in a variable.\n",
    "\n",
    "Q: I saw the content of pseudocode in CL3. Do I miss this part in class or we haven't talked about it yet?  \n",
    "A: We won't discuss this in class explicitly, but the process is what we're doing every time we define a function.\n",
    "\n",
    "Q: I need to know the difference between a parameter and an argument and how they affect each other.   \n",
    "A: For our purposes, we can use these terms interchangeably. \n",
    "\n",
    "Q: The homework is not enough for me. What other resources do I have to practice the material?   \n",
    "A: Check out the extra practice problems [here](https://shanellis.github.io/pythonbook/content/intro.html). Note that the Answers section has answers to the practice problems. \n",
    "\n",
    "Q: Please give us a challenging question at the end of each lecture to test our knowledge that we can discuss in office hours or in the beginning of the next lecture.   \n",
    "A: We'll do this more and more, time permitting.\n",
    "\n",
    "Q: Is there any limitation on functions? Is there a maximum length that a function can be or any other things that limit how much or what you could write in a function?  \n",
    "A: No limits on functions theoretically, but we won't be writing functions that are too long/confusing. And, generally it's best for functions to do a single thing. If they get really long, there's probably a better approach - we'll get there!\n",
    "\n",
    "Q: How widely can we use function in our code beyond mathematics equation solving given as example?  \n",
    "A: We'll use them a TON throughout this course. You'll see that they're the building block for code as we build on this concept! \n",
    "\n",
    "Q: Kinda peeking ahead, but while I know that technically we can use the same variable name within different functions (like having two functions return a variable my_var that was defined within each function), is it considered bad practice to do so?  \n",
    "A: Yea - anything that makes your code harder to understand should generally be avoided.\n",
    "\n",
    "Q: When defining a function should we leave a blank line below the definition?  \n",
    "A: This is somewhat personal preference. I typically do...but it's not required.\n",
    "\n",
    "Q: How come if lets say I have a=5 and b=4, and I create a new cell and just write a in line one and b in line two does it only output as 4 and not 5 and 4? Is the way to change this just to write print(a) print(b)? Thanks!   </br>\n",
    "A: Yup, `print()` will *always* print. The variable on its own will only be displayed if it's the last statement in a cell.\n",
    "\n",
    "Q: I have a question from Assignment 1: In question 10, I would've loved to create a default value within my curve_grade function so that I didn't have to type out 0.03 for every student. I didn't want to mess with my original code, but in a situation like this, would the way to assign a default value be to go back to my original code, and add (points, curve = 0.03) to the parameters? Also, would this question have been better-directed to a private message on Campuswire?   \n",
    "A: Yup - this is a perfect message for Campuswire ...in fact, this could be a public message that way all students could benefit from the answer. So...*if* you knew that most of the time when you used this function the curve would be 0.03, yes, you would specify a default value within the function definition. However, in my thinking of this question, it was just *this* exam where we chose to do a 0.03 curve...so no need to edit the function definition. Hope that helps!\n",
    "\n",
    "Q: When we concatenating strings, how to make space between each string in our output?   \n",
    "A: See the end of the operators lecture.\n",
    "\n",
    "Q: Is the string can be only letters or letter+number? I'm still a little confused about the definition of string.  \n",
    "A: A string can be any character...that could be a letter, or a number, or a symbol, or a space. If it's in quotation marks...it's a string."
   ]
  },
  {
   "cell_type": "markdown",
   "metadata": {
    "slideshow": {
     "slide_type": "slide"
    }
   },
   "source": [
    "# Conditionals\n",
    "\n",
    "- `if`\n",
    "- `elif`\n",
    "- `else`"
   ]
  },
  {
   "cell_type": "markdown",
   "metadata": {
    "slideshow": {
     "slide_type": "slide"
    }
   },
   "source": [
    "## Conditionals: `if`"
   ]
  },
  {
   "cell_type": "markdown",
   "metadata": {
    "slideshow": {
     "slide_type": "fragment"
    }
   },
   "source": [
    "<div class=\"alert alert-success\">\n",
    "Conditionals are statements that check for a condition, using the <code>if</code> statement, and then only execute a set of code if the condition evaluates as <code>True</code>.\n",
    "</div>"
   ]
  },
  {
   "cell_type": "code",
   "execution_count": 4,
   "metadata": {
    "slideshow": {
     "slide_type": "slide"
    }
   },
   "outputs": [
    {
     "name": "stdout",
     "output_type": "stream",
     "text": [
      "This code executes if the condition evaluates as True.\n"
     ]
    }
   ],
   "source": [
    "condition = True\n",
    "\n",
    "if condition:\n",
    "    print('This code executes if the condition evaluates as True.')"
   ]
  },
  {
   "cell_type": "code",
   "execution_count": 5,
   "metadata": {
    "slideshow": {
     "slide_type": "fragment"
    }
   },
   "outputs": [
    {
     "name": "stdout",
     "output_type": "stream",
     "text": [
      "This code executes if the condition evaluates as True.\n"
     ]
    }
   ],
   "source": [
    "# equivalent to above\n",
    "if condition == True:  \n",
    "    print('This code executes if the condition evaluates as True.')"
   ]
  },
  {
   "cell_type": "markdown",
   "metadata": {
    "slideshow": {
     "slide_type": "slide"
    }
   },
   "source": [
    "#### Clicker Question #1\n",
    "\n",
    "Replace `---` below with something that will print 'True'\n",
    "\n",
    "- A) I did it!\n",
    "- B) I think I did it!\n",
    "- C) I tried but am stuck.\n",
    "- D) I'm unsure where to start"
   ]
  },
  {
   "cell_type": "code",
   "execution_count": 9,
   "metadata": {
    "slideshow": {
     "slide_type": "fragment"
    }
   },
   "outputs": [
    {
     "name": "stdout",
     "output_type": "stream",
     "text": [
      "True\n"
     ]
    }
   ],
   "source": [
    "math = 3 < 4\n",
    "\n",
    "if math:\n",
    "    print('True')"
   ]
  },
  {
   "cell_type": "markdown",
   "metadata": {
    "slideshow": {
     "slide_type": "slide"
    }
   },
   "source": [
    "## Conditional: `else`"
   ]
  },
  {
   "cell_type": "markdown",
   "metadata": {
    "slideshow": {
     "slide_type": "fragment"
    }
   },
   "source": [
    "<div class=\"alert alert-success\">\n",
    "After an <code>if</code>, you can use an <code>else</code> that will run if the conditional(s) above have not run.\n",
    "</div>"
   ]
  },
  {
   "cell_type": "code",
   "execution_count": 10,
   "metadata": {
    "slideshow": {
     "slide_type": "fragment"
    }
   },
   "outputs": [
    {
     "name": "stdout",
     "output_type": "stream",
     "text": [
      "This code executes if the condition evaluates as False\n"
     ]
    }
   ],
   "source": [
    "condition = False\n",
    "\n",
    "if condition:\n",
    "    print('This code executes if the condition evaluates as True.')\n",
    "else: \n",
    "    print('This code executes if the condition evaluates as False')"
   ]
  },
  {
   "cell_type": "markdown",
   "metadata": {
    "slideshow": {
     "slide_type": "slide"
    }
   },
   "source": [
    "#### Clicker Question #2\n",
    "\n",
    "Replace `---` below with something that will print 'False'.\n",
    "\n",
    "- A) I did it!\n",
    "- B) I think I did it!\n",
    "- C) I tried but am stuck.\n",
    "- D) I'm unsure where to start"
   ]
  },
  {
   "cell_type": "code",
   "execution_count": 12,
   "metadata": {
    "slideshow": {
     "slide_type": "fragment"
    }
   },
   "outputs": [
    {
     "name": "stdout",
     "output_type": "stream",
     "text": [
      "False\n"
     ]
    }
   ],
   "source": [
    "my_value = 3 == 4\n",
    "\n",
    "if my_value:\n",
    "    print('True')\n",
    "else: \n",
    "    print('False')"
   ]
  },
  {
   "cell_type": "markdown",
   "metadata": {
    "slideshow": {
     "slide_type": "slide"
    }
   },
   "source": [
    "## Conditional: `elif`"
   ]
  },
  {
   "cell_type": "markdown",
   "metadata": {
    "slideshow": {
     "slide_type": "fragment"
    }
   },
   "source": [
    "<div class=\"alert alert-success\">\n",
    "After an <code>if</code> statement, you can have any number of <code>elif</code>`s (meaning 'else if') to check other conditions.\n",
    "</div>"
   ]
  },
  {
   "cell_type": "code",
   "execution_count": 13,
   "metadata": {
    "scrolled": true,
    "slideshow": {
     "slide_type": "slide"
    }
   },
   "outputs": [
    {
     "name": "stdout",
     "output_type": "stream",
     "text": [
      "This code executes if condition_1 did not evaluate as True, but condition_2 does.\n"
     ]
    }
   ],
   "source": [
    "condition_1 = False\n",
    "condition_2 = True\n",
    "\n",
    "if condition_1:\n",
    "    print('This code executes if condition_1 evaluates as True.')\n",
    "elif condition_2:\n",
    "    print('This code executes if condition_1 did not evaluate as True, but condition_2 does.')\n",
    "else: \n",
    "    print('This code executes if both condition_1 and condition_2 evaluate as False')"
   ]
  },
  {
   "cell_type": "markdown",
   "metadata": {
    "slideshow": {
     "slide_type": "slide"
    }
   },
   "source": [
    "### `elif` without an `else`\n",
    "\n",
    "An else statement is not required, but if both the `if` and the `elif` condtions are not met (both evaluate as `False`), then nothing is returned."
   ]
  },
  {
   "cell_type": "code",
   "execution_count": 14,
   "metadata": {
    "slideshow": {
     "slide_type": "fragment"
    }
   },
   "outputs": [],
   "source": [
    "condition_1 = False\n",
    "condition_2 = False\n",
    "\n",
    "if condition_1:\n",
    "    print('This code executes if condition_1 evaluates as True.')\n",
    "elif condition_2:\n",
    "    print('This code executes if condition_1 did not evaluate as True, but condition_2 does.')"
   ]
  },
  {
   "cell_type": "markdown",
   "metadata": {
    "slideshow": {
     "slide_type": "slide"
    }
   },
   "source": [
    "### `elif` *after* an `else` does not make sense\n",
    "\n",
    "The order will always be `if`-`elif`-`else`...with only the `if` being required. If the `elif` is at the end...it will never be tested, as the `else` will have already returned a value once reached (and thus Python will throw an error)."
   ]
  },
  {
   "cell_type": "code",
   "execution_count": 15,
   "metadata": {
    "scrolled": false,
    "slideshow": {
     "slide_type": "fragment"
    }
   },
   "outputs": [
    {
     "ename": "SyntaxError",
     "evalue": "invalid syntax (<ipython-input-15-aedfc0cec5db>, line 9)",
     "output_type": "error",
     "traceback": [
      "\u001b[0;36m  File \u001b[0;32m\"<ipython-input-15-aedfc0cec5db>\"\u001b[0;36m, line \u001b[0;32m9\u001b[0m\n\u001b[0;31m    elif condition_2:\u001b[0m\n\u001b[0m    ^\u001b[0m\n\u001b[0;31mSyntaxError\u001b[0m\u001b[0;31m:\u001b[0m invalid syntax\n"
     ]
    }
   ],
   "source": [
    "## THIS CODE WILL PRODUCE AN ERROR\n",
    "condition_1 = False\n",
    "condition_2 = False\n",
    "\n",
    "if condition_1:\n",
    "    print('This code executes if condition_1 evaluates as True.')\n",
    "else: \n",
    "    print('This code executes if both condition_1 and condition_2 evaluate as False')\n",
    "elif condition_2:\n",
    "    print('This code executes if condition_1 did not evaluate as True, but condition_2 does.')"
   ]
  },
  {
   "cell_type": "markdown",
   "metadata": {
    "slideshow": {
     "slide_type": "slide"
    }
   },
   "source": [
    "## Conditionals With Value Comparisons"
   ]
  },
  {
   "cell_type": "markdown",
   "metadata": {
    "slideshow": {
     "slide_type": "-"
    }
   },
   "source": [
    "<div class=\"alert alert-success\">\n",
    "Any expression that can be evaluated as a boolean, such as value comparisons, can be used with conditionals.\n",
    "</div>"
   ]
  },
  {
   "cell_type": "code",
   "execution_count": 24,
   "metadata": {
    "slideshow": {
     "slide_type": "fragment"
    }
   },
   "outputs": [
    {
     "data": {
      "text/plain": [
       "True"
      ]
     },
     "execution_count": 24,
     "metadata": {},
     "output_type": "execute_result"
    }
   ],
   "source": [
    "speed_limit = 65\n",
    "speed = 70\n",
    "\n",
    "if speed > speed_limit:\n",
    "    ticket = True\n",
    "else:\n",
    "    ticket = False\n",
    "    \n",
    "ticket"
   ]
  },
  {
   "cell_type": "code",
   "execution_count": 7,
   "metadata": {},
   "outputs": [
    {
     "name": "stdout",
     "output_type": "stream",
     "text": [
      "Variable   Type    Data/Info\n",
      "----------------------------\n",
      "a1         str     in progress\n",
      "action     str     wait\n"
     ]
    }
   ],
   "source": [
    "%whos"
   ]
  },
  {
   "cell_type": "code",
   "execution_count": 10,
   "metadata": {},
   "outputs": [
    {
     "name": "stdout",
     "output_type": "stream",
     "text": [
      "uncertain\n"
     ]
    }
   ],
   "source": [
    "a1 = 'completed'\n",
    "\n",
    "if a1 == 'completed':\n",
    "    action = 'grade'\n",
    "\n",
    "if a1 == 'in progress':\n",
    "    action = 'wait'\n",
    "    \n",
    "if a1 == 'not started':\n",
    "    action = 'incomplete'\n",
    "else:\n",
    "    action = 'uncertain'\n",
    "\n",
    "print(action)"
   ]
  },
  {
   "cell_type": "code",
   "execution_count": 9,
   "metadata": {
    "slideshow": {
     "slide_type": "fragment"
    }
   },
   "outputs": [
    {
     "name": "stdout",
     "output_type": "stream",
     "text": [
      "wait\n"
     ]
    }
   ],
   "source": [
    "# string value comparisons also possible\n",
    "a1 = 'completed'\n",
    "\n",
    "if a1 == 'completed':\n",
    "    action = 'grade'\n",
    "elif a1 == 'in progress':\n",
    "    action = 'wait'\n",
    "elif a1 == 'not started':\n",
    "    action = 'incomplete'\n",
    "else:\n",
    "    action = 'uncertain'\n",
    "\n",
    "print(action)"
   ]
  },
  {
   "cell_type": "markdown",
   "metadata": {
    "slideshow": {
     "slide_type": "slide"
    }
   },
   "source": [
    "#### Clicker Question #3\n",
    "\n",
    "What will the following code snippet print out:"
   ]
  },
  {
   "cell_type": "code",
   "execution_count": 16,
   "metadata": {},
   "outputs": [
    {
     "data": {
      "text/plain": [
       "False"
      ]
     },
     "execution_count": 16,
     "metadata": {},
     "output_type": "execute_result"
    }
   ],
   "source": [
    "# condition\n",
    "\n",
    "5 > 10"
   ]
  },
  {
   "cell_type": "code",
   "execution_count": null,
   "metadata": {},
   "outputs": [],
   "source": [
    "condition = False\n",
    "\n",
    "if condition == True:\n",
    "    print(\"John\")\n",
    "elif condition == False:\n",
    "    print(\"Paul\")\n",
    "elif condition == False:\n",
    "    print(\"George\")\n",
    "else:\n",
    "    print(\"Ringo\")"
   ]
  },
  {
   "cell_type": "code",
   "execution_count": 17,
   "metadata": {
    "slideshow": {
     "slide_type": "fragment"
    }
   },
   "outputs": [
    {
     "name": "stdout",
     "output_type": "stream",
     "text": [
      "Paul\n"
     ]
    }
   ],
   "source": [
    "condition = False\n",
    "\n",
    "if condition:\n",
    "    print(\"John\")\n",
    "elif not condition:\n",
    "    print(\"Paul\")\n",
    "elif not condition:\n",
    "    print(\"George\")\n",
    "else:\n",
    "    print(\"Ringo\")"
   ]
  },
  {
   "cell_type": "markdown",
   "metadata": {
    "slideshow": {
     "slide_type": "fragment"
    }
   },
   "source": [
    "- A) John \n",
    "- B) Paul, George, Ringo \n",
    "- C) Paul \n",
    "- D) Paul, George \n",
    "- E) Ringo"
   ]
  },
  {
   "cell_type": "markdown",
   "metadata": {
    "slideshow": {
     "slide_type": "slide"
    }
   },
   "source": [
    "#### Clicker Question #4\n",
    "\n",
    "What will the following code snippet print out:"
   ]
  },
  {
   "cell_type": "code",
   "execution_count": null,
   "metadata": {
    "slideshow": {
     "slide_type": "fragment"
    }
   },
   "outputs": [],
   "source": [
    "if 1 + 1 == 2:\n",
    "    print(\"I did Math\")\n",
    "elif 1/0:\n",
    "    print(\"I broke Math\")\n",
    "else:\n",
    "    print(\"I didn't do math\")"
   ]
  },
  {
   "cell_type": "markdown",
   "metadata": {
    "slideshow": {
     "slide_type": "fragment"
    }
   },
   "source": [
    "- A) I did Math \n",
    "- B) I broke Math\n",
    "- C) I didn't do math\n",
    "- D) This code won't execute"
   ]
  },
  {
   "cell_type": "markdown",
   "metadata": {
    "slideshow": {
     "slide_type": "slide"
    }
   },
   "source": [
    "#### Clicker Question #5\n",
    "\n",
    "What will the following code snippet print out:"
   ]
  },
  {
   "cell_type": "code",
   "execution_count": 23,
   "metadata": {
    "slideshow": {
     "slide_type": "fragment"
    }
   },
   "outputs": [
    {
     "name": "stdout",
     "output_type": "stream",
     "text": [
      "I'm here.\n"
     ]
    }
   ],
   "source": [
    "conditional = False\n",
    "python = \"great\"\n",
    "\n",
    "if conditional:\n",
    "    if python == \"great\":\n",
    "        print(\"Yay Python!\")\n",
    "    else:\n",
    "        print(\"Oh no.\")\n",
    "else:\n",
    "    print(\"I'm here.\")"
   ]
  },
  {
   "cell_type": "markdown",
   "metadata": {
    "slideshow": {
     "slide_type": "fragment"
    }
   },
   "source": [
    "- A) Yay Python!\n",
    "- B) Oh no.\n",
    "- C) I'm here.\n",
    "- D) This code won't execute"
   ]
  },
  {
   "cell_type": "markdown",
   "metadata": {
    "collapsed": true,
    "slideshow": {
     "slide_type": "slide"
    }
   },
   "source": [
    "## Properties of conditionals\n",
    "\n",
    "- All conditionals start with an `if`, can have an optional and variable number of `elif`'s and an optional `else` statement\n",
    "- Conditionals can take any expression that can be evaluated as `True` or `False`. \n",
    "- At most one component (`if` / `elif` / `else`) of a conditional will run\n",
    "- The order of conditional blocks is always `if` then `elif`(s) then `else`\n",
    "- Code is only ever executed if the condition is met"
   ]
  },
  {
   "cell_type": "markdown",
   "metadata": {
    "slideshow": {
     "slide_type": "slide"
    }
   },
   "source": [
    "## Code Style: Conditionals\n",
    "\n",
    "- avoid single line statements\n",
    "- a single conditional (if + elif + else) has no additional line spaces between statements"
   ]
  },
  {
   "cell_type": "markdown",
   "metadata": {
    "slideshow": {
     "slide_type": "fragment"
    }
   },
   "source": [
    "### Conditionals: Good Code Style"
   ]
  },
  {
   "cell_type": "code",
   "execution_count": 25,
   "metadata": {
    "slideshow": {
     "slide_type": "-"
    }
   },
   "outputs": [],
   "source": [
    "value = 16\n",
    "\n",
    "if value % 2 == 0:\n",
    "    out = \"even\"\n",
    "else:\n",
    "    out = \"odd\""
   ]
  },
  {
   "cell_type": "markdown",
   "metadata": {
    "slideshow": {
     "slide_type": "fragment"
    }
   },
   "source": [
    "### Conditionals: Code Style to Avoid"
   ]
  },
  {
   "cell_type": "code",
   "execution_count": 26,
   "metadata": {
    "slideshow": {
     "slide_type": "-"
    }
   },
   "outputs": [],
   "source": [
    "if value%2==0:out=\"even\" # avoid statement on same line as conditional\n",
    "                         # avoid blank line between if and else\n",
    "else:out=\"odd\"           # don't forget about spacing around operators!                     "
   ]
  },
  {
   "cell_type": "markdown",
   "metadata": {
    "slideshow": {
     "slide_type": "slide"
    }
   },
   "source": [
    "## Functions + Conditionals\n",
    "\n",
    "Let's define a more interesting function than what we did in the functions lecture. Here we are using conditionals within our function."
   ]
  },
  {
   "cell_type": "code",
   "execution_count": 31,
   "metadata": {
    "slideshow": {
     "slide_type": "fragment"
    }
   },
   "outputs": [],
   "source": [
    "# Determine if a value is even or odd\n",
    "def even_odd(value): \n",
    "\n",
    "    if value % 2 == 0: \n",
    "        out = \"even\"\n",
    "    else: \n",
    "        out = \"odd\"\n",
    "            \n",
    "    return out"
   ]
  },
  {
   "cell_type": "code",
   "execution_count": 32,
   "metadata": {
    "scrolled": true,
    "slideshow": {
     "slide_type": "fragment"
    }
   },
   "outputs": [
    {
     "data": {
      "text/plain": [
       "'odd'"
      ]
     },
     "execution_count": 32,
     "metadata": {},
     "output_type": "execute_result"
    }
   ],
   "source": [
    "# Execute our function to check that\n",
    "# it is working according to our expectations\n",
    "even_odd(-1)"
   ]
  }
 ],
 "metadata": {
  "celltoolbar": "Slideshow",
  "kernelspec": {
   "display_name": "Python 3",
   "language": "python",
   "name": "python3"
  },
  "language_info": {
   "codemirror_mode": {
    "name": "ipython",
    "version": 3
   },
   "file_extension": ".py",
   "mimetype": "text/x-python",
   "name": "python",
   "nbconvert_exporter": "python",
   "pygments_lexer": "ipython3",
   "version": "3.9.5"
  },
  "rise": {
   "scroll": true
  }
 },
 "nbformat": 4,
 "nbformat_minor": 2
}
