{
 "cells": [
  {
   "cell_type": "markdown",
   "metadata": {
    "slideshow": {
     "slide_type": "slide"
    }
   },
   "source": [
    "# Final Exam Topics\n",
    "\n",
    "[![Open In Colab](https://colab.research.google.com/assets/colab-badge.svg)](https://colab.research.google.com/github/COGS18/LectureNotes-COGS18/blob/main/Final-Topics.ipynb)"
   ]
  },
  {
   "cell_type": "markdown",
   "metadata": {
    "editable": true,
    "slideshow": {
     "slide_type": "slide"
    },
    "tags": []
   },
   "source": [
    "## Day of Exam: \n",
    "\n",
    "What to Bring:\n",
    "- An ID\n",
    "- Your Brain\n",
    "- A writing utensil\n",
    "\n",
    "Reminders:\n",
    "- You will put your belongings in a locker; leave time for this\n",
    "- You are NOT allowed to bring in water/coffee\n",
    "- They will provide scratch paper & a calculator\n",
    "- You'll need to sign into your PL\n",
    "\n",
    "**Location**: TTC-CBTF - **Applied Physics & Mathematics (AP&M) B349** (basement)\n",
    "\n",
    "**Exam Window**: 6/7-6/13 (Sat-Fri); 1h 50 min"
   ]
  },
  {
   "cell_type": "markdown",
   "metadata": {
    "editable": true,
    "slideshow": {
     "slide_type": "slide"
    },
    "tags": []
   },
   "source": [
    "### **Final Exam** (13 pts; 1h 50min)\n",
    "\n",
    "- 13 MC (6.5 pts total; 0.5 pt each)\n",
    "    - Topics: Variables, Operators, Functions, Conditionals, Loops, Classes, Command Line, Imports/File Paths, Scientific Computing (2), Code Testing, Documentation, Code Style\n",
    "- 2 Code Reading & Debugging Qs (3.5 pts) \n",
    "    -  Function (1.5 pts)\n",
    "    -  Class (2 pts)\n",
    "- Testing Questions (3pts; 1.5 pt each `unittest`)\n",
    "    - 1 uses `pandas`\n",
    " \n",
    "Notes:\n",
    "- No mini-project\n",
    "- **Practice exam will be very good practice for all of these**\n",
    "- Information Provided:\n",
    "    - `pandas` functions/methods\n",
    "    - `unittest` framework w/ list of `assert` statements discussed in class"
   ]
  },
  {
   "cell_type": "markdown",
   "metadata": {
    "editable": true,
    "slideshow": {
     "slide_type": ""
    },
    "tags": []
   },
   "source": [
    "## Topics from E1 & E2 (can't forget)\n",
    "\n",
    "- Variables\n",
    "- Operators\n",
    "- Functions\n",
    "- Conditionals\n",
    "- Loops\n",
    "- Objects/Classes\n",
    "- Command Line"
   ]
  },
  {
   "cell_type": "markdown",
   "metadata": {},
   "source": [
    "## Final Exam Topics"
   ]
  },
  {
   "cell_type": "markdown",
   "metadata": {
    "editable": true,
    "slideshow": {
     "slide_type": "slide"
    },
    "tags": []
   },
   "source": [
    "### Scientific Computing\n",
    "\n",
    "- `numpy` arrays\n",
    "    - general use (homogenous, numeric information stored in arrays\n",
    "    - how to use methods \n",
    "- `pandas`\n",
    "    - DataFrame (conceptual understanding; purpose)\n",
    "    - how to use methods \n",
    "\n",
    "Note: do NOT need to memorize `numpy`/`pandas` methods"
   ]
  },
  {
   "cell_type": "markdown",
   "metadata": {
    "editable": true,
    "slideshow": {
     "slide_type": "slide"
    },
    "tags": []
   },
   "source": [
    "### Testing\n",
    "\n",
    "- `unittest` framework\n",
    "- how to write test functions using `unittest`"
   ]
  },
  {
   "cell_type": "markdown",
   "metadata": {
    "editable": true,
    "slideshow": {
     "slide_type": "slide"
    },
    "tags": []
   },
   "source": [
    "### Code Style\n",
    "\n",
    "- PEP8 Guidelines discussed in class\n",
    "- Be able to edit your own code for code style"
   ]
  },
  {
   "cell_type": "markdown",
   "metadata": {
    "editable": true,
    "slideshow": {
     "slide_type": "slide"
    },
    "tags": []
   },
   "source": [
    "### Documentation\n",
    "\n",
    "- *why* we document our code\n",
    "- different purpose between code comments and docstrings\n",
    "- basics and components of numpy-style docstrings\n",
    "\n",
    "Note: you do NOT need to write docstrings from scratch"
   ]
  }
 ],
 "metadata": {
  "celltoolbar": "Slideshow",
  "kernelspec": {
   "display_name": "Python 3 (ipykernel)",
   "language": "python",
   "name": "python3"
  },
  "language_info": {
   "codemirror_mode": {
    "name": "ipython",
    "version": 3
   },
   "file_extension": ".py",
   "mimetype": "text/x-python",
   "name": "python",
   "nbconvert_exporter": "python",
   "pygments_lexer": "ipython3",
   "version": "3.11.8"
  },
  "rise": {
   "scroll": true
  }
 },
 "nbformat": 4,
 "nbformat_minor": 4
}
