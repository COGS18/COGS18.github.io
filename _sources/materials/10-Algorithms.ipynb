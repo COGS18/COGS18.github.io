{
 "cells": [
  {
   "cell_type": "markdown",
   "metadata": {
    "slideshow": {
     "slide_type": "slide"
    }
   },
   "source": [
    "**Course Announcements**\n",
    "\n",
    "Due Dates:\n",
    "- **A3** due Thursday 2/10 (11:59 PM) [This is a change; Canvas and syllabus updated; late deadline Sunday]\n",
    "- [mid-course survey](https://docs.google.com/forms/d/e/1FAIpQLSdswcDdmqv_kogN7mGkhr_1DJ6jDMLPVblqlz_BZyxizZrOSw/viewform?usp=sf_link) \"due\" Mon (11:59 PM; optional for EC; link also on Canvas)\n",
    "\n",
    "Notes:\n",
    "- Campuswire\n",
    "    - post to main channel unless it really needs to be DM\n",
    "    - don't DM the same question to multiple people\n",
    "    - if you feel you haven't received a response, be sure post is marked as unresolved\n",
    "    - just a reminder you can post anonymously to your classmates there\n",
    "- Loops - difference between functions and loops?\n",
    "    - **function** - set of instructions for the burger\n",
    "    - **loops** - `for` loop: make burger for every member of the family in the car; `while` loop : make burgers until your shift is over"
   ]
  },
  {
   "cell_type": "markdown",
   "metadata": {
    "slideshow": {
     "slide_type": "fragment"
    }
   },
   "source": [
    "**A3 Notes**\n",
    "\n",
    "- There is a section giving you an `.append()` example - read that\n",
    "- student struggling with where and when to initialize a counter, empty list, etc."
   ]
  },
  {
   "cell_type": "markdown",
   "metadata": {
    "slideshow": {
     "slide_type": "notes"
    }
   },
   "source": [
    "**Q&A**\n",
    "\n",
    "Q: In the For Loops after the \"if\" statement do \"not in\" or \"in\" always have to follow?  \n",
    "A: Nope. Any statement that evaluates as a boolean can follow.\n",
    "\n",
    "Q: Although in lecture you said we don't need to worry about the asterisk for range 1.4.1 does that mean we don't need to have it or just to put it before the range no matter what to run the code?  \n",
    "A: You do *not* put it in your code. \n",
    "\n",
    "Q: How do you do a nested \"while\" loop?  \n",
    "A: See answer key from CL5 - follow up in office hours/on campuswire if you have questions!\n",
    "\n",
    "Q: Continue only helps us continue with a loop. What if we want to exit the loop completely and continue with the rest of the code?  \n",
    "A: `break`! The next part of the notes we didn't get to on Wednesday; will discuss today.\n",
    "\n",
    "Q: is there any code similar to continue but can jump to any line?  \n",
    "A: No; you could use conditionals to control this...but your code would get confusing/unreadable very quickly, so you'd probably want a different design.\n",
    "\n",
    "Q: When I append the list, sometimes the variable shows up in red, is this normal? AND why does 'break' turn red sometimes? my code still runs even if it is but i dont know why this happens\n",
    "A: This indicates you have an extra space somewhere...likely before the variable name/before `break`? \n",
    "\n",
    "Q: For 'while' loops does it only take numbers? If yes, then is 'for' the only one that accepts strings?  \n",
    "A: No. while loops only accepts conditions; for loops loop over collections (lists, tuples, dictionaries, etc.)\n",
    "\n",
    "Q: Is range specifically only for numbers? I'm a bit confused since indexing works for both numbers and lists. Or is range only for loops?  \n",
    "A: `range` is only for numbers. And, it is most commonly used with loops.\n",
    "\n",
    "Q: How does break and print statements in a loop differ in stoping the loop from running infinitely?  \n",
    "A: `break` breaks the loop. print statements simply print whatever you tell it to print to screen; does not affect the code running.\n",
    "\n",
    "Q: how do you index a list in a loop without using range?  \n",
    "A: See the while loop example II for a case where we do this.\n",
    "\n",
    "Q: 'break' of loops- Quite confusing when a topic in a due assignment is not mentioned at that day's lecture  \n",
    "A: A reminder that coding labs go throughout the entire day and there are staff there to answer questions like these; also, coding labs are graded on effort. If we didn't get to a topic in lecture, we won't deduct points for your not figuring it out on a lab.\n",
    "\n",
    "Q: Can you explain the difference between 'pass' and 'continue'? \n",
    "A: `pass` moves on to the next bit of code; `continue` goes to the next iteration of the loop...ignoring any code below it\n",
    "\n",
    "Q: I can't see the lecture notes in datahub, I can only see the newest one is 07collection.  \n",
    "A: Be sure to click to update your lecture notes using the link at the top of the canvas home page\n",
    "\n",
    "Q: What does n -= 1 and n += 1 notation mean?  \n",
    "A: This is shorthand....for example, `n += 1` is equivalent to `n = n + 1`\n",
    "\n",
    "Q: I defined a list[2,4,6,8] and used the range function for item in range(0,4,1) print item. It just gives me 1,2,3,4 even though I have defined my list before using range function. How do we let python know the range refers to range in the list but not in general sense?  \n",
    "A: This is where you would use indexing `list[0:4:1]`\n",
    "\n",
    "Q: With each assignment amount of question increasing, are they going to be more complex and longer each time? I understand that complex for sure , since we are studying a new concepts, A3 seems very long.    \n",
    "A: A1 and A2 are the shortest; A3, A4, and A5 are all similar in length/complexity."
   ]
  },
  {
   "cell_type": "markdown",
   "metadata": {
    "slideshow": {
     "slide_type": "slide"
    }
   },
   "source": [
    "# Algorithms\n",
    "\n",
    "What are the sorts of things that we should do with computers? What are things that are easy to compute? Hard to compute? Impossible to compute?"
   ]
  },
  {
   "cell_type": "markdown",
   "metadata": {
    "slideshow": {
     "slide_type": "slide"
    }
   },
   "source": [
    "## Algorithms"
   ]
  },
  {
   "cell_type": "markdown",
   "metadata": {
    "slideshow": {
     "slide_type": "fragment"
    }
   },
   "source": [
    "<div class=\"alert alert-success\">\n",
    "An <b>algorithm</b> is a formal description of how to complete a procedure, typically taking inputs and returns some output.\n",
    "</div>"
   ]
  },
  {
   "cell_type": "markdown",
   "metadata": {
    "slideshow": {
     "slide_type": "fragment"
    }
   },
   "source": [
    "If you can write the steps down, you can write an algorithm.\n",
    "\n",
    "Algorithms are computable."
   ]
  },
  {
   "cell_type": "markdown",
   "metadata": {
    "slideshow": {
     "slide_type": "fragment"
    }
   },
   "source": [
    "Computers cannot read between the lines. They are very literal."
   ]
  },
  {
   "cell_type": "markdown",
   "metadata": {
    "collapsed": true,
    "slideshow": {
     "slide_type": "slide"
    }
   },
   "source": [
    "### Algorithm Example: Making a Sandwich"
   ]
  },
  {
   "cell_type": "markdown",
   "metadata": {
    "slideshow": {
     "slide_type": "fragment"
    }
   },
   "source": [
    "Humans are pretty good at making sandwiches. Computers may struggle a bit."
   ]
  },
  {
   "cell_type": "markdown",
   "metadata": {
    "collapsed": true,
    "slideshow": {
     "slide_type": "slide"
    }
   },
   "source": [
    "### Algorithm Example: Sorting\n",
    "\n",
    "Given a list of numbers, how can we sort it into the correct order?"
   ]
  },
  {
   "cell_type": "code",
   "execution_count": null,
   "metadata": {
    "slideshow": {
     "slide_type": "fragment"
    }
   },
   "outputs": [],
   "source": [
    "# Define a list of numbers\n",
    "list_of_numbers = [2, 1, 3]  "
   ]
  },
  {
   "cell_type": "markdown",
   "metadata": {
    "slideshow": {
     "slide_type": "slide"
    }
   },
   "source": [
    "#### Clicker Question #1"
   ]
  },
  {
   "cell_type": "markdown",
   "metadata": {
    "slideshow": {
     "slide_type": "-"
    }
   },
   "source": [
    "Think about the specific steps needed to sort an array...\n",
    "- A) I have a specific set of steps \n",
    "- B) I have some idea that might work\n",
    "- C) I have no idea"
   ]
  },
  {
   "cell_type": "markdown",
   "metadata": {
    "slideshow": {
     "slide_type": "-"
    }
   },
   "source": [
    "**array**: a collection of items, where each item can be accessed by its index."
   ]
  },
  {
   "cell_type": "markdown",
   "metadata": {
    "collapsed": true,
    "slideshow": {
     "slide_type": "fragment"
    }
   },
   "source": [
    "Y'all Google is *really* good at sorting.\n",
    "\n",
    "- ranking: rate a site as how related\n",
    "- sort: given a list of good sites, determine order to present to user\n",
    "\n",
    "...and do this on all the things"
   ]
  },
  {
   "cell_type": "markdown",
   "metadata": {
    "slideshow": {
     "slide_type": "slide"
    }
   },
   "source": [
    "## `sort_array`\n",
    "\n",
    "A version of a **selection sort**:\n",
    "- loop through current list\n",
    "- find lowest item\n",
    "- put that at the front of your sorted list\n",
    "- remove lowest item from current list\n",
    "- wash, rinse, repeat"
   ]
  },
  {
   "cell_type": "code",
   "execution_count": null,
   "metadata": {
    "slideshow": {
     "slide_type": "fragment"
    }
   },
   "outputs": [],
   "source": [
    "def sort_array(array_to_sort):\n",
    "    \"\"\"A function to sort an array.\"\"\"\n",
    "\n",
    "    is_sorted = False    # Keeps track of when we are done sorting\n",
    "    sorted_array = []    # A new list that we will use to \n",
    "     \n",
    "    while not is_sorted:\n",
    "\n",
    "        lowest = None\n",
    "        for item in array_to_sort:\n",
    "            if lowest == None:         # If not defined (first element) set the current element as lowest\n",
    "                lowest = item\n",
    "            if item < lowest:\n",
    "                lowest = item\n",
    "        \n",
    "        # these next two lines use new methods\n",
    "        sorted_array.append(lowest)    # Add the lowest value to our sorted array output\n",
    "        array_to_sort.remove(lowest)   # Drop the now sorted value from the original array\n",
    "\n",
    "        if len(array_to_sort) == 0:    # When `array_to_sort` is empty, we are done sorting\n",
    "            is_sorted = True\n",
    "    \n",
    "    return sorted_array"
   ]
  },
  {
   "cell_type": "markdown",
   "metadata": {
    "slideshow": {
     "slide_type": "slide"
    }
   },
   "source": [
    "## Using `sort_array`"
   ]
  },
  {
   "cell_type": "code",
   "execution_count": null,
   "metadata": {
    "slideshow": {
     "slide_type": "fragment"
    }
   },
   "outputs": [],
   "source": [
    "# Sort an array of integers\n",
    "unsorted_array = [12, 7, 19, 12, 25]\n",
    "sorted_array = sort_array(unsorted_array)\n",
    "print(sorted_array)"
   ]
  },
  {
   "cell_type": "code",
   "execution_count": null,
   "metadata": {
    "slideshow": {
     "slide_type": "fragment"
    }
   },
   "outputs": [],
   "source": [
    "# Sort an array of floats\n",
    "unsorted_array = [21.3, 56.7, 2.3, 2.9, 99.9]\n",
    "sorted_array = sort_array(unsorted_array)\n",
    "print(sorted_array)"
   ]
  },
  {
   "cell_type": "markdown",
   "metadata": {
    "slideshow": {
     "slide_type": "slide"
    }
   },
   "source": [
    "#### Clicker Question #2\n",
    "\n",
    "Using our `sort_array` function from above, what will the following code snippet print out:"
   ]
  },
  {
   "cell_type": "code",
   "execution_count": null,
   "metadata": {
    "scrolled": true,
    "slideshow": {
     "slide_type": "fragment"
    }
   },
   "outputs": [],
   "source": [
    "data = ['a', 'c', 'b'] \n",
    "sort_array(data)"
   ]
  },
  {
   "cell_type": "markdown",
   "metadata": {
    "slideshow": {
     "slide_type": "fragment"
    }
   },
   "source": [
    "- A) ['a', 'c', 'b']\n",
    "- B) ['a', 'b', 'c']\n",
    "- C) [97, 98, 99]\n",
    "- D) None\n",
    "- E) This code will fail"
   ]
  },
  {
   "cell_type": "markdown",
   "metadata": {
    "slideshow": {
     "slide_type": "slide"
    }
   },
   "source": [
    "### How Python evaluates strings"
   ]
  },
  {
   "cell_type": "code",
   "execution_count": null,
   "metadata": {
    "slideshow": {
     "slide_type": "fragment"
    }
   },
   "outputs": [],
   "source": [
    "'a' < 'b'"
   ]
  },
  {
   "cell_type": "code",
   "execution_count": null,
   "metadata": {
    "slideshow": {
     "slide_type": "fragment"
    }
   },
   "outputs": [],
   "source": [
    "ord('a')"
   ]
  },
  {
   "cell_type": "code",
   "execution_count": null,
   "metadata": {
    "slideshow": {
     "slide_type": "fragment"
    }
   },
   "outputs": [],
   "source": [
    "ord('b')"
   ]
  },
  {
   "cell_type": "markdown",
   "metadata": {
    "slideshow": {
     "slide_type": "slide"
    }
   },
   "source": [
    "#### Clicker Question #3\n",
    "\n",
    "Using our `sort_array` function from above, what will the following code snippet print out:"
   ]
  },
  {
   "cell_type": "code",
   "execution_count": null,
   "metadata": {
    "slideshow": {
     "slide_type": "fragment"
    }
   },
   "outputs": [],
   "source": [
    "data = [True, False, True]\n",
    "sort_array(data)"
   ]
  },
  {
   "cell_type": "markdown",
   "metadata": {
    "slideshow": {
     "slide_type": "fragment"
    }
   },
   "source": [
    "- A) [False, True, True] \n",
    "- B) [True, False, True] \n",
    "- C) [0, 1, 1]\n",
    "- D) [True, True, False] \n",
    "- E) This code will fail"
   ]
  },
  {
   "cell_type": "markdown",
   "metadata": {
    "slideshow": {
     "slide_type": "slide"
    }
   },
   "source": [
    "### How Python evaluates Booleans"
   ]
  },
  {
   "cell_type": "code",
   "execution_count": null,
   "metadata": {
    "slideshow": {
     "slide_type": "fragment"
    }
   },
   "outputs": [],
   "source": [
    "True < False"
   ]
  },
  {
   "cell_type": "code",
   "execution_count": null,
   "metadata": {
    "slideshow": {
     "slide_type": "fragment"
    }
   },
   "outputs": [],
   "source": [
    "bin(True)"
   ]
  },
  {
   "cell_type": "code",
   "execution_count": null,
   "metadata": {
    "slideshow": {
     "slide_type": "fragment"
    }
   },
   "outputs": [],
   "source": [
    "bin(False)"
   ]
  },
  {
   "cell_type": "markdown",
   "metadata": {
    "slideshow": {
     "slide_type": "slide"
    }
   },
   "source": [
    "#### Clicker Question #4\n",
    "\n",
    "Using our `sort_array` function from above, what will the following code snippet print out:"
   ]
  },
  {
   "cell_type": "code",
   "execution_count": null,
   "metadata": {
    "slideshow": {
     "slide_type": "fragment"
    }
   },
   "outputs": [],
   "source": [
    "data = [[1, 4], [1, 2]]\n",
    "sort_array(data)"
   ]
  },
  {
   "cell_type": "markdown",
   "metadata": {
    "slideshow": {
     "slide_type": "fragment"
    }
   },
   "source": [
    "- A) [[1, 4], [1, 2]]  \n",
    "- B) [1, 1, 2, 4] \n",
    "- C) [[1, 2], [1, 4]]\n",
    "- D) None \n",
    "- E) This code will fail"
   ]
  },
  {
   "cell_type": "markdown",
   "metadata": {
    "slideshow": {
     "slide_type": "slide"
    }
   },
   "source": [
    "## SideNote: `sorted`"
   ]
  },
  {
   "cell_type": "code",
   "execution_count": null,
   "metadata": {
    "scrolled": true,
    "slideshow": {
     "slide_type": "fragment"
    }
   },
   "outputs": [],
   "source": [
    "# Sort a list, with `sorted`\n",
    "data = [7, 4, 6]\n",
    "sorted(data)"
   ]
  },
  {
   "cell_type": "code",
   "execution_count": null,
   "metadata": {},
   "outputs": [],
   "source": [
    "# what about a list of strings?\n",
    "sorted(['asdf','abcd'])"
   ]
  },
  {
   "cell_type": "code",
   "execution_count": null,
   "metadata": {
    "slideshow": {
     "slide_type": "fragment"
    }
   },
   "outputs": [],
   "source": [
    "# Sort different data types\n",
    "print(sorted(['a', 'c', 'b']))\n",
    "print(sorted([True, False, True]))\n",
    "print(sorted([[1, 4], [1, 2]]))"
   ]
  },
  {
   "cell_type": "markdown",
   "metadata": {
    "slideshow": {
     "slide_type": "slide"
    }
   },
   "source": [
    "## Algorithmic Complexity"
   ]
  },
  {
   "cell_type": "markdown",
   "metadata": {
    "slideshow": {
     "slide_type": "fragment"
    }
   },
   "source": [
    "<div class=\"alert alert-success\">\n",
    "The complexity of an algorithm characterizes the relationship between the input size and the number of steps of an algorithm.\n",
    "</div>"
   ]
  },
  {
   "cell_type": "markdown",
   "metadata": {
    "slideshow": {
     "slide_type": "slide"
    }
   },
   "source": [
    "## Algorithmic Complexity \n",
    "\n",
    "Things we might care about:\n",
    "- The number of steps it takes to complete our algorithm\n",
    "    - Usually defined in relation of the size of the input\n",
    "- The amount of memory it will take to run our algorithm"
   ]
  },
  {
   "cell_type": "markdown",
   "metadata": {
    "slideshow": {
     "slide_type": "slide"
    }
   },
   "source": [
    "## Properties of our sorting algorithm\n",
    "\n",
    "- It will require $n^2$ steps, where $n$ is the length of the list\n",
    "- It will require ~double the memory of the original list"
   ]
  },
  {
   "cell_type": "markdown",
   "metadata": {
    "collapsed": true,
    "slideshow": {
     "slide_type": "slide"
    }
   },
   "source": [
    "## Computability"
   ]
  },
  {
   "cell_type": "markdown",
   "metadata": {
    "slideshow": {
     "slide_type": "fragment"
    }
   },
   "source": [
    "Things that computers can do are things that we can write down an algorithm to do.\n",
    "\n",
    "Things that we can write an algorithm to do are things that we can define a specific set of steps to complete."
   ]
  },
  {
   "cell_type": "markdown",
   "metadata": {
    "slideshow": {
     "slide_type": "slide"
    }
   },
   "source": [
    "## Variable Type Checking\n",
    "\n",
    "**Note**: The rest of the noteook includes notes to answer a student's in class question. You will not be tested on this, but it will be helpful to understand and may be necessary for your final project.\n"
   ]
  },
  {
   "cell_type": "markdown",
   "metadata": {
    "slideshow": {
     "slide_type": "fragment"
    }
   },
   "source": [
    "To check on an input variable's type, you can use either of the following approaches:\n",
    "\n",
    "```python\n",
    "type(object) == type\n",
    "```\n",
    "OR \n",
    "\n",
    "```python\n",
    "isinstance(object, classinfo) \n",
    "```\n",
    "\n",
    "`isinstance()` takes two parameters:\n",
    "- `object` : variable/object to be checked\n",
    "- `classinfo` : class, type, or tuple of classes and types"
   ]
  },
  {
   "cell_type": "markdown",
   "metadata": {
    "slideshow": {
     "slide_type": "fragment"
    }
   },
   "source": [
    "For example, using the `string_manipulator` function from earlier, note that I've added the following two lines: \n",
    "\n",
    "```python\n",
    "if not isinstance(string, str):\n",
    "    print(\"Warning: please provide a string as input\")\n",
    "```\n",
    "\n",
    "This checks to see if the input is anything other than a string. If it is, the function prints a warning."
   ]
  },
  {
   "cell_type": "code",
   "execution_count": null,
   "metadata": {
    "slideshow": {
     "slide_type": "fragment"
    }
   },
   "outputs": [],
   "source": [
    "def string_manipulator(string):\n",
    "    \n",
    "    if type(string) != str:\n",
    "        print(\"Warning: please provide a string as input\")\n",
    "    else:\n",
    "        output = ''\n",
    "        for char in string:\n",
    "            if char == 'a' or char == 'e':\n",
    "                char = 'z' \n",
    "            output = output + char\n",
    "    \n",
    "        return output"
   ]
  },
  {
   "cell_type": "code",
   "execution_count": null,
   "metadata": {
    "slideshow": {
     "slide_type": "fragment"
    }
   },
   "outputs": [],
   "source": [
    "# use function with a string\n",
    "string_manipulator('hello!')"
   ]
  },
  {
   "cell_type": "code",
   "execution_count": null,
   "metadata": {
    "slideshow": {
     "slide_type": "fragment"
    }
   },
   "outputs": [],
   "source": [
    "# print warning if not a string\n",
    "string_manipulator(5)"
   ]
  },
  {
   "cell_type": "markdown",
   "metadata": {
    "slideshow": {
     "slide_type": "fragment"
    }
   },
   "source": [
    "However, sometimes, you want it to raise an error rather than just print something. Here we use `raise` instead of print. In this case, an error will be returned (with our specified message) to the user if the wrong variable type is provided:"
   ]
  },
  {
   "cell_type": "code",
   "execution_count": null,
   "metadata": {
    "slideshow": {
     "slide_type": "fragment"
    }
   },
   "outputs": [],
   "source": [
    "def string_manipulator(string):\n",
    "    \n",
    "    if type(string) != str:\n",
    "        raise ValueError(\"Please provide a string as input\")\n",
    "    else:\n",
    "        output = ''\n",
    "        for char in string:\n",
    "            if char == 'a' or char == 'e':\n",
    "                char = 'z' \n",
    "            output = output + char\n",
    "    \n",
    "        return output\n"
   ]
  },
  {
   "cell_type": "code",
   "execution_count": null,
   "metadata": {
    "scrolled": true,
    "slideshow": {
     "slide_type": "fragment"
    }
   },
   "outputs": [],
   "source": [
    "# raise error instead of print message\n",
    "string_manipulator(5)"
   ]
  }
 ],
 "metadata": {
  "celltoolbar": "Slideshow",
  "kernelspec": {
   "display_name": "Python 3 (ipykernel)",
   "language": "python",
   "name": "python3"
  },
  "language_info": {
   "codemirror_mode": {
    "name": "ipython",
    "version": 3
   },
   "file_extension": ".py",
   "mimetype": "text/x-python",
   "name": "python",
   "nbconvert_exporter": "python",
   "pygments_lexer": "ipython3",
   "version": "3.9.7"
  },
  "rise": {
   "scroll": true
  }
 },
 "nbformat": 4,
 "nbformat_minor": 2
}
