{
 "cells": [
  {
   "cell_type": "markdown",
   "metadata": {
    "nbgrader": {
     "grade": false,
     "grade_id": "cell-cb0dbd8f44547687",
     "locked": true,
     "schema_version": 3,
     "solution": false
    }
   },
   "source": [
    "# CL5: Classes\n",
    "\n",
    "Welcome to the fifth coding lab!\n",
    "\n",
    "In this CodingLab we will revisit functions & then focus on objects. \n",
    "\n",
    "We will also start thinking about exploring all of the Python resources and tools that are available, with an eye towards starting to think about the projects."
   ]
  },
  {
   "cell_type": "markdown",
   "metadata": {
    "nbgrader": {
     "grade": false,
     "grade_id": "cell-e863669962e037c1",
     "locked": true,
     "schema_version": 3,
     "solution": false
    }
   },
   "source": [
    "## Part I: (More) Functions "
   ]
  },
  {
   "cell_type": "markdown",
   "metadata": {},
   "source": [
    "### Reverse a string Function\n",
    "\n",
    "Write a function `reverse_string` that will take a string as an input and `return` the reverse of that string as its output. (For example, if the input were 'apple' the function woudl return 'elppa'\n",
    "\n",
    "Note that there are multiple ways in which to approach this. One possible approach would use the logic laid out in this pseudocode:\n",
    "\n",
    "```python\n",
    "# define function with input\n",
    "    \n",
    "    # generate empty string\n",
    "    # start counter at the length of the input string\n",
    "    \n",
    "    # while the counter is more than zero\n",
    "        # add the letter at index into the input string starting at end of input string to growing string\n",
    "        # decrease counter by 1\n",
    "    \n",
    "    # return string \n",
    "```"
   ]
  },
  {
   "cell_type": "code",
   "execution_count": 1,
   "metadata": {
    "nbgrader": {
     "grade": false,
     "grade_id": "cell-a6f2eefc87db8517",
     "locked": false,
     "schema_version": 3,
     "solution": true
    }
   },
   "outputs": [],
   "source": [
    "### BEGIN SOLUTION\n",
    "def reverse_string(input_string):\n",
    "    \n",
    "    rev = ''\n",
    "    counter = len(input_string) \n",
    "    \n",
    "    while counter > 0: \n",
    "        rev = rev + input_string[counter - 1]\n",
    "        counter = counter - 1\n",
    "    \n",
    "    return rev\n",
    "### END SOLUTION"
   ]
  },
  {
   "cell_type": "code",
   "execution_count": 2,
   "metadata": {},
   "outputs": [],
   "source": [
    "assert reverse_string('apple') == 'elppa'"
   ]
  },
  {
   "cell_type": "markdown",
   "metadata": {
    "nbgrader": {
     "grade": false,
     "grade_id": "cell-7c46e094655f72b8",
     "locked": true,
     "schema_version": 3,
     "solution": false
    }
   },
   "source": [
    "### Palindrome Function\n",
    "\n",
    "Write a function `check_palindrome` that takes a string as an input and within that function determines whether the input string is a palindrome or not (a word or phrase that is read the same forward as it is backward - i.e. kayak, dad, etc.). \n",
    "\n",
    "If it is a palindrome, `return` 'Hey! That's a palindrome!'\n",
    "\n",
    "If it is not a palindrome, `return` 'Bummer. Not a palindrome.'\n",
    "\n",
    "Remember that you created a function that can reverse a string above."
   ]
  },
  {
   "cell_type": "code",
   "execution_count": 3,
   "metadata": {
    "nbgrader": {
     "grade": false,
     "grade_id": "cell-d8674d6dc7bbe1c6",
     "locked": false,
     "schema_version": 3,
     "solution": true
    }
   },
   "outputs": [],
   "source": [
    "### BEGIN SOLUTION\n",
    "def check_palindrome(input_string):\n",
    "    rev = reverse_string(input_string)\n",
    "\n",
    "    if rev == input_string:\n",
    "        out = \"Hey! That's a palindrome!\"\n",
    "    else:\n",
    "        out = \"Bummer. Not a palindrome.\"\n",
    "    \n",
    "    return out\n",
    "### END SOLUTION"
   ]
  },
  {
   "cell_type": "code",
   "execution_count": 4,
   "metadata": {},
   "outputs": [],
   "source": [
    "assert check_palindrome('kayak') == \"Hey! That's a palindrome!\"\n",
    "assert check_palindrome('blargh') == 'Bummer. Not a palindrome.'"
   ]
  },
  {
   "cell_type": "markdown",
   "metadata": {
    "collapsed": true,
    "jupyter": {
     "outputs_hidden": true
    },
    "nbgrader": {
     "grade": false,
     "grade_id": "cell-a2149ce7c114d9be",
     "locked": true,
     "schema_version": 3,
     "solution": false
    }
   },
   "source": [
    "## Part II: Objects Questions"
   ]
  },
  {
   "cell_type": "markdown",
   "metadata": {
    "nbgrader": {
     "grade": false,
     "grade_id": "cell-e5cf8a18c2aff1eb",
     "locked": true,
     "schema_version": 3,
     "solution": false
    }
   },
   "source": [
    "## Example Class"
   ]
  },
  {
   "cell_type": "code",
   "execution_count": 5,
   "metadata": {},
   "outputs": [],
   "source": [
    "class Language():\n",
    "    \"\"\"A Python class to store and use information about languages.\"\"\"\n",
    "    \n",
    "    # Class Attributes\n",
    "    purpose = 'communication'\n",
    "    \n",
    "    def __init__(self, name, language_type, amount_of_goodness):\n",
    "        \n",
    "        # Instance Attributes\n",
    "        self.name = name\n",
    "        self.language_type = language_type\n",
    "        self.amount_of_goodness = amount_of_goodness\n",
    "        \n",
    "    # Class Method\n",
    "    def print_goodness_level(self):\n",
    "        print('The language', self.name, 'has', self.amount_of_goodness, 'goodness.')"
   ]
  },
  {
   "cell_type": "code",
   "execution_count": 6,
   "metadata": {},
   "outputs": [
    {
     "name": "stdout",
     "output_type": "stream",
     "text": [
      "The language python has lots of goodness.\n"
     ]
    }
   ],
   "source": [
    "# Create an instance of our class\n",
    "python = Language('python', 'computer', 'lots of')\n",
    "python.print_goodness_level()"
   ]
  },
  {
   "cell_type": "code",
   "execution_count": 7,
   "metadata": {},
   "outputs": [
    {
     "name": "stdout",
     "output_type": "stream",
     "text": [
      "The language english has some goodness.\n"
     ]
    }
   ],
   "source": [
    "# Create another instance of our class\n",
    "english = Language('english', 'human', 'some')\n",
    "english.print_goodness_level()"
   ]
  },
  {
   "cell_type": "markdown",
   "metadata": {
    "nbgrader": {
     "grade": false,
     "grade_id": "cell-8a06b77b3a54389b",
     "locked": true,
     "schema_version": 3,
     "solution": false
    }
   },
   "source": [
    "### TritonCourse class\n",
    "\n",
    "Let’s create a class to represent courses at UCSD! "
   ]
  },
  {
   "cell_type": "markdown",
   "metadata": {
    "nbgrader": {
     "grade": false,
     "grade_id": "cell-e0550f60aba6f132",
     "locked": true,
     "schema_version": 3,
     "solution": false
    }
   },
   "source": [
    "#### Class Definition\n",
    "\n",
    "Write a class to store information about UCSD courses, called `TritonCourse`. \n",
    "\n",
    "This course assumes all courses belong to a department, have a course code, and have a title.\n",
    "\n",
    "That is, write a class called `TritonCourse` that has instance attributes `department` (string), `code` (int), and `title` (string). "
   ]
  },
  {
   "cell_type": "code",
   "execution_count": 8,
   "metadata": {
    "nbgrader": {
     "grade": false,
     "grade_id": "cell-c5cf9c77cd590257",
     "locked": false,
     "schema_version": 3,
     "solution": true
    }
   },
   "outputs": [],
   "source": [
    "### BEGIN SOLUTION\n",
    "class TritonCourse():\n",
    "    \n",
    "    university = \"UC San Diego\"\n",
    "    \n",
    "    def __init__(self, department, code, title):\n",
    "\n",
    "        self.department = department\n",
    "        self.code = code\n",
    "        self.title = title\n",
    "### END SOLUTION"
   ]
  },
  {
   "cell_type": "markdown",
   "metadata": {
    "nbgrader": {
     "grade": false,
     "grade_id": "cell-fafcd48a4c3ed9bb",
     "locked": true,
     "schema_version": 3,
     "solution": false
    }
   },
   "source": [
    "#### Instances\n",
    "\n",
    "Once you've written the class defintion above, you should be able to run the following code to create an instance of this class. \n",
    "\n",
    "You can then print out the attributes and check that they hold the values that you expect. "
   ]
  },
  {
   "cell_type": "code",
   "execution_count": 9,
   "metadata": {},
   "outputs": [],
   "source": [
    "# Define an instance of our class\n",
    "cogs18 = TritonCourse(\"COGS\", 18, \"Introduction to Python\")"
   ]
  },
  {
   "cell_type": "code",
   "execution_count": 10,
   "metadata": {},
   "outputs": [
    {
     "name": "stdout",
     "output_type": "stream",
     "text": [
      "COGS\n",
      "18\n",
      "Introduction to Python\n"
     ]
    }
   ],
   "source": [
    "# Check the instance attributes\n",
    "print(cogs18.department)\n",
    "print(cogs18.code)\n",
    "print(cogs18.title)"
   ]
  },
  {
   "cell_type": "markdown",
   "metadata": {
    "nbgrader": {
     "grade": false,
     "grade_id": "cell-bfbfe91b75b76b91",
     "locked": true,
     "schema_version": 3,
     "solution": false
    }
   },
   "source": [
    "Now, create some more instances of our class:\n",
    "\n",
    "- ECE 15, \"Engineering Programming\" \n",
    "    - Save the result to a variable called `class1`\n",
    "- MUS 8, \"American Music: Jazz Culture\"\n",
    "    - Save the result to a variable called `class2`"
   ]
  },
  {
   "cell_type": "code",
   "execution_count": 11,
   "metadata": {
    "nbgrader": {
     "grade": false,
     "grade_id": "cell-6a15641c3c04ead1",
     "locked": false,
     "schema_version": 3,
     "solution": true
    }
   },
   "outputs": [],
   "source": [
    "### BEGIN SOLUTION\n",
    "class1  = TritonCourse(\"ECE\",15,\"Engineering Programming\")\n",
    "class2 = TritonCourse(\"MUS\", 8, \"American Music: Jazz Culture\")\n",
    "### END SOLUTION"
   ]
  },
  {
   "cell_type": "markdown",
   "metadata": {
    "nbgrader": {
     "grade": false,
     "grade_id": "cell-9efedb98b2b61f5c",
     "locked": true,
     "schema_version": 3,
     "solution": false
    }
   },
   "source": [
    "#### Methods\n",
    "\n",
    "Now, make a new version of `TritonCourse` that has a method. \n",
    "\n",
    "Specifically, this method, called `print_info` should print out the information about the course as:\n",
    "\n",
    "    'department name code : title'\n",
    "    \n",
    "So, for example, once you add this method, using the method on our `cogs18` instance should `return`:\n",
    "\n",
    "    `COGS 18 : Introduction to Python`"
   ]
  },
  {
   "cell_type": "code",
   "execution_count": 1,
   "metadata": {
    "nbgrader": {
     "grade": false,
     "grade_id": "cell-37b479809503bb28",
     "locked": false,
     "schema_version": 3,
     "solution": true
    }
   },
   "outputs": [],
   "source": [
    "### BEGIN SOLUTION\n",
    "class TritonCourse():\n",
    "    \n",
    "    university = \"UC San Diego\"\n",
    "    \n",
    "    def __init__(self, department, code, title):\n",
    "    \n",
    "        self.department = department\n",
    "        self.code = code\n",
    "        self.title = title\n",
    "    \n",
    "    def print_info(self):\n",
    "        return self.department + str(self.code) + ': ' + self.title \n",
    "### END SOLUTION"
   ]
  },
  {
   "cell_type": "code",
   "execution_count": 2,
   "metadata": {},
   "outputs": [
    {
     "data": {
      "text/plain": [
       "'COGS18: Introduction to Python'"
      ]
     },
     "execution_count": 2,
     "metadata": {},
     "output_type": "execute_result"
    }
   ],
   "source": [
    "# Check the method works on our cogs18 instance\n",
    "cogs18 = TritonCourse(\"COGS\", 18, \"Introduction to Python\")\n",
    "cogs18.print_info()"
   ]
  },
  {
   "cell_type": "markdown",
   "metadata": {
    "nbgrader": {
     "grade": false,
     "grade_id": "cell-2762f36a00cb6412",
     "locked": true,
     "schema_version": 3,
     "solution": false
    }
   },
   "source": [
    "## Part III: Objects Explorations\n",
    "\n",
    "- What kind of other attributes and methods might we want on our `TritonCourse` object?\n",
    "    - Make an extended version of `TritonCourse` with at least one extra class attribute, instance attribute and method. \n",
    "- Create a brand new class, to do something new / different!\n",
    "    - Make sure it has at least one class attribute, instance attribute, and some methods\n",
    "    - Create at least one methods that takes in an argument (doesn't just use class & instance attributes)\n",
    "    - Create at least one method that has a conditional in it, one with a loop, and one with a try/except"
   ]
  },
  {
   "cell_type": "markdown",
   "metadata": {},
   "source": [
    "Note: `try/except` not yet covered. This will NOT be on E2."
   ]
  },
  {
   "cell_type": "code",
   "execution_count": 3,
   "metadata": {
    "nbgrader": {
     "grade": false,
     "grade_id": "cell-b7dae2a3c6dab247",
     "locked": false,
     "schema_version": 3,
     "solution": true
    }
   },
   "outputs": [
    {
     "name": "stdout",
     "output_type": "stream",
     "text": [
      "\n",
      "TritonCourse Example:\n",
      "330\n",
      "large enrollment\n",
      "\n",
      "Office Hours Example:\n",
      "please provide a first name as a string to the method call\n",
      "2\n",
      "['Shannon', 'Josh']\n",
      "typical OH\n"
     ]
    }
   ],
   "source": [
    "### BEGIN SOLUTION\n",
    "# specifics will differ between students\n",
    "print(\"\\nTritonCourse Example:\")\n",
    "class TritonCourse():\n",
    "    \n",
    "    university = \"UC San Diego\"\n",
    "    location = \"La Jolla\"\n",
    "    \n",
    "    def __init__(self, department, code, title, quarter, enrollment):\n",
    "    \n",
    "        self.department = department\n",
    "        self.code = code\n",
    "        self.title = title\n",
    "        self.quarter = quarter\n",
    "        self.enrollment = enrollment\n",
    "    \n",
    "    def print_info(self):\n",
    "        return self.department + str(self.code) + ': ' + self.title\n",
    "    \n",
    "    def determine_large(self):\n",
    "        if (self.enrollment) > 100:\n",
    "            output = \"large enrollment\"\n",
    "        else:\n",
    "            output = \"typical enrollment\"\n",
    "        return output\n",
    "\n",
    "# test it out \n",
    "my_course = TritonCourse(\"Cognitive Science\", \"COGS 18\", \n",
    "                        \"Introduction to Python\",\n",
    "                        \"Sp22\", 330)\n",
    "print(my_course.enrollment)\n",
    "print(my_course.determine_large())\n",
    "\n",
    "print(\"\\nOffice Hours Example:\")\n",
    "# trying out another class\n",
    "class OfficeHours():\n",
    "    \n",
    "    university = 'UC San Diego'\n",
    "    \n",
    "    def __init__(self):\n",
    "        self.n_students = 0\n",
    "        self.who_arrived = []\n",
    "    \n",
    "    def add_student(self, first_name):\n",
    "        try:\n",
    "            assert type(first_name) == str\n",
    "            self.n_students += 1\n",
    "            self.who_arrived.append(first_name)\n",
    "        except:\n",
    "            print(\"please provide a first name as a string to the method call\")\n",
    "   \n",
    "    def busy_OH(self):\n",
    "        if self.n_students > 10:\n",
    "            output = 'busy OH'\n",
    "        else:\n",
    "            output = 'typical OH'\n",
    "        return output\n",
    "\n",
    "\n",
    "may6 = OfficeHours()\n",
    "may6.add_student(4) # this one will trigger the exception\n",
    "may6.add_student(\"Shannon\")\n",
    "may6.add_student(\"Josh\")\n",
    "print(may6.n_students)\n",
    "print(may6.who_arrived)\n",
    "print(may6.busy_OH())\n",
    "### END SOLUTION"
   ]
  },
  {
   "cell_type": "markdown",
   "metadata": {
    "nbgrader": {
     "grade": false,
     "grade_id": "cell-34c5777d0172e9f8",
     "locked": true,
     "schema_version": 3,
     "solution": false
    }
   },
   "source": [
    "### Objects Challenge\n",
    "\n",
    "Define a class `Cogs18Students` that has: \n",
    "\n",
    "- Instance Attibutes:\n",
    "    - `students` : list (initalize it as an empty list)\n",
    "- Methods:\n",
    "    - `add_student()`\n",
    "    - `calculate_points()`\n",
    "    \n",
    "#### Method: `add_student`\n",
    "\n",
    "Input(s):\n",
    "- `pid` : string\n",
    "- `a1` : int or float\n",
    "- `a2` : int or float\n",
    "- `e1` : int or float\n",
    "\n",
    "This method, when executed should take in the student's PID and their scores on A1, A2 and E1. These values should be stored in a single dictionary for each student with the keys 'PID', 'A1', 'A1', and 'E1', with the student's respective PID and scores as the values for each key. This dictionary should then be added to the `students` attribute for the class.\n",
    "\n",
    "#### Method: `calculate_points`\n",
    "\n",
    " \n",
    "Input(s):\n",
    "- `student_pid` : string\n",
    "\n",
    "This method should calculate the total number of points for all assignments for the student PID specified in `student_pid`. The sum of the students' points on A1, A2, and E1 should be returned from the method."
   ]
  },
  {
   "cell_type": "code",
   "execution_count": 2,
   "metadata": {
    "nbgrader": {
     "grade": false,
     "grade_id": "cell-64c4880719b92960",
     "locked": false,
     "schema_version": 3,
     "solution": true
    }
   },
   "outputs": [],
   "source": [
    "### BEGIN SOLUTION\n",
    "class Cogs18Students:\n",
    "    \n",
    "    def __init__(self):\n",
    "        self.students = []\n",
    "\n",
    "    def add_student(self, pid, a1, a2, e1):\n",
    "        self.students.append({'PID': pid,\n",
    "                              'A1': a1,\n",
    "                              'A2': a2, \n",
    "                              'E1': e1})\n",
    "        \n",
    "    def calculate_points(self, student_pid):\n",
    "        \n",
    "        total_points = 0\n",
    "        \n",
    "        for element in self.students:\n",
    "            if element['PID'] == student_pid:\n",
    "                for key in element:\n",
    "                    if key != 'PID':\n",
    "                        total_points += element[key]\n",
    "        \n",
    "        return total_points"
   ]
  },
  {
   "cell_type": "code",
   "execution_count": 3,
   "metadata": {},
   "outputs": [
    {
     "name": "stdout",
     "output_type": "stream",
     "text": [
      "[{'PID': 'A1234', 'A1': 8, 'A2': 8, 'E1': 12.5}, {'PID': 'A7777', 'A1': 8, 'A2': 6, 'E1': 12.5}]\n"
     ]
    },
    {
     "data": {
      "text/plain": [
       "26.5"
      ]
     },
     "execution_count": 3,
     "metadata": {},
     "output_type": "execute_result"
    }
   ],
   "source": [
    "# initialiaze a Cogs18Students object here\n",
    "# test out your methods\n",
    "cogs18 = Cogs18Students()  # initialize object\n",
    "cogs18.add_student('A1234', 8, 8, 12.5)  # add student\n",
    "cogs18.add_student('A7777', 8, 6, 12.5)  # add another student\n",
    "print(cogs18.students)  # see what's stored in attribute\n",
    "cogs18.calculate_points('A7777')  # test out my method\n",
    "### END SOLUTION"
   ]
  }
 ],
 "metadata": {
  "celltoolbar": "Create Assignment",
  "kernelspec": {
   "display_name": "Python 3 (ipykernel)",
   "language": "python",
   "name": "python3"
  },
  "language_info": {
   "codemirror_mode": {
    "name": "ipython",
    "version": 3
   },
   "file_extension": ".py",
   "mimetype": "text/x-python",
   "name": "python",
   "nbconvert_exporter": "python",
   "pygments_lexer": "ipython3",
   "version": "3.11.8"
  }
 },
 "nbformat": 4,
 "nbformat_minor": 4
}
