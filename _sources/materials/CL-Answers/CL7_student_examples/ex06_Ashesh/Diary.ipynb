{
 "cells": [
  {
   "cell_type": "code",
   "execution_count": 1,
   "id": "d15b39a8",
   "metadata": {},
   "outputs": [
    {
     "name": "stdout",
     "output_type": "stream",
     "text": [
      "{1: 'first entry'}\n",
      "What would you like to call your diary? Prof's Diary\n",
      "Would you like to add an entry? yes\n",
      "type the entry: I hope all students are having a good week 10!\n",
      "your entry has been added\n"
     ]
    }
   ],
   "source": [
    "import diary_module as dm\n",
    "\n",
    "new_diary = dm.Diary()\n",
    "new_diary.diary_entry('first entry')\n",
    "new_diary.entries\n",
    "dm.read_diary(new_diary)\n",
    "dm.create_diary()"
   ]
  },
  {
   "cell_type": "code",
   "execution_count": 2,
   "id": "29b6934e",
   "metadata": {},
   "outputs": [
    {
     "name": "stdout",
     "output_type": "stream",
     "text": [
      "{1: 'first entry'}\r\n"
     ]
    }
   ],
   "source": [
    "!python script.py"
   ]
  }
 ],
 "metadata": {
  "kernelspec": {
   "display_name": "Python 3 (ipykernel)",
   "language": "python",
   "name": "python3"
  },
  "language_info": {
   "codemirror_mode": {
    "name": "ipython",
    "version": 3
   },
   "file_extension": ".py",
   "mimetype": "text/x-python",
   "name": "python",
   "nbconvert_exporter": "python",
   "pygments_lexer": "ipython3",
   "version": "3.9.7"
  }
 },
 "nbformat": 4,
 "nbformat_minor": 5
}
