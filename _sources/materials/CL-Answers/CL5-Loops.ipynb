{
 "cells": [
  {
   "cell_type": "markdown",
   "metadata": {
    "nbgrader": {
     "grade": false,
     "grade_id": "cell-e8537ebe6502c993",
     "locked": true,
     "schema_version": 3,
     "solution": false
    }
   },
   "source": [
    "# CL5: Loops\n",
    "\n",
    "Welcome to the fifth coding lab!\n",
    "\n",
    "In this Coding Lab we will focus on understanding loops and incorporating them into functions."
   ]
  },
  {
   "cell_type": "markdown",
   "metadata": {},
   "source": [
    "**Note**: You may *not* be able to complete all of this in 50 minutes.  This are meant to help you gain mastery and provide additional practices, not to stress you out a ton. Make a concerted effort. Do your best to complete it. But, if you don't figure it all out, that's why we post answers for coding labs!"
   ]
  },
  {
   "cell_type": "markdown",
   "metadata": {
    "nbgrader": {
     "grade": false,
     "grade_id": "cell-634294ae0e4720a9",
     "locked": true,
     "schema_version": 3,
     "solution": false
    }
   },
   "source": [
    "## Part 1: Loops Review & Exploration\n",
    "\n",
    "We will now explore two ways to iterate over data in Python - `for` and `while` loops. \n",
    "\n",
    "Each type of loop performs its respective code block until certain conditions are met. Here, we will explore what those conditions are. \n",
    "\n",
    "Notes: \n",
    "- \"iterate\" means to perform an action repeatedly \n",
    "- Sometimes, we accidentally make loops that never end (infinite loop). If that happens (and you see an asterisk to the left of your cell), \"break\" the cell by selecting it and then pressing \"ctrl+c\". Alternatively, press the \"stop\" button (square icon) in the Jupyter toolbar. "
   ]
  },
  {
   "cell_type": "markdown",
   "metadata": {
    "nbgrader": {
     "grade": false,
     "grade_id": "cell-b4f5bcda88789ec6",
     "locked": true,
     "schema_version": 3,
     "solution": false
    }
   },
   "source": [
    "### Loops \n",
    "\n",
    "First, declare a variable called `counter` that has type int and value zero.\n",
    "\n",
    "Then write a `while` loop that runs 10 times and use `counter` to track how many times the loop runs. "
   ]
  },
  {
   "cell_type": "code",
   "execution_count": null,
   "metadata": {
    "nbgrader": {
     "grade": false,
     "grade_id": "cell-af48110fe42b669b",
     "locked": false,
     "schema_version": 3,
     "solution": true
    }
   },
   "outputs": [],
   "source": [
    "### BEGIN SOLUTION\n",
    "counter = 0\n",
    "while counter < 10:\n",
    "    counter = counter + 1\n",
    "### END SOLUTION"
   ]
  },
  {
   "cell_type": "code",
   "execution_count": null,
   "metadata": {},
   "outputs": [],
   "source": [
    "# Check that (after the loop runs) that there is a variable called `counter` that has value 10\n",
    "assert counter == 10"
   ]
  },
  {
   "cell_type": "markdown",
   "metadata": {
    "nbgrader": {
     "grade": false,
     "grade_id": "cell-63a4942a96dc6c0d",
     "locked": true,
     "schema_version": 3,
     "solution": false
    }
   },
   "source": [
    "### Infinite Loops\n",
    "\n",
    "The while loop included here would run indefinitely unless someone puts a stop to it! \n",
    "\n",
    "Add your own code that causes the loop to exit when the `counter` variable reaches 10 by using `break`. \n",
    "\n",
    "Note: Sometimes, we accidentally make loops that never end - try that by running the cell below before adding \n",
    "\n",
    "If that happens, interrupt the cell by selecting it and then pressing \"ctrl+c\". Alternatively, press the \"stop\" button (square icon) in the Jupyter toolbar. \n",
    "\n",
    "Infinite loop to fix:\n",
    "```python\n",
    "counter = 0\n",
    "\n",
    "while True:\n",
    "    \n",
    "    print(\"the value of 'counter' = \" + str(counter))\n",
    "    counter +=1\n",
    "    \n",
    "```"
   ]
  },
  {
   "cell_type": "code",
   "execution_count": null,
   "metadata": {
    "nbgrader": {
     "grade": false,
     "grade_id": "cell-0e33a3d206c8759d",
     "locked": false,
     "schema_version": 3,
     "solution": true
    },
    "scrolled": true
   },
   "outputs": [],
   "source": [
    "### BEGIN SOLUTION\n",
    "counter = 0\n",
    "\n",
    "while counter < 10:\n",
    "\n",
    "    print(\"the value of 'counter' = \" + str(counter))\n",
    "    counter +=1\n",
    "    \n",
    "    if counter >= 10:\n",
    "        break\n",
    "### END SOLUTION"
   ]
  },
  {
   "cell_type": "markdown",
   "metadata": {
    "nbgrader": {
     "grade": false,
     "grade_id": "cell-9445f177e9dc38ff",
     "locked": true,
     "schema_version": 3,
     "solution": false
    }
   },
   "source": [
    "Now, rather than using `break`, edit the loop from above so that the condition following `while` will eventually evaluate as `False` (and thus terminate the loop)."
   ]
  },
  {
   "cell_type": "code",
   "execution_count": null,
   "metadata": {
    "nbgrader": {
     "grade": false,
     "grade_id": "cell-b561c8f0d73a25e3",
     "locked": false,
     "schema_version": 3,
     "solution": true
    }
   },
   "outputs": [],
   "source": [
    "### BEGIN SOLUTION\n",
    "counter = 0\n",
    "\n",
    "# edit condition\n",
    "while counter < 10:\n",
    "    \n",
    "    print(\"the value of 'counter' = \" + str(counter))\n",
    "    counter +=1\n",
    "### END SOLUTION"
   ]
  },
  {
   "cell_type": "markdown",
   "metadata": {
    "nbgrader": {
     "grade": false,
     "grade_id": "cell-263fbedcb0c5fe6c",
     "locked": true,
     "schema_version": 3,
     "solution": false
    }
   },
   "source": [
    "### Loop Explorations\n",
    "\n",
    "Now, explore using for and while loops and breaks. \n",
    "\n",
    "Here are some things to try, and questions to ask - *try to write code for a few of these* (but know that you should ultimately be familiar with all of them):\n",
    "- What happens if you use 'break' all by itself?\n",
    "- What are some different ways to loop through a list? tuple?\n",
    "- Write these combinations: \n",
    "    - a `for` loop with a `break`, a `for` loop with a `continue`\n",
    "    - a `while` loop with a `break`, a `while` loop with a `continue`\n",
    "- Write some loops that loop across lists:\n",
    "    - Write a loop that loops across, and prints out, all the elements of a list\n",
    "    - Write a loop that loops across, and prints out, every second element of a list\n",
    "    - Write a loop that loops across, and prints out, every element of a list in reverse order\n",
    "    - Write a loop that loops across, and prints out, the first half of a list\n",
    "- Write a loop with a conditional inside it.\n",
    "- Can you have loops inside loops? If you think so, try and write a nested loop. \n",
    "\n",
    "Reminder: you can add as many cells as you'd like to test these out! "
   ]
  },
  {
   "cell_type": "code",
   "execution_count": null,
   "metadata": {
    "nbgrader": {
     "grade": false,
     "grade_id": "cell-c101bd32c5150b72",
     "locked": false,
     "schema_version": 3,
     "solution": true
    },
    "scrolled": true
   },
   "outputs": [],
   "source": [
    "### BEGIN SOLUTION\n",
    "my_list = [1, 2]\n",
    "my_tuple = ('a', 'b')\n",
    "\n",
    "# You can loop through lists or tuples directly, or with indices\n",
    "# Loop through list with for - same goes for tuple\n",
    "for el in my_list:\n",
    "    print(el)\n",
    "\n",
    "print('')\n",
    "    \n",
    "# Loop through tuple using indexing - same goes for list\n",
    "for ind in range(2):\n",
    "    print(my_tuple[ind])\n",
    "\n",
    "#- Write these combinations: \n",
    "#    - a `for` loop with a `break`, a `for` loop with a `continue`\n",
    "#    - a `while` loop with a `break`, a `for` loop with a `continue`\n",
    "\n",
    "letter_list = ['a', 'c', 'e']\n",
    "\n",
    "for it in letter_list:\n",
    "    if it == 'c':\n",
    "        break\n",
    "\n",
    "for it in letter_list:\n",
    "    if it == 'a':\n",
    "        continue\n",
    "\n",
    "# While loops with break and continue\n",
    "ind = 0\n",
    "\n",
    "while ind < 5:\n",
    "    if ind == 2:\n",
    "        break\n",
    "    ind = ind + 1\n",
    "\n",
    "while ind < 5:\n",
    "    ind = ind + 1\n",
    "    if ind == 2:\n",
    "        continue\n",
    "\n",
    "# These are loops using indexing, to grab different elements of the list\n",
    "another_list = [1, 2, 3, 4]\n",
    "\n",
    "print('Print all elements list:')\n",
    "for it in another_list:\n",
    "    print(it)\n",
    "print('')\n",
    "    \n",
    "print('Print every second element list:')\n",
    "for it in another_list[1::2]:\n",
    "    print(it)\n",
    "print('')\n",
    "\n",
    "print('Print reversed list:')\n",
    "for it in another_list[::-1]:\n",
    "    print(it)\n",
    "print('')\n",
    "\n",
    "print('Print first half:')\n",
    "half_index = int(len(another_list)/2)\n",
    "for it in another_list[0:half_index]:\n",
    "    print(it)\n",
    "print('')\n",
    "\n",
    "# Loop with a conditional in it\n",
    "for it in [True, False]:\n",
    "    if it == True:\n",
    "        print('Yay.')\n",
    "\n",
    "# Yes, you can have a loop inside a loop\n",
    "for a_val in [1, 2, 3]:\n",
    "    for b_val in ['a', 'b', 'c']:\n",
    "        print(a_val, b_val)\n",
    "\n",
    "\n",
    "### END SOLUTION"
   ]
  },
  {
   "cell_type": "markdown",
   "metadata": {
    "nbgrader": {
     "grade": false,
     "grade_id": "cell-cdec6e2bea17a7ba",
     "locked": true,
     "schema_version": 3,
     "solution": false
    }
   },
   "source": [
    "### Specific looping task\n",
    "\n",
    "`print`ing the output is great to learn about and explore loops, but typically we're looping to generate some output. \n",
    "\n",
    "Generate a list below that stores various integers and strings. \n",
    "\n",
    "Write a loop that will separate out the elements in your list by type, such that all the integers are stored in a list called `my_ints` and all of the strings are stored in a list called `my_strs`"
   ]
  },
  {
   "cell_type": "code",
   "execution_count": null,
   "metadata": {
    "nbgrader": {
     "grade": false,
     "grade_id": "cell-77fd056f3c67c2a3",
     "locked": false,
     "schema_version": 3,
     "solution": true
    }
   },
   "outputs": [],
   "source": [
    "### BEGIN SOLUTION\n",
    "# the specific list you create is up to you\n",
    "my_list = [1, \"apple\", 15, \"banana\", 29, 30, \"yay python!\"]\n",
    "my_ints = []\n",
    "my_strs = []\n",
    "\n",
    "for val in my_list:\n",
    "    if type(val) == int:\n",
    "        my_ints.append(val)\n",
    "    elif type(val) == str:\n",
    "        my_strs.append(val)\n",
    "        \n",
    "print(my_ints)\n",
    "print(my_strs)\n",
    "### END SOLUTION"
   ]
  },
  {
   "cell_type": "code",
   "execution_count": null,
   "metadata": {
    "nbgrader": {
     "grade": true,
     "grade_id": "cell-362fd3c5dd6ea1ca",
     "locked": true,
     "points": 0,
     "schema_version": 3,
     "solution": false
    }
   },
   "outputs": [],
   "source": [
    "assert type(my_ints) == list\n",
    "assert type(my_strs) == list\n",
    "\n",
    "# check to make sure all values in each list are of expected type\n",
    "assert all([type(x) == int for x in my_ints])\n",
    "assert all([type(x) == str for x in my_strs])"
   ]
  },
  {
   "cell_type": "markdown",
   "metadata": {
    "nbgrader": {
     "grade": false,
     "grade_id": "cell-a9bf60cc94de5fd6",
     "locked": true,
     "schema_version": 3,
     "solution": false,
     "task": false
    }
   },
   "source": [
    "## Part 2:  Ciphers (revisited)\n",
    "\n",
    "In A2, you created functions that would encode and decode a single character...but not an entire message. Here, we'll revist the concepts from Part 3 of A2...but you'll be able to encode and decode entire strings.\n",
    "\n",
    "**Be sure to at least give `encoder()` and `decoder()` a concerted effort**. And, if you don't finish all of this section, check the answer key when posted!"
   ]
  },
  {
   "cell_type": "markdown",
   "metadata": {
    "nbgrader": {
     "grade": false,
     "grade_id": "cell-59a220dd859bac8e",
     "locked": true,
     "schema_version": 3,
     "solution": false
    }
   },
   "source": [
    "### `encoder()`\n",
    "\n",
    "In this question, you'll update the `encoder()` function from A2. The function's goal is the same as in A2...but we want this function to encode an entire string, not just a single character.\n",
    "\n",
    "Write a function `encoder()` to encode a string into a secret message.\n",
    "\n",
    "Your function will take two parameters:\n",
    "- `input_string` | The string to be encoded (str)\n",
    "- `key` | The key to be used during encoding (int; default: 200)\n",
    "\n",
    "Within the function:\n",
    "\n",
    "- initalize an empty string `output_string`\n",
    "- Then, loop through each `char` in `input_string` and:\n",
    "    - Get the unicode code point for each `char` (using `ord`)\n",
    "    - Add the value of `key` to that code point (which should be an int)\n",
    "    - Convert this new int back to a character (using `chr`).\n",
    "    - Add this new character to the string `output_string`\n",
    "\n",
    "Be sure to `return` your encoded string from the function."
   ]
  },
  {
   "cell_type": "code",
   "execution_count": null,
   "metadata": {
    "nbgrader": {
     "grade": false,
     "grade_id": "cell-7b3b13e8afacf58a",
     "locked": false,
     "schema_version": 3,
     "solution": true
    }
   },
   "outputs": [],
   "source": [
    "### BEGIN SOLUTION\n",
    "def encoder(input_string, key=200):\n",
    "    output_string = ''\n",
    "    \n",
    "    for char in input_string:\n",
    "        output_string = output_string + chr(ord(char) + key)\n",
    "    \n",
    "    return output_string\n",
    "### END SOLUTION"
   ]
  },
  {
   "cell_type": "code",
   "execution_count": null,
   "metadata": {},
   "outputs": [],
   "source": [
    "# you can use this cell to test/execute/check your thinking (optional)"
   ]
  },
  {
   "cell_type": "code",
   "execution_count": null,
   "metadata": {
    "nbgrader": {
     "grade": true,
     "grade_id": "cell-59550448bf7905af",
     "locked": true,
     "points": 0.25,
     "schema_version": 3,
     "solution": false
    }
   },
   "outputs": [],
   "source": [
    "assert callable(encoder)\n",
    "assert type(encoder('hello')) == str\n",
    "assert encoder(input_string='hello') == 'İĭĴĴķ'"
   ]
  },
  {
   "cell_type": "code",
   "execution_count": null,
   "metadata": {
    "nbgrader": {
     "grade": true,
     "grade_id": "cell-3557aeb2d0d2d040",
     "locked": true,
     "points": 0.25,
     "schema_version": 3,
     "solution": false
    }
   },
   "outputs": [],
   "source": [
    "assert encoder(input_string='hello', key=500) == 'ɜəɠɠɣ'\n",
    "assert encoder(input_string='HELLO', key=100) == '¬©°°³'"
   ]
  },
  {
   "cell_type": "markdown",
   "metadata": {},
   "source": [
    "### `decoder()`\n",
    "\n",
    "In this question, you'll update the `decoder()` function from A2. The function's goal is the same as in A2...but we want this function to decode an entire string, not just a single character.\n",
    "\n",
    "Write a function `decoder()` to decode a string back into its original message.\n",
    "\n",
    "Your function will take two parameters:\n",
    "- `input_string` | The string to be decoded (str)\n",
    "- `key` | The key to be used during decoding (int; default: 200)\n",
    "\n",
    "Within the function:\n",
    "\n",
    "- initalize an empty string `output_string`\n",
    "- Then, loop through each `char` in `input_string` and:\n",
    "    - Get the unicode code point for each `char` (using `ord`)\n",
    "    - *Subtract* the value of `key` to that code point (which should be an int)\n",
    "    - Convert this new int back to a character (using `chr`).\n",
    "    - Add this new character to the string `output_string`\n",
    "\n",
    "Be sure to `return` your encoded string from the function."
   ]
  },
  {
   "cell_type": "code",
   "execution_count": null,
   "metadata": {
    "nbgrader": {
     "grade": false,
     "grade_id": "cell-01518428715ff580",
     "locked": false,
     "schema_version": 3,
     "solution": true
    }
   },
   "outputs": [],
   "source": [
    "### BEGIN SOLUTION\n",
    "def decoder(input_string, key=200):\n",
    "    output_string = ''\n",
    "    \n",
    "    for char in input_string:\n",
    "        output_string = output_string + chr(ord(char) - key)\n",
    "    \n",
    "    return output_string\n",
    "### END SOLUTION"
   ]
  },
  {
   "cell_type": "code",
   "execution_count": null,
   "metadata": {},
   "outputs": [],
   "source": [
    "# you can use this cell to test/execute/check your thinking (optional)"
   ]
  },
  {
   "cell_type": "code",
   "execution_count": null,
   "metadata": {
    "nbgrader": {
     "grade": true,
     "grade_id": "cell-074a7c0b63a94e6e",
     "locked": true,
     "points": 0.25,
     "schema_version": 3,
     "solution": false
    }
   },
   "outputs": [],
   "source": [
    "assert callable(decoder)\n",
    "assert type(decoder('İĭĴĴķ')) == str\n",
    "assert decoder(input_string='İĭĴĴķ') == 'hello'"
   ]
  },
  {
   "cell_type": "code",
   "execution_count": null,
   "metadata": {
    "nbgrader": {
     "grade": true,
     "grade_id": "cell-0558cd2453b2ce3d",
     "locked": true,
     "points": 0.25,
     "schema_version": 3,
     "solution": false
    }
   },
   "outputs": [],
   "source": [
    "assert decoder(input_string='ɜəɠɠɣ', key=500) == 'hello'\n",
    "assert decoder(input_string='¬©°°³', key=100) == 'HELLO'"
   ]
  },
  {
   "cell_type": "markdown",
   "metadata": {
    "nbgrader": {
     "grade": false,
     "grade_id": "cell-49c1def4bac243df",
     "locked": true,
     "schema_version": 3,
     "solution": false
    }
   },
   "source": [
    "### Using the encoder and decoder together\n",
    "\n",
    "The following are a couple examples of using the encoder and decoder together. "
   ]
  },
  {
   "cell_type": "code",
   "execution_count": null,
   "metadata": {
    "nbgrader": {
     "grade": false,
     "grade_id": "cell-420d2e0fa1938e1c",
     "locked": true,
     "schema_version": 3,
     "solution": false
    }
   },
   "outputs": [],
   "source": [
    "# Using the encoder & decoder\n",
    "key = 500\n",
    "message = 'This is a secret message'\n",
    "encoded_message = encoder(message, key)\n",
    "decoded_message = decoder(encoded_message, key)\n",
    "\n",
    "print('\\nOriginal Message: \\t', message)\n",
    "print('\\nEncoded Message: \\t', encoded_message)\n",
    "print('\\nDecoded Message: \\t', decoded_message, '\\n')\n",
    "\n",
    "assert message == decoded_message"
   ]
  },
  {
   "cell_type": "code",
   "execution_count": null,
   "metadata": {
    "nbgrader": {
     "grade": false,
     "grade_id": "cell-95d08670ebc7cb33",
     "locked": true,
     "schema_version": 3,
     "solution": false
    }
   },
   "outputs": [],
   "source": [
    "# Using the encoder & decoder\n",
    "key = 1000\n",
    "message = 'Python is pretty cool, right?'\n",
    "\n",
    "encoded_message = encoder(message, key)\n",
    "decoded_message = decoder(encoded_message, key)\n",
    "\n",
    "print('\\nOriginal Message: \\t', message)\n",
    "print('\\nEncoded Message: \\t', encoded_message)\n",
    "print('\\nDecoded Message: \\t', decoded_message, '\\n')\n",
    "\n",
    "assert message == decoded_message"
   ]
  },
  {
   "cell_type": "markdown",
   "metadata": {
    "nbgrader": {
     "grade": false,
     "grade_id": "cell-7802d01bbd915a1c",
     "locked": true,
     "schema_version": 3,
     "solution": false
    }
   },
   "source": [
    "### Using Variable Keys\n",
    "\n",
    "Part of the reason the unicode code point conversion can be easy to decode is that the same character always gets encoded to the same output. So, if you know a pattern of the language, for example that 'e' is usually the most common letter, you can use this to make an educated guess that the most common character in the encoded message is probable 'e', and from there figure out the encoding key. \n",
    "\n",
    "One way around this is to use a procedure to use different transforms for each character, or, basically, use a different key for each time you encode a character. This breaks the 1-to-1 mapping between original and encoded characters, and makes the encoding harder to crack. However, as long as the decoder knows a pattern of how the key updates, then it is still decodable by knowing the first key and the pattern to get to the next keys. "
   ]
  },
  {
   "cell_type": "markdown",
   "metadata": {
    "collapsed": true,
    "nbgrader": {
     "grade": false,
     "grade_id": "cell-ad2a410017a10fa3",
     "locked": true,
     "schema_version": 3,
     "solution": false
    }
   },
   "source": [
    "### Encoder with variable keys\n",
    "\n",
    "Here we will write a function `variable_encoder()` that will use variable keys within the function, such that a new/different key is used for each character to be encoded. \n",
    "\n",
    "This function will have the following input parameters:\n",
    "- `input_string` | the string to be encoded (str)\n",
    "- `start_key` | the first value to be used for key within the function (int)\n",
    "- `key_increment` | the value by which to increment the key each time a character is encoded (int)\n",
    "\n",
    "This code will look very similar to the code for the `encoder()` question earlier in this assignment. Copy that code in to start and then update to:\n",
    "\n",
    "1. Have the correct function/parameter names as specified above\n",
    "2. Before the loop, specify that the value of `key` should be `start_key`\n",
    "3. The loop will contain the same code to encode each character, but you need to add a line within the loop, after the encoding, that updates the `key` variable by incremening the value in `key` by the value stored in `key_increment`\n",
    "\n",
    "Be sure to `return` the encoded string (`output_string`) from the function"
   ]
  },
  {
   "cell_type": "code",
   "execution_count": null,
   "metadata": {
    "nbgrader": {
     "grade": false,
     "grade_id": "cell-06e54039038018ff",
     "locked": false,
     "schema_version": 3,
     "solution": true
    }
   },
   "outputs": [],
   "source": [
    "### BEGIN SOLUTION\n",
    "def variable_encoder(input_string, start_key, key_increment):\n",
    "    output_string = ''\n",
    "    key = start_key\n",
    "    \n",
    "    for char in input_string:\n",
    "        output_string = output_string + chr(ord(char) + key)\n",
    "        key = key + key_increment\n",
    "        \n",
    "    return output_string\n",
    "### END SOLUTION"
   ]
  },
  {
   "cell_type": "code",
   "execution_count": null,
   "metadata": {},
   "outputs": [],
   "source": [
    "# you can use this cell to test/execute/check your thinking (optional)"
   ]
  },
  {
   "cell_type": "code",
   "execution_count": null,
   "metadata": {
    "nbgrader": {
     "grade": true,
     "grade_id": "cell-929fe5d77dbe70be",
     "locked": true,
     "points": 0.5,
     "schema_version": 3,
     "solution": false
    }
   },
   "outputs": [],
   "source": [
    "message = \"By the way, what we're doing here basically the same as encryption\"\n",
    "\n",
    "# use our variable encoder\n",
    "encoded = variable_encoder(input_string=message, start_key=150, key_increment=3)\n",
    "\n",
    "assert type(encoded) == str\n",
    "assert encoded == \"ØĒ¼ēĊĊÈĢďĪà×ıĥġķæŀıöńĺøĿōŊŒŎĊŕŕťśęŞŠŵŮūŬźŽƍķƎƅƅŃƙƊƙƔŒƖƫśƣƯƧƹǃƽǄƼǅǇ\"\n",
    "\n",
    "print('\\nOriginal Message: \\t', message)\n",
    "print('\\nEncoded Message: \\t', encoded, '\\n')"
   ]
  },
  {
   "cell_type": "markdown",
   "metadata": {
    "nbgrader": {
     "grade": false,
     "grade_id": "cell-853d707bf2388ec1",
     "locked": true,
     "schema_version": 3,
     "solution": false
    }
   },
   "source": [
    "### Breaking a Variable Encoder\n",
    "\n",
    "#### Extra (optional) Information for the Curious - on Cryptography & Alan Turing\n",
    "\n",
    "This kind of 'variable encoder' in which the encoding transform updates every time it is applied is much harder for an outside attacker to break (if they do not know the initial key and the way it changes every application). \n",
    "\n",
    "This is, broadly, the kind of encryption which was used by German forces in World War II to encode messages - the ENIGMA code. \n",
    "\n",
    "This approach is, however, still breakable - it just takes a lot of clever analysis and number crunching. During World War II, Alan Turing, having already at that point done fundamental work developing the very concept of a digital computer, developed machines and algorithms to try to break the German ENIGMA code, eventually managing to decode it with his team at Bletchley Park.\n",
    "\n",
    "Cracking this code was a huge development in the war - it is estimated this code breaking work, which allowed the Allies to decode messages and anticipate German actions, may have shortened the war by up to 2 to 3 years, saving millions of lives in the process.\n",
    "\n",
    "By the early 1950s, though his codebreaking work was still strictly confidential and he was largely unknown by the general public, Alan Turing had gone on to make other huge contributions to the fields of computation and artificial intelligence, amongst others, that would go on to have massive impacts on the modern world. \n",
    "\n",
    "The British government, who years before had employed him as a codebreaker, then prosecuted Alan Turing for homosexual activity and forced him to undergo chemical castration. Alan Turing died of suicide in 1954, at the age of 41. \n",
    "\n",
    "For more information on Alan Turing, check out the article linked below, and/or look into the movie `The Imitation Game`, a dramatization of his work on code breaking during the war. \n",
    "\n",
    "Short Article on Alan Turing: https://www.bbc.com/news/technology-18419691"
   ]
  },
  {
   "cell_type": "markdown",
   "metadata": {
    "nbgrader": {
     "grade": false,
     "grade_id": "cell-f6c8677ae268ef0c",
     "locked": true,
     "schema_version": 3,
     "solution": false
    }
   },
   "source": [
    "### Variable Decoder\n",
    "\n",
    "The code below is provided for you, and performs decoding of a variable encoder. \n",
    "\n",
    "To do so, it needs to know the `start_key` and `key_increment` that were used."
   ]
  },
  {
   "cell_type": "code",
   "execution_count": null,
   "metadata": {
    "nbgrader": {
     "grade": false,
     "grade_id": "cell-6c4c97678e235460",
     "locked": true,
     "schema_version": 3,
     "solution": false
    }
   },
   "outputs": [],
   "source": [
    "def variable_decoder(input_message, start_key, key_increment):\n",
    "    # Knowing the start key and the length of the message, we can reconstruct the current key\n",
    "    key = start_key + (len(encoded) * key_increment)\n",
    "\n",
    "    decoded = ''\n",
    "\n",
    "    # Note that this decodes the message backwards, stepping back along key values\n",
    "    for char in encoded[::-1]:\n",
    "\n",
    "        # Step the key back one step, and apply to current character\n",
    "        key = key - key_increment\n",
    "        decoded = decoded + chr(ord(char) - key)\n",
    "\n",
    "    # Having decoded backwards, flip the message back around\n",
    "    decoded = decoded[::-1]\n",
    "    \n",
    "    return decoded"
   ]
  },
  {
   "cell_type": "markdown",
   "metadata": {
    "nbgrader": {
     "grade": false,
     "grade_id": "cell-416d486e4a812411",
     "locked": true,
     "schema_version": 3,
     "solution": false
    }
   },
   "source": [
    "### Decoding a provided message\n",
    "\n",
    "The cell below has an encoded message (using variable encoding) and the `start_key` and `key_increment` needed to decode. \n",
    "\n",
    "Run the following cell to execute the decoding code from above, and decode the message. "
   ]
  },
  {
   "cell_type": "code",
   "execution_count": null,
   "metadata": {
    "nbgrader": {
     "grade": false,
     "grade_id": "cell-a2860aa46a9d8762",
     "locked": true,
     "schema_version": 3,
     "solution": false
    },
    "scrolled": false
   },
   "outputs": [],
   "source": [
    "# Do decoding on message above\n",
    "encoded = 'Ãâø¡ü¬èõ÷\\xad¼±ÜµÿĈċĂ¿ĚĒĚÇĊĝĒÏĖġğĦĲĤīĦáķĭĬéķĮıòÝĞĽùŔŌŔāŋņŗřŐśďťŢĕũŞŜũūźģűŰŴŰĭƃŹżƈķżƄƍƇƆƕŅƚƝƠƓƕőŠŕƝƨƧƩƮƸƬƳƮũǀƽůǀǁŵǋǁǄǐſǘǌǑǓƉǍǒƏǒƓǛǠǧǜǩƟǱǵǴǱǮǮȁƯȀȃȉȀȈȉǋǈ'\n",
    "decoded = variable_decoder(input_message=encoded, start_key=123, key_increment=2)\n",
    "\n",
    "print(decoded)"
   ]
  },
  {
   "cell_type": "markdown",
   "metadata": {
    "nbgrader": {
     "grade": false,
     "grade_id": "cell-cf7b42ba860cbf70",
     "locked": true,
     "schema_version": 3,
     "solution": false
    }
   },
   "source": [
    "## Part 3: Challenges\n",
    "\n",
    "Give these a shot, but it's definitely ok if you don't figure these out all the way! Remember, if you don't figure out the answer, definitely check the answer key when posted!"
   ]
  },
  {
   "cell_type": "markdown",
   "metadata": {
    "nbgrader": {
     "grade": false,
     "grade_id": "cell-04fe5b8439ca9114",
     "locked": true,
     "schema_version": 3,
     "solution": false
    }
   },
   "source": [
    "### Debugging Challenge\n",
    "\n",
    "You're trying to write a function that will count the number of vowels in your name, storing that value in `counter` and `return`ing that value from the function. To get started, you store your name in the variable `my_name` and write the code you see here:\n",
    "\n",
    "```python\n",
    "my_name == 'Shannon'\n",
    "vowels = ['A','E','I','O','U', 'a', 'e', 'i', 'o', 'u']\n",
    "counter = 0\n",
    "\n",
    "for char in my_name:\n",
    "    if char == vowels:\n",
    "        counter =  1\n",
    "```\n",
    "\n",
    "...However, 2)the code above is not quite working and 2) it's not a function!...work to debug the code to accomplish the task!\n",
    "\n",
    "Note: This question uses a `for` loop. Next week's coding lab will get you even more loops practice!"
   ]
  },
  {
   "cell_type": "code",
   "execution_count": 2,
   "metadata": {
    "nbgrader": {
     "grade": false,
     "grade_id": "cell-1d48166464642c57",
     "locked": false,
     "schema_version": 3,
     "solution": true
    },
    "scrolled": true
   },
   "outputs": [],
   "source": [
    "### BEGIN SOLUTION\n",
    "def count_vowels(my_name):\n",
    "    vowels = ['A','E','I','O','U', 'a', 'e', 'i', 'o', 'u']\n",
    "    counter = 0\n",
    "\n",
    "    for char in my_name:\n",
    "        if char in vowels:\n",
    "            counter += 1\n",
    "    \n",
    "    return counter\n",
    "### END SOLUTION"
   ]
  },
  {
   "cell_type": "code",
   "execution_count": null,
   "metadata": {},
   "outputs": [],
   "source": [
    "# try it out down here..."
   ]
  },
  {
   "cell_type": "markdown",
   "metadata": {
    "nbgrader": {
     "grade": false,
     "grade_id": "cell-56be1cfa79acdd93",
     "locked": true,
     "schema_version": 3,
     "solution": false
    }
   },
   "source": [
    "### Nested Loop Challenge\n",
    "\n",
    "Using nested loops, write code that will print out a pattern that looks like this:\n",
    "\n",
    "1 <br>\n",
    "1 2 <br>\n",
    "1 2 3 <br>\n",
    "1 2 3 4 <br>\n",
    "1 2 3 4 5 <br>\n",
    "1 2 3 4 5 6 <br>\n",
    "1 2 3 4 5 6 7\n",
    "\n",
    "Hints:\n",
    "- You can do this with two while loops, one inside the other.\n",
    "- You will have two indices counters, one for each loop. \n",
    "- For the print statement, it will look something like `print(index_inner, end=\" \")`"
   ]
  },
  {
   "cell_type": "code",
   "execution_count": null,
   "metadata": {
    "nbgrader": {
     "grade": false,
     "grade_id": "cell-3be5b519bda3c9fd",
     "locked": false,
     "schema_version": 3,
     "solution": true
    }
   },
   "outputs": [],
   "source": [
    "### BEGIN SOLUTION\n",
    "index_outer = 1\n",
    "while index_outer < 8:\n",
    "    \n",
    "    index_inner = 1\n",
    "    \n",
    "    while index_inner <= index_outer:\n",
    "        print(index_inner, end=\" \")\n",
    "        index_inner = index_inner + 1\n",
    "        \n",
    "    print(\"\")\n",
    "    index_outer = index_outer + 1\n",
    "### END SOLUTION"
   ]
  },
  {
   "cell_type": "markdown",
   "metadata": {
    "nbgrader": {
     "grade": false,
     "grade_id": "cell-7e248a0ca4750ec0",
     "locked": true,
     "schema_version": 3,
     "solution": false
    }
   },
   "source": [
    "If you get the above pattern working, try manipulating the code to print out different patterns, and with different symbols. "
   ]
  },
  {
   "cell_type": "code",
   "execution_count": null,
   "metadata": {
    "nbgrader": {
     "grade": true,
     "grade_id": "cell-d7ff87fc6930bed0",
     "locked": false,
     "points": 0,
     "schema_version": 3,
     "solution": true
    }
   },
   "outputs": [],
   "source": []
  },
  {
   "cell_type": "markdown",
   "metadata": {
    "nbgrader": {
     "grade": false,
     "grade_id": "cell-328179da0a2517e7",
     "locked": true,
     "schema_version": 3,
     "solution": false
    }
   },
   "source": [
    "## The End!\n",
    "\n",
    "This is the end of this Coding Lab!\n",
    "\n",
    "Be sure you've made a concerted effort to complete all the tasks specified in this lab. Then, go ahead and submit on datahub!"
   ]
  }
 ],
 "metadata": {
  "celltoolbar": "Create Assignment",
  "kernelspec": {
   "display_name": "Python 3 (ipykernel)",
   "language": "python",
   "name": "python3"
  },
  "language_info": {
   "codemirror_mode": {
    "name": "ipython",
    "version": 3
   },
   "file_extension": ".py",
   "mimetype": "text/x-python",
   "name": "python",
   "nbconvert_exporter": "python",
   "pygments_lexer": "ipython3",
   "version": "3.9.7"
  }
 },
 "nbformat": 4,
 "nbformat_minor": 2
}
