{
 "cells": [
  {
   "cell_type": "markdown",
   "metadata": {
    "nbgrader": {
     "grade": false,
     "grade_id": "cell-e8537ebe6502c993",
     "locked": true,
     "schema_version": 3,
     "solution": false
    }
   },
   "source": [
    "# CL5: Loops\n",
    "\n",
    "Welcome to the fifth coding lab!\n",
    "\n",
    "In this Coding Lab we will focus on debugging and understanding loops."
   ]
  },
  {
   "cell_type": "markdown",
   "metadata": {},
   "source": [
    "**Note**: You may *not* be able to complete all of this in 50 minutes, particularly the challenges in Part 3.  This are meant to help you gain mastery and provide additional practices, not to stress you out a ton. Make a concerted effort. Do your best to complete it. But, if you don't figure it all out, that's why we post answers for coding labs!"
   ]
  },
  {
   "cell_type": "markdown",
   "metadata": {
    "nbgrader": {
     "grade": false,
     "grade_id": "cell-00813a1ea7d46d85",
     "locked": true,
     "schema_version": 3,
     "solution": false
    }
   },
   "source": [
    "## Part 1: Debugging"
   ]
  },
  {
   "cell_type": "markdown",
   "metadata": {
    "nbgrader": {
     "grade": false,
     "grade_id": "cell-9734fc2b7191c9c7",
     "locked": true,
     "schema_version": 3,
     "solution": false
    }
   },
   "source": [
    "### Creating Errors\n",
    "For each of the follow Exceptions, write a small piece of code that will cause it to happen:\n",
    "- ZeroDivisionError\n",
    "- SyntaxError\n",
    "- IndentationError\n",
    "- TypeError\n",
    "- IndexError\n",
    "- ValueError\n",
    "- NameError"
   ]
  },
  {
   "cell_type": "code",
   "execution_count": 8,
   "metadata": {
    "nbgrader": {
     "grade": true,
     "grade_id": "cell-0e441a93d9074f56",
     "locked": false,
     "points": 0,
     "schema_version": 3,
     "solution": true
    }
   },
   "outputs": [
    {
     "ename": "ZeroDivisionError",
     "evalue": "division by zero",
     "output_type": "error",
     "traceback": [
      "\u001b[0;31m---------------------------------------------------------------------------\u001b[0m",
      "\u001b[0;31mZeroDivisionError\u001b[0m                         Traceback (most recent call last)",
      "\u001b[0;32m<ipython-input-8-ed6be6017f0d>\u001b[0m in \u001b[0;36m<module>\u001b[0;34m\u001b[0m\n\u001b[1;32m      3\u001b[0m \u001b[0;31m### BEGIN SOLUTION\u001b[0m\u001b[0;34m\u001b[0m\u001b[0;34m\u001b[0m\u001b[0;34m\u001b[0m\u001b[0m\n\u001b[1;32m      4\u001b[0m \u001b[0;31m# Zero Division Answer\u001b[0m\u001b[0;34m\u001b[0m\u001b[0;34m\u001b[0m\u001b[0;34m\u001b[0m\u001b[0m\n\u001b[0;32m----> 5\u001b[0;31m \u001b[0;36m1\u001b[0m\u001b[0;34m/\u001b[0m\u001b[0;36m0\u001b[0m\u001b[0;34m\u001b[0m\u001b[0;34m\u001b[0m\u001b[0m\n\u001b[0m\u001b[1;32m      6\u001b[0m \u001b[0;31m### END SOLUTION\u001b[0m\u001b[0;34m\u001b[0m\u001b[0;34m\u001b[0m\u001b[0;34m\u001b[0m\u001b[0m\n",
      "\u001b[0;31mZeroDivisionError\u001b[0m: division by zero"
     ]
    }
   ],
   "source": [
    "# ZeroDividisionError\n",
    "\n",
    "### BEGIN SOLUTION\n",
    "# Zero Division Answer\n",
    "1/0\n",
    "### END SOLUTION"
   ]
  },
  {
   "cell_type": "code",
   "execution_count": 9,
   "metadata": {
    "nbgrader": {
     "grade": true,
     "grade_id": "cell-b1ac7106e83cb72f",
     "locked": false,
     "points": 0,
     "schema_version": 3,
     "solution": true
    }
   },
   "outputs": [
    {
     "ename": "SyntaxError",
     "evalue": "invalid syntax (<ipython-input-9-be9b0a2c23f4>, line 5)",
     "output_type": "error",
     "traceback": [
      "\u001b[0;36m  File \u001b[0;32m\"<ipython-input-9-be9b0a2c23f4>\"\u001b[0;36m, line \u001b[0;32m5\u001b[0m\n\u001b[0;31m    for el in [1, 2]\u001b[0m\n\u001b[0m                    ^\u001b[0m\n\u001b[0;31mSyntaxError\u001b[0m\u001b[0;31m:\u001b[0m invalid syntax\n"
     ]
    }
   ],
   "source": [
    "# SyntaxError\n",
    "\n",
    "### BEGIN SOLUTION\n",
    "# Syntax Answer\n",
    "for el in [1, 2]\n",
    "    print(el)\n",
    "### END SOLUTION"
   ]
  },
  {
   "cell_type": "code",
   "execution_count": 10,
   "metadata": {
    "nbgrader": {
     "grade": true,
     "grade_id": "cell-cfb3db08e0f1e2f2",
     "locked": false,
     "points": 0,
     "schema_version": 3,
     "solution": true
    }
   },
   "outputs": [
    {
     "ename": "IndentationError",
     "evalue": "expected an indented block (<ipython-input-10-c6211a37f78d>, line 6)",
     "output_type": "error",
     "traceback": [
      "\u001b[0;36m  File \u001b[0;32m\"<ipython-input-10-c6211a37f78d>\"\u001b[0;36m, line \u001b[0;32m6\u001b[0m\n\u001b[0;31m    print(el)\u001b[0m\n\u001b[0m        ^\u001b[0m\n\u001b[0;31mIndentationError\u001b[0m\u001b[0;31m:\u001b[0m expected an indented block\n"
     ]
    }
   ],
   "source": [
    "# IndentationError\n",
    "\n",
    "### BEGIN SOLUTION\n",
    "# Indentation Error\n",
    "for el in [1, 2]:\n",
    "print(el)\n",
    "### END SOLUTION"
   ]
  },
  {
   "cell_type": "code",
   "execution_count": 11,
   "metadata": {
    "nbgrader": {
     "grade": true,
     "grade_id": "cell-ffce1ddb5088e527",
     "locked": false,
     "points": 0,
     "schema_version": 3,
     "solution": true
    }
   },
   "outputs": [
    {
     "ename": "TypeError",
     "evalue": "can only concatenate tuple (not \"int\") to tuple",
     "output_type": "error",
     "traceback": [
      "\u001b[0;31m---------------------------------------------------------------------------\u001b[0m",
      "\u001b[0;31mTypeError\u001b[0m                                 Traceback (most recent call last)",
      "\u001b[0;32m<ipython-input-11-588e2eac522e>\u001b[0m in \u001b[0;36m<module>\u001b[0;34m\u001b[0m\n\u001b[1;32m      3\u001b[0m \u001b[0;31m### BEGIN SOLUTION\u001b[0m\u001b[0;34m\u001b[0m\u001b[0;34m\u001b[0m\u001b[0;34m\u001b[0m\u001b[0m\n\u001b[1;32m      4\u001b[0m \u001b[0;31m# Type error\u001b[0m\u001b[0;34m\u001b[0m\u001b[0;34m\u001b[0m\u001b[0;34m\u001b[0m\u001b[0m\n\u001b[0;32m----> 5\u001b[0;31m \u001b[0;34m(\u001b[0m\u001b[0;36m1\u001b[0m\u001b[0;34m,\u001b[0m \u001b[0;36m2\u001b[0m\u001b[0;34m)\u001b[0m \u001b[0;34m+\u001b[0m \u001b[0;34m(\u001b[0m\u001b[0;36m2\u001b[0m\u001b[0;34m)\u001b[0m\u001b[0;34m\u001b[0m\u001b[0;34m\u001b[0m\u001b[0m\n\u001b[0m\u001b[1;32m      6\u001b[0m \u001b[0;31m### END SOLUTION\u001b[0m\u001b[0;34m\u001b[0m\u001b[0;34m\u001b[0m\u001b[0;34m\u001b[0m\u001b[0m\n",
      "\u001b[0;31mTypeError\u001b[0m: can only concatenate tuple (not \"int\") to tuple"
     ]
    }
   ],
   "source": [
    "# TypeError\n",
    "\n",
    "### BEGIN SOLUTION\n",
    "# Type error\n",
    "(1, 2) + (2)\n",
    "### END SOLUTION"
   ]
  },
  {
   "cell_type": "code",
   "execution_count": 12,
   "metadata": {
    "nbgrader": {
     "grade": true,
     "grade_id": "cell-425c5dbe3ce96cb2",
     "locked": false,
     "points": 0,
     "schema_version": 3,
     "solution": true
    }
   },
   "outputs": [
    {
     "ename": "IndexError",
     "evalue": "list index out of range",
     "output_type": "error",
     "traceback": [
      "\u001b[0;31m---------------------------------------------------------------------------\u001b[0m",
      "\u001b[0;31mIndexError\u001b[0m                                Traceback (most recent call last)",
      "\u001b[0;32m<ipython-input-12-d7e1cc63f92d>\u001b[0m in \u001b[0;36m<module>\u001b[0;34m\u001b[0m\n\u001b[1;32m      4\u001b[0m \u001b[0;31m# Index Error\u001b[0m\u001b[0;34m\u001b[0m\u001b[0;34m\u001b[0m\u001b[0;34m\u001b[0m\u001b[0m\n\u001b[1;32m      5\u001b[0m \u001b[0mlst\u001b[0m \u001b[0;34m=\u001b[0m \u001b[0;34m[\u001b[0m\u001b[0;36m1\u001b[0m\u001b[0;34m,\u001b[0m \u001b[0;36m2\u001b[0m\u001b[0;34m]\u001b[0m\u001b[0;34m\u001b[0m\u001b[0;34m\u001b[0m\u001b[0m\n\u001b[0;32m----> 6\u001b[0;31m \u001b[0mlst\u001b[0m\u001b[0;34m[\u001b[0m\u001b[0;36m2\u001b[0m\u001b[0;34m]\u001b[0m\u001b[0;34m\u001b[0m\u001b[0;34m\u001b[0m\u001b[0m\n\u001b[0m\u001b[1;32m      7\u001b[0m \u001b[0;31m### END SOLUTION\u001b[0m\u001b[0;34m\u001b[0m\u001b[0;34m\u001b[0m\u001b[0;34m\u001b[0m\u001b[0m\n",
      "\u001b[0;31mIndexError\u001b[0m: list index out of range"
     ]
    }
   ],
   "source": [
    "# IndexError\n",
    "\n",
    "### BEGIN SOLUTION\n",
    "# Index Error\n",
    "lst = [1, 2]\n",
    "lst[2]\n",
    "### END SOLUTION"
   ]
  },
  {
   "cell_type": "code",
   "execution_count": 13,
   "metadata": {
    "nbgrader": {
     "grade": true,
     "grade_id": "cell-16b2a47d0a4214d2",
     "locked": false,
     "points": 0,
     "schema_version": 3,
     "solution": true
    }
   },
   "outputs": [
    {
     "ename": "ValueError",
     "evalue": "invalid literal for int() with base 10: 'a'",
     "output_type": "error",
     "traceback": [
      "\u001b[0;31m---------------------------------------------------------------------------\u001b[0m",
      "\u001b[0;31mValueError\u001b[0m                                Traceback (most recent call last)",
      "\u001b[0;32m<ipython-input-13-10ee50481867>\u001b[0m in \u001b[0;36m<module>\u001b[0;34m\u001b[0m\n\u001b[1;32m      3\u001b[0m \u001b[0;31m### BEGIN SOLUTION\u001b[0m\u001b[0;34m\u001b[0m\u001b[0;34m\u001b[0m\u001b[0;34m\u001b[0m\u001b[0m\n\u001b[1;32m      4\u001b[0m \u001b[0;31m# Value Error\u001b[0m\u001b[0;34m\u001b[0m\u001b[0;34m\u001b[0m\u001b[0;34m\u001b[0m\u001b[0m\n\u001b[0;32m----> 5\u001b[0;31m \u001b[0mint\u001b[0m\u001b[0;34m(\u001b[0m\u001b[0;34m'a'\u001b[0m\u001b[0;34m)\u001b[0m\u001b[0;34m\u001b[0m\u001b[0;34m\u001b[0m\u001b[0m\n\u001b[0m\u001b[1;32m      6\u001b[0m \u001b[0;31m### END SOLUTION\u001b[0m\u001b[0;34m\u001b[0m\u001b[0;34m\u001b[0m\u001b[0;34m\u001b[0m\u001b[0m\n",
      "\u001b[0;31mValueError\u001b[0m: invalid literal for int() with base 10: 'a'"
     ]
    }
   ],
   "source": [
    "# ValueError\n",
    "\n",
    "### BEGIN SOLUTION\n",
    "# Value Error\n",
    "int('a')\n",
    "### END SOLUTION"
   ]
  },
  {
   "cell_type": "code",
   "execution_count": 14,
   "metadata": {
    "nbgrader": {
     "grade": true,
     "grade_id": "cell-6438bfb83cd2bd54",
     "locked": false,
     "points": 0,
     "schema_version": 3,
     "solution": true
    }
   },
   "outputs": [
    {
     "ename": "NameError",
     "evalue": "name 'a' is not defined",
     "output_type": "error",
     "traceback": [
      "\u001b[0;31m---------------------------------------------------------------------------\u001b[0m",
      "\u001b[0;31mNameError\u001b[0m                                 Traceback (most recent call last)",
      "\u001b[0;32m<ipython-input-14-7aa3cf16c49c>\u001b[0m in \u001b[0;36m<module>\u001b[0;34m\u001b[0m\n\u001b[1;32m      3\u001b[0m \u001b[0;31m### BEGIN SOLUTION\u001b[0m\u001b[0;34m\u001b[0m\u001b[0;34m\u001b[0m\u001b[0;34m\u001b[0m\u001b[0m\n\u001b[1;32m      4\u001b[0m \u001b[0;31m# Name Error\u001b[0m\u001b[0;34m\u001b[0m\u001b[0;34m\u001b[0m\u001b[0;34m\u001b[0m\u001b[0m\n\u001b[0;32m----> 5\u001b[0;31m \u001b[0ma\u001b[0m\u001b[0;34m\u001b[0m\u001b[0;34m\u001b[0m\u001b[0m\n\u001b[0m\u001b[1;32m      6\u001b[0m \u001b[0;31m### END SOLUTION\u001b[0m\u001b[0;34m\u001b[0m\u001b[0;34m\u001b[0m\u001b[0;34m\u001b[0m\u001b[0m\n",
      "\u001b[0;31mNameError\u001b[0m: name 'a' is not defined"
     ]
    }
   ],
   "source": [
    "# NameError\n",
    "\n",
    "### BEGIN SOLUTION\n",
    "# Name Error\n",
    "a\n",
    "### END SOLUTION"
   ]
  },
  {
   "cell_type": "markdown",
   "metadata": {
    "nbgrader": {
     "grade": false,
     "grade_id": "cell-bb0cc23502d8e385",
     "locked": true,
     "schema_version": 3,
     "solution": false
    }
   },
   "source": [
    "### Fixing Errors\n",
    "\n",
    "For each of the following cells, try to debug the code to fix any errors, and get it running. "
   ]
  },
  {
   "cell_type": "code",
   "execution_count": null,
   "metadata": {
    "nbgrader": {
     "grade": true,
     "grade_id": "cell-5c1e4912f8be4917",
     "locked": false,
     "points": 0,
     "schema_version": 3,
     "solution": true
    }
   },
   "outputs": [],
   "source": [
    "if True\n",
    "    print('It worked')\n",
    "    \n",
    "### BEGIN SOLUTION\n",
    "# Answer: add a ':' to open the conditional code block\n",
    "if True:\n",
    "    print('It worked')\n",
    "### END SOLUTION"
   ]
  },
  {
   "cell_type": "code",
   "execution_count": null,
   "metadata": {
    "nbgrader": {
     "grade": true,
     "grade_id": "cell-a311736fa20712bf",
     "locked": false,
     "points": 0,
     "schema_version": 3,
     "solution": true
    }
   },
   "outputs": [],
   "source": [
    "age_string = \"My favorite number is \" + 27\n",
    "\n",
    "### BEGIN SOLUTION\n",
    "# Answer: typecase int to string\n",
    "age_string = \"My favorite number is \" + \"27\"\n",
    "# OR\n",
    "age_string = \"My favorite number is \" + str(27)\n",
    "### END SOLUTION\n"
   ]
  },
  {
   "cell_type": "code",
   "execution_count": null,
   "metadata": {
    "nbgrader": {
     "grade": true,
     "grade_id": "cell-49b6889e712f45f6",
     "locked": false,
     "points": 0,
     "schema_version": 3,
     "solution": true
    }
   },
   "outputs": [],
   "source": [
    "print('Three plus five equals' + str(3+5)\n",
    "\n",
    "### BEGIN SOLUTION\n",
    "# Answer: Missing closing parenthesis - add ')' at the end\n",
    "print('Three plus five equals' + str(3+5))\n",
    "\n",
    "### END SOLUTION"
   ]
  },
  {
   "cell_type": "markdown",
   "metadata": {
    "nbgrader": {
     "grade": false,
     "grade_id": "cell-634294ae0e4720a9",
     "locked": true,
     "schema_version": 3,
     "solution": false
    }
   },
   "source": [
    "## Part 2: Loops Review & Exploration\n",
    "\n",
    "We will now explore two ways to iterate over data in Python - `for` and `while` loops. \n",
    "\n",
    "Each type of loop performs its respective code block until certain conditions are met. Here, we will explore what those conditions are. \n",
    "\n",
    "Note: \"iterate\" means to perform an action repeatedly \n",
    "\n",
    "Note: Sometimes, we accidentally make loops that never end. \n",
    "- If that happens, \"break\" the cell by selecting it and then pressing \"ctrl+c\". Alternatively, press the \"stop\" button (square icon) in the Jupyter toolbar. "
   ]
  },
  {
   "cell_type": "markdown",
   "metadata": {
    "nbgrader": {
     "grade": false,
     "grade_id": "cell-b4f5bcda88789ec6",
     "locked": true,
     "schema_version": 3,
     "solution": false
    }
   },
   "source": [
    "### Loops \n",
    "\n",
    "First, declare a variable called `counter` that has type int and value zero.\n",
    "\n",
    "Then write a `while` loop that runs 10 times and use `counter` to track how many times the loop runs. "
   ]
  },
  {
   "cell_type": "code",
   "execution_count": 6,
   "metadata": {
    "nbgrader": {
     "grade": false,
     "grade_id": "cell-af48110fe42b669b",
     "locked": false,
     "schema_version": 3,
     "solution": true
    }
   },
   "outputs": [],
   "source": [
    "### BEGIN SOLUTION\n",
    "counter = 0\n",
    "while counter < 10:\n",
    "    counter = counter + 1\n",
    "### END SOLUTION"
   ]
  },
  {
   "cell_type": "code",
   "execution_count": 7,
   "metadata": {},
   "outputs": [],
   "source": [
    "# Check that (after the loop runs) that there is a variable called `counter` that has value 10\n",
    "assert counter == 10"
   ]
  },
  {
   "cell_type": "markdown",
   "metadata": {
    "nbgrader": {
     "grade": false,
     "grade_id": "cell-63a4942a96dc6c0d",
     "locked": true,
     "schema_version": 3,
     "solution": false
    }
   },
   "source": [
    "### Infinite Loops\n",
    "\n",
    "The while loop below will run indefinitely unless someone puts a stop to it! \n",
    "\n",
    "Add your own code that causes the loop to exit when the `counter` variable reaches 10. You can use `break` to do this. \n",
    "\n",
    "Note: Sometimes, we accidentally make loops that never end - try that by running the cell below before adding \n",
    "\n",
    "If that happens, interrupt the cell by selecting it and then pressing \"ctrl+c\". Alternatively, press the \"stop\" button (square icon) in the Jupyter toolbar. \n",
    "\n",
    "For refernece, the starter code provided is:\n",
    "```python\n",
    "counter = 0\n",
    "\n",
    "while True:\n",
    "    \n",
    "    print(\"the value of 'counter' = \" + str(counter))\n",
    "    counter +=1\n",
    "    \n",
    "```"
   ]
  },
  {
   "cell_type": "code",
   "execution_count": 8,
   "metadata": {
    "nbgrader": {
     "grade": false,
     "grade_id": "cell-0e33a3d206c8759d",
     "locked": false,
     "schema_version": 3,
     "solution": true
    }
   },
   "outputs": [
    {
     "name": "stdout",
     "output_type": "stream",
     "text": [
      "the value of 'counter' = 0\n",
      "the value of 'counter' = 1\n",
      "the value of 'counter' = 2\n",
      "the value of 'counter' = 3\n",
      "the value of 'counter' = 4\n",
      "the value of 'counter' = 5\n",
      "the value of 'counter' = 6\n",
      "the value of 'counter' = 7\n",
      "the value of 'counter' = 8\n",
      "the value of 'counter' = 9\n"
     ]
    }
   ],
   "source": [
    "counter = 0\n",
    "\n",
    "while True:\n",
    "    \n",
    "    print(\"the value of 'counter' = \" + str(counter))\n",
    "    counter +=1\n",
    "    \n",
    "### BEGIN SOLUTION\n",
    "    if counter >= 10:\n",
    "        break\n",
    "### END SOLUTION\n"
   ]
  },
  {
   "cell_type": "markdown",
   "metadata": {
    "nbgrader": {
     "grade": false,
     "grade_id": "cell-9445f177e9dc38ff",
     "locked": true,
     "schema_version": 3,
     "solution": false
    }
   },
   "source": [
    "Now, rather than using `break`, edit the loop from above so that the condition following `while` will eventually evaluate as `False` (and thus terminate the loop)."
   ]
  },
  {
   "cell_type": "code",
   "execution_count": 9,
   "metadata": {
    "nbgrader": {
     "grade": false,
     "grade_id": "cell-b561c8f0d73a25e3",
     "locked": false,
     "schema_version": 3,
     "solution": true
    }
   },
   "outputs": [
    {
     "name": "stdout",
     "output_type": "stream",
     "text": [
      "the value of 'counter' = 0\n",
      "the value of 'counter' = 1\n",
      "the value of 'counter' = 2\n",
      "the value of 'counter' = 3\n",
      "the value of 'counter' = 4\n",
      "the value of 'counter' = 5\n",
      "the value of 'counter' = 6\n",
      "the value of 'counter' = 7\n",
      "the value of 'counter' = 8\n",
      "the value of 'counter' = 9\n"
     ]
    }
   ],
   "source": [
    "### BEGIN SOLUTION\n",
    "counter = 0\n",
    "\n",
    "# edit condition\n",
    "while counter < 10:\n",
    "    \n",
    "    print(\"the value of 'counter' = \" + str(counter))\n",
    "    counter +=1\n",
    "### END SOLUTION"
   ]
  },
  {
   "cell_type": "markdown",
   "metadata": {
    "nbgrader": {
     "grade": false,
     "grade_id": "cell-263fbedcb0c5fe6c",
     "locked": true,
     "schema_version": 3,
     "solution": false
    }
   },
   "source": [
    "### Loop Explorations\n",
    "\n",
    "Now, explore using for and while loops and breaks. \n",
    "\n",
    "Here are some things to try, and questions to ask - each of which you should explore in code. \n",
    "- What happens if you use 'break' all by itself?\n",
    "- What are some different ways to loop through a list? tuple?\n",
    "- Write these combinations: \n",
    "    - a `for` loop with a `break`, a `for` loop with a `continue`\n",
    "    - a `while` loop with a `break`, a `while` loop with a `continue`\n",
    "- Write some loops that loop across lists:\n",
    "    - Write a loop that loops across, and prints out, all the elements of a list\n",
    "    - Write a loop that loops across, and prints out, every second element of a list\n",
    "    - Write a loop that loops across, and prints out, every element of a list in reverse order\n",
    "    - Write a loop that loops across, and prints out, the first half of a list\n",
    "- Write a loop with a conditional inside it.\n",
    "- Can you have loops inside loops? If you think so, try and write a nested loop. \n",
    "\n",
    "Reminder: you can add as many cells as you'd like to test these out! "
   ]
  },
  {
   "cell_type": "code",
   "execution_count": 5,
   "metadata": {
    "nbgrader": {
     "grade": false,
     "grade_id": "cell-c101bd32c5150b72",
     "locked": false,
     "schema_version": 3,
     "solution": true
    },
    "scrolled": true
   },
   "outputs": [
    {
     "name": "stdout",
     "output_type": "stream",
     "text": [
      "1\n",
      "2\n",
      "\n",
      "a\n",
      "b\n",
      "Print all elements list:\n",
      "1\n",
      "2\n",
      "3\n",
      "4\n",
      "\n",
      "Print every second element list:\n",
      "2\n",
      "4\n",
      "\n",
      "Print reversed list:\n",
      "4\n",
      "3\n",
      "2\n",
      "1\n",
      "\n",
      "Print first half:\n",
      "1\n",
      "2\n",
      "\n",
      "Yay.\n",
      "1 a\n",
      "1 b\n",
      "1 c\n",
      "2 a\n",
      "2 b\n",
      "2 c\n",
      "3 a\n",
      "3 b\n",
      "3 c\n"
     ]
    }
   ],
   "source": [
    "### BEGIN SOLUTION\n",
    "my_list = [1, 2]\n",
    "my_tuple = ('a', 'b')\n",
    "\n",
    "# You can loop through lists or tuples directly, or with indices\n",
    "# Loop through list with for - same goes for tuple\n",
    "for el in my_list:\n",
    "    print(el)\n",
    "\n",
    "print('')\n",
    "    \n",
    "# Loop through tuple using indexing - same goes for list\n",
    "for ind in range(2):\n",
    "    print(my_tuple[ind])\n",
    "\n",
    "#- Write these combinations: \n",
    "#    - a `for` loop with a `break`, a `for` loop with a `continue`\n",
    "#    - a `while` loop with a `break`, a `for` loop with a `continue`\n",
    "\n",
    "letter_list = ['a', 'c', 'e']\n",
    "\n",
    "for it in letter_list:\n",
    "    if it == 'c':\n",
    "        break\n",
    "\n",
    "for it in letter_list:\n",
    "    if it == 'a':\n",
    "        continue\n",
    "\n",
    "# While loops with break and continue\n",
    "ind = 0\n",
    "\n",
    "while ind < 5:\n",
    "    if ind == 2:\n",
    "        break\n",
    "    ind = ind + 1\n",
    "\n",
    "while ind < 5:\n",
    "    ind = ind + 1\n",
    "    if ind == 2:\n",
    "        continue\n",
    "\n",
    "# These are loops using indexing, to grab different elements of the list\n",
    "another_list = [1, 2, 3, 4]\n",
    "\n",
    "print('Print all elements list:')\n",
    "for it in another_list:\n",
    "    print(it)\n",
    "print('')\n",
    "    \n",
    "print('Print every second element list:')\n",
    "for it in another_list[1::2]:\n",
    "    print(it)\n",
    "print('')\n",
    "\n",
    "print('Print reversed list:')\n",
    "for it in another_list[::-1]:\n",
    "    print(it)\n",
    "print('')\n",
    "\n",
    "print('Print first half:')\n",
    "half_index = int(len(another_list)/2)\n",
    "for it in another_list[0:half_index]:\n",
    "    print(it)\n",
    "print('')\n",
    "\n",
    "# Loop with a conditional in it\n",
    "for it in [True, False]:\n",
    "    if it == True:\n",
    "        print('Yay.')\n",
    "\n",
    "# Yes, you can have a loop inside a loop\n",
    "for a_val in [1, 2, 3]:\n",
    "    for b_val in ['a', 'b', 'c']:\n",
    "        print(a_val, b_val)\n",
    "\n",
    "\n",
    "### END SOLUTION"
   ]
  },
  {
   "cell_type": "markdown",
   "metadata": {
    "nbgrader": {
     "grade": false,
     "grade_id": "cell-cdec6e2bea17a7ba",
     "locked": true,
     "schema_version": 3,
     "solution": false
    }
   },
   "source": [
    "### Specific looping task\n",
    "\n",
    "`print`ing the output is great to learn about and explore loops, but typically we're looping to generate some output. \n",
    "\n",
    "Generate a list below that stores various integers and strings. \n",
    "\n",
    "Write a loop that will separate out the elements in your list by type, such that all the integers are stored in a list called `my_ints` and all of the strings are stored in a list called `my_strs`"
   ]
  },
  {
   "cell_type": "code",
   "execution_count": 2,
   "metadata": {
    "nbgrader": {
     "grade": false,
     "grade_id": "cell-77fd056f3c67c2a3",
     "locked": false,
     "schema_version": 3,
     "solution": true
    }
   },
   "outputs": [
    {
     "name": "stdout",
     "output_type": "stream",
     "text": [
      "[1, 15, 29, 30]\n",
      "['apple', 'banana', 'yay python!']\n"
     ]
    }
   ],
   "source": [
    "### BEGIN SOLUTION\n",
    "# the specific list you create is up to you\n",
    "my_list = [1, \"apple\", 15, \"banana\", 29, 30, \"yay python!\"]\n",
    "my_ints = []\n",
    "my_strs = []\n",
    "\n",
    "for val in my_list:\n",
    "    if type(val) == int:\n",
    "        my_ints.append(val)\n",
    "    elif type(val) == str:\n",
    "        my_strs.append(val)\n",
    "        \n",
    "print(my_ints)\n",
    "print(my_strs)\n",
    "### END SOLUTION"
   ]
  },
  {
   "cell_type": "code",
   "execution_count": 3,
   "metadata": {
    "nbgrader": {
     "grade": true,
     "grade_id": "cell-362fd3c5dd6ea1ca",
     "locked": true,
     "points": 0,
     "schema_version": 3,
     "solution": false
    }
   },
   "outputs": [],
   "source": [
    "assert type(my_ints) == list\n",
    "assert type(my_strs) == list\n",
    "\n",
    "# check to make sure all values in each list are of expected type\n",
    "assert all([type(x) == int for x in my_ints])\n",
    "assert all([type(x) == str for x in my_strs])"
   ]
  },
  {
   "cell_type": "markdown",
   "metadata": {
    "nbgrader": {
     "grade": false,
     "grade_id": "cell-cf7b42ba860cbf70",
     "locked": true,
     "schema_version": 1,
     "solution": false
    }
   },
   "source": [
    "## Part 3: Challenges\n",
    "\n",
    "Give tese a shot, but it's definitely ok if you don't figure these out all the way! Remember, if you don't figure out the answer, definitely check the answer key when posted!"
   ]
  },
  {
   "cell_type": "markdown",
   "metadata": {
    "nbgrader": {
     "grade": false,
     "grade_id": "cell-04fe5b8439ca9114",
     "locked": true,
     "schema_version": 3,
     "solution": false
    }
   },
   "source": [
    "### Debugging Challenge\n",
    "\n",
    "You're trying to write code that will count the number of vowels in your name, storing that value in `counter`. To get started, you store your name in the variable `my_name` and write the code you see below. However, the code below is not quite working...work to debug the code below to accomplish the task!\n",
    "\n",
    "Note: This question uses a `for` loop. Next week's coding lab will get you lots of loops practice!"
   ]
  },
  {
   "cell_type": "code",
   "execution_count": 2,
   "metadata": {
    "nbgrader": {
     "grade": false,
     "grade_id": "cell-1d48166464642c57",
     "locked": false,
     "schema_version": 3,
     "solution": true
    },
    "scrolled": true
   },
   "outputs": [
    {
     "ename": "NameError",
     "evalue": "name 'my_name' is not defined",
     "output_type": "error",
     "traceback": [
      "\u001b[0;31m---------------------------------------------------------------------------\u001b[0m",
      "\u001b[0;31mNameError\u001b[0m                                 Traceback (most recent call last)",
      "\u001b[0;32m<ipython-input-2-afbf1bbf1f0f>\u001b[0m in \u001b[0;36m<module>\u001b[0;34m\u001b[0m\n\u001b[1;32m      3\u001b[0m \u001b[0mcounter\u001b[0m \u001b[0;34m=\u001b[0m \u001b[0;36m0\u001b[0m\u001b[0;34m\u001b[0m\u001b[0;34m\u001b[0m\u001b[0m\n\u001b[1;32m      4\u001b[0m \u001b[0;34m\u001b[0m\u001b[0m\n\u001b[0;32m----> 5\u001b[0;31m \u001b[0;32mfor\u001b[0m \u001b[0mchar\u001b[0m \u001b[0;32min\u001b[0m \u001b[0mmy_name\u001b[0m\u001b[0;34m:\u001b[0m\u001b[0;34m\u001b[0m\u001b[0;34m\u001b[0m\u001b[0m\n\u001b[0m\u001b[1;32m      6\u001b[0m     \u001b[0;32mif\u001b[0m \u001b[0mchar\u001b[0m \u001b[0;34m==\u001b[0m \u001b[0mvowels\u001b[0m\u001b[0;34m:\u001b[0m\u001b[0;34m\u001b[0m\u001b[0;34m\u001b[0m\u001b[0m\n\u001b[1;32m      7\u001b[0m         \u001b[0mcounter\u001b[0m \u001b[0;34m=\u001b[0m  \u001b[0;36m1\u001b[0m\u001b[0;34m\u001b[0m\u001b[0;34m\u001b[0m\u001b[0m\n",
      "\u001b[0;31mNameError\u001b[0m: name 'my_name' is not defined"
     ]
    }
   ],
   "source": [
    "my_name == 'Shannon'\n",
    "vowels = ['A','E','I','O','U', 'a', 'e', 'i', 'o', 'u']\n",
    "counter = 0\n",
    "\n",
    "for char in my_name:\n",
    "    if char == vowels:\n",
    "        counter =  1\n",
    "\n",
    "### BEGIN SOLUTION\n",
    "# code will differ based on who is taking the exam\n",
    "my_name = 'Shannon'\n",
    "counter = 0\n",
    "\n",
    "for char in my_name:\n",
    "    if char in vowels:\n",
    "        counter += 1\n",
    "### END SOLUTION"
   ]
  },
  {
   "cell_type": "markdown",
   "metadata": {
    "nbgrader": {
     "grade": false,
     "grade_id": "cell-56be1cfa79acdd93",
     "locked": true,
     "schema_version": 3,
     "solution": false
    }
   },
   "source": [
    "### Nested Loop Challenge\n",
    "\n",
    "Using nested loops, you will print out a pattern that looks like this:\n",
    "\n",
    "1 <br>\n",
    "1 2 <br>\n",
    "1 2 3 <br>\n",
    "1 2 3 4 <br>\n",
    "1 2 3 4 5 <br>\n",
    "1 2 3 4 5 6 <br>\n",
    "1 2 3 4 5 6 7\n",
    "\n",
    "Hints:\n",
    "- You can do this with two while loops, one inside the other.\n",
    "- You will have two indices counters, one for each loop. \n",
    "- For the print statement, it will look something like `print(index_inner, end=\" \")`"
   ]
  },
  {
   "cell_type": "code",
   "execution_count": 6,
   "metadata": {
    "nbgrader": {
     "grade": false,
     "grade_id": "cell-3be5b519bda3c9fd",
     "locked": false,
     "schema_version": 3,
     "solution": true
    }
   },
   "outputs": [
    {
     "name": "stdout",
     "output_type": "stream",
     "text": [
      "1 \n",
      "1 2 \n",
      "1 2 3 \n",
      "1 2 3 4 \n",
      "1 2 3 4 5 \n",
      "1 2 3 4 5 6 \n",
      "1 2 3 4 5 6 7 \n"
     ]
    }
   ],
   "source": [
    "### BEGIN SOLUTION\n",
    "index_outer = 1\n",
    "while index_outer < 8:\n",
    "    \n",
    "    index_inner = 1\n",
    "    \n",
    "    while index_inner <= index_outer:\n",
    "        print(index_inner, end=\" \")\n",
    "        index_inner = index_inner + 1\n",
    "        \n",
    "    print(\"\")\n",
    "    index_outer = index_outer + 1\n",
    "### END SOLUTION"
   ]
  },
  {
   "cell_type": "markdown",
   "metadata": {
    "nbgrader": {
     "grade": false,
     "grade_id": "cell-7e248a0ca4750ec0",
     "locked": true,
     "schema_version": 3,
     "solution": false
    }
   },
   "source": [
    "If you get the above pattern working, try manipulating the code to print out different patterns, and with different symbols. "
   ]
  },
  {
   "cell_type": "code",
   "execution_count": null,
   "metadata": {
    "nbgrader": {
     "grade": true,
     "grade_id": "cell-d7ff87fc6930bed0",
     "locked": false,
     "points": 0,
     "schema_version": 3,
     "solution": true
    }
   },
   "outputs": [],
   "source": []
  },
  {
   "cell_type": "markdown",
   "metadata": {
    "nbgrader": {
     "grade": false,
     "grade_id": "cell-328179da0a2517e7",
     "locked": true,
     "schema_version": 1,
     "solution": false
    }
   },
   "source": [
    "## The End!\n",
    "\n",
    "This is the end of this Coding Lab!\n",
    "\n",
    "Be sure you've made a concerted effort to complete all the tasks specified in this lab. Then, go ahead and submit on datahub!"
   ]
  }
 ],
 "metadata": {
  "celltoolbar": "Create Assignment",
  "kernelspec": {
   "display_name": "Python 3",
   "language": "python",
   "name": "python3"
  },
  "language_info": {
   "codemirror_mode": {
    "name": "ipython",
    "version": 3
   },
   "file_extension": ".py",
   "mimetype": "text/x-python",
   "name": "python",
   "nbconvert_exporter": "python",
   "pygments_lexer": "ipython3",
   "version": "3.9.5"
  }
 },
 "nbformat": 4,
 "nbformat_minor": 2
}
