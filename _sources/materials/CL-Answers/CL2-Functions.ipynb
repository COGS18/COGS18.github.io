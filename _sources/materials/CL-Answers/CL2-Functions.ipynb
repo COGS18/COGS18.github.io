{
 "cells": [
  {
   "cell_type": "markdown",
   "metadata": {
    "nbgrader": {
     "grade": false,
     "grade_id": "cell-ca3241d68f4e5bda",
     "locked": true,
     "schema_version": 3,
     "solution": false
    }
   },
   "source": [
    "# Coding Lab 2: Functions, Conditionals & Collections\n",
    "\n",
    "Welcome to the second coding lab!\n",
    "\n",
    "CodingLab labs are meant to be interactive - so find another person to work together with on this notebook if you're able.\n",
    "\n",
    "CodingLabs are also meant to be exploratory. There are broad questions in the notebook that you should explore, and try to answer - but you are also very much encouraged to explore other related ideas as you go! \n",
    "\n",
    "If you have a question about how something works / what something does - try it out, and see what happens!"
   ]
  },
  {
   "cell_type": "markdown",
   "metadata": {
    "nbgrader": {
     "grade": false,
     "grade_id": "cell-bd860e66ca976258",
     "locked": true,
     "schema_version": 3,
     "solution": false,
     "task": false
    }
   },
   "source": [
    "## Part 0: Asserts\n",
    "\n",
    "You will notice, through the coding labs and assignments, code that looks something like `assert True`, in which the assert statement is used. The goal, in your coding labs and assignments is for `assert` statements to \"pass silently\"...meaning give no output.\n",
    "\n",
    "Using assert essentially means to `assert that the following code is True`.\n",
    "\n",
    "Or, slightly more formally, `assert that the following code evaluates as True`.\n",
    "\n",
    "If the asserted code does not evaluate as True, it raises an error - meaning it interrupts the code execution because something went wrong.\n",
    "\n",
    "This can be used as a way to test that code does what you expect it to do, and is therefore part of how we will test your code programmatically. \n",
    "\n",
    "Because the use of `assert` will be common in course materials, let's take a moment to explore how it works and what happens when we use it."
   ]
  },
  {
   "cell_type": "markdown",
   "metadata": {
    "nbgrader": {
     "grade": false,
     "grade_id": "cell-3a5da5dce6857496",
     "locked": true,
     "schema_version": 3,
     "solution": false,
     "task": false
    }
   },
   "source": [
    "In the cell below: declare a variable called `boolean` that  has type boolean, and passes the assert in the next cell:"
   ]
  },
  {
   "cell_type": "code",
   "execution_count": null,
   "metadata": {
    "nbgrader": {
     "grade": false,
     "grade_id": "cell-a7d30d556cd62d0e",
     "locked": false,
     "schema_version": 3,
     "solution": true,
     "task": false
    }
   },
   "outputs": [],
   "source": [
    "### BEGIN SOLUTION\n",
    "boolean = True\n",
    "### END SOLUTION"
   ]
  },
  {
   "cell_type": "code",
   "execution_count": null,
   "metadata": {
    "nbgrader": {
     "grade": true,
     "grade_id": "cell-435e2492c43561cb",
     "locked": true,
     "points": 0,
     "schema_version": 3,
     "solution": false,
     "task": false
    }
   },
   "outputs": [],
   "source": [
    "# Check that there is variable called `boolean` that is a boolean\n",
    "assert type(boolean) == bool"
   ]
  },
  {
   "cell_type": "code",
   "execution_count": null,
   "metadata": {
    "nbgrader": {
     "grade": true,
     "grade_id": "cell-001bf725619317b4",
     "locked": true,
     "points": 0,
     "schema_version": 3,
     "solution": false,
     "task": false
    }
   },
   "outputs": [],
   "source": [
    "# Check that the variable called `boolean` passes the assert\n",
    "assert boolean"
   ]
  },
  {
   "cell_type": "markdown",
   "metadata": {
    "nbgrader": {
     "grade": false,
     "grade_id": "cell-261bea5d84285f7b",
     "locked": true,
     "schema_version": 3,
     "solution": false,
     "task": false
    }
   },
   "source": [
    "###  Assert Explorations\n",
    "\n",
    "Now, explore using assert. \n",
    "\n",
    "What happens if you assert a True comparison, like `6 < 10`? a False comparison, `like 6 > 10`?\n",
    "\n",
    "What happens if you assert an integer? or a string? \n",
    "\n",
    "What happens if you assert None?\n",
    "\n",
    "Find at least one integer that raises an assertion error. "
   ]
  },
  {
   "cell_type": "code",
   "execution_count": null,
   "metadata": {
    "nbgrader": {
     "grade": false,
     "grade_id": "cell-eb2e895ebbad81e9",
     "locked": false,
     "schema_version": 3,
     "solution": true,
     "task": false
    }
   },
   "outputs": [],
   "source": [
    "### BEGIN SOLUTION\n",
    "# specific asserts will vary \n",
    "# Asserting True comparison will pass silently\n",
    "assert 6 < 10\n",
    "\n",
    "# Asserting False compariosn will raise assertion error\n",
    "assert 6 > 10 \n",
    "\n",
    "# Asserting an integer asserts as True\n",
    "assert 12\n",
    "\n",
    "# Asserting a string asserts as True\n",
    "assert 'hello'\n",
    "\n",
    "# Asserting None asserts as False\n",
    "assert None\n",
    "\n",
    "# The integer 0 asserts as False (it gets interpreted as False)\n",
    "assert 0\n",
    "\n",
    "### END SOLUTION"
   ]
  },
  {
   "cell_type": "markdown",
   "metadata": {
    "nbgrader": {
     "grade": false,
     "grade_id": "cell-9c4a6e76457e664e",
     "locked": true,
     "schema_version": 3,
     "solution": false
    }
   },
   "source": [
    "## Part 1: Functions\n",
    "\n",
    "Functions are a way to organize code into a procedure that we can repeat and use whenever we want. "
   ]
  },
  {
   "cell_type": "markdown",
   "metadata": {
    "nbgrader": {
     "grade": false,
     "grade_id": "cell-b9e386bfc3490e7c",
     "locked": true,
     "schema_version": 3,
     "solution": false
    }
   },
   "source": [
    "### Function Questions"
   ]
  },
  {
   "cell_type": "markdown",
   "metadata": {
    "nbgrader": {
     "grade": false,
     "grade_id": "cell-b2831adfe726b342",
     "locked": true,
     "schema_version": 3,
     "solution": false
    }
   },
   "source": [
    "#### Write a function \n",
    "\n",
    "Write a function `mult_two` that takes one input, multiplies it by two and returns the result"
   ]
  },
  {
   "cell_type": "code",
   "execution_count": null,
   "metadata": {
    "nbgrader": {
     "grade": false,
     "grade_id": "cell-8d0f3557ad318843",
     "locked": false,
     "schema_version": 3,
     "solution": true
    }
   },
   "outputs": [],
   "source": [
    "### BEGIN SOLUTION\n",
    "def mult_two(input_number):\n",
    "\n",
    "    answer = input_number * 2\n",
    "    return answer\n",
    "### END SOLUTION"
   ]
  },
  {
   "cell_type": "code",
   "execution_count": null,
   "metadata": {},
   "outputs": [],
   "source": [
    "# Check that you can use the function\n",
    "mult_two(2)"
   ]
  },
  {
   "cell_type": "code",
   "execution_count": null,
   "metadata": {
    "nbgrader": {
     "grade": true,
     "grade_id": "cell-0c88c4b83c2c9f6b",
     "locked": true,
     "points": 0,
     "schema_version": 3,
     "solution": false
    }
   },
   "outputs": [],
   "source": [
    "# Check this function returns the correct outputs\n",
    "assert mult_two(2) == 4\n",
    "assert mult_two(3) == 6"
   ]
  },
  {
   "cell_type": "markdown",
   "metadata": {
    "nbgrader": {
     "grade": false,
     "grade_id": "cell-a8c64fa304d0f0b1",
     "locked": true,
     "schema_version": 3,
     "solution": false
    }
   },
   "source": [
    "#### Write a function that takes two inputs, adds them together, and returns the result\n",
    "\n",
    "Call this function `add_two`."
   ]
  },
  {
   "cell_type": "code",
   "execution_count": null,
   "metadata": {
    "nbgrader": {
     "grade": false,
     "grade_id": "cell-bc8d2072710911df",
     "locked": false,
     "schema_version": 3,
     "solution": true
    }
   },
   "outputs": [],
   "source": [
    "def add_two(_FILL_IN_INPUTS_):\n",
    "    \n",
    "### BEGIN SOLUTION\n",
    "def add_two(num1, num2):\n",
    "\n",
    "    answer = num1 + num2\n",
    "    return answer\n",
    "### END SOLUTION"
   ]
  },
  {
   "cell_type": "code",
   "execution_count": null,
   "metadata": {},
   "outputs": [],
   "source": [
    "# Check that you can use the function\n",
    "add_two(2, 2)"
   ]
  },
  {
   "cell_type": "code",
   "execution_count": null,
   "metadata": {
    "nbgrader": {
     "grade": true,
     "grade_id": "cell-20f5706f33ded922",
     "locked": true,
     "points": 0,
     "schema_version": 3,
     "solution": false
    }
   },
   "outputs": [],
   "source": [
    "# Check this function returns the correct number\n",
    "assert add_two(2, 2) == 4\n",
    "assert add_two(3, 2) == 5"
   ]
  },
  {
   "cell_type": "markdown",
   "metadata": {
    "nbgrader": {
     "grade": false,
     "grade_id": "cell-f9deb6d22595e66d",
     "locked": true,
     "schema_version": 3,
     "solution": false
    }
   },
   "source": [
    "#### Write a function with a conditional inside it\n",
    "\n",
    "You can decide what this function does. \n",
    "\n",
    "It could, for example, take in a boolean and print out a status if the given boolean is True. "
   ]
  },
  {
   "cell_type": "code",
   "execution_count": null,
   "metadata": {
    "nbgrader": {
     "grade": false,
     "grade_id": "cell-15f562b1e86720bc",
     "locked": false,
     "schema_version": 3,
     "solution": true
    }
   },
   "outputs": [],
   "source": [
    "### BEGIN SOLUTION\n",
    "def check_bool(input_bool):\n",
    "    \n",
    "    if input_bool == True:\n",
    "        out = 'Status is True'\n",
    "    else:\n",
    "        out = 'Status is not True'\n",
    "    \n",
    "    return out\n",
    "### END SOLUTION"
   ]
  },
  {
   "cell_type": "code",
   "execution_count": null,
   "metadata": {},
   "outputs": [],
   "source": [
    "# you can test out your function down here..."
   ]
  },
  {
   "cell_type": "markdown",
   "metadata": {
    "nbgrader": {
     "grade": false,
     "grade_id": "cell-f3ec739e1f7280e1",
     "locked": true,
     "schema_version": 3,
     "solution": false
    }
   },
   "source": [
    "## Part 2: Conditionals\n",
    "\n",
    "Conditionals a form of control flow for executing certain code if a specific condition is met. "
   ]
  },
  {
   "cell_type": "markdown",
   "metadata": {
    "nbgrader": {
     "grade": false,
     "grade_id": "cell-10ba65d028d661db",
     "locked": true,
     "schema_version": 3,
     "solution": false
    }
   },
   "source": [
    "### Conditional Questions\n",
    "\n",
    "In this part, we will re-visit some questions about conditionals, and start combining them together with collections. \n",
    "\n",
    "Make sure you can use if/elif/else statements to control which code blocks are run."
   ]
  },
  {
   "cell_type": "markdown",
   "metadata": {
    "nbgrader": {
     "grade": false,
     "grade_id": "cell-ea19003c9e552e2c",
     "locked": true,
     "schema_version": 3,
     "solution": false
    }
   },
   "source": [
    "#### Controlling Output With Conditionals I\n",
    "\n",
    "Using the code below, keep updating the variable value to make sure you can make the conditional return each of the possibilities. "
   ]
  },
  {
   "cell_type": "code",
   "execution_count": null,
   "metadata": {},
   "outputs": [],
   "source": [
    "# ToDo: Update value to control what gets executed\n",
    "value = 10\n",
    "\n",
    "# This code provided\n",
    "if type(value) == int:\n",
    "    if value < 10:\n",
    "        result = 'small value'\n",
    "    if value >= 10:\n",
    "        result = 'big value'\n",
    "else:\n",
    "    result = 'false value'"
   ]
  },
  {
   "cell_type": "code",
   "execution_count": null,
   "metadata": {},
   "outputs": [],
   "source": [
    "print(result)"
   ]
  },
  {
   "cell_type": "markdown",
   "metadata": {
    "nbgrader": {
     "grade": false,
     "grade_id": "cell-d81071bf177a257b",
     "locked": true,
     "schema_version": 3,
     "solution": false
    }
   },
   "source": [
    "#### Controlling Output With Conditionals II\n",
    "\n",
    "In the cell below, first write something into each `result` assignment string below. For example, it could be something like: \"B1 is False & B2 is True\"). \n",
    "\n",
    "Then make sure you can change values of `b1` & `b2` to make the program execute each option. \n",
    "\n",
    "Note: You can edit the code provided directly without adding any additional code. The `raise NotImplementedError` is there to visually let you know that we want you to do something in the cell."
   ]
  },
  {
   "cell_type": "code",
   "execution_count": null,
   "metadata": {
    "nbgrader": {
     "grade": false,
     "grade_id": "cell-7519e145b765f199",
     "locked": false,
     "schema_version": 3,
     "solution": true,
     "task": false
    }
   },
   "outputs": [],
   "source": [
    "# ToDo: Update strings stored in result to control what gets executed\n",
    "b1 = False\n",
    "b2 = False\n",
    "\n",
    "# Next, try this out\n",
    "if b1 and not b2:\n",
    "    result = ''\n",
    "elif not b1 and b2:\n",
    "    result = ''\n",
    "elif b1 and b2:\n",
    "    result = ''\n",
    "else:\n",
    "    result = ''\n",
    "    \n",
    "### BEGIN SOLUTION\n",
    "# specific strings could vary\n",
    "if b1 and not b2:\n",
    "    result = 'b1 true; b2 false'\n",
    "elif not b1 and b2:\n",
    "    result = 'b1 false; b2 true'\n",
    "elif b1 and b2:\n",
    "    result = 'both true'\n",
    "else:\n",
    "    result = 'both false'\n",
    "\n",
    "### END SOLUTION"
   ]
  },
  {
   "cell_type": "code",
   "execution_count": null,
   "metadata": {},
   "outputs": [],
   "source": [
    "print(result)"
   ]
  },
  {
   "cell_type": "markdown",
   "metadata": {
    "nbgrader": {
     "grade": false,
     "grade_id": "cell-a73ff0b314b6695f",
     "locked": true,
     "schema_version": 3,
     "solution": false
    }
   },
   "source": [
    "### Conditional Challenges\n",
    "\n",
    "The following are more challenging questions relating to conditional statements. If they seem too tricky for now, just skip ahead to the next section."
   ]
  },
  {
   "cell_type": "markdown",
   "metadata": {
    "nbgrader": {
     "grade": false,
     "grade_id": "cell-748c8c618a0e5f09",
     "locked": true,
     "schema_version": 3,
     "solution": false
    }
   },
   "source": [
    "#### Conditional Challenge #1\n",
    "\n",
    "Write a conditional that prints \"Found it\" if a given `val_2` is a multiple of 10, otherwise prints \"Nope.\""
   ]
  },
  {
   "cell_type": "code",
   "execution_count": null,
   "metadata": {
    "nbgrader": {
     "grade": true,
     "grade_id": "cell-06a11971a3797aee",
     "locked": false,
     "points": 0,
     "schema_version": 3,
     "solution": true
    }
   },
   "outputs": [],
   "source": [
    "### BEGIN SOLUTION\n",
    "# Set a test value for `val_2`\n",
    "val_2 = 100\n",
    "\n",
    "if val_2 % 10 == 0:\n",
    "    print('Found it')\n",
    "else:\n",
    "    print('Nope')\n",
    "### END SOLUTION"
   ]
  },
  {
   "cell_type": "markdown",
   "metadata": {
    "nbgrader": {
     "grade": false,
     "grade_id": "cell-88e23d455b53e62f",
     "locked": true,
     "schema_version": 3,
     "solution": false
    }
   },
   "source": [
    "#### Conditional Challenge #2\n",
    "\n",
    "Input: assumes a variable `val_1`, that can be either a string or an integer\n",
    "\n",
    "Output: based on the conditions, this code block will assign a variable called `output` to be a boolean\n",
    "\n",
    "Use conditions to check whether `val_1` is a string or an integer object:\n",
    "- If it is a string, check whether it's length is greater then 8\n",
    "    - If so, set the value `output` to True\n",
    "- If it is an integer, compare whether it is less than 100\n",
    "    - If so, set the value `output` to True\n",
    "- Else, set `output` to False"
   ]
  },
  {
   "cell_type": "code",
   "execution_count": null,
   "metadata": {
    "nbgrader": {
     "grade": false,
     "grade_id": "cell-38dd8c5cdb1eceeb",
     "locked": false,
     "schema_version": 3,
     "solution": true
    }
   },
   "outputs": [],
   "source": [
    "### BEGIN SOLUTION\n",
    "# Set a test value for `val_1`\n",
    "val_1 = 'string'\n",
    "\n",
    "if type(val_1) == str and len(val_1) > 8:\n",
    "    output = True\n",
    "elif type(val_1) == int and val_1 < 100:\n",
    "    output = True\n",
    "else:\n",
    "    output = False\n",
    "\n",
    "# Check the output\n",
    "print(output)\n",
    "### END SOLUTION"
   ]
  },
  {
   "cell_type": "code",
   "execution_count": null,
   "metadata": {
    "nbgrader": {
     "grade": true,
     "grade_id": "cell-63589ce9ea4d9c55",
     "locked": true,
     "points": 0,
     "schema_version": 3,
     "solution": false
    }
   },
   "outputs": [],
   "source": [
    "assert type(output) == bool"
   ]
  },
  {
   "cell_type": "markdown",
   "metadata": {
    "nbgrader": {
     "grade": false,
     "grade_id": "cell-c94393359fdc24ff",
     "locked": true,
     "schema_version": 3,
     "solution": false
    }
   },
   "source": [
    "### Operator Explorations\n",
    "\n",
    "For each of the following questions, start by writing out a guess of what you think it might do. \n",
    "\n",
    "Then, test out each one by writing out some code. \n",
    "\n",
    "Finally, once you have answered the question, using some code, add a comment in the markdown here with the answer. \n",
    "\n",
    "Questions:\n",
    "- Can you include multiple conditions in an if statement?\n",
    "    - If think so, write an if statement that tests multiple conditions.\n",
    "- What happens if you put an if statement inside an if statement? When would such a statement run?\n",
    "    - To explore this, write an if statement that has an embedded if statement in it. \n"
   ]
  },
  {
   "cell_type": "code",
   "execution_count": null,
   "metadata": {
    "nbgrader": {
     "grade": true,
     "grade_id": "cell-cacaa89e60a670db",
     "locked": false,
     "points": 0,
     "schema_version": 3,
     "solution": true
    }
   },
   "outputs": [],
   "source": [
    "### BEGIN SOLUTION\n",
    "v1 = True\n",
    "v2 = False\n",
    "\n",
    "# Option 1\n",
    "# Yes, you can include multiple conditions in an if statement\n",
    "if v1 == True and v2 == False:\n",
    "    print('YES!')\n",
    "\n",
    "# Option 2\n",
    "# Yes, you can have an if statement within an if statement\n",
    "#   The embedded if will end up running if both conditions of both if's are True   \n",
    "if v1 == True:\n",
    "    if v2 == False:\n",
    "        print('Also YES!')\n",
    "### END SOLUTION"
   ]
  },
  {
   "cell_type": "markdown",
   "metadata": {
    "jp-MarkdownHeadingCollapsed": true,
    "nbgrader": {
     "grade": false,
     "grade_id": "cell-2af48aa756cf983d",
     "locked": true,
     "schema_version": 3,
     "solution": false,
     "task": false
    }
   },
   "source": [
    "## Part 3: Collections\n",
    "\n",
    "Collections are Python variable types than can store a 'collection' of items.\n",
    "\n",
    "Here we'll practice defining collections and indexing."
   ]
  },
  {
   "cell_type": "markdown",
   "metadata": {
    "nbgrader": {
     "grade": false,
     "grade_id": "cell-c641e1a2a9936dce",
     "locked": true,
     "schema_version": 3,
     "solution": false,
     "task": false
    }
   },
   "source": [
    "### Collection Questions\n",
    "\n",
    "Create a list, a tuple, and a dictionary. Fill them with with any values you want. \n",
    "\n",
    "Call them `my_list`, `my_tuple`, and `my_dictionary`."
   ]
  },
  {
   "cell_type": "code",
   "execution_count": null,
   "metadata": {
    "nbgrader": {
     "grade": false,
     "grade_id": "cell-8130b2fcf9649692",
     "locked": false,
     "schema_version": 3,
     "solution": true,
     "task": false
    }
   },
   "outputs": [],
   "source": [
    "### BEGIN SOLUTION\n",
    "# specific values will differ\n",
    "my_list = [1, 2, 3]\n",
    "my_tuple = ('a', 'b', 'c')\n",
    "my_dictionary = {'First' : 'Shannon',\n",
    "                 'Last' : 'Ellis'}\n",
    "### END SOLUTION"
   ]
  },
  {
   "cell_type": "markdown",
   "metadata": {
    "nbgrader": {
     "grade": false,
     "grade_id": "cell-bea831d44efbc19b",
     "locked": true,
     "schema_version": 3,
     "solution": false,
     "task": false
    }
   },
   "source": [
    "Use the following cells to check the types of the variables you write are as expected"
   ]
  },
  {
   "cell_type": "code",
   "execution_count": null,
   "metadata": {},
   "outputs": [],
   "source": [
    "type(my_list)"
   ]
  },
  {
   "cell_type": "code",
   "execution_count": null,
   "metadata": {},
   "outputs": [],
   "source": [
    "type(my_tuple)"
   ]
  },
  {
   "cell_type": "code",
   "execution_count": null,
   "metadata": {},
   "outputs": [],
   "source": [
    "type(my_dictionary)"
   ]
  },
  {
   "cell_type": "markdown",
   "metadata": {
    "nbgrader": {
     "grade": false,
     "grade_id": "cell-e9e1ecd258c14eff",
     "locked": true,
     "schema_version": 3,
     "solution": false,
     "task": false
    }
   },
   "source": [
    "On an assignment, you'd likely see the same concept tested with the following `assert` statements"
   ]
  },
  {
   "cell_type": "code",
   "execution_count": null,
   "metadata": {
    "nbgrader": {
     "grade": true,
     "grade_id": "cell-4fe4814ac98d0aee",
     "locked": true,
     "points": 0,
     "schema_version": 3,
     "solution": false,
     "task": false
    }
   },
   "outputs": [],
   "source": [
    "assert type(my_list) == list\n",
    "assert type(my_tuple) == tuple\n",
    "assert type(my_dictionary) == dict"
   ]
  },
  {
   "cell_type": "markdown",
   "metadata": {
    "nbgrader": {
     "grade": false,
     "grade_id": "cell-561d263c5764f1b9",
     "locked": true,
     "schema_version": 3,
     "solution": false,
     "task": false
    }
   },
   "source": [
    "#### Declaring Collections\n",
    "\n",
    "Note that there can be more than one way to declare collections. \n",
    "\n",
    "As well as declaring them with '[]' and '()', we can use the list & tuple constructors, as shown below. "
   ]
  },
  {
   "cell_type": "code",
   "execution_count": null,
   "metadata": {
    "nbgrader": {
     "grade": false,
     "grade_id": "cell-32e9f52c9134f661",
     "locked": true,
     "schema_version": 3,
     "solution": false,
     "task": false
    }
   },
   "outputs": [],
   "source": [
    "# Run me! - This creates another list & tuple, using the list & tuple constructors\n",
    "some_list = list([1, 2, 3, 4, 5])\n",
    "some_tuple = tuple([\"peanut\", \"butter\", \"and\", \"jelly\"])\n",
    "some_dict = dict([('First', 'Shannon'), ('Last', 'Ellis')])\n",
    "\n",
    "print(\"'some_list' contains: \\t\", some_list)\n",
    "print(\"'some_tuple' contains: \\t\", some_tuple)\n",
    "print(\"'some_dict' contains: \\t\", some_dict)"
   ]
  },
  {
   "cell_type": "markdown",
   "metadata": {
    "nbgrader": {
     "grade": false,
     "grade_id": "cell-6c0d0562ddb973d0",
     "locked": true,
     "schema_version": 3,
     "solution": false,
     "task": false
    }
   },
   "source": [
    "Compare the types of these variables to your equivalent variables to confirm.\n",
    "\n",
    "In the cell below, start with the code provided here:\n",
    "\n",
    "```python\n",
    "# Fill in `_WRITE_IN_TYPE_HERE` with the type you expect each variable to be\n",
    "assert type(some_list) == _WRITE_IN_TYPE_HERE_\n",
    "assert type(some_tuple) == _WRITE_IN_TYPE_HERE_\n",
    "assert type(some_dict) == _WRITE_IN_TYPE_HERE_\n",
    "```\n",
    "\n",
    "...but edit the code  write in the type of the objects that you expect them to be, and make sure the asserts pass. "
   ]
  },
  {
   "cell_type": "code",
   "execution_count": null,
   "metadata": {
    "nbgrader": {
     "grade": false,
     "grade_id": "cell-7bb60cbc7e26dfac",
     "locked": false,
     "schema_version": 3,
     "solution": true,
     "task": false
    }
   },
   "outputs": [],
   "source": [
    "### BEGIN SOLUTION\n",
    "assert type(some_list) == list\n",
    "assert type(some_tuple) == tuple\n",
    "assert type(some_dict) == dict\n",
    "### END SOLUTION"
   ]
  },
  {
   "cell_type": "markdown",
   "metadata": {},
   "source": [
    "### Indexing\n",
    "\n",
    "Given the following list (`my_lst`, defined below), do the following operations:\n",
    "- Get the length of the list (assign this to a variable `lst_len`)\n",
    "- Get the 1st element of the list (call the selection `ind1`)\n",
    "- Get the last element of the list (call the selection `ind2`)\n",
    "- Get the second to the fourth element of the list (call the selection `ind3`)\n",
    "- Get from the fifth element, to the end of the list (call the selection `ind4`)\n",
    "- Get every second element of the list, starting at the first element (call the selection `ind5`)\n",
    "- Get every second element of the list, starting at the second element (call the selection `ind6`)\n",
    "\n",
    "A reminder: this is a coding lab, so the goal is to explore with guidance. Being \"right\" matters less than understanding. That said, when we say \"second to fourth element\" we're referring to the position in the list, not the index, so a list of ['a', 'b', 'c', 'd'], the \"second to fourth element would be ['b', 'c', 'd']."
   ]
  },
  {
   "cell_type": "code",
   "execution_count": null,
   "metadata": {
    "nbgrader": {
     "grade": false,
     "grade_id": "cell-7069f412b0b0730f",
     "locked": true,
     "schema_version": 3,
     "solution": false,
     "task": false
    }
   },
   "outputs": [],
   "source": [
    "my_lst = ['a', True, 12, 'tomato', False, None, 23, 'python', [], 5.5]"
   ]
  },
  {
   "cell_type": "code",
   "execution_count": null,
   "metadata": {
    "nbgrader": {
     "grade": false,
     "grade_id": "cell-ff1307b6db936f9d",
     "locked": false,
     "schema_version": 3,
     "solution": true,
     "task": false
    }
   },
   "outputs": [],
   "source": [
    "### BEGIN SOLUTION\n",
    "lst_len = len(my_lst)\n",
    "ind1 = my_lst[0]\n",
    "ind2 = my_lst[-1]\n",
    "ind3 = my_lst[1:4]\n",
    "ind4 = my_lst[4:]\n",
    "ind5 = my_lst[0::2]\n",
    "ind6 = my_lst[1::2]\n",
    "### END SOLUTION"
   ]
  },
  {
   "cell_type": "markdown",
   "metadata": {
    "nbgrader": {
     "grade": false,
     "grade_id": "cell-f7ccbf88f9481134",
     "locked": true,
     "schema_version": 3,
     "solution": false
    }
   },
   "source": [
    "## The End!\n",
    "\n",
    "This is the end of this Coding Lab!\n",
    "\n",
    "Be sure you've made a concerted effort to complete all the tasks specified in this lab. Then, go ahead and submit on datahub!"
   ]
  }
 ],
 "metadata": {
  "celltoolbar": "Create Assignment",
  "kernelspec": {
   "display_name": "Python 3 (ipykernel)",
   "language": "python",
   "name": "python3"
  },
  "language_info": {
   "codemirror_mode": {
    "name": "ipython",
    "version": 3
   },
   "file_extension": ".py",
   "mimetype": "text/x-python",
   "name": "python",
   "nbconvert_exporter": "python",
   "pygments_lexer": "ipython3",
   "version": "3.9.5"
  }
 },
 "nbformat": 4,
 "nbformat_minor": 4
}
