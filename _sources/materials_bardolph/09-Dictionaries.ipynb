{
 "cells": [
  {
   "cell_type": "markdown",
   "metadata": {
    "slideshow": {
     "slide_type": "slide"
    }
   },
   "source": [
    "**Course Announcements**\n",
    "\n",
    "**Due Dates**\n",
    "- A2 due Monday (4/19), may be submitted by Thursday (4/22) without penalty - no submissions after Thursday  \n",
    "- CL4 due next Wednesday\n",
    "- E1 is next Friday \n",
    "\n",
    "**Notes**\n",
    "- CL2 Scores have been posted\n",
    "- CL3 Answer key on website (All CL answer keys can be found on [the course website](https://cogs18.github.io/intro.html))"
   ]
  },
  {
   "cell_type": "markdown",
   "metadata": {
    "slideshow": {
     "slide_type": "fragment"
    }
   },
   "source": [
    "**Common Question**\n",
    "\n",
    "Q: When you say \"first element\" or \"first item\" in the list...what do you mean?  \n",
    "A: I mean the first thing in the list, which is in the zeroth index. What I mean will be made *very* clear on the wording on any exams."
   ]
  },
  {
   "cell_type": "code",
   "execution_count": null,
   "metadata": {
    "slideshow": {
     "slide_type": "-"
    }
   },
   "outputs": [],
   "source": [
    "# 'first item' is the first item/element here\n",
    "# 'second element' is the 2nd item/element here\n",
    "my_list['first item', 'second element']"
   ]
  },
  {
   "cell_type": "markdown",
   "metadata": {
    "slideshow": {
     "slide_type": "notes"
    }
   },
   "source": [
    "Q: How do we know when to use a `for` loop and when to use a `while` loop?  \n",
    "A: A `for` loop runs for a set number of times (iterations). A `while` loop would be used if you aren't sure how long it will take for your condition to be met or you want to run while/until your condition becomes true.\n",
    "\n",
    "Q: Are `for` loops and `while` loops the only types of loops we will cover?  \n",
    "A: Yes.  \n",
    "\n",
    "Q: Help! I'm confused about stepping through the loop!  \n",
    "A: You're not alone - this is the most difficult concept we've discussed so far. We'll do more examples in class. And, CL3 should help! If that doesn't, two suggestions: 1) ask to step through a loop together in anyone's office hours and 2) \"talk\" to yourself (like, out loud) and explain what happens each time through the loop\n",
    "\n",
    "Q: What's the difference between `range` and indexing? Are they the same?  \n",
    "A: They are different. `range` is used to create a series of values that can be used in a loop (an index variable). Indexing usually refers to using brackets to access elements of a collection (like a list, tuple, or string).\n",
    "\n",
    "Q: What values can go in `range`? Can we use floats?  \n",
    "A: Integers only! Floats will give you a TypeError (i.e. `range(0.3, 5.6)`).\n"
   ]
  },
  {
   "cell_type": "markdown",
   "metadata": {
    "slideshow": {
     "slide_type": "slide"
    }
   },
   "source": [
    "# Encodings & Dictionaries\n",
    "\n",
    "- symbols & representations\n",
    "- Encodings\n",
    "- Dictionaries\n",
    "- `ord` & `chr`"
   ]
  },
  {
   "cell_type": "markdown",
   "metadata": {
    "slideshow": {
     "slide_type": "fragment"
    }
   },
   "source": [
    "What is a human representaion? human encoding? \n",
    "\n",
    "How do computers encode information?"
   ]
  },
  {
   "cell_type": "markdown",
   "metadata": {
    "slideshow": {
     "slide_type": "slide"
    }
   },
   "source": [
    "## Symbols"
   ]
  },
  {
   "cell_type": "markdown",
   "metadata": {
    "slideshow": {
     "slide_type": "fragment"
    }
   },
   "source": [
    "<div class=\"alert alert-success\">\n",
    "Symbols are characters (or 'signs') of arbitrary shape, that can refer to (or represent) something. \n",
    "</div>"
   ]
  },
  {
   "cell_type": "markdown",
   "metadata": {
    "slideshow": {
     "slide_type": "slide"
    }
   },
   "source": [
    "##  Representation"
   ]
  },
  {
   "cell_type": "markdown",
   "metadata": {
    "slideshow": {
     "slide_type": "fragment"
    }
   },
   "source": [
    "<div class=\"alert alert-success\">\n",
    "To represent means to stand in for something.\n",
    "</div>"
   ]
  },
  {
   "cell_type": "markdown",
   "metadata": {
    "slideshow": {
     "slide_type": "fragment"
    }
   },
   "source": [
    "- **iconic representation** : the object looks like the thing it represents (i.e. a picture)\n",
    "- **symbolic representation** : the symbol does *not* look like the thing it represents (i.e. letters, numbers) \n"
   ]
  },
  {
   "cell_type": "markdown",
   "metadata": {
    "slideshow": {
     "slide_type": "slide"
    }
   },
   "source": [
    "### Symbol Examples : concepts\n",
    "\n",
    "- The symbol `2` represents the concept of `two-ness`. \n",
    "    - This is arbitrary: there is nothing 'two-like' about `2`\n",
    "    - We need not use this symbol. The symbol `II` also represent `two-ness`.\n",
    "    - `2` and `II` are two different representations for the concept of two.\n",
    "- The symbol `b`, in english represents the sound `buh` (sort of). \n",
    "    - There is nothing 'buh' like about the symbol `b`"
   ]
  },
  {
   "cell_type": "markdown",
   "metadata": {
    "slideshow": {
     "slide_type": "slide"
    }
   },
   "source": [
    "### Symbol Examples : rules\n",
    "\n",
    "Given the symbol `2`, or `b` we have systematic rules of things we can do with them. \n",
    "- We can take `2` and add `1` and get a new symbol which represents the concept of `the value one bigger than two`\n",
    "- We can concatenate some, but not all, other letters (symbols) to `b` to start making rules\n",
    "- These rules are agnostic to what `2` or `b` represent, they are simply manipulations we can do with these symbols"
   ]
  },
  {
   "cell_type": "markdown",
   "metadata": {
    "slideshow": {
     "slide_type": "slide"
    }
   },
   "source": [
    "## Digital Computers\n",
    "\n",
    "Computers don't care about what the symbols look like. They don't care what symbols you use.\n",
    "\n",
    "But, once a rule is established for a certain symbol, the computer will always follow that rule. "
   ]
  },
  {
   "cell_type": "markdown",
   "metadata": {
    "slideshow": {
     "slide_type": "fragment"
    }
   },
   "source": [
    "<div class=\"alert alert-success\">\n",
    "Computation is symbol manipulation - using formal rules to manipulate symbols. \n",
    "</div>"
   ]
  },
  {
   "cell_type": "markdown",
   "metadata": {
    "slideshow": {
     "slide_type": "fragment"
    }
   },
   "source": [
    "Whenever we have symbols, and rules to manipulate them, we can do computation. \n",
    "\n",
    "When we use these symbols that represent meaningful things, we can use computers to make meaningful inferences.\n",
    "\n",
    "Everything you think of as a computer (laptop, cell phone, etc.) works as a digital computer."
   ]
  },
  {
   "cell_type": "markdown",
   "metadata": {
    "slideshow": {
     "slide_type": "slide"
    }
   },
   "source": [
    "##  Encoding & Decoding"
   ]
  },
  {
   "cell_type": "markdown",
   "metadata": {
    "slideshow": {
     "slide_type": "fragment"
    }
   },
   "source": [
    "<div class=\"alert alert-success\">\n",
    "Encoding can be thought of as the process of 'changing representation', and decoding as the process of changing it back. \n",
    "</div>"
   ]
  },
  {
   "cell_type": "markdown",
   "metadata": {
    "slideshow": {
     "slide_type": "fragment"
    }
   },
   "source": [
    "Changing back and forth between using the symbol '2' and 'II' to represent the concept of two is an example of \"changing representation.\""
   ]
  },
  {
   "cell_type": "markdown",
   "metadata": {
    "slideshow": {
     "slide_type": "notes"
    }
   },
   "source": [
    "## Aside: Binary\n",
    "\n",
    "Fundamentally, digital computers can represent two states. Because of this, we say computers are / use binary. \n",
    "\n",
    "From binary, we can build up to store other things, that reduce down to binary representations.\n",
    "\n",
    "We can then encode any value we would like to represent on our computer.  "
   ]
  },
  {
   "cell_type": "markdown",
   "metadata": {
    "slideshow": {
     "slide_type": "notes"
    }
   },
   "source": [
    "### Binary in Code"
   ]
  },
  {
   "cell_type": "code",
   "execution_count": null,
   "metadata": {
    "slideshow": {
     "slide_type": "notes"
    }
   },
   "outputs": [],
   "source": [
    "## The `bin` operator returns the binary representation of an integer\n",
    "# encoding an integer\n",
    "print(bin(1))"
   ]
  },
  {
   "cell_type": "code",
   "execution_count": null,
   "metadata": {
    "slideshow": {
     "slide_type": "notes"
    }
   },
   "outputs": [],
   "source": [
    "print(bin(78))"
   ]
  },
  {
   "cell_type": "code",
   "execution_count": null,
   "metadata": {
    "slideshow": {
     "slide_type": "notes"
    }
   },
   "outputs": [],
   "source": [
    "#possible to encode Booleans in binary\n",
    "#encoding a boolean\n",
    "bin(False)"
   ]
  },
  {
   "cell_type": "code",
   "execution_count": null,
   "metadata": {
    "slideshow": {
     "slide_type": "notes"
    }
   },
   "outputs": [],
   "source": [
    "print(bool(0b0))"
   ]
  },
  {
   "cell_type": "code",
   "execution_count": null,
   "metadata": {
    "slideshow": {
     "slide_type": "notes"
    }
   },
   "outputs": [],
   "source": [
    "# We can also convert binary back to integers with \n",
    "# decoding from binary\n",
    "int(0b1011)"
   ]
  },
  {
   "cell_type": "markdown",
   "metadata": {
    "slideshow": {
     "slide_type": "slide"
    }
   },
   "source": [
    "## Character Encodings"
   ]
  },
  {
   "cell_type": "markdown",
   "metadata": {
    "slideshow": {
     "slide_type": "fragment"
    }
   },
   "source": [
    "Character encodings are a set of rules of how to represent a broad range of characters (symbols) in computers. \n",
    "\n",
    "We already have a way to represent numbers in binary.  \n",
    "\n",
    "Using numbers, we can build a general procedure to encode characters as numbers.\n",
    "\n",
    "We then have a way to represent characters, that we can reduce all the way to binary, that we can use that on computers."
   ]
  },
  {
   "cell_type": "markdown",
   "metadata": {
    "slideshow": {
     "slide_type": "slide"
    }
   },
   "source": [
    "## Example: Character Encoding"
   ]
  },
  {
   "cell_type": "markdown",
   "metadata": {
    "slideshow": {
     "slide_type": "fragment"
    }
   },
   "source": [
    "As a simple example, let's assign a number to a series of characters we want to be able to represent. \n",
    "\n",
    "Every time we see that number, we can evaluate it to replace it with the character it represents. "
   ]
  },
  {
   "cell_type": "markdown",
   "metadata": {
    "slideshow": {
     "slide_type": "slide"
    }
   },
   "source": [
    "### Character Encoding in Code"
   ]
  },
  {
   "cell_type": "code",
   "execution_count": null,
   "metadata": {
    "slideshow": {
     "slide_type": "fragment"
    }
   },
   "outputs": [],
   "source": [
    "# Set the value we want to encode\n",
    "character_encoding = 0\n",
    "\n",
    "# Use conditional to interpret the character as a particular symbol\n",
    "if character_encoding == 0:\n",
    "    print('ñ')\n",
    "elif character_encoding == 1:\n",
    "    print('é')\n",
    "elif character_encoding == 2:\n",
    "    print('¿')"
   ]
  },
  {
   "cell_type": "markdown",
   "metadata": {
    "slideshow": {
     "slide_type": "slide"
    }
   },
   "source": [
    "## Dictionaries\n"
   ]
  },
  {
   "cell_type": "markdown",
   "metadata": {
    "slideshow": {
     "slide_type": "fragment"
    }
   },
   "source": [
    "<div class=\"alert alert-success\">\n",
    "A dictionary is mutable collection of items, that can be of mixed-type, that are stored as key-value pairs.\n",
    "</div>"
   ]
  },
  {
   "cell_type": "markdown",
   "metadata": {
    "slideshow": {
     "slide_type": "slide"
    }
   },
   "source": [
    "### Dictionaries as Key-Value Collections"
   ]
  },
  {
   "cell_type": "code",
   "execution_count": null,
   "metadata": {
    "slideshow": {
     "slide_type": "fragment"
    }
   },
   "outputs": [],
   "source": [
    "# Create a dictionary\n",
    "dictionary = {'key_1' : 'value_1', 'key_2' : 'value_2'}"
   ]
  },
  {
   "cell_type": "code",
   "execution_count": null,
   "metadata": {
    "slideshow": {
     "slide_type": "fragment"
    }
   },
   "outputs": [],
   "source": [
    "# Check the contents of the dictionary\n",
    "print(dictionary)"
   ]
  },
  {
   "cell_type": "code",
   "execution_count": null,
   "metadata": {
    "slideshow": {
     "slide_type": "fragment"
    }
   },
   "outputs": [],
   "source": [
    "# Check the type of the dictionary\n",
    "type(dictionary)"
   ]
  },
  {
   "cell_type": "code",
   "execution_count": null,
   "metadata": {
    "slideshow": {
     "slide_type": "fragment"
    }
   },
   "outputs": [],
   "source": [
    "# Dictionaries also have a length\n",
    "# length refers to how many pairs there are\n",
    "len(dictionary)"
   ]
  },
  {
   "cell_type": "markdown",
   "metadata": {
    "collapsed": true,
    "slideshow": {
     "slide_type": "slide"
    }
   },
   "source": [
    "### Dictionaries: Indexing & Looping"
   ]
  },
  {
   "cell_type": "code",
   "execution_count": null,
   "metadata": {
    "slideshow": {
     "slide_type": "fragment"
    }
   },
   "outputs": [],
   "source": [
    "# Dictionaries are indexed using their keys\n",
    "dictionary['key_1']"
   ]
  },
  {
   "cell_type": "code",
   "execution_count": null,
   "metadata": {
    "scrolled": false,
    "slideshow": {
     "slide_type": "fragment"
    }
   },
   "outputs": [],
   "source": [
    "# Loop over a dictionary loops across the keys\n",
    "#   Inside the loop, you can use the key to access the associated value\n",
    "for item in dictionary:\n",
    "    print('Loop Iteration')\n",
    "    print('\\tKey:\\t', item)\n",
    "    print('\\tValue:\\t', dictionary[item])"
   ]
  },
  {
   "cell_type": "code",
   "execution_count": null,
   "metadata": {
    "scrolled": false,
    "slideshow": {
     "slide_type": "fragment"
    }
   },
   "outputs": [],
   "source": [
    "# another approach that you will find if you Google\n",
    "for key, val in dictionary.items():\n",
    "    print('Loop Iteration')\n",
    "    print('\\tKey:\\t', key)\n",
    "    print('\\tValue:\\t', val)"
   ]
  },
  {
   "cell_type": "markdown",
   "metadata": {
    "slideshow": {
     "slide_type": "slide"
    }
   },
   "source": [
    "#### Poll Question #1\n",
    "\n",
    "Which of the following would create a dictionary of length 3?\n",
    "\n",
    "- A) `{'Student_1' : 97, 'Student_2'}`\n",
    "- B) `{'Student_1', 'Student_2', 'Student_3'}`\n",
    "- C) `['Student_1' : 97, 'Student_2': 88, 'Student_3' : 91]`\n",
    "- D) `{'Student_1' : 97, 'Student_2': 88, 'Student_3' : 91}`\n",
    "- E) `('Student_1' : 97, 'Student_2': 88, 'Student_3' : 91)`\n"
   ]
  },
  {
   "cell_type": "markdown",
   "metadata": {
    "slideshow": {
     "slide_type": "slide"
    }
   },
   "source": [
    "#### Poll Question #2\n",
    "\n",
    "Fill in the '---' in the code below to return the value stored in the second key."
   ]
  },
  {
   "cell_type": "code",
   "execution_count": null,
   "metadata": {
    "slideshow": {
     "slide_type": "fragment"
    }
   },
   "outputs": [],
   "source": [
    "height_dict = {'height_1' : 60, 'height_2': 68, 'height_3' : 65, 'height_4' : 72}\n",
    "height_dict[---]"
   ]
  },
  {
   "cell_type": "markdown",
   "metadata": {
    "slideshow": {
     "slide_type": "fragment"
    }
   },
   "source": [
    "- A) I did it\n",
    "- B) I think I did it...\n",
    "- C) I tried and am stuck\n",
    "- D) No clue where to start..."
   ]
  },
  {
   "cell_type": "markdown",
   "metadata": {
    "slideshow": {
     "slide_type": "slide"
    }
   },
   "source": [
    "### Example Dictionaries"
   ]
  },
  {
   "cell_type": "code",
   "execution_count": null,
   "metadata": {
    "slideshow": {
     "slide_type": "fragment"
    }
   },
   "outputs": [],
   "source": [
    "student_emails = {\n",
    "    'Betty Jennings' : 'bjennings@eniac.org',\n",
    "    'Ada Lovelace' : 'ada@analyticengine.com',\n",
    "    'Alan Turing' : 'aturing@thebomb.gov',\n",
    "    'Grace Hopper' : 'ghopper@navy.usa'\n",
    "}\n",
    "\n",
    "student_emails"
   ]
  },
  {
   "cell_type": "code",
   "execution_count": null,
   "metadata": {
    "slideshow": {
     "slide_type": "fragment"
    }
   },
   "outputs": [],
   "source": [
    "completed_coding_lab = {\n",
    "    'A1234' : True,\n",
    "    'A5678' : False,\n",
    "    'A9123' : True\n",
    "}\n",
    "\n",
    "completed_coding_lab"
   ]
  },
  {
   "cell_type": "code",
   "execution_count": null,
   "metadata": {
    "slideshow": {
     "slide_type": "fragment"
    }
   },
   "outputs": [],
   "source": [
    "mixed_types = {\n",
    "    True  : [1, 2, 3],  \n",
    "    False : None\n",
    "}\n",
    "\n",
    "mixed_types"
   ]
  },
  {
   "cell_type": "markdown",
   "metadata": {
    "slideshow": {
     "slide_type": "slide"
    }
   },
   "source": [
    "#### Poll Question #3\n",
    "\n",
    "Write the code that would create a dictionary `car` that stores values about your dream car's `make`, `model`, and `year`.\n",
    "\n",
    "- A) I did it\n",
    "- B) I think I did it...\n",
    "- C) I tried and am stuck\n",
    "- D) No clue where to start..."
   ]
  },
  {
   "cell_type": "code",
   "execution_count": 1,
   "metadata": {
    "slideshow": {
     "slide_type": "fragment"
    }
   },
   "outputs": [],
   "source": [
    "# YOUR CODE HERE"
   ]
  },
  {
   "cell_type": "markdown",
   "metadata": {
    "slideshow": {
     "slide_type": "slide"
    }
   },
   "source": [
    "### Dictionaries are mutable\n",
    "\n",
    "This means that dictionaries, once created, values *can* be updated."
   ]
  },
  {
   "cell_type": "code",
   "execution_count": null,
   "metadata": {
    "slideshow": {
     "slide_type": "fragment"
    }
   },
   "outputs": [],
   "source": [
    "# remember what dictionary we created above\n",
    "completed_coding_lab"
   ]
  },
  {
   "cell_type": "code",
   "execution_count": null,
   "metadata": {
    "slideshow": {
     "slide_type": "fragment"
    }
   },
   "outputs": [],
   "source": [
    "# change value of specified key\n",
    "completed_coding_lab['A5678'] = True\n",
    "completed_coding_lab"
   ]
  },
  {
   "cell_type": "markdown",
   "metadata": {
    "slideshow": {
     "slide_type": "fragment"
    }
   },
   "source": [
    "Because dictionaries are mutable, key-value pairs can also be removed from the dictionary using `del`."
   ]
  },
  {
   "cell_type": "code",
   "execution_count": null,
   "metadata": {},
   "outputs": [],
   "source": [
    "print(completed_coding_lab)\n",
    "len(completed_coding_lab)"
   ]
  },
  {
   "cell_type": "code",
   "execution_count": null,
   "metadata": {},
   "outputs": [],
   "source": [
    "## remove key-value pair using del\n",
    "del completed_coding_lab['A5678']\n",
    "\n",
    "print(completed_coding_lab)\n",
    "len(completed_coding_lab)"
   ]
  },
  {
   "cell_type": "markdown",
   "metadata": {
    "slideshow": {
     "slide_type": "fragment"
    }
   },
   "source": [
    "### Dictionaries and operators\n",
    "\n",
    "The operators we've discussed previously can be used when working with dictionaries.\n",
    "\n",
    "To determine if a specified key is present in a dictionary we can use the `in` operator:"
   ]
  },
  {
   "cell_type": "code",
   "execution_count": null,
   "metadata": {
    "scrolled": true,
    "slideshow": {
     "slide_type": "fragment"
    }
   },
   "outputs": [],
   "source": [
    "if 'A1234' in completed_coding_lab:\n",
    "    print('Yes, that student is in this class')"
   ]
  },
  {
   "cell_type": "markdown",
   "metadata": {
    "slideshow": {
     "slide_type": "slide"
    }
   },
   "source": [
    "### Additional Dictionary Properties\n",
    "\n",
    "- Only one value per key. No duplicate keys allowed. \n",
    "    - If duplicate keys specified during assignment, the last assignment wins."
   ]
  },
  {
   "cell_type": "code",
   "execution_count": null,
   "metadata": {
    "slideshow": {
     "slide_type": "fragment"
    }
   },
   "outputs": [],
   "source": [
    "# Last duplicate key assigned wins\n",
    "{'Student' : 97, 'Student': 88, 'Student' : 91}"
   ]
  },
  {
   "cell_type": "markdown",
   "metadata": {
    "slideshow": {
     "slide_type": "fragment"
    }
   },
   "source": [
    "- **keys** must be of an immutable type (string, tuple, integer, float, etc)\n",
    "- Note: **values** can be of any type"
   ]
  },
  {
   "cell_type": "code",
   "execution_count": null,
   "metadata": {
    "scrolled": true,
    "slideshow": {
     "slide_type": "fragment"
    }
   },
   "outputs": [],
   "source": [
    "# lists are not allowed as key types\n",
    "# this code will produce an error\n",
    "{['Student'] : 97}"
   ]
  },
  {
   "cell_type": "markdown",
   "metadata": {
    "slideshow": {
     "slide_type": "fragment"
    }
   },
   "source": [
    "- Dictionary keys are case sensitive.\n"
   ]
  },
  {
   "cell_type": "code",
   "execution_count": null,
   "metadata": {
    "slideshow": {
     "slide_type": "fragment"
    }
   },
   "outputs": [],
   "source": [
    "{'Student' : 97, 'student': 88, 'STUDENT' : 91}"
   ]
  },
  {
   "cell_type": "markdown",
   "metadata": {
    "slideshow": {
     "slide_type": "slide"
    }
   },
   "source": [
    "#### Poll Question #4\n",
    "\n",
    "Why does the following code produce an error?"
   ]
  },
  {
   "cell_type": "code",
   "execution_count": null,
   "metadata": {
    "slideshow": {
     "slide_type": "fragment"
    }
   },
   "outputs": [],
   "source": [
    "student_emails = {\n",
    "    'Betty Jennings' : 'bjennings@eniac.org',\n",
    "    'Ada Lovelace' : ['ada@analyticengine.com'],\n",
    "    'Ada Lovelace' : 'aturing@thebomb.gov',\n",
    "    ['Grace Hopper'] : 'ghopper@navy.usa'\n",
    "}"
   ]
  },
  {
   "cell_type": "markdown",
   "metadata": {
    "slideshow": {
     "slide_type": "fragment"
    }
   },
   "source": [
    "- A) duplicate keys\n",
    "- B) mutable key specified\n",
    "- C) keys are case sensitive \n",
    "- D) mutable value specified \n",
    "- E) ¯\\\\\\_(ツ)\\_/¯"
   ]
  },
  {
   "cell_type": "markdown",
   "metadata": {
    "slideshow": {
     "slide_type": "slide"
    }
   },
   "source": [
    "## Character Encodings with Dictionaries"
   ]
  },
  {
   "cell_type": "code",
   "execution_count": null,
   "metadata": {
    "slideshow": {
     "slide_type": "fragment"
    }
   },
   "outputs": [],
   "source": [
    "# Define some character encodings\n",
    "character_encodings = {\n",
    "    0 : 'ñ',\n",
    "    1 : 'é',\n",
    "}"
   ]
  },
  {
   "cell_type": "code",
   "execution_count": null,
   "metadata": {
    "slideshow": {
     "slide_type": "fragment"
    }
   },
   "outputs": [],
   "source": [
    "# Use character encodings to use symbols we want - example 1\n",
    "my_sentence = 'no hablo espa' + character_encodings[0] + 'ol'\n",
    "print(my_sentence)"
   ]
  },
  {
   "cell_type": "code",
   "execution_count": null,
   "metadata": {
    "slideshow": {
     "slide_type": "fragment"
    }
   },
   "outputs": [],
   "source": [
    "# Use character encodings to use symbols we want - example 2\n",
    "my_sentence = 'yo hablo ingl' + character_encodings[1] + 's'\n",
    "print(my_sentence)"
   ]
  },
  {
   "cell_type": "markdown",
   "metadata": {
    "slideshow": {
     "slide_type": "slide"
    }
   },
   "source": [
    "## Unicode"
   ]
  },
  {
   "cell_type": "markdown",
   "metadata": {
    "slideshow": {
     "slide_type": "fragment"
    }
   },
   "source": [
    "<div class=\"alert alert-success\">\n",
    "Unicode is a system of systematically and consistently representing characters. \n",
    "</div>"
   ]
  },
  {
   "cell_type": "markdown",
   "metadata": {
    "collapsed": true,
    "slideshow": {
     "slide_type": "fragment"
    }
   },
   "source": [
    "Every character has a unicode `code point` - an integer that can be used to represent that character. \n",
    "\n",
    "If a computer is using unicode, it displays a requested character by following the unicode encodings of which `code point` refers to which character. "
   ]
  },
  {
   "cell_type": "markdown",
   "metadata": {
    "slideshow": {
     "slide_type": "slide"
    }
   },
   "source": [
    "### ORD & CHR"
   ]
  },
  {
   "cell_type": "markdown",
   "metadata": {
    "slideshow": {
     "slide_type": "fragment"
    }
   },
   "source": [
    "<div class=\"alert alert-success\">\n",
    "<code>ord</code> returns the unicode code point for a one-character string.\n",
    "</div>\n",
    "\n",
    "<div class=\"alert alert-success\"> \n",
    "<code>chr</code> returns the character encoding of a code point. \n",
    "</div>"
   ]
  },
  {
   "cell_type": "markdown",
   "metadata": {
    "slideshow": {
     "slide_type": "slide"
    }
   },
   "source": [
    "### ord & chr examples"
   ]
  },
  {
   "cell_type": "code",
   "execution_count": null,
   "metadata": {
    "slideshow": {
     "slide_type": "fragment"
    }
   },
   "outputs": [],
   "source": [
    "print(ord('a'))"
   ]
  },
  {
   "cell_type": "code",
   "execution_count": null,
   "metadata": {
    "slideshow": {
     "slide_type": "fragment"
    }
   },
   "outputs": [],
   "source": [
    "print(chr(97))"
   ]
  },
  {
   "cell_type": "markdown",
   "metadata": {
    "slideshow": {
     "slide_type": "slide"
    }
   },
   "source": [
    "### Inverses\n",
    "\n",
    "`ord` and `chr` are inverses of one another. "
   ]
  },
  {
   "cell_type": "code",
   "execution_count": null,
   "metadata": {
    "slideshow": {
     "slide_type": "fragment"
    }
   },
   "outputs": [],
   "source": [
    "inp = 'b'\n",
    "out = chr(ord(inp))\n",
    "\n",
    "assert inp == out\n",
    "print('Input: \\t', inp, '\\nOutput: ', out)"
   ]
  }
 ],
 "metadata": {
  "celltoolbar": "Slideshow",
  "kernelspec": {
   "display_name": "Python 3",
   "language": "python",
   "name": "python3"
  },
  "language_info": {
   "codemirror_mode": {
    "name": "ipython",
    "version": 3
   },
   "file_extension": ".py",
   "mimetype": "text/x-python",
   "name": "python",
   "nbconvert_exporter": "python",
   "pygments_lexer": "ipython3",
   "version": "3.8.5"
  },
  "rise": {
   "scroll": true
  }
 },
 "nbformat": 4,
 "nbformat_minor": 2
}
